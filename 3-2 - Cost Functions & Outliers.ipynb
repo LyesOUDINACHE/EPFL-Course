{
 "cells": [
  {
   "cell_type": "markdown",
   "id": "waiting-wheel",
   "metadata": {},
   "source": [
    "# Issues with outliers\n",
    "\n",
    "In the last subject, we fitted polynomials to different data sets using the polyfit() function, and we saw that it's minimizing the residual sum of squares (RSS) measure. In this unit, we will see that this process is sensitive to extreme points called outliers due to the nature of the RSS measure. At the end of this unit, you should have the necessary tools to detect and remove outliers using Numpy functions.\n",
    "\n",
    "This time, we will work with a modified version of the marketing campaign data set in which we added five outliers."
   ]
  },
  {
   "cell_type": "code",
   "execution_count": 1,
   "id": "smooth-flavor",
   "metadata": {},
   "outputs": [
    {
     "data": {
      "text/plain": [
       "(55, 4)"
      ]
     },
     "execution_count": 1,
     "metadata": {},
     "output_type": "execute_result"
    }
   ],
   "source": [
    "import pandas as pd\n",
    "\n",
    "data_df = pd.read_csv('marketing-outliers.csv')\n",
    "data_df.shape\n"
   ]
  },
  {
   "cell_type": "code",
   "execution_count": 2,
   "id": "identical-vector",
   "metadata": {},
   "outputs": [
    {
     "data": {
      "text/html": [
       "<div>\n",
       "<style scoped>\n",
       "    .dataframe tbody tr th:only-of-type {\n",
       "        vertical-align: middle;\n",
       "    }\n",
       "\n",
       "    .dataframe tbody tr th {\n",
       "        vertical-align: top;\n",
       "    }\n",
       "\n",
       "    .dataframe thead th {\n",
       "        text-align: right;\n",
       "    }\n",
       "</style>\n",
       "<table border=\"1\" class=\"dataframe\">\n",
       "  <thead>\n",
       "    <tr style=\"text-align: right;\">\n",
       "      <th></th>\n",
       "      <th>tv</th>\n",
       "      <th>web</th>\n",
       "      <th>radio</th>\n",
       "      <th>sales</th>\n",
       "    </tr>\n",
       "  </thead>\n",
       "  <tbody>\n",
       "    <tr>\n",
       "      <th>50</th>\n",
       "      <td>2.293</td>\n",
       "      <td>2.314</td>\n",
       "      <td>1.167</td>\n",
       "      <td>8.937</td>\n",
       "    </tr>\n",
       "    <tr>\n",
       "      <th>51</th>\n",
       "      <td>2.891</td>\n",
       "      <td>1.895</td>\n",
       "      <td>1.365</td>\n",
       "      <td>8.132</td>\n",
       "    </tr>\n",
       "    <tr>\n",
       "      <th>52</th>\n",
       "      <td>1.305</td>\n",
       "      <td>1.940</td>\n",
       "      <td>1.454</td>\n",
       "      <td>8.892</td>\n",
       "    </tr>\n",
       "    <tr>\n",
       "      <th>53</th>\n",
       "      <td>11.022</td>\n",
       "      <td>1.855</td>\n",
       "      <td>1.282</td>\n",
       "      <td>1.389</td>\n",
       "    </tr>\n",
       "    <tr>\n",
       "      <th>54</th>\n",
       "      <td>11.786</td>\n",
       "      <td>2.066</td>\n",
       "      <td>1.466</td>\n",
       "      <td>1.623</td>\n",
       "    </tr>\n",
       "  </tbody>\n",
       "</table>\n",
       "</div>"
      ],
      "text/plain": [
       "        tv    web  radio  sales\n",
       "50   2.293  2.314  1.167  8.937\n",
       "51   2.891  1.895  1.365  8.132\n",
       "52   1.305  1.940  1.454  8.892\n",
       "53  11.022  1.855  1.282  1.389\n",
       "54  11.786  2.066  1.466  1.623"
      ]
     },
     "execution_count": 2,
     "metadata": {},
     "output_type": "execute_result"
    }
   ],
   "source": [
    "# Last five data points\n",
    "data_df.tail()"
   ]
  },
  {
   "cell_type": "code",
   "execution_count": 3,
   "id": "beautiful-recording",
   "metadata": {},
   "outputs": [
    {
     "data": {
      "image/png": "[encoded data removed]",
      "text/plain": [
       "<Figure size 432x288 with 1 Axes>"
      ]
     },
     "metadata": {
      "needs_background": "light"
     },
     "output_type": "display_data"
    }
   ],
   "source": [
    "%matplotlib inline\n",
    "import matplotlib.pyplot as plt\n",
    "\n",
    "# Extract tv and sales\n",
    "x = data_df['tv'].values\n",
    "y = data_df['sales'].values\n",
    "\n",
    "# Plot the data points\n",
    "plt.scatter(x[:-5], y[:-5], label='normal')\n",
    "plt.scatter(x[-5:], y[-5:], c='C3', label='spurious')\n",
    "plt.legend()\n",
    "plt.show()"
   ]
  },
  {
   "cell_type": "markdown",
   "id": "original-victorian",
   "metadata": {},
   "source": [
    "Note that these outliers are not necessarily incorrect values. The difference could be due to a phenomenon that does not appear in our data, i.e., **unobserved variables.**\n",
    "\n",
    "The problem with **outliers is that a few of them can have a significant effect on the final model.** To illustrate this issue, let's compare the coefficients of a linear regression on the entire data set with those from a linear regression fitted without the five outliers."
   ]
  },
  {
   "cell_type": "code",
   "execution_count": 4,
   "id": "unable-liechtenstein",
   "metadata": {},
   "outputs": [
    {
     "name": "stdout",
     "output_type": "stream",
     "text": [
      "coefs: [0.20613307 2.76540858]\n",
      "coefs without outliers: [0.42063597 1.27867727]\n"
     ]
    }
   ],
   "source": [
    "import numpy as np\n",
    "\n",
    "# Fit a linear regression\n",
    "coefs = np.polyfit(x, y, deg=1)\n",
    "print('coefs:', coefs) \n",
    "\n",
    "# Fit a linear regression without the 5 outliers\n",
    "coefs_wo = np.polyfit(x[:-5], y[:-5], deg=1)\n",
    "print('coefs without outliers:', coefs_wo)"
   ]
  },
  {
   "cell_type": "code",
   "execution_count": 5,
   "id": "documentary-mount",
   "metadata": {},
   "outputs": [
    {
     "data": {
      "image/png": "[encoded data removed]",
      "text/plain": [
       "<Figure size 432x288 with 1 Axes>"
      ]
     },
     "metadata": {
      "needs_background": "light"
     },
     "output_type": "display_data"
    }
   ],
   "source": [
    "# Compute prediction line\n",
    "x_values = np.linspace(min(x), max(x), num=100)\n",
    "y_values = np.polyval(coefs, x_values)\n",
    "y_values_wo = np.polyval(coefs_wo, x_values)\n",
    "\n",
    "# Plot them\n",
    "plt.scatter(x[:-5], y[:-5])\n",
    "plt.scatter(x[-5:], y[-5:], c='C3')\n",
    "plt.plot(x_values, y_values, c='C3', label='lr with outliers')\n",
    "plt.plot(x_values, y_values_wo, c='C2', label='lr without outliers')\n",
    "plt.xlabel('tv budget in 1000$')\n",
    "plt.ylabel('sales in thousands')\n",
    "plt.legend()\n",
    "plt.show()"
   ]
  },
  {
   "cell_type": "code",
   "execution_count": 6,
   "id": "pleased-draft",
   "metadata": {},
   "outputs": [
    {
     "name": "stdout",
     "output_type": "stream",
     "text": [
      "RSS normal points: 39.533764623373486\n",
      "RSS outliers: 115.61761647921125\n",
      "RSS all points: 155.15138110258476\n"
     ]
    }
   ],
   "source": [
    "# Compute predictions for all data points\n",
    "y_pred = np.polyval(coefs, x)\n",
    "\n",
    "# Compute the squares of residuals\n",
    "squares_residuals = np.square(y - y_pred)\n",
    "\n",
    "print('RSS normal points:', np.sum(squares_residuals[:-5])) \n",
    "print('RSS outliers:', np.sum(squares_residuals[-5:])) \n",
    "print('RSS all points:', np.sum(squares_residuals))"
   ]
  },
  {
   "cell_type": "markdown",
   "id": "theoretical-bosnia",
   "metadata": {},
   "source": [
    "### Remove outliers by hand\n",
    "\n",
    "In our example, we know that the issue comes from the tv and sales variables, and we can easily separate the outliers from the rest of the data points by defining two regions.\n",
    "\n",
    "- Data points with an x value below 4 and a y value above 6. This corresponds to the upper left corner of the plot.\n",
    "- Data points with an x value above 10 and a y value below 2. This corresponds to the lower right corner."
   ]
  },
  {
   "cell_type": "code",
   "execution_count": 7,
   "id": "chief-actor",
   "metadata": {},
   "outputs": [],
   "source": [
    "# Select outliers\n",
    "idx = (((x < 4) & (y > 6)) | ((x > 10) & (y < 2)))"
   ]
  },
  {
   "cell_type": "markdown",
   "id": "balanced-aquarium",
   "metadata": {},
   "source": [
    "**Note that we need to write the parentheses in this expression due to the operator precedence mechanism in Python.** In short, operators in an expression are evaluated with a specific order. For instance, the & operator has a higher precedence than the < and > ones. Hence, this operator is evaluated before the two others and we get an error if we remove the parentheses."
   ]
  },
  {
   "cell_type": "code",
   "execution_count": 8,
   "id": "personalized-disco",
   "metadata": {},
   "outputs": [
    {
     "data": {
      "text/plain": [
       "array([False, False, False, False, False, False, False, False, False,\n",
       "       False, False, False, False, False, False, False, False, False,\n",
       "       False, False, False, False, False, False, False, False, False,\n",
       "       False, False, False, False, False, False, False, False, False,\n",
       "       False, False, False, False, False, False, False, False, False,\n",
       "       False, False, False, False, False,  True,  True,  True,  True,\n",
       "        True])"
      ]
     },
     "execution_count": 8,
     "metadata": {},
     "output_type": "execute_result"
    }
   ],
   "source": [
    "np.logical_or(np.logical_and(x < 4, y > 6),\n",
    "              np.logical_and(x > 10, y < 2))"
   ]
  },
  {
   "cell_type": "code",
   "execution_count": 9,
   "id": "capital-airplane",
   "metadata": {},
   "outputs": [
    {
     "name": "stdout",
     "output_type": "stream",
     "text": [
      "x1/y1: (50,) (50,)\n",
      "x2/y2: (5,) (5,)\n"
     ]
    }
   ],
   "source": [
    "# Extract \"normal\" points\n",
    "x1, y1 = x[~idx], y[~idx]\n",
    "print('x1/y1:', x1.shape, y1.shape)\n",
    "\n",
    "# Extract outliers\n",
    "x2, y2 = x[idx], y[idx]\n",
    "print('x2/y2:', x2.shape, y2.shape)"
   ]
  },
  {
   "cell_type": "markdown",
   "id": "broad-mustang",
   "metadata": {},
   "source": [
    "**In this code, we use the bitwise complement ~ operator to invert the boolean values and select the \"normal\" points.**"
   ]
  },
  {
   "cell_type": "markdown",
   "id": "killing-fairy",
   "metadata": {},
   "source": [
    "In our example, we can identify and filter the outliers manually. However, this might be more complex in other cases. Also, defining these two regions is somehow arbitrary and we might want to have a more standard definition of what an outlier is. We are now going to see the standard score or z-score measure which quantifies how extreme a value is."
   ]
  },
  {
   "cell_type": "markdown",
   "id": "legislative-composer",
   "metadata": {},
   "source": [
    "### Standard scores\n",
    "\n",
    "Intuitively, an outlier is a value far from the other ones. The standard score formalizes this idea using two statistics: the mean \n",
    "μ\n",
    " and the standard deviation \n",
    "σ\n",
    ".\n",
    "\n",
    "Given a value \n",
    "x\n",
    ", it measures how far it is from the center with \n",
    "(\n",
    "x\n",
    "−\n",
    "μ\n",
    ")\n",
    ". Note that this quantity depends on the dispersion of the data. For instance, values that have a large spread will be further away from the mean than values with a smaller spread. For this reason, the z-score standardizes this distance by the standard deviation \n",
    "σ\n",
    " which quantifies the dispersion of the values."
   ]
  },
  {
   "cell_type": "code",
   "execution_count": 10,
   "id": "capital-departure",
   "metadata": {},
   "outputs": [
    {
     "name": "stdout",
     "output_type": "stream",
     "text": [
      "z-scores: (55,)\n"
     ]
    }
   ],
   "source": [
    "# Compute z-scores\n",
    "z_scores = (y - y.mean()) / y.std()\n",
    "\n",
    "print('z-scores:', z_scores.shape) "
   ]
  },
  {
   "cell_type": "code",
   "execution_count": 11,
   "id": "cosmetic-matrix",
   "metadata": {},
   "outputs": [
    {
     "data": {
      "image/png": "[encoded data removed]",
      "text/plain": [
       "<Figure size 432x288 with 2 Axes>"
      ]
     },
     "metadata": {
      "needs_background": "light"
     },
     "output_type": "display_data"
    }
   ],
   "source": [
    "# Plot z-scores\n",
    "plt.scatter(x, y, c=z_scores, cmap='coolwarm', vmin = -3, vmax = 3)\n",
    "plt.xlabel('tv budget in 1000$')\n",
    "plt.ylabel('sales in thousands')\n",
    "plt.colorbar()\n",
    "plt.show()"
   ]
  },
  {
   "cell_type": "code",
   "execution_count": 12,
   "id": "joined-powder",
   "metadata": {},
   "outputs": [
    {
     "data": {
      "image/png": "[encoded data removed]",
      "text/plain": [
       "<Figure size 432x288 with 2 Axes>"
      ]
     },
     "metadata": {},
     "output_type": "display_data"
    }
   ],
   "source": [
    "import seaborn as sns\n",
    "import matplotlib.colors as colors\n",
    "\n",
    "# Activate Seaborn style\n",
    "sns.set()\n",
    "\n",
    "\n",
    "# Plot z-scores\n",
    "plt.scatter(x, y, c=z_scores, cmap=plt.cm.coolwarm,  norm=colors.Normalize(vmin=-3, vmax=3))\n",
    "plt.colorbar()\n",
    "plt.show()"
   ]
  },
  {
   "cell_type": "markdown",
   "id": "generic-landing",
   "metadata": {},
   "source": [
    "We can now set the threshold on these scores. **We usually take the normal distribution as a point of reference to define this threshold.** For a variable that follows a normal distribution, this image shows the cumulative percentage which is the probability of being below a certain threshold.\n",
    "\n"
   ]
  },
  {
   "cell_type": "code",
   "execution_count": 13,
   "id": "congressional-indicator",
   "metadata": {},
   "outputs": [
    {
     "data": {
      "text/plain": [
       "array([False, False, False, False, False, False, False, False, False,\n",
       "       False, False, False, False, False, False, False, False, False,\n",
       "       False, False, False, False, False, False, False, False, False,\n",
       "       False, False, False, False, False, False, False, False, False,\n",
       "       False, False, False, False, False, False, False, False, False,\n",
       "       False, False, False, False, False,  True,  True,  True, False,\n",
       "       False])"
      ]
     },
     "execution_count": 13,
     "metadata": {},
     "output_type": "execute_result"
    }
   ],
   "source": [
    "# Select outliers\n",
    "idx = (np.abs(z_scores) > 2)\n",
    "idx"
   ]
  },
  {
   "cell_type": "markdown",
   "id": "representative-charlotte",
   "metadata": {},
   "source": [
    "**This time, we only detected the three outliers in the top left corner of the image. Here is the idx mask.**\n",
    "\n",
    "If we remove the outliers using the idx mask and fit a linear regression, we can see that the linear regression is very close to the one obtained by manually removing all the outliers."
   ]
  },
  {
   "cell_type": "code",
   "execution_count": 14,
   "id": "positive-enough",
   "metadata": {},
   "outputs": [
    {
     "data": {
      "image/png": "[encoded data removed]",
      "text/plain": [
       "<Figure size 432x288 with 1 Axes>"
      ]
     },
     "metadata": {},
     "output_type": "display_data"
    }
   ],
   "source": [
    "# Fit linear regression\n",
    "coefs_z = np.polyfit(x[~idx], y[~idx], deg=1)\n",
    "\n",
    "# Prediction line\n",
    "y_values_zscore = np.polyval(coefs_z, x_values)\n",
    "\n",
    "# Final comparison\n",
    "plt.scatter(x[~idx], y[~idx])\n",
    "plt.scatter(x[idx], y[idx], c='C3')\n",
    "plt.plot(x_values, y_values_wo, c='C2', label='manual threshold')\n",
    "plt.plot(x_values, y_values_zscore, c='C3', label='lr without outliers')\n",
    "plt.xlabel('tv budget in 1000$')\n",
    "plt.ylabel('sales in thousands')\n",
    "plt.legend()\n",
    "plt.show()"
   ]
  },
  {
   "cell_type": "markdown",
   "id": "mighty-chance",
   "metadata": {},
   "source": [
    "### Summary\n",
    "Let's summarize what we've learned in this unit. Here are a few takeaways.\n",
    "\n",
    "When minimizing the squared residuals (RSS), we need to be careful about outliers because the RSS measure amplifies their effect on our models\n",
    "\n",
    "1) If possible, we should try to remove these outliers by hand\n",
    "\n",
    "2) However, this is not always possible, and the process is somehow arbitrary. One solution is to set a threshold on the standard scores\n",
    "\n",
    "3) In the next units, we will see two alternatives to the RSS measure that work better with outliers: the **mean absolute error (MAE) and Huber loss.**"
   ]
  },
  {
   "cell_type": "markdown",
   "id": "existing-milton",
   "metadata": {},
   "source": [
    "# Mean absolute error\n",
    "\n",
    "the polyfit() function minimizes the residual sum of squares (RSS) measure.These error metrics have many different names. For instance, we call them cost functions, loss functions or objective functions. The idea is that they associate a cost to each prediction \n",
    "^\n",
    "y\n",
    "i\n",
    " that we want to minimize.\n",
    "\n",
    "The RSS metric is part of a class of cost functions that measure the squared errors. This category includes the MSE function that computes the mean of the squared errors and the RMSE function which is the square root of the MSE cost function. **It's important to understand that these measures are equivalent in the sense that we would get the same optimal parameters using the RSS, the MSE or the RMSE cost functions to fit our model. Hence, they have the same issues with outliers.**\n",
    "\n",
    "An **alternative to these cost functions is the mean absolute error (MAE)** metric which measures the absolute values of the residuals."
   ]
  },
  {
   "cell_type": "markdown",
   "id": "assisted-reminder",
   "metadata": {},
   "source": [
    "We can see that both cost functions evaluate to zero when the predicted value is equal to the observed one. Also, they are symmetric and assign the same cost to a negative or a positive error of the same amplitude.\n",
    "\n",
    "One difference is the rate at which they grow. The MSE cost function increases quadratically whereas the MAE one increases linearly. Hence, **the MAE metric works better with outliers since it doesn't overweight them. However, it's difficult to use this function in practice because it is not smooth around zero.** Its slope changes abruptly from -1 to +1 due to the absolute value which makes it harder to find the optimal parameters.\n",
    "\n",
    "In summary, the **RSS-like and the MAE cost functions have both their advantages.** One is robust to outliers while the other is smooth. This is known as the statistical versus computational trade-off."
   ]
  },
  {
   "cell_type": "markdown",
   "id": "equal-apache",
   "metadata": {},
   "source": [
    "### Statistical vs. computational trade-off\n",
    "The MAE function is robust to outliers which is a desired statistical property. However, it's not smooth. To illustrate the issue, we can compare the error surfaces of the MAE and MSE cost functions for an arbitrary data set.\n",
    "\n",
    "Let's start with the error surface of the MAE cost function."
   ]
  },
  {
   "cell_type": "markdown",
   "id": "working-singles",
   "metadata": {},
   "source": [
    "#### See 3-2-2\n",
    "\n",
    "As you can see, **the error surface is a set of planes that intersect each other which makes it difficult for optimization algorithms to find the optimal parameters. For instance, we will see later in this course the gradient descent method that \"walks down\" on this error surface by following the direction of the steepest descent.** In this case, it's difficult for the algorithm to find the optimal solution since it \"jumps\" from one plane to the others.\n",
    "\n",
    "This problem doesn't occur with the MSE cost function.\n",
    "\n",
    "We say that smoothness is a **computational property** because it makes computations easier. Later in this course, we will talk about **convexity** which is another desired computational property because it ensures that optimization algorithms **such as gradient descent don't get stuck in local optimum.**\n",
    "\n",
    "### Summary\n",
    "Let's summarize what we've learned in this unit. Here are a few takeaways.\n",
    "\n",
    "- When fitting a model, we optimize a cost/loss/objective function\n",
    "- The MAE is robust to outliers which is a nice statistical property but is difficult to optimize because it's not smooth.\n",
    "- MAE is easy to interpret. For instance, a score of 3 means that the predictions are, in average, above or below the observed value by a distance of 3.\n",
    "\n",
    "In the next unit, we will learn about the **Huber loss** which combines the two properties from above. Also, we will see how to fit a model using this cost function with **Scikit-learn.**"
   ]
  },
  {
   "cell_type": "markdown",
   "id": "spread-doctor",
   "metadata": {},
   "source": [
    "# Huber loss"
   ]
  },
  {
   "cell_type": "markdown",
   "id": "arbitrary-guard",
   "metadata": {},
   "source": [
    "We will now learn about the Huber loss which is a way to combine the RSS and MAE cost functions. At the end of this unit, you should be able to fit models with this objective function using objects from the Scikit-learn library.\n",
    "\n",
    "**Huber loss is a cost function which is robust to outliers and smooth. In fact, its formula uses both the absolute value and the square function.**\n",
    "\n",
    "In our case, the variable \n",
    "e\n",
    " refers to the residual \n",
    "e\n",
    "=\n",
    "(\n",
    "y\n",
    "−\n",
    "^\n",
    "y\n",
    ")\n",
    " and \n",
    "L\n",
    "(\n",
    "e\n",
    ")\n",
    " is the loss value of a single data point. The formula defines two cases using a threshold \n",
    "δ\n",
    " (delta).\n",
    "\n",
    "When the magnitude of the residual is below \n",
    "δ\n",
    " (small error), the function increases quadratically like the RSS one and then, for larger errors, linearly like the MAE one. The \n",
    "δ\n",
    " value determines when the function becomes linear. Here is a plot of the Huber loss with different threshold values.\n",
    " \n",
    " As we can see, the \n",
    "δ\n",
    " value controls the **robustness to outliers.** For instance, a Huber loss function with \n",
    "δ\n",
    "=\n",
    "0.5\n",
    " is less sensitive to outliers than one with \n",
    "δ\n",
    "=\n",
    "1.5\n",
    ". Also, the function is **smooth** in the sense that its derivative is continuous. The slope of the curve is \n",
    "e\n",
    " below the threshold and \n",
    "±\n",
    "δ\n",
    " above it."
   ]
  },
  {
   "cell_type": "markdown",
   "id": "dangerous-seventh",
   "metadata": {},
   "source": [
    "### Implementation with SGDRegressor\n",
    "In practice, it's a good idea to try to use the Huber loss if there are outliers in the data. Let's test it on our modified marketing campaign data set"
   ]
  },
  {
   "cell_type": "code",
   "execution_count": 15,
   "id": "recovered-wilson",
   "metadata": {},
   "outputs": [],
   "source": [
    "import pandas as pd\n",
    "from sklearn.preprocessing import scale\n",
    "\n",
    "# Load data\n",
    "data_df = pd.read_csv('marketing-outliers.csv')\n",
    "x = scale(data_df['tv'].values)\n",
    "y = data_df['sales'].values"
   ]
  },
  {
   "cell_type": "markdown",
   "id": "informational-assault",
   "metadata": {},
   "source": [
    "Here, we load the TV vs. Sales data and **rescale** the input data with the scale() function. We will come back to this point later, **but in short, some algorithms like the one that we will use in this unit require the data to be preprocessed in this way.**\n",
    "\n",
    "The Numpy polyfit() function doesn't implement Huber loss. Hence, we will now switch to the **Scikit-learn library which provides many machine learning models.** The workflow is a bit different with this library. Instead of calling functions directly, **we create objects that we fit to data sets.**\n",
    "\n",
    "Let's start with the SGDRegressor object. First, we need to import it from the linear_model module from Scikit-learn.\n"
   ]
  },
  {
   "cell_type": "code",
   "execution_count": 16,
   "id": "pleased-immune",
   "metadata": {},
   "outputs": [],
   "source": [
    "from sklearn.linear_model import SGDRegressor"
   ]
  },
  {
   "cell_type": "markdown",
   "id": "discrete-learning",
   "metadata": {},
   "source": [
    "The name of the object comes from the optimization algorithm that it uses to find the optimal parameters. The SGDRegressor object implements the **stochastic gradient descent (SGD)** algorithm which is a very generic algorithm that can minimize a great variety of cost functions. For this reason, the object has many parameters.\n",
    "\n",
    "By default, it minimizes the square of the residuals plus a **penalization term.** This additional term is useful to fight **overfitting,** but we will learn more about it later in this course. As for now, let's remove it by setting penalty='none'. We can then change the loss function to Huber with loss='huber' and set the threshold value \n",
    "δ\n",
    " with the epsilon parameter."
   ]
  },
  {
   "cell_type": "code",
   "execution_count": 17,
   "id": "focal-inquiry",
   "metadata": {},
   "outputs": [],
   "source": [
    "# Create a linear regression with Huber loss\n",
    "lr_huber = SGDRegressor(loss='huber', penalty='none', epsilon=1, max_iter=1000, tol=1e-3)"
   ]
  },
  {
   "cell_type": "markdown",
   "id": "stretch-warehouse",
   "metadata": {},
   "source": [
    "SGD is an **iterative algorithm** that tries to minimize the objective function by taking small steps in the direction of the optimal solution. For this reason, we need to specify when it stops. With the code from above, SGD stops when the loss stops improving (tol parameter) or when it reaches some maximum number of iterations (max_iter one). Regarding the values, we simply use the defaults, recommended ones from Scikit-learn.\n",
    "\n",
    "We can now fit the model to the data with its fit() function."
   ]
  },
  {
   "cell_type": "code",
   "execution_count": 18,
   "id": "arranged-instrumentation",
   "metadata": {},
   "outputs": [],
   "source": [
    "import numpy as np\n",
    "\n",
    "# Fit the model\n",
    "lr_huber.fit(x[:, np.newaxis], y);"
   ]
  },
  {
   "cell_type": "markdown",
   "id": "fifteen-agriculture",
   "metadata": {},
   "source": [
    "**In machine learning, data sets usually have several features. For this reason, Scikit-learn objects expect to get a 2-dimensional array of features**. In our case, the x variable is a vector with shape (55,), but we can convert it to a matrix of shape (55,1) by adding a new axis with the [:, np.newaxis] syntax."
   ]
  },
  {
   "cell_type": "code",
   "execution_count": 19,
   "id": "emotional-qualification",
   "metadata": {},
   "outputs": [
    {
     "name": "stdout",
     "output_type": "stream",
     "text": [
      "Slope: [1.12470995]\n",
      "Intercept term: [3.78637545]\n"
     ]
    }
   ],
   "source": [
    "# Print the slope of the line\n",
    "print('Slope:', lr_huber.coef_)\n",
    "\n",
    "# Print the intercept parameter\n",
    "print('Intercept term:', lr_huber.intercept_)\n"
   ]
  },
  {
   "cell_type": "markdown",
   "id": "compressed-saskatchewan",
   "metadata": {},
   "source": [
    "If you run the fit() instruction from above several times and print the parameters, you should see that they vary slightly between each run. This is due to the **stochastic nature of the SGD algorithm.**\n",
    "We will learn more about the gradient descent algorithm later in this course, but in short, its stochastic version (SGD) **optimizes the loss function by picking a random data point at each iteration.** For this reason, we say that the algorithm is stochastic because the results depend on these random choices.\n",
    "\n",
    "We can now visualize our linear regression by generating a hundred data points between min(x) and max(x) with the Numpy linspace() function. We could use the Numpy polyval() function to compute predictions, but Scikit-learn objects also have a predict() function that uses the values in the coef_ and the intercept_ attributes"
   ]
  },
  {
   "cell_type": "code",
   "execution_count": 20,
   "id": "capable-firmware",
   "metadata": {},
   "outputs": [],
   "source": [
    "# Compute prediction line\n",
    "x_values = np.linspace(min(x), max(x), num=100) # Shape (100,)\n",
    "y_values_huber = lr_huber.predict(\n",
    "    x_values[:, np.newaxis] # Shape (100,1)\n",
    ")\n",
    "# Again, we need to add a dimension to the x_values vector since Scikit-learn works with 2-dimensional arrays of features. Let's plot the prediction line"
   ]
  },
  {
   "cell_type": "code",
   "execution_count": 21,
   "id": "tired-greensboro",
   "metadata": {},
   "outputs": [
    {
     "data": {
      "image/png": "[encoded data removed]",
      "text/plain": [
       "<Figure size 432x288 with 1 Axes>"
      ]
     },
     "metadata": {
      "needs_background": "light"
     },
     "output_type": "display_data"
    }
   ],
   "source": [
    "%matplotlib inline\n",
    "import matplotlib.pyplot as plt\n",
    "\n",
    "# Plot predictions\n",
    "plt.scatter(x, y)\n",
    "plt.plot(x_values, y_values_huber, c='C3', label='huber')\n",
    "plt.xlabel('tv budget - scaled')\n",
    "plt.ylabel('sales in thousands')\n",
    "plt.legend()\n",
    "plt.show()"
   ]
  },
  {
   "cell_type": "markdown",
   "id": "textile-adrian",
   "metadata": {},
   "source": [
    "As we can see, the line fits well the trend in the data points. Now, let's compare this line to the one that we get when minimizing the squares of the residuals, e.g., **as with the polyfit() function. To achieve this, we can simply change the loss parameter to squared_loss**"
   ]
  },
  {
   "cell_type": "code",
   "execution_count": 22,
   "id": "manual-proposal",
   "metadata": {},
   "outputs": [],
   "source": [
    "# Create a linear regression with RSS loss\n",
    "lr_squared = SGDRegressor(loss='squared_loss', penalty='none', max_iter=1000, tol=1e-3)"
   ]
  },
  {
   "cell_type": "code",
   "execution_count": 23,
   "id": "every-channel",
   "metadata": {},
   "outputs": [],
   "source": [
    "# Fit the model\n",
    "lr_squared.fit(x[:, np.newaxis], y)    # polyfit()\n",
    "\n",
    "# Compute prediction line\n",
    "y_values_squared = lr_squared.predict(x_values[:, np.newaxis])"
   ]
  },
  {
   "cell_type": "code",
   "execution_count": 24,
   "id": "global-acrobat",
   "metadata": {},
   "outputs": [
    {
     "data": {
      "image/png": "[encoded data removed]",
      "text/plain": [
       "<Figure size 432x288 with 1 Axes>"
      ]
     },
     "metadata": {
      "needs_background": "light"
     },
     "output_type": "display_data"
    }
   ],
   "source": [
    "# Linear regression without outliers\n",
    "coefs = np.polyfit(\n",
    "    x[:-5], y[:-5], # Filter outliers (the last five values)\n",
    "    deg=1\n",
    ")\n",
    "y_values_optimal = np.polyval(coefs, x_values)\n",
    "\n",
    "# Compare models\n",
    "plt.scatter(x, y)\n",
    "plt.plot(x_values, y_values_huber, c='C3', label='huber regression')\n",
    "plt.plot(x_values, y_values_squared, c='C2', label='squared_loss')\n",
    "plt.plot(x_values, y_values_optimal, c='C0', label='without outliers')\n",
    "plt.xlabel('tv budget - scaled')\n",
    "plt.ylabel('sales in thousands')\n",
    "plt.legend()\n",
    "plt.show()"
   ]
  },
  {
   "cell_type": "markdown",
   "id": "pregnant-small",
   "metadata": {},
   "source": [
    "We can see that the model obtained by minimizing the **Huber loss is very close to the one that we get with the polyfit() function after removing the five outliers.**"
   ]
  },
  {
   "cell_type": "markdown",
   "id": "handled-antenna",
   "metadata": {},
   "source": [
    "### HuberRegressor\n",
    "\n",
    "**Note that the SGDRegressor object is very generic and can fit more cost functions than the Huber and RSS ones. However, Scikit-learn also provides the HuberRegressor object which is dedicated to this loss function.**\n",
    "\n",
    "It works similarly to SGDRegressor. You can fit it to data using the fit() function and compute predictions with the predict() one"
   ]
  },
  {
   "cell_type": "code",
   "execution_count": 25,
   "id": "cellular-competition",
   "metadata": {},
   "outputs": [],
   "source": [
    "from sklearn.linear_model import HuberRegressor\n",
    "\n",
    "# Create a linear regression with Huber loss\n",
    "lr_huber = HuberRegressor(epsilon=1.35)\n",
    "\n",
    "# Fit the model\n",
    "lr_huber.fit(x[:, np.newaxis], y);"
   ]
  },
  {
   "cell_type": "markdown",
   "id": "external-benchmark",
   "metadata": {},
   "source": [
    "Note that there are a few notable differences with the SGDRegressor(loss='huber') object\n",
    "\n",
    "- The threshold \n",
    "δ\n",
    " depends on the scale of the residuals. The HuberRegressor implements a mechanism to make it scale invariant. The default value of epsilon=1.35 should work well in most cases.\n",
    "- They use a different optimization algorithm. The SGDRegressor object uses stochastic gradient descent (SGD) while the HuberRegressor object uses the BFGS one. In short, BFGS should be more efficient when there is a small number of samples and converge in fewer iterations to the optimal solution. The default value for the number of iterations max_iter=100 should be fine in most cases.\n",
    "### Summary\n",
    "Let's summarize what we've learned in this unit. Here are a few takeaways\n",
    "\n",
    "- Ideally, we want to use cost functions that are robust to outliers and easy to optimize\n",
    "- The RSS one is smooth but sensitive to outliers\n",
    "- The MAE one is robust but difficult to optimize\n",
    "- The Huber loss combines both advantages of the RSS and MAE cost functions but adds a new parameter: the threshold \n",
    "δ\n",
    "\n",
    "In practice, if you believe that there are outliers in the data, then it's a good idea to spend some time removing them using the techniques from the previous lessons. **Then, it's easy to test several models and pick the best one. We will learn more about model evaluation later in this subject.**\n",
    "\n",
    "In the next exercise, you will work on a data set with outliers, and you will fit a linear regression with the Huber loss."
   ]
  },
  {
   "cell_type": "markdown",
   "id": "vocal-parameter",
   "metadata": {},
   "source": [
    "# Challenge - Fit polynomial\n",
    "As an optional challenge, let's use our Huber regression object to fit a polynomial of degree three."
   ]
  },
  {
   "cell_type": "code",
   "execution_count": 26,
   "id": "measured-horizontal",
   "metadata": {},
   "outputs": [
    {
     "data": {
      "image/png": "[encoded data removed]",
      "text/plain": [
       "<Figure size 432x288 with 1 Axes>"
      ]
     },
     "metadata": {
      "needs_background": "light"
     },
     "output_type": "display_data"
    }
   ],
   "source": [
    "# Fit a polynomial of degree 3\n",
    "X_poly = np.c_[x, x**2, x**3] # Feature engineering\n",
    "lr_huber.fit(X_poly, y)\n",
    "\n",
    "# Same with polyfit\n",
    "coefs = np.polyfit(x, y, deg=3)\n",
    "\n",
    "# Compute prediction line\n",
    "x_values = np.linspace(min(x), max(x), num=100)\n",
    "y_values_polyfit = np.polyval(coefs, x_values)\n",
    "y_values_huber = lr_huber.predict(\n",
    "    np.c_[x_values, x_values**2, x_values**3])\n",
    "\n",
    "# Plot it\n",
    "plt.scatter(x, y)\n",
    "plt.plot(x_values, y_values_polyfit, c='C2', label='polyfit(deg=3)')\n",
    "plt.plot(x_values, y_values_huber, c='C3', label='huber')\n",
    "plt.xlabel('tv budget - scaled')\n",
    "plt.ylabel('sales in thousands')\n",
    "plt.legend()\n",
    "plt.show()"
   ]
  },
  {
   "cell_type": "markdown",
   "id": "hungarian-community",
   "metadata": {},
   "source": [
    "# Introduction to model evaluation"
   ]
  },
  {
   "cell_type": "markdown",
   "id": "furnished-bernard",
   "metadata": {},
   "source": [
    "In the last units, we learned more about the process of fitting a model. We saw that functions such as the polyfit() one or objects like SGDRegressor or HuberRegression use an optimization algorithm to **find the model parameters that minimize a cost function.**\n",
    "\n",
    "We will now see how to **use these error metrics to compare models.** Also, we will learn about baseline models and see how to implement them using Numpy and Scikit-learn. At the end of this unit, you should know how to compare your models to a meaningful baseline.\n",
    "\n",
    "This time, we will work on a modified version of the bike sharing dataset from the UCI repository which contains predictions from three different models that we want to compare."
   ]
  },
  {
   "cell_type": "code",
   "execution_count": 28,
   "id": "sophisticated-termination",
   "metadata": {},
   "outputs": [
    {
     "data": {
      "text/html": [
       "<div>\n",
       "<style scoped>\n",
       "    .dataframe tbody tr th:only-of-type {\n",
       "        vertical-align: middle;\n",
       "    }\n",
       "\n",
       "    .dataframe tbody tr th {\n",
       "        vertical-align: top;\n",
       "    }\n",
       "\n",
       "    .dataframe thead th {\n",
       "        text-align: right;\n",
       "    }\n",
       "</style>\n",
       "<table border=\"1\" class=\"dataframe\">\n",
       "  <thead>\n",
       "    <tr style=\"text-align: right;\">\n",
       "      <th></th>\n",
       "      <th>temp</th>\n",
       "      <th>users</th>\n",
       "      <th>pred_lr</th>\n",
       "      <th>pred_poly3</th>\n",
       "      <th>pred_huber3</th>\n",
       "    </tr>\n",
       "  </thead>\n",
       "  <tbody>\n",
       "    <tr>\n",
       "      <th>0</th>\n",
       "      <td>0.1508</td>\n",
       "      <td>41</td>\n",
       "      <td>146</td>\n",
       "      <td>44</td>\n",
       "      <td>51</td>\n",
       "    </tr>\n",
       "    <tr>\n",
       "      <th>1</th>\n",
       "      <td>0.1609</td>\n",
       "      <td>54</td>\n",
       "      <td>161</td>\n",
       "      <td>53</td>\n",
       "      <td>52</td>\n",
       "    </tr>\n",
       "    <tr>\n",
       "      <th>2</th>\n",
       "      <td>0.1727</td>\n",
       "      <td>25</td>\n",
       "      <td>178</td>\n",
       "      <td>66</td>\n",
       "      <td>55</td>\n",
       "    </tr>\n",
       "    <tr>\n",
       "      <th>3</th>\n",
       "      <td>0.1775</td>\n",
       "      <td>75</td>\n",
       "      <td>185</td>\n",
       "      <td>72</td>\n",
       "      <td>57</td>\n",
       "    </tr>\n",
       "    <tr>\n",
       "      <th>4</th>\n",
       "      <td>0.1822</td>\n",
       "      <td>74</td>\n",
       "      <td>192</td>\n",
       "      <td>78</td>\n",
       "      <td>60</td>\n",
       "    </tr>\n",
       "  </tbody>\n",
       "</table>\n",
       "</div>"
      ],
      "text/plain": [
       "     temp  users  pred_lr  pred_poly3  pred_huber3\n",
       "0  0.1508     41      146          44           51\n",
       "1  0.1609     54      161          53           52\n",
       "2  0.1727     25      178          66           55\n",
       "3  0.1775     75      185          72           57\n",
       "4  0.1822     74      192          78           60"
      ]
     },
     "execution_count": 28,
     "metadata": {},
     "output_type": "execute_result"
    }
   ],
   "source": [
    "import pandas as pd\n",
    "\n",
    "# Load data\n",
    "data_df = pd.read_csv('three-models.csv')\n",
    "data_df.head()"
   ]
  },
  {
   "cell_type": "markdown",
   "id": "straight-tulsa",
   "metadata": {},
   "source": [
    "We obtained the first two models with the polyfit() function by setting its degree to 1 for the simple linear regression predictions pred_lr and to 3 for pred_poly3. The last predictions **pred_huber3 correspond to a polynomial of degree three fitted using the HuberRegressor and the PolynomialFeatures** objects from Scikit-learn. But we will learn about it later in this course."
   ]
  },
  {
   "cell_type": "markdown",
   "id": "julian-input",
   "metadata": {},
   "source": [
    "It's important to understand that we fitted these models on another set of temperature and users values. In fact, to generate these predictions, we separated the 302 data points from the original data set into two sets of 151 points.\n",
    "\n",
    "- A train set that we used to fit the models\n",
    "- A test set that we used to evaluate the models. In our example, the data_df variable contains the data points and predictions for this set."
   ]
  },
  {
   "cell_type": "code",
   "execution_count": 29,
   "id": "endless-measurement",
   "metadata": {},
   "outputs": [
    {
     "data": {
      "image/png": "[encoded data removed]",
      "text/plain": [
       "<Figure size 432x288 with 1 Axes>"
      ]
     },
     "metadata": {
      "needs_background": "light"
     },
     "output_type": "display_data"
    }
   ],
   "source": [
    "%matplotlib inline\n",
    "import matplotlib.pyplot as plt\n",
    "\n",
    "# Extract variables\n",
    "x = data_df.temp.values\n",
    "y = data_df.users.values\n",
    "\n",
    "# Plot the models\n",
    "plt.scatter(x, y, s=10)\n",
    "plt.plot(x, data_df.pred_lr, c='C0', label='linear regression')\n",
    "plt.plot(x, data_df.pred_poly3, c='C2', label='polyfit(deg=3)')\n",
    "plt.plot(x, data_df.pred_huber3, c='C3', label='with Huber loss')\n",
    "plt.legend()\n",
    "plt.show()"
   ]
  },
  {
   "cell_type": "markdown",
   "id": "spiritual-intro",
   "metadata": {},
   "source": [
    "It's difficult to compare the three models visually. One solution is to use a cost function such as the RSS one. In practice, we prefer to use the root mean squared error (RMSE) since it's independent of the number of data points (i.e., it's an average) and has roughly the same unit as the target variable."
   ]
  },
  {
   "cell_type": "code",
   "execution_count": 30,
   "id": "silent-clothing",
   "metadata": {},
   "outputs": [
    {
     "name": "stdout",
     "output_type": "stream",
     "text": [
      "linear regression: 232.53050786099598\n",
      "polyfit(deg=3): 210.55145192395318\n",
      "with huber loss: 215.66518077491205\n"
     ]
    }
   ],
   "source": [
    "import numpy as np\n",
    "\n",
    "# Root mean squared error\n",
    "def RMSE(y, y_pred):\n",
    "    mse = np.mean(np.square(y - y_pred)) # MSE\n",
    "    return np.sqrt(mse) # RMSE\n",
    "\n",
    "rmse_lr = RMSE(y, data_df.pred_lr)\n",
    "rmse_poly3 = RMSE(y, data_df.pred_poly3)\n",
    "rmse_huber3 = RMSE(y, data_df.pred_huber3)\n",
    "\n",
    "# Print values\n",
    "print('linear regression:', rmse_lr)\n",
    "print('polyfit(deg=3):', rmse_poly3) \n",
    "print('with huber loss:', rmse_huber3) "
   ]
  },
  {
   "cell_type": "markdown",
   "id": "private-omega",
   "metadata": {},
   "source": [
    "According to this measure, the poly3 and the huber3 models have a better performance than the simple linear regression one, and the poly3 one performs slightly better than huber3.\n",
    "\n",
    "Note that we can use any cost function. **For instance, we can compare the three models using the mean absolute error (MAE).**"
   ]
  },
  {
   "cell_type": "code",
   "execution_count": 31,
   "id": "modular-practitioner",
   "metadata": {},
   "outputs": [
    {
     "name": "stdout",
     "output_type": "stream",
     "text": [
      "linear regression: 186.58278145695365\n",
      "polyfit(deg=3): 161.71523178807948\n",
      "with huber loss: 164.75496688741723\n"
     ]
    }
   ],
   "source": [
    "import numpy as np\n",
    "\n",
    "# Mean absolute error\n",
    "def MAE(y, y_pred):\n",
    "    return np.mean(np.abs(y - y_pred))\n",
    "\n",
    "mae_lr = MAE(y, data_df.pred_lr)\n",
    "mae_poly3 = MAE(y, data_df.pred_poly3)\n",
    "mae_huber3 = MAE(y, data_df.pred_huber3)\n",
    "\n",
    "# Print values\n",
    "print('linear regression:', mae_lr) \n",
    "print('polyfit(deg=3):', mae_poly3) \n",
    "print('with huber loss:', mae_huber3)"
   ]
  },
  {
   "cell_type": "markdown",
   "id": "honey-commissioner",
   "metadata": {},
   "source": [
    "**The advantage of MAE is that it has a clear interpretation. For instance, in our example, predictions from the poly3 model are wrong by, in average, 162 users. Note that MAE and RMSE are different cost functions. Hence, they might not agree on what is the best model.**\n",
    "\n",
    "It would be interesting to compare our models against a baseline model that acts as a reference point, .i.e, a model that doesn't depend on the patterns that appear in the data. In our example, the linear regression model doesn't fulfill this role since it performs better when there is a linear relationship in the data.\n",
    "\n",
    "One solution is to use the mean or the median of the target variable. Let's do a small experiment to see when it makes sense to use these two statistics as baselines"
   ]
  },
  {
   "cell_type": "markdown",
   "id": "alpine-plymouth",
   "metadata": {},
   "source": [
    "### Median versus mean"
   ]
  },
  {
   "cell_type": "markdown",
   "id": "super-projection",
   "metadata": {},
   "source": [
    "Which statistic should we use? In fact, both are good summaries of a set of values. They simply minimize different measures. The mean value optimizes the squares of the distances to the other values, whereas the median minimizes the absolute distances.\n",
    "\n",
    "Let's do a little experiment to verify that. We define a set of values and search for its optimal summary. For instance, let's find the best summary of the set [1, 2, 3, 5, 6, 25] according to the MSE function. We can take one hundred values between 0 and 25 and treat them as candidate summaries. Here is the plot of the MSE cost function for these candidates.\n",
    "\n",
    "**To summarize, it makes sense to use the mean as a baseline when we measure the squares of the residuals, e.g., RSS, MSE and RMSE cost functions. On the other hand, we should use the median as the baseline when we measure absolute distances like with the MAE cost function.**"
   ]
  },
  {
   "cell_type": "code",
   "execution_count": 34,
   "id": "everyday-bench",
   "metadata": {},
   "outputs": [
    {
     "data": {
      "text/plain": [
       "371.11459394676217"
      ]
     },
     "execution_count": 34,
     "metadata": {},
     "output_type": "execute_result"
    }
   ],
   "source": [
    "# Compute baseline\n",
    "pred_baseline = np.mean(y)\n",
    "rmse_baseline = RMSE(y, pred_baseline)\n",
    "rmse_baseline"
   ]
  },
  {
   "cell_type": "markdown",
   "id": "ordered-province",
   "metadata": {},
   "source": [
    "*Note: In general, we should never fit a model to the test set, even the baseline - the test data should remain unseen before evaluation. So, ideally, we should compute pred_baseline using the average number of users on the train set. But since bike-sharing-three-models.csv doesn't contain the train data, we simply estimate this average on the test set with np.mean(y) which shouldn't be far from the results obtained on the train set.*\n",
    "\n",
    "Note that pred_baseline is a single value and not an array like y. However, we can use the RMSE() function from above because it computes the residuals with (y-y_pred) which produces an array even if y_pred is a single value due to broadcasting.\n",
    "\n",
    "If you want to produce a vector of predictions, you can create an array with the same shape as y and fill it with the mean value using the Numpy full_like() function."
   ]
  },
  {
   "cell_type": "code",
   "execution_count": 35,
   "id": "behind-rover",
   "metadata": {},
   "outputs": [
    {
     "data": {
      "text/plain": [
       "array([674.7218543, 674.7218543, 674.7218543, 674.7218543, 674.7218543,\n",
       "       674.7218543, 674.7218543, 674.7218543, 674.7218543, 674.7218543,\n",
       "       674.7218543, 674.7218543, 674.7218543, 674.7218543, 674.7218543,\n",
       "       674.7218543, 674.7218543, 674.7218543, 674.7218543, 674.7218543,\n",
       "       674.7218543, 674.7218543, 674.7218543, 674.7218543, 674.7218543,\n",
       "       674.7218543, 674.7218543, 674.7218543, 674.7218543, 674.7218543,\n",
       "       674.7218543, 674.7218543, 674.7218543, 674.7218543, 674.7218543,\n",
       "       674.7218543, 674.7218543, 674.7218543, 674.7218543, 674.7218543,\n",
       "       674.7218543, 674.7218543, 674.7218543, 674.7218543, 674.7218543,\n",
       "       674.7218543, 674.7218543, 674.7218543, 674.7218543, 674.7218543,\n",
       "       674.7218543, 674.7218543, 674.7218543, 674.7218543, 674.7218543,\n",
       "       674.7218543, 674.7218543, 674.7218543, 674.7218543, 674.7218543,\n",
       "       674.7218543, 674.7218543, 674.7218543, 674.7218543, 674.7218543,\n",
       "       674.7218543, 674.7218543, 674.7218543, 674.7218543, 674.7218543,\n",
       "       674.7218543, 674.7218543, 674.7218543, 674.7218543, 674.7218543,\n",
       "       674.7218543, 674.7218543, 674.7218543, 674.7218543, 674.7218543,\n",
       "       674.7218543, 674.7218543, 674.7218543, 674.7218543, 674.7218543,\n",
       "       674.7218543, 674.7218543, 674.7218543, 674.7218543, 674.7218543,\n",
       "       674.7218543, 674.7218543, 674.7218543, 674.7218543, 674.7218543,\n",
       "       674.7218543, 674.7218543, 674.7218543, 674.7218543, 674.7218543,\n",
       "       674.7218543, 674.7218543, 674.7218543, 674.7218543, 674.7218543,\n",
       "       674.7218543, 674.7218543, 674.7218543, 674.7218543, 674.7218543,\n",
       "       674.7218543, 674.7218543, 674.7218543, 674.7218543, 674.7218543,\n",
       "       674.7218543, 674.7218543, 674.7218543, 674.7218543, 674.7218543,\n",
       "       674.7218543, 674.7218543, 674.7218543, 674.7218543, 674.7218543,\n",
       "       674.7218543, 674.7218543, 674.7218543, 674.7218543, 674.7218543,\n",
       "       674.7218543, 674.7218543, 674.7218543, 674.7218543, 674.7218543,\n",
       "       674.7218543, 674.7218543, 674.7218543, 674.7218543, 674.7218543,\n",
       "       674.7218543, 674.7218543, 674.7218543, 674.7218543, 674.7218543,\n",
       "       674.7218543, 674.7218543, 674.7218543, 674.7218543, 674.7218543,\n",
       "       674.7218543])"
      ]
     },
     "execution_count": 35,
     "metadata": {},
     "output_type": "execute_result"
    }
   ],
   "source": [
    "# Vector with predictions from the baseline\n",
    "pred_baseline = np.full_like(y, fill_value=np.mean(y), dtype=np.float)\n",
    "pred_baseline"
   ]
  },
  {
   "cell_type": "code",
   "execution_count": 37,
   "id": "incoming-conference",
   "metadata": {},
   "outputs": [],
   "source": [
    "from sklearn.dummy import DummyRegressor\n",
    "\n",
    "# Create the DummyRegressor object\n",
    "dummy = DummyRegressor(strategy='mean')"
   ]
  },
  {
   "cell_type": "markdown",
   "id": "fitted-skill",
   "metadata": {},
   "source": [
    "Just like SGDRegressor and HuberRegressor, the DummyRegressor object implements the Scikit-learn estimator interface which means that it provides the fit() and predict() functions."
   ]
  },
  {
   "cell_type": "code",
   "execution_count": 38,
   "id": "awful-chambers",
   "metadata": {},
   "outputs": [],
   "source": [
    "# Fit the estimator\n",
    "dummy.fit(x[:, np.newaxis], y);"
   ]
  },
  {
   "cell_type": "code",
   "execution_count": 39,
   "id": "combined-sessions",
   "metadata": {},
   "outputs": [
    {
     "data": {
      "text/plain": [
       "371.11459394676217"
      ]
     },
     "execution_count": 39,
     "metadata": {},
     "output_type": "execute_result"
    }
   ],
   "source": [
    "# Vector with predictions from the baseline\n",
    "pred_baseline = dummy.predict(x[:, np.newaxis])\n",
    "\n",
    "rmse_baseline = RMSE(y, pred_baseline)\n",
    "rmse_baseline"
   ]
  },
  {
   "cell_type": "code",
   "execution_count": 40,
   "id": "chemical-broad",
   "metadata": {},
   "outputs": [
    {
     "data": {
      "image/png": "[encoded data removed]",
      "text/plain": [
       "<Figure size 432x288 with 1 Axes>"
      ]
     },
     "metadata": {
      "needs_background": "light"
     },
     "output_type": "display_data"
    }
   ],
   "source": [
    "# Bar chart\n",
    "plt.bar([1, 2, 3, 4], [rmse_baseline, rmse_lr, rmse_poly3, rmse_huber3])\n",
    "plt.xticks([1, 2, 3, 4], ['baseline (mean)', 'linreg', 'poly3', 'huber3'])\n",
    "plt.show()"
   ]
  },
  {
   "cell_type": "markdown",
   "id": "exciting-fancy",
   "metadata": {},
   "source": [
    "### Summary\n",
    "Let's summarize what we've learned in this unit.\n",
    "\n",
    "- In a typical machine learning workflow, we fit models to data points from a train set and evaluate them on a test set\n",
    "- The mean and median values are both good baselines. One minimizes the squares of the residuals while the other their absolute values\n",
    "- Scikit-learn provides a DummyRegressor object to create baseline models\n",
    "\n",
    "In practice, data sets usually have several features, and it's difficult to visually \"see\" how well do our models fit the data. For this reason, setting a baseline and comparing many different models can help in two ways.\n",
    "\n",
    "1- To verify that our code works, i.e., a model that performs worse than the baseline is a sign that something is wrong\n",
    "2- To choose an appropriate model, i.e., the model with the best accuracy isn't necessarily the most appropriate one. We might consider other aspects such as speed and interpretability of the model\n",
    "\n",
    "In the next exercise, you have the opportunity to test all the models that you've learned so far on the entire bike sharing data set (731 data points) and compare them with a baseline model.\n"
   ]
  },
  {
   "cell_type": "markdown",
   "id": "medical-welding",
   "metadata": {},
   "source": [
    "# Exercise - Bike sharing model evaluation  (ex: 3-2-6)"
   ]
  },
  {
   "cell_type": "code",
   "execution_count": null,
   "id": "written-avatar",
   "metadata": {},
   "outputs": [],
   "source": []
  },
  {
   "cell_type": "code",
   "execution_count": null,
   "id": "bright-satisfaction",
   "metadata": {},
   "outputs": [],
   "source": []
  },
  {
   "cell_type": "code",
   "execution_count": null,
   "id": "explicit-sender",
   "metadata": {},
   "outputs": [],
   "source": []
  }
 ],
 "metadata": {
  "kernelspec": {
   "display_name": "Python 3",
   "language": "python",
   "name": "python3"
  },
  "language_info": {
   "codemirror_mode": {
    "name": "ipython",
    "version": 3
   },
   "file_extension": ".py",
   "mimetype": "text/x-python",
   "name": "python",
   "nbconvert_exporter": "python",
   "pygments_lexer": "ipython3",
   "version": "3.6.12"
  }
 },
 "nbformat": 4,
 "nbformat_minor": 5
}
