{
 "cells": [
  {
   "cell_type": "markdown",
   "id": "guilty-assets",
   "metadata": {},
   "source": [
    "# Handling missing values"
   ]
  },
  {
   "cell_type": "code",
   "execution_count": 1,
   "id": "deadly-fishing",
   "metadata": {},
   "outputs": [],
   "source": [
    "import pandas as pd\n",
    "import numpy as np"
   ]
  },
  {
   "cell_type": "code",
   "execution_count": 2,
   "id": "sudden-annotation",
   "metadata": {},
   "outputs": [],
   "source": [
    "df=pd.read_csv('tmdb_5000_movies.csv')"
   ]
  },
  {
   "cell_type": "code",
   "execution_count": 3,
   "id": "governmental-emperor",
   "metadata": {},
   "outputs": [
    {
     "name": "stdout",
     "output_type": "stream",
     "text": [
      "<class 'pandas.core.frame.DataFrame'>\n",
      "RangeIndex: 4803 entries, 0 to 4802\n",
      "Data columns (total 20 columns):\n",
      "budget                  4803 non-null int64\n",
      "genres                  4803 non-null object\n",
      "homepage                1712 non-null object\n",
      "id                      4803 non-null int64\n",
      "keywords                4803 non-null object\n",
      "original_language       4803 non-null object\n",
      "original_title          4803 non-null object\n",
      "overview                4800 non-null object\n",
      "popularity              4803 non-null float64\n",
      "production_companies    4803 non-null object\n",
      "production_countries    4803 non-null object\n",
      "release_date            4802 non-null object\n",
      "revenue                 4803 non-null int64\n",
      "runtime                 4801 non-null float64\n",
      "spoken_languages        4803 non-null object\n",
      "status                  4803 non-null object\n",
      "tagline                 3959 non-null object\n",
      "title                   4803 non-null object\n",
      "vote_average            4803 non-null float64\n",
      "vote_count              4803 non-null int64\n",
      "dtypes: float64(3), int64(4), object(13)\n",
      "memory usage: 750.5+ KB\n"
     ]
    }
   ],
   "source": [
    "df.info()"
   ]
  },
  {
   "cell_type": "code",
   "execution_count": 4,
   "id": "united-attack",
   "metadata": {},
   "outputs": [
    {
     "data": {
      "text/html": [
       "<div>\n",
       "<style scoped>\n",
       "    .dataframe tbody tr th:only-of-type {\n",
       "        vertical-align: middle;\n",
       "    }\n",
       "\n",
       "    .dataframe tbody tr th {\n",
       "        vertical-align: top;\n",
       "    }\n",
       "\n",
       "    .dataframe thead th {\n",
       "        text-align: right;\n",
       "    }\n",
       "</style>\n",
       "<table border=\"1\" class=\"dataframe\">\n",
       "  <thead>\n",
       "    <tr style=\"text-align: right;\">\n",
       "      <th></th>\n",
       "      <th>budget</th>\n",
       "      <th>id</th>\n",
       "      <th>popularity</th>\n",
       "      <th>revenue</th>\n",
       "      <th>runtime</th>\n",
       "      <th>vote_average</th>\n",
       "      <th>vote_count</th>\n",
       "    </tr>\n",
       "  </thead>\n",
       "  <tbody>\n",
       "    <tr>\n",
       "      <th>count</th>\n",
       "      <td>4.803000e+03</td>\n",
       "      <td>4803.000000</td>\n",
       "      <td>4803.000000</td>\n",
       "      <td>4.803000e+03</td>\n",
       "      <td>4801.000000</td>\n",
       "      <td>4803.000000</td>\n",
       "      <td>4803.000000</td>\n",
       "    </tr>\n",
       "    <tr>\n",
       "      <th>mean</th>\n",
       "      <td>2.904504e+07</td>\n",
       "      <td>57165.484281</td>\n",
       "      <td>21.492301</td>\n",
       "      <td>8.226064e+07</td>\n",
       "      <td>106.875859</td>\n",
       "      <td>6.092172</td>\n",
       "      <td>690.217989</td>\n",
       "    </tr>\n",
       "    <tr>\n",
       "      <th>std</th>\n",
       "      <td>4.072239e+07</td>\n",
       "      <td>88694.614033</td>\n",
       "      <td>31.816650</td>\n",
       "      <td>1.628571e+08</td>\n",
       "      <td>22.611935</td>\n",
       "      <td>1.194612</td>\n",
       "      <td>1234.585891</td>\n",
       "    </tr>\n",
       "    <tr>\n",
       "      <th>min</th>\n",
       "      <td>0.000000e+00</td>\n",
       "      <td>5.000000</td>\n",
       "      <td>0.000000</td>\n",
       "      <td>0.000000e+00</td>\n",
       "      <td>0.000000</td>\n",
       "      <td>0.000000</td>\n",
       "      <td>0.000000</td>\n",
       "    </tr>\n",
       "    <tr>\n",
       "      <th>25%</th>\n",
       "      <td>7.900000e+05</td>\n",
       "      <td>9014.500000</td>\n",
       "      <td>4.668070</td>\n",
       "      <td>0.000000e+00</td>\n",
       "      <td>94.000000</td>\n",
       "      <td>5.600000</td>\n",
       "      <td>54.000000</td>\n",
       "    </tr>\n",
       "    <tr>\n",
       "      <th>50%</th>\n",
       "      <td>1.500000e+07</td>\n",
       "      <td>14629.000000</td>\n",
       "      <td>12.921594</td>\n",
       "      <td>1.917000e+07</td>\n",
       "      <td>103.000000</td>\n",
       "      <td>6.200000</td>\n",
       "      <td>235.000000</td>\n",
       "    </tr>\n",
       "    <tr>\n",
       "      <th>75%</th>\n",
       "      <td>4.000000e+07</td>\n",
       "      <td>58610.500000</td>\n",
       "      <td>28.313505</td>\n",
       "      <td>9.291719e+07</td>\n",
       "      <td>118.000000</td>\n",
       "      <td>6.800000</td>\n",
       "      <td>737.000000</td>\n",
       "    </tr>\n",
       "    <tr>\n",
       "      <th>max</th>\n",
       "      <td>3.800000e+08</td>\n",
       "      <td>459488.000000</td>\n",
       "      <td>875.581305</td>\n",
       "      <td>2.787965e+09</td>\n",
       "      <td>338.000000</td>\n",
       "      <td>10.000000</td>\n",
       "      <td>13752.000000</td>\n",
       "    </tr>\n",
       "  </tbody>\n",
       "</table>\n",
       "</div>"
      ],
      "text/plain": [
       "             budget             id   popularity       revenue      runtime  \\\n",
       "count  4.803000e+03    4803.000000  4803.000000  4.803000e+03  4801.000000   \n",
       "mean   2.904504e+07   57165.484281    21.492301  8.226064e+07   106.875859   \n",
       "std    4.072239e+07   88694.614033    31.816650  1.628571e+08    22.611935   \n",
       "min    0.000000e+00       5.000000     0.000000  0.000000e+00     0.000000   \n",
       "25%    7.900000e+05    9014.500000     4.668070  0.000000e+00    94.000000   \n",
       "50%    1.500000e+07   14629.000000    12.921594  1.917000e+07   103.000000   \n",
       "75%    4.000000e+07   58610.500000    28.313505  9.291719e+07   118.000000   \n",
       "max    3.800000e+08  459488.000000   875.581305  2.787965e+09   338.000000   \n",
       "\n",
       "       vote_average    vote_count  \n",
       "count   4803.000000   4803.000000  \n",
       "mean       6.092172    690.217989  \n",
       "std        1.194612   1234.585891  \n",
       "min        0.000000      0.000000  \n",
       "25%        5.600000     54.000000  \n",
       "50%        6.200000    235.000000  \n",
       "75%        6.800000    737.000000  \n",
       "max       10.000000  13752.000000  "
      ]
     },
     "execution_count": 4,
     "metadata": {},
     "output_type": "execute_result"
    }
   ],
   "source": [
    "df.describe()"
   ]
  },
  {
   "cell_type": "markdown",
   "id": "genuine-harris",
   "metadata": {},
   "source": [
    "#### The NaN value\n",
    "Pandas represents missing data with NaN, which stands for 'Not a Number'. This is a special floating-point value from NumPy. We can perform operations with NaN values without resulting in errors, but the result of any operations with a NaN value will be another NaN value. Try out the following"
   ]
  },
  {
   "cell_type": "code",
   "execution_count": 5,
   "id": "inclusive-circumstances",
   "metadata": {},
   "outputs": [
    {
     "data": {
      "text/plain": [
       "nan"
      ]
     },
     "execution_count": 5,
     "metadata": {},
     "output_type": "execute_result"
    }
   ],
   "source": [
    "np.nan\n",
    "#nan\n",
    "np.nan+2\n",
    "#nan\n",
    "np.nan*0\n",
    "#nan"
   ]
  },
  {
   "cell_type": "markdown",
   "id": "sustainable-ranking",
   "metadata": {},
   "source": [
    "Pandas has several built-in functions that helps us detect, remove and replace NaN values such as\n",
    "\n",
    "- isnull()\n",
    "- notnull()\n",
    "- dropna()\n",
    "- fillna()"
   ]
  },
  {
   "cell_type": "markdown",
   "id": "satellite-column",
   "metadata": {},
   "source": [
    "#### Detecting missing values\n"
   ]
  },
  {
   "cell_type": "code",
   "execution_count": 6,
   "id": "progressive-premium",
   "metadata": {},
   "outputs": [
    {
     "data": {
      "text/html": [
       "<div>\n",
       "<style scoped>\n",
       "    .dataframe tbody tr th:only-of-type {\n",
       "        vertical-align: middle;\n",
       "    }\n",
       "\n",
       "    .dataframe tbody tr th {\n",
       "        vertical-align: top;\n",
       "    }\n",
       "\n",
       "    .dataframe thead th {\n",
       "        text-align: right;\n",
       "    }\n",
       "</style>\n",
       "<table border=\"1\" class=\"dataframe\">\n",
       "  <thead>\n",
       "    <tr style=\"text-align: right;\">\n",
       "      <th></th>\n",
       "      <th>budget</th>\n",
       "      <th>genres</th>\n",
       "      <th>homepage</th>\n",
       "      <th>id</th>\n",
       "      <th>keywords</th>\n",
       "      <th>original_language</th>\n",
       "      <th>original_title</th>\n",
       "      <th>overview</th>\n",
       "      <th>popularity</th>\n",
       "      <th>production_companies</th>\n",
       "      <th>production_countries</th>\n",
       "      <th>release_date</th>\n",
       "      <th>revenue</th>\n",
       "      <th>runtime</th>\n",
       "      <th>spoken_languages</th>\n",
       "      <th>status</th>\n",
       "      <th>tagline</th>\n",
       "      <th>title</th>\n",
       "      <th>vote_average</th>\n",
       "      <th>vote_count</th>\n",
       "    </tr>\n",
       "  </thead>\n",
       "  <tbody>\n",
       "    <tr>\n",
       "      <th>0</th>\n",
       "      <td>False</td>\n",
       "      <td>False</td>\n",
       "      <td>False</td>\n",
       "      <td>False</td>\n",
       "      <td>False</td>\n",
       "      <td>False</td>\n",
       "      <td>False</td>\n",
       "      <td>False</td>\n",
       "      <td>False</td>\n",
       "      <td>False</td>\n",
       "      <td>False</td>\n",
       "      <td>False</td>\n",
       "      <td>False</td>\n",
       "      <td>False</td>\n",
       "      <td>False</td>\n",
       "      <td>False</td>\n",
       "      <td>False</td>\n",
       "      <td>False</td>\n",
       "      <td>False</td>\n",
       "      <td>False</td>\n",
       "    </tr>\n",
       "    <tr>\n",
       "      <th>1</th>\n",
       "      <td>False</td>\n",
       "      <td>False</td>\n",
       "      <td>False</td>\n",
       "      <td>False</td>\n",
       "      <td>False</td>\n",
       "      <td>False</td>\n",
       "      <td>False</td>\n",
       "      <td>False</td>\n",
       "      <td>False</td>\n",
       "      <td>False</td>\n",
       "      <td>False</td>\n",
       "      <td>False</td>\n",
       "      <td>False</td>\n",
       "      <td>False</td>\n",
       "      <td>False</td>\n",
       "      <td>False</td>\n",
       "      <td>False</td>\n",
       "      <td>False</td>\n",
       "      <td>False</td>\n",
       "      <td>False</td>\n",
       "    </tr>\n",
       "    <tr>\n",
       "      <th>2</th>\n",
       "      <td>False</td>\n",
       "      <td>False</td>\n",
       "      <td>False</td>\n",
       "      <td>False</td>\n",
       "      <td>False</td>\n",
       "      <td>False</td>\n",
       "      <td>False</td>\n",
       "      <td>False</td>\n",
       "      <td>False</td>\n",
       "      <td>False</td>\n",
       "      <td>False</td>\n",
       "      <td>False</td>\n",
       "      <td>False</td>\n",
       "      <td>False</td>\n",
       "      <td>False</td>\n",
       "      <td>False</td>\n",
       "      <td>False</td>\n",
       "      <td>False</td>\n",
       "      <td>False</td>\n",
       "      <td>False</td>\n",
       "    </tr>\n",
       "    <tr>\n",
       "      <th>3</th>\n",
       "      <td>False</td>\n",
       "      <td>False</td>\n",
       "      <td>False</td>\n",
       "      <td>False</td>\n",
       "      <td>False</td>\n",
       "      <td>False</td>\n",
       "      <td>False</td>\n",
       "      <td>False</td>\n",
       "      <td>False</td>\n",
       "      <td>False</td>\n",
       "      <td>False</td>\n",
       "      <td>False</td>\n",
       "      <td>False</td>\n",
       "      <td>False</td>\n",
       "      <td>False</td>\n",
       "      <td>False</td>\n",
       "      <td>False</td>\n",
       "      <td>False</td>\n",
       "      <td>False</td>\n",
       "      <td>False</td>\n",
       "    </tr>\n",
       "    <tr>\n",
       "      <th>4</th>\n",
       "      <td>False</td>\n",
       "      <td>False</td>\n",
       "      <td>False</td>\n",
       "      <td>False</td>\n",
       "      <td>False</td>\n",
       "      <td>False</td>\n",
       "      <td>False</td>\n",
       "      <td>False</td>\n",
       "      <td>False</td>\n",
       "      <td>False</td>\n",
       "      <td>False</td>\n",
       "      <td>False</td>\n",
       "      <td>False</td>\n",
       "      <td>False</td>\n",
       "      <td>False</td>\n",
       "      <td>False</td>\n",
       "      <td>False</td>\n",
       "      <td>False</td>\n",
       "      <td>False</td>\n",
       "      <td>False</td>\n",
       "    </tr>\n",
       "    <tr>\n",
       "      <th>5</th>\n",
       "      <td>False</td>\n",
       "      <td>False</td>\n",
       "      <td>False</td>\n",
       "      <td>False</td>\n",
       "      <td>False</td>\n",
       "      <td>False</td>\n",
       "      <td>False</td>\n",
       "      <td>False</td>\n",
       "      <td>False</td>\n",
       "      <td>False</td>\n",
       "      <td>False</td>\n",
       "      <td>False</td>\n",
       "      <td>False</td>\n",
       "      <td>False</td>\n",
       "      <td>False</td>\n",
       "      <td>False</td>\n",
       "      <td>False</td>\n",
       "      <td>False</td>\n",
       "      <td>False</td>\n",
       "      <td>False</td>\n",
       "    </tr>\n",
       "    <tr>\n",
       "      <th>6</th>\n",
       "      <td>False</td>\n",
       "      <td>False</td>\n",
       "      <td>False</td>\n",
       "      <td>False</td>\n",
       "      <td>False</td>\n",
       "      <td>False</td>\n",
       "      <td>False</td>\n",
       "      <td>False</td>\n",
       "      <td>False</td>\n",
       "      <td>False</td>\n",
       "      <td>False</td>\n",
       "      <td>False</td>\n",
       "      <td>False</td>\n",
       "      <td>False</td>\n",
       "      <td>False</td>\n",
       "      <td>False</td>\n",
       "      <td>False</td>\n",
       "      <td>False</td>\n",
       "      <td>False</td>\n",
       "      <td>False</td>\n",
       "    </tr>\n",
       "    <tr>\n",
       "      <th>7</th>\n",
       "      <td>False</td>\n",
       "      <td>False</td>\n",
       "      <td>False</td>\n",
       "      <td>False</td>\n",
       "      <td>False</td>\n",
       "      <td>False</td>\n",
       "      <td>False</td>\n",
       "      <td>False</td>\n",
       "      <td>False</td>\n",
       "      <td>False</td>\n",
       "      <td>False</td>\n",
       "      <td>False</td>\n",
       "      <td>False</td>\n",
       "      <td>False</td>\n",
       "      <td>False</td>\n",
       "      <td>False</td>\n",
       "      <td>False</td>\n",
       "      <td>False</td>\n",
       "      <td>False</td>\n",
       "      <td>False</td>\n",
       "    </tr>\n",
       "    <tr>\n",
       "      <th>8</th>\n",
       "      <td>False</td>\n",
       "      <td>False</td>\n",
       "      <td>False</td>\n",
       "      <td>False</td>\n",
       "      <td>False</td>\n",
       "      <td>False</td>\n",
       "      <td>False</td>\n",
       "      <td>False</td>\n",
       "      <td>False</td>\n",
       "      <td>False</td>\n",
       "      <td>False</td>\n",
       "      <td>False</td>\n",
       "      <td>False</td>\n",
       "      <td>False</td>\n",
       "      <td>False</td>\n",
       "      <td>False</td>\n",
       "      <td>False</td>\n",
       "      <td>False</td>\n",
       "      <td>False</td>\n",
       "      <td>False</td>\n",
       "    </tr>\n",
       "    <tr>\n",
       "      <th>9</th>\n",
       "      <td>False</td>\n",
       "      <td>False</td>\n",
       "      <td>False</td>\n",
       "      <td>False</td>\n",
       "      <td>False</td>\n",
       "      <td>False</td>\n",
       "      <td>False</td>\n",
       "      <td>False</td>\n",
       "      <td>False</td>\n",
       "      <td>False</td>\n",
       "      <td>False</td>\n",
       "      <td>False</td>\n",
       "      <td>False</td>\n",
       "      <td>False</td>\n",
       "      <td>False</td>\n",
       "      <td>False</td>\n",
       "      <td>False</td>\n",
       "      <td>False</td>\n",
       "      <td>False</td>\n",
       "      <td>False</td>\n",
       "    </tr>\n",
       "  </tbody>\n",
       "</table>\n",
       "</div>"
      ],
      "text/plain": [
       "   budget  genres  homepage     id  keywords  original_language  \\\n",
       "0   False   False     False  False     False              False   \n",
       "1   False   False     False  False     False              False   \n",
       "2   False   False     False  False     False              False   \n",
       "3   False   False     False  False     False              False   \n",
       "4   False   False     False  False     False              False   \n",
       "5   False   False     False  False     False              False   \n",
       "6   False   False     False  False     False              False   \n",
       "7   False   False     False  False     False              False   \n",
       "8   False   False     False  False     False              False   \n",
       "9   False   False     False  False     False              False   \n",
       "\n",
       "   original_title  overview  popularity  production_companies  \\\n",
       "0           False     False       False                 False   \n",
       "1           False     False       False                 False   \n",
       "2           False     False       False                 False   \n",
       "3           False     False       False                 False   \n",
       "4           False     False       False                 False   \n",
       "5           False     False       False                 False   \n",
       "6           False     False       False                 False   \n",
       "7           False     False       False                 False   \n",
       "8           False     False       False                 False   \n",
       "9           False     False       False                 False   \n",
       "\n",
       "   production_countries  release_date  revenue  runtime  spoken_languages  \\\n",
       "0                 False         False    False    False             False   \n",
       "1                 False         False    False    False             False   \n",
       "2                 False         False    False    False             False   \n",
       "3                 False         False    False    False             False   \n",
       "4                 False         False    False    False             False   \n",
       "5                 False         False    False    False             False   \n",
       "6                 False         False    False    False             False   \n",
       "7                 False         False    False    False             False   \n",
       "8                 False         False    False    False             False   \n",
       "9                 False         False    False    False             False   \n",
       "\n",
       "   status  tagline  title  vote_average  vote_count  \n",
       "0   False    False  False         False       False  \n",
       "1   False    False  False         False       False  \n",
       "2   False    False  False         False       False  \n",
       "3   False    False  False         False       False  \n",
       "4   False    False  False         False       False  \n",
       "5   False    False  False         False       False  \n",
       "6   False    False  False         False       False  \n",
       "7   False    False  False         False       False  \n",
       "8   False    False  False         False       False  \n",
       "9   False    False  False         False       False  "
      ]
     },
     "execution_count": 6,
     "metadata": {},
     "output_type": "execute_result"
    }
   ],
   "source": [
    "df.isnull()[0:10]"
   ]
  },
  {
   "cell_type": "code",
   "execution_count": 7,
   "id": "complimentary-elizabeth",
   "metadata": {},
   "outputs": [
    {
     "data": {
      "text/plain": [
       "budget                     0\n",
       "genres                     0\n",
       "homepage                3091\n",
       "id                         0\n",
       "keywords                   0\n",
       "original_language          0\n",
       "original_title             0\n",
       "overview                   3\n",
       "popularity                 0\n",
       "production_companies       0\n",
       "production_countries       0\n",
       "release_date               1\n",
       "revenue                    0\n",
       "runtime                    2\n",
       "spoken_languages           0\n",
       "status                     0\n",
       "tagline                  844\n",
       "title                      0\n",
       "vote_average               0\n",
       "vote_count                 0\n",
       "dtype: int64"
      ]
     },
     "execution_count": 7,
     "metadata": {},
     "output_type": "execute_result"
    }
   ],
   "source": [
    "df.isnull().sum()"
   ]
  },
  {
   "cell_type": "markdown",
   "id": "insured-nitrogen",
   "metadata": {},
   "source": [
    "#### Dropping missing values"
   ]
  },
  {
   "cell_type": "code",
   "execution_count": 8,
   "id": "boxed-better",
   "metadata": {},
   "outputs": [],
   "source": [
    "df2=df.dropna()"
   ]
  },
  {
   "cell_type": "code",
   "execution_count": 9,
   "id": "occupational-manor",
   "metadata": {},
   "outputs": [
    {
     "data": {
      "text/plain": [
       "0"
      ]
     },
     "execution_count": 9,
     "metadata": {},
     "output_type": "execute_result"
    }
   ],
   "source": [
    "df2.isnull().sum().sum()"
   ]
  },
  {
   "cell_type": "code",
   "execution_count": 10,
   "id": "forbidden-virus",
   "metadata": {},
   "outputs": [
    {
     "data": {
      "text/plain": [
       "(4803, 20)"
      ]
     },
     "execution_count": 10,
     "metadata": {},
     "output_type": "execute_result"
    }
   ],
   "source": [
    "df.shape"
   ]
  },
  {
   "cell_type": "code",
   "execution_count": 11,
   "id": "pending-directory",
   "metadata": {},
   "outputs": [
    {
     "data": {
      "text/plain": [
       "(1493, 20)"
      ]
     },
     "execution_count": 11,
     "metadata": {},
     "output_type": "execute_result"
    }
   ],
   "source": [
    "df2.shape"
   ]
  },
  {
   "cell_type": "markdown",
   "id": "digital-store",
   "metadata": {},
   "source": [
    "**Indeed, a very big chunk of the data was removed,** so this is not very useful. We could instead opt to drop a row only if all the values in the row are NaN. We can do this by including the how='all'argument. Try this out:"
   ]
  },
  {
   "cell_type": "code",
   "execution_count": 12,
   "id": "minor-hazard",
   "metadata": {},
   "outputs": [
    {
     "data": {
      "text/plain": [
       "(4803, 20)"
      ]
     },
     "execution_count": 12,
     "metadata": {},
     "output_type": "execute_result"
    }
   ],
   "source": [
    "df3 = df.dropna(how='all')\n",
    "df3.shape\n",
    "#(4803, 20)"
   ]
  },
  {
   "cell_type": "code",
   "execution_count": 13,
   "id": "continuous-string",
   "metadata": {},
   "outputs": [],
   "source": [
    "df.dropna(axis=1);"
   ]
  },
  {
   "cell_type": "markdown",
   "id": "gross-badge",
   "metadata": {},
   "source": [
    "then the two columns with lots of NaN values are dropped, but we also lose columns with only one, two or three NaN values, which ideally we would like to keep. On the other hand, if we use"
   ]
  },
  {
   "cell_type": "code",
   "execution_count": 14,
   "id": "connected-gilbert",
   "metadata": {},
   "outputs": [],
   "source": [
    "df.dropna(how='all', axis=1);"
   ]
  },
  {
   "cell_type": "markdown",
   "id": "typical-pearl",
   "metadata": {},
   "source": [
    "Then as with the rows, no columns are dropped, and the DataFrame is unchanged. Pandas has a solution for this problem: with the parameter thresh, which allows us to mention a minimum number of non-null values for the row/column to be kept! Let's try this out:"
   ]
  },
  {
   "cell_type": "code",
   "execution_count": 15,
   "id": "auburn-carpet",
   "metadata": {},
   "outputs": [],
   "source": [
    "df.dropna(thresh=4000, axis=1, inplace=True)"
   ]
  },
  {
   "cell_type": "code",
   "execution_count": 16,
   "id": "acting-newport",
   "metadata": {},
   "outputs": [
    {
     "data": {
      "text/plain": [
       "6"
      ]
     },
     "execution_count": 16,
     "metadata": {},
     "output_type": "execute_result"
    }
   ],
   "source": [
    "df.isnull().sum().sum()"
   ]
  },
  {
   "cell_type": "markdown",
   "id": "practical-grade",
   "metadata": {},
   "source": [
    "If we take a look at the resulting DataFrame, we will notice that columns homepage and tagline were dropped, since they both contained less then 4000 non-null values. This actually removes almost all of our NaN without dropping an excessive number of rows or columns:"
   ]
  },
  {
   "cell_type": "markdown",
   "id": "southeast-compression",
   "metadata": {},
   "source": [
    "#### Replacing missing values\n",
    "Dropping missing data decreases the number of samples in our data set and as a result the power of our analysis and the predictive strength for our machine learning models. Therefore it is preferable to first try to retain data by suitably replacing missing values before using dropna() as a last resort.\n",
    "\n",
    "epending on the data there are multiple strategies to replace missing values. If we actually know the correct values or might be able to provide an argument for a reasonable value, we can correct them directly. Otherwise, we aim to infer or estimate the missing data points suitably. **For this, we might use methods like ffill, an estimate like the mean or use machine learning models like k-NN (see later).**\n",
    "\n",
    "Pandas has a **function fillna()** that helps us replace missing values with some specific value that we can choose. Let's look once again where our missing data is:"
   ]
  },
  {
   "cell_type": "code",
   "execution_count": 17,
   "id": "moderate-guess",
   "metadata": {},
   "outputs": [
    {
     "data": {
      "text/plain": [
       "budget                  0\n",
       "genres                  0\n",
       "id                      0\n",
       "keywords                0\n",
       "original_language       0\n",
       "original_title          0\n",
       "overview                3\n",
       "popularity              0\n",
       "production_companies    0\n",
       "production_countries    0\n",
       "release_date            1\n",
       "revenue                 0\n",
       "runtime                 2\n",
       "spoken_languages        0\n",
       "status                  0\n",
       "title                   0\n",
       "vote_average            0\n",
       "vote_count              0\n",
       "dtype: int64"
      ]
     },
     "execution_count": 17,
     "metadata": {},
     "output_type": "execute_result"
    }
   ],
   "source": [
    "df.isnull().sum()"
   ]
  },
  {
   "cell_type": "code",
   "execution_count": 18,
   "id": "compliant-transmission",
   "metadata": {},
   "outputs": [
    {
     "data": {
      "text/plain": [
       "0    In the 22nd century, a paraplegic Marine is di...\n",
       "1    Captain Barbossa, long believed to be dead, ha...\n",
       "2    A cryptic message from Bond’s past sends him o...\n",
       "3    Following the death of District Attorney Harve...\n",
       "4    John Carter is a war-weary, former military ca...\n",
       "Name: overview, dtype: object"
      ]
     },
     "execution_count": 18,
     "metadata": {},
     "output_type": "execute_result"
    }
   ],
   "source": [
    "df['overview'].head(5)"
   ]
  },
  {
   "cell_type": "code",
   "execution_count": 19,
   "id": "adverse-carbon",
   "metadata": {},
   "outputs": [
    {
     "data": {
      "text/plain": [
       "0    2009-12-10\n",
       "1    2007-05-19\n",
       "2    2015-10-26\n",
       "3    2012-07-16\n",
       "4    2012-03-07\n",
       "Name: release_date, dtype: object"
      ]
     },
     "execution_count": 19,
     "metadata": {},
     "output_type": "execute_result"
    }
   ],
   "source": [
    "df['release_date'].head(5)"
   ]
  },
  {
   "cell_type": "code",
   "execution_count": 20,
   "id": "fitted-canada",
   "metadata": {},
   "outputs": [
    {
     "data": {
      "text/plain": [
       "0    162.0\n",
       "1    169.0\n",
       "2    148.0\n",
       "3    165.0\n",
       "4    132.0\n",
       "Name: runtime, dtype: float64"
      ]
     },
     "execution_count": 20,
     "metadata": {},
     "output_type": "execute_result"
    }
   ],
   "source": [
    "df['runtime'].head(5)"
   ]
  },
  {
   "cell_type": "code",
   "execution_count": 21,
   "id": "realistic-amino",
   "metadata": {},
   "outputs": [
    {
     "data": {
      "text/plain": [
       "0    162.0\n",
       "1    169.0\n",
       "2    148.0\n",
       "3    165.0\n",
       "4    132.0\n",
       "Name: runtime, dtype: float64"
      ]
     },
     "execution_count": 21,
     "metadata": {},
     "output_type": "execute_result"
    }
   ],
   "source": [
    "df['runtime'][0:5]"
   ]
  },
  {
   "cell_type": "code",
   "execution_count": 22,
   "id": "unknown-transsexual",
   "metadata": {},
   "outputs": [],
   "source": [
    "df['overview'].fillna(value='Overview not available', inplace=True)"
   ]
  },
  {
   "cell_type": "code",
   "execution_count": 23,
   "id": "humanitarian-disability",
   "metadata": {},
   "outputs": [
    {
     "data": {
      "text/plain": [
       "0"
      ]
     },
     "execution_count": 23,
     "metadata": {},
     "output_type": "execute_result"
    }
   ],
   "source": [
    "df['overview'].isnull().sum()"
   ]
  },
  {
   "cell_type": "markdown",
   "id": "hearing-wound",
   "metadata": {},
   "source": [
    "Next, for the column 'release_date', we will be replacing the missing data by propagating the non-missing values, meaning that we replace the missing data with the closest non-missing value (in the same column) in either the forward or backward direction. The function fillna() allows us to do this with two parameters:\n",
    "\n",
    "- ffill: for forward propagation\n",
    "- bfill: for backward propagation"
   ]
  },
  {
   "cell_type": "code",
   "execution_count": 24,
   "id": "dressed-forth",
   "metadata": {},
   "outputs": [
    {
     "data": {
      "text/plain": [
       "4553    NaN\n",
       "Name: release_date, dtype: object"
      ]
     },
     "execution_count": 24,
     "metadata": {},
     "output_type": "execute_result"
    }
   ],
   "source": [
    "df.loc[df['release_date'].isnull(), 'release_date']"
   ]
  },
  {
   "cell_type": "code",
   "execution_count": 25,
   "id": "common-dakota",
   "metadata": {},
   "outputs": [
    {
     "data": {
      "text/plain": [
       "4552    2012-03-28\n",
       "4553           NaN\n",
       "4554    2015-03-10\n",
       "Name: release_date, dtype: object"
      ]
     },
     "execution_count": 25,
     "metadata": {},
     "output_type": "execute_result"
    }
   ],
   "source": [
    "df.loc[4552:4554, 'release_date']  "
   ]
  },
  {
   "cell_type": "code",
   "execution_count": 26,
   "id": "objective-template",
   "metadata": {},
   "outputs": [
    {
     "data": {
      "text/plain": [
       "4552    2012-03-28\n",
       "4553    2012-03-28\n",
       "4554    2015-03-10\n",
       "Name: release_date, dtype: object"
      ]
     },
     "execution_count": 26,
     "metadata": {},
     "output_type": "execute_result"
    }
   ],
   "source": [
    "df['release_date'].fillna(method='ffill')[4552:4555]"
   ]
  },
  {
   "cell_type": "code",
   "execution_count": 27,
   "id": "accurate-highland",
   "metadata": {},
   "outputs": [
    {
     "data": {
      "text/plain": [
       "4552    2012-03-28\n",
       "4553    2015-03-10\n",
       "4554    2015-03-10\n",
       "Name: release_date, dtype: object"
      ]
     },
     "execution_count": 27,
     "metadata": {},
     "output_type": "execute_result"
    }
   ],
   "source": [
    "df['release_date'].fillna(method='bfill')[4552:4555]"
   ]
  },
  {
   "cell_type": "code",
   "execution_count": 28,
   "id": "dying-roberts",
   "metadata": {},
   "outputs": [
    {
     "data": {
      "text/plain": [
       "106.87585919600083"
      ]
     },
     "execution_count": 28,
     "metadata": {},
     "output_type": "execute_result"
    }
   ],
   "source": [
    "df['runtime'].mean()\n"
   ]
  },
  {
   "cell_type": "code",
   "execution_count": 29,
   "id": "limited-december",
   "metadata": {},
   "outputs": [],
   "source": [
    "df['runtime'].fillna(value=df['runtime'].mean(), inplace=True)"
   ]
  },
  {
   "cell_type": "code",
   "execution_count": 30,
   "id": "guided-covering",
   "metadata": {},
   "outputs": [
    {
     "data": {
      "text/plain": [
       "1"
      ]
     },
     "execution_count": 30,
     "metadata": {},
     "output_type": "execute_result"
    }
   ],
   "source": [
    "df.isnull().sum().sum()"
   ]
  },
  {
   "cell_type": "markdown",
   "id": "planned-pleasure",
   "metadata": {},
   "source": [
    "# Removing duplicate values\n"
   ]
  },
  {
   "cell_type": "code",
   "execution_count": 31,
   "id": "white-student",
   "metadata": {},
   "outputs": [],
   "source": [
    "import pandas as pd\n",
    "df =  pd.DataFrame({ 'color': ['blue','blue','red','red','blue'], 'value': [2,1,3,3,2]})"
   ]
  },
  {
   "cell_type": "code",
   "execution_count": 32,
   "id": "former-tulsa",
   "metadata": {},
   "outputs": [
    {
     "data": {
      "text/html": [
       "<div>\n",
       "<style scoped>\n",
       "    .dataframe tbody tr th:only-of-type {\n",
       "        vertical-align: middle;\n",
       "    }\n",
       "\n",
       "    .dataframe tbody tr th {\n",
       "        vertical-align: top;\n",
       "    }\n",
       "\n",
       "    .dataframe thead th {\n",
       "        text-align: right;\n",
       "    }\n",
       "</style>\n",
       "<table border=\"1\" class=\"dataframe\">\n",
       "  <thead>\n",
       "    <tr style=\"text-align: right;\">\n",
       "      <th></th>\n",
       "      <th>color</th>\n",
       "      <th>value</th>\n",
       "    </tr>\n",
       "  </thead>\n",
       "  <tbody>\n",
       "    <tr>\n",
       "      <th>0</th>\n",
       "      <td>blue</td>\n",
       "      <td>2</td>\n",
       "    </tr>\n",
       "    <tr>\n",
       "      <th>1</th>\n",
       "      <td>blue</td>\n",
       "      <td>1</td>\n",
       "    </tr>\n",
       "    <tr>\n",
       "      <th>2</th>\n",
       "      <td>red</td>\n",
       "      <td>3</td>\n",
       "    </tr>\n",
       "    <tr>\n",
       "      <th>3</th>\n",
       "      <td>red</td>\n",
       "      <td>3</td>\n",
       "    </tr>\n",
       "    <tr>\n",
       "      <th>4</th>\n",
       "      <td>blue</td>\n",
       "      <td>2</td>\n",
       "    </tr>\n",
       "  </tbody>\n",
       "</table>\n",
       "</div>"
      ],
      "text/plain": [
       "  color  value\n",
       "0  blue      2\n",
       "1  blue      1\n",
       "2   red      3\n",
       "3   red      3\n",
       "4  blue      2"
      ]
     },
     "execution_count": 32,
     "metadata": {},
     "output_type": "execute_result"
    }
   ],
   "source": [
    "df"
   ]
  },
  {
   "cell_type": "code",
   "execution_count": 33,
   "id": "supported-unemployment",
   "metadata": {},
   "outputs": [
    {
     "data": {
      "text/plain": [
       "0    False\n",
       "1    False\n",
       "2    False\n",
       "3     True\n",
       "4     True\n",
       "dtype: bool"
      ]
     },
     "execution_count": 33,
     "metadata": {},
     "output_type": "execute_result"
    }
   ],
   "source": [
    "df.duplicated()\n"
   ]
  },
  {
   "cell_type": "code",
   "execution_count": 34,
   "id": "political-power",
   "metadata": {},
   "outputs": [
    {
     "data": {
      "text/plain": [
       "0     True\n",
       "1    False\n",
       "2     True\n",
       "3    False\n",
       "4    False\n",
       "dtype: bool"
      ]
     },
     "execution_count": 34,
     "metadata": {},
     "output_type": "execute_result"
    }
   ],
   "source": [
    "df.duplicated(keep='last')"
   ]
  },
  {
   "cell_type": "code",
   "execution_count": 35,
   "id": "operating-teach",
   "metadata": {},
   "outputs": [
    {
     "data": {
      "text/plain": [
       "0     True\n",
       "1    False\n",
       "2     True\n",
       "3     True\n",
       "4     True\n",
       "dtype: bool"
      ]
     },
     "execution_count": 35,
     "metadata": {},
     "output_type": "execute_result"
    }
   ],
   "source": [
    "df.duplicated(keep=False)"
   ]
  },
  {
   "cell_type": "code",
   "execution_count": 36,
   "id": "another-angola",
   "metadata": {},
   "outputs": [
    {
     "data": {
      "text/html": [
       "<div>\n",
       "<style scoped>\n",
       "    .dataframe tbody tr th:only-of-type {\n",
       "        vertical-align: middle;\n",
       "    }\n",
       "\n",
       "    .dataframe tbody tr th {\n",
       "        vertical-align: top;\n",
       "    }\n",
       "\n",
       "    .dataframe thead th {\n",
       "        text-align: right;\n",
       "    }\n",
       "</style>\n",
       "<table border=\"1\" class=\"dataframe\">\n",
       "  <thead>\n",
       "    <tr style=\"text-align: right;\">\n",
       "      <th></th>\n",
       "      <th>color</th>\n",
       "      <th>value</th>\n",
       "    </tr>\n",
       "  </thead>\n",
       "  <tbody>\n",
       "    <tr>\n",
       "      <th>3</th>\n",
       "      <td>red</td>\n",
       "      <td>3</td>\n",
       "    </tr>\n",
       "    <tr>\n",
       "      <th>4</th>\n",
       "      <td>blue</td>\n",
       "      <td>2</td>\n",
       "    </tr>\n",
       "  </tbody>\n",
       "</table>\n",
       "</div>"
      ],
      "text/plain": [
       "  color  value\n",
       "3   red      3\n",
       "4  blue      2"
      ]
     },
     "execution_count": 36,
     "metadata": {},
     "output_type": "execute_result"
    }
   ],
   "source": [
    "df.loc[df.duplicated(),:]"
   ]
  },
  {
   "cell_type": "code",
   "execution_count": 37,
   "id": "about-appreciation",
   "metadata": {},
   "outputs": [
    {
     "data": {
      "text/html": [
       "<div>\n",
       "<style scoped>\n",
       "    .dataframe tbody tr th:only-of-type {\n",
       "        vertical-align: middle;\n",
       "    }\n",
       "\n",
       "    .dataframe tbody tr th {\n",
       "        vertical-align: top;\n",
       "    }\n",
       "\n",
       "    .dataframe thead th {\n",
       "        text-align: right;\n",
       "    }\n",
       "</style>\n",
       "<table border=\"1\" class=\"dataframe\">\n",
       "  <thead>\n",
       "    <tr style=\"text-align: right;\">\n",
       "      <th></th>\n",
       "      <th>color</th>\n",
       "      <th>value</th>\n",
       "    </tr>\n",
       "  </thead>\n",
       "  <tbody>\n",
       "    <tr>\n",
       "      <th>0</th>\n",
       "      <td>blue</td>\n",
       "      <td>2</td>\n",
       "    </tr>\n",
       "    <tr>\n",
       "      <th>1</th>\n",
       "      <td>blue</td>\n",
       "      <td>1</td>\n",
       "    </tr>\n",
       "    <tr>\n",
       "      <th>2</th>\n",
       "      <td>red</td>\n",
       "      <td>3</td>\n",
       "    </tr>\n",
       "  </tbody>\n",
       "</table>\n",
       "</div>"
      ],
      "text/plain": [
       "  color  value\n",
       "0  blue      2\n",
       "1  blue      1\n",
       "2   red      3"
      ]
     },
     "execution_count": 37,
     "metadata": {},
     "output_type": "execute_result"
    }
   ],
   "source": [
    "df.drop_duplicates()"
   ]
  },
  {
   "cell_type": "code",
   "execution_count": 38,
   "id": "criminal-flooring",
   "metadata": {},
   "outputs": [
    {
     "data": {
      "text/html": [
       "<div>\n",
       "<style scoped>\n",
       "    .dataframe tbody tr th:only-of-type {\n",
       "        vertical-align: middle;\n",
       "    }\n",
       "\n",
       "    .dataframe tbody tr th {\n",
       "        vertical-align: top;\n",
       "    }\n",
       "\n",
       "    .dataframe thead th {\n",
       "        text-align: right;\n",
       "    }\n",
       "</style>\n",
       "<table border=\"1\" class=\"dataframe\">\n",
       "  <thead>\n",
       "    <tr style=\"text-align: right;\">\n",
       "      <th></th>\n",
       "      <th>color</th>\n",
       "      <th>value</th>\n",
       "    </tr>\n",
       "  </thead>\n",
       "  <tbody>\n",
       "    <tr>\n",
       "      <th>1</th>\n",
       "      <td>blue</td>\n",
       "      <td>1</td>\n",
       "    </tr>\n",
       "    <tr>\n",
       "      <th>3</th>\n",
       "      <td>red</td>\n",
       "      <td>3</td>\n",
       "    </tr>\n",
       "    <tr>\n",
       "      <th>4</th>\n",
       "      <td>blue</td>\n",
       "      <td>2</td>\n",
       "    </tr>\n",
       "  </tbody>\n",
       "</table>\n",
       "</div>"
      ],
      "text/plain": [
       "  color  value\n",
       "1  blue      1\n",
       "3   red      3\n",
       "4  blue      2"
      ]
     },
     "execution_count": 38,
     "metadata": {},
     "output_type": "execute_result"
    }
   ],
   "source": [
    "df.drop_duplicates(keep='last')"
   ]
  },
  {
   "cell_type": "markdown",
   "id": "armed-fortune",
   "metadata": {},
   "source": [
    "#### Duplicates from a particular column"
   ]
  },
  {
   "cell_type": "code",
   "execution_count": null,
   "id": "excellent-resource",
   "metadata": {},
   "outputs": [],
   "source": []
  },
  {
   "cell_type": "code",
   "execution_count": 39,
   "id": "latest-bonus",
   "metadata": {},
   "outputs": [
    {
     "data": {
      "text/html": [
       "<div>\n",
       "<style scoped>\n",
       "    .dataframe tbody tr th:only-of-type {\n",
       "        vertical-align: middle;\n",
       "    }\n",
       "\n",
       "    .dataframe tbody tr th {\n",
       "        vertical-align: top;\n",
       "    }\n",
       "\n",
       "    .dataframe thead th {\n",
       "        text-align: right;\n",
       "    }\n",
       "</style>\n",
       "<table border=\"1\" class=\"dataframe\">\n",
       "  <thead>\n",
       "    <tr style=\"text-align: right;\">\n",
       "      <th></th>\n",
       "      <th>color</th>\n",
       "      <th>value</th>\n",
       "    </tr>\n",
       "  </thead>\n",
       "  <tbody>\n",
       "    <tr>\n",
       "      <th>0</th>\n",
       "      <td>blue</td>\n",
       "      <td>2</td>\n",
       "    </tr>\n",
       "    <tr>\n",
       "      <th>1</th>\n",
       "      <td>blue</td>\n",
       "      <td>1</td>\n",
       "    </tr>\n",
       "    <tr>\n",
       "      <th>2</th>\n",
       "      <td>red</td>\n",
       "      <td>3</td>\n",
       "    </tr>\n",
       "  </tbody>\n",
       "</table>\n",
       "</div>"
      ],
      "text/plain": [
       "  color  value\n",
       "0  blue      2\n",
       "1  blue      1\n",
       "2   red      3"
      ]
     },
     "execution_count": 39,
     "metadata": {},
     "output_type": "execute_result"
    }
   ],
   "source": [
    "df.drop_duplicates(['value'])"
   ]
  },
  {
   "cell_type": "code",
   "execution_count": 40,
   "id": "emerging-retro",
   "metadata": {},
   "outputs": [
    {
     "data": {
      "text/html": [
       "<div>\n",
       "<style scoped>\n",
       "    .dataframe tbody tr th:only-of-type {\n",
       "        vertical-align: middle;\n",
       "    }\n",
       "\n",
       "    .dataframe tbody tr th {\n",
       "        vertical-align: top;\n",
       "    }\n",
       "\n",
       "    .dataframe thead th {\n",
       "        text-align: right;\n",
       "    }\n",
       "</style>\n",
       "<table border=\"1\" class=\"dataframe\">\n",
       "  <thead>\n",
       "    <tr style=\"text-align: right;\">\n",
       "      <th></th>\n",
       "      <th>color</th>\n",
       "      <th>value</th>\n",
       "    </tr>\n",
       "  </thead>\n",
       "  <tbody>\n",
       "    <tr>\n",
       "      <th>0</th>\n",
       "      <td>blue</td>\n",
       "      <td>2</td>\n",
       "    </tr>\n",
       "    <tr>\n",
       "      <th>2</th>\n",
       "      <td>red</td>\n",
       "      <td>3</td>\n",
       "    </tr>\n",
       "  </tbody>\n",
       "</table>\n",
       "</div>"
      ],
      "text/plain": [
       "  color  value\n",
       "0  blue      2\n",
       "2   red      3"
      ]
     },
     "execution_count": 40,
     "metadata": {},
     "output_type": "execute_result"
    }
   ],
   "source": [
    "df.drop_duplicates(['color'])"
   ]
  },
  {
   "cell_type": "code",
   "execution_count": 41,
   "id": "attached-danger",
   "metadata": {},
   "outputs": [],
   "source": [
    "import pandas as pd\n",
    "df = pd.read_csv('http://bit.ly/chiporders',sep='\\t')"
   ]
  },
  {
   "cell_type": "code",
   "execution_count": 42,
   "id": "lonely-offer",
   "metadata": {},
   "outputs": [
    {
     "data": {
      "text/html": [
       "<div>\n",
       "<style scoped>\n",
       "    .dataframe tbody tr th:only-of-type {\n",
       "        vertical-align: middle;\n",
       "    }\n",
       "\n",
       "    .dataframe tbody tr th {\n",
       "        vertical-align: top;\n",
       "    }\n",
       "\n",
       "    .dataframe thead th {\n",
       "        text-align: right;\n",
       "    }\n",
       "</style>\n",
       "<table border=\"1\" class=\"dataframe\">\n",
       "  <thead>\n",
       "    <tr style=\"text-align: right;\">\n",
       "      <th></th>\n",
       "      <th>order_id</th>\n",
       "      <th>quantity</th>\n",
       "      <th>item_name</th>\n",
       "      <th>choice_description</th>\n",
       "      <th>item_price</th>\n",
       "    </tr>\n",
       "  </thead>\n",
       "  <tbody>\n",
       "    <tr>\n",
       "      <th>4614</th>\n",
       "      <td>1831</td>\n",
       "      <td>1</td>\n",
       "      <td>Bottled Water</td>\n",
       "      <td>NaN</td>\n",
       "      <td>$1.50</td>\n",
       "    </tr>\n",
       "    <tr>\n",
       "      <th>4615</th>\n",
       "      <td>1832</td>\n",
       "      <td>1</td>\n",
       "      <td>Chicken Soft Tacos</td>\n",
       "      <td>[Fresh Tomato Salsa, [Rice, Cheese, Sour Cream]]</td>\n",
       "      <td>$8.75</td>\n",
       "    </tr>\n",
       "    <tr>\n",
       "      <th>4616</th>\n",
       "      <td>1832</td>\n",
       "      <td>1</td>\n",
       "      <td>Chips and Guacamole</td>\n",
       "      <td>NaN</td>\n",
       "      <td>$4.45</td>\n",
       "    </tr>\n",
       "    <tr>\n",
       "      <th>4617</th>\n",
       "      <td>1833</td>\n",
       "      <td>1</td>\n",
       "      <td>Steak Burrito</td>\n",
       "      <td>[Fresh Tomato Salsa, [Rice, Black Beans, Sour ...</td>\n",
       "      <td>$11.75</td>\n",
       "    </tr>\n",
       "    <tr>\n",
       "      <th>4618</th>\n",
       "      <td>1833</td>\n",
       "      <td>1</td>\n",
       "      <td>Steak Burrito</td>\n",
       "      <td>[Fresh Tomato Salsa, [Rice, Sour Cream, Cheese...</td>\n",
       "      <td>$11.75</td>\n",
       "    </tr>\n",
       "    <tr>\n",
       "      <th>4619</th>\n",
       "      <td>1834</td>\n",
       "      <td>1</td>\n",
       "      <td>Chicken Salad Bowl</td>\n",
       "      <td>[Fresh Tomato Salsa, [Fajita Vegetables, Pinto...</td>\n",
       "      <td>$11.25</td>\n",
       "    </tr>\n",
       "    <tr>\n",
       "      <th>4620</th>\n",
       "      <td>1834</td>\n",
       "      <td>1</td>\n",
       "      <td>Chicken Salad Bowl</td>\n",
       "      <td>[Fresh Tomato Salsa, [Fajita Vegetables, Lettu...</td>\n",
       "      <td>$8.75</td>\n",
       "    </tr>\n",
       "    <tr>\n",
       "      <th>4621</th>\n",
       "      <td>1834</td>\n",
       "      <td>1</td>\n",
       "      <td>Chicken Salad Bowl</td>\n",
       "      <td>[Fresh Tomato Salsa, [Fajita Vegetables, Pinto...</td>\n",
       "      <td>$8.75</td>\n",
       "    </tr>\n",
       "  </tbody>\n",
       "</table>\n",
       "</div>"
      ],
      "text/plain": [
       "      order_id  quantity            item_name  \\\n",
       "4614      1831         1        Bottled Water   \n",
       "4615      1832         1   Chicken Soft Tacos   \n",
       "4616      1832         1  Chips and Guacamole   \n",
       "4617      1833         1        Steak Burrito   \n",
       "4618      1833         1        Steak Burrito   \n",
       "4619      1834         1   Chicken Salad Bowl   \n",
       "4620      1834         1   Chicken Salad Bowl   \n",
       "4621      1834         1   Chicken Salad Bowl   \n",
       "\n",
       "                                     choice_description item_price  \n",
       "4614                                                NaN     $1.50   \n",
       "4615   [Fresh Tomato Salsa, [Rice, Cheese, Sour Cream]]     $8.75   \n",
       "4616                                                NaN     $4.45   \n",
       "4617  [Fresh Tomato Salsa, [Rice, Black Beans, Sour ...    $11.75   \n",
       "4618  [Fresh Tomato Salsa, [Rice, Sour Cream, Cheese...    $11.75   \n",
       "4619  [Fresh Tomato Salsa, [Fajita Vegetables, Pinto...    $11.25   \n",
       "4620  [Fresh Tomato Salsa, [Fajita Vegetables, Lettu...     $8.75   \n",
       "4621  [Fresh Tomato Salsa, [Fajita Vegetables, Pinto...     $8.75   "
      ]
     },
     "execution_count": 42,
     "metadata": {},
     "output_type": "execute_result"
    }
   ],
   "source": [
    "df[-8:]"
   ]
  },
  {
   "cell_type": "code",
   "execution_count": 43,
   "id": "several-archive",
   "metadata": {},
   "outputs": [
    {
     "data": {
      "text/plain": [
       "59"
      ]
     },
     "execution_count": 43,
     "metadata": {},
     "output_type": "execute_result"
    }
   ],
   "source": [
    "df.duplicated().sum()"
   ]
  },
  {
   "cell_type": "code",
   "execution_count": 44,
   "id": "eligible-designation",
   "metadata": {},
   "outputs": [
    {
     "data": {
      "text/plain": [
       "2788"
      ]
     },
     "execution_count": 44,
     "metadata": {},
     "output_type": "execute_result"
    }
   ],
   "source": [
    "df.duplicated(['order_id']).sum()"
   ]
  },
  {
   "cell_type": "code",
   "execution_count": 45,
   "id": "human-sessions",
   "metadata": {},
   "outputs": [
    {
     "data": {
      "text/plain": [
       "4613"
      ]
     },
     "execution_count": 45,
     "metadata": {},
     "output_type": "execute_result"
    }
   ],
   "source": [
    "df.duplicated(['quantity']).sum()"
   ]
  },
  {
   "cell_type": "code",
   "execution_count": 46,
   "id": "rational-jesus",
   "metadata": {},
   "outputs": [
    {
     "data": {
      "text/plain": [
       "4572"
      ]
     },
     "execution_count": 46,
     "metadata": {},
     "output_type": "execute_result"
    }
   ],
   "source": [
    "df.duplicated(['item_name']).sum()"
   ]
  },
  {
   "cell_type": "code",
   "execution_count": 47,
   "id": "governmental-willow",
   "metadata": {},
   "outputs": [
    {
     "data": {
      "text/plain": [
       "3578"
      ]
     },
     "execution_count": 47,
     "metadata": {},
     "output_type": "execute_result"
    }
   ],
   "source": [
    "df.duplicated(['choice_description']).sum()"
   ]
  },
  {
   "cell_type": "code",
   "execution_count": 48,
   "id": "prospective-handle",
   "metadata": {},
   "outputs": [
    {
     "data": {
      "text/plain": [
       "4544"
      ]
     },
     "execution_count": 48,
     "metadata": {},
     "output_type": "execute_result"
    }
   ],
   "source": [
    "df.duplicated(['item_price']).sum()"
   ]
  },
  {
   "cell_type": "code",
   "execution_count": 49,
   "id": "crucial-agenda",
   "metadata": {},
   "outputs": [
    {
     "name": "stdout",
     "output_type": "stream",
     "text": [
      "2788\n",
      "4613\n",
      "4572\n",
      "3578\n",
      "4544\n"
     ]
    }
   ],
   "source": [
    "for column in df.columns:\n",
    "    x=df.duplicated([column]).sum()\n",
    "    print(x)"
   ]
  },
  {
   "cell_type": "code",
   "execution_count": 50,
   "id": "wrapped-halifax",
   "metadata": {},
   "outputs": [
    {
     "data": {
      "text/plain": [
       "249"
      ]
     },
     "execution_count": 50,
     "metadata": {},
     "output_type": "execute_result"
    }
   ],
   "source": [
    "df.duplicated(['order_id','item_name','item_price']).sum()"
   ]
  },
  {
   "cell_type": "code",
   "execution_count": 51,
   "id": "beginning-three",
   "metadata": {},
   "outputs": [
    {
     "name": "stdout",
     "output_type": "stream",
     "text": [
      "<class 'pandas.core.frame.DataFrame'>\n",
      "Int64Index: 4156 entries, 0 to 4619\n",
      "Data columns (total 5 columns):\n",
      "order_id              4156 non-null int64\n",
      "quantity              4156 non-null int64\n",
      "item_name             4156 non-null object\n",
      "choice_description    2946 non-null object\n",
      "item_price            4156 non-null object\n",
      "dtypes: int64(2), object(3)\n",
      "memory usage: 194.8+ KB\n"
     ]
    }
   ],
   "source": [
    "df.drop_duplicates(['order_id','item_name','item_price'], keep = False).info()"
   ]
  },
  {
   "cell_type": "markdown",
   "id": "average-gnome",
   "metadata": {},
   "source": [
    "# Detecting and filtering outliers"
   ]
  },
  {
   "cell_type": "markdown",
   "id": "sophisticated-house",
   "metadata": {},
   "source": [
    "In order to identify outlier candidates, we need to:\n",
    "\n",
    "1) establish what we consider as 'normal\n",
    "\n",
    "2) find a way to measure deviations from that 'normal'."
   ]
  },
  {
   "cell_type": "markdown",
   "id": "patent-stamp",
   "metadata": {},
   "source": [
    "Outliers vs errors :\n",
    "\n",
    "Some abnormal values can be the result of errors in the data and should be addressed in any case. Unlike errors, we consider outliers as legitimate values that are different or rare. When we discuss outliers below and in other units, we will assume that we have already cleared out the errors."
   ]
  },
  {
   "cell_type": "markdown",
   "id": "rough-pepper",
   "metadata": {},
   "source": [
    "**Outliers can hold valuable information**\n",
    "\n",
    "Outliers are often seen as abnormal and undesirable. However, in some fields, they can provide sought-after insights.\n",
    "\n",
    "- Recognizing outliers in user behavior can help credit card firms identify potential fraud and network administrators identify attempted cyber attacks.\n",
    "- In production cycles, outliers can help identify defective products that should not enter circulation.\n",
    "- In predictive maintenance, outliers in time-series data for sensors and machines can be signs of imminent problems and a potential breakdown. Recognizing this early allows firms to intervene quickly and save time and money.\n",
    "- **In science, outliers might give rise to unobserved phenomena (novelties) that advance our understanding of the field and down the line, the outlier in today's observational data becomes a standard part of tomorrow's textbooks.**"
   ]
  },
  {
   "cell_type": "markdown",
   "id": "proper-youth",
   "metadata": {},
   "source": [
    "#### Practical outlier removal\n"
   ]
  },
  {
   "cell_type": "markdown",
   "id": "preceding-thermal",
   "metadata": {},
   "source": [
    "In this unit, we will describe three methods for outlier detection and removal: by **inspection, z-scores and boxplots**. Here we will focus on outliers within single features."
   ]
  },
  {
   "cell_type": "code",
   "execution_count": 53,
   "id": "complex-breathing",
   "metadata": {},
   "outputs": [],
   "source": [
    "import pandas as pd\n",
    "import numpy as np\n",
    "import matplotlib.pyplot as plt\n",
    "import seaborn as sns\n",
    "\n",
    "%matplotlib inline"
   ]
  },
  {
   "cell_type": "markdown",
   "id": "comfortable-proxy",
   "metadata": {},
   "source": [
    "We will work with a data set of 100'000 randomly generated samples with 6 features.\n",
    "The first 5 features are created with the random.randn() function from NumPy. This function creates an array of specified shape (here 100'000 by 5) and uses a random number generator to fill this array with random values sampled from the standard normal (Gaussian) distribution. Concretely, as the documentation of the function states, it will return the array \"filled with random floats sampled from a univariate “normal” (Gaussian) distribution of mean 0 and variance 1\".\n",
    "\n",
    "For the 5th feature, we will **manually introduce outliers** by adding 1000 to the last 100 values (i.e. 0.1% of our samples).\n",
    "Finally, we will add a 6th feature with values sampled from an exponential distribution as an illustrative example that exhibits skewness. You don't need to worry about the details, but if you want to know more see the numpy documentation which has further references at the end."
   ]
  },
  {
   "cell_type": "code",
   "execution_count": 54,
   "id": "developmental-enemy",
   "metadata": {},
   "outputs": [],
   "source": [
    "# Create a random seed to make result reproducible\n",
    "np.random.seed(0)\n"
   ]
  },
  {
   "cell_type": "code",
   "execution_count": 55,
   "id": "coral-province",
   "metadata": {},
   "outputs": [],
   "source": [
    "# Create 5 features with 100000 samples from Gaussian distribution each\n",
    "df = pd.DataFrame(np.random.randn(100000, 5))"
   ]
  },
  {
   "cell_type": "code",
   "execution_count": 57,
   "id": "light-nancy",
   "metadata": {},
   "outputs": [
    {
     "data": {
      "text/html": [
       "<div>\n",
       "<style scoped>\n",
       "    .dataframe tbody tr th:only-of-type {\n",
       "        vertical-align: middle;\n",
       "    }\n",
       "\n",
       "    .dataframe tbody tr th {\n",
       "        vertical-align: top;\n",
       "    }\n",
       "\n",
       "    .dataframe thead th {\n",
       "        text-align: right;\n",
       "    }\n",
       "</style>\n",
       "<table border=\"1\" class=\"dataframe\">\n",
       "  <thead>\n",
       "    <tr style=\"text-align: right;\">\n",
       "      <th></th>\n",
       "      <th>0</th>\n",
       "      <th>1</th>\n",
       "      <th>2</th>\n",
       "      <th>3</th>\n",
       "      <th>4</th>\n",
       "    </tr>\n",
       "  </thead>\n",
       "  <tbody>\n",
       "    <tr>\n",
       "      <th>0</th>\n",
       "      <td>1.764052</td>\n",
       "      <td>0.400157</td>\n",
       "      <td>0.978738</td>\n",
       "      <td>2.240893</td>\n",
       "      <td>1.867558</td>\n",
       "    </tr>\n",
       "    <tr>\n",
       "      <th>1</th>\n",
       "      <td>-0.977278</td>\n",
       "      <td>0.950088</td>\n",
       "      <td>-0.151357</td>\n",
       "      <td>-0.103219</td>\n",
       "      <td>0.410599</td>\n",
       "    </tr>\n",
       "    <tr>\n",
       "      <th>2</th>\n",
       "      <td>0.144044</td>\n",
       "      <td>1.454274</td>\n",
       "      <td>0.761038</td>\n",
       "      <td>0.121675</td>\n",
       "      <td>0.443863</td>\n",
       "    </tr>\n",
       "    <tr>\n",
       "      <th>3</th>\n",
       "      <td>0.333674</td>\n",
       "      <td>1.494079</td>\n",
       "      <td>-0.205158</td>\n",
       "      <td>0.313068</td>\n",
       "      <td>-0.854096</td>\n",
       "    </tr>\n",
       "    <tr>\n",
       "      <th>4</th>\n",
       "      <td>-2.552990</td>\n",
       "      <td>0.653619</td>\n",
       "      <td>0.864436</td>\n",
       "      <td>-0.742165</td>\n",
       "      <td>2.269755</td>\n",
       "    </tr>\n",
       "  </tbody>\n",
       "</table>\n",
       "</div>"
      ],
      "text/plain": [
       "          0         1         2         3         4\n",
       "0  1.764052  0.400157  0.978738  2.240893  1.867558\n",
       "1 -0.977278  0.950088 -0.151357 -0.103219  0.410599\n",
       "2  0.144044  1.454274  0.761038  0.121675  0.443863\n",
       "3  0.333674  1.494079 -0.205158  0.313068 -0.854096\n",
       "4 -2.552990  0.653619  0.864436 -0.742165  2.269755"
      ]
     },
     "execution_count": 57,
     "metadata": {},
     "output_type": "execute_result"
    }
   ],
   "source": [
    "df[0:5]"
   ]
  },
  {
   "cell_type": "code",
   "execution_count": 58,
   "id": "durable-challenge",
   "metadata": {},
   "outputs": [],
   "source": [
    "# Add 1000 to the last 100 values of feature 4\n",
    "df.iloc[-100:, 4] = df.iloc[-100:, 4] + 1000"
   ]
  },
  {
   "cell_type": "code",
   "execution_count": 59,
   "id": "positive-space",
   "metadata": {},
   "outputs": [],
   "source": [
    "# Create 6th feature with 100000 samples from exponential distribution\n",
    "df[5] = np.random.exponential(1, 100000)"
   ]
  },
  {
   "cell_type": "code",
   "execution_count": 60,
   "id": "educated-personality",
   "metadata": {},
   "outputs": [
    {
     "data": {
      "text/html": [
       "<div>\n",
       "<style scoped>\n",
       "    .dataframe tbody tr th:only-of-type {\n",
       "        vertical-align: middle;\n",
       "    }\n",
       "\n",
       "    .dataframe tbody tr th {\n",
       "        vertical-align: top;\n",
       "    }\n",
       "\n",
       "    .dataframe thead th {\n",
       "        text-align: right;\n",
       "    }\n",
       "</style>\n",
       "<table border=\"1\" class=\"dataframe\">\n",
       "  <thead>\n",
       "    <tr style=\"text-align: right;\">\n",
       "      <th></th>\n",
       "      <th>X0</th>\n",
       "      <th>X1</th>\n",
       "      <th>X2</th>\n",
       "      <th>X3</th>\n",
       "      <th>X4</th>\n",
       "      <th>X5</th>\n",
       "    </tr>\n",
       "  </thead>\n",
       "  <tbody>\n",
       "    <tr>\n",
       "      <th>0</th>\n",
       "      <td>1.764052</td>\n",
       "      <td>0.400157</td>\n",
       "      <td>0.978738</td>\n",
       "      <td>2.240893</td>\n",
       "      <td>1.867558</td>\n",
       "      <td>0.540426</td>\n",
       "    </tr>\n",
       "    <tr>\n",
       "      <th>1</th>\n",
       "      <td>-0.977278</td>\n",
       "      <td>0.950088</td>\n",
       "      <td>-0.151357</td>\n",
       "      <td>-0.103219</td>\n",
       "      <td>0.410599</td>\n",
       "      <td>1.424513</td>\n",
       "    </tr>\n",
       "    <tr>\n",
       "      <th>2</th>\n",
       "      <td>0.144044</td>\n",
       "      <td>1.454274</td>\n",
       "      <td>0.761038</td>\n",
       "      <td>0.121675</td>\n",
       "      <td>0.443863</td>\n",
       "      <td>0.282623</td>\n",
       "    </tr>\n",
       "    <tr>\n",
       "      <th>3</th>\n",
       "      <td>0.333674</td>\n",
       "      <td>1.494079</td>\n",
       "      <td>-0.205158</td>\n",
       "      <td>0.313068</td>\n",
       "      <td>-0.854096</td>\n",
       "      <td>0.038750</td>\n",
       "    </tr>\n",
       "    <tr>\n",
       "      <th>4</th>\n",
       "      <td>-2.552990</td>\n",
       "      <td>0.653619</td>\n",
       "      <td>0.864436</td>\n",
       "      <td>-0.742165</td>\n",
       "      <td>2.269755</td>\n",
       "      <td>0.999036</td>\n",
       "    </tr>\n",
       "  </tbody>\n",
       "</table>\n",
       "</div>"
      ],
      "text/plain": [
       "         X0        X1        X2        X3        X4        X5\n",
       "0  1.764052  0.400157  0.978738  2.240893  1.867558  0.540426\n",
       "1 -0.977278  0.950088 -0.151357 -0.103219  0.410599  1.424513\n",
       "2  0.144044  1.454274  0.761038  0.121675  0.443863  0.282623\n",
       "3  0.333674  1.494079 -0.205158  0.313068 -0.854096  0.038750\n",
       "4 -2.552990  0.653619  0.864436 -0.742165  2.269755  0.999036"
      ]
     },
     "execution_count": 60,
     "metadata": {},
     "output_type": "execute_result"
    }
   ],
   "source": [
    "# Change feature names\n",
    "df = df.add_prefix(\"X\")\n",
    "df.head()"
   ]
  },
  {
   "cell_type": "markdown",
   "id": "future-catering",
   "metadata": {},
   "source": [
    "#### Checking descriptive statistics and visualizations"
   ]
  },
  {
   "cell_type": "code",
   "execution_count": 62,
   "id": "suspected-variation",
   "metadata": {},
   "outputs": [
    {
     "data": {
      "text/html": [
       "<div>\n",
       "<style scoped>\n",
       "    .dataframe tbody tr th:only-of-type {\n",
       "        vertical-align: middle;\n",
       "    }\n",
       "\n",
       "    .dataframe tbody tr th {\n",
       "        vertical-align: top;\n",
       "    }\n",
       "\n",
       "    .dataframe thead th {\n",
       "        text-align: right;\n",
       "    }\n",
       "</style>\n",
       "<table border=\"1\" class=\"dataframe\">\n",
       "  <thead>\n",
       "    <tr style=\"text-align: right;\">\n",
       "      <th></th>\n",
       "      <th>X0</th>\n",
       "      <th>X1</th>\n",
       "      <th>X2</th>\n",
       "      <th>X3</th>\n",
       "      <th>X4</th>\n",
       "      <th>X5</th>\n",
       "    </tr>\n",
       "  </thead>\n",
       "  <tbody>\n",
       "    <tr>\n",
       "      <th>count</th>\n",
       "      <td>100000.00000</td>\n",
       "      <td>100000.00000</td>\n",
       "      <td>100000.00000</td>\n",
       "      <td>100000.00000</td>\n",
       "      <td>100000.00000</td>\n",
       "      <td>100000.00000</td>\n",
       "    </tr>\n",
       "    <tr>\n",
       "      <th>mean</th>\n",
       "      <td>-0.00020</td>\n",
       "      <td>0.00235</td>\n",
       "      <td>0.00161</td>\n",
       "      <td>0.00196</td>\n",
       "      <td>1.00745</td>\n",
       "      <td>1.00622</td>\n",
       "    </tr>\n",
       "    <tr>\n",
       "      <th>std</th>\n",
       "      <td>0.99711</td>\n",
       "      <td>0.99915</td>\n",
       "      <td>1.00225</td>\n",
       "      <td>1.00057</td>\n",
       "      <td>31.61742</td>\n",
       "      <td>1.00696</td>\n",
       "    </tr>\n",
       "    <tr>\n",
       "      <th>min</th>\n",
       "      <td>-4.69459</td>\n",
       "      <td>-4.85212</td>\n",
       "      <td>-4.24712</td>\n",
       "      <td>-4.44663</td>\n",
       "      <td>-5.00230</td>\n",
       "      <td>0.00000</td>\n",
       "    </tr>\n",
       "    <tr>\n",
       "      <th>25%</th>\n",
       "      <td>-0.67891</td>\n",
       "      <td>-0.66917</td>\n",
       "      <td>-0.67574</td>\n",
       "      <td>-0.67561</td>\n",
       "      <td>-0.66450</td>\n",
       "      <td>0.29055</td>\n",
       "    </tr>\n",
       "    <tr>\n",
       "      <th>50%</th>\n",
       "      <td>0.00263</td>\n",
       "      <td>0.00315</td>\n",
       "      <td>0.00039</td>\n",
       "      <td>0.00118</td>\n",
       "      <td>0.00851</td>\n",
       "      <td>0.69563</td>\n",
       "    </tr>\n",
       "    <tr>\n",
       "      <th>75%</th>\n",
       "      <td>0.67424</td>\n",
       "      <td>0.67192</td>\n",
       "      <td>0.67740</td>\n",
       "      <td>0.67603</td>\n",
       "      <td>0.68245</td>\n",
       "      <td>1.39619</td>\n",
       "    </tr>\n",
       "    <tr>\n",
       "      <th>max</th>\n",
       "      <td>4.46661</td>\n",
       "      <td>4.22408</td>\n",
       "      <td>4.28586</td>\n",
       "      <td>4.24177</td>\n",
       "      <td>1002.53804</td>\n",
       "      <td>11.80068</td>\n",
       "    </tr>\n",
       "  </tbody>\n",
       "</table>\n",
       "</div>"
      ],
      "text/plain": [
       "                 X0            X1            X2            X3            X4  \\\n",
       "count  100000.00000  100000.00000  100000.00000  100000.00000  100000.00000   \n",
       "mean       -0.00020       0.00235       0.00161       0.00196       1.00745   \n",
       "std         0.99711       0.99915       1.00225       1.00057      31.61742   \n",
       "min        -4.69459      -4.85212      -4.24712      -4.44663      -5.00230   \n",
       "25%        -0.67891      -0.66917      -0.67574      -0.67561      -0.66450   \n",
       "50%         0.00263       0.00315       0.00039       0.00118       0.00851   \n",
       "75%         0.67424       0.67192       0.67740       0.67603       0.68245   \n",
       "max         4.46661       4.22408       4.28586       4.24177    1002.53804   \n",
       "\n",
       "                 X5  \n",
       "count  100000.00000  \n",
       "mean        1.00622  \n",
       "std         1.00696  \n",
       "min         0.00000  \n",
       "25%         0.29055  \n",
       "50%         0.69563  \n",
       "75%         1.39619  \n",
       "max        11.80068  "
      ]
     },
     "execution_count": 62,
     "metadata": {},
     "output_type": "execute_result"
    }
   ],
   "source": [
    "df.describe().round(5)"
   ]
  },
  {
   "cell_type": "markdown",
   "id": "thrown-realtor",
   "metadata": {},
   "source": [
    "For feature X4 the minimum, the median, and the 25th and 75th percentile are very similar to those of features X0 to X3. However the mean, standard deviation, and maximum are different.\n",
    "\n",
    "*Comment: Accounting for the fact that we added 1000 to the last 100 samples the shift of the maximum was to be expected. But observe how these 100 samples have also influenced the mean and, in particular, the standard deviation (31.6 instead of ~1). We highlight this because this will have a significant impact on the outliers detected for X4 with the z-score method below.*\n",
    "\n",
    "Finally for feature X5, we have a mean and std of 1 and the median is around two thirds between the minimum and the mean. Moreover, the minimum is 1 std away from the mean while the maximum is almost 11 std away from the mean. This suggests the data is right-skewed, i.e a longer tail on the right. We will need to take a closer look."
   ]
  },
  {
   "cell_type": "code",
   "execution_count": 64,
   "id": "northern-paintball",
   "metadata": {},
   "outputs": [
    {
     "data": {
      "image/png": "[encoded data removed]",
      "text/plain": [
       "<Figure size 1080x432 with 6 Axes>"
      ]
     },
     "metadata": {
      "needs_background": "light"
     },
     "output_type": "display_data"
    }
   ],
   "source": [
    "fig, axes = plt.subplots(\n",
    "    2, 3, gridspec_kw={\"height_ratios\": (0.7, 0.3)}, figsize=(15, 6)\n",
    ")\n",
    "\n",
    "for (feat, plot_col) in zip(\n",
    "    [\"X0\", \"X4\", \"X5\"], [0, 1, 2]  # pairing feature with column in plot\n",
    "):\n",
    "    axes[0, plot_col].hist(df[feat], bins=50)\n",
    "    axes[0, plot_col].set_title(\"Histogram and boxplot for {}\".format(feat))\n",
    "    sns.despine(ax=axes[0, plot_col])\n",
    "    sns.boxplot(df[feat], ax=axes[1, plot_col], fliersize=2)\n",
    "    axes[1, plot_col].set(yticks=[])\n",
    "    sns.despine(ax=axes[1, plot_col], left=True)\n",
    "\n",
    "for ax in axes.flatten():\n",
    "    ax.set_xlabel(\"\")\n",
    "\n",
    "plt.show()"
   ]
  },
  {
   "cell_type": "code",
   "execution_count": null,
   "id": "loose-nomination",
   "metadata": {},
   "outputs": [],
   "source": []
  }
 ],
 "metadata": {
  "kernelspec": {
   "display_name": "Python 3",
   "language": "python",
   "name": "python3"
  },
  "language_info": {
   "codemirror_mode": {
    "name": "ipython",
    "version": 3
   },
   "file_extension": ".py",
   "mimetype": "text/x-python",
   "name": "python",
   "nbconvert_exporter": "python",
   "pygments_lexer": "ipython3",
   "version": "3.6.12"
  }
 },
 "nbformat": 4,
 "nbformat_minor": 5
}
