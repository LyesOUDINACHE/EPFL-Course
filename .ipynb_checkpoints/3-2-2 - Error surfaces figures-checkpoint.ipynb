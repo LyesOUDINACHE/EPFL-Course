{
 "cells": [
  {
   "cell_type": "markdown",
   "metadata": {},
   "source": [
    "Optional material\n",
    "---\n",
    "\n",
    "Code to plot the error surfaces from the unit"
   ]
  },
  {
   "cell_type": "code",
   "execution_count": null,
   "metadata": {},
   "outputs": [],
   "source": [
    "import numpy as np\n",
    "\n",
    "# Cost functions\n",
    "def MSE(y, y_pred):\n",
    "    return np.mean(np.square(y-y_pred))\n",
    "\n",
    "def MAE(y, y_pred):\n",
    "    return np.mean(np.abs(y-y_pred))"
   ]
  },
  {
   "cell_type": "code",
   "execution_count": null,
   "metadata": {},
   "outputs": [],
   "source": [
    "%matplotlib inline\n",
    "import matplotlib.pyplot as plt\n",
    "from mpl_toolkits.mplot3d import Axes3D\n",
    "\n",
    "N = 200\n",
    "def plot_error_surface(cost_f, points, cost_label):\n",
    "    # Create x-, y-axes corresponding to the a, b parameters\n",
    "    x, y = points[:, 0], points[:, 1]\n",
    "    a_axis = np.linspace(-10, 10, num=N)\n",
    "    b_axis = np.linspace(-10, 10, num=N)\n",
    "    \n",
    "    # Create grid of NxN points on those axes\n",
    "    a_grid, b_grid = np.meshgrid(a_axis, b_axis)\n",
    "\n",
    "    # Compute their loss values for the set of data points\n",
    "    cost_values = np.zeros(shape=(N, N), dtype=np.float)\n",
    "    for idx_a in range(N):\n",
    "        for idx_b in range(N):\n",
    "            # Extract a, b values\n",
    "            a, b = a_grid[idx_a, idx_b], b_grid[idx_a, idx_b]\n",
    "            \n",
    "            # Make predictions\n",
    "            y_hat = a*x+b\n",
    "            \n",
    "            # Get loss value\n",
    "            cost_values[idx_a, idx_b] = cost_f(y, y_hat)\n",
    "\n",
    "    # Plot 3d surface\n",
    "    plt.figure(figsize=(9, 7.5))\n",
    "    ax = plt.gca(projection='3d')\n",
    "    ax.set_xlabel('parameter a')\n",
    "    ax.set_ylabel('parameter b')\n",
    "    ax.set_zlabel(cost_label)\n",
    "    surface = ax.plot_surface(a_grid, b_grid, cost_values, cmap=plt.cm.coolwarm)\n",
    "    plt.show()\n",
    "\n",
    "    # 2d error surface\n",
    "    plt.contourf(a_grid, b_grid, cost_values, 20, cmap=plt.cm.coolwarm)\n",
    "    plt.colorbar(label=cost_label)\n",
    "    plt.gca().set_aspect('equal', adjustable='box')\n",
    "    plt.xlabel('parameter a')\n",
    "    plt.ylabel('parameter b')\n",
    "    plt.show()"
   ]
  },
  {
   "cell_type": "code",
   "execution_count": null,
   "metadata": {},
   "outputs": [],
   "source": [
    "# Define a set of data points\n",
    "points = np.array([[1, 2], [0, 1], [-1.5, 0]])"
   ]
  },
  {
   "cell_type": "code",
   "execution_count": null,
   "metadata": {},
   "outputs": [],
   "source": [
    "# MAE\n",
    "plot_error_surface(MAE, points, 'MAE value')"
   ]
  },
  {
   "cell_type": "code",
   "execution_count": null,
   "metadata": {},
   "outputs": [],
   "source": [
    "# MSE\n",
    "plot_error_surface(MSE, points, 'MSE value')"
   ]
  }
 ],
 "metadata": {
  "kernelspec": {
   "display_name": "Python 3",
   "language": "python",
   "name": "python3"
  },
  "language_info": {
   "codemirror_mode": {
    "name": "ipython",
    "version": 3
   },
   "file_extension": ".py",
   "mimetype": "text/x-python",
   "name": "python",
   "nbconvert_exporter": "python",
   "pygments_lexer": "ipython3",
   "version": "3.6.7"
  }
 },
 "nbformat": 4,
 "nbformat_minor": 2
}
