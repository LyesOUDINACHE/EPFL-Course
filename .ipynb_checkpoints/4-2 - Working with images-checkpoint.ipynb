{
 "cells": [
  {
   "cell_type": "markdown",
   "id": "8879da2e",
   "metadata": {},
   "source": [
    "# Working with images\n",
    "\n",
    "In this unit, we will see how to load images into Numpy arrays using the Pillow library. In particular, we will see how to work with grayscale and RGB images. We prepared a sample image for each case.\n",
    "\n",
    "* mnist-img.png - a grayscale image of a handwritten nine.\n",
    "* cifar-img.png - a color image of a horse.\n",
    "\n",
    "You can download both images from the resource section. Let's start with the grayscale one.\n",
    "\n",
    "### Grayscale image\n",
    "\n",
    "In the next exercise, you will build a k-NN classifier for the **MNIST database** which is a set of 60 thousand grayscale images of handwritten digits. The images have been preprocessed, and digits have approximately the same size, position, orientation, and a uniform white background. Here are some images from the data set.\n",
    "\n",
    "We will now see how to load and plot the mnist-img.png image which is a handwritten nine taken from this data set. To achieve this, we will use the **Pillow (PIL) library.** Note that there are alternative ways (ex. the imread() function from Matplotlib or Scipy) but many depend on the PIL library internally.\n",
    "\n",
    "The Pillow library implements an open() function in its Image module. Let's use it to load our image into a pillow_img variable"
   ]
  },
  {
   "cell_type": "code",
   "execution_count": 1,
   "id": "22c2c734",
   "metadata": {},
   "outputs": [
    {
     "name": "stdout",
     "output_type": "stream",
     "text": [
      "Type: <class 'PIL.PngImagePlugin.PngImageFile'>\n"
     ]
    }
   ],
   "source": [
    "from PIL import Image\n",
    "\n",
    "# Load the image using PIL\n",
    "pillow_img = Image.open('mnist-img.png')\n",
    "\n",
    "# Print its type\n",
    "print('Type:', type(pillow_img))"
   ]
  },
  {
   "cell_type": "markdown",
   "id": "47dabe76",
   "metadata": {},
   "source": [
    "In this code, we load the image into a pillow_img variable and print its type. As we can see, it's a PngImageFile object. We cannot use this object in our machine learning tasks directly, but we can easily convert it into a Numpy array with the np.array() function"
   ]
  },
  {
   "cell_type": "code",
   "execution_count": 2,
   "id": "d7632b26",
   "metadata": {},
   "outputs": [
    {
     "name": "stdout",
     "output_type": "stream",
     "text": [
      "Type: <class 'numpy.ndarray'>\n"
     ]
    }
   ],
   "source": [
    "import numpy as np\n",
    "\n",
    "# Load it into a Numpy array\n",
    "img = np.array(pillow_img)\n",
    "\n",
    "# Print its type\n",
    "print('Type:', type(img))"
   ]
  },
  {
   "cell_type": "code",
   "execution_count": 4,
   "id": "51af9042",
   "metadata": {},
   "outputs": [
    {
     "name": "stdout",
     "output_type": "stream",
     "text": [
      "shape: (28, 28)\n",
      "min: 0 max: 255\n",
      "dtype: uint8\n"
     ]
    }
   ],
   "source": [
    "print('shape:', img.shape)\n",
    "print('min:', img.min(), 'max:', img.max())\n",
    "print('dtype:', img.dtype)"
   ]
  },
  {
   "cell_type": "markdown",
   "id": "12aae0b5",
   "metadata": {},
   "source": [
    "As we can see, it's a 2-dimensional array of shape 28 by 28. In fact, each value in this array corresponds to a pixel in the image and values range between 0 and 255. For this reason, its data type is uint8 since 8 bits (or one byte) are sufficient to store this range of values - each bit can take 2 values: 0 or 1, so 8 bits can take 2*2*2*2*2*2*2*2=2^8=256 values ex. from 0 to 255.\n",
    "\n",
    "We can now plot the image using the imshow() function from Matplotlib"
   ]
  },
  {
   "cell_type": "code",
   "execution_count": 5,
   "id": "5a2708b8",
   "metadata": {},
   "outputs": [
    {
     "data": {
      "image/png": "[encoded data removed]",
      "text/plain": [
       "<Figure size 432x288 with 1 Axes>"
      ]
     },
     "metadata": {
      "needs_background": "light"
     },
     "output_type": "display_data"
    }
   ],
   "source": [
    "%matplotlib inline\n",
    "import matplotlib.pyplot as plt\n",
    "\n",
    "# Plot the image\n",
    "plt.imshow(img)\n",
    "plt.show()"
   ]
  },
  {
   "cell_type": "code",
   "execution_count": 6,
   "id": "52c31d83",
   "metadata": {},
   "outputs": [
    {
     "data": {
      "image/png": "[encoded data removed]",
      "text/plain": [
       "<Figure size 432x288 with 1 Axes>"
      ]
     },
     "metadata": {
      "needs_background": "light"
     },
     "output_type": "display_data"
    }
   ],
   "source": [
    "plt.imshow(img, cmap=plt.cm.gray)\n",
    "plt.show()"
   ]
  },
  {
   "cell_type": "code",
   "execution_count": 7,
   "id": "7cb274ca",
   "metadata": {},
   "outputs": [
    {
     "data": {
      "image/png": "[encoded data removed]",
      "text/plain": [
       "<Figure size 432x288 with 1 Axes>"
      ]
     },
     "metadata": {
      "needs_background": "light"
     },
     "output_type": "display_data"
    }
   ],
   "source": [
    "plt.imshow(img, cmap=plt.cm.gray_r)\n",
    "plt.show()"
   ]
  },
  {
   "cell_type": "markdown",
   "id": "4bc17cde",
   "metadata": {},
   "source": [
    "Note that the y-axis is reversed in the plot - the origin at (0,0) is in the top left corner instead of the bottom left one. This is because we are plotting a 2-dimensional Numpy array. Hence, we shouldn't think in terms of x- and y-axis but rather in terms of row and column positions. Here's the image from above, but with the indexes that correspond to the Numpy array.\n",
    "\n",
    "### Color images\n",
    "In the next subject, we will build an image classifier for the CIFAR-10 database which contains 32 by 32 color images. The number 10 in the name corresponds to the number of categories. For instance, we will classify images of cars, ships, horses, airplanes. Here are some images from the data set.\n",
    "\n"
   ]
  },
  {
   "cell_type": "code",
   "execution_count": 8,
   "id": "059605ad",
   "metadata": {},
   "outputs": [],
   "source": [
    "# Load the image using PIL\n",
    "pillow_img = Image.open('cifar-img.png')\n",
    "\n",
    "# Convert into Numpy array\n",
    "img = np.array(pillow_img)"
   ]
  },
  {
   "cell_type": "code",
   "execution_count": 9,
   "id": "7b8e1f41",
   "metadata": {},
   "outputs": [
    {
     "name": "stdout",
     "output_type": "stream",
     "text": [
      "shape: (32, 32, 3)\n",
      "dtype: uint8\n"
     ]
    }
   ],
   "source": [
    "print('shape:', img.shape)\n",
    "print('dtype:', img.dtype)"
   ]
  },
  {
   "cell_type": "markdown",
   "id": "2233d192",
   "metadata": {},
   "source": [
    "The only difference with grayscale images is the shape of the array which is now 3-dimensional with three values in the last dimension. This is because the image uses the RGB color model which associates pixels with three values that correspond to the red, green and blue color channels. There are other possible representations used in image analysis such as the HLS one, but we will only work with RGB images in this course.\n",
    "\n",
    "It's interesting to note that the color channels correspond to the last dimension of the img array. Later in this course, **we will learn about deep learning, and we will use the TensorFlow library which also uses this (height, width, channels) convention.**\n",
    "\n",
    "Let's plot the image using imshow(). This time, we don't need to use a colormap. The function automatically uses the RGB model when we pass a 3-dimensional array with three channels."
   ]
  },
  {
   "cell_type": "code",
   "execution_count": 10,
   "id": "d1576c7b",
   "metadata": {},
   "outputs": [
    {
     "data": {
      "image/png": "[encoded data removed]",
      "text/plain": [
       "<Figure size 432x288 with 1 Axes>"
      ]
     },
     "metadata": {
      "needs_background": "light"
     },
     "output_type": "display_data"
    }
   ],
   "source": [
    "plt.imshow(img)\n",
    "plt.show()"
   ]
  },
  {
   "cell_type": "code",
   "execution_count": 11,
   "id": "f47188f6",
   "metadata": {},
   "outputs": [
    {
     "data": {
      "image/png": "[encoded data removed]",
      "text/plain": [
       "<Figure size 432x288 with 1 Axes>"
      ]
     },
     "metadata": {
      "needs_background": "light"
     },
     "output_type": "display_data"
    },
    {
     "data": {
      "image/png": "[encoded data removed]",
      "text/plain": [
       "<Figure size 432x288 with 1 Axes>"
      ]
     },
     "metadata": {
      "needs_background": "light"
     },
     "output_type": "display_data"
    },
    {
     "data": {
      "image/png": "[encoded data removed]",
      "text/plain": [
       "<Figure size 432x288 with 1 Axes>"
      ]
     },
     "metadata": {
      "needs_background": "light"
     },
     "output_type": "display_data"
    }
   ],
   "source": [
    "# Plot the Red channel\n",
    "red_channel = img[:,:,0] # First channel in RGB\n",
    "plt.imshow(red_channel, cmap=plt.cm.Reds) # Reds colormap\n",
    "plt.show()\n",
    "\n",
    "# Plot the Green channel\n",
    "green_channel = img[:,:,1] # Second channel in RGB\n",
    "plt.imshow(green_channel, cmap=plt.cm.Greens) # Greens colormap\n",
    "plt.show()\n",
    "\n",
    "# Plot the Blue channel\n",
    "blue_channel = img[:,:,2] # Third channel in RGB\n",
    "plt.imshow(blue_channel, cmap=plt.cm.Blues) # Blues colormap\n",
    "plt.show()"
   ]
  },
  {
   "cell_type": "markdown",
   "id": "1c0d10d2",
   "metadata": {},
   "source": [
    "This code is also a nice way to visualize the 3-dimensional img array. You can think of it as three 32 by 32 grids stacked on top of each other. In this visualization, img[16, 1, 2] denotes the pixel at (16, 1) in the third grid which corresponds to the horse nostrils in the blue channel."
   ]
  },
  {
   "cell_type": "markdown",
   "id": "341fa82c",
   "metadata": {},
   "source": [
    "### Summary\n",
    "In this unit, we saw how to load images into Numpy arrays using the open() function from PIL, and how to plot them using the imshow() one from Pyplot. In particular, we saw that\n",
    "\n",
    "* Grayscale images correspond to 2-dimensional (height, width) arrays of white intensity values\n",
    "* Color images correspond to 3-dimensional (height, width, channels) arrays\n",
    "* Pixel values vary between 0 and 255 and we store them with the uint8 data type\n",
    "\n",
    "In the next unit, we will see how to convert these arrays of pixels into a set of features that we can use in our machine learning algorithms."
   ]
  },
  {
   "cell_type": "markdown",
   "id": "499b5c97",
   "metadata": {},
   "source": [
    "# Feature matrix for images\n",
    "\n",
    "In the last unit, we saw how to load images into 2- and 3-dimensional arrays of pixels. Intuitively, we want to use them as the features in our machine learning tasks. However, the algorithms that we saw so far are not designed to work on arrays of features.\n",
    "\n",
    "In this unit, we will understand why and we will see what the alternatives are. We will work with five images from the CIFAR-10 data set. You can download them from the resource section.\n",
    "\n",
    "### High-level features\n",
    "\n",
    "So far, we saw machine learning algorithms that work **with sets of features** i.e. the features **have no structure or order**. Hence, we cannot change their accuracy by shuffling the columns in the feature matrix X. However, **working with images is more difficult because there is a spatial relationship between the pixels** of an image. The location of each pixel in the (height, width) grid is essential, and it would be difficult to recognize an image after shuffling its pixels.\n",
    "\n",
    "One solution is to extract a set of high-level features from the images and use them as the inputs to our machine learning algorithms. For instance, later in this course, **we will learn about convolution neural networks (CNN) which automatically extract them**. Here are a few examples of high-level features.\n",
    "\n",
    "* Are there rounded objects in the image?\n",
    "* Type of environment? e.g., indoor, outdoor, sea, forest, clearing\n",
    "* Presence of specific objects such as wings, wheels, eyes, legs\n",
    "\n",
    "In this subject and the next one, we will work on the raw pixels directly, i.e., not with high-level features. But later in this course, we will try to improve our classifiers using these neural network algorithms.\n",
    "\n",
    "### Create feature matrix\n",
    "\n",
    "Let's see how to transform our 2- and 3-dimensional arrays of pixels into an input matrix X that we can use in our machine learning tasks. We will start by loading the first image from the cifar-images.zip archive.\n",
    "\n",
    "We can use the code from the previous unit."
   ]
  },
  {
   "cell_type": "code",
   "execution_count": 12,
   "id": "d7ec73a5",
   "metadata": {},
   "outputs": [
    {
     "name": "stdout",
     "output_type": "stream",
     "text": [
      "Shape: (32, 32, 3)\n"
     ]
    }
   ],
   "source": [
    "from PIL import Image\n",
    "import numpy as np\n",
    "\n",
    "# Load the image\n",
    "pillow_img = Image.open('cifar-1.png')\n",
    "\n",
    "# Convert it into a Numpy array\n",
    "img = np.array(pillow_img)\n",
    "\n",
    "# Print shape\n",
    "print('Shape:', img.shape)"
   ]
  },
  {
   "cell_type": "markdown",
   "id": "eec07b3d",
   "metadata": {},
   "source": [
    "We load the image using the open() function and convert it into a Numpy array of shape (32, 32, 3), i.e., a 32 by 32 image with three color channels. **Again, we cannot work on this array directly, but we can flatten it into a vector of 32*32*3=3072 values.**"
   ]
  },
  {
   "cell_type": "code",
   "execution_count": 14,
   "id": "eca64717",
   "metadata": {},
   "outputs": [
    {
     "name": "stdout",
     "output_type": "stream",
     "text": [
      "Shape: (3072,)\n"
     ]
    }
   ],
   "source": [
    "# Flatten the array\n",
    "flat_img = img.flatten()\n",
    "\n",
    "# Print shape\n",
    "print('Shape:', flat_img.shape)"
   ]
  },
  {
   "cell_type": "markdown",
   "id": "3bf9a816",
   "metadata": {},
   "source": [
    "In this code, **the flatten() function reads each value from the img 3-dimensional array and stores them into a 1-dimensional vector. It follows a well-defined order when reading the array**. Hence, the pixels are still ordered, but in a single dimension. Later in this unit, we will see how to **recover the original image using the Numpy reshape() function.**\n",
    "\n",
    "The idea is to flatten all images from our data set and use these vectors of pixels as the rows of the input matrix X."
   ]
  },
  {
   "cell_type": "code",
   "execution_count": 15,
   "id": "84513011",
   "metadata": {},
   "outputs": [],
   "source": [
    "# Five images from the CIFAR-10 data set\n",
    "files = [\n",
    "    'cifar-1.png',\n",
    "    'cifar-2.png',\n",
    "    'cifar-3.png',\n",
    "    'cifar-4.png',\n",
    "    'cifar-5.png'\n",
    "]\n",
    "\n",
    "# Feature matrix\n",
    "features = []\n",
    "\n",
    "for file in files:\n",
    "    # Load the image\n",
    "    pillow_img = Image.open(file)\n",
    "\n",
    "    # Convert it into a Numpy array\n",
    "    img = np.array(pillow_img)\n",
    "\n",
    "    # Flatten the array\n",
    "    flat_img = img.flatten()\n",
    "\n",
    "    # Add it to the feature matrix\n",
    "    features.append(flat_img)"
   ]
  },
  {
   "cell_type": "code",
   "execution_count": 21,
   "id": "699d79be",
   "metadata": {},
   "outputs": [
    {
     "data": {
      "text/plain": [
       "[array([170, 180, 198, ...,  73,  77,  80], dtype=uint8),\n",
       " array([159, 102, 101, ..., 182,  57,  19], dtype=uint8),\n",
       " array([ 28,  35,  39, ..., 101, 140,  96], dtype=uint8),\n",
       " array([134, 186, 223, ...,  32,  94, 138], dtype=uint8),\n",
       " array([164, 206,  84, ..., 122, 170,  44], dtype=uint8)]"
      ]
     },
     "execution_count": 21,
     "metadata": {},
     "output_type": "execute_result"
    }
   ],
   "source": [
    "features"
   ]
  },
  {
   "cell_type": "code",
   "execution_count": 19,
   "id": "23321ca6",
   "metadata": {},
   "outputs": [
    {
     "name": "stdout",
     "output_type": "stream",
     "text": [
      "shape: (5, 3072)\n",
      "dtype: uint8\n"
     ]
    }
   ],
   "source": [
    "# Create input matrix\n",
    "X = np.array(features)\n",
    "\n",
    "# Print shape\n",
    "print('shape:', X.shape)\n",
    "\n",
    "# Print data type\n",
    "print('dtype:', X.dtype)"
   ]
  },
  {
   "cell_type": "markdown",
   "id": "77291753",
   "metadata": {},
   "source": [
    "We now have a feature matrix X containing our five images. However, its data type (uint8) can cause issues with some Scikit-learn objects that work with floating point numbers. For instance, the StandardScaler object raises a DataConversionWarning when applying standardization."
   ]
  },
  {
   "cell_type": "code",
   "execution_count": 22,
   "id": "d1aa510d",
   "metadata": {},
   "outputs": [
    {
     "name": "stderr",
     "output_type": "stream",
     "text": [
      "C:\\Users\\lyeso\\anaconda3\\envs\\exts-ml\\lib\\site-packages\\sklearn\\utils\\validation.py:595: DataConversionWarning: Data with input dtype uint8 was converted to float64 by StandardScaler.\n",
      "  warnings.warn(msg, DataConversionWarning)\n",
      "C:\\Users\\lyeso\\anaconda3\\envs\\exts-ml\\lib\\site-packages\\sklearn\\utils\\validation.py:595: DataConversionWarning: Data with input dtype uint8 was converted to float64 by StandardScaler.\n",
      "  warnings.warn(msg, DataConversionWarning)\n"
     ]
    },
    {
     "data": {
      "text/plain": [
       "array([[ 0.73671505,  0.59622324,  0.98559361, ..., -0.57902805,\n",
       "        -0.73675288,  0.11136219],\n",
       "       [ 0.52892363, -0.62119594, -0.39995103, ...,  1.59731875,\n",
       "        -1.21829071, -1.36539731],\n",
       "       [-1.94568335, -1.66692779, -1.28555688, ..., -0.01996648,\n",
       "         0.78009128,  0.49870895],\n",
       "       [ 0.05667039,  0.68987087,  1.34269274, ..., -1.39765391,\n",
       "        -0.32744572,  1.51549418],\n",
       "       [ 0.62337428,  1.00202963, -0.64277844, ...,  0.39932969,\n",
       "         1.50239803, -0.76016801]])"
      ]
     },
     "execution_count": 22,
     "metadata": {},
     "output_type": "execute_result"
    }
   ],
   "source": [
    "from sklearn.preprocessing import StandardScaler\n",
    "\n",
    "StandardScaler().fit_transform(X)"
   ]
  },
  {
   "cell_type": "markdown",
   "id": "fe2f7d3b",
   "metadata": {},
   "source": [
    "Scikit-learn simply tells us that the data in X was converted to type float since standardization resulted in floating point numbers. **To avoid this warning, we can convert our input matrix using the astype() function.**"
   ]
  },
  {
   "cell_type": "code",
   "execution_count": 23,
   "id": "342d6192",
   "metadata": {},
   "outputs": [
    {
     "name": "stdout",
     "output_type": "stream",
     "text": [
      "dtype: float64\n"
     ]
    }
   ],
   "source": [
    "# Convert to float\n",
    "X = X.astype(np.float)\n",
    "\n",
    "# Print the new data type\n",
    "print('dtype:', X.dtype)"
   ]
  },
  {
   "cell_type": "markdown",
   "id": "d0a53b59",
   "metadata": {},
   "source": [
    " X has five rows and 3,072 columns. Since each value takes 8 bytes (64 bits), we will need (5 x 3,072 x 8) = 122,880 bytes to store X. You can verify that using the Numpy nbytes attribute.\n",
    " \n",
    " It's always interesting to track the amount of memory. For large data sets, you might want to decrease the precision of your values by changing the data type, e.g., from float64 to float16."
   ]
  },
  {
   "cell_type": "markdown",
   "id": "62179681",
   "metadata": {},
   "source": [
    "### Plot images from feature matrix\n",
    "Many data sets (e.g., MNIST, CIFAR-10) provide the set of images as a feature matrix X where rows correspond to the \"flat\" vectors of pixels from above. In this case, we need to convert these rows back into 2- or 3-dimensional arrays to plot the images. Let's see how to do that. We will try to recover the third image from our data set.\n",
    "\n",
    "First, we need to extract the flat vector of pixels."
   ]
  },
  {
   "cell_type": "code",
   "execution_count": 25,
   "id": "6221e9d6",
   "metadata": {},
   "outputs": [
    {
     "name": "stdout",
     "output_type": "stream",
     "text": [
      "shape: (3072,)\n"
     ]
    }
   ],
   "source": [
    "# Extract the third image\n",
    "flat_img = X[2, :] # third row\n",
    "\n",
    "print('shape:', flat_img.shape)"
   ]
  },
  {
   "cell_type": "markdown",
   "id": "bc23ac20",
   "metadata": {},
   "source": [
    "We can now reshape this flat_img vector into a 3-dimensional array using the reshape() function. You can think of it as the inverse of the flatten() operation."
   ]
  },
  {
   "cell_type": "code",
   "execution_count": 27,
   "id": "a759bb5c",
   "metadata": {},
   "outputs": [
    {
     "name": "stdout",
     "output_type": "stream",
     "text": [
      "shape: (32, 32, 3)\n"
     ]
    }
   ],
   "source": [
    "# Reshape the image\n",
    "img = flat_img.reshape(32, 32, 3)\n",
    "\n",
    "# Print shape\n",
    "print('shape:', img.shape)"
   ]
  },
  {
   "cell_type": "code",
   "execution_count": 28,
   "id": "7b69f427",
   "metadata": {},
   "outputs": [
    {
     "name": "stderr",
     "output_type": "stream",
     "text": [
      "Clipping input data to the valid range for imshow with RGB data ([0..1] for floats or [0..255] for integers).\n"
     ]
    },
    {
     "data": {
      "image/png": "[encoded data removed]",
      "text/plain": [
       "<Figure size 432x288 with 1 Axes>"
      ]
     },
     "metadata": {
      "needs_background": "light"
     },
     "output_type": "display_data"
    }
   ],
   "source": [
    "%matplotlib inline\n",
    "import matplotlib.pyplot as plt\n",
    "\n",
    "# Plot the image\n",
    "plt.imshow(img)\n",
    "plt.show()"
   ]
  },
  {
   "cell_type": "markdown",
   "id": "1d63b6b5",
   "metadata": {},
   "source": [
    "The imshow() function expects arrays with values between 0 and 255 when the data type is uint8, but values between 0 and 1 when they are floating point numbers, so we get a warning saying that Pyplot is clipping the input data into a valid range and we get a white image\n",
    "\n",
    "To solve the issue, we can simply divide the pixel values by 255 to normalize them between 0 and 1 or change the data type to integer np.int (or np.uint8)"
   ]
  },
  {
   "cell_type": "code",
   "execution_count": 29,
   "id": "04cee1dd",
   "metadata": {},
   "outputs": [
    {
     "data": {
      "image/png": "[encoded data removed]",
      "text/plain": [
       "<Figure size 432x288 with 1 Axes>"
      ]
     },
     "metadata": {
      "needs_background": "light"
     },
     "output_type": "display_data"
    }
   ],
   "source": [
    "# Plot the rescaled image\n",
    "plt.imshow(img/255)\n",
    "plt.show()"
   ]
  },
  {
   "cell_type": "code",
   "execution_count": 30,
   "id": "8d60b2a0",
   "metadata": {},
   "outputs": [
    {
     "data": {
      "image/png": "[encoded data removed]",
      "text/plain": [
       "<Figure size 432x288 with 1 Axes>"
      ]
     },
     "metadata": {
      "needs_background": "light"
     },
     "output_type": "display_data"
    }
   ],
   "source": [
    "# Plot image\n",
    "plt.imshow(img.astype(np.uint8))\n",
    "plt.show()"
   ]
  },
  {
   "cell_type": "markdown",
   "id": "761aaa69",
   "metadata": {},
   "source": [
    "### Summary\n",
    "\n",
    "In this unit, we saw that there are three different ways to work with images in our machine learning tasks\n",
    "\n",
    "* Using specific algorithms ex. convolutional neural networks (CNNs)\n",
    "* Extract high-level features and use them as inputs to our machine learning algorithms\n",
    "* Flatten images into sets of pixels\n",
    "\n",
    "**In the next exercise, we will start with the third approach and build a k-NN classifier** for the MNIST data set. In this case, we will get reasonable results because the images are standardized i.e. digits are centered, same background, size, orientation. **But we will see in the next unit that this approach fails to recognize more complex sets of images** like CIFAR-10.\n",
    "\n",
    "We **won't work with a set of .png images directly but rather with the feature matrix X** which can be quite large since it stores the pixels of each image. In the next unit, we will see how to load/store such arrays using the **Pickle .p and the Numpy .npy and .npz formats.**"
   ]
  },
  {
   "cell_type": "markdown",
   "id": "8656cb8e",
   "metadata": {},
   "source": [
    "# Pickle and Numpy formats\n",
    "\n",
    "So far, we used **data sets stored in .csv files**. Working with this format has many advantages. It's well supported by many data analysis software like **Pandas and Excel**, and it's a text format which means that we can easily edit them with a text editor. However, **they are limited to tabular data, and they are not particularly optimized to work with large arrays of values.**\n",
    "\n",
    "In this unit, we will see how to **store/load Python objects and Numpy arrays using the Pickle .p and the Numpy .npy and .npz binary formats.**\n",
    "\n",
    "### Create Pickle files\n",
    "\n",
    "A Pickle file is a very convenient way to store some data in Python. This format works with many Python objects and data structures, and it's cross-platform which means that we can use these files across different platforms ex. Windows, macOS, Linux.\n",
    "\n",
    "Let's take an example. We will start by storing a simple dictionary with two lists."
   ]
  },
  {
   "cell_type": "code",
   "execution_count": 31,
   "id": "3daef8a1",
   "metadata": {},
   "outputs": [],
   "source": [
    "# Sample dictionary with two lists\n",
    "data = {\n",
    "    'x': [6.28318, 2.71828, 1],\n",
    "    'y': [2, 3, 5]\n",
    "}"
   ]
  },
  {
   "cell_type": "code",
   "execution_count": 32,
   "id": "11d24311",
   "metadata": {},
   "outputs": [],
   "source": [
    "import pickle"
   ]
  },
  {
   "cell_type": "markdown",
   "id": "684da770",
   "metadata": {},
   "source": [
    "We can then use the Pickle $dump()$ function to store the data variable into a Pickle .p file. \n",
    "\n",
    "But first, we need to create it using the Python open() function. Pickle files are binary, i.e., they are not text files. For this reason, **we need to use the wb flags** (writing and binary mode)."
   ]
  },
  {
   "cell_type": "code",
   "execution_count": 33,
   "id": "4bddaafd",
   "metadata": {},
   "outputs": [],
   "source": [
    "# Save the dictionary into a pickle file\n",
    "with open('data.p', 'wb') as file:\n",
    "    pickle.dump(data, file)"
   ]
  },
  {
   "cell_type": "markdown",
   "id": "401ddaa1",
   "metadata": {},
   "source": [
    "As you can see, the first argument of the dump() function is the variable that we want to save. The second argument is the file object. Note that we use a with statement to manage the file resource automatically. You can take a look at this great StackOverflow answer and this article to learn more about them. (https://stackoverflow.com/a/11783672/3890306)\n",
    "\n",
    "It's important to understand that Pickle is a **binary format**. We can take a look at the content of the data.p file by typing the xxd -b data.p command in a terminal.\n",
    "\n",
    "The command returns an eight-column representation of the data.p file. The first one is a count of the number of bytes and indicates how far we are from the start of the file. The next six columns show its binary content by groups of eight bits (also known as bytes) and the last column is the text representation of each byte.\n",
    "\n",
    "As you can see, unlike CSV files, **we cannot open data.p with a text editor** and edit the text representation of the Python dictionary directly. **To modify its content, we need to open, edit and save the changes using Python code**. Let's see how to do that.\n",
    "\n",
    "\n",
    "### Edit Pickle files\n",
    "\n",
    "The Pickle library implements a load() function to read the content of a Pickle file. Let's use it to read our data.p file."
   ]
  },
  {
   "cell_type": "code",
   "execution_count": 34,
   "id": "6f20e756",
   "metadata": {},
   "outputs": [
    {
     "name": "stdout",
     "output_type": "stream",
     "text": [
      "{'x': [6.28318, 2.71828, 1], 'y': [2, 3, 5]}\n"
     ]
    }
   ],
   "source": [
    "# Load the pickle file\n",
    "with open('data.p', 'rb') as file:\n",
    "    data = pickle.load(file)\n",
    "\n",
    "# Print data\n",
    "print(data)"
   ]
  },
  {
   "cell_type": "markdown",
   "id": "69f18510",
   "metadata": {},
   "source": [
    "This time, we are **reading and not writing the file**. Hence, we need to pass the **rb flags to the open() function** (reading and binary mode)."
   ]
  },
  {
   "cell_type": "markdown",
   "id": "5a854480",
   "metadata": {},
   "source": [
    "We can now edit the dictionary using Python code and store the modified version with another dump() instruction."
   ]
  },
  {
   "cell_type": "code",
   "execution_count": 35,
   "id": "09581d54",
   "metadata": {},
   "outputs": [],
   "source": [
    "# Add a new element to each list\n",
    "data['x'].append(0)\n",
    "data['y'].append(7)\n",
    "\n",
    "# Save our modifications\n",
    "with open('data.p', 'wb') as file:\n",
    "    pickle.dump(data, file)"
   ]
  },
  {
   "cell_type": "markdown",
   "id": "09085a53",
   "metadata": {},
   "source": [
    "In practice, **Pickle files are often used to store machine learning data sets**. In a typical scenario, we have a train.p and a test.p file. Both contain a dictionary with the array of features, the target values and optionally some meta information such as the names of the categories for classification tasks.\n",
    "\n",
    "**Pickle files are very convenient** since they work with a large number of Python objects. However, it's possible to store and execute arbitrary (and potentially malicious) code with them. For this reason, you should always verify the integrity of your Pickle files before loading them.\n",
    "\n",
    "**We will now see another way to store our data sets using the Numpy .npy and .npz formats which are specifically designed to store potentially large Numpy arrays.**"
   ]
  },
  {
   "cell_type": "markdown",
   "id": "9c35c6f4",
   "metadata": {},
   "source": [
    "### Numpy npy files\n",
    "\n",
    "Numpy implements a .npy binary format. It has two main advantages.\n",
    "\n",
    "1. Unlike Pickle files, it doesn't duplicate the data in memory before loading or saving the file which is very convenient for large data sets.\n",
    "2. It implements memory-mapping which allows reading small parts of a large data set without loading the entire file into memory.\n",
    "\n",
    "For these reasons, it's the recommended way to store Numpy arrays. Let's take an example. This time, we will save a Numpy array with three values of type float16."
   ]
  },
  {
   "cell_type": "code",
   "execution_count": 36,
   "id": "899a237d",
   "metadata": {},
   "outputs": [],
   "source": [
    "import numpy as np\n",
    "\n",
    "# Create the Numpy array\n",
    "data = np.array([6.28318, 2.71828, 1], dtype=np.float16)"
   ]
  },
  {
   "cell_type": "markdown",
   "id": "753363ec",
   "metadata": {},
   "source": [
    "We can now store this array using the Numpy save() function. **Unlike the Pickle dump() one, we don't need to open the file beforehand with open()**. Numpy will automatically create and manage the file object for us."
   ]
  },
  {
   "cell_type": "code",
   "execution_count": 37,
   "id": "eb1fd801",
   "metadata": {},
   "outputs": [],
   "source": [
    "# Save it into a .npy file\n",
    "np.save('data.npy', data)"
   ]
  },
  {
   "cell_type": "code",
   "execution_count": 38,
   "id": "1d65b9a6",
   "metadata": {},
   "outputs": [
    {
     "data": {
      "text/plain": [
       "array([6.28 , 2.719, 1.   ], dtype=float16)"
      ]
     },
     "execution_count": 38,
     "metadata": {},
     "output_type": "execute_result"
    }
   ],
   "source": [
    "# Read it\n",
    "np.load('data.npy')"
   ]
  },
  {
   "cell_type": "markdown",
   "id": "273adac0",
   "metadata": {},
   "source": [
    "**The .npy format is made to store Numpy arrays**, but it's also possible to use the save() function to store other data structures such as dictionaries."
   ]
  },
  {
   "cell_type": "code",
   "execution_count": 48,
   "id": "09d64652",
   "metadata": {},
   "outputs": [
    {
     "data": {
      "text/plain": [
       "array({'x': array([6.28 , 2.719, 1.   ], dtype=float16), 'y': array([2, 3, 5])},\n",
       "      dtype=object)"
      ]
     },
     "execution_count": 48,
     "metadata": {},
     "output_type": "execute_result"
    }
   ],
   "source": [
    "# Create a dictionary\n",
    "data = {\n",
    "    'x': np.array([6.28318, 2.71828, 1], dtype=np.float16),\n",
    "    'y': np.array([2, 3, 5])\n",
    "}\n",
    "''' test '''\n",
    "\n",
    "\n",
    "# Save it into a .npy file\n",
    "np.save('data.npy', data)\n",
    "\n",
    "# Read it\n",
    "np.load('data.npy')\n",
    "\n",
    "\n",
    "    #Note: Numpy wraps the dictionary in an array of\n",
    "    #type `object` and uses pickle to save that object\n"
   ]
  },
  {
   "cell_type": "markdown",
   "id": "3272acb0",
   "metadata": {},
   "source": [
    "In this case, **Numpy wraps the data dictionary in a Numpy array with the object data type and saves its content using Pickle**. In other words, the file has the .npy extension but contains a Pickle object.\n",
    "\n",
    "It's possible to **restrict Numpy and explicitly disallow Pickle** (e.g., for security reasons) with the allow_pickle argument."
   ]
  },
  {
   "cell_type": "code",
   "execution_count": 49,
   "id": "d7ee5c89",
   "metadata": {},
   "outputs": [
    {
     "name": "stdout",
     "output_type": "stream",
     "text": [
      "Object arrays cannot be loaded when allow_pickle=False\n"
     ]
    }
   ],
   "source": [
    "try:\n",
    "    np.load('data.npy', allow_pickle=False)\n",
    "except Exception as e:\n",
    "    print(e)"
   ]
  },
  {
   "cell_type": "markdown",
   "id": "0c2b2f13",
   "metadata": {},
   "source": [
    "This code raises an error because the data.npy file contains a Pickle object.\n",
    "\n",
    "In our machine learning tasks, we usually want to work with a single file that contains both the array of features and the array of target values. We will now see how to do that without using the \"array of objects\" trick from above."
   ]
  },
  {
   "cell_type": "markdown",
   "id": "bdac6752",
   "metadata": {},
   "source": [
    "### The Numpy npz format\n",
    "\n",
    "It's possible to store multiple arrays using the Numpy .npz format. Let's take an example. Say that we want to save the x and y arrays from above into a single file."
   ]
  },
  {
   "cell_type": "code",
   "execution_count": 50,
   "id": "d74446a6",
   "metadata": {},
   "outputs": [],
   "source": [
    "# Create two Numpy arrays\n",
    "x = np.array([6.28318, 2.71828, 1], dtype=np.float16)\n",
    "y = np.array([2, 3, 5])"
   ]
  },
  {
   "cell_type": "markdown",
   "id": "1e31aecc",
   "metadata": {},
   "source": [
    "To achieve this, we need to use the savez() function. In our case, we will pass the two arrays as arguments, but you can use it to save any number of arrays."
   ]
  },
  {
   "cell_type": "code",
   "execution_count": 51,
   "id": "4b13e55a",
   "metadata": {},
   "outputs": [],
   "source": [
    "# Save them into a .npz file\n",
    "np.savez('data.npz', features=x, targets=y)"
   ]
  },
  {
   "cell_type": "markdown",
   "id": "cfcf96df",
   "metadata": {},
   "source": [
    "Note that we need to label each array. We chose to use the names features and targets, but you can try with other labels. We use these labels to refer to each array when loading the data.npz file with the load() function."
   ]
  },
  {
   "cell_type": "code",
   "execution_count": null,
   "id": "955a3d93",
   "metadata": {},
   "outputs": [],
   "source": [
    "# Load the npz file\n",
    "with np.load('data.npz', allow_pickle=False) as npz_file:\n",
    "    # It's a dictionary-like object\n",
    "    print(list(npz_file.keys())) # ['features', 'targets']\n",
    "\n",
    "    # Load the arrays\n",
    "    print('x:', npz_file['features']) # [6.28, 2.719, 1.]\n",
    "    print('y:', npz_file['targets']) # [2, 3, 5]"
   ]
  }
 ],
 "metadata": {
  "kernelspec": {
   "display_name": "Python 3",
   "language": "python",
   "name": "python3"
  },
  "language_info": {
   "codemirror_mode": {
    "name": "ipython",
    "version": 3
   },
   "file_extension": ".py",
   "mimetype": "text/x-python",
   "name": "python",
   "nbconvert_exporter": "python",
   "pygments_lexer": "ipython3",
   "version": "3.6.13"
  }
 },
 "nbformat": 4,
 "nbformat_minor": 5
}
