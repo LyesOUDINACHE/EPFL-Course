{
 "cells": [
  {
   "cell_type": "markdown",
   "metadata": {},
   "source": [
    "CIFAR-10 classification with k-NN\n",
    "---\n",
    "\n",
    "> **Exercise**: Load the data from the `cifar10-6k.npz` file into X/y arrays. The data type of the input matrix `X` should be `float64`. Split it into train (5,000 images) and test (1,000) sets using the `train_test_split()` function. Set the `random_state` to zero. "
   ]
  },
  {
   "cell_type": "code",
   "execution_count": 3,
   "metadata": {},
   "outputs": [
    {
     "name": "stdout",
     "output_type": "stream",
     "text": [
      "Data loaded\n",
      "It is a dictionary with keys: ['data', 'labels', 'names']\n"
     ]
    }
   ],
   "source": [
    "import numpy as np\n",
    "import os\n",
    "\n",
    "# Load the .npz file\n",
    "with np.load(os.path.join('cifar10-6k.npz'), allow_pickle=False) as data:\n",
    "    cifar10_data = dict(data.items())\n",
    "    \n",
    "print('Data loaded')\n",
    "print('It is a dictionary with keys:', list(cifar10_data.keys()))"
   ]
  },
  {
   "cell_type": "code",
   "execution_count": 4,
   "metadata": {},
   "outputs": [
    {
     "name": "stdout",
     "output_type": "stream",
     "text": [
      "X: (6000, 3072) uint8\n",
      "y: (6000,) int32\n",
      "names: ['airplane' 'automobile' 'bird' 'cat' 'deer' 'dog' 'frog' 'horse' 'ship'\n",
      " 'truck']\n"
     ]
    }
   ],
   "source": [
    "# Create X/y arrays\n",
    "X = cifar10_data['data']\n",
    "y = cifar10_data['labels']\n",
    "names = cifar10_data['names']\n",
    "\n",
    "print('X:', X.shape, X.dtype)\n",
    "print('y:', y.shape, y.dtype)\n",
    "print('names:', names)"
   ]
  },
  {
   "cell_type": "code",
   "execution_count": 5,
   "metadata": {},
   "outputs": [],
   "source": [
    "from sklearn.model_selection import train_test_split\n",
    "\n",
    "# Convert the type of the input matrix to float\n",
    "X = X.astype(np.float)\n",
    "\n",
    "# Split data into train/test sets\n",
    "X_tr, X_te, y_tr, y_te = train_test_split(\n",
    "    X, y, train_size=5000, test_size=1000, random_state=0)"
   ]
  },
  {
   "cell_type": "markdown",
   "metadata": {},
   "source": [
    "Solution: Data exploration\n",
    "---\n",
    "\n",
    "The ten categories are numerically encoded with digits between 0 and 9.\n",
    "\n",
    "| digit | category   | digit | category   |\n",
    "|-------|------------|-------|------------|\n",
    "| 0     | airplane   | 5     | dog        |\n",
    "| 1     | automobile | 6     | frog       |\n",
    "| 2     | bird       | 7     | horse      |\n",
    "| 3     | cat        | 8     | ship       |\n",
    "| 4     | deer       | 9     | truck      |\n",
    "\n",
    "> **Exercise**: What is the proportion of images in each category? Plot a few images from the data set."
   ]
  },
  {
   "cell_type": "code",
   "execution_count": 6,
   "metadata": {},
   "outputs": [
    {
     "data": {
      "text/plain": [
       "8    0.103333\n",
       "2    0.103167\n",
       "6    0.102667\n",
       "9    0.102167\n",
       "4    0.101833\n",
       "0    0.101667\n",
       "7    0.099500\n",
       "5    0.097167\n",
       "3    0.096667\n",
       "1    0.091833\n",
       "dtype: float64"
      ]
     },
     "execution_count": 6,
     "metadata": {},
     "output_type": "execute_result"
    }
   ],
   "source": [
    "import pandas as pd\n",
    "\n",
    "# Image distribution\n",
    "pd.value_counts(y, normalize=True)"
   ]
  },
  {
   "cell_type": "code",
   "execution_count": 7,
   "metadata": {},
   "outputs": [
    {
     "name": "stdout",
     "output_type": "stream",
     "text": [
      "Label: 5 (dog)\n"
     ]
    },
    {
     "data": {
      "image/png": "[encoded data removed]",
      "text/plain": [
       "<Figure size 144x144 with 1 Axes>"
      ]
     },
     "metadata": {
      "needs_background": "light"
     },
     "output_type": "display_data"
    },
    {
     "name": "stdout",
     "output_type": "stream",
     "text": [
      "Label: 3 (cat)\n"
     ]
    },
    {
     "data": {
      "image/png": "[encoded data removed]",
      "text/plain": [
       "<Figure size 144x144 with 1 Axes>"
      ]
     },
     "metadata": {
      "needs_background": "light"
     },
     "output_type": "display_data"
    },
    {
     "name": "stdout",
     "output_type": "stream",
     "text": [
      "Label: 6 (frog)\n"
     ]
    },
    {
     "data": {
      "image/png": "[encoded data removed]",
      "text/plain": [
       "<Figure size 144x144 with 1 Axes>"
      ]
     },
     "metadata": {
      "needs_background": "light"
     },
     "output_type": "display_data"
    }
   ],
   "source": [
    "%matplotlib inline\n",
    "import matplotlib.pyplot as plt\n",
    "\n",
    "# Function to plot the i-th image from some X/y arrays\n",
    "def show_image(idx, X, y):\n",
    "    # Print its label\n",
    "    label = y[idx]\n",
    "    print('Label: {} ({})'.format(\n",
    "        label,\n",
    "        names[label] # Class name\n",
    "    ))\n",
    "    \n",
    "    # Get image pixels\n",
    "    flat_img = X[idx] # has shape (3072,)\n",
    "    \n",
    "    # Reshape the \"flat vector\" into a 32x32x3 array \n",
    "    img = flat_img.reshape(32, 32, 3)\n",
    "    \n",
    "    # The imshow() function expects pixel values\n",
    "    # between 0 and 1 when the data type is float.\n",
    "    img = img/255 # Rescale [0,255] values to [0,1]\n",
    "    \n",
    "    # Plot the image\n",
    "    plt.figure(figsize=(2,2)) # 2 by 2 figure (in inches)\n",
    "    plt.imshow(img)\n",
    "    plt.axis('off') # Hide the x- and y-axis\n",
    "    plt.show()\n",
    "    \n",
    "# Show the first images from the training set\n",
    "show_image(0, X_tr, y_tr)\n",
    "show_image(1, X_tr, y_tr)\n",
    "show_image(2, X_tr, y_tr)"
   ]
  },
  {
   "cell_type": "markdown",
   "metadata": {},
   "source": [
    "Solution: Fit a *k*-NN classifier\n",
    "---\n",
    "\n",
    "> **Exercise**: Create a *k*-NN classifer and tune it using grid search for the following hyperparameters.\n",
    "> 1. The number of neighbors: define a set of reasonable values\n",
    "> 1. The weighting function: \"uniform\" or \"distance\"\n",
    "> 1. The distance metric: L1 or L2"
   ]
  },
  {
   "cell_type": "code",
   "execution_count": 8,
   "metadata": {},
   "outputs": [],
   "source": [
    "from sklearn.neighbors import KNeighborsClassifier\n",
    "from sklearn.pipeline import Pipeline\n",
    "from sklearn.preprocessing import StandardScaler\n",
    "\n",
    "# Create k-NN classifier\n",
    "pipe = Pipeline([\n",
    "    #('scaler', StandardScaler()), # With standardization\n",
    "    ('scaler', None), # Better performance without standardization!\n",
    "    ('knn', KNeighborsClassifier(\n",
    "        algorithm='brute', # Brute-force search\n",
    "        n_jobs=-1 # As many parallel jobs as possible\n",
    "    ))\n",
    "])"
   ]
  },
  {
   "cell_type": "code",
   "execution_count": 9,
   "metadata": {},
   "outputs": [
    {
     "name": "stdout",
     "output_type": "stream",
     "text": [
      "Number of combinations: 12\n"
     ]
    }
   ],
   "source": [
    "from sklearn.model_selection import ParameterGrid\n",
    "\n",
    "# A first grid of parameters - start with a few k values\n",
    "grid = ParameterGrid({\n",
    "    'knn__n_neighbors': [10, 20, 30], # k\n",
    "    'knn__weights': ['uniform', 'distance'], # Weighting function\n",
    "    'knn__p': [1, 2], # L1 and L2 distance metrics\n",
    "})\n",
    "\n",
    "# Print the number of combinations\n",
    "print('Number of combinations:', len(grid))"
   ]
  },
  {
   "cell_type": "code",
   "execution_count": 10,
   "metadata": {},
   "outputs": [
    {
     "name": "stdout",
     "output_type": "stream",
     "text": [
      "Combination 1/12\n",
      "Combination 2/12\n",
      "Combination 3/12\n",
      "Combination 4/12\n",
      "Combination 5/12\n",
      "Combination 6/12\n",
      "Combination 7/12\n",
      "Combination 8/12\n",
      "Combination 9/12\n",
      "Combination 10/12\n",
      "Combination 11/12\n",
      "Combination 12/12\n",
      "done\n"
     ]
    }
   ],
   "source": [
    "# Save accuracy on test set\n",
    "test_scores = []\n",
    "\n",
    "# Enumerate combinations starting from 1\n",
    "for i, params_dict in enumerate(grid, 1):\n",
    "    # Print progress\n",
    "    print('Combination {}/{}'.format(\n",
    "        i, len(grid) # Total number of combinations\n",
    "    ))\n",
    "    \n",
    "    # Set parameters\n",
    "    pipe.set_params(**params_dict)\n",
    "\n",
    "    # Fit a k-NN classifier\n",
    "    pipe.fit(X_tr, y_tr)\n",
    "\n",
    "    # Save accuracy on test set\n",
    "    params_dict['accuracy'] = pipe.score(X_te, y_te)\n",
    "\n",
    "    # Save result\n",
    "    test_scores.append(params_dict)\n",
    "\n",
    "print('done')"
   ]
  },
  {
   "cell_type": "code",
   "execution_count": 11,
   "metadata": {},
   "outputs": [
    {
     "data": {
      "text/html": [
       "<div>\n",
       "<style scoped>\n",
       "    .dataframe tbody tr th:only-of-type {\n",
       "        vertical-align: middle;\n",
       "    }\n",
       "\n",
       "    .dataframe tbody tr th {\n",
       "        vertical-align: top;\n",
       "    }\n",
       "\n",
       "    .dataframe thead th {\n",
       "        text-align: right;\n",
       "    }\n",
       "</style>\n",
       "<table border=\"1\" class=\"dataframe\">\n",
       "  <thead>\n",
       "    <tr style=\"text-align: right;\">\n",
       "      <th></th>\n",
       "      <th>accuracy</th>\n",
       "      <th>knn__n_neighbors</th>\n",
       "      <th>knn__p</th>\n",
       "      <th>knn__weights</th>\n",
       "    </tr>\n",
       "  </thead>\n",
       "  <tbody>\n",
       "    <tr>\n",
       "      <th>1</th>\n",
       "      <td>0.338</td>\n",
       "      <td>10</td>\n",
       "      <td>1</td>\n",
       "      <td>distance</td>\n",
       "    </tr>\n",
       "    <tr>\n",
       "      <th>0</th>\n",
       "      <td>0.320</td>\n",
       "      <td>10</td>\n",
       "      <td>1</td>\n",
       "      <td>uniform</td>\n",
       "    </tr>\n",
       "    <tr>\n",
       "      <th>9</th>\n",
       "      <td>0.319</td>\n",
       "      <td>30</td>\n",
       "      <td>1</td>\n",
       "      <td>distance</td>\n",
       "    </tr>\n",
       "    <tr>\n",
       "      <th>5</th>\n",
       "      <td>0.318</td>\n",
       "      <td>20</td>\n",
       "      <td>1</td>\n",
       "      <td>distance</td>\n",
       "    </tr>\n",
       "    <tr>\n",
       "      <th>8</th>\n",
       "      <td>0.310</td>\n",
       "      <td>30</td>\n",
       "      <td>1</td>\n",
       "      <td>uniform</td>\n",
       "    </tr>\n",
       "    <tr>\n",
       "      <th>4</th>\n",
       "      <td>0.307</td>\n",
       "      <td>20</td>\n",
       "      <td>1</td>\n",
       "      <td>uniform</td>\n",
       "    </tr>\n",
       "    <tr>\n",
       "      <th>3</th>\n",
       "      <td>0.304</td>\n",
       "      <td>10</td>\n",
       "      <td>2</td>\n",
       "      <td>distance</td>\n",
       "    </tr>\n",
       "    <tr>\n",
       "      <th>11</th>\n",
       "      <td>0.303</td>\n",
       "      <td>30</td>\n",
       "      <td>2</td>\n",
       "      <td>distance</td>\n",
       "    </tr>\n",
       "    <tr>\n",
       "      <th>10</th>\n",
       "      <td>0.301</td>\n",
       "      <td>30</td>\n",
       "      <td>2</td>\n",
       "      <td>uniform</td>\n",
       "    </tr>\n",
       "    <tr>\n",
       "      <th>7</th>\n",
       "      <td>0.292</td>\n",
       "      <td>20</td>\n",
       "      <td>2</td>\n",
       "      <td>distance</td>\n",
       "    </tr>\n",
       "    <tr>\n",
       "      <th>2</th>\n",
       "      <td>0.290</td>\n",
       "      <td>10</td>\n",
       "      <td>2</td>\n",
       "      <td>uniform</td>\n",
       "    </tr>\n",
       "    <tr>\n",
       "      <th>6</th>\n",
       "      <td>0.287</td>\n",
       "      <td>20</td>\n",
       "      <td>2</td>\n",
       "      <td>uniform</td>\n",
       "    </tr>\n",
       "  </tbody>\n",
       "</table>\n",
       "</div>"
      ],
      "text/plain": [
       "    accuracy  knn__n_neighbors  knn__p knn__weights\n",
       "1      0.338                10       1     distance\n",
       "0      0.320                10       1      uniform\n",
       "9      0.319                30       1     distance\n",
       "5      0.318                20       1     distance\n",
       "8      0.310                30       1      uniform\n",
       "4      0.307                20       1      uniform\n",
       "3      0.304                10       2     distance\n",
       "11     0.303                30       2     distance\n",
       "10     0.301                30       2      uniform\n",
       "7      0.292                20       2     distance\n",
       "2      0.290                10       2      uniform\n",
       "6      0.287                20       2      uniform"
      ]
     },
     "execution_count": 11,
     "metadata": {},
     "output_type": "execute_result"
    }
   ],
   "source": [
    "# Create DataFrame with test scores\n",
    "scores_df = pd.DataFrame(test_scores)\n",
    "\n",
    "# Print scores\n",
    "scores_df.sort_values(by='accuracy', ascending=False)"
   ]
  },
  {
   "cell_type": "code",
   "execution_count": 12,
   "metadata": {},
   "outputs": [
    {
     "name": "stdout",
     "output_type": "stream",
     "text": [
      "Combination 1/5\n",
      "Combination 2/5\n",
      "Combination 3/5\n",
      "Combination 4/5\n",
      "Combination 5/5\n",
      "done\n"
     ]
    }
   ],
   "source": [
    "# Refine our search\n",
    "pipe = Pipeline([\n",
    "    ('scaler', None), # Again, without standardization\n",
    "    ('knn', KNeighborsClassifier(\n",
    "        algorithm='brute', # Brute-force search\n",
    "        p=1, # L1 distance seems better than L2\n",
    "        weights='distance', # Distance function seems better than uniform\n",
    "        n_jobs=-1 # As many parallel jobs as possible\n",
    "    ))\n",
    "])\n",
    "\n",
    "# Refine the grid\n",
    "grid = ParameterGrid({\n",
    "    'knn__n_neighbors': [1, 5, 10, 15, 20] # Best k seems around 10\n",
    "})\n",
    "\n",
    "# Grid search\n",
    "test_scores = []\n",
    "\n",
    "for i, params_dict in enumerate(grid, 1):\n",
    "    # Print progress\n",
    "    print('Combination {}/{}'.format(\n",
    "        i, len(grid) # Total number of combinations\n",
    "    ))\n",
    "    \n",
    "    # Set parameters\n",
    "    pipe.set_params(**params_dict)\n",
    "\n",
    "    # Fit a k-NN classifier\n",
    "    pipe.fit(X_tr, y_tr)\n",
    "\n",
    "    # Save accuracy on test set\n",
    "    params_dict['accuracy'] = pipe.score(X_te, y_te)\n",
    "\n",
    "    # Save result\n",
    "    test_scores.append(params_dict)\n",
    "\n",
    "print('done')"
   ]
  },
  {
   "cell_type": "code",
   "execution_count": 13,
   "metadata": {},
   "outputs": [
    {
     "data": {
      "text/html": [
       "<div>\n",
       "<style scoped>\n",
       "    .dataframe tbody tr th:only-of-type {\n",
       "        vertical-align: middle;\n",
       "    }\n",
       "\n",
       "    .dataframe tbody tr th {\n",
       "        vertical-align: top;\n",
       "    }\n",
       "\n",
       "    .dataframe thead th {\n",
       "        text-align: right;\n",
       "    }\n",
       "</style>\n",
       "<table border=\"1\" class=\"dataframe\">\n",
       "  <thead>\n",
       "    <tr style=\"text-align: right;\">\n",
       "      <th></th>\n",
       "      <th>accuracy</th>\n",
       "      <th>knn__n_neighbors</th>\n",
       "    </tr>\n",
       "  </thead>\n",
       "  <tbody>\n",
       "    <tr>\n",
       "      <th>2</th>\n",
       "      <td>0.338</td>\n",
       "      <td>10</td>\n",
       "    </tr>\n",
       "    <tr>\n",
       "      <th>3</th>\n",
       "      <td>0.328</td>\n",
       "      <td>15</td>\n",
       "    </tr>\n",
       "    <tr>\n",
       "      <th>1</th>\n",
       "      <td>0.321</td>\n",
       "      <td>5</td>\n",
       "    </tr>\n",
       "    <tr>\n",
       "      <th>4</th>\n",
       "      <td>0.318</td>\n",
       "      <td>20</td>\n",
       "    </tr>\n",
       "    <tr>\n",
       "      <th>0</th>\n",
       "      <td>0.301</td>\n",
       "      <td>1</td>\n",
       "    </tr>\n",
       "  </tbody>\n",
       "</table>\n",
       "</div>"
      ],
      "text/plain": [
       "   accuracy  knn__n_neighbors\n",
       "2     0.338                10\n",
       "3     0.328                15\n",
       "1     0.321                 5\n",
       "4     0.318                20\n",
       "0     0.301                 1"
      ]
     },
     "execution_count": 13,
     "metadata": {},
     "output_type": "execute_result"
    }
   ],
   "source": [
    "# Create DataFrame with scores\n",
    "pd.DataFrame(test_scores).sort_values(by='accuracy', ascending=False)"
   ]
  },
  {
   "cell_type": "code",
   "execution_count": null,
   "metadata": {},
   "outputs": [],
   "source": []
  }
 ],
 "metadata": {
  "kernelspec": {
   "display_name": "Python 3",
   "language": "python",
   "name": "python3"
  },
  "language_info": {
   "codemirror_mode": {
    "name": "ipython",
    "version": 3
   },
   "file_extension": ".py",
   "mimetype": "text/x-python",
   "name": "python",
   "nbconvert_exporter": "python",
   "pygments_lexer": "ipython3",
   "version": "3.6.13"
  }
 },
 "nbformat": 4,
 "nbformat_minor": 4
}
