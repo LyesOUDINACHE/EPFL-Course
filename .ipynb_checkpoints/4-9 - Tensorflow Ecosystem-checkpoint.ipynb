{
 "cells": [
  {
   "cell_type": "markdown",
   "id": "5c4c844d",
   "metadata": {},
   "source": [
    "# Keras API\n",
    "\n",
    "So far, we worked directly on the **computational graphs with the low-level APIs.** TensorFlow relies on those graphs internally and it's a good idea to always think in terms of nodes, operations, graphs, and sessions. However, we don't always need to work with those concepts directly and can leverage higher-level APIs that simplify the design and training process.\n",
    "\n",
    "In this unit, we present **the Keras API which is now the recommended TensorFlow official high-level interface.**"
   ]
  },
  {
   "cell_type": "markdown",
   "id": "5684f17e",
   "metadata": {},
   "source": [
    "### Keras model\n",
    "\n",
    "Keras functionalities can be found under the tf.keras module. In this unit, we will mainly work with the objects from its layers submodule and assemble them in a Sequential model"
   ]
  },
  {
   "cell_type": "code",
   "execution_count": 1,
   "id": "55513580",
   "metadata": {},
   "outputs": [
    {
     "name": "stderr",
     "output_type": "stream",
     "text": [
      "C:\\Users\\lyeso\\anaconda3\\envs\\exts-ml\\lib\\site-packages\\h5py\\__init__.py:36: FutureWarning: Conversion of the second argument of issubdtype from `float` to `np.floating` is deprecated. In future, it will be treated as `np.float64 == np.dtype(float).type`.\n",
      "  from ._conv import register_converters as _register_converters\n"
     ]
    }
   ],
   "source": [
    "import os\n",
    "os.environ[\"CUDA_VISIBLE_DEVICES\"]= \"-1\"\n",
    "import tensorflow as tf\n",
    "from tensorflow.keras import Sequential\n",
    "from tensorflow.keras.layers import Dense"
   ]
  },
  {
   "cell_type": "code",
   "execution_count": 2,
   "id": "ec3735fb",
   "metadata": {},
   "outputs": [
    {
     "name": "stdout",
     "output_type": "stream",
     "text": [
      "_________________________________________________________________\n",
      "Layer (type)                 Output Shape              Param #   \n",
      "=================================================================\n",
      "dense (Dense)                (None, 16)                12560     \n",
      "_________________________________________________________________\n",
      "dense_1 (Dense)              (None, 10)                170       \n",
      "=================================================================\n",
      "Total params: 12,730\n",
      "Trainable params: 12,730\n",
      "Non-trainable params: 0\n",
      "_________________________________________________________________\n"
     ]
    }
   ],
   "source": [
    "model = Sequential()\n",
    "model.add(Dense(16, activation='relu', input_dim=28*28))\n",
    "model.add(Dense(10, activation='softmax'))\n",
    "model.summary()"
   ]
  },
  {
   "cell_type": "markdown",
   "id": "ec0ebf29",
   "metadata": {},
   "source": [
    "In this code, we first create the Sequential model and add each layer object. In our case, we create Dense layers by specifying the number of units, the activation function and the input dimensions i.e. a flat vector with 28x28=784 values. Finally, we print a summary of our network that displays the different layers and their number of parameters. As we can see, most of them are in the hidden layer with 12,560 parameters i.e. 784x16=12,544 weights and 16 bias values.\n",
    "\n",
    "> **Note**: When we use TensorFlow's low-level interface, we set the last layer activation to None and then use the softmax_cross_entropy_with_logits loss function which computes the class probability distribution (softmax) and the loss value (cross-entropy) in one operation to avoid potential numerical issues. You can read more about this in this article https://blog.feedly.com/tricks-of-the-trade-logsumexp/. Keras handles this internally, and we don't have to combine them into one operation: we can set the output layer activation to softmax and then use the cross-entropy loss function when defining the optimizer. One important difference is that our network will output the class probability distribution directly instead of the class scores (logits).\n",
    "\n",
    "By default, **Keras initializes the weights with the variance scaling technique that we have seen in the last subject.** However, we can also manually specify the initializers."
   ]
  },
  {
   "cell_type": "code",
   "execution_count": 3,
   "id": "0068eab8",
   "metadata": {},
   "outputs": [
    {
     "name": "stdout",
     "output_type": "stream",
     "text": [
      "_________________________________________________________________\n",
      "Layer (type)                 Output Shape              Param #   \n",
      "=================================================================\n",
      "dense_2 (Dense)              (None, 16)                12560     \n",
      "_________________________________________________________________\n",
      "dense_3 (Dense)              (None, 10)                170       \n",
      "=================================================================\n",
      "Total params: 12,730\n",
      "Trainable params: 12,730\n",
      "Non-trainable params: 0\n",
      "_________________________________________________________________\n"
     ]
    }
   ],
   "source": [
    "from tensorflow.keras import activations\n",
    "from tensorflow.keras import initializers\n",
    "\n",
    "\n",
    "# Create model\n",
    "model = Sequential()\n",
    "\n",
    "# Hidden layer\n",
    "model.add(Dense(\n",
    "    units=16, activation=activations.relu, input_dim=28*28,\n",
    "    kernel_initializer=initializers.VarianceScaling(scale=2.0, seed=0)))\n",
    "\n",
    "# Output layer\n",
    "model.add(Dense(\n",
    "    units=10, activation=activations.softmax,\n",
    "    kernel_initializer=initializers.VarianceScaling(scale=1.0, seed=0)))\n",
    "\n",
    "# Print network summary\n",
    "model.summary()"
   ]
  },
  {
   "cell_type": "markdown",
   "id": "e1077876",
   "metadata": {},
   "source": [
    "This network is equivalent to the one from above but fixes the seed number to get reproducible results.\n",
    "\n",
    "As you can see, we didn't specify a graph. Keras automatically adds the network nodes, variables, placeholders, and operations to the default graph and connects them together according to our Sequential model definition.\n",
    "\n",
    "### Loss function and training operation\n",
    "Let's now see how to define the training elements with the Keras syntax:\n"
   ]
  },
  {
   "cell_type": "code",
   "execution_count": 4,
   "id": "baceed07",
   "metadata": {},
   "outputs": [],
   "source": [
    "from tensorflow.keras import optimizers\n",
    "\n",
    "# Define loss function, optimizer and metrics to track during training\n",
    "model.compile(optimizer='sgd', loss='sparse_categorical_crossentropy', metrics=['acc'])"
   ]
  },
  {
   "cell_type": "markdown",
   "id": "c36bd3bc",
   "metadata": {},
   "source": [
    "Keras models provide a **compile() function** where we can specify the **optimizer, the loss function and the metrics to monitor.**\n",
    "\n",
    "In the code from above, we used predefined tokens such as sgd or acc which are good defaults values. Again, we can also have more control over the different parameters by manually defining the objects from the Keras modules"
   ]
  },
  {
   "cell_type": "code",
   "execution_count": 5,
   "id": "e604bd0f",
   "metadata": {},
   "outputs": [],
   "source": [
    "from tensorflow.keras import losses\n",
    "from tensorflow.keras import metrics\n",
    "\n",
    "# Define loss function, optimizer, and metrics to track during training\n",
    "model.compile(\n",
    "    optimizer='sgd', # .. or optimizers.SGD(lr=0.01)\n",
    "    loss='sparse_categorical_crossentropy', # .. or losses.sparse_categorical_crossentropy\n",
    "    metrics=['acc'] # .. or metrics.sparse_categorical_accuracy\n",
    ")"
   ]
  },
  {
   "cell_type": "markdown",
   "id": "c109da3b",
   "metadata": {},
   "source": [
    "This code is equivalent to the one from above, but we can now specify the learning rate and the other parameters of the optimizer.\n",
    "\n",
    "### Load/split data\n",
    "\n",
    "Before training our MNIST classifier, let's load and split the data. Keras already provides many data sets from its datasets module"
   ]
  },
  {
   "cell_type": "code",
   "execution_count": 6,
   "id": "e0752116",
   "metadata": {},
   "outputs": [
    {
     "name": "stdout",
     "output_type": "stream",
     "text": [
      "Train: (60000, 28, 28) (60000,)\n",
      "Test: (10000, 28, 28) (10000,)\n"
     ]
    }
   ],
   "source": [
    "from tensorflow.keras.datasets.mnist import load_data\n",
    "\n",
    "(X_train, y_train), (X_test, y_test) = load_data()\n",
    "\n",
    "print('Train:', X_train.shape, y_train.shape)\n",
    "print('Test:', X_test.shape, y_test.shape)"
   ]
  },
  {
   "cell_type": "markdown",
   "id": "f2177896",
   "metadata": {},
   "source": [
    "In this code, we use the load_data() function from its mnist module which returns 60k-10k train/test splits with the 28x28 grayscale images and the 0-9 numerical labels.\n",
    "\n",
    "Our dense network works with flat input vectors. So let's reshape and standardize the data"
   ]
  },
  {
   "cell_type": "code",
   "execution_count": 7,
   "id": "b19685b2",
   "metadata": {},
   "outputs": [
    {
     "name": "stdout",
     "output_type": "stream",
     "text": [
      "Train: (60000, 784)\n",
      "Test: (10000, 784)\n"
     ]
    }
   ],
   "source": [
    "from sklearn.preprocessing import StandardScaler\n",
    "\n",
    "# Rescale train and validation data\n",
    "scaler = StandardScaler()\n",
    "X_train_preprocessed = scaler.fit_transform(X_train.reshape([-1, 784]).astype(float))\n",
    "X_test_preprocessed = scaler.transform(X_test.reshape([-1, 784]).astype(float))\n",
    "\n",
    "print('Train:', X_train_preprocessed.shape) #\n",
    "print('Test:', X_test_preprocessed.shape) "
   ]
  },
  {
   "cell_type": "markdown",
   "id": "f07735f3",
   "metadata": {},
   "source": [
    "### Training\n",
    "So far, we manually implemented our own training loops from tf.Session objects. Keras encapsulates this process in its Model fit() function"
   ]
  },
  {
   "cell_type": "code",
   "execution_count": 8,
   "id": "373f81ca",
   "metadata": {},
   "outputs": [
    {
     "name": "stdout",
     "output_type": "stream",
     "text": [
      "Train on 48000 samples, validate on 12000 samples\n",
      "Epoch 1/50\n",
      "48000/48000 [==============================] - 1s 23us/step - loss: 0.6100 - acc: 0.8227 - val_loss: 0.3303 - val_acc: 0.9062\n",
      "Epoch 2/50\n",
      "48000/48000 [==============================] - 1s 20us/step - loss: 0.3095 - acc: 0.9108 - val_loss: 0.2733 - val_acc: 0.9237\n",
      "Epoch 3/50\n",
      "48000/48000 [==============================] - 1s 20us/step - loss: 0.2609 - acc: 0.9241 - val_loss: 0.2436 - val_acc: 0.9318\n",
      "Epoch 4/50\n",
      "48000/48000 [==============================] - 1s 19us/step - loss: 0.2342 - acc: 0.9316 - val_loss: 0.2303 - val_acc: 0.9354\n",
      "Epoch 5/50\n",
      "48000/48000 [==============================] - 1s 20us/step - loss: 0.2152 - acc: 0.9372 - val_loss: 0.2204 - val_acc: 0.9381\n",
      "Epoch 6/50\n",
      "48000/48000 [==============================] - 1s 19us/step - loss: 0.2003 - acc: 0.9415 - val_loss: 0.2137 - val_acc: 0.9395\n",
      "Epoch 7/50\n",
      "48000/48000 [==============================] - 1s 19us/step - loss: 0.1888 - acc: 0.9454 - val_loss: 0.2074 - val_acc: 0.9418\n",
      "Epoch 8/50\n",
      "48000/48000 [==============================] - 1s 19us/step - loss: 0.1793 - acc: 0.9487 - val_loss: 0.2030 - val_acc: 0.9431\n",
      "Epoch 9/50\n",
      "48000/48000 [==============================] - 1s 19us/step - loss: 0.1715 - acc: 0.9509 - val_loss: 0.1985 - val_acc: 0.9457\n",
      "Epoch 10/50\n",
      "48000/48000 [==============================] - 1s 20us/step - loss: 0.1643 - acc: 0.9531 - val_loss: 0.1967 - val_acc: 0.9457\n",
      "Epoch 11/50\n",
      "48000/48000 [==============================] - 1s 20us/step - loss: 0.1585 - acc: 0.9549 - val_loss: 0.1949 - val_acc: 0.9461\n",
      "Epoch 12/50\n",
      "48000/48000 [==============================] - 1s 20us/step - loss: 0.1533 - acc: 0.9561 - val_loss: 0.1947 - val_acc: 0.9473\n",
      "Epoch 13/50\n",
      "48000/48000 [==============================] - 1s 20us/step - loss: 0.1490 - acc: 0.9576 - val_loss: 0.1915 - val_acc: 0.9463\n",
      "Epoch 14/50\n",
      "48000/48000 [==============================] - 1s 20us/step - loss: 0.1446 - acc: 0.9591 - val_loss: 0.1912 - val_acc: 0.9470\n",
      "Epoch 15/50\n",
      "48000/48000 [==============================] - 1s 20us/step - loss: 0.1411 - acc: 0.9598 - val_loss: 0.1914 - val_acc: 0.9464\n",
      "Epoch 16/50\n",
      "48000/48000 [==============================] - 1s 20us/step - loss: 0.1380 - acc: 0.9608 - val_loss: 0.1894 - val_acc: 0.9475\n",
      "Epoch 17/50\n",
      "48000/48000 [==============================] - 1s 20us/step - loss: 0.1346 - acc: 0.9620 - val_loss: 0.1897 - val_acc: 0.9481\n",
      "Epoch 18/50\n",
      "48000/48000 [==============================] - 1s 20us/step - loss: 0.1327 - acc: 0.9627 - val_loss: 0.1891 - val_acc: 0.9487\n",
      "Epoch 19/50\n",
      "48000/48000 [==============================] - 1s 20us/step - loss: 0.1297 - acc: 0.9631 - val_loss: 0.1904 - val_acc: 0.9473\n",
      "Epoch 20/50\n",
      "48000/48000 [==============================] - 1s 24us/step - loss: 0.1268 - acc: 0.9645 - val_loss: 0.1885 - val_acc: 0.9473\n",
      "Epoch 21/50\n",
      "48000/48000 [==============================] - 1s 20us/step - loss: 0.1250 - acc: 0.9644 - val_loss: 0.1892 - val_acc: 0.9487\n",
      "Epoch 22/50\n",
      "48000/48000 [==============================] - 1s 22us/step - loss: 0.1221 - acc: 0.9657 - val_loss: 0.1907 - val_acc: 0.9477\n",
      "Epoch 23/50\n",
      "48000/48000 [==============================] - 1s 21us/step - loss: 0.1202 - acc: 0.9660 - val_loss: 0.1894 - val_acc: 0.9483\n",
      "Epoch 24/50\n",
      "48000/48000 [==============================] - 1s 21us/step - loss: 0.1183 - acc: 0.9666 - val_loss: 0.1901 - val_acc: 0.9481\n",
      "Epoch 25/50\n",
      "48000/48000 [==============================] - 1s 21us/step - loss: 0.1169 - acc: 0.9667 - val_loss: 0.1906 - val_acc: 0.9475\n",
      "Epoch 26/50\n",
      "48000/48000 [==============================] - 1s 22us/step - loss: 0.1141 - acc: 0.9679 - val_loss: 0.1908 - val_acc: 0.9470\n",
      "Epoch 27/50\n",
      "48000/48000 [==============================] - 1s 20us/step - loss: 0.1123 - acc: 0.9679 - val_loss: 0.1905 - val_acc: 0.9485\n",
      "Epoch 28/50\n",
      "48000/48000 [==============================] - 1s 20us/step - loss: 0.1114 - acc: 0.9689 - val_loss: 0.1880 - val_acc: 0.9483\n",
      "Epoch 29/50\n",
      "48000/48000 [==============================] - 1s 21us/step - loss: 0.1093 - acc: 0.9691 - val_loss: 0.1898 - val_acc: 0.9482\n",
      "Epoch 30/50\n",
      "48000/48000 [==============================] - 1s 20us/step - loss: 0.1077 - acc: 0.9700 - val_loss: 0.1914 - val_acc: 0.9465\n",
      "Epoch 31/50\n",
      "48000/48000 [==============================] - 1s 20us/step - loss: 0.1065 - acc: 0.9703 - val_loss: 0.1909 - val_acc: 0.9477\n",
      "Epoch 32/50\n",
      "48000/48000 [==============================] - 1s 20us/step - loss: 0.1053 - acc: 0.9706 - val_loss: 0.1928 - val_acc: 0.9468\n",
      "Epoch 33/50\n",
      "48000/48000 [==============================] - 1s 20us/step - loss: 0.1042 - acc: 0.9706 - val_loss: 0.1916 - val_acc: 0.9468\n",
      "Epoch 34/50\n",
      "48000/48000 [==============================] - 1s 20us/step - loss: 0.1025 - acc: 0.9716 - val_loss: 0.1931 - val_acc: 0.9471\n",
      "Epoch 35/50\n",
      "48000/48000 [==============================] - 1s 20us/step - loss: 0.1009 - acc: 0.9723 - val_loss: 0.1928 - val_acc: 0.9468\n",
      "Epoch 36/50\n",
      "48000/48000 [==============================] - 1s 20us/step - loss: 0.1001 - acc: 0.9723 - val_loss: 0.1949 - val_acc: 0.9473\n",
      "Epoch 37/50\n",
      "48000/48000 [==============================] - 1s 20us/step - loss: 0.0986 - acc: 0.9727 - val_loss: 0.1919 - val_acc: 0.9482\n",
      "Epoch 38/50\n",
      "48000/48000 [==============================] - 1s 20us/step - loss: 0.0973 - acc: 0.9731 - val_loss: 0.1961 - val_acc: 0.9466\n",
      "Epoch 39/50\n",
      "48000/48000 [==============================] - 1s 20us/step - loss: 0.0960 - acc: 0.9735 - val_loss: 0.1959 - val_acc: 0.9472\n",
      "Epoch 40/50\n",
      "48000/48000 [==============================] - 1s 20us/step - loss: 0.0952 - acc: 0.9739 - val_loss: 0.1964 - val_acc: 0.9475\n",
      "Epoch 41/50\n",
      "48000/48000 [==============================] - 1s 20us/step - loss: 0.0941 - acc: 0.9743 - val_loss: 0.1959 - val_acc: 0.9473\n",
      "Epoch 42/50\n",
      "48000/48000 [==============================] - 1s 20us/step - loss: 0.0929 - acc: 0.9742 - val_loss: 0.1962 - val_acc: 0.9484\n",
      "Epoch 43/50\n",
      "48000/48000 [==============================] - 1s 20us/step - loss: 0.0921 - acc: 0.9743 - val_loss: 0.1968 - val_acc: 0.9488\n",
      "Epoch 44/50\n",
      "48000/48000 [==============================] - 1s 20us/step - loss: 0.0919 - acc: 0.9745 - val_loss: 0.1976 - val_acc: 0.9477\n",
      "Epoch 45/50\n",
      "48000/48000 [==============================] - 1s 20us/step - loss: 0.0904 - acc: 0.9749 - val_loss: 0.1977 - val_acc: 0.9478\n",
      "Epoch 46/50\n",
      "48000/48000 [==============================] - 1s 20us/step - loss: 0.0900 - acc: 0.9752 - val_loss: 0.1982 - val_acc: 0.9483\n",
      "Epoch 47/50\n",
      "48000/48000 [==============================] - 1s 20us/step - loss: 0.0889 - acc: 0.9757 - val_loss: 0.1990 - val_acc: 0.9477\n",
      "Epoch 48/50\n",
      "48000/48000 [==============================] - 1s 20us/step - loss: 0.0881 - acc: 0.9755 - val_loss: 0.2018 - val_acc: 0.9466\n",
      "Epoch 49/50\n",
      "48000/48000 [==============================] - 1s 20us/step - loss: 0.0874 - acc: 0.9762 - val_loss: 0.1999 - val_acc: 0.9474\n",
      "Epoch 50/50\n",
      "48000/48000 [==============================] - 1s 20us/step - loss: 0.0865 - acc: 0.9766 - val_loss: 0.2000 - val_acc: 0.9482\n"
     ]
    }
   ],
   "source": [
    "# Fit model\n",
    "history = model.fit(\n",
    "    x=X_train_preprocessed, y=y_train,\n",
    "    validation_split=0.2, batch_size=32, epochs=50,\n",
    "    shuffle=True # Shuffle training samples\n",
    ")"
   ]
  },
  {
   "cell_type": "markdown",
   "id": "d1bcc02a",
   "metadata": {},
   "source": [
    "Keras prints the training/validation loss and accuracy metrics that we specified in the metrics=['acc'] argument from the compile() step.\n",
    "\n",
    "We can access those values via the history object returned by fit()"
   ]
  },
  {
   "cell_type": "code",
   "execution_count": 9,
   "id": "d04df435",
   "metadata": {},
   "outputs": [
    {
     "data": {
      "text/plain": [
       "dict_keys(['val_loss', 'val_acc', 'loss', 'acc'])"
      ]
     },
     "execution_count": 9,
     "metadata": {},
     "output_type": "execute_result"
    }
   ],
   "source": [
    "# The history object saved the scores during training\n",
    "history.history.keys()"
   ]
  },
  {
   "cell_type": "code",
   "execution_count": 10,
   "id": "662d329a",
   "metadata": {},
   "outputs": [
    {
     "data": {
      "image/png": "[encoded data removed]",
      "text/plain": [
       "<Figure size 864x288 with 2 Axes>"
      ]
     },
     "metadata": {
      "needs_background": "light"
     },
     "output_type": "display_data"
    }
   ],
   "source": [
    "%matplotlib inline\n",
    "import matplotlib.pyplot as plt\n",
    "import numpy as np\n",
    "\n",
    "# Create two plots: one for the loss value, one for the accuracy\n",
    "fig, (ax1, ax2) = plt.subplots(nrows=1, ncols=2, figsize=(12, 4))\n",
    "\n",
    "# Plot accuracy values\n",
    "ax1.plot(history.history['loss'], label='train loss')\n",
    "ax1.plot(history.history['val_loss'], label='val loss')\n",
    "ax1.set_title('Validation loss {:.3f} (mean last 3)'.format(\n",
    "    np.mean(history.history['val_loss'][-3:]) # last three values\n",
    "))\n",
    "ax1.set_xlabel('epoch')\n",
    "ax1.set_ylabel('loss value')\n",
    "ax1.legend()\n",
    "\n",
    "# Plot accuracy values\n",
    "ax2.plot(history.history['acc'], label='train acc')\n",
    "ax2.plot(history.history['val_acc'], label='val acc')\n",
    "ax2.set_title('Validation accuracy {:.3f} (mean last 3)'.format(\n",
    "    np.mean(history.history['val_acc'][-3:]) # last three values\n",
    "))\n",
    "ax2.set_xlabel('epoch')\n",
    "ax2.set_ylabel('accuracy')\n",
    "ax2.legend()\n",
    "plt.show()"
   ]
  },
  {
   "cell_type": "markdown",
   "id": "d3e3df9c",
   "metadata": {},
   "source": [
    "We can see that the **validation loss and accuracy reach a plateau after 10 epochs. The model then starts overfitting.**\n",
    "\n",
    "It's interesting to note that we didn't specify any session. Again, Keras automatically handles this object internally for us."
   ]
  },
  {
   "cell_type": "markdown",
   "id": "09df11b9",
   "metadata": {},
   "source": [
    "### Evaluate test scores"
   ]
  },
  {
   "cell_type": "code",
   "execution_count": 11,
   "id": "b3c397e7",
   "metadata": {},
   "outputs": [
    {
     "name": "stdout",
     "output_type": "stream",
     "text": [
      "10000/10000 [==============================] - 0s 10us/step\n",
      "Test loss: 0.20\n",
      "Test accuracy: 95.17%\n"
     ]
    }
   ],
   "source": [
    "(test_loss, test_accuracy) = model.evaluate(X_test_preprocessed, y_test, batch_size=32)\n",
    "\n",
    "print('Test loss: {:.2f}'.format(test_loss))\n",
    "print('Test accuracy: {:.2f}%'.format(100*test_accuracy)) "
   ]
  },
  {
   "cell_type": "markdown",
   "id": "8e0a33d3",
   "metadata": {},
   "source": [
    "In this code, we use the Model evaluate() function to evaluate the metrics on a new data set. Note that we can specify a batch size such that the evaluation is done by batches of data examples to reduce memory usage.\n",
    "\n",
    "The function returns the metrics in the same order as the metrics_names model attribute"
   ]
  },
  {
   "cell_type": "code",
   "execution_count": 12,
   "id": "48a45eb8",
   "metadata": {},
   "outputs": [
    {
     "name": "stdout",
     "output_type": "stream",
     "text": [
      "['loss', 'acc']\n"
     ]
    }
   ],
   "source": [
    "print(model.metrics_names)"
   ]
  },
  {
   "cell_type": "markdown",
   "id": "0b536c22",
   "metadata": {},
   "source": [
    "### Visualize weights\n",
    "We can extract the layers from our Sequential model with the layers attribute"
   ]
  },
  {
   "cell_type": "code",
   "execution_count": 13,
   "id": "3386d292",
   "metadata": {},
   "outputs": [
    {
     "data": {
      "text/plain": [
       "[<tensorflow.python.keras.layers.core.Dense at 0x2136dc842b0>,\n",
       " <tensorflow.python.keras.layers.core.Dense at 0x2136cf87c18>]"
      ]
     },
     "execution_count": 13,
     "metadata": {},
     "output_type": "execute_result"
    }
   ],
   "source": [
    "model.layers"
   ]
  },
  {
   "cell_type": "code",
   "execution_count": 14,
   "id": "5b2239e4",
   "metadata": {},
   "outputs": [
    {
     "data": {
      "image/png": "[encoded data removed]",
      "text/plain": [
       "<Figure size 360x360 with 16 Axes>"
      ]
     },
     "metadata": {
      "needs_background": "light"
     },
     "output_type": "display_data"
    }
   ],
   "source": [
    "# Retrieve first hidden layer\n",
    "hidden = model.layers[0]\n",
    "\n",
    "# Get weights/biases\n",
    "weights_hidden, biases_hidden = hidden.get_weights()\n",
    "\n",
    "# Create figure with 16 subplots\n",
    "fig, axes = plt.subplots(nrows=4, ncols=4, figsize=(5, 5))\n",
    "\n",
    "# Plot the weights of the 16 hidden units\n",
    "for i, axis in enumerate(axes.flatten()):\n",
    "    # Get weights of i-th hidden unit\n",
    "    weights = weights_hidden[:, i]\n",
    "\n",
    "    # Reshape into 28 by 28 array\n",
    "    weights = weights.reshape(28, 28)\n",
    "\n",
    "    # Plot weights\n",
    "    axis.set_title('unit {}'.format(i+1), size=9, pad=2)\n",
    "    axis.imshow(weights, cmap=plt.cm.gray_r) # Grayscale\n",
    "    axis.get_xaxis().set_visible(False) # Disable x-axis\n",
    "    axis.get_yaxis().set_visible(False) # Disable y-axis\n",
    "\n",
    "plt.show()"
   ]
  },
  {
   "cell_type": "markdown",
   "id": "9733e016",
   "metadata": {},
   "source": [
    "The weights look a bit noisy, adding regularization could potentially help\n",
    "\n",
    "> **Challenge** - Try with dropout by adding tf.keras.layers.Dropout(x) layers to the Sequential model. Also try with regularization by setting the kernel_regularizer=tf.keras.regularizers.l2(x) parameters from Dense layers"
   ]
  },
  {
   "cell_type": "markdown",
   "id": "efa2884f",
   "metadata": {},
   "source": [
    "### Dropout Regularization"
   ]
  },
  {
   "cell_type": "code",
   "execution_count": 15,
   "id": "a3332f0e",
   "metadata": {},
   "outputs": [],
   "source": [
    "from tensorflow.keras.layers import Dropout\n",
    "\n",
    "# Create model\n",
    "model2 = Sequential()\n",
    "\n",
    "# Hidden layer\n",
    "model2.add(Dense(\n",
    "    units=16, activation=activations.relu, input_dim=28*28,\n",
    "    kernel_initializer=initializers.VarianceScaling(scale=2.0, seed=0)))\n",
    "\n",
    "model2.add(Dropout(rate=0.2))\n",
    "\n",
    "# Output layer\n",
    "model2.add(Dense(\n",
    "    units=10, activation=activations.softmax,\n",
    "    kernel_initializer=initializers.VarianceScaling(scale=1.0, seed=0)))\n",
    "\n",
    "\n",
    "model2.compile(\n",
    "    optimizer='sgd', # .. or optimizers.SGD(lr=0.01)\n",
    "    loss='sparse_categorical_crossentropy', # .. or losses.sparse_categorical_crossentropy\n",
    "    metrics=['acc'] # .. or metrics.sparse_categorical_accuracy\n",
    ")"
   ]
  },
  {
   "cell_type": "code",
   "execution_count": 16,
   "id": "10b52818",
   "metadata": {},
   "outputs": [
    {
     "name": "stdout",
     "output_type": "stream",
     "text": [
      "Train on 48000 samples, validate on 12000 samples\n",
      "Epoch 1/50\n",
      "48000/48000 [==============================] - 1s 24us/step - loss: 0.8296 - acc: 0.7359 - val_loss: 0.3634 - val_acc: 0.8997\n",
      "Epoch 2/50\n",
      "48000/48000 [==============================] - 1s 21us/step - loss: 0.5127 - acc: 0.8411 - val_loss: 0.3018 - val_acc: 0.9164\n",
      "Epoch 3/50\n",
      "48000/48000 [==============================] - 1s 21us/step - loss: 0.4525 - acc: 0.8590 - val_loss: 0.2774 - val_acc: 0.9230\n",
      "Epoch 4/50\n",
      "48000/48000 [==============================] - 1s 21us/step - loss: 0.4213 - acc: 0.8666 - val_loss: 0.2607 - val_acc: 0.9273\n",
      "Epoch 5/50\n",
      "48000/48000 [==============================] - 1s 21us/step - loss: 0.4017 - acc: 0.8747 - val_loss: 0.2530 - val_acc: 0.9300\n",
      "Epoch 6/50\n",
      "48000/48000 [==============================] - 1s 21us/step - loss: 0.3939 - acc: 0.8764 - val_loss: 0.2483 - val_acc: 0.9328\n",
      "Epoch 7/50\n",
      "48000/48000 [==============================] - 1s 21us/step - loss: 0.3757 - acc: 0.8818 - val_loss: 0.2416 - val_acc: 0.9339\n",
      "Epoch 8/50\n",
      "48000/48000 [==============================] - 1s 21us/step - loss: 0.3711 - acc: 0.8850 - val_loss: 0.2388 - val_acc: 0.9349\n",
      "Epoch 9/50\n",
      "48000/48000 [==============================] - 1s 21us/step - loss: 0.3618 - acc: 0.8854 - val_loss: 0.2368 - val_acc: 0.9355\n",
      "Epoch 10/50\n",
      "48000/48000 [==============================] - 1s 21us/step - loss: 0.3538 - acc: 0.8883 - val_loss: 0.2329 - val_acc: 0.9367\n",
      "Epoch 11/50\n",
      "48000/48000 [==============================] - 1s 21us/step - loss: 0.3531 - acc: 0.8882 - val_loss: 0.2314 - val_acc: 0.9360\n",
      "Epoch 12/50\n",
      "48000/48000 [==============================] - 1s 21us/step - loss: 0.3398 - acc: 0.8936 - val_loss: 0.2281 - val_acc: 0.9372\n",
      "Epoch 13/50\n",
      "48000/48000 [==============================] - 1s 22us/step - loss: 0.3418 - acc: 0.8928 - val_loss: 0.2256 - val_acc: 0.9388\n",
      "Epoch 14/50\n",
      "48000/48000 [==============================] - 1s 23us/step - loss: 0.3429 - acc: 0.8912 - val_loss: 0.2238 - val_acc: 0.9391\n",
      "Epoch 15/50\n",
      "48000/48000 [==============================] - 1s 21us/step - loss: 0.3323 - acc: 0.8951 - val_loss: 0.2219 - val_acc: 0.9403\n",
      "Epoch 16/50\n",
      "48000/48000 [==============================] - 1s 21us/step - loss: 0.3332 - acc: 0.8946 - val_loss: 0.2212 - val_acc: 0.9411\n",
      "Epoch 17/50\n",
      "48000/48000 [==============================] - 1s 21us/step - loss: 0.3282 - acc: 0.8953 - val_loss: 0.2206 - val_acc: 0.9405\n",
      "Epoch 18/50\n",
      "48000/48000 [==============================] - 1s 21us/step - loss: 0.3280 - acc: 0.8961 - val_loss: 0.2186 - val_acc: 0.9413\n",
      "Epoch 19/50\n",
      "48000/48000 [==============================] - 1s 21us/step - loss: 0.3234 - acc: 0.8980 - val_loss: 0.2168 - val_acc: 0.9416\n",
      "Epoch 20/50\n",
      "48000/48000 [==============================] - 1s 21us/step - loss: 0.3196 - acc: 0.8987 - val_loss: 0.2170 - val_acc: 0.9429\n",
      "Epoch 21/50\n",
      "48000/48000 [==============================] - 1s 21us/step - loss: 0.3194 - acc: 0.8998 - val_loss: 0.2149 - val_acc: 0.9417\n",
      "Epoch 22/50\n",
      "48000/48000 [==============================] - 1s 21us/step - loss: 0.3216 - acc: 0.8971 - val_loss: 0.2143 - val_acc: 0.9417\n",
      "Epoch 23/50\n",
      "48000/48000 [==============================] - 1s 21us/step - loss: 0.3127 - acc: 0.9021 - val_loss: 0.2144 - val_acc: 0.9420\n",
      "Epoch 24/50\n",
      "48000/48000 [==============================] - 1s 21us/step - loss: 0.3161 - acc: 0.9003 - val_loss: 0.2141 - val_acc: 0.9411\n",
      "Epoch 25/50\n",
      "48000/48000 [==============================] - 1s 21us/step - loss: 0.3134 - acc: 0.9012 - val_loss: 0.2118 - val_acc: 0.9427\n",
      "Epoch 26/50\n",
      "48000/48000 [==============================] - 1s 21us/step - loss: 0.3105 - acc: 0.9011 - val_loss: 0.2142 - val_acc: 0.9417\n",
      "Epoch 27/50\n",
      "48000/48000 [==============================] - 1s 21us/step - loss: 0.3071 - acc: 0.9036 - val_loss: 0.2126 - val_acc: 0.9431\n",
      "Epoch 28/50\n",
      "48000/48000 [==============================] - 1s 21us/step - loss: 0.3063 - acc: 0.9024 - val_loss: 0.2134 - val_acc: 0.9430\n",
      "Epoch 29/50\n",
      "48000/48000 [==============================] - 1s 21us/step - loss: 0.3044 - acc: 0.9032 - val_loss: 0.2103 - val_acc: 0.9433\n",
      "Epoch 30/50\n",
      "48000/48000 [==============================] - 1s 21us/step - loss: 0.3042 - acc: 0.9040 - val_loss: 0.2108 - val_acc: 0.9436\n",
      "Epoch 31/50\n",
      "48000/48000 [==============================] - 1s 21us/step - loss: 0.3005 - acc: 0.9053 - val_loss: 0.2104 - val_acc: 0.9443\n",
      "Epoch 32/50\n",
      "48000/48000 [==============================] - 1s 21us/step - loss: 0.3025 - acc: 0.9052 - val_loss: 0.2111 - val_acc: 0.9438\n",
      "Epoch 33/50\n",
      "48000/48000 [==============================] - 1s 21us/step - loss: 0.2984 - acc: 0.9053 - val_loss: 0.2088 - val_acc: 0.9446\n",
      "Epoch 34/50\n",
      "48000/48000 [==============================] - 1s 21us/step - loss: 0.2972 - acc: 0.9053 - val_loss: 0.2088 - val_acc: 0.9443\n",
      "Epoch 35/50\n",
      "48000/48000 [==============================] - 1s 21us/step - loss: 0.2920 - acc: 0.9076 - val_loss: 0.2102 - val_acc: 0.9432\n",
      "Epoch 36/50\n",
      "48000/48000 [==============================] - 1s 21us/step - loss: 0.2993 - acc: 0.9045 - val_loss: 0.2080 - val_acc: 0.9446\n",
      "Epoch 37/50\n",
      "48000/48000 [==============================] - 1s 21us/step - loss: 0.2955 - acc: 0.9061 - val_loss: 0.2076 - val_acc: 0.9455\n",
      "Epoch 38/50\n",
      "48000/48000 [==============================] - 1s 21us/step - loss: 0.2976 - acc: 0.9054 - val_loss: 0.2086 - val_acc: 0.9453\n",
      "Epoch 39/50\n",
      "48000/48000 [==============================] - 1s 21us/step - loss: 0.2910 - acc: 0.9080 - val_loss: 0.2089 - val_acc: 0.9449\n",
      "Epoch 40/50\n",
      "48000/48000 [==============================] - 1s 21us/step - loss: 0.2918 - acc: 0.9094 - val_loss: 0.2079 - val_acc: 0.9444\n",
      "Epoch 41/50\n",
      "48000/48000 [==============================] - 1s 21us/step - loss: 0.2875 - acc: 0.9089 - val_loss: 0.2080 - val_acc: 0.9451\n",
      "Epoch 42/50\n",
      "48000/48000 [==============================] - 1s 21us/step - loss: 0.2915 - acc: 0.9087 - val_loss: 0.2087 - val_acc: 0.9457\n",
      "Epoch 43/50\n",
      "48000/48000 [==============================] - 1s 21us/step - loss: 0.2879 - acc: 0.9089 - val_loss: 0.2088 - val_acc: 0.9447\n",
      "Epoch 44/50\n",
      "48000/48000 [==============================] - 1s 21us/step - loss: 0.2875 - acc: 0.9090 - val_loss: 0.2095 - val_acc: 0.9449\n",
      "Epoch 45/50\n",
      "48000/48000 [==============================] - 1s 21us/step - loss: 0.2871 - acc: 0.9086 - val_loss: 0.2074 - val_acc: 0.9453\n",
      "Epoch 46/50\n",
      "48000/48000 [==============================] - 1s 21us/step - loss: 0.2826 - acc: 0.9099 - val_loss: 0.2050 - val_acc: 0.9458\n",
      "Epoch 47/50\n",
      "48000/48000 [==============================] - 1s 21us/step - loss: 0.2873 - acc: 0.9074 - val_loss: 0.2082 - val_acc: 0.9447\n",
      "Epoch 48/50\n",
      "48000/48000 [==============================] - 1s 21us/step - loss: 0.2806 - acc: 0.9107 - val_loss: 0.2087 - val_acc: 0.9447\n",
      "Epoch 49/50\n",
      "48000/48000 [==============================] - 1s 21us/step - loss: 0.2842 - acc: 0.9095 - val_loss: 0.2051 - val_acc: 0.9452\n",
      "Epoch 50/50\n",
      "48000/48000 [==============================] - 1s 21us/step - loss: 0.2864 - acc: 0.9097 - val_loss: 0.2085 - val_acc: 0.9443\n"
     ]
    }
   ],
   "source": [
    "# Fit model\n",
    "history2 = model2.fit(\n",
    "    x=X_train_preprocessed, y=y_train,\n",
    "    validation_split=0.2, batch_size=32, epochs=50,\n",
    "    shuffle=True # Shuffle training samples\n",
    ")\n"
   ]
  },
  {
   "cell_type": "code",
   "execution_count": 17,
   "id": "c954ff80",
   "metadata": {},
   "outputs": [
    {
     "name": "stdout",
     "output_type": "stream",
     "text": [
      "10000/10000 [==============================] - 0s 10us/step\n",
      "Test loss: 0.22\n",
      "Test accuracy: 94.17%\n"
     ]
    }
   ],
   "source": [
    "(test_loss2, test_accuracy2) = model2.evaluate(X_test_preprocessed, y_test, batch_size=32)\n",
    "\n",
    "print('Test loss: {:.2f}'.format(test_loss2))\n",
    "print('Test accuracy: {:.2f}%'.format(100*test_accuracy2)) "
   ]
  },
  {
   "cell_type": "code",
   "execution_count": 18,
   "id": "14c322b2",
   "metadata": {},
   "outputs": [
    {
     "data": {
      "image/png": "[encoded data removed]",
      "text/plain": [
       "<Figure size 864x288 with 2 Axes>"
      ]
     },
     "metadata": {
      "needs_background": "light"
     },
     "output_type": "display_data"
    }
   ],
   "source": [
    "# Create two plots: one for the loss value, one for the accuracy\n",
    "fig, (ax1, ax2) = plt.subplots(nrows=1, ncols=2, figsize=(12, 4))\n",
    "\n",
    "# Plot accuracy values\n",
    "ax1.plot(history2.history['loss'], label='train loss')\n",
    "ax1.plot(history2.history['val_loss'], label='val loss')\n",
    "ax1.set_title('Validation loss {:.3f} (mean last 3)'.format(\n",
    "    np.mean(history2.history['val_loss'][-3:]) # last three values\n",
    "))\n",
    "ax1.set_xlabel('epoch')\n",
    "ax1.set_ylabel('loss value')\n",
    "ax1.legend()\n",
    "\n",
    "# Plot accuracy values\n",
    "ax2.plot(history2.history['acc'], label='train acc')\n",
    "ax2.plot(history2.history['val_acc'], label='val acc')\n",
    "ax2.set_title('Validation accuracy {:.3f} (mean last 3)'.format(\n",
    "    np.mean(history2.history['val_acc'][-3:]) # last three values\n",
    "))\n",
    "ax2.set_xlabel('epoch')\n",
    "ax2.set_ylabel('accuracy')\n",
    "ax2.legend()\n",
    "plt.show()"
   ]
  },
  {
   "cell_type": "code",
   "execution_count": 19,
   "id": "0dc78ade",
   "metadata": {},
   "outputs": [
    {
     "data": {
      "image/png": "[encoded data removed]",
      "text/plain": [
       "<Figure size 360x360 with 16 Axes>"
      ]
     },
     "metadata": {
      "needs_background": "light"
     },
     "output_type": "display_data"
    }
   ],
   "source": [
    "# Retrieve first hidden layer\n",
    "hidden2 = model2.layers[0]\n",
    "\n",
    "# Get weights/biases\n",
    "weights_hidden2, biases_hidden2 = hidden2.get_weights()\n",
    "\n",
    "# Create figure with 16 subplots\n",
    "fig, axes = plt.subplots(nrows=4, ncols=4, figsize=(5, 5))\n",
    "\n",
    "# Plot the weights of the 16 hidden units\n",
    "for i, axis in enumerate(axes.flatten()):\n",
    "    # Get weights of i-th hidden unit\n",
    "    weights2 = weights_hidden2[:, i]\n",
    "\n",
    "    # Reshape into 28 by 28 array\n",
    "    weights2 = weights2.reshape(28, 28)\n",
    "\n",
    "    # Plot weights\n",
    "    axis.set_title('unit {}'.format(i+1), size=9, pad=2)\n",
    "    axis.imshow(weights2, cmap=plt.cm.gray_r) # Grayscale\n",
    "    axis.get_xaxis().set_visible(False) # Disable x-axis\n",
    "    axis.get_yaxis().set_visible(False) # Disable y-axis\n",
    "\n",
    "plt.show()"
   ]
  },
  {
   "cell_type": "markdown",
   "id": "9200709e",
   "metadata": {},
   "source": [
    "### Regularization L2"
   ]
  },
  {
   "cell_type": "code",
   "execution_count": 20,
   "id": "73633911",
   "metadata": {},
   "outputs": [],
   "source": [
    "\n",
    "# Create model\n",
    "model3 = Sequential()\n",
    "\n",
    "# Hidden layer\n",
    "model3.add(Dense(\n",
    "    units=16, activation=activations.relu, input_dim=28*28,\n",
    "    kernel_initializer=initializers.VarianceScaling(scale=2.0, seed=0)))\n",
    "\n",
    "# Output layer\n",
    "model3.add(Dense(\n",
    "    units=10, activation=activations.softmax,\n",
    "    kernel_initializer=initializers.VarianceScaling(scale=1.0, seed=0),\n",
    "    kernel_regularizer=tf.keras.regularizers.l2(l=0.05))\n",
    ")\n",
    "\n",
    "\n",
    "model3.compile(\n",
    "    optimizer='sgd', # .. or optimizers.SGD(lr=0.01)\n",
    "    loss='sparse_categorical_crossentropy', # .. or losses.sparse_categorical_crossentropy\n",
    "    metrics=['acc'] # .. or metrics.sparse_categorical_accuracy\n",
    ")"
   ]
  },
  {
   "cell_type": "code",
   "execution_count": 21,
   "id": "ca365d14",
   "metadata": {},
   "outputs": [
    {
     "name": "stdout",
     "output_type": "stream",
     "text": [
      "Train on 48000 samples, validate on 12000 samples\n",
      "Epoch 1/50\n",
      "48000/48000 [==============================] - 1s 23us/step - loss: 1.0095 - acc: 0.8122 - val_loss: 0.6026 - val_acc: 0.8932\n",
      "Epoch 2/50\n",
      "48000/48000 [==============================] - 1s 20us/step - loss: 0.5574 - acc: 0.8952 - val_loss: 0.4879 - val_acc: 0.9057\n",
      "Epoch 3/50\n",
      "48000/48000 [==============================] - 1s 20us/step - loss: 0.4818 - acc: 0.9051 - val_loss: 0.4403 - val_acc: 0.9133\n",
      "Epoch 4/50\n",
      "48000/48000 [==============================] - 1s 20us/step - loss: 0.4428 - acc: 0.9099 - val_loss: 0.4118 - val_acc: 0.9175\n",
      "Epoch 5/50\n",
      "48000/48000 [==============================] - 1s 20us/step - loss: 0.4173 - acc: 0.9147 - val_loss: 0.3915 - val_acc: 0.9198\n",
      "Epoch 6/50\n",
      "48000/48000 [==============================] - 1s 20us/step - loss: 0.3985 - acc: 0.9170 - val_loss: 0.3765 - val_acc: 0.9225\n",
      "Epoch 7/50\n",
      "48000/48000 [==============================] - 1s 20us/step - loss: 0.3836 - acc: 0.9203 - val_loss: 0.3662 - val_acc: 0.9248\n",
      "Epoch 8/50\n",
      "48000/48000 [==============================] - 1s 20us/step - loss: 0.3721 - acc: 0.9217 - val_loss: 0.3574 - val_acc: 0.9253\n",
      "Epoch 9/50\n",
      "48000/48000 [==============================] - 1s 20us/step - loss: 0.3619 - acc: 0.9233 - val_loss: 0.3492 - val_acc: 0.9265\n",
      "Epoch 10/50\n",
      "48000/48000 [==============================] - 1s 20us/step - loss: 0.3536 - acc: 0.9249 - val_loss: 0.3388 - val_acc: 0.9308\n",
      "Epoch 11/50\n",
      "48000/48000 [==============================] - 1s 20us/step - loss: 0.3460 - acc: 0.9258 - val_loss: 0.3343 - val_acc: 0.9294\n",
      "Epoch 12/50\n",
      "48000/48000 [==============================] - 1s 20us/step - loss: 0.3396 - acc: 0.9269 - val_loss: 0.3273 - val_acc: 0.9322\n",
      "Epoch 13/50\n",
      "48000/48000 [==============================] - 1s 20us/step - loss: 0.3337 - acc: 0.9282 - val_loss: 0.3233 - val_acc: 0.9326\n",
      "Epoch 14/50\n",
      "48000/48000 [==============================] - 1s 20us/step - loss: 0.3282 - acc: 0.9292 - val_loss: 0.3193 - val_acc: 0.9322\n",
      "Epoch 15/50\n",
      "48000/48000 [==============================] - 1s 20us/step - loss: 0.3233 - acc: 0.9299 - val_loss: 0.3159 - val_acc: 0.9324\n",
      "Epoch 16/50\n",
      "48000/48000 [==============================] - 1s 20us/step - loss: 0.3191 - acc: 0.9311 - val_loss: 0.3099 - val_acc: 0.9353\n",
      "Epoch 17/50\n",
      "48000/48000 [==============================] - 1s 20us/step - loss: 0.3150 - acc: 0.9313 - val_loss: 0.3069 - val_acc: 0.9356\n",
      "Epoch 18/50\n",
      "48000/48000 [==============================] - 1s 20us/step - loss: 0.3109 - acc: 0.9324 - val_loss: 0.3064 - val_acc: 0.9361\n",
      "Epoch 19/50\n",
      "48000/48000 [==============================] - 1s 20us/step - loss: 0.3075 - acc: 0.9335 - val_loss: 0.3009 - val_acc: 0.9377\n",
      "Epoch 20/50\n",
      "48000/48000 [==============================] - 1s 20us/step - loss: 0.3044 - acc: 0.9339 - val_loss: 0.2997 - val_acc: 0.9356\n",
      "Epoch 21/50\n",
      "48000/48000 [==============================] - 1s 20us/step - loss: 0.3015 - acc: 0.9341 - val_loss: 0.2944 - val_acc: 0.9374\n",
      "Epoch 22/50\n",
      "48000/48000 [==============================] - 1s 20us/step - loss: 0.2988 - acc: 0.9339 - val_loss: 0.2925 - val_acc: 0.9383\n",
      "Epoch 23/50\n",
      "48000/48000 [==============================] - 1s 20us/step - loss: 0.2960 - acc: 0.9355 - val_loss: 0.2928 - val_acc: 0.9363\n",
      "Epoch 24/50\n",
      "48000/48000 [==============================] - 1s 20us/step - loss: 0.2935 - acc: 0.9351 - val_loss: 0.2913 - val_acc: 0.9377\n",
      "Epoch 25/50\n",
      "48000/48000 [==============================] - 1s 20us/step - loss: 0.2908 - acc: 0.9364 - val_loss: 0.2926 - val_acc: 0.9379\n",
      "Epoch 26/50\n",
      "48000/48000 [==============================] - 1s 20us/step - loss: 0.2886 - acc: 0.9364 - val_loss: 0.2866 - val_acc: 0.9387\n",
      "Epoch 27/50\n",
      "48000/48000 [==============================] - 1s 20us/step - loss: 0.2865 - acc: 0.9367 - val_loss: 0.2852 - val_acc: 0.9377\n",
      "Epoch 28/50\n",
      "48000/48000 [==============================] - 1s 20us/step - loss: 0.2842 - acc: 0.9376 - val_loss: 0.2843 - val_acc: 0.9383\n",
      "Epoch 29/50\n",
      "48000/48000 [==============================] - 1s 20us/step - loss: 0.2825 - acc: 0.9378 - val_loss: 0.2814 - val_acc: 0.9391\n",
      "Epoch 30/50\n",
      "48000/48000 [==============================] - 1s 20us/step - loss: 0.2805 - acc: 0.9384 - val_loss: 0.2808 - val_acc: 0.9385\n",
      "Epoch 31/50\n",
      "48000/48000 [==============================] - 1s 20us/step - loss: 0.2784 - acc: 0.9380 - val_loss: 0.2804 - val_acc: 0.9397\n",
      "Epoch 32/50\n",
      "48000/48000 [==============================] - 1s 20us/step - loss: 0.2767 - acc: 0.9387 - val_loss: 0.2757 - val_acc: 0.9416\n",
      "Epoch 33/50\n",
      "48000/48000 [==============================] - 1s 20us/step - loss: 0.2753 - acc: 0.9389 - val_loss: 0.2739 - val_acc: 0.9413\n",
      "Epoch 34/50\n",
      "48000/48000 [==============================] - 1s 20us/step - loss: 0.2732 - acc: 0.9397 - val_loss: 0.2724 - val_acc: 0.9415\n",
      "Epoch 35/50\n",
      "48000/48000 [==============================] - 1s 20us/step - loss: 0.2718 - acc: 0.9402 - val_loss: 0.2736 - val_acc: 0.9419\n",
      "Epoch 36/50\n",
      "48000/48000 [==============================] - 1s 20us/step - loss: 0.2704 - acc: 0.9403 - val_loss: 0.2698 - val_acc: 0.9421\n",
      "Epoch 37/50\n",
      "48000/48000 [==============================] - 1s 20us/step - loss: 0.2693 - acc: 0.9404 - val_loss: 0.2685 - val_acc: 0.9417\n",
      "Epoch 38/50\n",
      "48000/48000 [==============================] - 1s 20us/step - loss: 0.2672 - acc: 0.9412 - val_loss: 0.2707 - val_acc: 0.9412\n",
      "Epoch 39/50\n",
      "48000/48000 [==============================] - 1s 20us/step - loss: 0.2659 - acc: 0.9411 - val_loss: 0.2709 - val_acc: 0.9403\n",
      "Epoch 40/50\n",
      "48000/48000 [==============================] - 1s 20us/step - loss: 0.2649 - acc: 0.9415 - val_loss: 0.2661 - val_acc: 0.9423\n",
      "Epoch 41/50\n",
      "48000/48000 [==============================] - 1s 20us/step - loss: 0.2634 - acc: 0.9415 - val_loss: 0.2658 - val_acc: 0.9415\n",
      "Epoch 42/50\n",
      "48000/48000 [==============================] - 1s 20us/step - loss: 0.2625 - acc: 0.9416 - val_loss: 0.2643 - val_acc: 0.9417\n",
      "Epoch 43/50\n",
      "48000/48000 [==============================] - 1s 20us/step - loss: 0.2611 - acc: 0.9417 - val_loss: 0.2671 - val_acc: 0.9413\n",
      "Epoch 44/50\n",
      "48000/48000 [==============================] - 1s 20us/step - loss: 0.2600 - acc: 0.9421 - val_loss: 0.2638 - val_acc: 0.9423\n",
      "Epoch 45/50\n",
      "48000/48000 [==============================] - 1s 20us/step - loss: 0.2586 - acc: 0.9424 - val_loss: 0.2612 - val_acc: 0.9426\n",
      "Epoch 46/50\n",
      "48000/48000 [==============================] - 1s 20us/step - loss: 0.2577 - acc: 0.9425 - val_loss: 0.2621 - val_acc: 0.9422\n",
      "Epoch 47/50\n",
      "48000/48000 [==============================] - 1s 20us/step - loss: 0.2567 - acc: 0.9431 - val_loss: 0.2604 - val_acc: 0.9426\n",
      "Epoch 48/50\n",
      "48000/48000 [==============================] - 1s 20us/step - loss: 0.2556 - acc: 0.9433 - val_loss: 0.2621 - val_acc: 0.9428\n",
      "Epoch 49/50\n",
      "48000/48000 [==============================] - 1s 20us/step - loss: 0.2545 - acc: 0.9434 - val_loss: 0.2593 - val_acc: 0.9419\n",
      "Epoch 50/50\n",
      "48000/48000 [==============================] - 1s 20us/step - loss: 0.2536 - acc: 0.9439 - val_loss: 0.2585 - val_acc: 0.9433\n"
     ]
    }
   ],
   "source": [
    "# Fit model\n",
    "history3 = model3.fit(\n",
    "    x=X_train_preprocessed, y=y_train,\n",
    "    validation_split=0.2, batch_size=32, epochs=50,\n",
    "    shuffle=True # Shuffle training samples\n",
    ")"
   ]
  },
  {
   "cell_type": "code",
   "execution_count": 22,
   "id": "44b062c9",
   "metadata": {},
   "outputs": [
    {
     "name": "stdout",
     "output_type": "stream",
     "text": [
      "10000/10000 [==============================] - 0s 10us/step\n",
      "Test loss: 0.26\n",
      "Test accuracy: 94.06%\n"
     ]
    }
   ],
   "source": [
    "(test_loss3, test_accuracy3) = model3.evaluate(X_test_preprocessed, y_test, batch_size=32)\n",
    "\n",
    "print('Test loss: {:.2f}'.format(test_loss3))\n",
    "print('Test accuracy: {:.2f}%'.format(100*test_accuracy3)) "
   ]
  },
  {
   "cell_type": "code",
   "execution_count": null,
   "id": "7b318260",
   "metadata": {},
   "outputs": [],
   "source": []
  },
  {
   "cell_type": "code",
   "execution_count": 23,
   "id": "4a2efbd4",
   "metadata": {},
   "outputs": [
    {
     "data": {
      "image/png": "[encoded data removed]",
      "text/plain": [
       "<Figure size 864x288 with 2 Axes>"
      ]
     },
     "metadata": {
      "needs_background": "light"
     },
     "output_type": "display_data"
    }
   ],
   "source": [
    "# Create two plots: one for the loss value, one for the accuracy\n",
    "fig, (ax1, ax2) = plt.subplots(nrows=1, ncols=2, figsize=(12, 4))\n",
    "\n",
    "# Plot accuracy values\n",
    "ax1.plot(history3.history['loss'], label='train loss')\n",
    "ax1.plot(history3.history['val_loss'], label='val loss')\n",
    "ax1.set_title('Validation loss {:.3f} (mean last 3)'.format(\n",
    "    np.mean(history3.history['val_loss'][-3:]) # last three values\n",
    "))\n",
    "ax1.set_xlabel('epoch')\n",
    "ax1.set_ylabel('loss value')\n",
    "ax1.legend()\n",
    "\n",
    "# Plot accuracy values\n",
    "ax2.plot(history3.history['acc'], label='train acc')\n",
    "ax2.plot(history3.history['val_acc'], label='val acc')\n",
    "ax2.set_title('Validation accuracy {:.3f} (mean last 3)'.format(\n",
    "    np.mean(history3.history['val_acc'][-3:]) # last three values\n",
    "))\n",
    "ax2.set_xlabel('epoch')\n",
    "ax2.set_ylabel('accuracy')\n",
    "ax2.legend()\n",
    "plt.show()"
   ]
  },
  {
   "cell_type": "code",
   "execution_count": 24,
   "id": "9bbf6059",
   "metadata": {},
   "outputs": [
    {
     "data": {
      "image/png": "[encoded data removed]",
      "text/plain": [
       "<Figure size 360x360 with 16 Axes>"
      ]
     },
     "metadata": {
      "needs_background": "light"
     },
     "output_type": "display_data"
    }
   ],
   "source": [
    "# Retrieve first hidden layer\n",
    "hidden3 = model3.layers[0]\n",
    "\n",
    "# Get weights/biases\n",
    "weights_hidden3, biases_hidden3 = hidden3.get_weights()\n",
    "\n",
    "# Create figure with 16 subplots\n",
    "fig, axes = plt.subplots(nrows=4, ncols=4, figsize=(5, 5))\n",
    "\n",
    "# Plot the weights of the 16 hidden units\n",
    "for i, axis in enumerate(axes.flatten()):\n",
    "    # Get weights of i-th hidden unit\n",
    "    weights3 = weights_hidden3[:, i]\n",
    "\n",
    "    # Reshape into 28 by 28 array\n",
    "    weights3 = weights3.reshape(28, 28)\n",
    "\n",
    "    # Plot weights\n",
    "    axis.set_title('unit {}'.format(i+1), size=9, pad=2)\n",
    "    axis.imshow(weights3, cmap=plt.cm.gray_r) # Grayscale\n",
    "    axis.get_xaxis().set_visible(False) # Disable x-axis\n",
    "    axis.get_yaxis().set_visible(False) # Disable y-axis\n",
    "\n",
    "plt.show()"
   ]
  },
  {
   "cell_type": "markdown",
   "id": "88f38b96",
   "metadata": {},
   "source": [
    "# Advanced Keras\n",
    "\n",
    "So far, we always worked with in-memory data sets. In this unit, we will see how to scale up and create **data generators that read images from the disk with Keras image generators** and go through a concrete example with a .png version of the CIFAR-10 data set.\n",
    "\n",
    "### Keras Image Generators\n",
    "\n",
    "The first step is to create an **ImageDataGenerator** which specifies how to process each image. In our case, we will simply apply 0-1 rescaling to all images and **additional data augmentation to the train set to increase the size of the dataset** and add some variation"
   ]
  },
  {
   "cell_type": "code",
   "execution_count": 25,
   "id": "8d2bce4f",
   "metadata": {},
   "outputs": [],
   "source": [
    "from tensorflow.keras.preprocessing.image import ImageDataGenerator\n",
    "\n",
    "# Create image generator\n",
    "train_generator = ImageDataGenerator(\n",
    "    rescale=1/255, horizontal_flip=True, rotation_range=5, validation_split=0.2)\n",
    "test_generator = ImageDataGenerator(rescale=1/255)"
   ]
  },
  {
   "cell_type": "markdown",
   "id": "dc49c8df",
   "metadata": {},
   "source": [
    "We use the rescale parameter to normalize the images between zero and one, and the horizontal_flip and rotation_range transformations to get slightly different variants of the images each time we sample from the images to fight overfitting and virtually augment the data set to improve training. This is why we only use those parameters for the train_generator and not the test_generator one. Optionally, we can also keep a fraction of the data for validation. In this case, we keep 20% of the data as a validation set. Note that they will also go through the training transformations.\n",
    "\n",
    "The second step is to create an iterator that iterates over the directory of CIFAR-10 .png images. The cifar10 folder can be downloaded from the resources of this unit. To iterate over the directory we can use the flow_from_directory() function from our image generators which takes the path to the directory, the batch size and the target size. This can be useful if we need to resize the images before inserting them into our network. However, in our case, we will keep the 32x32 .png images and set target_size=(32, 32)"
   ]
  },
  {
   "cell_type": "code",
   "execution_count": 26,
   "id": "82604cd1",
   "metadata": {},
   "outputs": [
    {
     "name": "stdout",
     "output_type": "stream",
     "text": [
      "Found 4000 images belonging to 10 classes.\n",
      "Found 1000 images belonging to 10 classes.\n",
      "Found 1000 images belonging to 10 classes.\n"
     ]
    }
   ],
   "source": [
    "import os\n",
    "\n",
    "# Train, validation and test sets\n",
    "trainset = train_generator.flow_from_directory(\n",
    "    os.path.join('cifar10', 'train'), batch_size=32, target_size=(32, 32),\n",
    "    shuffle=True, subset='training')\n",
    "validset = train_generator.flow_from_directory(\n",
    "    os.path.join('cifar10', 'train'), batch_size=32, target_size=(32, 32),\n",
    "    shuffle=False, subset='validation')\n",
    "testset = test_generator.flow_from_directory(\n",
    "    os.path.join('cifar10', 'test'), batch_size=32, target_size=(32, 32),\n",
    "    shuffle=False)"
   ]
  },
  {
   "cell_type": "markdown",
   "id": "1e610811",
   "metadata": {},
   "source": [
    "We create a trainset and a validset iterator for the images from the train directory and a testset one for the images from the test directory. **Note that we don't need to shuffle the validation and test data (i.e we set shuffle=False)** since shuffling only affects training. Also, we only need to specify the subset argument for the train and validation sets since we used above the optional validation_split parameter from the train_generator.\n",
    "\n",
    "We can always verify which images are assigned to each data set by looking at the filenames attribute"
   ]
  },
  {
   "cell_type": "code",
   "execution_count": 27,
   "id": "3b64c032",
   "metadata": {},
   "outputs": [
    {
     "data": {
      "text/plain": [
       "['airplane\\\\airplane-101.png',\n",
       " 'airplane\\\\airplane-102.png',\n",
       " 'airplane\\\\airplane-103.png',\n",
       " 'airplane\\\\airplane-104.png',\n",
       " 'airplane\\\\airplane-105.png']"
      ]
     },
     "execution_count": 27,
     "metadata": {},
     "output_type": "execute_result"
    }
   ],
   "source": [
    "trainset.filenames[:5]"
   ]
  },
  {
   "cell_type": "code",
   "execution_count": 28,
   "id": "a01fec09",
   "metadata": {},
   "outputs": [
    {
     "data": {
      "text/plain": [
       "['airplane\\\\airplane-001.png',\n",
       " 'airplane\\\\airplane-002.png',\n",
       " 'airplane\\\\airplane-003.png',\n",
       " 'airplane\\\\airplane-004.png']"
      ]
     },
     "execution_count": 28,
     "metadata": {},
     "output_type": "execute_result"
    }
   ],
   "source": [
    "validset.filenames[:4]"
   ]
  },
  {
   "cell_type": "markdown",
   "id": "1c11f58d",
   "metadata": {},
   "source": [
    "As we can see, for each class the first 100 images (1000 validation images/10 class) were assigned to the validation set and the rest to the training one. We can verify that those two sets don't intersect with"
   ]
  },
  {
   "cell_type": "code",
   "execution_count": 29,
   "id": "236b41f4",
   "metadata": {},
   "outputs": [
    {
     "data": {
      "text/plain": [
       "set()"
      ]
     },
     "execution_count": 29,
     "metadata": {},
     "output_type": "execute_result"
    }
   ],
   "source": [
    "set(trainset.filenames).intersection(set(validset.filenames))"
   ]
  },
  {
   "cell_type": "markdown",
   "id": "65616729",
   "metadata": {},
   "source": [
    "which returns an empty set for the intersection.\n",
    "\n",
    "The directory iterators can be used like normal Python iterators ex. in a for loop. By calling next(), we get the next batch of images with their labels"
   ]
  },
  {
   "cell_type": "code",
   "execution_count": 30,
   "id": "c81f057f",
   "metadata": {},
   "outputs": [
    {
     "name": "stdout",
     "output_type": "stream",
     "text": [
      "Batch images: (32, 32, 32, 3)\n",
      "Batch labels: (32, 10)\n"
     ]
    }
   ],
   "source": [
    "batch_imgs, batch_labels = trainset.next()\n",
    "\n",
    "print('Batch images:', batch_imgs.shape) # (32, 32, 32, 3)\n",
    "print('Batch labels:', batch_labels.shape) # (32, 10)"
   ]
  },
  {
   "cell_type": "markdown",
   "id": "0f226d4b",
   "metadata": {},
   "source": [
    "It's important to note that the iterator returns one-hot encoded labels by default. In our case, we have 10 classes, so batch_label is a 32x10 array"
   ]
  },
  {
   "cell_type": "code",
   "execution_count": 31,
   "id": "e41e7f9a",
   "metadata": {},
   "outputs": [
    {
     "data": {
      "text/plain": [
       "array([[0., 0., 0., 0., 0., 1., 0., 0., 0., 0.],\n",
       "       [0., 0., 1., 0., 0., 0., 0., 0., 0., 0.],\n",
       "       [0., 0., 0., 0., 1., 0., 0., 0., 0., 0.],\n",
       "       [0., 0., 0., 0., 1., 0., 0., 0., 0., 0.],\n",
       "       [0., 0., 1., 0., 0., 0., 0., 0., 0., 0.]], dtype=float32)"
      ]
     },
     "execution_count": 31,
     "metadata": {},
     "output_type": "execute_result"
    }
   ],
   "source": [
    "batch_labels[:5]"
   ]
  },
  {
   "cell_type": "markdown",
   "id": "35a0a712",
   "metadata": {},
   "source": [
    "We can always retrieve the original class names with the class_indices attribute"
   ]
  },
  {
   "cell_type": "code",
   "execution_count": 32,
   "id": "d25e859b",
   "metadata": {},
   "outputs": [
    {
     "data": {
      "text/plain": [
       "{'airplane': 0,\n",
       " 'automobile': 1,\n",
       " 'bird': 2,\n",
       " 'cat': 3,\n",
       " 'deer': 4,\n",
       " 'dog': 5,\n",
       " 'frog': 6,\n",
       " 'horse': 7,\n",
       " 'ship': 8,\n",
       " 'truck': 9}"
      ]
     },
     "execution_count": 32,
     "metadata": {},
     "output_type": "execute_result"
    }
   ],
   "source": [
    "trainset.class_indices"
   ]
  },
  {
   "cell_type": "markdown",
   "id": "7bcce4ac",
   "metadata": {},
   "source": [
    "Note that it is possible to obtain integer encoded labels with the iterator. To do that, one can change the default parameter class_mode = 'categorical' in flow_from_directory() function to class_mode = 'sparse'.\n",
    "\n",
    "### Training with generators\n",
    "Let's now see how to train our network with iterators. But first, we need to create the network. This time, we will implement a ConvNet similar to the one we saw in the last subject. To achieve this, we will add Conv2D, MaxPool2D, Flatten and Dense layers to our Sequential model"
   ]
  },
  {
   "cell_type": "code",
   "execution_count": 97,
   "id": "98f37569",
   "metadata": {},
   "outputs": [
    {
     "name": "stdout",
     "output_type": "stream",
     "text": [
      "_________________________________________________________________\n",
      "Layer (type)                 Output Shape              Param #   \n",
      "=================================================================\n",
      "conv2d_6 (Conv2D)            (None, 14, 14, 500)       38000     \n",
      "_________________________________________________________________\n",
      "max_pooling2d_2 (MaxPooling2 (None, 7, 7, 500)         0         \n",
      "_________________________________________________________________\n",
      "conv2d_7 (Conv2D)            (None, 5, 5, 200)         900200    \n",
      "_________________________________________________________________\n",
      "max_pooling2d_3 (MaxPooling2 (None, 2, 2, 200)         0         \n",
      "_________________________________________________________________\n",
      "flatten_1 (Flatten)          (None, 800)               0         \n",
      "_________________________________________________________________\n",
      "dense_1 (Dense)              (None, 10)                8010      \n",
      "=================================================================\n",
      "Total params: 946,210\n",
      "Trainable params: 946,210\n",
      "Non-trainable params: 0\n",
      "_________________________________________________________________\n"
     ]
    }
   ],
   "source": [
    "import tensorflow.keras as keras\n",
    "\n",
    "# Convolutional Network\n",
    "model = keras.Sequential()\n",
    "\n",
    "\n",
    "model.add(keras.layers.Conv2D(filters=500, kernel_size=5, strides=2,\n",
    "                              activation='relu', input_shape=(32, 32, 3)))\n",
    "model.add(keras.layers.MaxPool2D(pool_size=2))\n",
    "\n",
    "model.add(keras.layers.Conv2D(filters=200, kernel_size=3, strides=1,\n",
    "                              activation='relu'))\n",
    "model.add(keras.layers.MaxPool2D(pool_size=2))\n",
    "\n",
    "\n",
    "model.add(keras.layers.Flatten())\n",
    "#model.add(Dropout(rate=0.2))\n",
    "\n",
    "model.add(keras.layers.Dense(units=trainset.num_classes, activation='softmax'))\n",
    "\n",
    "\n",
    "model.summary()"
   ]
  },
  {
   "cell_type": "markdown",
   "id": "7c9ee338",
   "metadata": {},
   "source": [
    "Let's compile the model with the Adam optimizer and the categorical_crossentropy loss function which is equivalent to the sparse_categorical_crossentropy one from the last unit, but works with one-hot encoded labels"
   ]
  },
  {
   "cell_type": "code",
   "execution_count": 98,
   "id": "cc499b8a",
   "metadata": {},
   "outputs": [],
   "source": [
    "# Compile the model\n",
    "model.compile(optimizer=keras.optimizers.Adam(), loss='categorical_crossentropy', metrics=['acc'])"
   ]
  },
  {
   "cell_type": "markdown",
   "id": "47e22f51",
   "metadata": {},
   "source": [
    "Let's also create an optional EarlyStopping callback that we can use during the model fitting process. Callbacks are functions that can be applied at different stages of the training procedures. In our case, EarlyStopping will monitor the loss value on the validation set and stop the training once this loss value didn't improve anymore for more than 6 epochs. Early stopping is a common way to fight overfitting."
   ]
  },
  {
   "cell_type": "code",
   "execution_count": 99,
   "id": "fa769c4a",
   "metadata": {},
   "outputs": [],
   "source": [
    "# End training when accuracy stops improving (optional)\n",
    "early_stopping = keras.callbacks.EarlyStopping(monitor='val_loss', patience=6)"
   ]
  },
  {
   "cell_type": "markdown",
   "id": "07884cca",
   "metadata": {},
   "source": [
    "Now that everything is ready we can implement the model fitting. This time, we need to use the fit_generator() to train the network using data generators. Instead of passing the x/y inputs as we did previously with model.fit(), this function takes a generator which returns the training inputs/labels batches and a validation_data one which returns the validation batches"
   ]
  },
  {
   "cell_type": "code",
   "execution_count": null,
   "id": "4af36a87",
   "metadata": {},
   "outputs": [
    {
     "name": "stdout",
     "output_type": "stream",
     "text": [
      "Epoch 1/100\n",
      " 63/125 [==============>...............] - ETA: 6s - loss: 2.2607 - acc: 0.1369"
     ]
    }
   ],
   "source": [
    "# Train model\n",
    "history = model.fit_generator(\n",
    "    generator=trainset, validation_data=validset, epochs=100, callbacks=[early_stopping])"
   ]
  },
  {
   "cell_type": "markdown",
   "id": "855d473c",
   "metadata": {},
   "source": [
    "Using the early_stopping callback means that the epoch=100 parameter is consider as an upper limit value and the training will be stopped already earlier if the val_loss value doesn't improve anymore.\n",
    "\n",
    "Let's visualize the training curves with the code from the previous unit"
   ]
  },
  {
   "cell_type": "code",
   "execution_count": 89,
   "id": "285ed14b",
   "metadata": {},
   "outputs": [
    {
     "data": {
      "image/png": "[encoded data removed]",
      "text/plain": [
       "<Figure size 864x288 with 2 Axes>"
      ]
     },
     "metadata": {
      "needs_background": "light"
     },
     "output_type": "display_data"
    }
   ],
   "source": [
    "%matplotlib inline\n",
    "import matplotlib.pyplot as plt\n",
    "\n",
    "fig, (ax1, ax2) = plt.subplots(nrows=1, ncols=2, figsize=(12, 4))\n",
    "\n",
    "# Plot loss values\n",
    "ax1.set_title('loss: {:.4f}'.format(history.history['val_loss'][-1]))\n",
    "ax1.plot(history.history['val_loss'], label='validation')\n",
    "ax1.plot(history.history['loss'], label='training')\n",
    "ax1.legend()\n",
    "\n",
    "# plot accuracy values\n",
    "ax2.set_title('accuracy: {:.2f}%'.format(history.history['val_acc'][-1]*100))\n",
    "ax2.plot(history.history['val_acc'], label='validation')\n",
    "ax2.plot(history.history['acc'], label='training')\n",
    "ax2.legend()\n",
    "\n",
    "plt.show()"
   ]
  },
  {
   "cell_type": "markdown",
   "id": "ff7392cb",
   "metadata": {},
   "source": [
    "The code creates two plots: one with the loss and the other with the accuracy, each graph with the training and validation curves. The results can slightly change here because of training data shuffling and graph random initialization.\n",
    "\n",
    "Our very small network reaches an accuracy of around 52% after 25 epochs which is not bad compared to the most-frequent baseline at 10%.\n",
    "\n",
    "> Challenge Can you improve the results with a more sophisticated network?\n",
    "\n",
    "Note that, unlike Scikit-learn library, Keras API can handle both integer encoded labels and one-hot encoded labels in order to perform multiclass classification. However, one needs to use the appropriate loss function: sparse_categorical_crossentropy for integer encoded labels and categorical_crossentropy for one-hot encoded labels.\n",
    "\n",
    "### Prediction and final test estimations\n",
    "\n",
    "Keras models also expose a predict_generator() and a evaluate_generator() function to make predictions and evaluate them from generators. For instance, we can compute the network output for the 1,000 test images by running"
   ]
  },
  {
   "cell_type": "code",
   "execution_count": 90,
   "id": "3e3ace6e",
   "metadata": {},
   "outputs": [
    {
     "name": "stdout",
     "output_type": "stream",
     "text": [
      "Predictions: (1000, 10)\n"
     ]
    }
   ],
   "source": [
    "test_preds = model.predict_generator(testset)\n",
    "print('Predictions:', test_preds.shape)"
   ]
  },
  {
   "cell_type": "markdown",
   "id": "beb59f25",
   "metadata": {},
   "source": [
    "The test_preds variable contains one row for each data point and one column for each class. We can then get the class digits (0, 1, 2, .., 9) associated with the highest predicted score for each image by taking the argmax across the horizontal axis test_preds.argmax(axis=1). For instance, we can use that to compute the confusion matrix"
   ]
  },
  {
   "cell_type": "markdown",
   "id": "ff654c42",
   "metadata": {},
   "source": [
    "# Saving models\n",
    "\n",
    "In practice, training typically takes several hours, days or even weeks. In this unit, we will see how to save our models and their trained parameters with Keras. This allows us to use them again at a later timepoint and gives us the possibility to easily share them with others.\n",
    "\n",
    "# Keras pretrained model"
   ]
  },
  {
   "cell_type": "code",
   "execution_count": 92,
   "id": "62d0d5fd",
   "metadata": {},
   "outputs": [],
   "source": [
    "import tensorflow as tf\n",
    "import tensorflow.keras as keras\n",
    "from tensorflow.keras import backend as K\n",
    "import os\n",
    "os.environ[\"CUDA_VISIBLE_DEVICES\"]= \"-1\""
   ]
  },
  {
   "cell_type": "markdown",
   "id": "78d6c5da",
   "metadata": {},
   "source": [
    "In this code, we also import Keras backend module that is usually named K. So far, we let Keras do the house keeping with our models: add the nodes, variables and operations to the default graph, handle the session. However, we will now work with large models that have several millions of parameters. For this reason, we will avoid cluttering by manually clearing the graph with K.clear_session()"
   ]
  },
  {
   "cell_type": "code",
   "execution_count": 93,
   "id": "07599007",
   "metadata": {},
   "outputs": [],
   "source": [
    "K.clear_session() # Create a new graph (avoid clutter)"
   ]
  },
  {
   "cell_type": "markdown",
   "id": "c29ec526",
   "metadata": {},
   "source": [
    "Once the session is cleared, we can go ahead and import the Xception ConvNet from the Keras applications module."
   ]
  },
  {
   "cell_type": "code",
   "execution_count": 94,
   "id": "0af0cb10",
   "metadata": {},
   "outputs": [
    {
     "name": "stdout",
     "output_type": "stream",
     "text": [
      "Downloading data from https://github.com/fchollet/deep-learning-models/releases/download/v0.4/xception_weights_tf_dim_ordering_tf_kernels.h5\n",
      "91889664/91884032 [==============================] - 2s 0us/step\n"
     ]
    }
   ],
   "source": [
    "model = keras.applications.Xception(weights='imagenet')"
   ]
  },
  {
   "cell_type": "markdown",
   "id": "e77458c1",
   "metadata": {},
   "source": [
    "Note that we not only load the network architecture but also its pretrained parameters that are the result of a prior training process on the ImageNet data set. To get a complete list of available models, see the Keras applications reference.https://keras.io/applications/\n",
    "\n",
    "Let's take a look at the graph"
   ]
  },
  {
   "cell_type": "code",
   "execution_count": 95,
   "id": "29771432",
   "metadata": {},
   "outputs": [
    {
     "name": "stdout",
     "output_type": "stream",
     "text": [
      "__________________________________________________________________________________________________\n",
      "Layer (type)                    Output Shape         Param #     Connected to                     \n",
      "==================================================================================================\n",
      "input_1 (InputLayer)            (None, 299, 299, 3)  0                                            \n",
      "__________________________________________________________________________________________________\n",
      "block1_conv1 (Conv2D)           (None, 149, 149, 32) 864         input_1[0][0]                    \n",
      "__________________________________________________________________________________________________\n",
      "block1_conv1_bn (BatchNormaliza (None, 149, 149, 32) 128         block1_conv1[0][0]               \n",
      "__________________________________________________________________________________________________\n",
      "block1_conv1_act (Activation)   (None, 149, 149, 32) 0           block1_conv1_bn[0][0]            \n",
      "__________________________________________________________________________________________________\n",
      "block1_conv2 (Conv2D)           (None, 147, 147, 64) 18432       block1_conv1_act[0][0]           \n",
      "__________________________________________________________________________________________________\n",
      "block1_conv2_bn (BatchNormaliza (None, 147, 147, 64) 256         block1_conv2[0][0]               \n",
      "__________________________________________________________________________________________________\n",
      "block1_conv2_act (Activation)   (None, 147, 147, 64) 0           block1_conv2_bn[0][0]            \n",
      "__________________________________________________________________________________________________\n",
      "block2_sepconv1 (SeparableConv2 (None, 147, 147, 128 8768        block1_conv2_act[0][0]           \n",
      "__________________________________________________________________________________________________\n",
      "block2_sepconv1_bn (BatchNormal (None, 147, 147, 128 512         block2_sepconv1[0][0]            \n",
      "__________________________________________________________________________________________________\n",
      "block2_sepconv2_act (Activation (None, 147, 147, 128 0           block2_sepconv1_bn[0][0]         \n",
      "__________________________________________________________________________________________________\n",
      "block2_sepconv2 (SeparableConv2 (None, 147, 147, 128 17536       block2_sepconv2_act[0][0]        \n",
      "__________________________________________________________________________________________________\n",
      "block2_sepconv2_bn (BatchNormal (None, 147, 147, 128 512         block2_sepconv2[0][0]            \n",
      "__________________________________________________________________________________________________\n",
      "conv2d (Conv2D)                 (None, 74, 74, 128)  8192        block1_conv2_act[0][0]           \n",
      "__________________________________________________________________________________________________\n",
      "block2_pool (MaxPooling2D)      (None, 74, 74, 128)  0           block2_sepconv2_bn[0][0]         \n",
      "__________________________________________________________________________________________________\n",
      "batch_normalization (BatchNorma (None, 74, 74, 128)  512         conv2d[0][0]                     \n",
      "__________________________________________________________________________________________________\n",
      "add (Add)                       (None, 74, 74, 128)  0           block2_pool[0][0]                \n",
      "                                                                 batch_normalization[0][0]        \n",
      "__________________________________________________________________________________________________\n",
      "block3_sepconv1_act (Activation (None, 74, 74, 128)  0           add[0][0]                        \n",
      "__________________________________________________________________________________________________\n",
      "block3_sepconv1 (SeparableConv2 (None, 74, 74, 256)  33920       block3_sepconv1_act[0][0]        \n",
      "__________________________________________________________________________________________________\n",
      "block3_sepconv1_bn (BatchNormal (None, 74, 74, 256)  1024        block3_sepconv1[0][0]            \n",
      "__________________________________________________________________________________________________\n",
      "block3_sepconv2_act (Activation (None, 74, 74, 256)  0           block3_sepconv1_bn[0][0]         \n",
      "__________________________________________________________________________________________________\n",
      "block3_sepconv2 (SeparableConv2 (None, 74, 74, 256)  67840       block3_sepconv2_act[0][0]        \n",
      "__________________________________________________________________________________________________\n",
      "block3_sepconv2_bn (BatchNormal (None, 74, 74, 256)  1024        block3_sepconv2[0][0]            \n",
      "__________________________________________________________________________________________________\n",
      "conv2d_1 (Conv2D)               (None, 37, 37, 256)  32768       add[0][0]                        \n",
      "__________________________________________________________________________________________________\n",
      "block3_pool (MaxPooling2D)      (None, 37, 37, 256)  0           block3_sepconv2_bn[0][0]         \n",
      "__________________________________________________________________________________________________\n",
      "batch_normalization_1 (BatchNor (None, 37, 37, 256)  1024        conv2d_1[0][0]                   \n",
      "__________________________________________________________________________________________________\n",
      "add_1 (Add)                     (None, 37, 37, 256)  0           block3_pool[0][0]                \n",
      "                                                                 batch_normalization_1[0][0]      \n",
      "__________________________________________________________________________________________________\n",
      "block4_sepconv1_act (Activation (None, 37, 37, 256)  0           add_1[0][0]                      \n",
      "__________________________________________________________________________________________________\n",
      "block4_sepconv1 (SeparableConv2 (None, 37, 37, 728)  188672      block4_sepconv1_act[0][0]        \n",
      "__________________________________________________________________________________________________\n",
      "block4_sepconv1_bn (BatchNormal (None, 37, 37, 728)  2912        block4_sepconv1[0][0]            \n",
      "__________________________________________________________________________________________________\n",
      "block4_sepconv2_act (Activation (None, 37, 37, 728)  0           block4_sepconv1_bn[0][0]         \n",
      "__________________________________________________________________________________________________\n",
      "block4_sepconv2 (SeparableConv2 (None, 37, 37, 728)  536536      block4_sepconv2_act[0][0]        \n",
      "__________________________________________________________________________________________________\n",
      "block4_sepconv2_bn (BatchNormal (None, 37, 37, 728)  2912        block4_sepconv2[0][0]            \n",
      "__________________________________________________________________________________________________\n",
      "conv2d_2 (Conv2D)               (None, 19, 19, 728)  186368      add_1[0][0]                      \n",
      "__________________________________________________________________________________________________\n",
      "block4_pool (MaxPooling2D)      (None, 19, 19, 728)  0           block4_sepconv2_bn[0][0]         \n",
      "__________________________________________________________________________________________________\n",
      "batch_normalization_2 (BatchNor (None, 19, 19, 728)  2912        conv2d_2[0][0]                   \n",
      "__________________________________________________________________________________________________\n",
      "add_2 (Add)                     (None, 19, 19, 728)  0           block4_pool[0][0]                \n",
      "                                                                 batch_normalization_2[0][0]      \n",
      "__________________________________________________________________________________________________\n",
      "block5_sepconv1_act (Activation (None, 19, 19, 728)  0           add_2[0][0]                      \n",
      "__________________________________________________________________________________________________\n",
      "block5_sepconv1 (SeparableConv2 (None, 19, 19, 728)  536536      block5_sepconv1_act[0][0]        \n",
      "__________________________________________________________________________________________________\n",
      "block5_sepconv1_bn (BatchNormal (None, 19, 19, 728)  2912        block5_sepconv1[0][0]            \n",
      "__________________________________________________________________________________________________\n",
      "block5_sepconv2_act (Activation (None, 19, 19, 728)  0           block5_sepconv1_bn[0][0]         \n",
      "__________________________________________________________________________________________________\n",
      "block5_sepconv2 (SeparableConv2 (None, 19, 19, 728)  536536      block5_sepconv2_act[0][0]        \n",
      "__________________________________________________________________________________________________\n",
      "block5_sepconv2_bn (BatchNormal (None, 19, 19, 728)  2912        block5_sepconv2[0][0]            \n",
      "__________________________________________________________________________________________________\n",
      "block5_sepconv3_act (Activation (None, 19, 19, 728)  0           block5_sepconv2_bn[0][0]         \n",
      "__________________________________________________________________________________________________\n",
      "block5_sepconv3 (SeparableConv2 (None, 19, 19, 728)  536536      block5_sepconv3_act[0][0]        \n",
      "__________________________________________________________________________________________________\n",
      "block5_sepconv3_bn (BatchNormal (None, 19, 19, 728)  2912        block5_sepconv3[0][0]            \n",
      "__________________________________________________________________________________________________\n",
      "add_3 (Add)                     (None, 19, 19, 728)  0           block5_sepconv3_bn[0][0]         \n",
      "                                                                 add_2[0][0]                      \n",
      "__________________________________________________________________________________________________\n",
      "block6_sepconv1_act (Activation (None, 19, 19, 728)  0           add_3[0][0]                      \n",
      "__________________________________________________________________________________________________\n",
      "block6_sepconv1 (SeparableConv2 (None, 19, 19, 728)  536536      block6_sepconv1_act[0][0]        \n",
      "__________________________________________________________________________________________________\n",
      "block6_sepconv1_bn (BatchNormal (None, 19, 19, 728)  2912        block6_sepconv1[0][0]            \n",
      "__________________________________________________________________________________________________\n",
      "block6_sepconv2_act (Activation (None, 19, 19, 728)  0           block6_sepconv1_bn[0][0]         \n",
      "__________________________________________________________________________________________________\n",
      "block6_sepconv2 (SeparableConv2 (None, 19, 19, 728)  536536      block6_sepconv2_act[0][0]        \n",
      "__________________________________________________________________________________________________\n",
      "block6_sepconv2_bn (BatchNormal (None, 19, 19, 728)  2912        block6_sepconv2[0][0]            \n",
      "__________________________________________________________________________________________________\n",
      "block6_sepconv3_act (Activation (None, 19, 19, 728)  0           block6_sepconv2_bn[0][0]         \n",
      "__________________________________________________________________________________________________\n",
      "block6_sepconv3 (SeparableConv2 (None, 19, 19, 728)  536536      block6_sepconv3_act[0][0]        \n",
      "__________________________________________________________________________________________________\n",
      "block6_sepconv3_bn (BatchNormal (None, 19, 19, 728)  2912        block6_sepconv3[0][0]            \n",
      "__________________________________________________________________________________________________\n",
      "add_4 (Add)                     (None, 19, 19, 728)  0           block6_sepconv3_bn[0][0]         \n",
      "                                                                 add_3[0][0]                      \n",
      "__________________________________________________________________________________________________\n",
      "block7_sepconv1_act (Activation (None, 19, 19, 728)  0           add_4[0][0]                      \n",
      "__________________________________________________________________________________________________\n",
      "block7_sepconv1 (SeparableConv2 (None, 19, 19, 728)  536536      block7_sepconv1_act[0][0]        \n",
      "__________________________________________________________________________________________________\n",
      "block7_sepconv1_bn (BatchNormal (None, 19, 19, 728)  2912        block7_sepconv1[0][0]            \n",
      "__________________________________________________________________________________________________\n",
      "block7_sepconv2_act (Activation (None, 19, 19, 728)  0           block7_sepconv1_bn[0][0]         \n",
      "__________________________________________________________________________________________________\n",
      "block7_sepconv2 (SeparableConv2 (None, 19, 19, 728)  536536      block7_sepconv2_act[0][0]        \n",
      "__________________________________________________________________________________________________\n",
      "block7_sepconv2_bn (BatchNormal (None, 19, 19, 728)  2912        block7_sepconv2[0][0]            \n",
      "__________________________________________________________________________________________________\n",
      "block7_sepconv3_act (Activation (None, 19, 19, 728)  0           block7_sepconv2_bn[0][0]         \n",
      "__________________________________________________________________________________________________\n",
      "block7_sepconv3 (SeparableConv2 (None, 19, 19, 728)  536536      block7_sepconv3_act[0][0]        \n",
      "__________________________________________________________________________________________________\n",
      "block7_sepconv3_bn (BatchNormal (None, 19, 19, 728)  2912        block7_sepconv3[0][0]            \n",
      "__________________________________________________________________________________________________\n",
      "add_5 (Add)                     (None, 19, 19, 728)  0           block7_sepconv3_bn[0][0]         \n",
      "                                                                 add_4[0][0]                      \n",
      "__________________________________________________________________________________________________\n",
      "block8_sepconv1_act (Activation (None, 19, 19, 728)  0           add_5[0][0]                      \n",
      "__________________________________________________________________________________________________\n",
      "block8_sepconv1 (SeparableConv2 (None, 19, 19, 728)  536536      block8_sepconv1_act[0][0]        \n",
      "__________________________________________________________________________________________________\n",
      "block8_sepconv1_bn (BatchNormal (None, 19, 19, 728)  2912        block8_sepconv1[0][0]            \n",
      "__________________________________________________________________________________________________\n",
      "block8_sepconv2_act (Activation (None, 19, 19, 728)  0           block8_sepconv1_bn[0][0]         \n",
      "__________________________________________________________________________________________________\n",
      "block8_sepconv2 (SeparableConv2 (None, 19, 19, 728)  536536      block8_sepconv2_act[0][0]        \n",
      "__________________________________________________________________________________________________\n",
      "block8_sepconv2_bn (BatchNormal (None, 19, 19, 728)  2912        block8_sepconv2[0][0]            \n",
      "__________________________________________________________________________________________________\n",
      "block8_sepconv3_act (Activation (None, 19, 19, 728)  0           block8_sepconv2_bn[0][0]         \n",
      "__________________________________________________________________________________________________\n",
      "block8_sepconv3 (SeparableConv2 (None, 19, 19, 728)  536536      block8_sepconv3_act[0][0]        \n",
      "__________________________________________________________________________________________________\n",
      "block8_sepconv3_bn (BatchNormal (None, 19, 19, 728)  2912        block8_sepconv3[0][0]            \n",
      "__________________________________________________________________________________________________\n",
      "add_6 (Add)                     (None, 19, 19, 728)  0           block8_sepconv3_bn[0][0]         \n",
      "                                                                 add_5[0][0]                      \n",
      "__________________________________________________________________________________________________\n",
      "block9_sepconv1_act (Activation (None, 19, 19, 728)  0           add_6[0][0]                      \n",
      "__________________________________________________________________________________________________\n",
      "block9_sepconv1 (SeparableConv2 (None, 19, 19, 728)  536536      block9_sepconv1_act[0][0]        \n",
      "__________________________________________________________________________________________________\n",
      "block9_sepconv1_bn (BatchNormal (None, 19, 19, 728)  2912        block9_sepconv1[0][0]            \n",
      "__________________________________________________________________________________________________\n",
      "block9_sepconv2_act (Activation (None, 19, 19, 728)  0           block9_sepconv1_bn[0][0]         \n",
      "__________________________________________________________________________________________________\n",
      "block9_sepconv2 (SeparableConv2 (None, 19, 19, 728)  536536      block9_sepconv2_act[0][0]        \n",
      "__________________________________________________________________________________________________\n",
      "block9_sepconv2_bn (BatchNormal (None, 19, 19, 728)  2912        block9_sepconv2[0][0]            \n",
      "__________________________________________________________________________________________________\n",
      "block9_sepconv3_act (Activation (None, 19, 19, 728)  0           block9_sepconv2_bn[0][0]         \n",
      "__________________________________________________________________________________________________\n",
      "block9_sepconv3 (SeparableConv2 (None, 19, 19, 728)  536536      block9_sepconv3_act[0][0]        \n",
      "__________________________________________________________________________________________________\n",
      "block9_sepconv3_bn (BatchNormal (None, 19, 19, 728)  2912        block9_sepconv3[0][0]            \n",
      "__________________________________________________________________________________________________\n",
      "add_7 (Add)                     (None, 19, 19, 728)  0           block9_sepconv3_bn[0][0]         \n",
      "                                                                 add_6[0][0]                      \n",
      "__________________________________________________________________________________________________\n",
      "block10_sepconv1_act (Activatio (None, 19, 19, 728)  0           add_7[0][0]                      \n",
      "__________________________________________________________________________________________________\n",
      "block10_sepconv1 (SeparableConv (None, 19, 19, 728)  536536      block10_sepconv1_act[0][0]       \n",
      "__________________________________________________________________________________________________\n",
      "block10_sepconv1_bn (BatchNorma (None, 19, 19, 728)  2912        block10_sepconv1[0][0]           \n",
      "__________________________________________________________________________________________________\n",
      "block10_sepconv2_act (Activatio (None, 19, 19, 728)  0           block10_sepconv1_bn[0][0]        \n",
      "__________________________________________________________________________________________________\n",
      "block10_sepconv2 (SeparableConv (None, 19, 19, 728)  536536      block10_sepconv2_act[0][0]       \n",
      "__________________________________________________________________________________________________\n",
      "block10_sepconv2_bn (BatchNorma (None, 19, 19, 728)  2912        block10_sepconv2[0][0]           \n",
      "__________________________________________________________________________________________________\n",
      "block10_sepconv3_act (Activatio (None, 19, 19, 728)  0           block10_sepconv2_bn[0][0]        \n",
      "__________________________________________________________________________________________________\n",
      "block10_sepconv3 (SeparableConv (None, 19, 19, 728)  536536      block10_sepconv3_act[0][0]       \n",
      "__________________________________________________________________________________________________\n",
      "block10_sepconv3_bn (BatchNorma (None, 19, 19, 728)  2912        block10_sepconv3[0][0]           \n",
      "__________________________________________________________________________________________________\n",
      "add_8 (Add)                     (None, 19, 19, 728)  0           block10_sepconv3_bn[0][0]        \n",
      "                                                                 add_7[0][0]                      \n",
      "__________________________________________________________________________________________________\n",
      "block11_sepconv1_act (Activatio (None, 19, 19, 728)  0           add_8[0][0]                      \n",
      "__________________________________________________________________________________________________\n",
      "block11_sepconv1 (SeparableConv (None, 19, 19, 728)  536536      block11_sepconv1_act[0][0]       \n",
      "__________________________________________________________________________________________________\n",
      "block11_sepconv1_bn (BatchNorma (None, 19, 19, 728)  2912        block11_sepconv1[0][0]           \n",
      "__________________________________________________________________________________________________\n",
      "block11_sepconv2_act (Activatio (None, 19, 19, 728)  0           block11_sepconv1_bn[0][0]        \n",
      "__________________________________________________________________________________________________\n",
      "block11_sepconv2 (SeparableConv (None, 19, 19, 728)  536536      block11_sepconv2_act[0][0]       \n",
      "__________________________________________________________________________________________________\n",
      "block11_sepconv2_bn (BatchNorma (None, 19, 19, 728)  2912        block11_sepconv2[0][0]           \n",
      "__________________________________________________________________________________________________\n",
      "block11_sepconv3_act (Activatio (None, 19, 19, 728)  0           block11_sepconv2_bn[0][0]        \n",
      "__________________________________________________________________________________________________\n",
      "block11_sepconv3 (SeparableConv (None, 19, 19, 728)  536536      block11_sepconv3_act[0][0]       \n",
      "__________________________________________________________________________________________________\n",
      "block11_sepconv3_bn (BatchNorma (None, 19, 19, 728)  2912        block11_sepconv3[0][0]           \n",
      "__________________________________________________________________________________________________\n",
      "add_9 (Add)                     (None, 19, 19, 728)  0           block11_sepconv3_bn[0][0]        \n",
      "                                                                 add_8[0][0]                      \n",
      "__________________________________________________________________________________________________\n",
      "block12_sepconv1_act (Activatio (None, 19, 19, 728)  0           add_9[0][0]                      \n",
      "__________________________________________________________________________________________________\n",
      "block12_sepconv1 (SeparableConv (None, 19, 19, 728)  536536      block12_sepconv1_act[0][0]       \n",
      "__________________________________________________________________________________________________\n",
      "block12_sepconv1_bn (BatchNorma (None, 19, 19, 728)  2912        block12_sepconv1[0][0]           \n",
      "__________________________________________________________________________________________________\n",
      "block12_sepconv2_act (Activatio (None, 19, 19, 728)  0           block12_sepconv1_bn[0][0]        \n",
      "__________________________________________________________________________________________________\n",
      "block12_sepconv2 (SeparableConv (None, 19, 19, 728)  536536      block12_sepconv2_act[0][0]       \n",
      "__________________________________________________________________________________________________\n",
      "block12_sepconv2_bn (BatchNorma (None, 19, 19, 728)  2912        block12_sepconv2[0][0]           \n",
      "__________________________________________________________________________________________________\n",
      "block12_sepconv3_act (Activatio (None, 19, 19, 728)  0           block12_sepconv2_bn[0][0]        \n",
      "__________________________________________________________________________________________________\n",
      "block12_sepconv3 (SeparableConv (None, 19, 19, 728)  536536      block12_sepconv3_act[0][0]       \n",
      "__________________________________________________________________________________________________\n",
      "block12_sepconv3_bn (BatchNorma (None, 19, 19, 728)  2912        block12_sepconv3[0][0]           \n",
      "__________________________________________________________________________________________________\n",
      "add_10 (Add)                    (None, 19, 19, 728)  0           block12_sepconv3_bn[0][0]        \n",
      "                                                                 add_9[0][0]                      \n",
      "__________________________________________________________________________________________________\n",
      "block13_sepconv1_act (Activatio (None, 19, 19, 728)  0           add_10[0][0]                     \n",
      "__________________________________________________________________________________________________\n",
      "block13_sepconv1 (SeparableConv (None, 19, 19, 728)  536536      block13_sepconv1_act[0][0]       \n",
      "__________________________________________________________________________________________________\n",
      "block13_sepconv1_bn (BatchNorma (None, 19, 19, 728)  2912        block13_sepconv1[0][0]           \n",
      "__________________________________________________________________________________________________\n",
      "block13_sepconv2_act (Activatio (None, 19, 19, 728)  0           block13_sepconv1_bn[0][0]        \n",
      "__________________________________________________________________________________________________\n",
      "block13_sepconv2 (SeparableConv (None, 19, 19, 1024) 752024      block13_sepconv2_act[0][0]       \n",
      "__________________________________________________________________________________________________\n",
      "block13_sepconv2_bn (BatchNorma (None, 19, 19, 1024) 4096        block13_sepconv2[0][0]           \n",
      "__________________________________________________________________________________________________\n",
      "conv2d_3 (Conv2D)               (None, 10, 10, 1024) 745472      add_10[0][0]                     \n",
      "__________________________________________________________________________________________________\n",
      "block13_pool (MaxPooling2D)     (None, 10, 10, 1024) 0           block13_sepconv2_bn[0][0]        \n",
      "__________________________________________________________________________________________________\n",
      "batch_normalization_3 (BatchNor (None, 10, 10, 1024) 4096        conv2d_3[0][0]                   \n",
      "__________________________________________________________________________________________________\n",
      "add_11 (Add)                    (None, 10, 10, 1024) 0           block13_pool[0][0]               \n",
      "                                                                 batch_normalization_3[0][0]      \n",
      "__________________________________________________________________________________________________\n",
      "block14_sepconv1 (SeparableConv (None, 10, 10, 1536) 1582080     add_11[0][0]                     \n",
      "__________________________________________________________________________________________________\n",
      "block14_sepconv1_bn (BatchNorma (None, 10, 10, 1536) 6144        block14_sepconv1[0][0]           \n",
      "__________________________________________________________________________________________________\n",
      "block14_sepconv1_act (Activatio (None, 10, 10, 1536) 0           block14_sepconv1_bn[0][0]        \n",
      "__________________________________________________________________________________________________\n",
      "block14_sepconv2 (SeparableConv (None, 10, 10, 2048) 3159552     block14_sepconv1_act[0][0]       \n",
      "__________________________________________________________________________________________________\n",
      "block14_sepconv2_bn (BatchNorma (None, 10, 10, 2048) 8192        block14_sepconv2[0][0]           \n",
      "__________________________________________________________________________________________________\n",
      "block14_sepconv2_act (Activatio (None, 10, 10, 2048) 0           block14_sepconv2_bn[0][0]        \n",
      "__________________________________________________________________________________________________\n",
      "avg_pool (GlobalAveragePooling2 (None, 2048)         0           block14_sepconv2_act[0][0]       \n",
      "__________________________________________________________________________________________________\n",
      "predictions (Dense)             (None, 1000)         2049000     avg_pool[0][0]                   \n",
      "==================================================================================================\n",
      "Total params: 22,910,480\n",
      "Trainable params: 22,855,952\n",
      "Non-trainable params: 54,528\n",
      "__________________________________________________________________________________________________\n"
     ]
    }
   ],
   "source": [
    "model.summary()"
   ]
  },
  {
   "cell_type": "code",
   "execution_count": null,
   "id": "3ea2124d",
   "metadata": {},
   "outputs": [],
   "source": []
  }
 ],
 "metadata": {
  "kernelspec": {
   "display_name": "Python 3",
   "language": "python",
   "name": "python3"
  },
  "language_info": {
   "codemirror_mode": {
    "name": "ipython",
    "version": 3
   },
   "file_extension": ".py",
   "mimetype": "text/x-python",
   "name": "python",
   "nbconvert_exporter": "python",
   "pygments_lexer": "ipython3",
   "version": "3.6.13"
  }
 },
 "nbformat": 4,
 "nbformat_minor": 5
}
