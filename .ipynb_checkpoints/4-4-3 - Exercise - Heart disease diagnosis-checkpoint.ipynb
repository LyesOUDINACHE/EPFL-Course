{
 "cells": [
  {
   "cell_type": "markdown",
   "metadata": {},
   "source": [
    "Heart disease diagnosis\n",
    "---"
   ]
  },
  {
   "cell_type": "markdown",
   "metadata": {},
   "source": [
    "## Exercise - Evaluate \"most-frequent\" baseline\n",
    "\n",
    "> **Exercise**: Load and split the `heart-disease.csv` data into 70-30 train/test sets - make sure to keep the same proportion of classes by setting `stratify`. Evaluate the accuracy of the \"most-frequent\" baseline."
   ]
  },
  {
   "cell_type": "code",
   "execution_count": 35,
   "metadata": {},
   "outputs": [
    {
     "data": {
      "text/html": [
       "<div>\n",
       "<style scoped>\n",
       "    .dataframe tbody tr th:only-of-type {\n",
       "        vertical-align: middle;\n",
       "    }\n",
       "\n",
       "    .dataframe tbody tr th {\n",
       "        vertical-align: top;\n",
       "    }\n",
       "\n",
       "    .dataframe thead th {\n",
       "        text-align: right;\n",
       "    }\n",
       "</style>\n",
       "<table border=\"1\" class=\"dataframe\">\n",
       "  <thead>\n",
       "    <tr style=\"text-align: right;\">\n",
       "      <th></th>\n",
       "      <th>age</th>\n",
       "      <th>sex</th>\n",
       "      <th>cp</th>\n",
       "      <th>trestbps</th>\n",
       "      <th>chol</th>\n",
       "      <th>fbs</th>\n",
       "      <th>restecg</th>\n",
       "      <th>thalach</th>\n",
       "      <th>exang</th>\n",
       "      <th>oldpeak</th>\n",
       "      <th>slope</th>\n",
       "      <th>ca</th>\n",
       "      <th>thal</th>\n",
       "      <th>disease</th>\n",
       "    </tr>\n",
       "  </thead>\n",
       "  <tbody>\n",
       "    <tr>\n",
       "      <th>0</th>\n",
       "      <td>63</td>\n",
       "      <td>male</td>\n",
       "      <td>typical angina</td>\n",
       "      <td>145</td>\n",
       "      <td>233</td>\n",
       "      <td>yes</td>\n",
       "      <td>ventricular hypertrophy</td>\n",
       "      <td>150</td>\n",
       "      <td>no</td>\n",
       "      <td>2.3</td>\n",
       "      <td>downsloping</td>\n",
       "      <td>0</td>\n",
       "      <td>fixed defect</td>\n",
       "      <td>absence</td>\n",
       "    </tr>\n",
       "    <tr>\n",
       "      <th>1</th>\n",
       "      <td>67</td>\n",
       "      <td>male</td>\n",
       "      <td>asymptomatic</td>\n",
       "      <td>160</td>\n",
       "      <td>286</td>\n",
       "      <td>no</td>\n",
       "      <td>ventricular hypertrophy</td>\n",
       "      <td>108</td>\n",
       "      <td>yes</td>\n",
       "      <td>1.5</td>\n",
       "      <td>flat</td>\n",
       "      <td>3</td>\n",
       "      <td>normal</td>\n",
       "      <td>likely</td>\n",
       "    </tr>\n",
       "    <tr>\n",
       "      <th>2</th>\n",
       "      <td>67</td>\n",
       "      <td>male</td>\n",
       "      <td>asymptomatic</td>\n",
       "      <td>120</td>\n",
       "      <td>229</td>\n",
       "      <td>no</td>\n",
       "      <td>ventricular hypertrophy</td>\n",
       "      <td>129</td>\n",
       "      <td>yes</td>\n",
       "      <td>2.6</td>\n",
       "      <td>flat</td>\n",
       "      <td>2</td>\n",
       "      <td>reversable defect</td>\n",
       "      <td>likely</td>\n",
       "    </tr>\n",
       "    <tr>\n",
       "      <th>3</th>\n",
       "      <td>37</td>\n",
       "      <td>male</td>\n",
       "      <td>non-anginal pain</td>\n",
       "      <td>130</td>\n",
       "      <td>250</td>\n",
       "      <td>no</td>\n",
       "      <td>normal</td>\n",
       "      <td>187</td>\n",
       "      <td>no</td>\n",
       "      <td>3.5</td>\n",
       "      <td>downsloping</td>\n",
       "      <td>0</td>\n",
       "      <td>normal</td>\n",
       "      <td>absence</td>\n",
       "    </tr>\n",
       "    <tr>\n",
       "      <th>4</th>\n",
       "      <td>41</td>\n",
       "      <td>female</td>\n",
       "      <td>atypical angina</td>\n",
       "      <td>130</td>\n",
       "      <td>204</td>\n",
       "      <td>no</td>\n",
       "      <td>ventricular hypertrophy</td>\n",
       "      <td>172</td>\n",
       "      <td>no</td>\n",
       "      <td>1.4</td>\n",
       "      <td>upsloping</td>\n",
       "      <td>0</td>\n",
       "      <td>normal</td>\n",
       "      <td>absence</td>\n",
       "    </tr>\n",
       "  </tbody>\n",
       "</table>\n",
       "</div>"
      ],
      "text/plain": [
       "   age     sex                cp  trestbps  chol  fbs  \\\n",
       "0   63    male    typical angina       145   233  yes   \n",
       "1   67    male      asymptomatic       160   286   no   \n",
       "2   67    male      asymptomatic       120   229   no   \n",
       "3   37    male  non-anginal pain       130   250   no   \n",
       "4   41  female   atypical angina       130   204   no   \n",
       "\n",
       "                   restecg  thalach exang  oldpeak        slope  ca  \\\n",
       "0  ventricular hypertrophy      150    no      2.3  downsloping   0   \n",
       "1  ventricular hypertrophy      108   yes      1.5         flat   3   \n",
       "2  ventricular hypertrophy      129   yes      2.6         flat   2   \n",
       "3                   normal      187    no      3.5  downsloping   0   \n",
       "4  ventricular hypertrophy      172    no      1.4    upsloping   0   \n",
       "\n",
       "                thal  disease  \n",
       "0       fixed defect  absence  \n",
       "1             normal   likely  \n",
       "2  reversable defect   likely  \n",
       "3             normal  absence  \n",
       "4             normal  absence  "
      ]
     },
     "execution_count": 35,
     "metadata": {},
     "output_type": "execute_result"
    }
   ],
   "source": [
    "import pandas as pd\n",
    "import numpy as np\n",
    "\n",
    "# Load data\n",
    "data_df = pd.read_csv('heart-disease.csv')\n",
    "\n",
    "# First five rows\n",
    "data_df.head()"
   ]
  },
  {
   "cell_type": "code",
   "execution_count": 36,
   "metadata": {},
   "outputs": [],
   "source": [
    "# Create X/y arrays\n",
    "X = data_df.drop('disease', axis=1)\n",
    "y = data_df['disease']"
   ]
  },
  {
   "cell_type": "code",
   "execution_count": 37,
   "metadata": {},
   "outputs": [
    {
     "name": "stdout",
     "output_type": "stream",
     "text": [
      "Train set: (212, 13) (212,)\n",
      "Test set: (91, 13) (91,)\n"
     ]
    }
   ],
   "source": [
    "# Split into train/test sets\n",
    "from sklearn.model_selection import train_test_split\n",
    "\n",
    "X_tr, X_te, y_tr, y_te = train_test_split(\n",
    "    X, y, test_size=0.3, stratify=y, random_state=0)\n",
    "\n",
    "\n",
    "print('Train set:', X_tr.shape, y_tr.shape)\n",
    "# Prints: (212, 6) (212,)\n",
    "\n",
    "print('Test set:', X_te.shape, y_te.shape)"
   ]
  },
  {
   "cell_type": "code",
   "execution_count": 38,
   "metadata": {},
   "outputs": [
    {
     "data": {
      "text/plain": [
       "array(['absence', 'likely', 'very likely'], dtype=object)"
      ]
     },
     "execution_count": 38,
     "metadata": {},
     "output_type": "execute_result"
    }
   ],
   "source": [
    "np.unique(y_tr)"
   ]
  },
  {
   "cell_type": "code",
   "execution_count": 39,
   "metadata": {},
   "outputs": [
    {
     "name": "stdout",
     "output_type": "stream",
     "text": [
      "Probability absence: 0.5424528301886793\n",
      "Probability likely: 0.3018867924528302\n",
      "Probability very likely: 0.15566037735849056\n",
      "Check total: 1.0\n"
     ]
    }
   ],
   "source": [
    "# Count the number of entries labeled with each output and calculate probability\n",
    "# Probability of 'absence'\n",
    "p_absence = np.sum(y_tr == 'absence') / len(y_tr)\n",
    "p_likely = np.sum(y_tr == 'likely') / len(y_tr)\n",
    "p_vlikely = np.sum(y_tr == 'very likely') / len(y_tr)\n",
    "\n",
    "print('Probability absence:', p_absence)\n",
    "print('Probability likely:', p_likely)\n",
    "print('Probability very likely:', p_vlikely)\n",
    "print('Check total:', p_absence+p_likely+p_vlikely)"
   ]
  },
  {
   "cell_type": "code",
   "execution_count": 40,
   "metadata": {},
   "outputs": [
    {
     "data": {
      "text/plain": [
       "absence        0.542453\n",
       "likely         0.301887\n",
       "very likely    0.155660\n",
       "Name: disease, dtype: float64"
      ]
     },
     "execution_count": 40,
     "metadata": {},
     "output_type": "execute_result"
    }
   ],
   "source": [
    "# Or using Pandas\n",
    "pd.Series(y_tr).value_counts(normalize=True)"
   ]
  },
  {
   "cell_type": "code",
   "execution_count": 41,
   "metadata": {},
   "outputs": [
    {
     "name": "stdout",
     "output_type": "stream",
     "text": [
      "Accuracy: 0.54\n"
     ]
    }
   ],
   "source": [
    "from sklearn.dummy import DummyClassifier\n",
    "# Create the dummy classifier\n",
    "dummy = DummyClassifier(strategy='most_frequent')\n",
    "\n",
    "# Fit it\n",
    "dummy.fit(None, y_tr)\n",
    "\n",
    "# Compute test accuracy\n",
    "accuracy = dummy.score(None, y_te)\n",
    "print('Accuracy: {:.2f}'.format(accuracy))"
   ]
  },
  {
   "cell_type": "markdown",
   "metadata": {},
   "source": [
    "The \"most frequent\" baseline is \"absence\" with an accuracy of 54%."
   ]
  },
  {
   "cell_type": "markdown",
   "metadata": {},
   "source": [
    "Exercise - Evaluate k-NN baseline\n",
    "---\n",
    "\n",
    "> **Exercise**: Tune a k-NN classifier using grid search with **stratified 10-fold** cross-validation\n",
    "> * Number of neighbors k\n",
    "> * Distance metric - $L_{1}$ or $L_{2}$\n",
    "> * Weighting strategy - uniform or by distance\n",
    ">\n",
    "> Refit the best estimator on the whole train set and report the test accuracy.\n",
    "\n",
    "Data set documentation: http://archive.ics.uci.edu/ml/datasets/heart+Disease"
   ]
  },
  {
   "cell_type": "code",
   "execution_count": 42,
   "metadata": {},
   "outputs": [],
   "source": [
    "from sklearn.preprocessing import OneHotEncoder\n",
    "from sklearn.compose import ColumnTransformer\n",
    "\n",
    "# One-hot encoding\n",
    "onehot_columns = ['sex', 'cp', 'fbs', 'restecg', 'exang', 'slope', 'thal']\n",
    "\n",
    "# Numerical features\n",
    "other_columns = ['age', 'trestbps', 'chol', 'thalach', 'oldpeak', 'ca']\n",
    "\n",
    "# Preprocessor\n",
    "preprocessor = ColumnTransformer([\n",
    "    ('onehot', OneHotEncoder(handle_unknown='ignore'), onehot_columns),\n",
    "    ('other', 'passthrough', other_columns)\n",
    "])"
   ]
  },
  {
   "cell_type": "code",
   "execution_count": 48,
   "metadata": {},
   "outputs": [],
   "source": [
    "from sklearn.neighbors import KNeighborsClassifier\n",
    "from sklearn.model_selection import GridSearchCV\n",
    "from sklearn.preprocessing import StandardScaler\n",
    "from sklearn.pipeline import Pipeline\n",
    "\n",
    "\n",
    "# k-NN estimator\n",
    "knn_estimator = Pipeline([\n",
    "    ('preprocessor', preprocessor),\n",
    "    ('scaler', StandardScaler()), # Standardize features before k-NN\n",
    "    ('knn', KNeighborsClassifier())\n",
    "])\n",
    "\n",
    "# Grid search with cross-validation\n",
    "grid = {\n",
    "    'knn__n_neighbors': [1, 5, 10, 15, 20],\n",
    "    'knn__weights': ['uniform', 'distance'],\n",
    "    'knn__p': [1, 2]\n",
    "}\n",
    "\n"
   ]
  },
  {
   "cell_type": "code",
   "execution_count": 49,
   "metadata": {},
   "outputs": [
    {
     "name": "stdout",
     "output_type": "stream",
     "text": [
      "Accuracy: 0.626\n"
     ]
    }
   ],
   "source": [
    "# Fit estimator before Grid Search\n",
    "knn_estimator.fit(X_tr, y_tr)\n",
    "\n",
    "# Evaluate on test set\n",
    "accuracy = knn_estimator.score(X_te, y_te)\n",
    "print('Accuracy: {:.3f}'.format(accuracy))\n"
   ]
  },
  {
   "cell_type": "code",
   "execution_count": 50,
   "metadata": {},
   "outputs": [],
   "source": [
    "knn_gscv = GridSearchCV(knn_estimator, grid, cv=10, refit=True, return_train_score=True)"
   ]
  },
  {
   "cell_type": "code",
   "execution_count": 51,
   "metadata": {},
   "outputs": [
    {
     "name": "stderr",
     "output_type": "stream",
     "text": [
      "C:\\Users\\lyeso\\anaconda3\\envs\\exts-ml\\lib\\site-packages\\sklearn\\model_selection\\_search.py:841: DeprecationWarning: The default of the `iid` parameter will change from True to False in version 0.22 and will be removed in 0.24. This will change numeric results when test-set sizes are unequal.\n",
      "  DeprecationWarning)\n"
     ]
    },
    {
     "data": {
      "text/html": [
       "<div>\n",
       "<style scoped>\n",
       "    .dataframe tbody tr th:only-of-type {\n",
       "        vertical-align: middle;\n",
       "    }\n",
       "\n",
       "    .dataframe tbody tr th {\n",
       "        vertical-align: top;\n",
       "    }\n",
       "\n",
       "    .dataframe thead th {\n",
       "        text-align: right;\n",
       "    }\n",
       "</style>\n",
       "<table border=\"1\" class=\"dataframe\">\n",
       "  <thead>\n",
       "    <tr style=\"text-align: right;\">\n",
       "      <th></th>\n",
       "      <th>k</th>\n",
       "      <th>p</th>\n",
       "      <th>weights</th>\n",
       "      <th>mean_tr</th>\n",
       "      <th>mean_te</th>\n",
       "      <th>std_te</th>\n",
       "    </tr>\n",
       "  </thead>\n",
       "  <tbody>\n",
       "    <tr>\n",
       "      <th>16</th>\n",
       "      <td>20</td>\n",
       "      <td>1</td>\n",
       "      <td>uniform</td>\n",
       "      <td>0.689223</td>\n",
       "      <td>0.660377</td>\n",
       "      <td>0.083232</td>\n",
       "    </tr>\n",
       "    <tr>\n",
       "      <th>8</th>\n",
       "      <td>10</td>\n",
       "      <td>1</td>\n",
       "      <td>uniform</td>\n",
       "      <td>0.703390</td>\n",
       "      <td>0.660377</td>\n",
       "      <td>0.075691</td>\n",
       "    </tr>\n",
       "    <tr>\n",
       "      <th>15</th>\n",
       "      <td>15</td>\n",
       "      <td>2</td>\n",
       "      <td>distance</td>\n",
       "      <td>1.000000</td>\n",
       "      <td>0.655660</td>\n",
       "      <td>0.079192</td>\n",
       "    </tr>\n",
       "    <tr>\n",
       "      <th>14</th>\n",
       "      <td>15</td>\n",
       "      <td>2</td>\n",
       "      <td>uniform</td>\n",
       "      <td>0.696586</td>\n",
       "      <td>0.655660</td>\n",
       "      <td>0.088311</td>\n",
       "    </tr>\n",
       "    <tr>\n",
       "      <th>11</th>\n",
       "      <td>10</td>\n",
       "      <td>2</td>\n",
       "      <td>distance</td>\n",
       "      <td>1.000000</td>\n",
       "      <td>0.650943</td>\n",
       "      <td>0.074498</td>\n",
       "    </tr>\n",
       "    <tr>\n",
       "      <th>10</th>\n",
       "      <td>10</td>\n",
       "      <td>2</td>\n",
       "      <td>uniform</td>\n",
       "      <td>0.705967</td>\n",
       "      <td>0.636792</td>\n",
       "      <td>0.068658</td>\n",
       "    </tr>\n",
       "    <tr>\n",
       "      <th>18</th>\n",
       "      <td>20</td>\n",
       "      <td>2</td>\n",
       "      <td>uniform</td>\n",
       "      <td>0.689237</td>\n",
       "      <td>0.632075</td>\n",
       "      <td>0.090665</td>\n",
       "    </tr>\n",
       "    <tr>\n",
       "      <th>17</th>\n",
       "      <td>20</td>\n",
       "      <td>1</td>\n",
       "      <td>distance</td>\n",
       "      <td>1.000000</td>\n",
       "      <td>0.632075</td>\n",
       "      <td>0.078631</td>\n",
       "    </tr>\n",
       "    <tr>\n",
       "      <th>9</th>\n",
       "      <td>10</td>\n",
       "      <td>1</td>\n",
       "      <td>distance</td>\n",
       "      <td>1.000000</td>\n",
       "      <td>0.632075</td>\n",
       "      <td>0.077286</td>\n",
       "    </tr>\n",
       "    <tr>\n",
       "      <th>12</th>\n",
       "      <td>15</td>\n",
       "      <td>1</td>\n",
       "      <td>uniform</td>\n",
       "      <td>0.686076</td>\n",
       "      <td>0.632075</td>\n",
       "      <td>0.088146</td>\n",
       "    </tr>\n",
       "  </tbody>\n",
       "</table>\n",
       "</div>"
      ],
      "text/plain": [
       "     k  p   weights   mean_tr   mean_te    std_te\n",
       "16  20  1   uniform  0.689223  0.660377  0.083232\n",
       "8   10  1   uniform  0.703390  0.660377  0.075691\n",
       "15  15  2  distance  1.000000  0.655660  0.079192\n",
       "14  15  2   uniform  0.696586  0.655660  0.088311\n",
       "11  10  2  distance  1.000000  0.650943  0.074498\n",
       "10  10  2   uniform  0.705967  0.636792  0.068658\n",
       "18  20  2   uniform  0.689237  0.632075  0.090665\n",
       "17  20  1  distance  1.000000  0.632075  0.078631\n",
       "9   10  1  distance  1.000000  0.632075  0.077286\n",
       "12  15  1   uniform  0.686076  0.632075  0.088146"
      ]
     },
     "execution_count": 51,
     "metadata": {},
     "output_type": "execute_result"
    }
   ],
   "source": [
    "# Fit/evaluate estimator\n",
    "knn_gscv.fit(X_tr, y_tr)\n",
    "\n",
    "# Collect results in a DataFrame\n",
    "knn_results = pd.DataFrame({\n",
    "    'k': knn_gscv.cv_results_['param_knn__n_neighbors'],\n",
    "    'p': knn_gscv.cv_results_['param_knn__p'],\n",
    "    'weights': knn_gscv.cv_results_['param_knn__weights'],\n",
    "    'mean_tr': knn_gscv.cv_results_['mean_train_score'],\n",
    "    'mean_te': knn_gscv.cv_results_['mean_test_score'],\n",
    "    'std_te': knn_gscv.cv_results_['std_test_score']\n",
    "})\n",
    "\n",
    "# Ten best combinations according to the mean \"test\" score\n",
    "# i.e. the mean score on the 10 validation folds\n",
    "knn_results.sort_values(by='mean_te', ascending=False).head(10)"
   ]
  },
  {
   "cell_type": "code",
   "execution_count": 52,
   "metadata": {},
   "outputs": [
    {
     "name": "stdout",
     "output_type": "stream",
     "text": [
      "Test accuracy: 64.84%\n"
     ]
    }
   ],
   "source": [
    "# Report test score\n",
    "print('Test accuracy: {:.2f}%'.format(100*knn_gscv.score(X_te, y_te)))"
   ]
  },
  {
   "cell_type": "markdown",
   "metadata": {},
   "source": [
    "Exercise - Logistic regression\n",
    "---\n",
    "\n",
    "> **Exercise**: Same with a logistic regression\n",
    "> * Try both OvR and softmax\n",
    "> * tune C\n",
    ">\n",
    "> Which estimator would you use in practice? k-NN or logistic regression?"
   ]
  },
  {
   "cell_type": "code",
   "execution_count": 53,
   "metadata": {},
   "outputs": [],
   "source": [
    "from sklearn.linear_model import LogisticRegression\n",
    "import numpy as np\n",
    "\n",
    "# Logistic regression estimator\n",
    "logreg_estimator = Pipeline([\n",
    "    ('preprocessor', preprocessor),\n",
    "    ('scaler', StandardScaler()), # due to standardization and solvers sensitive to rescaling\n",
    "    ('logreg', LogisticRegression())\n",
    "])\n",
    "\n",
    "# Grid search with cross-validation\n",
    "Cs = np.logspace(-4, 4, num=20)\n",
    "grids = [{\n",
    "    'logreg__multi_class': ['ovr'],\n",
    "    'logreg__solver': ['liblinear'],\n",
    "    'logreg__C': Cs\n",
    "}, {\n",
    "    'logreg__multi_class': ['multinomial'],\n",
    "    'logreg__solver': ['saga'],\n",
    "    'logreg__C': Cs\n",
    "}]"
   ]
  },
  {
   "cell_type": "code",
   "execution_count": 54,
   "metadata": {},
   "outputs": [],
   "source": [
    "logreg_gscv = GridSearchCV(logreg_estimator, grids, cv=10, refit=True, return_train_score=True)"
   ]
  },
  {
   "cell_type": "code",
   "execution_count": 55,
   "metadata": {},
   "outputs": [
    {
     "name": "stderr",
     "output_type": "stream",
     "text": [
      "C:\\Users\\lyeso\\anaconda3\\envs\\exts-ml\\lib\\site-packages\\sklearn\\model_selection\\_search.py:841: DeprecationWarning: The default of the `iid` parameter will change from True to False in version 0.22 and will be removed in 0.24. This will change numeric results when test-set sizes are unequal.\n",
      "  DeprecationWarning)\n"
     ]
    },
    {
     "data": {
      "text/html": [
       "<div>\n",
       "<style scoped>\n",
       "    .dataframe tbody tr th:only-of-type {\n",
       "        vertical-align: middle;\n",
       "    }\n",
       "\n",
       "    .dataframe tbody tr th {\n",
       "        vertical-align: top;\n",
       "    }\n",
       "\n",
       "    .dataframe thead th {\n",
       "        text-align: right;\n",
       "    }\n",
       "</style>\n",
       "<table border=\"1\" class=\"dataframe\">\n",
       "  <thead>\n",
       "    <tr style=\"text-align: right;\">\n",
       "      <th></th>\n",
       "      <th>strategy</th>\n",
       "      <th>C</th>\n",
       "      <th>mean_tr</th>\n",
       "      <th>mean_te</th>\n",
       "      <th>std_te</th>\n",
       "    </tr>\n",
       "  </thead>\n",
       "  <tbody>\n",
       "    <tr>\n",
       "      <th>24</th>\n",
       "      <td>multinomial</td>\n",
       "      <td>0.00483293</td>\n",
       "      <td>0.688198</td>\n",
       "      <td>0.669811</td>\n",
       "      <td>0.071303</td>\n",
       "    </tr>\n",
       "    <tr>\n",
       "      <th>39</th>\n",
       "      <td>multinomial</td>\n",
       "      <td>10000</td>\n",
       "      <td>0.760943</td>\n",
       "      <td>0.665094</td>\n",
       "      <td>0.085097</td>\n",
       "    </tr>\n",
       "    <tr>\n",
       "      <th>38</th>\n",
       "      <td>multinomial</td>\n",
       "      <td>3792.69</td>\n",
       "      <td>0.760943</td>\n",
       "      <td>0.665094</td>\n",
       "      <td>0.085097</td>\n",
       "    </tr>\n",
       "    <tr>\n",
       "      <th>37</th>\n",
       "      <td>multinomial</td>\n",
       "      <td>1438.45</td>\n",
       "      <td>0.760943</td>\n",
       "      <td>0.665094</td>\n",
       "      <td>0.085097</td>\n",
       "    </tr>\n",
       "    <tr>\n",
       "      <th>34</th>\n",
       "      <td>multinomial</td>\n",
       "      <td>78.476</td>\n",
       "      <td>0.760943</td>\n",
       "      <td>0.665094</td>\n",
       "      <td>0.085097</td>\n",
       "    </tr>\n",
       "    <tr>\n",
       "      <th>33</th>\n",
       "      <td>multinomial</td>\n",
       "      <td>29.7635</td>\n",
       "      <td>0.760943</td>\n",
       "      <td>0.665094</td>\n",
       "      <td>0.085097</td>\n",
       "    </tr>\n",
       "    <tr>\n",
       "      <th>32</th>\n",
       "      <td>multinomial</td>\n",
       "      <td>11.2884</td>\n",
       "      <td>0.760422</td>\n",
       "      <td>0.665094</td>\n",
       "      <td>0.085097</td>\n",
       "    </tr>\n",
       "    <tr>\n",
       "      <th>31</th>\n",
       "      <td>multinomial</td>\n",
       "      <td>4.28133</td>\n",
       "      <td>0.760946</td>\n",
       "      <td>0.665094</td>\n",
       "      <td>0.085097</td>\n",
       "    </tr>\n",
       "    <tr>\n",
       "      <th>30</th>\n",
       "      <td>multinomial</td>\n",
       "      <td>1.62378</td>\n",
       "      <td>0.759901</td>\n",
       "      <td>0.665094</td>\n",
       "      <td>0.085097</td>\n",
       "    </tr>\n",
       "    <tr>\n",
       "      <th>29</th>\n",
       "      <td>multinomial</td>\n",
       "      <td>0.615848</td>\n",
       "      <td>0.758363</td>\n",
       "      <td>0.665094</td>\n",
       "      <td>0.085097</td>\n",
       "    </tr>\n",
       "  </tbody>\n",
       "</table>\n",
       "</div>"
      ],
      "text/plain": [
       "       strategy           C   mean_tr   mean_te    std_te\n",
       "24  multinomial  0.00483293  0.688198  0.669811  0.071303\n",
       "39  multinomial       10000  0.760943  0.665094  0.085097\n",
       "38  multinomial     3792.69  0.760943  0.665094  0.085097\n",
       "37  multinomial     1438.45  0.760943  0.665094  0.085097\n",
       "34  multinomial      78.476  0.760943  0.665094  0.085097\n",
       "33  multinomial     29.7635  0.760943  0.665094  0.085097\n",
       "32  multinomial     11.2884  0.760422  0.665094  0.085097\n",
       "31  multinomial     4.28133  0.760946  0.665094  0.085097\n",
       "30  multinomial     1.62378  0.759901  0.665094  0.085097\n",
       "29  multinomial    0.615848  0.758363  0.665094  0.085097"
      ]
     },
     "execution_count": 55,
     "metadata": {},
     "output_type": "execute_result"
    }
   ],
   "source": [
    "import warnings\n",
    "from sklearn.exceptions import ConvergenceWarning\n",
    "\n",
    "# Filter convergence warnings\n",
    "warnings.simplefilter('ignore', ConvergenceWarning)\n",
    "\n",
    "# Fit/evaluate estimator\n",
    "logreg_gscv.fit(X_tr, y_tr)\n",
    "\n",
    "# Collect results in a DataFrame\n",
    "logreg_results = pd.DataFrame({\n",
    "    'strategy': logreg_gscv.cv_results_['param_logreg__multi_class'],\n",
    "    'C': logreg_gscv.cv_results_['param_logreg__C'],\n",
    "    'mean_tr': logreg_gscv.cv_results_['mean_train_score'],\n",
    "    'mean_te': logreg_gscv.cv_results_['mean_test_score'],\n",
    "    'std_te': logreg_gscv.cv_results_['std_test_score']\n",
    "})\n",
    "\n",
    "# Ten best combinations according to the mean test score\n",
    "logreg_results.sort_values(by='mean_te', ascending=False).head(10)"
   ]
  },
  {
   "cell_type": "code",
   "execution_count": 56,
   "metadata": {},
   "outputs": [
    {
     "name": "stdout",
     "output_type": "stream",
     "text": [
      "Test accuracy: 69.23%\n"
     ]
    }
   ],
   "source": [
    "# Report test score\n",
    "print('Test accuracy: {:.2f}%'.format(100*logreg_gscv.score(X_te, y_te)))"
   ]
  },
  {
   "cell_type": "markdown",
   "metadata": {},
   "source": [
    "he k-NN and logistic estimators are both better than the \"most-frequent\" baseline. However, after trying with different random_state seeds for the train_test_split() function, it's difficult to say that one is better than the other.\n",
    "\n",
    "It would be a good idea to track other metrics such as the precision, recall and F1 measures. For a reference of the different metrics implemented in Scikit-learn, see Model evaluation guide"
   ]
  },
  {
   "cell_type": "markdown",
   "metadata": {},
   "source": [
    "https://scikit-learn.org/stable/modules/model_evaluation.html#precision-recall-f-measure-metrics"
   ]
  },
  {
   "cell_type": "code",
   "execution_count": null,
   "metadata": {},
   "outputs": [],
   "source": []
  }
 ],
 "metadata": {
  "kernelspec": {
   "display_name": "Python 3",
   "language": "python",
   "name": "python3"
  },
  "language_info": {
   "codemirror_mode": {
    "name": "ipython",
    "version": 3
   },
   "file_extension": ".py",
   "mimetype": "text/x-python",
   "name": "python",
   "nbconvert_exporter": "python",
   "pygments_lexer": "ipython3",
   "version": "3.6.13"
  }
 },
 "nbformat": 4,
 "nbformat_minor": 4
}
