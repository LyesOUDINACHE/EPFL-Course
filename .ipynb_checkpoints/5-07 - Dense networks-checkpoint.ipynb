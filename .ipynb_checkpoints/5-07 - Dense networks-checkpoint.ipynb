{
 "cells": [
  {
   "cell_type": "markdown",
   "id": "d05e02aa",
   "metadata": {},
   "source": [
    "# Dense Network"
   ]
  },
  {
   "cell_type": "code",
   "execution_count": null,
   "id": "b2d851d3",
   "metadata": {},
   "outputs": [],
   "source": []
  },
  {
   "cell_type": "markdown",
   "id": "1e3a4643",
   "metadata": {},
   "source": [
    "### Load data"
   ]
  },
  {
   "cell_type": "code",
   "execution_count": 1,
   "id": "3ca59056",
   "metadata": {},
   "outputs": [
    {
     "name": "stderr",
     "output_type": "stream",
     "text": [
      "C:\\Users\\lyeso\\anaconda3\\envs\\exts-ml\\lib\\site-packages\\h5py\\__init__.py:36: FutureWarning: Conversion of the second argument of issubdtype from `float` to `np.floating` is deprecated. In future, it will be treated as `np.float64 == np.dtype(float).type`.\n",
      "  from ._conv import register_converters as _register_converters\n",
      "WARNING:absl:Some hub symbols are not available because TensorFlow version is less than 1.14\n"
     ]
    }
   ],
   "source": [
    "import tensorflow as tf\n",
    "import tensorflow.keras as keras\n",
    "from tensorflow.keras import backend as K\n",
    "from tensorflow.keras.preprocessing.image import ImageDataGenerator\n",
    "import tensorflow_hub as hub\n",
    "import os\n",
    "import PIL.Image as Image\n",
    "import numpy as np\n",
    "import matplotlib.pyplot as plt\n",
    "import numpy as np\n",
    "import pandas as pd\n",
    "from sklearn.preprocessing import StandardScaler\n",
    "import sklearn as skl\n",
    "\n",
    "os.environ[\"CUDA_VISIBLE_DEVICES\"]= \"-1\" # Force Tensorflow on CPU instead of GPU (seems to avoid an error with my CUDA compatible GPU)"
   ]
  },
  {
   "cell_type": "code",
   "execution_count": 2,
   "id": "e4865f85",
   "metadata": {},
   "outputs": [],
   "source": [
    "# Load training data form NPZ file\n",
    "\n",
    "train_data = \"train.npz\"\n",
    "X_tr = np.load(train_data)[\"features\"]\n",
    "y_tr = np.load(train_data)[\"labels\"]\n",
    "images_tr = np.load(train_data)[\"pixels\"]\n",
    "names_tr = np.load(train_data)[\"names\"]\n",
    "\n",
    "valid_data = \"valid.npz\"\n",
    "X_val= np.load(valid_data)[\"features\"]\n",
    "y_val = np.load(valid_data)[\"labels\"]\n",
    "images_val = np.load(valid_data)[\"pixels\"]\n",
    "names_val = np.load(valid_data)[\"names\"]\n",
    "\n",
    "test_data = \"test.npz\"\n",
    "X_te= np.load(test_data)[\"features\"]\n",
    "y_te = np.load(test_data)[\"labels\"]\n",
    "images_te = np.load(test_data)[\"pixels\"]\n",
    "names_te = np.load(test_data)[\"names\"]\n",
    "\n",
    "# Create a dictionnary for labels\n",
    "labels_dict = {0: 'bike', 1 : 'car', 2: 'motorcycle', 3: 'other', 4:'truck', 5: 'van'}"
   ]
  },
  {
   "cell_type": "code",
   "execution_count": 3,
   "id": "c2f8a1ae",
   "metadata": {},
   "outputs": [],
   "source": [
    "### Let's use a bigger dataset for training.\n",
    "\n",
    "X = np.concatenate((X_tr,X_val), axis=0, out=None)  # X for Cross Validation and Grid Search\n",
    "y = np.concatenate((y_tr,y_val), axis=0, out=None) "
   ]
  },
  {
   "cell_type": "code",
   "execution_count": 17,
   "id": "078fb44b",
   "metadata": {},
   "outputs": [],
   "source": [
    "# Rescale train and validation data\n",
    "scaler = StandardScaler()\n",
    "X_scaled = scaler.fit_transform(X)\n",
    "X_te_scaled = scaler.transform(X_te)"
   ]
  },
  {
   "cell_type": "markdown",
   "id": "14799e85",
   "metadata": {},
   "source": [
    "### 1 layer dense network"
   ]
  },
  {
   "cell_type": "code",
   "execution_count": 5,
   "id": "bc6c4dec",
   "metadata": {},
   "outputs": [],
   "source": [
    "# Import Keras\n",
    "\n",
    "from tensorflow.keras import Sequential\n",
    "from tensorflow.keras.layers import Dense"
   ]
  },
  {
   "cell_type": "code",
   "execution_count": 6,
   "id": "5569da84",
   "metadata": {},
   "outputs": [
    {
     "name": "stdout",
     "output_type": "stream",
     "text": [
      "_________________________________________________________________\n",
      "Layer (type)                 Output Shape              Param #   \n",
      "=================================================================\n",
      "dense (Dense)                (None, 6)                 12294     \n",
      "=================================================================\n",
      "Total params: 12,294\n",
      "Trainable params: 12,294\n",
      "Non-trainable params: 0\n",
      "_________________________________________________________________\n"
     ]
    }
   ],
   "source": [
    "model = Sequential()\n",
    "model.add(Dense(6, activation='softmax', input_dim=2048))\n",
    "model.summary()"
   ]
  },
  {
   "cell_type": "markdown",
   "id": "bf9bc7d8",
   "metadata": {},
   "source": [
    "### Compile Model"
   ]
  },
  {
   "cell_type": "code",
   "execution_count": 7,
   "id": "9a714d17",
   "metadata": {},
   "outputs": [],
   "source": [
    "from tensorflow.keras import losses\n",
    "from tensorflow.keras import metrics\n",
    "\n",
    "# Define loss function, optimizer, and metrics to track during training\n",
    "model.compile(\n",
    "    optimizer='sgd', # .. or optimizers.SGD(lr=0.01)\n",
    "    loss='sparse_categorical_crossentropy', # .. or losses.sparse_categorical_crossentropy\n",
    "    metrics=['acc'] # .. or metrics.sparse_categorical_accuracy\n",
    ")"
   ]
  },
  {
   "cell_type": "code",
   "execution_count": 8,
   "id": "7e825591",
   "metadata": {},
   "outputs": [
    {
     "name": "stdout",
     "output_type": "stream",
     "text": [
      "Train on 335 samples, validate on 84 samples\n",
      "Epoch 1/20\n",
      "335/335 [==============================] - 1s 4ms/step - loss: 1.3451 - acc: 0.5582 - val_loss: 1.4160 - val_acc: 0.5357\n",
      "Epoch 2/20\n",
      "335/335 [==============================] - 0s 27us/step - loss: 0.8876 - acc: 0.7791 - val_loss: 1.1464 - val_acc: 0.6667\n",
      "Epoch 3/20\n",
      "335/335 [==============================] - 0s 24us/step - loss: 0.6813 - acc: 0.8388 - val_loss: 0.9441 - val_acc: 0.7500\n",
      "Epoch 4/20\n",
      "335/335 [==============================] - 0s 24us/step - loss: 0.5630 - acc: 0.8806 - val_loss: 0.8200 - val_acc: 0.8095\n",
      "Epoch 5/20\n",
      "335/335 [==============================] - 0s 39us/step - loss: 0.4856 - acc: 0.8955 - val_loss: 0.7586 - val_acc: 0.8214\n",
      "Epoch 6/20\n",
      "335/335 [==============================] - 0s 27us/step - loss: 0.4262 - acc: 0.9164 - val_loss: 0.6979 - val_acc: 0.8214\n",
      "Epoch 7/20\n",
      "335/335 [==============================] - 0s 24us/step - loss: 0.3847 - acc: 0.9373 - val_loss: 0.6390 - val_acc: 0.8571\n",
      "Epoch 8/20\n",
      "335/335 [==============================] - 0s 27us/step - loss: 0.3494 - acc: 0.9463 - val_loss: 0.6259 - val_acc: 0.8333\n",
      "Epoch 9/20\n",
      "335/335 [==============================] - 0s 24us/step - loss: 0.3242 - acc: 0.9403 - val_loss: 0.5853 - val_acc: 0.8452\n",
      "Epoch 10/20\n",
      "335/335 [==============================] - 0s 33us/step - loss: 0.3028 - acc: 0.9343 - val_loss: 0.5593 - val_acc: 0.8690\n",
      "Epoch 11/20\n",
      "335/335 [==============================] - 0s 33us/step - loss: 0.2860 - acc: 0.9433 - val_loss: 0.5293 - val_acc: 0.8571\n",
      "Epoch 12/20\n",
      "335/335 [==============================] - 0s 24us/step - loss: 0.2684 - acc: 0.9493 - val_loss: 0.5207 - val_acc: 0.8571\n",
      "Epoch 13/20\n",
      "335/335 [==============================] - 0s 33us/step - loss: 0.2549 - acc: 0.9493 - val_loss: 0.5036 - val_acc: 0.8571\n",
      "Epoch 14/20\n",
      "335/335 [==============================] - 0s 30us/step - loss: 0.2435 - acc: 0.9522 - val_loss: 0.4805 - val_acc: 0.8810\n",
      "Epoch 15/20\n",
      "335/335 [==============================] - 0s 24us/step - loss: 0.2321 - acc: 0.9522 - val_loss: 0.4672 - val_acc: 0.8690\n",
      "Epoch 16/20\n",
      "335/335 [==============================] - 0s 33us/step - loss: 0.2228 - acc: 0.9582 - val_loss: 0.4631 - val_acc: 0.8810\n",
      "Epoch 17/20\n",
      "335/335 [==============================] - 0s 27us/step - loss: 0.2136 - acc: 0.9522 - val_loss: 0.4519 - val_acc: 0.8810\n",
      "Epoch 18/20\n",
      "335/335 [==============================] - 0s 27us/step - loss: 0.2070 - acc: 0.9493 - val_loss: 0.4324 - val_acc: 0.8929\n",
      "Epoch 19/20\n",
      "335/335 [==============================] - 0s 33us/step - loss: 0.1999 - acc: 0.9612 - val_loss: 0.4294 - val_acc: 0.8810\n",
      "Epoch 20/20\n",
      "335/335 [==============================] - 0s 27us/step - loss: 0.1930 - acc: 0.9612 - val_loss: 0.4225 - val_acc: 0.8810\n"
     ]
    }
   ],
   "source": [
    "# Fit model\n",
    "dense = model.fit(\n",
    "    x=X, y=y,\n",
    "    validation_split=0.2, batch_size=32, epochs=20,\n",
    "    shuffle=True # Shuffle training samples\n",
    ")"
   ]
  },
  {
   "cell_type": "markdown",
   "id": "4a618372",
   "metadata": {},
   "source": [
    "### Let's plot the accuracy curve"
   ]
  },
  {
   "cell_type": "code",
   "execution_count": 9,
   "id": "25f8e0a4",
   "metadata": {},
   "outputs": [
    {
     "data": {
      "image/png": "[encoded data removed]",
      "text/plain": [
       "<Figure size 864x288 with 2 Axes>"
      ]
     },
     "metadata": {
      "needs_background": "light"
     },
     "output_type": "display_data"
    }
   ],
   "source": [
    "# Create two plots: one for the loss value, one for the accuracy\n",
    "fig, (ax1, ax2) = plt.subplots(nrows=1, ncols=2, figsize=(12, 4))\n",
    "\n",
    "# Plot accuracy values\n",
    "ax1.plot(dense.history['loss'], label='train loss')\n",
    "ax1.plot(dense.history['val_loss'], label='val loss')\n",
    "ax1.set_title('Validation loss {:.3f} (mean last 3)'.format(\n",
    "    np.mean(dense.history['val_loss'][-3:]) # last three values\n",
    "))\n",
    "ax1.set_xlabel('epoch')\n",
    "ax1.set_ylabel('loss value')\n",
    "ax1.legend()\n",
    "\n",
    "# Plot accuracy values\n",
    "ax2.plot(dense.history['acc'], label='train acc')\n",
    "ax2.plot(dense.history['val_acc'], label='val acc')\n",
    "ax2.set_title('Validation accuracy {:.3f} (mean last 3)'.format(\n",
    "    np.mean(dense.history['val_acc'][-3:]) # last three values\n",
    "))\n",
    "ax2.set_xlabel('epoch')\n",
    "ax2.set_ylabel('accuracy')\n",
    "ax2.legend()\n",
    "plt.show()"
   ]
  },
  {
   "cell_type": "code",
   "execution_count": 2,
   "id": "3d011a1a",
   "metadata": {},
   "outputs": [
    {
     "ename": "NameError",
     "evalue": "name 'model' is not defined",
     "output_type": "error",
     "traceback": [
      "\u001b[1;31m---------------------------------------------------------------------------\u001b[0m",
      "\u001b[1;31mNameError\u001b[0m                                 Traceback (most recent call last)",
      "\u001b[1;32m<ipython-input-2-e68967dcd93e>\u001b[0m in \u001b[0;36m<module>\u001b[1;34m\u001b[0m\n\u001b[1;32m----> 1\u001b[1;33m \u001b[1;33m(\u001b[0m\u001b[0mtest_loss\u001b[0m\u001b[1;33m,\u001b[0m \u001b[0mtest_accuracy\u001b[0m\u001b[1;33m)\u001b[0m \u001b[1;33m=\u001b[0m \u001b[0mmodel\u001b[0m\u001b[1;33m.\u001b[0m\u001b[0mevaluate\u001b[0m\u001b[1;33m(\u001b[0m\u001b[0mX_te\u001b[0m\u001b[1;33m,\u001b[0m \u001b[0my_te\u001b[0m\u001b[1;33m,\u001b[0m \u001b[0mbatch_size\u001b[0m\u001b[1;33m=\u001b[0m\u001b[1;36m32\u001b[0m\u001b[1;33m)\u001b[0m\u001b[1;33m\u001b[0m\u001b[1;33m\u001b[0m\u001b[0m\n\u001b[0m\u001b[0;32m      2\u001b[0m \u001b[1;33m\u001b[0m\u001b[0m\n\u001b[0;32m      3\u001b[0m \u001b[0mdense_best\u001b[0m \u001b[1;33m=\u001b[0m \u001b[0mtest_accuracy\u001b[0m\u001b[1;33m\u001b[0m\u001b[1;33m\u001b[0m\u001b[0m\n\u001b[0;32m      4\u001b[0m \u001b[1;33m\u001b[0m\u001b[0m\n\u001b[0;32m      5\u001b[0m \u001b[0mprint\u001b[0m\u001b[1;33m(\u001b[0m\u001b[1;34m'Test loss: {:.2f}'\u001b[0m\u001b[1;33m.\u001b[0m\u001b[0mformat\u001b[0m\u001b[1;33m(\u001b[0m\u001b[0mtest_loss\u001b[0m\u001b[1;33m)\u001b[0m\u001b[1;33m)\u001b[0m\u001b[1;33m\u001b[0m\u001b[1;33m\u001b[0m\u001b[0m\n",
      "\u001b[1;31mNameError\u001b[0m: name 'model' is not defined"
     ]
    }
   ],
   "source": [
    "(test_loss, test_accuracy) = model.evaluate(X_te, y_te, batch_size=32)\n",
    "\n",
    "dense_best = test_accuracy\n",
    "\n",
    "print('Test loss: {:.2f}'.format(test_loss))\n",
    "print('Test accuracy: {:.2f}%'.format(100*test_accuracy)) "
   ]
  },
  {
   "cell_type": "markdown",
   "id": "87352957",
   "metadata": {},
   "source": [
    "### Seems to work better when not \"standard-scaled\"\n",
    "\n",
    "### Dense and hidden layer"
   ]
  },
  {
   "cell_type": "code",
   "execution_count": 11,
   "id": "7f3647bb",
   "metadata": {},
   "outputs": [],
   "source": [
    "from tensorflow.keras import activations\n",
    "from tensorflow.keras import initializers"
   ]
  },
  {
   "cell_type": "code",
   "execution_count": 12,
   "id": "01190a37",
   "metadata": {},
   "outputs": [
    {
     "name": "stdout",
     "output_type": "stream",
     "text": [
      "_________________________________________________________________\n",
      "Layer (type)                 Output Shape              Param #   \n",
      "=================================================================\n",
      "dense_1 (Dense)              (None, 100)               204900    \n",
      "_________________________________________________________________\n",
      "dense_2 (Dense)              (None, 6)                 606       \n",
      "=================================================================\n",
      "Total params: 205,506\n",
      "Trainable params: 205,506\n",
      "Non-trainable params: 0\n",
      "_________________________________________________________________\n"
     ]
    }
   ],
   "source": [
    "# Create model\n",
    "model2 = Sequential()\n",
    "\n",
    "# Hidden layer\n",
    "model2.add(Dense(\n",
    "    units=100, activation=activations.relu, input_dim=2048))\n",
    "\n",
    "# Output layer\n",
    "model2.add(Dense(\n",
    "    units=6, activation=activations.softmax))\n",
    "\n",
    "# Print network summary\n",
    "model2.summary()"
   ]
  },
  {
   "cell_type": "code",
   "execution_count": 13,
   "id": "b9766238",
   "metadata": {},
   "outputs": [],
   "source": [
    "# Define loss function, optimizer, and metrics to track during training\n",
    "model2.compile(\n",
    "    optimizer='sgd', # .. or optimizers.SGD(lr=0.01)\n",
    "    loss='sparse_categorical_crossentropy', # .. or losses.sparse_categorical_crossentropy\n",
    "    metrics=['acc'] # .. or metrics.sparse_categorical_accuracy\n",
    ")"
   ]
  },
  {
   "cell_type": "code",
   "execution_count": 14,
   "id": "b3cbf4b2",
   "metadata": {},
   "outputs": [
    {
     "name": "stdout",
     "output_type": "stream",
     "text": [
      "Train on 335 samples, validate on 84 samples\n",
      "Epoch 1/50\n",
      "335/335 [==============================] - 0s 429us/step - loss: 1.7030 - acc: 0.3731 - val_loss: 1.6063 - val_acc: 0.2738\n",
      "Epoch 2/50\n",
      "335/335 [==============================] - 0s 51us/step - loss: 1.0203 - acc: 0.6896 - val_loss: 1.2369 - val_acc: 0.5357\n",
      "Epoch 3/50\n",
      "335/335 [==============================] - 0s 45us/step - loss: 0.7526 - acc: 0.7940 - val_loss: 0.9695 - val_acc: 0.7024\n",
      "Epoch 4/50\n",
      "335/335 [==============================] - 0s 54us/step - loss: 0.5931 - acc: 0.8597 - val_loss: 0.8266 - val_acc: 0.7738\n",
      "Epoch 5/50\n",
      "335/335 [==============================] - 0s 51us/step - loss: 0.4880 - acc: 0.9104 - val_loss: 0.7165 - val_acc: 0.8690\n",
      "Epoch 6/50\n",
      "335/335 [==============================] - 0s 51us/step - loss: 0.4158 - acc: 0.9433 - val_loss: 0.6579 - val_acc: 0.7738\n",
      "Epoch 7/50\n",
      "335/335 [==============================] - 0s 54us/step - loss: 0.3674 - acc: 0.9224 - val_loss: 0.5638 - val_acc: 0.8929\n",
      "Epoch 8/50\n",
      "335/335 [==============================] - 0s 48us/step - loss: 0.3288 - acc: 0.9522 - val_loss: 0.5430 - val_acc: 0.8690\n",
      "Epoch 9/50\n",
      "335/335 [==============================] - 0s 51us/step - loss: 0.2947 - acc: 0.9463 - val_loss: 0.5031 - val_acc: 0.8810\n",
      "Epoch 10/50\n",
      "335/335 [==============================] - 0s 45us/step - loss: 0.2733 - acc: 0.9522 - val_loss: 0.4863 - val_acc: 0.8929\n",
      "Epoch 11/50\n",
      "335/335 [==============================] - 0s 51us/step - loss: 0.2512 - acc: 0.9552 - val_loss: 0.4560 - val_acc: 0.8929\n",
      "Epoch 12/50\n",
      "335/335 [==============================] - 0s 54us/step - loss: 0.2337 - acc: 0.9582 - val_loss: 0.4446 - val_acc: 0.8929\n",
      "Epoch 13/50\n",
      "335/335 [==============================] - 0s 45us/step - loss: 0.2190 - acc: 0.9493 - val_loss: 0.4238 - val_acc: 0.9048\n",
      "Epoch 14/50\n",
      "335/335 [==============================] - 0s 54us/step - loss: 0.2060 - acc: 0.9642 - val_loss: 0.4056 - val_acc: 0.9048\n",
      "Epoch 15/50\n",
      "335/335 [==============================] - 0s 42us/step - loss: 0.1946 - acc: 0.9761 - val_loss: 0.4157 - val_acc: 0.8929\n",
      "Epoch 16/50\n",
      "335/335 [==============================] - 0s 57us/step - loss: 0.1848 - acc: 0.9642 - val_loss: 0.4005 - val_acc: 0.9048\n",
      "Epoch 17/50\n",
      "335/335 [==============================] - 0s 45us/step - loss: 0.1768 - acc: 0.9642 - val_loss: 0.3914 - val_acc: 0.9048\n",
      "Epoch 18/50\n",
      "335/335 [==============================] - 0s 54us/step - loss: 0.1659 - acc: 0.9701 - val_loss: 0.3710 - val_acc: 0.9048\n",
      "Epoch 19/50\n",
      "335/335 [==============================] - 0s 45us/step - loss: 0.1615 - acc: 0.9731 - val_loss: 0.3678 - val_acc: 0.9048\n",
      "Epoch 20/50\n",
      "335/335 [==============================] - 0s 54us/step - loss: 0.1531 - acc: 0.9701 - val_loss: 0.3602 - val_acc: 0.9048\n",
      "Epoch 21/50\n",
      "335/335 [==============================] - 0s 45us/step - loss: 0.1482 - acc: 0.9731 - val_loss: 0.3593 - val_acc: 0.9048\n",
      "Epoch 22/50\n",
      "335/335 [==============================] - 0s 57us/step - loss: 0.1425 - acc: 0.9761 - val_loss: 0.3451 - val_acc: 0.8929\n",
      "Epoch 23/50\n",
      "335/335 [==============================] - 0s 48us/step - loss: 0.1376 - acc: 0.9731 - val_loss: 0.3567 - val_acc: 0.9048\n",
      "Epoch 24/50\n",
      "335/335 [==============================] - 0s 45us/step - loss: 0.1325 - acc: 0.9731 - val_loss: 0.3524 - val_acc: 0.9048\n",
      "Epoch 25/50\n",
      "335/335 [==============================] - 0s 45us/step - loss: 0.1278 - acc: 0.9731 - val_loss: 0.3329 - val_acc: 0.8929\n",
      "Epoch 26/50\n",
      "335/335 [==============================] - 0s 54us/step - loss: 0.1232 - acc: 0.9761 - val_loss: 0.3334 - val_acc: 0.8929\n",
      "Epoch 27/50\n",
      "335/335 [==============================] - 0s 45us/step - loss: 0.1194 - acc: 0.9821 - val_loss: 0.3345 - val_acc: 0.9048\n",
      "Epoch 28/50\n",
      "335/335 [==============================] - 0s 45us/step - loss: 0.1155 - acc: 0.9761 - val_loss: 0.3396 - val_acc: 0.9048\n",
      "Epoch 29/50\n",
      "335/335 [==============================] - 0s 45us/step - loss: 0.1119 - acc: 0.9821 - val_loss: 0.3364 - val_acc: 0.9048\n",
      "Epoch 30/50\n",
      "335/335 [==============================] - 0s 54us/step - loss: 0.1080 - acc: 0.9821 - val_loss: 0.3376 - val_acc: 0.9048\n",
      "Epoch 31/50\n",
      "335/335 [==============================] - 0s 42us/step - loss: 0.1052 - acc: 0.9821 - val_loss: 0.3356 - val_acc: 0.9048\n",
      "Epoch 32/50\n",
      "335/335 [==============================] - 0s 54us/step - loss: 0.1023 - acc: 0.9851 - val_loss: 0.3331 - val_acc: 0.9048\n",
      "Epoch 33/50\n",
      "335/335 [==============================] - 0s 45us/step - loss: 0.1000 - acc: 0.9821 - val_loss: 0.3220 - val_acc: 0.8929\n",
      "Epoch 34/50\n",
      "335/335 [==============================] - 0s 54us/step - loss: 0.0967 - acc: 0.9851 - val_loss: 0.3254 - val_acc: 0.8929\n",
      "Epoch 35/50\n",
      "335/335 [==============================] - 0s 45us/step - loss: 0.0946 - acc: 0.9881 - val_loss: 0.3242 - val_acc: 0.8929\n",
      "Epoch 36/50\n",
      "335/335 [==============================] - 0s 54us/step - loss: 0.0920 - acc: 0.9881 - val_loss: 0.3211 - val_acc: 0.8929\n",
      "Epoch 37/50\n",
      "335/335 [==============================] - 0s 42us/step - loss: 0.0896 - acc: 0.9851 - val_loss: 0.3194 - val_acc: 0.8929\n",
      "Epoch 38/50\n",
      "335/335 [==============================] - 0s 54us/step - loss: 0.0868 - acc: 0.9851 - val_loss: 0.3316 - val_acc: 0.9048\n",
      "Epoch 39/50\n",
      "335/335 [==============================] - 0s 42us/step - loss: 0.0857 - acc: 0.9881 - val_loss: 0.3254 - val_acc: 0.9048\n",
      "Epoch 40/50\n",
      "335/335 [==============================] - 0s 51us/step - loss: 0.0838 - acc: 0.9881 - val_loss: 0.3164 - val_acc: 0.9048\n",
      "Epoch 41/50\n",
      "335/335 [==============================] - 0s 45us/step - loss: 0.0811 - acc: 0.9910 - val_loss: 0.3256 - val_acc: 0.9048\n",
      "Epoch 42/50\n",
      "335/335 [==============================] - 0s 54us/step - loss: 0.0791 - acc: 0.9881 - val_loss: 0.3174 - val_acc: 0.8929\n",
      "Epoch 43/50\n",
      "335/335 [==============================] - 0s 48us/step - loss: 0.0767 - acc: 0.9881 - val_loss: 0.3147 - val_acc: 0.8929\n",
      "Epoch 44/50\n",
      "335/335 [==============================] - 0s 48us/step - loss: 0.0751 - acc: 0.9881 - val_loss: 0.3204 - val_acc: 0.8929\n",
      "Epoch 45/50\n",
      "335/335 [==============================] - 0s 48us/step - loss: 0.0735 - acc: 0.9881 - val_loss: 0.3125 - val_acc: 0.9048\n",
      "Epoch 46/50\n",
      "335/335 [==============================] - 0s 48us/step - loss: 0.0721 - acc: 0.9910 - val_loss: 0.3231 - val_acc: 0.8929\n",
      "Epoch 47/50\n",
      "335/335 [==============================] - 0s 54us/step - loss: 0.0707 - acc: 0.9881 - val_loss: 0.3207 - val_acc: 0.8929\n",
      "Epoch 48/50\n",
      "335/335 [==============================] - 0s 45us/step - loss: 0.0693 - acc: 0.9881 - val_loss: 0.3147 - val_acc: 0.9048\n",
      "Epoch 49/50\n",
      "335/335 [==============================] - 0s 51us/step - loss: 0.0672 - acc: 0.9881 - val_loss: 0.3194 - val_acc: 0.9048\n",
      "Epoch 50/50\n",
      "335/335 [==============================] - 0s 45us/step - loss: 0.0664 - acc: 0.9881 - val_loss: 0.3149 - val_acc: 0.9048\n"
     ]
    }
   ],
   "source": [
    "# Fit model\n",
    "dense2 = model2.fit(\n",
    "    x=X, y=y,\n",
    "    validation_split=0.2, batch_size=32, epochs=50,\n",
    "    shuffle=True # Shuffle training samples\n",
    ")"
   ]
  },
  {
   "cell_type": "code",
   "execution_count": 15,
   "id": "5dd8eb24",
   "metadata": {},
   "outputs": [
    {
     "data": {
      "image/png": "[encoded data removed]",
      "text/plain": [
       "<Figure size 864x288 with 2 Axes>"
      ]
     },
     "metadata": {
      "needs_background": "light"
     },
     "output_type": "display_data"
    }
   ],
   "source": [
    "# Create two plots: one for the loss value, one for the accuracy\n",
    "fig, (ax1, ax2) = plt.subplots(nrows=1, ncols=2, figsize=(12, 4))\n",
    "\n",
    "# Plot accuracy values\n",
    "ax1.plot(dense2.history['loss'], label='train loss')\n",
    "ax1.plot(dense2.history['val_loss'], label='val loss')\n",
    "ax1.set_title('Validation loss {:.3f} (mean last 3)'.format(\n",
    "    np.mean(dense2.history['val_loss'][-3:]) # last three values\n",
    "))\n",
    "ax1.set_xlabel('epoch')\n",
    "ax1.set_ylabel('loss value')\n",
    "ax1.legend()\n",
    "\n",
    "# Plot accuracy values\n",
    "ax2.plot(dense2.history['acc'], label='train acc')\n",
    "ax2.plot(dense2.history['val_acc'], label='val acc')\n",
    "ax2.set_title('Validation accuracy {:.3f} (mean last 3)'.format(\n",
    "    np.mean(dense2.history['val_acc'][-3:]) # last three values\n",
    "))\n",
    "ax2.set_xlabel('epoch')\n",
    "ax2.set_ylabel('accuracy')\n",
    "ax2.legend()\n",
    "plt.show()"
   ]
  },
  {
   "cell_type": "code",
   "execution_count": null,
   "id": "098db9ba",
   "metadata": {},
   "outputs": [],
   "source": []
  },
  {
   "cell_type": "code",
   "execution_count": 1,
   "id": "bcff6ce9",
   "metadata": {},
   "outputs": [
    {
     "ename": "SyntaxError",
     "evalue": "invalid syntax (<ipython-input-1-8873345e0523>, line 3)",
     "output_type": "error",
     "traceback": [
      "\u001b[1;36m  File \u001b[1;32m\"<ipython-input-1-8873345e0523>\"\u001b[1;36m, line \u001b[1;32m3\u001b[0m\n\u001b[1;33m    2nn_best = test_accuracy\u001b[0m\n\u001b[1;37m           ^\u001b[0m\n\u001b[1;31mSyntaxError\u001b[0m\u001b[1;31m:\u001b[0m invalid syntax\n"
     ]
    }
   ],
   "source": [
    "(test_loss, test_accuracy) = model2.evaluate(X_te, y_te, batch_size=32)\n",
    "\n",
    "two_dense_best = test_accuracy\n",
    "\n",
    "print('Test loss: {:.2f}'.format(test_loss))\n",
    "print('Test accuracy: {:.2f}%'.format(100*test_accuracy)) "
   ]
  },
  {
   "cell_type": "code",
   "execution_count": null,
   "id": "e7fbd8f0",
   "metadata": {},
   "outputs": [],
   "source": []
  }
 ],
 "metadata": {
  "kernelspec": {
   "display_name": "Python 3",
   "language": "python",
   "name": "python3"
  },
  "language_info": {
   "codemirror_mode": {
    "name": "ipython",
    "version": 3
   },
   "file_extension": ".py",
   "mimetype": "text/x-python",
   "name": "python",
   "nbconvert_exporter": "python",
   "pygments_lexer": "ipython3",
   "version": "3.6.13"
  }
 },
 "nbformat": 4,
 "nbformat_minor": 5
}
