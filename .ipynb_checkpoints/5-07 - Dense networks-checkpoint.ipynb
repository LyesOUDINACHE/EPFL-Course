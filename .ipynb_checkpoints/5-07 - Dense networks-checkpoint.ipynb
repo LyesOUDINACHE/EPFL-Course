{
 "cells": [
  {
   "cell_type": "markdown",
   "id": "7b1522e6",
   "metadata": {},
   "source": [
    "# Dense Network"
   ]
  },
  {
   "cell_type": "code",
   "execution_count": null,
   "id": "ad4550ad",
   "metadata": {},
   "outputs": [],
   "source": []
  },
  {
   "cell_type": "markdown",
   "id": "f14e777e",
   "metadata": {},
   "source": [
    "### Load data"
   ]
  },
  {
   "cell_type": "code",
   "execution_count": 1,
   "id": "76ccd1f3",
   "metadata": {},
   "outputs": [
    {
     "name": "stderr",
     "output_type": "stream",
     "text": [
      "C:\\Users\\lyeso\\anaconda3\\envs\\exts-ml\\lib\\site-packages\\h5py\\__init__.py:36: FutureWarning: Conversion of the second argument of issubdtype from `float` to `np.floating` is deprecated. In future, it will be treated as `np.float64 == np.dtype(float).type`.\n",
      "  from ._conv import register_converters as _register_converters\n",
      "WARNING:absl:Some hub symbols are not available because TensorFlow version is less than 1.14\n"
     ]
    }
   ],
   "source": [
    "import tensorflow as tf\n",
    "import tensorflow.keras as keras\n",
    "from tensorflow.keras import backend as K\n",
    "from tensorflow.keras.preprocessing.image import ImageDataGenerator\n",
    "import tensorflow_hub as hub\n",
    "import os\n",
    "import PIL.Image as Image\n",
    "import numpy as np\n",
    "import matplotlib.pyplot as plt\n",
    "import numpy as np\n",
    "import pandas as pd\n",
    "from sklearn.preprocessing import StandardScaler\n",
    "import sklearn as skl\n",
    "\n",
    "os.environ[\"CUDA_VISIBLE_DEVICES\"]= \"-1\" # Force Tensorflow on CPU instead of GPU (seems to avoid an error with my CUDA compatible GPU)"
   ]
  },
  {
   "cell_type": "code",
   "execution_count": 2,
   "id": "6aae94ab",
   "metadata": {},
   "outputs": [],
   "source": [
    "# Load training data form NPZ file\n",
    "\n",
    "train_data = \"train.npz\"\n",
    "X_tr = np.load(train_data)[\"features\"]\n",
    "y_tr = np.load(train_data)[\"labels\"]\n",
    "images_tr = np.load(train_data)[\"pixels\"]\n",
    "names_tr = np.load(train_data)[\"names\"]\n",
    "\n",
    "valid_data = \"valid.npz\"\n",
    "X_val= np.load(valid_data)[\"features\"]\n",
    "y_val = np.load(valid_data)[\"labels\"]\n",
    "images_val = np.load(valid_data)[\"pixels\"]\n",
    "names_val = np.load(valid_data)[\"names\"]\n",
    "\n",
    "test_data = \"test.npz\"\n",
    "X_te= np.load(test_data)[\"features\"]\n",
    "y_te = np.load(test_data)[\"labels\"]\n",
    "images_te = np.load(test_data)[\"pixels\"]\n",
    "names_te = np.load(test_data)[\"names\"]\n",
    "\n",
    "# Create a dictionnary for labels\n",
    "labels_dict = {0: 'bike', 1 : 'car', 2: 'motorcycle', 3: 'other', 4:'truck', 5: 'van'}"
   ]
  },
  {
   "cell_type": "code",
   "execution_count": 7,
   "id": "8034a79b",
   "metadata": {},
   "outputs": [],
   "source": [
    "### Let's use a bigger dataset for training.\n",
    "\n",
    "X = np.concatenate((X_tr,X_val), axis=0, out=None)  # X for Cross Validation and Grid Search\n",
    "y = np.concatenate((y_tr,y_val), axis=0, out=None) "
   ]
  },
  {
   "cell_type": "code",
   "execution_count": 8,
   "id": "03acf483",
   "metadata": {},
   "outputs": [],
   "source": [
    "\n",
    "# Rescale train and validation data\n",
    "scaler = StandardScaler()\n",
    "X_scaled = scaler.fit_transform(X)\n",
    "X_te_scaled = scaler.transform(X_te)"
   ]
  },
  {
   "cell_type": "markdown",
   "id": "9fe86924",
   "metadata": {},
   "source": [
    "### 1 layer dense network"
   ]
  },
  {
   "cell_type": "code",
   "execution_count": 9,
   "id": "17a9b3da",
   "metadata": {},
   "outputs": [],
   "source": [
    "# Import Keras\n",
    "\n",
    "from tensorflow.keras import Sequential\n",
    "from tensorflow.keras.layers import Dense"
   ]
  },
  {
   "cell_type": "code",
   "execution_count": 25,
   "id": "89e29e8b",
   "metadata": {},
   "outputs": [
    {
     "name": "stdout",
     "output_type": "stream",
     "text": [
      "_________________________________________________________________\n",
      "Layer (type)                 Output Shape              Param #   \n",
      "=================================================================\n",
      "dense_4 (Dense)              (None, 6)                 12294     \n",
      "=================================================================\n",
      "Total params: 12,294\n",
      "Trainable params: 12,294\n",
      "Non-trainable params: 0\n",
      "_________________________________________________________________\n"
     ]
    }
   ],
   "source": [
    "model = Sequential()\n",
    "model.add(Dense(6, activation='softmax', input_dim=2048))\n",
    "model.summary()"
   ]
  },
  {
   "cell_type": "markdown",
   "id": "468259c0",
   "metadata": {},
   "source": [
    "### Compile Model"
   ]
  },
  {
   "cell_type": "code",
   "execution_count": 26,
   "id": "e55354c8",
   "metadata": {},
   "outputs": [],
   "source": [
    "from tensorflow.keras import losses\n",
    "from tensorflow.keras import metrics\n",
    "\n",
    "# Define loss function, optimizer, and metrics to track during training\n",
    "model.compile(\n",
    "    optimizer='sgd', # .. or optimizers.SGD(lr=0.01)\n",
    "    loss='sparse_categorical_crossentropy', # .. or losses.sparse_categorical_crossentropy\n",
    "    metrics=['acc'] # .. or metrics.sparse_categorical_accuracy\n",
    ")"
   ]
  },
  {
   "cell_type": "code",
   "execution_count": 27,
   "id": "ce3fca85",
   "metadata": {},
   "outputs": [
    {
     "name": "stdout",
     "output_type": "stream",
     "text": [
      "Train on 335 samples, validate on 84 samples\n",
      "Epoch 1/20\n",
      "335/335 [==============================] - 0s 415us/step - loss: 1.3868 - acc: 0.5343 - val_loss: 1.5163 - val_acc: 0.4286\n",
      "Epoch 2/20\n",
      "335/335 [==============================] - 0s 45us/step - loss: 0.9073 - acc: 0.7463 - val_loss: 1.1397 - val_acc: 0.6786\n",
      "Epoch 3/20\n",
      "335/335 [==============================] - 0s 41us/step - loss: 0.7058 - acc: 0.8269 - val_loss: 0.9609 - val_acc: 0.7500\n",
      "Epoch 4/20\n",
      "335/335 [==============================] - 0s 45us/step - loss: 0.5863 - acc: 0.8627 - val_loss: 0.8685 - val_acc: 0.7500\n",
      "Epoch 5/20\n",
      "335/335 [==============================] - 0s 45us/step - loss: 0.5075 - acc: 0.8776 - val_loss: 0.7646 - val_acc: 0.8214\n",
      "Epoch 6/20\n",
      "335/335 [==============================] - 0s 27us/step - loss: 0.4486 - acc: 0.8955 - val_loss: 0.6940 - val_acc: 0.8452\n",
      "Epoch 7/20\n",
      "335/335 [==============================] - 0s 24us/step - loss: 0.4044 - acc: 0.9254 - val_loss: 0.6495 - val_acc: 0.8452\n",
      "Epoch 8/20\n",
      "335/335 [==============================] - 0s 27us/step - loss: 0.3714 - acc: 0.9313 - val_loss: 0.6056 - val_acc: 0.8571\n",
      "Epoch 9/20\n",
      "335/335 [==============================] - 0s 48us/step - loss: 0.3433 - acc: 0.9313 - val_loss: 0.5675 - val_acc: 0.8571\n",
      "Epoch 10/20\n",
      "335/335 [==============================] - 0s 39us/step - loss: 0.3181 - acc: 0.9373 - val_loss: 0.5477 - val_acc: 0.8929\n",
      "Epoch 11/20\n",
      "335/335 [==============================] - 0s 36us/step - loss: 0.2985 - acc: 0.9463 - val_loss: 0.5237 - val_acc: 0.8929\n",
      "Epoch 12/20\n",
      "335/335 [==============================] - 0s 36us/step - loss: 0.2819 - acc: 0.9493 - val_loss: 0.5037 - val_acc: 0.8929\n",
      "Epoch 13/20\n",
      "335/335 [==============================] - 0s 39us/step - loss: 0.2678 - acc: 0.9493 - val_loss: 0.4786 - val_acc: 0.9048\n",
      "Epoch 14/20\n",
      "335/335 [==============================] - 0s 45us/step - loss: 0.2538 - acc: 0.9522 - val_loss: 0.4755 - val_acc: 0.9048\n",
      "Epoch 15/20\n",
      "335/335 [==============================] - 0s 51us/step - loss: 0.2429 - acc: 0.9522 - val_loss: 0.4643 - val_acc: 0.9048\n",
      "Epoch 16/20\n",
      "335/335 [==============================] - 0s 39us/step - loss: 0.2323 - acc: 0.9552 - val_loss: 0.4494 - val_acc: 0.9048\n",
      "Epoch 17/20\n",
      "335/335 [==============================] - 0s 42us/step - loss: 0.2238 - acc: 0.9612 - val_loss: 0.4362 - val_acc: 0.9048\n",
      "Epoch 18/20\n",
      "335/335 [==============================] - 0s 36us/step - loss: 0.2147 - acc: 0.9612 - val_loss: 0.4314 - val_acc: 0.9048\n",
      "Epoch 19/20\n",
      "335/335 [==============================] - 0s 39us/step - loss: 0.2073 - acc: 0.9582 - val_loss: 0.4158 - val_acc: 0.8929\n",
      "Epoch 20/20\n",
      "335/335 [==============================] - 0s 45us/step - loss: 0.2006 - acc: 0.9612 - val_loss: 0.4120 - val_acc: 0.9048\n"
     ]
    }
   ],
   "source": [
    "# Fit model\n",
    "dense = model.fit(\n",
    "    x=X, y=y,\n",
    "    validation_split=0.2, batch_size=32, epochs=20,\n",
    "    shuffle=True # Shuffle training samples\n",
    ")"
   ]
  },
  {
   "cell_type": "markdown",
   "id": "6f504988",
   "metadata": {},
   "source": [
    "### Let's plot the accuracy curve"
   ]
  },
  {
   "cell_type": "code",
   "execution_count": 28,
   "id": "a1728cb4",
   "metadata": {},
   "outputs": [
    {
     "data": {
      "image/png": "[encoded data removed]",
      "text/plain": [
       "<Figure size 864x288 with 2 Axes>"
      ]
     },
     "metadata": {
      "needs_background": "light"
     },
     "output_type": "display_data"
    }
   ],
   "source": [
    "# Create two plots: one for the loss value, one for the accuracy\n",
    "fig, (ax1, ax2) = plt.subplots(nrows=1, ncols=2, figsize=(12, 4))\n",
    "\n",
    "# Plot accuracy values\n",
    "ax1.plot(dense.history['loss'], label='train loss')\n",
    "ax1.plot(dense.history['val_loss'], label='val loss')\n",
    "ax1.set_title('Validation loss {:.3f} (mean last 3)'.format(\n",
    "    np.mean(dense.history['val_loss'][-3:]) # last three values\n",
    "))\n",
    "ax1.set_xlabel('epoch')\n",
    "ax1.set_ylabel('loss value')\n",
    "ax1.legend()\n",
    "\n",
    "# Plot accuracy values\n",
    "ax2.plot(dense.history['acc'], label='train acc')\n",
    "ax2.plot(dense.history['val_acc'], label='val acc')\n",
    "ax2.set_title('Validation accuracy {:.3f} (mean last 3)'.format(\n",
    "    np.mean(dense.history['val_acc'][-3:]) # last three values\n",
    "))\n",
    "ax2.set_xlabel('epoch')\n",
    "ax2.set_ylabel('accuracy')\n",
    "ax2.legend()\n",
    "plt.show()"
   ]
  },
  {
   "cell_type": "code",
   "execution_count": 30,
   "id": "b1ca857b",
   "metadata": {},
   "outputs": [
    {
     "name": "stdout",
     "output_type": "stream",
     "text": [
      "50/50 [==============================] - 0s 40us/step\n",
      "Test loss: 0.25\n",
      "Test accuracy: 94.00%\n"
     ]
    }
   ],
   "source": [
    "(test_loss, test_accuracy) = model.evaluate(X_te, y_te, batch_size=32)\n",
    "\n",
    "print('Test loss: {:.2f}'.format(test_loss))\n",
    "print('Test accuracy: {:.2f}%'.format(100*test_accuracy)) "
   ]
  },
  {
   "cell_type": "markdown",
   "id": "14bf2c55",
   "metadata": {},
   "source": [
    "### Seems to work better when not \"standard-scaled\"\n",
    "\n",
    "### Dense and hidden layer"
   ]
  },
  {
   "cell_type": "code",
   "execution_count": 33,
   "id": "208ea74b",
   "metadata": {},
   "outputs": [],
   "source": [
    "from tensorflow.keras import activations\n",
    "from tensorflow.keras import initializers"
   ]
  },
  {
   "cell_type": "code",
   "execution_count": 63,
   "id": "43a5a06f",
   "metadata": {},
   "outputs": [
    {
     "name": "stdout",
     "output_type": "stream",
     "text": [
      "_________________________________________________________________\n",
      "Layer (type)                 Output Shape              Param #   \n",
      "=================================================================\n",
      "dense_21 (Dense)             (None, 100)               204900    \n",
      "_________________________________________________________________\n",
      "dense_22 (Dense)             (None, 6)                 606       \n",
      "=================================================================\n",
      "Total params: 205,506\n",
      "Trainable params: 205,506\n",
      "Non-trainable params: 0\n",
      "_________________________________________________________________\n"
     ]
    }
   ],
   "source": [
    "# Create model\n",
    "model2 = Sequential()\n",
    "\n",
    "# Hidden layer\n",
    "model2.add(Dense(\n",
    "    units=100, activation=activations.relu, input_dim=2048))\n",
    "\n",
    "# Output layer\n",
    "model2.add(Dense(\n",
    "    units=6, activation=activations.softmax))\n",
    "\n",
    "# Print network summary\n",
    "model2.summary()"
   ]
  },
  {
   "cell_type": "code",
   "execution_count": 64,
   "id": "6405757d",
   "metadata": {},
   "outputs": [],
   "source": [
    "# Define loss function, optimizer, and metrics to track during training\n",
    "model2.compile(\n",
    "    optimizer='sgd', # .. or optimizers.SGD(lr=0.01)\n",
    "    loss='sparse_categorical_crossentropy', # .. or losses.sparse_categorical_crossentropy\n",
    "    metrics=['acc'] # .. or metrics.sparse_categorical_accuracy\n",
    ")"
   ]
  },
  {
   "cell_type": "code",
   "execution_count": 65,
   "id": "ecaeeabe",
   "metadata": {},
   "outputs": [
    {
     "name": "stdout",
     "output_type": "stream",
     "text": [
      "Train on 335 samples, validate on 84 samples\n",
      "Epoch 1/50\n",
      "335/335 [==============================] - 0s 778us/step - loss: 1.3652 - acc: 0.5761 - val_loss: 1.4053 - val_acc: 0.5357\n",
      "Epoch 2/50\n",
      "335/335 [==============================] - 0s 87us/step - loss: 0.8389 - acc: 0.7910 - val_loss: 1.0907 - val_acc: 0.6548\n",
      "Epoch 3/50\n",
      "335/335 [==============================] - 0s 57us/step - loss: 0.6414 - acc: 0.8119 - val_loss: 0.9049 - val_acc: 0.7262\n",
      "Epoch 4/50\n",
      "335/335 [==============================] - 0s 81us/step - loss: 0.5289 - acc: 0.8418 - val_loss: 0.7599 - val_acc: 0.7500\n",
      "Epoch 5/50\n",
      "335/335 [==============================] - 0s 75us/step - loss: 0.4552 - acc: 0.8776 - val_loss: 0.7041 - val_acc: 0.7857\n",
      "Epoch 6/50\n",
      "335/335 [==============================] - 0s 63us/step - loss: 0.3992 - acc: 0.8985 - val_loss: 0.6597 - val_acc: 0.8095\n",
      "Epoch 7/50\n",
      "335/335 [==============================] - 0s 63us/step - loss: 0.3584 - acc: 0.9104 - val_loss: 0.6109 - val_acc: 0.8452\n",
      "Epoch 8/50\n",
      "335/335 [==============================] - 0s 63us/step - loss: 0.3258 - acc: 0.9194 - val_loss: 0.5785 - val_acc: 0.8690\n",
      "Epoch 9/50\n",
      "335/335 [==============================] - 0s 63us/step - loss: 0.3007 - acc: 0.9254 - val_loss: 0.5498 - val_acc: 0.8690\n",
      "Epoch 10/50\n",
      "335/335 [==============================] - 0s 60us/step - loss: 0.2785 - acc: 0.9343 - val_loss: 0.5113 - val_acc: 0.8929\n",
      "Epoch 11/50\n",
      "335/335 [==============================] - 0s 60us/step - loss: 0.2593 - acc: 0.9463 - val_loss: 0.5137 - val_acc: 0.8690\n",
      "Epoch 12/50\n",
      "335/335 [==============================] - 0s 54us/step - loss: 0.2446 - acc: 0.9433 - val_loss: 0.4941 - val_acc: 0.8929\n",
      "Epoch 13/50\n",
      "335/335 [==============================] - 0s 60us/step - loss: 0.2306 - acc: 0.9522 - val_loss: 0.4826 - val_acc: 0.8929\n",
      "Epoch 14/50\n",
      "335/335 [==============================] - 0s 51us/step - loss: 0.2165 - acc: 0.9463 - val_loss: 0.4475 - val_acc: 0.9048\n",
      "Epoch 15/50\n",
      "335/335 [==============================] - 0s 54us/step - loss: 0.2060 - acc: 0.9552 - val_loss: 0.4516 - val_acc: 0.8810\n",
      "Epoch 16/50\n",
      "335/335 [==============================] - 0s 72us/step - loss: 0.1937 - acc: 0.9552 - val_loss: 0.4487 - val_acc: 0.8810\n",
      "Epoch 17/50\n",
      "335/335 [==============================] - 0s 69us/step - loss: 0.1865 - acc: 0.9582 - val_loss: 0.4384 - val_acc: 0.8810\n",
      "Epoch 18/50\n",
      "335/335 [==============================] - 0s 57us/step - loss: 0.1783 - acc: 0.9612 - val_loss: 0.4265 - val_acc: 0.9048\n",
      "Epoch 19/50\n",
      "335/335 [==============================] - 0s 63us/step - loss: 0.1705 - acc: 0.9642 - val_loss: 0.4114 - val_acc: 0.8929\n",
      "Epoch 20/50\n",
      "335/335 [==============================] - 0s 93us/step - loss: 0.1626 - acc: 0.9701 - val_loss: 0.4008 - val_acc: 0.8929\n",
      "Epoch 21/50\n",
      "335/335 [==============================] - 0s 72us/step - loss: 0.1563 - acc: 0.9672 - val_loss: 0.4038 - val_acc: 0.9167\n",
      "Epoch 22/50\n",
      "335/335 [==============================] - 0s 60us/step - loss: 0.1500 - acc: 0.9731 - val_loss: 0.3974 - val_acc: 0.9167\n",
      "Epoch 23/50\n",
      "335/335 [==============================] - 0s 66us/step - loss: 0.1455 - acc: 0.9821 - val_loss: 0.3871 - val_acc: 0.9048\n",
      "Epoch 24/50\n",
      "335/335 [==============================] - 0s 66us/step - loss: 0.1394 - acc: 0.9731 - val_loss: 0.3942 - val_acc: 0.9048\n",
      "Epoch 25/50\n",
      "335/335 [==============================] - 0s 66us/step - loss: 0.1345 - acc: 0.9761 - val_loss: 0.3823 - val_acc: 0.9167\n",
      "Epoch 26/50\n",
      "335/335 [==============================] - 0s 51us/step - loss: 0.1297 - acc: 0.9821 - val_loss: 0.3867 - val_acc: 0.9167\n",
      "Epoch 27/50\n",
      "335/335 [==============================] - 0s 51us/step - loss: 0.1261 - acc: 0.9791 - val_loss: 0.3769 - val_acc: 0.9167\n",
      "Epoch 28/50\n",
      "335/335 [==============================] - 0s 63us/step - loss: 0.1225 - acc: 0.9791 - val_loss: 0.3776 - val_acc: 0.9167\n",
      "Epoch 29/50\n",
      "335/335 [==============================] - 0s 66us/step - loss: 0.1184 - acc: 0.9791 - val_loss: 0.3715 - val_acc: 0.9048\n",
      "Epoch 30/50\n",
      "335/335 [==============================] - 0s 54us/step - loss: 0.1143 - acc: 0.9821 - val_loss: 0.3743 - val_acc: 0.8929\n",
      "Epoch 31/50\n",
      "335/335 [==============================] - 0s 66us/step - loss: 0.1122 - acc: 0.9821 - val_loss: 0.3707 - val_acc: 0.9048\n",
      "Epoch 32/50\n",
      "335/335 [==============================] - 0s 69us/step - loss: 0.1091 - acc: 0.9821 - val_loss: 0.3554 - val_acc: 0.9167\n",
      "Epoch 33/50\n",
      "335/335 [==============================] - 0s 69us/step - loss: 0.1063 - acc: 0.9851 - val_loss: 0.3553 - val_acc: 0.9167\n",
      "Epoch 34/50\n",
      "335/335 [==============================] - 0s 69us/step - loss: 0.1026 - acc: 0.9851 - val_loss: 0.3612 - val_acc: 0.9167\n",
      "Epoch 35/50\n",
      "335/335 [==============================] - 0s 69us/step - loss: 0.0993 - acc: 0.9851 - val_loss: 0.3654 - val_acc: 0.9167\n",
      "Epoch 36/50\n",
      "335/335 [==============================] - 0s 66us/step - loss: 0.0973 - acc: 0.9881 - val_loss: 0.3606 - val_acc: 0.9048\n",
      "Epoch 37/50\n",
      "335/335 [==============================] - 0s 66us/step - loss: 0.0945 - acc: 0.9881 - val_loss: 0.3509 - val_acc: 0.9167\n",
      "Epoch 38/50\n",
      "335/335 [==============================] - 0s 63us/step - loss: 0.0915 - acc: 0.9881 - val_loss: 0.3605 - val_acc: 0.9167\n",
      "Epoch 39/50\n",
      "335/335 [==============================] - 0s 69us/step - loss: 0.0894 - acc: 0.9881 - val_loss: 0.3575 - val_acc: 0.9167\n",
      "Epoch 40/50\n",
      "335/335 [==============================] - 0s 69us/step - loss: 0.0872 - acc: 0.9881 - val_loss: 0.3588 - val_acc: 0.9167\n",
      "Epoch 41/50\n",
      "335/335 [==============================] - 0s 75us/step - loss: 0.0849 - acc: 0.9881 - val_loss: 0.3493 - val_acc: 0.9048\n",
      "Epoch 42/50\n",
      "335/335 [==============================] - 0s 69us/step - loss: 0.0836 - acc: 0.9910 - val_loss: 0.3458 - val_acc: 0.9167\n",
      "Epoch 43/50\n",
      "335/335 [==============================] - 0s 71us/step - loss: 0.0816 - acc: 0.9910 - val_loss: 0.3487 - val_acc: 0.9167\n",
      "Epoch 44/50\n",
      "335/335 [==============================] - 0s 66us/step - loss: 0.0794 - acc: 0.9910 - val_loss: 0.3514 - val_acc: 0.9167\n",
      "Epoch 45/50\n",
      "335/335 [==============================] - 0s 78us/step - loss: 0.0779 - acc: 0.9910 - val_loss: 0.3615 - val_acc: 0.9167\n",
      "Epoch 46/50\n",
      "335/335 [==============================] - 0s 69us/step - loss: 0.0761 - acc: 0.9910 - val_loss: 0.3437 - val_acc: 0.9167\n",
      "Epoch 47/50\n",
      "335/335 [==============================] - 0s 57us/step - loss: 0.0743 - acc: 0.9940 - val_loss: 0.3458 - val_acc: 0.9167\n",
      "Epoch 48/50\n",
      "335/335 [==============================] - 0s 96us/step - loss: 0.0726 - acc: 0.9910 - val_loss: 0.3468 - val_acc: 0.9167\n",
      "Epoch 49/50\n",
      "335/335 [==============================] - 0s 69us/step - loss: 0.0714 - acc: 0.9940 - val_loss: 0.3501 - val_acc: 0.9167\n",
      "Epoch 50/50\n",
      "335/335 [==============================] - 0s 69us/step - loss: 0.0701 - acc: 0.9910 - val_loss: 0.3461 - val_acc: 0.9167\n"
     ]
    }
   ],
   "source": [
    "# Fit model\n",
    "dense2 = model2.fit(\n",
    "    x=X, y=y,\n",
    "    validation_split=0.2, batch_size=32, epochs=50,\n",
    "    shuffle=True # Shuffle training samples\n",
    ")"
   ]
  },
  {
   "cell_type": "code",
   "execution_count": 66,
   "id": "55a8c9c9",
   "metadata": {},
   "outputs": [
    {
     "data": {
      "image/png": "[encoded data removed]",
      "text/plain": [
       "<Figure size 864x288 with 2 Axes>"
      ]
     },
     "metadata": {
      "needs_background": "light"
     },
     "output_type": "display_data"
    }
   ],
   "source": [
    "# Create two plots: one for the loss value, one for the accuracy\n",
    "fig, (ax1, ax2) = plt.subplots(nrows=1, ncols=2, figsize=(12, 4))\n",
    "\n",
    "# Plot accuracy values\n",
    "ax1.plot(dense2.history['loss'], label='train loss')\n",
    "ax1.plot(dense2.history['val_loss'], label='val loss')\n",
    "ax1.set_title('Validation loss {:.3f} (mean last 3)'.format(\n",
    "    np.mean(dense2.history['val_loss'][-3:]) # last three values\n",
    "))\n",
    "ax1.set_xlabel('epoch')\n",
    "ax1.set_ylabel('loss value')\n",
    "ax1.legend()\n",
    "\n",
    "# Plot accuracy values\n",
    "ax2.plot(dense2.history['acc'], label='train acc')\n",
    "ax2.plot(dense2.history['val_acc'], label='val acc')\n",
    "ax2.set_title('Validation accuracy {:.3f} (mean last 3)'.format(\n",
    "    np.mean(dense2.history['val_acc'][-3:]) # last three values\n",
    "))\n",
    "ax2.set_xlabel('epoch')\n",
    "ax2.set_ylabel('accuracy')\n",
    "ax2.legend()\n",
    "plt.show()"
   ]
  },
  {
   "cell_type": "code",
   "execution_count": 71,
   "id": "e321c54a",
   "metadata": {},
   "outputs": [
    {
     "data": {
      "text/plain": [
       "array([0.01944849, 0.08593289, 0.01048589, 0.05604275, 0.21284798,\n",
       "       0.615242  ], dtype=float32)"
      ]
     },
     "execution_count": 71,
     "metadata": {},
     "output_type": "execute_result"
    }
   ],
   "source": [
    "dense.model.predict(X_te)[45]"
   ]
  },
  {
   "cell_type": "code",
   "execution_count": null,
   "id": "42e5488d",
   "metadata": {},
   "outputs": [],
   "source": []
  }
 ],
 "metadata": {
  "kernelspec": {
   "display_name": "Python 3",
   "language": "python",
   "name": "python3"
  },
  "language_info": {
   "codemirror_mode": {
    "name": "ipython",
    "version": 3
   },
   "file_extension": ".py",
   "mimetype": "text/x-python",
   "name": "python",
   "nbconvert_exporter": "python",
   "pygments_lexer": "ipython3",
   "version": "3.6.13"
  }
 },
 "nbformat": 4,
 "nbformat_minor": 5
}
