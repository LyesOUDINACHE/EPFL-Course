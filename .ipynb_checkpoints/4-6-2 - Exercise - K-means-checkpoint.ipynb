{
 "cells": [
  {
   "cell_type": "markdown",
   "metadata": {},
   "source": [
    "The k-means algorithm\n",
    "---"
   ]
  },
  {
   "cell_type": "markdown",
   "metadata": {},
   "source": [
    "Exercise - Chigago gambling crimes\n",
    "---\n",
    "\n",
    "The city of Chicago disposes of 8 police patrols to fight gambling crimes. They want to assign each patrol to an area of Chicago where there is historically a lot of gambling crimes.\n",
    "\n",
    "> **Exercise**: Load the gambling crimes data. Create an `X` array with the `Longitude` and the `Latitude` variables (drop the other ones). Create a map of the gambling crimes using these two variables. Find eight centers of gamblings crimes using *k*-means. Plot each cluster with a different color and mark their centers (the centroids)."
   ]
  },
  {
   "cell_type": "code",
   "execution_count": 7,
   "metadata": {},
   "outputs": [
    {
     "data": {
      "text/html": [
       "<div>\n",
       "<style scoped>\n",
       "    .dataframe tbody tr th:only-of-type {\n",
       "        vertical-align: middle;\n",
       "    }\n",
       "\n",
       "    .dataframe tbody tr th {\n",
       "        vertical-align: top;\n",
       "    }\n",
       "\n",
       "    .dataframe thead th {\n",
       "        text-align: right;\n",
       "    }\n",
       "</style>\n",
       "<table border=\"1\" class=\"dataframe\">\n",
       "  <thead>\n",
       "    <tr style=\"text-align: right;\">\n",
       "      <th></th>\n",
       "      <th>Case Number</th>\n",
       "      <th>Block</th>\n",
       "      <th>Description</th>\n",
       "      <th>Location Description</th>\n",
       "      <th>Arrest</th>\n",
       "      <th>Year</th>\n",
       "      <th>Latitude</th>\n",
       "      <th>Longitude</th>\n",
       "    </tr>\n",
       "  </thead>\n",
       "  <tbody>\n",
       "    <tr>\n",
       "      <th>0</th>\n",
       "      <td>G360170</td>\n",
       "      <td>027XX N HOYNE AV</td>\n",
       "      <td>GAME/DICE</td>\n",
       "      <td>CHA HALLWAY/STAIRWELL/ELEVATOR</td>\n",
       "      <td>True</td>\n",
       "      <td>2001</td>\n",
       "      <td>41.932</td>\n",
       "      <td>-87.679</td>\n",
       "    </tr>\n",
       "    <tr>\n",
       "      <th>1</th>\n",
       "      <td>HV362360</td>\n",
       "      <td>105XX S LAFAYETTE AVE</td>\n",
       "      <td>GAME/DICE</td>\n",
       "      <td>SIDEWALK</td>\n",
       "      <td>True</td>\n",
       "      <td>2012</td>\n",
       "      <td>41.703</td>\n",
       "      <td>-87.625</td>\n",
       "    </tr>\n",
       "    <tr>\n",
       "      <th>2</th>\n",
       "      <td>HX330175</td>\n",
       "      <td>021XX E 71ST ST</td>\n",
       "      <td>GAME/DICE</td>\n",
       "      <td>GROCERY FOOD STORE</td>\n",
       "      <td>True</td>\n",
       "      <td>2014</td>\n",
       "      <td>41.766</td>\n",
       "      <td>-87.574</td>\n",
       "    </tr>\n",
       "    <tr>\n",
       "      <th>3</th>\n",
       "      <td>HP497478</td>\n",
       "      <td>005XX E 40TH ST</td>\n",
       "      <td>GAME/DICE</td>\n",
       "      <td>CHA PARKING LOT/GROUNDS</td>\n",
       "      <td>True</td>\n",
       "      <td>2008</td>\n",
       "      <td>41.821</td>\n",
       "      <td>-87.613</td>\n",
       "    </tr>\n",
       "    <tr>\n",
       "      <th>4</th>\n",
       "      <td>HJ481453</td>\n",
       "      <td>013XX E 53RD ST</td>\n",
       "      <td>GAME/DICE</td>\n",
       "      <td>STREET</td>\n",
       "      <td>True</td>\n",
       "      <td>2003</td>\n",
       "      <td>41.799</td>\n",
       "      <td>-87.593</td>\n",
       "    </tr>\n",
       "  </tbody>\n",
       "</table>\n",
       "</div>"
      ],
      "text/plain": [
       "  Case Number                  Block Description  \\\n",
       "0     G360170       027XX N HOYNE AV   GAME/DICE   \n",
       "1    HV362360  105XX S LAFAYETTE AVE   GAME/DICE   \n",
       "2    HX330175        021XX E 71ST ST   GAME/DICE   \n",
       "3    HP497478        005XX E 40TH ST   GAME/DICE   \n",
       "4    HJ481453        013XX E 53RD ST   GAME/DICE   \n",
       "\n",
       "             Location Description  Arrest  Year  Latitude  Longitude  \n",
       "0  CHA HALLWAY/STAIRWELL/ELEVATOR    True  2001    41.932    -87.679  \n",
       "1                        SIDEWALK    True  2012    41.703    -87.625  \n",
       "2              GROCERY FOOD STORE    True  2014    41.766    -87.574  \n",
       "3         CHA PARKING LOT/GROUNDS    True  2008    41.821    -87.613  \n",
       "4                          STREET    True  2003    41.799    -87.593  "
      ]
     },
     "execution_count": 7,
     "metadata": {},
     "output_type": "execute_result"
    }
   ],
   "source": [
    "import pandas as pd\n",
    "import numpy as np\n",
    "%matplotlib inline\n",
    "import matplotlib.pyplot as plt\n",
    "\n",
    "# Load data\n",
    "data_df = pd.read_csv('chicago-crimes.csv')\n",
    "\n",
    "# First five rows\n",
    "data_df.head()"
   ]
  },
  {
   "cell_type": "code",
   "execution_count": 37,
   "metadata": {},
   "outputs": [
    {
     "data": {
      "text/plain": [
       "(13981, 8)"
      ]
     },
     "execution_count": 37,
     "metadata": {},
     "output_type": "execute_result"
    }
   ],
   "source": [
    "data_df.shape"
   ]
  },
  {
   "cell_type": "code",
   "execution_count": null,
   "metadata": {},
   "outputs": [],
   "source": []
  },
  {
   "cell_type": "code",
   "execution_count": 27,
   "metadata": {},
   "outputs": [],
   "source": [
    "X = data_df[['Latitude','Longitude']]\n"
   ]
  },
  {
   "cell_type": "code",
   "execution_count": 28,
   "metadata": {},
   "outputs": [
    {
     "data": {
      "image/png": "[encoded data removed]",
      "text/plain": [
       "<Figure size 432x288 with 1 Axes>"
      ]
     },
     "metadata": {
      "needs_background": "light"
     },
     "output_type": "display_data"
    }
   ],
   "source": [
    "plt.scatter(X['Longitude'],X['Latitude'],s=4);"
   ]
  },
  {
   "cell_type": "code",
   "execution_count": 29,
   "metadata": {},
   "outputs": [],
   "source": [
    "from sklearn.cluster import KMeans\n",
    "\n",
    "# Create k-means object\n",
    "kmeans = KMeans(\n",
    "    n_clusters=8,\n",
    "    random_state=0 # Fix results\n",
    ")"
   ]
  },
  {
   "cell_type": "code",
   "execution_count": 30,
   "metadata": {},
   "outputs": [],
   "source": [
    "# Fit it to the data\n",
    "kmeans.fit(X, y=None);"
   ]
  },
  {
   "cell_type": "code",
   "execution_count": 40,
   "metadata": {},
   "outputs": [
    {
     "data": {
      "image/png": "[encoded data removed]",
      "text/plain": [
       "<Figure size 432x288 with 1 Axes>"
      ]
     },
     "metadata": {
      "needs_background": "light"
     },
     "output_type": "display_data"
    }
   ],
   "source": [
    "# Plot clusters\n",
    "for cluster in [0, 1, 2, 3, 4, 5, 6, 7]:\n",
    "    # Get points in this cluster\n",
    "    idx = (kmeans.labels_ == cluster)\n",
    "\n",
    "    # Plot points\n",
    "    plt.scatter(\n",
    "        X['Longitude'][idx], \n",
    "        X['Latitude'][idx], # Fourth column: petal width\n",
    "        label='cluster {}'.format(cluster)\n",
    "    )\n",
    "\n",
    "    # Plot centroid\n",
    "    centroid = kmeans.cluster_centers_[cluster]\n",
    "    plt.plot(centroid[1], centroid[0], marker='*', color='black', markersize=18)\n",
    "\n",
    "# Add legend and labels\n",
    "plt.legend()\n",
    "plt.xlabel('Latitude')\n",
    "plt.ylabel('Longitude')\n",
    "plt.show()"
   ]
  },
  {
   "cell_type": "code",
   "execution_count": 41,
   "metadata": {},
   "outputs": [
    {
     "data": {
      "text/plain": [
       "array([[ 41.87789475, -87.7156993 ],\n",
       "       [ 41.7511811 , -87.58033439],\n",
       "       [ 41.77335316, -87.66631328],\n",
       "       [ 41.9803103 , -87.68703518],\n",
       "       [ 41.89391994, -87.75779843],\n",
       "       [ 41.79355588, -87.61796973],\n",
       "       [ 41.69686559, -87.63137742],\n",
       "       [ 41.87074621, -87.64497159]])"
      ]
     },
     "execution_count": 41,
     "metadata": {},
     "output_type": "execute_result"
    }
   ],
   "source": [
    "kmeans.cluster_centers_"
   ]
  },
  {
   "cell_type": "markdown",
   "metadata": {},
   "source": [
    "Challenge - Image compression\n",
    "---\n",
    "\n",
    "> **Exercise**: Load the `pepper.jpg` image. Apply *k*-means to the image pixels to extract a palette of 3, 5 or 10 colors. Then re-draw the image using this new palette."
   ]
  },
  {
   "cell_type": "code",
   "execution_count": null,
   "metadata": {},
   "outputs": [],
   "source": [
    "???"
   ]
  }
 ],
 "metadata": {
  "kernelspec": {
   "display_name": "Python 3",
   "language": "python",
   "name": "python3"
  },
  "language_info": {
   "codemirror_mode": {
    "name": "ipython",
    "version": 3
   },
   "file_extension": ".py",
   "mimetype": "text/x-python",
   "name": "python",
   "nbconvert_exporter": "python",
   "pygments_lexer": "ipython3",
   "version": "3.6.13"
  }
 },
 "nbformat": 4,
 "nbformat_minor": 4
}
