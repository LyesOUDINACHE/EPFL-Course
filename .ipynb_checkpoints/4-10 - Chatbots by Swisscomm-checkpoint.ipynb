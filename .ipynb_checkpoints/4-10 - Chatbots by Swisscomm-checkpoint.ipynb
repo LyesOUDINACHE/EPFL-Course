{
 "cells": [
  {
   "cell_type": "markdown",
   "id": "38fe2639",
   "metadata": {},
   "source": [
    "# Conversational Agents"
   ]
  },
  {
   "cell_type": "markdown",
   "id": "e4c1f029",
   "metadata": {},
   "source": [
    "# Goal driven bots"
   ]
  },
  {
   "cell_type": "code",
   "execution_count": null,
   "id": "f33c582d",
   "metadata": {},
   "outputs": [],
   "source": []
  }
 ],
 "metadata": {
  "kernelspec": {
   "display_name": "Python 3",
   "language": "python",
   "name": "python3"
  },
  "language_info": {
   "codemirror_mode": {
    "name": "ipython",
    "version": 3
   },
   "file_extension": ".py",
   "mimetype": "text/x-python",
   "name": "python",
   "nbconvert_exporter": "python",
   "pygments_lexer": "ipython3",
   "version": "3.6.13"
  }
 },
 "nbformat": 4,
 "nbformat_minor": 5
}
