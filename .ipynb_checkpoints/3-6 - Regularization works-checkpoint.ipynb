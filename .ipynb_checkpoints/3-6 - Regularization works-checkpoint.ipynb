{
 "cells": [
  {
   "cell_type": "markdown",
   "id": "314cc78e",
   "metadata": {},
   "source": [
    "# Regularization\n",
    "\n",
    "### Overfitting and Occam's Razor\n",
    "\n",
    "In the last subject, we discussed model complexity and the ability to generalize from data. We saw two cases.\n",
    "\n",
    "- Underfitting - the model is too simple and fails to fit the data/signal\n",
    "- Overfitting - the model is too complex and fits the noise in addition to the signal\n",
    "\n",
    "In this subject, we will see how to control **overfitting using regularization**. But first, **let's talk about Occam's razor** which is the basic idea behind it, but also an interesting principle in general.\n",
    "\n",
    "### Occam's razor\n",
    "Occam's razor is a principle which states that if multiple solutions are available, the simplest one is better than the others. **The idea is that it's easy to build overly complicated solutions with ad-hoc rules that don't generalize well.**\n",
    "\n",
    "In the context of machine learning, the principle says that we should prefer simpler models unless we are sure that the complex ones are necessary.\n",
    "\n",
    "We often say that generalization is the central goal of machine learning. Occam's razor is one of the important principles to achieve this. You can take a look at section 3 and 4 of the paper \"A few useful things to know about machine learning\" by Pedro Domingos to learn more about the intuition behind generalization. Here is the link to the google scholar page. https://scholar.google.ch/scholar?cluster=4404716649035182981&hl=en&as_sdt=0,5\n",
    "\n",
    "### Increasing the amount of data\n",
    "The amount of data also plays a role in the under-/overfitting balance. Let's do a quick experiment. In this image, we show two polynomial regressions of degree 9 fitted to 10 and 80 data points from the same source of data.\n",
    "\n",
    "https://d7whxh71cqykp.cloudfront.net/uploads/image/data/3734/data-size.svg\n",
    "\n",
    "In the first case, the model is strongly overfitting. In fact, the polynomial passes through each data point. The problem is lessened in the second case.\n",
    "\n",
    "### Summary\n",
    "In this unit, we learned about Occam's razor which is an important principle in machine learning. In the next unit, we will learn about regularization which is an efficient way to reduce overfitting.\n",
    "\n",
    "\n",
    "# Regularziation\n",
    "\n",
    "In practice, we use regularization to fight overfitting. In this unit, we will see the basic idea behind it. We will then implement regularization with Scikit-learn in the next unit.\n",
    "\n",
    "### L2 Regularization\n",
    "\n",
    "hen fitting a model, we are searching for a set of optimal parameters \n",
    "⃗\n",
    "w\n",
    " that minimize the loss function \n",
    "L\n",
    "(\n",
    "⃗\n",
    "w\n",
    ")\n",
    ".\n",
    "\n",
    "As you can see, there are **no constraints on the parameters**\n",
    "⃗\n",
    "w\n",
    ". \n",
    "In particular, **they can get very large as long as they minimize the loss function.** However, **large coefficients is one of the symptoms of overfitting.** **With large coefficients, a small variation in the input data has a big effect on the predictions.**\n",
    "\n",
    "The idea behind **regularization is to add a constraint on the value of the parameters**. In practice, we include a penalization term in the cost function that measures how large the parameters are. For instance, \n",
    "L\n",
    "2\n",
    " regularization measures the squares of the parameters \n",
    "w\n",
    "i\n",
    ".\n",
    "\n",
    "minL(⃗w)+α * ∑w2i\n",
    "\n",
    "When \n",
    "α\n",
    " tends toward zero, the constraint on the parameters vanishes, and the problem is the same as before. When \n",
    "α\n",
    " tends toward infinity, the \n",
    "L\n",
    "(\n",
    "⃗\n",
    "w\n",
    ")\n",
    " term becomes irrelevant compared to the \n",
    "L\n",
    "2\n",
    " one. In this case, all parameters are zero except the intercept term \n",
    "w\n",
    "0\n",
    ".\n",
    "\n",
    "### Geometrical interpretation"
   ]
  },
  {
   "cell_type": "markdown",
   "id": "6277af18",
   "metadata": {},
   "source": [
    "*Note: it's not necessary to understand the mathematics behind this - here, we introduce this geometrical interpretation because it can help us visualize the effect of regularization. However, if you are curious about the maths behind this interpretation and want to learn more about Lagrange multipliers, you can take a look a this excellent tutorial from khanacademy.org.*\n",
    "\n",
    "In practice, we never use this formulation to fit our models. However, it's useful because it provides a nice geometrical interpretation - For a model with two parameters \n",
    "w\n",
    "1\n",
    " and \n",
    "w\n",
    "2\n",
    ", we are searching for a point inside a circle of radius \n",
    "c\n",
    ". In three dimensions, we are searching for a set of values inside a sphere of radius \n",
    "c\n",
    ". Here is an illustration of the two-dimensional case.\n",
    "\n",
    "https://d7whxh71cqykp.cloudfront.net/uploads/image/data/2938/regularization-geometrical-interpretation.svg\n",
    "\n",
    "In this image, the blue point outside the circle represents the parameters \n",
    "w\n",
    "1\n",
    " and \n",
    "w\n",
    "2\n",
    " that minimize the unconstrained loss value \n",
    "L\n",
    "(\n",
    "⃗\n",
    "w\n",
    ")\n",
    ". This minimal value is not inside the circle of radius \n",
    "c\n",
    ". Hence it's not a valid solution according to the constraint. The solution that minimizes the cost function inside the gray circle is denoted \n",
    "w\n",
    "∗\n",
    " (\n",
    "w\n",
    " star).\n",
    " \n",
    " ### Other regularizers\n",
    " \n",
    " We will use \n",
    "L\n",
    "2\n",
    " regularization in this course, but there are other regularizers. For instance, the **lasso regularization \n",
    "L\n",
    "1\n",
    " is a variant of \n",
    "L\n",
    "2**\n",
    " which penalizes the absolute value of the coefficients instead of their squares.\n",
    " \n",
    " https://d7whxh71cqykp.cloudfront.net/uploads/image/data/2937/l1-regularization.svg\n",
    " \n",
    " In other words, with \n",
    "L\n",
    "1\n",
    " regularization, the optimal solution only has a few non-zero parameters, and we say that the solution is sparse which is a desired property in some cases. You can take a look at this thread if you want to learn more about this topic.\n",
    " https://www.quora.com/What-is-the-difference-between-L1-and-L2-regularization-How-does-it-solve-the-problem-of-overfitting-Which-regularizer-to-use-and-when/answer/Xavier-Amatriain"
   ]
  },
  {
   "cell_type": "markdown",
   "id": "2b02f1d7",
   "metadata": {},
   "source": [
    "### Summary\n",
    "Let's summarize what we've learned in this unit. Here are a few takeaways.\n",
    "\n",
    "- The idea behind regularization is to add a **constraint** on the amplitude of the coefficients.\n",
    "- This constraint corresponds to an additional term in the cost function called the **penalization term.**\n",
    "- We use an alpha \n",
    "α\n",
    " parameter to control the **regularization strength.**\n",
    "\n",
    "In the next unit, we will implement \n",
    "L\n",
    "2\n",
    " regularization for linear regressions."
   ]
  },
  {
   "cell_type": "markdown",
   "id": "2a9bbff1",
   "metadata": {},
   "source": [
    "### Ridge Regression\n",
    "\n",
    " the last unit, we learned about \n",
    "L\n",
    "2\n",
    " regularization and saw that it adds a constraint on the length of the vector of parameters \n",
    "⃗\n",
    "w\n",
    ". So far, **we didn't specify any particular model or cost function**, but if we use **multi-linear regressions and minimize the squares of the residuals**, we obtain the ridge regression model.\n",
    "\n",
    "Ridge = LinearRegression(RSS) + alpha x sum(w2)\n",
    "$$\n",
    "\\min_{\\vec{w}}\\sum_{i=1}^{n}\\left(y_{i}-\\hat{y}_{i}\\right)^{2}+\\alpha\\sum_{j=1}^{p}w_{j}^{2}\n",
    "$$"
   ]
  },
  {
   "cell_type": "code",
   "execution_count": 1,
   "id": "8457851e",
   "metadata": {},
   "outputs": [
    {
     "name": "stdout",
     "output_type": "stream",
     "text": [
      "Shape: (50, 2)\n"
     ]
    },
    {
     "data": {
      "text/html": [
       "<div>\n",
       "<style scoped>\n",
       "    .dataframe tbody tr th:only-of-type {\n",
       "        vertical-align: middle;\n",
       "    }\n",
       "\n",
       "    .dataframe tbody tr th {\n",
       "        vertical-align: top;\n",
       "    }\n",
       "\n",
       "    .dataframe thead th {\n",
       "        text-align: right;\n",
       "    }\n",
       "</style>\n",
       "<table border=\"1\" class=\"dataframe\">\n",
       "  <thead>\n",
       "    <tr style=\"text-align: right;\">\n",
       "      <th></th>\n",
       "      <th>x</th>\n",
       "      <th>y</th>\n",
       "    </tr>\n",
       "  </thead>\n",
       "  <tbody>\n",
       "    <tr>\n",
       "      <th>0</th>\n",
       "      <td>0.000</td>\n",
       "      <td>0.706</td>\n",
       "    </tr>\n",
       "    <tr>\n",
       "      <th>1</th>\n",
       "      <td>0.128</td>\n",
       "      <td>0.288</td>\n",
       "    </tr>\n",
       "    <tr>\n",
       "      <th>2</th>\n",
       "      <td>0.256</td>\n",
       "      <td>0.645</td>\n",
       "    </tr>\n",
       "    <tr>\n",
       "      <th>3</th>\n",
       "      <td>0.385</td>\n",
       "      <td>1.272</td>\n",
       "    </tr>\n",
       "    <tr>\n",
       "      <th>4</th>\n",
       "      <td>0.513</td>\n",
       "      <td>1.238</td>\n",
       "    </tr>\n",
       "  </tbody>\n",
       "</table>\n",
       "</div>"
      ],
      "text/plain": [
       "       x      y\n",
       "0  0.000  0.706\n",
       "1  0.128  0.288\n",
       "2  0.256  0.645\n",
       "3  0.385  1.272\n",
       "4  0.513  1.238"
      ]
     },
     "execution_count": 1,
     "metadata": {},
     "output_type": "execute_result"
    }
   ],
   "source": [
    "import pandas as pd\n",
    "\n",
    "# Load the data\n",
    "data_df = pd.read_csv('data-points.csv')\n",
    "\n",
    "# Print shape\n",
    "print('Shape:', data_df.shape) # (50, 2)\n",
    "\n",
    "# First five rows\n",
    "data_df.head()"
   ]
  },
  {
   "cell_type": "markdown",
   "id": "be5b028a",
   "metadata": {},
   "source": [
    "We generated the 50 x/y data points using a sine curve. The idea is to create 50 points on the curve and add a small noise to each point. Let's create the x, y variables and plot the data."
   ]
  },
  {
   "cell_type": "code",
   "execution_count": 5,
   "id": "23979cee",
   "metadata": {},
   "outputs": [
    {
     "data": {
      "image/png": "[encoded data removed]",
      "text/plain": [
       "<Figure size 432x288 with 1 Axes>"
      ]
     },
     "metadata": {
      "needs_background": "light"
     },
     "output_type": "display_data"
    }
   ],
   "source": [
    "%matplotlib inline\n",
    "import matplotlib.pyplot as plt\n",
    "import numpy as np\n",
    "\n",
    "# Extract x, y data\n",
    "x = data_df.x.values\n",
    "y = data_df.y.values\n",
    "\n",
    "# Plot data points\n",
    "plt.scatter(x, y)\n",
    "\n",
    "# Plot sine curve for reference\n",
    "x_values = np.linspace(min(x), max(x), num=100)\n",
    "y_sine = np.sin(x_values)\n",
    "plt.plot(x_values, y_sine, c='C3', label='sine curve')\n",
    "plt.legend()\n",
    "plt.show()"
   ]
  },
  {
   "cell_type": "markdown",
   "id": "7c76ee92",
   "metadata": {},
   "source": [
    "### Polynomial regression\n",
    "Let's fit a polynomial regression of degree 10 to this set of points. We can generate the polynomial features using the PolynomialFeatures object from Scikit-learn."
   ]
  },
  {
   "cell_type": "code",
   "execution_count": 25,
   "id": "81a97a3a",
   "metadata": {},
   "outputs": [
    {
     "name": "stdout",
     "output_type": "stream",
     "text": [
      "Shape: (50, 10)\n",
      "Features: ['x0', 'x0^2', 'x0^3', 'x0^4', 'x0^5', 'x0^6', 'x0^7', 'x0^8', 'x0^9', 'x0^10']\n"
     ]
    }
   ],
   "source": [
    "from sklearn.preprocessing import PolynomialFeatures\n",
    "\n",
    "# Create the polynomial features\n",
    "poly_obj = PolynomialFeatures(degree=10, include_bias=False)\n",
    "X_poly = poly_obj.fit_transform(x[:, np.newaxis])\n",
    "\n",
    "print('Shape:', X_poly.shape) # (50, 10)\n",
    "print('Features:', poly_obj.get_feature_names())\n"
   ]
  },
  {
   "cell_type": "markdown",
   "id": "4b2d815b",
   "metadata": {},
   "source": [
    "Later in this unit, we will **apply regularization** to our models. Since regularization is sensitive to the scale of our features, we will **start by standardizing** our data.\n",
    "\n",
    "**This is a common operation in machine learning, so Scikit-learn implements a StandardScaler() object to do it.** Let's see how to use to it."
   ]
  },
  {
   "cell_type": "code",
   "execution_count": 26,
   "id": "52ba9089",
   "metadata": {},
   "outputs": [],
   "source": [
    "from sklearn.preprocessing import StandardScaler\n",
    "\n",
    "scaler = StandardScaler()\n",
    "X_rescaled = scaler.fit_transform(X_poly)"
   ]
  },
  {
   "cell_type": "markdown",
   "id": "e45f06c3",
   "metadata": {},
   "source": [
    "In this code, we first have to create the object and then call its fit_transform() function to compute the mean/standard deviation of each feature (fit) and apply standardization (transform)."
   ]
  },
  {
   "cell_type": "code",
   "execution_count": 37,
   "id": "df6c8a0a",
   "metadata": {},
   "outputs": [
    {
     "data": {
      "image/png": "[encoded data removed]",
      "text/plain": [
       "<Figure size 432x288 with 1 Axes>"
      ]
     },
     "metadata": {
      "needs_background": "light"
     },
     "output_type": "display_data"
    }
   ],
   "source": [
    "# Try polyfit (test LO)\n",
    "\n",
    "import numpy as np\n",
    "\n",
    "coefs = np.polyfit(x, y, deg=10)\n",
    "y_pred = np.polyval(coefs, x_values)\n",
    "\n",
    "plt.scatter(x, y)\n",
    "plt.plot(x_values, y_sine, c='C3', label='sine curve')\n",
    "plt.plot(x_values, y_pred, c='C2', label='deg 10 polyval')\n",
    "plt.legend()\n",
    "plt.show()"
   ]
  },
  {
   "cell_type": "code",
   "execution_count": 28,
   "id": "efb49b17",
   "metadata": {},
   "outputs": [
    {
     "data": {
      "text/plain": [
       "array([ 1.06581410e-16,  3.10862447e-16, -2.66453526e-16, -9.76996262e-17,\n",
       "       -1.33226763e-16,  6.21724894e-17, -6.21724894e-17,  1.33226763e-16,\n",
       "       -5.32907052e-17, -5.32907052e-17])"
      ]
     },
     "execution_count": 28,
     "metadata": {},
     "output_type": "execute_result"
    }
   ],
   "source": [
    "# Let's verify that the data is standardized. The mean should be close to zero.\n",
    "X_rescaled.mean(axis=0)"
   ]
  },
  {
   "cell_type": "code",
   "execution_count": 29,
   "id": "a8b416ae",
   "metadata": {},
   "outputs": [
    {
     "data": {
      "text/plain": [
       "array([1., 1., 1., 1., 1., 1., 1., 1., 1., 1.])"
      ]
     },
     "execution_count": 29,
     "metadata": {},
     "output_type": "execute_result"
    }
   ],
   "source": [
    "X_rescaled.std(axis=0)"
   ]
  },
  {
   "cell_type": "markdown",
   "id": "d2827fab",
   "metadata": {},
   "source": [
    "Let's now fit a linear regression to the standardize data and plot its prediction curve."
   ]
  },
  {
   "cell_type": "code",
   "execution_count": 36,
   "id": "053cea23",
   "metadata": {},
   "outputs": [
    {
     "data": {
      "image/png": "[encoded data removed]",
      "text/plain": [
       "<Figure size 432x288 with 1 Axes>"
      ]
     },
     "metadata": {
      "needs_background": "light"
     },
     "output_type": "display_data"
    }
   ],
   "source": [
    "from sklearn.linear_model import LinearRegression\n",
    "\n",
    "# Linear regression\n",
    "lr = LinearRegression()\n",
    "lr.fit(X_rescaled, y)\n",
    "\n",
    "# Pass sample x values through the preprocessing steps\n",
    "X_values_rescaled = scaler.transform(\n",
    "    poly_obj.transform(x_values[:, np.newaxis])\n",
    ")\n",
    "y_values_lr = lr.predict(X_values_rescaled)\n",
    "\n",
    "# Plot the model\n",
    "plt.scatter(X_rescaled[:, 0], y)\n",
    "plt.plot(X_values_rescaled[:, 0], y_values_lr, c='C3', label='linear regression')\n",
    "plt.legend()\n",
    "plt.show()"
   ]
  },
  {
   "cell_type": "markdown",
   "id": "37de32b7",
   "metadata": {},
   "source": [
    "Note that we need to **apply all the preprocessing steps to the hundred x_values** used to plot the prediction curve: we first create the polynomial basis with **poly_obj.transform()** and then standardize the features with **scaler.transform()** to get the X_values_rescaled. We can then pass the results to our model to get the predictions y_values_lr.\n",
    "\n",
    "**As we can see, the model is clearly overfitting. Let's try to reduce overfitting with regularization**"
   ]
  },
  {
   "cell_type": "code",
   "execution_count": 38,
   "id": "524790be",
   "metadata": {},
   "outputs": [
    {
     "data": {
      "image/png": "[encoded data removed]",
      "text/plain": [
       "<Figure size 432x288 with 1 Axes>"
      ]
     },
     "metadata": {
      "needs_background": "light"
     },
     "output_type": "display_data"
    }
   ],
   "source": [
    "from sklearn.linear_model import Ridge\n",
    "\n",
    "# Ridge regression\n",
    "ridge = Ridge()\n",
    "ridge.fit(X_rescaled, y)\n",
    "\n",
    "# Compute predictions\n",
    "y_values_ridge = ridge.predict(X_values_rescaled)\n",
    "\n",
    "# Plot the model\n",
    "plt.scatter(X_rescaled[:, 0], y)\n",
    "plt.plot(X_values_rescaled[:, 0], y_values_ridge, c='C3', label='rigde ression')\n",
    "plt.legend()\n",
    "plt.show()"
   ]
  },
  {
   "cell_type": "markdown",
   "id": "8bad072d",
   "metadata": {},
   "source": [
    "**In this code, we replaced the LinearRegression object with a Ridge one. The rest of the code is the same. We get the following curve.**\n",
    "\n",
    "By default, the Ridge object sets the regularization strength \n",
    "α\n",
    " to one. In our case, the curve is too rigid to model the data points, and the **model is underfitting.**"
   ]
  },
  {
   "cell_type": "code",
   "execution_count": 39,
   "id": "304b4b01",
   "metadata": {},
   "outputs": [
    {
     "data": {
      "image/png": "[encoded data removed]",
      "text/plain": [
       "<Figure size 432x288 with 1 Axes>"
      ]
     },
     "metadata": {
      "needs_background": "light"
     },
     "output_type": "display_data"
    }
   ],
   "source": [
    "# Ridge regression\n",
    "ridge2 = Ridge(alpha=1e-4)\n",
    "ridge2.fit(X_rescaled, y)\n",
    "\n",
    "# Compute predictions\n",
    "y_values_ridge2 = ridge2.predict(X_values_rescaled)\n",
    "\n",
    "# Plot the model\n",
    "plt.scatter(X_rescaled[:, 0], y)\n",
    "plt.plot(X_values_rescaled[:, 0], y_values_ridge2, c='C3', label='tuned ridge')\n",
    "plt.legend()\n",
    "plt.show()"
   ]
  },
  {
   "cell_type": "markdown",
   "id": "cb4f38f9",
   "metadata": {},
   "source": [
    "We can also compare the coefficients before and after adding the regularization term using the coef_ attribute."
   ]
  },
  {
   "cell_type": "code",
   "execution_count": 40,
   "id": "c03f71ac",
   "metadata": {},
   "outputs": [
    {
     "name": "stdout",
     "output_type": "stream",
     "text": [
      "x0    :        6.3\n",
      "x0^2  :     -156.5\n",
      "x0^3  :     1604.8\n",
      "x0^4  :    -8250.8\n",
      "x0^5  :    24145.5\n",
      "x0^6  :   -42951.3\n",
      "x0^7  :    47245.0\n",
      "x0^8  :   -31285.6\n",
      "x0^9  :    11373.1\n",
      "x0^10 :    -1731.0\n"
     ]
    }
   ],
   "source": [
    "# Linear regression coefficients\n",
    "features = poly_obj.get_feature_names()\n",
    "for feature, coef in zip(features, lr.coef_):\n",
    "    print('{:<6}: {:>10.1f}'.format(feature, coef))"
   ]
  },
  {
   "cell_type": "code",
   "execution_count": 41,
   "id": "f77390c1",
   "metadata": {},
   "outputs": [
    {
     "name": "stdout",
     "output_type": "stream",
     "text": [
      "x0    :  1.4\n",
      "x0^2  : -1.6\n",
      "x0^3  : -6.8\n",
      "x0^4  :  3.9\n",
      "x0^5  :  4.5\n",
      "x0^6  :  0.5\n",
      "x0^7  : -1.7\n",
      "x0^8  : -1.1\n",
      "x0^9  :  0.2\n",
      "x0^10 :  0.1\n"
     ]
    }
   ],
   "source": [
    "# Ridge regression coefficients\n",
    "for feature, coef in zip(features, ridge2.coef_):\n",
    "    print('{:<6}: {:>4.1f}'.format(feature, coef))"
   ]
  },
  {
   "cell_type": "code",
   "execution_count": 44,
   "id": "33e07a2e",
   "metadata": {},
   "outputs": [
    {
     "name": "stdout",
     "output_type": "stream",
     "text": [
      "[-8.28558459e-05  3.31715754e-03 -5.54271454e-02  5.06585154e-01\n",
      " -2.77594378e+00  9.36408351e+00 -1.91184441e+01  2.21740200e+01\n",
      " -1.30201562e+01  3.42498798e+00  4.84685671e-01]\n"
     ]
    }
   ],
   "source": [
    "print(coefs) # pour polyval pour comparer"
   ]
  },
  {
   "cell_type": "markdown",
   "id": "eef3971f",
   "metadata": {},
   "source": [
    "As we can see, the coefficients are much smaller with ridge regression than with linear regression.\n",
    "\n",
    "Using the analogy from the previous unit, the coefficients of the linear regression model minimize the loss function \n",
    "$\n",
    "L\n",
    "(\n",
    "⃗\n",
    "w\n",
    ")\n",
    "$\n",
    " in blue. On the other hand, the coefficients of the ridge regression model correspond to the optimal solution $w∗$\n",
    " inside the circle of radius \n",
    "$c$\n",
    "https://d7whxh71cqykp.cloudfront.net/uploads/image/data/2931/regularization-geometrical-interpretation.svg"
   ]
  },
  {
   "cell_type": "markdown",
   "id": "c91660d4",
   "metadata": {},
   "source": [
    "### Lasso regressions\n",
    "One of the advantages of using Scikit-learn is that it's easy to test different estimators. For instance, we can change the regularization to \n",
    "$L\n",
    "1$\n",
    " using the Lasso estimator."
   ]
  },
  {
   "cell_type": "code",
   "execution_count": 45,
   "id": "09232326",
   "metadata": {},
   "outputs": [
    {
     "data": {
      "image/png": "[encoded data removed]",
      "text/plain": [
       "<Figure size 432x288 with 1 Axes>"
      ]
     },
     "metadata": {
      "needs_background": "light"
     },
     "output_type": "display_data"
    }
   ],
   "source": [
    "from sklearn.linear_model import Lasso\n",
    "\n",
    "# Lasso regression\n",
    "lasso = Lasso(alpha=1e-4, max_iter=1e5)\n",
    "lasso.fit(X_rescaled, y)\n",
    "\n",
    "# Compute predictions\n",
    "y_values_lasso = lasso.predict(X_values_rescaled)\n",
    "\n",
    "# Plot the model\n",
    "plt.scatter(X_rescaled[:, 0], y)\n",
    "plt.plot(X_values_rescaled[:, 0], y_values_lasso, c='C3', label='lasso')\n",
    "plt.legend()\n",
    "plt.show()"
   ]
  },
  {
   "cell_type": "markdown",
   "id": "f1f75556",
   "metadata": {},
   "source": [
    "In this code, we simply replaced the Ridge object by a Lasso one. Scikit-learn uses an iterative algorithm called coordinate descent to find the optimal parameters of the Lasso regression. For this reason, we need to set the number of iterations with max_iter. We will simply set it to 100k iterations.\n",
    "\n",
    "We get the result.\n",
    "\n",
    "The curve is very similar to the ridge one. However, the coefficients are different. In the last unit, we saw that \n",
    "$L\n",
    "1$\n",
    " regularization produces *sparse solutions* which means that only a few parameters are non-zero. We can verify that by printing the coefficients of the lasso estimator."
   ]
  },
  {
   "cell_type": "code",
   "execution_count": 47,
   "id": "ab4f280c",
   "metadata": {},
   "outputs": [
    {
     "name": "stdout",
     "output_type": "stream",
     "text": [
      "x0    :  1.8\n",
      "x0^2  : -4.4\n",
      "x0^3  : -0.2\n",
      "x0^4  :  0.0\n",
      "x0^5  :  2.2\n",
      "x0^6  :  0.9\n",
      "x0^7  :  0.0\n",
      "x0^8  :  0.0\n",
      "x0^9  : -0.0\n",
      "x0^10 : -0.7\n"
     ]
    }
   ],
   "source": [
    "# Lasso regression coefficients\n",
    "for feature, coef in zip(features, lasso.coef_):\n",
    "    print('{:<6}: {:>4.1f}'.format(feature, coef))\n"
   ]
  },
  {
   "cell_type": "markdown",
   "id": "2be0a608",
   "metadata": {},
   "source": [
    "In this case, **only six coefficients are non-zero.** This is why **we say that Lasso performs feature selection** - it automatically selects a subset of the features to make predictions and sets the others coefficients to zero.\n",
    "\n",
    "### Summary\n",
    "\n",
    "In this unit, **we applied regularization to reduce overfitting** of a polynomial regression model. However, it can help in many other situations. For instance, **we saw in a previous unit that we can use it when there is ill-conditioning**.\n",
    "\n",
    "In the next unit, we will see how to tune the regularization term \n",
    "$α$\n",
    " using a simple algorithm called **grid search.**"
   ]
  },
  {
   "cell_type": "markdown",
   "id": "51188c58",
   "metadata": {},
   "source": [
    "### Notes : scale vs StandardScaler\n",
    "They both come from the preprocessing module and do the same job (see example below) but with some differences. The scale is just a function to transform the data whereas StandardScaler implements the Transformer API for a training set and is able to apply the same transformation on the testing set. In ML modeling where we always have train and test sets we need to use the latter one."
   ]
  },
  {
   "cell_type": "code",
   "execution_count": 51,
   "id": "fdd63a71",
   "metadata": {},
   "outputs": [
    {
     "name": "stdout",
     "output_type": "stream",
     "text": [
      "scale:          Mean: -2.9160440592069775e-16 Standard deviation: 0.9999999999999999\n",
      "StandardScaler: Mean: -2.9160440592069775e-16 Standard deviation: 0.9999999999999999\n"
     ]
    }
   ],
   "source": [
    "import pandas as pd\n",
    "from sklearn.preprocessing import scale \n",
    "from sklearn.preprocessing import StandardScaler\n",
    "\n",
    "# Load the data from the units\n",
    "data_df = pd.read_csv('bike-sharing.csv')\n",
    "\n",
    "# Standardize x\n",
    "x_standardized     = scale(data_df['temp'])\n",
    "x_standardized_new = StandardScaler().fit_transform(data_df['temp'].values.reshape(-1, 1))\n",
    "\n",
    "\n",
    "print('scale:          Mean:', x_standardized.mean(),'Standard deviation:', x_standardized.std())\n",
    "print('StandardScaler: Mean:', x_standardized_new.mean(),'Standard deviation:', x_standardized_new.std())\n",
    "\n"
   ]
  },
  {
   "cell_type": "markdown",
   "id": "d0f06d0f",
   "metadata": {},
   "source": [
    "**I wonder why this is the case. What is the difference between scaler.transform(X) and scaler.fit_transform(X)?**\n",
    "\n",
    "very good question. When you create an object, like the scaler scaler = StandardScaler(), then the object is still \"empty\". **Meaning, it doesn't know yet which mean to take to centralize the data or which scale to use to scale the data.** On the help page of StandardScaler, you can see after the list of Parameters that it also includes a list of Attributes. All of these attributes end with an underscore _ which means that these parameters are only available once the object was fitted or correctly initiated."
   ]
  },
  {
   "cell_type": "markdown",
   "id": "3955aa56",
   "metadata": {},
   "source": [
    "# Tuning hyperparameters with grid search\n",
    "\n",
    "Regularization adds a new parameter - the **regularization strength**. Unlike model coefficients which are learned during training, we set its value before fitting the model. For this reason, it's called a **hyperparameter**. In this unit, we will see how to tune it using a simple technique called **grid search**.\n",
    "\n",
    "### House prices data set"
   ]
  },
  {
   "cell_type": "code",
   "execution_count": 52,
   "id": "8ee23aca",
   "metadata": {},
   "outputs": [
    {
     "data": {
      "text/html": [
       "<div>\n",
       "<style scoped>\n",
       "    .dataframe tbody tr th:only-of-type {\n",
       "        vertical-align: middle;\n",
       "    }\n",
       "\n",
       "    .dataframe tbody tr th {\n",
       "        vertical-align: top;\n",
       "    }\n",
       "\n",
       "    .dataframe thead th {\n",
       "        text-align: right;\n",
       "    }\n",
       "</style>\n",
       "<table border=\"1\" class=\"dataframe\">\n",
       "  <thead>\n",
       "    <tr style=\"text-align: right;\">\n",
       "      <th></th>\n",
       "      <th>Order</th>\n",
       "      <th>PID</th>\n",
       "      <th>MS SubClass</th>\n",
       "      <th>MS Zoning</th>\n",
       "      <th>Lot Frontage</th>\n",
       "      <th>Lot Area</th>\n",
       "      <th>Street</th>\n",
       "      <th>Alley</th>\n",
       "      <th>Lot Shape</th>\n",
       "      <th>Land Contour</th>\n",
       "      <th>...</th>\n",
       "      <th>Pool Area</th>\n",
       "      <th>Pool QC</th>\n",
       "      <th>Fence</th>\n",
       "      <th>Misc Feature</th>\n",
       "      <th>Misc Val</th>\n",
       "      <th>Mo Sold</th>\n",
       "      <th>Yr Sold</th>\n",
       "      <th>Sale Type</th>\n",
       "      <th>Sale Condition</th>\n",
       "      <th>SalePrice</th>\n",
       "    </tr>\n",
       "  </thead>\n",
       "  <tbody>\n",
       "    <tr>\n",
       "      <th>0</th>\n",
       "      <td>484</td>\n",
       "      <td>528275070</td>\n",
       "      <td>60</td>\n",
       "      <td>RL</td>\n",
       "      <td>NaN</td>\n",
       "      <td>8795</td>\n",
       "      <td>Pave</td>\n",
       "      <td>NaN</td>\n",
       "      <td>IR1</td>\n",
       "      <td>Lvl</td>\n",
       "      <td>...</td>\n",
       "      <td>0</td>\n",
       "      <td>NaN</td>\n",
       "      <td>NaN</td>\n",
       "      <td>NaN</td>\n",
       "      <td>0</td>\n",
       "      <td>4</td>\n",
       "      <td>2009</td>\n",
       "      <td>WD</td>\n",
       "      <td>Normal</td>\n",
       "      <td>236000</td>\n",
       "    </tr>\n",
       "    <tr>\n",
       "      <th>1</th>\n",
       "      <td>2586</td>\n",
       "      <td>535305120</td>\n",
       "      <td>20</td>\n",
       "      <td>RL</td>\n",
       "      <td>75.0</td>\n",
       "      <td>10170</td>\n",
       "      <td>Pave</td>\n",
       "      <td>NaN</td>\n",
       "      <td>Reg</td>\n",
       "      <td>Lvl</td>\n",
       "      <td>...</td>\n",
       "      <td>0</td>\n",
       "      <td>NaN</td>\n",
       "      <td>NaN</td>\n",
       "      <td>NaN</td>\n",
       "      <td>0</td>\n",
       "      <td>6</td>\n",
       "      <td>2006</td>\n",
       "      <td>WD</td>\n",
       "      <td>Normal</td>\n",
       "      <td>155000</td>\n",
       "    </tr>\n",
       "    <tr>\n",
       "      <th>2</th>\n",
       "      <td>2289</td>\n",
       "      <td>923228250</td>\n",
       "      <td>160</td>\n",
       "      <td>RM</td>\n",
       "      <td>21.0</td>\n",
       "      <td>2001</td>\n",
       "      <td>Pave</td>\n",
       "      <td>NaN</td>\n",
       "      <td>Reg</td>\n",
       "      <td>Lvl</td>\n",
       "      <td>...</td>\n",
       "      <td>0</td>\n",
       "      <td>NaN</td>\n",
       "      <td>NaN</td>\n",
       "      <td>NaN</td>\n",
       "      <td>0</td>\n",
       "      <td>1</td>\n",
       "      <td>2007</td>\n",
       "      <td>WD</td>\n",
       "      <td>Normal</td>\n",
       "      <td>75000</td>\n",
       "    </tr>\n",
       "    <tr>\n",
       "      <th>3</th>\n",
       "      <td>142</td>\n",
       "      <td>535152150</td>\n",
       "      <td>20</td>\n",
       "      <td>RL</td>\n",
       "      <td>70.0</td>\n",
       "      <td>10552</td>\n",
       "      <td>Pave</td>\n",
       "      <td>NaN</td>\n",
       "      <td>IR1</td>\n",
       "      <td>Lvl</td>\n",
       "      <td>...</td>\n",
       "      <td>0</td>\n",
       "      <td>NaN</td>\n",
       "      <td>NaN</td>\n",
       "      <td>NaN</td>\n",
       "      <td>0</td>\n",
       "      <td>4</td>\n",
       "      <td>2010</td>\n",
       "      <td>WD</td>\n",
       "      <td>Normal</td>\n",
       "      <td>165500</td>\n",
       "    </tr>\n",
       "    <tr>\n",
       "      <th>4</th>\n",
       "      <td>2042</td>\n",
       "      <td>903475060</td>\n",
       "      <td>190</td>\n",
       "      <td>RM</td>\n",
       "      <td>60.0</td>\n",
       "      <td>10120</td>\n",
       "      <td>Pave</td>\n",
       "      <td>NaN</td>\n",
       "      <td>IR1</td>\n",
       "      <td>Bnk</td>\n",
       "      <td>...</td>\n",
       "      <td>0</td>\n",
       "      <td>NaN</td>\n",
       "      <td>MnPrv</td>\n",
       "      <td>NaN</td>\n",
       "      <td>0</td>\n",
       "      <td>1</td>\n",
       "      <td>2007</td>\n",
       "      <td>WD</td>\n",
       "      <td>Normal</td>\n",
       "      <td>122000</td>\n",
       "    </tr>\n",
       "  </tbody>\n",
       "</table>\n",
       "<p>5 rows × 82 columns</p>\n",
       "</div>"
      ],
      "text/plain": [
       "   Order        PID  MS SubClass MS Zoning  Lot Frontage  Lot Area Street  \\\n",
       "0    484  528275070           60        RL           NaN      8795   Pave   \n",
       "1   2586  535305120           20        RL          75.0     10170   Pave   \n",
       "2   2289  923228250          160        RM          21.0      2001   Pave   \n",
       "3    142  535152150           20        RL          70.0     10552   Pave   \n",
       "4   2042  903475060          190        RM          60.0     10120   Pave   \n",
       "\n",
       "  Alley Lot Shape Land Contour  ... Pool Area Pool QC  Fence Misc Feature  \\\n",
       "0   NaN       IR1          Lvl  ...         0     NaN    NaN          NaN   \n",
       "1   NaN       Reg          Lvl  ...         0     NaN    NaN          NaN   \n",
       "2   NaN       Reg          Lvl  ...         0     NaN    NaN          NaN   \n",
       "3   NaN       IR1          Lvl  ...         0     NaN    NaN          NaN   \n",
       "4   NaN       IR1          Bnk  ...         0     NaN  MnPrv          NaN   \n",
       "\n",
       "  Misc Val Mo Sold Yr Sold Sale Type  Sale Condition  SalePrice  \n",
       "0        0       4    2009       WD           Normal     236000  \n",
       "1        0       6    2006       WD           Normal     155000  \n",
       "2        0       1    2007       WD           Normal      75000  \n",
       "3        0       4    2010       WD           Normal     165500  \n",
       "4        0       1    2007       WD           Normal     122000  \n",
       "\n",
       "[5 rows x 82 columns]"
      ]
     },
     "execution_count": 52,
     "metadata": {},
     "output_type": "execute_result"
    }
   ],
   "source": [
    "import pandas as pd\n",
    "\n",
    "# Load the data\n",
    "data_df = pd.read_csv('house-prices.csv')\n",
    "data_df.head()"
   ]
  },
  {
   "cell_type": "markdown",
   "id": "b267dc17",
   "metadata": {},
   "source": [
    "The data contains information about different house sales including the size of the house (number of rooms, lot size), the sale type/condition and the price."
   ]
  },
  {
   "cell_type": "code",
   "execution_count": 55,
   "id": "f0d0d18d",
   "metadata": {},
   "outputs": [
    {
     "data": {
      "image/png": "[encoded data removed]",
      "text/plain": [
       "<Figure size 432x288 with 1 Axes>"
      ]
     },
     "metadata": {
      "needs_background": "light"
     },
     "output_type": "display_data"
    }
   ],
   "source": [
    "%matplotlib inline\n",
    "import matplotlib.pyplot as plt\n",
    "\n",
    "data_df.hist(column='SalePrice', bins=20, grid=False, xrot=45)\n",
    "plt.show()"
   ]
  },
  {
   "cell_type": "markdown",
   "id": "da5a3206",
   "metadata": {},
   "source": [
    "Most of the houses in the data set have a price between 100 and 300 thousand dollars. However, there are a few expensive houses with prices well above that. In practice, this can lead to biased models that favor accurate predictions of expensive houses, i.e., a 10% error on a 500 thousand dollars house is equivalent to a 20% error on a 250 thousand dollars one.\n",
    "\n",
    "To avoid building a model that is biased toward more expensive houses, we will apply the **logarithm transformation** and build a model that predicts the log of the sale price."
   ]
  },
  {
   "cell_type": "code",
   "execution_count": 56,
   "id": "29bf6f38",
   "metadata": {},
   "outputs": [
    {
     "data": {
      "image/png": "[encoded data removed]",
      "text/plain": [
       "<Figure size 432x288 with 1 Axes>"
      ]
     },
     "metadata": {
      "needs_background": "light"
     },
     "output_type": "display_data"
    }
   ],
   "source": [
    "import numpy as np\n",
    "\n",
    "plt.hist(np.log10(data_df.SalePrice), bins=20)\n",
    "plt.xlabel('log10(SalePrice)')\n",
    "plt.show()"
   ]
  },
  {
   "cell_type": "markdown",
   "id": "c7f1c1b2",
   "metadata": {},
   "source": [
    "### Preprocessing the data\n",
    "\n",
    "As often, the raw data isn't ready for our machine learning algorithms. **In the final project, you will work on this house prices data set and apply all the necessary data cleaning.** \n",
    "\n",
    "However, for this unit, we will apply the **minimal steps**: \n",
    "- encoding non-numerical entries with one-hot encoding\n",
    "- replacing missing entries with the median value.\n",
    "\n",
    "Let's create a preprocess(df) function to perform those steps."
   ]
  },
  {
   "cell_type": "code",
   "execution_count": 57,
   "id": "f591191e",
   "metadata": {},
   "outputs": [
    {
     "data": {
      "text/html": [
       "<div>\n",
       "<style scoped>\n",
       "    .dataframe tbody tr th:only-of-type {\n",
       "        vertical-align: middle;\n",
       "    }\n",
       "\n",
       "    .dataframe tbody tr th {\n",
       "        vertical-align: top;\n",
       "    }\n",
       "\n",
       "    .dataframe thead th {\n",
       "        text-align: right;\n",
       "    }\n",
       "</style>\n",
       "<table border=\"1\" class=\"dataframe\">\n",
       "  <thead>\n",
       "    <tr style=\"text-align: right;\">\n",
       "      <th></th>\n",
       "      <th>Order</th>\n",
       "      <th>PID</th>\n",
       "      <th>MS SubClass</th>\n",
       "      <th>Lot Frontage</th>\n",
       "      <th>Lot Area</th>\n",
       "      <th>Overall Qual</th>\n",
       "      <th>Overall Cond</th>\n",
       "      <th>Year Built</th>\n",
       "      <th>Year Remod/Add</th>\n",
       "      <th>Mas Vnr Area</th>\n",
       "      <th>...</th>\n",
       "      <th>Sale Type_VWD</th>\n",
       "      <th>Sale Type_WD</th>\n",
       "      <th>Sale Type_nan</th>\n",
       "      <th>Sale Condition_Abnorml</th>\n",
       "      <th>Sale Condition_AdjLand</th>\n",
       "      <th>Sale Condition_Alloca</th>\n",
       "      <th>Sale Condition_Family</th>\n",
       "      <th>Sale Condition_Normal</th>\n",
       "      <th>Sale Condition_Partial</th>\n",
       "      <th>Sale Condition_nan</th>\n",
       "    </tr>\n",
       "  </thead>\n",
       "  <tbody>\n",
       "    <tr>\n",
       "      <th>0</th>\n",
       "      <td>484</td>\n",
       "      <td>528275070</td>\n",
       "      <td>60</td>\n",
       "      <td>68.0</td>\n",
       "      <td>8795</td>\n",
       "      <td>7</td>\n",
       "      <td>5</td>\n",
       "      <td>2000</td>\n",
       "      <td>2000</td>\n",
       "      <td>0.0</td>\n",
       "      <td>...</td>\n",
       "      <td>0</td>\n",
       "      <td>1</td>\n",
       "      <td>0</td>\n",
       "      <td>0</td>\n",
       "      <td>0</td>\n",
       "      <td>0</td>\n",
       "      <td>0</td>\n",
       "      <td>1</td>\n",
       "      <td>0</td>\n",
       "      <td>0</td>\n",
       "    </tr>\n",
       "    <tr>\n",
       "      <th>1</th>\n",
       "      <td>2586</td>\n",
       "      <td>535305120</td>\n",
       "      <td>20</td>\n",
       "      <td>75.0</td>\n",
       "      <td>10170</td>\n",
       "      <td>6</td>\n",
       "      <td>6</td>\n",
       "      <td>1951</td>\n",
       "      <td>1951</td>\n",
       "      <td>522.0</td>\n",
       "      <td>...</td>\n",
       "      <td>0</td>\n",
       "      <td>1</td>\n",
       "      <td>0</td>\n",
       "      <td>0</td>\n",
       "      <td>0</td>\n",
       "      <td>0</td>\n",
       "      <td>0</td>\n",
       "      <td>1</td>\n",
       "      <td>0</td>\n",
       "      <td>0</td>\n",
       "    </tr>\n",
       "    <tr>\n",
       "      <th>2</th>\n",
       "      <td>2289</td>\n",
       "      <td>923228250</td>\n",
       "      <td>160</td>\n",
       "      <td>21.0</td>\n",
       "      <td>2001</td>\n",
       "      <td>4</td>\n",
       "      <td>5</td>\n",
       "      <td>1970</td>\n",
       "      <td>1970</td>\n",
       "      <td>80.0</td>\n",
       "      <td>...</td>\n",
       "      <td>0</td>\n",
       "      <td>1</td>\n",
       "      <td>0</td>\n",
       "      <td>0</td>\n",
       "      <td>0</td>\n",
       "      <td>0</td>\n",
       "      <td>0</td>\n",
       "      <td>1</td>\n",
       "      <td>0</td>\n",
       "      <td>0</td>\n",
       "    </tr>\n",
       "    <tr>\n",
       "      <th>3</th>\n",
       "      <td>142</td>\n",
       "      <td>535152150</td>\n",
       "      <td>20</td>\n",
       "      <td>70.0</td>\n",
       "      <td>10552</td>\n",
       "      <td>5</td>\n",
       "      <td>5</td>\n",
       "      <td>1959</td>\n",
       "      <td>1959</td>\n",
       "      <td>0.0</td>\n",
       "      <td>...</td>\n",
       "      <td>0</td>\n",
       "      <td>1</td>\n",
       "      <td>0</td>\n",
       "      <td>0</td>\n",
       "      <td>0</td>\n",
       "      <td>0</td>\n",
       "      <td>0</td>\n",
       "      <td>1</td>\n",
       "      <td>0</td>\n",
       "      <td>0</td>\n",
       "    </tr>\n",
       "    <tr>\n",
       "      <th>4</th>\n",
       "      <td>2042</td>\n",
       "      <td>903475060</td>\n",
       "      <td>190</td>\n",
       "      <td>60.0</td>\n",
       "      <td>10120</td>\n",
       "      <td>7</td>\n",
       "      <td>4</td>\n",
       "      <td>1910</td>\n",
       "      <td>1950</td>\n",
       "      <td>0.0</td>\n",
       "      <td>...</td>\n",
       "      <td>0</td>\n",
       "      <td>1</td>\n",
       "      <td>0</td>\n",
       "      <td>0</td>\n",
       "      <td>0</td>\n",
       "      <td>0</td>\n",
       "      <td>0</td>\n",
       "      <td>1</td>\n",
       "      <td>0</td>\n",
       "      <td>0</td>\n",
       "    </tr>\n",
       "  </tbody>\n",
       "</table>\n",
       "<p>5 rows × 348 columns</p>\n",
       "</div>"
      ],
      "text/plain": [
       "   Order        PID  MS SubClass  Lot Frontage  Lot Area  Overall Qual  \\\n",
       "0    484  528275070           60          68.0      8795             7   \n",
       "1   2586  535305120           20          75.0     10170             6   \n",
       "2   2289  923228250          160          21.0      2001             4   \n",
       "3    142  535152150           20          70.0     10552             5   \n",
       "4   2042  903475060          190          60.0     10120             7   \n",
       "\n",
       "   Overall Cond  Year Built  Year Remod/Add  Mas Vnr Area  ...  Sale Type_VWD  \\\n",
       "0             5        2000            2000           0.0  ...              0   \n",
       "1             6        1951            1951         522.0  ...              0   \n",
       "2             5        1970            1970          80.0  ...              0   \n",
       "3             5        1959            1959           0.0  ...              0   \n",
       "4             4        1910            1950           0.0  ...              0   \n",
       "\n",
       "   Sale Type_WD   Sale Type_nan  Sale Condition_Abnorml  \\\n",
       "0              1              0                       0   \n",
       "1              1              0                       0   \n",
       "2              1              0                       0   \n",
       "3              1              0                       0   \n",
       "4              1              0                       0   \n",
       "\n",
       "   Sale Condition_AdjLand  Sale Condition_Alloca  Sale Condition_Family  \\\n",
       "0                       0                      0                      0   \n",
       "1                       0                      0                      0   \n",
       "2                       0                      0                      0   \n",
       "3                       0                      0                      0   \n",
       "4                       0                      0                      0   \n",
       "\n",
       "   Sale Condition_Normal  Sale Condition_Partial  Sale Condition_nan  \n",
       "0                      1                       0                   0  \n",
       "1                      1                       0                   0  \n",
       "2                      1                       0                   0  \n",
       "3                      1                       0                   0  \n",
       "4                      1                       0                   0  \n",
       "\n",
       "[5 rows x 348 columns]"
      ]
     },
     "execution_count": 57,
     "metadata": {},
     "output_type": "execute_result"
    }
   ],
   "source": [
    "def preprocess(df):\n",
    "    # Work on a copy\n",
    "    df = df.copy()\n",
    "\n",
    "    # One-hot encoding\n",
    "    df = pd.get_dummies(df, dummy_na=True)\n",
    "\n",
    "    # Fill missing values\n",
    "    for c in df.columns:\n",
    "        df[c] = df[c].fillna(df[c].median())\n",
    "\n",
    "    return df\n",
    "\n",
    "preprocessed_df = preprocess(data_df)\n",
    "preprocessed_df.head()"
   ]
  },
  {
   "cell_type": "markdown",
   "id": "03b8ea37",
   "metadata": {},
   "source": [
    "As we can see, our preprocessed_df DataFrame contains all the numerical columns on the left and **created the necessary one-hot encoded columns for non-numerical variables.** The total number of feature is now 347.\n",
    "\n",
    "Before applying the model, we still need to create the X/y variables and split the data into training/testing sets."
   ]
  },
  {
   "cell_type": "code",
   "execution_count": 58,
   "id": "b46f97f9",
   "metadata": {},
   "outputs": [
    {
     "name": "stdout",
     "output_type": "stream",
     "text": [
      "Train: (1215, 347) (1215,)\n",
      "Test: (1215, 347) (1215,)\n"
     ]
    }
   ],
   "source": [
    "from sklearn.model_selection import train_test_split\n",
    "\n",
    "# Create X, y\n",
    "X = preprocessed_df.drop('SalePrice', axis=1).values\n",
    "y = np.log10(preprocessed_df.SalePrice).values\n",
    "\n",
    "# Split into train/test sets\n",
    "X_tr, X_te, y_tr, y_te = train_test_split(X, y, test_size=0.5, random_state=0)\n",
    "\n",
    "print('Train:', X_tr.shape, y_tr.shape)\n",
    "print('Test:', X_te.shape, y_te.shape) "
   ]
  },
  {
   "cell_type": "markdown",
   "id": "80a7ebf2",
   "metadata": {},
   "source": [
    "**The features have a different scale, so we also need to standardize them** before applying ridge regression in the next part."
   ]
  },
  {
   "cell_type": "code",
   "execution_count": 59,
   "id": "4acb576b",
   "metadata": {},
   "outputs": [],
   "source": [
    "from sklearn.preprocessing import StandardScaler\n",
    "\n",
    "# Standardize features\n",
    "scaler = StandardScaler()\n",
    "X_tr_rescaled = scaler.fit_transform(X_tr)\n",
    "X_te_rescaled = scaler.transform(X_te)"
   ]
  },
  {
   "cell_type": "markdown",
   "id": "17736f12",
   "metadata": {},
   "source": [
    "### Linear regression\n",
    "Before using ridge regression, let's do a quick test and fit a linear regression model."
   ]
  },
  {
   "cell_type": "code",
   "execution_count": 60,
   "id": "7487c8eb",
   "metadata": {},
   "outputs": [
    {
     "name": "stdout",
     "output_type": "stream",
     "text": [
      "Train MSE: 0.0014\n",
      "Test MSE: 110848665079306409476096.0000\n"
     ]
    }
   ],
   "source": [
    "from sklearn.linear_model import LinearRegression\n",
    "from sklearn.metrics import mean_squared_error as MSE\n",
    "\n",
    "# Try with a linear regression\n",
    "lr = LinearRegression()\n",
    "lr.fit(X_tr_rescaled, y_tr)\n",
    "\n",
    "print('Train MSE: {:.4f}'.format(MSE(y_tr, lr.predict(X_tr_rescaled))))\n",
    "print('Test MSE: {:.4f}'.format(MSE(y_te, lr.predict(X_te_rescaled))))\n"
   ]
  },
  {
   "cell_type": "code",
   "execution_count": 61,
   "id": "73d517d1",
   "metadata": {},
   "outputs": [
    {
     "data": {
      "image/png": "[encoded data removed]",
      "text/plain": [
       "<Figure size 432x288 with 1 Axes>"
      ]
     },
     "metadata": {
      "needs_background": "light"
     },
     "output_type": "display_data"
    }
   ],
   "source": [
    "plt.hist(lr.coef_, bins=30)\n",
    "plt.xlabel('coefficients')\n",
    "plt.show()"
   ]
  },
  {
   "cell_type": "markdown",
   "id": "8f17e10f",
   "metadata": {},
   "source": [
    "Note the 1e10 factor on the x-axis (!) The high test score probably comes from numerical issues due to those large coefficients. **Let's try to fix the issue with regularization!**\n",
    "\n",
    "\n",
    "### Grid search\n",
    "\n",
    "This time, we will search for the best regularization strength using a technique called **grid search**. You can think of this technique as a simple exhaustive searching over a set of hyperparameters.\n",
    "\n",
    "In our case, we only have one hyperparameter: the regularization strength. So we will simply iterate over a list of alpha values and pick the one with the best test score. However, in the next course, we will see cases where we need to **tune several hyperparameters**. In this case, we will generate a list of values for each one and test the different combinations i.e. searching over a grid of hyperparams. As you can guess, the number of combinations to test can quickly get very large. You will experiment with this issue in the next course, but you can already read about it in the Appendix at the end of this unit.\n",
    "\n",
    "### Ridge Regression\n",
    "Let's first create the list of alpha values and evaluate a ridge regression model for each one. Regularization strength affects the generization error on a **log-scale**. So we will use **np.logspace(a, b)** to generate sample alpha values i.e. instead of **np.linspace(a, b)**.\n",
    "\n",
    "It's frequent to start with a range between a=1e-4 and b=1e4 for this hyperparameter, but we will use a larger range this time to see the effect of regularization with very large/small values."
   ]
  },
  {
   "cell_type": "code",
   "execution_count": 62,
   "id": "162d23e3",
   "metadata": {},
   "outputs": [
    {
     "data": {
      "text/html": [
       "<div>\n",
       "<style scoped>\n",
       "    .dataframe tbody tr th:only-of-type {\n",
       "        vertical-align: middle;\n",
       "    }\n",
       "\n",
       "    .dataframe tbody tr th {\n",
       "        vertical-align: top;\n",
       "    }\n",
       "\n",
       "    .dataframe thead th {\n",
       "        text-align: right;\n",
       "    }\n",
       "</style>\n",
       "<table border=\"1\" class=\"dataframe\">\n",
       "  <thead>\n",
       "    <tr style=\"text-align: right;\">\n",
       "      <th></th>\n",
       "      <th>alpha</th>\n",
       "      <th>test_mae</th>\n",
       "      <th>test_mse</th>\n",
       "      <th>train_mae</th>\n",
       "      <th>train_mse</th>\n",
       "    </tr>\n",
       "  </thead>\n",
       "  <tbody>\n",
       "    <tr>\n",
       "      <th>0</th>\n",
       "      <td>1.000000e-10</td>\n",
       "      <td>17808.357167</td>\n",
       "      <td>0.006002</td>\n",
       "      <td>11145.427596</td>\n",
       "      <td>0.001412</td>\n",
       "    </tr>\n",
       "    <tr>\n",
       "      <th>1</th>\n",
       "      <td>1.592283e-10</td>\n",
       "      <td>17810.996332</td>\n",
       "      <td>0.006004</td>\n",
       "      <td>11145.427596</td>\n",
       "      <td>0.001412</td>\n",
       "    </tr>\n",
       "    <tr>\n",
       "      <th>2</th>\n",
       "      <td>2.535364e-10</td>\n",
       "      <td>17812.352557</td>\n",
       "      <td>0.006005</td>\n",
       "      <td>11145.427596</td>\n",
       "      <td>0.001412</td>\n",
       "    </tr>\n",
       "    <tr>\n",
       "      <th>3</th>\n",
       "      <td>4.037017e-10</td>\n",
       "      <td>17813.634385</td>\n",
       "      <td>0.006006</td>\n",
       "      <td>11145.427596</td>\n",
       "      <td>0.001412</td>\n",
       "    </tr>\n",
       "    <tr>\n",
       "      <th>4</th>\n",
       "      <td>6.428073e-10</td>\n",
       "      <td>17814.923214</td>\n",
       "      <td>0.006006</td>\n",
       "      <td>11145.427596</td>\n",
       "      <td>0.001412</td>\n",
       "    </tr>\n",
       "  </tbody>\n",
       "</table>\n",
       "</div>"
      ],
      "text/plain": [
       "          alpha      test_mae  test_mse     train_mae  train_mse\n",
       "0  1.000000e-10  17808.357167  0.006002  11145.427596   0.001412\n",
       "1  1.592283e-10  17810.996332  0.006004  11145.427596   0.001412\n",
       "2  2.535364e-10  17812.352557  0.006005  11145.427596   0.001412\n",
       "3  4.037017e-10  17813.634385  0.006006  11145.427596   0.001412\n",
       "4  6.428073e-10  17814.923214  0.006006  11145.427596   0.001412"
      ]
     },
     "execution_count": 62,
     "metadata": {},
     "output_type": "execute_result"
    }
   ],
   "source": [
    "from sklearn.linear_model import Ridge\n",
    "from sklearn.metrics import mean_absolute_error as MAE\n",
    "\n",
    "# Variable to store the results\n",
    "gs_results = []\n",
    "\n",
    "# Grid search\n",
    "for alpha in np.logspace(-10, 10, num=100):\n",
    "    # Create and fit ridge regression\n",
    "    ridge = Ridge(alpha=alpha)\n",
    "    ridge.fit(X_tr_rescaled, y_tr)\n",
    "\n",
    "    # Save model and its performance on train/test sets\n",
    "    gs_results.append({\n",
    "        'alpha': alpha,\n",
    "        'train_mse': MSE(y_tr, ridge.predict(X_tr_rescaled)),\n",
    "        'train_mae': MAE(10**y_tr, 10**ridge.predict(X_tr_rescaled)),\n",
    "        'test_mse': MSE(y_te, ridge.predict(X_te_rescaled)),\n",
    "        'test_mae': MAE(10**y_te, 10**ridge.predict(X_te_rescaled)),\n",
    "    })\n",
    "\n",
    "# Convert results to DataFrame\n",
    "gs_results = pd.DataFrame(gs_results)\n",
    "gs_results.head()"
   ]
  },
  {
   "cell_type": "markdown",
   "id": "2b31ee5b",
   "metadata": {},
   "source": [
    "*Note that we raise the predictions to power 10 for the MAE metric since we want to get a **score in dollars and not log-dollars** - remember that our model predicts the logarithm of the sale prices base 10.*\n",
    "\n",
    "### Validation curves\n",
    "A good way to visualize the results it by plotting the **validation curves** For each alpha, we plot the train and test scores to see which value minimizes the error."
   ]
  },
  {
   "cell_type": "code",
   "execution_count": 63,
   "id": "2548f130",
   "metadata": {},
   "outputs": [
    {
     "data": {
      "image/png": "[encoded data removed]",
      "text/plain": [
       "<Figure size 432x288 with 1 Axes>"
      ]
     },
     "metadata": {
      "needs_background": "light"
     },
     "output_type": "display_data"
    }
   ],
   "source": [
    "# Plot the validation curves\n",
    "plt.semilogx(gs_results['alpha'], gs_results['train_mse'], label='train curve')\n",
    "plt.semilogx(gs_results['alpha'], gs_results['test_mse'], label='test curve')\n",
    "plt.xlabel('$log_{10}(alpha)$')\n",
    "plt.ylabel('MSE')\n",
    "plt.legend()\n",
    "plt.show()"
   ]
  },
  {
   "cell_type": "markdown",
   "id": "71abb65f",
   "metadata": {},
   "source": [
    "There are a few things to observe about this result.\n",
    "\n",
    "- The optimal range of alpha values seems to be around 10e3\n",
    "- The model starts overfitting when alpha is smaller than 10e2\n",
    "- The models starts underfitting when alpha is larger than 10e4\n",
    "\n",
    "It's also interesting to see that the test score reaches a plateau with alpha values above 10e6. This is the effect of regularization: when the regularization strength is too large, the model coefficient go to zero and the model always predicts the intercept term."
   ]
  },
  {
   "cell_type": "code",
   "execution_count": 64,
   "id": "14d4bcef",
   "metadata": {},
   "outputs": [
    {
     "name": "stdout",
     "output_type": "stream",
     "text": [
      "Largest coefficient: 1.8e-08\n",
      "Intercept: 5.23\n"
     ]
    }
   ],
   "source": [
    "# Fit a model with a very strong regularization\n",
    "strong_ridge = Ridge(alpha=10**10)\n",
    "strong_ridge.fit(X_tr_rescaled, y_tr)\n",
    "\n",
    "print('Largest coefficient: {:.1e}'.format(\n",
    "    np.max(np.abs(strong_ridge.coef_))))\n",
    "print('Intercept: {:.2f}'.format(\n",
    "    strong_ridge.intercept_)) "
   ]
  },
  {
   "cell_type": "markdown",
   "id": "410da731",
   "metadata": {},
   "source": [
    "Since all coefficients are close to zero, the model always predicts the intercept term - 5.23 in this case. It's interesting to observe that this is equal to the mean - which is, as we saw in a previous unit, the constant prediction that minimizes the MSE score i.e. the mean baseline."
   ]
  },
  {
   "cell_type": "code",
   "execution_count": 65,
   "id": "d84bb93b",
   "metadata": {},
   "outputs": [
    {
     "name": "stdout",
     "output_type": "stream",
     "text": [
      "Mean target value: 5.23\n"
     ]
    }
   ],
   "source": [
    "print('Mean target value: {:.2f}'.format(np.mean(y_tr)))"
   ]
  },
  {
   "cell_type": "markdown",
   "id": "2c1359d3",
   "metadata": {},
   "source": [
    "On the left part of the plot, the model also reaches a plateau which corresponds to the performance of a non-regularized model without the numerical issues that we encountered above. It's interesting to note that a very small regularization factor can already solve those numerical issues in this case.\n",
    "\n",
    "Let's retrieve the alpha with the best generalization i.e. the one that minimizes the test score."
   ]
  },
  {
   "cell_type": "code",
   "execution_count": 66,
   "id": "9d5af54b",
   "metadata": {},
   "outputs": [
    {
     "name": "stdout",
     "output_type": "stream",
     "text": [
      "Best alpha: 8.5e+02\n",
      "Test MSE: 0.0048\n",
      "Test MAE: 15,671$\n"
     ]
    }
   ],
   "source": [
    "# Get entry with the best test MSE\n",
    "best_result = gs_results.loc[gs_results.test_mse.idxmin()]\n",
    "\n",
    "# Print the details\n",
    "print('Best alpha: {:.1e}'.format(best_result.alpha)) \n",
    "print('Test MSE: {:.4f}'.format(best_result.test_mse)) \n",
    "print('Test MAE: {:,.0f}$'.format(best_result.test_mae))"
   ]
  },
  {
   "cell_type": "markdown",
   "id": "3308c4ad",
   "metadata": {},
   "source": [
    "As we can see, the best alpha is 8.5e+2 with an test MSE score of 0.005. We cannot really interpret this result, so we also retrieve the corresponding MAE score - as we can see, the predictions from this model are, on average, 15,671 dollars away from the true price!\n",
    "\n",
    "### Introduction to cross-validation\n",
    "\n",
    "In the code from above, we found the best alpha value for a single train/test set split. This result shouldn't be too far from the true optimal alpha value since the train/test scores are evaluated on a large set of data points. **However, it's often a good idea to average the scores on different train/test splits to get more stable results. This is called cross-validation.**\n",
    "\n",
    "We will learn more about the different cross-validation variants in the next course, but let's implement our own cross-validation strategy with a simple for loop"
   ]
  },
  {
   "cell_type": "code",
   "execution_count": 68,
   "id": "c7cc83c4",
   "metadata": {},
   "outputs": [
    {
     "data": {
      "text/html": [
       "<div>\n",
       "<style scoped>\n",
       "    .dataframe tbody tr th:only-of-type {\n",
       "        vertical-align: middle;\n",
       "    }\n",
       "\n",
       "    .dataframe tbody tr th {\n",
       "        vertical-align: top;\n",
       "    }\n",
       "\n",
       "    .dataframe thead th {\n",
       "        text-align: right;\n",
       "    }\n",
       "</style>\n",
       "<table border=\"1\" class=\"dataframe\">\n",
       "  <thead>\n",
       "    <tr style=\"text-align: right;\">\n",
       "      <th></th>\n",
       "      <th>alpha</th>\n",
       "      <th>model</th>\n",
       "      <th>run_idx</th>\n",
       "      <th>test_mae</th>\n",
       "      <th>test_mse</th>\n",
       "      <th>train_mae</th>\n",
       "      <th>train_mse</th>\n",
       "    </tr>\n",
       "  </thead>\n",
       "  <tbody>\n",
       "    <tr>\n",
       "      <th>0</th>\n",
       "      <td>10.000000</td>\n",
       "      <td>Ridge(alpha=10.0, copy_X=True, fit_intercept=T...</td>\n",
       "      <td>0</td>\n",
       "      <td>17485.758076</td>\n",
       "      <td>0.005898</td>\n",
       "      <td>11151.125598</td>\n",
       "      <td>0.001416</td>\n",
       "    </tr>\n",
       "    <tr>\n",
       "      <th>1</th>\n",
       "      <td>14.384499</td>\n",
       "      <td>Ridge(alpha=14.38449888287663, copy_X=True, fi...</td>\n",
       "      <td>0</td>\n",
       "      <td>17372.165040</td>\n",
       "      <td>0.005857</td>\n",
       "      <td>11161.657456</td>\n",
       "      <td>0.001419</td>\n",
       "    </tr>\n",
       "    <tr>\n",
       "      <th>2</th>\n",
       "      <td>20.691381</td>\n",
       "      <td>Ridge(alpha=20.6913808111479, copy_X=True, fit...</td>\n",
       "      <td>0</td>\n",
       "      <td>17233.571836</td>\n",
       "      <td>0.005802</td>\n",
       "      <td>11176.962177</td>\n",
       "      <td>0.001424</td>\n",
       "    </tr>\n",
       "    <tr>\n",
       "      <th>3</th>\n",
       "      <td>29.763514</td>\n",
       "      <td>Ridge(alpha=29.76351441631318, copy_X=True, fi...</td>\n",
       "      <td>0</td>\n",
       "      <td>17067.620448</td>\n",
       "      <td>0.005733</td>\n",
       "      <td>11198.863815</td>\n",
       "      <td>0.001431</td>\n",
       "    </tr>\n",
       "    <tr>\n",
       "      <th>4</th>\n",
       "      <td>42.813324</td>\n",
       "      <td>Ridge(alpha=42.81332398719393, copy_X=True, fi...</td>\n",
       "      <td>0</td>\n",
       "      <td>16871.527796</td>\n",
       "      <td>0.005647</td>\n",
       "      <td>11233.772529</td>\n",
       "      <td>0.001442</td>\n",
       "    </tr>\n",
       "  </tbody>\n",
       "</table>\n",
       "</div>"
      ],
      "text/plain": [
       "       alpha                                              model  run_idx  \\\n",
       "0  10.000000  Ridge(alpha=10.0, copy_X=True, fit_intercept=T...        0   \n",
       "1  14.384499  Ridge(alpha=14.38449888287663, copy_X=True, fi...        0   \n",
       "2  20.691381  Ridge(alpha=20.6913808111479, copy_X=True, fit...        0   \n",
       "3  29.763514  Ridge(alpha=29.76351441631318, copy_X=True, fi...        0   \n",
       "4  42.813324  Ridge(alpha=42.81332398719393, copy_X=True, fi...        0   \n",
       "\n",
       "       test_mae  test_mse     train_mae  train_mse  \n",
       "0  17485.758076  0.005898  11151.125598   0.001416  \n",
       "1  17372.165040  0.005857  11161.657456   0.001419  \n",
       "2  17233.571836  0.005802  11176.962177   0.001424  \n",
       "3  17067.620448  0.005733  11198.863815   0.001431  \n",
       "4  16871.527796  0.005647  11233.772529   0.001442  "
      ]
     },
     "execution_count": 68,
     "metadata": {},
     "output_type": "execute_result"
    }
   ],
   "source": [
    "# Fit/test N models\n",
    "gs_results = []\n",
    "for run_idx in range(10):\n",
    "    # Split into train/test sets\n",
    "    X_tr, X_te, y_tr, y_te = train_test_split(\n",
    "        X, y, test_size=0.5, random_state=run_idx)\n",
    "\n",
    "    # Standardize features\n",
    "    X_tr_rescaled = scaler.fit_transform(X_tr)\n",
    "    X_te_rescaled = scaler.transform(X_te)\n",
    "\n",
    "    # Grid search\n",
    "    for alpha in np.logspace(1, 4, num=20):\n",
    "        # Create and fit ridge regression\n",
    "        ridge = Ridge(alpha=alpha)\n",
    "        ridge.fit(X_tr_rescaled, y_tr)\n",
    "\n",
    "        # Save model and its performance on train/test sets\n",
    "        gs_results.append({\n",
    "            'model': ridge,\n",
    "            'alpha': alpha,\n",
    "            'run_idx': run_idx,\n",
    "            'train_mse': MSE(y_tr, ridge.predict(X_tr_rescaled)),\n",
    "            'train_mae': MAE(10**y_tr, 10**ridge.predict(X_tr_rescaled)),\n",
    "            'test_mse': MSE(y_te, ridge.predict(X_te_rescaled)),\n",
    "            'test_mae': MAE(10**y_te, 10**ridge.predict(X_te_rescaled)),\n",
    "        })\n",
    "\n",
    "# Convert results to DataFrame\n",
    "gs_results = pd.DataFrame(gs_results)\n",
    "gs_results.head()"
   ]
  },
  {
   "cell_type": "markdown",
   "id": "450a6471",
   "metadata": {},
   "source": [
    "In this code, we perform grid search on 10 different train/test splits by changing the random_state attribute. For each different split, we standardize the data using the train mean and standard deviations.\n",
    "\n",
    "The gs_results now contains 10 times more entries than if we had used a single train/test set split.\n",
    "\n",
    "Let's group the results by alpha value and compute the average scores."
   ]
  },
  {
   "cell_type": "code",
   "execution_count": 69,
   "id": "e95a5e24",
   "metadata": {},
   "outputs": [
    {
     "name": "stdout",
     "output_type": "stream",
     "text": [
      "Best alpha: 5.5e+02\n",
      "Test MSE: 0.0038\n",
      "Test MAE: 15,700$\n"
     ]
    }
   ],
   "source": [
    "gb_alpha = gs_results.groupby('alpha')\n",
    "\n",
    "# Compute train/test mean scores with std\n",
    "mean_tr = gb_alpha.train_mse.mean()\n",
    "mean_te = gb_alpha.test_mse.mean()\n",
    "std_tr = gb_alpha.train_mse.std()\n",
    "std_te = gb_alpha.test_mse.std()\n",
    "alphas = mean_tr.index.values\n",
    "\n",
    "# Get entry with the best mean test MSE\n",
    "best_alpha = mean_te.idxmin()\n",
    "best_result = gb_alpha.get_group(best_alpha)\n",
    "\n",
    "# Print the details\n",
    "print('Best alpha: {:.1e}'.format(best_alpha)) # 5.5e+02\n",
    "print('Test MSE: {:.4f}'.format(best_result.test_mse.mean())) # 0.0038\n",
    "print('Test MAE: {:,.0f}$'.format(best_result.test_mae.mean())) "
   ]
  },
  {
   "cell_type": "markdown",
   "id": "6bf8b705",
   "metadata": {},
   "source": [
    "This time, the best alpha value is 5.5e+02 with a mean test MSE of 0.0038 and a mean test MAE of 15,700 dollars which is not far from the values computed above.\n",
    "\n",
    "Note that we also computed the standard deviation for the different alpha values to measure how much the scores vary around the mean. We can now include this information in the plot with the validation curves."
   ]
  },
  {
   "cell_type": "code",
   "execution_count": 70,
   "id": "280de755",
   "metadata": {},
   "outputs": [
    {
     "data": {
      "image/png": "[encoded data removed]",
      "text/plain": [
       "<Figure size 432x288 with 1 Axes>"
      ]
     },
     "metadata": {
      "needs_background": "light"
     },
     "output_type": "display_data"
    }
   ],
   "source": [
    "# Plot mean scores\n",
    "plt.plot(np.log10(alphas), mean_tr, label='train')\n",
    "plt.plot(np.log10(alphas), mean_te, label='test')\n",
    "\n",
    "# Quantify variance with ±std curves\n",
    "plt.fill_between(np.log10(alphas), mean_tr-std_tr, mean_tr+std_tr, alpha=0.2)\n",
    "plt.fill_between(np.log10(alphas), mean_te-std_te, mean_te+std_te, alpha=0.2)\n",
    "\n",
    "# Add marker for best score\n",
    "plt.scatter(np.log10(best_alpha), mean_te.min(), marker='x', c='red', zorder=10)\n",
    "\n",
    "plt.title('Validation curves with {} runs'.format(len(gs_results.groupby('run_idx'))))\n",
    "plt.xlabel('$log_{10}(alpha)$')\n",
    "plt.ylabel('MSE')\n",
    "plt.legend()\n",
    "plt.show()"
   ]
  },
  {
   "cell_type": "markdown",
   "id": "a2304c25",
   "metadata": {},
   "source": [
    "### Summary\n",
    "In this unit, we saw the basic idea behind hyperparameters and grid search. Here are a few takeaways.\n",
    "\n",
    "- We want to find hyperparameters that minimize the **generalization error.**\n",
    "- **Grid search** is an exhaustive search over the set of all possible combinations of hyperparameters.\n",
    "- Plotting the **train/test curves** is a way to analyze and validate our models.\n",
    "\n",
    "The goal of the next exercise is to improve the house prices from above by doing some basic feature engineering."
   ]
  },
  {
   "cell_type": "markdown",
   "id": "feb82cb6",
   "metadata": {},
   "source": [
    "### Appendix - Note about complexity\n",
    "\n",
    "The main issue with grid search is that it doesn't scale well to many hyperparameters. In fact, each time we add a parameter with \n",
    "$n$\n",
    " values, we need to test \n",
    "$n$\n",
    " times more models than before.\n",
    " \n",
    " general, we need to test \n",
    "$n^{p}$\n",
    " combinations when there are \n",
    "$p$\n",
    " parameters with \n",
    "$n$\n",
    " values each. Hence, it's better to have many values but few parameters than the opposite. For instance, it's better to have two hyperparameters with \n",
    "$n$\n",
    " values each than \n",
    "$n$\n",
    " hyperparameters with two values each\n",
    " \n",
    " There are several more advanced strategies such as **randomized search** that try to solve this issue and reduce the time needed to find the optimal combination of hyperparameters"
   ]
  },
  {
   "cell_type": "markdown",
   "id": "2ad259d1",
   "metadata": {},
   "source": [
    "### Appendix - Note about grid search range and border effects"
   ]
  },
  {
   "cell_type": "markdown",
   "id": "c94b4bc6",
   "metadata": {},
   "source": [
    "The goal of a grid search is to find the optimal hyperparameter. But because of the complexity issue mentioned above, the grid search space needs to be restricted to a certain number of grid points, between a particular grid search range. For example, in the Ridge Regression example above, we specified the grid search range of the alpha value to be between 1 and 10'000 (e.g. np.logspace(1, 4, num=20).\n",
    "\n",
    "In the example above this approach works well. The optimal alpha seems to lay somewhere around 5.5e+02. We either can now be happy with this result, or we could restrict the grid search further and fine tune the hyperparameters even more. In the Ridge Regression example this does not seem to be necessary.\n",
    "\n",
    "But let's imagine the optimal alpha would have been found at 1, i.e. **at the border of our grid search range**. In this case it is not clear if 1 is the best alpha value or if we could minimize the error even more, if we would move the grid search range further to the left, i.e. below 1.\n",
    "\n",
    "Example : \n",
    "https://d7whxh71cqykp.cloudfront.net/uploads/image/data/4287/grid_search_narrow.svg\n",
    "https://d7whxh71cqykp.cloudfront.net/uploads/image/data/4288/grid_search_wide.png"
   ]
  },
  {
   "cell_type": "markdown",
   "id": "a1ee5a9d",
   "metadata": {},
   "source": [
    "1) Import data\n",
    "\n",
    "2) Perform preprocessing (get dummies + fill missing values)\n",
    "\n",
    "3) Create X and Y matrices\n",
    "\n",
    "4) Split data into train and test\n",
    "\n",
    "5) Scale the features\n",
    "\n",
    "6) Apply the model"
   ]
  },
  {
   "cell_type": "code",
   "execution_count": null,
   "id": "1b68328c",
   "metadata": {},
   "outputs": [],
   "source": []
  }
 ],
 "metadata": {
  "kernelspec": {
   "display_name": "Python 3",
   "language": "python",
   "name": "python3"
  },
  "language_info": {
   "codemirror_mode": {
    "name": "ipython",
    "version": 3
   },
   "file_extension": ".py",
   "mimetype": "text/x-python",
   "name": "python",
   "nbconvert_exporter": "python",
   "pygments_lexer": "ipython3",
   "version": "3.6.13"
  }
 },
 "nbformat": 4,
 "nbformat_minor": 5
}
