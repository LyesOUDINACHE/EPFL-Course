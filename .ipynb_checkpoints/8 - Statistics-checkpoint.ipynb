{
 "cells": [
  {
   "cell_type": "markdown",
   "id": "solid-activity",
   "metadata": {},
   "source": [
    "# Why should we study statistics?\n",
    "Reasoning about uncertainty is a fundamental task in the work of a data scientist. Statistical analysis can help us with every step of the data science process: from designing data collection methods to gaining insights from data, and constructing models for making predictions about data. In particular statistical inference is concerned with drawing conclusions about a population from a representative sample. This can prove extremely useful in many situations and can even help us avoid working with flawed data. As a historical anecdote consider the famous example of the German Tank Problem in World World II. The Allied forced wanted to estimate the number of tanks that the Germans produced per month, by exploiting the fact that the serial numbers of the tanks were always assigned ascending numbers. Now the German tanks which fell into the hands of the Allied forced provided the necessary sample, and the rest was up to statistics! Conventional intelligence methods were claiming numbers around 1550, however, the statistical approach produced an estimate of 270. Later on, historical records revealed that the Germans were indeed producing around 270 tanks per month.\n",
    "\n",
    "# Connections to probability\n",
    "**Now the mathematical foundations behind statistics lie in probability theory, thus to study the former we must first understand the latter. We introduced the fundamentals of probability theory in the first course to give you exactly the tools that you will need to study statistics.**\n",
    "\n",
    "If you recall from the probability subject, we learned how to compute the probabilities of certain events given the distributions of the random variables. For example, we saw that when we toss a fair coin \n",
    "n\n",
    " times the number of heads \n",
    "X\n",
    " is a random variable with distribution \n",
    "B\n",
    "i\n",
    "n\n",
    "o\n",
    "m\n",
    "i\n",
    "a\n",
    "l\n",
    "(\n",
    "n\n",
    ",\n",
    "1\n",
    "/\n",
    "2\n",
    ")\n",
    ". We could then use the probability distribution of binomial random variable to compute the probability of events such as obtaining exactly \n",
    "k\n",
    " heads in \n",
    "n\n",
    " tosses. Now, in statistics, we are somewhat interested in the opposite problem. We want to answer questions such as: Suppose we know that \n",
    "Y\n",
    "∼\n",
    "B\n",
    "i\n",
    "n\n",
    "o\n",
    "m\n",
    "i\n",
    "a\n",
    "l\n",
    "(\n",
    "100\n",
    ",\n",
    "p\n",
    ")\n",
    " and we have observed several values of \n",
    "Y\n",
    ". What can we then conclude about \n",
    "p\n",
    "? So here we have some observed outcomes, and we want to find information about the underlying probability distributions of the random variable giving these outcomes."
   ]
  },
  {
   "cell_type": "markdown",
   "id": "reduced-retail",
   "metadata": {},
   "source": [
    "**If a coincidence seems too unlikely, then it probably wasn't really a coincidence**\n",
    "\n",
    "see The Suspicious Coin"
   ]
  },
  {
   "cell_type": "markdown",
   "id": "green-hearing",
   "metadata": {},
   "source": [
    "# 03. Sampling and estimation\n",
    "\n",
    "#### Populations and Samples\n",
    "When talking about statistical analysis of data the first thing we must establish is the notion of population versus sample. The population refers to the entire set of data. The sample is a set of (one or more) observations from the data. The general setup in statistical data analysis is that we have a few observed values (a sample) and using these values we want to draw conclusions about the entire data set that these values came from (the population). This process is also called generalization.\n",
    "\n",
    "We refer to the properties of the population as parameters and the properties of the sample as statistics. We then use statistical inference to make guesses about population parameters based on statistics we computed on the samples."
   ]
  },
  {
   "cell_type": "code",
   "execution_count": 1,
   "id": "joint-bradford",
   "metadata": {},
   "outputs": [
    {
     "data": {
      "text/html": [
       "<img src=\"https://d7whxh71cqykp.cloudfront.net/uploads/image/data/4336/population_sample.png\"/>"
      ],
      "text/plain": [
       "<IPython.core.display.Image object>"
      ]
     },
     "execution_count": 1,
     "metadata": {},
     "output_type": "execute_result"
    }
   ],
   "source": [
    "from IPython.display import Image\n",
    "Image(url= \"https://d7whxh71cqykp.cloudfront.net/uploads/image/data/4336/population_sample.png\")"
   ]
  },
  {
   "cell_type": "markdown",
   "id": "awful-justice",
   "metadata": {},
   "source": [
    "The figure above shows an example of a complete population on the left (measured on two different features). The two density plots on the top and right indicate the value distribution on feature 2 and feature 1. The right side of the figure shows three examples of a randomly selected sample. While sample 01 and sample 02 randomly selected data points from the whole population, sample 03 only selected points if they had a positive value."
   ]
  },
  {
   "cell_type": "markdown",
   "id": "treated-recipient",
   "metadata": {},
   "source": [
    "#### Sample selection\n",
    "\n",
    "So far we have distinguished between a population and a sample, but we haven't specified anything about how we might get a sample. A common procedure is to select samples at random (as in the example of sample 01 and sample 02 in the figure above). It is always a good idea to ensure that **the selection of samples covers sufficiently all of the parameters that we mean to study**. For example, if we are interested in studying the efficacy of a new therapy for people that suffer from celiac disease then we must ensure that in our sample we consider patients with all levels of celiac disease from mild, medium to severe.\n",
    "\n",
    "**Another important aspect is the sample size. Studies can often fail because the sample size is too small, preventing us from observing an effect of the desired magnitude. When determining what is a sufficient sample size we must always consider the variance of the parameter we want to study as well as the magnitude of the expected effect in relation to the standard deviation of the parameter.**\n",
    "\n",
    "Finally, **we must think of the sample bias.** It is not sufficient to have a large sample size, since if we have a selection bias then we will never achieve a representative response (as in the example of sample 03 in the figure above). For example, when conducting a survey, it is often the case that the number of people that respond is a small percentage of the total number of people contacted. And people that usually respond to a survey are different than those who do not. This is what is known as **non-response bias.**\n",
    "\n",
    "As discussed above we can see that sample selection is no easy matter. This is why we **often use randomization since it helps us avoid or at least minimize the problems** that can occur with sample selection. **Random sampling means that each element of the population has an equal chance of being chosen for the sample at each draw.** The type of sample we obtain in this fashion is called a ***simple random sample.*** We can perform the sampling with replacement, by putting back the observations back into the population after each draw or without replacement where once selected, observations are no longer available for future draws.\n",
    "\n",
    "In Python, we have built-in functions that help us do random selection both with and without replacement. Let's look at some examples. We start with the usual import statements"
   ]
  },
  {
   "cell_type": "code",
   "execution_count": 2,
   "id": "defensive-handling",
   "metadata": {},
   "outputs": [],
   "source": [
    "import numpy as np\n",
    "import pandas as pd\n",
    "import scipy.stats as stats\n",
    "from matplotlib import pyplot as plt\n",
    "%matplotlib inline"
   ]
  },
  {
   "cell_type": "code",
   "execution_count": 3,
   "id": "similar-antenna",
   "metadata": {},
   "outputs": [
    {
     "data": {
      "image/png": "[encoded data removed]",
      "text/plain": [
       "<Figure size 432x288 with 1 Axes>"
      ]
     },
     "metadata": {
      "needs_background": "light"
     },
     "output_type": "display_data"
    }
   ],
   "source": [
    "N = 100000\n",
    "val = np.random.random(N)\n",
    "plt.hist(val, 100, color='r', edgecolor='b')\n",
    "plt.title(\"Histogram of random numbers drawn from the Uniform distribution\")\n",
    "plt.show()"
   ]
  },
  {
   "cell_type": "markdown",
   "id": "concerned-terry",
   "metadata": {},
   "source": [
    "Similarly, we can use the function random.randn() to sample from the Gaussian distribution"
   ]
  },
  {
   "cell_type": "code",
   "execution_count": 6,
   "id": "apparent-private",
   "metadata": {},
   "outputs": [
    {
     "data": {
      "text/plain": [
       "Text(0.5, 1.0, 'Histogram of random numbers drawn from the Gaussian distribution')"
      ]
     },
     "execution_count": 6,
     "metadata": {},
     "output_type": "execute_result"
    },
    {
     "data": {
      "image/png": "[encoded data removed]",
      "text/plain": [
       "<Figure size 432x288 with 1 Axes>"
      ]
     },
     "metadata": {
      "needs_background": "light"
     },
     "output_type": "display_data"
    }
   ],
   "source": [
    "val2 = np.random.randn(N)\n",
    "plt.hist(val2, 100, color='r', edgecolor='b')\n",
    "plt.title(\"Histogram of random numbers drawn from the Gaussian distribution\")"
   ]
  },
  {
   "cell_type": "markdown",
   "id": "reserved-arctic",
   "metadata": {},
   "source": [
    "These two functions perform the same operation and return a continuous random sample uniformly distributed between \n",
    "0\n",
    " and \n",
    "1\n",
    ". In fact, both functions use the same method in the background (the numpy.random.random_sample method). The only difference is in the way we call them whenever we want to generate a 2-dimensional matrix of random numbers.\n",
    "\n",
    "- In numpy.random.rand, each dimension is passed separately. For example, if we want to generate a \n",
    "3\n",
    " by \n",
    "5\n",
    " matrix of random numbers uniformly distributed in \n",
    "[\n",
    "0\n",
    ",\n",
    "1\n",
    "]\n",
    ", we use numpy.random.rand(3,5).\n",
    "\n",
    "- In numpy.random.random, both dimensions should be passed as a tuple. For example, if we want to generate a \n",
    "3\n",
    " by \n",
    "5\n",
    " matrix of random numbers uniformly distributed in \n",
    "[\n",
    "0\n",
    ",\n",
    "1\n",
    "]\n",
    ", we use numpy.random.random((3,5)). Note the double parenthesis here, without it the function throws an error. This difference does not show for a single dimension where the tuple is not needed here.\n",
    "\n",
    "I hope this clarifies the difference."
   ]
  },
  {
   "cell_type": "markdown",
   "id": "second-mount",
   "metadata": {},
   "source": [
    "#### The central limit theorem\n",
    "In course one, you were introduced to the concept of the Central Limit Theorem. Roughly speaking this theorem tells us that the following: **As long as the sample size is large enough the sums (or means) of random samples resemble the normal distribution, even if the population itself is not normally distributed.**\n",
    "\n",
    "This theorem basically underlies the whole idea behind hypothesis testing and confidence intervals (that we will cover in more depth in the next units).\n",
    "\n",
    "Let's test this with our previous example of the random sample from the Uniform distribution. The code below plots the sums of \n",
    "k\n",
    " random variables from the uniform distribution for values of \n",
    "k\n",
    " equal to \n",
    "1\n",
    ",\n",
    "2\n",
    ",\n",
    "4\n",
    " and \n",
    "8\n",
    ". We can see that the more times we iterate this process the closer we approach the normal distribution."
   ]
  },
  {
   "cell_type": "code",
   "execution_count": 16,
   "id": "invalid-schedule",
   "metadata": {},
   "outputs": [
    {
     "data": {
      "image/png": "[encoded data removed]",
      "text/plain": [
       "<Figure size 1296x720 with 4 Axes>"
      ]
     },
     "metadata": {
      "needs_background": "light"
     },
     "output_type": "display_data"
    }
   ],
   "source": [
    "# define the number of random variables\n",
    "N = 10000 \n",
    "\n",
    "# define the number of iterations \n",
    "it = [1,2, 4, 8]\n",
    "\n",
    "f = plt.figure(figsize=(18, 10))\n",
    "for i in range(4):\n",
    "    # define an array of zeros which will hold the sums\n",
    "    x = np.zeros((N))\n",
    "    subplot = f.add_subplot(2,2,i+1)\n",
    "    for j in range(N):\n",
    "        for k in range(it[i]):\n",
    "            x[j]= x[j]+np.random.random()   \n",
    "    plt.hist(x, 100, density=True, color='r', edgecolor='b')\n",
    "    plt.title('Number of iterations = '+str(it[i]))\n",
    "    plt.setp(subplot.get_yticklabels(), visible=False)\n",
    "\n",
    "plt.suptitle(\"Addition of uniform random variables converges to a Gaussian distribution\",fontsize=20);\n",
    "plt.show()   "
   ]
  },
  {
   "cell_type": "markdown",
   "id": "optical-investment",
   "metadata": {},
   "source": [
    "e can see that the shape of the distribution of the sums clearly approaches the normal distribution as we increase the number of iterations. In the remainder of this subject, we will assume that our population always consists of independent and identically distributed random variables and that our sample size is large enough for the central limit theorem to apply."
   ]
  },
  {
   "cell_type": "code",
   "execution_count": 17,
   "id": "quick-archive",
   "metadata": {},
   "outputs": [
    {
     "data": {
      "image/png": "[encoded data removed]",
      "text/plain": [
       "<Figure size 1296x720 with 1 Axes>"
      ]
     },
     "metadata": {
      "needs_background": "light"
     },
     "output_type": "display_data"
    }
   ],
   "source": [
    "# define the number of random variables\n",
    "N = 10000 \n",
    "\n",
    "# define the number of iterations \n",
    "it = [1,2, 4, 8]\n",
    "\n",
    "f = plt.figure(figsize=(18, 10))\n",
    "for i in range(4):\n",
    "    # define an array of zeros which will hold the sums\n",
    "    x = np.zeros((N))\n",
    "    subplot = f.add_subplot(2,1,1)\n",
    "    for j in range(N):\n",
    "        for k in range(it[i]):\n",
    "            x[j]= x[j]+np.random.random()   \n",
    "    plt.hist(x, 100, density=True, color='r', edgecolor='b')\n",
    "    plt.title('Number of iterations = '+str(it[i]))\n",
    "    plt.setp(subplot.get_yticklabels(), visible=False)\n",
    "\n",
    "plt.suptitle(\"Addition of uniform random variables converges to a Gaussian distribution\",fontsize=20);\n",
    "plt.show()   "
   ]
  },
  {
   "cell_type": "markdown",
   "id": "endangered-letter",
   "metadata": {},
   "source": [
    "# Measures of center and spread\n",
    "\n",
    "In the previous unit, we introduced the notions of population and sample. We said that a statistic was a property of the sample which is used to estimate a parameter or a property of the population. In this unit, we take a look at some of the most popular choices of statistics. Computing these statistics forms the numerical part of the exploratory data analysis concept that we introduced in the first course.\n",
    "\n",
    "#### Measures of center\n",
    "\n",
    "The first thing that we usually ask about a data set is its center. The center helps us quickly make an approximation about the data itself. For example, if we were interested in the amount of rainfall in Portland, Oregan we can quickly compute the average value for each month to get an idea. But what exactly is a center value? As it turns out there are several ways to define this.\n",
    "\n",
    "What we usually refer to as the average is the arithmetic mean and is found by adding up all the values and diving by the total number of values. So if our sample consisted of the values \n",
    "x\n",
    "1\n",
    ",\n",
    "⋯\n",
    ",\n",
    "x\n",
    "n\n",
    " the mean is given by\n",
    "\n",
    "¯\n",
    "x\n",
    "=\n",
    "∑\n",
    "n\n",
    "i\n",
    "=\n",
    "1\n",
    "x\n",
    "i\n",
    "n\n"
   ]
  },
  {
   "cell_type": "code",
   "execution_count": 19,
   "id": "diagnostic-station",
   "metadata": {},
   "outputs": [
    {
     "data": {
      "text/plain": [
       "76.25"
      ]
     },
     "execution_count": 19,
     "metadata": {},
     "output_type": "execute_result"
    }
   ],
   "source": [
    "import numpy as np\n",
    "\n",
    "val = [78,75,82,70]\n",
    "np.mean(val)\n"
   ]
  },
  {
   "cell_type": "code",
   "execution_count": 20,
   "id": "circular-tuner",
   "metadata": {},
   "outputs": [
    {
     "data": {
      "text/plain": [
       "63.0"
      ]
     },
     "execution_count": 20,
     "metadata": {},
     "output_type": "execute_result"
    }
   ],
   "source": [
    "val2=[78,75,82,70,10]\n",
    "np.mean(val2)"
   ]
  },
  {
   "cell_type": "markdown",
   "id": "copyrighted-resistance",
   "metadata": {},
   "source": [
    "We can see that this new value caused the mean to drop quite a bit. This is because the mean is easily affected by outliers. Another concept of the center which is less affected by outliers is the median. The median is obtained by sorting the data set and then taking the value which is in the middle. **If the data set has an odd number of entries that this will be a unique value. If the dataset has an even number of entries then there will be two values in the middle and the median is defined as their average in this case.** Let's try this out with our previous lists"
   ]
  },
  {
   "cell_type": "code",
   "execution_count": 25,
   "id": "original-alcohol",
   "metadata": {},
   "outputs": [
    {
     "data": {
      "text/plain": [
       "76.5"
      ]
     },
     "execution_count": 25,
     "metadata": {},
     "output_type": "execute_result"
    }
   ],
   "source": [
    "np.median(val)"
   ]
  },
  {
   "cell_type": "code",
   "execution_count": 23,
   "id": "joint-manhattan",
   "metadata": {},
   "outputs": [
    {
     "data": {
      "text/plain": [
       "75.0"
      ]
     },
     "execution_count": 23,
     "metadata": {},
     "output_type": "execute_result"
    }
   ],
   "source": [
    "np.median(val2)"
   ]
  },
  {
   "cell_type": "markdown",
   "id": "offshore-destruction",
   "metadata": {},
   "source": [
    "#### Measures of variation\n",
    "After determining the center of a data set the second most common question is to look at the spread of the data. In particular, how far away can the points be from the center? For this let's introduce a list with more values"
   ]
  },
  {
   "cell_type": "code",
   "execution_count": 27,
   "id": "danish-metabolism",
   "metadata": {},
   "outputs": [],
   "source": [
    "val3=[94, 66, 51,  8, 10, 34, 69, 21, 49, 16, 21, 83, 44, 69, 29,  7, 26,\n",
    "       77, 90, 53, 58, 84, 45, 14, 41,  7, 47, 86, 24, 48, 71, 71, 34, 86,\n",
    "       52, 17,  8, 84, 41, 70, 61, 85,  6, 14, 58, 12, 99, 81, 16, 93]"
   ]
  },
  {
   "cell_type": "code",
   "execution_count": 28,
   "id": "relative-rochester",
   "metadata": {},
   "outputs": [
    {
     "data": {
      "text/plain": [
       "93"
      ]
     },
     "execution_count": 28,
     "metadata": {},
     "output_type": "execute_result"
    }
   ],
   "source": [
    "np.max(val3) - np.min(val3)\n"
   ]
  },
  {
   "cell_type": "markdown",
   "id": "failing-lending",
   "metadata": {},
   "source": [
    "A more commonly used measure of spread is the standard deviation. For a random sample \n",
    "x\n",
    "1\n",
    ",\n",
    "⋯\n",
    ",\n",
    "x\n",
    "n\n",
    " with mean \n",
    "¯\n",
    "x\n",
    " the standard deviation is given by"
   ]
  },
  {
   "cell_type": "markdown",
   "id": "thirty-yemen",
   "metadata": {},
   "source": [
    "The quantity under the square root is called the variance. Both the variance and the standard deviation are a measure of how far away the data points are from the mean. We can compute them easily in Python using the following functions from NumPy"
   ]
  },
  {
   "cell_type": "code",
   "execution_count": 29,
   "id": "completed-theta",
   "metadata": {},
   "outputs": [
    {
     "data": {
      "text/plain": [
       "48.6"
      ]
     },
     "execution_count": 29,
     "metadata": {},
     "output_type": "execute_result"
    }
   ],
   "source": [
    "np.mean(val3)"
   ]
  },
  {
   "cell_type": "code",
   "execution_count": 30,
   "id": "abroad-palace",
   "metadata": {},
   "outputs": [
    {
     "data": {
      "text/plain": [
       "828.8400000000001"
      ]
     },
     "execution_count": 30,
     "metadata": {},
     "output_type": "execute_result"
    }
   ],
   "source": [
    "np.var(val3)"
   ]
  },
  {
   "cell_type": "code",
   "execution_count": 31,
   "id": "satisfied-aircraft",
   "metadata": {},
   "outputs": [
    {
     "data": {
      "text/plain": [
       "28.78958144885056"
      ]
     },
     "execution_count": 31,
     "metadata": {},
     "output_type": "execute_result"
    }
   ],
   "source": [
    "np.std(val3)"
   ]
  },
  {
   "cell_type": "code",
   "execution_count": 32,
   "id": "recovered-hypothetical",
   "metadata": {},
   "outputs": [],
   "source": [
    "import matplotlib.pyplot as plt\n",
    "%matplotlib inline"
   ]
  },
  {
   "cell_type": "code",
   "execution_count": 33,
   "id": "sophisticated-closing",
   "metadata": {},
   "outputs": [
    {
     "data": {
      "image/png": "[encoded data removed]",
      "text/plain": [
       "<Figure size 432x288 with 1 Axes>"
      ]
     },
     "metadata": {
      "needs_background": "light"
     },
     "output_type": "display_data"
    }
   ],
   "source": [
    "x_pos = range(50)\n",
    "plt.bar(x_pos, val3)\n",
    "plt.plot((0,50),(49,49),'b')\n",
    "plt.plot((0,50),(49+29,49+29),'r')\n",
    "plt.plot((0,50),(49-29,49-29),'r')\n",
    "plt.show()"
   ]
  },
  {
   "cell_type": "markdown",
   "id": "opposed-destination",
   "metadata": {},
   "source": [
    "We can see how indeed most of the data lies between the two red lines.\n",
    "\n",
    "We can also think of the standard deviation in terms of error prediction. Suppose we wanted to predict a value for the random variable \n",
    "X\n",
    " and we chose some value \n",
    "c\n",
    ". Then the error would be \n",
    "X\n",
    "−\n",
    "c\n",
    ". Now, the error could be either positive or negative, so it is more useful to look at the squared error \n",
    "(\n",
    "X\n",
    "−\n",
    "c\n",
    ")\n",
    "2\n",
    ".\n",
    "\n",
    "Why is that? Imagine that you have an error of -10, and an error of 10. If you just took the average, your error would be 0! In order to prevent this kind of problems, the values are squared, as this makes sure that negative errors will not cancel positive errors. (This is not the only reason why errors are often squared, but it is nevertheless an important side effect.)\n",
    "\n",
    "Now, we would like to pick the value \n",
    "c\n",
    " which would minimize this error. Performing some algebraic computations will reveal that this error is minimized when \n",
    "c\n",
    "=\n",
    "E\n",
    "(\n",
    "X\n",
    ")\n",
    ", which matches our intuition that \n",
    "E\n",
    "(\n",
    "X\n",
    ")\n",
    " is a good predictor for the value of \n",
    "X\n",
    ". That is, \n",
    "E\n",
    "(\n",
    "X\n",
    ")\n",
    " achieves the smallest mean squared error. And when we plug in \n",
    "c\n",
    "=\n",
    "E\n",
    "(\n",
    "X\n",
    ")\n",
    ", we obtain that the mean squared error is exactly \n",
    "σ\n",
    "2\n",
    "X\n",
    ". Therefore, the standard deviation is the smallest root mean squared error possible and it is achieved when predicting \n",
    "E\n",
    "(\n",
    "X\n",
    ")\n",
    " for \n",
    "X\n",
    "."
   ]
  },
  {
   "cell_type": "code",
   "execution_count": null,
   "id": "imported-wheel",
   "metadata": {},
   "outputs": [],
   "source": []
  }
 ],
 "metadata": {
  "kernelspec": {
   "display_name": "Python 3",
   "language": "python",
   "name": "python3"
  },
  "language_info": {
   "codemirror_mode": {
    "name": "ipython",
    "version": 3
   },
   "file_extension": ".py",
   "mimetype": "text/x-python",
   "name": "python",
   "nbconvert_exporter": "python",
   "pygments_lexer": "ipython3",
   "version": "3.6.12"
  }
 },
 "nbformat": 4,
 "nbformat_minor": 5
}
