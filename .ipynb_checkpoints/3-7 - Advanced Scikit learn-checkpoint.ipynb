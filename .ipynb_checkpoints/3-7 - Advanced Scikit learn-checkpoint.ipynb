{
 "cells": [
  {
   "cell_type": "markdown",
   "id": "b12d268c",
   "metadata": {},
   "source": [
    "# Pipeline"
   ]
  },
  {
   "cell_type": "markdown",
   "id": "631466e1",
   "metadata": {},
   "source": [
    "So far, we used Scikit-learn for its **ML estimators like the LinearRegression or Ridge ones and saw a few examples of transformers with the StandardScaler and PolynomialFeatures objects.** In this unit and the next ones, we will see **how to assemble Scikit-learn estimators and transformers into a full ML pipeline.**\n",
    "\n",
    "In this unit, we will see how to use the Pipeline object from Scikit-learn using the bike sharing data."
   ]
  },
  {
   "cell_type": "code",
   "execution_count": 1,
   "id": "fccc4062",
   "metadata": {},
   "outputs": [
    {
     "data": {
      "text/html": [
       "<div>\n",
       "<style scoped>\n",
       "    .dataframe tbody tr th:only-of-type {\n",
       "        vertical-align: middle;\n",
       "    }\n",
       "\n",
       "    .dataframe tbody tr th {\n",
       "        vertical-align: top;\n",
       "    }\n",
       "\n",
       "    .dataframe thead th {\n",
       "        text-align: right;\n",
       "    }\n",
       "</style>\n",
       "<table border=\"1\" class=\"dataframe\">\n",
       "  <thead>\n",
       "    <tr style=\"text-align: right;\">\n",
       "      <th></th>\n",
       "      <th>temp</th>\n",
       "      <th>hum</th>\n",
       "      <th>windspeed</th>\n",
       "      <th>yr</th>\n",
       "      <th>workingday</th>\n",
       "      <th>holiday</th>\n",
       "      <th>weekday</th>\n",
       "      <th>season</th>\n",
       "      <th>weathersit</th>\n",
       "      <th>casual</th>\n",
       "    </tr>\n",
       "  </thead>\n",
       "  <tbody>\n",
       "    <tr>\n",
       "      <th>0</th>\n",
       "      <td>0.344</td>\n",
       "      <td>0.806</td>\n",
       "      <td>0.160</td>\n",
       "      <td>2011</td>\n",
       "      <td>no</td>\n",
       "      <td>no</td>\n",
       "      <td>6</td>\n",
       "      <td>spring</td>\n",
       "      <td>cloudy</td>\n",
       "      <td>331</td>\n",
       "    </tr>\n",
       "    <tr>\n",
       "      <th>1</th>\n",
       "      <td>0.363</td>\n",
       "      <td>0.696</td>\n",
       "      <td>0.249</td>\n",
       "      <td>2011</td>\n",
       "      <td>no</td>\n",
       "      <td>no</td>\n",
       "      <td>0</td>\n",
       "      <td>spring</td>\n",
       "      <td>cloudy</td>\n",
       "      <td>131</td>\n",
       "    </tr>\n",
       "    <tr>\n",
       "      <th>2</th>\n",
       "      <td>0.196</td>\n",
       "      <td>0.437</td>\n",
       "      <td>0.248</td>\n",
       "      <td>2011</td>\n",
       "      <td>yes</td>\n",
       "      <td>no</td>\n",
       "      <td>1</td>\n",
       "      <td>spring</td>\n",
       "      <td>clear</td>\n",
       "      <td>120</td>\n",
       "    </tr>\n",
       "    <tr>\n",
       "      <th>3</th>\n",
       "      <td>0.200</td>\n",
       "      <td>0.590</td>\n",
       "      <td>0.160</td>\n",
       "      <td>2011</td>\n",
       "      <td>yes</td>\n",
       "      <td>no</td>\n",
       "      <td>2</td>\n",
       "      <td>spring</td>\n",
       "      <td>clear</td>\n",
       "      <td>108</td>\n",
       "    </tr>\n",
       "    <tr>\n",
       "      <th>4</th>\n",
       "      <td>0.227</td>\n",
       "      <td>0.437</td>\n",
       "      <td>0.187</td>\n",
       "      <td>2011</td>\n",
       "      <td>yes</td>\n",
       "      <td>no</td>\n",
       "      <td>3</td>\n",
       "      <td>spring</td>\n",
       "      <td>clear</td>\n",
       "      <td>82</td>\n",
       "    </tr>\n",
       "  </tbody>\n",
       "</table>\n",
       "</div>"
      ],
      "text/plain": [
       "    temp    hum  windspeed    yr workingday holiday  weekday  season  \\\n",
       "0  0.344  0.806      0.160  2011         no      no        6  spring   \n",
       "1  0.363  0.696      0.249  2011         no      no        0  spring   \n",
       "2  0.196  0.437      0.248  2011        yes      no        1  spring   \n",
       "3  0.200  0.590      0.160  2011        yes      no        2  spring   \n",
       "4  0.227  0.437      0.187  2011        yes      no        3  spring   \n",
       "\n",
       "  weathersit  casual  \n",
       "0     cloudy     331  \n",
       "1     cloudy     131  \n",
       "2      clear     120  \n",
       "3      clear     108  \n",
       "4      clear      82  "
      ]
     },
     "execution_count": 1,
     "metadata": {},
     "output_type": "execute_result"
    }
   ],
   "source": [
    "import pandas as pd\n",
    "\n",
    "data_df = pd.read_csv('bike-sharing.csv')\n",
    "data_df.head()"
   ]
  },
  {
   "cell_type": "code",
   "execution_count": 3,
   "id": "f59c83d8",
   "metadata": {},
   "outputs": [],
   "source": [
    "from sklearn.model_selection import train_test_split\n",
    "\n",
    "# One-hot encoding\n",
    "encoded_df = pd.get_dummies(data_df)\n",
    "\n",
    "# Split into train/test sets\n",
    "X = encoded_df.drop('casual', axis=1).values\n",
    "y = data_df.casual.values\n",
    "X_tr, X_te, y_tr, y_te = train_test_split(X, y, test_size=0.3, random_state=0)"
   ]
  },
  {
   "cell_type": "code",
   "execution_count": 5,
   "id": "3e61f1a3",
   "metadata": {},
   "outputs": [],
   "source": [
    "from sklearn.preprocessing import StandardScaler\n",
    "\n",
    "# Standardize data\n",
    "scaler = StandardScaler()\n",
    "X_tr_rescaled = scaler.fit_transform(X_tr)\n",
    "X_te_rescaled = scaler.transform(X_te)"
   ]
  },
  {
   "cell_type": "code",
   "execution_count": 8,
   "id": "e0ef628e",
   "metadata": {},
   "outputs": [
    {
     "name": "stdout",
     "output_type": "stream",
     "text": [
      "MAE: 280\n"
     ]
    }
   ],
   "source": [
    "from sklearn.metrics import mean_absolute_error as MAE\n",
    "from sklearn.linear_model import Ridge\n",
    "\n",
    "ridge = Ridge()\n",
    "ridge.fit(X_tr_rescaled, y_tr)\n",
    "print('MAE: {:.0f}'.format(MAE(y_te, ridge.predict(X_te_rescaled))))"
   ]
  },
  {
   "cell_type": "code",
   "execution_count": 7,
   "id": "6ed9d1a5",
   "metadata": {},
   "outputs": [
    {
     "name": "stdout",
     "output_type": "stream",
     "text": [
      "Median baseline: 523\n"
     ]
    }
   ],
   "source": [
    "import numpy as np\n",
    "\n",
    "median_predictions = np.full_like(y_te, np.median(y_tr))\n",
    "print('Median baseline: {:.0f}'.format(MAE(y_te, median_predictions)))"
   ]
  },
  {
   "cell_type": "markdown",
   "id": "f49c6b3b",
   "metadata": {},
   "source": [
    "Applying different preprocessing steps to the train/test data is a common mistake which **can be hard to detect when we have a long sequence of transformations**. To solve this issue, we can **use the Pipeline object to encapsulate them with the estimator.** Let's see how to use this object.\n",
    "\n",
    "### Pipeline Object"
   ]
  },
  {
   "cell_type": "code",
   "execution_count": 9,
   "id": "5095fbd5",
   "metadata": {},
   "outputs": [],
   "source": [
    "from sklearn.pipeline import Pipeline\n",
    "\n",
    "# Create pipeline\n",
    "pipe = Pipeline([\n",
    "    ('scaler', StandardScaler()),\n",
    "    ('ridge', Ridge())\n",
    "])"
   ]
  },
  {
   "cell_type": "markdown",
   "id": "f9ee2766",
   "metadata": {},
   "source": [
    "The steps are simply (name, object) pairs. For each object, we can choose a name that we can then use later to refer to the step. In this case, we simply name the StandardScaler() step scaler and the Ridge() one ridge.\n",
    "\n",
    "We can then retrieve the list of steps with **the named_steps** attribute."
   ]
  },
  {
   "cell_type": "code",
   "execution_count": 10,
   "id": "34ab9be6",
   "metadata": {},
   "outputs": [
    {
     "data": {
      "text/plain": [
       "{'scaler': StandardScaler(copy=True, with_mean=True, with_std=True),\n",
       " 'ridge': Ridge(alpha=1.0, copy_X=True, fit_intercept=True, max_iter=None,\n",
       "    normalize=False, random_state=None, solver='auto', tol=0.001)}"
      ]
     },
     "execution_count": 10,
     "metadata": {},
     "output_type": "execute_result"
    }
   ],
   "source": [
    "# Get a dictionary with each step\n",
    "pipe.named_steps"
   ]
  },
  {
   "cell_type": "markdown",
   "id": "36f543d5",
   "metadata": {},
   "source": [
    "**The pipeline object can be used as a standard Scikit-learn estimator i.e. it implements the usual fit(), predict() and score() functions from the estimator API.**"
   ]
  },
  {
   "cell_type": "code",
   "execution_count": 11,
   "id": "5fd036df",
   "metadata": {},
   "outputs": [
    {
     "name": "stdout",
     "output_type": "stream",
     "text": [
      "MAE: 280\n"
     ]
    }
   ],
   "source": [
    "# Fit on the train set\n",
    "pipe.fit(X_tr, y_tr)\n",
    "\n",
    "# Evaluate on the test set\n",
    "print('MAE: {:.0f}'.format(MAE(y_te, pipe.predict(X_te))))"
   ]
  },
  {
   "cell_type": "markdown",
   "id": "bfd0fa06",
   "metadata": {},
   "source": [
    "### Multiple preprocessing steps\n",
    "\n",
    "In the example above, we have a single preprocessing step. The pipe.fit() call is equivalent to applying the following handmade function"
   ]
  },
  {
   "cell_type": "code",
   "execution_count": 12,
   "id": "7bf1a64a",
   "metadata": {},
   "outputs": [],
   "source": [
    "def pipe_fit(X, y):\n",
    "    # Fit and apply the transformation\n",
    "    X1 = scaler.fit_transform(X)\n",
    "\n",
    "    # Fit the estimator\n",
    "    ridge.fit(X1, y)\n",
    "\n",
    "# Fit to the train data\n",
    "pipe_fit(X_tr, y_tr)"
   ]
  },
  {
   "cell_type": "code",
   "execution_count": 13,
   "id": "65b4ae5f",
   "metadata": {},
   "outputs": [
    {
     "name": "stdout",
     "output_type": "stream",
     "text": [
      "MAE: 280\n"
     ]
    }
   ],
   "source": [
    "def pipe_predict(X):\n",
    "    # Apply the transformation\n",
    "    X1 = scaler.transform(X)\n",
    "\n",
    "    # Make predictions\n",
    "    return ridge.predict(X1)\n",
    "\n",
    "# Evaluate on the test set\n",
    "print('MAE: {:.0f}'.format(MAE(y_te, pipe_predict(X_te))))"
   ]
  },
  {
   "cell_type": "code",
   "execution_count": 14,
   "id": "964265a3",
   "metadata": {},
   "outputs": [],
   "source": [
    "# Pipeline with three transformations\n",
    "# pipe = Pipeline([\n",
    "#     ('transform1', ...),\n",
    "#     ('transform2', ...),\n",
    "#     ('transform3', ...),\n",
    "#     ('estimator', ...)\n",
    "# ])"
   ]
  },
  {
   "cell_type": "raw",
   "id": "df7b86c7",
   "metadata": {},
   "source": [
    "function to pipe.fit()\n",
    "\n",
    "# Example with three transformations\n",
    "def pipe_fit(X, y):\n",
    "    # Fit and apply the transformations\n",
    "    X1 = transform1.fit_transform(X)\n",
    "    X2 = transform2.fit_transform(X1)\n",
    "    X3 = transform3.fit_transform(X2)\n",
    "\n",
    "    # Fit the estimator\n",
    "    estimator.fit(X3, y)"
   ]
  },
  {
   "cell_type": "markdown",
   "id": "b18579dc",
   "metadata": {},
   "source": [
    "### Optional steps\n",
    "It can be interesting to try fitting an estimator with and without a preprocessing step to see if it improves to results. We will see a few scenarios in the next course where this is helpful. To achieve this, we can simply set the step to None"
   ]
  },
  {
   "cell_type": "code",
   "execution_count": 16,
   "id": "f3c4fc8f",
   "metadata": {},
   "outputs": [
    {
     "name": "stdout",
     "output_type": "stream",
     "text": [
      "MAE: 282\n"
     ]
    }
   ],
   "source": [
    "# Create a pipeline\n",
    "pipe = Pipeline([\n",
    "    ('scaler', None), # Disable this step\n",
    "    ('ridge', Ridge())\n",
    "])\n",
    "\n",
    "# Fit pipeline to the train set\n",
    "pipe.fit(X_tr, y_tr)\n",
    "\n",
    "# Accuracy on the test set\n",
    "print('MAE: {:.0f}'.format(MAE(y_te, pipe.predict(X_te))))"
   ]
  },
  {
   "cell_type": "markdown",
   "id": "64d6b4a1",
   "metadata": {},
   "source": [
    "### Grid search with pipelines\n",
    "Let's see how we would tune the alpha hyperparameter using grid search on our pipeline"
   ]
  },
  {
   "cell_type": "code",
   "execution_count": 17,
   "id": "8ef18f08",
   "metadata": {},
   "outputs": [
    {
     "data": {
      "text/html": [
       "<div>\n",
       "<style scoped>\n",
       "    .dataframe tbody tr th:only-of-type {\n",
       "        vertical-align: middle;\n",
       "    }\n",
       "\n",
       "    .dataframe tbody tr th {\n",
       "        vertical-align: top;\n",
       "    }\n",
       "\n",
       "    .dataframe thead th {\n",
       "        text-align: right;\n",
       "    }\n",
       "</style>\n",
       "<table border=\"1\" class=\"dataframe\">\n",
       "  <thead>\n",
       "    <tr style=\"text-align: right;\">\n",
       "      <th></th>\n",
       "      <th>alpha</th>\n",
       "      <th>test_mae</th>\n",
       "      <th>train_mae</th>\n",
       "    </tr>\n",
       "  </thead>\n",
       "  <tbody>\n",
       "    <tr>\n",
       "      <th>0</th>\n",
       "      <td>0.000100</td>\n",
       "      <td>279.754483</td>\n",
       "      <td>262.057394</td>\n",
       "    </tr>\n",
       "    <tr>\n",
       "      <th>1</th>\n",
       "      <td>0.000120</td>\n",
       "      <td>279.754483</td>\n",
       "      <td>262.057392</td>\n",
       "    </tr>\n",
       "    <tr>\n",
       "      <th>2</th>\n",
       "      <td>0.000145</td>\n",
       "      <td>279.754485</td>\n",
       "      <td>262.057391</td>\n",
       "    </tr>\n",
       "    <tr>\n",
       "      <th>3</th>\n",
       "      <td>0.000175</td>\n",
       "      <td>279.754486</td>\n",
       "      <td>262.057389</td>\n",
       "    </tr>\n",
       "    <tr>\n",
       "      <th>4</th>\n",
       "      <td>0.000210</td>\n",
       "      <td>279.754487</td>\n",
       "      <td>262.057386</td>\n",
       "    </tr>\n",
       "  </tbody>\n",
       "</table>\n",
       "</div>"
      ],
      "text/plain": [
       "      alpha    test_mae   train_mae\n",
       "0  0.000100  279.754483  262.057394\n",
       "1  0.000120  279.754483  262.057392\n",
       "2  0.000145  279.754485  262.057391\n",
       "3  0.000175  279.754486  262.057389\n",
       "4  0.000210  279.754487  262.057386"
      ]
     },
     "execution_count": 17,
     "metadata": {},
     "output_type": "execute_result"
    }
   ],
   "source": [
    "import numpy as np\n",
    "\n",
    "# Variable to store the results\n",
    "gs_results = []\n",
    "\n",
    "# Grid search\n",
    "for alpha in np.logspace(-4, 4, num=100):\n",
    "    # Create/fit the pipeline\n",
    "    pipe = Pipeline([\n",
    "        ('scaler', StandardScaler()),\n",
    "        ('ridge', Ridge(alpha))\n",
    "    ])\n",
    "    pipe.fit(X_tr, y_tr)\n",
    "\n",
    "    # Save model and its performance on train/test sets\n",
    "    gs_results.append({\n",
    "        'alpha': alpha,\n",
    "        'train_mae': MAE(y_tr, pipe.predict(X_tr)),\n",
    "        'test_mae': MAE(y_te, pipe.predict(X_te)),\n",
    "    })\n",
    "\n",
    "# Convert results to DataFrame\n",
    "gs_results = pd.DataFrame(gs_results)\n",
    "gs_results.head()"
   ]
  },
  {
   "cell_type": "code",
   "execution_count": 18,
   "id": "06ad047d",
   "metadata": {},
   "outputs": [
    {
     "data": {
      "image/png": "[encoded data removed]",
      "text/plain": [
       "<Figure size 432x288 with 1 Axes>"
      ]
     },
     "metadata": {
      "needs_background": "light"
     },
     "output_type": "display_data"
    }
   ],
   "source": [
    "%matplotlib inline\n",
    "import matplotlib.pyplot as plt\n",
    "\n",
    "# Plot the validation curves\n",
    "plt.semilogx(gs_results['alpha'], gs_results['train_mae'], label='train curve')\n",
    "plt.semilogx(gs_results['alpha'], gs_results['test_mae'], label='test curve')\n",
    "plt.xlabel('$alpha$')\n",
    "plt.ylabel('MAE')\n",
    "plt.legend()\n",
    "plt.show()"
   ]
  },
  {
   "cell_type": "markdown",
   "id": "00e7af7a",
   "metadata": {},
   "source": [
    "The model is not overfitting: the test curve remains flat when releasing the regularization constraint i.e. alpha values close to zero. On the other hand, we can see that the performance quickly drops when increasing alpha. This corresponds to the underfitting case.\n",
    "\n",
    "If we don't want to create a new pipeline object in the for loop (ex. for readability), we can also use the **get_params() and set_params() functions** which are available in every Scikit-learn estimator including the Pipeline one."
   ]
  },
  {
   "cell_type": "code",
   "execution_count": 19,
   "id": "5637fd04",
   "metadata": {},
   "outputs": [
    {
     "data": {
      "text/plain": [
       "{'memory': None,\n",
       " 'steps': [('scaler',\n",
       "   StandardScaler(copy=True, with_mean=True, with_std=True)),\n",
       "  ('ridge',\n",
       "   Ridge(alpha=1.0, copy_X=True, fit_intercept=True, max_iter=None,\n",
       "      normalize=False, random_state=None, solver='auto', tol=0.001))],\n",
       " 'scaler': StandardScaler(copy=True, with_mean=True, with_std=True),\n",
       " 'ridge': Ridge(alpha=1.0, copy_X=True, fit_intercept=True, max_iter=None,\n",
       "    normalize=False, random_state=None, solver='auto', tol=0.001),\n",
       " 'scaler__copy': True,\n",
       " 'scaler__with_mean': True,\n",
       " 'scaler__with_std': True,\n",
       " 'ridge__alpha': 1.0,\n",
       " 'ridge__copy_X': True,\n",
       " 'ridge__fit_intercept': True,\n",
       " 'ridge__max_iter': None,\n",
       " 'ridge__normalize': False,\n",
       " 'ridge__random_state': None,\n",
       " 'ridge__solver': 'auto',\n",
       " 'ridge__tol': 0.001}"
      ]
     },
     "execution_count": 19,
     "metadata": {},
     "output_type": "execute_result"
    }
   ],
   "source": [
    "# Create the pipeline\n",
    "pipe = Pipeline([\n",
    "    ('scaler', StandardScaler()),\n",
    "    ('ridge', Ridge())\n",
    "])\n",
    "pipe.get_params()"
   ]
  },
  {
   "cell_type": "markdown",
   "id": "42a9b30f",
   "metadata": {},
   "source": [
    "In this case, the dictionary of parameters from our pipe estimator contains all the steps with their hyperparameters prefixed by the name of the step and two underscores _. For instance, ridge__alpha corresponds to the regularization strength of the ridge step.\n",
    "\n",
    "We can use the same syntax to set each hyperparameter value. For instance, let's set the alpha one in our grid-search loop."
   ]
  },
  {
   "cell_type": "code",
   "execution_count": 22,
   "id": "2a6f5324",
   "metadata": {},
   "outputs": [
    {
     "data": {
      "image/png": "[encoded data removed]",
      "text/plain": [
       "<Figure size 432x288 with 1 Axes>"
      ]
     },
     "metadata": {
      "needs_background": "light"
     },
     "output_type": "display_data"
    }
   ],
   "source": [
    "# Variable to store the results\n",
    "gs_results = []\n",
    "\n",
    "# Grid search\n",
    "for alpha in np.logspace(-4, 4, num=100):\n",
    "    # Fit the pipeline\n",
    "    pipe.set_params(ridge__alpha=alpha)\n",
    "    pipe.fit(X_tr, y_tr)\n",
    "\n",
    "    # Save model and its performance on train/test sets\n",
    "    gs_results.append({\n",
    "        'alpha': alpha,\n",
    "        'train_mae': MAE(y_tr, pipe.predict(X_tr)),\n",
    "        'test_mae': MAE(y_te, pipe.predict(X_te)),\n",
    "    })\n",
    "\n",
    "# Convert results to DataFrame\n",
    "gs_results = pd.DataFrame(gs_results)\n",
    "\n",
    "# Plot the validation curves\n",
    "plt.semilogx(gs_results['alpha'], gs_results['train_mae'], label='train curve')\n",
    "plt.semilogx(gs_results['alpha'], gs_results['test_mae'], label='test curve')\n",
    "plt.xlabel('$alpha$')\n",
    "plt.ylabel('MAE')\n",
    "plt.legend()\n",
    "plt.show()"
   ]
  },
  {
   "cell_type": "markdown",
   "id": "7176e7fe",
   "metadata": {},
   "source": [
    "Both approaches are correct and produce the same results. However, the set_params() one can be useful to quickly test different hyperparameter values without having to define new pipeline objects.\n",
    "\n",
    "### Summary\n",
    "In this unit, we saw how to encapsulate a set of preprocessing steps and an estimator into a single Pipeline object. It's interesting to note that we included only the standardization step in the pipeline and not the one-hot encoding one which was performed outside Scikit-learn with the get_dummies() function from Pandas.\n",
    "\n",
    "In the next unit, **we will see how to encode categorical variables directly in Scikit-learn.** To achieve this, **we will use the ColumnTransformer object which is part of a new workflow that tries to consolidate the data manipulation steps**, usually done in Pandas, with the modeling part from Scikit-learn.\n",
    "\n",
    "# Column transformations\n",
    "\n",
    "Perform the data preparation, exploratory data analysis (EDA), feature encoding/engineering, outliers removal in Pandas before the ML modeling as we have seen so far in this course. When the data is in a good format and ready for the ML models, convert the DataFrame to a Numpy 2d float array with .values and pass it to the sklearn estimator .fit/predict/score methods or Pipeline object if a StandardScaler is needed.\n",
    "\n",
    "**Explanation:** So far in this program, we have seen how to structure our data analysis into (1) data preparation (2) exploratory data analysis (EDA) and (3) machine learning parts. The first two steps (1) and (2) involve a lot of data manipulation and are done in Pandas and the last one (3) with Scikit-learn. Because ML models only work with numerical data, we usually convert our DataFrame into a Numpy float 2d array only at step (3) for sklearn estimators. It's important to understand that the data preprocessing (1) and (2) are done in Pandas. The only exception is for common preprocessing steps that are very specific to ML such as StandardScaler or dimensionality reduction such as PCA (more about this in the next course) - those are usually encapsulated into a Pipeline object as shown in the last unit. The reason for this exception is simple: those ML operations are independent of the nature of the column unlike the data manipulation steps from (1) and (2) that are usually very specific to each variable. For instance, feature engineering and outliers removal are done in Pandas because they depend on the type of variable and their meaning ex. it doesn't make sense to create polynomial features for categories or apply z-score outliers removal to ordinal variables or skewed ones.\n",
    "\n",
    "**In this unit and the next ones:** Jupyter notebooks are a great way to develop/share a data analysis pipeline and document each step with Markdown cells and plots in an iterative way. At the end of this \"prototyping\" work, we sometimes want to encapsulate our code from (1) and (2) into a **\"clean\" ML pipeline.** In this unit and the next ones from this Advanced Scikit-learn chapter, we will see tools to achieve this. However, note that it's not required to use those tools - they are only helpful to do this **extra step** of encapsulating the Pandas code from steps (1) and (2) into Scikit-learn objects **at the end of the analysis/prototyping work.** For this reason, this unit and the next ones from this chapter are entirely optional. You can skip those units and start working now on the final course project. When you are happy with your work, you can optionally read this unit and the next ones and think about how you could apply those tools to your analysis. However, this is entirely optional and requires good programming/debugging experience."
   ]
  },
  {
   "cell_type": "code",
   "execution_count": null,
   "id": "034ae688",
   "metadata": {},
   "outputs": [],
   "source": []
  }
 ],
 "metadata": {
  "kernelspec": {
   "display_name": "Python 3",
   "language": "python",
   "name": "python3"
  },
  "language_info": {
   "codemirror_mode": {
    "name": "ipython",
    "version": 3
   },
   "file_extension": ".py",
   "mimetype": "text/x-python",
   "name": "python",
   "nbconvert_exporter": "python",
   "pygments_lexer": "ipython3",
   "version": "3.6.13"
  }
 },
 "nbformat": 4,
 "nbformat_minor": 5
}
