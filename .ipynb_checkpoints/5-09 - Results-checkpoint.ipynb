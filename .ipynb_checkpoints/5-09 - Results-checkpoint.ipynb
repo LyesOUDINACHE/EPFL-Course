{
 "cells": [
  {
   "cell_type": "code",
   "execution_count": 4,
   "id": "786cd123",
   "metadata": {},
   "outputs": [
    {
     "data": {
      "text/html": [
       "<div>\n",
       "<style scoped>\n",
       "    .dataframe tbody tr th:only-of-type {\n",
       "        vertical-align: middle;\n",
       "    }\n",
       "\n",
       "    .dataframe tbody tr th {\n",
       "        vertical-align: top;\n",
       "    }\n",
       "\n",
       "    .dataframe thead th {\n",
       "        text-align: right;\n",
       "    }\n",
       "</style>\n",
       "<table border=\"1\" class=\"dataframe\">\n",
       "  <thead>\n",
       "    <tr style=\"text-align: right;\">\n",
       "      <th></th>\n",
       "      <th>model</th>\n",
       "      <th>test_accuracy</th>\n",
       "    </tr>\n",
       "  </thead>\n",
       "  <tbody>\n",
       "    <tr>\n",
       "      <th>0</th>\n",
       "      <td>KNN</td>\n",
       "      <td>0.920</td>\n",
       "    </tr>\n",
       "    <tr>\n",
       "      <th>1</th>\n",
       "      <td>Decision Tree</td>\n",
       "      <td>0.820</td>\n",
       "    </tr>\n",
       "    <tr>\n",
       "      <th>2</th>\n",
       "      <td>Logistic Regression</td>\n",
       "      <td>0.960</td>\n",
       "    </tr>\n",
       "    <tr>\n",
       "      <th>3</th>\n",
       "      <td>Random Forest</td>\n",
       "      <td>0.900</td>\n",
       "    </tr>\n",
       "    <tr>\n",
       "      <th>4</th>\n",
       "      <td>Linear SVM</td>\n",
       "      <td>0.960</td>\n",
       "    </tr>\n",
       "    <tr>\n",
       "      <th>5</th>\n",
       "      <td>RBF SVM</td>\n",
       "      <td>0.960</td>\n",
       "    </tr>\n",
       "    <tr>\n",
       "      <th>6</th>\n",
       "      <td>1-layer nn</td>\n",
       "      <td>0.940</td>\n",
       "    </tr>\n",
       "    <tr>\n",
       "      <th>7</th>\n",
       "      <td>2-layer nn</td>\n",
       "      <td>0.940</td>\n",
       "    </tr>\n",
       "    <tr>\n",
       "      <th>8</th>\n",
       "      <td>ConvNets</td>\n",
       "      <td>0.597</td>\n",
       "    </tr>\n",
       "  </tbody>\n",
       "</table>\n",
       "</div>"
      ],
      "text/plain": [
       "                 model  test_accuracy\n",
       "0                  KNN          0.920\n",
       "1        Decision Tree          0.820\n",
       "2  Logistic Regression          0.960\n",
       "3        Random Forest          0.900\n",
       "4           Linear SVM          0.960\n",
       "5              RBF SVM          0.960\n",
       "6           1-layer nn          0.940\n",
       "7           2-layer nn          0.940\n",
       "8             ConvNets          0.597"
      ]
     },
     "execution_count": 4,
     "metadata": {},
     "output_type": "execute_result"
    }
   ],
   "source": [
    "import pandas as pd\n",
    "\n",
    "data_df = pd.read_csv('Results.csv')\n",
    "data_df.head(10)"
   ]
  },
  {
   "cell_type": "code",
   "execution_count": 19,
   "id": "9a651350",
   "metadata": {},
   "outputs": [
    {
     "data": {
      "image/png": "[encoded data removed]",
      "text/plain": [
       "<Figure size 432x288 with 1 Axes>"
      ]
     },
     "metadata": {
      "needs_background": "light"
     },
     "output_type": "display_data"
    }
   ],
   "source": [
    "import matplotlib.pyplot as plt\n",
    "\n",
    "plt.bar(data_df['model'],data_df['test_accuracy'])\n",
    "plt.xticks(rotation=45)\n",
    "plt.xlabel(\"Models\")\n",
    "plt.ylabel(\"Prediction Accuracy\")\n",
    "plt.title(\"Prediction Results per model\")\n",
    "\n",
    "\n",
    "plt.show()"
   ]
  },
  {
   "cell_type": "markdown",
   "id": "4e25ec19",
   "metadata": {},
   "source": [
    "# Conclusion\n",
    "\n",
    "We easily notice here the gap between simple models with \"pre-trained\" high-level features and starting from scratch to create and train a model.\n",
    "This course project has been a huge gap in understanding and experimenting on different methods and optimizations. \n",
    "**I feel way better at understanding what's behind the models, features, parameters and hyperparameters**  (even though I still struggle to explain simply to my friends and colleagues what is behind a neural network and how it works..but I guess it will come with time)"
   ]
  },
  {
   "cell_type": "markdown",
   "id": "a4901677",
   "metadata": {},
   "source": [
    "# Check list\n",
    "\n",
    "Important note: Only the last model (i.e. ConvNet) should use the pixel values for computation. All other models, including the PCA exploration at the beginning should be based on the extracted high-level features.\n",
    "\n",
    "Data exploration\n",
    "\n",
    "- [x] Plot images\n",
    "- [x] Scree plot analysis\n",
    "- [x] PCA plot\n",
    "\n",
    "Visual search with k-NN\n",
    "\n",
    "- [x] k-NN performance\n",
    "- [x] 10 nearest neighbors\n",
    "\n",
    "Simple decision trees\n",
    "\n",
    "- [x] Depth of 3\n",
    "- [x] Plot tree\n",
    "- [x] PCA as preprocessing\n",
    "\n",
    "Logistic regression baseline\n",
    "\n",
    "- [x] Logreg performance\n",
    "- [x] CVed grid search\n",
    "- [x] Class probability per image\n",
    "- [x] Relationship between regularization strength and class probability\n",
    "\n",
    "Nonlinear classifiers\n",
    "\n",
    "- [x] RFs performance\n",
    "- [x] Ensemble size effect\n",
    "- [x] Linear, RBF SVMs\n",
    "\n",
    "Dense network\n",
    "\n",
    "- [x] 1-layer\n",
    "- [x] 2-layer\n",
    "\n",
    "Convolutional neural network\n",
    "\n",
    "- [x] ConvNet performance\n",
    "- [x] Describe results"
   ]
  },
  {
   "cell_type": "code",
   "execution_count": null,
   "id": "d1a96190",
   "metadata": {},
   "outputs": [],
   "source": []
  }
 ],
 "metadata": {
  "kernelspec": {
   "display_name": "Python 3",
   "language": "python",
   "name": "python3"
  },
  "language_info": {
   "codemirror_mode": {
    "name": "ipython",
    "version": 3
   },
   "file_extension": ".py",
   "mimetype": "text/x-python",
   "name": "python",
   "nbconvert_exporter": "python",
   "pygments_lexer": "ipython3",
   "version": "3.6.13"
  }
 },
 "nbformat": 4,
 "nbformat_minor": 5
}
