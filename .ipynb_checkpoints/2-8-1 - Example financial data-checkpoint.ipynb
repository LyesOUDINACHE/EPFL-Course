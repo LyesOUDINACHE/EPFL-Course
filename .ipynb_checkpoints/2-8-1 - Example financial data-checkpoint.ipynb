{
 "cells": [
  {
   "cell_type": "markdown",
   "metadata": {},
   "source": [
    "## 06 - Example: financial data"
   ]
  },
  {
   "cell_type": "code",
   "execution_count": null,
   "metadata": {},
   "outputs": [],
   "source": [
    "import pandas as pd\n",
    "data = pd.read_csv('financial_data.csv', index_col='Date')\n",
    "data.index = pd.to_datetime(data.index, format='%d.%m.%y')"
   ]
  },
  {
   "cell_type": "code",
   "execution_count": null,
   "metadata": {},
   "outputs": [],
   "source": [
    "data.head()"
   ]
  },
  {
   "cell_type": "code",
   "execution_count": null,
   "metadata": {},
   "outputs": [],
   "source": [
    "prices = data['Close']"
   ]
  },
  {
   "cell_type": "code",
   "execution_count": null,
   "metadata": {},
   "outputs": [],
   "source": [
    "prices.index"
   ]
  },
  {
   "cell_type": "code",
   "execution_count": null,
   "metadata": {},
   "outputs": [],
   "source": [
    "prices['2012-01-01':'2012-04-01']"
   ]
  },
  {
   "cell_type": "code",
   "execution_count": null,
   "metadata": {},
   "outputs": [],
   "source": [
    "%matplotlib inline\n",
    "import matplotlib.pyplot as plt\n",
    "\n",
    "# Plot the trend and histogram of prices together\n",
    "# initialize two subplots in 1 row and two columns. Also specify the width of each plot\n",
    "fig, ax = plt.subplots(1,2,figsize=(14, 5),gridspec_kw={'width_ratios': [3, 1]})\n",
    "\n",
    "# create the first plot for the prices over time\n",
    "ax[0].set_title('Daily Prices Over Time')\n",
    "ax[0].set_xlabel('Date')\n",
    "ax[0].set_ylabel('Daily Prices')\n",
    "ax[0].plot(prices)\n",
    "for i in [1,20,60,140]:\n",
    "    ax[0].axhline(i,color='r', linewidth=1, linestyle='--')\n",
    "    \n",
    "# create the histogram of prices in the second plot\n",
    "ax[1].set_title('Distribution of Daily Prices')\n",
    "ax[1].set_xlabel('Frequency')\n",
    "ax[1].hist(prices,bins=90,orientation='horizontal')\n",
    "for i in [1,20,60,140]:\n",
    "    ax[1].axhline(i,color='r', linewidth=1, linestyle='--')\n",
    "\n",
    "fig.tight_layout()\n",
    "plt.savefig('THUMB_PRICES.png')\n",
    "plt.show()"
   ]
  },
  {
   "cell_type": "markdown",
   "metadata": {},
   "source": [
    "## 07 - Shifting and computing first differences"
   ]
  },
  {
   "cell_type": "code",
   "execution_count": null,
   "metadata": {},
   "outputs": [],
   "source": [
    "Pt=prices['2019-12-15':'2019-12-30']\n",
    "Pt"
   ]
  },
  {
   "cell_type": "code",
   "execution_count": null,
   "metadata": {},
   "outputs": [],
   "source": [
    "Pt.shift()"
   ]
  },
  {
   "cell_type": "code",
   "execution_count": null,
   "metadata": {},
   "outputs": [],
   "source": [
    "Pt.shift(-1)"
   ]
  },
  {
   "cell_type": "code",
   "execution_count": null,
   "metadata": {},
   "outputs": [],
   "source": [
    "p=pd.concat([Pt.shift(-1),Pt,Pt.shift(1),Pt.shift(2)],axis=1)\n",
    "p.columns=['Pt+1', 'Pt','Pt-1','Pt-2']\n",
    "print(p)"
   ]
  },
  {
   "cell_type": "markdown",
   "metadata": {},
   "source": [
    "#### Visualise effect on the time series"
   ]
  },
  {
   "cell_type": "code",
   "execution_count": null,
   "metadata": {},
   "outputs": [],
   "source": [
    "Pt.plot(figsize=(8, 3), label='original, Pt')\n",
    "Pt.shift(-1,freq='D').plot(figsize=(8, 4), label='backward, Pt+1')\n",
    "Pt.shift(1,freq='D').plot(figsize=(8, 4), label='forward, Pt-1')\n",
    "plt.legend()\n",
    "plt.show()"
   ]
  },
  {
   "cell_type": "markdown",
   "metadata": {},
   "source": [
    "### Example - Analyzing the first difference"
   ]
  },
  {
   "cell_type": "code",
   "execution_count": null,
   "metadata": {},
   "outputs": [],
   "source": [
    "# Compute first difference\n",
    "diff = prices - prices.shift(1)\n",
    "\n",
    "# Plot the results\n",
    "\n",
    "plt.subplot(121)\n",
    "diff.plot(figsize=(15, 4))\n",
    "plt.title('Daily changes plotted over time')\n",
    "plt.ylabel('Day-to-day change ($)')\n",
    "\n",
    "plt.subplot(122)\n",
    "diff.hist(figsize=(15, 4),bins=100, grid=False)\n",
    "plt.title('Distribution of Daily Changes')\n",
    "plt.xlabel('Day-to-day change ($)')\n",
    "\n",
    "plt.show()"
   ]
  },
  {
   "cell_type": "code",
   "execution_count": null,
   "metadata": {},
   "outputs": [],
   "source": [
    "# Compute daily returns: divide the first difference by the price in the previous day\n",
    "daily_percentage_change = 100*diff/prices.shift(1)\n",
    "\n",
    "# drop the first value which is NaN\n",
    "daily_percentage_change.dropna(inplace=True)\n",
    "\n",
    "# Plot the results and original prices together\n",
    "# initialize two subplots in 1 row and two columns. Also specify the width of each plot\n",
    "fig, ax1 = plt.subplots(1,2,figsize=(14, 4),gridspec_kw={'width_ratios': [3, 1]})\n",
    "\n",
    "# subplot for daily_percentage_change\n",
    "color = 'tab:blue'\n",
    "ax1[0].set_xlabel('Date')\n",
    "ax1[0].set_ylabel('Daily returns (%)', color=color)\n",
    "ax1[0].plot(daily_percentage_change, color=color)\n",
    "ax1[0].tick_params(axis='y', labelcolor=color)\n",
    "\n",
    "# Create twin axes, so they can share the same xaxis, i.e. Dates\n",
    "ax2 = ax1[0].twinx() \n",
    "\n",
    "# daily prices on the same subplot\n",
    "color = 'tab:red'\n",
    "ax2.set_ylabel('Daily Prices', color=color)\n",
    "ax2.plot(prices, color=color)\n",
    "ax2.tick_params(axis='y', labelcolor=color)\n",
    "\n",
    "plt.title('Daily Returns and Prices')\n",
    " \n",
    "# create the second subplot which is the histogram of daily_percentage_change\n",
    "ax1[1].hist(daily_percentage_change,bins=100,orientation='horizontal')\n",
    "ax1[1].set_title('Distribution of Daily Returns')\n",
    "\n",
    "fig.tight_layout()\n",
    "plt.show()"
   ]
  },
  {
   "cell_type": "markdown",
   "metadata": {},
   "source": [
    "### Example - Return of investment"
   ]
  },
  {
   "cell_type": "code",
   "execution_count": null,
   "metadata": {},
   "outputs": [],
   "source": [
    "# Net profit over a year (in working days)\n",
    "net_profit = prices-prices.shift(260)\n",
    "\n",
    "# Return on Investment\n",
    "roi = 100*net_profit/prices.shift(260)  \n",
    "\n",
    "# Plot result\n",
    "roi['2019-09-01':'2020-08-28'].plot(figsize=(8, 4))\n",
    "plt.ylabel('Return on Investment')\n",
    "plt.show()"
   ]
  },
  {
   "cell_type": "markdown",
   "metadata": {},
   "source": [
    "### Appendix"
   ]
  },
  {
   "cell_type": "code",
   "execution_count": null,
   "metadata": {},
   "outputs": [],
   "source": [
    "Pt.diff(1)"
   ]
  },
  {
   "cell_type": "code",
   "execution_count": null,
   "metadata": {},
   "outputs": [],
   "source": [
    "Pt-Pt.shift(1)"
   ]
  },
  {
   "cell_type": "code",
   "execution_count": null,
   "metadata": {},
   "outputs": [],
   "source": [
    "Pt"
   ]
  },
  {
   "cell_type": "code",
   "execution_count": null,
   "metadata": {},
   "outputs": [],
   "source": [
    "Pt.shift(1)"
   ]
  },
  {
   "cell_type": "code",
   "execution_count": null,
   "metadata": {},
   "outputs": [],
   "source": [
    "Pt.shift(1, freq='B')"
   ]
  },
  {
   "cell_type": "code",
   "execution_count": null,
   "metadata": {},
   "outputs": [],
   "source": [
    "data=[1,2,'t',4]\n",
    "indices=[4, 'Tokyo', 'blue', 'dog']\n",
    "s=pd.Series(data, indices)\n",
    "s"
   ]
  },
  {
   "cell_type": "code",
   "execution_count": null,
   "metadata": {},
   "outputs": [],
   "source": [
    "s.shift(1)"
   ]
  },
  {
   "cell_type": "markdown",
   "metadata": {},
   "source": [
    "## 08 - Resampling and converting frequencies"
   ]
  },
  {
   "cell_type": "code",
   "execution_count": null,
   "metadata": {},
   "outputs": [],
   "source": [
    "# Create the figure\n",
    "plt.figure(figsize=(8, 4))\n",
    "\n",
    "# Plot the prices\n",
    "prices.plot(alpha=0.5)\n",
    "\n",
    "# Downsampling - end of business year\n",
    "# Variant 1: using resample()\n",
    "prices.resample('BA').mean().plot()\n",
    "\n",
    "# Variant 2: using asfreq()\n",
    "prices.asfreq('BA').plot()\n",
    "\n",
    "plt.legend(['prices', 'resample', 'asfreq'], loc='upper left')\n",
    "plt.show()"
   ]
  },
  {
   "cell_type": "code",
   "execution_count": null,
   "metadata": {},
   "outputs": [],
   "source": [
    "# Create the figure\n",
    "plt.figure(figsize=(8, 4))\n",
    "\n",
    "# Upsampling\n",
    "# \"backward fill\" - fill missing with the closest value on the right\n",
    "prices.asfreq('D', method='bfill')[0:100].plot(alpha=0.5)\n",
    "\n",
    "# \"forward fill\" - fill missing with the closest value on the left\n",
    "prices.asfreq('D', method='ffill')[0:100].plot(alpha=0.5)\n",
    "\n",
    "plt.legend(['bfill', 'ffill'], loc='upper left')\n",
    "plt.show()"
   ]
  },
  {
   "cell_type": "code",
   "execution_count": null,
   "metadata": {},
   "outputs": [],
   "source": [
    "from scipy.stats import skew,kurtosis\n",
    "import numpy as np\n",
    "# calculate skewness and kurtosis for the resampled data \n",
    "s,k=[],[]\n",
    "for resamp in ['B','W','M','Q']:\n",
    "    s.append(skew(prices.pct_change().resample(resamp).mean().dropna()))\n",
    "    k.append(kurtosis(prices.pct_change().resample(resamp).mean().dropna()))"
   ]
  },
  {
   "cell_type": "code",
   "execution_count": null,
   "metadata": {},
   "outputs": [],
   "source": [
    "fig, axes = plt.subplots(nrows=2, ncols=2, figsize=(14, 10), gridspec_kw={'hspace': 0.35, 'wspace': 0.3})\n",
    "\n",
    "for (ax,resamp,freq,n_bin,i) in zip(axes.flatten(),\n",
    "                                    ['B','W','M','Q'],                               \n",
    "                                    ['Daily','Weekly','Monthly','Quarterly'],\n",
    "                                    [96,44,21,12],\n",
    "                                    [0,1,2,3]\n",
    "                                   ):\n",
    "    \n",
    "    ax.hist(100*prices.pct_change().resample(resamp).mean(), n_bin)\n",
    "    \n",
    "    ax.set(xlabel = freq+' Price Changes (%)', \n",
    "           ylabel = 'Frequency',\n",
    "           title  = 'skewness {:.2f}'.format(s[i])+\n",
    "                    ', kurtosis {:.1f}'.format(3+k[i])\n",
    "          )\n",
    "plt.show()"
   ]
  },
  {
   "cell_type": "markdown",
   "metadata": {},
   "source": [
    "## 09 - Rollings windows"
   ]
  },
  {
   "cell_type": "code",
   "execution_count": null,
   "metadata": {},
   "outputs": [],
   "source": [
    "# Compute rolling mean and std\n",
    "rolling_mean_1year = prices.rolling(260, center=True).mean()\n",
    "rolling_std_1year = prices.rolling(260, center=True).std()\n",
    "\n",
    "#Setup plot\n",
    "fig, axes = plt.subplots(2, sharex=False, gridspec_kw={\"height_ratios\": (0.5, 0.5)}, figsize=(10,8))\n",
    "\n",
    "# Plot rolling mean and std\n",
    "axes[0].set_title('Rolling mean and standard deviation')\n",
    "axes[0].plot(prices, alpha=0.5)\n",
    "axes[0].plot(rolling_mean_1year, label='rolling mean')\n",
    "axes[0].legend()\n",
    "axes[1].plot(rolling_std_1year, c='red', label='rolling std')\n",
    "axes[1].legend()\n",
    "plt.show()"
   ]
  },
  {
   "cell_type": "markdown",
   "metadata": {},
   "source": [
    "### Using rolling windows to detect outliers in time series"
   ]
  },
  {
   "cell_type": "code",
   "execution_count": null,
   "metadata": {},
   "outputs": [],
   "source": [
    "def detect_outliers_rolling(timeseries, days=10, n_std=2, center=False):\n",
    "\n",
    "    rolling_mean = timeseries.rolling(window=days, center=center).mean()\n",
    "    rolling_std = timeseries.rolling(window=days, center=center).std()\n",
    "    lower_bound = rolling_mean - (n_std * rolling_std)\n",
    "    upper_bound = rolling_mean + (n_std * rolling_std)\n",
    "\n",
    "    # Identify outliers\n",
    "    mask = (timeseries < lower_bound) | (timeseries > upper_bound)\n",
    "    mask.sum()\n",
    "    outliers = timeseries[mask]\n",
    "\n",
    "    # Plot bounds and outliers\n",
    "    plt.figure(figsize=(12, 6))\n",
    "    plt.plot(timeseries, \"lightblue\", label=\"Time series\")\n",
    "    plt.plot(rolling_mean, \"orange\", label=\"Rolling mean\")\n",
    "    plt.plot(upper_bound, \"r--\", label=\"Bounds\", alpha=0.5)\n",
    "    plt.plot(lower_bound, \"r--\", label=\"\", alpha=0.5)\n",
    "    plt.plot(outliers, \"ro\", markersize=5, label=\"Outlier candidate\")\n",
    "    plt.legend(loc=\"best\")\n",
    "    plt.grid(True)\n",
    "    plt.title(\n",
    "        \"{} outliers detected using a moving window of size = {}\".format(\n",
    "            len(outliers), days\n",
    "        )\n",
    "    )\n",
    "    plt.show()"
   ]
  },
  {
   "cell_type": "code",
   "execution_count": null,
   "metadata": {},
   "outputs": [],
   "source": [
    "detect_outliers_rolling(prices['2002':'2004'], days=20, n_std=3, center=False)"
   ]
  }
 ],
 "metadata": {
  "kernelspec": {
   "display_name": "Python 3",
   "language": "python",
   "name": "python3"
  },
  "language_info": {
   "codemirror_mode": {
    "name": "ipython",
    "version": 3
   },
   "file_extension": ".py",
   "mimetype": "text/x-python",
   "name": "python",
   "nbconvert_exporter": "python",
   "pygments_lexer": "ipython3",
   "version": "3.6.11"
  }
 },
 "nbformat": 4,
 "nbformat_minor": 4
}
