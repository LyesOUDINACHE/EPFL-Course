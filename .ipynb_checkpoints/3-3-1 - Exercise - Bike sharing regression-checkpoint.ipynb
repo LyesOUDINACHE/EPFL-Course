{
 "cells": [
  {
   "cell_type": "markdown",
   "metadata": {},
   "source": [
    "Bike sharing linear regression\n",
    "---"
   ]
  },
  {
   "cell_type": "markdown",
   "metadata": {},
   "source": [
    "Exercise - Load train/test sets & remove collinear features\n",
    "---\n",
    "\n",
    "> **Exercise**: Load the train/test sets into the `X_tr`, `y_tr`, `X_te` and `y_te` variables. Remove features that make the `X_tr` matrix, with the additional column of ones, rank deficient. Also, you might want to remove nearly collinear features if they hurt performance.\n",
    "\n",
    "**Self-assessment**: Verify that the `X_tr` matrix with the additional column of ones has full rank. Compute its condition number."
   ]
  },
  {
   "cell_type": "code",
   "execution_count": 38,
   "metadata": {},
   "outputs": [],
   "source": [
    "import pandas as pd\n",
    "import os\n",
    "import numpy as np\n",
    "from scipy.linalg import lstsq\n",
    "from sklearn.metrics import r2_score\n",
    "from sklearn.linear_model import HuberRegressor\n",
    "from sklearn.linear_model import SGDRegressor\n",
    "import matplotlib.pyplot as plt\n",
    "\n",
    "# Load data sets\n",
    "train_df = pd.read_csv('bike-train.csv')\n",
    "test_df =  pd.read_csv('bike-test.csv')\n",
    "\n",
    "# Extract X/y Numpy variables\n",
    "X_tr = train_df.drop('casual', axis=1).values\n",
    "y_tr = train_df.casual.values\n",
    "\n",
    "X_te = test_df.drop('casual', axis=1).values\n",
    "y_te = test_df.casual.values\n",
    "\n"
   ]
  },
  {
   "cell_type": "code",
   "execution_count": 56,
   "metadata": {},
   "outputs": [
    {
     "name": "stdout",
     "output_type": "stream",
     "text": [
      "Rank : 7 Columns: 7\n",
      "Condition number: 22.000828462946885\n"
     ]
    }
   ],
   "source": [
    "# Verify that X_tr with the additional column of ones has full rank\n",
    "# Remove collinear features\n",
    "features = [\n",
    "    'temp', 'hum', 'windspeed', 'yr', 'workingday', 'holiday', \n",
    "    #'atemp', # Nearly collinear column, may hurt performance\n",
    "    #'temp_C', 'atemp_C' # Collinear columns\n",
    "]\n",
    "# Note: You could use atemp instead of temp.\n",
    "X_tr=train_df[features]\n",
    "\n",
    "X_tr = np.c_[np.ones(X_tr.shape[0]), X_tr]\n",
    "rank = np.linalg.matrix_rank(X_tr)\n",
    "print('Rank :',rank, 'Columns:', X_tr.shape[1])\n",
    "\n",
    "# Compute its condition number\n",
    "# Condition number\n",
    "cn = np.linalg.cond(X_tr)\n",
    "print('Condition number:', cn)\n"
   ]
  },
  {
   "cell_type": "code",
   "execution_count": 57,
   "metadata": {},
   "outputs": [],
   "source": [
    "# Extract X/y Numpy variables\n",
    "X_tr = train_df[features].values\n",
    "y_tr = train_df.casual.values\n",
    "\n",
    "X_te = test_df[features].values\n",
    "y_te = test_df.casual.values"
   ]
  },
  {
   "cell_type": "markdown",
   "metadata": {},
   "source": [
    "Exercise - Fit a linear regression model\n",
    "---\n",
    "\n",
    "> **Exercise**: (A) Fit a linear regression model to the `X_tr`, `y_tr` variables. Evaluate its performance on the test set using the mean absolute error (MAE). (B) Also, try fitting a linear regression with the Huber loss. (C) Pick one feature (e.g., temperatures) and plot the predictions from your best model (e.g., temperature vs. casual users plot).\n",
    "\n",
    "**Note**: Your models might predict a negative number of users. In this case, you might want to set a lower limit with the Numpy `maximum()` function to improve performance, e.g. `y_pred = np.maximum(y_pred, 50)`."
   ]
  },
  {
   "cell_type": "code",
   "execution_count": 53,
   "metadata": {},
   "outputs": [],
   "source": [
    "# Compare models with mean absolute error (MAE)\n",
    "def MAE(y, y_pred):\n",
    "    return np.mean(np.abs(y - y_pred))"
   ]
  },
  {
   "cell_type": "code",
   "execution_count": 63,
   "metadata": {},
   "outputs": [
    {
     "name": "stdout",
     "output_type": "stream",
     "text": [
      "MAE linear regression: 284.996\n",
      "MAE Huber: 273.012\n"
     ]
    },
    {
     "data": {
      "text/plain": [
       "<matplotlib.collections.PathCollection at 0x9a1a68ef98>"
      ]
     },
     "execution_count": 63,
     "metadata": {},
     "output_type": "execute_result"
    },
    {
     "data": {
      "image/png": "[encoded data removed]",
      "text/plain": [
       "<Figure size 432x288 with 1 Axes>"
      ]
     },
     "metadata": {
      "needs_background": "light"
     },
     "output_type": "display_data"
    }
   ],
   "source": [
    "# (A) Fit and evaluate a linear regression model\n",
    "lr_sgd = SGDRegressor(\n",
    "    loss='squared_loss', # Cost function\n",
    "    penalty='none', # Add a penalty term?\n",
    "    max_iter=1000, # Number of iterations\n",
    "    random_state=0, # The implementation shuffles the data\n",
    "    tol=1e-3 # Tolerance for improvement (stop SGD once loss is below)\n",
    ")\n",
    "# Fit the linear regression model\n",
    "lr_sgd.fit(X_tr, y_tr)\n",
    "y_pred_lr = np.maximum(\n",
    "    lr_sgd.predict(X_te), # Predictions for test data\n",
    "    50 # Set a lower limit\n",
    ")\n",
    "mae_lr = MAE(y_te, y_pred_lr)\n",
    "print('MAE linear regression: {:.3f}'.format(mae_lr))\n",
    "\n",
    "# (B) Same with Huber loss\n",
    "# Create the estimator\n",
    "huber = HuberRegressor(epsilon=1.35)\n",
    "\n",
    "# Fit it to X,y\n",
    "huber.fit(X_tr, y_tr)\n",
    "y_pred_huber = np.maximum(\n",
    "    huber.predict(X_te), # Predictions for test data\n",
    "    50 # set a lower limit\n",
    ")\n",
    "mae_huber = MAE(y_te, y_pred_huber)\n",
    "print('MAE Huber: {:.3f}'.format(mae_huber))\n",
    "# (C) Plot best model\n",
    "plt.scatter(X_tr[:,0],y_tr)"
   ]
  },
  {
   "cell_type": "markdown",
   "metadata": {},
   "source": [
    "Exercise - Separate sources and fit two linear regressions\n",
    "---\n",
    "\n",
    "We saw in the course that we can identify two sources in the data.\n",
    "\n",
    "1. Data points collected during working days\n",
    "1. Data points collected during non-working days\n",
    "\n",
    "The goal of this exercise is to create a model for each source and see whether this improves performance.\n",
    "\n",
    "> **Exercise**: Create a model for each source and evaluate the overall performance on the test set using MAE. Compare your models to a baseline using a bar chart."
   ]
  },
  {
   "cell_type": "code",
   "execution_count": null,
   "metadata": {},
   "outputs": [],
   "source": [
    "# Separate data points from the two sources\n",
    "...\n",
    "\n",
    "# Create a model for each one\n",
    "...\n",
    "\n",
    "# Evaluate the overall performance using MAE\n",
    "..."
   ]
  },
  {
   "cell_type": "code",
   "execution_count": null,
   "metadata": {},
   "outputs": [],
   "source": [
    "# Compare your models to a baseline using a bar chart\n",
    "..."
   ]
  },
  {
   "cell_type": "markdown",
   "metadata": {},
   "source": [
    "Exercise - R^2 coefficient\n",
    "---\n",
    "\n",
    "> **Exercise**: Compute the $R^{2}$ coefficient of your different models on the test set."
   ]
  },
  {
   "cell_type": "code",
   "execution_count": null,
   "metadata": {},
   "outputs": [],
   "source": [
    "..."
   ]
  }
 ],
 "metadata": {
  "kernelspec": {
   "display_name": "Python 3",
   "language": "python",
   "name": "python3"
  },
  "language_info": {
   "codemirror_mode": {
    "name": "ipython",
    "version": 3
   },
   "file_extension": ".py",
   "mimetype": "text/x-python",
   "name": "python",
   "nbconvert_exporter": "python",
   "pygments_lexer": "ipython3",
   "version": "3.6.12"
  }
 },
 "nbformat": 4,
 "nbformat_minor": 4
}
