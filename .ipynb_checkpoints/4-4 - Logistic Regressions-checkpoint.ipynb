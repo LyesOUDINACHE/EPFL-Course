{
 "cells": [
  {
   "cell_type": "markdown",
   "id": "d3412277",
   "metadata": {},
   "source": [
    "# Logistic Regressions \n",
    "\n",
    "In a binary classification setting, we have a \"positive\" and a \"negative\" class, and we want to build a classifier that detects positive entries. One way to achieve this is to use numerical values to encode the two categories and fit a linear regression. For instance, we can encode negative entries with a 0 and positive ones with a 1 and then predict the positive class if our linear regression predicts a value above 0.5.\n",
    "\n",
    "The idea is a bit similar in logistic regressions. Instead of using a threshold, we convert the output of the linear regression model into probabilities using the logistic function, also **called sigmoid function**\n",
    "\n",
    "$σ(x)=1 / (1+e−x)$\n",
    "\n",
    "This function associates large negative values \n",
    "x\n",
    " with probabilities close to zero and large positive ones with probabilities close to one. Here is a plot of the function for \n",
    "x\n",
    " values between -6 and 6"
   ]
  },
  {
   "cell_type": "code",
   "execution_count": 1,
   "id": "51fca89e",
   "metadata": {},
   "outputs": [],
   "source": [
    "from IPython.display import Image"
   ]
  },
  {
   "cell_type": "code",
   "execution_count": 2,
   "id": "dc8adc7d",
   "metadata": {},
   "outputs": [
    {
     "data": {
      "text/html": [
       "<img src=\"https://d7whxh71cqykp.cloudfront.net/uploads/image/data/3865/sigmoid.svg\"/>"
      ],
      "text/plain": [
       "<IPython.core.display.Image object>"
      ]
     },
     "execution_count": 2,
     "metadata": {},
     "output_type": "execute_result"
    }
   ],
   "source": [
    "Image(url='https://d7whxh71cqykp.cloudfront.net/uploads/image/data/3865/sigmoid.svg')"
   ]
  },
  {
   "cell_type": "markdown",
   "id": "17f4e124",
   "metadata": {},
   "source": [
    "The idea is to use this sigmoid function to compute the probability of being in the positive class. We can express this using the following formula.\n",
    "\n",
    "$p(y=1|x) = σ(f(x))$\n",
    "\n",
    "The probability that the target y is one (positive class) given its input value x is equal to the value of the sigmoid function at f(x) which corresponds to the output of our linear regression model. There are three cases.\n",
    "\n",
    "* p < 0.5 when the linear regression outputs a negative value.\n",
    "* p>0.5 when the output is positive.\n",
    "* p = 0.5 when f(x)=0\n",
    "\n",
    "In other words, the output of the linear regression $f(x)$ (called the logit) controls the uncertainty of the logistic regression model. Note that the probability of the negative class is simply one minus this probability.\n",
    "\n"
   ]
  },
  {
   "cell_type": "markdown",
   "id": "4c2ced4b",
   "metadata": {},
   "source": [
    "The equation from above is the equation of the logistic regression model - it tells us how to compute predictions for new data points \n",
    "x\n",
    ", but not how to find the model coefficients.\n",
    "\n",
    "We won't go into the details in this course, but in short, instead of minimizing the least squares, logistic regressions minimize the **cross-entropy (CE)** loss function that we can derive by computing the **maximum likelihood estimation (MLE)**. You can take a look at this video which shows how to apply MLE to derive the loss function. Once we have this loss function, we can optimize it using the usual algorithms ex. gradient descent.\n",
    "\n",
    "Let's see how to implement logistic regressions using Scikit-learn."
   ]
  },
  {
   "cell_type": "markdown",
   "id": "772e4b0d",
   "metadata": {},
   "source": [
    "### Iris data set\n",
    "We will use the iris data set to illustrate logistic regressions. It's a set of 150 petal/sepal width and length measurements from iris flowers of three different types: setosa, versicolor and virginica.\n",
    "\n",
    "We can load it using the load_iris() function from the Scikit-learn datasets module."
   ]
  },
  {
   "cell_type": "code",
   "execution_count": 1,
   "id": "5b43f036",
   "metadata": {},
   "outputs": [
    {
     "name": "stdout",
     "output_type": "stream",
     "text": [
      "Type: <class 'sklearn.utils.Bunch'>\n"
     ]
    }
   ],
   "source": [
    "from sklearn import datasets\n",
    "\n",
    "# Load data set\n",
    "iris = datasets.load_iris()\n",
    "\n",
    "print('Type:', type(iris)) "
   ]
  },
  {
   "cell_type": "markdown",
   "id": "3715480c",
   "metadata": {},
   "source": [
    "The function returns a Bunch object that we can use as a dictionary. Let's take a look at its keys"
   ]
  },
  {
   "cell_type": "code",
   "execution_count": 2,
   "id": "475d032d",
   "metadata": {},
   "outputs": [
    {
     "data": {
      "text/plain": [
       "dict_keys(['data', 'target', 'target_names', 'DESCR', 'feature_names', 'filename'])"
      ]
     },
     "execution_count": 2,
     "metadata": {},
     "output_type": "execute_result"
    }
   ],
   "source": [
    "# Inspect object\n",
    "iris.keys()"
   ]
  },
  {
   "cell_type": "markdown",
   "id": "7c80a309",
   "metadata": {},
   "source": [
    "The dictionary has five entries\n",
    "\n",
    "* data - the input matrix\n",
    "* target - the target vector\n",
    "* target_names - the name of the categories\n",
    "* DESCR - a description of the data set\n",
    "* feature_names - the name of the features\n",
    "Let's take a look at the feature names\n",
    "\n"
   ]
  },
  {
   "cell_type": "code",
   "execution_count": 3,
   "id": "b65dda3a",
   "metadata": {},
   "outputs": [
    {
     "data": {
      "text/plain": [
       "['sepal length (cm)',\n",
       " 'sepal width (cm)',\n",
       " 'petal length (cm)',\n",
       " 'petal width (cm)']"
      ]
     },
     "execution_count": 3,
     "metadata": {},
     "output_type": "execute_result"
    }
   ],
   "source": [
    "# Get feature names\n",
    "iris.feature_names"
   ]
  },
  {
   "cell_type": "markdown",
   "id": "b0f7a3ae",
   "metadata": {},
   "source": [
    "There are four features in total. Each one corresponds to a column in the data input matrix. The target values are encoded with numbers between 0 and 2. Let's count the number of values in each category"
   ]
  },
  {
   "cell_type": "code",
   "execution_count": 4,
   "id": "cc53e13c",
   "metadata": {},
   "outputs": [
    {
     "data": {
      "text/plain": [
       "2    50\n",
       "1    50\n",
       "0    50\n",
       "dtype: int64"
      ]
     },
     "execution_count": 4,
     "metadata": {},
     "output_type": "execute_result"
    }
   ],
   "source": [
    "import pandas as pd\n",
    "\n",
    "# Category distribution\n",
    "pd.value_counts(iris['target'])"
   ]
  },
  {
   "cell_type": "markdown",
   "id": "b5ec3ee3",
   "metadata": {},
   "source": [
    "There are 50 flowers per type. These numerical labels correspond to the indexes of the target names in the target_names list"
   ]
  },
  {
   "cell_type": "code",
   "execution_count": 5,
   "id": "9ebc5bbe",
   "metadata": {},
   "outputs": [
    {
     "name": "stdout",
     "output_type": "stream",
     "text": [
      "Target names: ['setosa' 'versicolor' 'virginica']\n"
     ]
    }
   ],
   "source": [
    "# Categories\n",
    "print('Target names:', iris.target_names)"
   ]
  },
  {
   "cell_type": "markdown",
   "id": "2bc2408e",
   "metadata": {},
   "source": [
    "In this unit, we will create a binary classifier that recognizes setosa flowers. Hence, we need to create a target vector y that encodes positive entries (setosa) with ones and negative entries (versicolor and virginica) with zeros"
   ]
  },
  {
   "cell_type": "code",
   "execution_count": 6,
   "id": "c6a648c1",
   "metadata": {},
   "outputs": [],
   "source": [
    "# Create the binary target vector\n",
    "y = (iris['target'] == 0).astype(int)"
   ]
  },
  {
   "cell_type": "markdown",
   "id": "612a5141",
   "metadata": {},
   "source": [
    "In this code, we create an array of boolean values where True denotes the positive class and False the negative one. We then convert the boolean values into zeros and ones using the astype(int) function.\n",
    "\n",
    "In this example, we will only work with the petal features, i.e., petal width and petal length. They correspond to the columns with indices 2 and 3 according to the feature_names list from above. Let's create the input matrix"
   ]
  },
  {
   "cell_type": "code",
   "execution_count": 7,
   "id": "8aa10204",
   "metadata": {},
   "outputs": [],
   "source": [
    "# Create the input matrix\n",
    "X = iris['data'] # Get matrix with all features\n",
    "X = X[:, [2, 3]] # Keep only petal features"
   ]
  },
  {
   "cell_type": "code",
   "execution_count": 8,
   "id": "9cde2af5",
   "metadata": {},
   "outputs": [
    {
     "data": {
      "image/png": "[encoded data removed]",
      "text/plain": [
       "<Figure size 432x288 with 1 Axes>"
      ]
     },
     "metadata": {
      "needs_background": "light"
     },
     "output_type": "display_data"
    }
   ],
   "source": [
    "%matplotlib inline\n",
    "import matplotlib.pyplot as plt\n",
    "\n",
    "# Plot data points\n",
    "setosa_idx = (y == 1) # setosa data points\n",
    "\n",
    "plt.scatter(X[:, 0][setosa_idx], X[:, 1][setosa_idx],\n",
    "    color='C3', label='setosa') # Setosa\n",
    "plt.scatter(X[:, 0][~setosa_idx], X[:, 1][~setosa_idx],\n",
    "    color='C0', label='other') # Versicolor and virginica\n",
    "\n",
    "# Set labels\n",
    "plt.xlabel('petal length (cm)')\n",
    "plt.ylabel('petal width (cm)')\n",
    "plt.legend()\n",
    "plt.show()"
   ]
  },
  {
   "cell_type": "markdown",
   "id": "d64c7d40",
   "metadata": {},
   "source": [
    "In this code, we create a setosa_idx list where True entries correspond to setosa flowers. We can then use this list of booleans to separate and plot the two categories with different colors. You should get the following result.\n",
    "\n",
    "As we can see, there is a clear separation between the two classes. In this case, we say that the data is linearly separable because it's possible to draw a line (or a hyperplane in higher dimensions) that separates the different categories.\n",
    "\n",
    "Let's see how to separate these two classes using logistic regressions."
   ]
  },
  {
   "cell_type": "markdown",
   "id": "630c7528",
   "metadata": {},
   "source": [
    "### Scikit-learn implementation"
   ]
  },
  {
   "cell_type": "code",
   "execution_count": 9,
   "id": "32f832ab",
   "metadata": {},
   "outputs": [],
   "source": [
    "from sklearn.model_selection import train_test_split\n",
    "\n",
    "# Split into train/test sets\n",
    "X_tr, X_te, y_tr, y_te = train_test_split(\n",
    "    X, y, test_size=0.3, random_state=0)"
   ]
  },
  {
   "cell_type": "markdown",
   "id": "9837bce5",
   "metadata": {},
   "source": [
    "Scikit-learn implements a LogisticRegression object which follows the standard estimator API. To avoid any issue with the features scale, let's encapsulate the estimator in a pipeline with a StandardScaler"
   ]
  },
  {
   "cell_type": "code",
   "execution_count": 10,
   "id": "071a9bef",
   "metadata": {},
   "outputs": [
    {
     "name": "stderr",
     "output_type": "stream",
     "text": [
      "C:\\Users\\lyeso\\anaconda3\\envs\\exts-ml\\lib\\site-packages\\sklearn\\linear_model\\logistic.py:433: FutureWarning: Default solver will be changed to 'lbfgs' in 0.22. Specify a solver to silence this warning.\n",
      "  FutureWarning)\n"
     ]
    }
   ],
   "source": [
    "from sklearn.linear_model import LogisticRegression\n",
    "from sklearn.preprocessing import StandardScaler\n",
    "from sklearn.pipeline import make_pipeline\n",
    "\n",
    "# Create the estimator\n",
    "logreg = make_pipeline(StandardScaler(), LogisticRegression())\n",
    "\n",
    "# Fit it to train data\n",
    "logreg.fit(X_tr, y_tr);"
   ]
  },
  {
   "cell_type": "markdown",
   "id": "f79a9a35",
   "metadata": {},
   "source": [
    "cikit-learn returns a FutureWarning to warn us that the default algorithm which finds the coefficients of our logistic regression will be changed in a next version of the library.\n",
    "\n",
    "Let's fix the warning by specifying the solver. The LogisticRegression documentation recommends using the liblinear one for small data sets.\n",
    "https://scikit-learn.org/stable/modules/generated/sklearn.linear_model.LogisticRegression.html\n",
    "\n",
    "Let's try it "
   ]
  },
  {
   "cell_type": "code",
   "execution_count": 11,
   "id": "a5e37765",
   "metadata": {},
   "outputs": [
    {
     "name": "stdout",
     "output_type": "stream",
     "text": [
      "Accuracy: 1.000\n"
     ]
    }
   ],
   "source": [
    "# Create the estimator\n",
    "logreg = make_pipeline(\n",
    "    StandardScaler(), LogisticRegression(solver='liblinear'))\n",
    "\n",
    "# Fit it to train data\n",
    "logreg.fit(X_tr, y_tr)\n",
    "\n",
    "# Accuracy on test set\n",
    "accuracy = logreg.score(X_te, y_te)\n",
    "print('Accuracy: {:.3f}'.format(accuracy))"
   ]
  },
  {
   "cell_type": "markdown",
   "id": "30a9f97d",
   "metadata": {},
   "source": [
    "Our classifier labels the new data point with a one (positive class) which means that it's likely a setosa flower. We can obtain the probabilities from the sigmoid with predict_proba()"
   ]
  },
  {
   "cell_type": "code",
   "execution_count": 13,
   "id": "0afaa602",
   "metadata": {},
   "outputs": [
    {
     "data": {
      "text/plain": [
       "array([1])"
      ]
     },
     "execution_count": 13,
     "metadata": {},
     "output_type": "execute_result"
    }
   ],
   "source": [
    "# New flower\n",
    "new_flower = [\n",
    "    1.5, # petal length (cm)\n",
    "    0.3, # petal width (cm)\n",
    "]\n",
    "\n",
    "# Classify it\n",
    "logreg.predict([new_flower])\n"
   ]
  },
  {
   "cell_type": "markdown",
   "id": "788bebb5",
   "metadata": {},
   "source": [
    "Our classifier labels the new data point with a one (positive class) which means that it's likely a setosa flower. We can obtain the probabilities from the sigmoid with predict_proba()"
   ]
  },
  {
   "cell_type": "code",
   "execution_count": 14,
   "id": "31dab1d5",
   "metadata": {},
   "outputs": [
    {
     "data": {
      "text/plain": [
       "array([[0.05238258, 0.94761742]])"
      ]
     },
     "execution_count": 14,
     "metadata": {},
     "output_type": "execute_result"
    }
   ],
   "source": [
    "# Get probabilities\n",
    "logreg.predict_proba([new_flower])"
   ]
  },
  {
   "cell_type": "markdown",
   "id": "c68299bf",
   "metadata": {},
   "source": [
    "The function returns the probability for each category. In our case, we get two probabilities. The first one corresponds to the negative class and the second one to the positive class. **According to our classifier, the new data point is a setosa flower with probability 0.95.**\n",
    "\n",
    "Note that we can use this function to **visualize the decision surface of our classifier** and draw the boundary that delimits the two classes by marking points with \n",
    "p\n",
    "=\n",
    "0.5\n",
    ". We provide a decision_surface(X, y, logreg) function in the annex. In short, the function creates a grid of data points in the range of our X/y values and evaluates their probability using our logreg estimator."
   ]
  },
  {
   "cell_type": "code",
   "execution_count": 16,
   "id": "87ff2c98",
   "metadata": {},
   "outputs": [],
   "source": [
    "import numpy as np\n",
    "\n",
    "# Helper function\n",
    "def decision_surface(ax, X, y, logreg):\n",
    "    # Plot data points\n",
    "    setosa_idx = (y == 1) # Setosa data points\n",
    "\n",
    "    plt.scatter(X[:, 0][setosa_idx], X[:, 1][setosa_idx],\n",
    "        color='C3', label='setosa') # Setosa\n",
    "    plt.scatter(X[:, 0][~setosa_idx], X[:, 1][~setosa_idx],\n",
    "        color='C0', label='other') # Versicolor and virginica\n",
    "\n",
    "    # Create a grid of values\n",
    "    xlim, ylim = ax.get_xlim(), ax.get_ylim()\n",
    "    x_values = np.linspace(*xlim, num=40)\n",
    "    y_values = np.linspace(*ylim, num=40)\n",
    "    xx, yy = np.meshgrid(x_values, y_values)\n",
    "    points = np.c_[xx.flatten(), yy.flatten()]\n",
    "\n",
    "    # Probability for positive class (setosa)\n",
    "    probs = logreg.predict_proba(points)\n",
    "    prob_setosa = probs[:, 1]\n",
    "\n",
    "    # Draw decision boundary (p=0.5)\n",
    "    zz = prob_setosa.reshape(xx.shape)\n",
    "    plt.contour(xx, yy, zz, levels=[0.5], colors='gray')\n",
    "\n",
    "    # Plot decision surface with level curves\n",
    "    plt.contourf(xx, yy, zz, 10, alpha=0.3, cmap=plt.cm.coolwarm)\n",
    "\n",
    "    # Add labels\n",
    "    plt.xlabel('petal length (cm)')\n",
    "    plt.ylabel('petal width (cm)')\n",
    "    plt.legend()\n",
    "    plt.colorbar(label='probability')\n",
    "    plt.show()"
   ]
  },
  {
   "cell_type": "code",
   "execution_count": 17,
   "id": "fb57a6bf",
   "metadata": {},
   "outputs": [
    {
     "data": {
      "image/png": "[encoded data removed]",
      "text/plain": [
       "<Figure size 432x288 with 2 Axes>"
      ]
     },
     "metadata": {
      "needs_background": "light"
     },
     "output_type": "display_data"
    }
   ],
   "source": [
    "# Plot decision surface\n",
    "fig = plt.figure()\n",
    "decision_surface(fig.gca(), X, y, logreg)"
   ]
  },
  {
   "cell_type": "markdown",
   "id": "09faa72d",
   "metadata": {},
   "source": [
    "We use a red/blue scale to plot the decision surface. Regions in red are associated with probabilities close to one and regions in blue with probabilities close to zero. The gray line delimits points with \n",
    "p<0.5\n",
    " from points with \n",
    "p>0.5\n",
    "."
   ]
  },
  {
   "cell_type": "markdown",
   "id": "ad2ba7e7",
   "metadata": {},
   "source": [
    "### Summary\n",
    "In this unit, we learned about the logistic regression model in the binary classification case and saw how to implement it using Scikit-learn. In the next unit, we will see how to generalize to multiple categories."
   ]
  },
  {
   "cell_type": "markdown",
   "id": "d03bae4a",
   "metadata": {},
   "source": [
    "# Multiclass classification\n",
    "\n",
    "In the last unit, we learned about logistic regression and saw how to use it to build a binary classifier that distinguishes between two classes. We will now generalize this concept to the case where there are more than two possible classes. Such case is called a multiclass classification problem. In this unit, we will discuss two different ways to apply logistic regressions to the multiclass case.\n",
    "\n",
    "* Using softmax regression which directly generalizes logistic regressions to multiple classes.\n",
    "* Using the one-vs.-one (OvO) and the one-vs.-rest (OvR) strategies that convert the multiclass classification problem into several binary classifications.\n",
    "\n",
    "Note that the second option is not specific to logistic regressions and can use any set of binary classifiers to solve a multiclass classification problem.\n",
    "\n",
    "### Softmax regression"
   ]
  },
  {
   "cell_type": "markdown",
   "id": "654588fd",
   "metadata": {},
   "source": [
    "Softmax regression, also known as multinomial logistic regression, is simply the generalization of the logistic regression model to multiple classes. In the binary case, we compute the probability that a point \n",
    "x\n",
    " is in the \"positive\" class \n",
    "y\n",
    "=\n",
    "1\n",
    " by transforming the output of a linear regression model \n",
    "f\n",
    "(\n",
    "x\n",
    ")\n",
    " into a probability using the logistic function. In the multiclass case, we have one linear regression for each class, and we transform their output into probabilities using the softmax function.\n",
    " \n",
    " p\n",
    "(\n",
    "y\n",
    "=\n",
    "i\n",
    "|\n",
    "x\n",
    ")\n",
    "=\n",
    "e\n",
    "f\n",
    "i\n",
    "(\n",
    "x\n",
    ")\n",
    "∑\n",
    "k\n",
    "j\n",
    "=\n",
    "1\n",
    "e\n",
    "f\n",
    "j\n",
    "(\n",
    "x\n",
    ")\n",
    "\n",
    "n this equation, we denote the output of the linear regression for the i-th class with \n",
    "f\n",
    "i\n",
    "(\n",
    "x\n",
    ")\n",
    " and we compute the probability of being in this class by taking the exponential of this value \n",
    "e\n",
    "f\n",
    "i\n",
    "(\n",
    "x\n",
    ")\n",
    " normalized by the sum of the exponential values of all the classes \n",
    "∑\n",
    "k\n",
    "j\n",
    "=\n",
    "1\n",
    "e\n",
    "f\n",
    "j\n",
    "(\n",
    "x\n",
    ")\n",
    " to make the probabilities sum to one.\n",
    " \n",
    " \n",
    "### One-vs.-one (OvO) strategy\n",
    "\n",
    "It's also possible to solve multiclass classification tasks by combining several binary classifiers. For instance, **the one-vs.-one (OvO) strategy** fits one binary classifier for each pair of classes and makes these classifiers vote. Let's take an example, say that we want to use logistic regressions to solve a classification task with four categories. In this case, we will need to fit 6 logistic regressions.\n",
    "\n",
    "* Classifier 1 - class 1 vs. class 2\n",
    "* Classifier 2 - class 1 vs. class 3\n",
    "* Classifier 3 - class 1 vs. class 4\n",
    "* Classifier 4 - class 2 vs. class 3\n",
    "* Classifier 5 - class 2 vs. class 4\n",
    "* Classifier 6 - class 3 vs. class 4\n",
    "\n",
    "We can then evaluate each classifier and predict the class with the maximum number of votes. For instance, say that we run each classifier from above on a new data point and get the following results.\n",
    "\n",
    "* Classifier 1 - class 2 wins\n",
    "* Classifier 2 - class 1 wins\n",
    "* Classifier 3 - class 4 wins\n",
    "* Classifier 4 - class 2 wins\n",
    "* Classifier 5 - class 2 wins\n",
    "* Classifier 6 - class 3 wins\n",
    "\n",
    "In this case, we will predict class 2 because it has the most number of votes (in the case of a tie the confidence levels of the classifiers would also be used for the decision). One of the advantages of this strategy is that each classifier only involves two classes. Hence, we only need a subset of the data to fit each classifier. This might be helpful if our classifiers don't scale well to a large number of data points.\n",
    "\n",
    "**However, the OvO strategy requires one classifier for each pair of classes**. If we count the number of possible combinations, we can show that it's equal to \n",
    "k\n",
    "(\n",
    "k\n",
    "−\n",
    "1\n",
    ")\n",
    "/\n",
    "2\n",
    " where \n",
    "k\n",
    " is the number of classes. This number increases quadratically with \n",
    "k\n",
    " and hence doesn't scale well to many classes. This plot shows the number of binary classifiers needed by the OvO strategy as a function of the number of classes.\n",
    " \n",
    "### One-vs.-rest (OvR) strategy\n",
    "\n",
    "One solution is to use the one-vs.-rest (OvR) strategy. The idea is to fit a binary classifier that separates each class from the other ones and trust the most confident classifier. For instance, in the example from above, there are four classes, and we need to fit four binary classifiers.\n",
    "\n",
    "* Classifier 1 - class 1 vs. other classes\n",
    "* Classifier 2 - class 2 vs. other classes\n",
    "* Classifier 3 - class 3 vs. other classes\n",
    "* Classifier 4 - class 4 vs. other classes\n",
    "\n",
    "Given a new data point \n",
    "x\n",
    ", each classifier estimates the probability that the point belongs to its \"positive\" class \n",
    "p\n",
    "(\n",
    "y\n",
    "i\n",
    "=\n",
    "1\n",
    "|\n",
    "x\n",
    ")\n",
    ". For instance, say that we run each classifier from above on a new data point and get the following results.\n",
    "\n",
    "* Classifier 1 - p(y1=1|x)=0.12\n",
    "* Classifier 2 - p(y2=1|x)=0.84\n",
    "* Classifier 3 - p(y3=1|x)=0.16\n",
    "* Classifier 4 - p(y4=1|x)=0.32\n",
    "\n",
    "In this case, we will predict class 2 since it has the highest probability. Note that, unlike the softmax regression, the probabilities here do not necessarily sum up to one.\n",
    "\n",
    "This strategy **has many advantages compared to the OvO strategy. First, it's computationally efficient since the number of classifiers is equal to the number of classes. The results are also easier to interpret since each category corresponds to a classifier.**\n",
    "\n",
    "### Summary\n",
    "\n",
    "In this unit, we saw different ways to perform multiclass classification using logistic regressions. In practice, it's common to try both the one-vs.-rest (OvR) strategy and softmax regression, and see which one gives the best results. In the next unit, we will see how to implement both options with the LogisticRegression estimator from Scikit-learn."
   ]
  },
  {
   "cell_type": "code",
   "execution_count": null,
   "id": "e64f536e",
   "metadata": {},
   "outputs": [],
   "source": []
  }
 ],
 "metadata": {
  "kernelspec": {
   "display_name": "Python 3",
   "language": "python",
   "name": "python3"
  },
  "language_info": {
   "codemirror_mode": {
    "name": "ipython",
    "version": 3
   },
   "file_extension": ".py",
   "mimetype": "text/x-python",
   "name": "python",
   "nbconvert_exporter": "python",
   "pygments_lexer": "ipython3",
   "version": "3.6.13"
  }
 },
 "nbformat": 4,
 "nbformat_minor": 5
}
