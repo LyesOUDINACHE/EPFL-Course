{
 "cells": [
  {
   "cell_type": "markdown",
   "id": "2173436f",
   "metadata": {},
   "source": [
    "# Logistic Regressions \n",
    "\n",
    "In a binary classification setting, we have a \"positive\" and a \"negative\" class, and we want to build a classifier that detects positive entries. One way to achieve this is to use numerical values to encode the two categories and fit a linear regression. For instance, we can encode negative entries with a 0 and positive ones with a 1 and then predict the positive class if our linear regression predicts a value above 0.5.\n",
    "\n",
    "The idea is a bit similar in logistic regressions. Instead of using a threshold, we convert the output of the linear regression model into probabilities using the logistic function, also **called sigmoid function**\n",
    "\n",
    "$σ(x)=1 / (1+e−x)$\n",
    "\n",
    "This function associates large negative values \n",
    "x\n",
    " with probabilities close to zero and large positive ones with probabilities close to one. Here is a plot of the function for \n",
    "x\n",
    " values between -6 and 6"
   ]
  },
  {
   "cell_type": "code",
   "execution_count": 1,
   "id": "0e78e42e",
   "metadata": {},
   "outputs": [],
   "source": [
    "from IPython.display import Image"
   ]
  },
  {
   "cell_type": "code",
   "execution_count": 2,
   "id": "90d9588c",
   "metadata": {},
   "outputs": [
    {
     "data": {
      "text/html": [
       "<img src=\"https://d7whxh71cqykp.cloudfront.net/uploads/image/data/3865/sigmoid.svg\"/>"
      ],
      "text/plain": [
       "<IPython.core.display.Image object>"
      ]
     },
     "execution_count": 2,
     "metadata": {},
     "output_type": "execute_result"
    }
   ],
   "source": [
    "Image(url='https://d7whxh71cqykp.cloudfront.net/uploads/image/data/3865/sigmoid.svg')"
   ]
  },
  {
   "cell_type": "markdown",
   "id": "f004fda9",
   "metadata": {},
   "source": [
    "The idea is to use this sigmoid function to compute the probability of being in the positive class. We can express this using the following formula.\n",
    "\n",
    "$p(y=1|x) = σ(f(x))$\n",
    "\n",
    "The probability that the target y is one (positive class) given its input value x is equal to the value of the sigmoid function at f(x) which corresponds to the output of our linear regression model. There are three cases.\n",
    "\n",
    "* p < 0.5 when the linear regression outputs a negative value.\n",
    "* p>0.5 when the output is positive.\n",
    "* p = 0.5 when f(x)=0\n",
    "\n",
    "In other words, the output of the linear regression $f(x)$ (called the logit) controls the uncertainty of the logistic regression model. Note that the probability of the negative class is simply one minus this probability.\n",
    "\n"
   ]
  },
  {
   "cell_type": "markdown",
   "id": "acfb7900",
   "metadata": {},
   "source": [
    "The equation from above is the equation of the logistic regression model - it tells us how to compute predictions for new data points \n",
    "x\n",
    ", but not how to find the model coefficients.\n",
    "\n",
    "We won't go into the details in this course, but in short, instead of minimizing the least squares, logistic regressions minimize the **cross-entropy (CE)** loss function that we can derive by computing the **maximum likelihood estimation (MLE)**. You can take a look at this video which shows how to apply MLE to derive the loss function. Once we have this loss function, we can optimize it using the usual algorithms ex. gradient descent.\n",
    "\n",
    "Let's see how to implement logistic regressions using Scikit-learn."
   ]
  },
  {
   "cell_type": "markdown",
   "id": "3792e1a6",
   "metadata": {},
   "source": [
    "### Iris data set\n",
    "We will use the iris data set to illustrate logistic regressions. It's a set of 150 petal/sepal width and length measurements from iris flowers of three different types: setosa, versicolor and virginica.\n",
    "\n",
    "We can load it using the load_iris() function from the Scikit-learn datasets module."
   ]
  },
  {
   "cell_type": "code",
   "execution_count": 1,
   "id": "8b035f25",
   "metadata": {},
   "outputs": [
    {
     "name": "stdout",
     "output_type": "stream",
     "text": [
      "Type: <class 'sklearn.utils.Bunch'>\n"
     ]
    }
   ],
   "source": [
    "from sklearn import datasets\n",
    "\n",
    "# Load data set\n",
    "iris = datasets.load_iris()\n",
    "\n",
    "print('Type:', type(iris)) "
   ]
  },
  {
   "cell_type": "markdown",
   "id": "cab89ea7",
   "metadata": {},
   "source": [
    "The function returns a Bunch object that we can use as a dictionary. Let's take a look at its keys"
   ]
  },
  {
   "cell_type": "code",
   "execution_count": 2,
   "id": "d8908cf2",
   "metadata": {},
   "outputs": [
    {
     "data": {
      "text/plain": [
       "dict_keys(['data', 'target', 'target_names', 'DESCR', 'feature_names', 'filename'])"
      ]
     },
     "execution_count": 2,
     "metadata": {},
     "output_type": "execute_result"
    }
   ],
   "source": [
    "# Inspect object\n",
    "iris.keys()"
   ]
  },
  {
   "cell_type": "markdown",
   "id": "3e1b69f9",
   "metadata": {},
   "source": [
    "The dictionary has five entries\n",
    "\n",
    "* data - the input matrix\n",
    "* target - the target vector\n",
    "* target_names - the name of the categories\n",
    "* DESCR - a description of the data set\n",
    "* feature_names - the name of the features\n",
    "Let's take a look at the feature names\n",
    "\n"
   ]
  },
  {
   "cell_type": "code",
   "execution_count": 3,
   "id": "934dccb7",
   "metadata": {},
   "outputs": [
    {
     "data": {
      "text/plain": [
       "['sepal length (cm)',\n",
       " 'sepal width (cm)',\n",
       " 'petal length (cm)',\n",
       " 'petal width (cm)']"
      ]
     },
     "execution_count": 3,
     "metadata": {},
     "output_type": "execute_result"
    }
   ],
   "source": [
    "# Get feature names\n",
    "iris.feature_names"
   ]
  },
  {
   "cell_type": "markdown",
   "id": "6ed1b2f5",
   "metadata": {},
   "source": [
    "There are four features in total. Each one corresponds to a column in the data input matrix. The target values are encoded with numbers between 0 and 2. Let's count the number of values in each category"
   ]
  },
  {
   "cell_type": "code",
   "execution_count": 4,
   "id": "04b1a4b7",
   "metadata": {},
   "outputs": [
    {
     "data": {
      "text/plain": [
       "2    50\n",
       "1    50\n",
       "0    50\n",
       "dtype: int64"
      ]
     },
     "execution_count": 4,
     "metadata": {},
     "output_type": "execute_result"
    }
   ],
   "source": [
    "import pandas as pd\n",
    "\n",
    "# Category distribution\n",
    "pd.value_counts(iris['target'])"
   ]
  },
  {
   "cell_type": "markdown",
   "id": "fb82ac52",
   "metadata": {},
   "source": [
    "There are 50 flowers per type. These numerical labels correspond to the indexes of the target names in the target_names list"
   ]
  },
  {
   "cell_type": "code",
   "execution_count": 5,
   "id": "ea7be931",
   "metadata": {},
   "outputs": [
    {
     "name": "stdout",
     "output_type": "stream",
     "text": [
      "Target names: ['setosa' 'versicolor' 'virginica']\n"
     ]
    }
   ],
   "source": [
    "# Categories\n",
    "print('Target names:', iris.target_names)"
   ]
  },
  {
   "cell_type": "markdown",
   "id": "9042770c",
   "metadata": {},
   "source": [
    "In this unit, we will create a binary classifier that recognizes setosa flowers. Hence, we need to create a target vector y that encodes positive entries (setosa) with ones and negative entries (versicolor and virginica) with zeros"
   ]
  },
  {
   "cell_type": "code",
   "execution_count": 6,
   "id": "1ba2cf86",
   "metadata": {},
   "outputs": [],
   "source": [
    "# Create the binary target vector\n",
    "y = (iris['target'] == 0).astype(int)"
   ]
  },
  {
   "cell_type": "markdown",
   "id": "34e3ccab",
   "metadata": {},
   "source": [
    "In this code, we create an array of boolean values where True denotes the positive class and False the negative one. We then convert the boolean values into zeros and ones using the astype(int) function.\n",
    "\n",
    "In this example, we will only work with the petal features, i.e., petal width and petal length. They correspond to the columns with indices 2 and 3 according to the feature_names list from above. Let's create the input matrix"
   ]
  },
  {
   "cell_type": "code",
   "execution_count": 7,
   "id": "a32e7dc8",
   "metadata": {},
   "outputs": [],
   "source": [
    "# Create the input matrix\n",
    "X = iris['data'] # Get matrix with all features\n",
    "X = X[:, [2, 3]] # Keep only petal features"
   ]
  },
  {
   "cell_type": "code",
   "execution_count": 8,
   "id": "eb799804",
   "metadata": {},
   "outputs": [
    {
     "data": {
      "image/png": "[encoded data removed]",
      "text/plain": [
       "<Figure size 432x288 with 1 Axes>"
      ]
     },
     "metadata": {
      "needs_background": "light"
     },
     "output_type": "display_data"
    }
   ],
   "source": [
    "%matplotlib inline\n",
    "import matplotlib.pyplot as plt\n",
    "\n",
    "# Plot data points\n",
    "setosa_idx = (y == 1) # setosa data points\n",
    "\n",
    "plt.scatter(X[:, 0][setosa_idx], X[:, 1][setosa_idx],\n",
    "    color='C3', label='setosa') # Setosa\n",
    "plt.scatter(X[:, 0][~setosa_idx], X[:, 1][~setosa_idx],\n",
    "    color='C0', label='other') # Versicolor and virginica\n",
    "\n",
    "# Set labels\n",
    "plt.xlabel('petal length (cm)')\n",
    "plt.ylabel('petal width (cm)')\n",
    "plt.legend()\n",
    "plt.show()"
   ]
  },
  {
   "cell_type": "markdown",
   "id": "5aeb6e78",
   "metadata": {},
   "source": [
    "In this code, we create a setosa_idx list where True entries correspond to setosa flowers. We can then use this list of booleans to separate and plot the two categories with different colors. You should get the following result.\n",
    "\n",
    "As we can see, there is a clear separation between the two classes. In this case, we say that the data is linearly separable because it's possible to draw a line (or a hyperplane in higher dimensions) that separates the different categories.\n",
    "\n",
    "Let's see how to separate these two classes using logistic regressions."
   ]
  },
  {
   "cell_type": "markdown",
   "id": "1ac0c266",
   "metadata": {},
   "source": [
    "### Scikit-learn implementation"
   ]
  },
  {
   "cell_type": "code",
   "execution_count": 9,
   "id": "5a7be5d3",
   "metadata": {},
   "outputs": [],
   "source": [
    "from sklearn.model_selection import train_test_split\n",
    "\n",
    "# Split into train/test sets\n",
    "X_tr, X_te, y_tr, y_te = train_test_split(\n",
    "    X, y, test_size=0.3, random_state=0)"
   ]
  },
  {
   "cell_type": "markdown",
   "id": "5b1280c2",
   "metadata": {},
   "source": [
    "Scikit-learn implements a LogisticRegression object which follows the standard estimator API. To avoid any issue with the features scale, let's encapsulate the estimator in a pipeline with a StandardScaler"
   ]
  },
  {
   "cell_type": "code",
   "execution_count": 10,
   "id": "bd8a3551",
   "metadata": {},
   "outputs": [
    {
     "name": "stderr",
     "output_type": "stream",
     "text": [
      "C:\\Users\\lyeso\\anaconda3\\envs\\exts-ml\\lib\\site-packages\\sklearn\\linear_model\\logistic.py:433: FutureWarning: Default solver will be changed to 'lbfgs' in 0.22. Specify a solver to silence this warning.\n",
      "  FutureWarning)\n"
     ]
    }
   ],
   "source": [
    "from sklearn.linear_model import LogisticRegression\n",
    "from sklearn.preprocessing import StandardScaler\n",
    "from sklearn.pipeline import make_pipeline\n",
    "\n",
    "# Create the estimator\n",
    "logreg = make_pipeline(StandardScaler(), LogisticRegression())\n",
    "\n",
    "# Fit it to train data\n",
    "logreg.fit(X_tr, y_tr);"
   ]
  },
  {
   "cell_type": "markdown",
   "id": "1bd2771f",
   "metadata": {},
   "source": [
    "cikit-learn returns a FutureWarning to warn us that the default algorithm which finds the coefficients of our logistic regression will be changed in a next version of the library.\n",
    "\n",
    "Let's fix the warning by specifying the solver. The LogisticRegression documentation recommends using the liblinear one for small data sets.\n",
    "https://scikit-learn.org/stable/modules/generated/sklearn.linear_model.LogisticRegression.html\n",
    "\n",
    "Let's try it "
   ]
  },
  {
   "cell_type": "code",
   "execution_count": 11,
   "id": "3bffc7d8",
   "metadata": {},
   "outputs": [
    {
     "name": "stdout",
     "output_type": "stream",
     "text": [
      "Accuracy: 1.000\n"
     ]
    }
   ],
   "source": [
    "# Create the estimator\n",
    "logreg = make_pipeline(\n",
    "    StandardScaler(), LogisticRegression(solver='liblinear'))\n",
    "\n",
    "# Fit it to train data\n",
    "logreg.fit(X_tr, y_tr)\n",
    "\n",
    "# Accuracy on test set\n",
    "accuracy = logreg.score(X_te, y_te)\n",
    "print('Accuracy: {:.3f}'.format(accuracy))"
   ]
  },
  {
   "cell_type": "markdown",
   "id": "d036f296",
   "metadata": {},
   "source": [
    "Our classifier labels the new data point with a one (positive class) which means that it's likely a setosa flower. We can obtain the probabilities from the sigmoid with predict_proba()"
   ]
  },
  {
   "cell_type": "code",
   "execution_count": 13,
   "id": "01fe9146",
   "metadata": {},
   "outputs": [
    {
     "data": {
      "text/plain": [
       "array([1])"
      ]
     },
     "execution_count": 13,
     "metadata": {},
     "output_type": "execute_result"
    }
   ],
   "source": [
    "# New flower\n",
    "new_flower = [\n",
    "    1.5, # petal length (cm)\n",
    "    0.3, # petal width (cm)\n",
    "]\n",
    "\n",
    "# Classify it\n",
    "logreg.predict([new_flower])\n"
   ]
  },
  {
   "cell_type": "markdown",
   "id": "5c866a19",
   "metadata": {},
   "source": [
    "Our classifier labels the new data point with a one (positive class) which means that it's likely a setosa flower. We can obtain the probabilities from the sigmoid with predict_proba()"
   ]
  },
  {
   "cell_type": "code",
   "execution_count": 14,
   "id": "c45bcdfd",
   "metadata": {},
   "outputs": [
    {
     "data": {
      "text/plain": [
       "array([[0.05238258, 0.94761742]])"
      ]
     },
     "execution_count": 14,
     "metadata": {},
     "output_type": "execute_result"
    }
   ],
   "source": [
    "# Get probabilities\n",
    "logreg.predict_proba([new_flower])"
   ]
  },
  {
   "cell_type": "markdown",
   "id": "4b84246b",
   "metadata": {},
   "source": [
    "The function returns the probability for each category. In our case, we get two probabilities. The first one corresponds to the negative class and the second one to the positive class. **According to our classifier, the new data point is a setosa flower with probability 0.95.**\n",
    "\n",
    "Note that we can use this function to **visualize the decision surface of our classifier** and draw the boundary that delimits the two classes by marking points with \n",
    "p\n",
    "=\n",
    "0.5\n",
    ". We provide a decision_surface(X, y, logreg) function in the annex. In short, the function creates a grid of data points in the range of our X/y values and evaluates their probability using our logreg estimator."
   ]
  },
  {
   "cell_type": "code",
   "execution_count": 16,
   "id": "8071ece0",
   "metadata": {},
   "outputs": [],
   "source": [
    "import numpy as np\n",
    "\n",
    "# Helper function\n",
    "def decision_surface(ax, X, y, logreg):\n",
    "    # Plot data points\n",
    "    setosa_idx = (y == 1) # Setosa data points\n",
    "\n",
    "    plt.scatter(X[:, 0][setosa_idx], X[:, 1][setosa_idx],\n",
    "        color='C3', label='setosa') # Setosa\n",
    "    plt.scatter(X[:, 0][~setosa_idx], X[:, 1][~setosa_idx],\n",
    "        color='C0', label='other') # Versicolor and virginica\n",
    "\n",
    "    # Create a grid of values\n",
    "    xlim, ylim = ax.get_xlim(), ax.get_ylim()\n",
    "    x_values = np.linspace(*xlim, num=40)\n",
    "    y_values = np.linspace(*ylim, num=40)\n",
    "    xx, yy = np.meshgrid(x_values, y_values)\n",
    "    points = np.c_[xx.flatten(), yy.flatten()]\n",
    "\n",
    "    # Probability for positive class (setosa)\n",
    "    probs = logreg.predict_proba(points)\n",
    "    prob_setosa = probs[:, 1]\n",
    "\n",
    "    # Draw decision boundary (p=0.5)\n",
    "    zz = prob_setosa.reshape(xx.shape)\n",
    "    plt.contour(xx, yy, zz, levels=[0.5], colors='gray')\n",
    "\n",
    "    # Plot decision surface with level curves\n",
    "    plt.contourf(xx, yy, zz, 10, alpha=0.3, cmap=plt.cm.coolwarm)\n",
    "\n",
    "    # Add labels\n",
    "    plt.xlabel('petal length (cm)')\n",
    "    plt.ylabel('petal width (cm)')\n",
    "    plt.legend()\n",
    "    plt.colorbar(label='probability')\n",
    "    plt.show()"
   ]
  },
  {
   "cell_type": "code",
   "execution_count": 17,
   "id": "fa265978",
   "metadata": {},
   "outputs": [
    {
     "data": {
      "image/png": "[encoded data removed]",
      "text/plain": [
       "<Figure size 432x288 with 2 Axes>"
      ]
     },
     "metadata": {
      "needs_background": "light"
     },
     "output_type": "display_data"
    }
   ],
   "source": [
    "# Plot decision surface\n",
    "fig = plt.figure()\n",
    "decision_surface(fig.gca(), X, y, logreg)"
   ]
  },
  {
   "cell_type": "markdown",
   "id": "a9398d8c",
   "metadata": {},
   "source": [
    "We use a red/blue scale to plot the decision surface. Regions in red are associated with probabilities close to one and regions in blue with probabilities close to zero. The gray line delimits points with \n",
    "p<0.5\n",
    " from points with \n",
    "p>0.5\n",
    "."
   ]
  },
  {
   "cell_type": "markdown",
   "id": "72892a49",
   "metadata": {},
   "source": [
    "### Summary\n",
    "In this unit, we learned about the logistic regression model in the binary classification case and saw how to implement it using Scikit-learn. In the next unit, we will see how to generalize to multiple categories."
   ]
  },
  {
   "cell_type": "markdown",
   "id": "e6747689",
   "metadata": {},
   "source": [
    "# Multiclass classification\n",
    "\n",
    "In the last unit, we learned about logistic regression and saw how to use it to build a binary classifier that distinguishes between two classes. We will now generalize this concept to the case where there are more than two possible classes. Such case is called a multiclass classification problem. In this unit, we will discuss two different ways to apply logistic regressions to the multiclass case.\n",
    "\n",
    "* Using softmax regression which directly generalizes logistic regressions to multiple classes.\n",
    "* Using the one-vs.-one (OvO) and the one-vs.-rest (OvR) strategies that convert the multiclass classification problem into several binary classifications.\n",
    "\n",
    "Note that the second option is not specific to logistic regressions and can use any set of binary classifiers to solve a multiclass classification problem.\n",
    "\n",
    "### Softmax regression"
   ]
  },
  {
   "cell_type": "markdown",
   "id": "ef5e5661",
   "metadata": {},
   "source": [
    "Softmax regression, also known as multinomial logistic regression, is simply the generalization of the logistic regression model to multiple classes. In the binary case, we compute the probability that a point \n",
    "x\n",
    " is in the \"positive\" class \n",
    "y\n",
    "=\n",
    "1\n",
    " by transforming the output of a linear regression model \n",
    "f\n",
    "(\n",
    "x\n",
    ")\n",
    " into a probability using the logistic function. In the multiclass case, we have one linear regression for each class, and we transform their output into probabilities using the softmax function.\n",
    " \n",
    " p\n",
    "(\n",
    "y\n",
    "=\n",
    "i\n",
    "|\n",
    "x\n",
    ")\n",
    "=\n",
    "e\n",
    "f\n",
    "i\n",
    "(\n",
    "x\n",
    ")\n",
    "∑\n",
    "k\n",
    "j\n",
    "=\n",
    "1\n",
    "e\n",
    "f\n",
    "j\n",
    "(\n",
    "x\n",
    ")\n",
    "\n",
    "n this equation, we denote the output of the linear regression for the i-th class with \n",
    "f\n",
    "i\n",
    "(\n",
    "x\n",
    ")\n",
    " and we compute the probability of being in this class by taking the exponential of this value \n",
    "e\n",
    "f\n",
    "i\n",
    "(\n",
    "x\n",
    ")\n",
    " normalized by the sum of the exponential values of all the classes \n",
    "∑\n",
    "k\n",
    "j\n",
    "=\n",
    "1\n",
    "e\n",
    "f\n",
    "j\n",
    "(\n",
    "x\n",
    ")\n",
    " to make the probabilities sum to one.\n",
    " \n",
    " \n",
    "### One-vs.-one (OvO) strategy\n",
    "\n",
    "It's also possible to solve multiclass classification tasks by combining several binary classifiers. For instance, **the one-vs.-one (OvO) strategy** fits one binary classifier for each pair of classes and makes these classifiers vote. Let's take an example, say that we want to use logistic regressions to solve a classification task with four categories. In this case, we will need to fit 6 logistic regressions.\n",
    "\n",
    "* Classifier 1 - class 1 vs. class 2\n",
    "* Classifier 2 - class 1 vs. class 3\n",
    "* Classifier 3 - class 1 vs. class 4\n",
    "* Classifier 4 - class 2 vs. class 3\n",
    "* Classifier 5 - class 2 vs. class 4\n",
    "* Classifier 6 - class 3 vs. class 4\n",
    "\n",
    "We can then evaluate each classifier and predict the class with the maximum number of votes. For instance, say that we run each classifier from above on a new data point and get the following results.\n",
    "\n",
    "* Classifier 1 - class 2 wins\n",
    "* Classifier 2 - class 1 wins\n",
    "* Classifier 3 - class 4 wins\n",
    "* Classifier 4 - class 2 wins\n",
    "* Classifier 5 - class 2 wins\n",
    "* Classifier 6 - class 3 wins\n",
    "\n",
    "In this case, we will predict class 2 because it has the most number of votes (in the case of a tie the confidence levels of the classifiers would also be used for the decision). One of the advantages of this strategy is that each classifier only involves two classes. Hence, we only need a subset of the data to fit each classifier. This might be helpful if our classifiers don't scale well to a large number of data points.\n",
    "\n",
    "**However, the OvO strategy requires one classifier for each pair of classes**. If we count the number of possible combinations, we can show that it's equal to \n",
    "k\n",
    "(\n",
    "k\n",
    "−\n",
    "1\n",
    ")\n",
    "/\n",
    "2\n",
    " where \n",
    "k\n",
    " is the number of classes. This number increases quadratically with \n",
    "k\n",
    " and hence doesn't scale well to many classes. This plot shows the number of binary classifiers needed by the OvO strategy as a function of the number of classes.\n",
    " \n",
    "### One-vs.-rest (OvR) strategy\n",
    "\n",
    "One solution is to use the one-vs.-rest (OvR) strategy. The idea is to fit a binary classifier that separates each class from the other ones and trust the most confident classifier. For instance, in the example from above, there are four classes, and we need to fit four binary classifiers.\n",
    "\n",
    "* Classifier 1 - class 1 vs. other classes\n",
    "* Classifier 2 - class 2 vs. other classes\n",
    "* Classifier 3 - class 3 vs. other classes\n",
    "* Classifier 4 - class 4 vs. other classes\n",
    "\n",
    "Given a new data point \n",
    "x\n",
    ", each classifier estimates the probability that the point belongs to its \"positive\" class \n",
    "p\n",
    "(\n",
    "y\n",
    "i\n",
    "=\n",
    "1\n",
    "|\n",
    "x\n",
    ")\n",
    ". For instance, say that we run each classifier from above on a new data point and get the following results.\n",
    "\n",
    "* Classifier 1 - p(y1=1|x)=0.12\n",
    "* Classifier 2 - p(y2=1|x)=0.84\n",
    "* Classifier 3 - p(y3=1|x)=0.16\n",
    "* Classifier 4 - p(y4=1|x)=0.32\n",
    "\n",
    "In this case, we will predict class 2 since it has the highest probability. Note that, unlike the softmax regression, the probabilities here do not necessarily sum up to one.\n",
    "\n",
    "This strategy **has many advantages compared to the OvO strategy. First, it's computationally efficient since the number of classifiers is equal to the number of classes. The results are also easier to interpret since each category corresponds to a classifier.**\n",
    "\n",
    "### Summary\n",
    "\n",
    "In this unit, we saw different ways to perform multiclass classification using logistic regressions. In practice, it's common to try both the one-vs.-rest (OvR) strategy and softmax regression, and see which one gives the best results. In the next unit, we will see how to implement both options with the LogisticRegression estimator from Scikit-learn."
   ]
  },
  {
   "cell_type": "markdown",
   "id": "5de5b32c",
   "metadata": {},
   "source": [
    "# Sci-kit-learn implementation\n",
    "\n",
    "In this unit, we will see how to perform multiclass classification with the LogisticRegression estimator from Scikit-learn. We will try both the one-vs.-rest (OvR) strategy and the softmax regression model. Again, we will use the iris data set, but this time, we will create a classifier for the three types of iris flowers."
   ]
  },
  {
   "cell_type": "code",
   "execution_count": 1,
   "id": "13c23831",
   "metadata": {},
   "outputs": [],
   "source": [
    "from sklearn import datasets\n",
    "\n",
    "# Load data set\n",
    "iris = datasets.load_iris()\n",
    "\n",
    "# Create X/y arrays\n",
    "X = iris['data'][:, [2, 3]] # Keep only petal features\n",
    "y = iris['target']"
   ]
  },
  {
   "cell_type": "code",
   "execution_count": 2,
   "id": "5442e45c",
   "metadata": {},
   "outputs": [
    {
     "data": {
      "image/png": "[encoded data removed]",
      "text/plain": [
       "<Figure size 432x288 with 1 Axes>"
      ]
     },
     "metadata": {
      "needs_background": "light"
     },
     "output_type": "display_data"
    }
   ],
   "source": [
    "%matplotlib inline\n",
    "import matplotlib.pyplot as plt\n",
    "\n",
    "# Plot data\n",
    "setosa_idx = (y == 0) # Setosa points\n",
    "versicolor_idx = (y == 1) # Versicolor points\n",
    "virginica_idx = (y==2) # Virginica points\n",
    "\n",
    "plt.scatter(X[:, 0][setosa_idx], X[:, 1][setosa_idx], c='C3', label='setosa')\n",
    "plt.scatter(X[:, 0][versicolor_idx], X[:, 1][versicolor_idx], c='C2', label='versicolor')\n",
    "plt.scatter(X[:, 0][virginica_idx], X[:, 1][virginica_idx], c='C0', label='virginica')\n",
    "\n",
    "# Set labels\n",
    "plt.xlabel('petal length (cm)')\n",
    "plt.ylabel('petal width (cm)')\n",
    "plt.legend()\n",
    "plt.show()"
   ]
  },
  {
   "cell_type": "code",
   "execution_count": 3,
   "id": "30a427b5",
   "metadata": {},
   "outputs": [],
   "source": [
    "from sklearn.model_selection import train_test_split\n",
    "\n",
    "# Split into train/test sets\n",
    "X_tr, X_te, y_tr, y_te = train_test_split(\n",
    "    X, y, test_size=0.3, random_state=0)"
   ]
  },
  {
   "cell_type": "markdown",
   "id": "58d02535",
   "metadata": {},
   "source": [
    "# Multiclass logistic regression with OvR\n",
    "\n",
    "By default, the LogisticRegression estimator uses the one-vs.-rest (OvR) strategy for multiclass classification in all Scikit-learn versions prior to version 0.22. The later versions use softmax regression by default."
   ]
  },
  {
   "cell_type": "code",
   "execution_count": 4,
   "id": "628df564",
   "metadata": {},
   "outputs": [
    {
     "name": "stdout",
     "output_type": "stream",
     "text": [
      "Accuracy: 0.800\n"
     ]
    }
   ],
   "source": [
    "from sklearn.linear_model import LogisticRegression\n",
    "from sklearn.preprocessing import StandardScaler\n",
    "from sklearn.pipeline import make_pipeline\n",
    "\n",
    "# Create the estimator\n",
    "logreg = make_pipeline(\n",
    "    StandardScaler(), LogisticRegression(multi_class='ovr', solver='liblinear'))\n",
    "\n",
    "# Fit it to train data\n",
    "logreg.fit(X_tr, y_tr)\n",
    "\n",
    "# Accuracy on test set\n",
    "accuracy = logreg.score(X_te, y_te)\n",
    "print('Accuracy: {:.3f}'.format(accuracy))"
   ]
  },
  {
   "cell_type": "markdown",
   "id": "8b1aa014",
   "metadata": {},
   "source": [
    "In this code, we create the classifier, fit it to the train data and evaluate it on the test set. We get an accuracy around 80%. We can see on the plot from above that each category occupies a different region. The separation between versicolor and virginica flowers is not entirely clear, but we should be able to create a classifier with an accuracy close to 100%.\n",
    "\n",
    "The issue comes from the regularization term. By default, Scikit-learn adds an \n",
    "$L\n",
    "2$\n",
    " term to the loss function of the logistic model. In our case, the regularization strength is too large and our model is underfitting. It's not possible to remove this regularization term from the LogisticRegression object, but we can reduce its impact with the $C$ parameter which is the inverse of the regularization strength."
   ]
  },
  {
   "cell_type": "code",
   "execution_count": 12,
   "id": "2ca2a96a",
   "metadata": {},
   "outputs": [
    {
     "name": "stdout",
     "output_type": "stream",
     "text": [
      "Accuracy: 0.978\n"
     ]
    }
   ],
   "source": [
    "# Create the estimator\n",
    "logreg = make_pipeline(\n",
    "    # C: inverse of regularization strength\n",
    "    StandardScaler(), LogisticRegression(C=1000, multi_class='ovr', solver='liblinear'))\n",
    "\n",
    "# Fit it to train data\n",
    "logreg.fit(X_tr, y_tr)\n",
    "\n",
    "# Accuracy on test set\n",
    "accuracy = logreg.score(X_te, y_te)\n",
    "print('Accuracy: {:.3f}'.format(accuracy))"
   ]
  },
  {
   "cell_type": "markdown",
   "id": "21a0772c",
   "metadata": {},
   "source": [
    "Some estimators from Scikit-learn such as RidgeRegression provide an alpha parameter and others provide the C one. In fact, these parameters are two alternative ways to think about regularization. In the previous course, we saw that we can control the regularization strength by multiplying the penalization term with an \n",
    "α\n",
    " parameter\n",
    "\n",
    "$ loss\n",
    "+\n",
    "α\n",
    "∗\n",
    "penalization$ \n",
    "\n",
    "Alternatively, we can control the weight of the loss function by multiplying it by a \n",
    "C\n",
    " parameter\n",
    " \n",
    "$C\n",
    "∗\n",
    "loss\n",
    "+\n",
    "penalization$\n",
    "\n",
    "In this second formulation, \n",
    "C\n",
    " controls the weight of the loss function. In the code from above, we set it to a thousand which means that the penalization term has a small impact on the overall loss value, and we get an accuracy around 98%.\n",
    "\n",
    "We can now use our logreg estimator to classify new data points."
   ]
  },
  {
   "cell_type": "code",
   "execution_count": 13,
   "id": "3255ba27",
   "metadata": {},
   "outputs": [
    {
     "data": {
      "text/plain": [
       "array([[8.62023737e-08, 5.51329272e-01, 4.48670642e-01]])"
      ]
     },
     "execution_count": 13,
     "metadata": {},
     "output_type": "execute_result"
    }
   ],
   "source": [
    "# New flower\n",
    "new_flower = [\n",
    "    5, # petal length (cm)\n",
    "    1.5, # petal width (cm)\n",
    "]\n",
    "\n",
    "# Predict probabilities\n",
    "logreg.predict_proba([new_flower])\n"
   ]
  },
  {
   "cell_type": "markdown",
   "id": "463982a6",
   "metadata": {},
   "source": [
    "In the OvR strategy, there is a classifier for each class that estimates the probability that new data points belongs to it. In this code, the predict_proba() function returns these probabilities normalized such that they sum to one. For instance, if our three classifiers return \n",
    "p1=0.5,p2=0.5 and p3=1, then the function will return [0.25, 0.25, 0.5].\n",
    "\n",
    "In our example, the second category has the largest probability with \n",
    "p=0.55 and the point is classified as a versicolor iris flower. We can verify that using the predict() function"
   ]
  },
  {
   "cell_type": "code",
   "execution_count": 14,
   "id": "9e7ce6ca",
   "metadata": {},
   "outputs": [
    {
     "data": {
      "text/plain": [
       "array([1])"
      ]
     },
     "execution_count": 14,
     "metadata": {},
     "output_type": "execute_result"
    }
   ],
   "source": [
    "logreg.predict([new_flower])"
   ]
  },
  {
   "cell_type": "markdown",
   "id": "8be1d1da",
   "metadata": {},
   "source": [
    "In this case, it returns 1 which is the numerical label of the versicolor category in the target vector.\n",
    "\n",
    "We can use the predict() function to plot the decision boundaries of our classifier. To achieve this, we implemented a decision_boundaries(X, y, logreg) function in the annex below. In short, it generates a grid of values in the range of our X/y data and predicts their labels using the predict() function from our logreg estimator."
   ]
  },
  {
   "cell_type": "markdown",
   "id": "632d2225",
   "metadata": {},
   "source": [
    "### Annex - Plot the decision boundaries\n",
    "We provide a decision_boundaries() function below to plot the decision boundaries for the multiclass iris data set.\n",
    "\n",
    "The function is very similar to the decision_surface() one from the unit about logistic regressions. This time, we generate a grid of 1,000 by 1,000 petal length/width values (a million data points) in the range of the data in the input matrix X. Then, we predict the classes using the predict() function from the logreg estimator. Finally, we plot the decision boundaries using the countour() function from Pyplot."
   ]
  },
  {
   "cell_type": "code",
   "execution_count": 16,
   "id": "28980978",
   "metadata": {},
   "outputs": [],
   "source": [
    "import numpy as np\n",
    "\n",
    "# Helper function\n",
    "def decision_boundaries(ax, X, y, logreg):\n",
    "    # Plot data\n",
    "    setosa_idx = (y == 0) # Setosa points\n",
    "    versicolor_idx = (y == 1) # Versicolor points\n",
    "    virginica_idx = (y==2) # Virginica points\n",
    "\n",
    "    plt.scatter(X[:, 0][setosa_idx], X[:, 1][setosa_idx], c='C3', label='setosa')\n",
    "    plt.scatter(X[:, 0][versicolor_idx], X[:, 1][versicolor_idx], c='C2', label='versicolor')\n",
    "    plt.scatter(X[:, 0][virginica_idx], X[:, 1][virginica_idx], c='C0', label='virginica')\n",
    "\n",
    "    # Create a grid of values\n",
    "    xlim, ylim = ax.get_xlim(), ax.get_ylim()\n",
    "    xpoints = np.linspace(*xlim, num=1000)\n",
    "    ypoints = np.linspace(*ylim, num=1000)\n",
    "    xx, yy = np.meshgrid(xpoints, ypoints)\n",
    "\n",
    "    # Compute predictions\n",
    "    preds = logreg.predict(np.c_[xx.flatten(), yy.flatten()])\n",
    "\n",
    "    # Plot boundaries betwen classes 1-2 and 2-3\n",
    "    zz = preds.reshape(xx.shape)\n",
    "    plt.contour(xx, yy, zz, levels=[0.5, 1.5],\n",
    "                colors=['C3', 'C0'], linestyles='dashed')\n",
    "\n",
    "    # Add labels\n",
    "    plt.xlabel('petal length (cm)')\n",
    "    plt.ylabel('petal width (cm)')\n",
    "    plt.legend(loc='lower right')\n",
    "    plt.show()"
   ]
  },
  {
   "cell_type": "code",
   "execution_count": 17,
   "id": "c2f7e0dc",
   "metadata": {},
   "outputs": [
    {
     "data": {
      "image/png": "[encoded data removed]",
      "text/plain": [
       "<Figure size 432x288 with 1 Axes>"
      ]
     },
     "metadata": {
      "needs_background": "light"
     },
     "output_type": "display_data"
    }
   ],
   "source": [
    "# Plot boundaries\n",
    "fig = plt.figure()\n",
    "decision_boundaries(fig.gca(), X, y, logreg)"
   ]
  },
  {
   "cell_type": "markdown",
   "id": "3ea15cbd",
   "metadata": {},
   "source": [
    "Let's try to decrease the regularization by increasing C\n",
    "\n"
   ]
  },
  {
   "cell_type": "code",
   "execution_count": 24,
   "id": "32bc106e",
   "metadata": {},
   "outputs": [
    {
     "name": "stdout",
     "output_type": "stream",
     "text": [
      "Accuracy: 0.978\n"
     ]
    }
   ],
   "source": [
    "# Create the estimator\n",
    "logreg = make_pipeline(\n",
    "    StandardScaler(), LogisticRegression(C=10, multi_class='multinomial', solver='saga'))\n",
    "\n",
    "# Fit it to train data\n",
    "logreg.fit(X_tr, y_tr)\n",
    "\n",
    "# Accuracy on test set\n",
    "accuracy = logreg.score(X_te, y_te)\n",
    "print('Accuracy: {:.3f}'.format(accuracy))"
   ]
  },
  {
   "cell_type": "code",
   "execution_count": 25,
   "id": "e43a795c",
   "metadata": {},
   "outputs": [
    {
     "data": {
      "image/png": "[encoded data removed]",
      "text/plain": [
       "<Figure size 432x288 with 1 Axes>"
      ]
     },
     "metadata": {
      "needs_background": "light"
     },
     "output_type": "display_data"
    }
   ],
   "source": [
    "# Plot boundaries\n",
    "fig = plt.figure()\n",
    "decision_boundaries(fig.gca(), X, y, logreg)"
   ]
  },
  {
   "cell_type": "markdown",
   "id": "5de65344",
   "metadata": {},
   "source": [
    "### Summary\n",
    "Let's summarize what we've learned in this unit. Here are a few takeaways.\n",
    "\n",
    "In Scikit-learn (versions prior to 0.22), **LogisticRegression uses OvR for multiclass classification by default. In later versions, softmax regression** is the default option\n",
    "By default, LogisticRegression adds an $L2$ penalization term. **We can control its weight with the C parameter**\n",
    "In Scikit-learn (versions prior to 0.22), **the default solver for LogisticRegression is liblinear** which doesn't support softmax regression, but **we can manually change the solver to saga** for example. In later versions, the default solver supports softmax regression\n",
    "The last two estimators from above have very similar decision boundaries, but they give slightly different results (96% and 98% accuracy). In fact, these numbers also depend on the train/test sets which makes them difficult to interpret. In the next unit, we will see how to give **more accurate performance estimations using cross-validation**"
   ]
  },
  {
   "cell_type": "markdown",
   "id": "368ae590",
   "metadata": {},
   "source": [
    "### Cross-validation\n",
    "\n",
    "So far, we evaluated the generalization performance of our machine learning algorithms by splitting the data into train and test sets. The idea is to use the train set to fit our estimators and the test one at the end to evaluate them. **The only exception is grid search that \"fits\" the hyperparameters using this test set**. Hence, some information might \"leak\" from it, and the performance on this set is no longer a valid estimation of the generalization error.\n",
    "\n",
    "We will now see how to solve this issue using **grid search with cross-validation**. In this unit, we will start by explaining what cross-validation is and, in the next unit, we will combine this technique with grid search.\n",
    "\n",
    "### k-fold cross-validation\n",
    "\n",
    "The idea behind k-fold cross-validation is to split the train set into \n",
    "k\n",
    " parts (also known as folds) and run the algorithm \n",
    "k\n",
    " times using \n",
    "(\n",
    "k\n",
    "−\n",
    "1\n",
    ")\n",
    " parts to train our estimator and the remaining one to evaluate its performance. In total, there are \n",
    "k\n",
    " different ways to do that. Hence, we get \n",
    "k\n",
    " estimations of the generalization performance without using our test set. This may sound abstract, so let's take an example.\n",
    "\n",
    "This image illustrates k-fold for \n",
    "k\n",
    "=\n",
    "4\n",
    ". In this case, we split the data into four parts, and there are four different ways to arrange these parts.\n",
    "\n",
    "Each row corresponds to an arrangement of the \n",
    "k\n",
    " parts into \n",
    "(\n",
    "k\n",
    "−\n",
    "1\n",
    ")\n",
    " ones to train our estimator (in white) and one to evaluate it (in gray). Hence, we get four estimations of the generalization performance using the same data.\n",
    "\n",
    "**In practice, we usually apply grid search using this k-fold cross-validation strategy**. We evaluate the different combinations of hyperparameters during each row (or each split) and select the combination that performs the best in average across all rows. Note that the data in gray is sometimes called the validation set since we use it to validate our hyperparameters.\n",
    "\n",
    "### Cross-validation with Scikit-learn"
   ]
  },
  {
   "cell_type": "code",
   "execution_count": 26,
   "id": "08bae1d4",
   "metadata": {},
   "outputs": [],
   "source": [
    "from sklearn import datasets\n",
    "\n",
    "# Load data set\n",
    "iris = datasets.load_iris()\n",
    "\n",
    "# Create X/y arrays\n",
    "X = iris['data']\n",
    "y = iris['target']"
   ]
  },
  {
   "cell_type": "code",
   "execution_count": 27,
   "id": "7ce5fd14",
   "metadata": {},
   "outputs": [],
   "source": [
    "from sklearn.model_selection import KFold\n",
    "\n",
    "# Create k-fold object\n",
    "kfold = KFold(n_splits=3)"
   ]
  },
  {
   "cell_type": "markdown",
   "id": "6b52a6a2",
   "metadata": {},
   "source": [
    "In our example, we will evaluate the generalization performance of a LogisticRegression() estimator with the one-vs.-rest (OvR) multiclass strategy. Let's create the estimator"
   ]
  },
  {
   "cell_type": "code",
   "execution_count": 28,
   "id": "b1a0a3fe",
   "metadata": {},
   "outputs": [],
   "source": [
    "from sklearn.linear_model import LogisticRegression\n",
    "from sklearn.preprocessing import StandardScaler\n",
    "from sklearn.pipeline import make_pipeline\n",
    "\n",
    "# Create a logistic regression\n",
    "logreg = make_pipeline(\n",
    "    StandardScaler(), LogisticRegression(C=1000, solver='liblinear', multi_class='ovr'))"
   ]
  },
  {
   "cell_type": "code",
   "execution_count": 29,
   "id": "b8dd8fde",
   "metadata": {},
   "outputs": [
    {
     "data": {
      "text/plain": [
       "dict_keys(['fit_time', 'score_time', 'test_score', 'train_score'])"
      ]
     },
     "execution_count": 29,
     "metadata": {},
     "output_type": "execute_result"
    }
   ],
   "source": [
    "from sklearn.model_selection import cross_validate\n",
    "\n",
    "# Apply cross-validation\n",
    "scores = cross_validate(logreg, X, y, cv=kfold, return_train_score=True)\n",
    "\n",
    "# The \"scores\" variable is a dictionary with the scores\n",
    "scores.keys()"
   ]
  },
  {
   "cell_type": "markdown",
   "id": "0d44f1a3",
   "metadata": {},
   "source": [
    "The function takes the estimator, the X/y data and our cross-validator object as arguments, and returns a dictionary with the results. Each entry is a list with one value for each split.\n",
    "\n",
    "* fit_time - time to fit the estimator\n",
    "* score_time - time to evaluate the estimator\n",
    "* train_score - performance on the (k−1) parts to train the estimator\n",
    "* test_score - performance on the remaining \"validation set\"\n",
    "\n",
    "Let's print the train/test scores"
   ]
  },
  {
   "cell_type": "code",
   "execution_count": 30,
   "id": "9600fb44",
   "metadata": {},
   "outputs": [
    {
     "name": "stdout",
     "output_type": "stream",
     "text": [
      "Train scores: [0.98 1.   1.  ]\n",
      "Test scores: [0. 0. 0.]\n"
     ]
    }
   ],
   "source": [
    "print('Train scores:', scores['train_score']) \n",
    "print('Test scores:', scores['test_score']) "
   ]
  },
  {
   "cell_type": "markdown",
   "id": "ec6e36b0",
   "metadata": {},
   "source": [
    "We can see that the train scores (accuracy) are close to one, but the test scores are all zero. **By default, the KFold object splits the data into k parts without shuffling**. This can cause issues when the target values are ordered.\n",
    "\n",
    "In our case, there are three folds and three categories, each one with the same number of data points. Hence, each fold corresponds to one class. This means that we are always fitting the data on two of the three classes and evaluating it on the other one. Hence, its test score is always zero"
   ]
  },
  {
   "cell_type": "code",
   "execution_count": 31,
   "id": "1efabb53",
   "metadata": {},
   "outputs": [
    {
     "data": {
      "text/plain": [
       "array([0, 0, 0, 0, 0, 0, 0, 0, 0, 0, 0, 0, 0, 0, 0, 0, 0, 0, 0, 0, 0, 0,\n",
       "       0, 0, 0, 0, 0, 0, 0, 0, 0, 0, 0, 0, 0, 0, 0, 0, 0, 0, 0, 0, 0, 0,\n",
       "       0, 0, 0, 0, 0, 0, 1, 1, 1, 1, 1, 1, 1, 1, 1, 1, 1, 1, 1, 1, 1, 1,\n",
       "       1, 1, 1, 1, 1, 1, 1, 1, 1, 1, 1, 1, 1, 1, 1, 1, 1, 1, 1, 1, 1, 1,\n",
       "       1, 1, 1, 1, 1, 1, 1, 1, 1, 1, 1, 1, 2, 2, 2, 2, 2, 2, 2, 2, 2, 2,\n",
       "       2, 2, 2, 2, 2, 2, 2, 2, 2, 2, 2, 2, 2, 2, 2, 2, 2, 2, 2, 2, 2, 2,\n",
       "       2, 2, 2, 2, 2, 2, 2, 2, 2, 2, 2, 2, 2, 2, 2, 2, 2, 2])"
      ]
     },
     "execution_count": 31,
     "metadata": {},
     "output_type": "execute_result"
    }
   ],
   "source": [
    "y"
   ]
  },
  {
   "cell_type": "code",
   "execution_count": 32,
   "id": "9260adce",
   "metadata": {},
   "outputs": [],
   "source": [
    "# Create k-fold object\n",
    "kfold = KFold(n_splits=3, shuffle=True, random_state=0)"
   ]
  },
  {
   "cell_type": "code",
   "execution_count": 33,
   "id": "8bd0889f",
   "metadata": {},
   "outputs": [
    {
     "name": "stdout",
     "output_type": "stream",
     "text": [
      "Train scores: [0.98 0.96 0.98]\n",
      "Test scores: [0.98 0.96 0.96]\n"
     ]
    }
   ],
   "source": [
    "# Apply cross-validation\n",
    "scores = cross_validate(logreg, X, y, cv=kfold, return_train_score=True)\n",
    "\n",
    "print('Train scores:', scores['train_score']) # \n",
    "print('Test scores:', scores['test_score']) #"
   ]
  },
  {
   "cell_type": "markdown",
   "id": "6c97334f",
   "metadata": {},
   "source": [
    "This time, we get accuracy scores around 97%.\n",
    "\n",
    "Note that we can also pass an integer value to the cv attribute. In this case, the cross_validate() function automatically creates a k-fold cross-validator object and sets its k value"
   ]
  },
  {
   "cell_type": "code",
   "execution_count": 34,
   "id": "06ae224c",
   "metadata": {},
   "outputs": [
    {
     "name": "stdout",
     "output_type": "stream",
     "text": [
      "Train scores: [0.94949495 1.         0.97058824]\n",
      "Test scores: [0.98039216 0.92156863 0.97916667]\n"
     ]
    }
   ],
   "source": [
    "# Apply cross-validation\n",
    "scores = cross_validate(logreg, X, y, cv=3, return_train_score=True)\n",
    "\n",
    "print('Train scores:', scores['train_score'])\n",
    "print('Test scores:', scores['test_score']) "
   ]
  },
  {
   "cell_type": "markdown",
   "id": "b09e1828",
   "metadata": {},
   "source": [
    "By default, it uses a variant of k-fold called **stratified k-fold for classification tasks. This strategy ensures that none of the k parts has a category that is under- or over-represented.** Hence, we get slightly different accuracy scores in the code from above.\n",
    "\n",
    "The most commonly used variants are 3, 5 or 10-fold cross-validations. Let's use the 10-fold one to get a final generalization error estimate for our iris classifier."
   ]
  },
  {
   "cell_type": "code",
   "execution_count": 35,
   "id": "6fb695db",
   "metadata": {},
   "outputs": [
    {
     "name": "stdout",
     "output_type": "stream",
     "text": [
      "Train mean: 0.975 std: 0.008\n",
      "Test mean: 0.960 std: 0.061\n"
     ]
    }
   ],
   "source": [
    "import numpy as np\n",
    "\n",
    "# Apply cross-validation\n",
    "scores = cross_validate(logreg, X, y, cv=10, return_train_score=True)\n",
    "\n",
    "# Get train/test scores\n",
    "train_scores = scores['train_score']\n",
    "test_scores = scores['test_score']\n",
    "\n",
    "# Print summary\n",
    "print('Train mean: {:.3f} std: {:.3f}'.format(\n",
    "    np.mean(train_scores), np.std(train_scores)))\n",
    "# Train mean: 0.975 std: 0.008\n",
    "\n",
    "print('Test mean: {:.3f} std: {:.3f}'.format(\n",
    "    np.mean(test_scores), np.std(test_scores)))\n",
    "# Test mean: 0.960 std: 0.061"
   ]
  },
  {
   "cell_type": "markdown",
   "id": "67989154",
   "metadata": {},
   "source": [
    "### Shuffle split strategy\n",
    "\n",
    "Note that Scikit-learn implements many other cross-validation strategies. For instance, we can use the ShuffleSplit one which creates \n",
    "n\n",
    " different train/test sets by shuffling the data. It's equivalent to applying \n",
    "n\n",
    " times the train_test_split() function. We can set \n",
    "n\n",
    " with the n_splits attribute."
   ]
  },
  {
   "cell_type": "code",
   "execution_count": 36,
   "id": "6c065a9f",
   "metadata": {},
   "outputs": [
    {
     "name": "stdout",
     "output_type": "stream",
     "text": [
      "Test mean: 0.955 std: 0.052\n"
     ]
    }
   ],
   "source": [
    "from sklearn.model_selection import ShuffleSplit\n",
    "\n",
    "# Try \"shuffle split\" strategy\n",
    "cv_type = ShuffleSplit(n_splits=10, test_size=20, random_state=0)\n",
    "\n",
    "# Apply cross-validation\n",
    "scores = cross_validate(logreg, X, y, cv=cv_type, return_train_score=True)\n",
    "\n",
    "# Test scores\n",
    "test_scores = scores['test_score']\n",
    "print('Test mean: {:.3f} std: {:.3f}'.format(\n",
    "    np.mean(test_scores), np.std(test_scores)))\n",
    "# Test mean: 0.955 std: 0.052"
   ]
  },
  {
   "cell_type": "markdown",
   "id": "d3735a26",
   "metadata": {},
   "source": [
    "### A note on cross-validation for time series data\n",
    "In time series analysis where the temporal order of data is important, we cannot perform cross-validation as described above. The reason is that the temporal order of the data should remain unchanged and the validation set has to be always ahead of the train set. Scikit-learn provides a cross-validator object for this purpose which is called **TimeSeriesSplit** and is a variant of KFold. However, with TimeSeriesSplit the \n",
    "k\n",
    "th split returns first \n",
    "k\n",
    " parts as train set and the \n",
    "(\n",
    "k\n",
    "+\n",
    "1\n",
    ")\n",
    "th part as a validation set.\n",
    "\n",
    "This image illustrates the time series split for \n",
    "k\n",
    "=\n",
    "3\n",
    " where we split the data into four parts, and there are three different ways to arrange these parts."
   ]
  },
  {
   "cell_type": "markdown",
   "id": "72448ae3",
   "metadata": {},
   "source": [
    "In the first row, the first part is used as the train set and the second part as the validation set. Similarly, in the third row, the first three parts are used as the train set and the fourth part as the validation set. In all cases, the train sets appear before the validation and therefore the time order of data is kept unchanged.\n",
    "The implementation of the time series cross-validator object is similar to the K-fold cross-validator discussed in this unit.\n",
    "\n",
    "### Summary\n",
    "\n",
    "In this unit, we learned about cross-validation and saw how to implement it with cross_validate(). In the next unit, we will see how to combine cross-validation and grid search together with GridSearchCV.\n",
    "\n",
    "\n",
    "Questions : \n",
    "\n",
    "* The KFold cross-validator has an inbuilt option to shuffle the data before splitting them (you need to set the shuffle parameter to True, as it defaults to False). However, this cross-validator won't ensure that the percentage of samples for each class is preserved in the respective folds.\n",
    "\n",
    "* StratifiedKFold is a nice variation of KFold; it will preserve the percentage of samples for each class and shuffle the data before splitting (if you set shuffle to True).\n",
    "\n",
    "* The stratified, K-Fold cross-validation performed by specifying cv=some_integer to cross_validate or GridSearchCV preserves the percentage of samples for each class but does not shuffle the data.\n",
    "\n",
    "* StratifiedShuffleSplit preserves the percentage of samples for each class and shuffles the data before each split.\n",
    "\n",
    "In my experience, the **stratified, K-Fold cross-validation** performed by specifying cv=some_integer is a good option, but don't hesitate to experiment with the other options if they make sense to you.\n",
    "\n",
    "You may find the discussions (here and here) useful.\n",
    "https://scikit-learn.org/stable/modules/cross_validation.html#a-note-on-shuffling\n",
    "https://stackoverflow.com/questions/45969390/difference-between-stratifiedkfold-and-stratifiedshufflesplit-in-sklearn"
   ]
  },
  {
   "cell_type": "code",
   "execution_count": null,
   "id": "24e48440",
   "metadata": {},
   "outputs": [],
   "source": []
  }
 ],
 "metadata": {
  "kernelspec": {
   "display_name": "Python 3",
   "language": "python",
   "name": "python3"
  },
  "language_info": {
   "codemirror_mode": {
    "name": "ipython",
    "version": 3
   },
   "file_extension": ".py",
   "mimetype": "text/x-python",
   "name": "python",
   "nbconvert_exporter": "python",
   "pygments_lexer": "ipython3",
   "version": "3.6.13"
  }
 },
 "nbformat": 4,
 "nbformat_minor": 5
}
