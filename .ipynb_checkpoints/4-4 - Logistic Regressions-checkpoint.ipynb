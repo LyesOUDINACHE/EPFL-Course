{
 "cells": [
  {
   "cell_type": "markdown",
   "id": "4941093b",
   "metadata": {},
   "source": [
    "# Logistic Regressions \n",
    "\n",
    "In a binary classification setting, we have a \"positive\" and a \"negative\" class, and we want to build a classifier that detects positive entries. One way to achieve this is to use numerical values to encode the two categories and fit a linear regression. For instance, we can encode negative entries with a 0 and positive ones with a 1 and then predict the positive class if our linear regression predicts a value above 0.5.\n",
    "\n",
    "The idea is a bit similar in logistic regressions. Instead of using a threshold, we convert the output of the linear regression model into probabilities using the logistic function, also **called sigmoid function**\n",
    "\n",
    "$σ(x)=1 / (1+e−x)$\n",
    "\n",
    "This function associates large negative values \n",
    "x\n",
    " with probabilities close to zero and large positive ones with probabilities close to one. Here is a plot of the function for \n",
    "x\n",
    " values between -6 and 6"
   ]
  },
  {
   "cell_type": "code",
   "execution_count": 1,
   "id": "df3d100a",
   "metadata": {},
   "outputs": [],
   "source": [
    "from IPython.display import Image"
   ]
  },
  {
   "cell_type": "code",
   "execution_count": 2,
   "id": "13ec33d7",
   "metadata": {},
   "outputs": [
    {
     "data": {
      "text/html": [
       "<img src=\"https://d7whxh71cqykp.cloudfront.net/uploads/image/data/3865/sigmoid.svg\"/>"
      ],
      "text/plain": [
       "<IPython.core.display.Image object>"
      ]
     },
     "execution_count": 2,
     "metadata": {},
     "output_type": "execute_result"
    }
   ],
   "source": [
    "Image(url='https://d7whxh71cqykp.cloudfront.net/uploads/image/data/3865/sigmoid.svg')"
   ]
  },
  {
   "cell_type": "markdown",
   "id": "5a8a52eb",
   "metadata": {},
   "source": [
    "The idea is to use this sigmoid function to compute the probability of being in the positive class. We can express this using the following formula.\n",
    "\n",
    "$p(y=1|x) = σ(f(x))$\n",
    "\n",
    "The probability that the target y is one (positive class) given its input value x is equal to the value of the sigmoid function at f(x) which corresponds to the output of our linear regression model. There are three cases.\n",
    "\n",
    "* p < 0.5 when the linear regression outputs a negative value.\n",
    "* p>0.5 when the output is positive.\n",
    "* p = 0.5 when f(x)=0\n",
    "\n",
    "In other words, the output of the linear regression $f(x)$ (called the logit) controls the uncertainty of the logistic regression model. Note that the probability of the negative class is simply one minus this probability.\n",
    "\n"
   ]
  },
  {
   "cell_type": "code",
   "execution_count": null,
   "id": "8c35e27b",
   "metadata": {},
   "outputs": [],
   "source": []
  }
 ],
 "metadata": {
  "kernelspec": {
   "display_name": "Python 3",
   "language": "python",
   "name": "python3"
  },
  "language_info": {
   "codemirror_mode": {
    "name": "ipython",
    "version": 3
   },
   "file_extension": ".py",
   "mimetype": "text/x-python",
   "name": "python",
   "nbconvert_exporter": "python",
   "pygments_lexer": "ipython3",
   "version": "3.6.13"
  }
 },
 "nbformat": 4,
 "nbformat_minor": 5
}
