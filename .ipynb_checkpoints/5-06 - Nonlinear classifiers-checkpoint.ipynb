{
 "cells": [
  {
   "cell_type": "markdown",
   "id": "1b998f0a",
   "metadata": {},
   "source": [
    "# Nonlinear Classifiers"
   ]
  },
  {
   "cell_type": "code",
   "execution_count": 1,
   "id": "a4b14207",
   "metadata": {},
   "outputs": [
    {
     "name": "stderr",
     "output_type": "stream",
     "text": [
      "C:\\Users\\lyeso\\anaconda3\\envs\\exts-ml\\lib\\site-packages\\h5py\\__init__.py:36: FutureWarning: Conversion of the second argument of issubdtype from `float` to `np.floating` is deprecated. In future, it will be treated as `np.float64 == np.dtype(float).type`.\n",
      "  from ._conv import register_converters as _register_converters\n",
      "WARNING:absl:Some hub symbols are not available because TensorFlow version is less than 1.14\n"
     ]
    }
   ],
   "source": [
    "import tensorflow as tf\n",
    "import tensorflow.keras as keras\n",
    "from tensorflow.keras import backend as K\n",
    "from tensorflow.keras.preprocessing.image import ImageDataGenerator\n",
    "import tensorflow_hub as hub\n",
    "import os\n",
    "import PIL.Image as Image\n",
    "import numpy as np\n",
    "import matplotlib.pyplot as plt\n",
    "import numpy as np\n",
    "import pandas as pd\n",
    "from sklearn.preprocessing import StandardScaler\n",
    "import sklearn as skl\n",
    "\n",
    "os.environ[\"CUDA_VISIBLE_DEVICES\"]= \"-1\" # Force Tensorflow on CPU instead of GPU (seems to avoid an error with my CUDA compatible GPU)"
   ]
  },
  {
   "cell_type": "markdown",
   "id": "6be89a9d",
   "metadata": {},
   "source": [
    "# Load Data"
   ]
  },
  {
   "cell_type": "code",
   "execution_count": 2,
   "id": "be05fc48",
   "metadata": {},
   "outputs": [],
   "source": [
    "# Load training data form NPZ file\n",
    "\n",
    "train_data = \"train.npz\"\n",
    "X_tr = np.load(train_data)[\"features\"]\n",
    "y_tr = np.load(train_data)[\"labels\"]\n",
    "images_tr = np.load(train_data)[\"pixels\"]\n",
    "names_tr = np.load(train_data)[\"names\"]\n",
    "\n",
    "valid_data = \"valid.npz\"\n",
    "X_val= np.load(valid_data)[\"features\"]\n",
    "y_val = np.load(valid_data)[\"labels\"]\n",
    "images_val = np.load(valid_data)[\"pixels\"]\n",
    "names_val = np.load(valid_data)[\"names\"]\n",
    "\n",
    "test_data = \"test.npz\"\n",
    "X_te= np.load(test_data)[\"features\"]\n",
    "y_te = np.load(test_data)[\"labels\"]\n",
    "images_te = np.load(test_data)[\"pixels\"]\n",
    "names_te = np.load(test_data)[\"names\"]\n",
    "\n",
    "# Create a dictionnary for labels\n",
    "labels_dict = {0: 'bike', 1 : 'car', 2: 'motorcycle', 3: 'other', 4:'truck', 5: 'van'}"
   ]
  },
  {
   "cell_type": "code",
   "execution_count": 3,
   "id": "baa77b64",
   "metadata": {},
   "outputs": [],
   "source": [
    "### Let's use a bigger dataset for training.\n",
    "\n",
    "X = np.concatenate((X_tr,X_val), axis=0, out=None)  # X for Cross Validation and Grid Search\n",
    "y = np.concatenate((y_tr,y_val), axis=0, out=None) "
   ]
  },
  {
   "cell_type": "code",
   "execution_count": 4,
   "id": "a1c85ddb",
   "metadata": {},
   "outputs": [],
   "source": [
    "from sklearn.ensemble import RandomForestClassifier"
   ]
  },
  {
   "cell_type": "code",
   "execution_count": 5,
   "id": "9a27e135",
   "metadata": {},
   "outputs": [
    {
     "data": {
      "text/plain": [
       "0.7"
      ]
     },
     "execution_count": 5,
     "metadata": {},
     "output_type": "execute_result"
    }
   ],
   "source": [
    "# Create a (large) random forest estimator\n",
    "dt = RandomForestClassifier(\n",
    "    n_estimators=1, max_depth=3, random_state=0)\n",
    "\n",
    "# Fit estimator\n",
    "dt.fit(X, y)\n",
    "\n",
    "#Check score\n",
    "dt.score(X_te, y_te)"
   ]
  },
  {
   "cell_type": "markdown",
   "id": "8d54ef27",
   "metadata": {},
   "source": [
    "### Random forest with 1 tree, and depth = 3 ==> We have indeed the same result as the decision tree we did earlier.\n",
    "\n",
    "# Random Forest with a large number of estimators and no depth limit :\n"
   ]
  },
  {
   "cell_type": "code",
   "execution_count": 6,
   "id": "d6b6d91f",
   "metadata": {},
   "outputs": [
    {
     "data": {
      "text/plain": [
       "0.92"
      ]
     },
     "execution_count": 6,
     "metadata": {},
     "output_type": "execute_result"
    }
   ],
   "source": [
    "# Create a (large) random forest estimator\n",
    "rf = RandomForestClassifier(\n",
    "    n_estimators=250, max_depth=None, random_state=0)\n",
    "\n",
    "# Fit estimator\n",
    "rf.fit(X, y)\n",
    "\n",
    "#Check score\n",
    "rf.score(X_te, y_te)"
   ]
  },
  {
   "cell_type": "markdown",
   "id": "63d06f10",
   "metadata": {},
   "source": [
    "Let's try a gridsearch to optimize the number of trees in this forest"
   ]
  },
  {
   "cell_type": "code",
   "execution_count": 7,
   "id": "bd3b2d6e",
   "metadata": {},
   "outputs": [],
   "source": [
    "from sklearn.model_selection import GridSearchCV\n",
    "\n",
    "# Create a list of number of trees to test (accurate at the begining from 1 to 10 then larger steps)\n",
    "low_trees= list(range(1, 21))\n",
    "high_trees = list(range(30, 400, 20))\n",
    "range_estimators =low_trees + high_trees\n",
    "\n",
    "grid_params = {'n_estimators' : range_estimators }"
   ]
  },
  {
   "cell_type": "code",
   "execution_count": 8,
   "id": "7baa5909",
   "metadata": {},
   "outputs": [],
   "source": [
    "gs_rf = GridSearchCV(rf, grid_params, verbose = -1, cv = 6, n_jobs = 4, scoring='accuracy', refit = True, iid = True, return_train_score=True)"
   ]
  },
  {
   "cell_type": "code",
   "execution_count": 9,
   "id": "f67a2ace",
   "metadata": {},
   "outputs": [
    {
     "name": "stderr",
     "output_type": "stream",
     "text": [
      "[Parallel(n_jobs=4)]: Using backend LokyBackend with 4 concurrent workers.\n",
      "[Parallel(n_jobs=4)]: Done 234 out of 234 | elapsed:   31.0s finished\n"
     ]
    }
   ],
   "source": [
    "gs_results = gs_rf.fit(X, y)"
   ]
  },
  {
   "cell_type": "code",
   "execution_count": 10,
   "id": "a8820ad5",
   "metadata": {},
   "outputs": [
    {
     "name": "stdout",
     "output_type": "stream",
     "text": [
      "Best Params : {'n_estimators': 230}\n",
      "Best Score : 0.9331742243436754\n"
     ]
    }
   ],
   "source": [
    "print('Best Params :',gs_results.best_params_)\n",
    "print('Best Score :',gs_results.best_score_)"
   ]
  },
  {
   "cell_type": "code",
   "execution_count": 11,
   "id": "c181d0e6",
   "metadata": {},
   "outputs": [
    {
     "data": {
      "text/plain": [
       "0.9"
      ]
     },
     "execution_count": 11,
     "metadata": {},
     "output_type": "execute_result"
    }
   ],
   "source": [
    "# Calculate accuracy with the best estimator of the GridSearch Cross Validation\n",
    "best_estimator = gs_results.best_estimator_\n",
    "best_estimator.score(X_te,y_te)"
   ]
  },
  {
   "cell_type": "code",
   "execution_count": 12,
   "id": "cb9ab1fc",
   "metadata": {},
   "outputs": [
    {
     "data": {
      "text/html": [
       "<div>\n",
       "<style scoped>\n",
       "    .dataframe tbody tr th:only-of-type {\n",
       "        vertical-align: middle;\n",
       "    }\n",
       "\n",
       "    .dataframe tbody tr th {\n",
       "        vertical-align: top;\n",
       "    }\n",
       "\n",
       "    .dataframe thead th {\n",
       "        text-align: right;\n",
       "    }\n",
       "</style>\n",
       "<table border=\"1\" class=\"dataframe\">\n",
       "  <thead>\n",
       "    <tr style=\"text-align: right;\">\n",
       "      <th></th>\n",
       "      <th>mean_test_score</th>\n",
       "      <th>std_test_score</th>\n",
       "      <th>mean_train_score</th>\n",
       "      <th>std_train_score</th>\n",
       "      <th>param_n_estimators</th>\n",
       "    </tr>\n",
       "  </thead>\n",
       "  <tbody>\n",
       "    <tr>\n",
       "      <th>0</th>\n",
       "      <td>0.737470</td>\n",
       "      <td>0.067734</td>\n",
       "      <td>0.894057</td>\n",
       "      <td>0.017250</td>\n",
       "      <td>1</td>\n",
       "    </tr>\n",
       "    <tr>\n",
       "      <th>1</th>\n",
       "      <td>0.727924</td>\n",
       "      <td>0.033224</td>\n",
       "      <td>0.894030</td>\n",
       "      <td>0.013368</td>\n",
       "      <td>2</td>\n",
       "    </tr>\n",
       "    <tr>\n",
       "      <th>2</th>\n",
       "      <td>0.797136</td>\n",
       "      <td>0.056852</td>\n",
       "      <td>0.964660</td>\n",
       "      <td>0.007040</td>\n",
       "      <td>3</td>\n",
       "    </tr>\n",
       "    <tr>\n",
       "      <th>3</th>\n",
       "      <td>0.813842</td>\n",
       "      <td>0.045716</td>\n",
       "      <td>0.978046</td>\n",
       "      <td>0.007867</td>\n",
       "      <td>4</td>\n",
       "    </tr>\n",
       "    <tr>\n",
       "      <th>4</th>\n",
       "      <td>0.835322</td>\n",
       "      <td>0.033791</td>\n",
       "      <td>0.987568</td>\n",
       "      <td>0.006782</td>\n",
       "      <td>5</td>\n",
       "    </tr>\n",
       "    <tr>\n",
       "      <th>5</th>\n",
       "      <td>0.849642</td>\n",
       "      <td>0.022051</td>\n",
       "      <td>0.991875</td>\n",
       "      <td>0.004529</td>\n",
       "      <td>6</td>\n",
       "    </tr>\n",
       "    <tr>\n",
       "      <th>6</th>\n",
       "      <td>0.854415</td>\n",
       "      <td>0.014093</td>\n",
       "      <td>0.992837</td>\n",
       "      <td>0.004300</td>\n",
       "      <td>7</td>\n",
       "    </tr>\n",
       "    <tr>\n",
       "      <th>7</th>\n",
       "      <td>0.873508</td>\n",
       "      <td>0.029351</td>\n",
       "      <td>0.994748</td>\n",
       "      <td>0.003051</td>\n",
       "      <td>8</td>\n",
       "    </tr>\n",
       "    <tr>\n",
       "      <th>8</th>\n",
       "      <td>0.883055</td>\n",
       "      <td>0.032690</td>\n",
       "      <td>0.997135</td>\n",
       "      <td>0.003304</td>\n",
       "      <td>9</td>\n",
       "    </tr>\n",
       "    <tr>\n",
       "      <th>9</th>\n",
       "      <td>0.885442</td>\n",
       "      <td>0.034815</td>\n",
       "      <td>0.997137</td>\n",
       "      <td>0.004041</td>\n",
       "      <td>10</td>\n",
       "    </tr>\n",
       "  </tbody>\n",
       "</table>\n",
       "</div>"
      ],
      "text/plain": [
       "   mean_test_score  std_test_score  mean_train_score  std_train_score  \\\n",
       "0         0.737470        0.067734          0.894057         0.017250   \n",
       "1         0.727924        0.033224          0.894030         0.013368   \n",
       "2         0.797136        0.056852          0.964660         0.007040   \n",
       "3         0.813842        0.045716          0.978046         0.007867   \n",
       "4         0.835322        0.033791          0.987568         0.006782   \n",
       "5         0.849642        0.022051          0.991875         0.004529   \n",
       "6         0.854415        0.014093          0.992837         0.004300   \n",
       "7         0.873508        0.029351          0.994748         0.003051   \n",
       "8         0.883055        0.032690          0.997135         0.003304   \n",
       "9         0.885442        0.034815          0.997137         0.004041   \n",
       "\n",
       "  param_n_estimators  \n",
       "0                  1  \n",
       "1                  2  \n",
       "2                  3  \n",
       "3                  4  \n",
       "4                  5  \n",
       "5                  6  \n",
       "6                  7  \n",
       "7                  8  \n",
       "8                  9  \n",
       "9                 10  "
      ]
     },
     "execution_count": 12,
     "metadata": {},
     "output_type": "execute_result"
    }
   ],
   "source": [
    "# Collect results in a DataFrame\n",
    "cv_results = pd.DataFrame(gs_results.cv_results_)\n",
    "\n",
    "# Print a few interesting columns\n",
    "cols = ['mean_test_score', 'std_test_score', 'mean_train_score', 'std_train_score','param_n_estimators']\n",
    "cv_results[cols].sort_values('param_n_estimators', ascending= True).head(10)"
   ]
  },
  {
   "cell_type": "code",
   "execution_count": 13,
   "id": "4bac5704",
   "metadata": {},
   "outputs": [
    {
     "data": {
      "image/png": "[encoded data removed]",
      "text/plain": [
       "<Figure size 432x288 with 1 Axes>"
      ]
     },
     "metadata": {
      "needs_background": "light"
     },
     "output_type": "display_data"
    }
   ],
   "source": [
    "plt.plot(cv_results['param_n_estimators'],cv_results['mean_test_score'])\n",
    "plt.plot(cv_results['param_n_estimators'],cv_results['mean_train_score'])\n",
    "\n",
    "plt.legend()\n",
    "    \n",
    "plt.xlabel('Number of trees', fontsize=12)\n",
    "plt.ylabel('Mean Accuracy', fontsize=16)\n",
    "\n",
    "plt.show()\n"
   ]
  },
  {
   "cell_type": "markdown",
   "id": "953de248",
   "metadata": {},
   "source": [
    "### After 10 trees, we can see our estimators is already overfitting the training set, indeed we don't have a lot of \"data\" (only 419 images, we could use an image_generator), then on the test set, it very slightly better until 200 trees where there is no need to go higher anymore."
   ]
  },
  {
   "cell_type": "markdown",
   "id": "f5cfb6be",
   "metadata": {},
   "source": [
    "# Support Vector Machine\n",
    "\n",
    "### Linear SVM"
   ]
  },
  {
   "cell_type": "code",
   "execution_count": 19,
   "id": "9074b546",
   "metadata": {},
   "outputs": [
    {
     "data": {
      "text/plain": [
       "0.96"
      ]
     },
     "execution_count": 19,
     "metadata": {},
     "output_type": "execute_result"
    }
   ],
   "source": [
    "from sklearn.svm import LinearSVC\n",
    "\n",
    "# SVM with linear kernel\n",
    "linear_svc = LinearSVC(random_state=0)\n",
    "linear_svc.fit(X, y)\n",
    "linear_svc.score(X_te,y_te)"
   ]
  },
  {
   "cell_type": "markdown",
   "id": "d3a50031",
   "metadata": {},
   "source": [
    "### RBF SVM"
   ]
  },
  {
   "cell_type": "code",
   "execution_count": 33,
   "id": "df0e1149",
   "metadata": {},
   "outputs": [
    {
     "data": {
      "text/plain": [
       "0.24"
      ]
     },
     "execution_count": 33,
     "metadata": {},
     "output_type": "execute_result"
    }
   ],
   "source": [
    "from sklearn.svm import SVC\n",
    "\n",
    "# RBF\n",
    "rbf_svc = SVC(kernel='rbf', C=1, gamma=0.10, random_state=0)\n",
    "rbf_svc.fit(X, y)\n",
    "rbf_svc.score(X_te,y_te)"
   ]
  },
  {
   "cell_type": "markdown",
   "id": "f078096b",
   "metadata": {},
   "source": [
    "# It seems support vector machine works way better when linear on the 2048 features instead of the RBF one.\n",
    "\n",
    "### Let's gridsearch the optimal parameters for the SVM RBF."
   ]
  },
  {
   "cell_type": "code",
   "execution_count": 27,
   "id": "7b2f2a64",
   "metadata": {},
   "outputs": [
    {
     "data": {
      "text/plain": [
       "dict_keys(['C', 'cache_size', 'class_weight', 'coef0', 'decision_function_shape', 'degree', 'gamma', 'kernel', 'max_iter', 'probability', 'random_state', 'shrinking', 'tol', 'verbose'])"
      ]
     },
     "execution_count": 27,
     "metadata": {},
     "output_type": "execute_result"
    }
   ],
   "source": [
    "rbf_svc.get_params().keys()"
   ]
  },
  {
   "cell_type": "code",
   "execution_count": 34,
   "id": "5ab6b47a",
   "metadata": {},
   "outputs": [],
   "source": [
    "from sklearn.model_selection import GridSearchCV\n",
    "\n",
    "grid_params = {'kernel' : ['rbf'],\n",
    "               'C' : np.logspace(-6, 4, num=11),\n",
    "               'gamma' : np.logspace(-6, 4, num=11)}"
   ]
  },
  {
   "cell_type": "code",
   "execution_count": 35,
   "id": "23341f21",
   "metadata": {},
   "outputs": [],
   "source": [
    "gs = GridSearchCV(rbf_svc, grid_params, verbose = -1, cv = 6, n_jobs = 4, scoring='accuracy', refit = True, iid = True, return_train_score=True)"
   ]
  },
  {
   "cell_type": "code",
   "execution_count": null,
   "id": "a5311db2",
   "metadata": {},
   "outputs": [
    {
     "name": "stderr",
     "output_type": "stream",
     "text": [
      "[Parallel(n_jobs=4)]: Using backend LokyBackend with 4 concurrent workers.\n"
     ]
    }
   ],
   "source": [
    "gs_results = gs.fit(X, y)"
   ]
  },
  {
   "cell_type": "code",
   "execution_count": null,
   "id": "e4c42402",
   "metadata": {},
   "outputs": [],
   "source": [
    "print('Best Params :',gs_results.best_params_)\n",
    "print('Best Score :',gs_results.best_score_)"
   ]
  },
  {
   "cell_type": "code",
   "execution_count": null,
   "id": "210b10c0",
   "metadata": {},
   "outputs": [],
   "source": []
  },
  {
   "cell_type": "markdown",
   "id": "e088d0ce",
   "metadata": {},
   "source": [
    "### Even after GridSearch, I have a similar accuracy but not better than Linear SVC."
   ]
  },
  {
   "cell_type": "code",
   "execution_count": null,
   "id": "437a61bd",
   "metadata": {},
   "outputs": [],
   "source": []
  }
 ],
 "metadata": {
  "kernelspec": {
   "display_name": "Python 3",
   "language": "python",
   "name": "python3"
  },
  "language_info": {
   "codemirror_mode": {
    "name": "ipython",
    "version": 3
   },
   "file_extension": ".py",
   "mimetype": "text/x-python",
   "name": "python",
   "nbconvert_exporter": "python",
   "pygments_lexer": "ipython3",
   "version": "3.6.13"
  }
 },
 "nbformat": 4,
 "nbformat_minor": 5
}
