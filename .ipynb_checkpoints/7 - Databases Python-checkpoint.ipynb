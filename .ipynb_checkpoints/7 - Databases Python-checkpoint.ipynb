{
 "cells": [
  {
   "cell_type": "markdown",
   "id": "interracial-scroll",
   "metadata": {},
   "source": [
    "# Data models and relational SQL\n",
    "\n",
    "So far we have seen how Python and Pandas are excellent tools for manipulating data but if we want to store this data long term then a DataFrame is not the best solution. What we need is a database.\n",
    "\n",
    "After text files and spreadsheets, databases are perhaps the most common form of data storage that you will come across as a data scientist. \n",
    "\n",
    "So why are databases so important? One of their main advantages is that they can really handle data on a massive scale. Usually, this data is much larger than what can fit in the memory of a computer. So databases are made to work with data that is stored outside memory on a disc. A nice feature of databases is that the structure of the data is independent of the way that the data is stored on the disc. This means that we can change the way the data is stored without worrying about changing the actual programs that work with the data.\n",
    "\n",
    "Now another main advantage of databases is that they allow very efficient and reliable storage and access to this data. This is due to the rigid structure of the data. A third property is that they are an extremely safe option for data storage due to their multiple built-in mechanisms that ensure the data will stay consistent regardless of external factors such as software or hardware failures. In fact, data stored in databases is intended to even outlive the programs that are run on it. One final advantage of databases is that multiple programs can operate on the same database since they have built-in concurrency systems that control how different users or applications can access the data."
   ]
  },
  {
   "cell_type": "markdown",
   "id": "progressive-privacy",
   "metadata": {},
   "source": [
    "#### The relational model\n",
    "\n",
    "ne of the oldest and most common models for a database is the relational model. This is the model that is used by the vast majority of commercial database systems. The main components of a relational database are the following:\n",
    "\n",
    "- relations (these are the tables)\n",
    "- attributes (these are the columns of the tables)\n",
    "- tuples (these are the rows of the tables)\n",
    "\n",
    "Another use of the keys is to relate different relations of a database. Normally databases will have several relations in them. We can relate two relations of a database by linking their keys. There are three types of linking that we can perform\n",
    "\n",
    "- one-to-one each key of the first relation relates to only one (or no) tuples in the related table.\n",
    "- one-to-many each key of the first relation relates to none, one, or many tuples in the related table\n",
    "- many-to-many each record in both tables can relate to any number of tuples (or no tuples) in the other table."
   ]
  },
  {
   "cell_type": "markdown",
   "id": "residential-circumstances",
   "metadata": {},
   "source": [
    "#### SQL\n",
    "\n",
    "Once we have set up a schema and loaded some data into the database we can start to query this data and modify it. This is done using specific high-level languages. The advantage of using these high-level languages is that we can write our queries in a simple and compact format without really worrying about the algorithms behind which implement these queries.\n",
    "\n",
    "Now there are many different choices for relational query languages. One of the most popular ones is SQL (pronounced \"sequel\" or \"ess-que-el\") which stands for Structured Query Language. It was first described in 1970 in Edgar F. Codds's 1970 paper \"A Relational Model of Data for Large Shared Data Banks\" and has been a standard for the American National Standards Institute since 1986. Since then it has become the language of choice for databases in most companies and commercial settings.\n",
    "\n",
    "An important property of SQL is that it can be used with many different database systems such as Oracle, MySQL, Microsoft SQL Server, PostgreSQL, and SQLite to name a few.\n",
    "\n",
    "#### SQLite\n",
    "\n",
    "To work with databases in Python we must first choose a database system. There are many different systems available such as Oracle, MySQL, Microsoft SQL Server, PostgreSQL, and SQLite to name a few. They each have their own advantages and can be used for different purposes.\n",
    "\n",
    "SQLite is what is known as an embedded or file-based database, while MySQL, Oracle, and PostgreSQL are server-based databases. Essentially each type of database is trying to solve a different problem. Embedded databases are great for small-scale applications and they run locally on your PC rather than a remote server. Each database is stored as a single file on disk. This makes them a great choice if you want to optimize economy, efficiency, independence, and simplicity. **Server-based databases, on the other hand, are better for larger and more complex data where you are interested in scalability, concurrency, centralization and control**\n",
    "\n",
    "**In this course, we will focus on SQLite since it makes a great choice for an introduction to SQL. In addition, SQLite is already built into Python and we can use a special library to access the SQLite databases called sqlite3.**\n",
    "\n",
    "\n",
    "In this unit, we will look at exploring our first database with some simple SQL queries. The database that we will work with is the SF Bay Area Bike Share from Kaggle. You can download the 'database.sqlite' file from the resources tab of this unit or the link\n",
    "\n",
    "#### Connecting to the database"
   ]
  },
  {
   "cell_type": "code",
   "execution_count": 1,
   "id": "starting-decision",
   "metadata": {},
   "outputs": [],
   "source": [
    "import pandas as pd\n",
    "import sqlite3"
   ]
  },
  {
   "cell_type": "code",
   "execution_count": 2,
   "id": "coral-acquisition",
   "metadata": {},
   "outputs": [],
   "source": [
    "db = sqlite3.connect('database.sqlite')"
   ]
  },
  {
   "cell_type": "markdown",
   "id": "dominant-sense",
   "metadata": {},
   "source": [
    "**The variable db is now a Connection object.** We can now use the pandas function read_sql_query to read the results of a SQL query on db directly into a pandas DataFrame. You will see that this is extremely convenient and useful.\n",
    "\n",
    "**pd.read_sql_query(\"SQL query\", db)**"
   ]
  },
  {
   "cell_type": "code",
   "execution_count": 3,
   "id": "resident-optimum",
   "metadata": {},
   "outputs": [],
   "source": [
    "def run_query(query):\n",
    "    return pd.read_sql_query(query,db)\n"
   ]
  },
  {
   "cell_type": "markdown",
   "id": "published-pixel",
   "metadata": {},
   "source": [
    "#### Fetching Data: SQL SELECT Queries\n",
    "\n",
    "The most common keywords are the following:\n",
    "\n",
    "- SELECT to mention which columns we want to be returned\n",
    "- FROM to mention from which table\n",
    "- LIMIT to mention how many rows we want to be returned\n",
    "- WHERE to add one or more conditions that must be met by the selected data (i.e. for filtering the data)\n",
    "- ORDER BY to sort the rows of the selected data"
   ]
  },
  {
   "cell_type": "code",
   "execution_count": 4,
   "id": "civic-sound",
   "metadata": {},
   "outputs": [
    {
     "data": {
      "text/html": [
       "<div>\n",
       "<style scoped>\n",
       "    .dataframe tbody tr th:only-of-type {\n",
       "        vertical-align: middle;\n",
       "    }\n",
       "\n",
       "    .dataframe tbody tr th {\n",
       "        vertical-align: top;\n",
       "    }\n",
       "\n",
       "    .dataframe thead th {\n",
       "        text-align: right;\n",
       "    }\n",
       "</style>\n",
       "<table border=\"1\" class=\"dataframe\">\n",
       "  <thead>\n",
       "    <tr style=\"text-align: right;\">\n",
       "      <th></th>\n",
       "      <th>tbl_name</th>\n",
       "    </tr>\n",
       "  </thead>\n",
       "  <tbody>\n",
       "    <tr>\n",
       "      <th>0</th>\n",
       "      <td>station</td>\n",
       "    </tr>\n",
       "    <tr>\n",
       "      <th>1</th>\n",
       "      <td>status</td>\n",
       "    </tr>\n",
       "    <tr>\n",
       "      <th>2</th>\n",
       "      <td>trip</td>\n",
       "    </tr>\n",
       "    <tr>\n",
       "      <th>3</th>\n",
       "      <td>weather</td>\n",
       "    </tr>\n",
       "  </tbody>\n",
       "</table>\n",
       "</div>"
      ],
      "text/plain": [
       "  tbl_name\n",
       "0  station\n",
       "1   status\n",
       "2     trip\n",
       "3  weather"
      ]
     },
     "execution_count": 4,
     "metadata": {},
     "output_type": "execute_result"
    }
   ],
   "source": [
    " run_query(\"SELECT tbl_name FROM sqlite_master;\")"
   ]
  },
  {
   "cell_type": "code",
   "execution_count": 5,
   "id": "satisfied-conjunction",
   "metadata": {},
   "outputs": [
    {
     "data": {
      "text/html": [
       "<div>\n",
       "<style scoped>\n",
       "    .dataframe tbody tr th:only-of-type {\n",
       "        vertical-align: middle;\n",
       "    }\n",
       "\n",
       "    .dataframe tbody tr th {\n",
       "        vertical-align: top;\n",
       "    }\n",
       "\n",
       "    .dataframe thead th {\n",
       "        text-align: right;\n",
       "    }\n",
       "</style>\n",
       "<table border=\"1\" class=\"dataframe\">\n",
       "  <thead>\n",
       "    <tr style=\"text-align: right;\">\n",
       "      <th></th>\n",
       "      <th>id</th>\n",
       "      <th>duration</th>\n",
       "      <th>start_date</th>\n",
       "      <th>start_station_name</th>\n",
       "      <th>start_station_id</th>\n",
       "      <th>end_date</th>\n",
       "      <th>end_station_name</th>\n",
       "      <th>end_station_id</th>\n",
       "      <th>bike_id</th>\n",
       "      <th>subscription_type</th>\n",
       "      <th>zip_code</th>\n",
       "    </tr>\n",
       "  </thead>\n",
       "  <tbody>\n",
       "    <tr>\n",
       "      <th>0</th>\n",
       "      <td>4069</td>\n",
       "      <td>174</td>\n",
       "      <td>8/29/2013 9:08</td>\n",
       "      <td>2nd at South Park</td>\n",
       "      <td>64</td>\n",
       "      <td>8/29/2013 9:11</td>\n",
       "      <td>2nd at South Park</td>\n",
       "      <td>64</td>\n",
       "      <td>288</td>\n",
       "      <td>Subscriber</td>\n",
       "      <td>94114</td>\n",
       "    </tr>\n",
       "    <tr>\n",
       "      <th>1</th>\n",
       "      <td>4073</td>\n",
       "      <td>1067</td>\n",
       "      <td>8/29/2013 9:24</td>\n",
       "      <td>South Van Ness at Market</td>\n",
       "      <td>66</td>\n",
       "      <td>8/29/2013 9:42</td>\n",
       "      <td>San Francisco Caltrain 2 (330 Townsend)</td>\n",
       "      <td>69</td>\n",
       "      <td>321</td>\n",
       "      <td>Subscriber</td>\n",
       "      <td>94703</td>\n",
       "    </tr>\n",
       "    <tr>\n",
       "      <th>2</th>\n",
       "      <td>4074</td>\n",
       "      <td>1131</td>\n",
       "      <td>8/29/2013 9:24</td>\n",
       "      <td>South Van Ness at Market</td>\n",
       "      <td>66</td>\n",
       "      <td>8/29/2013 9:43</td>\n",
       "      <td>San Francisco Caltrain 2 (330 Townsend)</td>\n",
       "      <td>69</td>\n",
       "      <td>317</td>\n",
       "      <td>Subscriber</td>\n",
       "      <td>94115</td>\n",
       "    </tr>\n",
       "    <tr>\n",
       "      <th>3</th>\n",
       "      <td>4075</td>\n",
       "      <td>1117</td>\n",
       "      <td>8/29/2013 9:24</td>\n",
       "      <td>South Van Ness at Market</td>\n",
       "      <td>66</td>\n",
       "      <td>8/29/2013 9:43</td>\n",
       "      <td>San Francisco Caltrain 2 (330 Townsend)</td>\n",
       "      <td>69</td>\n",
       "      <td>316</td>\n",
       "      <td>Subscriber</td>\n",
       "      <td>94122</td>\n",
       "    </tr>\n",
       "    <tr>\n",
       "      <th>4</th>\n",
       "      <td>4076</td>\n",
       "      <td>1118</td>\n",
       "      <td>8/29/2013 9:25</td>\n",
       "      <td>South Van Ness at Market</td>\n",
       "      <td>66</td>\n",
       "      <td>8/29/2013 9:43</td>\n",
       "      <td>San Francisco Caltrain 2 (330 Townsend)</td>\n",
       "      <td>69</td>\n",
       "      <td>322</td>\n",
       "      <td>Subscriber</td>\n",
       "      <td>94597</td>\n",
       "    </tr>\n",
       "  </tbody>\n",
       "</table>\n",
       "</div>"
      ],
      "text/plain": [
       "     id  duration      start_date        start_station_name  start_station_id  \\\n",
       "0  4069       174  8/29/2013 9:08         2nd at South Park                64   \n",
       "1  4073      1067  8/29/2013 9:24  South Van Ness at Market                66   \n",
       "2  4074      1131  8/29/2013 9:24  South Van Ness at Market                66   \n",
       "3  4075      1117  8/29/2013 9:24  South Van Ness at Market                66   \n",
       "4  4076      1118  8/29/2013 9:25  South Van Ness at Market                66   \n",
       "\n",
       "         end_date                         end_station_name  end_station_id  \\\n",
       "0  8/29/2013 9:11                        2nd at South Park              64   \n",
       "1  8/29/2013 9:42  San Francisco Caltrain 2 (330 Townsend)              69   \n",
       "2  8/29/2013 9:43  San Francisco Caltrain 2 (330 Townsend)              69   \n",
       "3  8/29/2013 9:43  San Francisco Caltrain 2 (330 Townsend)              69   \n",
       "4  8/29/2013 9:43  San Francisco Caltrain 2 (330 Townsend)              69   \n",
       "\n",
       "   bike_id subscription_type  zip_code  \n",
       "0      288        Subscriber     94114  \n",
       "1      321        Subscriber     94703  \n",
       "2      317        Subscriber     94115  \n",
       "3      316        Subscriber     94122  \n",
       "4      322        Subscriber     94597  "
      ]
     },
     "execution_count": 5,
     "metadata": {},
     "output_type": "execute_result"
    }
   ],
   "source": [
    " run_query(\"SELECT * FROM trip LIMIT 5;\")"
   ]
  },
  {
   "cell_type": "code",
   "execution_count": 6,
   "id": "certain-retreat",
   "metadata": {},
   "outputs": [
    {
     "data": {
      "text/html": [
       "<div>\n",
       "<style scoped>\n",
       "    .dataframe tbody tr th:only-of-type {\n",
       "        vertical-align: middle;\n",
       "    }\n",
       "\n",
       "    .dataframe tbody tr th {\n",
       "        vertical-align: top;\n",
       "    }\n",
       "\n",
       "    .dataframe thead th {\n",
       "        text-align: right;\n",
       "    }\n",
       "</style>\n",
       "<table border=\"1\" class=\"dataframe\">\n",
       "  <thead>\n",
       "    <tr style=\"text-align: right;\">\n",
       "      <th></th>\n",
       "      <th>start_station_name</th>\n",
       "      <th>end_station_name</th>\n",
       "      <th>duration</th>\n",
       "    </tr>\n",
       "  </thead>\n",
       "  <tbody>\n",
       "    <tr>\n",
       "      <th>0</th>\n",
       "      <td>2nd at South Park</td>\n",
       "      <td>2nd at South Park</td>\n",
       "      <td>174</td>\n",
       "    </tr>\n",
       "    <tr>\n",
       "      <th>1</th>\n",
       "      <td>South Van Ness at Market</td>\n",
       "      <td>San Francisco Caltrain 2 (330 Townsend)</td>\n",
       "      <td>1067</td>\n",
       "    </tr>\n",
       "    <tr>\n",
       "      <th>2</th>\n",
       "      <td>South Van Ness at Market</td>\n",
       "      <td>San Francisco Caltrain 2 (330 Townsend)</td>\n",
       "      <td>1131</td>\n",
       "    </tr>\n",
       "    <tr>\n",
       "      <th>3</th>\n",
       "      <td>South Van Ness at Market</td>\n",
       "      <td>San Francisco Caltrain 2 (330 Townsend)</td>\n",
       "      <td>1117</td>\n",
       "    </tr>\n",
       "    <tr>\n",
       "      <th>4</th>\n",
       "      <td>South Van Ness at Market</td>\n",
       "      <td>San Francisco Caltrain 2 (330 Townsend)</td>\n",
       "      <td>1118</td>\n",
       "    </tr>\n",
       "  </tbody>\n",
       "</table>\n",
       "</div>"
      ],
      "text/plain": [
       "         start_station_name                         end_station_name  duration\n",
       "0         2nd at South Park                        2nd at South Park       174\n",
       "1  South Van Ness at Market  San Francisco Caltrain 2 (330 Townsend)      1067\n",
       "2  South Van Ness at Market  San Francisco Caltrain 2 (330 Townsend)      1131\n",
       "3  South Van Ness at Market  San Francisco Caltrain 2 (330 Townsend)      1117\n",
       "4  South Van Ness at Market  San Francisco Caltrain 2 (330 Townsend)      1118"
      ]
     },
     "execution_count": 6,
     "metadata": {},
     "output_type": "execute_result"
    }
   ],
   "source": [
    " run_query(\"SELECT start_station_name, end_station_name, duration FROM trip LIMIT 5;\")"
   ]
  },
  {
   "cell_type": "code",
   "execution_count": 7,
   "id": "hazardous-trailer",
   "metadata": {},
   "outputs": [
    {
     "data": {
      "text/html": [
       "<div>\n",
       "<style scoped>\n",
       "    .dataframe tbody tr th:only-of-type {\n",
       "        vertical-align: middle;\n",
       "    }\n",
       "\n",
       "    .dataframe tbody tr th {\n",
       "        vertical-align: top;\n",
       "    }\n",
       "\n",
       "    .dataframe thead th {\n",
       "        text-align: right;\n",
       "    }\n",
       "</style>\n",
       "<table border=\"1\" class=\"dataframe\">\n",
       "  <thead>\n",
       "    <tr style=\"text-align: right;\">\n",
       "      <th></th>\n",
       "      <th>start_station_name</th>\n",
       "      <th>end_station_name</th>\n",
       "      <th>duration</th>\n",
       "    </tr>\n",
       "  </thead>\n",
       "  <tbody>\n",
       "    <tr>\n",
       "      <th>0</th>\n",
       "      <td>Paseo de San Antonio</td>\n",
       "      <td>Adobe on Almaden</td>\n",
       "      <td>12280</td>\n",
       "    </tr>\n",
       "    <tr>\n",
       "      <th>1</th>\n",
       "      <td>Paseo de San Antonio</td>\n",
       "      <td>San Jose Diridon Caltrain Station</td>\n",
       "      <td>454</td>\n",
       "    </tr>\n",
       "    <tr>\n",
       "      <th>2</th>\n",
       "      <td>Paseo de San Antonio</td>\n",
       "      <td>Paseo de San Antonio</td>\n",
       "      <td>1481</td>\n",
       "    </tr>\n",
       "    <tr>\n",
       "      <th>3</th>\n",
       "      <td>Paseo de San Antonio</td>\n",
       "      <td>Paseo de San Antonio</td>\n",
       "      <td>1475</td>\n",
       "    </tr>\n",
       "    <tr>\n",
       "      <th>4</th>\n",
       "      <td>Paseo de San Antonio</td>\n",
       "      <td>San Jose Diridon Caltrain Station</td>\n",
       "      <td>573</td>\n",
       "    </tr>\n",
       "  </tbody>\n",
       "</table>\n",
       "</div>"
      ],
      "text/plain": [
       "     start_station_name                   end_station_name  duration\n",
       "0  Paseo de San Antonio                   Adobe on Almaden     12280\n",
       "1  Paseo de San Antonio  San Jose Diridon Caltrain Station       454\n",
       "2  Paseo de San Antonio               Paseo de San Antonio      1481\n",
       "3  Paseo de San Antonio               Paseo de San Antonio      1475\n",
       "4  Paseo de San Antonio  San Jose Diridon Caltrain Station       573"
      ]
     },
     "execution_count": 7,
     "metadata": {},
     "output_type": "execute_result"
    }
   ],
   "source": [
    "query = '''\n",
    "SELECT start_station_name, end_station_name, duration FROM trip \n",
    "WHERE start_station_name = 'Paseo de San Antonio' \n",
    "LIMIT 5;\n",
    "'''\n",
    "run_query(query)"
   ]
  },
  {
   "cell_type": "code",
   "execution_count": 8,
   "id": "liked-bradford",
   "metadata": {},
   "outputs": [
    {
     "data": {
      "text/html": [
       "<div>\n",
       "<style scoped>\n",
       "    .dataframe tbody tr th:only-of-type {\n",
       "        vertical-align: middle;\n",
       "    }\n",
       "\n",
       "    .dataframe tbody tr th {\n",
       "        vertical-align: top;\n",
       "    }\n",
       "\n",
       "    .dataframe thead th {\n",
       "        text-align: right;\n",
       "    }\n",
       "</style>\n",
       "<table border=\"1\" class=\"dataframe\">\n",
       "  <thead>\n",
       "    <tr style=\"text-align: right;\">\n",
       "      <th></th>\n",
       "      <th>start_station_name</th>\n",
       "      <th>end_station_name</th>\n",
       "      <th>duration</th>\n",
       "    </tr>\n",
       "  </thead>\n",
       "  <tbody>\n",
       "    <tr>\n",
       "      <th>0</th>\n",
       "      <td>Mountain View City Hall</td>\n",
       "      <td>Mountain View City Hall</td>\n",
       "      <td>71</td>\n",
       "    </tr>\n",
       "    <tr>\n",
       "      <th>1</th>\n",
       "      <td>San Jose City Hall</td>\n",
       "      <td>San Jose City Hall</td>\n",
       "      <td>77</td>\n",
       "    </tr>\n",
       "    <tr>\n",
       "      <th>2</th>\n",
       "      <td>South Van Ness at Market</td>\n",
       "      <td>Market at 10th</td>\n",
       "      <td>83</td>\n",
       "    </tr>\n",
       "    <tr>\n",
       "      <th>3</th>\n",
       "      <td>South Van Ness at Market</td>\n",
       "      <td>South Van Ness at Market</td>\n",
       "      <td>63</td>\n",
       "    </tr>\n",
       "    <tr>\n",
       "      <th>4</th>\n",
       "      <td>San Jose City Hall</td>\n",
       "      <td>San Jose City Hall</td>\n",
       "      <td>70</td>\n",
       "    </tr>\n",
       "  </tbody>\n",
       "</table>\n",
       "</div>"
      ],
      "text/plain": [
       "         start_station_name          end_station_name  duration\n",
       "0   Mountain View City Hall   Mountain View City Hall        71\n",
       "1        San Jose City Hall        San Jose City Hall        77\n",
       "2  South Van Ness at Market            Market at 10th        83\n",
       "3  South Van Ness at Market  South Van Ness at Market        63\n",
       "4        San Jose City Hall        San Jose City Hall        70"
      ]
     },
     "execution_count": 8,
     "metadata": {},
     "output_type": "execute_result"
    }
   ],
   "source": [
    "query='''\n",
    "SELECT start_station_name, end_station_name, duration FROM trip \n",
    "WHERE duration<100 \n",
    "LIMIT 5\n",
    "'''\n",
    "run_query(query)"
   ]
  },
  {
   "cell_type": "code",
   "execution_count": 9,
   "id": "heavy-fleet",
   "metadata": {},
   "outputs": [
    {
     "data": {
      "text/html": [
       "<div>\n",
       "<style scoped>\n",
       "    .dataframe tbody tr th:only-of-type {\n",
       "        vertical-align: middle;\n",
       "    }\n",
       "\n",
       "    .dataframe tbody tr th {\n",
       "        vertical-align: top;\n",
       "    }\n",
       "\n",
       "    .dataframe thead th {\n",
       "        text-align: right;\n",
       "    }\n",
       "</style>\n",
       "<table border=\"1\" class=\"dataframe\">\n",
       "  <thead>\n",
       "    <tr style=\"text-align: right;\">\n",
       "      <th></th>\n",
       "      <th>start_station_name</th>\n",
       "      <th>end_station_name</th>\n",
       "      <th>duration</th>\n",
       "    </tr>\n",
       "  </thead>\n",
       "  <tbody>\n",
       "    <tr>\n",
       "      <th>0</th>\n",
       "      <td>Paseo de San Antonio</td>\n",
       "      <td>Paseo de San Antonio</td>\n",
       "      <td>87</td>\n",
       "    </tr>\n",
       "    <tr>\n",
       "      <th>1</th>\n",
       "      <td>Paseo de San Antonio</td>\n",
       "      <td>Paseo de San Antonio</td>\n",
       "      <td>69</td>\n",
       "    </tr>\n",
       "    <tr>\n",
       "      <th>2</th>\n",
       "      <td>Paseo de San Antonio</td>\n",
       "      <td>Paseo de San Antonio</td>\n",
       "      <td>94</td>\n",
       "    </tr>\n",
       "    <tr>\n",
       "      <th>3</th>\n",
       "      <td>Paseo de San Antonio</td>\n",
       "      <td>Paseo de San Antonio</td>\n",
       "      <td>82</td>\n",
       "    </tr>\n",
       "    <tr>\n",
       "      <th>4</th>\n",
       "      <td>Paseo de San Antonio</td>\n",
       "      <td>Paseo de San Antonio</td>\n",
       "      <td>65</td>\n",
       "    </tr>\n",
       "  </tbody>\n",
       "</table>\n",
       "</div>"
      ],
      "text/plain": [
       "     start_station_name      end_station_name  duration\n",
       "0  Paseo de San Antonio  Paseo de San Antonio        87\n",
       "1  Paseo de San Antonio  Paseo de San Antonio        69\n",
       "2  Paseo de San Antonio  Paseo de San Antonio        94\n",
       "3  Paseo de San Antonio  Paseo de San Antonio        82\n",
       "4  Paseo de San Antonio  Paseo de San Antonio        65"
      ]
     },
     "execution_count": 9,
     "metadata": {},
     "output_type": "execute_result"
    }
   ],
   "source": [
    "query='''\n",
    "SELECT start_station_name, end_station_name, duration FROM trip \n",
    "WHERE (duration<100) AND (start_station_name = 'Paseo de San Antonio')\n",
    "LIMIT 5;\n",
    "'''\n",
    "run_query(query)"
   ]
  },
  {
   "cell_type": "markdown",
   "id": "weekly-function",
   "metadata": {},
   "source": [
    "ere are also a few additional operators that we can use with the **WHERE** keyword. For example **BETWEEN** lets us specify a range of values for a numerical column, and **IN** lets us specify a set of values.\n",
    "\n",
    "One last keyword that we will look at is **ORDER BY**. Here we can include one or more column names that specify the sort order. By default, the order is ascending and if we want descending we must include the **DESC** keyword after the column name."
   ]
  },
  {
   "cell_type": "code",
   "execution_count": 10,
   "id": "combined-purpose",
   "metadata": {},
   "outputs": [
    {
     "data": {
      "text/html": [
       "<div>\n",
       "<style scoped>\n",
       "    .dataframe tbody tr th:only-of-type {\n",
       "        vertical-align: middle;\n",
       "    }\n",
       "\n",
       "    .dataframe tbody tr th {\n",
       "        vertical-align: top;\n",
       "    }\n",
       "\n",
       "    .dataframe thead th {\n",
       "        text-align: right;\n",
       "    }\n",
       "</style>\n",
       "<table border=\"1\" class=\"dataframe\">\n",
       "  <thead>\n",
       "    <tr style=\"text-align: right;\">\n",
       "      <th></th>\n",
       "      <th>start_station_name</th>\n",
       "      <th>end_station_name</th>\n",
       "      <th>duration</th>\n",
       "    </tr>\n",
       "  </thead>\n",
       "  <tbody>\n",
       "    <tr>\n",
       "      <th>0</th>\n",
       "      <td>Paseo de San Antonio</td>\n",
       "      <td>Japantown</td>\n",
       "      <td>288430</td>\n",
       "    </tr>\n",
       "    <tr>\n",
       "      <th>1</th>\n",
       "      <td>Paseo de San Antonio</td>\n",
       "      <td>MLK Library</td>\n",
       "      <td>167156</td>\n",
       "    </tr>\n",
       "    <tr>\n",
       "      <th>2</th>\n",
       "      <td>Paseo de San Antonio</td>\n",
       "      <td>SJSU 4th at San Carlos</td>\n",
       "      <td>127342</td>\n",
       "    </tr>\n",
       "    <tr>\n",
       "      <th>3</th>\n",
       "      <td>Paseo de San Antonio</td>\n",
       "      <td>San Jose City Hall</td>\n",
       "      <td>87387</td>\n",
       "    </tr>\n",
       "    <tr>\n",
       "      <th>4</th>\n",
       "      <td>Paseo de San Antonio</td>\n",
       "      <td>San Jose City Hall</td>\n",
       "      <td>87368</td>\n",
       "    </tr>\n",
       "  </tbody>\n",
       "</table>\n",
       "</div>"
      ],
      "text/plain": [
       "     start_station_name        end_station_name  duration\n",
       "0  Paseo de San Antonio               Japantown    288430\n",
       "1  Paseo de San Antonio             MLK Library    167156\n",
       "2  Paseo de San Antonio  SJSU 4th at San Carlos    127342\n",
       "3  Paseo de San Antonio      San Jose City Hall     87387\n",
       "4  Paseo de San Antonio      San Jose City Hall     87368"
      ]
     },
     "execution_count": 10,
     "metadata": {},
     "output_type": "execute_result"
    }
   ],
   "source": [
    " query='''\n",
    "SELECT start_station_name, end_station_name, duration FROM trip \n",
    "WHERE start_station_name = 'Paseo de San Antonio' \n",
    "ORDER BY duration DESC \n",
    "LIMIT 5;\n",
    "'''\n",
    "run_query(query)"
   ]
  },
  {
   "cell_type": "markdown",
   "id": "handed-professor",
   "metadata": {},
   "source": [
    "#### Aggregate funcions"
   ]
  },
  {
   "cell_type": "code",
   "execution_count": 11,
   "id": "proud-diploma",
   "metadata": {},
   "outputs": [
    {
     "data": {
      "text/html": [
       "<div>\n",
       "<style scoped>\n",
       "    .dataframe tbody tr th:only-of-type {\n",
       "        vertical-align: middle;\n",
       "    }\n",
       "\n",
       "    .dataframe tbody tr th {\n",
       "        vertical-align: top;\n",
       "    }\n",
       "\n",
       "    .dataframe thead th {\n",
       "        text-align: right;\n",
       "    }\n",
       "</style>\n",
       "<table border=\"1\" class=\"dataframe\">\n",
       "  <thead>\n",
       "    <tr style=\"text-align: right;\">\n",
       "      <th></th>\n",
       "      <th>Average Duration</th>\n",
       "    </tr>\n",
       "  </thead>\n",
       "  <tbody>\n",
       "    <tr>\n",
       "      <th>0</th>\n",
       "      <td>1107.949846</td>\n",
       "    </tr>\n",
       "  </tbody>\n",
       "</table>\n",
       "</div>"
      ],
      "text/plain": [
       "   Average Duration\n",
       "0       1107.949846"
      ]
     },
     "execution_count": 11,
     "metadata": {},
     "output_type": "execute_result"
    }
   ],
   "source": [
    "run_query(\"SELECT AVG(duration) AS 'Average Duration' FROM trip;\")"
   ]
  },
  {
   "cell_type": "code",
   "execution_count": 12,
   "id": "realistic-steam",
   "metadata": {},
   "outputs": [
    {
     "data": {
      "text/html": [
       "<div>\n",
       "<style scoped>\n",
       "    .dataframe tbody tr th:only-of-type {\n",
       "        vertical-align: middle;\n",
       "    }\n",
       "\n",
       "    .dataframe tbody tr th {\n",
       "        vertical-align: top;\n",
       "    }\n",
       "\n",
       "    .dataframe thead th {\n",
       "        text-align: right;\n",
       "    }\n",
       "</style>\n",
       "<table border=\"1\" class=\"dataframe\">\n",
       "  <thead>\n",
       "    <tr style=\"text-align: right;\">\n",
       "      <th></th>\n",
       "      <th>subscription_type</th>\n",
       "      <th>Average Duration</th>\n",
       "    </tr>\n",
       "  </thead>\n",
       "  <tbody>\n",
       "    <tr>\n",
       "      <th>0</th>\n",
       "      <td>Customer</td>\n",
       "      <td>3951.761329</td>\n",
       "    </tr>\n",
       "    <tr>\n",
       "      <th>1</th>\n",
       "      <td>Subscriber</td>\n",
       "      <td>590.048856</td>\n",
       "    </tr>\n",
       "  </tbody>\n",
       "</table>\n",
       "</div>"
      ],
      "text/plain": [
       "  subscription_type  Average Duration\n",
       "0          Customer       3951.761329\n",
       "1        Subscriber        590.048856"
      ]
     },
     "execution_count": 12,
     "metadata": {},
     "output_type": "execute_result"
    }
   ],
   "source": [
    "query='''\n",
    "SELECT subscription_type, AVG(duration) AS 'Average Duration'  FROM trip \n",
    "GROUP BY subscription_type;\n",
    "'''\n",
    "run_query(query)"
   ]
  },
  {
   "cell_type": "markdown",
   "id": "nominated-divorce",
   "metadata": {},
   "source": [
    "#### **Join**"
   ]
  },
  {
   "cell_type": "code",
   "execution_count": 13,
   "id": "friendly-appointment",
   "metadata": {},
   "outputs": [
    {
     "data": {
      "text/html": [
       "<div>\n",
       "<style scoped>\n",
       "    .dataframe tbody tr th:only-of-type {\n",
       "        vertical-align: middle;\n",
       "    }\n",
       "\n",
       "    .dataframe tbody tr th {\n",
       "        vertical-align: top;\n",
       "    }\n",
       "\n",
       "    .dataframe thead th {\n",
       "        text-align: right;\n",
       "    }\n",
       "</style>\n",
       "<table border=\"1\" class=\"dataframe\">\n",
       "  <thead>\n",
       "    <tr style=\"text-align: right;\">\n",
       "      <th></th>\n",
       "      <th>City</th>\n",
       "      <th>Count</th>\n",
       "    </tr>\n",
       "  </thead>\n",
       "  <tbody>\n",
       "    <tr>\n",
       "      <th>0</th>\n",
       "      <td>San Francisco</td>\n",
       "      <td>592456</td>\n",
       "    </tr>\n",
       "    <tr>\n",
       "      <th>1</th>\n",
       "      <td>San Jose</td>\n",
       "      <td>37855</td>\n",
       "    </tr>\n",
       "    <tr>\n",
       "      <th>2</th>\n",
       "      <td>Mountain View</td>\n",
       "      <td>18167</td>\n",
       "    </tr>\n",
       "    <tr>\n",
       "      <th>3</th>\n",
       "      <td>Palo Alto</td>\n",
       "      <td>6773</td>\n",
       "    </tr>\n",
       "    <tr>\n",
       "      <th>4</th>\n",
       "      <td>Redwood City</td>\n",
       "      <td>3366</td>\n",
       "    </tr>\n",
       "  </tbody>\n",
       "</table>\n",
       "</div>"
      ],
      "text/plain": [
       "            City   Count\n",
       "0  San Francisco  592456\n",
       "1       San Jose   37855\n",
       "2  Mountain View   18167\n",
       "3      Palo Alto    6773\n",
       "4   Redwood City    3366"
      ]
     },
     "execution_count": 13,
     "metadata": {},
     "output_type": "execute_result"
    }
   ],
   "source": [
    "query = '''\n",
    "SELECT station.city AS \"City\", COUNT(*) AS \"Count\"\n",
    "FROM trip \n",
    "INNER JOIN station\n",
    "ON trip.start_station_name = station.name\n",
    "GROUP BY station.city\n",
    "ORDER BY Count DESC;\n",
    "'''\n",
    "run_query(query)"
   ]
  },
  {
   "cell_type": "markdown",
   "id": "tired-pension",
   "metadata": {},
   "source": [
    "Great! And for one last challenge: suppose now that we wanted to find the duration of the longest intercity trip (the longest strip that starts and ends in different cities). Again we will have to work with the two tables trip and station but this time we are interested in obtaining the city of both the start station and the end station. This means that we need to join the trip table to the station table twice: the first for matching up trip.start_station_name with station.name and the second for matching up trip.end_station_name with station_name. To distinguish between the two views of the station table we will give each an alias name"
   ]
  },
  {
   "cell_type": "code",
   "execution_count": 14,
   "id": "unsigned-saskatchewan",
   "metadata": {},
   "outputs": [
    {
     "data": {
      "text/html": [
       "<div>\n",
       "<style scoped>\n",
       "    .dataframe tbody tr th:only-of-type {\n",
       "        vertical-align: middle;\n",
       "    }\n",
       "\n",
       "    .dataframe tbody tr th {\n",
       "        vertical-align: top;\n",
       "    }\n",
       "\n",
       "    .dataframe thead th {\n",
       "        text-align: right;\n",
       "    }\n",
       "</style>\n",
       "<table border=\"1\" class=\"dataframe\">\n",
       "  <thead>\n",
       "    <tr style=\"text-align: right;\">\n",
       "      <th></th>\n",
       "      <th>Start city</th>\n",
       "      <th>End city</th>\n",
       "      <th>duration</th>\n",
       "    </tr>\n",
       "  </thead>\n",
       "  <tbody>\n",
       "    <tr>\n",
       "      <th>0</th>\n",
       "      <td>Palo Alto</td>\n",
       "      <td>Mountain View</td>\n",
       "      <td>611240</td>\n",
       "    </tr>\n",
       "  </tbody>\n",
       "</table>\n",
       "</div>"
      ],
      "text/plain": [
       "  Start city       End city  duration\n",
       "0  Palo Alto  Mountain View    611240"
      ]
     },
     "execution_count": 14,
     "metadata": {},
     "output_type": "execute_result"
    }
   ],
   "source": [
    "query = '''\n",
    "SELECT start.city AS \"Start city\", end.city AS \"End city\", trip.duration\n",
    "FROM trip\n",
    "INNER JOIN station AS start\n",
    "ON trip.start_station_name = start.name\n",
    "INNER JOIN station AS end\n",
    "ON trip.end_station_name = end.name\n",
    "WHERE start.city != end.city\n",
    "ORDER BY duration DESC\n",
    "LIMIT 1;\n",
    "'''\n",
    "run_query(query)"
   ]
  },
  {
   "cell_type": "markdown",
   "id": "regular-style",
   "metadata": {},
   "source": [
    "#### Subqueries\n",
    "\n",
    "Subqueries can be used to build queries on top of each other. Here is a basic example. Suppose we start with the following query which just selects the record that have duration less than 100"
   ]
  },
  {
   "cell_type": "raw",
   "id": "front-stream",
   "metadata": {},
   "source": [
    "SELECT sub.*\n",
    "FROM (SELECT * FROM trip\n",
    "WHERE duration < 100) sub\n",
    "WHERE start_station_name='Paseo de San Antonio';"
   ]
  },
  {
   "cell_type": "markdown",
   "id": "brown-herald",
   "metadata": {},
   "source": [
    " You will see some applications later on in an exercise where subqueries will indeed come in very handy. The important thing to remember when writing or reading subqueries is that the inner query inside the parentheses is executed first, and afterwards the outer query is run on the results returned by the inner one."
   ]
  },
  {
   "cell_type": "code",
   "execution_count": 15,
   "id": "sustained-generator",
   "metadata": {},
   "outputs": [
    {
     "data": {
      "text/html": [
       "<div>\n",
       "<style scoped>\n",
       "    .dataframe tbody tr th:only-of-type {\n",
       "        vertical-align: middle;\n",
       "    }\n",
       "\n",
       "    .dataframe tbody tr th {\n",
       "        vertical-align: top;\n",
       "    }\n",
       "\n",
       "    .dataframe thead th {\n",
       "        text-align: right;\n",
       "    }\n",
       "</style>\n",
       "<table border=\"1\" class=\"dataframe\">\n",
       "  <thead>\n",
       "    <tr style=\"text-align: right;\">\n",
       "      <th></th>\n",
       "      <th>duration</th>\n",
       "    </tr>\n",
       "  </thead>\n",
       "  <tbody>\n",
       "    <tr>\n",
       "      <th>0</th>\n",
       "      <td>17270400</td>\n",
       "    </tr>\n",
       "  </tbody>\n",
       "</table>\n",
       "</div>"
      ],
      "text/plain": [
       "   duration\n",
       "0  17270400"
      ]
     },
     "execution_count": 15,
     "metadata": {},
     "output_type": "execute_result"
    }
   ],
   "source": [
    "query = '''\n",
    "SELECT trip.duration\n",
    "FROM trip\n",
    "ORDER BY trip.duration DESC\n",
    "LIMIT 1;\n",
    "'''\n",
    "run_query(query)"
   ]
  },
  {
   "cell_type": "code",
   "execution_count": 16,
   "id": "urban-drive",
   "metadata": {},
   "outputs": [
    {
     "data": {
      "text/html": [
       "<div>\n",
       "<style scoped>\n",
       "    .dataframe tbody tr th:only-of-type {\n",
       "        vertical-align: middle;\n",
       "    }\n",
       "\n",
       "    .dataframe tbody tr th {\n",
       "        vertical-align: top;\n",
       "    }\n",
       "\n",
       "    .dataframe thead th {\n",
       "        text-align: right;\n",
       "    }\n",
       "</style>\n",
       "<table border=\"1\" class=\"dataframe\">\n",
       "  <thead>\n",
       "    <tr style=\"text-align: right;\">\n",
       "      <th></th>\n",
       "      <th>Number of Trips</th>\n",
       "    </tr>\n",
       "  </thead>\n",
       "  <tbody>\n",
       "    <tr>\n",
       "      <th>0</th>\n",
       "      <td>16843</td>\n",
       "    </tr>\n",
       "  </tbody>\n",
       "</table>\n",
       "</div>"
      ],
      "text/plain": [
       "   Number of Trips\n",
       "0            16843"
      ]
     },
     "execution_count": 16,
     "metadata": {},
     "output_type": "execute_result"
    }
   ],
   "source": [
    "query = '''\n",
    "SELECT COUNT(\"id\") as \"Number of Trips\" from trip\n",
    "WHERE end_station_name = \"2nd at South Park\";\n",
    "'''\n",
    "run_query(query)"
   ]
  },
  {
   "cell_type": "code",
   "execution_count": 17,
   "id": "separate-guitar",
   "metadata": {},
   "outputs": [
    {
     "data": {
      "text/html": [
       "<div>\n",
       "<style scoped>\n",
       "    .dataframe tbody tr th:only-of-type {\n",
       "        vertical-align: middle;\n",
       "    }\n",
       "\n",
       "    .dataframe tbody tr th {\n",
       "        vertical-align: top;\n",
       "    }\n",
       "\n",
       "    .dataframe thead th {\n",
       "        text-align: right;\n",
       "    }\n",
       "</style>\n",
       "<table border=\"1\" class=\"dataframe\">\n",
       "  <thead>\n",
       "    <tr style=\"text-align: right;\">\n",
       "      <th></th>\n",
       "      <th>COUNT(*)</th>\n",
       "    </tr>\n",
       "  </thead>\n",
       "  <tbody>\n",
       "    <tr>\n",
       "      <th>0</th>\n",
       "      <td>56909</td>\n",
       "    </tr>\n",
       "  </tbody>\n",
       "</table>\n",
       "</div>"
      ],
      "text/plain": [
       "   COUNT(*)\n",
       "0     56909"
      ]
     },
     "execution_count": 17,
     "metadata": {},
     "output_type": "execute_result"
    }
   ],
   "source": [
    "query = '''\n",
    "SELECT COUNT(*) from trip\n",
    "WHERE duration BETWEEN 1000 AND 2000;\n",
    "'''\n",
    "run_query(query)"
   ]
  },
  {
   "cell_type": "code",
   "execution_count": 18,
   "id": "recent-nitrogen",
   "metadata": {},
   "outputs": [
    {
     "data": {
      "text/html": [
       "<div>\n",
       "<style scoped>\n",
       "    .dataframe tbody tr th:only-of-type {\n",
       "        vertical-align: middle;\n",
       "    }\n",
       "\n",
       "    .dataframe tbody tr th {\n",
       "        vertical-align: top;\n",
       "    }\n",
       "\n",
       "    .dataframe thead th {\n",
       "        text-align: right;\n",
       "    }\n",
       "</style>\n",
       "<table border=\"1\" class=\"dataframe\">\n",
       "  <thead>\n",
       "    <tr style=\"text-align: right;\">\n",
       "      <th></th>\n",
       "      <th>bike_id</th>\n",
       "      <th>Number of Trips</th>\n",
       "      <th>Duration of trips</th>\n",
       "    </tr>\n",
       "  </thead>\n",
       "  <tbody>\n",
       "    <tr>\n",
       "      <th>0</th>\n",
       "      <td>392</td>\n",
       "      <td>2061</td>\n",
       "      <td>1789476</td>\n",
       "    </tr>\n",
       "    <tr>\n",
       "      <th>1</th>\n",
       "      <td>489</td>\n",
       "      <td>1975</td>\n",
       "      <td>1745818</td>\n",
       "    </tr>\n",
       "    <tr>\n",
       "      <th>2</th>\n",
       "      <td>558</td>\n",
       "      <td>1955</td>\n",
       "      <td>1729341</td>\n",
       "    </tr>\n",
       "    <tr>\n",
       "      <th>3</th>\n",
       "      <td>267</td>\n",
       "      <td>1951</td>\n",
       "      <td>1791746</td>\n",
       "    </tr>\n",
       "    <tr>\n",
       "      <th>4</th>\n",
       "      <td>631</td>\n",
       "      <td>1948</td>\n",
       "      <td>1829007</td>\n",
       "    </tr>\n",
       "    <tr>\n",
       "      <th>5</th>\n",
       "      <td>518</td>\n",
       "      <td>1942</td>\n",
       "      <td>2067178</td>\n",
       "    </tr>\n",
       "    <tr>\n",
       "      <th>6</th>\n",
       "      <td>532</td>\n",
       "      <td>1933</td>\n",
       "      <td>1701141</td>\n",
       "    </tr>\n",
       "    <tr>\n",
       "      <th>7</th>\n",
       "      <td>592</td>\n",
       "      <td>1932</td>\n",
       "      <td>1775589</td>\n",
       "    </tr>\n",
       "    <tr>\n",
       "      <th>8</th>\n",
       "      <td>395</td>\n",
       "      <td>1927</td>\n",
       "      <td>1870596</td>\n",
       "    </tr>\n",
       "    <tr>\n",
       "      <th>9</th>\n",
       "      <td>368</td>\n",
       "      <td>1926</td>\n",
       "      <td>1704566</td>\n",
       "    </tr>\n",
       "  </tbody>\n",
       "</table>\n",
       "</div>"
      ],
      "text/plain": [
       "   bike_id  Number of Trips  Duration of trips\n",
       "0      392             2061            1789476\n",
       "1      489             1975            1745818\n",
       "2      558             1955            1729341\n",
       "3      267             1951            1791746\n",
       "4      631             1948            1829007\n",
       "5      518             1942            2067178\n",
       "6      532             1933            1701141\n",
       "7      592             1932            1775589\n",
       "8      395             1927            1870596\n",
       "9      368             1926            1704566"
      ]
     },
     "execution_count": 18,
     "metadata": {},
     "output_type": "execute_result"
    }
   ],
   "source": [
    "query = '''\n",
    "SELECT bike_id, COUNT(*) as \"Number of Trips\", SUM(duration) as \"Duration of trips\" from trip\n",
    "GROUP BY bike_id\n",
    "ORDER BY COUNT(\"id\") DESC\n",
    "LIMIT 10;\n",
    "'''\n",
    "run_query(query)"
   ]
  },
  {
   "cell_type": "code",
   "execution_count": 19,
   "id": "expressed-blank",
   "metadata": {},
   "outputs": [
    {
     "data": {
      "text/html": [
       "<div>\n",
       "<style scoped>\n",
       "    .dataframe tbody tr th:only-of-type {\n",
       "        vertical-align: middle;\n",
       "    }\n",
       "\n",
       "    .dataframe tbody tr th {\n",
       "        vertical-align: top;\n",
       "    }\n",
       "\n",
       "    .dataframe thead th {\n",
       "        text-align: right;\n",
       "    }\n",
       "</style>\n",
       "<table border=\"1\" class=\"dataframe\">\n",
       "  <thead>\n",
       "    <tr style=\"text-align: right;\">\n",
       "      <th></th>\n",
       "      <th>start_station_name</th>\n",
       "      <th>Number of Trips</th>\n",
       "      <th>Duration of all trips</th>\n",
       "    </tr>\n",
       "  </thead>\n",
       "  <tbody>\n",
       "    <tr>\n",
       "      <th>0</th>\n",
       "      <td>Embarcadero at Sansome</td>\n",
       "      <td>2092</td>\n",
       "      <td>9209028</td>\n",
       "    </tr>\n",
       "    <tr>\n",
       "      <th>1</th>\n",
       "      <td>Harry Bridges Plaza (Ferry Building)</td>\n",
       "      <td>1733</td>\n",
       "      <td>10819388</td>\n",
       "    </tr>\n",
       "    <tr>\n",
       "      <th>2</th>\n",
       "      <td>University and Emerson</td>\n",
       "      <td>894</td>\n",
       "      <td>8264042</td>\n",
       "    </tr>\n",
       "    <tr>\n",
       "      <th>3</th>\n",
       "      <td>Market at 4th</td>\n",
       "      <td>724</td>\n",
       "      <td>6134989</td>\n",
       "    </tr>\n",
       "    <tr>\n",
       "      <th>4</th>\n",
       "      <td>2nd at Townsend</td>\n",
       "      <td>683</td>\n",
       "      <td>2142857</td>\n",
       "    </tr>\n",
       "  </tbody>\n",
       "</table>\n",
       "</div>"
      ],
      "text/plain": [
       "                     start_station_name  Number of Trips  \\\n",
       "0                Embarcadero at Sansome             2092   \n",
       "1  Harry Bridges Plaza (Ferry Building)             1733   \n",
       "2                University and Emerson              894   \n",
       "3                         Market at 4th              724   \n",
       "4                       2nd at Townsend              683   \n",
       "\n",
       "   Duration of all trips  \n",
       "0                9209028  \n",
       "1               10819388  \n",
       "2                8264042  \n",
       "3                6134989  \n",
       "4                2142857  "
      ]
     },
     "execution_count": 19,
     "metadata": {},
     "output_type": "execute_result"
    }
   ],
   "source": [
    "query = '''\n",
    "SELECT start_station_name, COUNT(*) as \"Number of Trips\", SUM(duration)  as \"Duration of all trips\" from trip\n",
    "WHERE start_station_name = end_station_name\n",
    "GROUP BY start_station_name\n",
    "ORDER BY COUNT(*) DESC\n",
    "LIMIT 5;\n",
    "'''\n",
    "run_query(query)"
   ]
  },
  {
   "cell_type": "markdown",
   "id": "solar-parent",
   "metadata": {},
   "source": [
    "# Creating and modifying databases"
   ]
  },
  {
   "cell_type": "code",
   "execution_count": 24,
   "id": "rapid-copper",
   "metadata": {},
   "outputs": [],
   "source": [
    "db = sqlite3.connect(\"my_database.db\")"
   ]
  },
  {
   "cell_type": "markdown",
   "id": "introductory-spanish",
   "metadata": {},
   "source": [
    "Recall that this was the same command we used to open up a database or SQLite file. The command opens up the file if such a file exists and creates the file otherwise. So, in this case, it will create the file 'my_database.db' in your working directory.\n",
    "\n",
    "**To actually create the tables we will have to write a query. We must mention the name of the table, and the names of each column followed by their data type. Here is an example**"
   ]
  },
  {
   "cell_type": "code",
   "execution_count": 25,
   "id": "fixed-extra",
   "metadata": {},
   "outputs": [],
   "source": [
    "query= \"CREATE TABLE customer (id INTEGER PRIMARY KEY, first_name TEXT, last_name TEXT, age INTEGER);\""
   ]
  },
  {
   "cell_type": "markdown",
   "id": "complete-timing",
   "metadata": {},
   "source": [
    "**Now to run this query we will show you a different way that does not rely on pandas read_sql_query** function. Instead, it works by creating a Cursor object from the Connect object db as follows"
   ]
  },
  {
   "cell_type": "code",
   "execution_count": 26,
   "id": "included-shelf",
   "metadata": {},
   "outputs": [],
   "source": [
    "cursor = db.cursor()"
   ]
  },
  {
   "cell_type": "code",
   "execution_count": 27,
   "id": "nuclear-queensland",
   "metadata": {},
   "outputs": [
    {
     "ename": "OperationalError",
     "evalue": "table customer already exists",
     "output_type": "error",
     "traceback": [
      "\u001b[1;31m---------------------------------------------------------------------------\u001b[0m",
      "\u001b[1;31mOperationalError\u001b[0m                          Traceback (most recent call last)",
      "\u001b[1;32m<ipython-input-27-70f19cd38195>\u001b[0m in \u001b[0;36m<module>\u001b[1;34m\u001b[0m\n\u001b[1;32m----> 1\u001b[1;33m \u001b[0mcursor\u001b[0m\u001b[1;33m.\u001b[0m\u001b[0mexecute\u001b[0m\u001b[1;33m(\u001b[0m\u001b[0mquery\u001b[0m\u001b[1;33m)\u001b[0m\u001b[1;33m\u001b[0m\u001b[1;33m\u001b[0m\u001b[0m\n\u001b[0m",
      "\u001b[1;31mOperationalError\u001b[0m: table customer already exists"
     ]
    }
   ],
   "source": [
    "cursor.execute(query)"
   ]
  },
  {
   "cell_type": "code",
   "execution_count": 28,
   "id": "palestinian-skill",
   "metadata": {},
   "outputs": [
    {
     "data": {
      "text/plain": [
       "<sqlite3.Cursor at 0xf19cbcab0>"
      ]
     },
     "execution_count": 28,
     "metadata": {},
     "output_type": "execute_result"
    }
   ],
   "source": [
    "cursor.execute(\"SELECT name FROM sqlite_master WHERE type='table';\")"
   ]
  },
  {
   "cell_type": "markdown",
   "id": "intended-substance",
   "metadata": {},
   "source": [
    "**This should return the names of all the tables in our database. Except that now the results of the query are not automatically returned to us as when we used pandas.** We must run an additional command to get them. We can use the fetchall() method to get all the results of a query."
   ]
  },
  {
   "cell_type": "code",
   "execution_count": 29,
   "id": "posted-columbus",
   "metadata": {},
   "outputs": [
    {
     "name": "stdout",
     "output_type": "stream",
     "text": [
      "[('customer',)]\n"
     ]
    }
   ],
   "source": [
    "results = cursor.fetchall()\n",
    "print(results)"
   ]
  },
  {
   "cell_type": "markdown",
   "id": "velvet-walker",
   "metadata": {},
   "source": [
    "#### Adding Rows"
   ]
  },
  {
   "cell_type": "code",
   "execution_count": 30,
   "id": "suffering-gather",
   "metadata": {},
   "outputs": [
    {
     "data": {
      "text/plain": [
       "<sqlite3.Cursor at 0xf19cbcab0>"
      ]
     },
     "execution_count": 30,
     "metadata": {},
     "output_type": "execute_result"
    }
   ],
   "source": [
    "query = \"INSERT INTO customer VALUES  (701, 'Mackenzie', 'Fox', 35)\"\n",
    "cursor.execute(query)"
   ]
  },
  {
   "cell_type": "code",
   "execution_count": 31,
   "id": "powerful-authorization",
   "metadata": {},
   "outputs": [
    {
     "name": "stdout",
     "output_type": "stream",
     "text": [
      "[(701, 'Mackenzie', 'Fox', 35)]\n"
     ]
    }
   ],
   "source": [
    "cursor.execute(\"SELECT * FROM customer;\")\n",
    "results = cursor.fetchall()\n",
    "print(results)"
   ]
  },
  {
   "cell_type": "markdown",
   "id": "magnetic-doctor",
   "metadata": {},
   "source": [
    "#### Adding columns"
   ]
  },
  {
   "cell_type": "code",
   "execution_count": 32,
   "id": "enabling-thirty",
   "metadata": {},
   "outputs": [],
   "source": [
    "cursor.execute(\"ALTER TABLE customer ADD COLUMN city TEXT DEFAULT 'Geneva';\")\n",
    "db.commit()"
   ]
  },
  {
   "cell_type": "code",
   "execution_count": 33,
   "id": "caring-prototype",
   "metadata": {},
   "outputs": [
    {
     "name": "stdout",
     "output_type": "stream",
     "text": [
      "[(701, 'Mackenzie', 'Fox', 35, 'Geneva')]\n"
     ]
    }
   ],
   "source": [
    "cursor.execute(\"SELECT * FROM customer;\")\n",
    "results = cursor.fetchall()\n",
    "print(results)"
   ]
  },
  {
   "cell_type": "markdown",
   "id": "usual-jason",
   "metadata": {},
   "source": [
    "#### Adding data from a pandas DataFrame"
   ]
  },
  {
   "cell_type": "code",
   "execution_count": 36,
   "id": "pacific-antenna",
   "metadata": {},
   "outputs": [
    {
     "data": {
      "text/html": [
       "<div>\n",
       "<style scoped>\n",
       "    .dataframe tbody tr th:only-of-type {\n",
       "        vertical-align: middle;\n",
       "    }\n",
       "\n",
       "    .dataframe tbody tr th {\n",
       "        vertical-align: top;\n",
       "    }\n",
       "\n",
       "    .dataframe thead th {\n",
       "        text-align: right;\n",
       "    }\n",
       "</style>\n",
       "<table border=\"1\" class=\"dataframe\">\n",
       "  <thead>\n",
       "    <tr style=\"text-align: right;\">\n",
       "      <th></th>\n",
       "      <th>id</th>\n",
       "      <th>first_name</th>\n",
       "      <th>last_name</th>\n",
       "      <th>age</th>\n",
       "      <th>city</th>\n",
       "    </tr>\n",
       "  </thead>\n",
       "  <tbody>\n",
       "    <tr>\n",
       "      <th>0</th>\n",
       "      <td>702</td>\n",
       "      <td>Emily</td>\n",
       "      <td>Joy</td>\n",
       "      <td>49</td>\n",
       "      <td>Geneva</td>\n",
       "    </tr>\n",
       "  </tbody>\n",
       "</table>\n",
       "</div>"
      ],
      "text/plain": [
       "    id first_name last_name  age    city\n",
       "0  702      Emily       Joy   49  Geneva"
      ]
     },
     "execution_count": 36,
     "metadata": {},
     "output_type": "execute_result"
    }
   ],
   "source": [
    "df2 = pd.DataFrame([[702, 'Emily', 'Joy', 49, 'Geneva']], columns=['id','first_name','last_name', 'age', 'city'])\n",
    "df2.head()"
   ]
  },
  {
   "cell_type": "markdown",
   "id": "amateur-disco",
   "metadata": {},
   "source": [
    "***Aside*: We take this opportunity to point out a little trick when defining a DataFrame: we have usually defined DataFrames so far from Python dictionaries, but we can also do it by just passing a list of lists as seen above. This method has the advantage that we can be sure that the order of the columns will be the one we specified, whereas from a dictionary we have no control over the final order**"
   ]
  },
  {
   "cell_type": "code",
   "execution_count": 37,
   "id": "noted-script",
   "metadata": {},
   "outputs": [],
   "source": [
    "df2.to_sql(name='customer', con=db, if_exists='append', index=False)"
   ]
  },
  {
   "cell_type": "markdown",
   "id": "reduced-platform",
   "metadata": {},
   "source": [
    "The table customer already exists in this case and we have asked pandas to just append the data to this table. The argument index=False specifies to not include the index of the DataFrame as an actual column in the database, which would be the default setting."
   ]
  },
  {
   "cell_type": "code",
   "execution_count": 38,
   "id": "actual-professor",
   "metadata": {},
   "outputs": [
    {
     "name": "stdout",
     "output_type": "stream",
     "text": [
      "[(701, 'Mackenzie', 'Fox', 35, 'Geneva'), (702, 'Emily', 'Joy', 49, 'Geneva')]\n"
     ]
    }
   ],
   "source": [
    "cursor.execute(\"SELECT * FROM customer;\")\n",
    "results = cursor.fetchall()\n",
    "print(results)"
   ]
  },
  {
   "cell_type": "markdown",
   "id": "liberal-joseph",
   "metadata": {},
   "source": [
    "#### Updating rows\n",
    "\n",
    "We can update any row in our database with a special SQL query that uses the UPDATE keyword. We must specify the name of the table we want to update to update and then pass the new values for each column that we want updated. We can specify which row we want the updates to apply to by using the WHERE statement that you have seen before.\n",
    "\n",
    "Let's look at an example. Let's say we want to change the city of the customer Emily Joy in our table from Geneva to Zurich. We can identify this row using the id column. Our query then looks like this"
   ]
  },
  {
   "cell_type": "code",
   "execution_count": 40,
   "id": "portable-spectacular",
   "metadata": {},
   "outputs": [],
   "source": [
    "update = '''\n",
    "UPDATE customer\n",
    "SET city='Zurich'\n",
    "WHERE id=702;\n",
    "'''"
   ]
  },
  {
   "cell_type": "code",
   "execution_count": 41,
   "id": "static-teach",
   "metadata": {},
   "outputs": [],
   "source": [
    "cursor.execute(update)\n",
    "db.commit()"
   ]
  },
  {
   "cell_type": "code",
   "execution_count": 42,
   "id": "sweet-playlist",
   "metadata": {},
   "outputs": [
    {
     "name": "stdout",
     "output_type": "stream",
     "text": [
      "[(701, 'Mackenzie', 'Fox', 35, 'Geneva'), (702, 'Emily', 'Joy', 49, 'Zurich')]\n"
     ]
    }
   ],
   "source": [
    "cursor.execute(\"SELECT * FROM customer;\")\n",
    "results = cursor.fetchall()\n",
    "print(results)"
   ]
  },
  {
   "cell_type": "markdown",
   "id": "domestic-highlight",
   "metadata": {},
   "source": [
    "#### Deleting rows"
   ]
  },
  {
   "cell_type": "code",
   "execution_count": 43,
   "id": "corporate-thursday",
   "metadata": {},
   "outputs": [],
   "source": [
    "delete = '''\n",
    "DELETE FROM customer\n",
    "WHERE id=702;\n",
    "'''\n",
    "cursor.execute(delete)\n",
    "db.commit()"
   ]
  },
  {
   "cell_type": "code",
   "execution_count": 45,
   "id": "physical-transsexual",
   "metadata": {},
   "outputs": [
    {
     "name": "stdout",
     "output_type": "stream",
     "text": [
      "[(701, 'Mackenzie', 'Fox', 35, 'Geneva')]\n"
     ]
    }
   ],
   "source": [
    "cursor.execute(\"SELECT * FROM customer;\")\n",
    "results = cursor.fetchall()\n",
    "print(results)\n"
   ]
  },
  {
   "cell_type": "markdown",
   "id": "negative-hundred",
   "metadata": {},
   "source": [
    "#### Creating a database from a CSV file\n",
    "\n",
    "The last thing that we will look at is creating a database from a csv file. Start by downloading the csv file songs.csv from the Resources tab and save it in your working directory.\n",
    "\n",
    "Now, this csv file is very small just for the purposes of this demonstration. **However, when working with large csv files where we want to extract specific rows that satisfy some condition we must usually load the entire csv file as a DataFrame and then go through it line by line and check our condition.** All of this is happening in the working memory (RAM). And if the file is large then this can cause serious problems. In such instances, it is better to load the file as a database which is stored on the disk but is still easy and fast to interact with.\n",
    "\n",
    "We can load csv files to a database using the to_sql() function from pandas once again. We must specify a connection object giving the database that we are connected to, so let's start by setting this up"
   ]
  },
  {
   "cell_type": "code",
   "execution_count": 46,
   "id": "narrative-sauce",
   "metadata": {},
   "outputs": [],
   "source": [
    "db = sqlite3.connect('songs.db')\n",
    "cursor= db.cursor()"
   ]
  },
  {
   "cell_type": "code",
   "execution_count": 54,
   "id": "becoming-mistake",
   "metadata": {},
   "outputs": [
    {
     "name": "stdout",
     "output_type": "stream",
     "text": [
      "Stairway to Heaven\n",
      "Black Dog\n",
      "All My Love\n",
      "Rebel Rebel\n",
      "Golden Years\n"
     ]
    }
   ],
   "source": [
    "for chunk in pd.read_csv(\"songs.csv\", chunksize=4):    # une chanson sur 4\n",
    "    chunk.to_sql(name=\"data\", con=db, if_exists=\"append\", index=False)  \n",
    "    print(chunk.iloc[0, 2])"
   ]
  },
  {
   "cell_type": "markdown",
   "id": "dried-setting",
   "metadata": {},
   "source": [
    "We have set up a for loop that reads 4 rows of the csv file at a time and loads them into a table called data of the database db. We have asked to print out the entry in the first row and third column of each chunk so you can see how the chunks were divided. What you should have gotten back when executing this command is"
   ]
  },
  {
   "cell_type": "code",
   "execution_count": 48,
   "id": "rocky-religious",
   "metadata": {},
   "outputs": [
    {
     "data": {
      "text/html": [
       "<div>\n",
       "<style scoped>\n",
       "    .dataframe tbody tr th:only-of-type {\n",
       "        vertical-align: middle;\n",
       "    }\n",
       "\n",
       "    .dataframe tbody tr th {\n",
       "        vertical-align: top;\n",
       "    }\n",
       "\n",
       "    .dataframe thead th {\n",
       "        text-align: right;\n",
       "    }\n",
       "</style>\n",
       "<table border=\"1\" class=\"dataframe\">\n",
       "  <thead>\n",
       "    <tr style=\"text-align: right;\">\n",
       "      <th></th>\n",
       "      <th>Musician</th>\n",
       "      <th>Genre</th>\n",
       "      <th>Name</th>\n",
       "      <th>Decade</th>\n",
       "      <th>Minutes</th>\n",
       "    </tr>\n",
       "  </thead>\n",
       "  <tbody>\n",
       "    <tr>\n",
       "      <th>0</th>\n",
       "      <td>Led Zeppelin</td>\n",
       "      <td>hard rock</td>\n",
       "      <td>Stairway to Heaven</td>\n",
       "      <td>70</td>\n",
       "      <td>08:02</td>\n",
       "    </tr>\n",
       "    <tr>\n",
       "      <th>1</th>\n",
       "      <td>Led Zeppelin</td>\n",
       "      <td>hard rock</td>\n",
       "      <td>Kashmir</td>\n",
       "      <td>70</td>\n",
       "      <td>08:37</td>\n",
       "    </tr>\n",
       "    <tr>\n",
       "      <th>2</th>\n",
       "      <td>Led Zeppelin</td>\n",
       "      <td>hard rock</td>\n",
       "      <td>Immigrant Song</td>\n",
       "      <td>70</td>\n",
       "      <td>02:26</td>\n",
       "    </tr>\n",
       "    <tr>\n",
       "      <th>3</th>\n",
       "      <td>Led Zeppelin</td>\n",
       "      <td>hard rock</td>\n",
       "      <td>Whole Lotta Love</td>\n",
       "      <td>60</td>\n",
       "      <td>05:33</td>\n",
       "    </tr>\n",
       "    <tr>\n",
       "      <th>4</th>\n",
       "      <td>Led Zeppelin</td>\n",
       "      <td>hard rock</td>\n",
       "      <td>Black Dog</td>\n",
       "      <td>70</td>\n",
       "      <td>04:55</td>\n",
       "    </tr>\n",
       "    <tr>\n",
       "      <th>5</th>\n",
       "      <td>Led Zeppelin</td>\n",
       "      <td>hard rock</td>\n",
       "      <td>Good Times Bad Times</td>\n",
       "      <td>60</td>\n",
       "      <td>02:43</td>\n",
       "    </tr>\n",
       "    <tr>\n",
       "      <th>6</th>\n",
       "      <td>Led Zeppelin</td>\n",
       "      <td>hard rock</td>\n",
       "      <td>Moby Dick</td>\n",
       "      <td>60</td>\n",
       "      <td>04:25</td>\n",
       "    </tr>\n",
       "    <tr>\n",
       "      <th>7</th>\n",
       "      <td>Led Zeppelin</td>\n",
       "      <td>hard rock</td>\n",
       "      <td>Ramble On</td>\n",
       "      <td>60</td>\n",
       "      <td>04:35</td>\n",
       "    </tr>\n",
       "    <tr>\n",
       "      <th>8</th>\n",
       "      <td>Led Zeppelin</td>\n",
       "      <td>hard rock</td>\n",
       "      <td>All My Love</td>\n",
       "      <td>70</td>\n",
       "      <td>05:53</td>\n",
       "    </tr>\n",
       "    <tr>\n",
       "      <th>9</th>\n",
       "      <td>Led Zeppelin</td>\n",
       "      <td>hard rock</td>\n",
       "      <td>The Song Remains the Same</td>\n",
       "      <td>70</td>\n",
       "      <td>05:24</td>\n",
       "    </tr>\n",
       "    <tr>\n",
       "      <th>10</th>\n",
       "      <td>Led Zeppelin</td>\n",
       "      <td>hard rock</td>\n",
       "      <td>I Can't Quit You Baby</td>\n",
       "      <td>60</td>\n",
       "      <td>04:42</td>\n",
       "    </tr>\n",
       "    <tr>\n",
       "      <th>11</th>\n",
       "      <td>David Bowie</td>\n",
       "      <td>pop rock</td>\n",
       "      <td>Space Oddity</td>\n",
       "      <td>60</td>\n",
       "      <td>05:15</td>\n",
       "    </tr>\n",
       "    <tr>\n",
       "      <th>12</th>\n",
       "      <td>David Bowie</td>\n",
       "      <td>pop rock</td>\n",
       "      <td>Rebel Rebel</td>\n",
       "      <td>70</td>\n",
       "      <td>04:22</td>\n",
       "    </tr>\n",
       "    <tr>\n",
       "      <th>13</th>\n",
       "      <td>David Bowie</td>\n",
       "      <td>pop rock</td>\n",
       "      <td>Under Pressure</td>\n",
       "      <td>80</td>\n",
       "      <td>04:08</td>\n",
       "    </tr>\n",
       "    <tr>\n",
       "      <th>14</th>\n",
       "      <td>David Bowie</td>\n",
       "      <td>pop rock</td>\n",
       "      <td>China Girl</td>\n",
       "      <td>70</td>\n",
       "      <td>05:08</td>\n",
       "    </tr>\n",
       "    <tr>\n",
       "      <th>15</th>\n",
       "      <td>David Bowie</td>\n",
       "      <td>pop rock</td>\n",
       "      <td>I'm Afraid of Americans</td>\n",
       "      <td>90</td>\n",
       "      <td>05:00</td>\n",
       "    </tr>\n",
       "    <tr>\n",
       "      <th>16</th>\n",
       "      <td>David Bowie</td>\n",
       "      <td>pop rock</td>\n",
       "      <td>Golden Years</td>\n",
       "      <td>70</td>\n",
       "      <td>04:00</td>\n",
       "    </tr>\n",
       "    <tr>\n",
       "      <th>17</th>\n",
       "      <td>Bob Dylan</td>\n",
       "      <td>folk rock</td>\n",
       "      <td>Like a Rolling Stone</td>\n",
       "      <td>60</td>\n",
       "      <td>06:13</td>\n",
       "    </tr>\n",
       "    <tr>\n",
       "      <th>18</th>\n",
       "      <td>Bob Dylan</td>\n",
       "      <td>folk rock</td>\n",
       "      <td>Blowin' in the Wind</td>\n",
       "      <td>60</td>\n",
       "      <td>02:48</td>\n",
       "    </tr>\n",
       "    <tr>\n",
       "      <th>19</th>\n",
       "      <td>Bob Dylan</td>\n",
       "      <td>folk rock</td>\n",
       "      <td>Tangled Up in Blue</td>\n",
       "      <td>70</td>\n",
       "      <td>05:42</td>\n",
       "    </tr>\n",
       "  </tbody>\n",
       "</table>\n",
       "</div>"
      ],
      "text/plain": [
       "        Musician       Genre                        Name  Decade Minutes\n",
       "0   Led Zeppelin   hard rock          Stairway to Heaven      70   08:02\n",
       "1   Led Zeppelin   hard rock                     Kashmir      70   08:37\n",
       "2   Led Zeppelin   hard rock              Immigrant Song      70   02:26\n",
       "3   Led Zeppelin   hard rock            Whole Lotta Love      60   05:33\n",
       "4   Led Zeppelin   hard rock                   Black Dog      70   04:55\n",
       "5   Led Zeppelin   hard rock        Good Times Bad Times      60   02:43\n",
       "6   Led Zeppelin   hard rock                   Moby Dick      60   04:25\n",
       "7   Led Zeppelin   hard rock                   Ramble On      60   04:35\n",
       "8   Led Zeppelin   hard rock                 All My Love      70   05:53\n",
       "9   Led Zeppelin   hard rock  The Song Remains the Same       70   05:24\n",
       "10  Led Zeppelin   hard rock       I Can't Quit You Baby      60   04:42\n",
       "11   David Bowie    pop rock                Space Oddity      60   05:15\n",
       "12   David Bowie    pop rock                 Rebel Rebel      70   04:22\n",
       "13   David Bowie    pop rock              Under Pressure      80   04:08\n",
       "14   David Bowie    pop rock                  China Girl      70   05:08\n",
       "15   David Bowie    pop rock     I'm Afraid of Americans      90   05:00\n",
       "16   David Bowie    pop rock                Golden Years      70   04:00\n",
       "17     Bob Dylan  folk rock         Like a Rolling Stone      60   06:13\n",
       "18     Bob Dylan  folk rock          Blowin' in the Wind      60   02:48\n",
       "19     Bob Dylan  folk rock           Tangled Up in Blue      70   05:42"
      ]
     },
     "execution_count": 48,
     "metadata": {},
     "output_type": "execute_result"
    }
   ],
   "source": [
    "pd.read_sql_query('SELECT * FROM data;', db)"
   ]
  },
  {
   "cell_type": "markdown",
   "id": "miniature-rehabilitation",
   "metadata": {},
   "source": [
    "# Exercise : Consumer Finance Complaints"
   ]
  },
  {
   "cell_type": "markdown",
   "id": "female-church",
   "metadata": {},
   "source": [
    "In this exercise, you will investigate a data set of consumer finance complaints. You can download the file consumer_complaints.csv from the Resources tab. The original data set is from Kaggle and can be found here.\n",
    "\n",
    "The file contains information about 65499 complaints and has 12 columns\n",
    "\n",
    "-' complaint_id'\n",
    "- 'product'\n",
    "- 'issue'\n",
    "- 'company'\n",
    "- 'state'\n",
    "- 'zipcode',\n",
    "- 'submitted_via'\n",
    "- 'date_sent_to_company'\n",
    "- 'date_received'\n",
    "- 'company_response_to_consumer'\n",
    "- 'timely_response'\n",
    "- 'consumer_disputed?'\n",
    "\n",
    "Here is a snapshot of the top entries\n",
    "\n"
   ]
  },
  {
   "cell_type": "markdown",
   "id": "circular-negotiation",
   "metadata": {},
   "source": [
    "### Task 1\n",
    "In the first part of this exercise, you will transfer the data from the csv file to a database. Count the number of records for each table to ensure that you loaded all the data. You should have 65499 records."
   ]
  },
  {
   "cell_type": "code",
   "execution_count": 99,
   "id": "smart-original",
   "metadata": {},
   "outputs": [],
   "source": [
    "db = sqlite3.connect('consumer_complaints.db')\n",
    "cursor= db.cursor()"
   ]
  },
  {
   "cell_type": "code",
   "execution_count": 100,
   "id": "incorporated-nancy",
   "metadata": {},
   "outputs": [
    {
     "name": "stdout",
     "output_type": "stream",
     "text": [
      "CA\n",
      "NC\n",
      "CA\n",
      "AR\n",
      "VA\n",
      "NY\n",
      "MD\n",
      "OH\n",
      "CA\n",
      "CA\n",
      "CA\n"
     ]
    }
   ],
   "source": [
    "for chunk in pd.read_csv(\"consumer_complaints.csv\", chunksize =6500):\n",
    "    chunk.to_sql(name=\"cons_complaints\", con=db, if_exists=\"append\", index=False)  \n",
    "    print(chunk.iloc[0, 4])"
   ]
  },
  {
   "cell_type": "code",
   "execution_count": 101,
   "id": "curious-redhead",
   "metadata": {},
   "outputs": [
    {
     "name": "stdout",
     "output_type": "stream",
     "text": [
      "[(65499,)]\n"
     ]
    }
   ],
   "source": [
    "count_rows = '''\n",
    "SELECT COUNT(*) FROM cons_complaints;\n",
    "'''\n",
    "cursor.execute(count_rows)\n",
    "results = cursor.fetchall()\n",
    "print(results)\n"
   ]
  },
  {
   "cell_type": "markdown",
   "id": "external-processing",
   "metadata": {},
   "source": [
    "### Task 2 \n",
    "\n",
    "Run an SQL query to return a DataFrame containing a unique list of submission methods for the complaints together with the number of complaints submitted via each method. Your output should look like this."
   ]
  },
  {
   "cell_type": "code",
   "execution_count": 102,
   "id": "ranking-bennett",
   "metadata": {},
   "outputs": [
    {
     "data": {
      "text/html": [
       "<div>\n",
       "<style scoped>\n",
       "    .dataframe tbody tr th:only-of-type {\n",
       "        vertical-align: middle;\n",
       "    }\n",
       "\n",
       "    .dataframe tbody tr th {\n",
       "        vertical-align: top;\n",
       "    }\n",
       "\n",
       "    .dataframe thead th {\n",
       "        text-align: right;\n",
       "    }\n",
       "</style>\n",
       "<table border=\"1\" class=\"dataframe\">\n",
       "  <thead>\n",
       "    <tr style=\"text-align: right;\">\n",
       "      <th></th>\n",
       "      <th>Method</th>\n",
       "      <th>Number</th>\n",
       "    </tr>\n",
       "  </thead>\n",
       "  <tbody>\n",
       "    <tr>\n",
       "      <th>0</th>\n",
       "      <td>Web</td>\n",
       "      <td>43947</td>\n",
       "    </tr>\n",
       "    <tr>\n",
       "      <th>1</th>\n",
       "      <td>Referral</td>\n",
       "      <td>10587</td>\n",
       "    </tr>\n",
       "    <tr>\n",
       "      <th>2</th>\n",
       "      <td>Phone</td>\n",
       "      <td>4974</td>\n",
       "    </tr>\n",
       "    <tr>\n",
       "      <th>3</th>\n",
       "      <td>Postal mail</td>\n",
       "      <td>4894</td>\n",
       "    </tr>\n",
       "    <tr>\n",
       "      <th>4</th>\n",
       "      <td>Fax</td>\n",
       "      <td>1076</td>\n",
       "    </tr>\n",
       "    <tr>\n",
       "      <th>5</th>\n",
       "      <td>Email</td>\n",
       "      <td>21</td>\n",
       "    </tr>\n",
       "  </tbody>\n",
       "</table>\n",
       "</div>"
      ],
      "text/plain": [
       "        Method  Number\n",
       "0          Web   43947\n",
       "1     Referral   10587\n",
       "2        Phone    4974\n",
       "3  Postal mail    4894\n",
       "4          Fax    1076\n",
       "5        Email      21"
      ]
     },
     "execution_count": 102,
     "metadata": {},
     "output_type": "execute_result"
    }
   ],
   "source": [
    "df_method = pd.read_sql_query('SELECT submitted_via as Method, COUNT(*) as Number FROM cons_complaints GROUP BY Method ORDER BY Number DESC;', db)\n",
    "df_method"
   ]
  },
  {
   "cell_type": "markdown",
   "id": "orange-player",
   "metadata": {},
   "source": [
    "### Task 3 \n",
    "\n",
    "Build upon your SQL query from part 2 to return a third column in your DataFrame containing the total number of complaints (each row should contain the same number). Your output should look like this"
   ]
  },
  {
   "cell_type": "code",
   "execution_count": 103,
   "id": "danish-testimony",
   "metadata": {},
   "outputs": [
    {
     "data": {
      "text/html": [
       "<div>\n",
       "<style scoped>\n",
       "    .dataframe tbody tr th:only-of-type {\n",
       "        vertical-align: middle;\n",
       "    }\n",
       "\n",
       "    .dataframe tbody tr th {\n",
       "        vertical-align: top;\n",
       "    }\n",
       "\n",
       "    .dataframe thead th {\n",
       "        text-align: right;\n",
       "    }\n",
       "</style>\n",
       "<table border=\"1\" class=\"dataframe\">\n",
       "  <thead>\n",
       "    <tr style=\"text-align: right;\">\n",
       "      <th></th>\n",
       "      <th>Method</th>\n",
       "      <th>Number</th>\n",
       "      <th>Total</th>\n",
       "    </tr>\n",
       "  </thead>\n",
       "  <tbody>\n",
       "    <tr>\n",
       "      <th>0</th>\n",
       "      <td>Web</td>\n",
       "      <td>43947</td>\n",
       "      <td>65499.0</td>\n",
       "    </tr>\n",
       "    <tr>\n",
       "      <th>1</th>\n",
       "      <td>Referral</td>\n",
       "      <td>10587</td>\n",
       "      <td>NaN</td>\n",
       "    </tr>\n",
       "    <tr>\n",
       "      <th>2</th>\n",
       "      <td>Phone</td>\n",
       "      <td>4974</td>\n",
       "      <td>NaN</td>\n",
       "    </tr>\n",
       "    <tr>\n",
       "      <th>3</th>\n",
       "      <td>Postal mail</td>\n",
       "      <td>4894</td>\n",
       "      <td>NaN</td>\n",
       "    </tr>\n",
       "    <tr>\n",
       "      <th>4</th>\n",
       "      <td>Fax</td>\n",
       "      <td>1076</td>\n",
       "      <td>NaN</td>\n",
       "    </tr>\n",
       "    <tr>\n",
       "      <th>5</th>\n",
       "      <td>Email</td>\n",
       "      <td>21</td>\n",
       "      <td>NaN</td>\n",
       "    </tr>\n",
       "  </tbody>\n",
       "</table>\n",
       "</div>"
      ],
      "text/plain": [
       "        Method  Number    Total\n",
       "0          Web   43947  65499.0\n",
       "1     Referral   10587      NaN\n",
       "2        Phone    4974      NaN\n",
       "3  Postal mail    4894      NaN\n",
       "4          Fax    1076      NaN\n",
       "5        Email      21      NaN"
      ]
     },
     "execution_count": 103,
     "metadata": {},
     "output_type": "execute_result"
    }
   ],
   "source": [
    "for row in df_method.index:\n",
    "    df_method['Total'] = pd.read_sql_query('SELECT COUNT(*) as Number FROM data_songs;', db)\n",
    "\n",
    "df_method\n",
    "\n",
    "# pas réussi à le faire sur chaque ligne\n"
   ]
  },
  {
   "cell_type": "raw",
   "id": "premier-advertiser",
   "metadata": {},
   "source": [
    "query='''\n",
    "SELECT submitted_via AS 'Method', COUNT(*) AS 'Number',\n",
    "   (SELECT COUNT(*) FROM cons_complaints) AS 'Total'\n",
    "FROM cons_complaints\n",
    "GROUP BY submitted_via\n",
    "ORDER BY COUNT(*) DESC;\n",
    "'''\n",
    "run_query(query)"
   ]
  },
  {
   "cell_type": "code",
   "execution_count": 104,
   "id": "devoted-guidance",
   "metadata": {},
   "outputs": [],
   "source": [
    "df_method2 = pd.read_sql_query('SELECT submitted_via AS Method, COUNT(*) AS Number,(SELECT COUNT(*) FROM cons_complaints) AS Total FROM cons_complaints GROUP BY submitted_via ORDER BY COUNT(*) DESC;', db)"
   ]
  },
  {
   "cell_type": "code",
   "execution_count": 105,
   "id": "nonprofit-thirty",
   "metadata": {},
   "outputs": [
    {
     "data": {
      "text/html": [
       "<div>\n",
       "<style scoped>\n",
       "    .dataframe tbody tr th:only-of-type {\n",
       "        vertical-align: middle;\n",
       "    }\n",
       "\n",
       "    .dataframe tbody tr th {\n",
       "        vertical-align: top;\n",
       "    }\n",
       "\n",
       "    .dataframe thead th {\n",
       "        text-align: right;\n",
       "    }\n",
       "</style>\n",
       "<table border=\"1\" class=\"dataframe\">\n",
       "  <thead>\n",
       "    <tr style=\"text-align: right;\">\n",
       "      <th></th>\n",
       "      <th>Method</th>\n",
       "      <th>Number</th>\n",
       "      <th>Total</th>\n",
       "    </tr>\n",
       "  </thead>\n",
       "  <tbody>\n",
       "    <tr>\n",
       "      <th>0</th>\n",
       "      <td>Web</td>\n",
       "      <td>43947</td>\n",
       "      <td>65499</td>\n",
       "    </tr>\n",
       "    <tr>\n",
       "      <th>1</th>\n",
       "      <td>Referral</td>\n",
       "      <td>10587</td>\n",
       "      <td>65499</td>\n",
       "    </tr>\n",
       "    <tr>\n",
       "      <th>2</th>\n",
       "      <td>Phone</td>\n",
       "      <td>4974</td>\n",
       "      <td>65499</td>\n",
       "    </tr>\n",
       "    <tr>\n",
       "      <th>3</th>\n",
       "      <td>Postal mail</td>\n",
       "      <td>4894</td>\n",
       "      <td>65499</td>\n",
       "    </tr>\n",
       "    <tr>\n",
       "      <th>4</th>\n",
       "      <td>Fax</td>\n",
       "      <td>1076</td>\n",
       "      <td>65499</td>\n",
       "    </tr>\n",
       "    <tr>\n",
       "      <th>5</th>\n",
       "      <td>Email</td>\n",
       "      <td>21</td>\n",
       "      <td>65499</td>\n",
       "    </tr>\n",
       "  </tbody>\n",
       "</table>\n",
       "</div>"
      ],
      "text/plain": [
       "        Method  Number  Total\n",
       "0          Web   43947  65499\n",
       "1     Referral   10587  65499\n",
       "2        Phone    4974  65499\n",
       "3  Postal mail    4894  65499\n",
       "4          Fax    1076  65499\n",
       "5        Email      21  65499"
      ]
     },
     "execution_count": 105,
     "metadata": {},
     "output_type": "execute_result"
    }
   ],
   "source": [
    "df_method2"
   ]
  },
  {
   "cell_type": "markdown",
   "id": "portuguese-oregon",
   "metadata": {},
   "source": [
    "### Task 4\n",
    "Build upon your query from part 3 to add a column which gives the percentage of total complaints submitted via each of the methods. Your output should look like this"
   ]
  },
  {
   "cell_type": "code",
   "execution_count": 109,
   "id": "under-privacy",
   "metadata": {},
   "outputs": [],
   "source": [
    "## df_method2 = pd.read_sql_query('SELECT submitted_via AS Method, COUNT(*) AS Number,(SELECT COUNT(*) FROM cons_complaints) AS Total, CAST(Number as double precision)/CAST(Total as double precision)*100 as Percent FROM cons_complaints GROUP BY submitted_via ORDER BY COUNT(*) DESC;', db)\n",
    "\n",
    "\n",
    "# pas réussi...à utiliser CAST ET SUBQUERIES"
   ]
  },
  {
   "cell_type": "code",
   "execution_count": 110,
   "id": "defensive-trail",
   "metadata": {},
   "outputs": [
    {
     "data": {
      "text/html": [
       "<div>\n",
       "<style scoped>\n",
       "    .dataframe tbody tr th:only-of-type {\n",
       "        vertical-align: middle;\n",
       "    }\n",
       "\n",
       "    .dataframe tbody tr th {\n",
       "        vertical-align: top;\n",
       "    }\n",
       "\n",
       "    .dataframe thead th {\n",
       "        text-align: right;\n",
       "    }\n",
       "</style>\n",
       "<table border=\"1\" class=\"dataframe\">\n",
       "  <thead>\n",
       "    <tr style=\"text-align: right;\">\n",
       "      <th></th>\n",
       "      <th>Method</th>\n",
       "      <th>Number</th>\n",
       "      <th>Total</th>\n",
       "      <th>Percent</th>\n",
       "    </tr>\n",
       "  </thead>\n",
       "  <tbody>\n",
       "    <tr>\n",
       "      <th>0</th>\n",
       "      <td>Web</td>\n",
       "      <td>43947</td>\n",
       "      <td>65499</td>\n",
       "      <td>67.095681</td>\n",
       "    </tr>\n",
       "    <tr>\n",
       "      <th>1</th>\n",
       "      <td>Referral</td>\n",
       "      <td>10587</td>\n",
       "      <td>65499</td>\n",
       "      <td>16.163606</td>\n",
       "    </tr>\n",
       "    <tr>\n",
       "      <th>2</th>\n",
       "      <td>Phone</td>\n",
       "      <td>4974</td>\n",
       "      <td>65499</td>\n",
       "      <td>7.594009</td>\n",
       "    </tr>\n",
       "    <tr>\n",
       "      <th>3</th>\n",
       "      <td>Postal mail</td>\n",
       "      <td>4894</td>\n",
       "      <td>65499</td>\n",
       "      <td>7.471870</td>\n",
       "    </tr>\n",
       "    <tr>\n",
       "      <th>4</th>\n",
       "      <td>Fax</td>\n",
       "      <td>1076</td>\n",
       "      <td>65499</td>\n",
       "      <td>1.642773</td>\n",
       "    </tr>\n",
       "    <tr>\n",
       "      <th>5</th>\n",
       "      <td>Email</td>\n",
       "      <td>21</td>\n",
       "      <td>65499</td>\n",
       "      <td>0.032062</td>\n",
       "    </tr>\n",
       "  </tbody>\n",
       "</table>\n",
       "</div>"
      ],
      "text/plain": [
       "        Method  Number  Total    Percent\n",
       "0          Web   43947  65499  67.095681\n",
       "1     Referral   10587  65499  16.163606\n",
       "2        Phone    4974  65499   7.594009\n",
       "3  Postal mail    4894  65499   7.471870\n",
       "4          Fax    1076  65499   1.642773\n",
       "5        Email      21  65499   0.032062"
      ]
     },
     "execution_count": 110,
     "metadata": {},
     "output_type": "execute_result"
    }
   ],
   "source": [
    "query='''\n",
    "\n",
    "SELECT *, (CAST (q1.Number AS double precision)/CAST (q1.Total AS double precision))*100 AS 'Percent'\n",
    "FROM (SELECT submitted_via AS 'Method', COUNT(*) AS 'Number',\n",
    "   (SELECT COUNT(*) FROM cons_complaints) AS 'Total'\n",
    "FROM cons_complaints\n",
    "GROUP BY submitted_via\n",
    "ORDER BY COUNT(*) DESC) q1;\n",
    "'''\n",
    "run_query(query)"
   ]
  },
  {
   "cell_type": "code",
   "execution_count": 113,
   "id": "legendary-birmingham",
   "metadata": {},
   "outputs": [
    {
     "data": {
      "text/html": [
       "<div>\n",
       "<style scoped>\n",
       "    .dataframe tbody tr th:only-of-type {\n",
       "        vertical-align: middle;\n",
       "    }\n",
       "\n",
       "    .dataframe tbody tr th {\n",
       "        vertical-align: top;\n",
       "    }\n",
       "\n",
       "    .dataframe thead th {\n",
       "        text-align: right;\n",
       "    }\n",
       "</style>\n",
       "<table border=\"1\" class=\"dataframe\">\n",
       "  <thead>\n",
       "    <tr style=\"text-align: right;\">\n",
       "      <th></th>\n",
       "      <th>Method</th>\n",
       "      <th>Number</th>\n",
       "      <th>Total</th>\n",
       "      <th>Percent</th>\n",
       "    </tr>\n",
       "  </thead>\n",
       "  <tbody>\n",
       "    <tr>\n",
       "      <th>0</th>\n",
       "      <td>Web</td>\n",
       "      <td>43947</td>\n",
       "      <td>65499</td>\n",
       "      <td>67.095681</td>\n",
       "    </tr>\n",
       "    <tr>\n",
       "      <th>1</th>\n",
       "      <td>Referral</td>\n",
       "      <td>10587</td>\n",
       "      <td>65499</td>\n",
       "      <td>16.163606</td>\n",
       "    </tr>\n",
       "    <tr>\n",
       "      <th>2</th>\n",
       "      <td>Phone</td>\n",
       "      <td>4974</td>\n",
       "      <td>65499</td>\n",
       "      <td>7.594009</td>\n",
       "    </tr>\n",
       "    <tr>\n",
       "      <th>3</th>\n",
       "      <td>Postal mail</td>\n",
       "      <td>4894</td>\n",
       "      <td>65499</td>\n",
       "      <td>7.471870</td>\n",
       "    </tr>\n",
       "    <tr>\n",
       "      <th>4</th>\n",
       "      <td>Fax</td>\n",
       "      <td>1076</td>\n",
       "      <td>65499</td>\n",
       "      <td>1.642773</td>\n",
       "    </tr>\n",
       "    <tr>\n",
       "      <th>5</th>\n",
       "      <td>Email</td>\n",
       "      <td>21</td>\n",
       "      <td>65499</td>\n",
       "      <td>0.032062</td>\n",
       "    </tr>\n",
       "  </tbody>\n",
       "</table>\n",
       "</div>"
      ],
      "text/plain": [
       "        Method  Number  Total    Percent\n",
       "0          Web   43947  65499  67.095681\n",
       "1     Referral   10587  65499  16.163606\n",
       "2        Phone    4974  65499   7.594009\n",
       "3  Postal mail    4894  65499   7.471870\n",
       "4          Fax    1076  65499   1.642773\n",
       "5        Email      21  65499   0.032062"
      ]
     },
     "execution_count": 113,
     "metadata": {},
     "output_type": "execute_result"
    }
   ],
   "source": [
    "## AUTRE SOLUTION\n",
    "\n",
    "\n",
    "\n",
    "query='''\n",
    "\n",
    "WITH task_3_output AS (\n",
    "    SELECT submitted_via AS 'Method', \n",
    "           COUNT(*) AS 'Number',\n",
    "           (SELECT COUNT(*) FROM cons_complaints) AS 'Total'\n",
    "    FROM cons_complaints\n",
    "    GROUP BY submitted_via\n",
    "    ORDER BY COUNT(*) DESC\n",
    ")\n",
    "\n",
    "SELECT *, \n",
    "       (CAST (task_3_output.Number AS double precision)/CAST (task_3_output.Total AS double precision))*100 AS 'Percent'\n",
    "FROM task_3_output;\n",
    "'''\n",
    "run_query(query)\n"
   ]
  },
  {
   "cell_type": "code",
   "execution_count": null,
   "id": "secondary-force",
   "metadata": {},
   "outputs": [],
   "source": []
  }
 ],
 "metadata": {
  "kernelspec": {
   "display_name": "Python 3",
   "language": "python",
   "name": "python3"
  },
  "language_info": {
   "codemirror_mode": {
    "name": "ipython",
    "version": 3
   },
   "file_extension": ".py",
   "mimetype": "text/x-python",
   "name": "python",
   "nbconvert_exporter": "python",
   "pygments_lexer": "ipython3",
   "version": "3.6.12"
  }
 },
 "nbformat": 4,
 "nbformat_minor": 5
}
