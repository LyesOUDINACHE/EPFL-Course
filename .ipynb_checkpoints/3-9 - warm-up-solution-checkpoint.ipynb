{
 "cells": [
  {
   "cell_type": "markdown",
   "id": "34e72c49",
   "metadata": {},
   "source": [
    "# Part 1 - Warm-Up\n",
    "\n",
    "# Task 1"
   ]
  },
  {
   "cell_type": "code",
   "execution_count": 1,
   "id": "8fa67c97",
   "metadata": {},
   "outputs": [],
   "source": [
    "%matplotlib inline\n",
    "import matplotlib.pyplot as plt\n",
    "import pandas as pd\n",
    "import numpy as np"
   ]
  },
  {
   "cell_type": "code",
   "execution_count": 2,
   "id": "bfaa2018",
   "metadata": {},
   "outputs": [
    {
     "data": {
      "text/html": [
       "<div>\n",
       "<style scoped>\n",
       "    .dataframe tbody tr th:only-of-type {\n",
       "        vertical-align: middle;\n",
       "    }\n",
       "\n",
       "    .dataframe tbody tr th {\n",
       "        vertical-align: top;\n",
       "    }\n",
       "\n",
       "    .dataframe thead th {\n",
       "        text-align: right;\n",
       "    }\n",
       "</style>\n",
       "<table border=\"1\" class=\"dataframe\">\n",
       "  <thead>\n",
       "    <tr style=\"text-align: right;\">\n",
       "      <th></th>\n",
       "      <th>x</th>\n",
       "      <th>y</th>\n",
       "    </tr>\n",
       "  </thead>\n",
       "  <tbody>\n",
       "    <tr>\n",
       "      <th>0</th>\n",
       "      <td>10.529</td>\n",
       "      <td>39.105</td>\n",
       "    </tr>\n",
       "    <tr>\n",
       "      <th>1</th>\n",
       "      <td>10.799</td>\n",
       "      <td>40.584</td>\n",
       "    </tr>\n",
       "    <tr>\n",
       "      <th>2</th>\n",
       "      <td>11.698</td>\n",
       "      <td>39.883</td>\n",
       "    </tr>\n",
       "    <tr>\n",
       "      <th>3</th>\n",
       "      <td>12.851</td>\n",
       "      <td>39.411</td>\n",
       "    </tr>\n",
       "    <tr>\n",
       "      <th>4</th>\n",
       "      <td>13.565</td>\n",
       "      <td>40.760</td>\n",
       "    </tr>\n",
       "  </tbody>\n",
       "</table>\n",
       "</div>"
      ],
      "text/plain": [
       "        x       y\n",
       "0  10.529  39.105\n",
       "1  10.799  40.584\n",
       "2  11.698  39.883\n",
       "3  12.851  39.411\n",
       "4  13.565  40.760"
      ]
     },
     "execution_count": 2,
     "metadata": {},
     "output_type": "execute_result"
    }
   ],
   "source": [
    "# Load the data\n",
    "\n",
    "data_df = pd.read_csv('task-1.csv')\n",
    "data_df.head()"
   ]
  },
  {
   "cell_type": "code",
   "execution_count": 4,
   "id": "8bf4afe4",
   "metadata": {},
   "outputs": [
    {
     "data": {
      "image/png": "[encoded data removed]",
      "text/plain": [
       "<Figure size 432x288 with 1 Axes>"
      ]
     },
     "metadata": {
      "needs_background": "light"
     },
     "output_type": "display_data"
    }
   ],
   "source": [
    "plt.scatter(data_df.x,data_df.y)\n",
    "plt.show()"
   ]
  },
  {
   "cell_type": "code",
   "execution_count": 5,
   "id": "23313f66",
   "metadata": {},
   "outputs": [
    {
     "data": {
      "image/png": "[encoded data removed]",
      "text/plain": [
       "<Figure size 432x288 with 1 Axes>"
      ]
     },
     "metadata": {
      "needs_background": "light"
     },
     "output_type": "display_data"
    }
   ],
   "source": [
    "plt.scatter(np.log(data_df.x),data_df.y)\n",
    "plt.show()"
   ]
  },
  {
   "cell_type": "code",
   "execution_count": 6,
   "id": "987f70e4",
   "metadata": {},
   "outputs": [],
   "source": [
    "# LinearRegression uses OLS to optimize RSS\n",
    "from sklearn.linear_model import LinearRegression\n"
   ]
  },
  {
   "cell_type": "code",
   "execution_count": 7,
   "id": "737b4675",
   "metadata": {},
   "outputs": [],
   "source": [
    "def RSS(y, y_pred):\n",
    "    return np.sum(np.square(y - y_pred))"
   ]
  },
  {
   "cell_type": "code",
   "execution_count": 8,
   "id": "b8d0e3a1",
   "metadata": {},
   "outputs": [
    {
     "name": "stdout",
     "output_type": "stream",
     "text": [
      "(50,)\n",
      "(50,)\n"
     ]
    }
   ],
   "source": [
    "# Uing polyfit as we have only one entry\n",
    "linreg = LinearRegression()\n",
    "\n",
    "x1 = np.log(data_df.x).values\n",
    "\n",
    "y1 = data_df.y.values\n",
    "\n",
    "print(x1.shape)\n",
    "print(y1.shape)"
   ]
  },
  {
   "cell_type": "code",
   "execution_count": 9,
   "id": "4901a194",
   "metadata": {},
   "outputs": [
    {
     "data": {
      "text/plain": [
       "LinearRegression(copy_X=True, fit_intercept=True, n_jobs=None,\n",
       "         normalize=False)"
      ]
     },
     "execution_count": 9,
     "metadata": {},
     "output_type": "execute_result"
    }
   ],
   "source": [
    "# Fit it\n",
    "X1 =x1[:,np.newaxis]\n",
    "linreg.fit(X1, y1)"
   ]
  },
  {
   "cell_type": "code",
   "execution_count": 10,
   "id": "5d06166f",
   "metadata": {},
   "outputs": [
    {
     "name": "stdout",
     "output_type": "stream",
     "text": [
      "Coefficients: [ 3.390241   31.52920122]\n"
     ]
    }
   ],
   "source": [
    "coefs = np.polyfit(x1, y1, deg=1)\n",
    "print('Coefficients:', coefs)"
   ]
  },
  {
   "cell_type": "code",
   "execution_count": 11,
   "id": "527240a5",
   "metadata": {},
   "outputs": [],
   "source": [
    "# Generate a hundred data points between min(x) and max(x)\n",
    "x_values = np.linspace(min(x1), max(x1), num=100)\n",
    "# Compute predictions for these sample data points\n",
    "    # Using Polyfit / Polyval\n",
    "y_values_poly = np.polyval(coefs, x_values)\n",
    "    # Using LinearRegression\n",
    "y_values_linreg = linreg.predict(x_values[:,np.newaxis])"
   ]
  },
  {
   "cell_type": "code",
   "execution_count": 12,
   "id": "366895ac",
   "metadata": {},
   "outputs": [
    {
     "data": {
      "image/png": "[encoded data removed]",
      "text/plain": [
       "<Figure size 432x288 with 1 Axes>"
      ]
     },
     "metadata": {
      "needs_background": "light"
     },
     "output_type": "display_data"
    }
   ],
   "source": [
    "plt.scatter(np.exp(x1), y1, s=20, label=None)\n",
    "plt.plot(np.exp(x_values), y_values_poly, c='C3', label='polyfit(log(x), y, deg=1)')\n",
    "plt.plot(np.exp(x_values), y_values_linreg, c='C1', label='linreg')\n",
    "plt.legend()\n",
    "plt.show()"
   ]
  },
  {
   "cell_type": "code",
   "execution_count": 13,
   "id": "d5d13ce8",
   "metadata": {},
   "outputs": [
    {
     "name": "stdout",
     "output_type": "stream",
     "text": [
      "LinearRegression 31.842651752756762\n",
      "PolyFit 31.842651752756687\n",
      "Mean Baseline 541.1432872199999\n"
     ]
    }
   ],
   "source": [
    "    # Using Polyfit / Polyval\n",
    "y_pred_poly = np.polyval(coefs, x1)\n",
    "    # Using LinearRegression\n",
    "y_pred_linreg = linreg.predict(x1[:,np.newaxis])\n",
    "\n",
    "RSS_linreg = RSS(y1 ,y_pred_linreg)\n",
    "RSS_poly =RSS(y1 , y_pred_poly)\n",
    "RSS_baseline = RSS(y1 , np.mean(y1))\n",
    "\n",
    "print('LinearRegression',RSS_linreg)\n",
    "print('PolyFit',RSS_poly)\n",
    "print('Mean Baseline', RSS_baseline)\n",
    "\n"
   ]
  },
  {
   "cell_type": "markdown",
   "id": "6b753c3d",
   "metadata": {},
   "source": [
    "As we can see, LinearRegression and Polyval/Fit have the same result, which makes sense as they both use analytical method OLS to optimize RSS analytically, so we do not have the \"randomness\" of a gradient descent for example.\n",
    "\n",
    "### R2 measure : \n"
   ]
  },
  {
   "cell_type": "code",
   "execution_count": 14,
   "id": "7734d469",
   "metadata": {},
   "outputs": [
    {
     "data": {
      "text/plain": [
       "0.9411567093138288"
      ]
     },
     "execution_count": 14,
     "metadata": {},
     "output_type": "execute_result"
    }
   ],
   "source": [
    "R2 = 1 - RSS_poly / RSS_baseline\n",
    "R2"
   ]
  },
  {
   "cell_type": "markdown",
   "id": "5ca88e38",
   "metadata": {},
   "source": [
    "### Conlusion\n",
    "\n",
    "Indeed, the R2 is very close to 1 (0.94) so it is a quite good result which is explained by the 541 for the mean Baseline vs 32 for LinearRegression. (I also noticed the median baseline have the almost exact same RSS..)\n",
    "\n",
    "# Task 2"
   ]
  },
  {
   "cell_type": "code",
   "execution_count": 32,
   "id": "abef7a86",
   "metadata": {},
   "outputs": [
    {
     "data": {
      "text/html": [
       "<div>\n",
       "<style scoped>\n",
       "    .dataframe tbody tr th:only-of-type {\n",
       "        vertical-align: middle;\n",
       "    }\n",
       "\n",
       "    .dataframe tbody tr th {\n",
       "        vertical-align: top;\n",
       "    }\n",
       "\n",
       "    .dataframe thead th {\n",
       "        text-align: right;\n",
       "    }\n",
       "</style>\n",
       "<table border=\"1\" class=\"dataframe\">\n",
       "  <thead>\n",
       "    <tr style=\"text-align: right;\">\n",
       "      <th></th>\n",
       "      <th>x1</th>\n",
       "      <th>x2</th>\n",
       "      <th>x3</th>\n",
       "      <th>y</th>\n",
       "    </tr>\n",
       "  </thead>\n",
       "  <tbody>\n",
       "    <tr>\n",
       "      <th>0</th>\n",
       "      <td>7.892</td>\n",
       "      <td>318.818</td>\n",
       "      <td>162.970</td>\n",
       "      <td>2112.420</td>\n",
       "    </tr>\n",
       "    <tr>\n",
       "      <th>1</th>\n",
       "      <td>8.830</td>\n",
       "      <td>303.180</td>\n",
       "      <td>181.399</td>\n",
       "      <td>2096.231</td>\n",
       "    </tr>\n",
       "    <tr>\n",
       "      <th>2</th>\n",
       "      <td>13.811</td>\n",
       "      <td>296.231</td>\n",
       "      <td>145.849</td>\n",
       "      <td>2067.045</td>\n",
       "    </tr>\n",
       "    <tr>\n",
       "      <th>3</th>\n",
       "      <td>12.863</td>\n",
       "      <td>325.830</td>\n",
       "      <td>167.996</td>\n",
       "      <td>2269.262</td>\n",
       "    </tr>\n",
       "    <tr>\n",
       "      <th>4</th>\n",
       "      <td>13.698</td>\n",
       "      <td>254.035</td>\n",
       "      <td>171.892</td>\n",
       "      <td>1966.604</td>\n",
       "    </tr>\n",
       "  </tbody>\n",
       "</table>\n",
       "</div>"
      ],
      "text/plain": [
       "       x1       x2       x3         y\n",
       "0   7.892  318.818  162.970  2112.420\n",
       "1   8.830  303.180  181.399  2096.231\n",
       "2  13.811  296.231  145.849  2067.045\n",
       "3  12.863  325.830  167.996  2269.262\n",
       "4  13.698  254.035  171.892  1966.604"
      ]
     },
     "execution_count": 32,
     "metadata": {},
     "output_type": "execute_result"
    }
   ],
   "source": [
    "from sklearn.metrics import mean_absolute_error as MAE\n",
    "\n",
    "# Load the data\n",
    "\n",
    "data_df = pd.read_csv('task-2.csv')\n",
    "data_df.head()\n",
    "\n"
   ]
  },
  {
   "cell_type": "code",
   "execution_count": 35,
   "id": "3664c9a4",
   "metadata": {},
   "outputs": [
    {
     "data": {
      "text/html": [
       "<div>\n",
       "<style scoped>\n",
       "    .dataframe tbody tr th:only-of-type {\n",
       "        vertical-align: middle;\n",
       "    }\n",
       "\n",
       "    .dataframe tbody tr th {\n",
       "        vertical-align: top;\n",
       "    }\n",
       "\n",
       "    .dataframe thead th {\n",
       "        text-align: right;\n",
       "    }\n",
       "</style>\n",
       "<table border=\"1\" class=\"dataframe\">\n",
       "  <thead>\n",
       "    <tr style=\"text-align: right;\">\n",
       "      <th></th>\n",
       "      <th>x1</th>\n",
       "      <th>x2</th>\n",
       "      <th>x3</th>\n",
       "      <th>y</th>\n",
       "    </tr>\n",
       "  </thead>\n",
       "  <tbody>\n",
       "    <tr>\n",
       "      <th>count</th>\n",
       "      <td>1000.000000</td>\n",
       "      <td>1000.000000</td>\n",
       "      <td>1000.000000</td>\n",
       "      <td>1000.000000</td>\n",
       "    </tr>\n",
       "    <tr>\n",
       "      <th>mean</th>\n",
       "      <td>12.322190</td>\n",
       "      <td>319.329936</td>\n",
       "      <td>158.595832</td>\n",
       "      <td>2204.251068</td>\n",
       "    </tr>\n",
       "    <tr>\n",
       "      <th>std</th>\n",
       "      <td>8.455445</td>\n",
       "      <td>68.823726</td>\n",
       "      <td>25.032233</td>\n",
       "      <td>158.109451</td>\n",
       "    </tr>\n",
       "    <tr>\n",
       "      <th>min</th>\n",
       "      <td>-49.652000</td>\n",
       "      <td>-375.335000</td>\n",
       "      <td>-146.921000</td>\n",
       "      <td>1733.474000</td>\n",
       "    </tr>\n",
       "    <tr>\n",
       "      <th>25%</th>\n",
       "      <td>9.731500</td>\n",
       "      <td>296.804250</td>\n",
       "      <td>152.215500</td>\n",
       "      <td>2090.981000</td>\n",
       "    </tr>\n",
       "    <tr>\n",
       "      <th>50%</th>\n",
       "      <td>12.156500</td>\n",
       "      <td>320.857500</td>\n",
       "      <td>159.457000</td>\n",
       "      <td>2204.511000</td>\n",
       "    </tr>\n",
       "    <tr>\n",
       "      <th>75%</th>\n",
       "      <td>14.189250</td>\n",
       "      <td>341.749250</td>\n",
       "      <td>166.356500</td>\n",
       "      <td>2312.266000</td>\n",
       "    </tr>\n",
       "    <tr>\n",
       "      <th>max</th>\n",
       "      <td>100.692000</td>\n",
       "      <td>899.041000</td>\n",
       "      <td>344.797000</td>\n",
       "      <td>2713.866000</td>\n",
       "    </tr>\n",
       "  </tbody>\n",
       "</table>\n",
       "</div>"
      ],
      "text/plain": [
       "                x1           x2           x3            y\n",
       "count  1000.000000  1000.000000  1000.000000  1000.000000\n",
       "mean     12.322190   319.329936   158.595832  2204.251068\n",
       "std       8.455445    68.823726    25.032233   158.109451\n",
       "min     -49.652000  -375.335000  -146.921000  1733.474000\n",
       "25%       9.731500   296.804250   152.215500  2090.981000\n",
       "50%      12.156500   320.857500   159.457000  2204.511000\n",
       "75%      14.189250   341.749250   166.356500  2312.266000\n",
       "max     100.692000   899.041000   344.797000  2713.866000"
      ]
     },
     "execution_count": 35,
     "metadata": {},
     "output_type": "execute_result"
    }
   ],
   "source": [
    "data_df.describe()"
   ]
  },
  {
   "cell_type": "code",
   "execution_count": 33,
   "id": "58d0abf4",
   "metadata": {},
   "outputs": [
    {
     "data": {
      "text/plain": [
       "x1    0\n",
       "x2    0\n",
       "x3    0\n",
       "y     0\n",
       "dtype: int64"
      ]
     },
     "execution_count": 33,
     "metadata": {},
     "output_type": "execute_result"
    }
   ],
   "source": [
    "data_df.isnull().sum()"
   ]
  },
  {
   "cell_type": "code",
   "execution_count": 37,
   "id": "496edc06",
   "metadata": {},
   "outputs": [
    {
     "data": {
      "text/plain": [
       "2.379453537250623"
      ]
     },
     "execution_count": 37,
     "metadata": {},
     "output_type": "execute_result"
    }
   ],
   "source": []
  },
  {
   "cell_type": "code",
   "execution_count": 45,
   "id": "eadc4dfc",
   "metadata": {},
   "outputs": [
    {
     "data": {
      "text/plain": [
       "<matplotlib.collections.PathCollection at 0x1b192eb4c18>"
      ]
     },
     "execution_count": 45,
     "metadata": {},
     "output_type": "execute_result"
    },
    {
     "data": {
      "image/png": "[encoded data removed]",
      "text/plain": [
       "<Figure size 432x288 with 1 Axes>"
      ]
     },
     "metadata": {
      "needs_background": "light"
     },
     "output_type": "display_data"
    }
   ],
   "source": [
    "%matplotlib inline\n",
    "import matplotlib.pyplot as plt\n",
    "\n",
    "plt.scatter(data_df['x1'],data_df['y'], c = 'r')\n",
    "plt.scatter(data_df['x2'],data_df['y'], c = 'b')\n",
    "plt.scatter(data_df['x3'],data_df['y'], c = 'y')"
   ]
  },
  {
   "cell_type": "markdown",
   "id": "0ecf4763",
   "metadata": {},
   "source": [
    "### From this plot, I would argue that for each point :\n",
    "   > x3>x2>x1"
   ]
  },
  {
   "cell_type": "code",
   "execution_count": 60,
   "id": "912de92d",
   "metadata": {},
   "outputs": [],
   "source": [
    "# Create a function to drop outliers on a specified list of columns :\n",
    "\n",
    "def drop_outliers(df, list_column, threshold):\n",
    "    df=df.copy()\n",
    "    \n",
    "    #loop function for each column\n",
    "    for column in list_column:\n",
    "        df = df.drop(df.loc[np.abs(df[column] - df[column].median()) > threshold *(df[column].std())].index, axis = 0)    \n",
    "    return df"
   ]
  },
  {
   "cell_type": "code",
   "execution_count": 61,
   "id": "dd6beaf3",
   "metadata": {},
   "outputs": [
    {
     "name": "stdout",
     "output_type": "stream",
     "text": [
      "(1000, 4) vs (950, 4)  without outlliers\n"
     ]
    }
   ],
   "source": [
    "# Remove Outliers on a new Dataframe :\n",
    "\n",
    "data_df_wo = drop_outliers(data_df, data_df.columns, 3)\n",
    "print(data_df.shape,'vs', data_df_wo.shape, ' without outlliers')"
   ]
  },
  {
   "cell_type": "code",
   "execution_count": 62,
   "id": "274e4e2c",
   "metadata": {},
   "outputs": [],
   "source": [
    "from sklearn.model_selection import train_test_split\n",
    "\n",
    "# Split into train/test sets\n",
    "X = data_df.drop('y', axis=1).values\n",
    "y = data_df.y.values\n",
    "X_tr, X_te, y_tr, y_te = train_test_split(X, y, test_size=0.2, random_state=2)\n",
    "\n",
    "# Split into train/test sets\n",
    "X_wo = data_df_wo.drop('y', axis=1).values\n",
    "y_wo = data_df_wo.y.values\n",
    "X_tr_wo, X_te_wo, y_tr_wo, y_te_wo = train_test_split(X_wo, y_wo, test_size=0.2, random_state=2)\n",
    "\n"
   ]
  },
  {
   "cell_type": "code",
   "execution_count": 63,
   "id": "255a4e12",
   "metadata": {},
   "outputs": [
    {
     "data": {
      "text/plain": [
       "HuberRegressor(alpha=0.0001, epsilon=1.35, fit_intercept=True, max_iter=100,\n",
       "        tol=1e-05, warm_start=False)"
      ]
     },
     "execution_count": 63,
     "metadata": {},
     "output_type": "execute_result"
    }
   ],
   "source": [
    "# With Outliers\n",
    "linreg = LinearRegression()\n",
    "# Fit it\n",
    "linreg.fit(X_tr, y_tr);\n",
    "\n",
    "from sklearn.linear_model import HuberRegressor\n",
    "# Create a linear regression with Huber loss\n",
    "lr_huber = HuberRegressor(epsilon=1.35)\n",
    "lr_huber.fit(X_tr, y_tr)"
   ]
  },
  {
   "cell_type": "code",
   "execution_count": 64,
   "id": "e25c02f4",
   "metadata": {},
   "outputs": [],
   "source": [
    "# Without Outliers\n",
    "linreg_wo = LinearRegression()\n",
    "\n",
    "# Fit it\n",
    "linreg_wo.fit(X_tr_wo, y_tr_wo);"
   ]
  },
  {
   "cell_type": "code",
   "execution_count": 71,
   "id": "122f3112",
   "metadata": {},
   "outputs": [],
   "source": [
    "y_pred_lreg = linreg.predict(X_te)\n",
    "y_pred_lreg_wo = linreg_wo.predict(X_te_wo)\n",
    "y_pred_huber = lr_huber.predict(X_te)"
   ]
  },
  {
   "cell_type": "code",
   "execution_count": 72,
   "id": "526470ae",
   "metadata": {},
   "outputs": [
    {
     "data": {
      "text/plain": [
       "(760, 3)"
      ]
     },
     "execution_count": 72,
     "metadata": {},
     "output_type": "execute_result"
    }
   ],
   "source": [
    "X_tr_wo.shape"
   ]
  },
  {
   "cell_type": "code",
   "execution_count": 73,
   "id": "1a65ecb1",
   "metadata": {},
   "outputs": [
    {
     "name": "stdout",
     "output_type": "stream",
     "text": [
      "with outliers 119.1569743994203\n",
      "without outliers 59.631724061170665\n",
      "huber loss 99.60294918220715\n"
     ]
    }
   ],
   "source": [
    "MAE_lreg = MAE(y_te,y_pred_lreg)\n",
    "MAE_lreg_wo = MAE(y_te_wo,y_pred_lreg_wo)\n",
    "MAE_huber = MAE(y_te,y_pred_huber)\n",
    "\n",
    "print('with outliers',MAE_lreg)\n",
    "print('without outliers',MAE_lreg_wo)\n",
    "print('huber loss',MAE_huber)"
   ]
  },
  {
   "cell_type": "code",
   "execution_count": null,
   "id": "695edf57",
   "metadata": {},
   "outputs": [],
   "source": []
  },
  {
   "cell_type": "code",
   "execution_count": null,
   "id": "9639b6c6",
   "metadata": {},
   "outputs": [],
   "source": []
  },
  {
   "cell_type": "code",
   "execution_count": null,
   "id": "dcccd866",
   "metadata": {},
   "outputs": [],
   "source": []
  }
 ],
 "metadata": {
  "kernelspec": {
   "display_name": "Python 3",
   "language": "python",
   "name": "python3"
  },
  "language_info": {
   "codemirror_mode": {
    "name": "ipython",
    "version": 3
   },
   "file_extension": ".py",
   "mimetype": "text/x-python",
   "name": "python",
   "nbconvert_exporter": "python",
   "pygments_lexer": "ipython3",
   "version": "3.6.13"
  }
 },
 "nbformat": 4,
 "nbformat_minor": 5
}
