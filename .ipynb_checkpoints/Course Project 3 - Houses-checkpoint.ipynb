{
 "cells": [
  {
   "cell_type": "markdown",
   "id": "170b4bf9",
   "metadata": {},
   "source": [
    "# Import libraries\n",
    "----------------------------"
   ]
  },
  {
   "cell_type": "code",
   "execution_count": 1,
   "id": "baa44647",
   "metadata": {},
   "outputs": [],
   "source": [
    "import pandas as pd\n",
    "import numpy as np\n",
    "import matplotlib.pyplot as plt\n",
    "import seaborn as sns\n",
    "%matplotlib inline\n",
    "\n",
    "## Scikit-learn\n",
    "from sklearn.preprocessing import StandardScaler\n",
    "from sklearn.preprocessing import PolynomialFeatures\n",
    "\n",
    "from sklearn.linear_model import LinearRegression\n",
    "from sklearn.linear_model import Ridge\n",
    "from sklearn.linear_model import Lasso\n",
    "\n",
    "\n",
    "from sklearn.metrics import mean_squared_error as MSE\n",
    "from sklearn.metrics import mean_absolute_error as MAE\n",
    "\n",
    "from sklearn.model_selection import train_test_split\n",
    "\n",
    "from sklearn.pipeline import Pipeline"
   ]
  },
  {
   "cell_type": "markdown",
   "id": "ae0a3ef7",
   "metadata": {},
   "source": [
    "# Import dataset"
   ]
  },
  {
   "cell_type": "code",
   "execution_count": 2,
   "id": "9ae2a377",
   "metadata": {},
   "outputs": [
    {
     "data": {
      "text/html": [
       "<div>\n",
       "<style scoped>\n",
       "    .dataframe tbody tr th:only-of-type {\n",
       "        vertical-align: middle;\n",
       "    }\n",
       "\n",
       "    .dataframe tbody tr th {\n",
       "        vertical-align: top;\n",
       "    }\n",
       "\n",
       "    .dataframe thead th {\n",
       "        text-align: right;\n",
       "    }\n",
       "</style>\n",
       "<table border=\"1\" class=\"dataframe\">\n",
       "  <thead>\n",
       "    <tr style=\"text-align: right;\">\n",
       "      <th></th>\n",
       "      <th>Order</th>\n",
       "      <th>PID</th>\n",
       "      <th>MS SubClass</th>\n",
       "      <th>MS Zoning</th>\n",
       "      <th>Lot Frontage</th>\n",
       "      <th>Lot Area</th>\n",
       "      <th>Street</th>\n",
       "      <th>Alley</th>\n",
       "      <th>Lot Shape</th>\n",
       "      <th>Land Contour</th>\n",
       "      <th>...</th>\n",
       "      <th>Pool Area</th>\n",
       "      <th>Pool QC</th>\n",
       "      <th>Fence</th>\n",
       "      <th>Misc Feature</th>\n",
       "      <th>Misc Val</th>\n",
       "      <th>Mo Sold</th>\n",
       "      <th>Yr Sold</th>\n",
       "      <th>Sale Type</th>\n",
       "      <th>Sale Condition</th>\n",
       "      <th>SalePrice</th>\n",
       "    </tr>\n",
       "  </thead>\n",
       "  <tbody>\n",
       "    <tr>\n",
       "      <th>0</th>\n",
       "      <td>484</td>\n",
       "      <td>528275070</td>\n",
       "      <td>60</td>\n",
       "      <td>RL</td>\n",
       "      <td>NaN</td>\n",
       "      <td>8795</td>\n",
       "      <td>Pave</td>\n",
       "      <td>NaN</td>\n",
       "      <td>IR1</td>\n",
       "      <td>Lvl</td>\n",
       "      <td>...</td>\n",
       "      <td>0</td>\n",
       "      <td>NaN</td>\n",
       "      <td>NaN</td>\n",
       "      <td>NaN</td>\n",
       "      <td>0</td>\n",
       "      <td>4</td>\n",
       "      <td>2009</td>\n",
       "      <td>WD</td>\n",
       "      <td>Normal</td>\n",
       "      <td>236000</td>\n",
       "    </tr>\n",
       "    <tr>\n",
       "      <th>1</th>\n",
       "      <td>2586</td>\n",
       "      <td>535305120</td>\n",
       "      <td>20</td>\n",
       "      <td>RL</td>\n",
       "      <td>75.0</td>\n",
       "      <td>10170</td>\n",
       "      <td>Pave</td>\n",
       "      <td>NaN</td>\n",
       "      <td>Reg</td>\n",
       "      <td>Lvl</td>\n",
       "      <td>...</td>\n",
       "      <td>0</td>\n",
       "      <td>NaN</td>\n",
       "      <td>NaN</td>\n",
       "      <td>NaN</td>\n",
       "      <td>0</td>\n",
       "      <td>6</td>\n",
       "      <td>2006</td>\n",
       "      <td>WD</td>\n",
       "      <td>Normal</td>\n",
       "      <td>155000</td>\n",
       "    </tr>\n",
       "    <tr>\n",
       "      <th>2</th>\n",
       "      <td>2289</td>\n",
       "      <td>923228250</td>\n",
       "      <td>160</td>\n",
       "      <td>RM</td>\n",
       "      <td>21.0</td>\n",
       "      <td>2001</td>\n",
       "      <td>Pave</td>\n",
       "      <td>NaN</td>\n",
       "      <td>Reg</td>\n",
       "      <td>Lvl</td>\n",
       "      <td>...</td>\n",
       "      <td>0</td>\n",
       "      <td>NaN</td>\n",
       "      <td>NaN</td>\n",
       "      <td>NaN</td>\n",
       "      <td>0</td>\n",
       "      <td>1</td>\n",
       "      <td>2007</td>\n",
       "      <td>WD</td>\n",
       "      <td>Normal</td>\n",
       "      <td>75000</td>\n",
       "    </tr>\n",
       "    <tr>\n",
       "      <th>3</th>\n",
       "      <td>142</td>\n",
       "      <td>535152150</td>\n",
       "      <td>20</td>\n",
       "      <td>RL</td>\n",
       "      <td>70.0</td>\n",
       "      <td>10552</td>\n",
       "      <td>Pave</td>\n",
       "      <td>NaN</td>\n",
       "      <td>IR1</td>\n",
       "      <td>Lvl</td>\n",
       "      <td>...</td>\n",
       "      <td>0</td>\n",
       "      <td>NaN</td>\n",
       "      <td>NaN</td>\n",
       "      <td>NaN</td>\n",
       "      <td>0</td>\n",
       "      <td>4</td>\n",
       "      <td>2010</td>\n",
       "      <td>WD</td>\n",
       "      <td>Normal</td>\n",
       "      <td>165500</td>\n",
       "    </tr>\n",
       "    <tr>\n",
       "      <th>4</th>\n",
       "      <td>2042</td>\n",
       "      <td>903475060</td>\n",
       "      <td>190</td>\n",
       "      <td>RM</td>\n",
       "      <td>60.0</td>\n",
       "      <td>10120</td>\n",
       "      <td>Pave</td>\n",
       "      <td>NaN</td>\n",
       "      <td>IR1</td>\n",
       "      <td>Bnk</td>\n",
       "      <td>...</td>\n",
       "      <td>0</td>\n",
       "      <td>NaN</td>\n",
       "      <td>MnPrv</td>\n",
       "      <td>NaN</td>\n",
       "      <td>0</td>\n",
       "      <td>1</td>\n",
       "      <td>2007</td>\n",
       "      <td>WD</td>\n",
       "      <td>Normal</td>\n",
       "      <td>122000</td>\n",
       "    </tr>\n",
       "  </tbody>\n",
       "</table>\n",
       "<p>5 rows × 82 columns</p>\n",
       "</div>"
      ],
      "text/plain": [
       "   Order        PID  MS SubClass MS Zoning  Lot Frontage  Lot Area Street  \\\n",
       "0    484  528275070           60        RL           NaN      8795   Pave   \n",
       "1   2586  535305120           20        RL          75.0     10170   Pave   \n",
       "2   2289  923228250          160        RM          21.0      2001   Pave   \n",
       "3    142  535152150           20        RL          70.0     10552   Pave   \n",
       "4   2042  903475060          190        RM          60.0     10120   Pave   \n",
       "\n",
       "  Alley Lot Shape Land Contour  ... Pool Area Pool QC  Fence Misc Feature  \\\n",
       "0   NaN       IR1          Lvl  ...         0     NaN    NaN          NaN   \n",
       "1   NaN       Reg          Lvl  ...         0     NaN    NaN          NaN   \n",
       "2   NaN       Reg          Lvl  ...         0     NaN    NaN          NaN   \n",
       "3   NaN       IR1          Lvl  ...         0     NaN    NaN          NaN   \n",
       "4   NaN       IR1          Bnk  ...         0     NaN  MnPrv          NaN   \n",
       "\n",
       "  Misc Val Mo Sold Yr Sold Sale Type  Sale Condition  SalePrice  \n",
       "0        0       4    2009       WD           Normal     236000  \n",
       "1        0       6    2006       WD           Normal     155000  \n",
       "2        0       1    2007       WD           Normal      75000  \n",
       "3        0       4    2010       WD           Normal     165500  \n",
       "4        0       1    2007       WD           Normal     122000  \n",
       "\n",
       "[5 rows x 82 columns]"
      ]
     },
     "execution_count": 2,
     "metadata": {},
     "output_type": "execute_result"
    }
   ],
   "source": [
    "data_df = pd.read_csv('house-prices.csv')\n",
    "data_df.head()"
   ]
  },
  {
   "cell_type": "markdown",
   "id": "53d14b13",
   "metadata": {},
   "source": [
    "# First glance at the data set\n",
    "------------------------"
   ]
  },
  {
   "cell_type": "code",
   "execution_count": 3,
   "id": "d92eb23a",
   "metadata": {},
   "outputs": [
    {
     "data": {
      "text/plain": [
       "(2430, 82)"
      ]
     },
     "execution_count": 3,
     "metadata": {},
     "output_type": "execute_result"
    }
   ],
   "source": [
    "data_df.shape"
   ]
  },
  {
   "cell_type": "code",
   "execution_count": 4,
   "id": "030a820c",
   "metadata": {},
   "outputs": [
    {
     "data": {
      "text/html": [
       "<div>\n",
       "<style scoped>\n",
       "    .dataframe tbody tr th:only-of-type {\n",
       "        vertical-align: middle;\n",
       "    }\n",
       "\n",
       "    .dataframe tbody tr th {\n",
       "        vertical-align: top;\n",
       "    }\n",
       "\n",
       "    .dataframe thead th {\n",
       "        text-align: right;\n",
       "    }\n",
       "</style>\n",
       "<table border=\"1\" class=\"dataframe\">\n",
       "  <thead>\n",
       "    <tr style=\"text-align: right;\">\n",
       "      <th></th>\n",
       "      <th>Order</th>\n",
       "      <th>PID</th>\n",
       "      <th>MS SubClass</th>\n",
       "      <th>Lot Frontage</th>\n",
       "      <th>Lot Area</th>\n",
       "      <th>Overall Qual</th>\n",
       "      <th>Overall Cond</th>\n",
       "      <th>Year Built</th>\n",
       "      <th>Year Remod/Add</th>\n",
       "      <th>Mas Vnr Area</th>\n",
       "      <th>...</th>\n",
       "      <th>Wood Deck SF</th>\n",
       "      <th>Open Porch SF</th>\n",
       "      <th>Enclosed Porch</th>\n",
       "      <th>3Ssn Porch</th>\n",
       "      <th>Screen Porch</th>\n",
       "      <th>Pool Area</th>\n",
       "      <th>Misc Val</th>\n",
       "      <th>Mo Sold</th>\n",
       "      <th>Yr Sold</th>\n",
       "      <th>SalePrice</th>\n",
       "    </tr>\n",
       "  </thead>\n",
       "  <tbody>\n",
       "    <tr>\n",
       "      <th>count</th>\n",
       "      <td>2430.000000</td>\n",
       "      <td>2.430000e+03</td>\n",
       "      <td>2430.000000</td>\n",
       "      <td>2010.000000</td>\n",
       "      <td>2430.000000</td>\n",
       "      <td>2430.000000</td>\n",
       "      <td>2430.000000</td>\n",
       "      <td>2430.000000</td>\n",
       "      <td>2430.000000</td>\n",
       "      <td>2410.000000</td>\n",
       "      <td>...</td>\n",
       "      <td>2430.000000</td>\n",
       "      <td>2430.000000</td>\n",
       "      <td>2430.000000</td>\n",
       "      <td>2430.000000</td>\n",
       "      <td>2430.000000</td>\n",
       "      <td>2430.000000</td>\n",
       "      <td>2430.000000</td>\n",
       "      <td>2430.000000</td>\n",
       "      <td>2430.000000</td>\n",
       "      <td>2430.000000</td>\n",
       "    </tr>\n",
       "    <tr>\n",
       "      <th>mean</th>\n",
       "      <td>1469.478189</td>\n",
       "      <td>7.149375e+08</td>\n",
       "      <td>57.092593</td>\n",
       "      <td>69.201990</td>\n",
       "      <td>10243.557613</td>\n",
       "      <td>6.088889</td>\n",
       "      <td>5.569959</td>\n",
       "      <td>1971.167490</td>\n",
       "      <td>1984.238683</td>\n",
       "      <td>101.995436</td>\n",
       "      <td>...</td>\n",
       "      <td>93.917695</td>\n",
       "      <td>47.091770</td>\n",
       "      <td>22.294650</td>\n",
       "      <td>2.471605</td>\n",
       "      <td>16.529218</td>\n",
       "      <td>2.401235</td>\n",
       "      <td>56.179835</td>\n",
       "      <td>6.209465</td>\n",
       "      <td>2007.783539</td>\n",
       "      <td>180199.692593</td>\n",
       "    </tr>\n",
       "    <tr>\n",
       "      <th>std</th>\n",
       "      <td>843.236520</td>\n",
       "      <td>1.887339e+08</td>\n",
       "      <td>42.903254</td>\n",
       "      <td>23.486988</td>\n",
       "      <td>8353.925254</td>\n",
       "      <td>1.414621</td>\n",
       "      <td>1.116442</td>\n",
       "      <td>30.207931</td>\n",
       "      <td>20.751163</td>\n",
       "      <td>176.611699</td>\n",
       "      <td>...</td>\n",
       "      <td>128.106940</td>\n",
       "      <td>67.123846</td>\n",
       "      <td>62.386414</td>\n",
       "      <td>24.880245</td>\n",
       "      <td>56.822227</td>\n",
       "      <td>36.111988</td>\n",
       "      <td>616.661541</td>\n",
       "      <td>2.721942</td>\n",
       "      <td>1.311843</td>\n",
       "      <td>79607.467171</td>\n",
       "    </tr>\n",
       "    <tr>\n",
       "      <th>min</th>\n",
       "      <td>1.000000</td>\n",
       "      <td>5.263011e+08</td>\n",
       "      <td>20.000000</td>\n",
       "      <td>21.000000</td>\n",
       "      <td>1470.000000</td>\n",
       "      <td>1.000000</td>\n",
       "      <td>1.000000</td>\n",
       "      <td>1875.000000</td>\n",
       "      <td>1950.000000</td>\n",
       "      <td>0.000000</td>\n",
       "      <td>...</td>\n",
       "      <td>0.000000</td>\n",
       "      <td>0.000000</td>\n",
       "      <td>0.000000</td>\n",
       "      <td>0.000000</td>\n",
       "      <td>0.000000</td>\n",
       "      <td>0.000000</td>\n",
       "      <td>0.000000</td>\n",
       "      <td>1.000000</td>\n",
       "      <td>2006.000000</td>\n",
       "      <td>12789.000000</td>\n",
       "    </tr>\n",
       "    <tr>\n",
       "      <th>25%</th>\n",
       "      <td>749.250000</td>\n",
       "      <td>5.284770e+08</td>\n",
       "      <td>20.000000</td>\n",
       "      <td>58.000000</td>\n",
       "      <td>7482.000000</td>\n",
       "      <td>5.000000</td>\n",
       "      <td>5.000000</td>\n",
       "      <td>1954.000000</td>\n",
       "      <td>1966.000000</td>\n",
       "      <td>0.000000</td>\n",
       "      <td>...</td>\n",
       "      <td>0.000000</td>\n",
       "      <td>0.000000</td>\n",
       "      <td>0.000000</td>\n",
       "      <td>0.000000</td>\n",
       "      <td>0.000000</td>\n",
       "      <td>0.000000</td>\n",
       "      <td>0.000000</td>\n",
       "      <td>4.000000</td>\n",
       "      <td>2007.000000</td>\n",
       "      <td>129000.000000</td>\n",
       "    </tr>\n",
       "    <tr>\n",
       "      <th>50%</th>\n",
       "      <td>1470.500000</td>\n",
       "      <td>5.354541e+08</td>\n",
       "      <td>50.000000</td>\n",
       "      <td>68.000000</td>\n",
       "      <td>9500.000000</td>\n",
       "      <td>6.000000</td>\n",
       "      <td>5.000000</td>\n",
       "      <td>1973.000000</td>\n",
       "      <td>1993.000000</td>\n",
       "      <td>0.000000</td>\n",
       "      <td>...</td>\n",
       "      <td>0.000000</td>\n",
       "      <td>27.000000</td>\n",
       "      <td>0.000000</td>\n",
       "      <td>0.000000</td>\n",
       "      <td>0.000000</td>\n",
       "      <td>0.000000</td>\n",
       "      <td>0.000000</td>\n",
       "      <td>6.000000</td>\n",
       "      <td>2008.000000</td>\n",
       "      <td>160000.000000</td>\n",
       "    </tr>\n",
       "    <tr>\n",
       "      <th>75%</th>\n",
       "      <td>2193.500000</td>\n",
       "      <td>9.071352e+08</td>\n",
       "      <td>70.000000</td>\n",
       "      <td>80.000000</td>\n",
       "      <td>11604.500000</td>\n",
       "      <td>7.000000</td>\n",
       "      <td>6.000000</td>\n",
       "      <td>2000.000000</td>\n",
       "      <td>2003.000000</td>\n",
       "      <td>164.750000</td>\n",
       "      <td>...</td>\n",
       "      <td>168.000000</td>\n",
       "      <td>70.000000</td>\n",
       "      <td>0.000000</td>\n",
       "      <td>0.000000</td>\n",
       "      <td>0.000000</td>\n",
       "      <td>0.000000</td>\n",
       "      <td>0.000000</td>\n",
       "      <td>8.000000</td>\n",
       "      <td>2009.000000</td>\n",
       "      <td>213099.750000</td>\n",
       "    </tr>\n",
       "    <tr>\n",
       "      <th>max</th>\n",
       "      <td>2930.000000</td>\n",
       "      <td>1.007100e+09</td>\n",
       "      <td>190.000000</td>\n",
       "      <td>313.000000</td>\n",
       "      <td>215245.000000</td>\n",
       "      <td>10.000000</td>\n",
       "      <td>9.000000</td>\n",
       "      <td>2010.000000</td>\n",
       "      <td>2010.000000</td>\n",
       "      <td>1600.000000</td>\n",
       "      <td>...</td>\n",
       "      <td>1424.000000</td>\n",
       "      <td>742.000000</td>\n",
       "      <td>1012.000000</td>\n",
       "      <td>508.000000</td>\n",
       "      <td>490.000000</td>\n",
       "      <td>800.000000</td>\n",
       "      <td>17000.000000</td>\n",
       "      <td>12.000000</td>\n",
       "      <td>2010.000000</td>\n",
       "      <td>755000.000000</td>\n",
       "    </tr>\n",
       "  </tbody>\n",
       "</table>\n",
       "<p>8 rows × 39 columns</p>\n",
       "</div>"
      ],
      "text/plain": [
       "             Order           PID  MS SubClass  Lot Frontage       Lot Area  \\\n",
       "count  2430.000000  2.430000e+03  2430.000000   2010.000000    2430.000000   \n",
       "mean   1469.478189  7.149375e+08    57.092593     69.201990   10243.557613   \n",
       "std     843.236520  1.887339e+08    42.903254     23.486988    8353.925254   \n",
       "min       1.000000  5.263011e+08    20.000000     21.000000    1470.000000   \n",
       "25%     749.250000  5.284770e+08    20.000000     58.000000    7482.000000   \n",
       "50%    1470.500000  5.354541e+08    50.000000     68.000000    9500.000000   \n",
       "75%    2193.500000  9.071352e+08    70.000000     80.000000   11604.500000   \n",
       "max    2930.000000  1.007100e+09   190.000000    313.000000  215245.000000   \n",
       "\n",
       "       Overall Qual  Overall Cond   Year Built  Year Remod/Add  Mas Vnr Area  \\\n",
       "count   2430.000000   2430.000000  2430.000000     2430.000000   2410.000000   \n",
       "mean       6.088889      5.569959  1971.167490     1984.238683    101.995436   \n",
       "std        1.414621      1.116442    30.207931       20.751163    176.611699   \n",
       "min        1.000000      1.000000  1875.000000     1950.000000      0.000000   \n",
       "25%        5.000000      5.000000  1954.000000     1966.000000      0.000000   \n",
       "50%        6.000000      5.000000  1973.000000     1993.000000      0.000000   \n",
       "75%        7.000000      6.000000  2000.000000     2003.000000    164.750000   \n",
       "max       10.000000      9.000000  2010.000000     2010.000000   1600.000000   \n",
       "\n",
       "       ...  Wood Deck SF  Open Porch SF  Enclosed Porch   3Ssn Porch  \\\n",
       "count  ...   2430.000000    2430.000000     2430.000000  2430.000000   \n",
       "mean   ...     93.917695      47.091770       22.294650     2.471605   \n",
       "std    ...    128.106940      67.123846       62.386414    24.880245   \n",
       "min    ...      0.000000       0.000000        0.000000     0.000000   \n",
       "25%    ...      0.000000       0.000000        0.000000     0.000000   \n",
       "50%    ...      0.000000      27.000000        0.000000     0.000000   \n",
       "75%    ...    168.000000      70.000000        0.000000     0.000000   \n",
       "max    ...   1424.000000     742.000000     1012.000000   508.000000   \n",
       "\n",
       "       Screen Porch    Pool Area      Misc Val      Mo Sold      Yr Sold  \\\n",
       "count   2430.000000  2430.000000   2430.000000  2430.000000  2430.000000   \n",
       "mean      16.529218     2.401235     56.179835     6.209465  2007.783539   \n",
       "std       56.822227    36.111988    616.661541     2.721942     1.311843   \n",
       "min        0.000000     0.000000      0.000000     1.000000  2006.000000   \n",
       "25%        0.000000     0.000000      0.000000     4.000000  2007.000000   \n",
       "50%        0.000000     0.000000      0.000000     6.000000  2008.000000   \n",
       "75%        0.000000     0.000000      0.000000     8.000000  2009.000000   \n",
       "max      490.000000   800.000000  17000.000000    12.000000  2010.000000   \n",
       "\n",
       "           SalePrice  \n",
       "count    2430.000000  \n",
       "mean   180199.692593  \n",
       "std     79607.467171  \n",
       "min     12789.000000  \n",
       "25%    129000.000000  \n",
       "50%    160000.000000  \n",
       "75%    213099.750000  \n",
       "max    755000.000000  \n",
       "\n",
       "[8 rows x 39 columns]"
      ]
     },
     "execution_count": 4,
     "metadata": {},
     "output_type": "execute_result"
    }
   ],
   "source": [
    "data_df.describe()"
   ]
  },
  {
   "cell_type": "code",
   "execution_count": null,
   "id": "f4934dae",
   "metadata": {},
   "outputs": [],
   "source": []
  },
  {
   "cell_type": "markdown",
   "id": "5c90b34c",
   "metadata": {},
   "source": [
    "### Order, PID and MS SubClass are not \"numerous\" data, they're rather \"id\" date. We can consider them as \"strings\""
   ]
  },
  {
   "cell_type": "code",
   "execution_count": 5,
   "id": "c5f52500",
   "metadata": {},
   "outputs": [
    {
     "data": {
      "text/html": [
       "<div>\n",
       "<style scoped>\n",
       "    .dataframe tbody tr th:only-of-type {\n",
       "        vertical-align: middle;\n",
       "    }\n",
       "\n",
       "    .dataframe tbody tr th {\n",
       "        vertical-align: top;\n",
       "    }\n",
       "\n",
       "    .dataframe thead th {\n",
       "        text-align: right;\n",
       "    }\n",
       "</style>\n",
       "<table border=\"1\" class=\"dataframe\">\n",
       "  <thead>\n",
       "    <tr style=\"text-align: right;\">\n",
       "      <th></th>\n",
       "      <th>Lot Frontage</th>\n",
       "      <th>Lot Area</th>\n",
       "      <th>Overall Qual</th>\n",
       "      <th>Overall Cond</th>\n",
       "      <th>Year Built</th>\n",
       "      <th>Year Remod/Add</th>\n",
       "      <th>Mas Vnr Area</th>\n",
       "      <th>BsmtFin SF 1</th>\n",
       "      <th>BsmtFin SF 2</th>\n",
       "      <th>Bsmt Unf SF</th>\n",
       "      <th>...</th>\n",
       "      <th>Wood Deck SF</th>\n",
       "      <th>Open Porch SF</th>\n",
       "      <th>Enclosed Porch</th>\n",
       "      <th>3Ssn Porch</th>\n",
       "      <th>Screen Porch</th>\n",
       "      <th>Pool Area</th>\n",
       "      <th>Misc Val</th>\n",
       "      <th>Mo Sold</th>\n",
       "      <th>Yr Sold</th>\n",
       "      <th>SalePrice</th>\n",
       "    </tr>\n",
       "  </thead>\n",
       "  <tbody>\n",
       "    <tr>\n",
       "      <th>count</th>\n",
       "      <td>2010.000000</td>\n",
       "      <td>2430.000000</td>\n",
       "      <td>2430.000000</td>\n",
       "      <td>2430.000000</td>\n",
       "      <td>2430.000000</td>\n",
       "      <td>2430.000000</td>\n",
       "      <td>2410.000000</td>\n",
       "      <td>2429.000000</td>\n",
       "      <td>2429.000000</td>\n",
       "      <td>2429.000000</td>\n",
       "      <td>...</td>\n",
       "      <td>2430.000000</td>\n",
       "      <td>2430.000000</td>\n",
       "      <td>2430.000000</td>\n",
       "      <td>2430.000000</td>\n",
       "      <td>2430.000000</td>\n",
       "      <td>2430.000000</td>\n",
       "      <td>2430.000000</td>\n",
       "      <td>2430.000000</td>\n",
       "      <td>2430.000000</td>\n",
       "      <td>2430.000000</td>\n",
       "    </tr>\n",
       "    <tr>\n",
       "      <th>mean</th>\n",
       "      <td>69.201990</td>\n",
       "      <td>10243.557613</td>\n",
       "      <td>6.088889</td>\n",
       "      <td>5.569959</td>\n",
       "      <td>1971.167490</td>\n",
       "      <td>1984.238683</td>\n",
       "      <td>101.995436</td>\n",
       "      <td>443.944422</td>\n",
       "      <td>51.073693</td>\n",
       "      <td>556.480856</td>\n",
       "      <td>...</td>\n",
       "      <td>93.917695</td>\n",
       "      <td>47.091770</td>\n",
       "      <td>22.294650</td>\n",
       "      <td>2.471605</td>\n",
       "      <td>16.529218</td>\n",
       "      <td>2.401235</td>\n",
       "      <td>56.179835</td>\n",
       "      <td>6.209465</td>\n",
       "      <td>2007.783539</td>\n",
       "      <td>180199.692593</td>\n",
       "    </tr>\n",
       "    <tr>\n",
       "      <th>std</th>\n",
       "      <td>23.486988</td>\n",
       "      <td>8353.925254</td>\n",
       "      <td>1.414621</td>\n",
       "      <td>1.116442</td>\n",
       "      <td>30.207931</td>\n",
       "      <td>20.751163</td>\n",
       "      <td>176.611699</td>\n",
       "      <td>457.453649</td>\n",
       "      <td>172.143522</td>\n",
       "      <td>439.650118</td>\n",
       "      <td>...</td>\n",
       "      <td>128.106940</td>\n",
       "      <td>67.123846</td>\n",
       "      <td>62.386414</td>\n",
       "      <td>24.880245</td>\n",
       "      <td>56.822227</td>\n",
       "      <td>36.111988</td>\n",
       "      <td>616.661541</td>\n",
       "      <td>2.721942</td>\n",
       "      <td>1.311843</td>\n",
       "      <td>79607.467171</td>\n",
       "    </tr>\n",
       "    <tr>\n",
       "      <th>min</th>\n",
       "      <td>21.000000</td>\n",
       "      <td>1470.000000</td>\n",
       "      <td>1.000000</td>\n",
       "      <td>1.000000</td>\n",
       "      <td>1875.000000</td>\n",
       "      <td>1950.000000</td>\n",
       "      <td>0.000000</td>\n",
       "      <td>0.000000</td>\n",
       "      <td>0.000000</td>\n",
       "      <td>0.000000</td>\n",
       "      <td>...</td>\n",
       "      <td>0.000000</td>\n",
       "      <td>0.000000</td>\n",
       "      <td>0.000000</td>\n",
       "      <td>0.000000</td>\n",
       "      <td>0.000000</td>\n",
       "      <td>0.000000</td>\n",
       "      <td>0.000000</td>\n",
       "      <td>1.000000</td>\n",
       "      <td>2006.000000</td>\n",
       "      <td>12789.000000</td>\n",
       "    </tr>\n",
       "    <tr>\n",
       "      <th>25%</th>\n",
       "      <td>58.000000</td>\n",
       "      <td>7482.000000</td>\n",
       "      <td>5.000000</td>\n",
       "      <td>5.000000</td>\n",
       "      <td>1954.000000</td>\n",
       "      <td>1966.000000</td>\n",
       "      <td>0.000000</td>\n",
       "      <td>0.000000</td>\n",
       "      <td>0.000000</td>\n",
       "      <td>216.000000</td>\n",
       "      <td>...</td>\n",
       "      <td>0.000000</td>\n",
       "      <td>0.000000</td>\n",
       "      <td>0.000000</td>\n",
       "      <td>0.000000</td>\n",
       "      <td>0.000000</td>\n",
       "      <td>0.000000</td>\n",
       "      <td>0.000000</td>\n",
       "      <td>4.000000</td>\n",
       "      <td>2007.000000</td>\n",
       "      <td>129000.000000</td>\n",
       "    </tr>\n",
       "    <tr>\n",
       "      <th>50%</th>\n",
       "      <td>68.000000</td>\n",
       "      <td>9500.000000</td>\n",
       "      <td>6.000000</td>\n",
       "      <td>5.000000</td>\n",
       "      <td>1973.000000</td>\n",
       "      <td>1993.000000</td>\n",
       "      <td>0.000000</td>\n",
       "      <td>375.000000</td>\n",
       "      <td>0.000000</td>\n",
       "      <td>462.000000</td>\n",
       "      <td>...</td>\n",
       "      <td>0.000000</td>\n",
       "      <td>27.000000</td>\n",
       "      <td>0.000000</td>\n",
       "      <td>0.000000</td>\n",
       "      <td>0.000000</td>\n",
       "      <td>0.000000</td>\n",
       "      <td>0.000000</td>\n",
       "      <td>6.000000</td>\n",
       "      <td>2008.000000</td>\n",
       "      <td>160000.000000</td>\n",
       "    </tr>\n",
       "    <tr>\n",
       "      <th>75%</th>\n",
       "      <td>80.000000</td>\n",
       "      <td>11604.500000</td>\n",
       "      <td>7.000000</td>\n",
       "      <td>6.000000</td>\n",
       "      <td>2000.000000</td>\n",
       "      <td>2003.000000</td>\n",
       "      <td>164.750000</td>\n",
       "      <td>737.000000</td>\n",
       "      <td>0.000000</td>\n",
       "      <td>799.000000</td>\n",
       "      <td>...</td>\n",
       "      <td>168.000000</td>\n",
       "      <td>70.000000</td>\n",
       "      <td>0.000000</td>\n",
       "      <td>0.000000</td>\n",
       "      <td>0.000000</td>\n",
       "      <td>0.000000</td>\n",
       "      <td>0.000000</td>\n",
       "      <td>8.000000</td>\n",
       "      <td>2009.000000</td>\n",
       "      <td>213099.750000</td>\n",
       "    </tr>\n",
       "    <tr>\n",
       "      <th>max</th>\n",
       "      <td>313.000000</td>\n",
       "      <td>215245.000000</td>\n",
       "      <td>10.000000</td>\n",
       "      <td>9.000000</td>\n",
       "      <td>2010.000000</td>\n",
       "      <td>2010.000000</td>\n",
       "      <td>1600.000000</td>\n",
       "      <td>5644.000000</td>\n",
       "      <td>1526.000000</td>\n",
       "      <td>2336.000000</td>\n",
       "      <td>...</td>\n",
       "      <td>1424.000000</td>\n",
       "      <td>742.000000</td>\n",
       "      <td>1012.000000</td>\n",
       "      <td>508.000000</td>\n",
       "      <td>490.000000</td>\n",
       "      <td>800.000000</td>\n",
       "      <td>17000.000000</td>\n",
       "      <td>12.000000</td>\n",
       "      <td>2010.000000</td>\n",
       "      <td>755000.000000</td>\n",
       "    </tr>\n",
       "  </tbody>\n",
       "</table>\n",
       "<p>8 rows × 36 columns</p>\n",
       "</div>"
      ],
      "text/plain": [
       "       Lot Frontage       Lot Area  Overall Qual  Overall Cond   Year Built  \\\n",
       "count   2010.000000    2430.000000   2430.000000   2430.000000  2430.000000   \n",
       "mean      69.201990   10243.557613      6.088889      5.569959  1971.167490   \n",
       "std       23.486988    8353.925254      1.414621      1.116442    30.207931   \n",
       "min       21.000000    1470.000000      1.000000      1.000000  1875.000000   \n",
       "25%       58.000000    7482.000000      5.000000      5.000000  1954.000000   \n",
       "50%       68.000000    9500.000000      6.000000      5.000000  1973.000000   \n",
       "75%       80.000000   11604.500000      7.000000      6.000000  2000.000000   \n",
       "max      313.000000  215245.000000     10.000000      9.000000  2010.000000   \n",
       "\n",
       "       Year Remod/Add  Mas Vnr Area  BsmtFin SF 1  BsmtFin SF 2  Bsmt Unf SF  \\\n",
       "count     2430.000000   2410.000000   2429.000000   2429.000000  2429.000000   \n",
       "mean      1984.238683    101.995436    443.944422     51.073693   556.480856   \n",
       "std         20.751163    176.611699    457.453649    172.143522   439.650118   \n",
       "min       1950.000000      0.000000      0.000000      0.000000     0.000000   \n",
       "25%       1966.000000      0.000000      0.000000      0.000000   216.000000   \n",
       "50%       1993.000000      0.000000    375.000000      0.000000   462.000000   \n",
       "75%       2003.000000    164.750000    737.000000      0.000000   799.000000   \n",
       "max       2010.000000   1600.000000   5644.000000   1526.000000  2336.000000   \n",
       "\n",
       "       ...  Wood Deck SF  Open Porch SF  Enclosed Porch   3Ssn Porch  \\\n",
       "count  ...   2430.000000    2430.000000     2430.000000  2430.000000   \n",
       "mean   ...     93.917695      47.091770       22.294650     2.471605   \n",
       "std    ...    128.106940      67.123846       62.386414    24.880245   \n",
       "min    ...      0.000000       0.000000        0.000000     0.000000   \n",
       "25%    ...      0.000000       0.000000        0.000000     0.000000   \n",
       "50%    ...      0.000000      27.000000        0.000000     0.000000   \n",
       "75%    ...    168.000000      70.000000        0.000000     0.000000   \n",
       "max    ...   1424.000000     742.000000     1012.000000   508.000000   \n",
       "\n",
       "       Screen Porch    Pool Area      Misc Val      Mo Sold      Yr Sold  \\\n",
       "count   2430.000000  2430.000000   2430.000000  2430.000000  2430.000000   \n",
       "mean      16.529218     2.401235     56.179835     6.209465  2007.783539   \n",
       "std       56.822227    36.111988    616.661541     2.721942     1.311843   \n",
       "min        0.000000     0.000000      0.000000     1.000000  2006.000000   \n",
       "25%        0.000000     0.000000      0.000000     4.000000  2007.000000   \n",
       "50%        0.000000     0.000000      0.000000     6.000000  2008.000000   \n",
       "75%        0.000000     0.000000      0.000000     8.000000  2009.000000   \n",
       "max      490.000000   800.000000  17000.000000    12.000000  2010.000000   \n",
       "\n",
       "           SalePrice  \n",
       "count    2430.000000  \n",
       "mean   180199.692593  \n",
       "std     79607.467171  \n",
       "min     12789.000000  \n",
       "25%    129000.000000  \n",
       "50%    160000.000000  \n",
       "75%    213099.750000  \n",
       "max    755000.000000  \n",
       "\n",
       "[8 rows x 36 columns]"
      ]
     },
     "execution_count": 5,
     "metadata": {},
     "output_type": "execute_result"
    }
   ],
   "source": [
    "data_df['Order'] = str(data_df['Order'])\n",
    "data_df['PID'] = str(data_df['PID'])\n",
    "data_df['MS SubClass'] = str(data_df['MS SubClass'])\n",
    "\n",
    "data_df.describe()"
   ]
  },
  {
   "cell_type": "markdown",
   "id": "1e0c152f",
   "metadata": {},
   "source": [
    "### Type of data\n",
    "----------------"
   ]
  },
  {
   "cell_type": "code",
   "execution_count": 6,
   "id": "cb2333eb",
   "metadata": {},
   "outputs": [
    {
     "data": {
      "text/plain": [
       "Order              object\n",
       "PID                object\n",
       "MS SubClass        object\n",
       "MS Zoning          object\n",
       "Lot Frontage      float64\n",
       "Lot Area            int64\n",
       "Street             object\n",
       "Alley              object\n",
       "Lot Shape          object\n",
       "Land Contour       object\n",
       "Utilities          object\n",
       "Lot Config         object\n",
       "Land Slope         object\n",
       "Neighborhood       object\n",
       "Condition 1        object\n",
       "Condition 2        object\n",
       "Bldg Type          object\n",
       "House Style        object\n",
       "Overall Qual        int64\n",
       "Overall Cond        int64\n",
       "Year Built          int64\n",
       "Year Remod/Add      int64\n",
       "Roof Style         object\n",
       "Roof Matl          object\n",
       "Exterior 1st       object\n",
       "Exterior 2nd       object\n",
       "Mas Vnr Type       object\n",
       "Mas Vnr Area      float64\n",
       "Exter Qual         object\n",
       "Exter Cond         object\n",
       "                   ...   \n",
       "Bedroom AbvGr       int64\n",
       "Kitchen AbvGr       int64\n",
       "Kitchen Qual       object\n",
       "TotRms AbvGrd       int64\n",
       "Functional         object\n",
       "Fireplaces          int64\n",
       "Fireplace Qu       object\n",
       "Garage Type        object\n",
       "Garage Yr Blt     float64\n",
       "Garage Finish      object\n",
       "Garage Cars       float64\n",
       "Garage Area       float64\n",
       "Garage Qual        object\n",
       "Garage Cond        object\n",
       "Paved Drive        object\n",
       "Wood Deck SF        int64\n",
       "Open Porch SF       int64\n",
       "Enclosed Porch      int64\n",
       "3Ssn Porch          int64\n",
       "Screen Porch        int64\n",
       "Pool Area           int64\n",
       "Pool QC            object\n",
       "Fence              object\n",
       "Misc Feature       object\n",
       "Misc Val            int64\n",
       "Mo Sold             int64\n",
       "Yr Sold             int64\n",
       "Sale Type          object\n",
       "Sale Condition     object\n",
       "SalePrice           int64\n",
       "Length: 82, dtype: object"
      ]
     },
     "execution_count": 6,
     "metadata": {},
     "output_type": "execute_result"
    }
   ],
   "source": [
    "data_df.dtypes"
   ]
  },
  {
   "cell_type": "code",
   "execution_count": 7,
   "id": "3c32362c",
   "metadata": {},
   "outputs": [],
   "source": [
    "# Define list of columns \n",
    "continuous_col = ['Lot Frontage','Lot Area', 'Mas Vnr Area', 'BsmtFin SF 1', 'BsmtFin SF 2','Bsmt Unf SF','Total Bsmt SF','1st Flr SF','2nd Flr SF','Low Qual Fin SF','Gr Liv Area','Garage Area','Wood Deck SF','Open Porch SF','Enclosed Porch','3Ssn Porch','Screen Porch','Pool Area','Misc Val']\n",
    "ordinal_col = ['Lot Shape','Utilities','Land Slope','Overall Qual','Overall Cond','Exter Qual','Exter Cond','Bsmt Qual','Bsmt Cond','Bsmt Exposure','BsmtFin Type 1','BsmtFin Type 2','Heating QC','Electrical','Kitchen Qual','Functional','Fireplace Qu','Garage Finish','Garage Qual','Garage Cond','Paved Drive','Pool QC','Fence']\n",
    "yr_col = ['Year Built','Year Remod/Add','Garage Yr Blt','Yr Sold']\n",
    "nominal_col = ['MS SubClass','MS Zoning','Street','Alley','Land Contour','Lot Config','Neighborhood','Condition 1','Condition 2','Bldg Type','House Style','Roof Style','Roof Matl','Exterior 1st','Exterior 2nd','Mas Vnr Type','Foundation','Heating','Central Air','Garage Type','Misc Feature','Sale Type','Sale Condition']"
   ]
  },
  {
   "cell_type": "code",
   "execution_count": 8,
   "id": "0e10adf1",
   "metadata": {},
   "outputs": [
    {
     "data": {
      "text/plain": [
       "Index(['Order', 'PID', 'MS SubClass', 'MS Zoning', 'Lot Frontage', 'Lot Area',\n",
       "       'Street', 'Alley', 'Lot Shape', 'Land Contour', 'Utilities',\n",
       "       'Lot Config', 'Land Slope', 'Neighborhood', 'Condition 1',\n",
       "       'Condition 2', 'Bldg Type', 'House Style', 'Overall Qual',\n",
       "       'Overall Cond', 'Year Built', 'Year Remod/Add', 'Roof Style',\n",
       "       'Roof Matl', 'Exterior 1st', 'Exterior 2nd', 'Mas Vnr Type',\n",
       "       'Mas Vnr Area', 'Exter Qual', 'Exter Cond', 'Foundation', 'Bsmt Qual',\n",
       "       'Bsmt Cond', 'Bsmt Exposure', 'BsmtFin Type 1', 'BsmtFin SF 1',\n",
       "       'BsmtFin Type 2', 'BsmtFin SF 2', 'Bsmt Unf SF', 'Total Bsmt SF',\n",
       "       'Heating', 'Heating QC', 'Central Air', 'Electrical', '1st Flr SF',\n",
       "       '2nd Flr SF', 'Low Qual Fin SF', 'Gr Liv Area', 'Bsmt Full Bath',\n",
       "       'Bsmt Half Bath', 'Full Bath', 'Half Bath', 'Bedroom AbvGr',\n",
       "       'Kitchen AbvGr', 'Kitchen Qual', 'TotRms AbvGrd', 'Functional',\n",
       "       'Fireplaces', 'Fireplace Qu', 'Garage Type', 'Garage Yr Blt',\n",
       "       'Garage Finish', 'Garage Cars', 'Garage Area', 'Garage Qual',\n",
       "       'Garage Cond', 'Paved Drive', 'Wood Deck SF', 'Open Porch SF',\n",
       "       'Enclosed Porch', '3Ssn Porch', 'Screen Porch', 'Pool Area', 'Pool QC',\n",
       "       'Fence', 'Misc Feature', 'Misc Val', 'Mo Sold', 'Yr Sold', 'Sale Type',\n",
       "       'Sale Condition', 'SalePrice'],\n",
       "      dtype='object')"
      ]
     },
     "execution_count": 8,
     "metadata": {},
     "output_type": "execute_result"
    }
   ],
   "source": [
    "data_df.columns"
   ]
  },
  {
   "cell_type": "code",
   "execution_count": 9,
   "id": "e56b0a23",
   "metadata": {},
   "outputs": [
    {
     "name": "stdout",
     "output_type": "stream",
     "text": [
      "Lot Shape  : ['IR1' 'Reg' 'IR2' 'IR3']\n",
      "Utilities  : ['AllPub' 'NoSewr' 'NoSeWa']\n",
      "Land Slope  : ['Gtl' 'Mod' 'Sev']\n",
      "Overall Qual  : [ 7  6  4  5  8  9 10  3  1  2]\n",
      "Overall Cond  : [5 6 4 8 7 1 9 3 2]\n",
      "Exter Qual  : ['Gd' 'TA' 'Fa' 'Ex']\n",
      "Exter Cond  : ['TA' 'Gd' 'Fa' 'Ex' 'Po']\n",
      "Bsmt Qual  : ['Gd' 'TA' 'Ex' nan 'Fa' 'Po']\n",
      "Bsmt Cond  : ['TA' 'Gd' 'Fa' nan 'Ex' 'Po']\n",
      "Bsmt Exposure  : ['No' 'Av' 'Mn' 'Gd' nan]\n",
      "BsmtFin Type 1  : ['GLQ' 'Unf' 'Rec' 'LwQ' 'BLQ' 'ALQ' nan]\n",
      "BsmtFin Type 2  : ['Unf' 'LwQ' 'BLQ' nan 'Rec' 'ALQ' 'GLQ']\n",
      "Heating QC  : ['Ex' 'TA' 'Fa' 'Gd' 'Po']\n",
      "Electrical  : ['SBrkr' 'FuseF' 'FuseA' 'FuseP' nan 'Mix']\n",
      "Kitchen Qual  : ['Gd' 'TA' 'Ex' 'Fa' 'Po']\n",
      "Functional  : ['Typ' 'Mod' 'Maj1' 'Min2' 'Min1' 'Maj2' 'Sal' 'Sev']\n",
      "Fireplace Qu  : ['TA' 'Gd' nan 'Fa' 'Po' 'Ex']\n",
      "Garage Finish  : ['Fin' 'Unf' 'RFn' nan]\n",
      "Garage Qual  : ['TA' 'Fa' nan 'Gd' 'Ex' 'Po']\n",
      "Garage Cond  : ['TA' nan 'Fa' 'Gd' 'Ex' 'Po']\n",
      "Paved Drive  : ['Y' 'N' 'P']\n",
      "Pool QC  : [nan 'Fa' 'Ex' 'TA' 'Gd']\n",
      "Fence  : [nan 'MnPrv' 'MnWw' 'GdPrv' 'GdWo']\n"
     ]
    }
   ],
   "source": [
    "# Print each value for all ordinal columns\n",
    "for col in ordinal_col:\n",
    "    print(col,' :',data_df[col].unique())\n"
   ]
  },
  {
   "cell_type": "markdown",
   "id": "bc1f76aa",
   "metadata": {},
   "source": [
    "### We will later in the project encode the values for Ordinal Values with integer scale and one-hote encoding for Nominal columns"
   ]
  },
  {
   "cell_type": "markdown",
   "id": "1c43bbc9",
   "metadata": {},
   "source": [
    "# Data Cleaning\n",
    "### Missing Values\n",
    "----------------"
   ]
  },
  {
   "cell_type": "code",
   "execution_count": 10,
   "id": "499a1c2f",
   "metadata": {},
   "outputs": [
    {
     "data": {
      "text/plain": [
       "Pool QC            2418\n",
       "Misc Feature       2340\n",
       "Alley              2267\n",
       "Fence              1941\n",
       "Fireplace Qu       1186\n",
       "Lot Frontage        420\n",
       "Garage Qual         138\n",
       "Garage Yr Blt       138\n",
       "Garage Cond         138\n",
       "Garage Finish       138\n",
       "Garage Type         136\n",
       "Bsmt Exposure        74\n",
       "BsmtFin Type 2       72\n",
       "BsmtFin Type 1       71\n",
       "Bsmt Cond            71\n",
       "Bsmt Qual            71\n",
       "Mas Vnr Type         20\n",
       "Mas Vnr Area         20\n",
       "Bsmt Full Bath        2\n",
       "Bsmt Half Bath        2\n",
       "Garage Area           1\n",
       "Garage Cars           1\n",
       "Total Bsmt SF         1\n",
       "Bsmt Unf SF           1\n",
       "BsmtFin SF 2          1\n",
       "BsmtFin SF 1          1\n",
       "Electrical            1\n",
       "Exterior 2nd          0\n",
       "Exterior 1st          0\n",
       "Roof Matl             0\n",
       "                   ... \n",
       "Heating               0\n",
       "Exter Cond            0\n",
       "Functional            0\n",
       "Sale Type             0\n",
       "Yr Sold               0\n",
       "Mo Sold               0\n",
       "Misc Val              0\n",
       "Pool Area             0\n",
       "Screen Porch          0\n",
       "3Ssn Porch            0\n",
       "Enclosed Porch        0\n",
       "Open Porch SF         0\n",
       "Wood Deck SF          0\n",
       "Paved Drive           0\n",
       "Fireplaces            0\n",
       "TotRms AbvGrd         0\n",
       "Foundation            0\n",
       "Kitchen Qual          0\n",
       "Kitchen AbvGr         0\n",
       "Bedroom AbvGr         0\n",
       "Half Bath             0\n",
       "Full Bath             0\n",
       "Gr Liv Area           0\n",
       "Low Qual Fin SF       0\n",
       "2nd Flr SF            0\n",
       "1st Flr SF            0\n",
       "Central Air           0\n",
       "Heating QC            0\n",
       "Sale Condition        0\n",
       "Order                 0\n",
       "Length: 82, dtype: int64"
      ]
     },
     "execution_count": 10,
     "metadata": {},
     "output_type": "execute_result"
    }
   ],
   "source": [
    "data_df.isnull().sum().sort_values(ascending=False)"
   ]
  },
  {
   "cell_type": "markdown",
   "id": "bf8b7fac",
   "metadata": {},
   "source": [
    "<div class=\"alert alert-block alert-info\">\n",
    "\n",
    "    Based on the description.txt, what can we do with missing values :\n",
    "    \n",
    "\n",
    "    \n",
    "**REPLACE NaN by ordinal or nominal \"NA\" which exists in the description :**\n",
    "- Alley makes sense to be NA if they have no alleyway\n",
    "- Pool QC makes sense to be NA if they have no pool \"Pool Area\" == 0 \n",
    "- Misc Feature\n",
    "- Fireplace Qu\n",
    "- Fence\n",
    "- Garage Type\n",
    "- Garage Qual\n",
    "- Garage Finish\n",
    "- Garage Cond\n",
    "- Bsmt Exposure (no basement in this property)\n",
    "- BsmtFin Type 2 (no basement in this property)\n",
    "- BsmtFin Type 1 (no basement in this property)\n",
    "- Bsmt Cond (no basement in this property)\n",
    "- Bsmt Qual (no basement in this property)\n",
    "- Mas Vnr Type (replace by None)\n",
    "\n",
    "**REPLACE by another value :**\n",
    "- Lot Frontage (the minimum is not 0, so we can consider every property to have at least a street connected to it, we will take the mean or median which are pretty close)\n",
    "- Electrical (replace by SBrkr - most common feature)\n",
    "\n",
    "**REPLACE by 0 :**\n",
    "- Mas Vnr Area\n",
    "- Garage Area\n",
    "- Garage Cars\n",
    "- Bsmt Full Bath\n",
    "- Bsmt Half Bath\n",
    "- Total Bsmt SF\n",
    "- Bsmt Unf SF\n",
    "- BsmtFin SF 2\n",
    "- BsmtFin SF 1\n",
    "\n",
    "\n",
    "**LEAVE with NaN :**\n",
    "- Garage Yr Blt, no need to replace as no garages is built, no year can be chosen for the same 138 properties\n"
   ]
  },
  {
   "cell_type": "code",
   "execution_count": 11,
   "id": "623fbb2f",
   "metadata": {},
   "outputs": [
    {
     "data": {
      "text/plain": [
       "Index(['Lot Frontage', 'Alley', 'Mas Vnr Type', 'Mas Vnr Area', 'Bsmt Qual',\n",
       "       'Bsmt Cond', 'Bsmt Exposure', 'BsmtFin Type 1', 'BsmtFin SF 1',\n",
       "       'BsmtFin Type 2', 'BsmtFin SF 2', 'Bsmt Unf SF', 'Total Bsmt SF',\n",
       "       'Electrical', 'Bsmt Full Bath', 'Bsmt Half Bath', 'Fireplace Qu',\n",
       "       'Garage Type', 'Garage Yr Blt', 'Garage Finish', 'Garage Cars',\n",
       "       'Garage Area', 'Garage Qual', 'Garage Cond', 'Pool QC', 'Fence',\n",
       "       'Misc Feature'],\n",
       "      dtype='object')"
      ]
     },
     "execution_count": 11,
     "metadata": {},
     "output_type": "execute_result"
    }
   ],
   "source": [
    "# List of all these columns\n",
    "col_with_nan = data_df.loc[:,data_df.isnull().sum() > 0].columns\n",
    "col_with_nan"
   ]
  },
  {
   "cell_type": "code",
   "execution_count": 12,
   "id": "8120c22f",
   "metadata": {},
   "outputs": [],
   "source": [
    "# Replace NaN by NA\n",
    "col_nan_to_na = [x for x in col_with_nan if x not in ['Electrical','Lot Frontage','Mas Vnr Area','Garage Area','Garage Cars', 'Garage Yr Blt','Bsmt Full Bath','Bsmt Half Bath','Total Bsmt SF','Bsmt Unf SF','BsmtFin SF 2','BsmtFin SF 1']]\n",
    "\n",
    "for col in col_nan_to_na:\n",
    "    if col == 'Mas Vnr Type':\n",
    "        data_df[col] = data_df[col].fillna('None')\n",
    "    else:\n",
    "        data_df[col] = data_df[col].fillna('NA') # replace by existing \"NA\" in documentation\n"
   ]
  },
  {
   "cell_type": "code",
   "execution_count": 13,
   "id": "40783afc",
   "metadata": {},
   "outputs": [],
   "source": [
    "# Replace NaN by 0\n",
    "\n",
    "for col in ['Mas Vnr Area','Garage Area','Garage Cars', 'Bsmt Full Bath','Bsmt Half Bath','Total Bsmt SF','Bsmt Unf SF','BsmtFin SF 2','BsmtFin SF 1']:\n",
    "    data_df[col] = data_df[col].fillna(0) # replace by 0 as it represents a \"number\""
   ]
  },
  {
   "cell_type": "code",
   "execution_count": 14,
   "id": "9550cc38",
   "metadata": {},
   "outputs": [],
   "source": [
    "# Replace NaN by other value \n",
    "\n",
    "# by most frequent value\n",
    "data_df['Electrical'] = data_df['Electrical'].fillna(data_df['Electrical'].value_counts().idxmax())\n",
    "\n",
    "# by median value\n",
    "data_df['Lot Frontage'] = data_df['Lot Frontage'].fillna(data_df['Lot Frontage'].median())"
   ]
  },
  {
   "cell_type": "code",
   "execution_count": 15,
   "id": "37d6f10d",
   "metadata": {},
   "outputs": [
    {
     "data": {
      "text/plain": [
       "Garage Yr Blt     138\n",
       "SalePrice           0\n",
       "Year Remod/Add      0\n",
       "Roof Style          0\n",
       "Roof Matl           0\n",
       "dtype: int64"
      ]
     },
     "execution_count": 15,
     "metadata": {},
     "output_type": "execute_result"
    }
   ],
   "source": [
    "# Check null values in dataframe\n",
    "\n",
    "data_df.isnull().sum().sort_values(ascending=False).head()"
   ]
  },
  {
   "cell_type": "markdown",
   "id": "8b06504d",
   "metadata": {},
   "source": [
    "<div class=\"alert alert-block alert-success\">\n",
    "\n",
    "    Missing values\n",
    "### Eventually, we have removed all missing values, except 'Garage Yr Built' for houses without a Garage. It don't think it would bring more information to change these values"
   ]
  },
  {
   "cell_type": "markdown",
   "id": "9e20e427",
   "metadata": {},
   "source": [
    "### Correct Years > 2010"
   ]
  },
  {
   "cell_type": "code",
   "execution_count": 16,
   "id": "bdcc6daa",
   "metadata": {},
   "outputs": [
    {
     "name": "stdout",
     "output_type": "stream",
     "text": [
      "Year Built  : between  1875  and  2010\n",
      "Year Remod/Add  : between  1950  and  2010\n",
      "Garage Yr Blt  : between  1896.0  and  2207.0\n",
      "Yr Sold  : between  2006  and  2010\n"
     ]
    }
   ],
   "source": [
    "\n",
    "for col in yr_col:\n",
    "    print(col,' : between ',data_df[col].min(),' and ',data_df[col].max())"
   ]
  },
  {
   "cell_type": "markdown",
   "id": "691f8138",
   "metadata": {},
   "source": [
    "**We see a year at \"2207\", based on the rest of the data, we can suppose it is \"2007\"**"
   ]
  },
  {
   "cell_type": "code",
   "execution_count": 17,
   "id": "5d13df2e",
   "metadata": {},
   "outputs": [
    {
     "name": "stdout",
     "output_type": "stream",
     "text": [
      "Year Built  : between  1875  and  2010\n",
      "Year Remod/Add  : between  1950  and  2010\n",
      "Garage Yr Blt  : between  1896.0  and  2010.0\n",
      "Yr Sold  : between  2006  and  2010\n"
     ]
    }
   ],
   "source": [
    "# Change 2207 to 2007\n",
    "data_df.loc[data_df.loc[data_df['Garage Yr Blt'] == 2207].index,'Garage Yr Blt'] = 2007\n",
    "\n",
    "#data_df['Garage Yr Blt'] = int(data_df['Garage Yr Blt'])\n",
    "\n",
    "# Check Year range again : \n",
    "for col in yr_col:\n",
    "    print(col,' : between ',data_df[col].min(),' and ',data_df[col].max())"
   ]
  },
  {
   "cell_type": "markdown",
   "id": "2b9ab6dd",
   "metadata": {},
   "source": [
    "<div class=\"alert alert-block alert-success\">\n",
    "\n",
    "The years range we can see here is more consistent and all below 2010, the end-year of the analysis."
   ]
  },
  {
   "cell_type": "markdown",
   "id": "488a0b1a",
   "metadata": {},
   "source": [
    "### Consistency of columns\n",
    "If there is no garage, no basement,... the other values concerning should not be filled either\n",
    "- Garage\n",
    "- Basement\n",
    "- Masonry\n",
    "- Pool\n",
    "- Fireplace"
   ]
  },
  {
   "cell_type": "markdown",
   "id": "6df6e5bc",
   "metadata": {},
   "source": [
    "<div class=\"alert alert-block alert-info\">\n",
    "\n",
    "Masonry"
   ]
  },
  {
   "cell_type": "code",
   "execution_count": 18,
   "id": "9111091b",
   "metadata": {},
   "outputs": [
    {
     "data": {
      "text/plain": [
       "Index(['Mas Vnr Type', 'Mas Vnr Area'], dtype='object')"
      ]
     },
     "execution_count": 18,
     "metadata": {},
     "output_type": "execute_result"
    }
   ],
   "source": [
    "# Masonry columns\n",
    "data_df.iloc[:, lambda df:df.columns.str.contains('Mas', case=False)].columns"
   ]
  },
  {
   "cell_type": "code",
   "execution_count": 19,
   "id": "d284df37",
   "metadata": {},
   "outputs": [],
   "source": [
    "# index of inconsistent values based on Description.txt\n",
    "inconsistent_index = data_df.loc[(data_df['Mas Vnr Type']== 'None') & (data_df['Mas Vnr Area'] >0)].index"
   ]
  },
  {
   "cell_type": "code",
   "execution_count": 21,
   "id": "76a44216",
   "metadata": {},
   "outputs": [
    {
     "data": {
      "text/html": [
       "<div>\n",
       "<style scoped>\n",
       "    .dataframe tbody tr th:only-of-type {\n",
       "        vertical-align: middle;\n",
       "    }\n",
       "\n",
       "    .dataframe tbody tr th {\n",
       "        vertical-align: top;\n",
       "    }\n",
       "\n",
       "    .dataframe thead th {\n",
       "        text-align: right;\n",
       "    }\n",
       "</style>\n",
       "<table border=\"1\" class=\"dataframe\">\n",
       "  <thead>\n",
       "    <tr style=\"text-align: right;\">\n",
       "      <th></th>\n",
       "      <th>Order</th>\n",
       "      <th>PID</th>\n",
       "      <th>MS SubClass</th>\n",
       "      <th>MS Zoning</th>\n",
       "      <th>Lot Frontage</th>\n",
       "      <th>Lot Area</th>\n",
       "      <th>Street</th>\n",
       "      <th>Alley</th>\n",
       "      <th>Lot Shape</th>\n",
       "      <th>Land Contour</th>\n",
       "      <th>...</th>\n",
       "      <th>Pool Area</th>\n",
       "      <th>Pool QC</th>\n",
       "      <th>Fence</th>\n",
       "      <th>Misc Feature</th>\n",
       "      <th>Misc Val</th>\n",
       "      <th>Mo Sold</th>\n",
       "      <th>Yr Sold</th>\n",
       "      <th>Sale Type</th>\n",
       "      <th>Sale Condition</th>\n",
       "      <th>SalePrice</th>\n",
       "    </tr>\n",
       "  </thead>\n",
       "  <tbody>\n",
       "  </tbody>\n",
       "</table>\n",
       "<p>0 rows × 82 columns</p>\n",
       "</div>"
      ],
      "text/plain": [
       "Empty DataFrame\n",
       "Columns: [Order, PID, MS SubClass, MS Zoning, Lot Frontage, Lot Area, Street, Alley, Lot Shape, Land Contour, Utilities, Lot Config, Land Slope, Neighborhood, Condition 1, Condition 2, Bldg Type, House Style, Overall Qual, Overall Cond, Year Built, Year Remod/Add, Roof Style, Roof Matl, Exterior 1st, Exterior 2nd, Mas Vnr Type, Mas Vnr Area, Exter Qual, Exter Cond, Foundation, Bsmt Qual, Bsmt Cond, Bsmt Exposure, BsmtFin Type 1, BsmtFin SF 1, BsmtFin Type 2, BsmtFin SF 2, Bsmt Unf SF, Total Bsmt SF, Heating, Heating QC, Central Air, Electrical, 1st Flr SF, 2nd Flr SF, Low Qual Fin SF, Gr Liv Area, Bsmt Full Bath, Bsmt Half Bath, Full Bath, Half Bath, Bedroom AbvGr, Kitchen AbvGr, Kitchen Qual, TotRms AbvGrd, Functional, Fireplaces, Fireplace Qu, Garage Type, Garage Yr Blt, Garage Finish, Garage Cars, Garage Area, Garage Qual, Garage Cond, Paved Drive, Wood Deck SF, Open Porch SF, Enclosed Porch, 3Ssn Porch, Screen Porch, Pool Area, Pool QC, Fence, Misc Feature, Misc Val, Mo Sold, Yr Sold, Sale Type, Sale Condition, SalePrice]\n",
       "Index: []\n",
       "\n",
       "[0 rows x 82 columns]"
      ]
     },
     "execution_count": 21,
     "metadata": {},
     "output_type": "execute_result"
    }
   ],
   "source": [
    "for i in inconsistent_index:\n",
    "    data_df.iloc[i, data_df.columns.get_loc('Mas Vnr Area')] = 0\n",
    "\n",
    "data_df.loc[(data_df['Mas Vnr Type']== 'None') & (data_df['Mas Vnr Area'] >0)] # check"
   ]
  },
  {
   "cell_type": "markdown",
   "id": "eeb35b3f",
   "metadata": {},
   "source": [
    "<div class=\"alert alert-block alert-info\">\n",
    "\n",
    "Basement"
   ]
  },
  {
   "cell_type": "code",
   "execution_count": 22,
   "id": "aa8614a4",
   "metadata": {},
   "outputs": [],
   "source": [
    "# Basement columns\n",
    "bsmt_col = data_df.iloc[:, lambda df:df.columns.str.contains('Bsm', case=False)].columns"
   ]
  },
  {
   "cell_type": "code",
   "execution_count": 23,
   "id": "f5673efc",
   "metadata": {},
   "outputs": [
    {
     "data": {
      "text/html": [
       "<div>\n",
       "<style scoped>\n",
       "    .dataframe tbody tr th:only-of-type {\n",
       "        vertical-align: middle;\n",
       "    }\n",
       "\n",
       "    .dataframe tbody tr th {\n",
       "        vertical-align: top;\n",
       "    }\n",
       "\n",
       "    .dataframe thead th {\n",
       "        text-align: right;\n",
       "    }\n",
       "</style>\n",
       "<table border=\"1\" class=\"dataframe\">\n",
       "  <thead>\n",
       "    <tr style=\"text-align: right;\">\n",
       "      <th></th>\n",
       "      <th>Bsmt Qual</th>\n",
       "      <th>Bsmt Cond</th>\n",
       "      <th>Bsmt Exposure</th>\n",
       "      <th>BsmtFin Type 1</th>\n",
       "      <th>BsmtFin SF 1</th>\n",
       "      <th>BsmtFin Type 2</th>\n",
       "      <th>BsmtFin SF 2</th>\n",
       "      <th>Bsmt Unf SF</th>\n",
       "      <th>Total Bsmt SF</th>\n",
       "      <th>Bsmt Full Bath</th>\n",
       "      <th>Bsmt Half Bath</th>\n",
       "    </tr>\n",
       "  </thead>\n",
       "  <tbody>\n",
       "    <tr>\n",
       "      <th>875</th>\n",
       "      <td>Gd</td>\n",
       "      <td>TA</td>\n",
       "      <td>NA</td>\n",
       "      <td>Unf</td>\n",
       "      <td>0.0</td>\n",
       "      <td>Unf</td>\n",
       "      <td>0.0</td>\n",
       "      <td>1595.0</td>\n",
       "      <td>1595.0</td>\n",
       "      <td>0.0</td>\n",
       "      <td>0.0</td>\n",
       "    </tr>\n",
       "    <tr>\n",
       "      <th>1681</th>\n",
       "      <td>Gd</td>\n",
       "      <td>TA</td>\n",
       "      <td>NA</td>\n",
       "      <td>Unf</td>\n",
       "      <td>0.0</td>\n",
       "      <td>Unf</td>\n",
       "      <td>0.0</td>\n",
       "      <td>725.0</td>\n",
       "      <td>725.0</td>\n",
       "      <td>0.0</td>\n",
       "      <td>0.0</td>\n",
       "    </tr>\n",
       "    <tr>\n",
       "      <th>1726</th>\n",
       "      <td>Gd</td>\n",
       "      <td>TA</td>\n",
       "      <td>NA</td>\n",
       "      <td>Unf</td>\n",
       "      <td>0.0</td>\n",
       "      <td>Unf</td>\n",
       "      <td>0.0</td>\n",
       "      <td>936.0</td>\n",
       "      <td>936.0</td>\n",
       "      <td>0.0</td>\n",
       "      <td>0.0</td>\n",
       "    </tr>\n",
       "  </tbody>\n",
       "</table>\n",
       "</div>"
      ],
      "text/plain": [
       "     Bsmt Qual Bsmt Cond Bsmt Exposure BsmtFin Type 1  BsmtFin SF 1  \\\n",
       "875         Gd        TA            NA            Unf           0.0   \n",
       "1681        Gd        TA            NA            Unf           0.0   \n",
       "1726        Gd        TA            NA            Unf           0.0   \n",
       "\n",
       "     BsmtFin Type 2  BsmtFin SF 2  Bsmt Unf SF  Total Bsmt SF  Bsmt Full Bath  \\\n",
       "875             Unf           0.0       1595.0         1595.0             0.0   \n",
       "1681            Unf           0.0        725.0          725.0             0.0   \n",
       "1726            Unf           0.0        936.0          936.0             0.0   \n",
       "\n",
       "      Bsmt Half Bath  \n",
       "875              0.0  \n",
       "1681             0.0  \n",
       "1726             0.0  "
      ]
     },
     "execution_count": 23,
     "metadata": {},
     "output_type": "execute_result"
    }
   ],
   "source": [
    "data_df.loc[(data_df['Bsmt Cond']!= 'NA') & (data_df['Bsmt Qual'] !='NA') & (data_df['Bsmt Exposure']== 'NA') ][bsmt_col]"
   ]
  },
  {
   "cell_type": "code",
   "execution_count": 27,
   "id": "8b418c57",
   "metadata": {},
   "outputs": [],
   "source": [
    "# 3 Exposures at \"NA\" (no basement) instead \"No\" (no exposure)\n",
    "for i in data_df.loc[(data_df['Bsmt Cond']!= 'NA') & (data_df['Bsmt Qual'] !='NA') & (data_df['Bsmt Exposure']== 'NA') ].index:\n",
    "    data_df.iloc[i, data_df.columns.get_loc('Bsmt Exposure')] = \"No\""
   ]
  },
  {
   "cell_type": "code",
   "execution_count": 28,
   "id": "2bbf9b07",
   "metadata": {},
   "outputs": [
    {
     "name": "stdout",
     "output_type": "stream",
     "text": [
      "Bsmt Qual  : 71\n",
      "Bsmt Cond  : 71\n",
      "Bsmt Exposure  : 71\n",
      "BsmtFin Type 1  : 71\n",
      "BsmtFin SF 1  : 774\n",
      "BsmtFin Type 2  : 72\n",
      "BsmtFin SF 2  : 2136\n",
      "Bsmt Unf SF  : 211\n",
      "Total Bsmt SF  : 71\n",
      "Bsmt Full Bath  : 1414\n",
      "Bsmt Half Bath  : 2287\n"
     ]
    }
   ],
   "source": [
    "for col in bsmt_col:\n",
    "    print(col,' :',len(data_df.loc[(data_df[col] == 'NA') | (data_df[col] == 0)]))\n",
    "    "
   ]
  },
  {
   "cell_type": "code",
   "execution_count": 29,
   "id": "a5a9dcff",
   "metadata": {},
   "outputs": [
    {
     "data": {
      "text/html": [
       "<div>\n",
       "<style scoped>\n",
       "    .dataframe tbody tr th:only-of-type {\n",
       "        vertical-align: middle;\n",
       "    }\n",
       "\n",
       "    .dataframe tbody tr th {\n",
       "        vertical-align: top;\n",
       "    }\n",
       "\n",
       "    .dataframe thead th {\n",
       "        text-align: right;\n",
       "    }\n",
       "</style>\n",
       "<table border=\"1\" class=\"dataframe\">\n",
       "  <thead>\n",
       "    <tr style=\"text-align: right;\">\n",
       "      <th></th>\n",
       "      <th>Bsmt Qual</th>\n",
       "      <th>Bsmt Cond</th>\n",
       "      <th>Bsmt Exposure</th>\n",
       "      <th>BsmtFin Type 1</th>\n",
       "      <th>BsmtFin SF 1</th>\n",
       "      <th>BsmtFin Type 2</th>\n",
       "      <th>BsmtFin SF 2</th>\n",
       "      <th>Bsmt Unf SF</th>\n",
       "      <th>Total Bsmt SF</th>\n",
       "      <th>Bsmt Full Bath</th>\n",
       "      <th>Bsmt Half Bath</th>\n",
       "    </tr>\n",
       "  </thead>\n",
       "  <tbody>\n",
       "  </tbody>\n",
       "</table>\n",
       "</div>"
      ],
      "text/plain": [
       "Empty DataFrame\n",
       "Columns: [Bsmt Qual, Bsmt Cond, Bsmt Exposure, BsmtFin Type 1, BsmtFin SF 1, BsmtFin Type 2, BsmtFin SF 2, Bsmt Unf SF, Total Bsmt SF, Bsmt Full Bath, Bsmt Half Bath]\n",
       "Index: []"
      ]
     },
     "execution_count": 29,
     "metadata": {},
     "output_type": "execute_result"
    }
   ],
   "source": [
    "# Check if total Basement Square Feet = the sum of all surfaces\n",
    "data_df.loc[(data_df['Total Bsmt SF']) != (data_df['Bsmt Unf SF']+data_df['BsmtFin SF 1']+data_df['BsmtFin SF 2'])][bsmt_col]"
   ]
  },
  {
   "cell_type": "markdown",
   "id": "3b4d658e",
   "metadata": {},
   "source": [
    "**Eventually, Basement Columns look consistent to one another and possibly only 71 properties without Basements.**"
   ]
  },
  {
   "cell_type": "markdown",
   "id": "51eca224",
   "metadata": {},
   "source": [
    "<div class=\"alert alert-block alert-info\">\n",
    "\n",
    "Fireplace"
   ]
  },
  {
   "cell_type": "code",
   "execution_count": 30,
   "id": "a32af7b3",
   "metadata": {},
   "outputs": [
    {
     "data": {
      "text/plain": [
       "Index(['Fireplaces', 'Fireplace Qu'], dtype='object')"
      ]
     },
     "execution_count": 30,
     "metadata": {},
     "output_type": "execute_result"
    }
   ],
   "source": [
    "# Fireplace columns\n",
    "fire_col = data_df.iloc[:, lambda df:df.columns.str.contains('Fire', case=False)].columns\n",
    "fire_col\n"
   ]
  },
  {
   "cell_type": "code",
   "execution_count": 31,
   "id": "9eaf25f5",
   "metadata": {},
   "outputs": [
    {
     "data": {
      "text/html": [
       "<div>\n",
       "<style scoped>\n",
       "    .dataframe tbody tr th:only-of-type {\n",
       "        vertical-align: middle;\n",
       "    }\n",
       "\n",
       "    .dataframe tbody tr th {\n",
       "        vertical-align: top;\n",
       "    }\n",
       "\n",
       "    .dataframe thead th {\n",
       "        text-align: right;\n",
       "    }\n",
       "</style>\n",
       "<table border=\"1\" class=\"dataframe\">\n",
       "  <thead>\n",
       "    <tr style=\"text-align: right;\">\n",
       "      <th></th>\n",
       "      <th>Fireplaces</th>\n",
       "      <th>Fireplace Qu</th>\n",
       "    </tr>\n",
       "  </thead>\n",
       "  <tbody>\n",
       "  </tbody>\n",
       "</table>\n",
       "</div>"
      ],
      "text/plain": [
       "Empty DataFrame\n",
       "Columns: [Fireplaces, Fireplace Qu]\n",
       "Index: []"
      ]
     },
     "execution_count": 31,
     "metadata": {},
     "output_type": "execute_result"
    }
   ],
   "source": [
    "data_df.loc[(data_df['Fireplaces'] != 0) & (data_df['Fireplace Qu'] =='NA') ][fire_col]"
   ]
  },
  {
   "cell_type": "code",
   "execution_count": 32,
   "id": "0620f387",
   "metadata": {},
   "outputs": [
    {
     "name": "stdout",
     "output_type": "stream",
     "text": [
      "Fireplaces  : 1186\n",
      "Fireplace Qu  : 1186\n"
     ]
    }
   ],
   "source": [
    "for col in fire_col:\n",
    "    print(col,' :',len(data_df.loc[(data_df[col] == 'NA') | (data_df[col] == 0)]))"
   ]
  },
  {
   "cell_type": "markdown",
   "id": "0400bcff",
   "metadata": {},
   "source": [
    "**Fireplace are consistent to one another, half of the properties don't have them.**"
   ]
  },
  {
   "cell_type": "markdown",
   "id": "0af803c4",
   "metadata": {},
   "source": [
    "<div class=\"alert alert-block alert-info\">\n",
    "\n",
    "Garage"
   ]
  },
  {
   "cell_type": "code",
   "execution_count": 33,
   "id": "8e8dd461",
   "metadata": {},
   "outputs": [
    {
     "data": {
      "text/plain": [
       "Index(['Garage Type', 'Garage Yr Blt', 'Garage Finish', 'Garage Cars',\n",
       "       'Garage Area', 'Garage Qual', 'Garage Cond'],\n",
       "      dtype='object')"
      ]
     },
     "execution_count": 33,
     "metadata": {},
     "output_type": "execute_result"
    }
   ],
   "source": [
    "# Garage columns\n",
    "garage_col = data_df.iloc[:, lambda df:df.columns.str.contains('Gara', case=False)].columns\n",
    "garage_col\n"
   ]
  },
  {
   "cell_type": "code",
   "execution_count": 34,
   "id": "5189bc7c",
   "metadata": {},
   "outputs": [
    {
     "name": "stdout",
     "output_type": "stream",
     "text": [
      "Garage Type  : 136\n",
      "Garage Yr Blt  : 138\n",
      "Garage Finish  : 138\n",
      "Garage Cars  : 137\n",
      "Garage Area  : 137\n",
      "Garage Qual  : 138\n",
      "Garage Cond  : 138\n"
     ]
    }
   ],
   "source": [
    "for col in garage_col:\n",
    "    print(col,' :',len(data_df.loc[(data_df[col] == 'NA') | (data_df[col] == 0) | (data_df[col].isnull())]))"
   ]
  },
  {
   "cell_type": "markdown",
   "id": "17b1af0f",
   "metadata": {},
   "source": [
    "**Garage are fairly consistent to one another, half of the properties don't have them.**\n",
    "Only one missing Garage Type"
   ]
  },
  {
   "cell_type": "markdown",
   "id": "07d17570",
   "metadata": {},
   "source": [
    "<div class=\"alert alert-block alert-info\">\n",
    "\n",
    "Pool"
   ]
  },
  {
   "cell_type": "code",
   "execution_count": 35,
   "id": "26f4cd3d",
   "metadata": {},
   "outputs": [
    {
     "data": {
      "text/plain": [
       "Index(['Pool Area', 'Pool QC'], dtype='object')"
      ]
     },
     "execution_count": 35,
     "metadata": {},
     "output_type": "execute_result"
    }
   ],
   "source": [
    "# Garage columns\n",
    "pool_col = data_df.iloc[:, lambda df:df.columns.str.contains('Pool', case=False)].columns\n",
    "pool_col"
   ]
  },
  {
   "cell_type": "code",
   "execution_count": 60,
   "id": "48d1aba6",
   "metadata": {},
   "outputs": [
    {
     "name": "stdout",
     "output_type": "stream",
     "text": [
      "Pool Area  : 2418\n",
      "Pool QC  : 2418\n"
     ]
    }
   ],
   "source": [
    "for col in pool_col:\n",
    "    print(col,' :',len(data_df.loc[(data_df[col] == 'NA') | (data_df[col] == 0)]))"
   ]
  },
  {
   "cell_type": "code",
   "execution_count": 37,
   "id": "559d903b",
   "metadata": {},
   "outputs": [
    {
     "name": "stdout",
     "output_type": "stream",
     "text": [
      "Pool Area  : [  0 648 555 228 144 519 561 480 512 576 444 800 368]\n",
      "Pool QC  : ['NA' 'Fa' 'Ex' 'TA' 'Gd']\n"
     ]
    }
   ],
   "source": [
    "# Print each value for all ordinal columns\n",
    "for col in pool_col:\n",
    "    print(col,' :',data_df[col].unique())"
   ]
  },
  {
   "cell_type": "markdown",
   "id": "11f7caf1",
   "metadata": {},
   "source": [
    "**Most houses don't have a Pool, but it can still be relevant for the price**"
   ]
  },
  {
   "cell_type": "markdown",
   "id": "be95ae61",
   "metadata": {},
   "source": [
    "### Outliers for continuous data\n",
    "\n",
    "Quick look at the distribution with $np.log1p()$"
   ]
  },
  {
   "cell_type": "code",
   "execution_count": null,
   "id": "324e6bea",
   "metadata": {},
   "outputs": [],
   "source": []
  },
  {
   "cell_type": "code",
   "execution_count": 50,
   "id": "26e729bb",
   "metadata": {},
   "outputs": [
    {
     "data": {
      "image/png": "[encoded data removed]",
      "text/plain": [
       "<Figure size 1080x1656 with 40 Axes>"
      ]
     },
     "metadata": {
      "needs_background": "light"
     },
     "output_type": "display_data"
    }
   ],
   "source": [
    "# 20 subplots of all continuous data\n",
    "fig, axes = plt.subplots(\n",
    "    10, 4 ,gridspec_kw={\"height_ratios\": (0.8, 0.2, 0.8, 0.2, 0.8, 0.2, 0.8, 0.2, 0.8 ,0.2)}, figsize=(15,23)\n",
    ")\n",
    "# pairing feature with column in plot\n",
    "for row, i in zip([0,2,4,6,8],[0,1,2,3,4])  :\n",
    "\n",
    "    for (feat, plot_col) in zip(continuous_col[0+4*i:4+4*i], [0,1,2,3]  ):\n",
    "\n",
    "        axes[0+row, plot_col].hist(np.log1p(data_df[feat]), bins=50)\n",
    "        axes[0+row, plot_col].set_title(\"{}\".format(feat))\n",
    "        sns.despine(ax=axes[0+row, plot_col])\n",
    "        sns.boxplot(np.log1p(data_df[feat]), ax=axes[1+row, plot_col], fliersize=2)\n",
    "        axes[1+row, plot_col].set(yticks=[])\n",
    "        #axes[1+row, plot_col].set_title(\"{}\".format(data_df[feat].median))\n",
    "        sns.despine(ax=axes[1+row, plot_col], left=True)\n",
    "\n",
    "    for ax in axes.flatten():\n",
    "        ax.set_xlabel(\"\")\n",
    "plt.tight_layout()\n",
    "plt.show()"
   ]
  },
  {
   "cell_type": "code",
   "execution_count": 52,
   "id": "ff24459d",
   "metadata": {},
   "outputs": [
    {
     "data": {
      "text/plain": [
       "count    2430.000000\n",
       "mean        2.401235\n",
       "std        36.111988\n",
       "min         0.000000\n",
       "25%         0.000000\n",
       "50%         0.000000\n",
       "75%         0.000000\n",
       "max       800.000000\n",
       "Name: Pool Area, dtype: float64"
      ]
     },
     "execution_count": 52,
     "metadata": {},
     "output_type": "execute_result"
    }
   ],
   "source": [
    "data_df['Pool Area'].describe()\n"
   ]
  },
  {
   "cell_type": "markdown",
   "id": "731951a2",
   "metadata": {},
   "source": [
    "<div class=\"alert alert-block alert-danger\">\n",
    "\n",
    "\n",
    "### My feeling about what I would mathematically consider outliers with z-score, would impact the Sales Price greatly.\n",
    "For example, houses with a pool or a 3-Season Porch are z-score outliers but at the same time, are probably more expensive and impacted by the presence of a pool.\n",
    "    \n",
    "I am not convinced a mathematical outlier removal makes sense, I would rather check \"visually\" those outliers. Indeed, many outliers could be specific case.\n",
    "    \n",
    "### 1) First let's try z-score on each column :\n",
    "### 2) Then visually remove outliers :"
   ]
  },
  {
   "cell_type": "markdown",
   "id": "2f2823c0",
   "metadata": {},
   "source": [
    "### Let's see if these continuous features have a strong \"correlation\" with the Sale Price. "
   ]
  },
  {
   "cell_type": "code",
   "execution_count": 96,
   "id": "4ebec300",
   "metadata": {},
   "outputs": [
    {
     "data": {
      "image/png": "[encoded data removed]",
      "text/plain": [
       "<Figure size 864x1152 with 2 Axes>"
      ]
     },
     "metadata": {
      "needs_background": "light"
     },
     "output_type": "display_data"
    }
   ],
   "source": [
    "# check correlations between continuous data and sales price\n",
    "\n",
    "df_corr = data_df[continuous_col +['SalePrice']].corr(method='pearson').round(2)\n",
    "\n",
    "plt.figure(figsize=(12, 16))\n",
    "sns.heatmap(df_corr, \n",
    "            xticklabels=df_corr.columns,\n",
    "            yticklabels=df_corr.columns,\n",
    "            cmap='YlGnBu',\n",
    "            annot=True,\n",
    "            linewidth=0.3);\n",
    "# blue is better, positive influence"
   ]
  },
  {
   "cell_type": "code",
   "execution_count": null,
   "id": "df09adf1",
   "metadata": {},
   "outputs": [],
   "source": []
  },
  {
   "cell_type": "code",
   "execution_count": 94,
   "id": "0baadefd",
   "metadata": {},
   "outputs": [
    {
     "data": {
      "text/plain": [
       "<matplotlib.axes._subplots.AxesSubplot at 0x1a1c9d59a20>"
      ]
     },
     "execution_count": 94,
     "metadata": {},
     "output_type": "execute_result"
    },
    {
     "data": {
      "image/png": "[encoded data removed]",
      "text/plain": [
       "<Figure size 432x288 with 1 Axes>"
      ]
     },
     "metadata": {
      "needs_background": "light"
     },
     "output_type": "display_data"
    }
   ],
   "source": [
    "sns.scatterplot(data_df['Gr Liv Area'], data_df['SalePrice'],  hue = data_df['Pool QC'])"
   ]
  },
  {
   "cell_type": "markdown",
   "id": "4cbb4001",
   "metadata": {},
   "source": [
    "# Feature Engineering"
   ]
  },
  {
   "cell_type": "markdown",
   "id": "53d1f483",
   "metadata": {},
   "source": [
    "### Encode ordinal to grades 1 to 5 ? est-ce utile ?\n"
   ]
  },
  {
   "cell_type": "code",
   "execution_count": 200,
   "id": "bc620e38",
   "metadata": {},
   "outputs": [],
   "source": [
    "from sklearn.preprocessing import OrdinalEncoder\n",
    "\n",
    "# Handle ordinal variables\n",
    "\n",
    "ordinal_transformer = OrdinalEncoder(categories=[ordinal_col])"
   ]
  },
  {
   "cell_type": "markdown",
   "id": "8ed7ae04",
   "metadata": {},
   "source": [
    "### One hot encoding"
   ]
  },
  {
   "cell_type": "code",
   "execution_count": 80,
   "id": "6081e257",
   "metadata": {},
   "outputs": [
    {
     "ename": "TypeError",
     "evalue": "__init__() got an unexpected keyword argument 'handle_error'",
     "output_type": "error",
     "traceback": [
      "\u001b[1;31m---------------------------------------------------------------------------\u001b[0m",
      "\u001b[1;31mTypeError\u001b[0m                                 Traceback (most recent call last)",
      "\u001b[1;32m<ipython-input-80-9a88c85e6c24>\u001b[0m in \u001b[0;36m<module>\u001b[1;34m\u001b[0m\n\u001b[0;32m      2\u001b[0m \u001b[1;33m\u001b[0m\u001b[0m\n\u001b[0;32m      3\u001b[0m \u001b[1;31m# Create encoder\u001b[0m\u001b[1;33m\u001b[0m\u001b[1;33m\u001b[0m\u001b[1;33m\u001b[0m\u001b[0m\n\u001b[1;32m----> 4\u001b[1;33m \u001b[0mencoder\u001b[0m \u001b[1;33m=\u001b[0m \u001b[0mOneHotEncoder\u001b[0m\u001b[1;33m(\u001b[0m\u001b[0mhandle_error\u001b[0m\u001b[1;33m=\u001b[0m\u001b[1;34m'ignore'\u001b[0m\u001b[1;33m)\u001b[0m\u001b[1;33m\u001b[0m\u001b[1;33m\u001b[0m\u001b[0m\n\u001b[0m\u001b[0;32m      5\u001b[0m \u001b[0mencoder\u001b[0m\u001b[1;33m.\u001b[0m\u001b[0mfit_transform\u001b[0m\u001b[1;33m(\u001b[0m\u001b[0mdata_df\u001b[0m\u001b[1;33m)\u001b[0m\u001b[1;33m\u001b[0m\u001b[1;33m\u001b[0m\u001b[0m\n",
      "\u001b[1;31mTypeError\u001b[0m: __init__() got an unexpected keyword argument 'handle_error'"
     ]
    }
   ],
   "source": [
    "from sklearn.preprocessing import OneHotEncoder\n",
    "\n",
    "# Create encoder\n",
    "encoder = OneHotEncoder(handle_error='ignore')\n",
    "encoder.fit_transform(data_df)"
   ]
  },
  {
   "cell_type": "code",
   "execution_count": 196,
   "id": "e88521be",
   "metadata": {},
   "outputs": [],
   "source": [
    "from sklearn.preprocessing import OneHotEncoder\n",
    "from sklearn.compose import ColumnTransformer\n",
    "\n",
    "# Handle nominal variables\n",
    "nominal_transformer = OneHotEncoder(handle_unknown='ignore', sparse=False)\n",
    "\n",
    "# Create the column transformer\n",
    "preprocessor = ColumnTransformer([\n",
    "    ('nominal', nominal_transformer, nominal_col),\n",
    "    ('ordinal', ordinal_transformer, ordinal_col),\n",
    "], remainder='drop')\n"
   ]
  },
  {
   "cell_type": "code",
   "execution_count": 198,
   "id": "90cc7599",
   "metadata": {},
   "outputs": [
    {
     "ename": "ValueError",
     "evalue": "Shape mismatch: if n_values is an array, it has to be of shape (n_features,).",
     "output_type": "error",
     "traceback": [
      "\u001b[1;31m---------------------------------------------------------------------------\u001b[0m",
      "\u001b[1;31mValueError\u001b[0m                                Traceback (most recent call last)",
      "\u001b[1;32m<ipython-input-198-bd07a54d2d9b>\u001b[0m in \u001b[0;36m<module>\u001b[1;34m\u001b[0m\n\u001b[1;32m----> 1\u001b[1;33m \u001b[0mencoded\u001b[0m \u001b[1;33m=\u001b[0m \u001b[0mpreprocessor\u001b[0m\u001b[1;33m.\u001b[0m\u001b[0mfit_transform\u001b[0m\u001b[1;33m(\u001b[0m\u001b[0mdata_df\u001b[0m\u001b[1;33m)\u001b[0m\u001b[1;33m\u001b[0m\u001b[1;33m\u001b[0m\u001b[0m\n\u001b[0m\u001b[0;32m      2\u001b[0m \u001b[1;31m#encoded.shape\u001b[0m\u001b[1;33m\u001b[0m\u001b[1;33m\u001b[0m\u001b[1;33m\u001b[0m\u001b[0m\n",
      "\u001b[1;32m~\\anaconda3\\envs\\exts-ml\\lib\\site-packages\\sklearn\\compose\\_column_transformer.py\u001b[0m in \u001b[0;36mfit_transform\u001b[1;34m(self, X, y)\u001b[0m\n\u001b[0;32m    447\u001b[0m         \u001b[0mself\u001b[0m\u001b[1;33m.\u001b[0m\u001b[0m_validate_remainder\u001b[0m\u001b[1;33m(\u001b[0m\u001b[0mX\u001b[0m\u001b[1;33m)\u001b[0m\u001b[1;33m\u001b[0m\u001b[1;33m\u001b[0m\u001b[0m\n\u001b[0;32m    448\u001b[0m \u001b[1;33m\u001b[0m\u001b[0m\n\u001b[1;32m--> 449\u001b[1;33m         \u001b[0mresult\u001b[0m \u001b[1;33m=\u001b[0m \u001b[0mself\u001b[0m\u001b[1;33m.\u001b[0m\u001b[0m_fit_transform\u001b[0m\u001b[1;33m(\u001b[0m\u001b[0mX\u001b[0m\u001b[1;33m,\u001b[0m \u001b[0my\u001b[0m\u001b[1;33m,\u001b[0m \u001b[0m_fit_transform_one\u001b[0m\u001b[1;33m)\u001b[0m\u001b[1;33m\u001b[0m\u001b[1;33m\u001b[0m\u001b[0m\n\u001b[0m\u001b[0;32m    450\u001b[0m \u001b[1;33m\u001b[0m\u001b[0m\n\u001b[0;32m    451\u001b[0m         \u001b[1;32mif\u001b[0m \u001b[1;32mnot\u001b[0m \u001b[0mresult\u001b[0m\u001b[1;33m:\u001b[0m\u001b[1;33m\u001b[0m\u001b[1;33m\u001b[0m\u001b[0m\n",
      "\u001b[1;32m~\\anaconda3\\envs\\exts-ml\\lib\\site-packages\\sklearn\\compose\\_column_transformer.py\u001b[0m in \u001b[0;36m_fit_transform\u001b[1;34m(self, X, y, func, fitted)\u001b[0m\n\u001b[0;32m    391\u001b[0m                               _get_column(X, column), y, weight)\n\u001b[0;32m    392\u001b[0m                 for _, trans, column, weight in self._iter(\n\u001b[1;32m--> 393\u001b[1;33m                     fitted=fitted, replace_strings=True))\n\u001b[0m\u001b[0;32m    394\u001b[0m         \u001b[1;32mexcept\u001b[0m \u001b[0mValueError\u001b[0m \u001b[1;32mas\u001b[0m \u001b[0me\u001b[0m\u001b[1;33m:\u001b[0m\u001b[1;33m\u001b[0m\u001b[1;33m\u001b[0m\u001b[0m\n\u001b[0;32m    395\u001b[0m             \u001b[1;32mif\u001b[0m \u001b[1;34m\"Expected 2D array, got 1D array instead\"\u001b[0m \u001b[1;32min\u001b[0m \u001b[0mstr\u001b[0m\u001b[1;33m(\u001b[0m\u001b[0me\u001b[0m\u001b[1;33m)\u001b[0m\u001b[1;33m:\u001b[0m\u001b[1;33m\u001b[0m\u001b[1;33m\u001b[0m\u001b[0m\n",
      "\u001b[1;32m~\\anaconda3\\envs\\exts-ml\\lib\\site-packages\\sklearn\\externals\\joblib\\parallel.py\u001b[0m in \u001b[0;36m__call__\u001b[1;34m(self, iterable)\u001b[0m\n\u001b[0;32m    918\u001b[0m                 \u001b[0mself\u001b[0m\u001b[1;33m.\u001b[0m\u001b[0m_iterating\u001b[0m \u001b[1;33m=\u001b[0m \u001b[0mself\u001b[0m\u001b[1;33m.\u001b[0m\u001b[0m_original_iterator\u001b[0m \u001b[1;32mis\u001b[0m \u001b[1;32mnot\u001b[0m \u001b[1;32mNone\u001b[0m\u001b[1;33m\u001b[0m\u001b[1;33m\u001b[0m\u001b[0m\n\u001b[0;32m    919\u001b[0m \u001b[1;33m\u001b[0m\u001b[0m\n\u001b[1;32m--> 920\u001b[1;33m             \u001b[1;32mwhile\u001b[0m \u001b[0mself\u001b[0m\u001b[1;33m.\u001b[0m\u001b[0mdispatch_one_batch\u001b[0m\u001b[1;33m(\u001b[0m\u001b[0miterator\u001b[0m\u001b[1;33m)\u001b[0m\u001b[1;33m:\u001b[0m\u001b[1;33m\u001b[0m\u001b[1;33m\u001b[0m\u001b[0m\n\u001b[0m\u001b[0;32m    921\u001b[0m                 \u001b[1;32mpass\u001b[0m\u001b[1;33m\u001b[0m\u001b[1;33m\u001b[0m\u001b[0m\n\u001b[0;32m    922\u001b[0m \u001b[1;33m\u001b[0m\u001b[0m\n",
      "\u001b[1;32m~\\anaconda3\\envs\\exts-ml\\lib\\site-packages\\sklearn\\externals\\joblib\\parallel.py\u001b[0m in \u001b[0;36mdispatch_one_batch\u001b[1;34m(self, iterator)\u001b[0m\n\u001b[0;32m    757\u001b[0m                 \u001b[1;32mreturn\u001b[0m \u001b[1;32mFalse\u001b[0m\u001b[1;33m\u001b[0m\u001b[1;33m\u001b[0m\u001b[0m\n\u001b[0;32m    758\u001b[0m             \u001b[1;32melse\u001b[0m\u001b[1;33m:\u001b[0m\u001b[1;33m\u001b[0m\u001b[1;33m\u001b[0m\u001b[0m\n\u001b[1;32m--> 759\u001b[1;33m                 \u001b[0mself\u001b[0m\u001b[1;33m.\u001b[0m\u001b[0m_dispatch\u001b[0m\u001b[1;33m(\u001b[0m\u001b[0mtasks\u001b[0m\u001b[1;33m)\u001b[0m\u001b[1;33m\u001b[0m\u001b[1;33m\u001b[0m\u001b[0m\n\u001b[0m\u001b[0;32m    760\u001b[0m                 \u001b[1;32mreturn\u001b[0m \u001b[1;32mTrue\u001b[0m\u001b[1;33m\u001b[0m\u001b[1;33m\u001b[0m\u001b[0m\n\u001b[0;32m    761\u001b[0m \u001b[1;33m\u001b[0m\u001b[0m\n",
      "\u001b[1;32m~\\anaconda3\\envs\\exts-ml\\lib\\site-packages\\sklearn\\externals\\joblib\\parallel.py\u001b[0m in \u001b[0;36m_dispatch\u001b[1;34m(self, batch)\u001b[0m\n\u001b[0;32m    714\u001b[0m         \u001b[1;32mwith\u001b[0m \u001b[0mself\u001b[0m\u001b[1;33m.\u001b[0m\u001b[0m_lock\u001b[0m\u001b[1;33m:\u001b[0m\u001b[1;33m\u001b[0m\u001b[1;33m\u001b[0m\u001b[0m\n\u001b[0;32m    715\u001b[0m             \u001b[0mjob_idx\u001b[0m \u001b[1;33m=\u001b[0m \u001b[0mlen\u001b[0m\u001b[1;33m(\u001b[0m\u001b[0mself\u001b[0m\u001b[1;33m.\u001b[0m\u001b[0m_jobs\u001b[0m\u001b[1;33m)\u001b[0m\u001b[1;33m\u001b[0m\u001b[1;33m\u001b[0m\u001b[0m\n\u001b[1;32m--> 716\u001b[1;33m             \u001b[0mjob\u001b[0m \u001b[1;33m=\u001b[0m \u001b[0mself\u001b[0m\u001b[1;33m.\u001b[0m\u001b[0m_backend\u001b[0m\u001b[1;33m.\u001b[0m\u001b[0mapply_async\u001b[0m\u001b[1;33m(\u001b[0m\u001b[0mbatch\u001b[0m\u001b[1;33m,\u001b[0m \u001b[0mcallback\u001b[0m\u001b[1;33m=\u001b[0m\u001b[0mcb\u001b[0m\u001b[1;33m)\u001b[0m\u001b[1;33m\u001b[0m\u001b[1;33m\u001b[0m\u001b[0m\n\u001b[0m\u001b[0;32m    717\u001b[0m             \u001b[1;31m# A job can complete so quickly than its callback is\u001b[0m\u001b[1;33m\u001b[0m\u001b[1;33m\u001b[0m\u001b[1;33m\u001b[0m\u001b[0m\n\u001b[0;32m    718\u001b[0m             \u001b[1;31m# called before we get here, causing self._jobs to\u001b[0m\u001b[1;33m\u001b[0m\u001b[1;33m\u001b[0m\u001b[1;33m\u001b[0m\u001b[0m\n",
      "\u001b[1;32m~\\anaconda3\\envs\\exts-ml\\lib\\site-packages\\sklearn\\externals\\joblib\\_parallel_backends.py\u001b[0m in \u001b[0;36mapply_async\u001b[1;34m(self, func, callback)\u001b[0m\n\u001b[0;32m    180\u001b[0m     \u001b[1;32mdef\u001b[0m \u001b[0mapply_async\u001b[0m\u001b[1;33m(\u001b[0m\u001b[0mself\u001b[0m\u001b[1;33m,\u001b[0m \u001b[0mfunc\u001b[0m\u001b[1;33m,\u001b[0m \u001b[0mcallback\u001b[0m\u001b[1;33m=\u001b[0m\u001b[1;32mNone\u001b[0m\u001b[1;33m)\u001b[0m\u001b[1;33m:\u001b[0m\u001b[1;33m\u001b[0m\u001b[1;33m\u001b[0m\u001b[0m\n\u001b[0;32m    181\u001b[0m         \u001b[1;34m\"\"\"Schedule a func to be run\"\"\"\u001b[0m\u001b[1;33m\u001b[0m\u001b[1;33m\u001b[0m\u001b[0m\n\u001b[1;32m--> 182\u001b[1;33m         \u001b[0mresult\u001b[0m \u001b[1;33m=\u001b[0m \u001b[0mImmediateResult\u001b[0m\u001b[1;33m(\u001b[0m\u001b[0mfunc\u001b[0m\u001b[1;33m)\u001b[0m\u001b[1;33m\u001b[0m\u001b[1;33m\u001b[0m\u001b[0m\n\u001b[0m\u001b[0;32m    183\u001b[0m         \u001b[1;32mif\u001b[0m \u001b[0mcallback\u001b[0m\u001b[1;33m:\u001b[0m\u001b[1;33m\u001b[0m\u001b[1;33m\u001b[0m\u001b[0m\n\u001b[0;32m    184\u001b[0m             \u001b[0mcallback\u001b[0m\u001b[1;33m(\u001b[0m\u001b[0mresult\u001b[0m\u001b[1;33m)\u001b[0m\u001b[1;33m\u001b[0m\u001b[1;33m\u001b[0m\u001b[0m\n",
      "\u001b[1;32m~\\anaconda3\\envs\\exts-ml\\lib\\site-packages\\sklearn\\externals\\joblib\\_parallel_backends.py\u001b[0m in \u001b[0;36m__init__\u001b[1;34m(self, batch)\u001b[0m\n\u001b[0;32m    547\u001b[0m         \u001b[1;31m# Don't delay the application, to avoid keeping the input\u001b[0m\u001b[1;33m\u001b[0m\u001b[1;33m\u001b[0m\u001b[1;33m\u001b[0m\u001b[0m\n\u001b[0;32m    548\u001b[0m         \u001b[1;31m# arguments in memory\u001b[0m\u001b[1;33m\u001b[0m\u001b[1;33m\u001b[0m\u001b[1;33m\u001b[0m\u001b[0m\n\u001b[1;32m--> 549\u001b[1;33m         \u001b[0mself\u001b[0m\u001b[1;33m.\u001b[0m\u001b[0mresults\u001b[0m \u001b[1;33m=\u001b[0m \u001b[0mbatch\u001b[0m\u001b[1;33m(\u001b[0m\u001b[1;33m)\u001b[0m\u001b[1;33m\u001b[0m\u001b[1;33m\u001b[0m\u001b[0m\n\u001b[0m\u001b[0;32m    550\u001b[0m \u001b[1;33m\u001b[0m\u001b[0m\n\u001b[0;32m    551\u001b[0m     \u001b[1;32mdef\u001b[0m \u001b[0mget\u001b[0m\u001b[1;33m(\u001b[0m\u001b[0mself\u001b[0m\u001b[1;33m)\u001b[0m\u001b[1;33m:\u001b[0m\u001b[1;33m\u001b[0m\u001b[1;33m\u001b[0m\u001b[0m\n",
      "\u001b[1;32m~\\anaconda3\\envs\\exts-ml\\lib\\site-packages\\sklearn\\externals\\joblib\\parallel.py\u001b[0m in \u001b[0;36m__call__\u001b[1;34m(self)\u001b[0m\n\u001b[0;32m    223\u001b[0m         \u001b[1;32mwith\u001b[0m \u001b[0mparallel_backend\u001b[0m\u001b[1;33m(\u001b[0m\u001b[0mself\u001b[0m\u001b[1;33m.\u001b[0m\u001b[0m_backend\u001b[0m\u001b[1;33m,\u001b[0m \u001b[0mn_jobs\u001b[0m\u001b[1;33m=\u001b[0m\u001b[0mself\u001b[0m\u001b[1;33m.\u001b[0m\u001b[0m_n_jobs\u001b[0m\u001b[1;33m)\u001b[0m\u001b[1;33m:\u001b[0m\u001b[1;33m\u001b[0m\u001b[1;33m\u001b[0m\u001b[0m\n\u001b[0;32m    224\u001b[0m             return [func(*args, **kwargs)\n\u001b[1;32m--> 225\u001b[1;33m                     for func, args, kwargs in self.items]\n\u001b[0m\u001b[0;32m    226\u001b[0m \u001b[1;33m\u001b[0m\u001b[0m\n\u001b[0;32m    227\u001b[0m     \u001b[1;32mdef\u001b[0m \u001b[0m__len__\u001b[0m\u001b[1;33m(\u001b[0m\u001b[0mself\u001b[0m\u001b[1;33m)\u001b[0m\u001b[1;33m:\u001b[0m\u001b[1;33m\u001b[0m\u001b[1;33m\u001b[0m\u001b[0m\n",
      "\u001b[1;32m~\\anaconda3\\envs\\exts-ml\\lib\\site-packages\\sklearn\\externals\\joblib\\parallel.py\u001b[0m in \u001b[0;36m<listcomp>\u001b[1;34m(.0)\u001b[0m\n\u001b[0;32m    223\u001b[0m         \u001b[1;32mwith\u001b[0m \u001b[0mparallel_backend\u001b[0m\u001b[1;33m(\u001b[0m\u001b[0mself\u001b[0m\u001b[1;33m.\u001b[0m\u001b[0m_backend\u001b[0m\u001b[1;33m,\u001b[0m \u001b[0mn_jobs\u001b[0m\u001b[1;33m=\u001b[0m\u001b[0mself\u001b[0m\u001b[1;33m.\u001b[0m\u001b[0m_n_jobs\u001b[0m\u001b[1;33m)\u001b[0m\u001b[1;33m:\u001b[0m\u001b[1;33m\u001b[0m\u001b[1;33m\u001b[0m\u001b[0m\n\u001b[0;32m    224\u001b[0m             return [func(*args, **kwargs)\n\u001b[1;32m--> 225\u001b[1;33m                     for func, args, kwargs in self.items]\n\u001b[0m\u001b[0;32m    226\u001b[0m \u001b[1;33m\u001b[0m\u001b[0m\n\u001b[0;32m    227\u001b[0m     \u001b[1;32mdef\u001b[0m \u001b[0m__len__\u001b[0m\u001b[1;33m(\u001b[0m\u001b[0mself\u001b[0m\u001b[1;33m)\u001b[0m\u001b[1;33m:\u001b[0m\u001b[1;33m\u001b[0m\u001b[1;33m\u001b[0m\u001b[0m\n",
      "\u001b[1;32m~\\anaconda3\\envs\\exts-ml\\lib\\site-packages\\sklearn\\pipeline.py\u001b[0m in \u001b[0;36m_fit_transform_one\u001b[1;34m(transformer, X, y, weight, **fit_params)\u001b[0m\n\u001b[0;32m    612\u001b[0m \u001b[1;32mdef\u001b[0m \u001b[0m_fit_transform_one\u001b[0m\u001b[1;33m(\u001b[0m\u001b[0mtransformer\u001b[0m\u001b[1;33m,\u001b[0m \u001b[0mX\u001b[0m\u001b[1;33m,\u001b[0m \u001b[0my\u001b[0m\u001b[1;33m,\u001b[0m \u001b[0mweight\u001b[0m\u001b[1;33m,\u001b[0m \u001b[1;33m**\u001b[0m\u001b[0mfit_params\u001b[0m\u001b[1;33m)\u001b[0m\u001b[1;33m:\u001b[0m\u001b[1;33m\u001b[0m\u001b[1;33m\u001b[0m\u001b[0m\n\u001b[0;32m    613\u001b[0m     \u001b[1;32mif\u001b[0m \u001b[0mhasattr\u001b[0m\u001b[1;33m(\u001b[0m\u001b[0mtransformer\u001b[0m\u001b[1;33m,\u001b[0m \u001b[1;34m'fit_transform'\u001b[0m\u001b[1;33m)\u001b[0m\u001b[1;33m:\u001b[0m\u001b[1;33m\u001b[0m\u001b[1;33m\u001b[0m\u001b[0m\n\u001b[1;32m--> 614\u001b[1;33m         \u001b[0mres\u001b[0m \u001b[1;33m=\u001b[0m \u001b[0mtransformer\u001b[0m\u001b[1;33m.\u001b[0m\u001b[0mfit_transform\u001b[0m\u001b[1;33m(\u001b[0m\u001b[0mX\u001b[0m\u001b[1;33m,\u001b[0m \u001b[0my\u001b[0m\u001b[1;33m,\u001b[0m \u001b[1;33m**\u001b[0m\u001b[0mfit_params\u001b[0m\u001b[1;33m)\u001b[0m\u001b[1;33m\u001b[0m\u001b[1;33m\u001b[0m\u001b[0m\n\u001b[0m\u001b[0;32m    615\u001b[0m     \u001b[1;32melse\u001b[0m\u001b[1;33m:\u001b[0m\u001b[1;33m\u001b[0m\u001b[1;33m\u001b[0m\u001b[0m\n\u001b[0;32m    616\u001b[0m         \u001b[0mres\u001b[0m \u001b[1;33m=\u001b[0m \u001b[0mtransformer\u001b[0m\u001b[1;33m.\u001b[0m\u001b[0mfit\u001b[0m\u001b[1;33m(\u001b[0m\u001b[0mX\u001b[0m\u001b[1;33m,\u001b[0m \u001b[0my\u001b[0m\u001b[1;33m,\u001b[0m \u001b[1;33m**\u001b[0m\u001b[0mfit_params\u001b[0m\u001b[1;33m)\u001b[0m\u001b[1;33m.\u001b[0m\u001b[0mtransform\u001b[0m\u001b[1;33m(\u001b[0m\u001b[0mX\u001b[0m\u001b[1;33m)\u001b[0m\u001b[1;33m\u001b[0m\u001b[1;33m\u001b[0m\u001b[0m\n",
      "\u001b[1;32m~\\anaconda3\\envs\\exts-ml\\lib\\site-packages\\sklearn\\base.py\u001b[0m in \u001b[0;36mfit_transform\u001b[1;34m(self, X, y, **fit_params)\u001b[0m\n\u001b[0;32m    462\u001b[0m         \u001b[1;32mif\u001b[0m \u001b[0my\u001b[0m \u001b[1;32mis\u001b[0m \u001b[1;32mNone\u001b[0m\u001b[1;33m:\u001b[0m\u001b[1;33m\u001b[0m\u001b[1;33m\u001b[0m\u001b[0m\n\u001b[0;32m    463\u001b[0m             \u001b[1;31m# fit method of arity 1 (unsupervised transformation)\u001b[0m\u001b[1;33m\u001b[0m\u001b[1;33m\u001b[0m\u001b[1;33m\u001b[0m\u001b[0m\n\u001b[1;32m--> 464\u001b[1;33m             \u001b[1;32mreturn\u001b[0m \u001b[0mself\u001b[0m\u001b[1;33m.\u001b[0m\u001b[0mfit\u001b[0m\u001b[1;33m(\u001b[0m\u001b[0mX\u001b[0m\u001b[1;33m,\u001b[0m \u001b[1;33m**\u001b[0m\u001b[0mfit_params\u001b[0m\u001b[1;33m)\u001b[0m\u001b[1;33m.\u001b[0m\u001b[0mtransform\u001b[0m\u001b[1;33m(\u001b[0m\u001b[0mX\u001b[0m\u001b[1;33m)\u001b[0m\u001b[1;33m\u001b[0m\u001b[1;33m\u001b[0m\u001b[0m\n\u001b[0m\u001b[0;32m    465\u001b[0m         \u001b[1;32melse\u001b[0m\u001b[1;33m:\u001b[0m\u001b[1;33m\u001b[0m\u001b[1;33m\u001b[0m\u001b[0m\n\u001b[0;32m    466\u001b[0m             \u001b[1;31m# fit method of arity 2 (supervised transformation)\u001b[0m\u001b[1;33m\u001b[0m\u001b[1;33m\u001b[0m\u001b[1;33m\u001b[0m\u001b[0m\n",
      "\u001b[1;32m~\\anaconda3\\envs\\exts-ml\\lib\\site-packages\\sklearn\\preprocessing\\_encoders.py\u001b[0m in \u001b[0;36mfit\u001b[1;34m(self, X, y)\u001b[0m\n\u001b[0;32m    794\u001b[0m         \u001b[1;31m# OneHoteEncoder: can be removed once deprecations are removed\u001b[0m\u001b[1;33m\u001b[0m\u001b[1;33m\u001b[0m\u001b[1;33m\u001b[0m\u001b[0m\n\u001b[0;32m    795\u001b[0m         \u001b[0mself\u001b[0m\u001b[1;33m.\u001b[0m\u001b[0m_categories\u001b[0m \u001b[1;33m=\u001b[0m \u001b[0mself\u001b[0m\u001b[1;33m.\u001b[0m\u001b[0mcategories\u001b[0m\u001b[1;33m\u001b[0m\u001b[1;33m\u001b[0m\u001b[0m\n\u001b[1;32m--> 796\u001b[1;33m         \u001b[0mself\u001b[0m\u001b[1;33m.\u001b[0m\u001b[0m_fit\u001b[0m\u001b[1;33m(\u001b[0m\u001b[0mX\u001b[0m\u001b[1;33m)\u001b[0m\u001b[1;33m\u001b[0m\u001b[1;33m\u001b[0m\u001b[0m\n\u001b[0m\u001b[0;32m    797\u001b[0m \u001b[1;33m\u001b[0m\u001b[0m\n\u001b[0;32m    798\u001b[0m         \u001b[1;32mreturn\u001b[0m \u001b[0mself\u001b[0m\u001b[1;33m\u001b[0m\u001b[1;33m\u001b[0m\u001b[0m\n",
      "\u001b[1;32m~\\anaconda3\\envs\\exts-ml\\lib\\site-packages\\sklearn\\preprocessing\\_encoders.py\u001b[0m in \u001b[0;36m_fit\u001b[1;34m(self, X, handle_unknown)\u001b[0m\n\u001b[0;32m     70\u001b[0m                                          \"supported for numerical categories\")\n\u001b[0;32m     71\u001b[0m             \u001b[1;32mif\u001b[0m \u001b[0mlen\u001b[0m\u001b[1;33m(\u001b[0m\u001b[0mself\u001b[0m\u001b[1;33m.\u001b[0m\u001b[0m_categories\u001b[0m\u001b[1;33m)\u001b[0m \u001b[1;33m!=\u001b[0m \u001b[0mn_features\u001b[0m\u001b[1;33m:\u001b[0m\u001b[1;33m\u001b[0m\u001b[1;33m\u001b[0m\u001b[0m\n\u001b[1;32m---> 72\u001b[1;33m                 raise ValueError(\"Shape mismatch: if n_values is an array,\"\n\u001b[0m\u001b[0;32m     73\u001b[0m                                  \" it has to be of shape (n_features,).\")\n\u001b[0;32m     74\u001b[0m \u001b[1;33m\u001b[0m\u001b[0m\n",
      "\u001b[1;31mValueError\u001b[0m: Shape mismatch: if n_values is an array, it has to be of shape (n_features,)."
     ]
    }
   ],
   "source": [
    "\n",
    "encoded = preprocessor.fit_transform(data_df)\n",
    "#encoded.shape"
   ]
  },
  {
   "cell_type": "markdown",
   "id": "08d38a93",
   "metadata": {},
   "source": [
    "SNS pairplot avec sales price et chque data"
   ]
  },
  {
   "cell_type": "markdown",
   "id": "ef8546f3",
   "metadata": {},
   "source": [
    "# Feture Engineering"
   ]
  },
  {
   "cell_type": "code",
   "execution_count": null,
   "id": "3479bc67",
   "metadata": {},
   "outputs": [],
   "source": []
  }
 ],
 "metadata": {
  "kernelspec": {
   "display_name": "Python 3",
   "language": "python",
   "name": "python3"
  },
  "language_info": {
   "codemirror_mode": {
    "name": "ipython",
    "version": 3
   },
   "file_extension": ".py",
   "mimetype": "text/x-python",
   "name": "python",
   "nbconvert_exporter": "python",
   "pygments_lexer": "ipython3",
   "version": "3.6.13"
  }
 },
 "nbformat": 4,
 "nbformat_minor": 5
}
