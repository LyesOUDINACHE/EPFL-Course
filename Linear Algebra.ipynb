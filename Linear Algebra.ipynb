{
 "cells": [
  {
   "cell_type": "markdown",
   "metadata": {},
   "source": [
    "Linear algebra is essential to doing data science. It provides us with a set of mathematical tools that make number manipulations easier. More specifically, it allows us to manipulate groups of numbers at the same time by storing them in structures called vectors and matrices, and then performing calculations with these structures. This is especially useful for us since we will often represent data points as vectors, and data sets as matrices. We will then rely on the concepts from linear algebra to manipulate these vectors and matrices and build algorithms, such as:\n",
    "\n",
    "Principal Component Analysis (PCA)\n",
    "\n",
    "Singular Value Decomposition (SVD)\n",
    "\n",
    "Support vector machines\n",
    "\n",
    "Kernel methods\n",
    "\n",
    "Gradient descent and so on."
   ]
  },
  {
   "cell_type": "code",
   "execution_count": 1,
   "metadata": {},
   "outputs": [],
   "source": [
    "import numpy as np\n",
    "\n",
    "x = [5,7,-2,2]\n",
    "y = [4,5,12,0]"
   ]
  },
  {
   "cell_type": "code",
   "execution_count": 2,
   "metadata": {},
   "outputs": [
    {
     "data": {
      "text/plain": [
       "[20, 35, -24, 0]"
      ]
     },
     "execution_count": 2,
     "metadata": {},
     "output_type": "execute_result"
    }
   ],
   "source": [
    "# Using a for loop\n",
    "product = []\n",
    "for i in range(len(x)):\n",
    "    product.append(x[i]*y[i])\n",
    "product\n",
    "# Out: [20, 35, -24, 0]"
   ]
  },
  {
   "cell_type": "code",
   "execution_count": 3,
   "metadata": {},
   "outputs": [
    {
     "data": {
      "text/plain": [
       "array([ 20,  35, -24,   0])"
      ]
     },
     "execution_count": 3,
     "metadata": {},
     "output_type": "execute_result"
    }
   ],
   "source": [
    "# Linear algebra version\n",
    "np.array(x)*np.array(y)\n",
    "# Out: array([ 20,  35, -24,   0])"
   ]
  },
  {
   "cell_type": "markdown",
   "metadata": {},
   "source": [
    "### Vectors\n",
    "A vector is essentially an ordered collection of numbers that are written in a column. Below are some examples of vectors\n",
    "\n",
    "#### Vector addition\n",
    "\n",
    "We can add two vectors as long as they have the same size. The operation is carried out component-wise.\n",
    "\n",
    "#### Vector multiplication by a scalar\n",
    "\n",
    "#### Vector Hadamard product\n",
    "\n",
    "Recall the multiplication of two vectors that we saw at the beginning of this unit. What we computed in that example is called the Hadamard product."
   ]
  },
  {
   "cell_type": "markdown",
   "metadata": {},
   "source": [
    "Let \n",
    "u =[1 4 3]\n",
    " and \n",
    "v=[0 −2 2]\n",
    ". Compute \n",
    "u⊙v\n",
    "and \n",
    "⟨u,v⟩\n"
   ]
  },
  {
   "cell_type": "code",
   "execution_count": 5,
   "metadata": {},
   "outputs": [],
   "source": [
    "u = [1,4,3]\n",
    "v = [0,-2,2]"
   ]
  },
  {
   "cell_type": "code",
   "execution_count": null,
   "metadata": {},
   "outputs": [],
   "source": []
  },
  {
   "cell_type": "code",
   "execution_count": 13,
   "metadata": {},
   "outputs": [
    {
     "data": {
      "text/plain": [
       "array([ 0, -8,  6])"
      ]
     },
     "execution_count": 13,
     "metadata": {},
     "output_type": "execute_result"
    }
   ],
   "source": [
    "np.array(u)*np.array(v)\n"
   ]
  },
  {
   "cell_type": "code",
   "execution_count": null,
   "metadata": {},
   "outputs": [],
   "source": [
    "inner_product = 0\n",
    "for i in range(len(u)):\n",
    "    inner_product += u[i]*v[i]\n",
    "inner_product"
   ]
  },
  {
   "cell_type": "markdown",
   "metadata": {},
   "source": [
    "### Matrices\n",
    "Notice the indexing that we use: \n",
    "a\n",
    "i\n",
    "j\n",
    " refers to the entry in row \n",
    "i\n",
    " and column \n",
    "j\n",
    ". We also say that \n",
    "A\n",
    " has \n",
    "m\n",
    " rows and \n",
    "n\n",
    " columns and we denote the dimension of \n",
    "A\n",
    " as \n",
    "(\n",
    "m\n",
    ",\n",
    "n\n",
    ")\n",
    ". We say two matrices have the same size if and only if they have the same number of rows and the same number of column. Moreover, two matrices are equal if and only if they have the same size and all entries at the same position are equal.\n",
    "\n",
    "#### Matrix addition and multiplication by a scalar\n",
    "#### Matrix transpose\n",
    "#### Matrix Hadamard product\n",
    "#### Matrix multiplication\n",
    "two matrices \n",
    "A\n",
    " and \n",
    "B\n",
    " can be multiplied together as \n",
    "A\n",
    "B\n",
    " if and only if the number of columns of \n",
    "A\n",
    " is the same as the number of rows of \n",
    "B\n",
    "\n",
    "the product \n",
    "A\n",
    "B\n",
    " of an \n",
    "m\n",
    "×\n",
    "n\n",
    " matrix \n",
    "A\n",
    " and an \n",
    "n\n",
    "×\n",
    "k\n",
    " matrix \n",
    "B\n",
    " is an \n",
    "m\n",
    "×\n",
    "k\n",
    " matrix."
   ]
  },
  {
   "cell_type": "code",
   "execution_count": 8,
   "metadata": {},
   "outputs": [
    {
     "data": {
      "text/plain": [
       "(3, 2)"
      ]
     },
     "execution_count": 8,
     "metadata": {},
     "output_type": "execute_result"
    }
   ],
   "source": [
    "A = np.array([[1,2],\n",
    "     [5,4],\n",
    "     [2,1]])\n",
    "\n",
    "A.shape"
   ]
  },
  {
   "cell_type": "code",
   "execution_count": null,
   "metadata": {},
   "outputs": [],
   "source": [
    "B = np.array([[1,2,0],\n",
    "     [5,4,7]])\n",
    "B.shape"
   ]
  },
  {
   "cell_type": "code",
   "execution_count": null,
   "metadata": {},
   "outputs": [],
   "source": [
    "### j'y arrive pas ??? produit matriciel ??\n",
    "\n",
    "matrix_product = []\n",
    "for i in range(len(A)):\n",
    "    for j in range(len(B[0])):\n",
    "        for k in range(len(A[0])):\n",
    "            element = A[j,i]*B[i,j]\n",
    "            element += A[i,k]*B[k,i]\n",
    "\n",
    "\n",
    "matrix_product"
   ]
  },
  {
   "cell_type": "markdown",
   "metadata": {},
   "source": [
    "Correction internet"
   ]
  },
  {
   "cell_type": "code",
   "execution_count": null,
   "metadata": {},
   "outputs": [],
   "source": [
    "def produitMatriciel(A, B):\n",
    "    n = len(A); p = len(A[0]);  q = len(B[0])\n",
    "    return [[sum([A[i][k]*B[k][j] for k in range(p)]) for j in range(q)] for i in range(n)]\n"
   ]
  },
  {
   "cell_type": "code",
   "execution_count": null,
   "metadata": {},
   "outputs": [],
   "source": [
    "produitMatriciel(A,B)"
   ]
  },
  {
   "cell_type": "code",
   "execution_count": null,
   "metadata": {},
   "outputs": [],
   "source": [
    "np.dot(A,B)"
   ]
  },
  {
   "cell_type": "markdown",
   "metadata": {},
   "source": [
    "### Matrices in NumPy"
   ]
  },
  {
   "cell_type": "code",
   "execution_count": null,
   "metadata": {},
   "outputs": [],
   "source": [
    "A =np.array([[1,2],[2,1]])"
   ]
  },
  {
   "cell_type": "code",
   "execution_count": null,
   "metadata": {},
   "outputs": [],
   "source": [
    "B =np.array([[1,5],[0,2]])"
   ]
  },
  {
   "cell_type": "code",
   "execution_count": null,
   "metadata": {},
   "outputs": [],
   "source": [
    "A+5*B"
   ]
  },
  {
   "cell_type": "code",
   "execution_count": null,
   "metadata": {},
   "outputs": [],
   "source": [
    "A*B"
   ]
  },
  {
   "cell_type": "code",
   "execution_count": null,
   "metadata": {},
   "outputs": [],
   "source": [
    "np.dot(A,B)"
   ]
  },
  {
   "cell_type": "code",
   "execution_count": null,
   "metadata": {},
   "outputs": [],
   "source": [
    "a = np.array([0, 1, 2])"
   ]
  },
  {
   "cell_type": "code",
   "execution_count": null,
   "metadata": {},
   "outputs": [],
   "source": [
    "a.T # aucune diff entre un vector et sa transposée"
   ]
  },
  {
   "cell_type": "code",
   "execution_count": null,
   "metadata": {},
   "outputs": [],
   "source": [
    "np.dot(a,a)"
   ]
  },
  {
   "cell_type": "code",
   "execution_count": null,
   "metadata": {},
   "outputs": [],
   "source": [
    "b = np.array([[0],[1],[2]])\n",
    "b"
   ]
  },
  {
   "cell_type": "code",
   "execution_count": null,
   "metadata": {},
   "outputs": [],
   "source": [
    "b.T"
   ]
  },
  {
   "cell_type": "code",
   "execution_count": null,
   "metadata": {},
   "outputs": [],
   "source": [
    "b.shape"
   ]
  },
  {
   "cell_type": "code",
   "execution_count": null,
   "metadata": {},
   "outputs": [],
   "source": [
    "b.T.shape"
   ]
  },
  {
   "cell_type": "code",
   "execution_count": null,
   "metadata": {},
   "outputs": [],
   "source": [
    "np.dot(b,b.T)"
   ]
  },
  {
   "cell_type": "code",
   "execution_count": null,
   "metadata": {},
   "outputs": [],
   "source": [
    "from IPython.display import Image\n",
    "Image(url= \"https://d7whxh71cqykp.cloudfront.net/uploads/image/data/3161/Screen_Shot_2017-12-02_at_7.23.32_PM.png\")"
   ]
  },
  {
   "cell_type": "code",
   "execution_count": null,
   "metadata": {},
   "outputs": [],
   "source": [
    "Image(url= \"https://d7whxh71cqykp.cloudfront.net/uploads/image/data/3162/Screen_Shot_2017-10-30_at_14.37.45.png\")"
   ]
  },
  {
   "cell_type": "code",
   "execution_count": null,
   "metadata": {},
   "outputs": [],
   "source": [
    "a = np.array([\n",
    " [0],\n",
    " [7]\n",
    "])\n",
    "b = np.array([\n",
    " [1,2],\n",
    " [0,6]\n",
    "])\n",
    "c = np.array([\n",
    " [2,2]\n",
    "])"
   ]
  },
  {
   "cell_type": "code",
   "execution_count": null,
   "metadata": {},
   "outputs": [],
   "source": [
    "a.shape\n",
    "#Out: (2,1)\n",
    "b.shape\n",
    "#Out: (2,2)\n",
    "c.shape\n",
    "#Out: (1,2)"
   ]
  },
  {
   "cell_type": "code",
   "execution_count": null,
   "metadata": {},
   "outputs": [],
   "source": [
    "a + c\n",
    "#Out: array([[2, 2],[9, 9]])"
   ]
  },
  {
   "cell_type": "code",
   "execution_count": null,
   "metadata": {},
   "outputs": [],
   "source": [
    "b+c"
   ]
  },
  {
   "cell_type": "markdown",
   "metadata": {},
   "source": [
    "Here is another example where broadcasting is more general than linear algebra. Suppose we wanted to compute the multiplication \n",
    "a\n",
    "∗\n",
    "b\n",
    ". This would not be possible with linear algebra since \n",
    "a\n",
    " has one column but \n",
    "b\n",
    " has two rows. However, they do satisfy the rules for broadcasting: \n",
    "a\n",
    " has one column, and the number of rows are equal. This means that \n",
    "a\n",
    " can be stretched horizontally and the multiplication is then performed element-wise again"
   ]
  },
  {
   "cell_type": "code",
   "execution_count": null,
   "metadata": {},
   "outputs": [],
   "source": [
    "a*b"
   ]
  },
  {
   "cell_type": "markdown",
   "metadata": {},
   "source": [
    "### The inverse of a matrix"
   ]
  },
  {
   "cell_type": "markdown",
   "metadata": {},
   "source": [
    "How do we know whether a matrix has an inverse or not? Well, there are many equivalent conditions that we can check. Below we will present one of them, which relies on a property of the matrix known as rank. In order to do this, we must first define the concept of linear independence.\n",
    "\n",
    "#### All matrices can not be inversed"
   ]
  },
  {
   "cell_type": "markdown",
   "metadata": {},
   "source": [
    "Linear independence\n",
    "Linear independence is a concept at the heart of linear algebra. We will present it here in the context of columns of a matrix, but the concept generalizes to many other applications.\n",
    "\n",
    "Let \n",
    "A\n",
    " be an \n",
    "m\n",
    "×\n",
    "n\n",
    " matrix and let \n",
    "a\n",
    "1\n",
    ",\n",
    "a\n",
    "2\n",
    ",\n",
    "⋯\n",
    ",\n",
    "a\n",
    "n\n",
    " denote the vectors corresponding to the columns of \n",
    "A\n",
    ". We say that the columns of \n",
    "A\n",
    " are linearly independent if the only solution to the equation\n",
    "\n",
    "c\n",
    "1\n",
    "a\n",
    "1\n",
    "+\n",
    "c\n",
    "2\n",
    "a\n",
    "2\n",
    "+\n",
    "c\n",
    "3\n",
    "a\n",
    "3\n",
    "+\n",
    "⋯\n",
    "+\n",
    "c\n",
    "n\n",
    "a\n",
    "n\n",
    "=\n",
    "0\n",
    "\n",
    "is \n",
    "c\n",
    "1\n",
    "=\n",
    "c\n",
    "2\n",
    "=\n",
    "⋯\n",
    "=\n",
    "c\n",
    "n\n",
    "=\n",
    "0\n",
    ".\n"
   ]
  },
  {
   "cell_type": "markdown",
   "metadata": {},
   "source": [
    "### The rank of a matrix"
   ]
  },
  {
   "cell_type": "markdown",
   "metadata": {},
   "source": [
    "You might have already noticed the pattern here. When the columns are linearly independent, the matrix is invertible, and when the columns are not linearly independent, the matrix is not invertible. And this is indeed the case. Actually, the maximum number of linearly independent columns of a matrix is known as the rank of the matrix and it is a concept that we encounter a lot in linear algebra. If all the columns are linearly independent, we say that the matrix has full rank. The following theorem confirms the pattern you have noticed with our matrices:\n",
    "\n",
    "#### Theorem A square matrix is invertible if and only if it has full rank."
   ]
  },
  {
   "cell_type": "markdown",
   "metadata": {},
   "source": [
    "### Application: solving linear equations\n",
    "One of the main uses of matrices and vectors is to provide a way to express and analyze systems of linear equations. A system of linear equations is just a set of one or more equations which involve unknowns whose values we want to solve."
   ]
  },
  {
   "cell_type": "markdown",
   "metadata": {},
   "source": [
    "## The linalg module in NumPy\n",
    "\n",
    "We already saw how we can define, add, and multiply matrices in NumPy. Now we will look at some more advanced functionality."
   ]
  },
  {
   "cell_type": "code",
   "execution_count": null,
   "metadata": {},
   "outputs": [],
   "source": [
    "A = np.array([[3,4],[2,3]])"
   ]
  },
  {
   "cell_type": "code",
   "execution_count": null,
   "metadata": {},
   "outputs": [],
   "source": [
    "A.T"
   ]
  },
  {
   "cell_type": "code",
   "execution_count": null,
   "metadata": {},
   "outputs": [],
   "source": [
    "np.linalg.inv(A)\n",
    "#Out: array([[ 3., -4.], [-2.,  3.]])"
   ]
  },
  {
   "cell_type": "code",
   "execution_count": null,
   "metadata": {},
   "outputs": [],
   "source": [
    "np.dot(A,np.linalg.inv(A))"
   ]
  },
  {
   "cell_type": "code",
   "execution_count": null,
   "metadata": {},
   "outputs": [],
   "source": [
    "np.linalg.matrix_rank(A)"
   ]
  },
  {
   "cell_type": "raw",
   "metadata": {},
   "source": [
    "B=np.array([[1,0],[0,0]])\n",
    "np.linalg.inv(B)\n",
    "#Out: LinAlgError: Singular matrix"
   ]
  },
  {
   "cell_type": "markdown",
   "metadata": {},
   "source": [
    "For invertible matrices, we can use NumPy to solve systems of linear equations of the form \n",
    "A\n",
    "x\n",
    "=\n",
    "b\n",
    ". Let's test this out by defining a vector \n",
    "b\n",
    "."
   ]
  },
  {
   "cell_type": "code",
   "execution_count": null,
   "metadata": {},
   "outputs": [],
   "source": [
    "b=np.array([[1],[2]])"
   ]
  },
  {
   "cell_type": "code",
   "execution_count": null,
   "metadata": {},
   "outputs": [],
   "source": [
    "b=np.array([1,2]) # Note that defining b as a one-dimensional array also works"
   ]
  },
  {
   "cell_type": "code",
   "execution_count": null,
   "metadata": {},
   "outputs": [],
   "source": [
    "x=np.linalg.solve(A,b)"
   ]
  },
  {
   "cell_type": "code",
   "execution_count": null,
   "metadata": {},
   "outputs": [],
   "source": [
    "x"
   ]
  },
  {
   "cell_type": "code",
   "execution_count": null,
   "metadata": {},
   "outputs": [],
   "source": [
    "np.dot(A,x)"
   ]
  },
  {
   "cell_type": "markdown",
   "metadata": {},
   "source": [
    "## 07. Exercise: solving a system of linear equations"
   ]
  },
  {
   "cell_type": "markdown",
   "metadata": {},
   "source": [
    "2\n",
    "x\n",
    "1\n",
    "+\n",
    "x\n",
    "2\n",
    "+\n",
    "x\n",
    "3\n",
    "=\n",
    "−\n",
    "1\n",
    "−\n",
    "5\n",
    "x\n",
    "1\n",
    "−\n",
    "3\n",
    "x\n",
    "2\n",
    "=\n",
    "1\n",
    "x\n",
    "1\n",
    "+\n",
    "x\n",
    "2\n",
    "−\n",
    "x\n",
    "3\n",
    "=\n",
    "−\n",
    "2\n"
   ]
  },
  {
   "cell_type": "code",
   "execution_count": null,
   "metadata": {},
   "outputs": [],
   "source": [
    "A = np.array([[2,1,1],[-5,-3,0],[1,1,-1]])\n",
    "A"
   ]
  },
  {
   "cell_type": "code",
   "execution_count": null,
   "metadata": {},
   "outputs": [],
   "source": [
    "b = np.array([-1,1,-2])\n",
    "b"
   ]
  },
  {
   "cell_type": "code",
   "execution_count": null,
   "metadata": {},
   "outputs": [],
   "source": [
    "np.linalg.matrix_rank(A)   # rang de A ==> inversible car = 3 et dim =3"
   ]
  },
  {
   "cell_type": "code",
   "execution_count": null,
   "metadata": {},
   "outputs": [],
   "source": [
    "np.linalg.inv(A)   #inverse A"
   ]
  },
  {
   "cell_type": "code",
   "execution_count": null,
   "metadata": {},
   "outputs": [],
   "source": [
    "np.dot(np.linalg.inv(A),b)   # j'utilise l'inverse pour résoudre"
   ]
  },
  {
   "cell_type": "code",
   "execution_count": null,
   "metadata": {},
   "outputs": [],
   "source": [
    "x= np.linalg.solve(A,b)   # j'utilise la fonction prévue pour résoudre\n",
    "x"
   ]
  },
  {
   "cell_type": "raw",
   "metadata": {},
   "source": [
    "A = np.array([[2,1,1],[-5,-3,0],[1,1,-1],[0,5,-1]])\n",
    "b = np.array([-1,1,-2,1])"
   ]
  },
  {
   "cell_type": "raw",
   "metadata": {},
   "source": [
    "x= np.linalg.solve(A,b)   # j'utilise la fonction prévue pour résoudre\n",
    "x"
   ]
  },
  {
   "cell_type": "markdown",
   "metadata": {},
   "source": [
    "#### ne fonctionne pas, car matrice non carrée !!!"
   ]
  },
  {
   "cell_type": "code",
   "execution_count": null,
   "metadata": {},
   "outputs": [],
   "source": []
  }
 ],
 "metadata": {
  "kernelspec": {
   "display_name": "Python 3",
   "language": "python",
   "name": "python3"
  },
  "language_info": {
   "codemirror_mode": {
    "name": "ipython",
    "version": 3
   },
   "file_extension": ".py",
   "mimetype": "text/x-python",
   "name": "python",
   "nbconvert_exporter": "python",
   "pygments_lexer": "ipython3",
   "version": "3.6.11"
  }
 },
 "nbformat": 4,
 "nbformat_minor": 4
}
