{
 "cells": [
  {
   "cell_type": "markdown",
   "metadata": {},
   "source": [
    "Huber Loss\n",
    "---"
   ]
  },
  {
   "cell_type": "code",
   "execution_count": null,
   "metadata": {},
   "outputs": [],
   "source": [
    "import pandas as pd\n",
    "from sklearn.preprocessing import scale\n",
    "\n",
    "# Load data\n",
    "data_df = pd.read_csv('marketing-outliers.csv')\n",
    "x = scale(data_df.tv.values) # SGDRegressor requires data to be rescaled\n",
    "y = data_df.sales.values"
   ]
  },
  {
   "cell_type": "code",
   "execution_count": null,
   "metadata": {},
   "outputs": [],
   "source": [
    "from sklearn.linear_model import SGDRegressor\n",
    "\n",
    "# Create a linear regression with Huber loss\n",
    "lr_huber = SGDRegressor(loss='huber', penalty='none', epsilon=1, max_iter=1000, tol=1e-3)"
   ]
  },
  {
   "cell_type": "code",
   "execution_count": null,
   "metadata": {},
   "outputs": [],
   "source": [
    "import numpy as np\n",
    "\n",
    "# Fit the model\n",
    "lr_huber.fit(x[:, np.newaxis], y);"
   ]
  },
  {
   "cell_type": "code",
   "execution_count": null,
   "metadata": {},
   "outputs": [],
   "source": [
    "# Print the slope of the line\n",
    "print('Slope:', lr_huber.coef_)\n",
    "\n",
    "# Print the intercept parameter\n",
    "print('Intercept term:', lr_huber.intercept_)"
   ]
  },
  {
   "cell_type": "code",
   "execution_count": null,
   "metadata": {},
   "outputs": [],
   "source": [
    "# Compute prediction line\n",
    "x_values = np.linspace(min(x), max(x), num=100)\n",
    "y_values_huber = lr_huber.predict(\n",
    "    x_values[:, np.newaxis]\n",
    ")"
   ]
  },
  {
   "cell_type": "code",
   "execution_count": null,
   "metadata": {},
   "outputs": [],
   "source": [
    "%matplotlib inline\n",
    "import matplotlib.pyplot as plt\n",
    "\n",
    "# Plot predictions\n",
    "plt.scatter(x, y)\n",
    "plt.plot(x_values, y_values_huber, c='C3', label='huber')\n",
    "plt.xlabel('tv budget - scaled')\n",
    "plt.ylabel('sales in thousands')\n",
    "plt.legend()\n",
    "plt.show()"
   ]
  },
  {
   "cell_type": "code",
   "execution_count": null,
   "metadata": {},
   "outputs": [],
   "source": [
    "# Create a linear regression with RSS loss\n",
    "lr_squared = SGDRegressor(loss='squared_loss', penalty='none', max_iter=1000, tol=1e-3)"
   ]
  },
  {
   "cell_type": "code",
   "execution_count": null,
   "metadata": {},
   "outputs": [],
   "source": [
    "# Fit the model\n",
    "lr_squared.fit(x[:, np.newaxis], y)\n",
    "\n",
    "# Compute prediction line\n",
    "y_values_squared = lr_squared.predict(x_values[:, np.newaxis])"
   ]
  },
  {
   "cell_type": "code",
   "execution_count": null,
   "metadata": {},
   "outputs": [],
   "source": [
    "# Linear regression without outliers\n",
    "coefs = np.polyfit(\n",
    "    x[:-5], y[:-5], # Filter outliers (the last five values)\n",
    "    deg=1\n",
    ")\n",
    "y_values_optimal = np.polyval(coefs, x_values)\n",
    "\n",
    "# Compare models\n",
    "plt.scatter(x, y)\n",
    "plt.plot(x_values, y_values_huber, c='C3', label='huber regression')\n",
    "plt.plot(x_values, y_values_squared, c='C2', label='squared_loss')\n",
    "plt.plot(x_values, y_values_optimal, c='C0', label='without outliers')\n",
    "plt.xlabel('tv budget - scaled')\n",
    "plt.ylabel('sales in thousands')\n",
    "plt.legend()\n",
    "plt.show()"
   ]
  },
  {
   "cell_type": "code",
   "execution_count": null,
   "metadata": {},
   "outputs": [],
   "source": [
    "from sklearn.linear_model import HuberRegressor\n",
    "\n",
    "# Create a linear regression with Huber loss\n",
    "lr_huber = HuberRegressor(epsilon=1.35)\n",
    "\n",
    "# Fit the model\n",
    "lr_huber.fit(x[:, np.newaxis], y);"
   ]
  },
  {
   "cell_type": "code",
   "execution_count": null,
   "metadata": {},
   "outputs": [],
   "source": [
    "# Fit a polynomial of degree 3\n",
    "X_poly = np.c_[x, x**2, x**3] # Feature engineering\n",
    "lr_huber.fit(X_poly, y)\n",
    "\n",
    "# Same with polyfit\n",
    "coefs = np.polyfit(x, y, deg=3)\n",
    "\n",
    "# Compute prediction line\n",
    "x_values = np.linspace(min(x), max(x), num=100)\n",
    "y_values_polyfit = np.polyval(coefs, x_values)\n",
    "y_values_huber = lr_huber.predict(\n",
    "    np.c_[x_values, x_values**2, x_values**3])\n",
    "\n",
    "# Plot it\n",
    "plt.scatter(x, y)\n",
    "plt.plot(x_values, y_values_polyfit, c='C2', label='polyfit(deg=3)')\n",
    "plt.plot(x_values, y_values_huber, c='C3', label='huber')\n",
    "plt.xlabel('tv budget - scaled')\n",
    "plt.ylabel('sales in thousands')\n",
    "plt.legend()\n",
    "plt.show()\n",
    "# You should see a \"robust\" poly. curve of degree 3\n",
    "# Challenge: compare the result with polyfit(deg=3)!"
   ]
  }
 ],
 "metadata": {
  "kernelspec": {
   "display_name": "Python 3",
   "language": "python",
   "name": "python3"
  },
  "language_info": {
   "codemirror_mode": {
    "name": "ipython",
    "version": 3
   },
   "file_extension": ".py",
   "mimetype": "text/x-python",
   "name": "python",
   "nbconvert_exporter": "python",
   "pygments_lexer": "ipython3",
   "version": "3.6.10"
  }
 },
 "nbformat": 4,
 "nbformat_minor": 4
}
