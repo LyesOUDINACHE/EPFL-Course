{
 "cells": [
  {
   "cell_type": "markdown",
   "metadata": {},
   "source": [
    "Consider the following experiment:\n",
    "\n",
    "Experiment 1: Draw the first marble at random, place it back into the bag, then draw the second marble at random.\n",
    "\n",
    "And suppose we defined the events:\n",
    "\n",
    "Event A: the first marble is red.\n",
    "Event B: the second marble is red\n",
    "What is the probability of the event \n",
    "A\n",
    "B\n",
    "? The key observation is that by returning the first marble to the bag we are essentially returning the bag to its original state. So the probability of drawing a red marble on the second draw is exactly the same as on the first draw, which is \n",
    "3\n",
    "/\n",
    "7\n",
    " because there are a total of 7 marbles and 3 of them are red. Hence we can compute the probability of the event \n",
    "A\n",
    "B\n",
    " as the product of the individual probabilities:"
   ]
  },
  {
   "cell_type": "code",
   "execution_count": 1,
   "metadata": {},
   "outputs": [],
   "source": [
    "import random"
   ]
  },
  {
   "cell_type": "code",
   "execution_count": 2,
   "metadata": {},
   "outputs": [],
   "source": [
    "bag = ['r','r','r','g','g','g','g']"
   ]
  },
  {
   "cell_type": "code",
   "execution_count": 3,
   "metadata": {},
   "outputs": [
    {
     "data": {
      "text/plain": [
       "1"
      ]
     },
     "execution_count": 3,
     "metadata": {},
     "output_type": "execute_result"
    }
   ],
   "source": [
    "random.randrange(len(bag))\n",
    "# returns a random value between 0 and 7 (exculding 7)"
   ]
  },
  {
   "cell_type": "code",
   "execution_count": 4,
   "metadata": {},
   "outputs": [
    {
     "data": {
      "text/plain": [
       "'g'"
      ]
     },
     "execution_count": 4,
     "metadata": {},
     "output_type": "execute_result"
    }
   ],
   "source": [
    "color1 = bag[random.randrange(len(bag))]\n",
    "color1"
   ]
  },
  {
   "cell_type": "code",
   "execution_count": 15,
   "metadata": {},
   "outputs": [
    {
     "data": {
      "text/plain": [
       "0.18419"
      ]
     },
     "execution_count": 15,
     "metadata": {},
     "output_type": "execute_result"
    }
   ],
   "source": [
    "import random\n",
    "\n",
    "bag = ['r','r','r','g','g','g','g']\n",
    "experiments = 100000\n",
    "counter = 0\n",
    "for i in range(experiments):\n",
    "    color1 = bag[random.randrange(len(bag))]\n",
    "    color2 = bag[random.randrange(len(bag))]\n",
    "    if color1=='r' and color2=='r':\n",
    "        counter += 1\n",
    "\n",
    "counter / experiments\n",
    "#outputs a value close to the expected value of 3/7 * 3/7, e.g. 0.18367"
   ]
  },
  {
   "cell_type": "markdown",
   "metadata": {},
   "source": [
    "Experiment 2: Draw the first marble at random, do not place it back into the bag, then draw the second marble at random."
   ]
  },
  {
   "cell_type": "code",
   "execution_count": null,
   "metadata": {},
   "outputs": [],
   "source": []
  },
  {
   "cell_type": "code",
   "execution_count": 18,
   "metadata": {},
   "outputs": [
    {
     "data": {
      "text/plain": [
       "0.14286"
      ]
     },
     "execution_count": 18,
     "metadata": {},
     "output_type": "execute_result"
    }
   ],
   "source": [
    "import random\n",
    "\n",
    "bag = ['r','r','r','g','g','g','g']\n",
    "experiments = 100000\n",
    "counter = 0\n",
    "for i in range(experiments):\n",
    "    color1 = bag[random.randrange(len(bag))]\n",
    "    # let's remove the marble from the bag\n",
    "    bag.remove(color1)\n",
    "    color2 = bag[random.randrange(len(bag))]\n",
    "    if color1=='r' and color2=='r':\n",
    "        counter += 1\n",
    "    # let's put the first marble back for the next experiment!\n",
    "    bag.append(color1)\n",
    "\n",
    "counter / experiments\n",
    "#outputs a value close to the expected value of, e.g. 0.1407"
   ]
  },
  {
   "cell_type": "markdown",
   "metadata": {},
   "source": [
    "#### Conditional probability\n",
    "Conditional probability is about computing the probability of an event when there is some extra information, typically of the type that something else happened before. Extra information can change the outcome space of our event. Consider our previous example of the bag of marbles with 4 gray marbles and 3 red marbles where we are drawing the marbles without replacing (experiment 2).\n",
    "\n",
    "Probabilité de B sachant A...\n",
    "\n",
    "\n",
    "Puis calcul de l'espérance (Expectation)\n"
   ]
  },
  {
   "cell_type": "code",
   "execution_count": 20,
   "metadata": {},
   "outputs": [
    {
     "data": {
      "text/plain": [
       "1.5095"
      ]
     },
     "execution_count": 20,
     "metadata": {},
     "output_type": "execute_result"
    }
   ],
   "source": [
    "## That was probably quite intuitive for you to solve. But if not, you can use the following python codes to tune your intuition. Let's first implement the experiment where you toss the coin three times, and would like to know how often tails comes up:\n",
    "\n",
    "import random\n",
    "\n",
    "import random\n",
    "\n",
    "outcome_space = ['H','T']\n",
    "experiments = 10000\n",
    "tails = 0\n",
    "for i in range(experiments):\n",
    "    for toss in range(3):\n",
    "        result = outcome_space[random.randrange(len(outcome_space))]\n",
    "        if result=='T':\n",
    "            tails += 1\n",
    "\n",
    "tails / experiments\n",
    "# a value very close to 1.5, e.g. 1.501"
   ]
  },
  {
   "cell_type": "markdown",
   "metadata": {},
   "source": [
    "Now let's toss a coin until heads comes up:"
   ]
  },
  {
   "cell_type": "code",
   "execution_count": 26,
   "metadata": {},
   "outputs": [
    {
     "data": {
      "text/plain": [
       "1.9951"
      ]
     },
     "execution_count": 26,
     "metadata": {},
     "output_type": "execute_result"
    }
   ],
   "source": [
    "import random\n",
    "\n",
    "outcome_space = ['H','T']\n",
    "experiments = 10000\n",
    "trials = 0\n",
    "for i in range(experiments):\n",
    "    seen_heads = False\n",
    "    while not seen_heads:\n",
    "        trials += 1\n",
    "        result = outcome_space[random.randrange(len(outcome_space))]\n",
    "        if result=='H': \n",
    "            break\n",
    "\n",
    "trials / experiments\n",
    "\n",
    "# a value very close to 2, e.g. 2.0059"
   ]
  },
  {
   "cell_type": "markdown",
   "metadata": {},
   "source": [
    "Linearity of expectation\n",
    "One of the really nice things about expectation is that it has the property of linearity. For any random variables \n",
    "X\n",
    " and \n",
    "Y\n",
    " and constants \n",
    "c\n",
    "1\n",
    ",\n",
    "c\n",
    "2\n",
    " we have"
   ]
  },
  {
   "cell_type": "markdown",
   "metadata": {},
   "source": [
    "E\n",
    "(\n",
    "c\n",
    "1\n",
    "X\n",
    "+\n",
    "c\n",
    "2\n",
    "Y\n",
    ")\n",
    "=\n",
    "c\n",
    "1\n",
    "E\n",
    "(\n",
    "X\n",
    ")\n",
    "+\n",
    "c\n",
    "2\n",
    "E\n",
    "(\n",
    "Y\n",
    ")"
   ]
  },
  {
   "cell_type": "code",
   "execution_count": 41,
   "metadata": {},
   "outputs": [
    {
     "data": {
      "text/plain": [
       "1.003"
      ]
     },
     "execution_count": 41,
     "metadata": {},
     "output_type": "execute_result"
    }
   ],
   "source": [
    "import random\n",
    "\n",
    "experiments = 10000\n",
    "proper_hats = 0\n",
    "men = list(range(50))\n",
    "for i in range(experiments):\n",
    "    hats = list(range(len(men)))\n",
    "    for man in men:\n",
    "        hat = hats[random.randrange(len(hats))]\n",
    "        if man == hat:\n",
    "            proper_hats += 1\n",
    "        hats.remove(hat)\n",
    "\n",
    "proper_hats / experiments\n",
    "# output will be a value close to 1, e.g. 0.9866"
   ]
  },
  {
   "cell_type": "markdown",
   "metadata": {},
   "source": [
    "#### Binomial Distribution"
   ]
  },
  {
   "cell_type": "code",
   "execution_count": 42,
   "metadata": {},
   "outputs": [
    {
     "data": {
      "text/plain": [
       "0.045"
      ]
     },
     "execution_count": 42,
     "metadata": {},
     "output_type": "execute_result"
    }
   ],
   "source": [
    "import random\n",
    "\n",
    "experiments = 10000\n",
    "experiments_k2 = 0\n",
    "coinflips = 10\n",
    "for i in range(experiments):\n",
    "    heads = 0\n",
    "    for flip in range(coinflips):\n",
    "        if random.random() < 0.5:\n",
    "            heads += 1\n",
    "    if heads == 2:\n",
    "        experiments_k2 += 1\n",
    "\n",
    "experiments_k2 / experiments\n",
    "# outputs a number close to 0.0439453125, e.g 0.0452\n"
   ]
  },
  {
   "cell_type": "markdown",
   "metadata": {},
   "source": [
    "P\n",
    "(\n",
    "X\n",
    "=\n",
    "k\n",
    ")\n",
    "=\n",
    "(\n",
    "n\n",
    "k\n",
    ")\n",
    "p\n",
    "k\n",
    "(\n",
    "1\n",
    "−\n",
    "p\n",
    ")\n",
    "n\n",
    "−\n",
    "k"
   ]
  },
  {
   "cell_type": "markdown",
   "metadata": {},
   "source": [
    " In summary, a random variable \n",
    "X\n",
    " is binomially distributed with parameters \n",
    "n\n",
    " and \n",
    "p\n",
    " if\n",
    "\n",
    "\n",
    "X is the number of success in n trials\n",
    "\n",
    "each trial has a probability of success equal to P\n",
    "\n",
    "the trials are independent"
   ]
  },
  {
   "cell_type": "markdown",
   "metadata": {},
   "source": [
    "#### Uniform Distribution\n",
    "Another type of discrete distribution that we have already seen is the uniform distribution that describes a random variable where every outcome is equally likely. For example, when we roll a dice, the possible outcomes are \n",
    "1\n",
    " to \n",
    "6\n",
    ", and each of those happens with a probability of \n",
    "1\n",
    "/\n",
    "6\n",
    ". "
   ]
  },
  {
   "cell_type": "code",
   "execution_count": 52,
   "metadata": {},
   "outputs": [
    {
     "data": {
      "text/plain": [
       "3.4885"
      ]
     },
     "execution_count": 52,
     "metadata": {},
     "output_type": "execute_result"
    }
   ],
   "source": [
    "import random\n",
    "\n",
    "experiments = 10000\n",
    "dices_value = 0\n",
    "dice = list(range(1,7))\n",
    "for i in range(experiments):\n",
    "        value = dice[random.randrange(len(dice))]\n",
    "        dices_value += value\n",
    "\n",
    "\n",
    "dices_value / experiments\n",
    "\n"
   ]
  },
  {
   "cell_type": "markdown",
   "metadata": {},
   "source": [
    "For the example of our dice roll, this formula gives us an expected value of \n",
    "(\n",
    "1\n",
    "+\n",
    "6\n",
    ")\n",
    "/\n",
    "2\n",
    "=\n",
    "3.5\n",
    ", meaning that if we repeat the dice roll enough times and take the average of the recorded outcomes, we would expect this to be near \n",
    "3.5\n",
    "."
   ]
  },
  {
   "cell_type": "markdown",
   "metadata": {},
   "source": [
    "#### Geometric Distribution\n",
    "The final type of distribution we will mention here is the geometric distribution. Let's look at the example of the coin toss, where we have a coin that shows heads with probability \n",
    "p\n",
    " for some parameter \n",
    "0\n",
    "<\n",
    "p\n",
    "≤\n",
    "1\n",
    ". Now suppose we toss this coin as many times as necessary until we get our first head. Let \n",
    "X\n",
    " be the number of coin tosses up to and including the first success (a head). We can phrase this more generally as a series of independent trials, each of which has a probability \n",
    "p\n",
    " to succeed. How many trials \n",
    "X\n",
    " do we need to reach the first success?"
   ]
  },
  {
   "cell_type": "markdown",
   "metadata": {},
   "source": [
    "#### Normal Distribution"
   ]
  },
  {
   "cell_type": "markdown",
   "metadata": {},
   "source": [
    "A random variable \n",
    "X\n",
    " has the normal distribution with parameters mean \n",
    "μ\n",
    " and variance \n",
    "σ\n",
    "2\n",
    " if it has the density function\n",
    "\n",
    "f\n",
    "(\n",
    "x\n",
    ")\n",
    "=\n",
    "1 /\n",
    "√\n",
    "2\n",
    "π\n",
    "σ\n",
    "2\n",
    "e\n",
    "−\n",
    "(\n",
    "x\n",
    "−\n",
    "μ\n",
    ")\n",
    "2\n",
    "2\n",
    "σ\n",
    "2\n",
    "Now, this is a complicated formula to look at, but let's try to get some intuition about what the normal distribution really is. Perhaps the best way to do this is to take a visual look at the probability density functions. In the diagram below, we have two different examples of the probability density function with different expected values \n",
    "μ\n",
    " and standard deviation \n",
    "σ\n",
    "."
   ]
  },
  {
   "cell_type": "code",
   "execution_count": 54,
   "metadata": {},
   "outputs": [
    {
     "data": {
      "text/html": [
       "<img src=\"https://d7whxh71cqykp.cloudfront.net/uploads/image/data/3068/Screen_Shot_2017-10-19_at_15.25.45.png\"/>"
      ],
      "text/plain": [
       "<IPython.core.display.Image object>"
      ]
     },
     "execution_count": 54,
     "metadata": {},
     "output_type": "execute_result"
    }
   ],
   "source": [
    "from IPython.display import Image\n",
    "Image(url= \"https://d7whxh71cqykp.cloudfront.net/uploads/image/data/3068/Screen_Shot_2017-10-19_at_15.25.45.png\")"
   ]
  },
  {
   "cell_type": "markdown",
   "metadata": {},
   "source": [
    "But what happens when we want to model data sets that are not necessarily \"normal\"? This is where the central limit theorem comes in. Roughly speaking, the central limit theorem tells us that if we have a sufficiently large number of randomly selected samples from a data set, the means of these samples will follow a normal distribution even if the data set itself that we are sampling is not normally distributed."
   ]
  },
  {
   "cell_type": "code",
   "execution_count": 57,
   "metadata": {},
   "outputs": [
    {
     "data": {
      "image/png": "[encoded data removed]",
      "text/plain": [
       "<Figure size 432x288 with 1 Axes>"
      ]
     },
     "metadata": {
      "needs_background": "light"
     },
     "output_type": "display_data"
    }
   ],
   "source": [
    "import matplotlib.pyplot as plt\n",
    "%matplotlib inline\n",
    "import random\n",
    "import numpy as np\n",
    "\n",
    "# fill a list with 100,000 random numbers between 0 and 1\n",
    "random_numbers = [random.random() for i in range(100000)] \n",
    "#plot to show that numbers are not normaly distributed\n",
    "plt.hist(random_numbers,bins=np.linspace(0,1,101));\n"
   ]
  },
  {
   "cell_type": "code",
   "execution_count": 62,
   "metadata": {},
   "outputs": [
    {
     "data": {
      "image/png": "[encoded data removed]",
      "text/plain": [
       "<Figure size 432x288 with 1 Axes>"
      ]
     },
     "metadata": {
      "needs_background": "light"
     },
     "output_type": "display_data"
    }
   ],
   "source": [
    "means = []\n",
    "samplesize = 20\n",
    "experiments = 100000\n",
    "for i in range(experiments):\n",
    "    total = 0\n",
    "    for ii in range(samplesize):\n",
    "        total += random.random()\n",
    "    mean = total / samplesize\n",
    "    means.append(mean)\n",
    "\n",
    "plt.hist(means,bins=np.linspace(0,1,101));\n"
   ]
  },
  {
   "cell_type": "markdown",
   "metadata": {},
   "source": [
    "QED! Indeed, the distribution of the means is a normal distribution, even though the original numbers come from a uniform distribution. That is exactly what the central limit theorem is saying."
   ]
  },
  {
   "cell_type": "markdown",
   "metadata": {},
   "source": [
    "### 08. Using statistical libraries"
   ]
  },
  {
   "cell_type": "code",
   "execution_count": 64,
   "metadata": {},
   "outputs": [],
   "source": [
    "%matplotlib inline\n",
    "import numpy as np\n",
    "import pandas as pd\n",
    "import matplotlib.pyplot as plt\n",
    "import scipy.stats as stats"
   ]
  },
  {
   "cell_type": "markdown",
   "metadata": {},
   "source": [
    "In Our case, we are interested in the uniform distribution, since each of the six outcomes is equally likely when throwing a dice. We can generate a set of uniformly distributed values using the stats.uniform.rvs()"
   ]
  },
  {
   "cell_type": "code",
   "execution_count": 65,
   "metadata": {},
   "outputs": [
    {
     "data": {
      "text/plain": [
       "array([5, 1, 2, ..., 5, 2, 4])"
      ]
     },
     "execution_count": 65,
     "metadata": {},
     "output_type": "execute_result"
    }
   ],
   "source": [
    "uniform_data = stats.uniform.rvs(\n",
    "    size=10000, # Number of points\n",
    "    loc=1, # lower limit\n",
    "    scale=6 # upper limit\n",
    ").astype(int) # Make sure to get integer values\n",
    "\n",
    "uniform_data"
   ]
  },
  {
   "cell_type": "code",
   "execution_count": 66,
   "metadata": {},
   "outputs": [
    {
     "data": {
      "image/png": "[encoded data removed]",
      "text/plain": [
       "<Figure size 432x288 with 1 Axes>"
      ]
     },
     "metadata": {
      "needs_background": "light"
     },
     "output_type": "display_data"
    }
   ],
   "source": [
    "plt.hist(uniform_data, bins=6)\n",
    "plt.show()"
   ]
  },
  {
   "cell_type": "markdown",
   "metadata": {},
   "source": [
    "So we can see that as expected, we get about the same number of each outcome. Now suppose we wanted to study the average of every five die rolls. To do this, let's first define an array which holds the sums.\n",
    "\n",
    "We can do this in many ways in Python, one of them is by using the np.add.reduceat function from Numpy which allows us to take running sums of successive values."
   ]
  },
  {
   "cell_type": "code",
   "execution_count": 97,
   "metadata": {},
   "outputs": [
    {
     "name": "stdout",
     "output_type": "stream",
     "text": [
      "[   0    5   10 ... 9985 9990 9995]\n",
      "2000\n",
      "[18 19 18 ... 12 12 19]\n",
      "2000\n"
     ]
    },
    {
     "data": {
      "image/png": "[encoded data removed]",
      "text/plain": [
       "<Figure size 432x288 with 1 Axes>"
      ]
     },
     "metadata": {
      "needs_background": "light"
     },
     "output_type": "display_data"
    }
   ],
   "source": [
    "indexes = np.arange(0, 10000, 5)\n",
    "print(indexes) # [0 5 10 ... 9985 9990 9995]\n",
    "print(len(indexes)) # 2000\n",
    "\n",
    "sums = np.add.reduceat(uniform_data, indexes)\n",
    "print(sums) # [20 21 13 ... 21 15 10]\n",
    "print(len(sums)) # 2000\n",
    "plt.hist(sums,bins=np.linspace(5,30,25)); # afficher graph de distribution de la somme des 5 dés"
   ]
  },
  {
   "cell_type": "code",
   "execution_count": 96,
   "metadata": {},
   "outputs": [
    {
     "data": {
      "text/plain": [
       "3.4978999999999996"
      ]
     },
     "execution_count": 96,
     "metadata": {},
     "output_type": "execute_result"
    }
   ],
   "source": [
    "np.mean(sums/5) # around 3.5"
   ]
  },
  {
   "cell_type": "code",
   "execution_count": null,
   "metadata": {},
   "outputs": [],
   "source": []
  },
  {
   "cell_type": "code",
   "execution_count": null,
   "metadata": {},
   "outputs": [],
   "source": []
  }
 ],
 "metadata": {
  "kernelspec": {
   "display_name": "Python 3",
   "language": "python",
   "name": "python3"
  },
  "language_info": {
   "codemirror_mode": {
    "name": "ipython",
    "version": 3
   },
   "file_extension": ".py",
   "mimetype": "text/x-python",
   "name": "python",
   "nbconvert_exporter": "python",
   "pygments_lexer": "ipython3",
   "version": "3.6.11"
  }
 },
 "nbformat": 4,
 "nbformat_minor": 4
}
