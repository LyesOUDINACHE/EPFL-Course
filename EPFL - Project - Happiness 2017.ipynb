{
 "cells": [
  {
   "cell_type": "markdown",
   "metadata": {},
   "source": [
    "# Objective of the Analysis\n",
    "---------\n",
    "\n",
    "We will use Panda, Numpy and Seaborn to analyse data, find correlations or at least connections between a Happiness \"subjective feeling\" and more quantitative data like :\n",
    "- Economy\n",
    "- Family\n",
    "- Health\n",
    "- Freedom\n",
    "- Generosity\n",
    "- Corruption\n",
    "- Dystopia\n",
    "- Job Satisfaction\n",
    "\n",
    "I will comment on this analysis at each step and give some hypothesis, insights of what we can see or what we can deepen later on."
   ]
  },
  {
   "cell_type": "markdown",
   "metadata": {},
   "source": [
    "# A. Importing, cleaning and numerical summaries\n",
    "-------------------"
   ]
  },
  {
   "cell_type": "code",
   "execution_count": 1,
   "metadata": {},
   "outputs": [],
   "source": [
    "import pandas as pd\n",
    "import numpy as np"
   ]
  },
  {
   "cell_type": "code",
   "execution_count": 2,
   "metadata": {},
   "outputs": [
    {
     "data": {
      "text/html": [
       "<div>\n",
       "<style scoped>\n",
       "    .dataframe tbody tr th:only-of-type {\n",
       "        vertical-align: middle;\n",
       "    }\n",
       "\n",
       "    .dataframe tbody tr th {\n",
       "        vertical-align: top;\n",
       "    }\n",
       "\n",
       "    .dataframe thead th {\n",
       "        text-align: right;\n",
       "    }\n",
       "</style>\n",
       "<table border=\"1\" class=\"dataframe\">\n",
       "  <thead>\n",
       "    <tr style=\"text-align: right;\">\n",
       "      <th></th>\n",
       "      <th>Country</th>\n",
       "      <th>Happiness Rank</th>\n",
       "      <th>Happiness Score</th>\n",
       "      <th>Economy</th>\n",
       "      <th>Family</th>\n",
       "      <th>Health</th>\n",
       "      <th>Freedom</th>\n",
       "      <th>Generosity</th>\n",
       "      <th>Corruption</th>\n",
       "      <th>Dystopia</th>\n",
       "      <th>Job Satisfaction</th>\n",
       "      <th>Region</th>\n",
       "    </tr>\n",
       "  </thead>\n",
       "  <tbody>\n",
       "    <tr>\n",
       "      <th>0</th>\n",
       "      <td>Malta</td>\n",
       "      <td>27</td>\n",
       "      <td>6.527</td>\n",
       "      <td>1.343280</td>\n",
       "      <td>1.488412</td>\n",
       "      <td>0.821944</td>\n",
       "      <td>0.588767</td>\n",
       "      <td>0.574731</td>\n",
       "      <td>0.153066</td>\n",
       "      <td>1.556863</td>\n",
       "      <td>85.2</td>\n",
       "      <td>Western Europe</td>\n",
       "    </tr>\n",
       "    <tr>\n",
       "      <th>1</th>\n",
       "      <td>Zimbabwe</td>\n",
       "      <td>138</td>\n",
       "      <td>3.875</td>\n",
       "      <td>0.375847</td>\n",
       "      <td>1.083096</td>\n",
       "      <td>0.196764</td>\n",
       "      <td>0.336384</td>\n",
       "      <td>0.189143</td>\n",
       "      <td>0.095375</td>\n",
       "      <td>1.597970</td>\n",
       "      <td>56.3</td>\n",
       "      <td>Africa</td>\n",
       "    </tr>\n",
       "    <tr>\n",
       "      <th>2</th>\n",
       "      <td>Cyprus</td>\n",
       "      <td>65</td>\n",
       "      <td>5.621</td>\n",
       "      <td>1.355938</td>\n",
       "      <td>1.131363</td>\n",
       "      <td>0.844715</td>\n",
       "      <td>0.355112</td>\n",
       "      <td>0.271254</td>\n",
       "      <td>0.041238</td>\n",
       "      <td>1.621249</td>\n",
       "      <td>88.7</td>\n",
       "      <td>Eastern Europe</td>\n",
       "    </tr>\n",
       "  </tbody>\n",
       "</table>\n",
       "</div>"
      ],
      "text/plain": [
       "    Country  Happiness Rank  Happiness Score   Economy    Family    Health  \\\n",
       "0     Malta              27            6.527  1.343280  1.488412  0.821944   \n",
       "1  Zimbabwe             138            3.875  0.375847  1.083096  0.196764   \n",
       "2    Cyprus              65            5.621  1.355938  1.131363  0.844715   \n",
       "\n",
       "    Freedom  Generosity  Corruption  Dystopia  Job Satisfaction  \\\n",
       "0  0.588767    0.574731    0.153066  1.556863              85.2   \n",
       "1  0.336384    0.189143    0.095375  1.597970              56.3   \n",
       "2  0.355112    0.271254    0.041238  1.621249              88.7   \n",
       "\n",
       "           Region  \n",
       "0  Western Europe  \n",
       "1          Africa  \n",
       "2  Eastern Europe  "
      ]
     },
     "execution_count": 2,
     "metadata": {},
     "output_type": "execute_result"
    }
   ],
   "source": [
    "df = pd.read_csv('data.csv')\n",
    "df[0:3] #display a portion of dataset to check if properly loaded"
   ]
  },
  {
   "cell_type": "code",
   "execution_count": 3,
   "metadata": {},
   "outputs": [
    {
     "data": {
      "text/plain": [
       "Index(['Country', 'Happiness Rank', 'Happiness Score', 'Economy', 'Family',\n",
       "       'Health', 'Freedom', 'Generosity', 'Corruption', 'Dystopia',\n",
       "       'Job Satisfaction', 'Region'],\n",
       "      dtype='object')"
      ]
     },
     "execution_count": 3,
     "metadata": {},
     "output_type": "execute_result"
    }
   ],
   "source": [
    "df.columns"
   ]
  },
  {
   "cell_type": "code",
   "execution_count": 4,
   "metadata": {},
   "outputs": [
    {
     "name": "stdout",
     "output_type": "stream",
     "text": [
      "<class 'pandas.core.frame.DataFrame'>\n",
      "RangeIndex: 153 entries, 0 to 152\n",
      "Data columns (total 12 columns):\n",
      "Country             153 non-null object\n",
      "Happiness Rank      153 non-null int64\n",
      "Happiness Score     153 non-null float64\n",
      "Economy             153 non-null float64\n",
      "Family              153 non-null float64\n",
      "Health              153 non-null float64\n",
      "Freedom             153 non-null float64\n",
      "Generosity          153 non-null float64\n",
      "Corruption          153 non-null float64\n",
      "Dystopia            153 non-null float64\n",
      "Job Satisfaction    151 non-null float64\n",
      "Region              153 non-null object\n",
      "dtypes: float64(9), int64(1), object(2)\n",
      "memory usage: 14.4+ KB\n"
     ]
    }
   ],
   "source": [
    "df.info()"
   ]
  },
  {
   "cell_type": "markdown",
   "metadata": {},
   "source": [
    "### What can we say ?\n",
    "We can see that, 10 are numerical data. 9 out of 12  are floats + 1 is integer (obviously the ranking). \n",
    "Those columns can be used with the \"describe\" function to have a better idea of the dataset, with mean, minimum and maximum value for all those.\n",
    "\n",
    "Region and Country are logically \"objects\", more specifically strings"
   ]
  },
  {
   "cell_type": "code",
   "execution_count": 5,
   "metadata": {},
   "outputs": [
    {
     "data": {
      "text/html": [
       "<div>\n",
       "<style scoped>\n",
       "    .dataframe tbody tr th:only-of-type {\n",
       "        vertical-align: middle;\n",
       "    }\n",
       "\n",
       "    .dataframe tbody tr th {\n",
       "        vertical-align: top;\n",
       "    }\n",
       "\n",
       "    .dataframe thead th {\n",
       "        text-align: right;\n",
       "    }\n",
       "</style>\n",
       "<table border=\"1\" class=\"dataframe\">\n",
       "  <thead>\n",
       "    <tr style=\"text-align: right;\">\n",
       "      <th></th>\n",
       "      <th>Happiness Rank</th>\n",
       "      <th>Happiness Score</th>\n",
       "      <th>Economy</th>\n",
       "      <th>Family</th>\n",
       "      <th>Health</th>\n",
       "      <th>Freedom</th>\n",
       "      <th>Generosity</th>\n",
       "      <th>Corruption</th>\n",
       "      <th>Dystopia</th>\n",
       "      <th>Job Satisfaction</th>\n",
       "    </tr>\n",
       "  </thead>\n",
       "  <tbody>\n",
       "    <tr>\n",
       "      <th>count</th>\n",
       "      <td>153.000000</td>\n",
       "      <td>153.000000</td>\n",
       "      <td>153.000000</td>\n",
       "      <td>153.000000</td>\n",
       "      <td>153.000000</td>\n",
       "      <td>153.000000</td>\n",
       "      <td>153.000000</td>\n",
       "      <td>153.000000</td>\n",
       "      <td>153.000000</td>\n",
       "      <td>151.000000</td>\n",
       "    </tr>\n",
       "    <tr>\n",
       "      <th>mean</th>\n",
       "      <td>78.169935</td>\n",
       "      <td>5.349281</td>\n",
       "      <td>0.982433</td>\n",
       "      <td>1.186630</td>\n",
       "      <td>0.550117</td>\n",
       "      <td>0.408489</td>\n",
       "      <td>0.245324</td>\n",
       "      <td>0.123179</td>\n",
       "      <td>1.853072</td>\n",
       "      <td>75.209934</td>\n",
       "    </tr>\n",
       "    <tr>\n",
       "      <th>std</th>\n",
       "      <td>45.008741</td>\n",
       "      <td>1.134997</td>\n",
       "      <td>0.421901</td>\n",
       "      <td>0.288441</td>\n",
       "      <td>0.237769</td>\n",
       "      <td>0.150744</td>\n",
       "      <td>0.134395</td>\n",
       "      <td>0.102133</td>\n",
       "      <td>0.499490</td>\n",
       "      <td>12.962365</td>\n",
       "    </tr>\n",
       "    <tr>\n",
       "      <th>min</th>\n",
       "      <td>1.000000</td>\n",
       "      <td>2.693000</td>\n",
       "      <td>0.000000</td>\n",
       "      <td>0.000000</td>\n",
       "      <td>0.000000</td>\n",
       "      <td>0.000000</td>\n",
       "      <td>0.000000</td>\n",
       "      <td>0.000000</td>\n",
       "      <td>0.377914</td>\n",
       "      <td>44.400000</td>\n",
       "    </tr>\n",
       "    <tr>\n",
       "      <th>25%</th>\n",
       "      <td>40.000000</td>\n",
       "      <td>4.497000</td>\n",
       "      <td>0.659517</td>\n",
       "      <td>1.041990</td>\n",
       "      <td>0.364509</td>\n",
       "      <td>0.300741</td>\n",
       "      <td>0.153075</td>\n",
       "      <td>0.057070</td>\n",
       "      <td>1.597970</td>\n",
       "      <td>68.950000</td>\n",
       "    </tr>\n",
       "    <tr>\n",
       "      <th>50%</th>\n",
       "      <td>78.000000</td>\n",
       "      <td>5.279000</td>\n",
       "      <td>1.064578</td>\n",
       "      <td>1.251826</td>\n",
       "      <td>0.606042</td>\n",
       "      <td>0.437454</td>\n",
       "      <td>0.231503</td>\n",
       "      <td>0.089848</td>\n",
       "      <td>1.832910</td>\n",
       "      <td>78.100000</td>\n",
       "    </tr>\n",
       "    <tr>\n",
       "      <th>75%</th>\n",
       "      <td>117.000000</td>\n",
       "      <td>6.098000</td>\n",
       "      <td>1.315175</td>\n",
       "      <td>1.416404</td>\n",
       "      <td>0.719217</td>\n",
       "      <td>0.518631</td>\n",
       "      <td>0.322228</td>\n",
       "      <td>0.153066</td>\n",
       "      <td>2.150801</td>\n",
       "      <td>85.100000</td>\n",
       "    </tr>\n",
       "    <tr>\n",
       "      <th>max</th>\n",
       "      <td>155.000000</td>\n",
       "      <td>7.537000</td>\n",
       "      <td>1.870766</td>\n",
       "      <td>1.610574</td>\n",
       "      <td>0.949492</td>\n",
       "      <td>0.658249</td>\n",
       "      <td>0.838075</td>\n",
       "      <td>0.464308</td>\n",
       "      <td>3.117485</td>\n",
       "      <td>95.100000</td>\n",
       "    </tr>\n",
       "  </tbody>\n",
       "</table>\n",
       "</div>"
      ],
      "text/plain": [
       "       Happiness Rank  Happiness Score     Economy      Family      Health  \\\n",
       "count      153.000000       153.000000  153.000000  153.000000  153.000000   \n",
       "mean        78.169935         5.349281    0.982433    1.186630    0.550117   \n",
       "std         45.008741         1.134997    0.421901    0.288441    0.237769   \n",
       "min          1.000000         2.693000    0.000000    0.000000    0.000000   \n",
       "25%         40.000000         4.497000    0.659517    1.041990    0.364509   \n",
       "50%         78.000000         5.279000    1.064578    1.251826    0.606042   \n",
       "75%        117.000000         6.098000    1.315175    1.416404    0.719217   \n",
       "max        155.000000         7.537000    1.870766    1.610574    0.949492   \n",
       "\n",
       "          Freedom  Generosity  Corruption    Dystopia  Job Satisfaction  \n",
       "count  153.000000  153.000000  153.000000  153.000000        151.000000  \n",
       "mean     0.408489    0.245324    0.123179    1.853072         75.209934  \n",
       "std      0.150744    0.134395    0.102133    0.499490         12.962365  \n",
       "min      0.000000    0.000000    0.000000    0.377914         44.400000  \n",
       "25%      0.300741    0.153075    0.057070    1.597970         68.950000  \n",
       "50%      0.437454    0.231503    0.089848    1.832910         78.100000  \n",
       "75%      0.518631    0.322228    0.153066    2.150801         85.100000  \n",
       "max      0.658249    0.838075    0.464308    3.117485         95.100000  "
      ]
     },
     "execution_count": 5,
     "metadata": {},
     "output_type": "execute_result"
    }
   ],
   "source": [
    "df.describe()"
   ]
  },
  {
   "cell_type": "markdown",
   "metadata": {},
   "source": [
    "### First look at the data :\n",
    "\n",
    "It seems to have 153 lines for most of data except Job Satisfaction (possibly missing 2)\n",
    "\n",
    "We can also notice that the max Happiness Rank is 155, which should not be possible with \"only\" 153 countries in the dataset. We will check this.\n"
   ]
  },
  {
   "cell_type": "code",
   "execution_count": 6,
   "metadata": {},
   "outputs": [
    {
     "data": {
      "text/plain": [
       "Country             0\n",
       "Happiness Rank      0\n",
       "Happiness Score     0\n",
       "Economy             0\n",
       "Family              0\n",
       "Health              0\n",
       "Freedom             0\n",
       "Generosity          0\n",
       "Corruption          0\n",
       "Dystopia            0\n",
       "Job Satisfaction    2\n",
       "Region              0\n",
       "dtype: int64"
      ]
     },
     "execution_count": 6,
     "metadata": {},
     "output_type": "execute_result"
    }
   ],
   "source": [
    "df.isnull().sum()"
   ]
  },
  {
   "cell_type": "markdown",
   "metadata": {},
   "source": [
    "Indeed we have two missing data in \"Job Satisfaction\" Column. \n",
    "Let's check those two missing \"lines\""
   ]
  },
  {
   "cell_type": "code",
   "execution_count": 7,
   "metadata": {},
   "outputs": [
    {
     "data": {
      "text/html": [
       "<div>\n",
       "<style scoped>\n",
       "    .dataframe tbody tr th:only-of-type {\n",
       "        vertical-align: middle;\n",
       "    }\n",
       "\n",
       "    .dataframe tbody tr th {\n",
       "        vertical-align: top;\n",
       "    }\n",
       "\n",
       "    .dataframe thead th {\n",
       "        text-align: right;\n",
       "    }\n",
       "</style>\n",
       "<table border=\"1\" class=\"dataframe\">\n",
       "  <thead>\n",
       "    <tr style=\"text-align: right;\">\n",
       "      <th></th>\n",
       "      <th>Country</th>\n",
       "      <th>Happiness Rank</th>\n",
       "      <th>Happiness Score</th>\n",
       "      <th>Economy</th>\n",
       "      <th>Family</th>\n",
       "      <th>Health</th>\n",
       "      <th>Freedom</th>\n",
       "      <th>Generosity</th>\n",
       "      <th>Corruption</th>\n",
       "      <th>Dystopia</th>\n",
       "      <th>Job Satisfaction</th>\n",
       "      <th>Region</th>\n",
       "    </tr>\n",
       "  </thead>\n",
       "  <tbody>\n",
       "    <tr>\n",
       "      <th>43</th>\n",
       "      <td>North Cyprus</td>\n",
       "      <td>61</td>\n",
       "      <td>5.810</td>\n",
       "      <td>1.346911</td>\n",
       "      <td>1.186303</td>\n",
       "      <td>0.834647</td>\n",
       "      <td>0.471204</td>\n",
       "      <td>0.266846</td>\n",
       "      <td>0.155353</td>\n",
       "      <td>1.549158</td>\n",
       "      <td>NaN</td>\n",
       "      <td>Eastern Europe</td>\n",
       "    </tr>\n",
       "    <tr>\n",
       "      <th>61</th>\n",
       "      <td>South Sudan</td>\n",
       "      <td>147</td>\n",
       "      <td>3.591</td>\n",
       "      <td>0.397249</td>\n",
       "      <td>0.601323</td>\n",
       "      <td>0.163486</td>\n",
       "      <td>0.147062</td>\n",
       "      <td>0.285671</td>\n",
       "      <td>0.116794</td>\n",
       "      <td>1.879567</td>\n",
       "      <td>NaN</td>\n",
       "      <td>Africa</td>\n",
       "    </tr>\n",
       "  </tbody>\n",
       "</table>\n",
       "</div>"
      ],
      "text/plain": [
       "         Country  Happiness Rank  Happiness Score   Economy    Family  \\\n",
       "43  North Cyprus              61            5.810  1.346911  1.186303   \n",
       "61   South Sudan             147            3.591  0.397249  0.601323   \n",
       "\n",
       "      Health   Freedom  Generosity  Corruption  Dystopia  Job Satisfaction  \\\n",
       "43  0.834647  0.471204    0.266846    0.155353  1.549158               NaN   \n",
       "61  0.163486  0.147062    0.285671    0.116794  1.879567               NaN   \n",
       "\n",
       "            Region  \n",
       "43  Eastern Europe  \n",
       "61          Africa  "
      ]
     },
     "execution_count": 7,
     "metadata": {},
     "output_type": "execute_result"
    }
   ],
   "source": [
    "df[df['Job Satisfaction'].isnull()]"
   ]
  },
  {
   "cell_type": "markdown",
   "metadata": {},
   "source": [
    "**The rest of the columns for these two countries are ok, no need to drop these yet beacuse of the missing Job Satisfaction**"
   ]
  },
  {
   "cell_type": "markdown",
   "metadata": {},
   "source": [
    "With this kind of dataset, it could be a good idea to use the ranking, which is an integer as our new index."
   ]
  },
  {
   "cell_type": "code",
   "execution_count": 8,
   "metadata": {},
   "outputs": [],
   "source": [
    "df.set_index('Happiness Rank', inplace=True)\n"
   ]
  },
  {
   "cell_type": "code",
   "execution_count": 9,
   "metadata": {},
   "outputs": [],
   "source": [
    "df_sorted = df.sort_index(axis=0, ascending=True)  # sorting the dataset df into df_sorted by index Happiness Ranking"
   ]
  },
  {
   "cell_type": "markdown",
   "metadata": {},
   "source": [
    "## 10 Happiest Countries "
   ]
  },
  {
   "cell_type": "code",
   "execution_count": 10,
   "metadata": {},
   "outputs": [
    {
     "data": {
      "text/html": [
       "<div>\n",
       "<style scoped>\n",
       "    .dataframe tbody tr th:only-of-type {\n",
       "        vertical-align: middle;\n",
       "    }\n",
       "\n",
       "    .dataframe tbody tr th {\n",
       "        vertical-align: top;\n",
       "    }\n",
       "\n",
       "    .dataframe thead th {\n",
       "        text-align: right;\n",
       "    }\n",
       "</style>\n",
       "<table border=\"1\" class=\"dataframe\">\n",
       "  <thead>\n",
       "    <tr style=\"text-align: right;\">\n",
       "      <th></th>\n",
       "      <th>Country</th>\n",
       "      <th>Happiness Score</th>\n",
       "      <th>Economy</th>\n",
       "      <th>Family</th>\n",
       "      <th>Health</th>\n",
       "      <th>Freedom</th>\n",
       "      <th>Generosity</th>\n",
       "      <th>Corruption</th>\n",
       "      <th>Dystopia</th>\n",
       "      <th>Job Satisfaction</th>\n",
       "      <th>Region</th>\n",
       "    </tr>\n",
       "    <tr>\n",
       "      <th>Happiness Rank</th>\n",
       "      <th></th>\n",
       "      <th></th>\n",
       "      <th></th>\n",
       "      <th></th>\n",
       "      <th></th>\n",
       "      <th></th>\n",
       "      <th></th>\n",
       "      <th></th>\n",
       "      <th></th>\n",
       "      <th></th>\n",
       "      <th></th>\n",
       "    </tr>\n",
       "  </thead>\n",
       "  <tbody>\n",
       "    <tr>\n",
       "      <th>1</th>\n",
       "      <td>Norway</td>\n",
       "      <td>7.537</td>\n",
       "      <td>1.616463</td>\n",
       "      <td>1.533524</td>\n",
       "      <td>0.796667</td>\n",
       "      <td>0.635423</td>\n",
       "      <td>0.362012</td>\n",
       "      <td>0.315964</td>\n",
       "      <td>2.277027</td>\n",
       "      <td>94.6</td>\n",
       "      <td>Western Europe</td>\n",
       "    </tr>\n",
       "    <tr>\n",
       "      <th>2</th>\n",
       "      <td>Denmark</td>\n",
       "      <td>7.522</td>\n",
       "      <td>1.482383</td>\n",
       "      <td>1.551122</td>\n",
       "      <td>0.792566</td>\n",
       "      <td>0.626007</td>\n",
       "      <td>0.355280</td>\n",
       "      <td>0.400770</td>\n",
       "      <td>2.313707</td>\n",
       "      <td>93.5</td>\n",
       "      <td>Western Europe</td>\n",
       "    </tr>\n",
       "    <tr>\n",
       "      <th>3</th>\n",
       "      <td>Iceland</td>\n",
       "      <td>7.504</td>\n",
       "      <td>1.480633</td>\n",
       "      <td>1.610574</td>\n",
       "      <td>0.833552</td>\n",
       "      <td>0.627163</td>\n",
       "      <td>0.475540</td>\n",
       "      <td>0.153527</td>\n",
       "      <td>2.322715</td>\n",
       "      <td>94.5</td>\n",
       "      <td>Western Europe</td>\n",
       "    </tr>\n",
       "    <tr>\n",
       "      <th>4</th>\n",
       "      <td>Switzerland</td>\n",
       "      <td>7.494</td>\n",
       "      <td>1.564980</td>\n",
       "      <td>1.516912</td>\n",
       "      <td>0.858131</td>\n",
       "      <td>0.620071</td>\n",
       "      <td>0.290549</td>\n",
       "      <td>0.367007</td>\n",
       "      <td>2.276716</td>\n",
       "      <td>93.7</td>\n",
       "      <td>Western Europe</td>\n",
       "    </tr>\n",
       "    <tr>\n",
       "      <th>5</th>\n",
       "      <td>Finland</td>\n",
       "      <td>7.469</td>\n",
       "      <td>1.443572</td>\n",
       "      <td>1.540247</td>\n",
       "      <td>0.809158</td>\n",
       "      <td>0.617951</td>\n",
       "      <td>0.245483</td>\n",
       "      <td>0.382612</td>\n",
       "      <td>2.430182</td>\n",
       "      <td>91.2</td>\n",
       "      <td>Western Europe</td>\n",
       "    </tr>\n",
       "    <tr>\n",
       "      <th>6</th>\n",
       "      <td>Netherlands</td>\n",
       "      <td>7.377</td>\n",
       "      <td>1.503945</td>\n",
       "      <td>1.428939</td>\n",
       "      <td>0.810696</td>\n",
       "      <td>0.585384</td>\n",
       "      <td>0.470490</td>\n",
       "      <td>0.282662</td>\n",
       "      <td>2.294804</td>\n",
       "      <td>93.8</td>\n",
       "      <td>Western Europe</td>\n",
       "    </tr>\n",
       "    <tr>\n",
       "      <th>7</th>\n",
       "      <td>Canada</td>\n",
       "      <td>7.316</td>\n",
       "      <td>1.479204</td>\n",
       "      <td>1.481349</td>\n",
       "      <td>0.834558</td>\n",
       "      <td>0.611101</td>\n",
       "      <td>0.435540</td>\n",
       "      <td>0.287372</td>\n",
       "      <td>2.187264</td>\n",
       "      <td>90.5</td>\n",
       "      <td>North America</td>\n",
       "    </tr>\n",
       "    <tr>\n",
       "      <th>8</th>\n",
       "      <td>New Zealand</td>\n",
       "      <td>7.314</td>\n",
       "      <td>1.405706</td>\n",
       "      <td>1.548195</td>\n",
       "      <td>0.816760</td>\n",
       "      <td>0.614062</td>\n",
       "      <td>0.500005</td>\n",
       "      <td>0.382817</td>\n",
       "      <td>2.046456</td>\n",
       "      <td>88.6</td>\n",
       "      <td>Asia-Pacific</td>\n",
       "    </tr>\n",
       "    <tr>\n",
       "      <th>9</th>\n",
       "      <td>Sweden</td>\n",
       "      <td>7.284</td>\n",
       "      <td>1.494387</td>\n",
       "      <td>1.478162</td>\n",
       "      <td>0.830875</td>\n",
       "      <td>0.612924</td>\n",
       "      <td>0.385399</td>\n",
       "      <td>0.384399</td>\n",
       "      <td>2.097538</td>\n",
       "      <td>92.7</td>\n",
       "      <td>Western Europe</td>\n",
       "    </tr>\n",
       "    <tr>\n",
       "      <th>10</th>\n",
       "      <td>Australia</td>\n",
       "      <td>7.284</td>\n",
       "      <td>1.484415</td>\n",
       "      <td>1.510042</td>\n",
       "      <td>0.843887</td>\n",
       "      <td>0.601607</td>\n",
       "      <td>0.477699</td>\n",
       "      <td>0.301184</td>\n",
       "      <td>2.065211</td>\n",
       "      <td>89.2</td>\n",
       "      <td>Asia-Pacific</td>\n",
       "    </tr>\n",
       "  </tbody>\n",
       "</table>\n",
       "</div>"
      ],
      "text/plain": [
       "                    Country  Happiness Score   Economy    Family    Health  \\\n",
       "Happiness Rank                                                               \n",
       "1                    Norway            7.537  1.616463  1.533524  0.796667   \n",
       "2                   Denmark            7.522  1.482383  1.551122  0.792566   \n",
       "3                   Iceland            7.504  1.480633  1.610574  0.833552   \n",
       "4               Switzerland            7.494  1.564980  1.516912  0.858131   \n",
       "5                   Finland            7.469  1.443572  1.540247  0.809158   \n",
       "6               Netherlands            7.377  1.503945  1.428939  0.810696   \n",
       "7                    Canada            7.316  1.479204  1.481349  0.834558   \n",
       "8               New Zealand            7.314  1.405706  1.548195  0.816760   \n",
       "9                    Sweden            7.284  1.494387  1.478162  0.830875   \n",
       "10                Australia            7.284  1.484415  1.510042  0.843887   \n",
       "\n",
       "                 Freedom  Generosity  Corruption  Dystopia  Job Satisfaction  \\\n",
       "Happiness Rank                                                                 \n",
       "1               0.635423    0.362012    0.315964  2.277027              94.6   \n",
       "2               0.626007    0.355280    0.400770  2.313707              93.5   \n",
       "3               0.627163    0.475540    0.153527  2.322715              94.5   \n",
       "4               0.620071    0.290549    0.367007  2.276716              93.7   \n",
       "5               0.617951    0.245483    0.382612  2.430182              91.2   \n",
       "6               0.585384    0.470490    0.282662  2.294804              93.8   \n",
       "7               0.611101    0.435540    0.287372  2.187264              90.5   \n",
       "8               0.614062    0.500005    0.382817  2.046456              88.6   \n",
       "9               0.612924    0.385399    0.384399  2.097538              92.7   \n",
       "10              0.601607    0.477699    0.301184  2.065211              89.2   \n",
       "\n",
       "                        Region  \n",
       "Happiness Rank                  \n",
       "1               Western Europe  \n",
       "2               Western Europe  \n",
       "3               Western Europe  \n",
       "4               Western Europe  \n",
       "5               Western Europe  \n",
       "6               Western Europe  \n",
       "7                North America  \n",
       "8                 Asia-Pacific  \n",
       "9               Western Europe  \n",
       "10                Asia-Pacific  "
      ]
     },
     "execution_count": 10,
     "metadata": {},
     "output_type": "execute_result"
    }
   ],
   "source": [
    "df_sorted[0:10]"
   ]
  },
  {
   "cell_type": "markdown",
   "metadata": {},
   "source": [
    "**Good choice to be in Switzerland !!**\n",
    "\n",
    "However, instead of the rank index I used, we can more properly use the Happiness Score as stated in the Tasks : "
   ]
  },
  {
   "cell_type": "code",
   "execution_count": 11,
   "metadata": {},
   "outputs": [
    {
     "data": {
      "text/plain": [
       "Happiness Rank\n",
       "1          Norway\n",
       "2         Denmark\n",
       "3         Iceland\n",
       "4     Switzerland\n",
       "5         Finland\n",
       "6     Netherlands\n",
       "7          Canada\n",
       "8     New Zealand\n",
       "10      Australia\n",
       "9          Sweden\n",
       "Name: Country, dtype: object"
      ]
     },
     "execution_count": 11,
     "metadata": {},
     "output_type": "execute_result"
    }
   ],
   "source": [
    "df_happy = df.sort_values('Happiness Score' , ascending = False)[0:10]\n",
    "df_happy['Country']"
   ]
  },
  {
   "cell_type": "markdown",
   "metadata": {},
   "source": [
    "## 10 Least africa Countries "
   ]
  },
  {
   "cell_type": "markdown",
   "metadata": {},
   "source": [
    "Same as above, insted of using Indexes"
   ]
  },
  {
   "cell_type": "code",
   "execution_count": 12,
   "metadata": {},
   "outputs": [
    {
     "data": {
      "text/plain": [
       "Happiness Rank\n",
       "155    Central African Republic\n",
       "154                     Burundi\n",
       "153                    Tanzania\n",
       "152                       Syria\n",
       "151                      Rwanda\n",
       "150                        Togo\n",
       "149                      Guinea\n",
       "148                     Liberia\n",
       "147                 South Sudan\n",
       "146                       Yemen\n",
       "Name: Country, dtype: object"
      ]
     },
     "execution_count": 12,
     "metadata": {},
     "output_type": "execute_result"
    }
   ],
   "source": [
    "df_unhappy = df.sort_values('Happiness Score' , ascending = True)[0:10]\n",
    "df_unhappy['Country']"
   ]
  },
  {
   "cell_type": "markdown",
   "metadata": {},
   "source": [
    "# B. Indexing and Grouping\n",
    "-----------------------------"
   ]
  },
  {
   "cell_type": "markdown",
   "metadata": {},
   "source": [
    "Let's group the data by region from the original dataframe, and save them distinctly"
   ]
  },
  {
   "cell_type": "code",
   "execution_count": 13,
   "metadata": {},
   "outputs": [
    {
     "data": {
      "text/html": [
       "<div>\n",
       "<style scoped>\n",
       "    .dataframe tbody tr th:only-of-type {\n",
       "        vertical-align: middle;\n",
       "    }\n",
       "\n",
       "    .dataframe tbody tr th {\n",
       "        vertical-align: top;\n",
       "    }\n",
       "\n",
       "    .dataframe thead th {\n",
       "        text-align: right;\n",
       "    }\n",
       "</style>\n",
       "<table border=\"1\" class=\"dataframe\">\n",
       "  <thead>\n",
       "    <tr style=\"text-align: right;\">\n",
       "      <th></th>\n",
       "      <th>Country</th>\n",
       "      <th>Happiness Score</th>\n",
       "      <th>Economy</th>\n",
       "      <th>Family</th>\n",
       "      <th>Health</th>\n",
       "      <th>Freedom</th>\n",
       "      <th>Generosity</th>\n",
       "      <th>Corruption</th>\n",
       "      <th>Dystopia</th>\n",
       "      <th>Job Satisfaction</th>\n",
       "      <th>Region</th>\n",
       "    </tr>\n",
       "    <tr>\n",
       "      <th>Happiness Rank</th>\n",
       "      <th></th>\n",
       "      <th></th>\n",
       "      <th></th>\n",
       "      <th></th>\n",
       "      <th></th>\n",
       "      <th></th>\n",
       "      <th></th>\n",
       "      <th></th>\n",
       "      <th></th>\n",
       "      <th></th>\n",
       "      <th></th>\n",
       "    </tr>\n",
       "  </thead>\n",
       "  <tbody>\n",
       "    <tr>\n",
       "      <th>9</th>\n",
       "      <td>Sweden</td>\n",
       "      <td>7.284</td>\n",
       "      <td>1.494387</td>\n",
       "      <td>1.478162</td>\n",
       "      <td>0.830875</td>\n",
       "      <td>0.612924</td>\n",
       "      <td>0.385399</td>\n",
       "      <td>0.384399</td>\n",
       "      <td>2.097538</td>\n",
       "      <td>92.7</td>\n",
       "      <td>Western Europe</td>\n",
       "    </tr>\n",
       "    <tr>\n",
       "      <th>17</th>\n",
       "      <td>Belgium</td>\n",
       "      <td>6.891</td>\n",
       "      <td>1.463781</td>\n",
       "      <td>1.462313</td>\n",
       "      <td>0.818092</td>\n",
       "      <td>0.539771</td>\n",
       "      <td>0.231503</td>\n",
       "      <td>0.251343</td>\n",
       "      <td>2.124210</td>\n",
       "      <td>91.1</td>\n",
       "      <td>Western Europe</td>\n",
       "    </tr>\n",
       "    <tr>\n",
       "      <th>23</th>\n",
       "      <td>Czech Republic</td>\n",
       "      <td>6.609</td>\n",
       "      <td>1.352682</td>\n",
       "      <td>1.433885</td>\n",
       "      <td>0.754444</td>\n",
       "      <td>0.490946</td>\n",
       "      <td>0.088107</td>\n",
       "      <td>0.036873</td>\n",
       "      <td>2.451862</td>\n",
       "      <td>79.8</td>\n",
       "      <td>Western Europe</td>\n",
       "    </tr>\n",
       "  </tbody>\n",
       "</table>\n",
       "</div>"
      ],
      "text/plain": [
       "                       Country  Happiness Score   Economy    Family    Health  \\\n",
       "Happiness Rank                                                                  \n",
       "9                       Sweden            7.284  1.494387  1.478162  0.830875   \n",
       "17                     Belgium            6.891  1.463781  1.462313  0.818092   \n",
       "23              Czech Republic            6.609  1.352682  1.433885  0.754444   \n",
       "\n",
       "                 Freedom  Generosity  Corruption  Dystopia  Job Satisfaction  \\\n",
       "Happiness Rank                                                                 \n",
       "9               0.612924    0.385399    0.384399  2.097538              92.7   \n",
       "17              0.539771    0.231503    0.251343  2.124210              91.1   \n",
       "23              0.490946    0.088107    0.036873  2.451862              79.8   \n",
       "\n",
       "                        Region  \n",
       "Happiness Rank                  \n",
       "9               Western Europe  \n",
       "17              Western Europe  \n",
       "23              Western Europe  "
      ]
     },
     "execution_count": 13,
     "metadata": {},
     "output_type": "execute_result"
    }
   ],
   "source": [
    "df_western_europe = df.loc[df.Region == 'Western Europe'].copy()  # using .loc to use the column name as a boolean\n",
    "df_western_europe[1:4] # let's check the data\n"
   ]
  },
  {
   "cell_type": "code",
   "execution_count": 14,
   "metadata": {},
   "outputs": [],
   "source": [
    "df_western_europe.to_csv (r'C:\\Users\\Utilisateur\\EPFL Course\\happiness western europe.csv', header=True)"
   ]
  },
  {
   "cell_type": "markdown",
   "metadata": {},
   "source": [
    "I will use a list comprehension to make a function to save the files :"
   ]
  },
  {
   "cell_type": "code",
   "execution_count": 15,
   "metadata": {},
   "outputs": [],
   "source": [
    "def save_csv_from_df(dataframe, column_name):\n",
    "    \n",
    "    list_value=[x for x in column_name]  # make a list of all value in a column\n",
    "    list_value = list(set(list_value)) # make a DISTINCT list from the first\n",
    "    \n",
    "    for x in list_value:\n",
    "        dfx = dataframe\n",
    "        dfx = dataframe.loc[column_name == x].copy  # for each region create a copy dataframe     \n",
    "        #dfx.to_csv (r'C:\\Users\\Utilisateur\\EPFL Course\\Europe.csv', header=True)\n",
    "        \n",
    "        # did not succeed to include a \"string\" variable in the URL, even trying multiple techniques : %s\n",
    "\n",
    "        \n",
    "        \n",
    "# save_csv_from_df(df, df.Region) ==> call the function"
   ]
  },
  {
   "cell_type": "markdown",
   "metadata": {},
   "source": [
    "### Unfortunately I did not succeed to use a function to loop the grouping and saving as CSV. So I will continue manually, and come back to it later. while asking the question.\n",
    "\n",
    "I will do it manually then : **First, let's vérify the regions to save as csv** "
   ]
  },
  {
   "cell_type": "code",
   "execution_count": 16,
   "metadata": {},
   "outputs": [
    {
     "data": {
      "text/plain": [
       "['Africa',\n",
       " 'Eastern Europe',\n",
       " 'North America',\n",
       " 'Latin America',\n",
       " 'Western Europe',\n",
       " 'Asia-Pacific',\n",
       " 'Europe']"
      ]
     },
     "execution_count": 16,
     "metadata": {},
     "output_type": "execute_result"
    }
   ],
   "source": [
    "list_region = list(set(df_sorted.Region))   # check distinct regions to not miss one manually\n",
    "list_region"
   ]
  },
  {
   "cell_type": "markdown",
   "metadata": {},
   "source": [
    "##### I noticed during analysis that 'Ukraine' is the only country in \"Europe\" region. It would be more convenient to group it into \"Eastern Europe\" region.\n",
    "(even though since 2013, and Crimea Crisis, Ukraine tend to get closer to the US and Western Europe \"geopolitically\" but that is another subject..\n",
    "\n",
    "**I will suppose that region is mainly based on geographics.**\n",
    "\n",
    "Nonetheless, in a sociology analysis like this one, it could be interesting to add other layers of \"lecture\", but I will develop in conclusion (democracy vs dictature, cultural influence, ongoing /recent wars, blocades, economical type, city population vs rural population, religion, liberal vs socialist ...) to find more links or biases."
   ]
  },
  {
   "cell_type": "code",
   "execution_count": 17,
   "metadata": {},
   "outputs": [
    {
     "data": {
      "text/plain": [
       "Happiness Rank\n",
       "132    Eastern Europe\n",
       "Name: Region, dtype: object"
      ]
     },
     "execution_count": 17,
     "metadata": {},
     "output_type": "execute_result"
    }
   ],
   "source": [
    "df_sorted['Region'] = df_sorted['Region'].replace('Europe', 'Eastern Europe')  # modifying Europe by Eastern Europe\n",
    "df_sorted.loc[df.Country == 'Ukraine']['Region']"
   ]
  },
  {
   "cell_type": "markdown",
   "metadata": {},
   "source": [
    "**We can see that Ukraine has been properly reallocated to Eastern Europe inside df_sorted**"
   ]
  },
  {
   "cell_type": "code",
   "execution_count": 18,
   "metadata": {},
   "outputs": [
    {
     "data": {
      "text/plain": [
       "['Africa',\n",
       " 'Eastern Europe',\n",
       " 'North America',\n",
       " 'Latin America',\n",
       " 'Western Europe',\n",
       " 'Asia-Pacific']"
      ]
     },
     "execution_count": 18,
     "metadata": {},
     "output_type": "execute_result"
    }
   ],
   "source": [
    "list_region = list(set(df_sorted.Region))   # check distinct regions to not miss one manually\n",
    "list_region"
   ]
  },
  {
   "cell_type": "markdown",
   "metadata": {},
   "source": [
    "### We now have 6 remaining regions instead of 7"
   ]
  },
  {
   "cell_type": "code",
   "execution_count": 19,
   "metadata": {},
   "outputs": [],
   "source": [
    "df_apac = df.loc[df.Region == 'Asia-Pacific'].copy()\n",
    "df_north_america = df.loc[df.Region == 'North America'].copy()\n",
    "df_africa = df.loc[df.Region == 'Africa'].copy()\n",
    "df_eastern_europe = df.loc[df.Region == 'Eastern Europe'].copy()\n",
    "df_latam = df.loc[df.Region == 'Latin America'].copy()\n",
    "\n",
    "# western europe already done as test"
   ]
  },
  {
   "cell_type": "markdown",
   "metadata": {},
   "source": [
    "**All regionals dataframes are created, now we convert them into a csv**"
   ]
  },
  {
   "cell_type": "code",
   "execution_count": 20,
   "metadata": {},
   "outputs": [],
   "source": [
    "df_apac.to_csv (r'C:\\Users\\Utilisateur\\EPFL Course\\happiness asia pacific.csv', header=True)\n",
    "df_north_america.to_csv (r'C:\\Users\\Utilisateur\\EPFL Course\\happiness north america.csv', header=True)\n",
    "df_africa.to_csv (r'C:\\Users\\Utilisateur\\EPFL Course\\happiness africa.csv', header=True)\n",
    "df_eastern_europe.to_csv (r'C:\\Users\\Utilisateur\\EPFL Course\\happiness eastern europe.csv', header=True)\n",
    "df_latam.to_csv (r'C:\\Users\\Utilisateur\\EPFL Course\\happiness latin america.csv', header=True)"
   ]
  },
  {
   "cell_type": "markdown",
   "metadata": {},
   "source": [
    "### All files are created."
   ]
  },
  {
   "cell_type": "markdown",
   "metadata": {},
   "source": [
    "#### Mean Happiness Score for each region"
   ]
  },
  {
   "cell_type": "code",
   "execution_count": 21,
   "metadata": {},
   "outputs": [
    {
     "data": {
      "text/plain": [
       "6.880473714157894"
      ]
     },
     "execution_count": 21,
     "metadata": {},
     "output_type": "execute_result"
    }
   ],
   "source": [
    "df_western_europe['Happiness Score'].mean()              # testing method  .mean()"
   ]
  },
  {
   "cell_type": "markdown",
   "metadata": {},
   "source": [
    "It would be cleaner to build a new dataframe"
   ]
  },
  {
   "cell_type": "code",
   "execution_count": 22,
   "metadata": {},
   "outputs": [],
   "source": [
    "df_region_mean = df_sorted.groupby('Region')['Happiness Score'].mean().to_frame().sort_values('Happiness Score', ascending = False)"
   ]
  },
  {
   "cell_type": "code",
   "execution_count": 23,
   "metadata": {},
   "outputs": [
    {
     "data": {
      "text/html": [
       "<div>\n",
       "<style scoped>\n",
       "    .dataframe tbody tr th:only-of-type {\n",
       "        vertical-align: middle;\n",
       "    }\n",
       "\n",
       "    .dataframe tbody tr th {\n",
       "        vertical-align: top;\n",
       "    }\n",
       "\n",
       "    .dataframe thead th {\n",
       "        text-align: right;\n",
       "    }\n",
       "</style>\n",
       "<table border=\"1\" class=\"dataframe\">\n",
       "  <thead>\n",
       "    <tr style=\"text-align: right;\">\n",
       "      <th></th>\n",
       "      <th>Happiness Score</th>\n",
       "    </tr>\n",
       "    <tr>\n",
       "      <th>Region</th>\n",
       "      <th></th>\n",
       "    </tr>\n",
       "  </thead>\n",
       "  <tbody>\n",
       "    <tr>\n",
       "      <th>North America</th>\n",
       "      <td>7.154500</td>\n",
       "    </tr>\n",
       "    <tr>\n",
       "      <th>Western Europe</th>\n",
       "      <td>6.880474</td>\n",
       "    </tr>\n",
       "    <tr>\n",
       "      <th>Latin America</th>\n",
       "      <td>5.957818</td>\n",
       "    </tr>\n",
       "    <tr>\n",
       "      <th>Eastern Europe</th>\n",
       "      <td>5.451478</td>\n",
       "    </tr>\n",
       "    <tr>\n",
       "      <th>Asia-Pacific</th>\n",
       "      <td>5.358326</td>\n",
       "    </tr>\n",
       "    <tr>\n",
       "      <th>Africa</th>\n",
       "      <td>4.239500</td>\n",
       "    </tr>\n",
       "  </tbody>\n",
       "</table>\n",
       "</div>"
      ],
      "text/plain": [
       "                Happiness Score\n",
       "Region                         \n",
       "North America          7.154500\n",
       "Western Europe         6.880474\n",
       "Latin America          5.957818\n",
       "Eastern Europe         5.451478\n",
       "Asia-Pacific           5.358326\n",
       "Africa                 4.239500"
      ]
     },
     "execution_count": 23,
     "metadata": {},
     "output_type": "execute_result"
    }
   ],
   "source": [
    "df_region_mean"
   ]
  },
  {
   "cell_type": "markdown",
   "metadata": {},
   "source": [
    "We can verify that we obtain the same value for western europe as the test above\n",
    "\n",
    "#### Number of countries in each region that have a happiness score above 6.0\n",
    "\n",
    "We will use the same original dataframe"
   ]
  },
  {
   "cell_type": "code",
   "execution_count": 24,
   "metadata": {},
   "outputs": [
    {
     "data": {
      "text/html": [
       "<div>\n",
       "<style scoped>\n",
       "    .dataframe tbody tr th:only-of-type {\n",
       "        vertical-align: middle;\n",
       "    }\n",
       "\n",
       "    .dataframe tbody tr th {\n",
       "        vertical-align: top;\n",
       "    }\n",
       "\n",
       "    .dataframe thead th {\n",
       "        text-align: right;\n",
       "    }\n",
       "</style>\n",
       "<table border=\"1\" class=\"dataframe\">\n",
       "  <thead>\n",
       "    <tr style=\"text-align: right;\">\n",
       "      <th></th>\n",
       "      <th>Country</th>\n",
       "      <th>Happiness Score</th>\n",
       "      <th>Economy</th>\n",
       "      <th>Family</th>\n",
       "      <th>Health</th>\n",
       "      <th>Freedom</th>\n",
       "      <th>Generosity</th>\n",
       "      <th>Corruption</th>\n",
       "      <th>Dystopia</th>\n",
       "      <th>Job Satisfaction</th>\n",
       "      <th>Region</th>\n",
       "    </tr>\n",
       "    <tr>\n",
       "      <th>Happiness Rank</th>\n",
       "      <th></th>\n",
       "      <th></th>\n",
       "      <th></th>\n",
       "      <th></th>\n",
       "      <th></th>\n",
       "      <th></th>\n",
       "      <th></th>\n",
       "      <th></th>\n",
       "      <th></th>\n",
       "      <th></th>\n",
       "      <th></th>\n",
       "    </tr>\n",
       "  </thead>\n",
       "  <tbody>\n",
       "    <tr>\n",
       "      <th>41</th>\n",
       "      <td>Bahrain</td>\n",
       "      <td>6.087</td>\n",
       "      <td>1.488412</td>\n",
       "      <td>1.323110</td>\n",
       "      <td>0.653133</td>\n",
       "      <td>0.536747</td>\n",
       "      <td>0.172668</td>\n",
       "      <td>0.257042</td>\n",
       "      <td>1.656149</td>\n",
       "      <td>79.9</td>\n",
       "      <td>Asia-Pacific</td>\n",
       "    </tr>\n",
       "    <tr>\n",
       "      <th>42</th>\n",
       "      <td>Malaysia</td>\n",
       "      <td>6.084</td>\n",
       "      <td>1.291215</td>\n",
       "      <td>1.284646</td>\n",
       "      <td>0.618784</td>\n",
       "      <td>0.402265</td>\n",
       "      <td>0.416609</td>\n",
       "      <td>0.065601</td>\n",
       "      <td>2.004449</td>\n",
       "      <td>85.0</td>\n",
       "      <td>Asia-Pacific</td>\n",
       "    </tr>\n",
       "    <tr>\n",
       "      <th>43</th>\n",
       "      <td>Nicaragua</td>\n",
       "      <td>6.071</td>\n",
       "      <td>0.737299</td>\n",
       "      <td>1.287216</td>\n",
       "      <td>0.653096</td>\n",
       "      <td>0.447552</td>\n",
       "      <td>0.301674</td>\n",
       "      <td>0.130688</td>\n",
       "      <td>2.513931</td>\n",
       "      <td>82.3</td>\n",
       "      <td>Latin America</td>\n",
       "    </tr>\n",
       "    <tr>\n",
       "      <th>44</th>\n",
       "      <td>Ecuador</td>\n",
       "      <td>6.008</td>\n",
       "      <td>1.000820</td>\n",
       "      <td>1.286169</td>\n",
       "      <td>0.685636</td>\n",
       "      <td>0.455198</td>\n",
       "      <td>0.150112</td>\n",
       "      <td>0.140135</td>\n",
       "      <td>2.290353</td>\n",
       "      <td>83.0</td>\n",
       "      <td>Latin America</td>\n",
       "    </tr>\n",
       "    <tr>\n",
       "      <th>45</th>\n",
       "      <td>El Salvador</td>\n",
       "      <td>6.003</td>\n",
       "      <td>0.909784</td>\n",
       "      <td>1.182125</td>\n",
       "      <td>0.596019</td>\n",
       "      <td>0.432453</td>\n",
       "      <td>0.078258</td>\n",
       "      <td>0.089981</td>\n",
       "      <td>2.714594</td>\n",
       "      <td>80.9</td>\n",
       "      <td>Latin America</td>\n",
       "    </tr>\n",
       "  </tbody>\n",
       "</table>\n",
       "</div>"
      ],
      "text/plain": [
       "                    Country  Happiness Score   Economy    Family    Health  \\\n",
       "Happiness Rank                                                               \n",
       "41                  Bahrain            6.087  1.488412  1.323110  0.653133   \n",
       "42                 Malaysia            6.084  1.291215  1.284646  0.618784   \n",
       "43                Nicaragua            6.071  0.737299  1.287216  0.653096   \n",
       "44                  Ecuador            6.008  1.000820  1.286169  0.685636   \n",
       "45              El Salvador            6.003  0.909784  1.182125  0.596019   \n",
       "\n",
       "                 Freedom  Generosity  Corruption  Dystopia  Job Satisfaction  \\\n",
       "Happiness Rank                                                                 \n",
       "41              0.536747    0.172668    0.257042  1.656149              79.9   \n",
       "42              0.402265    0.416609    0.065601  2.004449              85.0   \n",
       "43              0.447552    0.301674    0.130688  2.513931              82.3   \n",
       "44              0.455198    0.150112    0.140135  2.290353              83.0   \n",
       "45              0.432453    0.078258    0.089981  2.714594              80.9   \n",
       "\n",
       "                       Region  \n",
       "Happiness Rank                 \n",
       "41               Asia-Pacific  \n",
       "42               Asia-Pacific  \n",
       "43              Latin America  \n",
       "44              Latin America  \n",
       "45              Latin America  "
      ]
     },
     "execution_count": 24,
     "metadata": {},
     "output_type": "execute_result"
    }
   ],
   "source": [
    "df_happy_countries = df_sorted[df_sorted['Happiness Score']>6.0].sort_values('Happiness Score', ascending = False)\n",
    "df_happy_countries [-5:]"
   ]
  },
  {
   "cell_type": "markdown",
   "metadata": {},
   "source": [
    "We can check, we indeed have a dataframe with the last Country beeing \"El Salvador\" (ranked 45th) with 6.003 as Happiness Score\n",
    "With this new dataframe let's count how many countries per region"
   ]
  },
  {
   "cell_type": "code",
   "execution_count": 25,
   "metadata": {},
   "outputs": [
    {
     "data": {
      "text/plain": [
       "Region\n",
       "Asia-Pacific      11\n",
       "Eastern Europe     1\n",
       "Latin America     13\n",
       "North America      2\n",
       "Western Europe    17\n",
       "Name: Country, dtype: int64"
      ]
     },
     "execution_count": 25,
     "metadata": {},
     "output_type": "execute_result"
    }
   ],
   "source": [
    "count_happy = df_happy_countries.groupby('Region')['Country'].count();\n",
    "count_happy"
   ]
  },
  {
   "cell_type": "markdown",
   "metadata": {},
   "source": [
    "This result is interesting but needs to be explained cautiously, indeed, we could notice that North America is the first ranked BUT only represents 2 countries and a population of about 360 millions, while Asia-Pacific (43 countries in the dataset) include China and India with more than 3 billions..\n",
    "\n",
    "Indeed, during the exercise we used the \"mean\" of a non cumulative calculation to measure the results of a region, but we include an obvious mathematical bias  which is for example in this case, the population :\n",
    "China's \"Happiness Score\" should have in theory 160 times more \"weight\" in the average of Asia Pacific than Israel.\n",
    "The global \"region\" mapping might be too vague in this analysis and includes too many different countries which are all mixed up together.\n",
    "\n",
    "That's where it could be interesting to analyze each region statistically, for example, the span between min and max as asked.\n",
    "\n",
    "It is obviously more interesting to do this span analysis on the whole dataset and not only the countries with a score > 6.0. "
   ]
  },
  {
   "cell_type": "code",
   "execution_count": 26,
   "metadata": {},
   "outputs": [
    {
     "data": {
      "text/html": [
       "<div>\n",
       "<style scoped>\n",
       "    .dataframe tbody tr th:only-of-type {\n",
       "        vertical-align: middle;\n",
       "    }\n",
       "\n",
       "    .dataframe tbody tr th {\n",
       "        vertical-align: top;\n",
       "    }\n",
       "\n",
       "    .dataframe thead th {\n",
       "        text-align: right;\n",
       "    }\n",
       "</style>\n",
       "<table border=\"1\" class=\"dataframe\">\n",
       "  <thead>\n",
       "    <tr style=\"text-align: right;\">\n",
       "      <th></th>\n",
       "      <th>count</th>\n",
       "      <th>mean</th>\n",
       "      <th>std</th>\n",
       "      <th>min</th>\n",
       "      <th>25%</th>\n",
       "      <th>50%</th>\n",
       "      <th>75%</th>\n",
       "      <th>max</th>\n",
       "    </tr>\n",
       "    <tr>\n",
       "      <th>Region</th>\n",
       "      <th></th>\n",
       "      <th></th>\n",
       "      <th></th>\n",
       "      <th></th>\n",
       "      <th></th>\n",
       "      <th></th>\n",
       "      <th></th>\n",
       "      <th></th>\n",
       "    </tr>\n",
       "  </thead>\n",
       "  <tbody>\n",
       "    <tr>\n",
       "      <th>Africa</th>\n",
       "      <td>44.0</td>\n",
       "      <td>4.239500</td>\n",
       "      <td>0.681866</td>\n",
       "      <td>2.693</td>\n",
       "      <td>3.78775</td>\n",
       "      <td>4.1850</td>\n",
       "      <td>4.60425</td>\n",
       "      <td>5.872</td>\n",
       "    </tr>\n",
       "    <tr>\n",
       "      <th>Asia-Pacific</th>\n",
       "      <td>43.0</td>\n",
       "      <td>5.358326</td>\n",
       "      <td>0.955062</td>\n",
       "      <td>3.462</td>\n",
       "      <td>4.65000</td>\n",
       "      <td>5.2690</td>\n",
       "      <td>6.02750</td>\n",
       "      <td>7.314</td>\n",
       "    </tr>\n",
       "    <tr>\n",
       "      <th>Eastern Europe</th>\n",
       "      <td>23.0</td>\n",
       "      <td>5.451478</td>\n",
       "      <td>0.488309</td>\n",
       "      <td>4.096</td>\n",
       "      <td>5.23200</td>\n",
       "      <td>5.5690</td>\n",
       "      <td>5.83150</td>\n",
       "      <td>6.098</td>\n",
       "    </tr>\n",
       "    <tr>\n",
       "      <th>Latin America</th>\n",
       "      <td>22.0</td>\n",
       "      <td>5.957818</td>\n",
       "      <td>0.750925</td>\n",
       "      <td>3.603</td>\n",
       "      <td>5.54850</td>\n",
       "      <td>6.0395</td>\n",
       "      <td>6.45400</td>\n",
       "      <td>7.079</td>\n",
       "    </tr>\n",
       "    <tr>\n",
       "      <th>North America</th>\n",
       "      <td>2.0</td>\n",
       "      <td>7.154500</td>\n",
       "      <td>0.228395</td>\n",
       "      <td>6.993</td>\n",
       "      <td>7.07375</td>\n",
       "      <td>7.1545</td>\n",
       "      <td>7.23525</td>\n",
       "      <td>7.316</td>\n",
       "    </tr>\n",
       "    <tr>\n",
       "      <th>Western Europe</th>\n",
       "      <td>19.0</td>\n",
       "      <td>6.880474</td>\n",
       "      <td>0.611070</td>\n",
       "      <td>5.195</td>\n",
       "      <td>6.56800</td>\n",
       "      <td>6.9510</td>\n",
       "      <td>7.42300</td>\n",
       "      <td>7.537</td>\n",
       "    </tr>\n",
       "  </tbody>\n",
       "</table>\n",
       "</div>"
      ],
      "text/plain": [
       "                count      mean       std    min      25%     50%      75%  \\\n",
       "Region                                                                       \n",
       "Africa           44.0  4.239500  0.681866  2.693  3.78775  4.1850  4.60425   \n",
       "Asia-Pacific     43.0  5.358326  0.955062  3.462  4.65000  5.2690  6.02750   \n",
       "Eastern Europe   23.0  5.451478  0.488309  4.096  5.23200  5.5690  5.83150   \n",
       "Latin America    22.0  5.957818  0.750925  3.603  5.54850  6.0395  6.45400   \n",
       "North America     2.0  7.154500  0.228395  6.993  7.07375  7.1545  7.23525   \n",
       "Western Europe   19.0  6.880474  0.611070  5.195  6.56800  6.9510  7.42300   \n",
       "\n",
       "                  max  \n",
       "Region                 \n",
       "Africa          5.872  \n",
       "Asia-Pacific    7.314  \n",
       "Eastern Europe  6.098  \n",
       "Latin America   7.079  \n",
       "North America   7.316  \n",
       "Western Europe  7.537  "
      ]
     },
     "execution_count": 26,
     "metadata": {},
     "output_type": "execute_result"
    }
   ],
   "source": [
    "df_sorted.groupby('Region')['Happiness Score'].describe()  # describe happiness score for each region into a dataframe"
   ]
  },
  {
   "cell_type": "code",
   "execution_count": 27,
   "metadata": {},
   "outputs": [
    {
     "data": {
      "text/html": [
       "<div>\n",
       "<style scoped>\n",
       "    .dataframe tbody tr th:only-of-type {\n",
       "        vertical-align: middle;\n",
       "    }\n",
       "\n",
       "    .dataframe tbody tr th {\n",
       "        vertical-align: top;\n",
       "    }\n",
       "\n",
       "    .dataframe thead th {\n",
       "        text-align: right;\n",
       "    }\n",
       "</style>\n",
       "<table border=\"1\" class=\"dataframe\">\n",
       "  <thead>\n",
       "    <tr style=\"text-align: right;\">\n",
       "      <th></th>\n",
       "      <th>Happiness Score</th>\n",
       "    </tr>\n",
       "    <tr>\n",
       "      <th>Region</th>\n",
       "      <th></th>\n",
       "    </tr>\n",
       "  </thead>\n",
       "  <tbody>\n",
       "    <tr>\n",
       "      <th>Asia-Pacific</th>\n",
       "      <td>3.852</td>\n",
       "    </tr>\n",
       "    <tr>\n",
       "      <th>Latin America</th>\n",
       "      <td>3.476</td>\n",
       "    </tr>\n",
       "    <tr>\n",
       "      <th>Africa</th>\n",
       "      <td>3.179</td>\n",
       "    </tr>\n",
       "    <tr>\n",
       "      <th>Western Europe</th>\n",
       "      <td>2.342</td>\n",
       "    </tr>\n",
       "    <tr>\n",
       "      <th>Eastern Europe</th>\n",
       "      <td>2.002</td>\n",
       "    </tr>\n",
       "    <tr>\n",
       "      <th>North America</th>\n",
       "      <td>0.323</td>\n",
       "    </tr>\n",
       "  </tbody>\n",
       "</table>\n",
       "</div>"
      ],
      "text/plain": [
       "                Happiness Score\n",
       "Region                         \n",
       "Asia-Pacific              3.852\n",
       "Latin America             3.476\n",
       "Africa                    3.179\n",
       "Western Europe            2.342\n",
       "Eastern Europe            2.002\n",
       "North America             0.323"
      ]
     },
     "execution_count": 27,
     "metadata": {},
     "output_type": "execute_result"
    }
   ],
   "source": [
    "df_span_region = df_sorted.groupby('Region')['Happiness Score'].agg(lambda x : max(x)-min(x)).to_frame().sort_values('Happiness Score',ascending = False)\n",
    "df_span_region"
   ]
  },
  {
   "cell_type": "markdown",
   "metadata": {},
   "source": [
    "Logically, as I said earlier, the multiplicity and diversity of the Asia Pacific 40-ish countries is also show here, as it has the largest range of values within its datapoints."
   ]
  },
  {
   "cell_type": "markdown",
   "metadata": {},
   "source": [
    "# C. Bar plot of the Happiness Score\n",
    "-------------------------------------"
   ]
  },
  {
   "cell_type": "code",
   "execution_count": 28,
   "metadata": {},
   "outputs": [],
   "source": [
    "import matplotlib.pyplot as plt\n"
   ]
  },
  {
   "cell_type": "code",
   "execution_count": 29,
   "metadata": {},
   "outputs": [],
   "source": [
    "%matplotlib inline\n"
   ]
  },
  {
   "cell_type": "code",
   "execution_count": 30,
   "metadata": {},
   "outputs": [
    {
     "data": {
      "image/png": "[encoded data removed]",
      "text/plain": [
       "<Figure size 432x288 with 1 Axes>"
      ]
     },
     "metadata": {
      "needs_background": "light"
     },
     "output_type": "display_data"
    }
   ],
   "source": [
    "# we can use, the former dataframe we computed called df_happy with the 10 happiest countries\n",
    "df_happy = df_happy.sort_values('Happiness Score')\n",
    "plot = plt.barh(df_happy[\"Country\"], df_happy[\"Happiness Score\"]);\n",
    "plt.xlim(0,8)\n",
    "plt.xticks([0,1,2,3,4,5,6,7,8]);\n",
    "plt.ylabel('Countries')\n",
    "plt.xlabel('Happiness Score');\n",
    "plt.title('Happiness Score for the TOP10 Countries')\n",
    "# plt.grid(color = 'gray')\n",
    "plt.show()\n"
   ]
  },
  {
   "cell_type": "code",
   "execution_count": 31,
   "metadata": {},
   "outputs": [
    {
     "data": {
      "text/plain": [
       "<matplotlib.legend.Legend at 0xe9d9fd6a90>"
      ]
     },
     "execution_count": 31,
     "metadata": {},
     "output_type": "execute_result"
    },
    {
     "data": {
      "image/png": "[encoded data removed]",
      "text/plain": [
       "<Figure size 432x288 with 1 Axes>"
      ]
     },
     "metadata": {
      "needs_background": "light"
     },
     "output_type": "display_data"
    }
   ],
   "source": [
    "# based on the barh documentation and barh plot we have already done for medals\n",
    "\n",
    "plt.barh(df_happy[\"Country\"], df_happy[\"Economy\"], color='green', edgecolor='black', label = \"Economy\")\n",
    "plt.barh(df_happy[\"Country\"], df_happy[\"Family\"], color='purple', edgecolor='black', label = \"Family\", left = df_happy[\"Economy\"])\n",
    "plt.barh(df_happy[\"Country\"], df_happy[\"Health\"], color='pink', edgecolor='black', label = \"Health\", left = df_happy[\"Economy\"]+df_happy[\"Family\"])\n",
    "plt.barh(df_happy[\"Country\"], df_happy[\"Freedom\"], color='white', edgecolor='black', label = \"Freedom\", left = df_happy[\"Economy\"]+df_happy[\"Health\"]+df_happy[\"Family\"])\n",
    "plt.barh(df_happy[\"Country\"], df_happy[\"Generosity\"], color='yellow', edgecolor='black', label = \"Generosity\", left = df_happy[\"Economy\"]+df_happy[\"Health\"]+df_happy[\"Family\"]+df_happy[\"Freedom\"])\n",
    "plt.barh(df_happy[\"Country\"], df_happy[\"Corruption\"], color='red', edgecolor='black', label = \"Corruption\", left = df_happy[\"Economy\"]+df_happy[\"Health\"]+df_happy[\"Family\"]+df_happy[\"Freedom\"]+df_happy[\"Generosity\"])\n",
    "plt.barh(df_happy[\"Country\"], df_happy[\"Dystopia\"], color='grey', edgecolor='black', label = \"Dystopia\", left = df_happy[\"Economy\"]+df_happy[\"Health\"]+df_happy[\"Family\"]+df_happy[\"Freedom\"]+df_happy[\"Generosity\"]+df_happy[\"Corruption\"])\n",
    "\n",
    "\n",
    "plt.xticks([0,1,2,3,4,5,6,7,8,9,10,11]); # to ease the reading of the legend I chose to add 3 more xticks \n",
    "plt.ylabel(\"Happiness Score\");\n",
    "plt.xlabel(\"Countries\");\n",
    "plt.title(\"Happiness Score detailed by type for the TOP10 Countries\");\n",
    "plt.legend(loc=\"upper right\")"
   ]
  },
  {
   "cell_type": "markdown",
   "metadata": {},
   "source": [
    "It seeems obvious that \"dystopia\" has a huge impact on this global ranking (indeed, in average it represents a third of the global Score : 283 pts out of 818 total score all countries mixed)"
   ]
  },
  {
   "cell_type": "markdown",
   "metadata": {},
   "source": [
    "we already have a database for Africa : df_africa"
   ]
  },
  {
   "cell_type": "code",
   "execution_count": 32,
   "metadata": {},
   "outputs": [
    {
     "data": {
      "image/png": "[encoded data removed]",
      "text/plain": [
       "<Figure size 720x2520 with 1 Axes>"
      ]
     },
     "metadata": {
      "needs_background": "light"
     },
     "output_type": "display_data"
    }
   ],
   "source": [
    "df_africa = df_africa.sort_values('Happiness Score')\n",
    "plt.figure(figsize=(10 , 35))   #  make the plot height bigger with a lot of Countr to display\n",
    "plt.barh(df_africa[\"Country\"], df_africa[\"Economy\"], color='green', edgecolor='black', label = \"Economy\")\n",
    "plt.barh(df_africa[\"Country\"], df_africa[\"Family\"], color='purple', edgecolor='black', label = \"Family\", left = df_africa[\"Economy\"])\n",
    "plt.barh(df_africa[\"Country\"], df_africa[\"Health\"], color='pink', edgecolor='black', label = \"Health\", left = df_africa[\"Economy\"]+df_africa[\"Family\"])\n",
    "plt.barh(df_africa[\"Country\"], df_africa[\"Freedom\"], color='white', edgecolor='black', label = \"Freedom\", left = df_africa[\"Economy\"]+df_africa[\"Health\"]+df_africa[\"Family\"])\n",
    "plt.barh(df_africa[\"Country\"], df_africa[\"Generosity\"], color='yellow', edgecolor='black', label = \"Generosity\", left = df_africa[\"Economy\"]+df_africa[\"Health\"]+df_africa[\"Family\"]+df_africa[\"Freedom\"])\n",
    "plt.barh(df_africa[\"Country\"], df_africa[\"Corruption\"], color='red', edgecolor='black', label = \"Corruption\", left = df_africa[\"Economy\"]+df_africa[\"Health\"]+df_africa[\"Family\"]+df_africa[\"Freedom\"]+df_africa[\"Generosity\"])\n",
    "plt.barh(df_africa[\"Country\"], df_africa[\"Dystopia\"], color='grey', edgecolor='black', label = \"Dystopia\", left = df_africa[\"Economy\"]+df_africa[\"Health\"]+df_africa[\"Family\"]+df_africa[\"Freedom\"]+df_africa[\"Generosity\"]+df_africa[\"Corruption\"])\n",
    "\n",
    "\n",
    "plt.xticks([0,1,2,3,4,5,6,7,8,9]); # to ease the reading of the legend I chose to add 3 more xticks \n",
    "plt.ylabel(\"Happiness Score\");\n",
    "plt.xlabel(\"Countries\");\n",
    "\n",
    "plt.title(\"Happiness Score detailed by type for African Countries\");\n",
    "plt.legend(loc=\"upper right\");\n"
   ]
  },
  {
   "cell_type": "markdown",
   "metadata": {},
   "source": [
    "I notice on this graph, that Dystopia may have very low value and impact greatly the ranking of a country. \n",
    "Here, Botswana without Dystopia would be TOP 3 probably. (Rwanda & Tanzania are similar - this was not visible with \"Happiest Countries\")\n",
    "\n",
    "Considering Dystopia is a calculation based on the 6 key variables versus their lowest former value in an older analysis, I am a bit concerned that it may add a redundant factor which could bias the analysis (but I am not sure how yet, and shoud investigate)\n",
    "I have checked this link : \n",
    "https://s3.amazonaws.com/happiness-report/2017/HR17-Ch2.pdf\n",
    "\n",
    "Then I moved to the 2020 World Happiness Report, and it seems that they chose to keep only the 6 first factors. I have not found a reason in their report why they took it off."
   ]
  },
  {
   "cell_type": "markdown",
   "metadata": {},
   "source": [
    "# D. Histogram of Job Satisfaction\n",
    "----------------------------------"
   ]
  },
  {
   "cell_type": "markdown",
   "metadata": {},
   "source": [
    "In order to group the Satisfaction in categories, we could add a column in the dataframe (or groupby) and include a loop to \"read and classify\" each country then use a bar plot (because each category span is 10%, which makes sense)\n",
    "\n",
    "But as asked we will use a Histogram :\n",
    "\n",
    "\n"
   ]
  },
  {
   "cell_type": "code",
   "execution_count": 33,
   "metadata": {},
   "outputs": [
    {
     "name": "stderr",
     "output_type": "stream",
     "text": [
      "C:\\Users\\Utilisateur\\anaconda3v2\\envs\\exts-ml\\lib\\site-packages\\numpy\\lib\\histograms.py:754: RuntimeWarning: invalid value encountered in greater_equal\n",
      "  keep = (tmp_a >= first_edge)\n",
      "C:\\Users\\Utilisateur\\anaconda3v2\\envs\\exts-ml\\lib\\site-packages\\numpy\\lib\\histograms.py:755: RuntimeWarning: invalid value encountered in less_equal\n",
      "  keep &= (tmp_a <= last_edge)\n"
     ]
    },
    {
     "data": {
      "image/png": "[encoded data removed]",
      "text/plain": [
       "<Figure size 432x288 with 1 Axes>"
      ]
     },
     "metadata": {
      "needs_background": "light"
     },
     "output_type": "display_data"
    }
   ],
   "source": [
    "plt.hist(df_sorted['Job Satisfaction']);"
   ]
  },
  {
   "cell_type": "markdown",
   "metadata": {},
   "source": [
    "The default histogram here has a 5% categories however we want them grouped by custom categories\n",
    "\n",
    "(We also remember that we have to missing countries NaN on Job Satisfaction, but it does not put this analysis at risk of misconclusion so I chose to keep them)"
   ]
  },
  {
   "cell_type": "code",
   "execution_count": 34,
   "metadata": {},
   "outputs": [
    {
     "data": {
      "image/png": "[encoded data removed]",
      "text/plain": [
       "<Figure size 432x288 with 1 Axes>"
      ]
     },
     "metadata": {
      "needs_background": "light"
     },
     "output_type": "display_data"
    }
   ],
   "source": [
    "categories = ['40-50%','50-60%','60-70%','70-80%','80-90%','90-100%']\n",
    "ticks = [45,55,65,75,85,95] # i put the xticks on the middle of each category\n",
    "bin_size = [40,50,60,70,80,90,100] # force the number of bins, could have said bins = 6\n",
    "\n",
    "plt.hist(df_sorted['Job Satisfaction'],bins = bin_size,edgecolor = 'black');   # create the plot\n",
    "plt.xticks(ticks,categories);     \n",
    "plt.xlabel('Job Satisfaction')\n",
    "plt.ylabel('Number of Countries');\n",
    "\n"
   ]
  },
  {
   "cell_type": "markdown",
   "metadata": {},
   "source": [
    "To go further, instead of using the number of countries, (as said earlier) I would use the weight of each country based on its population (using the \"weights\" in plt.hist(weights(array_like))\n",
    "\n",
    "Remarque : With a category-type barplot, we could have added a color per region with a cumulative bar plot to notice the regional differences in Job Satisfaction as well. Which does not seem possible with a Histogram.\n",
    "\n",
    "However I found another interesting method so \"groupby\" or \"split by\" in this case"
   ]
  },
  {
   "cell_type": "code",
   "execution_count": 35,
   "metadata": {},
   "outputs": [
    {
     "data": {
      "image/png": "[encoded data removed]",
      "text/plain": [
       "<Figure size 432x288 with 6 Axes>"
      ]
     },
     "metadata": {
      "needs_background": "light"
     },
     "output_type": "display_data"
    }
   ],
   "source": [
    "df_sorted['Job Satisfaction'].hist(by = df_sorted['Region'], bins = bin_size,edgecolor = 'black');\n",
    "plt.figure.figsize =[25,10]"
   ]
  },
  {
   "cell_type": "markdown",
   "metadata": {},
   "source": [
    "**We notice, that Western Europe and North America, (as we could have expected, based on the first observations) are also the \"best\" in terms of Job Satisfaction.**"
   ]
  },
  {
   "cell_type": "markdown",
   "metadata": {},
   "source": [
    "# E. Pairwise Scatter plots\n",
    "-----------------------------"
   ]
  },
  {
   "cell_type": "markdown",
   "metadata": {},
   "source": [
    "For this kind of graphs, I will use Seaborn"
   ]
  },
  {
   "cell_type": "code",
   "execution_count": 36,
   "metadata": {},
   "outputs": [],
   "source": [
    "import seaborn as sns"
   ]
  },
  {
   "cell_type": "code",
   "execution_count": 37,
   "metadata": {},
   "outputs": [
    {
     "data": {
      "image/png": "[encoded data removed]",
      "text/plain": [
       "<Figure size 432x288 with 1 Axes>"
      ]
     },
     "metadata": {
      "needs_background": "light"
     },
     "output_type": "display_data"
    }
   ],
   "source": [
    "sns.distplot(df_sorted['Happiness Score'], vertical = False, hist = True, kde = True, color = 'y', rug = True);\n",
    "# let's check first a distribution of the Happiness Score\n",
    "# https://seaborn.pydata.org/generated/seaborn.distplot.html"
   ]
  },
  {
   "cell_type": "markdown",
   "metadata": {},
   "source": [
    "Looks like a beautiful \"almost\" Normal distribution with this **.distplot()** method"
   ]
  },
  {
   "cell_type": "markdown",
   "metadata": {},
   "source": [
    "### Scatter plots"
   ]
  },
  {
   "cell_type": "code",
   "execution_count": 38,
   "metadata": {},
   "outputs": [
    {
     "data": {
      "image/png": "[encoded data removed]",
      "text/plain": [
       "<Figure size 1440x180 with 8 Axes>"
      ]
     },
     "metadata": {
      "needs_background": "light"
     },
     "output_type": "display_data"
    }
   ],
   "source": [
    "sns.pairplot(df_sorted, x_vars = ('Economy','Family','Health','Freedom','Generosity','Corruption','Dystopia', 'Job Satisfaction'), y_vars = 'Happiness Score', kind = 'reg');"
   ]
  },
  {
   "cell_type": "markdown",
   "metadata": {},
   "source": [
    "# F. Correlation\n",
    "-----------------"
   ]
  },
  {
   "cell_type": "markdown",
   "metadata": {},
   "source": [
    "Visually, from above scatter plots, I would say, Economy, Family, Job Satisfaction and Health should be the more correlated to Happiness Score here. But let's verify with the R value, that's what we usually check. \n",
    "\n",
    "##### I checked on internet and found the **corr()** method returning a new dataframe with all numerical columns compare, it seems to be a good start. \n",
    "\n",
    "**The closer to one, the better correlated**\n"
   ]
  },
  {
   "cell_type": "code",
   "execution_count": 39,
   "metadata": {},
   "outputs": [
    {
     "data": {
      "text/html": [
       "<div>\n",
       "<style scoped>\n",
       "    .dataframe tbody tr th:only-of-type {\n",
       "        vertical-align: middle;\n",
       "    }\n",
       "\n",
       "    .dataframe tbody tr th {\n",
       "        vertical-align: top;\n",
       "    }\n",
       "\n",
       "    .dataframe thead th {\n",
       "        text-align: right;\n",
       "    }\n",
       "</style>\n",
       "<table border=\"1\" class=\"dataframe\">\n",
       "  <thead>\n",
       "    <tr style=\"text-align: right;\">\n",
       "      <th></th>\n",
       "      <th>Happiness Score</th>\n",
       "      <th>Economy</th>\n",
       "      <th>Family</th>\n",
       "      <th>Health</th>\n",
       "      <th>Freedom</th>\n",
       "      <th>Generosity</th>\n",
       "      <th>Corruption</th>\n",
       "      <th>Dystopia</th>\n",
       "      <th>Job Satisfaction</th>\n",
       "    </tr>\n",
       "  </thead>\n",
       "  <tbody>\n",
       "    <tr>\n",
       "      <th>Happiness Score</th>\n",
       "      <td>1.000000</td>\n",
       "      <td>0.811194</td>\n",
       "      <td>0.753815</td>\n",
       "      <td>0.780496</td>\n",
       "      <td>0.576027</td>\n",
       "      <td>0.160010</td>\n",
       "      <td>0.435854</td>\n",
       "      <td>0.474300</td>\n",
       "      <td>0.812873</td>\n",
       "    </tr>\n",
       "    <tr>\n",
       "      <th>Economy</th>\n",
       "      <td>0.811194</td>\n",
       "      <td>1.000000</td>\n",
       "      <td>0.688701</td>\n",
       "      <td>0.841900</td>\n",
       "      <td>0.375043</td>\n",
       "      <td>-0.017310</td>\n",
       "      <td>0.357817</td>\n",
       "      <td>0.018464</td>\n",
       "      <td>0.700662</td>\n",
       "    </tr>\n",
       "    <tr>\n",
       "      <th>Family</th>\n",
       "      <td>0.753815</td>\n",
       "      <td>0.688701</td>\n",
       "      <td>1.000000</td>\n",
       "      <td>0.612003</td>\n",
       "      <td>0.425937</td>\n",
       "      <td>0.046005</td>\n",
       "      <td>0.233749</td>\n",
       "      <td>0.073697</td>\n",
       "      <td>0.623266</td>\n",
       "    </tr>\n",
       "    <tr>\n",
       "      <th>Health</th>\n",
       "      <td>0.780496</td>\n",
       "      <td>0.841900</td>\n",
       "      <td>0.612003</td>\n",
       "      <td>1.000000</td>\n",
       "      <td>0.354683</td>\n",
       "      <td>0.065979</td>\n",
       "      <td>0.285952</td>\n",
       "      <td>0.049716</td>\n",
       "      <td>0.704795</td>\n",
       "    </tr>\n",
       "    <tr>\n",
       "      <th>Freedom</th>\n",
       "      <td>0.576027</td>\n",
       "      <td>0.375043</td>\n",
       "      <td>0.425937</td>\n",
       "      <td>0.354683</td>\n",
       "      <td>1.000000</td>\n",
       "      <td>0.312880</td>\n",
       "      <td>0.497729</td>\n",
       "      <td>0.089590</td>\n",
       "      <td>0.500655</td>\n",
       "    </tr>\n",
       "    <tr>\n",
       "      <th>Generosity</th>\n",
       "      <td>0.160010</td>\n",
       "      <td>-0.017310</td>\n",
       "      <td>0.046005</td>\n",
       "      <td>0.065979</td>\n",
       "      <td>0.312880</td>\n",
       "      <td>1.000000</td>\n",
       "      <td>0.292364</td>\n",
       "      <td>-0.103064</td>\n",
       "      <td>0.220032</td>\n",
       "    </tr>\n",
       "    <tr>\n",
       "      <th>Corruption</th>\n",
       "      <td>0.435854</td>\n",
       "      <td>0.357817</td>\n",
       "      <td>0.233749</td>\n",
       "      <td>0.285952</td>\n",
       "      <td>0.497729</td>\n",
       "      <td>0.292364</td>\n",
       "      <td>1.000000</td>\n",
       "      <td>-0.016260</td>\n",
       "      <td>0.337131</td>\n",
       "    </tr>\n",
       "    <tr>\n",
       "      <th>Dystopia</th>\n",
       "      <td>0.474300</td>\n",
       "      <td>0.018464</td>\n",
       "      <td>0.073697</td>\n",
       "      <td>0.049716</td>\n",
       "      <td>0.089590</td>\n",
       "      <td>-0.103064</td>\n",
       "      <td>-0.016260</td>\n",
       "      <td>1.000000</td>\n",
       "      <td>0.281655</td>\n",
       "    </tr>\n",
       "    <tr>\n",
       "      <th>Job Satisfaction</th>\n",
       "      <td>0.812873</td>\n",
       "      <td>0.700662</td>\n",
       "      <td>0.623266</td>\n",
       "      <td>0.704795</td>\n",
       "      <td>0.500655</td>\n",
       "      <td>0.220032</td>\n",
       "      <td>0.337131</td>\n",
       "      <td>0.281655</td>\n",
       "      <td>1.000000</td>\n",
       "    </tr>\n",
       "  </tbody>\n",
       "</table>\n",
       "</div>"
      ],
      "text/plain": [
       "                  Happiness Score   Economy    Family    Health   Freedom  \\\n",
       "Happiness Score          1.000000  0.811194  0.753815  0.780496  0.576027   \n",
       "Economy                  0.811194  1.000000  0.688701  0.841900  0.375043   \n",
       "Family                   0.753815  0.688701  1.000000  0.612003  0.425937   \n",
       "Health                   0.780496  0.841900  0.612003  1.000000  0.354683   \n",
       "Freedom                  0.576027  0.375043  0.425937  0.354683  1.000000   \n",
       "Generosity               0.160010 -0.017310  0.046005  0.065979  0.312880   \n",
       "Corruption               0.435854  0.357817  0.233749  0.285952  0.497729   \n",
       "Dystopia                 0.474300  0.018464  0.073697  0.049716  0.089590   \n",
       "Job Satisfaction         0.812873  0.700662  0.623266  0.704795  0.500655   \n",
       "\n",
       "                  Generosity  Corruption  Dystopia  Job Satisfaction  \n",
       "Happiness Score     0.160010    0.435854  0.474300          0.812873  \n",
       "Economy            -0.017310    0.357817  0.018464          0.700662  \n",
       "Family              0.046005    0.233749  0.073697          0.623266  \n",
       "Health              0.065979    0.285952  0.049716          0.704795  \n",
       "Freedom             0.312880    0.497729  0.089590          0.500655  \n",
       "Generosity          1.000000    0.292364 -0.103064          0.220032  \n",
       "Corruption          0.292364    1.000000 -0.016260          0.337131  \n",
       "Dystopia           -0.103064   -0.016260  1.000000          0.281655  \n",
       "Job Satisfaction    0.220032    0.337131  0.281655          1.000000  "
      ]
     },
     "execution_count": 39,
     "metadata": {},
     "output_type": "execute_result"
    }
   ],
   "source": [
    "correlations =df_sorted.corr()\n",
    "correlations"
   ]
  },
  {
   "cell_type": "code",
   "execution_count": 40,
   "metadata": {},
   "outputs": [
    {
     "data": {
      "image/png": "[encoded data removed]",
      "text/plain": [
       "<Figure size 432x288 with 1 Axes>"
      ]
     },
     "metadata": {
      "needs_background": "light"
     },
     "output_type": "display_data"
    }
   ],
   "source": [
    "correlations_happiness_score = correlations['Happiness Score'].sort_values()   # new dataframe with \"Happiness Score\" column only\n",
    "plt.barh(correlations_happiness_score.index, correlations_happiness_score); # plot as a horizontal bar chart with index as categories\n",
    "plt.xlabel(\"R-Value\");"
   ]
  },
  {
   "cell_type": "markdown",
   "metadata": {},
   "source": [
    "### We can conclude on this plot :\n",
    "#### Happiness Score is completely correlated to ... Happiness Score.. makes sense ! Our correlation works.\n",
    "\n",
    "#### Job Satisfaction (R = 0.813 if considered a variable here), otherwise Economy (R = 0.811), are the most correlated to Happiness Score. Maybe these 2 variables are linked together (I will check this after)\n",
    "\n",
    "##### However, I would like to precise that we should never confuse \"correlation\" and \"causality\".. it's often a mistake we can see in the media, analysis, history, medicine even science. \n",
    "\n",
    "In this case we can only say that Economy and Happiness are linked somehow.. but there could be a common other variable implying those two. \n",
    "\n",
    "Possibly a good Economy implies a good Happiness Level,\n",
    "Or a good Happiness Level, makes you work better, and improves Economy..\n",
    "OR... a brand new other factor we could have forgotten to ask or check ..\n",
    "\n",
    "In this case, a good economy, probably implies better job satisfaction and then people feel better.. but we can not be sure of the Causality, not this way at least.  It would need a double-blind experiment..not the topic here though.\n",
    "\n",
    "#### But anyway, R (~0.8) is fairly strong but not absolutely correlated.\n",
    "\n",
    "On the contrary, Generosity seems to have no correlations to Happiness Score as calculated here..\n",
    "\n"
   ]
  },
  {
   "cell_type": "code",
   "execution_count": 41,
   "metadata": {},
   "outputs": [
    {
     "data": {
      "image/png": "[encoded data removed]",
      "text/plain": [
       "<Figure size 432x288 with 1 Axes>"
      ]
     },
     "metadata": {
      "needs_background": "light"
     },
     "output_type": "display_data"
    }
   ],
   "source": [
    "correlations_economy_score = correlations['Economy'].sort_values()   # new dataframe with \"Ecomony Score\" column only\n",
    "plt.barh(correlations_economy_score.index, correlations_economy_score); # plot as a horizontal bar chart with index as categories\n",
    "plt.xlabel(\"R-Value\");"
   ]
  },
  {
   "cell_type": "markdown",
   "metadata": {},
   "source": [
    "#### Economy and Job Satisfaction here don't seem to share a good correlations. Then it makes sense to consider them as independant variables as stated above even though their own correlations to Happiness Score is about the same."
   ]
  },
  {
   "cell_type": "markdown",
   "metadata": {},
   "source": [
    "# G. Probabilities\n",
    "-------------------"
   ]
  },
  {
   "cell_type": "markdown",
   "metadata": {},
   "source": [
    "We will use the same method as in Heads or Tails analysis during the course.\n",
    "\n",
    "We consider one country picked out of the 45 df_happy_countries (happiness score > 6.0) \n",
    "\n",
    "**The variable count_happy shows us there are 45 countries, and 17 from Western Europe, so the probability = 17/45 = 0.3778**\n",
    "\n",
    "Let's compute it."
   ]
  },
  {
   "cell_type": "code",
   "execution_count": 42,
   "metadata": {},
   "outputs": [
    {
     "data": {
      "text/plain": [
       "0.405"
      ]
     },
     "execution_count": 42,
     "metadata": {},
     "output_type": "execute_result"
    }
   ],
   "source": [
    "import random\n",
    "outcome_space = np.array(df_happy_countries['Country'])\n",
    "\n",
    "experiments = 1000\n",
    "western = 0\n",
    "for i in range(experiments):\n",
    "    pick = outcome_space[random.randrange(len(outcome_space))]\n",
    "    picked_region = df_happy_countries.loc[df_happy_countries['Country'] == pick].Region\n",
    "    if picked_region.item() == 'Western Europe':\n",
    "        western += 1\n",
    "\n",
    "western / experiments"
   ]
  },
  {
   "cell_type": "markdown",
   "metadata": {},
   "source": [
    "**We finally found a very close value to what we expected !!**"
   ]
  },
  {
   "cell_type": "markdown",
   "metadata": {},
   "source": [
    "# H. Matrices\n",
    "----\n",
    "\n",
    "The matrix we want to make is a (153,6) matrix\n"
   ]
  },
  {
   "cell_type": "code",
   "execution_count": null,
   "metadata": {},
   "outputs": [],
   "source": []
  },
  {
   "cell_type": "code",
   "execution_count": 43,
   "metadata": {},
   "outputs": [
    {
     "data": {
      "text/plain": [
       "(153,)"
      ]
     },
     "execution_count": 43,
     "metadata": {},
     "output_type": "execute_result"
    }
   ],
   "source": [
    "C = np.array(df_sorted['Country'])\n",
    "C.shape"
   ]
  },
  {
   "cell_type": "code",
   "execution_count": 44,
   "metadata": {},
   "outputs": [
    {
     "data": {
      "text/plain": [
       "(6,)"
      ]
     },
     "execution_count": 44,
     "metadata": {},
     "output_type": "execute_result"
    }
   ],
   "source": [
    "R = np.array(list(set(df_sorted['Region'])))\n",
    "R.shape"
   ]
  },
  {
   "cell_type": "markdown",
   "metadata": {},
   "source": [
    "**We have two vectors of dimensions respectively (153,1) and (6,1).**\n",
    "\n",
    "Now we can create a double \"for loop\" to read line after line in C (country) if it belongs to the region in R in the dataframe."
   ]
  },
  {
   "cell_type": "code",
   "execution_count": 45,
   "metadata": {},
   "outputs": [],
   "source": [
    "mat_c_to_r= np.zeros([153,6]) ;  #as advised in the questions below the \"tasks\" I start by creating a matrix of 0\n",
    "for i in range(0,len(R)) :\n",
    "    for j in range(0,len(C)) :\n",
    "        country = C[j]\n",
    "        right_region = df_sorted.loc[df_sorted['Country'] == country].Region   # based on dataframe, what should be the right region\n",
    "        if right_region.item() == R[i] :     # compare this \"right_region\" to the column j of the matrix\n",
    "            mat_c_to_r[j,i]=1                # if ok, then = 1, otherwise it stays 0\n",
    "        "
   ]
  },
  {
   "cell_type": "code",
   "execution_count": 46,
   "metadata": {},
   "outputs": [
    {
     "data": {
      "text/plain": [
       "(153, 6)"
      ]
     },
     "execution_count": 46,
     "metadata": {},
     "output_type": "execute_result"
    }
   ],
   "source": [
    "mat_c_to_r.shape # it has still the good shape"
   ]
  },
  {
   "cell_type": "markdown",
   "metadata": {},
   "source": [
    "**let's look at this matrix in a dataframe 'easier' to read**"
   ]
  },
  {
   "cell_type": "code",
   "execution_count": 47,
   "metadata": {},
   "outputs": [
    {
     "data": {
      "text/html": [
       "<div>\n",
       "<style scoped>\n",
       "    .dataframe tbody tr th:only-of-type {\n",
       "        vertical-align: middle;\n",
       "    }\n",
       "\n",
       "    .dataframe tbody tr th {\n",
       "        vertical-align: top;\n",
       "    }\n",
       "\n",
       "    .dataframe thead th {\n",
       "        text-align: right;\n",
       "    }\n",
       "</style>\n",
       "<table border=\"1\" class=\"dataframe\">\n",
       "  <thead>\n",
       "    <tr style=\"text-align: right;\">\n",
       "      <th></th>\n",
       "      <th>0</th>\n",
       "      <th>1</th>\n",
       "      <th>2</th>\n",
       "      <th>3</th>\n",
       "      <th>4</th>\n",
       "      <th>5</th>\n",
       "    </tr>\n",
       "  </thead>\n",
       "  <tbody>\n",
       "    <tr>\n",
       "      <th>0</th>\n",
       "      <td>0.0</td>\n",
       "      <td>0.0</td>\n",
       "      <td>0.0</td>\n",
       "      <td>0.0</td>\n",
       "      <td>1.0</td>\n",
       "      <td>0.0</td>\n",
       "    </tr>\n",
       "    <tr>\n",
       "      <th>1</th>\n",
       "      <td>0.0</td>\n",
       "      <td>0.0</td>\n",
       "      <td>0.0</td>\n",
       "      <td>0.0</td>\n",
       "      <td>1.0</td>\n",
       "      <td>0.0</td>\n",
       "    </tr>\n",
       "    <tr>\n",
       "      <th>2</th>\n",
       "      <td>0.0</td>\n",
       "      <td>0.0</td>\n",
       "      <td>0.0</td>\n",
       "      <td>0.0</td>\n",
       "      <td>1.0</td>\n",
       "      <td>0.0</td>\n",
       "    </tr>\n",
       "    <tr>\n",
       "      <th>3</th>\n",
       "      <td>0.0</td>\n",
       "      <td>0.0</td>\n",
       "      <td>0.0</td>\n",
       "      <td>0.0</td>\n",
       "      <td>1.0</td>\n",
       "      <td>0.0</td>\n",
       "    </tr>\n",
       "    <tr>\n",
       "      <th>4</th>\n",
       "      <td>0.0</td>\n",
       "      <td>0.0</td>\n",
       "      <td>0.0</td>\n",
       "      <td>0.0</td>\n",
       "      <td>1.0</td>\n",
       "      <td>0.0</td>\n",
       "    </tr>\n",
       "    <tr>\n",
       "      <th>5</th>\n",
       "      <td>0.0</td>\n",
       "      <td>0.0</td>\n",
       "      <td>0.0</td>\n",
       "      <td>0.0</td>\n",
       "      <td>1.0</td>\n",
       "      <td>0.0</td>\n",
       "    </tr>\n",
       "    <tr>\n",
       "      <th>6</th>\n",
       "      <td>0.0</td>\n",
       "      <td>0.0</td>\n",
       "      <td>1.0</td>\n",
       "      <td>0.0</td>\n",
       "      <td>0.0</td>\n",
       "      <td>0.0</td>\n",
       "    </tr>\n",
       "    <tr>\n",
       "      <th>7</th>\n",
       "      <td>0.0</td>\n",
       "      <td>0.0</td>\n",
       "      <td>0.0</td>\n",
       "      <td>0.0</td>\n",
       "      <td>0.0</td>\n",
       "      <td>1.0</td>\n",
       "    </tr>\n",
       "    <tr>\n",
       "      <th>8</th>\n",
       "      <td>0.0</td>\n",
       "      <td>0.0</td>\n",
       "      <td>0.0</td>\n",
       "      <td>0.0</td>\n",
       "      <td>1.0</td>\n",
       "      <td>0.0</td>\n",
       "    </tr>\n",
       "    <tr>\n",
       "      <th>9</th>\n",
       "      <td>0.0</td>\n",
       "      <td>0.0</td>\n",
       "      <td>0.0</td>\n",
       "      <td>0.0</td>\n",
       "      <td>0.0</td>\n",
       "      <td>1.0</td>\n",
       "    </tr>\n",
       "    <tr>\n",
       "      <th>10</th>\n",
       "      <td>0.0</td>\n",
       "      <td>0.0</td>\n",
       "      <td>0.0</td>\n",
       "      <td>0.0</td>\n",
       "      <td>0.0</td>\n",
       "      <td>1.0</td>\n",
       "    </tr>\n",
       "    <tr>\n",
       "      <th>11</th>\n",
       "      <td>0.0</td>\n",
       "      <td>0.0</td>\n",
       "      <td>0.0</td>\n",
       "      <td>1.0</td>\n",
       "      <td>0.0</td>\n",
       "      <td>0.0</td>\n",
       "    </tr>\n",
       "    <tr>\n",
       "      <th>12</th>\n",
       "      <td>0.0</td>\n",
       "      <td>0.0</td>\n",
       "      <td>0.0</td>\n",
       "      <td>0.0</td>\n",
       "      <td>1.0</td>\n",
       "      <td>0.0</td>\n",
       "    </tr>\n",
       "    <tr>\n",
       "      <th>13</th>\n",
       "      <td>0.0</td>\n",
       "      <td>0.0</td>\n",
       "      <td>1.0</td>\n",
       "      <td>0.0</td>\n",
       "      <td>0.0</td>\n",
       "      <td>0.0</td>\n",
       "    </tr>\n",
       "    <tr>\n",
       "      <th>14</th>\n",
       "      <td>0.0</td>\n",
       "      <td>0.0</td>\n",
       "      <td>0.0</td>\n",
       "      <td>0.0</td>\n",
       "      <td>1.0</td>\n",
       "      <td>0.0</td>\n",
       "    </tr>\n",
       "    <tr>\n",
       "      <th>15</th>\n",
       "      <td>0.0</td>\n",
       "      <td>0.0</td>\n",
       "      <td>0.0</td>\n",
       "      <td>0.0</td>\n",
       "      <td>1.0</td>\n",
       "      <td>0.0</td>\n",
       "    </tr>\n",
       "    <tr>\n",
       "      <th>16</th>\n",
       "      <td>0.0</td>\n",
       "      <td>0.0</td>\n",
       "      <td>0.0</td>\n",
       "      <td>0.0</td>\n",
       "      <td>1.0</td>\n",
       "      <td>0.0</td>\n",
       "    </tr>\n",
       "    <tr>\n",
       "      <th>17</th>\n",
       "      <td>0.0</td>\n",
       "      <td>0.0</td>\n",
       "      <td>0.0</td>\n",
       "      <td>0.0</td>\n",
       "      <td>1.0</td>\n",
       "      <td>0.0</td>\n",
       "    </tr>\n",
       "    <tr>\n",
       "      <th>18</th>\n",
       "      <td>0.0</td>\n",
       "      <td>0.0</td>\n",
       "      <td>0.0</td>\n",
       "      <td>0.0</td>\n",
       "      <td>1.0</td>\n",
       "      <td>0.0</td>\n",
       "    </tr>\n",
       "    <tr>\n",
       "      <th>19</th>\n",
       "      <td>0.0</td>\n",
       "      <td>0.0</td>\n",
       "      <td>0.0</td>\n",
       "      <td>1.0</td>\n",
       "      <td>0.0</td>\n",
       "      <td>0.0</td>\n",
       "    </tr>\n",
       "    <tr>\n",
       "      <th>20</th>\n",
       "      <td>0.0</td>\n",
       "      <td>0.0</td>\n",
       "      <td>0.0</td>\n",
       "      <td>0.0</td>\n",
       "      <td>0.0</td>\n",
       "      <td>1.0</td>\n",
       "    </tr>\n",
       "    <tr>\n",
       "      <th>21</th>\n",
       "      <td>0.0</td>\n",
       "      <td>0.0</td>\n",
       "      <td>0.0</td>\n",
       "      <td>1.0</td>\n",
       "      <td>0.0</td>\n",
       "      <td>0.0</td>\n",
       "    </tr>\n",
       "    <tr>\n",
       "      <th>22</th>\n",
       "      <td>0.0</td>\n",
       "      <td>0.0</td>\n",
       "      <td>0.0</td>\n",
       "      <td>0.0</td>\n",
       "      <td>1.0</td>\n",
       "      <td>0.0</td>\n",
       "    </tr>\n",
       "    <tr>\n",
       "      <th>23</th>\n",
       "      <td>0.0</td>\n",
       "      <td>0.0</td>\n",
       "      <td>0.0</td>\n",
       "      <td>1.0</td>\n",
       "      <td>0.0</td>\n",
       "      <td>0.0</td>\n",
       "    </tr>\n",
       "    <tr>\n",
       "      <th>24</th>\n",
       "      <td>0.0</td>\n",
       "      <td>0.0</td>\n",
       "      <td>0.0</td>\n",
       "      <td>1.0</td>\n",
       "      <td>0.0</td>\n",
       "      <td>0.0</td>\n",
       "    </tr>\n",
       "    <tr>\n",
       "      <th>25</th>\n",
       "      <td>0.0</td>\n",
       "      <td>0.0</td>\n",
       "      <td>0.0</td>\n",
       "      <td>0.0</td>\n",
       "      <td>0.0</td>\n",
       "      <td>1.0</td>\n",
       "    </tr>\n",
       "    <tr>\n",
       "      <th>26</th>\n",
       "      <td>0.0</td>\n",
       "      <td>0.0</td>\n",
       "      <td>0.0</td>\n",
       "      <td>0.0</td>\n",
       "      <td>1.0</td>\n",
       "      <td>0.0</td>\n",
       "    </tr>\n",
       "    <tr>\n",
       "      <th>27</th>\n",
       "      <td>0.0</td>\n",
       "      <td>0.0</td>\n",
       "      <td>0.0</td>\n",
       "      <td>1.0</td>\n",
       "      <td>0.0</td>\n",
       "      <td>0.0</td>\n",
       "    </tr>\n",
       "    <tr>\n",
       "      <th>28</th>\n",
       "      <td>0.0</td>\n",
       "      <td>0.0</td>\n",
       "      <td>0.0</td>\n",
       "      <td>1.0</td>\n",
       "      <td>0.0</td>\n",
       "      <td>0.0</td>\n",
       "    </tr>\n",
       "    <tr>\n",
       "      <th>29</th>\n",
       "      <td>0.0</td>\n",
       "      <td>0.0</td>\n",
       "      <td>0.0</td>\n",
       "      <td>1.0</td>\n",
       "      <td>0.0</td>\n",
       "      <td>0.0</td>\n",
       "    </tr>\n",
       "    <tr>\n",
       "      <th>...</th>\n",
       "      <td>...</td>\n",
       "      <td>...</td>\n",
       "      <td>...</td>\n",
       "      <td>...</td>\n",
       "      <td>...</td>\n",
       "      <td>...</td>\n",
       "    </tr>\n",
       "    <tr>\n",
       "      <th>123</th>\n",
       "      <td>1.0</td>\n",
       "      <td>0.0</td>\n",
       "      <td>0.0</td>\n",
       "      <td>0.0</td>\n",
       "      <td>0.0</td>\n",
       "      <td>0.0</td>\n",
       "    </tr>\n",
       "    <tr>\n",
       "      <th>124</th>\n",
       "      <td>1.0</td>\n",
       "      <td>0.0</td>\n",
       "      <td>0.0</td>\n",
       "      <td>0.0</td>\n",
       "      <td>0.0</td>\n",
       "      <td>0.0</td>\n",
       "    </tr>\n",
       "    <tr>\n",
       "      <th>125</th>\n",
       "      <td>1.0</td>\n",
       "      <td>0.0</td>\n",
       "      <td>0.0</td>\n",
       "      <td>0.0</td>\n",
       "      <td>0.0</td>\n",
       "      <td>0.0</td>\n",
       "    </tr>\n",
       "    <tr>\n",
       "      <th>126</th>\n",
       "      <td>0.0</td>\n",
       "      <td>0.0</td>\n",
       "      <td>0.0</td>\n",
       "      <td>0.0</td>\n",
       "      <td>0.0</td>\n",
       "      <td>1.0</td>\n",
       "    </tr>\n",
       "    <tr>\n",
       "      <th>127</th>\n",
       "      <td>1.0</td>\n",
       "      <td>0.0</td>\n",
       "      <td>0.0</td>\n",
       "      <td>0.0</td>\n",
       "      <td>0.0</td>\n",
       "      <td>0.0</td>\n",
       "    </tr>\n",
       "    <tr>\n",
       "      <th>128</th>\n",
       "      <td>1.0</td>\n",
       "      <td>0.0</td>\n",
       "      <td>0.0</td>\n",
       "      <td>0.0</td>\n",
       "      <td>0.0</td>\n",
       "      <td>0.0</td>\n",
       "    </tr>\n",
       "    <tr>\n",
       "      <th>129</th>\n",
       "      <td>0.0</td>\n",
       "      <td>1.0</td>\n",
       "      <td>0.0</td>\n",
       "      <td>0.0</td>\n",
       "      <td>0.0</td>\n",
       "      <td>0.0</td>\n",
       "    </tr>\n",
       "    <tr>\n",
       "      <th>130</th>\n",
       "      <td>1.0</td>\n",
       "      <td>0.0</td>\n",
       "      <td>0.0</td>\n",
       "      <td>0.0</td>\n",
       "      <td>0.0</td>\n",
       "      <td>0.0</td>\n",
       "    </tr>\n",
       "    <tr>\n",
       "      <th>131</th>\n",
       "      <td>1.0</td>\n",
       "      <td>0.0</td>\n",
       "      <td>0.0</td>\n",
       "      <td>0.0</td>\n",
       "      <td>0.0</td>\n",
       "      <td>0.0</td>\n",
       "    </tr>\n",
       "    <tr>\n",
       "      <th>132</th>\n",
       "      <td>1.0</td>\n",
       "      <td>0.0</td>\n",
       "      <td>0.0</td>\n",
       "      <td>0.0</td>\n",
       "      <td>0.0</td>\n",
       "      <td>0.0</td>\n",
       "    </tr>\n",
       "    <tr>\n",
       "      <th>133</th>\n",
       "      <td>1.0</td>\n",
       "      <td>0.0</td>\n",
       "      <td>0.0</td>\n",
       "      <td>0.0</td>\n",
       "      <td>0.0</td>\n",
       "      <td>0.0</td>\n",
       "    </tr>\n",
       "    <tr>\n",
       "      <th>134</th>\n",
       "      <td>1.0</td>\n",
       "      <td>0.0</td>\n",
       "      <td>0.0</td>\n",
       "      <td>0.0</td>\n",
       "      <td>0.0</td>\n",
       "      <td>0.0</td>\n",
       "    </tr>\n",
       "    <tr>\n",
       "      <th>135</th>\n",
       "      <td>1.0</td>\n",
       "      <td>0.0</td>\n",
       "      <td>0.0</td>\n",
       "      <td>0.0</td>\n",
       "      <td>0.0</td>\n",
       "      <td>0.0</td>\n",
       "    </tr>\n",
       "    <tr>\n",
       "      <th>136</th>\n",
       "      <td>1.0</td>\n",
       "      <td>0.0</td>\n",
       "      <td>0.0</td>\n",
       "      <td>0.0</td>\n",
       "      <td>0.0</td>\n",
       "      <td>0.0</td>\n",
       "    </tr>\n",
       "    <tr>\n",
       "      <th>137</th>\n",
       "      <td>1.0</td>\n",
       "      <td>0.0</td>\n",
       "      <td>0.0</td>\n",
       "      <td>0.0</td>\n",
       "      <td>0.0</td>\n",
       "      <td>0.0</td>\n",
       "    </tr>\n",
       "    <tr>\n",
       "      <th>138</th>\n",
       "      <td>0.0</td>\n",
       "      <td>0.0</td>\n",
       "      <td>0.0</td>\n",
       "      <td>0.0</td>\n",
       "      <td>0.0</td>\n",
       "      <td>1.0</td>\n",
       "    </tr>\n",
       "    <tr>\n",
       "      <th>139</th>\n",
       "      <td>1.0</td>\n",
       "      <td>0.0</td>\n",
       "      <td>0.0</td>\n",
       "      <td>0.0</td>\n",
       "      <td>0.0</td>\n",
       "      <td>0.0</td>\n",
       "    </tr>\n",
       "    <tr>\n",
       "      <th>140</th>\n",
       "      <td>1.0</td>\n",
       "      <td>0.0</td>\n",
       "      <td>0.0</td>\n",
       "      <td>0.0</td>\n",
       "      <td>0.0</td>\n",
       "      <td>0.0</td>\n",
       "    </tr>\n",
       "    <tr>\n",
       "      <th>141</th>\n",
       "      <td>1.0</td>\n",
       "      <td>0.0</td>\n",
       "      <td>0.0</td>\n",
       "      <td>0.0</td>\n",
       "      <td>0.0</td>\n",
       "      <td>0.0</td>\n",
       "    </tr>\n",
       "    <tr>\n",
       "      <th>142</th>\n",
       "      <td>0.0</td>\n",
       "      <td>0.0</td>\n",
       "      <td>0.0</td>\n",
       "      <td>1.0</td>\n",
       "      <td>0.0</td>\n",
       "      <td>0.0</td>\n",
       "    </tr>\n",
       "    <tr>\n",
       "      <th>143</th>\n",
       "      <td>0.0</td>\n",
       "      <td>0.0</td>\n",
       "      <td>0.0</td>\n",
       "      <td>0.0</td>\n",
       "      <td>0.0</td>\n",
       "      <td>1.0</td>\n",
       "    </tr>\n",
       "    <tr>\n",
       "      <th>144</th>\n",
       "      <td>1.0</td>\n",
       "      <td>0.0</td>\n",
       "      <td>0.0</td>\n",
       "      <td>0.0</td>\n",
       "      <td>0.0</td>\n",
       "      <td>0.0</td>\n",
       "    </tr>\n",
       "    <tr>\n",
       "      <th>145</th>\n",
       "      <td>1.0</td>\n",
       "      <td>0.0</td>\n",
       "      <td>0.0</td>\n",
       "      <td>0.0</td>\n",
       "      <td>0.0</td>\n",
       "      <td>0.0</td>\n",
       "    </tr>\n",
       "    <tr>\n",
       "      <th>146</th>\n",
       "      <td>1.0</td>\n",
       "      <td>0.0</td>\n",
       "      <td>0.0</td>\n",
       "      <td>0.0</td>\n",
       "      <td>0.0</td>\n",
       "      <td>0.0</td>\n",
       "    </tr>\n",
       "    <tr>\n",
       "      <th>147</th>\n",
       "      <td>1.0</td>\n",
       "      <td>0.0</td>\n",
       "      <td>0.0</td>\n",
       "      <td>0.0</td>\n",
       "      <td>0.0</td>\n",
       "      <td>0.0</td>\n",
       "    </tr>\n",
       "    <tr>\n",
       "      <th>148</th>\n",
       "      <td>1.0</td>\n",
       "      <td>0.0</td>\n",
       "      <td>0.0</td>\n",
       "      <td>0.0</td>\n",
       "      <td>0.0</td>\n",
       "      <td>0.0</td>\n",
       "    </tr>\n",
       "    <tr>\n",
       "      <th>149</th>\n",
       "      <td>0.0</td>\n",
       "      <td>0.0</td>\n",
       "      <td>0.0</td>\n",
       "      <td>0.0</td>\n",
       "      <td>0.0</td>\n",
       "      <td>1.0</td>\n",
       "    </tr>\n",
       "    <tr>\n",
       "      <th>150</th>\n",
       "      <td>1.0</td>\n",
       "      <td>0.0</td>\n",
       "      <td>0.0</td>\n",
       "      <td>0.0</td>\n",
       "      <td>0.0</td>\n",
       "      <td>0.0</td>\n",
       "    </tr>\n",
       "    <tr>\n",
       "      <th>151</th>\n",
       "      <td>1.0</td>\n",
       "      <td>0.0</td>\n",
       "      <td>0.0</td>\n",
       "      <td>0.0</td>\n",
       "      <td>0.0</td>\n",
       "      <td>0.0</td>\n",
       "    </tr>\n",
       "    <tr>\n",
       "      <th>152</th>\n",
       "      <td>1.0</td>\n",
       "      <td>0.0</td>\n",
       "      <td>0.0</td>\n",
       "      <td>0.0</td>\n",
       "      <td>0.0</td>\n",
       "      <td>0.0</td>\n",
       "    </tr>\n",
       "  </tbody>\n",
       "</table>\n",
       "<p>153 rows × 6 columns</p>\n",
       "</div>"
      ],
      "text/plain": [
       "       0    1    2    3    4    5\n",
       "0    0.0  0.0  0.0  0.0  1.0  0.0\n",
       "1    0.0  0.0  0.0  0.0  1.0  0.0\n",
       "2    0.0  0.0  0.0  0.0  1.0  0.0\n",
       "3    0.0  0.0  0.0  0.0  1.0  0.0\n",
       "4    0.0  0.0  0.0  0.0  1.0  0.0\n",
       "5    0.0  0.0  0.0  0.0  1.0  0.0\n",
       "6    0.0  0.0  1.0  0.0  0.0  0.0\n",
       "7    0.0  0.0  0.0  0.0  0.0  1.0\n",
       "8    0.0  0.0  0.0  0.0  1.0  0.0\n",
       "9    0.0  0.0  0.0  0.0  0.0  1.0\n",
       "10   0.0  0.0  0.0  0.0  0.0  1.0\n",
       "11   0.0  0.0  0.0  1.0  0.0  0.0\n",
       "12   0.0  0.0  0.0  0.0  1.0  0.0\n",
       "13   0.0  0.0  1.0  0.0  0.0  0.0\n",
       "14   0.0  0.0  0.0  0.0  1.0  0.0\n",
       "15   0.0  0.0  0.0  0.0  1.0  0.0\n",
       "16   0.0  0.0  0.0  0.0  1.0  0.0\n",
       "17   0.0  0.0  0.0  0.0  1.0  0.0\n",
       "18   0.0  0.0  0.0  0.0  1.0  0.0\n",
       "19   0.0  0.0  0.0  1.0  0.0  0.0\n",
       "20   0.0  0.0  0.0  0.0  0.0  1.0\n",
       "21   0.0  0.0  0.0  1.0  0.0  0.0\n",
       "22   0.0  0.0  0.0  0.0  1.0  0.0\n",
       "23   0.0  0.0  0.0  1.0  0.0  0.0\n",
       "24   0.0  0.0  0.0  1.0  0.0  0.0\n",
       "25   0.0  0.0  0.0  0.0  0.0  1.0\n",
       "26   0.0  0.0  0.0  0.0  1.0  0.0\n",
       "27   0.0  0.0  0.0  1.0  0.0  0.0\n",
       "28   0.0  0.0  0.0  1.0  0.0  0.0\n",
       "29   0.0  0.0  0.0  1.0  0.0  0.0\n",
       "..   ...  ...  ...  ...  ...  ...\n",
       "123  1.0  0.0  0.0  0.0  0.0  0.0\n",
       "124  1.0  0.0  0.0  0.0  0.0  0.0\n",
       "125  1.0  0.0  0.0  0.0  0.0  0.0\n",
       "126  0.0  0.0  0.0  0.0  0.0  1.0\n",
       "127  1.0  0.0  0.0  0.0  0.0  0.0\n",
       "128  1.0  0.0  0.0  0.0  0.0  0.0\n",
       "129  0.0  1.0  0.0  0.0  0.0  0.0\n",
       "130  1.0  0.0  0.0  0.0  0.0  0.0\n",
       "131  1.0  0.0  0.0  0.0  0.0  0.0\n",
       "132  1.0  0.0  0.0  0.0  0.0  0.0\n",
       "133  1.0  0.0  0.0  0.0  0.0  0.0\n",
       "134  1.0  0.0  0.0  0.0  0.0  0.0\n",
       "135  1.0  0.0  0.0  0.0  0.0  0.0\n",
       "136  1.0  0.0  0.0  0.0  0.0  0.0\n",
       "137  1.0  0.0  0.0  0.0  0.0  0.0\n",
       "138  0.0  0.0  0.0  0.0  0.0  1.0\n",
       "139  1.0  0.0  0.0  0.0  0.0  0.0\n",
       "140  1.0  0.0  0.0  0.0  0.0  0.0\n",
       "141  1.0  0.0  0.0  0.0  0.0  0.0\n",
       "142  0.0  0.0  0.0  1.0  0.0  0.0\n",
       "143  0.0  0.0  0.0  0.0  0.0  1.0\n",
       "144  1.0  0.0  0.0  0.0  0.0  0.0\n",
       "145  1.0  0.0  0.0  0.0  0.0  0.0\n",
       "146  1.0  0.0  0.0  0.0  0.0  0.0\n",
       "147  1.0  0.0  0.0  0.0  0.0  0.0\n",
       "148  1.0  0.0  0.0  0.0  0.0  0.0\n",
       "149  0.0  0.0  0.0  0.0  0.0  1.0\n",
       "150  1.0  0.0  0.0  0.0  0.0  0.0\n",
       "151  1.0  0.0  0.0  0.0  0.0  0.0\n",
       "152  1.0  0.0  0.0  0.0  0.0  0.0\n",
       "\n",
       "[153 rows x 6 columns]"
      ]
     },
     "execution_count": 47,
     "metadata": {},
     "output_type": "execute_result"
    }
   ],
   "source": [
    "df_matrix = pd.DataFrame(mat_c_to_r)\n",
    "df_matrix"
   ]
  },
  {
   "cell_type": "markdown",
   "metadata": {},
   "source": [
    "¨**We have finally created a matrix with 153 rows and 6 columns and exactly one \"1\" per country !**"
   ]
  },
  {
   "cell_type": "markdown",
   "metadata": {},
   "source": [
    "# I. Conclusion\n",
    "----------------------"
   ]
  },
  {
   "cell_type": "markdown",
   "metadata": {},
   "source": [
    "This subject is very interesting and allowed me to deepen my understanding of Panda mostly, but also Numpy and globally developping. I am really grateful to see how useful it can be. (Although as a Business Analyst I would have been way faster in Excel :) except the Seaborn and Probability part which are really impressive) But in the future, when I will train and test huge amount of data in an Artificial Neural Network, I will remember this moment as an important milesone in my carreer and personnal projects !\n",
    "\n",
    "As for the dataset itself, it was very interesting to link all these variables together, but as I mentioned earlier, it is a rather small dataset to make big statistical analysis on a so big topic. Even more when the topic is about Human behavior, we could add a quasi-infinite number of variables to cross together to understand everything. And also, to keep in mind not to conclude too quickly between Correlation and Causality.\n",
    "\n",
    "I am eager to move on and looking forward to starting Machine Learning."
   ]
  }
 ],
 "metadata": {
  "kernelspec": {
   "display_name": "Python 3",
   "language": "python",
   "name": "python3"
  },
  "language_info": {
   "codemirror_mode": {
    "name": "ipython",
    "version": 3
   },
   "file_extension": ".py",
   "mimetype": "text/x-python",
   "name": "python",
   "nbconvert_exporter": "python",
   "pygments_lexer": "ipython3",
   "version": "3.6.12"
  }
 },
 "nbformat": 4,
 "nbformat_minor": 4
}
