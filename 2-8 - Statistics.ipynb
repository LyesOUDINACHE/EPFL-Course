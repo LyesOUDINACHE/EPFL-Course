{
 "cells": [
  {
   "cell_type": "markdown",
   "id": "every-factory",
   "metadata": {},
   "source": [
    "# Why should we study statistics?\n",
    "Reasoning about uncertainty is a fundamental task in the work of a data scientist. Statistical analysis can help us with every step of the data science process: from designing data collection methods to gaining insights from data, and constructing models for making predictions about data. In particular statistical inference is concerned with drawing conclusions about a population from a representative sample. This can prove extremely useful in many situations and can even help us avoid working with flawed data. As a historical anecdote consider the famous example of the German Tank Problem in World World II. The Allied forced wanted to estimate the number of tanks that the Germans produced per month, by exploiting the fact that the serial numbers of the tanks were always assigned ascending numbers. Now the German tanks which fell into the hands of the Allied forced provided the necessary sample, and the rest was up to statistics! Conventional intelligence methods were claiming numbers around 1550, however, the statistical approach produced an estimate of 270. Later on, historical records revealed that the Germans were indeed producing around 270 tanks per month.\n",
    "\n",
    "# Connections to probability\n",
    "**Now the mathematical foundations behind statistics lie in probability theory, thus to study the former we must first understand the latter. We introduced the fundamentals of probability theory in the first course to give you exactly the tools that you will need to study statistics.**\n",
    "\n",
    "If you recall from the probability subject, we learned how to compute the probabilities of certain events given the distributions of the random variables. For example, we saw that when we toss a fair coin \n",
    "n\n",
    " times the number of heads \n",
    "X\n",
    " is a random variable with distribution \n",
    "B\n",
    "i\n",
    "n\n",
    "o\n",
    "m\n",
    "i\n",
    "a\n",
    "l\n",
    "(\n",
    "n\n",
    ",\n",
    "1\n",
    "/\n",
    "2\n",
    ")\n",
    ". We could then use the probability distribution of binomial random variable to compute the probability of events such as obtaining exactly \n",
    "k\n",
    " heads in \n",
    "n\n",
    " tosses. Now, in statistics, we are somewhat interested in the opposite problem. We want to answer questions such as: Suppose we know that \n",
    "Y\n",
    "∼\n",
    "B\n",
    "i\n",
    "n\n",
    "o\n",
    "m\n",
    "i\n",
    "a\n",
    "l\n",
    "(\n",
    "100\n",
    ",\n",
    "p\n",
    ")\n",
    " and we have observed several values of \n",
    "Y\n",
    ". What can we then conclude about \n",
    "p\n",
    "? So here we have some observed outcomes, and we want to find information about the underlying probability distributions of the random variable giving these outcomes."
   ]
  },
  {
   "cell_type": "markdown",
   "id": "collectible-spouse",
   "metadata": {},
   "source": [
    "**If a coincidence seems too unlikely, then it probably wasn't really a coincidence**\n",
    "\n",
    "see The Suspicious Coin"
   ]
  },
  {
   "cell_type": "markdown",
   "id": "catholic-deputy",
   "metadata": {},
   "source": [
    "# 03. Sampling and estimation\n",
    "\n",
    "#### Populations and Samples\n",
    "When talking about statistical analysis of data the first thing we must establish is the notion of population versus sample. The population refers to the entire set of data. The sample is a set of (one or more) observations from the data. The general setup in statistical data analysis is that we have a few observed values (a sample) and using these values we want to draw conclusions about the entire data set that these values came from (the population). This process is also called generalization.\n",
    "\n",
    "We refer to the properties of the population as parameters and the properties of the sample as statistics. We then use statistical inference to make guesses about population parameters based on statistics we computed on the samples."
   ]
  },
  {
   "cell_type": "code",
   "execution_count": null,
   "id": "greatest-championship",
   "metadata": {},
   "outputs": [],
   "source": [
    "from IPython.display import Image\n",
    "Image(url= \"https://d7whxh71cqykp.cloudfront.net/uploads/image/data/4336/population_sample.png\")"
   ]
  },
  {
   "cell_type": "markdown",
   "id": "unable-station",
   "metadata": {},
   "source": [
    "The figure above shows an example of a complete population on the left (measured on two different features). The two density plots on the top and right indicate the value distribution on feature 2 and feature 1. The right side of the figure shows three examples of a randomly selected sample. While sample 01 and sample 02 randomly selected data points from the whole population, sample 03 only selected points if they had a positive value."
   ]
  },
  {
   "cell_type": "markdown",
   "id": "valid-machinery",
   "metadata": {},
   "source": [
    "#### Sample selection\n",
    "\n",
    "So far we have distinguished between a population and a sample, but we haven't specified anything about how we might get a sample. A common procedure is to select samples at random (as in the example of sample 01 and sample 02 in the figure above). It is always a good idea to ensure that **the selection of samples covers sufficiently all of the parameters that we mean to study**. For example, if we are interested in studying the efficacy of a new therapy for people that suffer from celiac disease then we must ensure that in our sample we consider patients with all levels of celiac disease from mild, medium to severe.\n",
    "\n",
    "**Another important aspect is the sample size. Studies can often fail because the sample size is too small, preventing us from observing an effect of the desired magnitude. When determining what is a sufficient sample size we must always consider the variance of the parameter we want to study as well as the magnitude of the expected effect in relation to the standard deviation of the parameter.**\n",
    "\n",
    "Finally, **we must think of the sample bias.** It is not sufficient to have a large sample size, since if we have a selection bias then we will never achieve a representative response (as in the example of sample 03 in the figure above). For example, when conducting a survey, it is often the case that the number of people that respond is a small percentage of the total number of people contacted. And people that usually respond to a survey are different than those who do not. This is what is known as **non-response bias.**\n",
    "\n",
    "As discussed above we can see that sample selection is no easy matter. This is why we **often use randomization since it helps us avoid or at least minimize the problems** that can occur with sample selection. **Random sampling means that each element of the population has an equal chance of being chosen for the sample at each draw.** The type of sample we obtain in this fashion is called a ***simple random sample.*** We can perform the sampling with replacement, by putting back the observations back into the population after each draw or without replacement where once selected, observations are no longer available for future draws.\n",
    "\n",
    "In Python, we have built-in functions that help us do random selection both with and without replacement. Let's look at some examples. We start with the usual import statements"
   ]
  },
  {
   "cell_type": "code",
   "execution_count": 2,
   "id": "dental-thursday",
   "metadata": {},
   "outputs": [],
   "source": [
    "import numpy as np\n",
    "import pandas as pd\n",
    "import scipy.stats as stats\n",
    "from matplotlib import pyplot as plt\n",
    "%matplotlib inline"
   ]
  },
  {
   "cell_type": "code",
   "execution_count": 3,
   "id": "deluxe-cornell",
   "metadata": {},
   "outputs": [
    {
     "data": {
      "image/png": "[encoded data removed]",
      "text/plain": [
       "<Figure size 432x288 with 1 Axes>"
      ]
     },
     "metadata": {
      "needs_background": "light"
     },
     "output_type": "display_data"
    }
   ],
   "source": [
    "N = 100000\n",
    "val = np.random.random(N)\n",
    "plt.hist(val, 100, color='r', edgecolor='b')\n",
    "plt.title(\"Histogram of random numbers drawn from the Uniform distribution\")\n",
    "plt.show()"
   ]
  },
  {
   "cell_type": "markdown",
   "id": "amazing-fireplace",
   "metadata": {},
   "source": [
    "Similarly, we can use the function random.randn() to sample from the Gaussian distribution"
   ]
  },
  {
   "cell_type": "code",
   "execution_count": 4,
   "id": "lonely-treasurer",
   "metadata": {},
   "outputs": [
    {
     "data": {
      "text/plain": [
       "Text(0.5, 1.0, 'Histogram of random numbers drawn from the Gaussian distribution')"
      ]
     },
     "execution_count": 4,
     "metadata": {},
     "output_type": "execute_result"
    },
    {
     "data": {
      "image/png": "[encoded data removed]",
      "text/plain": [
       "<Figure size 432x288 with 1 Axes>"
      ]
     },
     "metadata": {
      "needs_background": "light"
     },
     "output_type": "display_data"
    }
   ],
   "source": [
    "val2 = np.random.randn(N)\n",
    "plt.hist(val2, 100, color='r', edgecolor='b')\n",
    "plt.title(\"Histogram of random numbers drawn from the Gaussian distribution\")"
   ]
  },
  {
   "cell_type": "markdown",
   "id": "related-routine",
   "metadata": {},
   "source": [
    "These two functions perform the same operation and return a continuous random sample uniformly distributed between \n",
    "0\n",
    " and \n",
    "1\n",
    ". In fact, both functions use the same method in the background (the numpy.random.random_sample method). The only difference is in the way we call them whenever we want to generate a 2-dimensional matrix of random numbers.\n",
    "\n",
    "- In numpy.random.rand, each dimension is passed separately. For example, if we want to generate a \n",
    "3\n",
    " by \n",
    "5\n",
    " matrix of random numbers uniformly distributed in \n",
    "[\n",
    "0\n",
    ",\n",
    "1\n",
    "]\n",
    ", we use numpy.random.rand(3,5).\n",
    "\n",
    "- In numpy.random.random, both dimensions should be passed as a tuple. For example, if we want to generate a \n",
    "3\n",
    " by \n",
    "5\n",
    " matrix of random numbers uniformly distributed in \n",
    "[\n",
    "0\n",
    ",\n",
    "1\n",
    "]\n",
    ", we use numpy.random.random((3,5)). Note the double parenthesis here, without it the function throws an error. This difference does not show for a single dimension where the tuple is not needed here.\n",
    "\n",
    "I hope this clarifies the difference."
   ]
  },
  {
   "cell_type": "markdown",
   "id": "acknowledged-referral",
   "metadata": {},
   "source": [
    "#### The central limit theorem\n",
    "In course one, you were introduced to the concept of the Central Limit Theorem. Roughly speaking this theorem tells us that the following: **As long as the sample size is large enough the sums (or means) of random samples resemble the normal distribution, even if the population itself is not normally distributed.**\n",
    "\n",
    "This theorem basically underlies the whole idea behind hypothesis testing and confidence intervals (that we will cover in more depth in the next units).\n",
    "\n",
    "Let's test this with our previous example of the random sample from the Uniform distribution. The code below plots the sums of \n",
    "k\n",
    " random variables from the uniform distribution for values of \n",
    "k\n",
    " equal to \n",
    "1\n",
    ",\n",
    "2\n",
    ",\n",
    "4\n",
    " and \n",
    "8\n",
    ". We can see that the more times we iterate this process the closer we approach the normal distribution."
   ]
  },
  {
   "cell_type": "code",
   "execution_count": 5,
   "id": "attached-dinner",
   "metadata": {},
   "outputs": [
    {
     "data": {
      "image/png": "[encoded data removed]",
      "text/plain": [
       "<Figure size 1296x720 with 4 Axes>"
      ]
     },
     "metadata": {
      "needs_background": "light"
     },
     "output_type": "display_data"
    }
   ],
   "source": [
    "# define the number of random variables\n",
    "N = 10000 \n",
    "\n",
    "# define the number of iterations \n",
    "it = [1,2, 4, 8]\n",
    "\n",
    "f = plt.figure(figsize=(18, 10))\n",
    "for i in range(4):\n",
    "    # define an array of zeros which will hold the sums\n",
    "    x = np.zeros((N))\n",
    "    subplot = f.add_subplot(2,2,i+1)\n",
    "    for j in range(N):\n",
    "        for k in range(it[i]):\n",
    "            x[j]= x[j]+np.random.random()   \n",
    "    plt.hist(x, 100, density=True, color='r', edgecolor='b')\n",
    "    plt.title('Number of iterations = '+str(it[i]))\n",
    "    plt.setp(subplot.get_yticklabels(), visible=False)\n",
    "\n",
    "plt.suptitle(\"Addition of uniform random variables converges to a Gaussian distribution\",fontsize=20);\n",
    "plt.show()   "
   ]
  },
  {
   "cell_type": "markdown",
   "id": "rising-soundtrack",
   "metadata": {},
   "source": [
    "e can see that the shape of the distribution of the sums clearly approaches the normal distribution as we increase the number of iterations. In the remainder of this subject, we will assume that our population always consists of independent and identically distributed random variables and that our sample size is large enough for the central limit theorem to apply."
   ]
  },
  {
   "cell_type": "code",
   "execution_count": 6,
   "id": "offensive-apparel",
   "metadata": {},
   "outputs": [
    {
     "name": "stderr",
     "output_type": "stream",
     "text": [
      "C:\\Users\\Utilisateur\\anaconda3v2\\envs\\exts-ml\\lib\\site-packages\\matplotlib\\figure.py:98: MatplotlibDeprecationWarning: \n",
      "Adding an axes using the same arguments as a previous axes currently reuses the earlier instance.  In a future version, a new instance will always be created and returned.  Meanwhile, this warning can be suppressed, and the future behavior ensured, by passing a unique label to each axes instance.\n",
      "  \"Adding an axes using the same arguments as a previous axes \"\n"
     ]
    },
    {
     "data": {
      "image/png": "[encoded data removed]",
      "text/plain": [
       "<Figure size 1296x720 with 1 Axes>"
      ]
     },
     "metadata": {
      "needs_background": "light"
     },
     "output_type": "display_data"
    }
   ],
   "source": [
    "# define the number of random variables\n",
    "N = 10000 \n",
    "\n",
    "# define the number of iterations \n",
    "it = [1,2, 4, 8]\n",
    "\n",
    "f = plt.figure(figsize=(18, 10))\n",
    "for i in range(4):\n",
    "    # define an array of zeros which will hold the sums\n",
    "    x = np.zeros((N))\n",
    "    subplot = f.add_subplot(2,1,1)\n",
    "    for j in range(N):\n",
    "        for k in range(it[i]):\n",
    "            x[j]= x[j]+np.random.random()   \n",
    "    plt.hist(x, 100, density=True, color='r', edgecolor='b')\n",
    "    plt.title('Number of iterations = '+str(it[i]))\n",
    "    plt.setp(subplot.get_yticklabels(), visible=False)\n",
    "\n",
    "plt.suptitle(\"Addition of uniform random variables converges to a Gaussian distribution\",fontsize=20);\n",
    "plt.show()   "
   ]
  },
  {
   "cell_type": "markdown",
   "id": "sufficient-conjunction",
   "metadata": {},
   "source": [
    "# Measures of center and spread\n",
    "\n",
    "In the previous unit, we introduced the notions of population and sample. We said that a statistic was a property of the sample which is used to estimate a parameter or a property of the population. In this unit, we take a look at some of the most popular choices of statistics. Computing these statistics forms the numerical part of the exploratory data analysis concept that we introduced in the first course.\n",
    "\n",
    "#### Measures of center\n",
    "\n",
    "The first thing that we usually ask about a data set is its center. The center helps us quickly make an approximation about the data itself. For example, if we were interested in the amount of rainfall in Portland, Oregan we can quickly compute the average value for each month to get an idea. But what exactly is a center value? As it turns out there are several ways to define this.\n",
    "\n",
    "What we usually refer to as the average is the arithmetic mean and is found by adding up all the values and diving by the total number of values. So if our sample consisted of the values \n",
    "x\n",
    "1\n",
    ",\n",
    "⋯\n",
    ",\n",
    "x\n",
    "n\n",
    " the mean is given by\n",
    "\n",
    "¯\n",
    "x\n",
    "=\n",
    "∑\n",
    "n\n",
    "i\n",
    "=\n",
    "1\n",
    "x\n",
    "i\n",
    "n\n"
   ]
  },
  {
   "cell_type": "code",
   "execution_count": 7,
   "id": "large-zoning",
   "metadata": {},
   "outputs": [
    {
     "data": {
      "text/plain": [
       "76.25"
      ]
     },
     "execution_count": 7,
     "metadata": {},
     "output_type": "execute_result"
    }
   ],
   "source": [
    "import numpy as np\n",
    "\n",
    "val = [78,75,82,70]\n",
    "np.mean(val)\n"
   ]
  },
  {
   "cell_type": "code",
   "execution_count": 8,
   "id": "complex-laugh",
   "metadata": {},
   "outputs": [
    {
     "data": {
      "text/plain": [
       "63.0"
      ]
     },
     "execution_count": 8,
     "metadata": {},
     "output_type": "execute_result"
    }
   ],
   "source": [
    "val2=[78,75,82,70,10]\n",
    "np.mean(val2)"
   ]
  },
  {
   "cell_type": "markdown",
   "id": "tutorial-departure",
   "metadata": {},
   "source": [
    "We can see that this new value caused the mean to drop quite a bit. This is because the mean is easily affected by outliers. Another concept of the center which is less affected by outliers is the median. The median is obtained by sorting the data set and then taking the value which is in the middle. **If the data set has an odd number of entries that this will be a unique value. If the dataset has an even number of entries then there will be two values in the middle and the median is defined as their average in this case.** Let's try this out with our previous lists"
   ]
  },
  {
   "cell_type": "code",
   "execution_count": 9,
   "id": "prime-definition",
   "metadata": {},
   "outputs": [
    {
     "data": {
      "text/plain": [
       "76.5"
      ]
     },
     "execution_count": 9,
     "metadata": {},
     "output_type": "execute_result"
    }
   ],
   "source": [
    "np.median(val)"
   ]
  },
  {
   "cell_type": "code",
   "execution_count": 10,
   "id": "known-cuisine",
   "metadata": {},
   "outputs": [
    {
     "data": {
      "text/plain": [
       "75.0"
      ]
     },
     "execution_count": 10,
     "metadata": {},
     "output_type": "execute_result"
    }
   ],
   "source": [
    "np.median(val2)"
   ]
  },
  {
   "cell_type": "markdown",
   "id": "grave-motivation",
   "metadata": {},
   "source": [
    "#### Measures of variation\n",
    "After determining the center of a data set the second most common question is to look at the spread of the data. In particular, how far away can the points be from the center? For this let's introduce a list with more values"
   ]
  },
  {
   "cell_type": "code",
   "execution_count": 11,
   "id": "growing-principal",
   "metadata": {},
   "outputs": [],
   "source": [
    "val3=[94, 66, 51,  8, 10, 34, 69, 21, 49, 16, 21, 83, 44, 69, 29,  7, 26,\n",
    "       77, 90, 53, 58, 84, 45, 14, 41,  7, 47, 86, 24, 48, 71, 71, 34, 86,\n",
    "       52, 17,  8, 84, 41, 70, 61, 85,  6, 14, 58, 12, 99, 81, 16, 93]"
   ]
  },
  {
   "cell_type": "code",
   "execution_count": 12,
   "id": "piano-medium",
   "metadata": {},
   "outputs": [
    {
     "data": {
      "text/plain": [
       "93"
      ]
     },
     "execution_count": 12,
     "metadata": {},
     "output_type": "execute_result"
    }
   ],
   "source": [
    "np.max(val3) - np.min(val3)\n"
   ]
  },
  {
   "cell_type": "markdown",
   "id": "vertical-floating",
   "metadata": {},
   "source": [
    "A more commonly used measure of spread is the standard deviation. For a random sample \n",
    "x\n",
    "1\n",
    ",\n",
    "⋯\n",
    ",\n",
    "x\n",
    "n\n",
    " with mean \n",
    "¯\n",
    "x\n",
    " the standard deviation is given by"
   ]
  },
  {
   "cell_type": "markdown",
   "id": "charming-burke",
   "metadata": {},
   "source": [
    "The quantity under the square root is called the variance. Both the variance and the standard deviation are a measure of how far away the data points are from the mean. We can compute them easily in Python using the following functions from NumPy"
   ]
  },
  {
   "cell_type": "code",
   "execution_count": 13,
   "id": "ready-resistance",
   "metadata": {},
   "outputs": [
    {
     "data": {
      "text/plain": [
       "48.6"
      ]
     },
     "execution_count": 13,
     "metadata": {},
     "output_type": "execute_result"
    }
   ],
   "source": [
    "np.mean(val3)"
   ]
  },
  {
   "cell_type": "code",
   "execution_count": 14,
   "id": "fixed-stranger",
   "metadata": {},
   "outputs": [
    {
     "data": {
      "text/plain": [
       "828.8400000000001"
      ]
     },
     "execution_count": 14,
     "metadata": {},
     "output_type": "execute_result"
    }
   ],
   "source": [
    "np.var(val3)"
   ]
  },
  {
   "cell_type": "code",
   "execution_count": 15,
   "id": "educated-uganda",
   "metadata": {},
   "outputs": [
    {
     "data": {
      "text/plain": [
       "28.78958144885056"
      ]
     },
     "execution_count": 15,
     "metadata": {},
     "output_type": "execute_result"
    }
   ],
   "source": [
    "np.std(val3)"
   ]
  },
  {
   "cell_type": "code",
   "execution_count": 16,
   "id": "august-logging",
   "metadata": {},
   "outputs": [],
   "source": [
    "import matplotlib.pyplot as plt\n",
    "%matplotlib inline"
   ]
  },
  {
   "cell_type": "code",
   "execution_count": 17,
   "id": "growing-juvenile",
   "metadata": {},
   "outputs": [
    {
     "data": {
      "image/png": "[encoded data removed]",
      "text/plain": [
       "<Figure size 432x288 with 1 Axes>"
      ]
     },
     "metadata": {
      "needs_background": "light"
     },
     "output_type": "display_data"
    }
   ],
   "source": [
    "x_pos = range(50)\n",
    "plt.bar(x_pos, val3)\n",
    "plt.plot((0,50),(49,49),'b')\n",
    "plt.plot((0,50),(49+29,49+29),'r')\n",
    "plt.plot((0,50),(49-29,49-29),'r')\n",
    "plt.show()"
   ]
  },
  {
   "cell_type": "markdown",
   "id": "crucial-cause",
   "metadata": {},
   "source": [
    "We can see how indeed most of the data lies between the two red lines.\n",
    "\n",
    "We can also think of the standard deviation in terms of error prediction. Suppose we wanted to predict a value for the random variable \n",
    "X\n",
    " and we chose some value \n",
    "c\n",
    ". Then the error would be \n",
    "X\n",
    "−\n",
    "c\n",
    ". Now, the error could be either positive or negative, so it is more useful to look at the squared error \n",
    "(\n",
    "X\n",
    "−\n",
    "c\n",
    ")\n",
    "2\n",
    ".\n",
    "\n",
    "Why is that? Imagine that you have an error of -10, and an error of 10. If you just took the average, your error would be 0! In order to prevent this kind of problems, the values are squared, as this makes sure that negative errors will not cancel positive errors. (This is not the only reason why errors are often squared, but it is nevertheless an important side effect.)\n",
    "\n",
    "Now, we would like to pick the value \n",
    "c\n",
    " which would minimize this error. Performing some algebraic computations will reveal that this error is minimized when \n",
    "c\n",
    "=\n",
    "E\n",
    "(\n",
    "X\n",
    ")\n",
    ", which matches our intuition that \n",
    "E\n",
    "(\n",
    "X\n",
    ")\n",
    " is a good predictor for the value of \n",
    "X\n",
    ". That is, \n",
    "E\n",
    "(\n",
    "X\n",
    ")\n",
    " achieves the smallest mean squared error. And when we plug in \n",
    "c\n",
    "=\n",
    "E\n",
    "(\n",
    "X\n",
    ")\n",
    ", we obtain that the mean squared error is exactly \n",
    "σ\n",
    "2\n",
    "X\n",
    ". Therefore, the standard deviation is the smallest root mean squared error possible and it is achieved when predicting \n",
    "E\n",
    "(\n",
    "X\n",
    ")\n",
    " for \n",
    "X\n",
    ".\n",
    "\n",
    "\n",
    "#### Standard error\n",
    "Given a sample of size \n",
    "n\n",
    " and using the standard deviation \n",
    "s\n",
    " of the sample values, the standard error is defined as\n",
    "\n",
    "S\n",
    "E\n",
    "=\n",
    "s\n",
    "√\n",
    "n\n",
    "−\n",
    "1\n",
    "By taking a glance at this formula the first thing we should notice is that as the sample size \n",
    "n\n",
    " increases the standard error decreases. This relationship is often referred to as the square-root of \n",
    "n\n",
    " rule. For example, it implies that to decrease the standard error by a factor of 2 we must increase the sample size by a factor of 4.\n",
    "\n",
    "In Python, we can compute the standard error of a data set using the stats.sem() function"
   ]
  },
  {
   "cell_type": "code",
   "execution_count": 18,
   "id": "prepared-liverpool",
   "metadata": {},
   "outputs": [
    {
     "data": {
      "text/plain": [
       "4.112797349835794"
      ]
     },
     "execution_count": 18,
     "metadata": {},
     "output_type": "execute_result"
    }
   ],
   "source": [
    "stats.sem(val3)"
   ]
  },
  {
   "cell_type": "markdown",
   "id": "looking-rendering",
   "metadata": {},
   "source": [
    "This means that if we took multiple samples from this population then we would expect the standard deviation of the means of these samples to be around 4.11.\n",
    "\n",
    "\n",
    "#### Other measures: the z-score\n",
    "The \n",
    "z\n",
    "-score is an essential value in statistics, and you might have heard of it already. Essentially it tells us how far away a specific data value is from the mean. For a data value \n",
    "x\n",
    ", the \n",
    "z\n",
    "-score is given by\n",
    "z\n",
    "=\n",
    "x\n",
    "−\n",
    "¯\n",
    "x/\n",
    "s\n",
    "where \n",
    "s\n",
    " is the standard deviation and \n",
    "¯\n",
    "x\n",
    " is the mean. The \n",
    "z\n",
    "-score helps us normalize data and put it in context in terms of its mean. Let's compute the \n",
    "z\n",
    "-scores for our previous example"
   ]
  },
  {
   "cell_type": "code",
   "execution_count": 19,
   "id": "premium-imaging",
   "metadata": {},
   "outputs": [],
   "source": [
    "mean= np.mean(val3)\n",
    "std = np.std(val3)\n",
    "zscores=[]\n",
    "for val in val3:\n",
    "    z = (val-mean)/std\n",
    "    zscores.append(z)"
   ]
  },
  {
   "cell_type": "code",
   "execution_count": 20,
   "id": "caroline-serum",
   "metadata": {},
   "outputs": [
    {
     "data": {
      "image/png": "[encoded data removed]",
      "text/plain": [
       "<Figure size 432x288 with 1 Axes>"
      ]
     },
     "metadata": {
      "needs_background": "light"
     },
     "output_type": "display_data"
    }
   ],
   "source": [
    "plt.bar(x_pos,zscores)\n",
    "plt.show()"
   ]
  },
  {
   "cell_type": "markdown",
   "id": "organic-interference",
   "metadata": {},
   "source": [
    "**We say that the data set is now standardized because it has a mean of \n",
    "0\n",
    " and a standard deviation of \n",
    "1**\n",
    ". This can be a very useful property when we want to talk about the scales of different datasets. You will see later in the program that in machine learning it is extremely common to standardize data sets and there are prebuilt standardization packages that do all the work for us."
   ]
  },
  {
   "cell_type": "markdown",
   "id": "handy-holly",
   "metadata": {},
   "source": [
    "Hi\n",
    "There exist two definitions of standard deviation:\n",
    "\n",
    "(Population) Standard deviation (aka uncorrected standard deviation):\n",
    "s\n",
    "=\n",
    "σ\n",
    "D\n",
    "=\n",
    "√\n",
    "∑\n",
    "(\n",
    "x\n",
    "i\n",
    "−\n",
    "¯\n",
    "x\n",
    ")/\n",
    "n\n",
    "\n",
    "Note, we used \n",
    "s\n",
    " in the unit, and I used \n",
    "σ\n",
    "D\n",
    " in my first reply above. This is typically used for populations and datasets to calculate the exact standard deviation for that data set. This is the version most familiar to people from basic probability and stats at school and implemented by numpy.std() (documentation), as used in this unit, or statistics.pstdev() (documentation).\n",
    "\n",
    "Sample standard deviation (aka corrected standard deviation):\n",
    "σ\n",
    "s\n",
    "a\n",
    "m\n",
    "p\n",
    "l\n",
    "e\n",
    "=\n",
    "√\n",
    "∑\n",
    "(\n",
    "x\n",
    "i\n",
    "−\n",
    "¯\n",
    "x\n",
    ")/\n",
    "(n\n",
    "−\n",
    "1)\n",
    "\n",
    "Very often we don't have access to the full population and we are only working with a sample. In that case we would like to give an estimate the true population standard deviation. Thus we use \n",
    "σ\n",
    "s\n",
    "a\n",
    "m\n",
    "p\n",
    "l\n",
    "e\n",
    " with \n",
    "n\n",
    "−\n",
    "1\n",
    " in the denominator instead of \n",
    "n\n",
    ". This is the version used in statistics courses and textbooks and also implemented by pandas.std() (documentation) and statistics.stdev() (documentation)."
   ]
  },
  {
   "cell_type": "markdown",
   "id": "forward-desperate",
   "metadata": {},
   "source": [
    "# Covariance and correlation\n",
    "\n",
    "When dealing with data, especially when it comes to random sampling, there are two popular measures of association that we need to be familiar with: covariance and correlation. In the previous unit, you learned about mean, variance and standard deviation. In this unit, we discuss one of the most popular and also most misunderstood topics in statistical analysis: correlation.\n",
    "\n",
    "Correlation is about a mutual relationship between two data sets. Before we can introduce correlation we must first talk about another concept.\n",
    "\n",
    "Covariance is a measure of how much two random variables change together. Let \n",
    "X\n",
    " and \n",
    "Y\n",
    " be two random variables. Then the covariance of \n",
    "X\n",
    " and \n",
    "Y\n",
    " is the expected value of the product of the deviations of \n",
    "X\n",
    " and \n",
    "Y\n",
    " from their respective mean\n",
    " \n",
    " Cov(X,Y) = \\sigma_{XY} = E[ (X - E[X] ) (Y-E[Y] ) ] = E[XY]- E[X]E[Y]"
   ]
  },
  {
   "cell_type": "markdown",
   "id": "lesbian-pavilion",
   "metadata": {},
   "source": [
    "Let's decompose the first part of the formula. We start by first centering each random variable by subtracting its mean. We then multiply the centered scores and take the expected value of the product. Notice that covariance can be either positive, negative or zero. If we replace \n",
    "Y\n",
    " by \n",
    "X\n",
    " then we get the formula for the variance of \n",
    "X\n",
    "."
   ]
  },
  {
   "cell_type": "markdown",
   "id": "outstanding-diameter",
   "metadata": {},
   "source": [
    "For the second part of the formula is derived by combining the linearity of expected values with the fact that an expected values is a constant, so that \n",
    "E\n",
    "[\n",
    "E\n",
    "[\n",
    "X\n",
    "]\n",
    "]\n",
    "=\n",
    "E\n",
    "[\n",
    "X\n",
    "]\n",
    " and \n",
    "E\n",
    "[\n",
    "X\n",
    "E\n",
    "[\n",
    "Y\n",
    "]\n",
    "]\n",
    "=\n",
    "E\n",
    "[\n",
    "X\n",
    "]\n",
    "E\n",
    "[\n",
    "Y\n",
    "]\n",
    ". Recall from our subject on Probability that whenever two random variables \n",
    "X\n",
    " and \n",
    "Y\n",
    " are independent, the expected value of their product is the product of their expected values. Hence, the covariance of independent variables is zero. Intuitively this makes sense since two independent random variables do not depend at all on each other so they should have zero covariance. **However, as we will show at the end, the converse is not true. Zero correlation does not imply independence.**\n",
    " \n",
    "Now when the covariance is negative it means that as one value goes up the other goes down. On the other hand, when the covariance is positive it means that an increase in one value causes an increase in the other value. Now magnitude of the covariance indicates exactly how much a change in one value causes a change in the second. When the relationship between two variables is strong, meaning they are very dependent we expect a high magnitude of the covariance."
   ]
  },
  {
   "cell_type": "markdown",
   "id": "viral-emerald",
   "metadata": {},
   "source": [
    "But there is a problem interpreting this measure. The problem with covariance is that it keeps the scale of the variables can, therefore, take on any values. This makes comparing covariances a difficult task. For example if we know that \n",
    "C\n",
    "o\n",
    "v\n",
    "(\n",
    "X\n",
    ",\n",
    "Y\n",
    ")\n",
    "=\n",
    "2\n",
    " and \n",
    "C\n",
    "o\n",
    "v\n",
    "(\n",
    "Y\n",
    ",\n",
    "Z\n",
    ")\n",
    "=\n",
    "8\n",
    " we can conclude that both pairs of random variables are positively correlated but we cannot say if the relationship between \n",
    "X\n",
    " and \n",
    "Y\n",
    " is stronger than the relationship between \n",
    "Y\n",
    " and \n",
    "Z\n",
    ".\n",
    "\n",
    "This is exactly where correlation comes in. It gives us a standardized measure of dependence, meaning that if there is a perfect linear relationship then we will always have a correlation coefficient of \n",
    "1\n",
    " or \n",
    "−\n",
    "1\n",
    ".\n",
    "\n",
    "Then the correlation of \n",
    "X\n",
    " and \n",
    "Y\n",
    " is defined as\n",
    "\n",
    "C\n",
    "o\n",
    "r\n",
    "r\n",
    "(\n",
    "X\n",
    ",\n",
    "Y\n",
    ")\n",
    "=\n",
    "C\n",
    "o\n",
    "v\n",
    "(\n",
    "X\n",
    ",\n",
    "Y\n",
    ")\n",
    "σ\n",
    "X\n",
    "σ\n",
    "Y\n",
    "It follows directly that two independent variables will always have a correlation of zero. On the other hand, a correlation of \n",
    "1\n",
    " means a perfect linear relationship, where increasing \n",
    "X\n",
    " also increase \n",
    "Y\n",
    " by the same factor. And a correlation of \n",
    "−\n",
    "1\n",
    " is also reflecting a perfect linear relationship but where an increase in \n",
    "X\n",
    " results in a decrease in \n",
    "Y\n",
    " of the same factor.\n",
    "\n",
    "Let's look at some examples. Suppose we sample two normally distributed random variables as follows"
   ]
  },
  {
   "cell_type": "code",
   "execution_count": 21,
   "id": "selected-template",
   "metadata": {},
   "outputs": [],
   "source": [
    "import numpy as np\n",
    "import pandas as pd\n",
    "\n",
    "\n",
    "X = np.random.randn(1,50)\n",
    "Y = np.random.randn(1,50)"
   ]
  },
  {
   "cell_type": "code",
   "execution_count": 22,
   "id": "trained-premiere",
   "metadata": {},
   "outputs": [
    {
     "data": {
      "image/png": "[encoded data removed]",
      "text/plain": [
       "<Figure size 432x288 with 1 Axes>"
      ]
     },
     "metadata": {
      "needs_background": "light"
     },
     "output_type": "display_data"
    }
   ],
   "source": [
    "plt.scatter(X,Y)\n",
    "plt.show()"
   ]
  },
  {
   "cell_type": "code",
   "execution_count": 23,
   "id": "located-hollow",
   "metadata": {},
   "outputs": [
    {
     "data": {
      "text/plain": [
       "Text(0.5, 1.0, 'Histogram of random numbers drawn from the Gaussian distribution')"
      ]
     },
     "execution_count": 23,
     "metadata": {},
     "output_type": "execute_result"
    },
    {
     "data": {
      "image/png": "[encoded data removed]",
      "text/plain": [
       "<Figure size 432x288 with 1 Axes>"
      ]
     },
     "metadata": {
      "needs_background": "light"
     },
     "output_type": "display_data"
    }
   ],
   "source": [
    "# retest\n",
    "\n",
    "X1 = np.random.randn(5000)\n",
    "plt.hist(X1, 100, color='r', edgecolor='b')\n",
    "plt.title(\"Histogram of random numbers drawn from the Gaussian distribution\")"
   ]
  },
  {
   "cell_type": "markdown",
   "id": "nominated-stuart",
   "metadata": {},
   "source": [
    "Since the two sampling are completely independent we do not expect a strong relationship between the variables. The plot seems to confirm this. Let's now check the correlation. We can use NumPy's np.corrcoef() function for this."
   ]
  },
  {
   "cell_type": "code",
   "execution_count": 24,
   "id": "proprietary-aging",
   "metadata": {},
   "outputs": [
    {
     "data": {
      "text/plain": [
       "array([[ 1.        , -0.04510123],\n",
       "       [-0.04510123,  1.        ]])"
      ]
     },
     "execution_count": 24,
     "metadata": {},
     "output_type": "execute_result"
    }
   ],
   "source": [
    "np.corrcoef(X,Y)"
   ]
  },
  {
   "cell_type": "markdown",
   "id": "metric-saying",
   "metadata": {},
   "source": [
    "What we get back is a correlation matrix whose diagonal entries are \n",
    "C\n",
    "o\n",
    "r\n",
    "r\n",
    "(\n",
    "X\n",
    ",\n",
    "X\n",
    ")\n",
    " and \n",
    "C\n",
    "o\n",
    "r\n",
    "r\n",
    "(\n",
    "Y\n",
    ",\n",
    "Y\n",
    ")\n",
    " while the off-diagonal entries are \n",
    "C\n",
    "o\n",
    "r\n",
    "r\n",
    "(\n",
    "X\n",
    ",\n",
    "Y\n",
    ")\n",
    " and \n",
    "C\n",
    "o\n",
    "r\n",
    "r\n",
    "(\n",
    "Y\n",
    ",\n",
    "X\n",
    ")\n",
    ". So as we expected the correlation between \n",
    "X\n",
    " and \n",
    "Y\n",
    " is close to zero. But what if we now look at two much more closely correlated variables. **For example, what do you think the correlation between \n",
    "X\n",
    " and \n",
    "−\n",
    "3\n",
    "X\n",
    " would be?**\n",
    " \n",
    " -1 !"
   ]
  },
  {
   "cell_type": "code",
   "execution_count": 25,
   "id": "sapphire-bandwidth",
   "metadata": {},
   "outputs": [
    {
     "data": {
      "image/png": "[encoded data removed]",
      "text/plain": [
       "<Figure size 432x288 with 1 Axes>"
      ]
     },
     "metadata": {
      "needs_background": "light"
     },
     "output_type": "display_data"
    }
   ],
   "source": [
    "plt.scatter(X,-3*X)\n",
    "plt.show()"
   ]
  },
  {
   "cell_type": "code",
   "execution_count": 26,
   "id": "legal-syndrome",
   "metadata": {},
   "outputs": [
    {
     "data": {
      "text/plain": [
       "array([[ 1., -1.],\n",
       "       [-1.,  1.]])"
      ]
     },
     "execution_count": 26,
     "metadata": {},
     "output_type": "execute_result"
    }
   ],
   "source": [
    "np.corrcoef(X,-3*X)\n"
   ]
  },
  {
   "cell_type": "code",
   "execution_count": 27,
   "id": "numerous-metallic",
   "metadata": {},
   "outputs": [
    {
     "data": {
      "image/png": "[encoded data removed]",
      "text/plain": [
       "<Figure size 432x288 with 1 Axes>"
      ]
     },
     "metadata": {
      "needs_background": "light"
     },
     "output_type": "display_data"
    }
   ],
   "source": [
    "plt.scatter(X,X+Y)\n",
    "plt.show()"
   ]
  },
  {
   "cell_type": "code",
   "execution_count": 28,
   "id": "legal-ordering",
   "metadata": {},
   "outputs": [
    {
     "data": {
      "text/plain": [
       "array([[1.        , 0.58549438],\n",
       "       [0.58549438, 1.        ]])"
      ]
     },
     "execution_count": 28,
     "metadata": {},
     "output_type": "execute_result"
    }
   ],
   "source": [
    "np.corrcoef(X,X+Y)"
   ]
  },
  {
   "cell_type": "markdown",
   "id": "imported-grocery",
   "metadata": {},
   "source": [
    "**Most of the time you will likely work with data stored in a DataFrame so you might be more interested in the pandas version of correlation so lets define a DataFrame with normally distributed values**"
   ]
  },
  {
   "cell_type": "code",
   "execution_count": 29,
   "id": "familiar-voltage",
   "metadata": {},
   "outputs": [
    {
     "data": {
      "text/html": [
       "<div>\n",
       "<style scoped>\n",
       "    .dataframe tbody tr th:only-of-type {\n",
       "        vertical-align: middle;\n",
       "    }\n",
       "\n",
       "    .dataframe tbody tr th {\n",
       "        vertical-align: top;\n",
       "    }\n",
       "\n",
       "    .dataframe thead th {\n",
       "        text-align: right;\n",
       "    }\n",
       "</style>\n",
       "<table border=\"1\" class=\"dataframe\">\n",
       "  <thead>\n",
       "    <tr style=\"text-align: right;\">\n",
       "      <th></th>\n",
       "      <th>X</th>\n",
       "      <th>Y</th>\n",
       "    </tr>\n",
       "  </thead>\n",
       "  <tbody>\n",
       "    <tr>\n",
       "      <th>0</th>\n",
       "      <td>-1.816076</td>\n",
       "      <td>-0.495067</td>\n",
       "    </tr>\n",
       "    <tr>\n",
       "      <th>1</th>\n",
       "      <td>-0.051739</td>\n",
       "      <td>-0.069811</td>\n",
       "    </tr>\n",
       "    <tr>\n",
       "      <th>2</th>\n",
       "      <td>-1.132575</td>\n",
       "      <td>-0.559216</td>\n",
       "    </tr>\n",
       "    <tr>\n",
       "      <th>3</th>\n",
       "      <td>0.056791</td>\n",
       "      <td>-1.405682</td>\n",
       "    </tr>\n",
       "    <tr>\n",
       "      <th>4</th>\n",
       "      <td>1.363702</td>\n",
       "      <td>-1.061367</td>\n",
       "    </tr>\n",
       "  </tbody>\n",
       "</table>\n",
       "</div>"
      ],
      "text/plain": [
       "          X         Y\n",
       "0 -1.816076 -0.495067\n",
       "1 -0.051739 -0.069811\n",
       "2 -1.132575 -0.559216\n",
       "3  0.056791 -1.405682\n",
       "4  1.363702 -1.061367"
      ]
     },
     "execution_count": 29,
     "metadata": {},
     "output_type": "execute_result"
    }
   ],
   "source": [
    "df = pd.DataFrame(np.random.randn(50, 2), columns=list('XY'))  # ou columns=('X','Y') \n",
    "df.head()"
   ]
  },
  {
   "cell_type": "code",
   "execution_count": 30,
   "id": "actual-islam",
   "metadata": {},
   "outputs": [
    {
     "data": {
      "text/plain": [
       "0.16254442289905807"
      ]
     },
     "execution_count": 30,
     "metadata": {},
     "output_type": "execute_result"
    }
   ],
   "source": [
    "df['X'].corr(df['Y'])"
   ]
  },
  {
   "cell_type": "markdown",
   "id": "assigned-broadcast",
   "metadata": {},
   "source": [
    "An important thing to realize when talking about correlation is that two random variables can have a correlation of zero but still be dependent. This is because **correlation only captures linear relationships, but variables can be related in non-linear ways as well.**"
   ]
  },
  {
   "cell_type": "code",
   "execution_count": 31,
   "id": "cleared-participant",
   "metadata": {},
   "outputs": [],
   "source": [
    "t=np.arange(0, 20, 0.2)\n",
    "X=np.cos(t)\n",
    "Y=np.sin(t)"
   ]
  },
  {
   "cell_type": "code",
   "execution_count": 32,
   "id": "operational-christmas",
   "metadata": {},
   "outputs": [
    {
     "data": {
      "image/png": "[encoded data removed]",
      "text/plain": [
       "<Figure size 432x288 with 1 Axes>"
      ]
     },
     "metadata": {
      "needs_background": "light"
     },
     "output_type": "display_data"
    }
   ],
   "source": [
    "plt.scatter(X,Y)\n",
    "plt.show()"
   ]
  },
  {
   "cell_type": "code",
   "execution_count": 33,
   "id": "collectible-insured",
   "metadata": {},
   "outputs": [
    {
     "data": {
      "text/plain": [
       "array([[1.        , 0.03508976],\n",
       "       [0.03508976, 1.        ]])"
      ]
     },
     "execution_count": 33,
     "metadata": {},
     "output_type": "execute_result"
    }
   ],
   "source": [
    "np.corrcoef(X,Y)"
   ]
  },
  {
   "cell_type": "markdown",
   "id": "improving-costs",
   "metadata": {},
   "source": [
    "we can see that they have a correlation of almost zero. This is because they are dependent in a non-linear way, and this is not captured by the correlation coefficient."
   ]
  },
  {
   "cell_type": "markdown",
   "id": "facial-advisory",
   "metadata": {},
   "source": [
    "Remarque : \n",
    "    \n",
    "- Standard deviation: \n",
    "σ\n",
    "D\n",
    " is the standard deviation of D.\n",
    "- Variance: \n",
    "σ\n",
    "2\n",
    "D\n",
    " is the variance of D.\n",
    "- Covariance: \n",
    "σ\n",
    "X\n",
    "Y\n",
    " is the covariance of X and Y.\n"
   ]
  },
  {
   "cell_type": "markdown",
   "id": "short-million",
   "metadata": {},
   "source": [
    "**OTHER QUESTION :** X is a random variable that is drawn at random from a population of possible outcomes. This randomness is quantified in terms of a probability distribution associated with X. The population (plus some measure to quantify randomness or probabilities) and the random variable X are essentially equivalent.\n",
    "\n",
    "Just to make sure that we do not confuse statistics and parameters:\n",
    "A statistic is a quantity calculated from the population or a sample, e.g. the mean, median or variance.\n",
    "Yes, the sample mean \n",
    "¯\n",
    "x\n",
    " is a statistic of a sample \n",
    "x\n",
    "=\n",
    "(\n",
    "x\n",
    "1\n",
    ",\n",
    "…\n",
    ",\n",
    "x\n",
    "n\n",
    ")\n",
    " taken from our population. We can calculate it explicitly for a chosen sample, but its value varies from sample to sample.\n",
    "μ\n",
    " or \n",
    "E\n",
    "[\n",
    "X\n",
    "]\n",
    " denote the true population mean. It is a fixed value but it may be unknown to us as we may not know the underlying population explicitly.\n",
    "\n",
    "We may model the population, respectively the random variable X, to have a specific probability distribution, with some associated parameters.\n",
    "The normal distribution \n",
    "N\n",
    "(\n",
    "μ\n",
    ",\n",
    "σ\n",
    ")\n",
    " is a special example as the parameters \n",
    "μ\n",
    ",\n",
    "σ\n",
    " give rise to two statistics, namely, the population mean and the standard deviation. Hence, we use the same notation in this case.\n",
    "For the binomial distribution \n",
    "B\n",
    "i\n",
    "n\n",
    "(\n",
    "n\n",
    ",\n",
    "p\n",
    ")\n",
    " the parameters \n",
    "n\n",
    ",\n",
    "p\n",
    " are not statistics, but they can be used to calculate common statistics, e.g. \n",
    "μ\n",
    "=\n",
    "n\n",
    "p\n",
    "."
   ]
  },
  {
   "cell_type": "markdown",
   "id": "sensitive-ukraine",
   "metadata": {},
   "source": [
    "# Point estimates and confidence intervals\n",
    "\n",
    "#### Point estimates\n",
    "In the previous units, we introduced the concepts of a population and a sample and we explained how statistical analysis can help us estimate a property of a population by observing the same property in the sample. For example, we might have a random sample \n",
    "X\n",
    "1\n",
    ",\n",
    "⋯\n",
    ",\n",
    "X\n",
    "n\n",
    " of size \n",
    "n\n",
    " and we might calculate the mean of this sample\n",
    "\n",
    "^\n",
    "μ\n",
    "=\n",
    "∑\n",
    "n\n",
    "i\n",
    "=\n",
    "1\n",
    "X\n",
    "i\n",
    "n\n",
    "Then \n",
    "^\n",
    "μ\n",
    " is what we call a point estimate since it estimates the true mean \n",
    "μ\n",
    " of the population. Usually \n",
    "^\n",
    "μ\n",
    " will not be exactly the same as \n",
    "μ\n",
    ".\n",
    "\n",
    "Let's give this a try with Python. We will need the following imports\n"
   ]
  },
  {
   "cell_type": "code",
   "execution_count": 34,
   "id": "casual-eclipse",
   "metadata": {},
   "outputs": [],
   "source": [
    "import numpy as np\n",
    "import pandas as pd\n",
    "import scipy.stats as stats\n",
    "import matplotlib.pyplot as plt\n",
    "import random\n",
    "%matplotlib inline"
   ]
  },
  {
   "cell_type": "code",
   "execution_count": 35,
   "id": "muslim-visiting",
   "metadata": {},
   "outputs": [],
   "source": [
    "poisson1 = stats.poisson.rvs(mu=55, size=200000)\n",
    "poisson2 = stats.poisson.rvs(mu=10, size=100000)\n",
    "population = np.concatenate((poisson1, poisson2))"
   ]
  },
  {
   "cell_type": "code",
   "execution_count": 36,
   "id": "yellow-cancer",
   "metadata": {},
   "outputs": [
    {
     "data": {
      "text/plain": [
       "40.006926666666665"
      ]
     },
     "execution_count": 36,
     "metadata": {},
     "output_type": "execute_result"
    }
   ],
   "source": [
    "population.mean()"
   ]
  },
  {
   "cell_type": "code",
   "execution_count": 37,
   "id": "married-america",
   "metadata": {},
   "outputs": [],
   "source": [
    "sample= np.random.choice(population, size=1000)  "
   ]
  },
  {
   "cell_type": "code",
   "execution_count": 38,
   "id": "labeled-buying",
   "metadata": {},
   "outputs": [
    {
     "data": {
      "image/png": "[encoded data removed]",
      "text/plain": [
       "<Figure size 432x288 with 1 Axes>"
      ]
     },
     "metadata": {
      "needs_background": "light"
     },
     "output_type": "display_data"
    }
   ],
   "source": [
    "plt.hist(population, 100, color='r', edgecolor='b');"
   ]
  },
  {
   "cell_type": "code",
   "execution_count": 39,
   "id": "purple-entrepreneur",
   "metadata": {},
   "outputs": [],
   "source": [
    "sample= np.random.choice(population, size=1000)  "
   ]
  },
  {
   "cell_type": "code",
   "execution_count": 40,
   "id": "spectacular-testimony",
   "metadata": {},
   "outputs": [
    {
     "data": {
      "text/plain": [
       "40.066"
      ]
     },
     "execution_count": 40,
     "metadata": {},
     "output_type": "execute_result"
    }
   ],
   "source": [
    "sample_mean = sample.mean()\n",
    "sample_mean"
   ]
  },
  {
   "cell_type": "markdown",
   "id": "thirty-intelligence",
   "metadata": {},
   "source": [
    "Of course, you might get a different value when you run this code because each time a new random sample is selected. But you will see that the mean of the sample tends to be within a small distance from the mean of the population. Hence, in this example, we can get a fairly good estimate of the mean by sampling only a small percentage of the population.\n",
    "\n",
    "Let's try another example. This time we start with some population of categorical data"
   ]
  },
  {
   "cell_type": "code",
   "execution_count": 41,
   "id": "unknown-reference",
   "metadata": {},
   "outputs": [],
   "source": [
    "data = (['red']*50000) + (['blue']*30000) + (['green']*10000) + (['white']*10000) "
   ]
  },
  {
   "cell_type": "code",
   "execution_count": 42,
   "id": "controversial-cable",
   "metadata": {},
   "outputs": [
    {
     "name": "stdout",
     "output_type": "stream",
     "text": [
      "red proportion estimate:\n",
      "0.55\n",
      "blue proportion estimate:\n",
      "0.25\n",
      "white proportion estimate:\n",
      "0.11\n",
      "green proportion estimate:\n",
      "0.09\n"
     ]
    }
   ],
   "source": [
    "sample = random.sample(data, 100)  \n",
    "\n",
    "for color in set(sample):\n",
    "    print( color + \" proportion estimate:\" )\n",
    "    print( sample.count(color)/100 )"
   ]
  },
  {
   "cell_type": "markdown",
   "id": "stable-pearl",
   "metadata": {},
   "source": [
    "As you can see the distribution of the sample is very close to the true distribution in the population, despite the size of the sample being much smaller than the actual population."
   ]
  },
  {
   "cell_type": "markdown",
   "id": "faced-wiring",
   "metadata": {},
   "source": [
    "#### Confidence intervals\n",
    "\n",
    "After we make a point estimate how do we know how much confidence we can have about it? This is where the topic of confidence intervals comes in. Ideally, we would like our estimate to have a small variance for a large sample size since this would imply that it will be accurate with large probability. In reality, single point estimates are very much prone to error. To deal with this we calculate a confidence interval by providing a margin of error around our point estimate.\n",
    "\n",
    "A higher confidence level corresponds to a wider interval since the larger our interval the more sure we can be that the population parameter will indeed fall within our margins of error. The way to think about the confidence level is as the probability that our interval contains the parameter. So if we speak of a confidence level of 95% it means that with a probability of 0.95 the calculated interval contains the population parameter.\n",
    "\n",
    "A common practice for the margin of error is based on the standard deviation \n",
    "σ\n",
    " of the population and a parameter known as the z-critical value. Given a value of \n",
    "z\n",
    " we define the margin of error as"
   ]
  },
  {
   "cell_type": "markdown",
   "id": "reported-turner",
   "metadata": {},
   "source": [
    "margin_of_error\n",
    "=\n",
    "z\n",
    "∗\n",
    "σ/\n",
    "√\n",
    "n\n"
   ]
  },
  {
   "cell_type": "markdown",
   "id": "hispanic-worse",
   "metadata": {},
   "source": [
    "The z-critical value represents the number of standard deviations that we would have to go from the mean of the normal distribution in order to capture the proportion of the points corresponding to our chosen confidence level.\n",
    "\n",
    "But how do we know what z-critical value we need for our confidence level? For this we can use the function stats.norm.ppf(). If we want a confidence level of 0.95 then we compute the corresponding z-critical value as:"
   ]
  },
  {
   "cell_type": "code",
   "execution_count": 43,
   "id": "julian-finance",
   "metadata": {},
   "outputs": [
    {
     "data": {
      "text/plain": [
       "1.959963984540054"
      ]
     },
     "execution_count": 43,
     "metadata": {},
     "output_type": "execute_result"
    }
   ],
   "source": [
    "z = stats.norm.ppf(q = 0.975)\n",
    "z"
   ]
  },
  {
   "cell_type": "markdown",
   "id": "brazilian-script",
   "metadata": {},
   "source": [
    "Let's look at our previous example of Poisson random variables. Recall that we created a variable sample of 1000 values from our population and we computed a point estimate for the mean of the population based on the mean of the sample. Let's now compute the standard deviation of our population in order to set up our confidence intervals."
   ]
  },
  {
   "cell_type": "code",
   "execution_count": 44,
   "id": "upper-title",
   "metadata": {},
   "outputs": [
    {
     "data": {
      "text/plain": [
       "22.12659407488243"
      ]
     },
     "execution_count": 44,
     "metadata": {},
     "output_type": "execute_result"
    }
   ],
   "source": [
    "pop_std = population.std()\n",
    "pop_std"
   ]
  },
  {
   "cell_type": "code",
   "execution_count": 45,
   "id": "herbal-invalid",
   "metadata": {},
   "outputs": [
    {
     "data": {
      "text/plain": [
       "1.3713953089431676"
      ]
     },
     "execution_count": 45,
     "metadata": {},
     "output_type": "execute_result"
    }
   ],
   "source": [
    "margin_of_error = z * (pop_std / np.sqrt(1000))\n",
    "margin_of_error"
   ]
  },
  {
   "cell_type": "code",
   "execution_count": 46,
   "id": "aboriginal-hybrid",
   "metadata": {},
   "outputs": [
    {
     "data": {
      "text/plain": [
       "(38.69460469105684, 41.43739530894317)"
      ]
     },
     "execution_count": 46,
     "metadata": {},
     "output_type": "execute_result"
    }
   ],
   "source": [
    "confidence_interval = (sample_mean - margin_of_error,  sample_mean + margin_of_error) \n",
    "confidence_interval"
   ]
  },
  {
   "cell_type": "code",
   "execution_count": 47,
   "id": "saved-header",
   "metadata": {},
   "outputs": [
    {
     "data": {
      "text/plain": [
       "40.006926666666665"
      ]
     },
     "execution_count": 47,
     "metadata": {},
     "output_type": "execute_result"
    }
   ],
   "source": [
    "population.mean()"
   ]
  },
  {
   "cell_type": "markdown",
   "id": "applied-harvest",
   "metadata": {},
   "source": [
    "To get a better idea of this we can take several samples and plot the 95% confidence intervals for each one. Let's say we compute 10 samples. We just repeat the previous steps in a for loop and store the corresponding values."
   ]
  },
  {
   "cell_type": "code",
   "execution_count": 48,
   "id": "annoying-video",
   "metadata": {},
   "outputs": [],
   "source": [
    "intervals = []\n",
    "sample_means = []\n",
    "\n",
    "for sample in range(10):\n",
    "    sample = np.random.choice(population, size = 1000)\n",
    "    sample_mean = sample.mean()\n",
    "    sample_means.append(sample_mean)\n",
    "    pop_std = population.std()  \n",
    "    margin_of_error = z * (pop_std/np.sqrt(1000))\n",
    "    confidence_interval = (sample_mean - margin_of_error, sample_mean + margin_of_error)  \n",
    "    intervals.append(confidence_interval)"
   ]
  },
  {
   "cell_type": "code",
   "execution_count": 49,
   "id": "alternative-trace",
   "metadata": {},
   "outputs": [
    {
     "data": {
      "image/png": "[encoded data removed]",
      "text/plain": [
       "<Figure size 864x648 with 1 Axes>"
      ]
     },
     "metadata": {
      "needs_background": "light"
     },
     "output_type": "display_data"
    }
   ],
   "source": [
    "plt.figure(figsize=(12,9))\n",
    "\n",
    "plt.errorbar(x=np.arange(0, 10, 1), \n",
    "             y=sample_means, \n",
    "             yerr=[(top-bot)/2 for top,bot in intervals],\n",
    "             fmt='o')\n",
    "\n",
    "plt.hlines(xmin=0, xmax=10, y=population.mean(),color=\"red\", label='population mean')\n",
    "plt.legend()\n",
    "plt.title('95% confidence intervals for point estimates of the population mean')\n",
    "plt.show()"
   ]
  },
  {
   "cell_type": "markdown",
   "id": "inside-special",
   "metadata": {},
   "source": [
    "**Now, this method for computing confidence intervals relies on actually knowing the standard deviation of the population. But what if this value is not available for us?** In this case, we must use yet another point estimate by computing the standard deviation of the sample.\n",
    "\n",
    "Let \n",
    "^\n",
    "σ\n",
    " be the standard deviation of your sample and \n",
    "n\n",
    " the size of your sample. Then the estimate for \n",
    "σ\n",
    " is given by\n",
    " \n",
    " σ=^σ/√n\n",
    "\n",
    " \n",
    " Of course, if we compute now our confidence interval with this estimate of \n",
    "σ\n",
    " instead of the true value of \n",
    "σ\n",
    " we are introducing yet another source of potential error. In order to account for this, we must use a different type of parameter. Instead of the z-critical value we now use the t-critical value which we can compute once again a function from the stats module."
   ]
  },
  {
   "cell_type": "code",
   "execution_count": 50,
   "id": "extraordinary-justice",
   "metadata": {},
   "outputs": [
    {
     "data": {
      "text/plain": [
       "44.5"
      ]
     },
     "execution_count": 50,
     "metadata": {},
     "output_type": "execute_result"
    }
   ],
   "source": [
    "sample_small = np.random.choice(population, size=10)  \n",
    "sample_small_mean = sample_small.mean()\n",
    "sample_small_mean"
   ]
  },
  {
   "cell_type": "markdown",
   "id": "focal-participation",
   "metadata": {},
   "source": [
    "We can compute the t-critical value for a confidence interval of 95% as follows"
   ]
  },
  {
   "cell_type": "code",
   "execution_count": 51,
   "id": "reverse-process",
   "metadata": {},
   "outputs": [
    {
     "data": {
      "text/plain": [
       "2.2621571627409915"
      ]
     },
     "execution_count": 51,
     "metadata": {},
     "output_type": "execute_result"
    }
   ],
   "source": [
    "t = stats.t.ppf(q = 0.975, df=9) \n",
    "t"
   ]
  },
  {
   "cell_type": "markdown",
   "id": "cooperative-estimate",
   "metadata": {},
   "source": [
    "**The second parameter is for the degrees of freedom which has to be equal to the sample size minus 1 in this case**"
   ]
  },
  {
   "cell_type": "code",
   "execution_count": 52,
   "id": "grand-bonus",
   "metadata": {},
   "outputs": [
    {
     "data": {
      "text/plain": [
       "(30.517562841883862, 58.48243715811614)"
      ]
     },
     "execution_count": 52,
     "metadata": {},
     "output_type": "execute_result"
    }
   ],
   "source": [
    "sigma = sample_small.std() / np.sqrt(10)\n",
    "margin_of_error = t * sigma\n",
    "confidence_interval = (sample_small_mean - margin_of_error,  sample_small_mean + margin_of_error)  \n",
    "confidence_interval"
   ]
  },
  {
   "cell_type": "markdown",
   "id": "israeli-winter",
   "metadata": {},
   "source": [
    "We can see that this is a much larger interval around our point estimate due to the added error coming from having to estimate the standard deviation of the population. Of course our sample size, in this case, was very small. The higher our sample size in general the more the t-critical value will approach the z-critical value. For example with a sample size of size 10 as we had here we have the following difference between the two values"
   ]
  },
  {
   "cell_type": "code",
   "execution_count": 53,
   "id": "acquired-statistics",
   "metadata": {},
   "outputs": [
    {
     "data": {
      "text/plain": [
       "0.3021931782009375"
      ]
     },
     "execution_count": 53,
     "metadata": {},
     "output_type": "execute_result"
    }
   ],
   "source": [
    "stats.t.ppf(q=0.975, df= 9) - stats.norm.ppf(0.975)  "
   ]
  },
  {
   "cell_type": "code",
   "execution_count": 54,
   "id": "underlying-purchase",
   "metadata": {},
   "outputs": [
    {
     "data": {
      "text/plain": [
       "0.0023774765933946007"
      ]
     },
     "execution_count": 54,
     "metadata": {},
     "output_type": "execute_result"
    }
   ],
   "source": [
    "stats.t.ppf(q=0.975, df= 999) - stats.norm.ppf(0.975)  ## plus le degre de liberté est grand (donc le sample aussi) plus on s'approche de t-critical = z-critical"
   ]
  },
  {
   "cell_type": "markdown",
   "id": "animal-copying",
   "metadata": {},
   "source": [
    "#### One last thing we would like to point out is that in these examples we have been computing the confidence intervals by hand by subtracting and adding the margin of error to our point estimate. However, we can do all this directly by using the function stats.t.interval() as follows"
   ]
  },
  {
   "cell_type": "code",
   "execution_count": 55,
   "id": "systematic-thanksgiving",
   "metadata": {},
   "outputs": [
    {
     "data": {
      "text/plain": [
       "(30.517562841883862, 58.48243715811614)"
      ]
     },
     "execution_count": 55,
     "metadata": {},
     "output_type": "execute_result"
    }
   ],
   "source": [
    "stats.t.interval(alpha = 0.95,              # Confidence level\n",
    "                 df= 9,                     # Degrees of freedom\n",
    "                 loc = sample_small_mean,   # Sample mean\n",
    "                 scale = sigma)        "
   ]
  },
  {
   "cell_type": "markdown",
   "id": "chinese-effects",
   "metadata": {},
   "source": [
    "which is the exact same interval that we have computed before."
   ]
  },
  {
   "cell_type": "markdown",
   "id": "ancient-lindsay",
   "metadata": {},
   "source": [
    "As one final example, let's compute some confidence intervals for different levels of confidence"
   ]
  },
  {
   "cell_type": "code",
   "execution_count": 56,
   "id": "developmental-distinction",
   "metadata": {},
   "outputs": [
    {
     "name": "stdout",
     "output_type": "stream",
     "text": [
      "0.5 8.69\n",
      "0.75 15.2\n",
      "0.8 17.1\n",
      "0.9 22.66\n",
      "0.95 27.96\n"
     ]
    }
   ],
   "source": [
    "for confidence in (.5, .75, .8, .90, .95):\n",
    "    confidence_interval = stats.t.interval(alpha = confidence, df= 9, loc = sample_small_mean, scale = sigma)                   \n",
    "    interval = round(confidence_interval[1] - confidence_interval[0], 2)\n",
    "    print(confidence, interval)"
   ]
  },
  {
   "cell_type": "markdown",
   "id": "stupid-sudan",
   "metadata": {},
   "source": [
    "# Hypothesis testing"
   ]
  },
  {
   "cell_type": "markdown",
   "id": "included-inspector",
   "metadata": {},
   "source": [
    "Hypothesis testing is a very commonly used tool in the statistical analysis of data. The general setup we described so far is that we have a population which we want to study, we then obtain a random sample of this population, and we want to know whether the statistics that we observed on our sample can be assumed to be true for the population in general. This is where hypothesis testing comes in, by helping us determine whether we can indeed make these assumptions.\n",
    "\n",
    "In the general setting, we start with some hypothesis about the population that we want to test. We denote this as the null hypothesis. We then construct an opposing hypothesis that we denote as the alternative hypothesis. The hypothesis test will then tell us which hypothesis we can accept and which we must reject.\n",
    "\n",
    "The whole process of hypothesis testing can be summed up via the steps below\n",
    "\n",
    "- Formulate the null hypothesis (denoted by \n",
    "H\n",
    "0\n",
    ") and the alternative hypothesis (denoted by \n",
    "H\n",
    "1\n",
    ")\n",
    "- Determine the sample size for your sample\n",
    "- Choose a significance level (this is denoted by \n",
    "α\n",
    " and a common value is 0.05)\n",
    "- Collect your sample\n",
    "- Decide whether to accept or reject the null hypothesis\n",
    "\n",
    "Now the last test is implemented of course depending on our choice of the hypothesis test. **Given the test, we will compute a test statistics from the sample data that will tell us whether to accept or reject our hypothesis. Now, this test statistic is usually examined together with something called the p-value which basically tells us the probability that the observed statistic occurred this way by chance. A very small**\n",
    "p\n",
    "-value should give us confidence that what we are observing is not happening by chance.\n",
    "\n",
    "There are many tests available and in this unit, we will look at two of them: **t-tests** and **Chi-square tests.** We will continue working with our example from the previous unit with the variable population consisting of Poisson random variables"
   ]
  },
  {
   "cell_type": "code",
   "execution_count": 57,
   "id": "hourly-south",
   "metadata": {},
   "outputs": [],
   "source": [
    "poisson1 = stats.poisson.rvs(mu=55, size=200000)\n",
    "poisson2 = stats.poisson.rvs(mu=10, size=100000)\n",
    "population = np.concatenate((poisson1, poisson2))"
   ]
  },
  {
   "cell_type": "markdown",
   "id": "rising-receptor",
   "metadata": {},
   "source": [
    "## One-sample t-tests"
   ]
  },
  {
   "cell_type": "markdown",
   "id": "divine-ballet",
   "metadata": {},
   "source": [
    "This test is meant to determine for us whether two numerical data sets differ significantly from one another. To demonstrate this with an example we will set up an artificial sample, called test sample that we create in such a way that it does indeed differ from the original population."
   ]
  },
  {
   "cell_type": "code",
   "execution_count": 99,
   "id": "fifty-index",
   "metadata": {},
   "outputs": [],
   "source": [
    "test_sample = np.concatenate((stats.poisson.rvs(mu=50, size=200), stats.poisson.rvs(mu=10, size=100)))\n"
   ]
  },
  {
   "cell_type": "markdown",
   "id": "unusual-electron",
   "metadata": {},
   "source": [
    "The main difference here is that **the mean of the first part is 50 instead of 55** as in the original population (also the size of the test_sample is much smaller than the size of the population). Let's now declare the null hypothesis:\n",
    "\n",
    "**H\n",
    "0\n",
    " = the dataset test_sample has the same distribution as the dataset population**\n",
    "\n",
    "We will choose a significance level of 0.05 which we mentioned was common for this type of test. We can now compute our two parameters from this test: the t_statistic and the p_value using the special function in the stats module for one-sample t-tests appropriately called stats.ttest_1samp(). Let's give it a go"
   ]
  },
  {
   "cell_type": "code",
   "execution_count": 100,
   "id": "medium-vacuum",
   "metadata": {},
   "outputs": [
    {
     "data": {
      "text/plain": [
       "-3.1385008919263884"
      ]
     },
     "execution_count": 100,
     "metadata": {},
     "output_type": "execute_result"
    }
   ],
   "source": [
    "t_statistic, p_value = stats.ttest_1samp(test_sample, popmean=population.mean())\n",
    "t_statistic"
   ]
  },
  {
   "cell_type": "code",
   "execution_count": 101,
   "id": "complicated-latest",
   "metadata": {},
   "outputs": [
    {
     "data": {
      "text/plain": [
       "0.001867652993823341"
      ]
     },
     "execution_count": 101,
     "metadata": {},
     "output_type": "execute_result"
    }
   ],
   "source": [
    "p_value"
   ]
  },
  {
   "cell_type": "markdown",
   "id": "introductory-disney",
   "metadata": {},
   "source": [
    "Now, what does this mean? The t_statistic is a standardized metric that tells us how much the sample mean deviates from the null hypothesis. The p_value means that 1.5 percent of the time our data just randomly happened to appear this way. This is quite a small percentage in this case. But our decision on whether to reject or accept the hypothesis is based solely on the p_value in this case. The rule is the following\n",
    "\n",
    "if the p-value is less than the significance value we reject the null hypothesis\n",
    "if the p-value is greater than the significance value we failed to reject the null hypothesis\n",
    "**In our case a p-value of 0.015… is certainly less then our significance value of 0.05 therefore we can reject our hypothesis. Of course, since we created this example we knew from the start that our test_sample had indeed a difference distribution, but the hypothesis test confirmed this for us.**"
   ]
  },
  {
   "cell_type": "markdown",
   "id": "surprised-seminar",
   "metadata": {},
   "source": [
    "#### Type I and II errors\n",
    "In the example above we have a null hypothesis that was false and our hypothesis test correctly confirmed that we should reject this hypothesis. Now in general, when we do not make the correct conclusion there are two types of ways in which we can be wrong:\n",
    "\n",
    "- A **type I error** occurs if we reject the null hypothesis when it is actually true (this is also called a false positive).\n",
    "- A **type II error** occurs if we fail to reject the null hypothesis when it is actually false (this is known as a false negative)\n",
    ".\n",
    "Now we can control the probability of making type I errors with the significance parameter that we mentioned before. **Setting the significance to 0.05 as we did in the example above means that the probability of rejecting a null hypothesis that is true is 0.05** . Of course, the decision as to which type of error we want to minimize comes down to the applications that we are working with. In some cases, **type I errors may be less acceptable, while in other cases, type II error could be less costly.**\n",
    "\n",
    "\n",
    "## Chi-square tests\n",
    "\n",
    "The **t-test we looked at before is great for comparing quantitative properties such as the mean**. However when we are dealing with **qualitative, or categorical data then we use a different test known as the chi-square test.** Let's set up an example of a categorical population and a test sample."
   ]
  },
  {
   "cell_type": "code",
   "execution_count": 68,
   "id": "smart-pitch",
   "metadata": {},
   "outputs": [],
   "source": [
    "data =pd.DataFrame(['red']*50000 + ['blue']*30000 + ['green']*10000 + ['white']*10000) \n",
    "sample = pd.DataFrame(['red']*600 + ['blue']*300 + ['green']*70 + ['white']*60) "
   ]
  },
  {
   "cell_type": "markdown",
   "id": "multiple-payroll",
   "metadata": {},
   "source": [
    "We created a **test sample in this case which has a different distribution of colors than our population**. We will now test once again the null hypothesis that the sample has the same distribution as the population.\n",
    "\n",
    "We begin by first establishing the distribution in each of the two datasets."
   ]
  },
  {
   "cell_type": "code",
   "execution_count": 69,
   "id": "formal-blogger",
   "metadata": {},
   "outputs": [
    {
     "data": {
      "text/html": [
       "<div>\n",
       "<style scoped>\n",
       "    .dataframe tbody tr th:only-of-type {\n",
       "        vertical-align: middle;\n",
       "    }\n",
       "\n",
       "    .dataframe tbody tr th {\n",
       "        vertical-align: top;\n",
       "    }\n",
       "\n",
       "    .dataframe thead th {\n",
       "        text-align: right;\n",
       "    }\n",
       "</style>\n",
       "<table border=\"1\" class=\"dataframe\">\n",
       "  <thead>\n",
       "    <tr style=\"text-align: right;\">\n",
       "      <th>col_0</th>\n",
       "      <th>count</th>\n",
       "    </tr>\n",
       "    <tr>\n",
       "      <th>0</th>\n",
       "      <th></th>\n",
       "    </tr>\n",
       "  </thead>\n",
       "  <tbody>\n",
       "    <tr>\n",
       "      <th>blue</th>\n",
       "      <td>30000</td>\n",
       "    </tr>\n",
       "    <tr>\n",
       "      <th>green</th>\n",
       "      <td>10000</td>\n",
       "    </tr>\n",
       "    <tr>\n",
       "      <th>red</th>\n",
       "      <td>50000</td>\n",
       "    </tr>\n",
       "    <tr>\n",
       "      <th>white</th>\n",
       "      <td>10000</td>\n",
       "    </tr>\n",
       "  </tbody>\n",
       "</table>\n",
       "</div>"
      ],
      "text/plain": [
       "col_0  count\n",
       "0           \n",
       "blue   30000\n",
       "green  10000\n",
       "red    50000\n",
       "white  10000"
      ]
     },
     "execution_count": 69,
     "metadata": {},
     "output_type": "execute_result"
    }
   ],
   "source": [
    "data_count = pd.crosstab(index=data[0], columns=\"count\")\n",
    "data_count"
   ]
  },
  {
   "cell_type": "code",
   "execution_count": 73,
   "id": "personalized-lawyer",
   "metadata": {},
   "outputs": [
    {
     "data": {
      "text/plain": [
       "{'blue', 'green', 'red', 'white'}"
      ]
     },
     "execution_count": 73,
     "metadata": {},
     "output_type": "execute_result"
    }
   ],
   "source": [
    "set(data[0])"
   ]
  },
  {
   "cell_type": "code",
   "execution_count": 74,
   "id": "patent-salem",
   "metadata": {},
   "outputs": [
    {
     "data": {
      "text/html": [
       "<div>\n",
       "<style scoped>\n",
       "    .dataframe tbody tr th:only-of-type {\n",
       "        vertical-align: middle;\n",
       "    }\n",
       "\n",
       "    .dataframe tbody tr th {\n",
       "        vertical-align: top;\n",
       "    }\n",
       "\n",
       "    .dataframe thead th {\n",
       "        text-align: right;\n",
       "    }\n",
       "</style>\n",
       "<table border=\"1\" class=\"dataframe\">\n",
       "  <thead>\n",
       "    <tr style=\"text-align: right;\">\n",
       "      <th>col_0</th>\n",
       "      <th>count</th>\n",
       "    </tr>\n",
       "    <tr>\n",
       "      <th>0</th>\n",
       "      <th></th>\n",
       "    </tr>\n",
       "  </thead>\n",
       "  <tbody>\n",
       "    <tr>\n",
       "      <th>blue</th>\n",
       "      <td>300</td>\n",
       "    </tr>\n",
       "    <tr>\n",
       "      <th>green</th>\n",
       "      <td>70</td>\n",
       "    </tr>\n",
       "    <tr>\n",
       "      <th>red</th>\n",
       "      <td>600</td>\n",
       "    </tr>\n",
       "    <tr>\n",
       "      <th>white</th>\n",
       "      <td>60</td>\n",
       "    </tr>\n",
       "  </tbody>\n",
       "</table>\n",
       "</div>"
      ],
      "text/plain": [
       "col_0  count\n",
       "0           \n",
       "blue     300\n",
       "green     70\n",
       "red      600\n",
       "white     60"
      ]
     },
     "execution_count": 74,
     "metadata": {},
     "output_type": "execute_result"
    }
   ],
   "source": [
    "sample_count= pd.crosstab(index=sample[0], columns=\"count\")\n",
    "sample_count"
   ]
  },
  {
   "cell_type": "markdown",
   "id": "expensive-feature",
   "metadata": {},
   "source": [
    "Now we must calculate the chi-square statistic which is given by the following formula\n",
    "\n",
    "∑\n",
    "(\n",
    "o\n",
    "b\n",
    "s\n",
    "e\n",
    "r\n",
    "v\n",
    "e\n",
    "d\n",
    "−\n",
    "e\n",
    "x\n",
    "p\n",
    "e\n",
    "c\n",
    "t\n",
    "e\n",
    "d\n",
    ")\n",
    "2\n",
    "/\n",
    "e\n",
    "x\n",
    "p\n",
    "e\n",
    "c\n",
    "t\n",
    "e\n",
    "d\n"
   ]
  },
  {
   "cell_type": "code",
   "execution_count": 75,
   "id": "tight-sweden",
   "metadata": {},
   "outputs": [
    {
     "data": {
      "text/html": [
       "<div>\n",
       "<style scoped>\n",
       "    .dataframe tbody tr th:only-of-type {\n",
       "        vertical-align: middle;\n",
       "    }\n",
       "\n",
       "    .dataframe tbody tr th {\n",
       "        vertical-align: top;\n",
       "    }\n",
       "\n",
       "    .dataframe thead th {\n",
       "        text-align: right;\n",
       "    }\n",
       "</style>\n",
       "<table border=\"1\" class=\"dataframe\">\n",
       "  <thead>\n",
       "    <tr style=\"text-align: right;\">\n",
       "      <th>col_0</th>\n",
       "      <th>count</th>\n",
       "    </tr>\n",
       "    <tr>\n",
       "      <th>0</th>\n",
       "      <th></th>\n",
       "    </tr>\n",
       "  </thead>\n",
       "  <tbody>\n",
       "    <tr>\n",
       "      <th>blue</th>\n",
       "      <td>309.0</td>\n",
       "    </tr>\n",
       "    <tr>\n",
       "      <th>green</th>\n",
       "      <td>103.0</td>\n",
       "    </tr>\n",
       "    <tr>\n",
       "      <th>red</th>\n",
       "      <td>515.0</td>\n",
       "    </tr>\n",
       "    <tr>\n",
       "      <th>white</th>\n",
       "      <td>103.0</td>\n",
       "    </tr>\n",
       "  </tbody>\n",
       "</table>\n",
       "</div>"
      ],
      "text/plain": [
       "col_0  count\n",
       "0           \n",
       "blue   309.0\n",
       "green  103.0\n",
       "red    515.0\n",
       "white  103.0"
      ]
     },
     "execution_count": 75,
     "metadata": {},
     "output_type": "execute_result"
    }
   ],
   "source": [
    "expected_count = data_count * len(sample) / len(data)\n",
    "expected_count"
   ]
  },
  {
   "cell_type": "code",
   "execution_count": 76,
   "id": "revised-round",
   "metadata": {},
   "outputs": [
    {
     "data": {
      "text/plain": [
       "col_0\n",
       "count    42.815534\n",
       "dtype: float64"
      ]
     },
     "execution_count": 76,
     "metadata": {},
     "output_type": "execute_result"
    }
   ],
   "source": [
    "chi_square = ((( sample_count - expected_count)**2) / expected_count).sum()\n",
    "chi_square"
   ]
  },
  {
   "cell_type": "markdown",
   "id": "adult-stylus",
   "metadata": {},
   "source": [
    "So we have a chi-square statistic of 42.82. **But how can we interpret this? Well, first we choose a significance level, which once again we go with 0.05, and then compute the critical value corresponding to this confidence.**"
   ]
  },
  {
   "cell_type": "code",
   "execution_count": 78,
   "id": "revised-juice",
   "metadata": {},
   "outputs": [
    {
     "data": {
      "text/plain": [
       "7.814727903251179"
      ]
     },
     "execution_count": 78,
     "metadata": {},
     "output_type": "execute_result"
    }
   ],
   "source": [
    "stats.chi2.ppf(q = 0.95, df = 3)  # The degrees of freedom in this case, is given by the number of categories minus one."
   ]
  },
  {
   "cell_type": "markdown",
   "id": "ancient-space",
   "metadata": {},
   "source": [
    "We can now compute the p-value corresponding to our chi-square"
   ]
  },
  {
   "cell_type": "code",
   "execution_count": 80,
   "id": "demographic-metadata",
   "metadata": {},
   "outputs": [
    {
     "data": {
      "text/plain": [
       "array([2.69324241e-09])"
      ]
     },
     "execution_count": 80,
     "metadata": {},
     "output_type": "execute_result"
    }
   ],
   "source": [
    "p_value = 1 - stats.chi2.cdf(x=chi_square,  df=3)\n",
    "p_value"
   ]
  },
  {
   "cell_type": "markdown",
   "id": "portable-spare",
   "metadata": {},
   "source": [
    "Then the conclusion is made as before: if our p-value is lower than our significance value so we reject the hypothesis. This is indeed the correct answer since we picked the sample in such a way that it would have a different distribution of the categorical variable from our population."
   ]
  },
  {
   "cell_type": "markdown",
   "id": "cloudy-stack",
   "metadata": {},
   "source": [
    "#### For two-tailed tests and symmetric distributions we should divide the significance level equally for the two sides i.e. 0.05 divided by 2, hence 1 - 0.05/2 = 0.975. Whereas the Chi-square test is a one-tailed test and therefore the full mass of 0.05 goes under the right end of the curve."
   ]
  },
  {
   "cell_type": "markdown",
   "id": "sudden-advocate",
   "metadata": {},
   "source": [
    "We should note that there are several types of chi-square tests that come totally different objectives and outcomes. For instance, I can name three of them being:\n",
    "\n",
    "- chi-square test for the test of independence (to check whether two categorical variables are associated with one another)\n",
    "- chi-square test for the test of homogeneity (to check whether two or more sub-groups of a population share the same distribution of a single categorical variable)\n",
    "- chi-square test for the goodness of fit (to check whether a set of categorical data come from a claimed distribution)\n",
    "- chi-square test for the variance (to check whether the variance of a population is equal to a specified value). This is what you mentioned in the link. (https://www.itl.nist.gov/div898/handbook/eda/section3/eda358.htm)\n",
    "\n",
    "Note that these are different tests (with different nulls, etc) but they all have one thing in common and that is, their test statistics follow the chi-square distribution.\n",
    "\n",
    "Back to your question: what we show in the content for the categorical data is the chi-square test for the goodness of fit which is a two-sided test even if its critical region is defined only in the right tail of the distribution. The reason for being a two-sided test is that in the numerator of the test statistics, it doesn't matter if 'observed' is less than 'expected' or not. They can differ in both directions. So, if by the tail you refer to the critical region then this is a one-tail test, and there is no way to have the critical region in both sides of this distribution for this test.\n",
    "\n",
    "hope this helps."
   ]
  },
  {
   "cell_type": "markdown",
   "id": "protecting-deployment",
   "metadata": {},
   "source": [
    "##### Question : \n",
    "I don’t quite understand why we need the following value:\n",
    "\n",
    "stats.chi2.ppf(q = 0.95, df = 3)\n",
    "\n",
    "#7.8147279032511765\n",
    "\n",
    "I see that it is not used for any purpose. Though logically thinking we should compare the p_value with it…\n",
    "\n",
    "We make conclusion about the hypothesis by comparing the p_value\n",
    "\n",
    "p_value = 1 - stats.chi2.cdf(x=chi_square,  df=3)\n",
    "\n",
    "with the significance level value (which is 0.05) - right?\n",
    "\n",
    "Why do we need the chi2.ppf then?\n",
    "\n",
    "I was running multiple tests with different sample size (from 100 to 10000) and the p_value variates between 0.1 to 0.9 It is comparable with the 0.05 value, but not with 7.814 (which is the chi2.ppf result).\n",
    "\n",
    "I can only guess that the chi2.ppf resulting value (7.814) should be interpreted as 0.07814?\n",
    "\n",
    "\n",
    "#### ANSWER\n",
    "This value is called the critical value and we compute it to illustrate the intuition behind the p-value computation in this case. You can check Christian's answer from below to have a formal definition of what it is, but in short, 7.8 is the critical value corresponding to the significance level of 0.05 that we chose for our test. If our chi_square value is larger than 7.8, it means that we can reject the Null hypothesis i.e. the dataset sample has a different distribution than the dataset population data. In this example, we get a very small p-value around 2.7e-9 because our chi_square value of 42.81 is much bigger than 7.8! Plotting the probability density function might help to visually understand this"
   ]
  },
  {
   "cell_type": "code",
   "execution_count": 82,
   "id": "conscious-centre",
   "metadata": {},
   "outputs": [
    {
     "data": {
      "image/png": "[encoded data removed]",
      "text/plain": [
       "<Figure size 432x288 with 1 Axes>"
      ]
     },
     "metadata": {
      "needs_background": "light"
     },
     "output_type": "display_data"
    }
   ],
   "source": [
    "%matplotlib inline\n",
    "import matplotlib.pyplot as plt\n",
    "import numpy as np\n",
    "import scipy.stats as stats\n",
    "\n",
    "# Probability density function\n",
    "x_values = np.linspace(\n",
    "    start=stats.chi2.ppf(0.01, df=3),\n",
    "    stop=stats.chi2.ppf(0.99, df=3),\n",
    "    num=100\n",
    ")\n",
    "probability_values = stats.chi2.pdf(x_values, df=3)\n",
    "plt.plot(x_values, probability_values)\n",
    "plt.xlabel('x value')\n",
    "plt.ylabel('Probability')\n",
    "\n",
    "# Critical value corresponding to significance level alpha = 0.05\n",
    "critical = stats.chi2.ppf(0.95, df=3)\n",
    "plt.axvline(critical, linestyle=':', color='r')\n",
    "\n",
    "plt.show()"
   ]
  },
  {
   "cell_type": "markdown",
   "id": "protected-insured",
   "metadata": {},
   "source": [
    "Every x value on the right of the red vertical line at x=7.8 will lead to rejecting the Null hypothesis! In our case x=42.81. As an additional experiment, you can try changing 0.95 to 1 - (2.7e-9) in critical and you should see the red line move to a critical value around 42.81!"
   ]
  },
  {
   "cell_type": "markdown",
   "id": "combined-blowing",
   "metadata": {},
   "source": [
    "OTHER QUESTION : \n",
    "I have difficulties to understand the meaning of the critical value stats.chi2.ppf(q = 0.95, df = 3) we calculated for categorical data.\n",
    "\n",
    "\n",
    "ANSWER\n",
    "\n",
    "\n",
    "For any probability distribution and given significance level \n",
    "α\n",
    ", the critical value \n",
    "c\n",
    " is the value for which \n",
    "P\n",
    "(\n",
    "X\n",
    "≤\n",
    "c\n",
    ")\n",
    "=\n",
    "1\n",
    "−\n",
    "α\n",
    ", i.e. \n",
    "P\n",
    "(\n",
    "X\n",
    ">\n",
    "c\n",
    ")\n",
    "=\n",
    "α\n",
    ". For well studied probability distributions like the \n",
    "χ\n",
    "2\n",
    "-distributions we can use the percent point function (PPF), which is just the inverse function of the cumulative distribution function (CDF) to determine \n",
    "c\n",
    ". Here we use scipy's ppf."
   ]
  },
  {
   "cell_type": "markdown",
   "id": "dimensional-memorabilia",
   "metadata": {},
   "source": [
    "# Exercise: hypothesis testing"
   ]
  },
  {
   "cell_type": "markdown",
   "id": "rental-privilege",
   "metadata": {},
   "source": [
    "In the previous unit, we ran two hypothesis tests. In both examples, we created a sample which was on purpose different from our underlying populations. Repeat the two hypothesis tests but this time for samples which are randomly selected. You can keep the same sample sizes. Draw the appropriate conclusions for each test."
   ]
  },
  {
   "cell_type": "code",
   "execution_count": 115,
   "id": "extra-venue",
   "metadata": {},
   "outputs": [],
   "source": [
    "poisson1 = stats.poisson.rvs(mu=55, size=200000)\n",
    "poisson2 = stats.poisson.rvs(mu=10, size=100000)\n",
    "population = np.concatenate((poisson1, poisson2))"
   ]
  },
  {
   "cell_type": "code",
   "execution_count": 119,
   "id": "micro-blood",
   "metadata": {},
   "outputs": [
    {
     "data": {
      "image/png": "[encoded data removed]",
      "text/plain": [
       "<Figure size 432x288 with 1 Axes>"
      ]
     },
     "metadata": {
      "needs_background": "light"
     },
     "output_type": "display_data"
    }
   ],
   "source": [
    "sample =  np.random.choice(population, size=30000)  \n",
    "plt.hist(sample,100);"
   ]
  },
  {
   "cell_type": "code",
   "execution_count": 120,
   "id": "sudden-saskatchewan",
   "metadata": {},
   "outputs": [
    {
     "data": {
      "text/plain": [
       "0.5207766571400354"
      ]
     },
     "execution_count": 120,
     "metadata": {},
     "output_type": "execute_result"
    }
   ],
   "source": [
    "t_statistic, p_value = stats.ttest_1samp(sample, popmean=population.mean())\n",
    "t_statistic"
   ]
  },
  {
   "cell_type": "code",
   "execution_count": 121,
   "id": "adequate-sapphire",
   "metadata": {},
   "outputs": [
    {
     "data": {
      "text/plain": [
       "0.6025262097249151"
      ]
     },
     "execution_count": 121,
     "metadata": {},
     "output_type": "execute_result"
    }
   ],
   "source": [
    "p_value"
   ]
  },
  {
   "cell_type": "code",
   "execution_count": 146,
   "id": "turned-detection",
   "metadata": {},
   "outputs": [
    {
     "data": {
      "text/html": [
       "<div>\n",
       "<style scoped>\n",
       "    .dataframe tbody tr th:only-of-type {\n",
       "        vertical-align: middle;\n",
       "    }\n",
       "\n",
       "    .dataframe tbody tr th {\n",
       "        vertical-align: top;\n",
       "    }\n",
       "\n",
       "    .dataframe thead th {\n",
       "        text-align: right;\n",
       "    }\n",
       "</style>\n",
       "<table border=\"1\" class=\"dataframe\">\n",
       "  <thead>\n",
       "    <tr style=\"text-align: right;\">\n",
       "      <th></th>\n",
       "      <th>0</th>\n",
       "    </tr>\n",
       "  </thead>\n",
       "  <tbody>\n",
       "    <tr>\n",
       "      <th>0</th>\n",
       "      <td>blue</td>\n",
       "    </tr>\n",
       "    <tr>\n",
       "      <th>1</th>\n",
       "      <td>blue</td>\n",
       "    </tr>\n",
       "    <tr>\n",
       "      <th>2</th>\n",
       "      <td>blue</td>\n",
       "    </tr>\n",
       "    <tr>\n",
       "      <th>3</th>\n",
       "      <td>red</td>\n",
       "    </tr>\n",
       "    <tr>\n",
       "      <th>4</th>\n",
       "      <td>red</td>\n",
       "    </tr>\n",
       "  </tbody>\n",
       "</table>\n",
       "</div>"
      ],
      "text/plain": [
       "      0\n",
       "0  blue\n",
       "1  blue\n",
       "2  blue\n",
       "3   red\n",
       "4   red"
      ]
     },
     "execution_count": 146,
     "metadata": {},
     "output_type": "execute_result"
    }
   ],
   "source": [
    "data =pd.DataFrame(['red']*50000 + ['blue']*30000 + ['green']*10000 + ['white']*10000) \n",
    "sample_df = pd.DataFrame(np.random.choice(data[0], size=3000))\n",
    "sample_df.head()"
   ]
  },
  {
   "cell_type": "code",
   "execution_count": 147,
   "id": "suitable-dragon",
   "metadata": {},
   "outputs": [
    {
     "data": {
      "text/html": [
       "<div>\n",
       "<style scoped>\n",
       "    .dataframe tbody tr th:only-of-type {\n",
       "        vertical-align: middle;\n",
       "    }\n",
       "\n",
       "    .dataframe tbody tr th {\n",
       "        vertical-align: top;\n",
       "    }\n",
       "\n",
       "    .dataframe thead th {\n",
       "        text-align: right;\n",
       "    }\n",
       "</style>\n",
       "<table border=\"1\" class=\"dataframe\">\n",
       "  <thead>\n",
       "    <tr style=\"text-align: right;\">\n",
       "      <th>col_0</th>\n",
       "      <th>count</th>\n",
       "    </tr>\n",
       "    <tr>\n",
       "      <th>0</th>\n",
       "      <th></th>\n",
       "    </tr>\n",
       "  </thead>\n",
       "  <tbody>\n",
       "    <tr>\n",
       "      <th>blue</th>\n",
       "      <td>30000</td>\n",
       "    </tr>\n",
       "    <tr>\n",
       "      <th>green</th>\n",
       "      <td>10000</td>\n",
       "    </tr>\n",
       "    <tr>\n",
       "      <th>red</th>\n",
       "      <td>50000</td>\n",
       "    </tr>\n",
       "    <tr>\n",
       "      <th>white</th>\n",
       "      <td>10000</td>\n",
       "    </tr>\n",
       "  </tbody>\n",
       "</table>\n",
       "</div>"
      ],
      "text/plain": [
       "col_0  count\n",
       "0           \n",
       "blue   30000\n",
       "green  10000\n",
       "red    50000\n",
       "white  10000"
      ]
     },
     "execution_count": 147,
     "metadata": {},
     "output_type": "execute_result"
    }
   ],
   "source": [
    "data_count = pd.crosstab(index=data[0], columns=\"count\")\n",
    "data_count"
   ]
  },
  {
   "cell_type": "code",
   "execution_count": 148,
   "id": "handled-teens",
   "metadata": {},
   "outputs": [
    {
     "data": {
      "text/html": [
       "<div>\n",
       "<style scoped>\n",
       "    .dataframe tbody tr th:only-of-type {\n",
       "        vertical-align: middle;\n",
       "    }\n",
       "\n",
       "    .dataframe tbody tr th {\n",
       "        vertical-align: top;\n",
       "    }\n",
       "\n",
       "    .dataframe thead th {\n",
       "        text-align: right;\n",
       "    }\n",
       "</style>\n",
       "<table border=\"1\" class=\"dataframe\">\n",
       "  <thead>\n",
       "    <tr style=\"text-align: right;\">\n",
       "      <th>col_0</th>\n",
       "      <th>count</th>\n",
       "    </tr>\n",
       "    <tr>\n",
       "      <th>0</th>\n",
       "      <th></th>\n",
       "    </tr>\n",
       "  </thead>\n",
       "  <tbody>\n",
       "    <tr>\n",
       "      <th>blue</th>\n",
       "      <td>895</td>\n",
       "    </tr>\n",
       "    <tr>\n",
       "      <th>green</th>\n",
       "      <td>298</td>\n",
       "    </tr>\n",
       "    <tr>\n",
       "      <th>red</th>\n",
       "      <td>1488</td>\n",
       "    </tr>\n",
       "    <tr>\n",
       "      <th>white</th>\n",
       "      <td>319</td>\n",
       "    </tr>\n",
       "  </tbody>\n",
       "</table>\n",
       "</div>"
      ],
      "text/plain": [
       "col_0  count\n",
       "0           \n",
       "blue     895\n",
       "green    298\n",
       "red     1488\n",
       "white    319"
      ]
     },
     "execution_count": 148,
     "metadata": {},
     "output_type": "execute_result"
    }
   ],
   "source": [
    "sample_count = pd.crosstab(index=sample_df[0], columns=\"count\")\n",
    "sample_count"
   ]
  },
  {
   "cell_type": "code",
   "execution_count": 149,
   "id": "incorporate-parallel",
   "metadata": {},
   "outputs": [
    {
     "data": {
      "text/html": [
       "<div>\n",
       "<style scoped>\n",
       "    .dataframe tbody tr th:only-of-type {\n",
       "        vertical-align: middle;\n",
       "    }\n",
       "\n",
       "    .dataframe tbody tr th {\n",
       "        vertical-align: top;\n",
       "    }\n",
       "\n",
       "    .dataframe thead th {\n",
       "        text-align: right;\n",
       "    }\n",
       "</style>\n",
       "<table border=\"1\" class=\"dataframe\">\n",
       "  <thead>\n",
       "    <tr style=\"text-align: right;\">\n",
       "      <th>col_0</th>\n",
       "      <th>count</th>\n",
       "    </tr>\n",
       "    <tr>\n",
       "      <th>0</th>\n",
       "      <th></th>\n",
       "    </tr>\n",
       "  </thead>\n",
       "  <tbody>\n",
       "    <tr>\n",
       "      <th>blue</th>\n",
       "      <td>900.0</td>\n",
       "    </tr>\n",
       "    <tr>\n",
       "      <th>green</th>\n",
       "      <td>300.0</td>\n",
       "    </tr>\n",
       "    <tr>\n",
       "      <th>red</th>\n",
       "      <td>1500.0</td>\n",
       "    </tr>\n",
       "    <tr>\n",
       "      <th>white</th>\n",
       "      <td>300.0</td>\n",
       "    </tr>\n",
       "  </tbody>\n",
       "</table>\n",
       "</div>"
      ],
      "text/plain": [
       "col_0   count\n",
       "0            \n",
       "blue    900.0\n",
       "green   300.0\n",
       "red    1500.0\n",
       "white   300.0"
      ]
     },
     "execution_count": 149,
     "metadata": {},
     "output_type": "execute_result"
    }
   ],
   "source": [
    "expected_count = data_count * len(sample_df) / len(data)\n",
    "expected_count"
   ]
  },
  {
   "cell_type": "code",
   "execution_count": 150,
   "id": "handy-democrat",
   "metadata": {},
   "outputs": [
    {
     "data": {
      "text/plain": [
       "col_0\n",
       "count    1.340444\n",
       "dtype: float64"
      ]
     },
     "execution_count": 150,
     "metadata": {},
     "output_type": "execute_result"
    }
   ],
   "source": [
    "chi_square = ((( sample_count - expected_count)**2) / expected_count).sum()\n",
    "chi_square"
   ]
  },
  {
   "cell_type": "code",
   "execution_count": 151,
   "id": "phantom-jacket",
   "metadata": {},
   "outputs": [
    {
     "data": {
      "text/plain": [
       "7.814727903251179"
      ]
     },
     "execution_count": 151,
     "metadata": {},
     "output_type": "execute_result"
    }
   ],
   "source": [
    "stats.chi2.ppf(q = 0.95, df = 4-1)"
   ]
  },
  {
   "cell_type": "code",
   "execution_count": 152,
   "id": "abroad-concept",
   "metadata": {},
   "outputs": [
    {
     "data": {
      "text/plain": [
       "array([0.71955228])"
      ]
     },
     "execution_count": 152,
     "metadata": {},
     "output_type": "execute_result"
    }
   ],
   "source": [
    "p_value = 1 - stats.chi2.cdf(x=chi_square,  df=3)\n",
    "p_value"
   ]
  },
  {
   "cell_type": "markdown",
   "id": "neutral-apparel",
   "metadata": {},
   "source": [
    "# A / B Testing "
   ]
  },
  {
   "cell_type": "markdown",
   "id": "illegal-sculpture",
   "metadata": {},
   "source": [
    "The chi-square test we looked at in the previous unit **can also be used to test for independence between two categorical variables. We already defined the concept of independent random variables in our subject on probability. Here we will look at an example concerning A/B testing which is a very important tool in statistical analysis.** Now, the topic of A/B testing is extremely complex and there are entire courses dedicated to it. Here we aim to just give you a taste of what A/B testing can be used for.\n",
    "\n",
    "A very common application of this method is the following scenario: suppose you work for a company that receives online traffic through ads. The design team has come up with 2 versions of the ad (which we will call A and B) and it is your job as the data scientist to determine which ad is better. You decide to set up an online experiment where internet users are directed randomly to one of the two ads. After a week you collect the data on each ad: how many users saw it and how many of these users actually clicked on it.\n",
    "\n",
    "Your results are as follows\n",
    "\n",
    "- ad A: 5015 users saw the ad, 481 users clicked on the ad\n",
    "- ad B: 5018 users saw the ad, 536 users clicked on the ad\n",
    "\n",
    "Now we can easily compute the conversion rates of each ad"
   ]
  },
  {
   "cell_type": "code",
   "execution_count": 154,
   "id": "threatened-butter",
   "metadata": {},
   "outputs": [
    {
     "data": {
      "text/plain": [
       "9.591226321036888"
      ]
     },
     "execution_count": 154,
     "metadata": {},
     "output_type": "execute_result"
    }
   ],
   "source": [
    "convA = 481/5015 * 100\n",
    "convA"
   ]
  },
  {
   "cell_type": "code",
   "execution_count": 155,
   "id": "cheap-kingston",
   "metadata": {},
   "outputs": [
    {
     "data": {
      "text/plain": [
       "10.681546432841769"
      ]
     },
     "execution_count": 155,
     "metadata": {},
     "output_type": "execute_result"
    }
   ],
   "source": [
    "convB = 536/5018 * 100\n",
    "convB"
   ]
  },
  {
   "cell_type": "markdown",
   "id": "dominican-issue",
   "metadata": {},
   "source": [
    "And based on this it seems that ad B did better. **But with such a small difference how can we be sure that the version of the ad the user saw really had an effect on the user clicking the ad?**\n",
    "Well to test the statistical significance of such a result we can use once again hypothesis testing.\n",
    "\n",
    "Let's start by formalizing our experiment. We can interpret each ad as a **Bernoulli trial where a success just means that the user clicked on the ad. We introduce the following two random variables**\n",
    "\n",
    "- let V denote the version of the ad that the users saw (so V = A or V= B)\n",
    "- let C denote the outcome (so C = s (for success if the there was a click) and C = f (for failure) if there was no click)\n",
    "\n",
    "**Then what we are essentially asking is whether the random variables C and V are independent.**  That is, does the version of the ad affect the probability of the success? So our null hypothesis is that V and C are independent.\n",
    "\n",
    "Let's use the built-in functions from Python to test this hypothesis. We start by entering the results of our experiment, i.e. the number of failures and successes for each version, as NumPy array"
   ]
  },
  {
   "cell_type": "code",
   "execution_count": 160,
   "id": "square-samuel",
   "metadata": {},
   "outputs": [],
   "source": [
    "#results = np.array([[A_failures, A_successes],[B_failures, B_successes]])\n",
    "results = np.array([[4534, 481],[4482, 536]])"
   ]
  },
  {
   "cell_type": "markdown",
   "id": "vanilla-interaction",
   "metadata": {},
   "source": [
    "We now call the **stats.chi2_contingency** function and store all of the returned values as follows"
   ]
  },
  {
   "cell_type": "code",
   "execution_count": 161,
   "id": "hungarian-grill",
   "metadata": {},
   "outputs": [],
   "source": [
    "chi_square, p_value, df, matrix = stats.chi2_contingency(observed=results)"
   ]
  },
  {
   "cell_type": "markdown",
   "id": "resistant-string",
   "metadata": {},
   "source": [
    "Now we will not go into the full theoretical details behind this method but it basically applies a formula similar to the ones we used in the previous unit. Let's focus on interpreting the results"
   ]
  },
  {
   "cell_type": "code",
   "execution_count": 162,
   "id": "abroad-findings",
   "metadata": {},
   "outputs": [
    {
     "data": {
      "text/plain": [
       "(3.154847013454899, 0.07570178695592192)"
      ]
     },
     "execution_count": 162,
     "metadata": {},
     "output_type": "execute_result"
    }
   ],
   "source": [
    "chi_square, p_value"
   ]
  },
  {
   "cell_type": "raw",
   "id": "lasting-wound",
   "metadata": {},
   "source": []
  },
  {
   "cell_type": "markdown",
   "id": "retained-northeast",
   "metadata": {},
   "source": []
  },
  {
   "cell_type": "markdown",
   "id": "joint-album",
   "metadata": {},
   "source": [
    "Unlike our previous tests, **the p-value here is quite large and certainly larger than our significance value of 0.05.** Therefore, in this case, we fail to reject the null hypothesis. An important thing to note here is that if the p-values are larger than the significance value (like in our case) **the only information that we obtain from a hypothesis test is that the data does not contradict the null hypothesis.** In other words, **we cannot determine whether the null hypothesis is true or false. We can never conclude from a hypothesis test that the null hypothesis is true.** So in our case, we cannot conclude whether the version of the ad had any effect on the click rate or not.\n",
    "\n",
    "As an exercise, try running the same analysis but for the following results:\n",
    "\n",
    "- ad A: 5000 users saw the ad, 3200 users clicked on the ad\n",
    "- ad B: 5000 users saw the ad, 3000 users clicked on the ad"
   ]
  },
  {
   "cell_type": "code",
   "execution_count": 181,
   "id": "returning-findings",
   "metadata": {},
   "outputs": [],
   "source": [
    "#results = np.array([[A_failures, A_successes],[B_failures, B_successes]])\n",
    "results2 = np.array([[5000, 3200],[5000, 3000]])"
   ]
  },
  {
   "cell_type": "code",
   "execution_count": 182,
   "id": "worldwide-chassis",
   "metadata": {},
   "outputs": [],
   "source": [
    "chi_square, p_value, df, matrix = stats.chi2_contingency(observed=results2)"
   ]
  },
  {
   "cell_type": "code",
   "execution_count": 183,
   "id": "noted-yemen",
   "metadata": {},
   "outputs": [
    {
     "data": {
      "text/plain": [
       "(3.9188195520259654, 0.04774839665341007)"
      ]
     },
     "execution_count": 183,
     "metadata": {},
     "output_type": "execute_result"
    }
   ],
   "source": [
    "chi_square, p_value"
   ]
  },
  {
   "cell_type": "markdown",
   "id": "missing-syndication",
   "metadata": {},
   "source": [
    "**our null hypothesis is 'The variables V (version) and C (clicks) are independent'. As the p-value of 0.047… is below the chosen significance level (0.05) you reject the null hypothesis and accept the alternative hypothesis that V and C are not independent and hence there is a difference between the effectiveness of the ads.**\n",
    "\n",
    "Null hypothesis = 'The variables V (version) and C (clicks) are independent' meaning the version of the add has no influence on the click rate.\n",
    "\n",
    "So, by having a p-value below the signficance level, we reject the null hypothesis which means 'The variables V (version) and C (clicks) are DEPENDENT' ==> the version of the add has an influence on the click rate.\n",
    "\n",
    "\n",
    "#### Significance level = 0.05 ? why ?\n",
    "The significance level measures the probability of making making a type I error, i.e. the probability that we reject the null hypothesis despite it being true. So if we set the significance level at 0.05, then we accept a 5% risk of falsely rejecting the null hypothesis. Significance levels should be determined by the use case and the circumstance, but 0.05 and 0.01 are the most common significance levels (some historical background) which we typically use when we don't have reasons for another significance level.\n",
    "\n",
    "Note for normal distributions 0.05 corresponds roughly to the probability of a random sample falling outside of 2 standard deviations from the mean.\n",
    "\n"
   ]
  },
  {
   "cell_type": "code",
   "execution_count": null,
   "id": "imported-cooler",
   "metadata": {},
   "outputs": [],
   "source": []
  }
 ],
 "metadata": {
  "kernelspec": {
   "display_name": "Python 3",
   "language": "python",
   "name": "python3"
  },
  "language_info": {
   "codemirror_mode": {
    "name": "ipython",
    "version": 3
   },
   "file_extension": ".py",
   "mimetype": "text/x-python",
   "name": "python",
   "nbconvert_exporter": "python",
   "pygments_lexer": "ipython3",
   "version": "3.6.12"
  }
 },
 "nbformat": 4,
 "nbformat_minor": 5
}
