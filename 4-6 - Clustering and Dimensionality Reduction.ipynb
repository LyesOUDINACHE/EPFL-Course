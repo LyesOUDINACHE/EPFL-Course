{
 "cells": [
  {
   "cell_type": "markdown",
   "id": "b0097a95",
   "metadata": {},
   "source": [
    "# Clustering with k-means"
   ]
  },
  {
   "cell_type": "markdown",
   "id": "848ad919",
   "metadata": {},
   "source": [
    "So far, we focused on algorithms that **try to model the relationship between a set of input variables X and a target variable y**. These are supervised learning tasks because we are learning the parameters of our models using examples of this X/y relationship. In this subject, we will see examples of tasks that don't have an explicit target variable y to predict. These are **unsupervised learning tasks**, and we say that the data is unlabeled since it doesn't contain this y variable.\n",
    "\n",
    "One example of unsupervised learning is **clustering** which is the task of finding groups of similar observations in our data set. This is an unsupervised learning task because we don't know in advance what these groups are and we don't have examples of data points and group assignments. Another example is **dimensionality reduction** which is the task of reducing the dimensionality of our data set i.e. its number of features. For instance, in the next exercise, you will use a technique called **principal component analysis (PCA)** to create a 2-dimensional plot of the images from the MNIST data set.\n",
    "\n",
    "In this unit, we will learn about the k-means algorithm which is one way to address clustering. We will first describe the algorithm and then implement it using Scikit-learn."
   ]
  },
  {
   "cell_type": "markdown",
   "id": "c6bcd8b2",
   "metadata": {},
   "source": [
    "### k-means algorithm\n",
    "\n",
    "In clustering tasks, our goal is to find groups of similar data points. This is an unsupervised learning task because we have to learn these cluster assignments by ourselves. There are many ways to define what a cluster is and hence many different clustering algorithms. We will now learn about the k-means one which is a simple but efficient way to perform clustering.\n",
    "\n",
    "The goal of k-means is to form k groups that **minimize a measure called inertia** which is simply defined as the sum of the squared distances between each point and the center of their cluster. In the k-means jargon, these centers are called the **centroids**. The k-means algorithm minimizes inertia by following a simple procedure that can be summarized in three steps."
   ]
  },
  {
   "cell_type": "raw",
   "id": "270f1525",
   "metadata": {},
   "source": [
    "(1) choose k initial centroids\n",
    "\n",
    "repeat until convergence:\n",
    "    (2) match points to the closest centroid\n",
    "    (3) recenter centroids"
   ]
  },
  {
   "cell_type": "code",
   "execution_count": 36,
   "id": "4ddda6c2",
   "metadata": {},
   "outputs": [
    {
     "data": {
      "text/html": [
       "<img src=\"https://d7whxh71cqykp.cloudfront.net/uploads/image/data/3933/kmeans-ground-truth.svg\"/>"
      ],
      "text/plain": [
       "<IPython.core.display.Image object>"
      ]
     },
     "execution_count": 36,
     "metadata": {},
     "output_type": "execute_result"
    }
   ],
   "source": [
    "from IPython.display import Image\n",
    "Image(url='https://d7whxh71cqykp.cloudfront.net/uploads/image/data/3933/kmeans-ground-truth.svg')"
   ]
  },
  {
   "cell_type": "markdown",
   "id": "fcfb4e25",
   "metadata": {},
   "source": [
    "Visually, it's clear that there are three groups in our data. However, the data is not labeled, and we only have access to the location of each point on the plot. Our goal to find these three clusters and assign each data point to the correct one.\n",
    "\n",
    "In the k-means algorithm from above, the first step is to choose k initial centroids. There are many ways to do that. A simple strategy is to pick randomly k data points from our data set and choose them as the centroids."
   ]
  },
  {
   "cell_type": "code",
   "execution_count": 37,
   "id": "1c2690a2",
   "metadata": {},
   "outputs": [
    {
     "data": {
      "text/html": [
       "<img src=\"https://d7whxh71cqykp.cloudfront.net/uploads/image/data/3934/kmeans-init.svg\"/>"
      ],
      "text/plain": [
       "<IPython.core.display.Image object>"
      ]
     },
     "execution_count": 37,
     "metadata": {},
     "output_type": "execute_result"
    }
   ],
   "source": [
    "Image(url='https://d7whxh71cqykp.cloudfront.net/uploads/image/data/3934/kmeans-init.svg')"
   ]
  },
  {
   "cell_type": "markdown",
   "id": "eb8ea95c",
   "metadata": {},
   "source": [
    "In this image, we randomly selected three data points and created the centroids at their location (marked with a star).\n",
    "\n",
    "After this initialization step, the k-means algorithm from above iteratively repeats two steps. First, it matches each point to the closest centroid\n"
   ]
  },
  {
   "cell_type": "code",
   "execution_count": 38,
   "id": "d26013a7",
   "metadata": {},
   "outputs": [
    {
     "data": {
      "text/html": [
       "<img src=\"https://d7whxh71cqykp.cloudfront.net/uploads/image/data/3935/kmeans-1-matching.svg\"/>"
      ],
      "text/plain": [
       "<IPython.core.display.Image object>"
      ]
     },
     "execution_count": 38,
     "metadata": {},
     "output_type": "execute_result"
    }
   ],
   "source": [
    "Image(url='https://d7whxh71cqykp.cloudfront.net/uploads/image/data/3935/kmeans-1-matching.svg')"
   ]
  },
  {
   "cell_type": "markdown",
   "id": "db9d0b19",
   "metadata": {},
   "source": [
    "Each data point is plotted with a different color depending on the closest centroid. For instance, data points matched with the centroid in the lower right corner are shown in blue. As we can see, the centroids are not necessarily at the center of their cluster of points. Hence, the next step is to recenter the three centroids"
   ]
  },
  {
   "cell_type": "code",
   "execution_count": 39,
   "id": "00f07dbe",
   "metadata": {},
   "outputs": [
    {
     "data": {
      "text/html": [
       "<img src=\"https://d7whxh71cqykp.cloudfront.net/uploads/image/data/3936/kmeans-1-centering.svg\"/>"
      ],
      "text/plain": [
       "<IPython.core.display.Image object>"
      ]
     },
     "execution_count": 39,
     "metadata": {},
     "output_type": "execute_result"
    }
   ],
   "source": [
    "Image(url='https://d7whxh71cqykp.cloudfront.net/uploads/image/data/3936/kmeans-1-centering.svg')"
   ]
  },
  {
   "cell_type": "markdown",
   "id": "1ac1af50",
   "metadata": {},
   "source": [
    "We can now repeat this process of matching data points and recentering centroids until the process stabilizes\n",
    "\n"
   ]
  },
  {
   "cell_type": "code",
   "execution_count": 40,
   "id": "96744713",
   "metadata": {},
   "outputs": [
    {
     "data": {
      "text/html": [
       "<img src=\"https://d7whxh71cqykp.cloudfront.net/uploads/image/data/3937/kmeans-iteration2.png\"/>"
      ],
      "text/plain": [
       "<IPython.core.display.Image object>"
      ]
     },
     "execution_count": 40,
     "metadata": {},
     "output_type": "execute_result"
    }
   ],
   "source": [
    "Image(url='https://d7whxh71cqykp.cloudfront.net/uploads/image/data/3937/kmeans-iteration2.png')"
   ]
  },
  {
   "cell_type": "code",
   "execution_count": 41,
   "id": "8992cb4b",
   "metadata": {},
   "outputs": [
    {
     "data": {
      "text/html": [
       "<img src=\"https://d7whxh71cqykp.cloudfront.net/uploads/image/data/3938/kmeans-iteration3.png\"/>"
      ],
      "text/plain": [
       "<IPython.core.display.Image object>"
      ]
     },
     "execution_count": 41,
     "metadata": {},
     "output_type": "execute_result"
    }
   ],
   "source": [
    "Image(url='https://d7whxh71cqykp.cloudfront.net/uploads/image/data/3938/kmeans-iteration3.png')"
   ]
  },
  {
   "cell_type": "markdown",
   "id": "bf0f7f6e",
   "metadata": {},
   "source": [
    "As we can see, the number of points that move from one cluster to another one decreases after each iteration, and the matching step does not lead to any new assignments at iteration 4\n",
    "\n"
   ]
  },
  {
   "cell_type": "code",
   "execution_count": 42,
   "id": "43bf44fb",
   "metadata": {},
   "outputs": [
    {
     "data": {
      "text/html": [
       "<img src=\"https://d7whxh71cqykp.cloudfront.net/uploads/image/data/3939/kmeans-iteration4.png\"/>"
      ],
      "text/plain": [
       "<IPython.core.display.Image object>"
      ]
     },
     "execution_count": 42,
     "metadata": {},
     "output_type": "execute_result"
    }
   ],
   "source": [
    "Image(url='https://d7whxh71cqykp.cloudfront.net/uploads/image/data/3939/kmeans-iteration4.png')"
   ]
  },
  {
   "cell_type": "markdown",
   "id": "a09e4821",
   "metadata": {},
   "source": [
    "Since there are no new assignments, the centroids are already at the center of their cluster, and we say that the algorithm converged.\n",
    "\n",
    "The k-means algorithm works well for this example because all of its underlying assumptions are met. For instance, the clusters have a nice rounded shape, and we know their number in advance. However, this is not always the case - see Demonstration of k-means assumptions from Scikit-learn : https://scikit-learn.org/stable/auto_examples/cluster/plot_kmeans_assumptions.html"
   ]
  },
  {
   "cell_type": "markdown",
   "id": "ffe9b237",
   "metadata": {},
   "source": [
    "### Scikit-learn implementation\n",
    "\n",
    "Now that we know the basic idea behind k-means, let's see how to implement it with Scikit-learn. We will use the iris data set in an unsupervised learning scenario: our goal is to find groups of similar flowers based only on their petal and sepal length/width values.\n",
    "\n",
    "Let's start by loading the data set with the load_iris() function from Scikit-learn"
   ]
  },
  {
   "cell_type": "code",
   "execution_count": 43,
   "id": "f116a6c3",
   "metadata": {},
   "outputs": [],
   "source": [
    "from sklearn import datasets\n",
    "\n",
    "# Load data set\n",
    "iris = datasets.load_iris()\n",
    "\n",
    "# Load array of input values X\n",
    "X = iris['data']"
   ]
  },
  {
   "cell_type": "code",
   "execution_count": null,
   "id": "024417f4",
   "metadata": {},
   "outputs": [],
   "source": []
  },
  {
   "cell_type": "markdown",
   "id": "30195a93",
   "metadata": {},
   "source": [
    "In this code, we load the data into an iris variable and extract the four features in an X array. Again, the flowers are not labeled in our scenario. However, we saw in a previous unit that the original iris data set contains flowers from three different types: setosa, Versicolor, and Virginica. Here is a plot that we generated in a previous unit using these labels"
   ]
  },
  {
   "cell_type": "code",
   "execution_count": 44,
   "id": "cebe3f89",
   "metadata": {},
   "outputs": [
    {
     "data": {
      "text/html": [
       "<img src=\"https://d7whxh71cqykp.cloudfront.net/uploads/image/data/3940/multiclass-iris.svg\"/>"
      ],
      "text/plain": [
       "<IPython.core.display.Image object>"
      ]
     },
     "execution_count": 44,
     "metadata": {},
     "output_type": "execute_result"
    }
   ],
   "source": [
    "Image(url='https://d7whxh71cqykp.cloudfront.net/uploads/image/data/3940/multiclass-iris.svg')"
   ]
  },
  {
   "cell_type": "markdown",
   "id": "4597520e",
   "metadata": {},
   "source": [
    "Again, there are no \"correct\" labels in our scenario, and the k-means algorithm can return other clusters. However, it will be interesting to compare our results visually to this classification from the original data set.\n",
    "\n",
    "Let's run the algorithm. Scikit-learn provides a KMeans object with a n_clusters parameter to set the number of clusters\n"
   ]
  },
  {
   "cell_type": "code",
   "execution_count": 45,
   "id": "659340f4",
   "metadata": {},
   "outputs": [],
   "source": [
    "from sklearn.cluster import KMeans\n",
    "\n",
    "# Create k-means object\n",
    "kmeans = KMeans(\n",
    "    n_clusters=3,\n",
    "    random_state=0 # Fix results\n",
    ")"
   ]
  },
  {
   "cell_type": "code",
   "execution_count": 46,
   "id": "8abc2754",
   "metadata": {},
   "outputs": [],
   "source": [
    "# Fit it to the data\n",
    "kmeans.fit(X, y=None);"
   ]
  },
  {
   "cell_type": "markdown",
   "id": "d392f9f0",
   "metadata": {},
   "source": [
    "Again, k-means is an unsupervised learning method. Hence, the fit() function doesn't take into account the y parameter. In the code from above, we explicitly set y=None when calling the function for clarity."
   ]
  },
  {
   "cell_type": "code",
   "execution_count": 47,
   "id": "764d569f",
   "metadata": {},
   "outputs": [
    {
     "data": {
      "text/plain": [
       "array([1, 1, 1, 1, 1, 1, 1, 1, 1, 1, 1, 1, 1, 1, 1, 1, 1, 1, 1, 1, 1, 1,\n",
       "       1, 1, 1, 1, 1, 1, 1, 1, 1, 1, 1, 1, 1, 1, 1, 1, 1, 1, 1, 1, 1, 1,\n",
       "       1, 1, 1, 1, 1, 1, 0, 0, 2, 0, 0, 0, 0, 0, 0, 0, 0, 0, 0, 0, 0, 0,\n",
       "       0, 0, 0, 0, 0, 0, 0, 0, 0, 0, 0, 2, 0, 0, 0, 0, 0, 0, 0, 0, 0, 0,\n",
       "       0, 0, 0, 0, 0, 0, 0, 0, 0, 0, 0, 0, 2, 0, 2, 2, 2, 2, 0, 2, 2, 2,\n",
       "       2, 2, 2, 0, 0, 2, 2, 2, 2, 0, 2, 0, 2, 0, 2, 2, 0, 0, 2, 2, 2, 2,\n",
       "       2, 0, 2, 2, 2, 2, 0, 2, 2, 2, 0, 2, 2, 2, 0, 2, 2, 0])"
      ]
     },
     "execution_count": 47,
     "metadata": {},
     "output_type": "execute_result"
    }
   ],
   "source": [
    "# Get clusters\n",
    "kmeans.labels_"
   ]
  },
  {
   "cell_type": "markdown",
   "id": "f0a6e9a0",
   "metadata": {},
   "source": [
    "Similarly, we can obtain the location of the centroids with a cluster_centers_ attribute"
   ]
  },
  {
   "cell_type": "code",
   "execution_count": 48,
   "id": "f190bb4a",
   "metadata": {},
   "outputs": [
    {
     "data": {
      "text/plain": [
       "array([[5.9016129 , 2.7483871 , 4.39354839, 1.43387097],\n",
       "       [5.006     , 3.428     , 1.462     , 0.246     ],\n",
       "       [6.85      , 3.07368421, 5.74210526, 2.07105263]])"
      ]
     },
     "execution_count": 48,
     "metadata": {},
     "output_type": "execute_result"
    }
   ],
   "source": [
    "# Get centroids\n",
    "kmeans.cluster_centers_"
   ]
  },
  {
   "cell_type": "markdown",
   "id": "7e2f3486",
   "metadata": {},
   "source": [
    "The attribute is an array with one entry for each centroid and one column for each feature in X. Note that we can also use the predict() function to match new data points to these centroids"
   ]
  },
  {
   "cell_type": "code",
   "execution_count": 49,
   "id": "058739e3",
   "metadata": {},
   "outputs": [
    {
     "data": {
      "text/plain": [
       "array([1, 1, 1, 1, 1, 1, 1, 1, 1, 1, 1, 1, 1, 1, 1, 1, 1, 1, 1, 1, 1, 1,\n",
       "       1, 1, 1, 1, 1, 1, 1, 1, 1, 1, 1, 1, 1, 1, 1, 1, 1, 1, 1, 1, 1, 1,\n",
       "       1, 1, 1, 1, 1, 1, 0, 0, 2, 0, 0, 0, 0, 0, 0, 0, 0, 0, 0, 0, 0, 0,\n",
       "       0, 0, 0, 0, 0, 0, 0, 0, 0, 0, 0, 2, 0, 0, 0, 0, 0, 0, 0, 0, 0, 0,\n",
       "       0, 0, 0, 0, 0, 0, 0, 0, 0, 0, 0, 0, 2, 0, 2, 2, 2, 2, 0, 2, 2, 2,\n",
       "       2, 2, 2, 0, 0, 2, 2, 2, 2, 0, 2, 0, 2, 0, 2, 2, 0, 0, 2, 2, 2, 2,\n",
       "       2, 0, 2, 2, 2, 2, 0, 2, 2, 2, 0, 2, 2, 2, 0, 2, 2, 0])"
      ]
     },
     "execution_count": 49,
     "metadata": {},
     "output_type": "execute_result"
    }
   ],
   "source": [
    "# Match new data points to the closest centroids\n",
    "kmeans.predict(X)"
   ]
  },
  {
   "cell_type": "markdown",
   "id": "81a277db",
   "metadata": {},
   "source": [
    "In our case, there are four variables, so it's difficult to plot the results using all the variables. However, we can create a 2-dimensional plot similar to the one from above using only the petal lengths and widths"
   ]
  },
  {
   "cell_type": "code",
   "execution_count": 50,
   "id": "61f3fa89",
   "metadata": {},
   "outputs": [
    {
     "data": {
      "image/png": "[encoded data removed]",
      "text/plain": [
       "<Figure size 432x288 with 1 Axes>"
      ]
     },
     "metadata": {
      "needs_background": "light"
     },
     "output_type": "display_data"
    }
   ],
   "source": [
    "%matplotlib inline\n",
    "import matplotlib.pyplot as plt\n",
    "\n",
    "# Plot clusters\n",
    "for cluster in [0, 1, 2]:\n",
    "    # Get points in this cluster\n",
    "    idx = (kmeans.labels_ == cluster)\n",
    "\n",
    "    # Plot points\n",
    "    plt.scatter(\n",
    "        X[idx, 2], # Third column: petal length\n",
    "        X[idx, 3], # Fourth column: petal width\n",
    "        label='cluster {}'.format(cluster)\n",
    "    )\n",
    "\n",
    "    # Plot centroid\n",
    "    centroid = kmeans.cluster_centers_[cluster]\n",
    "    plt.plot(centroid[2], centroid[3], marker='*', color='black', markersize=18)\n",
    "\n",
    "# Add legend and labels\n",
    "plt.legend()\n",
    "plt.xlabel('petal length (cm)')\n",
    "plt.ylabel('petal width (cm)')\n",
    "plt.show()"
   ]
  },
  {
   "cell_type": "markdown",
   "id": "b19703c7",
   "metadata": {},
   "source": [
    "In this code, we plot each cluster using a for loop. At each iteration, we create a boolean array idx with True values for data points in the cluster using a binary condition on the labels assigned by k-means. Then, we plot the petal length/width values by selecting the corresponding rows and columns in the feature matrix X. Finally, we add a marker for each centroid with the plot() function and the marker attribute. Again, we need to select the columns that correspond to the petal length/width attributes.\n",
    "\n",
    "**It's interesting to see how close these results are to the plot with the original labels from above.**\n",
    "\n",
    "### Summary\n",
    "\n",
    "In this unit, we saw how to solve clustering tasks using **k-means**. One of the main advantages of this algorithm is that it **scales well to large data sets**. However, note that **Scikit-learn implements many other clustering methods** that can be better in some cases. For a comparison of the different methods, you can check the Overview of clustering methods table from Scikit-learn.https://scikit-learn.org/stable/modules/clustering.html#overview-of-clustering-methods\n",
    "\n",
    "In the next exercise, we will experiment with the k-means algorithm to cluster gambling crimes form the city of Chicago."
   ]
  },
  {
   "cell_type": "code",
   "execution_count": 51,
   "id": "4aa95d99",
   "metadata": {},
   "outputs": [
    {
     "data": {
      "image/png": "[encoded data removed]",
      "text/plain": [
       "<Figure size 432x288 with 1 Axes>"
      ]
     },
     "metadata": {
      "needs_background": "light"
     },
     "output_type": "display_data"
    }
   ],
   "source": [
    "import pandas as pd\n",
    "\n",
    "results = []\n",
    "for k in range(2, 11):\n",
    "    kmeans = KMeans(\n",
    "        n_clusters = k, \n",
    "        random_state=0\n",
    "    )\n",
    "    kmeans.fit(X, y=None)\n",
    "    results.append({\n",
    "        'k': k,\n",
    "        'inertia': kmeans.inertia_\n",
    "    })\n",
    "results = pd.DataFrame(results)\n",
    "plt.plot(results.k, results.inertia)\n",
    "plt.show();"
   ]
  },
  {
   "cell_type": "markdown",
   "id": "c962b190",
   "metadata": {},
   "source": [
    "Well done! After plotting the curve, you would need to spot the \"knee\" or the bend of the curve. Sometimes it's hard to accurately spot it using visual inspection. For that, you might need to devise a detection procedure:\n",
    "\n",
    "> - If the curve is smooth, you can draw two tangent lines on each side of the curve and spot the knee from the intersection of these two lines.\n",
    "> - You can also perform two linear fits and find their intersection. The first line is a linear fit of the first few points on the left-hand side of the curve, and the second line is a linear fit of the last few points on the right-hand side of the curve.\n",
    "> - There are also some libraries that automatically detect the knee. For example, Yellowbrick has a built-in implementation of the knee point detection algorithm, a.k.a. \"kneedle\" algorithm to spot the optimal k.\n",
    "\n",
    "Note that an estimate of the optimal k using visual inspection is often enough."
   ]
  },
  {
   "cell_type": "markdown",
   "id": "69bf5343",
   "metadata": {},
   "source": [
    "### Chicago gambling crimes (4-6-2)\n",
    "In this first part, you will work on a data set of gambling crimes from the Chicago data portal. The data was collected between 2001 and 2017 and has more than ten thousand observations with several variables including the location of the crime (latitude and longitude). The goal is to use these two variables to group crimes into eight areas that historically have a lot of gambling crimes."
   ]
  },
  {
   "cell_type": "markdown",
   "id": "5222e1bd",
   "metadata": {},
   "source": [
    "# Dimensionality reduction with PCA\n",
    "\n",
    "In this unit, we will learn about dimensionality reduction which is **another kind of unsupervised learning task**. In particular, we will discuss **principal component analysis (PCA)** which is one way to address dimensionality reduction. This time, we will work on the wine data which contains 13 variables, and we will try to visualize it by creating a low dimensional representation using PCA.\n",
    "\n",
    "Before applying PCA to the wine data using Scikit-learn estimators, let's start by discussing the issues related to plotting high dimensional data sets and see how PCA addresses them.\n",
    "\n",
    "### Visualize high-dimensional data sets\n",
    "\n"
   ]
  },
  {
   "cell_type": "code",
   "execution_count": 52,
   "id": "7730b599",
   "metadata": {},
   "outputs": [
    {
     "data": {
      "text/html": [
       "<div>\n",
       "<style scoped>\n",
       "    .dataframe tbody tr th:only-of-type {\n",
       "        vertical-align: middle;\n",
       "    }\n",
       "\n",
       "    .dataframe tbody tr th {\n",
       "        vertical-align: top;\n",
       "    }\n",
       "\n",
       "    .dataframe thead th {\n",
       "        text-align: right;\n",
       "    }\n",
       "</style>\n",
       "<table border=\"1\" class=\"dataframe\">\n",
       "  <thead>\n",
       "    <tr style=\"text-align: right;\">\n",
       "      <th></th>\n",
       "      <th>kind</th>\n",
       "      <th>alcohol</th>\n",
       "      <th>malic acid</th>\n",
       "      <th>ash</th>\n",
       "      <th>alkalinity</th>\n",
       "      <th>magnesium</th>\n",
       "      <th>phenols</th>\n",
       "      <th>flavonoids</th>\n",
       "      <th>nf phenols</th>\n",
       "      <th>pas</th>\n",
       "      <th>color</th>\n",
       "      <th>fue</th>\n",
       "      <th>od2380/315</th>\n",
       "      <th>proline</th>\n",
       "    </tr>\n",
       "  </thead>\n",
       "  <tbody>\n",
       "    <tr>\n",
       "      <th>0</th>\n",
       "      <td>1</td>\n",
       "      <td>14.23</td>\n",
       "      <td>1.71</td>\n",
       "      <td>2.43</td>\n",
       "      <td>15.6</td>\n",
       "      <td>127</td>\n",
       "      <td>2.80</td>\n",
       "      <td>3.06</td>\n",
       "      <td>0.28</td>\n",
       "      <td>2.29</td>\n",
       "      <td>5.64</td>\n",
       "      <td>1.04</td>\n",
       "      <td>3.92</td>\n",
       "      <td>1065</td>\n",
       "    </tr>\n",
       "    <tr>\n",
       "      <th>1</th>\n",
       "      <td>1</td>\n",
       "      <td>13.20</td>\n",
       "      <td>1.78</td>\n",
       "      <td>2.14</td>\n",
       "      <td>11.2</td>\n",
       "      <td>100</td>\n",
       "      <td>2.65</td>\n",
       "      <td>2.76</td>\n",
       "      <td>0.26</td>\n",
       "      <td>1.28</td>\n",
       "      <td>4.38</td>\n",
       "      <td>1.05</td>\n",
       "      <td>3.40</td>\n",
       "      <td>1050</td>\n",
       "    </tr>\n",
       "    <tr>\n",
       "      <th>2</th>\n",
       "      <td>1</td>\n",
       "      <td>13.16</td>\n",
       "      <td>2.36</td>\n",
       "      <td>2.67</td>\n",
       "      <td>18.6</td>\n",
       "      <td>101</td>\n",
       "      <td>2.80</td>\n",
       "      <td>3.24</td>\n",
       "      <td>0.30</td>\n",
       "      <td>2.81</td>\n",
       "      <td>5.68</td>\n",
       "      <td>1.03</td>\n",
       "      <td>3.17</td>\n",
       "      <td>1185</td>\n",
       "    </tr>\n",
       "    <tr>\n",
       "      <th>3</th>\n",
       "      <td>1</td>\n",
       "      <td>14.37</td>\n",
       "      <td>1.95</td>\n",
       "      <td>2.50</td>\n",
       "      <td>16.8</td>\n",
       "      <td>113</td>\n",
       "      <td>3.85</td>\n",
       "      <td>3.49</td>\n",
       "      <td>0.24</td>\n",
       "      <td>2.18</td>\n",
       "      <td>7.80</td>\n",
       "      <td>0.86</td>\n",
       "      <td>3.45</td>\n",
       "      <td>1480</td>\n",
       "    </tr>\n",
       "    <tr>\n",
       "      <th>4</th>\n",
       "      <td>1</td>\n",
       "      <td>13.24</td>\n",
       "      <td>2.59</td>\n",
       "      <td>2.87</td>\n",
       "      <td>21.0</td>\n",
       "      <td>118</td>\n",
       "      <td>2.80</td>\n",
       "      <td>2.69</td>\n",
       "      <td>0.39</td>\n",
       "      <td>1.82</td>\n",
       "      <td>4.32</td>\n",
       "      <td>1.04</td>\n",
       "      <td>2.93</td>\n",
       "      <td>735</td>\n",
       "    </tr>\n",
       "  </tbody>\n",
       "</table>\n",
       "</div>"
      ],
      "text/plain": [
       "   kind  alcohol  malic acid   ash  alkalinity  magnesium  phenols  \\\n",
       "0     1    14.23        1.71  2.43        15.6        127     2.80   \n",
       "1     1    13.20        1.78  2.14        11.2        100     2.65   \n",
       "2     1    13.16        2.36  2.67        18.6        101     2.80   \n",
       "3     1    14.37        1.95  2.50        16.8        113     3.85   \n",
       "4     1    13.24        2.59  2.87        21.0        118     2.80   \n",
       "\n",
       "   flavonoids  nf phenols   pas  color   fue  od2380/315  proline  \n",
       "0        3.06        0.28  2.29   5.64  1.04        3.92     1065  \n",
       "1        2.76        0.26  1.28   4.38  1.05        3.40     1050  \n",
       "2        3.24        0.30  2.81   5.68  1.03        3.17     1185  \n",
       "3        3.49        0.24  2.18   7.80  0.86        3.45     1480  \n",
       "4        2.69        0.39  1.82   4.32  1.04        2.93      735  "
      ]
     },
     "execution_count": 52,
     "metadata": {},
     "output_type": "execute_result"
    }
   ],
   "source": [
    "import pandas as pd\n",
    "\n",
    "# Load data\n",
    "data_df = pd.read_csv('wine-data.csv')\n",
    "\n",
    "# First five rows\n",
    "data_df.head()"
   ]
  },
  {
   "cell_type": "code",
   "execution_count": 53,
   "id": "4eb583c7",
   "metadata": {},
   "outputs": [
    {
     "data": {
      "image/png": "[encoded data removed]",
      "text/plain": [
       "<Figure size 582.375x540 with 12 Axes>"
      ]
     },
     "metadata": {
      "needs_background": "light"
     },
     "output_type": "display_data"
    }
   ],
   "source": [
    "%matplotlib inline\n",
    "import seaborn as sns\n",
    "import matplotlib.pyplot as plt\n",
    "\n",
    "# Create pairplot\n",
    "sns.pairplot(\n",
    "    data_df,\n",
    "    # Variables on the x-axes\n",
    "    x_vars=['alcohol', 'phenols', 'color'],\n",
    "    # Variables on the y-axes\n",
    "    y_vars=['alcohol', 'phenols', 'color'],\n",
    "    # Use a different color for each kind of wine\n",
    "    hue='kind'\n",
    ")\n",
    "plt.show()"
   ]
  },
  {
   "cell_type": "markdown",
   "id": "2c31cccc",
   "metadata": {},
   "source": [
    "The function creates a table where rows and columns correspond to the variables in the y_vars and x_vars arguments. Each cell of this table shows a scatter plot of the variables on its row and column or a histogram when they are the same variable. By looking at these plots, we can see some of the characteristics of each wine. For instance, we can see in the row with plots of the color variable that the second cultivar (in orange) has a lighter color than the two others. Also, we can see in the phenols column that the first cultivar (in blue) has more phenols than the third one (in green).\n",
    "\n",
    "An important limitation of this scatter-plot matrix method is that it doesn't scale well to many variables. In fact, if you count the number of possible pairs of \n",
    "n\n",
    " variables, you can see that there is a total of \n",
    "n\n",
    "(\n",
    "n\n",
    "−\n",
    "1\n",
    ")\n",
    "/\n",
    "2\n",
    " different plots. In our case, we would need \n",
    "13\n",
    "∗\n",
    "12\n",
    "/\n",
    "2\n",
    "=\n",
    "78\n",
    " plots which would be difficult to analyze. Also, this method doesn't provide an overview of all the variables at once since we can only visualize them in pairs.\n",
    " \n",
    " Let's see how PCA solves these issues."
   ]
  },
  {
   "cell_type": "markdown",
   "id": "06bc51bd",
   "metadata": {},
   "source": [
    "### Principal component analysis\n",
    "\n",
    "The idea behind PCA is to reduce the number of dimensions by projecting the data onto a set of \n",
    "n\n",
    " orthogonal axes called the principal components. If we choose a good set of axes, we can minimize the information lost during this process. This may sound abstract, so let's take an example.\n",
    "\n",
    "Here is a simple data set with two dimensions. As we can see, the data doesn't occupy the space uniformly. The points mainly vary along the red axis"
   ]
  },
  {
   "cell_type": "code",
   "execution_count": 54,
   "id": "92848e8c",
   "metadata": {},
   "outputs": [
    {
     "data": {
      "text/html": [
       "<img src=\"https://d7whxh71cqykp.cloudfront.net/uploads/image/data/3946/pca-projection.svg\"/>"
      ],
      "text/plain": [
       "<IPython.core.display.Image object>"
      ]
     },
     "execution_count": 54,
     "metadata": {},
     "output_type": "execute_result"
    }
   ],
   "source": [
    "Image(url='https://d7whxh71cqykp.cloudfront.net/uploads/image/data/3946/pca-projection.svg')"
   ]
  },
  {
   "cell_type": "markdown",
   "id": "8820599b",
   "metadata": {},
   "source": [
    "Imagine that we need to summarize each data point from above using a single number (reducing the dimensionality from two to one), how would you compute this number?\n",
    "\n",
    "One way is to keep only one of the two components of each data point (its x or y component). We can think of this solution as a projection of the data onto the x- or the y-axis. But is it the best solution in this case? **Intuitively, projecting the data points onto the red axis seems better because the data is more spread out along this axis.** Hence, we would lose less information by projecting the data onto the red axis than onto the x or the y ones. This is the idea behind PCA. **To reduce the dimensionality of a set of data points to \n",
    "n\n",
    " dimensions, PCA projects the data onto a set of \n",
    "n\n",
    " orthogonal axes (the principal components) that capture as much of the variation in the data points as possible.**\n",
    " \n",
    "### Scikit-learn implementation\n",
    "\n",
    "Now that we know the basic idea behind principal component analysis, let's take a concrete example and use Scikit-learn to apply this method to the wine data from above. Let's start by creating the X/y arrays"
   ]
  },
  {
   "cell_type": "code",
   "execution_count": 55,
   "id": "104428c7",
   "metadata": {},
   "outputs": [
    {
     "name": "stdout",
     "output_type": "stream",
     "text": [
      "X: (178, 13)\n",
      "y: (178,)\n"
     ]
    }
   ],
   "source": [
    "# Create X/y arrays\n",
    "features = data_df.drop('kind', axis=1)\n",
    "X = features.values\n",
    "y = data_df.kind.values\n",
    "\n",
    "print('X:', X.shape) # (178, 13)\n",
    "print('y:', y.shape) # (178,)"
   ]
  },
  {
   "cell_type": "code",
   "execution_count": 56,
   "id": "cd4121c8",
   "metadata": {},
   "outputs": [],
   "source": [
    "from sklearn.decomposition import PCA\n",
    "\n",
    "# Create PCA transformer\n",
    "pca = PCA(n_components=2)\n",
    "\n",
    "# Apply PCA\n",
    "pca.fit(X, y=None); # Unsupervised learning, no y variable"
   ]
  },
  {
   "cell_type": "markdown",
   "id": "f3c9b638",
   "metadata": {},
   "source": [
    "In this code, we create the estimator and set the number of components with the n_components parameter - in this case, we reduce the number of dimensions to two. We can then compute them for the X data by calling fit(X). The estimator computes the two principal components (or principal axes) of our data, and **we can then project any set of points from our original data space of thirteen variables onto these axes with the transform() function**"
   ]
  },
  {
   "cell_type": "code",
   "execution_count": 57,
   "id": "f419b738",
   "metadata": {},
   "outputs": [],
   "source": [
    "# Project data onto the first two components\n",
    "X_2d = pca.transform(X)"
   ]
  },
  {
   "cell_type": "markdown",
   "id": "3760a66a",
   "metadata": {},
   "source": [
    "It's important to understand that the fit() and the transform() functions implement two distinct steps of the PCA method.**When fitting the estimator, we compute the set of orthogonal axes (the principal components) that capture as much of the variation in the data as possible**. You can think of them as **vectors in our original 13-dimensional space.** Once we have these principal components, we can project any set of points from our original space onto them to create a lower-dimensional representation. In our case, we project the same data that we used to find the components, but these could be two different sets of points.\n",
    "\n",
    "We now have a 2-dimensional representation of our data in the X_2d variable. Let's plot it using a different color for each type of wine"
   ]
  },
  {
   "cell_type": "code",
   "execution_count": 58,
   "id": "0f3e6183",
   "metadata": {},
   "outputs": [
    {
     "data": {
      "image/png": "[encoded data removed]",
      "text/plain": [
       "<Figure size 432x288 with 1 Axes>"
      ]
     },
     "metadata": {
      "needs_background": "light"
     },
     "output_type": "display_data"
    }
   ],
   "source": [
    "# Plot each kind of wine\n",
    "for kind in [1, 2, 3]:\n",
    "    # Wine samples of this type\n",
    "    idx = (y == kind)\n",
    "\n",
    "    # Plot their components\n",
    "    plt.scatter(\n",
    "        X_2d[idx, 0], X_2d[idx, 1],\n",
    "        label='type {}'.format(kind)\n",
    "    )\n",
    "\n",
    "# Labels and legend\n",
    "plt.legend()\n",
    "plt.xlabel('1st component')\n",
    "plt.ylabel('2nd component')\n",
    "plt.show()"
   ]
  },
  {
   "cell_type": "markdown",
   "id": "02e82351",
   "metadata": {},
   "source": [
    "This code is very similar to what we saw in the previous unit. We create a boolean array idx for each type of wine and use it to plot the values from the X_2d variable. These are called the component scores. \n",
    "\n",
    "\n",
    "You can think of **this plot as a 2-dimensional view of the wine data where the two axes correspond to the two orthogonal directions with the largest variance in our original space with thirteen dimensions.** Since these axes are directions in our original space (they are vectors in this space), we can express them as a **linear combination of our thirteen features**. These vectors are called the loading vectors and we can get them from the components_ attribute of our pca estimator"
   ]
  },
  {
   "cell_type": "code",
   "execution_count": 59,
   "id": "53278eab",
   "metadata": {},
   "outputs": [
    {
     "data": {
      "text/plain": [
       "array([[ 1.65926472e-03, -6.81015556e-04,  1.94905742e-04,\n",
       "        -4.67130058e-03,  1.78680075e-02,  9.89829680e-04,\n",
       "         1.56728830e-03, -1.23086662e-04,  6.00607792e-04,\n",
       "         2.32714318e-03,  1.71408087e-04,  7.04931645e-04,\n",
       "         9.99822937e-01],\n",
       "       [ 1.20340622e-03,  2.15498179e-03,  4.59369256e-03,\n",
       "         2.64503928e-02,  9.99344186e-01,  8.77962322e-04,\n",
       "        -5.18505265e-05, -1.35447893e-03,  5.00440045e-03,\n",
       "         1.51003527e-02, -7.62534250e-04, -3.49536416e-03,\n",
       "        -1.77738095e-02]])"
      ]
     },
     "execution_count": 59,
     "metadata": {},
     "output_type": "execute_result"
    }
   ],
   "source": [
    "# Get the loading vectors\n",
    "pca.components_"
   ]
  },
  {
   "cell_type": "code",
   "execution_count": 60,
   "id": "e238ffff",
   "metadata": {},
   "outputs": [
    {
     "data": {
      "text/plain": [
       "(2, 13)"
      ]
     },
     "execution_count": 60,
     "metadata": {},
     "output_type": "execute_result"
    }
   ],
   "source": [
    "pca.components_.shape"
   ]
  },
  {
   "cell_type": "markdown",
   "id": "d213fcf1",
   "metadata": {},
   "source": [
    "In our case, this array has a shape of (2, 13) since we computed the first two principal components of our 13-dimensional data. You can think of each value in this matrix as an indication of how parallel each principal axis is to our features. For instance, the value pca.components_[1, 0] indicates how parallel the second principal component is to the first feature (alcohol). A value equal to one indicates that the axis is perfectly parallel to the feature and a value of zero indicates that the axis is perpendicular to it.\n",
    "\n",
    "Let's create a DataFrame to visualize our two loading vectors"
   ]
  },
  {
   "cell_type": "code",
   "execution_count": 61,
   "id": "727243fd",
   "metadata": {},
   "outputs": [
    {
     "data": {
      "text/html": [
       "<div>\n",
       "<style scoped>\n",
       "    .dataframe tbody tr th:only-of-type {\n",
       "        vertical-align: middle;\n",
       "    }\n",
       "\n",
       "    .dataframe tbody tr th {\n",
       "        vertical-align: top;\n",
       "    }\n",
       "\n",
       "    .dataframe thead th {\n",
       "        text-align: right;\n",
       "    }\n",
       "</style>\n",
       "<table border=\"1\" class=\"dataframe\">\n",
       "  <thead>\n",
       "    <tr style=\"text-align: right;\">\n",
       "      <th></th>\n",
       "      <th>variance</th>\n",
       "      <th>1st component</th>\n",
       "      <th>2nd component</th>\n",
       "    </tr>\n",
       "  </thead>\n",
       "  <tbody>\n",
       "    <tr>\n",
       "      <th>proline</th>\n",
       "      <td>98609.600966</td>\n",
       "      <td>0.999823</td>\n",
       "      <td>-0.017774</td>\n",
       "    </tr>\n",
       "    <tr>\n",
       "      <th>magnesium</th>\n",
       "      <td>202.843328</td>\n",
       "      <td>0.017868</td>\n",
       "      <td>0.999344</td>\n",
       "    </tr>\n",
       "    <tr>\n",
       "      <th>alkalinity</th>\n",
       "      <td>11.090031</td>\n",
       "      <td>-0.004671</td>\n",
       "      <td>0.026450</td>\n",
       "    </tr>\n",
       "    <tr>\n",
       "      <th>color</th>\n",
       "      <td>5.344256</td>\n",
       "      <td>0.002327</td>\n",
       "      <td>0.015100</td>\n",
       "    </tr>\n",
       "    <tr>\n",
       "      <th>malic acid</th>\n",
       "      <td>1.241004</td>\n",
       "      <td>-0.000681</td>\n",
       "      <td>0.002155</td>\n",
       "    </tr>\n",
       "    <tr>\n",
       "      <th>flavonoids</th>\n",
       "      <td>0.992114</td>\n",
       "      <td>0.001567</td>\n",
       "      <td>-0.000052</td>\n",
       "    </tr>\n",
       "    <tr>\n",
       "      <th>alcohol</th>\n",
       "      <td>0.655360</td>\n",
       "      <td>0.001659</td>\n",
       "      <td>0.001203</td>\n",
       "    </tr>\n",
       "    <tr>\n",
       "      <th>od2380/315</th>\n",
       "      <td>0.501254</td>\n",
       "      <td>0.000705</td>\n",
       "      <td>-0.003495</td>\n",
       "    </tr>\n",
       "    <tr>\n",
       "      <th>phenols</th>\n",
       "      <td>0.389489</td>\n",
       "      <td>0.000990</td>\n",
       "      <td>0.000878</td>\n",
       "    </tr>\n",
       "    <tr>\n",
       "      <th>pas</th>\n",
       "      <td>0.325754</td>\n",
       "      <td>0.000601</td>\n",
       "      <td>0.005004</td>\n",
       "    </tr>\n",
       "    <tr>\n",
       "      <th>ash</th>\n",
       "      <td>0.074842</td>\n",
       "      <td>0.000195</td>\n",
       "      <td>0.004594</td>\n",
       "    </tr>\n",
       "    <tr>\n",
       "      <th>fue</th>\n",
       "      <td>0.051949</td>\n",
       "      <td>0.000171</td>\n",
       "      <td>-0.000763</td>\n",
       "    </tr>\n",
       "    <tr>\n",
       "      <th>nf phenols</th>\n",
       "      <td>0.015402</td>\n",
       "      <td>-0.000123</td>\n",
       "      <td>-0.001354</td>\n",
       "    </tr>\n",
       "  </tbody>\n",
       "</table>\n",
       "</div>"
      ],
      "text/plain": [
       "                variance  1st component  2nd component\n",
       "proline     98609.600966       0.999823      -0.017774\n",
       "magnesium     202.843328       0.017868       0.999344\n",
       "alkalinity     11.090031      -0.004671       0.026450\n",
       "color           5.344256       0.002327       0.015100\n",
       "malic acid      1.241004      -0.000681       0.002155\n",
       "flavonoids      0.992114       0.001567      -0.000052\n",
       "alcohol         0.655360       0.001659       0.001203\n",
       "od2380/315      0.501254       0.000705      -0.003495\n",
       "phenols         0.389489       0.000990       0.000878\n",
       "pas             0.325754       0.000601       0.005004\n",
       "ash             0.074842       0.000195       0.004594\n",
       "fue             0.051949       0.000171      -0.000763\n",
       "nf phenols      0.015402      -0.000123      -0.001354"
      ]
     },
     "execution_count": 61,
     "metadata": {},
     "output_type": "execute_result"
    }
   ],
   "source": [
    "# Create DataFrame with variance and principal components\n",
    "results_df = pd.DataFrame({\n",
    "    'variance': X.var(axis=0),\n",
    "    '1st component': pca.components_[0],\n",
    "    '2nd component': pca.components_[1]\n",
    "}).set_index(features.columns)\n",
    "\n",
    "# Sort DataFrame by variance\n",
    "results_df.sort_values('variance', ascending=False)"
   ]
  },
  {
   "cell_type": "markdown",
   "id": "346434b3",
   "metadata": {},
   "source": [
    "In this code, we create a results_df DataFrame with the features as indexes and the loading vectors as columns. Note that we use the features DataFrame that we created with the X/y arrays above to set the index of the DataFrame with set_index(). Also, we add a variance column with the variance of each feature in X by calling X.var(axis=0) and sort the DataFrame with sort_values().\n",
    "\n",
    "As we can see, the first principal component has a value extremely close to one for the proline feature and the second component has a value extremely close to one for the magnesium feature. **In other words, the plot from above corresponds to a plot of the proline and magnesium variables.**\n",
    "\n",
    "Let's verify that by plotting these two features"
   ]
  },
  {
   "cell_type": "code",
   "execution_count": 62,
   "id": "7d50be42",
   "metadata": {},
   "outputs": [
    {
     "data": {
      "image/png": "[encoded data removed]",
      "text/plain": [
       "<Figure size 432x288 with 1 Axes>"
      ]
     },
     "metadata": {
      "needs_background": "light"
     },
     "output_type": "display_data"
    }
   ],
   "source": [
    "# Plot proline and magnesium variables\n",
    "plt.scatter(\n",
    "    X[:, 12], # Proline attribute\n",
    "    X[:, 4] # Magnesium attribute\n",
    ")\n",
    "plt.xlabel('proline')\n",
    "plt.ylabel('magnesium')\n",
    "plt.show()"
   ]
  },
  {
   "cell_type": "markdown",
   "id": "ff5a61c6",
   "metadata": {},
   "source": [
    "This plot is similar to the one from above. The only difference is the scale of the axes. We won't go into the details, but in short, this is because PCA ensures that the loading vectors have a length of one which modifies the scale of the data after the projection.\n",
    "\n",
    "In our case, PCA uses these two features as the components because they have the largest variance (you can verify this in the table from above). Remember that the algorithm tries to find the axes that capture as much of the variation in the data as possible. For this reason, the algorithm will favor variables with a large variance."
   ]
  },
  {
   "cell_type": "markdown",
   "id": "4416b764",
   "metadata": {},
   "source": [
    "### Standardizing data\n",
    "\n",
    "To avoid this issue, we need to standardize the data\n"
   ]
  },
  {
   "cell_type": "code",
   "execution_count": 63,
   "id": "6d4ecebc",
   "metadata": {},
   "outputs": [],
   "source": [
    "from sklearn.preprocessing import StandardScaler\n",
    "\n",
    "# Create Standard scaler\n",
    "scaler = StandardScaler()\n",
    "\n",
    "# Rescale data\n",
    "X_rescaled = scaler.fit_transform(X)\n",
    "\n",
    "# Create PCA transformer\n",
    "pca2 = PCA(n_components=2)\n",
    "\n",
    "# Apply PCA to rescaled data\n",
    "X_2d_rescaled = pca2.fit_transform(X_rescaled)"
   ]
  },
  {
   "cell_type": "markdown",
   "id": "dd0d3975",
   "metadata": {},
   "source": [
    "In this code, we create a StandardScaler object and rescale the data with the fit_transform() function. We then create a new PCA estimator and use it to create a 2-dimensional view X_2d_rescaled of our rescaled data. Since we project the same data that we use to find the principal components, we can combine the two operations by calling fit_transform(X_rescaled)."
   ]
  },
  {
   "cell_type": "code",
   "execution_count": 64,
   "id": "429c1640",
   "metadata": {},
   "outputs": [
    {
     "data": {
      "image/png": "[encoded data removed]",
      "text/plain": [
       "<Figure size 432x288 with 1 Axes>"
      ]
     },
     "metadata": {
      "needs_background": "light"
     },
     "output_type": "display_data"
    }
   ],
   "source": [
    "# Plot each kind of wine\n",
    "fig = plt.figure()\n",
    "for kind in [1, 2, 3]:\n",
    "    # Wine samples of this type\n",
    "    idx = (y == kind)\n",
    "\n",
    "    # Plot their components\n",
    "    plt.scatter(\n",
    "        X_2d_rescaled[idx, 0], X_2d_rescaled[idx, 1],\n",
    "        label='type {}'.format(kind)\n",
    "    )\n",
    "\n",
    "# Labels and legend\n",
    "plt.legend()\n",
    "plt.xlabel('1st component')\n",
    "plt.ylabel('2nd component')\n",
    "plt.show()"
   ]
  },
  {
   "cell_type": "markdown",
   "id": "bfcc5a3e",
   "metadata": {},
   "source": [
    "It's interesting to note that the wine samples occupy a different region of this new feature space. In that sense, it seems that PCA was able to learn by itself some higher level information from the thirteen features i.e. the different types of wine.\n",
    "\n",
    "Again, let's try to analyze each component by inspecting the weights of the loading vectors in the components_ attribute"
   ]
  },
  {
   "cell_type": "code",
   "execution_count": 65,
   "id": "c842cdff",
   "metadata": {},
   "outputs": [
    {
     "data": {
      "text/html": [
       "<div>\n",
       "<style scoped>\n",
       "    .dataframe tbody tr th:only-of-type {\n",
       "        vertical-align: middle;\n",
       "    }\n",
       "\n",
       "    .dataframe tbody tr th {\n",
       "        vertical-align: top;\n",
       "    }\n",
       "\n",
       "    .dataframe thead th {\n",
       "        text-align: right;\n",
       "    }\n",
       "</style>\n",
       "<table border=\"1\" class=\"dataframe\">\n",
       "  <thead>\n",
       "    <tr style=\"text-align: right;\">\n",
       "      <th></th>\n",
       "      <th>variance</th>\n",
       "      <th>1st component</th>\n",
       "      <th>2nd component</th>\n",
       "    </tr>\n",
       "  </thead>\n",
       "  <tbody>\n",
       "    <tr>\n",
       "      <th>flavonoids</th>\n",
       "      <td>1.0</td>\n",
       "      <td>0.422935</td>\n",
       "      <td>0.003347</td>\n",
       "    </tr>\n",
       "    <tr>\n",
       "      <th>phenols</th>\n",
       "      <td>1.0</td>\n",
       "      <td>0.394655</td>\n",
       "      <td>-0.065063</td>\n",
       "    </tr>\n",
       "    <tr>\n",
       "      <th>od2380/315</th>\n",
       "      <td>1.0</td>\n",
       "      <td>0.376167</td>\n",
       "      <td>0.164478</td>\n",
       "    </tr>\n",
       "    <tr>\n",
       "      <th>pas</th>\n",
       "      <td>1.0</td>\n",
       "      <td>0.313434</td>\n",
       "      <td>-0.039307</td>\n",
       "    </tr>\n",
       "    <tr>\n",
       "      <th>fue</th>\n",
       "      <td>1.0</td>\n",
       "      <td>0.296690</td>\n",
       "      <td>0.279282</td>\n",
       "    </tr>\n",
       "    <tr>\n",
       "      <th>proline</th>\n",
       "      <td>1.0</td>\n",
       "      <td>0.286760</td>\n",
       "      <td>-0.364883</td>\n",
       "    </tr>\n",
       "    <tr>\n",
       "      <th>alcohol</th>\n",
       "      <td>1.0</td>\n",
       "      <td>0.144326</td>\n",
       "      <td>-0.483648</td>\n",
       "    </tr>\n",
       "    <tr>\n",
       "      <th>magnesium</th>\n",
       "      <td>1.0</td>\n",
       "      <td>0.141997</td>\n",
       "      <td>-0.299617</td>\n",
       "    </tr>\n",
       "    <tr>\n",
       "      <th>ash</th>\n",
       "      <td>1.0</td>\n",
       "      <td>-0.002056</td>\n",
       "      <td>-0.316068</td>\n",
       "    </tr>\n",
       "    <tr>\n",
       "      <th>color</th>\n",
       "      <td>1.0</td>\n",
       "      <td>-0.088623</td>\n",
       "      <td>-0.529996</td>\n",
       "    </tr>\n",
       "    <tr>\n",
       "      <th>alkalinity</th>\n",
       "      <td>1.0</td>\n",
       "      <td>-0.239324</td>\n",
       "      <td>0.010589</td>\n",
       "    </tr>\n",
       "    <tr>\n",
       "      <th>malic acid</th>\n",
       "      <td>1.0</td>\n",
       "      <td>-0.245197</td>\n",
       "      <td>-0.224943</td>\n",
       "    </tr>\n",
       "    <tr>\n",
       "      <th>nf phenols</th>\n",
       "      <td>1.0</td>\n",
       "      <td>-0.298539</td>\n",
       "      <td>-0.028777</td>\n",
       "    </tr>\n",
       "  </tbody>\n",
       "</table>\n",
       "</div>"
      ],
      "text/plain": [
       "            variance  1st component  2nd component\n",
       "flavonoids       1.0       0.422935       0.003347\n",
       "phenols          1.0       0.394655      -0.065063\n",
       "od2380/315       1.0       0.376167       0.164478\n",
       "pas              1.0       0.313434      -0.039307\n",
       "fue              1.0       0.296690       0.279282\n",
       "proline          1.0       0.286760      -0.364883\n",
       "alcohol          1.0       0.144326      -0.483648\n",
       "magnesium        1.0       0.141997      -0.299617\n",
       "ash              1.0      -0.002056      -0.316068\n",
       "color            1.0      -0.088623      -0.529996\n",
       "alkalinity       1.0      -0.239324       0.010589\n",
       "malic acid       1.0      -0.245197      -0.224943\n",
       "nf phenols       1.0      -0.298539      -0.028777"
      ]
     },
     "execution_count": 65,
     "metadata": {},
     "output_type": "execute_result"
    }
   ],
   "source": [
    "# Create DataFrame with variance and principal components\n",
    "results_df2 = pd.DataFrame({\n",
    "    'variance': X_rescaled.var(axis=0),\n",
    "    '1st component': pca2.components_[0],\n",
    "    '2nd component': pca2.components_[1]\n",
    "}).set_index(features.columns)\n",
    "\n",
    "# Sort DataFrame by the coefficients of the 1st loading vector\n",
    "results_df2.sort_values('1st component', ascending=False)"
   ]
  },
  {
   "cell_type": "markdown",
   "id": "27c6e28b",
   "metadata": {},
   "source": [
    "This time, all features have a variance of one since we standardized them. As we can see the first loading vector has a large coefficient for the flavonoids and phenols features whereas the second loading vector has a large negative coefficient for the color and alcohol ones. In fact, a negative coefficient simply means that the loading vector points in the direction opposite to the feature axis. For instance, the row that corresponds to the alcohol feature has the weights 0.14 and -0.48 which means that the second loading vector is more parallel to the axis of the alcohol feature than the first loading vector, but points in the opposite direction since the value is negative.\n",
    "\n",
    "### PCA biplots\n",
    "\n",
    "We can use these weights to plot each feature in our 2d plot"
   ]
  },
  {
   "cell_type": "code",
   "execution_count": 66,
   "id": "96471cff",
   "metadata": {},
   "outputs": [
    {
     "data": {
      "image/png": "[encoded data removed]",
      "text/plain": [
       "<Figure size 432x288 with 1 Axes>"
      ]
     },
     "metadata": {
      "needs_background": "light"
     },
     "output_type": "display_data"
    }
   ],
   "source": [
    "import matplotlib.patheffects as path_effects\n",
    "\n",
    "# Plot each kind of wine\n",
    "for kind in [1, 2, 3]:\n",
    "    # Wine samples of this type\n",
    "    idx = (y == kind)\n",
    "\n",
    "    # Plot their components\n",
    "    plt.scatter(\n",
    "        X_2d_rescaled[idx, 0], X_2d_rescaled[idx, 1],\n",
    "        label='type {}'.format(kind)\n",
    "    )\n",
    "\n",
    "# Plot a few features using the weights in the loading vectors\n",
    "for feature in ['flavonoids', 'phenols', 'malic acid',\n",
    "                'alkalinity', 'alcohol', 'color', 'od2380/315']:\n",
    "    # Get weights\n",
    "    weight1 = results_df2.loc[feature, '1st component']*4 # rescale them\n",
    "    weight2 = results_df2.loc[feature, '2nd component']*4 # (4 is arbitrary)\n",
    "\n",
    "    # Plot arrows\n",
    "    plt.arrow(\n",
    "        0, 0, # Vector starts at (x,y)=(0,0)\n",
    "        weight1, weight2, # ends at (x,y)=(weight1, weight2)\n",
    "        color='black', width=0.1)\n",
    "\n",
    "    # Add text\n",
    "    text = plt.text(\n",
    "        weight1 * 1.5, # x location (1.5 is arbitrary)\n",
    "        weight2 * 1.5, # y location\n",
    "        feature, # Feature name\n",
    "        weight='bold', color='white')\n",
    "\n",
    "    # Make the text stand out\n",
    "    text.set_path_effects([\n",
    "        path_effects.Stroke(linewidth=2, foreground='black'),\n",
    "        path_effects.Normal()])\n",
    "\n",
    "# Labels and legend\n",
    "plt.legend()\n",
    "plt.xlabel('1st component')\n",
    "plt.ylabel('2nd component')\n",
    "plt.show()"
   ]
  },
  {
   "cell_type": "markdown",
   "id": "5b81e5e2",
   "metadata": {},
   "source": [
    "In this code, we extract the weights weight1 and weight2 from the two loading vectors for the flavonoids, phenols, malic acid, alkalinity, alcohol and color features. We can then plot them using the arrow() function. Note that we need to rescale these arrows to make them visible. To achieve this, we simply multiply each weight by four which seems to work in this case. Finally, we annotate each arrow with the feature name using the text() function from Pyplot. Again, we set the position of the text a bit farther away from the arrowheads by multiplying the component scores by 1.5.\n",
    "\n",
    "The resulting graph is called a **biplot**"
   ]
  },
  {
   "cell_type": "markdown",
   "id": "f2917c92",
   "metadata": {},
   "source": [
    "Biplots gives us an overview of our data with features represented as vectors. For instance, we can see that the second type of wine (in orange) has a lighter color than the two other ones since the color vector points in the direction opposite to its samples. We can also see that the first type of wine (in blue) has more phenols than the third one (in green) which is more alkaline and has more malic acid. Regarding alcohol, the second type of wine (in orange) has the least alcohol content.\n",
    "\n",
    "### Explained variance ratio\n",
    "\n",
    "We saw above that we lose some information by projecting the data points onto the principal axes. We won't go into the details, but we can quantify this amount of information by measuring the proportion of variance left after projecting the data onto each principal axis. Scikit-learn stores these quantities in the explained_variance_ratio_ attribute"
   ]
  },
  {
   "cell_type": "code",
   "execution_count": 67,
   "id": "14546b3a",
   "metadata": {},
   "outputs": [
    {
     "data": {
      "text/plain": [
       "array([0.36198278, 0.1920793 ])"
      ]
     },
     "execution_count": 67,
     "metadata": {},
     "output_type": "execute_result"
    }
   ],
   "source": [
    "# Get explained variance\n",
    "pca2.explained_variance_ratio_"
   ]
  },
  {
   "cell_type": "markdown",
   "id": "9c5f85cc",
   "metadata": {},
   "source": [
    "In our case, 36% of the total variance is contained in the first principal component and 19% in the second one. In that sense, the plot from above shows 55% of the total information. In our case, we set the number of components to two. But we can also apply PCA without specifying the number of components"
   ]
  },
  {
   "cell_type": "code",
   "execution_count": 68,
   "id": "f3df58b1",
   "metadata": {},
   "outputs": [
    {
     "data": {
      "text/plain": [
       "array([0.36198278, 0.1920793 , 0.11123553, 0.07069848, 0.06563048,\n",
       "       0.04935783, 0.04238743, 0.0268125 , 0.02222013, 0.01929513,\n",
       "       0.01736819, 0.01298058, 0.00795163])"
      ]
     },
     "execution_count": 68,
     "metadata": {},
     "output_type": "execute_result"
    }
   ],
   "source": [
    "# Create PCA transformer\n",
    "pca3 = PCA(n_components=None)\n",
    "\n",
    "# Apply PCA to rescaled data\n",
    "pca3.fit(X_rescaled)\n",
    "\n",
    "# Proportion of variance explained\n",
    "pve = pca3.explained_variance_ratio_\n",
    "pve"
   ]
  },
  {
   "cell_type": "markdown",
   "id": "1f00ae9e",
   "metadata": {},
   "source": [
    "In this case, Scikit-learn computes all the principal components. Since we didn't reduce the dimensionality of our data (think of it as a rotation of the data), we don't lose any information and the values in the pve array should sum to one."
   ]
  },
  {
   "cell_type": "markdown",
   "id": "075f309d",
   "metadata": {},
   "source": [
    "### Scree plots\n",
    "In practice, we usually compute all the components and their explained variance scores to produce a **scree plot which is simply a bar chart with the proportion of variance explained for each component**. This way, we can visualize how much information corresponds to each principal component and determine the number of dimensions to keep when applying PCA"
   ]
  },
  {
   "cell_type": "code",
   "execution_count": 69,
   "id": "29869bfd",
   "metadata": {},
   "outputs": [
    {
     "data": {
      "image/png": "[encoded data removed]",
      "text/plain": [
       "<Figure size 432x288 with 1 Axes>"
      ]
     },
     "metadata": {
      "needs_background": "light"
     },
     "output_type": "display_data"
    }
   ],
   "source": [
    "import numpy as np\n",
    "\n",
    "# Create bar plot\n",
    "xcor = np.arange(1, len(pve) + 1) # 1,2,..,n_components\n",
    "plt.bar(xcor, pve)\n",
    "plt.xticks(xcor)\n",
    "\n",
    "# Add cumulative sum\n",
    "pve_cumsum = np.cumsum(pve)\n",
    "plt.step(\n",
    "    xcor+0.5, # 1.5,2.5,..,n_components+0.5\n",
    "    pve_cumsum, # Cumulative sum\n",
    "    label='cumulative'\n",
    ")\n",
    "\n",
    "# Add labels\n",
    "plt.xlabel('principal component')\n",
    "plt.ylabel('proportion of variance explained')\n",
    "plt.legend()\n",
    "plt.show()"
   ]
  },
  {
   "cell_type": "markdown",
   "id": "3bd7001c",
   "metadata": {},
   "source": [
    "In this code, we create the bar chart with the values in the pve variable using the bar() function from Pyplot. We also compute the cumulative sum of its values using the cumsum() function from Numpy. The i-th element of the pve_cumsum array tells us the amount of information contained in the first \n",
    "iaxes"
   ]
  },
  {
   "cell_type": "code",
   "execution_count": 70,
   "id": "02176866",
   "metadata": {},
   "outputs": [],
   "source": [
    "pve_cumsum = [\n",
    "    pve[0], # prop. of var. explained in 1st axis\n",
    "    pve[0]+pve[1], # .. in 1st and 2nd axes\n",
    "    pve[0]+pve[1]+pve[2], # .. in 1st, 2nd and 3rd axes\n",
    "    pve[0]+pve[1]+pve[2]+pve[3], # .. and so on\n",
    "    # ...\n",
    "]"
   ]
  },
  {
   "cell_type": "markdown",
   "id": "eeccdd3f",
   "metadata": {},
   "source": [
    "We can then plot the cumulative sum values using the step() function from Pyplot. Note that we shift the \"step curve\" by adding 0.5 to the x coordinates xcor. That way, the curve starts at position 1.5\n",
    "\n",
    "We can now use this plot to determine the number of components. For instance, **to keep 80% of the information contained in our data, we would need to set the number of components to 5**. In this case, we would need to use the pairplot approach from above to plot these five dimensions.\n",
    "\n",
    "### Summary\n",
    "In this unit, we learned about PCA which is one way to perform dimensionality reduction. In practice, we often use this technique to visualize high-dimensional data sets in a 2d or 3d plot. **However, it can also help in supervised learning scenarios to reduce overfitting and increase the prediction accuracy and speed when the number of dimensions is too large.** In this case, we use PCA as a preprocessing step and usually set the number of components using a scree plot or by tuning it with grid search.\n",
    "\n",
    "In that sense, PCA can be used in a great variety of situations. However, note that there are other dimensionality reduction techniques such as **t-SNE which focus on the data visualization aspect**. For reference, you can read more about this in the Manifold learning guide from Scikit-learn : https://scikit-learn.org/stable/modules/manifold.html\n",
    "\n",
    "\n",
    "Q&A :\n",
    "The canonical PCA in sklearn works with numerical data. If you want to consider categorical features in the PCA analysis, you need to properly encode them ahead (one-hot encoding for nominal and integer encoding for ordinal).\n",
    "\n",
    "Unsupervised learning is more challenging in terms of quantitative performance evaluation and interpretability of the final results compared to supervised learning. In general, the interpretability of the model behavior for both ML paradigms represents a main challenge with many open questions in research.\n",
    "\n",
    "There are various metrics to **evaluate the clustering performance** (mean distortion, silhouette ratio, calinski-harabasz ratio, normalized mutual information, adjusted rand index,… ). To interpret the results, there are different attempts in the literature. \n",
    "> -The first one is to use more interpretable clustering algorithms than K-means (e.g. tree-based clustering, hierarchical agglomeration clustering,….) or other distance metrics. \n",
    "\n",
    "> - Another approach is what you have proposed; using clustering as a labeling technique and then pass the labels to an interpretable classifier (e.g. decision tree). \n",
    "\n",
    "> - A third approach, usually used in NLP topic modeling, is to perform two unsupervised learning tasks (cluster the samples according to features, and then cluster the features within each cluster). \n",
    "\n",
    "> - Another trend in literature is to combine clustering and feature selection (feature selection approaches for clustering) in order to have more interpretable clusters. \n",
    "\n",
    "> - A more advanced approach is to use generative models for clustering problems (i.e. try to learn the underlying distribution of the data). The latter is a model-based approach, compared to the former discriminative similarity-based approaches. There are indeed other techniques to tackle the interpretability problem.\n",
    "\n",
    "The application and utility of each of these approaches depend on the specific domain."
   ]
  },
  {
   "cell_type": "code",
   "execution_count": null,
   "id": "4fd3b9a1",
   "metadata": {},
   "outputs": [],
   "source": []
  }
 ],
 "metadata": {
  "kernelspec": {
   "display_name": "Python 3",
   "language": "python",
   "name": "python3"
  },
  "language_info": {
   "codemirror_mode": {
    "name": "ipython",
    "version": 3
   },
   "file_extension": ".py",
   "mimetype": "text/x-python",
   "name": "python",
   "nbconvert_exporter": "python",
   "pygments_lexer": "ipython3",
   "version": "3.6.13"
  }
 },
 "nbformat": 4,
 "nbformat_minor": 5
}
