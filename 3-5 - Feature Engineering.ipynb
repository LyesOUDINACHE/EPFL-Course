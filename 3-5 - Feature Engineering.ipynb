{
 "cells": [
  {
   "cell_type": "markdown",
   "id": "6897b766",
   "metadata": {},
   "source": [
    "### Feature Engineering\n",
    "We will now learn about **feature engineering** which is the process of building new features from existing ones. There are many different ways to extend the set of features, and we will start by discussing **polynomial features** which is at the basis of polynomial regressions. We will then present other feature engineering techniques and illustrate logarithmic transformations with the Boston housing data set."
   ]
  },
  {
   "cell_type": "markdown",
   "id": "681fcb12",
   "metadata": {},
   "source": [
    "### Polyfit revisited\n",
    "function models the relationship between a single input variable \n",
    "x\n",
    " and a target variable \n",
    "y\n",
    " by fitting the equation of a polynomial of degree \n",
    "p\n",
    ".\n",
    "\n",
    "^\n",
    "y\n",
    "=\n",
    "w\n",
    "0\n",
    "+\n",
    "w\n",
    "1\n",
    "x\n",
    "+\n",
    "w\n",
    "2\n",
    "x\n",
    "2\n",
    "+\n",
    "w\n",
    "3\n",
    "x\n",
    "3\n",
    "+\n",
    "…\n",
    "+\n",
    "w\n",
    "p\n",
    "x\n",
    "p\n",
    "This is also called a polynomial regression. Intuitively, the formula seems different than the linear regression one because it involves powers of \n",
    "x\n",
    ". However, there is a little trick. The \n",
    "x\n",
    " variable is known when fitting the model. Hence, we can create new features from it. In particular, we can generate a feature for each power in the equation from above.\n",
    " \n",
    " We can now use this new list of features \n",
    "z\n",
    " and rewrite the equation.\n",
    " \n",
    "z=[x,x2,x3,…,xp]\n",
    "\n",
    "^\n",
    "y\n",
    "=\n",
    "w\n",
    "0\n",
    "+\n",
    "w\n",
    "1\n",
    "z\n",
    "1\n",
    "+\n",
    "w\n",
    "2\n",
    "z\n",
    "2\n",
    "+\n",
    "w\n",
    "3\n",
    "z\n",
    "3\n",
    "+\n",
    "…\n",
    "+\n",
    "w\n",
    "p\n",
    "z\n",
    "p\n",
    "As we can see, each feature \n",
    "z\n",
    "i\n",
    " is associated with a coefficient \n",
    "w\n",
    "i\n",
    ", and the formula corresponds to a linear regression one. In other words, by fitting a linear regression to the polynomial features in \n",
    "z\n",
    ", we obtain the coefficients of the polynomial equation from above.\n",
    "\n",
    "### Augmenting the input\n",
    "Creating new features from existing ones is called feature engineering. The idea is to build an extended set of features **to improve the performance of our models.** There are many ways to create new features.\n",
    "\n",
    "- Combine numerical variables - windspeed * humidity\n",
    "- Combine binary variables - weekend and sunny\n",
    "- Create indicator variables - windspeed > mean(windspeed)\n",
    "- Applying transformations - log(x), sqrt(x), polynomial features\n",
    "- Other functions - max(x1, x2), distance(x1, x2)\n",
    "\n",
    "Building meaningful features is not an easy task and **requires domain knowledge.** However, it's often critical to the success of a machine learning project. Here is a quote from the famous paper \"A Few Useful Things to Know about Machine Learning\":\n",
    "\n",
    "\"*At the end of the day, some machine learning projects succeed and some fail. What makes the difference? Easily the most important factor is the features used. If you have many independent features that each correlate well with the class, learning is easy. On the other hand, if the class is a very complex function of the features, you may not be able to learn it. Often, the raw data is not in a form that is amenable to learning, but you can construct features from it that are. This is typically where most of the effort in a machine learning project goes. It is often also one of the most interesting parts, where intuition, creativity and “black art” are as important as the technical stuff.\" - Pedro Domingos*"
   ]
  },
  {
   "cell_type": "markdown",
   "id": "77582fe7",
   "metadata": {},
   "source": [
    "### Boston housing data set\n",
    "\n",
    "In practice, we often apply **logarithmic transformations** to one or more features in the data set. Let's take the Boston housing data set example.\n",
    "\n",
    "In this machine learning task, the goal is to build a model to predict the housing values in suburbs of Boston using several features. Here are some variables from the data set.\n",
    "\n",
    "- crim - per capita crime rate by town\n",
    "- indus - proportion of industries per town.\n",
    "- ptratio - pupil-teacher ratio by town\n",
    "- ..\n",
    "\n",
    "To solve the task, we can try fitting a **linear regression** to the data. We know that this model works better when there is a linear relationship between the features and the target variable. However, in this example, we can observe a clear inverse relationship between the crime rate and the housing values.\n",
    "\n",
    "https://d7whxh71cqykp.cloudfront.net/uploads/image/data/3722/crimes-regression.png\n",
    "\n",
    "Most of the data points have a small crime rate, and very few have a large one. However, we can use a logarithmic scale to redistribute the values. The two plots from above compare two simple linear regressions in red. One with the raw values, and the other with the transformed crime rates.\n",
    "\n",
    "In general, we usually apply the logarithmic function to features that have a skewed distribution. We can detect these variables using histograms.\n",
    "\n",
    "https://d7whxh71cqykp.cloudfront.net/uploads/image/data/4265/crimes-histograms.svg\n",
    "\n",
    "Pro Tip: The distribution plotting function distplot from seaborn allows the plotting of a fitted gaussian distribution curve on top of the original histogram plot."
   ]
  },
  {
   "cell_type": "markdown",
   "id": "93e7d475",
   "metadata": {},
   "source": [
    "import seaborn as sns\n",
    "\n",
    "from scipy.stats import norm\n",
    "\n",
    "sns.distplot(crim, bins=20, fit=norm)\n",
    "\n",
    "https://d7whxh71cqykp.cloudfront.net/uploads/image/data/4262/crimes-histograms-norm.svg\n",
    "\n",
    "Looking at the two plots, we can see that the value distribution of the feature \"crime rate\" is much closer to a normal distribution, after a logarithmic transformation is applied.\n",
    "\n",
    "For this reason, we might want to try fitting a linear regression to the following set of variables.\n",
    "\n",
    "z=[log(crim),indus,ptratio,…]\n",
    "\n",
    "\n",
    "### Summary\n",
    "In this unit, we saw the basic idea behind feature engineering. Here are a few takeaways.\n",
    "\n",
    "- Feature engineering is the process of building new features from existing ones.\n",
    "- The polyfit() function fits a linear regression to a set of polynomial features.\n",
    "- Applying the logarithmic transformation to variables with a skewed distribution can help."
   ]
  },
  {
   "cell_type": "markdown",
   "id": "90c2c583",
   "metadata": {},
   "source": [
    "# Adding polynomial features\n",
    "\n",
    "In the last unit, we learned about feature engineering and saw that a polynomial regression corresponds to a linear regression fitted to polynomial features.\n",
    "\n",
    "We will now see how to implement polynomial regressions with Scikit-learn. This time, we will use the electric car consumption data set.\n",
    "\n",
    "### Electric car consumption\n",
    "\n",
    "The electric car consumption data set contains 57 measurements of the energy consumption, by miles, of an electric car in different temperature settings. The data set is inspired by this study which analyzed the effect of temperatures on the efficiency, range and emissions of electric vehicles in different regions of the United States.\n",
    "\n"
   ]
  },
  {
   "cell_type": "code",
   "execution_count": 3,
   "id": "06ce9057",
   "metadata": {},
   "outputs": [
    {
     "name": "stdout",
     "output_type": "stream",
     "text": [
      "Shape: (57, 2)\n"
     ]
    },
    {
     "data": {
      "text/html": [
       "<div>\n",
       "<style scoped>\n",
       "    .dataframe tbody tr th:only-of-type {\n",
       "        vertical-align: middle;\n",
       "    }\n",
       "\n",
       "    .dataframe tbody tr th {\n",
       "        vertical-align: top;\n",
       "    }\n",
       "\n",
       "    .dataframe thead th {\n",
       "        text-align: right;\n",
       "    }\n",
       "</style>\n",
       "<table border=\"1\" class=\"dataframe\">\n",
       "  <thead>\n",
       "    <tr style=\"text-align: right;\">\n",
       "      <th></th>\n",
       "      <th>Temperature [°F]</th>\n",
       "      <th>Energy Consumption [Wh/mil]</th>\n",
       "    </tr>\n",
       "  </thead>\n",
       "  <tbody>\n",
       "    <tr>\n",
       "      <th>0</th>\n",
       "      <td>-15</td>\n",
       "      <td>460</td>\n",
       "    </tr>\n",
       "    <tr>\n",
       "      <th>1</th>\n",
       "      <td>-12</td>\n",
       "      <td>398</td>\n",
       "    </tr>\n",
       "    <tr>\n",
       "      <th>2</th>\n",
       "      <td>-8</td>\n",
       "      <td>460</td>\n",
       "    </tr>\n",
       "    <tr>\n",
       "      <th>3</th>\n",
       "      <td>-7</td>\n",
       "      <td>540</td>\n",
       "    </tr>\n",
       "    <tr>\n",
       "      <th>4</th>\n",
       "      <td>-6</td>\n",
       "      <td>347</td>\n",
       "    </tr>\n",
       "  </tbody>\n",
       "</table>\n",
       "</div>"
      ],
      "text/plain": [
       "   Temperature [°F]  Energy Consumption [Wh/mil]\n",
       "0               -15                          460\n",
       "1               -12                          398\n",
       "2                -8                          460\n",
       "3                -7                          540\n",
       "4                -6                          347"
      ]
     },
     "execution_count": 3,
     "metadata": {},
     "output_type": "execute_result"
    }
   ],
   "source": [
    "import pandas as pd\n",
    "\n",
    "# Load the data\n",
    "data_df = pd.read_csv('electric-cars.csv')\n",
    "\n",
    "# Print shape\n",
    "print('Shape:', data_df.shape) # (57, 2)\n",
    "\n",
    "# First five rows\n",
    "data_df.head()"
   ]
  },
  {
   "cell_type": "markdown",
   "id": "14237314",
   "metadata": {},
   "source": [
    "In this unit, we will build a model to predict energy consumption using temperatures."
   ]
  },
  {
   "cell_type": "code",
   "execution_count": 5,
   "id": "5c5f7731",
   "metadata": {},
   "outputs": [
    {
     "data": {
      "image/png": "[encoded data removed]",
      "text/plain": [
       "<Figure size 432x288 with 1 Axes>"
      ]
     },
     "metadata": {
      "needs_background": "light"
     },
     "output_type": "display_data"
    }
   ],
   "source": [
    "# Extract x, y data\n",
    "x = data_df.iloc[:, 0].values # Temperatures\n",
    "y = data_df.iloc[:, 1].values # Consumption\n",
    "\n",
    "# Plot data\n",
    "%matplotlib inline\n",
    "import matplotlib.pyplot as plt\n",
    "\n",
    "data_df.plot.scatter('Temperature [°F]', 'Energy Consumption [Wh/mil]')\n",
    "plt.show()"
   ]
  },
  {
   "cell_type": "markdown",
   "id": "b58c88cc",
   "metadata": {},
   "source": [
    "As you can see, electric cars consume more energy during cold weather. The optimal consumption is around 70°F (21°C) and then increases with warmer temperatures.\n",
    "\n",
    "We can use a polynomial to model the relationship between the two variables. Let's see how to do that with Scikit-learn."
   ]
  },
  {
   "cell_type": "markdown",
   "id": "be0b3a34",
   "metadata": {},
   "source": [
    "### Create the polynomial features\n",
    "Scikit-learn implements a PolynomialFeatures object to build the polynomial features. Note that it's considered as a preprocessing step because it's done before fitting the model."
   ]
  },
  {
   "cell_type": "code",
   "execution_count": 6,
   "id": "1ade5328",
   "metadata": {},
   "outputs": [],
   "source": [
    "from sklearn.preprocessing import PolynomialFeatures\n"
   ]
  },
  {
   "cell_type": "markdown",
   "id": "bdc85b2f",
   "metadata": {},
   "source": [
    "In the Scikit-learn jargon, this object is a **preprocessor** which means that it implements the fit() and transform() functions.\n",
    "\n",
    "Here is the code to create the polynomial features that correspond to a polynomial of degree 2."
   ]
  },
  {
   "cell_type": "code",
   "execution_count": 7,
   "id": "81089e29",
   "metadata": {},
   "outputs": [
    {
     "name": "stdout",
     "output_type": "stream",
     "text": [
      "Shape: (57, 3)\n"
     ]
    }
   ],
   "source": [
    "import numpy as np\n",
    "\n",
    "# Create the object\n",
    "pf_obj = PolynomialFeatures(degree=2)\n",
    "\n",
    "# Create the polynomial features\n",
    "X2 = pf_obj.fit_transform(\n",
    "    # Pass two dimensional array\n",
    "    x[:, np.newaxis] # (57,) -> (57,1)\n",
    ")\n",
    "\n",
    "print('Shape:', X2.shape) # (57, 3)"
   ]
  },
  {
   "cell_type": "markdown",
   "id": "c14960aa",
   "metadata": {},
   "source": [
    "We start by creating the PolynomialFeatures object and set its degree with the degree parameter. Then, we obtain the features by passing the input data to its fit_transform() function which is a shortcut for the fit() and transform() ones."
   ]
  },
  {
   "cell_type": "code",
   "execution_count": 8,
   "id": "b7f40ec8",
   "metadata": {},
   "outputs": [],
   "source": [
    "# Fit the preprocessor\n",
    "pf_obj.fit(x[:, np.newaxis])\n",
    "\n",
    "# Create the polynomial features\n",
    "X2 = pf_obj.transform((x[:, np.newaxis]))"
   ]
  },
  {
   "cell_type": "markdown",
   "id": "420add9e",
   "metadata": {},
   "source": [
    "In this code, fit() computes the number of output features and transform() creates them. Again, Scikit-learn works with 2-dimensional Numpy arrays, and we need to add a dimension to x using the x[:, np.newaxis] syntax.\n",
    "\n",
    "Scikit-learn labels each new feature in X2, and we can obtain these labels with the get_feature_names() function."
   ]
  },
  {
   "cell_type": "code",
   "execution_count": 9,
   "id": "7e785628",
   "metadata": {},
   "outputs": [
    {
     "name": "stdout",
     "output_type": "stream",
     "text": [
      "Features: ['1', 'x0', 'x0^2']\n"
     ]
    }
   ],
   "source": [
    "# Get feature names\n",
    "feature_names = pf_obj.get_feature_names()\n",
    "\n",
    "print('Features:', feature_names)\n",
    "# Prints: ['1', 'x0', 'x0^2']"
   ]
  },
  {
   "cell_type": "markdown",
   "id": "1c4b5f77",
   "metadata": {},
   "source": [
    "Here, x0 denotes temperatures. As we can see, Scikit-learn adds a 1 to the polynomial features which corresponds to the intercept term. However, we will use the LinearRegression object which already fits one. Hence, this new feature is not necessary and we can remove it by setting the include_bias parameter to False."
   ]
  },
  {
   "cell_type": "code",
   "execution_count": 10,
   "id": "35c86cd6",
   "metadata": {},
   "outputs": [
    {
     "name": "stdout",
     "output_type": "stream",
     "text": [
      "Features: ['x0', 'x0^2']\n"
     ]
    }
   ],
   "source": [
    "# Create the object\n",
    "pf_obj = PolynomialFeatures(degree=2, include_bias=False)\n",
    "\n",
    "# Create the polynomial features\n",
    "X2 = pf_obj.fit_transform(x[:, np.newaxis])\n",
    "\n",
    "# Get feature names\n",
    "feature_names = pf_obj.get_feature_names()\n",
    "\n",
    "print('Features:', feature_names)\n",
    "# Prints: ['x0', 'x0^2']"
   ]
  },
  {
   "cell_type": "markdown",
   "id": "ab3928e7",
   "metadata": {},
   "source": [
    "**It's also possible to create the new set of features manually with the Numpy c_ object.**"
   ]
  },
  {
   "cell_type": "code",
   "execution_count": 11,
   "id": "0781c573",
   "metadata": {},
   "outputs": [],
   "source": [
    "# Create the polynomial features manually\n",
    "X2 = np.c_[x, x**2]"
   ]
  },
  {
   "cell_type": "markdown",
   "id": "ee28675d",
   "metadata": {},
   "source": [
    "### Fit a linear regression"
   ]
  },
  {
   "cell_type": "code",
   "execution_count": 12,
   "id": "1c2acc7b",
   "metadata": {},
   "outputs": [],
   "source": [
    "from sklearn.linear_model import LinearRegression\n",
    "\n",
    "# Create linear regression\n",
    "linreg = LinearRegression()\n",
    "\n",
    "# Fit it\n",
    "linreg.fit(X2, y);"
   ]
  },
  {
   "cell_type": "code",
   "execution_count": 13,
   "id": "8183c185",
   "metadata": {},
   "outputs": [],
   "source": [
    "# Generate a hundred values between min(x) and max(x)\n",
    "x_values = np.linspace(min(x), max(x), num=100)\n",
    "X_values2 = pf_obj.transform(x_values[:, np.newaxis])"
   ]
  },
  {
   "cell_type": "markdown",
   "id": "e9ec17a7",
   "metadata": {},
   "source": [
    "Note that we need to create the polynomial features for these x_values with the transform() function. Again, you can also use the Numpy c_ object."
   ]
  },
  {
   "cell_type": "code",
   "execution_count": 14,
   "id": "82b5af79",
   "metadata": {},
   "outputs": [],
   "source": [
    "X_values2 = np.c_[x_values, x_values**2]"
   ]
  },
  {
   "cell_type": "code",
   "execution_count": 15,
   "id": "0b756157",
   "metadata": {},
   "outputs": [
    {
     "data": {
      "image/png": "[encoded data removed]",
      "text/plain": [
       "<Figure size 432x288 with 1 Axes>"
      ]
     },
     "metadata": {
      "needs_background": "light"
     },
     "output_type": "display_data"
    }
   ],
   "source": [
    "# Compute predictions\n",
    "y_values = linreg.predict(X_values2)\n",
    "\n",
    "# Plot predictions\n",
    "data_df.plot.scatter('Temperature [°F]', 'Energy Consumption [Wh/mil]')\n",
    "plt.plot(x_values, y_values, color='C3')\n",
    "plt.show()"
   ]
  },
  {
   "cell_type": "markdown",
   "id": "674b9ed6",
   "metadata": {},
   "source": [
    "The model captures the main trend but doesn't fit well the data. You can try to increase the degree of the set of polynomial features. We leave it to you as an exercise. Here is the result for degrees 3, 5 and 10.\n",
    "\n",
    "It seems that the curve gets more complex when we increase the degree which can lead to overfitting. Large degrees might result in models that fit the noise in the data rather than the signal. In our example, the degree five seems to generalize well from the data.\n",
    "\n",
    "### Summary\n",
    "\n",
    "In this unit, we learned how to build a set of polynomial features with Scikit-learn and Numpy, and saw that large degrees can lead to overfitting. In the next unit, we will see how to detect models that overfit using the train/test sets methodology."
   ]
  },
  {
   "cell_type": "markdown",
   "id": "b3fa9475",
   "metadata": {},
   "source": [
    "# Detect models that overfit\n",
    "\n",
    "In the last unit, we saw that it's easy to build models that overfit. A simple way to identify such models is to split the data into train/test sets. Let's see how this works.\n",
    "\n",
    "Let's fit two models to the following set of 18 x/y data points. One is a simple linear regression and the other is a polynomial regression of degree 9.\n",
    "\n",
    "https://d7whxh71cqykp.cloudfront.net/uploads/image/data/3727/overfitting-models1.svg\n",
    "\n",
    "We can see on the plots that the line fits better the data points than the polynomial. In practice, we usually work with data sets with many features, and it's not possible to detect overfitting by plotting the data.\n",
    "\n",
    "**Also, printing the loss value can be misleading. For instance, here are the MSE scores of these two models.**"
   ]
  },
  {
   "cell_type": "markdown",
   "id": "d47e5860",
   "metadata": {},
   "source": [
    "MSE polynomial regression: 1.14\n",
    "MSE linear regression: 2.39"
   ]
  },
  {
   "cell_type": "markdown",
   "id": "bbd7d480",
   "metadata": {},
   "source": [
    "According to these scores, the polynomial fits better the data points than the line. In fact, the **polynomial regression is overfitting** which means that it fits well the actual data points but will fail to generalize to new data points."
   ]
  },
  {
   "cell_type": "markdown",
   "id": "2b5d33ba",
   "metadata": {},
   "source": [
    "### Train and test sets\n",
    "\n",
    "One solution is to split the data into two sets.\n",
    "\n",
    "- We use one to fit our models. This one is called the train set.\n",
    "- We use the other to simulate unseen data points and evaluate our models. This is the test set.\n",
    "\n",
    "In practice, we usually **shuffle the data points before splitting** them because we want to avoid having train/test sets that don't represent well the data. For our example, we take 10 points for the train set the other 8 for the test set.\n",
    "\n",
    "Let's fit the two models again using the train set.\n",
    "\n",
    "https://d7whxh71cqykp.cloudfront.net/uploads/image/data/3729/overfitting-models2.svg\n",
    "\n",
    "It's interesting to note that the polynomial passes through each data point from the train set. Hence, its MSE score on this set is zero.\n",
    "\n",
    "Train set\n",
    "MSE polynomial regression: 0.00\n",
    "MSE linear regression: 2.93\n",
    "\n",
    "However, if we evaluate the MSE scores for the test set, we can see that the polynomial has a larger error than the line. This error is an estimation of the generalization error, i.e., the error made on new, unseen data points.\n",
    "\n",
    "Test set\n",
    "MSE polynomial regression: 6.01\n",
    "MSE linear regression: 2.10\n",
    "\n",
    "By looking at the differences between the train and the test scores, it's clear that the polynomial is overfitting.\n",
    "\n",
    "### Summary\n",
    "Let's summarize.\n",
    "\n",
    "- We can detect models that **overfit by looking at the differences** between the error made on the train and the test sets.\n",
    "- The error on the test set is an estimation of the generalization error.\n",
    "\n",
    "In the next unit, we will work with the electric car consumption data set. We will split the data into train/test sets with Numpy and Scikit-learn, and use them to compare two polynomials of different degrees.\n",
    "\n",
    "# Splitting data"
   ]
  },
  {
   "cell_type": "code",
   "execution_count": 18,
   "id": "c718ce02",
   "metadata": {},
   "outputs": [
    {
     "data": {
      "text/html": [
       "<div>\n",
       "<style scoped>\n",
       "    .dataframe tbody tr th:only-of-type {\n",
       "        vertical-align: middle;\n",
       "    }\n",
       "\n",
       "    .dataframe tbody tr th {\n",
       "        vertical-align: top;\n",
       "    }\n",
       "\n",
       "    .dataframe thead th {\n",
       "        text-align: right;\n",
       "    }\n",
       "</style>\n",
       "<table border=\"1\" class=\"dataframe\">\n",
       "  <thead>\n",
       "    <tr style=\"text-align: right;\">\n",
       "      <th></th>\n",
       "      <th>Temperature [°F]</th>\n",
       "      <th>Energy Consumption [Wh/mil]</th>\n",
       "    </tr>\n",
       "  </thead>\n",
       "  <tbody>\n",
       "    <tr>\n",
       "      <th>0</th>\n",
       "      <td>-15</td>\n",
       "      <td>460</td>\n",
       "    </tr>\n",
       "    <tr>\n",
       "      <th>1</th>\n",
       "      <td>-12</td>\n",
       "      <td>398</td>\n",
       "    </tr>\n",
       "    <tr>\n",
       "      <th>2</th>\n",
       "      <td>-8</td>\n",
       "      <td>460</td>\n",
       "    </tr>\n",
       "    <tr>\n",
       "      <th>3</th>\n",
       "      <td>-7</td>\n",
       "      <td>540</td>\n",
       "    </tr>\n",
       "    <tr>\n",
       "      <th>4</th>\n",
       "      <td>-6</td>\n",
       "      <td>347</td>\n",
       "    </tr>\n",
       "  </tbody>\n",
       "</table>\n",
       "</div>"
      ],
      "text/plain": [
       "   Temperature [°F]  Energy Consumption [Wh/mil]\n",
       "0               -15                          460\n",
       "1               -12                          398\n",
       "2                -8                          460\n",
       "3                -7                          540\n",
       "4                -6                          347"
      ]
     },
     "execution_count": 18,
     "metadata": {},
     "output_type": "execute_result"
    }
   ],
   "source": [
    "import pandas as pd\n",
    "\n",
    "# Load the data\n",
    "data_df = pd.read_csv('electric-cars.csv')\n",
    "\n",
    "# First five rows\n",
    "data_df.head()"
   ]
  },
  {
   "cell_type": "code",
   "execution_count": 19,
   "id": "836ad9b3",
   "metadata": {},
   "outputs": [
    {
     "name": "stdout",
     "output_type": "stream",
     "text": [
      "indexes: [ 0  1  2  3  4  5  6  7  8  9 10 11 12 13 14 15 16 17 18 19 20 21 22 23\n",
      " 24 25 26 27 28 29 30 31 32 33 34 35 36 37 38 39 40 41 42 43 44 45 46 47\n",
      " 48 49 50 51 52 53 54 55 56]\n"
     ]
    }
   ],
   "source": [
    "import numpy as np\n",
    "\n",
    "# Generate a list of indexes\n",
    "n = len(data_df)\n",
    "indexes = np.arange(n)\n",
    "\n",
    "print('indexes:', indexes) # [0 1 2 3 4 ..]"
   ]
  },
  {
   "cell_type": "code",
   "execution_count": 20,
   "id": "a6902b59",
   "metadata": {},
   "outputs": [
    {
     "name": "stdout",
     "output_type": "stream",
     "text": [
      "train indexes: [ 0  1  2  3  4  5  6  7  8  9 10 11 12 13 14 15 16 17 18 19 20 21 22 23\n",
      " 24 25 26 27 28 29 30 31 32 33 34 35 36 37 38]\n",
      "test indexes: [39 40 41 42 43 44 45 46 47 48 49 50 51 52 53 54 55 56]\n"
     ]
    }
   ],
   "source": [
    "# Split into train/test indexes\n",
    "split_idx = int(n*0.7)\n",
    "train_idx = indexes[:split_idx]\n",
    "test_idx = indexes[split_idx:]\n",
    "\n",
    "print('train indexes:', train_idx) # [0 1 2 ..]\n",
    "print('test indexes:', test_idx) # [39 40 41 ..]"
   ]
  },
  {
   "cell_type": "code",
   "execution_count": 21,
   "id": "102c057d",
   "metadata": {},
   "outputs": [
    {
     "name": "stdout",
     "output_type": "stream",
     "text": [
      "train: (39,) (39,)\n",
      "test: (18,) (18,)\n"
     ]
    }
   ],
   "source": [
    "# Extract x, y data\n",
    "x = data_df.iloc[:, 0].values # Temperatures\n",
    "y = data_df.iloc[:, 1].values # Consumption\n",
    "\n",
    "# Split data\n",
    "x_tr, y_tr = x[train_idx], y[train_idx]\n",
    "x_te, y_te = x[test_idx], y[test_idx]\n",
    "\n",
    "print('train:', x_tr.shape, y_tr.shape) # (39,) (39,)\n",
    "print('test:', x_te.shape, y_te.shape) # (18,) (18,)"
   ]
  },
  {
   "cell_type": "code",
   "execution_count": 22,
   "id": "c9c6f164",
   "metadata": {},
   "outputs": [
    {
     "data": {
      "image/png": "[encoded data removed]",
      "text/plain": [
       "<Figure size 432x288 with 1 Axes>"
      ]
     },
     "metadata": {
      "needs_background": "light"
     },
     "output_type": "display_data"
    }
   ],
   "source": [
    "%matplotlib inline\n",
    "import matplotlib.pyplot as plt\n",
    "\n",
    "# Plot data points\n",
    "plt.scatter(x_tr, y_tr, label='train set')\n",
    "plt.scatter(x_te, y_te, label='test set')\n",
    "plt.xlabel('temperature')\n",
    "plt.ylabel('number of users')\n",
    "plt.legend()\n",
    "plt.show()"
   ]
  },
  {
   "cell_type": "markdown",
   "id": "821ab6be",
   "metadata": {},
   "source": [
    "This is a bad split because neither of the sets represents well the entire data. The issue is that the data points are ordered by temperatures in the original .csv file. Hence, when we split the data, the 39 points with the lowest temperatures go into the train set and the remaining 18 into the test set."
   ]
  },
  {
   "cell_type": "markdown",
   "id": "2e13d4bb",
   "metadata": {},
   "source": [
    "### Shuffling the indexes\n",
    "\n",
    "One solution is to **shuffle the data before splitting it.** In this unit, we will shuffle the list of indexes rather than the data points directly. This has the advantage of leaving the original data unmodified.\n",
    "\n",
    "To achieve this, we can use the shuffle() function from the Numpy random module."
   ]
  },
  {
   "cell_type": "code",
   "execution_count": 23,
   "id": "85b9cd24",
   "metadata": {},
   "outputs": [
    {
     "name": "stdout",
     "output_type": "stream",
     "text": [
      "indexes: [33 25 46 24 54 55 37 38 28 10 17 41 19 14  7 53  9 39 44  8 49 26 22 51\n",
      " 42  0 43 32 27 52 40 56 11  5 50 36 47  3 23 35 21 30 48 29 16 18  6 34\n",
      " 31  1 45  2 13 20 12 15  4]\n"
     ]
    }
   ],
   "source": [
    "# shuffle the indexes\n",
    "np.random.shuffle(indexes)\n",
    "\n",
    "print('indexes:', indexes) # result depends on the seed"
   ]
  },
  {
   "cell_type": "code",
   "execution_count": 25,
   "id": "f56ddb4c",
   "metadata": {},
   "outputs": [
    {
     "name": "stdout",
     "output_type": "stream",
     "text": [
      "indexes: [35 34 41 27 11  2 33 56 22 55  4 10 29 50 32 40 37  7 14 31 28 46 51 18\n",
      " 54 26 15  5 30 16 48 20 49  8 13 25 17 42 45 38  1 12 43 24  6 23 36 21\n",
      " 19  9 39 52  3  0 53 47 44]\n"
     ]
    }
   ],
   "source": [
    "# Create the indexes\n",
    "indexes = np.arange(n)\n",
    "\n",
    "# Shuffle the indexes\n",
    "np.random.seed(0)   # pour ne plus que ce soit aléatoire à chaque run\n",
    "np.random.shuffle(indexes)\n",
    "\n",
    "print('indexes:', indexes)"
   ]
  },
  {
   "cell_type": "code",
   "execution_count": 26,
   "id": "cce9400a",
   "metadata": {},
   "outputs": [
    {
     "data": {
      "image/png": "[encoded data removed]",
      "text/plain": [
       "<Figure size 432x288 with 1 Axes>"
      ]
     },
     "metadata": {
      "needs_background": "light"
     },
     "output_type": "display_data"
    }
   ],
   "source": [
    "# Split into train/test indexes\n",
    "split_idx = int(n*0.7)\n",
    "train_idx = indexes[:split_idx]\n",
    "test_idx = indexes[split_idx:]\n",
    "\n",
    "# Split data\n",
    "x_tr, y_tr = x[train_idx], y[train_idx]\n",
    "x_te, y_te = x[test_idx], y[test_idx]\n",
    "\n",
    "# Plot data points\n",
    "plt.scatter(x_tr, y_tr, label='train set')\n",
    "plt.scatter(x_te, y_te, label='test set')\n",
    "plt.xlabel('temperature')\n",
    "plt.ylabel('number of users')\n",
    "plt.legend()\n",
    "plt.show()"
   ]
  },
  {
   "cell_type": "markdown",
   "id": "1e9064e6",
   "metadata": {},
   "source": [
    "### With Scikit-learn\n",
    "\n",
    "Splitting the data is a common operation in machine learning. For this reason, Scikit-learn implements a train_test_split() function in its model_selection module."
   ]
  },
  {
   "cell_type": "code",
   "execution_count": 27,
   "id": "bd3653ae",
   "metadata": {},
   "outputs": [],
   "source": [
    "from sklearn.model_selection import train_test_split\n",
    "\n",
    "# Split data\n",
    "x_tr, x_te, y_tr, y_te = train_test_split(\n",
    "    x, y, train_size=0.7, test_size=0.3, random_state=0)"
   ]
  },
  {
   "cell_type": "code",
   "execution_count": 28,
   "id": "f23f096e",
   "metadata": {},
   "outputs": [],
   "source": [
    "from sklearn.model_selection import train_test_split\n",
    "\n",
    "# Split data\n",
    "x_tr, x_te, y_tr, y_te = train_test_split(\n",
    "    x, y, train_size=39, test_size=18, random_state=0)"
   ]
  },
  {
   "cell_type": "markdown",
   "id": "808f2d72",
   "metadata": {},
   "source": [
    "**Note that the function also works with two-dimensional arrays and DataFrames. For instance, you will use it in the next exercise to split a data set with multiple features.**\n",
    "\n",
    "### Model selection\n",
    "\n",
    "In a previous unit, we fitted a polynomial of degree 5 and another of degree 10 to this data set. Let's see which one has a better generalization error according to our test set."
   ]
  },
  {
   "cell_type": "code",
   "execution_count": 29,
   "id": "21837dda",
   "metadata": {},
   "outputs": [
    {
     "name": "stdout",
     "output_type": "stream",
     "text": [
      "Degree 5 MSE: 719 (train) vs 651 (test)\n",
      "Degree 10 MSE: 707 (train) vs 1218 (test)\n"
     ]
    }
   ],
   "source": [
    "from sklearn.metrics import mean_squared_error as mse\n",
    "\n",
    "# Polynomial regressions of degree 5 and 10\n",
    "coef5 = np.polyfit(x_tr, y_tr, deg=5)\n",
    "coef10 = np.polyfit(x_tr, y_tr, deg=10)\n",
    "\n",
    "# Evaluate performance\n",
    "y_pred5_tr = np.polyval(coef5, x_tr)\n",
    "y_pred5_te = np.polyval(coef5, x_te)\n",
    "\n",
    "print('Degree 5 MSE: {:.0f} (train) vs {:.0f} (test)'.format(\n",
    "    mse(y_tr, y_pred5_tr),\n",
    "    mse(y_te, y_pred5_te)\n",
    "))\n",
    "# Degree 5 MSE: 719 (train) vs 651 (test)\n",
    "\n",
    "y_pred10_tr = np.polyval(coef10, x_tr)\n",
    "y_pred10_te = np.polyval(coef10, x_te)\n",
    "\n",
    "print('Degree 10 MSE: {:.0f} (train) vs {:.0f} (test)'.format(\n",
    "    mse(y_tr, y_pred10_tr),\n",
    "    mse(y_te, y_pred10_te)\n",
    "))"
   ]
  },
  {
   "cell_type": "markdown",
   "id": "c11c0845",
   "metadata": {},
   "source": [
    "We can see that the polynomial of degree 10 has a better training error than the polynomial of degree 5. However, its test score nearly doubles which means that it's likely **overfitting.** On the other hand, the polynomial of degree 5 seems to generalize well from the data with a test score close to its train score.\n",
    "\n",
    "### Summary\n",
    "\n",
    "In this unit, we saw two different ways to split the data into train/test sets.\n",
    "\n",
    "- Manually, by separating the data points using a list of indexes.\n",
    "- With the train_test_split() function from Scikit-learn.\n",
    "\n",
    "In the next exercise, you will work on an extended version of the bike sharing data set with additional polynomial features, and you will use this train/test sets methodology to evaluate your models. This extended data set also contains categorical features. In the next unit, we will see how to preprocess them for linear regressions with **one-hot encoding.**"
   ]
  },
  {
   "cell_type": "markdown",
   "id": "b3b720e1",
   "metadata": {},
   "source": [
    "# One-hot encoding\n",
    "\n",
    "So far, we worked with variables that are quantitative, e.g., temperatures, wind speed, humidity. But **many data sets also have categorical features**, e.g., the day of the week, season, type of weather. In this unit, we will see how to **preprocess these categorical variables using one-hot encoding.**"
   ]
  },
  {
   "cell_type": "code",
   "execution_count": 30,
   "id": "f2067bb3",
   "metadata": {},
   "outputs": [
    {
     "data": {
      "text/html": [
       "<div>\n",
       "<style scoped>\n",
       "    .dataframe tbody tr th:only-of-type {\n",
       "        vertical-align: middle;\n",
       "    }\n",
       "\n",
       "    .dataframe tbody tr th {\n",
       "        vertical-align: top;\n",
       "    }\n",
       "\n",
       "    .dataframe thead th {\n",
       "        text-align: right;\n",
       "    }\n",
       "</style>\n",
       "<table border=\"1\" class=\"dataframe\">\n",
       "  <thead>\n",
       "    <tr style=\"text-align: right;\">\n",
       "      <th></th>\n",
       "      <th>temp</th>\n",
       "      <th>weekday</th>\n",
       "      <th>casual</th>\n",
       "    </tr>\n",
       "  </thead>\n",
       "  <tbody>\n",
       "    <tr>\n",
       "      <th>0</th>\n",
       "      <td>0.344</td>\n",
       "      <td>6</td>\n",
       "      <td>331</td>\n",
       "    </tr>\n",
       "    <tr>\n",
       "      <th>1</th>\n",
       "      <td>0.363</td>\n",
       "      <td>0</td>\n",
       "      <td>131</td>\n",
       "    </tr>\n",
       "    <tr>\n",
       "      <th>2</th>\n",
       "      <td>0.196</td>\n",
       "      <td>1</td>\n",
       "      <td>120</td>\n",
       "    </tr>\n",
       "    <tr>\n",
       "      <th>3</th>\n",
       "      <td>0.200</td>\n",
       "      <td>2</td>\n",
       "      <td>108</td>\n",
       "    </tr>\n",
       "    <tr>\n",
       "      <th>4</th>\n",
       "      <td>0.227</td>\n",
       "      <td>3</td>\n",
       "      <td>82</td>\n",
       "    </tr>\n",
       "  </tbody>\n",
       "</table>\n",
       "</div>"
      ],
      "text/plain": [
       "    temp  weekday  casual\n",
       "0  0.344        6     331\n",
       "1  0.363        0     131\n",
       "2  0.196        1     120\n",
       "3  0.200        2     108\n",
       "4  0.227        3      82"
      ]
     },
     "execution_count": 30,
     "metadata": {},
     "output_type": "execute_result"
    }
   ],
   "source": [
    "import pandas as pd\n",
    "\n",
    "# Load the data\n",
    "data_df = pd.read_csv('bike-small.csv')\n",
    "\n",
    "# First five rows\n",
    "data_df.head()"
   ]
  },
  {
   "cell_type": "code",
   "execution_count": 31,
   "id": "afbbf808",
   "metadata": {},
   "outputs": [
    {
     "data": {
      "text/plain": [
       "6    105\n",
       "1    105\n",
       "0    105\n",
       "5    104\n",
       "4    104\n",
       "3    104\n",
       "2    104\n",
       "Name: weekday, dtype: int64"
      ]
     },
     "execution_count": 31,
     "metadata": {},
     "output_type": "execute_result"
    }
   ],
   "source": [
    "data_df.weekday.value_counts()"
   ]
  },
  {
   "cell_type": "markdown",
   "id": "3014f95d",
   "metadata": {},
   "source": [
    "Let's do a quick experiment. Let's fit a linear regression with and without this variable and compare the two \n",
    "R\n",
    "2\n",
    " coefficients."
   ]
  },
  {
   "cell_type": "code",
   "execution_count": 32,
   "id": "dcd690b6",
   "metadata": {},
   "outputs": [
    {
     "data": {
      "text/plain": [
       "0.29525001840042775"
      ]
     },
     "execution_count": 32,
     "metadata": {},
     "output_type": "execute_result"
    }
   ],
   "source": [
    "# Create X/y data\n",
    "X = data_df[['temp']].values\n",
    "y = data_df.casual.values\n",
    "\n",
    "# Fit a linear regression\n",
    "from sklearn.linear_model import LinearRegression\n",
    "\n",
    "lr = LinearRegression()\n",
    "lr.fit(X, y)\n",
    "lr.score(X, y) # 0.295.."
   ]
  },
  {
   "cell_type": "code",
   "execution_count": 33,
   "id": "c5c5e962",
   "metadata": {},
   "outputs": [
    {
     "data": {
      "text/plain": [
       "0.2988588081409287"
      ]
     },
     "execution_count": 33,
     "metadata": {},
     "output_type": "execute_result"
    }
   ],
   "source": [
    "# Create X/y data\n",
    "X = data_df[['temp', 'weekday']].values\n",
    "y = data_df.casual.values\n",
    "\n",
    "# Fit a linear regression\n",
    "lr = LinearRegression()\n",
    "lr.fit(X, y)\n",
    "lr.score(X, y) # 0.298.."
   ]
  },
  {
   "cell_type": "markdown",
   "id": "9fb6c20a",
   "metadata": {},
   "source": [
    "**We can see that the two \n",
    "R\n",
    "2\n",
    " coefficients are very close and that the weekday variable isn't really useful** in its current format. However, there is a more appropriate way to encode this variable: one-hot encoding."
   ]
  },
  {
   "cell_type": "markdown",
   "id": "b340ec7f",
   "metadata": {},
   "source": [
    "### One-hot encoding\n",
    "\n",
    "The idea is to create a new variable for each possible value. In our example, we create a variable for each day of the week which indicates whether the measurement was made that day. **It's called one-hot encoding because only one variable from the seven can be positive at a time.** These indicators are also called dummy variables.\n",
    "\n",
    "Pandas implements a get_dummies() function to create the dummies."
   ]
  },
  {
   "cell_type": "code",
   "execution_count": null,
   "id": "4a132ec1",
   "metadata": {},
   "outputs": [],
   "source": []
  },
  {
   "cell_type": "code",
   "execution_count": 34,
   "id": "a1a02370",
   "metadata": {},
   "outputs": [
    {
     "data": {
      "text/html": [
       "<div>\n",
       "<style scoped>\n",
       "    .dataframe tbody tr th:only-of-type {\n",
       "        vertical-align: middle;\n",
       "    }\n",
       "\n",
       "    .dataframe tbody tr th {\n",
       "        vertical-align: top;\n",
       "    }\n",
       "\n",
       "    .dataframe thead th {\n",
       "        text-align: right;\n",
       "    }\n",
       "</style>\n",
       "<table border=\"1\" class=\"dataframe\">\n",
       "  <thead>\n",
       "    <tr style=\"text-align: right;\">\n",
       "      <th></th>\n",
       "      <th>temp</th>\n",
       "      <th>casual</th>\n",
       "      <th>weekday_0</th>\n",
       "      <th>weekday_1</th>\n",
       "      <th>weekday_2</th>\n",
       "      <th>weekday_3</th>\n",
       "      <th>weekday_4</th>\n",
       "      <th>weekday_5</th>\n",
       "      <th>weekday_6</th>\n",
       "    </tr>\n",
       "  </thead>\n",
       "  <tbody>\n",
       "    <tr>\n",
       "      <th>0</th>\n",
       "      <td>0.344</td>\n",
       "      <td>331</td>\n",
       "      <td>0</td>\n",
       "      <td>0</td>\n",
       "      <td>0</td>\n",
       "      <td>0</td>\n",
       "      <td>0</td>\n",
       "      <td>0</td>\n",
       "      <td>1</td>\n",
       "    </tr>\n",
       "    <tr>\n",
       "      <th>1</th>\n",
       "      <td>0.363</td>\n",
       "      <td>131</td>\n",
       "      <td>1</td>\n",
       "      <td>0</td>\n",
       "      <td>0</td>\n",
       "      <td>0</td>\n",
       "      <td>0</td>\n",
       "      <td>0</td>\n",
       "      <td>0</td>\n",
       "    </tr>\n",
       "    <tr>\n",
       "      <th>2</th>\n",
       "      <td>0.196</td>\n",
       "      <td>120</td>\n",
       "      <td>0</td>\n",
       "      <td>1</td>\n",
       "      <td>0</td>\n",
       "      <td>0</td>\n",
       "      <td>0</td>\n",
       "      <td>0</td>\n",
       "      <td>0</td>\n",
       "    </tr>\n",
       "    <tr>\n",
       "      <th>3</th>\n",
       "      <td>0.200</td>\n",
       "      <td>108</td>\n",
       "      <td>0</td>\n",
       "      <td>0</td>\n",
       "      <td>1</td>\n",
       "      <td>0</td>\n",
       "      <td>0</td>\n",
       "      <td>0</td>\n",
       "      <td>0</td>\n",
       "    </tr>\n",
       "    <tr>\n",
       "      <th>4</th>\n",
       "      <td>0.227</td>\n",
       "      <td>82</td>\n",
       "      <td>0</td>\n",
       "      <td>0</td>\n",
       "      <td>0</td>\n",
       "      <td>1</td>\n",
       "      <td>0</td>\n",
       "      <td>0</td>\n",
       "      <td>0</td>\n",
       "    </tr>\n",
       "  </tbody>\n",
       "</table>\n",
       "</div>"
      ],
      "text/plain": [
       "    temp  casual  weekday_0  weekday_1  weekday_2  weekday_3  weekday_4  \\\n",
       "0  0.344     331          0          0          0          0          0   \n",
       "1  0.363     131          1          0          0          0          0   \n",
       "2  0.196     120          0          1          0          0          0   \n",
       "3  0.200     108          0          0          1          0          0   \n",
       "4  0.227      82          0          0          0          1          0   \n",
       "\n",
       "   weekday_5  weekday_6  \n",
       "0          0          1  \n",
       "1          0          0  \n",
       "2          0          0  \n",
       "3          0          0  \n",
       "4          0          0  "
      ]
     },
     "execution_count": 34,
     "metadata": {},
     "output_type": "execute_result"
    }
   ],
   "source": [
    "pd.get_dummies(data_df, columns=['weekday']).head()\n"
   ]
  },
  {
   "cell_type": "markdown",
   "id": "5dc7657a",
   "metadata": {},
   "source": [
    "We can now fit a linear regression using this new encoding."
   ]
  },
  {
   "cell_type": "code",
   "execution_count": 35,
   "id": "3d4f6dc6",
   "metadata": {},
   "outputs": [
    {
     "data": {
      "text/plain": [
       "0.5969174988134782"
      ]
     },
     "execution_count": 35,
     "metadata": {},
     "output_type": "execute_result"
    }
   ],
   "source": [
    "# One-hot encoding\n",
    "encoded_df = pd.get_dummies(data_df, columns=['weekday'])\n",
    "\n",
    "# Create X/y data\n",
    "X = encoded_df.drop(['casual'], axis=1).values\n",
    "y = encoded_df.casual.values\n",
    "\n",
    "# Fit a linear regression\n",
    "lr = LinearRegression()\n",
    "lr.fit(X, y)\n",
    "lr.score(X, y)"
   ]
  },
  {
   "cell_type": "markdown",
   "id": "211128a1",
   "metadata": {},
   "source": [
    "As we can see, the \n",
    "R\n",
    "2\n",
    " coefficient is now close to 0.6 which is much better than the two previous models.\n",
    "Note that each category now has a redundant column. We can drop it with the drop_first attribute."
   ]
  },
  {
   "cell_type": "code",
   "execution_count": 36,
   "id": "a4575486",
   "metadata": {},
   "outputs": [
    {
     "data": {
      "text/html": [
       "<div>\n",
       "<style scoped>\n",
       "    .dataframe tbody tr th:only-of-type {\n",
       "        vertical-align: middle;\n",
       "    }\n",
       "\n",
       "    .dataframe tbody tr th {\n",
       "        vertical-align: top;\n",
       "    }\n",
       "\n",
       "    .dataframe thead th {\n",
       "        text-align: right;\n",
       "    }\n",
       "</style>\n",
       "<table border=\"1\" class=\"dataframe\">\n",
       "  <thead>\n",
       "    <tr style=\"text-align: right;\">\n",
       "      <th></th>\n",
       "      <th>temp</th>\n",
       "      <th>casual</th>\n",
       "      <th>weekday_1</th>\n",
       "      <th>weekday_2</th>\n",
       "      <th>weekday_3</th>\n",
       "      <th>weekday_4</th>\n",
       "      <th>weekday_5</th>\n",
       "      <th>weekday_6</th>\n",
       "    </tr>\n",
       "  </thead>\n",
       "  <tbody>\n",
       "    <tr>\n",
       "      <th>0</th>\n",
       "      <td>0.344</td>\n",
       "      <td>331</td>\n",
       "      <td>0</td>\n",
       "      <td>0</td>\n",
       "      <td>0</td>\n",
       "      <td>0</td>\n",
       "      <td>0</td>\n",
       "      <td>1</td>\n",
       "    </tr>\n",
       "    <tr>\n",
       "      <th>1</th>\n",
       "      <td>0.363</td>\n",
       "      <td>131</td>\n",
       "      <td>0</td>\n",
       "      <td>0</td>\n",
       "      <td>0</td>\n",
       "      <td>0</td>\n",
       "      <td>0</td>\n",
       "      <td>0</td>\n",
       "    </tr>\n",
       "    <tr>\n",
       "      <th>2</th>\n",
       "      <td>0.196</td>\n",
       "      <td>120</td>\n",
       "      <td>1</td>\n",
       "      <td>0</td>\n",
       "      <td>0</td>\n",
       "      <td>0</td>\n",
       "      <td>0</td>\n",
       "      <td>0</td>\n",
       "    </tr>\n",
       "    <tr>\n",
       "      <th>3</th>\n",
       "      <td>0.200</td>\n",
       "      <td>108</td>\n",
       "      <td>0</td>\n",
       "      <td>1</td>\n",
       "      <td>0</td>\n",
       "      <td>0</td>\n",
       "      <td>0</td>\n",
       "      <td>0</td>\n",
       "    </tr>\n",
       "    <tr>\n",
       "      <th>4</th>\n",
       "      <td>0.227</td>\n",
       "      <td>82</td>\n",
       "      <td>0</td>\n",
       "      <td>0</td>\n",
       "      <td>1</td>\n",
       "      <td>0</td>\n",
       "      <td>0</td>\n",
       "      <td>0</td>\n",
       "    </tr>\n",
       "  </tbody>\n",
       "</table>\n",
       "</div>"
      ],
      "text/plain": [
       "    temp  casual  weekday_1  weekday_2  weekday_3  weekday_4  weekday_5  \\\n",
       "0  0.344     331          0          0          0          0          0   \n",
       "1  0.363     131          0          0          0          0          0   \n",
       "2  0.196     120          1          0          0          0          0   \n",
       "3  0.200     108          0          1          0          0          0   \n",
       "4  0.227      82          0          0          1          0          0   \n",
       "\n",
       "   weekday_6  \n",
       "0          1  \n",
       "1          0  \n",
       "2          0  \n",
       "3          0  \n",
       "4          0  "
      ]
     },
     "execution_count": 36,
     "metadata": {},
     "output_type": "execute_result"
    }
   ],
   "source": [
    "# One-hot encoding\n",
    "encoded_df = pd.get_dummies(data_df, columns=['weekday'], drop_first=True)\n",
    "encoded_df.head()"
   ]
  },
  {
   "cell_type": "code",
   "execution_count": 37,
   "id": "e6f2f82c",
   "metadata": {},
   "outputs": [
    {
     "data": {
      "text/plain": [
       "0.5969174988134782"
      ]
     },
     "execution_count": 37,
     "metadata": {},
     "output_type": "execute_result"
    }
   ],
   "source": [
    "# Create X/y data\n",
    "X = encoded_df.drop(['casual'], axis=1).values\n",
    "y = encoded_df.casual.values\n",
    "\n",
    "# Fit a linear regression\n",
    "lr = LinearRegression()\n",
    "lr.fit(X, y)\n",
    "lr.score(X, y) #we didn't loose in performance."
   ]
  },
  {
   "cell_type": "markdown",
   "id": "557ee93e",
   "metadata": {},
   "source": [
    "### Summary\n",
    "\n",
    "In this unit, we learned about one-hot encoding and saw how to encode categorical variables with the Pandas library. Note that **one-hot encoding is considered as a preprocessing step** and not as being part of the feature engineering process.\n",
    "\n",
    "In the next exercise, you will experiment with one-hot encoding and feature engineering using an extended version of the bike sharing data set with categorical features."
   ]
  },
  {
   "cell_type": "code",
   "execution_count": 38,
   "id": "8341c1cf",
   "metadata": {},
   "outputs": [
    {
     "data": {
      "text/plain": [
       "Text(0, 0.5, 'Casual')"
      ]
     },
     "execution_count": 38,
     "metadata": {},
     "output_type": "execute_result"
    },
    {
     "data": {
      "image/png": "[encoded data removed]",
      "text/plain": [
       "<Figure size 432x288 with 1 Axes>"
      ]
     },
     "metadata": {
      "needs_background": "light"
     },
     "output_type": "display_data"
    }
   ],
   "source": [
    "# Plot 'weekday' against the target casual\n",
    "import matplotlib.pyplot as plt\n",
    "\n",
    "plt.scatter(data_df['weekday'],data_df['casual'],alpha=0.3);\n",
    "plt.xlabel('Weekday')\n",
    "plt.ylabel('Casual')"
   ]
  },
  {
   "cell_type": "code",
   "execution_count": 40,
   "id": "17f952f0",
   "metadata": {},
   "outputs": [
    {
     "name": "stdout",
     "output_type": "stream",
     "text": [
      "Model 1: R2=0.004\n",
      "Model 2: R2=0.274\n"
     ]
    },
    {
     "data": {
      "image/png": "[encoded data removed]",
      "text/plain": [
       "<Figure size 432x288 with 1 Axes>"
      ]
     },
     "metadata": {
      "needs_background": "light"
     },
     "output_type": "display_data"
    }
   ],
   "source": [
    "# Load dependencies\n",
    "import pandas as pd\n",
    "import matplotlib.pyplot as plt\n",
    "import numpy as np\n",
    "from sklearn.linear_model import LinearRegression\n",
    "\n",
    "# Load the data\n",
    "data_df = pd.read_csv('bike-small.csv')\n",
    "\n",
    "# Model 1: `weekday` is ordinal\n",
    "\n",
    "# Create X/y data\n",
    "X = data_df[['weekday']].values\n",
    "y = data_df.casual.values\n",
    "\n",
    "# Fit model\n",
    "lr1 = LinearRegression()\n",
    "lr1.fit(X, y)\n",
    "\n",
    "# Model 2: `weekday` is one-hot encoded\n",
    "\n",
    "# Apply one-hot encoding\n",
    "encoded_df = pd.get_dummies(data_df, columns=['weekday'], drop_first=True)\n",
    "\n",
    "# Create X data\n",
    "X_new = encoded_df.drop(['temp','casual'],axis=1)  # Remove feature 'temp' and the target\n",
    "\n",
    "# Fit model\n",
    "lr2 = LinearRegression()\n",
    "lr2.fit(X_new, y)\n",
    "\n",
    "# Print R2\n",
    "print('Model 1: R2={}'.format(np.round(lr1.score(X,y),3)))   # Prints: Model 1: R2=0.004\n",
    "print('Model 2: R2={}'.format(np.round(lr2.score(X_new,y),3)))  # Prints: Model 2: R2=0.274\n",
    "\n",
    "# Plot ordinal `weekday` against target\n",
    "plt.scatter(data_df['weekday'],data_df['casual'], color=\"none\", edgecolor='grey', alpha=0.3, label=None);\n",
    "\n",
    "# Model 1: Plot predictions\n",
    "plt.scatter(data_df['weekday'],lr1.predict(X), color=\"red\", s=55, label='Model 1 predictions')\n",
    "\n",
    "# Model 2: Plot predictions\n",
    "plt.scatter(data_df['weekday'],lr2.predict(X_new), color=\"blue\", s=55, label='Model 2 predictions')\n",
    "\n",
    "plt.xlabel('Weekday')\n",
    "plt.ylabel('Casual')\n",
    "\n",
    "plt.legend(bbox_to_anchor=(1,1));"
   ]
  },
  {
   "cell_type": "code",
   "execution_count": null,
   "id": "0b87173f",
   "metadata": {},
   "outputs": [],
   "source": []
  }
 ],
 "metadata": {
  "kernelspec": {
   "display_name": "Python 3",
   "language": "python",
   "name": "python3"
  },
  "language_info": {
   "codemirror_mode": {
    "name": "ipython",
    "version": 3
   },
   "file_extension": ".py",
   "mimetype": "text/x-python",
   "name": "python",
   "nbconvert_exporter": "python",
   "pygments_lexer": "ipython3",
   "version": "3.6.13"
  }
 },
 "nbformat": 4,
 "nbformat_minor": 5
}
