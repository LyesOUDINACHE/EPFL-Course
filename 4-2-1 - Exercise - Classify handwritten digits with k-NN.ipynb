{
 "cells": [
  {
   "cell_type": "markdown",
   "metadata": {},
   "source": [
    "Classify handwritten digits with k-NN\n",
    "---"
   ]
  },
  {
   "cell_type": "markdown",
   "metadata": {},
   "source": [
    "Exercise - Load data set\n",
    "--\n",
    "\n",
    "> **Exercise**: Load the data from the `mnist-6k.npz` file into X/y arrays. The data type of the input matrix `X` should be `float64`. Split it into train (5,000 images) and test (1,000) sets using the `train_test_split()` function. Set the `random_state` to zero. "
   ]
  },
  {
   "cell_type": "code",
   "execution_count": 1,
   "metadata": {},
   "outputs": [
    {
     "name": "stdout",
     "output_type": "stream",
     "text": [
      "['data', 'labels']\n"
     ]
    }
   ],
   "source": [
    "import numpy as np\n",
    "\n",
    "with np.load('mnist-6k.npz', allow_pickle=False) as npz_file:\n",
    "    # It's a dictionary-like object\n",
    "    print(list(npz_file.keys()))"
   ]
  },
  {
   "cell_type": "code",
   "execution_count": 15,
   "metadata": {},
   "outputs": [
    {
     "name": "stdout",
     "output_type": "stream",
     "text": [
      "X: [[0 0 0 ... 0 0 0]\n",
      " [0 0 0 ... 0 0 0]\n",
      " [0 0 0 ... 0 0 0]\n",
      " ...\n",
      " [0 0 0 ... 0 0 0]\n",
      " [0 0 0 ... 0 0 0]\n",
      " [0 0 0 ... 0 0 0]]\n",
      "y: [5 0 4 ... 8 6 9]\n"
     ]
    },
    {
     "data": {
      "text/plain": [
       "(784,)"
      ]
     },
     "execution_count": 15,
     "metadata": {},
     "output_type": "execute_result"
    }
   ],
   "source": [
    "\n",
    "\n",
    "with np.load('mnist-6k.npz', allow_pickle=False) as npz_file:\n",
    "    # Load the arrays\n",
    "    X = npz_file['data']\n",
    "    y = npz_file['labels']\n",
    "\n",
    "\n",
    "print('X:', X)\n",
    "print('y:', y)\n",
    "\n",
    "X[1].shape"
   ]
  },
  {
   "cell_type": "code",
   "execution_count": 16,
   "metadata": {},
   "outputs": [],
   "source": [
    "from sklearn.model_selection import train_test_split\n",
    "\n",
    "# Convert the type of the input matrix to float\n",
    "X = X.astype(np.float)\n",
    "\n",
    "\n",
    "# Split data into train/test sets\n",
    "X_tr, X_te, y_tr, y_te = train_test_split(\n",
    "    X, y, train_size=5000, test_size=1000, random_state=0)"
   ]
  },
  {
   "cell_type": "markdown",
   "metadata": {},
   "source": [
    "Exercise: Data exploration\n",
    "---\n",
    "\n",
    "> **Exercise**: What are the different categories? What is the proportion of images in each one?"
   ]
  },
  {
   "cell_type": "code",
   "execution_count": 17,
   "metadata": {},
   "outputs": [
    {
     "data": {
      "text/plain": [
       "array([0, 1, 2, 3, 4, 5, 6, 7, 8, 9])"
      ]
     },
     "execution_count": 17,
     "metadata": {},
     "output_type": "execute_result"
    }
   ],
   "source": [
    "np.unique(y)"
   ]
  },
  {
   "cell_type": "code",
   "execution_count": 18,
   "metadata": {},
   "outputs": [
    {
     "data": {
      "text/plain": [
       "array([592, 671, 581, 608, 623, 514, 608, 651, 551, 601], dtype=int64)"
      ]
     },
     "execution_count": 18,
     "metadata": {},
     "output_type": "execute_result"
    }
   ],
   "source": [
    "np.bincount(y)"
   ]
  },
  {
   "cell_type": "code",
   "execution_count": 19,
   "metadata": {},
   "outputs": [
    {
     "data": {
      "text/plain": [
       "1    0.111833\n",
       "7    0.108500\n",
       "4    0.103833\n",
       "3    0.101333\n",
       "6    0.101333\n",
       "9    0.100167\n",
       "0    0.098667\n",
       "2    0.096833\n",
       "8    0.091833\n",
       "5    0.085667\n",
       "dtype: float64"
      ]
     },
     "execution_count": 19,
     "metadata": {},
     "output_type": "execute_result"
    }
   ],
   "source": [
    "import pandas as pd\n",
    "\n",
    "# The categories correspond to digits from 0 and 9\n",
    "# There is approximately the same proportion of images (~10%) for each class\n",
    "pd.value_counts(y, normalize=True)"
   ]
  },
  {
   "cell_type": "markdown",
   "metadata": {},
   "source": [
    "> **Exercise**: Plot some images with their labels from the X/y arrays."
   ]
  },
  {
   "cell_type": "code",
   "execution_count": 20,
   "metadata": {},
   "outputs": [],
   "source": [
    "%matplotlib inline\n",
    "import matplotlib.pyplot as plt\n"
   ]
  },
  {
   "cell_type": "code",
   "execution_count": 25,
   "metadata": {},
   "outputs": [
    {
     "name": "stdout",
     "output_type": "stream",
     "text": [
      "shape: (784,)\n",
      "shape: (28, 28)\n"
     ]
    }
   ],
   "source": [
    "# Extract the third image\n",
    "flat_img = X[3] # third row\n",
    "# Print shape\n",
    "print('shape:', X[3].shape)\n",
    "\n",
    "\n",
    "# Reshape the image\n",
    "img = flat_img.reshape(28, 28)\n",
    "\n",
    "\n",
    "# Print shape\n",
    "print('shape:', img.shape)\n"
   ]
  },
  {
   "cell_type": "code",
   "execution_count": 26,
   "metadata": {},
   "outputs": [
    {
     "data": {
      "image/png": "[encoded data removed]",
      "text/plain": [
       "<Figure size 432x288 with 1 Axes>"
      ]
     },
     "metadata": {
      "needs_background": "light"
     },
     "output_type": "display_data"
    }
   ],
   "source": [
    "\n",
    "# Plot the image\n",
    "plt.imshow(img, cmap=plt.cm.gray_r)\n",
    "plt.show()"
   ]
  },
  {
   "cell_type": "code",
   "execution_count": null,
   "metadata": {},
   "outputs": [],
   "source": []
  },
  {
   "cell_type": "markdown",
   "metadata": {},
   "source": [
    "Exercise: Set a baseline\n",
    "---\n",
    "\n",
    "> **Exercise**: Create a baseline model using the `DummyClassifier` object from Scikit-learn and evaluate its performance on the test set."
   ]
  },
  {
   "cell_type": "code",
   "execution_count": 27,
   "metadata": {},
   "outputs": [
    {
     "name": "stdout",
     "output_type": "stream",
     "text": [
      "Baseline accuracy: 0.105\n"
     ]
    }
   ],
   "source": [
    "from sklearn.dummy import DummyClassifier\n",
    "\n",
    "# Create the dummy classifier\n",
    "dummy = DummyClassifier(strategy='most_frequent')\n",
    "\n",
    "# Fit it to the train data\n",
    "dummy.fit(X_tr, y_tr)\n",
    "\n",
    "# Compute accuracy on the test set\n",
    "accuracy = dummy.score(X_te, y_te)\n",
    "print('Baseline accuracy: {:.3f}'.format(accuracy))"
   ]
  },
  {
   "cell_type": "markdown",
   "metadata": {},
   "source": [
    "Exercise: Create k-NN classifier\n",
    "---\n",
    "\n",
    "> **Exercise**: Build a k-NN classifier using a `Pipeline` object (set k to 5). Try with and without standardization."
   ]
  },
  {
   "cell_type": "code",
   "execution_count": 30,
   "metadata": {},
   "outputs": [
    {
     "name": "stdout",
     "output_type": "stream",
     "text": [
      "k-nearest neighbors (k=5) accuracy: 0.941\n"
     ]
    }
   ],
   "source": [
    "from sklearn.neighbors import KNeighborsClassifier\n",
    "from sklearn.preprocessing import StandardScaler\n",
    "from sklearn.pipeline import Pipeline\n",
    "\n",
    "# Create k-NN classifier\n",
    "knn = KNeighborsClassifier(\n",
    "    n_neighbors=5, # Set k to 5\n",
    "    # Use the simple 'brute' strategy to find nearest neighbors.\n",
    "    # It's faster in this case!\n",
    "    algorithm='brute'\n",
    ")\n",
    "\n",
    "# Create the pipeline and fit it to training data\n",
    "knn_pipe = Pipeline([\n",
    "    #('scaler', StandardScaler()), # With standardization\n",
    "    ('scaler', None), # Better performance without standardization!\n",
    "    ('knn', knn)\n",
    "])\n",
    "knn_pipe.fit(X_tr, y_tr)\n",
    "\n",
    "# Evaluate on test set\n",
    "accuracy = knn_pipe.score(X_te, y_te)\n",
    "\n",
    "# Print accuracy\n",
    "print('k-nearest neighbors (k=5) accuracy: {:.3f}'.format(accuracy))"
   ]
  },
  {
   "cell_type": "markdown",
   "metadata": {},
   "source": [
    "Exercise: Tune k using grid search\n",
    "---\n",
    "\n",
    "> **Exercise**: Tune k using grid search. Plot the test accuracy.\n",
    "\n",
    "**Hint**: You don't have to compute the train accuracy which is computationally expensive due to the size of the train set."
   ]
  },
  {
   "cell_type": "code",
   "execution_count": 42,
   "metadata": {},
   "outputs": [
    {
     "data": {
      "text/html": [
       "<div>\n",
       "<style scoped>\n",
       "    .dataframe tbody tr th:only-of-type {\n",
       "        vertical-align: middle;\n",
       "    }\n",
       "\n",
       "    .dataframe tbody tr th {\n",
       "        vertical-align: top;\n",
       "    }\n",
       "\n",
       "    .dataframe thead th {\n",
       "        text-align: right;\n",
       "    }\n",
       "</style>\n",
       "<table border=\"1\" class=\"dataframe\">\n",
       "  <thead>\n",
       "    <tr style=\"text-align: right;\">\n",
       "      <th></th>\n",
       "      <th>k</th>\n",
       "      <th>test_accuracy</th>\n",
       "    </tr>\n",
       "  </thead>\n",
       "  <tbody>\n",
       "    <tr>\n",
       "      <th>0</th>\n",
       "      <td>1</td>\n",
       "      <td>0.952</td>\n",
       "    </tr>\n",
       "    <tr>\n",
       "      <th>1</th>\n",
       "      <td>2</td>\n",
       "      <td>0.943</td>\n",
       "    </tr>\n",
       "    <tr>\n",
       "      <th>2</th>\n",
       "      <td>3</td>\n",
       "      <td>0.951</td>\n",
       "    </tr>\n",
       "    <tr>\n",
       "      <th>3</th>\n",
       "      <td>4</td>\n",
       "      <td>0.949</td>\n",
       "    </tr>\n",
       "    <tr>\n",
       "      <th>4</th>\n",
       "      <td>5</td>\n",
       "      <td>0.941</td>\n",
       "    </tr>\n",
       "    <tr>\n",
       "      <th>5</th>\n",
       "      <td>6</td>\n",
       "      <td>0.941</td>\n",
       "    </tr>\n",
       "    <tr>\n",
       "      <th>6</th>\n",
       "      <td>7</td>\n",
       "      <td>0.939</td>\n",
       "    </tr>\n",
       "    <tr>\n",
       "      <th>7</th>\n",
       "      <td>8</td>\n",
       "      <td>0.941</td>\n",
       "    </tr>\n",
       "    <tr>\n",
       "      <th>8</th>\n",
       "      <td>9</td>\n",
       "      <td>0.944</td>\n",
       "    </tr>\n",
       "    <tr>\n",
       "      <th>9</th>\n",
       "      <td>10</td>\n",
       "      <td>0.941</td>\n",
       "    </tr>\n",
       "    <tr>\n",
       "      <th>10</th>\n",
       "      <td>11</td>\n",
       "      <td>0.943</td>\n",
       "    </tr>\n",
       "    <tr>\n",
       "      <th>11</th>\n",
       "      <td>12</td>\n",
       "      <td>0.941</td>\n",
       "    </tr>\n",
       "    <tr>\n",
       "      <th>12</th>\n",
       "      <td>13</td>\n",
       "      <td>0.941</td>\n",
       "    </tr>\n",
       "    <tr>\n",
       "      <th>13</th>\n",
       "      <td>14</td>\n",
       "      <td>0.937</td>\n",
       "    </tr>\n",
       "    <tr>\n",
       "      <th>14</th>\n",
       "      <td>15</td>\n",
       "      <td>0.936</td>\n",
       "    </tr>\n",
       "    <tr>\n",
       "      <th>15</th>\n",
       "      <td>16</td>\n",
       "      <td>0.930</td>\n",
       "    </tr>\n",
       "    <tr>\n",
       "      <th>16</th>\n",
       "      <td>17</td>\n",
       "      <td>0.930</td>\n",
       "    </tr>\n",
       "    <tr>\n",
       "      <th>17</th>\n",
       "      <td>18</td>\n",
       "      <td>0.931</td>\n",
       "    </tr>\n",
       "    <tr>\n",
       "      <th>18</th>\n",
       "      <td>19</td>\n",
       "      <td>0.929</td>\n",
       "    </tr>\n",
       "  </tbody>\n",
       "</table>\n",
       "</div>"
      ],
      "text/plain": [
       "     k  test_accuracy\n",
       "0    1          0.952\n",
       "1    2          0.943\n",
       "2    3          0.951\n",
       "3    4          0.949\n",
       "4    5          0.941\n",
       "5    6          0.941\n",
       "6    7          0.939\n",
       "7    8          0.941\n",
       "8    9          0.944\n",
       "9   10          0.941\n",
       "10  11          0.943\n",
       "11  12          0.941\n",
       "12  13          0.941\n",
       "13  14          0.937\n",
       "14  15          0.936\n",
       "15  16          0.930\n",
       "16  17          0.930\n",
       "17  18          0.931\n",
       "18  19          0.929"
      ]
     },
     "execution_count": 42,
     "metadata": {},
     "output_type": "execute_result"
    }
   ],
   "source": [
    "accuracy_gs = []\n",
    "for k in range(1,20):\n",
    "    knn_pipe.set_params(knn__n_neighbors=k)\n",
    "    knn_pipe.fit(X_tr, y_tr)\n",
    "    accuracy_gs.append({\n",
    "            'k': k,\n",
    "            'test_accuracy': knn_pipe.score(X_te, y_te)\n",
    "        })\n",
    "    \n",
    "# Convert results to DataFrame\n",
    "gs_results = pd.DataFrame(accuracy_gs)\n",
    "gs_results"
   ]
  },
  {
   "cell_type": "code",
   "execution_count": 45,
   "metadata": {},
   "outputs": [],
   "source": [
    "# Group results by alpha value\n",
    "grouped = gs_results.groupby('k')\n",
    "\n",
    "# Compute train/test mean scores with std\n",
    "mean_te = grouped.test_accuracy.mean()\n",
    "std_te = grouped.test_accuracy.std()"
   ]
  },
  {
   "cell_type": "code",
   "execution_count": 48,
   "metadata": {},
   "outputs": [
    {
     "data": {
      "image/png": "[encoded data removed]",
      "text/plain": [
       "<Figure size 432x288 with 1 Axes>"
      ]
     },
     "metadata": {
      "needs_background": "light"
     },
     "output_type": "display_data"
    }
   ],
   "source": [
    "# Plot mean scores\n",
    "plt.plot(range(1,20), mean_te, label='test')\n",
    "\n",
    "# Add marker for best score\n",
    "best_k = mean_te.idxmax()\n",
    "plt.scatter(best_k, mean_te.max(), marker='x', c='red', zorder=10)\n",
    "\n",
    "# Quantify variance with ±std curves\n",
    "\n",
    "plt.fill_between(range(1,20), mean_te-std_te, mean_te+std_te, alpha=0.2)\n",
    "plt.title('Best k: {} with {:.1f}% accuracy'.format(best_k, 100*mean_te[best_k]))\n",
    "plt.ylabel('accuracy')\n",
    "plt.xlabel('k')\n",
    "plt.legend()\n",
    "plt.show()"
   ]
  },
  {
   "cell_type": "code",
   "execution_count": null,
   "metadata": {},
   "outputs": [],
   "source": []
  }
 ],
 "metadata": {
  "kernelspec": {
   "display_name": "Python 3",
   "language": "python",
   "name": "python3"
  },
  "language_info": {
   "codemirror_mode": {
    "name": "ipython",
    "version": 3
   },
   "file_extension": ".py",
   "mimetype": "text/x-python",
   "name": "python",
   "nbconvert_exporter": "python",
   "pygments_lexer": "ipython3",
   "version": "3.6.13"
  }
 },
 "nbformat": 4,
 "nbformat_minor": 4
}
