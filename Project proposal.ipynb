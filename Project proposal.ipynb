{
 "cells": [
  {
   "cell_type": "markdown",
   "id": "4e7bba6b",
   "metadata": {},
   "source": [
    "# 1 - The Problem\n",
    "-----------"
   ]
  },
  {
   "cell_type": "markdown",
   "id": "bf56582c",
   "metadata": {},
   "source": [
    "As a part of the International Supply Chain department in Jaeger-LeCoultre (Watchmaking industry) as a Senior Business Analyst, I make tools to support the operational team to dispatch the watches all over the world on one hand, and to make proper sales forecasts on the other hand in order to have the right watch at the right place.\n",
    "\n",
    "Today, to make up for the wide range of different watches (400 in collection) and point of sales (700 Points of Sales in 25 different markets - geographical area) we have a lot of inventory all around the world and we need better sales forecasts to better produce the right pieces.\n",
    "\n",
    "As of today, we manually monitor the time-series trend worldwide for each watch and acknowledge other exterior factors that might influence the sales. However, many more factors (endogenous and exogenous) could be impactful and measured to finetune our forecasts. \n",
    "\n",
    "**That is what I would like to do in this capstone project and use it as an input for the Forecast team in the future** "
   ]
  },
  {
   "cell_type": "markdown",
   "id": "7f6437c1",
   "metadata": {},
   "source": [
    "The advantage is that I already know how to get all the **useful endogenous data** as it is part of my job (csv or excel formats mostly) even though I am not sure of which level of details I should focus on.\n",
    "\n",
    "My main concern is about feasability, and if this kind of time-series problem is not too big for a one man team and such short notice. A similar concern is about how I can find exogenous data (financial, foreign exchange, economics, social data...) on the same time-series data and combine them with mine."
   ]
  },
  {
   "cell_type": "markdown",
   "id": "51655176",
   "metadata": {},
   "source": [
    "2 - The Data\n",
    "-----------"
   ]
  },
  {
   "cell_type": "markdown",
   "id": "0c4eb1ba",
   "metadata": {},
   "source": [
    "I have access, through Analysis for Excel, to raw data of Sales and Stock at any level of detail I need. (considering size limitations)\n",
    "\n",
    "My sample would roughly be 6 to 7000 lines per month for 5 years, so approximately 400'000 lines with as many features as I consider useful.\n",
    "\n",
    "- Endogenous useful Features : \n",
    "       - Watch Reference (c.400 different)\n",
    "       - Watch Price (numerical)\n",
    "       - Watch Attributes (to get one hot encoded) : \n",
    "           - Product Life Cycle (*Novelties, Range, Declined Products, Out of Range...*)\n",
    "           - Material (*Gold, Steel...*)\n",
    "           - Type of strap (*Calf, Alligator, Rubber, Steel, Gold..*)\n",
    "           - Product Line\n",
    "       - Point of Sales : (c.700 different)\n",
    "           - Name\n",
    "           - City\n",
    "           - Country\n",
    "           - Market Geography (x 25)\n",
    "       - Distribution Channel (*3 types : Owned boutiques, External Wholesalers, E-commerce ==> to get one hot encoded*)\n",
    "       - Date (Month-Year MM-YYYY)\n",
    "       - Local Stock Quantity to date (numerical)\n",
    "       - Sales Out Quantity (numerical output)\n",
    "       \n",
    " **Those endogenous data are previously treated and corrected for missing data.**      \n",
    "       \n",
    "- Exogenous interesting features to be added if possible (harder to find and combine with my endogenous data)\n",
    "        - Average Chinese tourists per country per month (data possibly in Richemont Marketing Services)\n",
    "        - Petrol Barrel Prices\n",
    "        - Monthly Average Stock Index (US, UK, FR, China, Japan, Hong Kong..)\n",
    "        - Monthly Currency Exchange\n",
    "        - COVID lockdowns per country ?\n",
    "        - Gold Price\n",
    "       \n",
    "       \n"
   ]
  },
  {
   "cell_type": "code",
   "execution_count": null,
   "id": "3a03ed8d",
   "metadata": {},
   "outputs": [],
   "source": []
  },
  {
   "cell_type": "code",
   "execution_count": null,
   "id": "7aee3769",
   "metadata": {},
   "outputs": [],
   "source": []
  }
 ],
 "metadata": {
  "kernelspec": {
   "display_name": "Python 3",
   "language": "python",
   "name": "python3"
  },
  "language_info": {
   "codemirror_mode": {
    "name": "ipython",
    "version": 3
   },
   "file_extension": ".py",
   "mimetype": "text/x-python",
   "name": "python",
   "nbconvert_exporter": "python",
   "pygments_lexer": "ipython3",
   "version": "3.6.13"
  }
 },
 "nbformat": 4,
 "nbformat_minor": 5
}
