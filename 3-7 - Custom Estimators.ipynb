{
 "cells": [
  {
   "cell_type": "markdown",
   "id": "14e5bb80",
   "metadata": {},
   "source": [
    "# Custom estimators\n",
    "\n",
    "### This unit is optional\n",
    "In the last unit, we saw how to define our own transformers. In this unit, we will see how to implement custom estimators with the scenario of outliers removal.\n",
    "\n",
    "### Use case - outliers removal\n",
    "Let's start by loading the data set."
   ]
  },
  {
   "cell_type": "code",
   "execution_count": 1,
   "id": "6578d9ea",
   "metadata": {},
   "outputs": [
    {
     "data": {
      "text/html": [
       "<div>\n",
       "<style scoped>\n",
       "    .dataframe tbody tr th:only-of-type {\n",
       "        vertical-align: middle;\n",
       "    }\n",
       "\n",
       "    .dataframe tbody tr th {\n",
       "        vertical-align: top;\n",
       "    }\n",
       "\n",
       "    .dataframe thead th {\n",
       "        text-align: right;\n",
       "    }\n",
       "</style>\n",
       "<table border=\"1\" class=\"dataframe\">\n",
       "  <thead>\n",
       "    <tr style=\"text-align: right;\">\n",
       "      <th></th>\n",
       "      <th>Order</th>\n",
       "      <th>PID</th>\n",
       "      <th>MS SubClass</th>\n",
       "      <th>MS Zoning</th>\n",
       "      <th>Lot Frontage</th>\n",
       "      <th>Lot Area</th>\n",
       "      <th>Street</th>\n",
       "      <th>Alley</th>\n",
       "      <th>Lot Shape</th>\n",
       "      <th>Land Contour</th>\n",
       "      <th>...</th>\n",
       "      <th>Pool Area</th>\n",
       "      <th>Pool QC</th>\n",
       "      <th>Fence</th>\n",
       "      <th>Misc Feature</th>\n",
       "      <th>Misc Val</th>\n",
       "      <th>Mo Sold</th>\n",
       "      <th>Yr Sold</th>\n",
       "      <th>Sale Type</th>\n",
       "      <th>Sale Condition</th>\n",
       "      <th>SalePrice</th>\n",
       "    </tr>\n",
       "  </thead>\n",
       "  <tbody>\n",
       "    <tr>\n",
       "      <th>0</th>\n",
       "      <td>484</td>\n",
       "      <td>528275070</td>\n",
       "      <td>60</td>\n",
       "      <td>RL</td>\n",
       "      <td>NaN</td>\n",
       "      <td>8795</td>\n",
       "      <td>Pave</td>\n",
       "      <td>NaN</td>\n",
       "      <td>IR1</td>\n",
       "      <td>Lvl</td>\n",
       "      <td>...</td>\n",
       "      <td>0</td>\n",
       "      <td>NaN</td>\n",
       "      <td>NaN</td>\n",
       "      <td>NaN</td>\n",
       "      <td>0</td>\n",
       "      <td>4</td>\n",
       "      <td>2009</td>\n",
       "      <td>WD</td>\n",
       "      <td>Normal</td>\n",
       "      <td>236000</td>\n",
       "    </tr>\n",
       "    <tr>\n",
       "      <th>1</th>\n",
       "      <td>2586</td>\n",
       "      <td>535305120</td>\n",
       "      <td>20</td>\n",
       "      <td>RL</td>\n",
       "      <td>75.0</td>\n",
       "      <td>10170</td>\n",
       "      <td>Pave</td>\n",
       "      <td>NaN</td>\n",
       "      <td>Reg</td>\n",
       "      <td>Lvl</td>\n",
       "      <td>...</td>\n",
       "      <td>0</td>\n",
       "      <td>NaN</td>\n",
       "      <td>NaN</td>\n",
       "      <td>NaN</td>\n",
       "      <td>0</td>\n",
       "      <td>6</td>\n",
       "      <td>2006</td>\n",
       "      <td>WD</td>\n",
       "      <td>Normal</td>\n",
       "      <td>155000</td>\n",
       "    </tr>\n",
       "    <tr>\n",
       "      <th>2</th>\n",
       "      <td>2289</td>\n",
       "      <td>923228250</td>\n",
       "      <td>160</td>\n",
       "      <td>RM</td>\n",
       "      <td>21.0</td>\n",
       "      <td>2001</td>\n",
       "      <td>Pave</td>\n",
       "      <td>NaN</td>\n",
       "      <td>Reg</td>\n",
       "      <td>Lvl</td>\n",
       "      <td>...</td>\n",
       "      <td>0</td>\n",
       "      <td>NaN</td>\n",
       "      <td>NaN</td>\n",
       "      <td>NaN</td>\n",
       "      <td>0</td>\n",
       "      <td>1</td>\n",
       "      <td>2007</td>\n",
       "      <td>WD</td>\n",
       "      <td>Normal</td>\n",
       "      <td>75000</td>\n",
       "    </tr>\n",
       "    <tr>\n",
       "      <th>3</th>\n",
       "      <td>142</td>\n",
       "      <td>535152150</td>\n",
       "      <td>20</td>\n",
       "      <td>RL</td>\n",
       "      <td>70.0</td>\n",
       "      <td>10552</td>\n",
       "      <td>Pave</td>\n",
       "      <td>NaN</td>\n",
       "      <td>IR1</td>\n",
       "      <td>Lvl</td>\n",
       "      <td>...</td>\n",
       "      <td>0</td>\n",
       "      <td>NaN</td>\n",
       "      <td>NaN</td>\n",
       "      <td>NaN</td>\n",
       "      <td>0</td>\n",
       "      <td>4</td>\n",
       "      <td>2010</td>\n",
       "      <td>WD</td>\n",
       "      <td>Normal</td>\n",
       "      <td>165500</td>\n",
       "    </tr>\n",
       "    <tr>\n",
       "      <th>4</th>\n",
       "      <td>2042</td>\n",
       "      <td>903475060</td>\n",
       "      <td>190</td>\n",
       "      <td>RM</td>\n",
       "      <td>60.0</td>\n",
       "      <td>10120</td>\n",
       "      <td>Pave</td>\n",
       "      <td>NaN</td>\n",
       "      <td>IR1</td>\n",
       "      <td>Bnk</td>\n",
       "      <td>...</td>\n",
       "      <td>0</td>\n",
       "      <td>NaN</td>\n",
       "      <td>MnPrv</td>\n",
       "      <td>NaN</td>\n",
       "      <td>0</td>\n",
       "      <td>1</td>\n",
       "      <td>2007</td>\n",
       "      <td>WD</td>\n",
       "      <td>Normal</td>\n",
       "      <td>122000</td>\n",
       "    </tr>\n",
       "  </tbody>\n",
       "</table>\n",
       "<p>5 rows × 82 columns</p>\n",
       "</div>"
      ],
      "text/plain": [
       "   Order        PID  MS SubClass MS Zoning  Lot Frontage  Lot Area Street  \\\n",
       "0    484  528275070           60        RL           NaN      8795   Pave   \n",
       "1   2586  535305120           20        RL          75.0     10170   Pave   \n",
       "2   2289  923228250          160        RM          21.0      2001   Pave   \n",
       "3    142  535152150           20        RL          70.0     10552   Pave   \n",
       "4   2042  903475060          190        RM          60.0     10120   Pave   \n",
       "\n",
       "  Alley Lot Shape Land Contour  ... Pool Area Pool QC  Fence Misc Feature  \\\n",
       "0   NaN       IR1          Lvl  ...         0     NaN    NaN          NaN   \n",
       "1   NaN       Reg          Lvl  ...         0     NaN    NaN          NaN   \n",
       "2   NaN       Reg          Lvl  ...         0     NaN    NaN          NaN   \n",
       "3   NaN       IR1          Lvl  ...         0     NaN    NaN          NaN   \n",
       "4   NaN       IR1          Bnk  ...         0     NaN  MnPrv          NaN   \n",
       "\n",
       "  Misc Val Mo Sold Yr Sold Sale Type  Sale Condition  SalePrice  \n",
       "0        0       4    2009       WD           Normal     236000  \n",
       "1        0       6    2006       WD           Normal     155000  \n",
       "2        0       1    2007       WD           Normal      75000  \n",
       "3        0       4    2010       WD           Normal     165500  \n",
       "4        0       1    2007       WD           Normal     122000  \n",
       "\n",
       "[5 rows x 82 columns]"
      ]
     },
     "execution_count": 1,
     "metadata": {},
     "output_type": "execute_result"
    }
   ],
   "source": [
    "import pandas as pd\n",
    "\n",
    "data_df = pd.read_csv('house-prices.csv')\n",
    "data_df.head()"
   ]
  },
  {
   "cell_type": "markdown",
   "id": "be842b2b",
   "metadata": {},
   "source": [
    "We learned about skewed distributions in the last subject and saw how log-transforms can help in such cases. However, it's still possible that some values remain far from the mean after the transformation.\n",
    "\n",
    "For instance, let's plot the z-scores distribution of the Lot Area variable before and after the log-transform. This time, we use the zscore() function from the scipy.stats module."
   ]
  },
  {
   "cell_type": "code",
   "execution_count": 2,
   "id": "66009b6d",
   "metadata": {},
   "outputs": [
    {
     "data": {
      "image/png": "[encoded data removed]",
      "text/plain": [
       "<Figure size 720x216 with 2 Axes>"
      ]
     },
     "metadata": {
      "needs_background": "light"
     },
     "output_type": "display_data"
    }
   ],
   "source": [
    "%matplotlib inline\n",
    "import matplotlib.pyplot as plt\n",
    "from scipy.stats import zscore\n",
    "import numpy as np\n",
    "\n",
    "# Check for outliers in the continuous features\n",
    "c = 'Lot Area'\n",
    "x = data_df[c].dropna()\n",
    "\n",
    "# Plot histograms\n",
    "fig, (ax1, ax2) = plt.subplots(nrows=1, ncols=2, figsize=(10, 3))\n",
    "ax1.hist(zscore(x), bins=50)\n",
    "ax2.hist(zscore(np.log1p(x)), bins=50)\n",
    "ax1.set_title(c)\n",
    "ax2.set_title('log({})'.format(c))\n",
    "plt.show()"
   ]
  },
  {
   "cell_type": "markdown",
   "id": "a4bf3f49",
   "metadata": {},
   "source": [
    "We can see that the transformation helps, but there are still many values with a z-score above +3 or below -3. We could simply remove them with Pandas before applying our ML models in Scikit-learn. However, let's see how to encapsulate this preprocessing step into a Scikit-learn object.\n",
    "\n",
    "The Lot Area isn't the only variable with a skewed distribution in this data set. In the following code, we list them and create the train and test sets."
   ]
  },
  {
   "cell_type": "code",
   "execution_count": 3,
   "id": "fe3d2980",
   "metadata": {},
   "outputs": [
    {
     "data": {
      "text/html": [
       "<div>\n",
       "<style scoped>\n",
       "    .dataframe tbody tr th:only-of-type {\n",
       "        vertical-align: middle;\n",
       "    }\n",
       "\n",
       "    .dataframe tbody tr th {\n",
       "        vertical-align: top;\n",
       "    }\n",
       "\n",
       "    .dataframe thead th {\n",
       "        text-align: right;\n",
       "    }\n",
       "</style>\n",
       "<table border=\"1\" class=\"dataframe\">\n",
       "  <thead>\n",
       "    <tr style=\"text-align: right;\">\n",
       "      <th></th>\n",
       "      <th>Lot Area</th>\n",
       "      <th>Lot Frontage</th>\n",
       "      <th>Total Bsmt SF</th>\n",
       "      <th>Gr Liv Area</th>\n",
       "      <th>Garage Area</th>\n",
       "    </tr>\n",
       "  </thead>\n",
       "  <tbody>\n",
       "    <tr>\n",
       "      <th>339</th>\n",
       "      <td>20896</td>\n",
       "      <td>49.0</td>\n",
       "      <td>2077.0</td>\n",
       "      <td>2097</td>\n",
       "      <td>1134.0</td>\n",
       "    </tr>\n",
       "    <tr>\n",
       "      <th>1557</th>\n",
       "      <td>8930</td>\n",
       "      <td>68.0</td>\n",
       "      <td>0.0</td>\n",
       "      <td>1902</td>\n",
       "      <td>539.0</td>\n",
       "    </tr>\n",
       "    <tr>\n",
       "      <th>2167</th>\n",
       "      <td>3811</td>\n",
       "      <td>44.0</td>\n",
       "      <td>1594.0</td>\n",
       "      <td>1646</td>\n",
       "      <td>482.0</td>\n",
       "    </tr>\n",
       "    <tr>\n",
       "      <th>706</th>\n",
       "      <td>11200</td>\n",
       "      <td>NaN</td>\n",
       "      <td>1298.0</td>\n",
       "      <td>1298</td>\n",
       "      <td>403.0</td>\n",
       "    </tr>\n",
       "    <tr>\n",
       "      <th>2396</th>\n",
       "      <td>31250</td>\n",
       "      <td>125.0</td>\n",
       "      <td>0.0</td>\n",
       "      <td>1600</td>\n",
       "      <td>270.0</td>\n",
       "    </tr>\n",
       "  </tbody>\n",
       "</table>\n",
       "</div>"
      ],
      "text/plain": [
       "      Lot Area  Lot Frontage  Total Bsmt SF  Gr Liv Area  Garage Area\n",
       "339      20896          49.0         2077.0         2097       1134.0\n",
       "1557      8930          68.0            0.0         1902        539.0\n",
       "2167      3811          44.0         1594.0         1646        482.0\n",
       "706      11200           NaN         1298.0         1298        403.0\n",
       "2396     31250         125.0            0.0         1600        270.0"
      ]
     },
     "execution_count": 3,
     "metadata": {},
     "output_type": "execute_result"
    }
   ],
   "source": [
    "from sklearn.model_selection import train_test_split\n",
    "\n",
    "# Create X, y\n",
    "X = data_df.drop('SalePrice', axis=1)\n",
    "y = np.log10(data_df.SalePrice)\n",
    "\n",
    "# Split into train/test sets\n",
    "X_tr, X_te, y_tr, y_te = train_test_split(X, y, test_size=0.5, random_state=0)\n",
    "\n",
    "# Continuous variables to check\n",
    "to_check = ['Lot Area', 'Lot Frontage', 'Total Bsmt SF', 'Gr Liv Area', 'Garage Area']\n",
    "X_tr[to_check].head()"
   ]
  },
  {
   "cell_type": "markdown",
   "id": "5ec2c89c",
   "metadata": {},
   "source": [
    "Note that we still have missing values in the data. In this unit, we ignore them during the outliers removal part and will then see later in this unit how to replace them using a SimpleImputer transformer object.\n",
    "\n",
    "### ClassifierMixin object\n",
    "In the last unit, we defined our own transformers by creating a subclass of the BaseEstimator and TransformerMixin. Similarly, we can define **custom estimators** by creating a subclass of BaseEstimator and\n",
    "\n",
    "- RegressorMixin for **regression** tasks\n",
    "- ClassifierMixin for **classification** ones\n",
    "\n",
    "Let's see how to create a ZScoresOutlierClassifier class that takes a set of column names to check for outliers and a removal threshold. This custom estimator will predict whether a point is an outlier or not - since this is a classification task, we need to extend ClassifierMixin."
   ]
  },
  {
   "cell_type": "code",
   "execution_count": 4,
   "id": "72bd21eb",
   "metadata": {},
   "outputs": [],
   "source": [
    "from sklearn.base import BaseEstimator, ClassifierMixin\n",
    "\n",
    "# Custom outliers detector base on z-scores\n",
    "# Adapted from https://github.com/scikit-learn/scikit-learn/issues/9630#issuecomment-325202441\n",
    "class ZScoresOutlierClassifier(BaseEstimator, ClassifierMixin):\n",
    "    def __init__(self, columns, threshold=3):\n",
    "        self.columns = columns\n",
    "        self.threshold = threshold\n",
    "\n",
    "    def fit(self, X_df, y):\n",
    "        # Check that X_df is a DataFrame\n",
    "        assert type(X_df) == pd.DataFrame\n",
    "\n",
    "        # Compute train mean/std\n",
    "        self.train_mean_ = X_df[self.columns].mean()\n",
    "        self.train_std_ = X_df[self.columns].std()\n",
    "\n",
    "        # Return estimator\n",
    "        return self\n",
    "\n",
    "    def predict(self, X_df):\n",
    "        # Check that X_df is a DataFrame\n",
    "        assert type(X_df) == pd.DataFrame\n",
    "\n",
    "        # Apply threshold\n",
    "        z_scores = (X_df[self.columns] - self.train_mean_) / (self.train_std_)\n",
    "        below_threshold = np.abs(z_scores.fillna(0)) <= self.threshold\n",
    "\n",
    "        # Find inliners\n",
    "        mask = below_threshold.all(axis=1)\n",
    "\n",
    "        # Return predictions: +1 for inliners, -1 for outliers\n",
    "        return mask.replace({True: 1, False: -1})"
   ]
  },
  {
   "cell_type": "markdown",
   "id": "05959296",
   "metadata": {},
   "source": [
    "In this code, we define two functions: fit() and predict().\n",
    "\n",
    "The fit function computes the mean and standard deviation of each column of the train DataFrame and stores them in the train_mean_ and train_std_ variables. The \"predict\" part computes the z-scores using simple Pandas code and checks that the data points are below the defined threshold.\n",
    "\n",
    "Note the Pandas all(axis=1) call - a point that isn't an outlier should have all its z-scores below the threshold. Finally, we return 1 for normal points and -1 for outliers: this is the standard encoding for outlier detector objects from Scikit-learn.\n",
    "\n",
    "Let's test our custom classifier on the training data"
   ]
  },
  {
   "cell_type": "code",
   "execution_count": 5,
   "id": "8c3ee739",
   "metadata": {},
   "outputs": [
    {
     "data": {
      "text/plain": [
       "339    -1\n",
       "1557    1\n",
       "2167    1\n",
       "706     1\n",
       "2396    1\n",
       "dtype: int64"
      ]
     },
     "execution_count": 5,
     "metadata": {},
     "output_type": "execute_result"
    }
   ],
   "source": [
    "outliers_clf = ZScoresOutlierClassifier(to_check)\n",
    "outliers_clf.fit(X_tr, y_tr)\n",
    "outliers_clf.predict(X_tr).head()"
   ]
  },
  {
   "cell_type": "markdown",
   "id": "38eaa093",
   "metadata": {},
   "source": [
    "### RegressorMixin object\n",
    "Now that we have a custom outlier classifier, let's see how to use it to improve our predictions. Remember: outliers hurt the performance of our models because of the RSS-based cost functions which have bad statistical properties i.e. they don't handle well statistically extreme values.\n",
    "\n",
    "Let's define a WithoutOutliersRegressor object that first removes the outliers from the training data before fitting the estimator."
   ]
  },
  {
   "cell_type": "code",
   "execution_count": 6,
   "id": "0b6bbf76",
   "metadata": {},
   "outputs": [],
   "source": [
    "from sklearn.base import RegressorMixin, clone\n",
    "\n",
    "# Custom regressor with an embedded outliers detector\n",
    "# Adapted from https://github.com/scikit-learn/scikit-learn/issues/9630#issuecomment-325202441\n",
    "class WithoutOutliersRegressor(BaseEstimator, RegressorMixin):\n",
    "    def __init__(self, outlier_detector, regressor):\n",
    "        self.outlier_detector = outlier_detector\n",
    "        self.regressor = regressor\n",
    "\n",
    "    def fit(self, X, y, verbose=False):\n",
    "        # Fit outliers detector, use it on X\n",
    "        self.outlier_detector_ = clone(self.outlier_detector).fit(X, y)\n",
    "        outliers = self.outlier_detector_.predict(X) == -1\n",
    "\n",
    "        # Print the number of outliers detected\n",
    "        if verbose:\n",
    "            print('Outliers detected: {} ({:.1f}%)'.format(\n",
    "                outliers.sum(), 100*outliers.mean()))\n",
    "\n",
    "        # Fit regressor without the outliers\n",
    "        self.regressor_ = clone(self.regressor).fit(X[~outliers], y[~outliers])\n",
    "\n",
    "        # Return the estimator\n",
    "        return self\n",
    "\n",
    "    def predict(self, X):\n",
    "        # Make predictions with the regressor (fitted without the outliers)\n",
    "        return self.regressor_.predict(X)"
   ]
  },
  {
   "cell_type": "markdown",
   "id": "ff46a87d",
   "metadata": {},
   "source": [
    "Again, we need to define the fit() and predict() functions.\n",
    "\n",
    "In the fit part, we fit our outlier detector to the training data, create an outliers mask and use it to exclude outliers from our model fit() call. In the \"predict\" part, we simply use our fitted regressor object to make new predictions for all data points i.e. including potential outliers.\n",
    "\n",
    "So far in this course, we always saw examples where the current state of our estimators was clear ex. is it fitted, on what data are the coefficients computed and so on. However, in this implementation, we are working with an outlier detector and a regressor that are created outside our custom estimator, and we modify them inside it by calling the .fit() method.\n",
    "\n",
    "To avoid any confusion, we clone the estimators with the clone() function from Scikit-learn - that way, we are sure to leave the original objects unmodified. This issue is very similar to what can happen with Pandas inplace=True operations. If you're curious about this, you can take a look at this example which illustrate the issue.\n",
    "\n",
    "https://stackoverflow.com/q/13701603/3890306\n",
    "\n",
    "### Complete pipeline\n",
    "Let's use our new estimator in a complete pipeline. First, we need to fill missing values and encode non-numerical variables. This time, we will use the SimpleImputer object from Scikit-learn to handle missing values.\n",
    "\n",
    "By setting its strategy parameter to most_frequent, the imputer simply replaces missing values with the most frequent value found in the column. Other possible strategies are mean, median and constant. You can always refer to the documentation if you're unsure about the different options.\n",
    "\n",
    "Let's also define the transformations for the numerical columns."
   ]
  },
  {
   "cell_type": "code",
   "execution_count": 7,
   "id": "a52a3afd",
   "metadata": {},
   "outputs": [],
   "source": [
    "from sklearn.pipeline import Pipeline\n",
    "from sklearn.impute import SimpleImputer\n",
    "from sklearn.preprocessing import OneHotEncoder\n",
    "\n",
    "# One-hot encoding for non-numerical columns\n",
    "onehot_columns = X.select_dtypes(exclude=np.number).columns\n",
    "onehot_transformer = Pipeline([\n",
    "    ('imputer', SimpleImputer(strategy='most_frequent')),\n",
    "    ('encoder', OneHotEncoder(handle_unknown='ignore'))\n",
    "])"
   ]
  },
  {
   "cell_type": "code",
   "execution_count": 8,
   "id": "3826b227",
   "metadata": {},
   "outputs": [],
   "source": [
    "from sklearn.preprocessing import FunctionTransformer\n",
    "from sklearn.preprocessing import StandardScaler\n",
    "\n",
    "# Basic transformations for the others\n",
    "other_columns = X.columns.difference(onehot_columns)\n",
    "other_transformer = Pipeline([\n",
    "    ('imputer', SimpleImputer(strategy='most_frequent')),\n",
    "    ('log', FunctionTransformer(np.log1p)),\n",
    "    ('scaler', StandardScaler())\n",
    "])"
   ]
  },
  {
   "cell_type": "code",
   "execution_count": 10,
   "id": "250c1d90",
   "metadata": {},
   "outputs": [],
   "source": [
    "from sklearn.compose import ColumnTransformer\n",
    "\n",
    "# Create preprocessor\n",
    "preprocessor = ColumnTransformer([\n",
    "    ('onehot', onehot_transformer, onehot_columns),\n",
    "    ('other', other_transformer, other_columns)\n",
    "])"
   ]
  },
  {
   "cell_type": "code",
   "execution_count": 11,
   "id": "78ef7b0c",
   "metadata": {},
   "outputs": [],
   "source": [
    "from sklearn.linear_model import Ridge\n",
    "\n",
    "# Define pipeline\n",
    "model = WithoutOutliersRegressor(\n",
    "    outlier_detector=ZScoresOutlierClassifier(to_check, threshold=3),\n",
    "    regressor=Pipeline([\n",
    "        ('preprocessor', preprocessor),\n",
    "        ('ridge', Ridge())\n",
    "    ])\n",
    ")"
   ]
  },
  {
   "cell_type": "markdown",
   "id": "dfbb0048",
   "metadata": {},
   "source": [
    "It's important to note that our ZScoresOutlierClassifier works on the untransformed DataFrame - our preprocessor is only applied before the Ridge model! For this reason, the detector is working on the original variables and not the log-transformed ones.\n",
    "\n",
    "To apply the outliers detector on the log-transformed variables, we cannot simply encapsulate our detector into a ColumnTransformer that applies the log-transform to the columns listed in to_check. The reason is simple: as we saw in the last units, column transformer objects produce Numpy arrays. However, our outliers detector works on DataFrames!\n",
    "\n",
    "**Challenge:** Can you adjust the ZScoresOutlierClassifier to accept Numpy arrays instead of Pandas DataFrames to make it fully compatible with Scikit-learn objects?\n",
    "\n",
    "### Final evaluation\n",
    "Let's see how our fully-encapsulated model performs."
   ]
  },
  {
   "cell_type": "code",
   "execution_count": 13,
   "id": "69e434d1",
   "metadata": {},
   "outputs": [
    {
     "name": "stdout",
     "output_type": "stream",
     "text": [
      "Outliers detected: 38 (3.1%)\n"
     ]
    }
   ],
   "source": [
    "import warnings\n",
    "warnings.simplefilter('ignore', FutureWarning)\n",
    "\n",
    "model.fit(X_tr, y_tr, verbose=True);"
   ]
  },
  {
   "cell_type": "markdown",
   "id": "359dac4c",
   "metadata": {},
   "source": [
    "The outlier detector labeled around 3% of the entries as outliers. Those training points won't be used to fit the model.\n",
    "\n",
    "Let's evaluate it on the test set."
   ]
  },
  {
   "cell_type": "code",
   "execution_count": 14,
   "id": "9f4d2dfd",
   "metadata": {},
   "outputs": [
    {
     "name": "stdout",
     "output_type": "stream",
     "text": [
      "MAE: 14,220$\n"
     ]
    }
   ],
   "source": [
    "from sklearn.metrics import mean_absolute_error as MAE\n",
    "\n",
    "# Evaluate predictions\n",
    "y_pred = model.predict(X_te)\n",
    "print('MAE: {:,.0f}$'.format(MAE(10**y_te, 10**y_pred)))"
   ]
  },
  {
   "cell_type": "markdown",
   "id": "dce27f1d",
   "metadata": {},
   "source": [
    "This time, we get an MAE score around 14 thousand dollars which is similar to what we obtained in the previous units.\n",
    "\n",
    "The advantage of our pipeline is that we can easily switch to other outlier detection methods. It's not part of the course to know how the different detectors work, but it's important to know that Scikit-learn implements many advanced techniques that can be used out-of-the-box once we are familiar with the **transformers and estimators API.**\n",
    "\n",
    "The library also does a great job at documenting the different approaches. If you google sklearn outlier detection, you should get this page which documents them in the top results.\n",
    "\n",
    "https://scikit-learn.org/stable/modules/outlier_detection.html#overview-of-outlier-detection-methods\n",
    "\n"
   ]
  },
  {
   "cell_type": "code",
   "execution_count": 15,
   "id": "a083fc5c",
   "metadata": {},
   "outputs": [
    {
     "name": "stderr",
     "output_type": "stream",
     "text": [
      "C:\\Users\\lyeso\\anaconda3\\envs\\exts-ml\\lib\\site-packages\\sklearn\\ensemble\\iforest.py:417: DeprecationWarning: threshold_ attribute is deprecated in 0.20 and will be removed in 0.22.\n",
      "  \" be removed in 0.22.\", DeprecationWarning)\n"
     ]
    },
    {
     "name": "stdout",
     "output_type": "stream",
     "text": [
      "Outliers detected: 122 (10.0%)\n",
      "MAE: 14,442$\n"
     ]
    }
   ],
   "source": [
    "from sklearn.ensemble import IsolationForest\n",
    "from sklearn.pipeline import make_pipeline\n",
    "\n",
    "# Try with Isolation forests\n",
    "model2 = WithoutOutliersRegressor(\n",
    "    outlier_detector=make_pipeline(\n",
    "        preprocessor, IsolationForest(random_state=0)),\n",
    "    regressor=Pipeline([\n",
    "        ('preprocessor', preprocessor),\n",
    "        ('ridge', Ridge())\n",
    "    ])\n",
    ")\n",
    "model2.fit(X_tr, y_tr, verbose=True)\n",
    "\n",
    "# Evaluate predictions\n",
    "y_pred = model2.predict(X_te)\n",
    "print('MAE: {:,.0f}$'.format(MAE(10**y_te, 10**y_pred)))"
   ]
  },
  {
   "cell_type": "markdown",
   "id": "b7f43543",
   "metadata": {},
   "source": [
    "This time, we add our preprocessor before the IsolationForest using the make_pipeline() function to quickly create a Pipeline without having to name each step.\n",
    "\n",
    "As we can see, the isolation forest labels 10% of the data points as outliers and we get a slightly larger MAE score.\n",
    "\n",
    "### Summary\n",
    "In this unit, we saw how to create custom estimators with the example of outliers removal. Custom estimators can be particularly useful if we need to encapsulate tools from other libraries into our Scikit-learn workflow. **For instance, encapsulate ML methods from NLTK, TensorFlow or even our own algorithms.**\n",
    "\n",
    "In the next unit, we will discuss advanced transformations that can improve the performance of our models. This will end our tour of the Scikit-learn library and machine learning workflow.\n",
    "\n",
    "# Advanced transformations\n",
    "\n",
    "### This unit is optional\n",
    "Transforming a variable to make it more Gaussian-like is a common operation in machine learning. In this unit, we will see different ways to do it with Scikit-learn.\n",
    "\n",
    "We will take the house prices data set as an example and build a simple model with two features: the overall quality of the house and its ground living area.\n",
    "\n",
    "### Target transformation\n",
    "Let's start by loading the data"
   ]
  },
  {
   "cell_type": "code",
   "execution_count": 16,
   "id": "954a6fb8",
   "metadata": {},
   "outputs": [
    {
     "data": {
      "text/html": [
       "<div>\n",
       "<style scoped>\n",
       "    .dataframe tbody tr th:only-of-type {\n",
       "        vertical-align: middle;\n",
       "    }\n",
       "\n",
       "    .dataframe tbody tr th {\n",
       "        vertical-align: top;\n",
       "    }\n",
       "\n",
       "    .dataframe thead th {\n",
       "        text-align: right;\n",
       "    }\n",
       "</style>\n",
       "<table border=\"1\" class=\"dataframe\">\n",
       "  <thead>\n",
       "    <tr style=\"text-align: right;\">\n",
       "      <th></th>\n",
       "      <th>Order</th>\n",
       "      <th>PID</th>\n",
       "      <th>MS SubClass</th>\n",
       "      <th>MS Zoning</th>\n",
       "      <th>Lot Frontage</th>\n",
       "      <th>Lot Area</th>\n",
       "      <th>Street</th>\n",
       "      <th>Alley</th>\n",
       "      <th>Lot Shape</th>\n",
       "      <th>Land Contour</th>\n",
       "      <th>...</th>\n",
       "      <th>Pool Area</th>\n",
       "      <th>Pool QC</th>\n",
       "      <th>Fence</th>\n",
       "      <th>Misc Feature</th>\n",
       "      <th>Misc Val</th>\n",
       "      <th>Mo Sold</th>\n",
       "      <th>Yr Sold</th>\n",
       "      <th>Sale Type</th>\n",
       "      <th>Sale Condition</th>\n",
       "      <th>SalePrice</th>\n",
       "    </tr>\n",
       "  </thead>\n",
       "  <tbody>\n",
       "    <tr>\n",
       "      <th>0</th>\n",
       "      <td>484</td>\n",
       "      <td>528275070</td>\n",
       "      <td>60</td>\n",
       "      <td>RL</td>\n",
       "      <td>NaN</td>\n",
       "      <td>8795</td>\n",
       "      <td>Pave</td>\n",
       "      <td>NaN</td>\n",
       "      <td>IR1</td>\n",
       "      <td>Lvl</td>\n",
       "      <td>...</td>\n",
       "      <td>0</td>\n",
       "      <td>NaN</td>\n",
       "      <td>NaN</td>\n",
       "      <td>NaN</td>\n",
       "      <td>0</td>\n",
       "      <td>4</td>\n",
       "      <td>2009</td>\n",
       "      <td>WD</td>\n",
       "      <td>Normal</td>\n",
       "      <td>236000</td>\n",
       "    </tr>\n",
       "    <tr>\n",
       "      <th>1</th>\n",
       "      <td>2586</td>\n",
       "      <td>535305120</td>\n",
       "      <td>20</td>\n",
       "      <td>RL</td>\n",
       "      <td>75.0</td>\n",
       "      <td>10170</td>\n",
       "      <td>Pave</td>\n",
       "      <td>NaN</td>\n",
       "      <td>Reg</td>\n",
       "      <td>Lvl</td>\n",
       "      <td>...</td>\n",
       "      <td>0</td>\n",
       "      <td>NaN</td>\n",
       "      <td>NaN</td>\n",
       "      <td>NaN</td>\n",
       "      <td>0</td>\n",
       "      <td>6</td>\n",
       "      <td>2006</td>\n",
       "      <td>WD</td>\n",
       "      <td>Normal</td>\n",
       "      <td>155000</td>\n",
       "    </tr>\n",
       "    <tr>\n",
       "      <th>2</th>\n",
       "      <td>2289</td>\n",
       "      <td>923228250</td>\n",
       "      <td>160</td>\n",
       "      <td>RM</td>\n",
       "      <td>21.0</td>\n",
       "      <td>2001</td>\n",
       "      <td>Pave</td>\n",
       "      <td>NaN</td>\n",
       "      <td>Reg</td>\n",
       "      <td>Lvl</td>\n",
       "      <td>...</td>\n",
       "      <td>0</td>\n",
       "      <td>NaN</td>\n",
       "      <td>NaN</td>\n",
       "      <td>NaN</td>\n",
       "      <td>0</td>\n",
       "      <td>1</td>\n",
       "      <td>2007</td>\n",
       "      <td>WD</td>\n",
       "      <td>Normal</td>\n",
       "      <td>75000</td>\n",
       "    </tr>\n",
       "    <tr>\n",
       "      <th>3</th>\n",
       "      <td>142</td>\n",
       "      <td>535152150</td>\n",
       "      <td>20</td>\n",
       "      <td>RL</td>\n",
       "      <td>70.0</td>\n",
       "      <td>10552</td>\n",
       "      <td>Pave</td>\n",
       "      <td>NaN</td>\n",
       "      <td>IR1</td>\n",
       "      <td>Lvl</td>\n",
       "      <td>...</td>\n",
       "      <td>0</td>\n",
       "      <td>NaN</td>\n",
       "      <td>NaN</td>\n",
       "      <td>NaN</td>\n",
       "      <td>0</td>\n",
       "      <td>4</td>\n",
       "      <td>2010</td>\n",
       "      <td>WD</td>\n",
       "      <td>Normal</td>\n",
       "      <td>165500</td>\n",
       "    </tr>\n",
       "    <tr>\n",
       "      <th>4</th>\n",
       "      <td>2042</td>\n",
       "      <td>903475060</td>\n",
       "      <td>190</td>\n",
       "      <td>RM</td>\n",
       "      <td>60.0</td>\n",
       "      <td>10120</td>\n",
       "      <td>Pave</td>\n",
       "      <td>NaN</td>\n",
       "      <td>IR1</td>\n",
       "      <td>Bnk</td>\n",
       "      <td>...</td>\n",
       "      <td>0</td>\n",
       "      <td>NaN</td>\n",
       "      <td>MnPrv</td>\n",
       "      <td>NaN</td>\n",
       "      <td>0</td>\n",
       "      <td>1</td>\n",
       "      <td>2007</td>\n",
       "      <td>WD</td>\n",
       "      <td>Normal</td>\n",
       "      <td>122000</td>\n",
       "    </tr>\n",
       "  </tbody>\n",
       "</table>\n",
       "<p>5 rows × 82 columns</p>\n",
       "</div>"
      ],
      "text/plain": [
       "   Order        PID  MS SubClass MS Zoning  Lot Frontage  Lot Area Street  \\\n",
       "0    484  528275070           60        RL           NaN      8795   Pave   \n",
       "1   2586  535305120           20        RL          75.0     10170   Pave   \n",
       "2   2289  923228250          160        RM          21.0      2001   Pave   \n",
       "3    142  535152150           20        RL          70.0     10552   Pave   \n",
       "4   2042  903475060          190        RM          60.0     10120   Pave   \n",
       "\n",
       "  Alley Lot Shape Land Contour  ... Pool Area Pool QC  Fence Misc Feature  \\\n",
       "0   NaN       IR1          Lvl  ...         0     NaN    NaN          NaN   \n",
       "1   NaN       Reg          Lvl  ...         0     NaN    NaN          NaN   \n",
       "2   NaN       Reg          Lvl  ...         0     NaN    NaN          NaN   \n",
       "3   NaN       IR1          Lvl  ...         0     NaN    NaN          NaN   \n",
       "4   NaN       IR1          Bnk  ...         0     NaN  MnPrv          NaN   \n",
       "\n",
       "  Misc Val Mo Sold Yr Sold Sale Type  Sale Condition  SalePrice  \n",
       "0        0       4    2009       WD           Normal     236000  \n",
       "1        0       6    2006       WD           Normal     155000  \n",
       "2        0       1    2007       WD           Normal      75000  \n",
       "3        0       4    2010       WD           Normal     165500  \n",
       "4        0       1    2007       WD           Normal     122000  \n",
       "\n",
       "[5 rows x 82 columns]"
      ]
     },
     "execution_count": 16,
     "metadata": {},
     "output_type": "execute_result"
    }
   ],
   "source": [
    "import pandas as pd\n",
    "\n",
    "data_df = pd.read_csv('house-prices.csv')\n",
    "data_df.head()"
   ]
  },
  {
   "cell_type": "code",
   "execution_count": 17,
   "id": "bf6b21c2",
   "metadata": {},
   "outputs": [],
   "source": [
    "from sklearn.model_selection import train_test_split\n",
    "\n",
    "# Create X, y\n",
    "X = data_df[['Overall Qual', 'Gr Liv Area']]\n",
    "y = data_df.SalePrice\n",
    "\n",
    "# Split into train/test sets\n",
    "X_tr, X_te, y_tr, y_te = train_test_split(X, y, test_size=0.5, random_state=0)"
   ]
  },
  {
   "cell_type": "markdown",
   "id": "2e78162b",
   "metadata": {},
   "source": [
    "We already saw that the sale prices have a right-skewed distribution which can make the model biased toward expensive houses. One of the simplest ways to handle this problem is to apply a log-transform.\n",
    "\n",
    "In practice, we don't really want to do this transformation outside Scikit-learn which would imply that we have to manually transform y before calling model.fit() and apply the inverse transformation to predictions after model.predict() calls.\n",
    "\n",
    "To solve this issue, Scikit-learn implements a TransformedTargetRegressor which can automatically apply some transformation to the target variable."
   ]
  },
  {
   "cell_type": "code",
   "execution_count": 18,
   "id": "915cf366",
   "metadata": {},
   "outputs": [],
   "source": [
    "from sklearn.compose import TransformedTargetRegressor\n",
    "from sklearn.linear_model import LinearRegression\n",
    "import numpy as np\n",
    "\n",
    "regressor = TransformedTargetRegressor(\n",
    "    regressor=LinearRegression(), func=np.log, inverse_func=np.exp)"
   ]
  },
  {
   "cell_type": "markdown",
   "id": "303ab50d",
   "metadata": {},
   "source": [
    "The func attribute is the function that we want to apply before fitting the model, and the inverse_func one the inverse operation to transform the predictions."
   ]
  },
  {
   "cell_type": "code",
   "execution_count": 19,
   "id": "43573418",
   "metadata": {},
   "outputs": [],
   "source": [
    "# Make predictions\n",
    "regressor.fit(X_tr, y_tr)\n",
    "y_pred = regressor.predict(X_te)"
   ]
  },
  {
   "cell_type": "markdown",
   "id": "2fb4b71c",
   "metadata": {},
   "source": [
    "In this code, both y_tr and y_pred are prices in dollars - the transformation is done inside our regressor estimator.\n",
    "\n",
    "Let's verify that those two variables have more or less the same distribution. This is an easy way to detect when the model is not working properly."
   ]
  },
  {
   "cell_type": "code",
   "execution_count": 20,
   "id": "81e50fd9",
   "metadata": {},
   "outputs": [
    {
     "data": {
      "image/png": "[encoded data removed]",
      "text/plain": [
       "<Figure size 432x288 with 1 Axes>"
      ]
     },
     "metadata": {
      "needs_background": "light"
     },
     "output_type": "display_data"
    }
   ],
   "source": [
    "%matplotlib inline\n",
    "import matplotlib.pyplot as plt\n",
    "\n",
    "# Plot predictions\n",
    "plt.hist(y_te, bins=50, range=(0, 10**6), density=True, alpha=0.3, label='sale prices')\n",
    "plt.hist(y_pred, bins=50, range=(0, 10**6), density=True, alpha=0.3, label='predictions')\n",
    "plt.legend()\n",
    "plt.show()"
   ]
  },
  {
   "cell_type": "markdown",
   "id": "8d5479af",
   "metadata": {},
   "source": [
    "In this code, the density attribute normalizes the histograms such that they are proper probability distributions that we can compare. We also focus on houses with an observed and estimated price below 1 million by adjusting the range argument."
   ]
  },
  {
   "cell_type": "code",
   "execution_count": 21,
   "id": "8eb6b744",
   "metadata": {},
   "outputs": [
    {
     "name": "stdout",
     "output_type": "stream",
     "text": [
      "MAE: 25,412$\n"
     ]
    }
   ],
   "source": [
    "from sklearn.metrics import mean_absolute_error as MAE\n",
    "\n",
    "print('MAE: {:,.0f}$'.format(MAE(y_te, y_pred)))"
   ]
  },
  {
   "cell_type": "markdown",
   "id": "efa7ab2c",
   "metadata": {},
   "source": [
    "On average, our predictions are around 25 thousand dollars away from the observed price.\n",
    "\n",
    "### Other transformations\n",
    "The log-transform works really well when the variables have a skewed distribution. **More generally, there are several approaches to make a variable distribution more Gaussian-like.** It's out of the scope of this course to understand them in details, but **it's important to know that we can easily try them since we're now familiar with the transformer API.**\n",
    "\n",
    "or instance, let's try the QuantileTransformer one on the sale prices"
   ]
  },
  {
   "cell_type": "code",
   "execution_count": 22,
   "id": "df47ffe6",
   "metadata": {},
   "outputs": [
    {
     "name": "stdout",
     "output_type": "stream",
     "text": [
      "MAE: 24,728$\n"
     ]
    }
   ],
   "source": [
    "from sklearn.preprocessing import QuantileTransformer\n",
    "\n",
    "regressor = TransformedTargetRegressor(\n",
    "    regressor=LinearRegression(),\n",
    "    transformer=QuantileTransformer(output_distribution='normal', random_state=0))\n",
    "regressor.fit(X_tr, y_tr)\n",
    "print('MAE: {:,.0f}$'.format(MAE(y_te, regressor.predict(X_te))))"
   ]
  },
  {
   "cell_type": "markdown",
   "id": "9d581995",
   "metadata": {},
   "source": [
    "Let's also try adding the PowerTransformer one to the features."
   ]
  },
  {
   "cell_type": "code",
   "execution_count": 23,
   "id": "e6c8de84",
   "metadata": {},
   "outputs": [
    {
     "name": "stdout",
     "output_type": "stream",
     "text": [
      "MAE: 24,410$\n"
     ]
    }
   ],
   "source": [
    "from sklearn.preprocessing import PowerTransformer\n",
    "from sklearn.pipeline import make_pipeline\n",
    "\n",
    "regressor = TransformedTargetRegressor(\n",
    "    regressor=make_pipeline(PowerTransformer(), LinearRegression()),\n",
    "    transformer=QuantileTransformer(output_distribution='normal', random_state=0))\n",
    "regressor.fit(X_tr, y_tr)\n",
    "print('MAE: {:,.0f}$'.format(MAE(y_te, regressor.predict(X_te)))) "
   ]
  },
  {
   "cell_type": "markdown",
   "id": "ef9e8bd7",
   "metadata": {},
   "source": [
    "Again, we improved a bit the MAE which is now 24,410 dollars.\n",
    "\n",
    "To get a more exhaustive list of the preprocessing steps available in Scikit-learn, make sure to take a look at the Preprocessing Guide from the official website.\n",
    "\n",
    "https://scikit-learn.org/stable/modules/preprocessing.html"
   ]
  },
  {
   "cell_type": "code",
   "execution_count": null,
   "id": "dac2dbda",
   "metadata": {},
   "outputs": [],
   "source": []
  }
 ],
 "metadata": {
  "kernelspec": {
   "display_name": "Python 3",
   "language": "python",
   "name": "python3"
  },
  "language_info": {
   "codemirror_mode": {
    "name": "ipython",
    "version": 3
   },
   "file_extension": ".py",
   "mimetype": "text/x-python",
   "name": "python",
   "nbconvert_exporter": "python",
   "pygments_lexer": "ipython3",
   "version": "3.6.13"
  }
 },
 "nbformat": 4,
 "nbformat_minor": 5
}
