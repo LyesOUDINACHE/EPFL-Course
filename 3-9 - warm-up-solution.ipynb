{
 "cells": [
  {
   "cell_type": "markdown",
   "id": "3fcf6047",
   "metadata": {},
   "source": [
    "# Part 1 - Warm-Up\n",
    "\n",
    "# Task 1"
   ]
  },
  {
   "cell_type": "code",
   "execution_count": 110,
   "id": "c5924c6b",
   "metadata": {},
   "outputs": [],
   "source": [
    "%matplotlib inline\n",
    "import matplotlib.pyplot as plt\n",
    "import pandas as pd\n",
    "import numpy as np"
   ]
  },
  {
   "cell_type": "code",
   "execution_count": 111,
   "id": "89a51ade",
   "metadata": {},
   "outputs": [
    {
     "data": {
      "text/html": [
       "<div>\n",
       "<style scoped>\n",
       "    .dataframe tbody tr th:only-of-type {\n",
       "        vertical-align: middle;\n",
       "    }\n",
       "\n",
       "    .dataframe tbody tr th {\n",
       "        vertical-align: top;\n",
       "    }\n",
       "\n",
       "    .dataframe thead th {\n",
       "        text-align: right;\n",
       "    }\n",
       "</style>\n",
       "<table border=\"1\" class=\"dataframe\">\n",
       "  <thead>\n",
       "    <tr style=\"text-align: right;\">\n",
       "      <th></th>\n",
       "      <th>x</th>\n",
       "      <th>y</th>\n",
       "    </tr>\n",
       "  </thead>\n",
       "  <tbody>\n",
       "    <tr>\n",
       "      <th>0</th>\n",
       "      <td>10.529</td>\n",
       "      <td>39.105</td>\n",
       "    </tr>\n",
       "    <tr>\n",
       "      <th>1</th>\n",
       "      <td>10.799</td>\n",
       "      <td>40.584</td>\n",
       "    </tr>\n",
       "    <tr>\n",
       "      <th>2</th>\n",
       "      <td>11.698</td>\n",
       "      <td>39.883</td>\n",
       "    </tr>\n",
       "    <tr>\n",
       "      <th>3</th>\n",
       "      <td>12.851</td>\n",
       "      <td>39.411</td>\n",
       "    </tr>\n",
       "    <tr>\n",
       "      <th>4</th>\n",
       "      <td>13.565</td>\n",
       "      <td>40.760</td>\n",
       "    </tr>\n",
       "  </tbody>\n",
       "</table>\n",
       "</div>"
      ],
      "text/plain": [
       "        x       y\n",
       "0  10.529  39.105\n",
       "1  10.799  40.584\n",
       "2  11.698  39.883\n",
       "3  12.851  39.411\n",
       "4  13.565  40.760"
      ]
     },
     "execution_count": 111,
     "metadata": {},
     "output_type": "execute_result"
    }
   ],
   "source": [
    "# Load the data\n",
    "\n",
    "data_df = pd.read_csv('task-1.csv')\n",
    "data_df.head()"
   ]
  },
  {
   "cell_type": "code",
   "execution_count": 112,
   "id": "a322ba2a",
   "metadata": {},
   "outputs": [
    {
     "data": {
      "image/png": "[encoded data removed]",
      "text/plain": [
       "<Figure size 432x288 with 1 Axes>"
      ]
     },
     "metadata": {
      "needs_background": "light"
     },
     "output_type": "display_data"
    }
   ],
   "source": [
    "plt.scatter(data_df.x,data_df.y)\n",
    "plt.show()"
   ]
  },
  {
   "cell_type": "code",
   "execution_count": 113,
   "id": "0b0ec204",
   "metadata": {},
   "outputs": [
    {
     "data": {
      "image/png": "[encoded data removed]",
      "text/plain": [
       "<Figure size 432x288 with 1 Axes>"
      ]
     },
     "metadata": {
      "needs_background": "light"
     },
     "output_type": "display_data"
    }
   ],
   "source": [
    "plt.scatter(np.log(data_df.x),data_df.y)\n",
    "plt.show()"
   ]
  },
  {
   "cell_type": "code",
   "execution_count": 114,
   "id": "b26c8bf9",
   "metadata": {},
   "outputs": [],
   "source": [
    "# LinearRegression uses OLS to optimize RSS\n",
    "from sklearn.linear_model import LinearRegression\n"
   ]
  },
  {
   "cell_type": "code",
   "execution_count": 115,
   "id": "3f40019d",
   "metadata": {},
   "outputs": [],
   "source": [
    "def RSS(y, y_pred):\n",
    "    return np.sum(np.square(y - y_pred))"
   ]
  },
  {
   "cell_type": "code",
   "execution_count": 116,
   "id": "4bca5d6c",
   "metadata": {},
   "outputs": [
    {
     "name": "stdout",
     "output_type": "stream",
     "text": [
      "(50,)\n",
      "(50,)\n"
     ]
    }
   ],
   "source": [
    "# Uing polyfit as we have only one entry\n",
    "linreg = LinearRegression()\n",
    "\n",
    "x1 = np.log(data_df.x).values\n",
    "\n",
    "y1 = data_df.y.values\n",
    "\n",
    "print(x1.shape)\n",
    "print(y1.shape)"
   ]
  },
  {
   "cell_type": "code",
   "execution_count": 117,
   "id": "641062f2",
   "metadata": {},
   "outputs": [
    {
     "data": {
      "text/plain": [
       "LinearRegression(copy_X=True, fit_intercept=True, n_jobs=None,\n",
       "         normalize=False)"
      ]
     },
     "execution_count": 117,
     "metadata": {},
     "output_type": "execute_result"
    }
   ],
   "source": [
    "# Fit it\n",
    "X1 =x1[:,np.newaxis]\n",
    "linreg.fit(X1, y1)"
   ]
  },
  {
   "cell_type": "code",
   "execution_count": 118,
   "id": "f66cdafa",
   "metadata": {},
   "outputs": [
    {
     "name": "stdout",
     "output_type": "stream",
     "text": [
      "Coefficients: [ 3.390241   31.52920122]\n"
     ]
    }
   ],
   "source": [
    "coefs = np.polyfit(x1, y1, deg=1)\n",
    "print('Coefficients:', coefs)"
   ]
  },
  {
   "cell_type": "code",
   "execution_count": 119,
   "id": "f51dbc0d",
   "metadata": {},
   "outputs": [],
   "source": [
    "# Generate a hundred data points between min(x) and max(x)\n",
    "x_values = np.linspace(min(x1), max(x1), num=100)\n",
    "# Compute predictions for these sample data points\n",
    "    # Using Polyfit / Polyval\n",
    "y_values_poly = np.polyval(coefs, x_values)\n",
    "    # Using LinearRegression\n",
    "y_values_linreg = linreg.predict(x_values[:,np.newaxis])"
   ]
  },
  {
   "cell_type": "code",
   "execution_count": 120,
   "id": "a8193084",
   "metadata": {},
   "outputs": [
    {
     "data": {
      "image/png": "[encoded data removed]",
      "text/plain": [
       "<Figure size 432x288 with 1 Axes>"
      ]
     },
     "metadata": {
      "needs_background": "light"
     },
     "output_type": "display_data"
    }
   ],
   "source": [
    "plt.scatter(np.exp(x1), y1, s=20, label=None)\n",
    "plt.plot(np.exp(x_values), y_values_poly, c='C3', label='polyfit(log(x), y, deg=1)')\n",
    "plt.plot(np.exp(x_values), y_values_linreg, c='C1', label='linreg')\n",
    "plt.legend()\n",
    "plt.show()"
   ]
  },
  {
   "cell_type": "code",
   "execution_count": 121,
   "id": "0fda344c",
   "metadata": {},
   "outputs": [
    {
     "name": "stdout",
     "output_type": "stream",
     "text": [
      "LinearRegression 31.842651752756762\n",
      "PolyFit 31.842651752756687\n",
      "Mean Baseline 541.1432872199999\n"
     ]
    }
   ],
   "source": [
    "    # Using Polyfit / Polyval\n",
    "y_pred_poly = np.polyval(coefs, x1)\n",
    "    # Using LinearRegression\n",
    "y_pred_linreg = linreg.predict(x1[:,np.newaxis])\n",
    "\n",
    "RSS_linreg = RSS(y1 ,y_pred_linreg)\n",
    "RSS_poly =RSS(y1 , y_pred_poly)\n",
    "RSS_baseline = RSS(y1 , np.mean(y1))\n",
    "\n",
    "print('LinearRegression',RSS_linreg)\n",
    "print('PolyFit',RSS_poly)\n",
    "print('Mean Baseline', RSS_baseline)\n",
    "\n"
   ]
  },
  {
   "cell_type": "markdown",
   "id": "4ecd2438",
   "metadata": {},
   "source": [
    "As we can see, LinearRegression and Polyval/Fit have the same result, which makes sense as they both use analytical method OLS to optimize RSS analytically, so we do not have the \"randomness\" of a gradient descent for example.\n",
    "\n",
    "### R2 measure : \n"
   ]
  },
  {
   "cell_type": "code",
   "execution_count": 140,
   "id": "5ef264aa",
   "metadata": {},
   "outputs": [
    {
     "data": {
      "text/plain": [
       "0.9411567093138288"
      ]
     },
     "execution_count": 140,
     "metadata": {},
     "output_type": "execute_result"
    }
   ],
   "source": [
    "R2 = 1 - RSS_poly / RSS_baseline\n",
    "R2"
   ]
  },
  {
   "cell_type": "markdown",
   "id": "cccaa321",
   "metadata": {},
   "source": [
    "### Conlusion\n",
    "\n",
    "Indeed, the R2 is very close to 1 (0.94) so it is a quite good result which is explained by the 541 for the mean Baseline vs 32 for LinearRegression. (I also noticed the median baseline have the almost exact same RSS..)\n",
    "\n",
    "# Task 2"
   ]
  },
  {
   "cell_type": "code",
   "execution_count": 239,
   "id": "68960224",
   "metadata": {},
   "outputs": [
    {
     "data": {
      "text/html": [
       "<div>\n",
       "<style scoped>\n",
       "    .dataframe tbody tr th:only-of-type {\n",
       "        vertical-align: middle;\n",
       "    }\n",
       "\n",
       "    .dataframe tbody tr th {\n",
       "        vertical-align: top;\n",
       "    }\n",
       "\n",
       "    .dataframe thead th {\n",
       "        text-align: right;\n",
       "    }\n",
       "</style>\n",
       "<table border=\"1\" class=\"dataframe\">\n",
       "  <thead>\n",
       "    <tr style=\"text-align: right;\">\n",
       "      <th></th>\n",
       "      <th>x1</th>\n",
       "      <th>x2</th>\n",
       "      <th>x3</th>\n",
       "      <th>y</th>\n",
       "    </tr>\n",
       "  </thead>\n",
       "  <tbody>\n",
       "    <tr>\n",
       "      <th>0</th>\n",
       "      <td>7.892</td>\n",
       "      <td>318.818</td>\n",
       "      <td>162.970</td>\n",
       "      <td>2112.420</td>\n",
       "    </tr>\n",
       "    <tr>\n",
       "      <th>1</th>\n",
       "      <td>8.830</td>\n",
       "      <td>303.180</td>\n",
       "      <td>181.399</td>\n",
       "      <td>2096.231</td>\n",
       "    </tr>\n",
       "    <tr>\n",
       "      <th>2</th>\n",
       "      <td>13.811</td>\n",
       "      <td>296.231</td>\n",
       "      <td>145.849</td>\n",
       "      <td>2067.045</td>\n",
       "    </tr>\n",
       "    <tr>\n",
       "      <th>3</th>\n",
       "      <td>12.863</td>\n",
       "      <td>325.830</td>\n",
       "      <td>167.996</td>\n",
       "      <td>2269.262</td>\n",
       "    </tr>\n",
       "    <tr>\n",
       "      <th>4</th>\n",
       "      <td>13.698</td>\n",
       "      <td>254.035</td>\n",
       "      <td>171.892</td>\n",
       "      <td>1966.604</td>\n",
       "    </tr>\n",
       "  </tbody>\n",
       "</table>\n",
       "</div>"
      ],
      "text/plain": [
       "       x1       x2       x3         y\n",
       "0   7.892  318.818  162.970  2112.420\n",
       "1   8.830  303.180  181.399  2096.231\n",
       "2  13.811  296.231  145.849  2067.045\n",
       "3  12.863  325.830  167.996  2269.262\n",
       "4  13.698  254.035  171.892  1966.604"
      ]
     },
     "execution_count": 239,
     "metadata": {},
     "output_type": "execute_result"
    }
   ],
   "source": [
    "from sklearn.metrics import mean_absolute_error as MAE\n",
    "\n",
    "# Load the data\n",
    "\n",
    "data_df = pd.read_csv('task-2.csv')\n",
    "data_df.head()\n",
    "\n"
   ]
  },
  {
   "cell_type": "code",
   "execution_count": 261,
   "id": "2c9f1b49",
   "metadata": {},
   "outputs": [],
   "source": [
    "from sklearn.model_selection import train_test_split\n",
    "\n",
    "# Split into train/test sets\n",
    "X = data_df.drop('y', axis=1).values\n",
    "y = data_df.y.values\n",
    "X_tr, X_te, y_tr, y_te = train_test_split(X, y, test_size=0.2, random_state=2)\n"
   ]
  },
  {
   "cell_type": "code",
   "execution_count": 262,
   "id": "987ab950",
   "metadata": {},
   "outputs": [],
   "source": [
    "# Remove outliers\n",
    "# Compute z-scores\n",
    "z_scores = (y_tr - np.mean(y_tr)) / np.std(y_tr)\n",
    "z_scores_te = (y_te - np.mean(y_tr)) / np.std(y_tr)\n",
    "\n",
    "# Detect \"extreme\" data points\n",
    "# 2 standard deviations away form the mean\n",
    "idx = np.abs(z_scores) < 2\n",
    "idx_te = np.abs(z_scores_te) < 2\n",
    "\n",
    "# Remove them\n",
    "X_tr2, y_tr2 = X_tr[idx], y_tr[idx]\n",
    "X_te2, y_te2 = X_te[idx_te], y_te[idx_te]"
   ]
  },
  {
   "cell_type": "code",
   "execution_count": 263,
   "id": "87d232f2",
   "metadata": {},
   "outputs": [
    {
     "data": {
      "text/plain": [
       "HuberRegressor(alpha=0.0001, epsilon=1.35, fit_intercept=True, max_iter=100,\n",
       "        tol=1e-05, warm_start=False)"
      ]
     },
     "execution_count": 263,
     "metadata": {},
     "output_type": "execute_result"
    }
   ],
   "source": [
    "# With Outliers\n",
    "linreg = LinearRegression()\n",
    "# Fit it\n",
    "linreg.fit(X_tr, y_tr);\n",
    "\n",
    "from sklearn.linear_model import HuberRegressor\n",
    "# Create a linear regression with Huber loss\n",
    "lr_huber = HuberRegressor(epsilon=1.35)\n",
    "lr_huber.fit(X_tr, y_tr)"
   ]
  },
  {
   "cell_type": "code",
   "execution_count": 264,
   "id": "8fbcf21f",
   "metadata": {},
   "outputs": [],
   "source": [
    "# Without Outliers\n",
    "linreg_wo = LinearRegression()\n",
    "\n",
    "# Fit it\n",
    "linreg_wo.fit(X_tr2, y_tr2);"
   ]
  },
  {
   "cell_type": "code",
   "execution_count": 265,
   "id": "76e1809d",
   "metadata": {},
   "outputs": [],
   "source": [
    "y_pred_lreg = linreg.predict(X_te)\n",
    "y_pred_lreg_wo = linreg_wo.predict(X_te2)\n",
    "y_pred_huber = lr_huber.predict(X_te)"
   ]
  },
  {
   "cell_type": "code",
   "execution_count": 266,
   "id": "b8cba5be",
   "metadata": {},
   "outputs": [
    {
     "data": {
      "text/plain": [
       "(764, 3)"
      ]
     },
     "execution_count": 266,
     "metadata": {},
     "output_type": "execute_result"
    }
   ],
   "source": [
    "X_tr2.shape"
   ]
  },
  {
   "cell_type": "code",
   "execution_count": 267,
   "id": "36d5c501",
   "metadata": {},
   "outputs": [
    {
     "name": "stdout",
     "output_type": "stream",
     "text": [
      "with outliers 119.1569743994203\n",
      "without outliers 112.43420098677147\n",
      "huber loss 99.60294918220715\n"
     ]
    }
   ],
   "source": [
    "MAE_lreg = MAE(y_te,y_pred_lreg)\n",
    "MAE_lreg_wo = MAE(y_te2,y_pred_lreg_wo)\n",
    "MAE_huber = MAE(y_te,y_pred_huber)\n",
    "\n",
    "print('with outliers',MAE_lreg)\n",
    "print('without outliers',MAE_lreg_wo)\n",
    "print('huber loss',MAE_huber)"
   ]
  },
  {
   "cell_type": "code",
   "execution_count": null,
   "id": "4ea70541",
   "metadata": {},
   "outputs": [],
   "source": []
  },
  {
   "cell_type": "code",
   "execution_count": null,
   "id": "d76bc4cd",
   "metadata": {},
   "outputs": [],
   "source": []
  }
 ],
 "metadata": {
  "kernelspec": {
   "display_name": "Python 3",
   "language": "python",
   "name": "python3"
  },
  "language_info": {
   "codemirror_mode": {
    "name": "ipython",
    "version": 3
   },
   "file_extension": ".py",
   "mimetype": "text/x-python",
   "name": "python",
   "nbconvert_exporter": "python",
   "pygments_lexer": "ipython3",
   "version": "3.6.13"
  }
 },
 "nbformat": 4,
 "nbformat_minor": 5
}
