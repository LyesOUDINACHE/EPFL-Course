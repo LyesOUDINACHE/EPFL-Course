{
 "cells": [
  {
   "cell_type": "markdown",
   "metadata": {},
   "source": [
    "Gradient descent\n",
    "---"
   ]
  },
  {
   "cell_type": "markdown",
   "metadata": {},
   "source": [
    "Exercise - Fit a linear regression with OLS\n",
    "---\n",
    "\n",
    "> **Exercise**: Load the train and test sets. Fit a linear regression using OLS with the `LinearRegression` object from Scikit-learn. Compute the train and test RMSE scores."
   ]
  },
  {
   "cell_type": "code",
   "execution_count": 1,
   "metadata": {},
   "outputs": [
    {
     "name": "stdout",
     "output_type": "stream",
     "text": [
      "train : (365, 10)\n",
      "test : (366, 10)\n"
     ]
    }
   ],
   "source": [
    "# Load train/test data\n",
    "import pandas as pd\n",
    "import os\n",
    "\n",
    "train_df = pd.read_csv(os.path.join('bike-train.csv'))\n",
    "test_df = pd.read_csv(os.path.join('bike-test.csv'))\n",
    "print('train :',train_df.shape)\n",
    "print('test :',test_df.shape)"
   ]
  },
  {
   "cell_type": "code",
   "execution_count": 2,
   "metadata": {},
   "outputs": [],
   "source": [
    "import numpy as np\n",
    "\n",
    "# Remove collinear features\n",
    "features = [\n",
    "    'temp', 'hum', 'windspeed', 'yr', 'workingday', 'holiday', \n",
    "    #'atemp', # Nearly collinear column, may hurt performance\n",
    "    #'temp_C', 'atemp_C' # Collinear columns\n",
    "]\n",
    "# Extract X/y Numpy variables\n",
    "X_tr = train_df[features].values\n",
    "y_tr = train_df.casual.values\n",
    "\n",
    "X_te = test_df[features].values\n",
    "y_te = test_df.casual.values\n"
   ]
  },
  {
   "cell_type": "code",
   "execution_count": 3,
   "metadata": {},
   "outputs": [],
   "source": [
    "# Implement RMSE\n",
    "def rmse(y, y_pred):\n",
    "    return np.sqrt(np.mean(np.square(y - y_pred)))"
   ]
  },
  {
   "cell_type": "code",
   "execution_count": 4,
   "metadata": {},
   "outputs": [
    {
     "name": "stdout",
     "output_type": "stream",
     "text": [
      "Linear regression (OLS) - train RMSE: 397.42\n",
      "Linear regression (OLS) - test RMSE: 388.70\n"
     ]
    }
   ],
   "source": [
    "from sklearn.linear_model import LinearRegression\n",
    "\n",
    "# Fit a linear regression using OLS\n",
    "lr = LinearRegression()\n",
    "lr.fit(X_tr, y_tr) # Fit to train data\n",
    "\n",
    "y_pred_lr_tr = lr.predict(X_tr)\n",
    "y_pred_lr_te = lr.predict(X_te)\n",
    "\n",
    "# Evaluate model\n",
    "lr_rmse_tr = rmse(y_tr, y_pred_lr_tr)\n",
    "lr_rmse_te = rmse(y_te, y_pred_lr_te)\n",
    "\n",
    "print('Linear regression (OLS) - train RMSE: {:.2f}'.format(lr_rmse_tr))\n",
    "print('Linear regression (OLS) - test RMSE: {:.2f}'.format(lr_rmse_te))"
   ]
  },
  {
   "cell_type": "markdown",
   "metadata": {},
   "source": [
    "Exercise - Fit a linear regression with gradient descent\n",
    "---\n",
    "\n",
    "> **Exercise**: Standardize the features using the train data, i.e., train mean and standard deviation. Fit a linear regression to the train data with gradient descent and evaluate its performance on the test data.\n",
    "\n",
    "**Hint**: Test different different learning rates, e.g., 0.01, 0.1, 0.5"
   ]
  },
  {
   "cell_type": "code",
   "execution_count": 5,
   "metadata": {},
   "outputs": [],
   "source": [
    "# Standardize features using train mean and standard deviation\n",
    "X_tr_stand = (X_tr - X_tr.mean(axis=0)) / X_tr.std(axis=0)\n",
    "X_te_stand = (X_te - X_tr.mean(axis=0)) / X_tr.std(axis=0)"
   ]
  },
  {
   "cell_type": "code",
   "execution_count": 6,
   "metadata": {},
   "outputs": [],
   "source": [
    "# Add column of ones\n",
    "X_tr_stand1 = np.c_[np.ones(X_tr_stand.shape[0]), X_tr_stand]\n",
    "X_te_stand1 = np.c_[np.ones(X_te_stand.shape[0]), X_te_stand]"
   ]
  },
  {
   "cell_type": "code",
   "execution_count": 7,
   "metadata": {},
   "outputs": [
    {
     "name": "stdout",
     "output_type": "stream",
     "text": [
      "Linear regression (GD) - train RMSE: 397.42\n",
      "Linear regression (GD) - test RMSE: 388.70\n"
     ]
    }
   ],
   "source": [
    "# CORRECTION\n",
    "# Implement gradient descent\n",
    "def gd(X, y, lr, n_steps):\n",
    "    # Initialize vector of parameters\n",
    "    w = np.zeros(X.shape[1])\n",
    "    \n",
    "    # Log RMSE at each step\n",
    "    log_rmse = []\n",
    "    \n",
    "    # Perform n_steps iterations\n",
    "    for step in range(n_steps):\n",
    "        # Compute the predictions\n",
    "        y_pred = np.matmul(X, w)\n",
    "\n",
    "        # Gradient for linear regression with MSE\n",
    "        error = y-y_pred\n",
    "        gradient = -2*np.matmul(X.T, error)/X.shape[0]\n",
    "\n",
    "        # Update the vector of parameters\n",
    "        w -= lr*gradient\n",
    "        \n",
    "        # Log RMSE value\n",
    "        log_rmse.append(rmse(y, y_pred))\n",
    "        \n",
    "    # Return vector of parameters and last RMSE value\n",
    "    return w, log_rmse[-1]\n",
    "\n",
    "# Fit linear regression\n",
    "w, gd_rmse_tr = gd(X_tr_stand1, y_tr, lr=0.1, n_steps=500)\n",
    "\n",
    "# Evaluate model\n",
    "y_pred_te = np.matmul(X_te_stand1, w)\n",
    "gd_rmse_te = rmse(y_te, y_pred_te)\n",
    "\n",
    "print('Linear regression (GD) - train RMSE: {:.2f}'.format(gd_rmse_tr))\n",
    "print('Linear regression (GD) - test RMSE: {:.2f}'.format(gd_rmse_te))"
   ]
  },
  {
   "cell_type": "code",
   "execution_count": 11,
   "metadata": {},
   "outputs": [
    {
     "name": "stdout",
     "output_type": "stream",
     "text": [
      "Linear regression (GD) - train RMSE: 397.42\n",
      "Linear regression (GD) - test RMSE: 388.70\n"
     ]
    }
   ],
   "source": [
    "# Fit linear regression\n",
    "w, gd_rmse_tr = gd(X_tr_stand1, y_tr, lr=0.5, n_steps=500)\n",
    "\n",
    "# Evaluate model\n",
    "y_pred_te = np.matmul(X_te_stand1, w)\n",
    "gd_rmse_te = rmse(y_te, y_pred_te)\n",
    "\n",
    "print('Linear regression (GD) - train RMSE: {:.2f}'.format(gd_rmse_tr))\n",
    "print('Linear regression (GD) - test RMSE: {:.2f}'.format(gd_rmse_te))"
   ]
  },
  {
   "cell_type": "code",
   "execution_count": null,
   "metadata": {},
   "outputs": [],
   "source": []
  }
 ],
 "metadata": {
  "kernelspec": {
   "display_name": "Python 3",
   "language": "python",
   "name": "python3"
  },
  "language_info": {
   "codemirror_mode": {
    "name": "ipython",
    "version": 3
   },
   "file_extension": ".py",
   "mimetype": "text/x-python",
   "name": "python",
   "nbconvert_exporter": "python",
   "pygments_lexer": "ipython3",
   "version": "3.6.12"
  }
 },
 "nbformat": 4,
 "nbformat_minor": 4
}
