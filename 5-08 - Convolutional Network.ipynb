{
 "cells": [
  {
   "cell_type": "markdown",
   "id": "603cf725",
   "metadata": {},
   "source": [
    "# Convolutional Networks\n",
    "\n",
    "### Load data"
   ]
  },
  {
   "cell_type": "code",
   "execution_count": 1,
   "id": "7161f9b5",
   "metadata": {},
   "outputs": [
    {
     "name": "stderr",
     "output_type": "stream",
     "text": [
      "C:\\Users\\lyeso\\anaconda3\\envs\\exts-ml\\lib\\site-packages\\h5py\\__init__.py:36: FutureWarning: Conversion of the second argument of issubdtype from `float` to `np.floating` is deprecated. In future, it will be treated as `np.float64 == np.dtype(float).type`.\n",
      "  from ._conv import register_converters as _register_converters\n",
      "WARNING:absl:Some hub symbols are not available because TensorFlow version is less than 1.14\n"
     ]
    }
   ],
   "source": [
    "import tensorflow as tf\n",
    "import tensorflow.keras as keras\n",
    "from tensorflow.keras import backend as K\n",
    "from tensorflow.keras.preprocessing.image import ImageDataGenerator\n",
    "import tensorflow_hub as hub\n",
    "import os\n",
    "import PIL.Image as Image\n",
    "import numpy as np\n",
    "import matplotlib.pyplot as plt\n",
    "import numpy as np\n",
    "import pandas as pd\n",
    "from sklearn.preprocessing import StandardScaler\n",
    "import sklearn as skl\n",
    "\n",
    "os.environ[\"CUDA_VISIBLE_DEVICES\"]= \"-1\" # Force Tensorflow on CPU instead of GPU (seems to avoid an error with my CUDA compatible GPU)"
   ]
  },
  {
   "cell_type": "code",
   "execution_count": 2,
   "id": "c6921a1c",
   "metadata": {},
   "outputs": [],
   "source": [
    "# Load training data form NPZ file\n",
    "\n",
    "train_data = \"train.npz\"\n",
    "X_tr = np.load(train_data)[\"features\"]\n",
    "y_tr = np.load(train_data)[\"labels\"]\n",
    "images_tr = np.load(train_data)[\"pixels\"]\n",
    "names_tr = np.load(train_data)[\"names\"]\n",
    "\n",
    "valid_data = \"valid.npz\"\n",
    "X_val= np.load(valid_data)[\"features\"]\n",
    "y_val = np.load(valid_data)[\"labels\"]\n",
    "images_val = np.load(valid_data)[\"pixels\"]\n",
    "names_val = np.load(valid_data)[\"names\"]\n",
    "\n",
    "test_data = \"test.npz\"\n",
    "X_te= np.load(test_data)[\"features\"]\n",
    "y_te = np.load(test_data)[\"labels\"]\n",
    "images_te = np.load(test_data)[\"pixels\"]\n",
    "names_te = np.load(test_data)[\"names\"]\n",
    "\n",
    "# Create a dictionnary for labels\n",
    "labels_dict = {0: 'bike', 1 : 'car', 2: 'motorcycle', 3: 'other', 4:'truck', 5: 'van'}"
   ]
  },
  {
   "cell_type": "code",
   "execution_count": 18,
   "id": "37b8a403",
   "metadata": {},
   "outputs": [
    {
     "data": {
      "text/plain": [
       "(299, 299, 3)"
      ]
     },
     "execution_count": 18,
     "metadata": {},
     "output_type": "execute_result"
    }
   ],
   "source": [
    "images_tr[0].shape"
   ]
  },
  {
   "cell_type": "markdown",
   "id": "7ae98c81",
   "metadata": {},
   "source": [
    "### Let's use the train generator to have more images to train on and use in the Convolutional Network."
   ]
  },
  {
   "cell_type": "code",
   "execution_count": 3,
   "id": "df14350d",
   "metadata": {},
   "outputs": [],
   "source": [
    "# Create image generator\n",
    "train_generator = ImageDataGenerator(rescale=1/255, rotation_range = 10, horizontal_flip = True, vertical_flip = False, zoom_range = 0.2)\n",
    "test_generator = ImageDataGenerator(rescale=1/255)"
   ]
  },
  {
   "cell_type": "code",
   "execution_count": 20,
   "id": "267e7d9a",
   "metadata": {},
   "outputs": [
    {
     "name": "stdout",
     "output_type": "stream",
     "text": [
      "Found 280 images belonging to 6 classes.\n",
      "Found 139 images belonging to 6 classes.\n",
      "Found 50 images belonging to 6 classes.\n"
     ]
    }
   ],
   "source": [
    "# Train, validation and test sets\n",
    "\n",
    "\n",
    "# class_mode = categorical to have a one hot encoded \"y\" output.\n",
    "\n",
    "trainset = train_generator.flow_from_directory(\n",
    "    os.path.join('Course Project - SwissRoads', 'train'), batch_size =500,\n",
    "    shuffle=True, color_mode='rgb', class_mode = 'categorical') \n",
    "\n",
    "validset = test_generator.flow_from_directory(\n",
    "    os.path.join('Course Project - SwissRoads', 'valid'),batch_size =500,\n",
    "    shuffle=False, color_mode='rgb', class_mode = 'categorical')\n",
    "testset = test_generator.flow_from_directory(\n",
    "    os.path.join('Course Project - SwissRoads', 'test'),batch_size =500,\n",
    "    shuffle=False,color_mode='rgb', class_mode = 'categorical')"
   ]
  },
  {
   "cell_type": "code",
   "execution_count": 22,
   "id": "ff996f59",
   "metadata": {},
   "outputs": [],
   "source": []
  },
  {
   "cell_type": "code",
   "execution_count": 24,
   "id": "c8a5dd50",
   "metadata": {},
   "outputs": [
    {
     "data": {
      "text/plain": [
       "(280, 256, 256, 3)"
      ]
     },
     "execution_count": 24,
     "metadata": {},
     "output_type": "execute_result"
    }
   ],
   "source": []
  },
  {
   "cell_type": "code",
   "execution_count": null,
   "id": "74b4fcd2",
   "metadata": {},
   "outputs": [],
   "source": []
  },
  {
   "cell_type": "markdown",
   "id": "4d6bce25",
   "metadata": {},
   "source": [
    "### Let's create a 2 layers convolutional network"
   ]
  },
  {
   "cell_type": "code",
   "execution_count": null,
   "id": "f2f00d2c",
   "metadata": {},
   "outputs": [],
   "source": []
  },
  {
   "cell_type": "code",
   "execution_count": 21,
   "id": "b34d1c83",
   "metadata": {},
   "outputs": [],
   "source": [
    "from tensorflow.keras.layers import Dropout"
   ]
  },
  {
   "cell_type": "code",
   "execution_count": 25,
   "id": "50a45d23",
   "metadata": {},
   "outputs": [
    {
     "name": "stdout",
     "output_type": "stream",
     "text": [
      "_________________________________________________________________\n",
      "Layer (type)                 Output Shape              Param #   \n",
      "=================================================================\n",
      "conv2d_7 (Conv2D)            (None, 84, 84, 128)       9728      \n",
      "_________________________________________________________________\n",
      "max_pooling2d_7 (MaxPooling2 (None, 42, 42, 128)       0         \n",
      "_________________________________________________________________\n",
      "conv2d_8 (Conv2D)            (None, 20, 20, 64)        73792     \n",
      "_________________________________________________________________\n",
      "max_pooling2d_8 (MaxPooling2 (None, 10, 10, 64)        0         \n",
      "_________________________________________________________________\n",
      "conv2d_9 (Conv2D)            (None, 9, 9, 16)          4112      \n",
      "_________________________________________________________________\n",
      "max_pooling2d_9 (MaxPooling2 (None, 4, 4, 16)          0         \n",
      "_________________________________________________________________\n",
      "flatten_3 (Flatten)          (None, 256)               0         \n",
      "_________________________________________________________________\n",
      "dropout_3 (Dropout)          (None, 256)               0         \n",
      "_________________________________________________________________\n",
      "dense_3 (Dense)              (None, 6)                 1542      \n",
      "=================================================================\n",
      "Total params: 89,174\n",
      "Trainable params: 89,174\n",
      "Non-trainable params: 0\n",
      "_________________________________________________________________\n"
     ]
    }
   ],
   "source": [
    "# Convolutional Network\n",
    "\n",
    "model = keras.Sequential()\n",
    "\n",
    "\n",
    "model.add(keras.layers.Conv2D(filters=128, kernel_size=5, strides=3, activation='relu', input_shape=(256, 256, 3)))\n",
    "\n",
    "model.add(keras.layers.MaxPool2D(pool_size=2))\n",
    "\n",
    "\n",
    "model.add(keras.layers.Conv2D(filters=64, kernel_size=3, strides=2, activation='relu'))\n",
    "\n",
    "model.add(keras.layers.MaxPool2D(pool_size=2))\n",
    "\n",
    "\n",
    "model.add(keras.layers.Conv2D(filters=16, kernel_size=2, strides=1, activation='relu'))\n",
    "\n",
    "model.add(keras.layers.MaxPool2D(pool_size=2))\n",
    "\n",
    "\n",
    "model.add(keras.layers.Flatten())\n",
    "model.add(Dropout(rate=0.3)) # because of overfitting\n",
    "\n",
    "model.add(keras.layers.Dense(units=trainset.num_classes, activation='softmax'))\n",
    "\n",
    "\n",
    "model.summary()"
   ]
  },
  {
   "cell_type": "code",
   "execution_count": 26,
   "id": "76cb925c",
   "metadata": {},
   "outputs": [],
   "source": [
    "# Compile the model\n",
    "model.compile(optimizer=keras.optimizers.Adam(), loss='categorical_crossentropy', metrics=['acc'])"
   ]
  },
  {
   "cell_type": "code",
   "execution_count": 27,
   "id": "1dfc67cc",
   "metadata": {},
   "outputs": [],
   "source": [
    "# End training when accuracy stops improving (optional)\n",
    "early_stopping = keras.callbacks.EarlyStopping(monitor='val_loss', patience=6)"
   ]
  },
  {
   "cell_type": "code",
   "execution_count": 28,
   "id": "049ec5ec",
   "metadata": {},
   "outputs": [
    {
     "data": {
      "text/plain": [
       "6"
      ]
     },
     "execution_count": 28,
     "metadata": {},
     "output_type": "execute_result"
    }
   ],
   "source": [
    "trainset.num_classes"
   ]
  },
  {
   "cell_type": "code",
   "execution_count": 29,
   "id": "7c1e11db",
   "metadata": {},
   "outputs": [
    {
     "name": "stdout",
     "output_type": "stream",
     "text": [
      "Epoch 1/50\n",
      "1/1 [==============================] - 9s 9s/step - loss: 1.7971 - acc: 0.1750 - val_loss: 1.7806 - val_acc: 0.2230\n",
      "Epoch 2/50\n",
      "1/1 [==============================] - 6s 6s/step - loss: 1.7747 - acc: 0.2107 - val_loss: 1.7562 - val_acc: 0.2734\n",
      "Epoch 3/50\n",
      "1/1 [==============================] - 6s 6s/step - loss: 1.7789 - acc: 0.1857 - val_loss: 1.7477 - val_acc: 0.3165\n",
      "Epoch 4/50\n",
      "1/1 [==============================] - 6s 6s/step - loss: 1.7494 - acc: 0.2786 - val_loss: 1.7393 - val_acc: 0.3381\n",
      "Epoch 5/50\n",
      "1/1 [==============================] - 6s 6s/step - loss: 1.7744 - acc: 0.2179 - val_loss: 1.7376 - val_acc: 0.3237\n",
      "Epoch 6/50\n",
      "1/1 [==============================] - 6s 6s/step - loss: 1.7605 - acc: 0.2286 - val_loss: 1.7360 - val_acc: 0.3094\n",
      "Epoch 7/50\n",
      "1/1 [==============================] - 6s 6s/step - loss: 1.7572 - acc: 0.2607 - val_loss: 1.7318 - val_acc: 0.3741\n",
      "Epoch 8/50\n",
      "1/1 [==============================] - 6s 6s/step - loss: 1.7532 - acc: 0.2607 - val_loss: 1.7271 - val_acc: 0.3669\n",
      "Epoch 9/50\n",
      "1/1 [==============================] - 6s 6s/step - loss: 1.7367 - acc: 0.2750 - val_loss: 1.7236 - val_acc: 0.3885\n",
      "Epoch 10/50\n",
      "1/1 [==============================] - 7s 7s/step - loss: 1.7313 - acc: 0.2750 - val_loss: 1.7199 - val_acc: 0.3957\n",
      "Epoch 11/50\n",
      "1/1 [==============================] - 7s 7s/step - loss: 1.7187 - acc: 0.3179 - val_loss: 1.7162 - val_acc: 0.3813\n",
      "Epoch 12/50\n",
      "1/1 [==============================] - 7s 7s/step - loss: 1.7149 - acc: 0.3143 - val_loss: 1.7113 - val_acc: 0.3741\n",
      "Epoch 13/50\n",
      "1/1 [==============================] - 6s 6s/step - loss: 1.7375 - acc: 0.2786 - val_loss: 1.7068 - val_acc: 0.3885\n",
      "Epoch 14/50\n",
      "1/1 [==============================] - 6s 6s/step - loss: 1.7055 - acc: 0.3429 - val_loss: 1.7006 - val_acc: 0.3885\n",
      "Epoch 15/50\n",
      "1/1 [==============================] - 7s 7s/step - loss: 1.7032 - acc: 0.2929 - val_loss: 1.6963 - val_acc: 0.4173\n",
      "Epoch 16/50\n",
      "1/1 [==============================] - 7s 7s/step - loss: 1.7089 - acc: 0.2893 - val_loss: 1.6917 - val_acc: 0.3525\n",
      "Epoch 17/50\n",
      "1/1 [==============================] - 6s 6s/step - loss: 1.7145 - acc: 0.3143 - val_loss: 1.6901 - val_acc: 0.3309\n",
      "Epoch 18/50\n",
      "1/1 [==============================] - 6s 6s/step - loss: 1.7006 - acc: 0.3179 - val_loss: 1.6869 - val_acc: 0.3094\n",
      "Epoch 19/50\n",
      "1/1 [==============================] - 6s 6s/step - loss: 1.7061 - acc: 0.3071 - val_loss: 1.6789 - val_acc: 0.3165\n",
      "Epoch 20/50\n",
      "1/1 [==============================] - 6s 6s/step - loss: 1.6717 - acc: 0.3679 - val_loss: 1.6714 - val_acc: 0.3957\n",
      "Epoch 21/50\n",
      "1/1 [==============================] - 6s 6s/step - loss: 1.6726 - acc: 0.3179 - val_loss: 1.6712 - val_acc: 0.4317\n",
      "Epoch 22/50\n",
      "1/1 [==============================] - 6s 6s/step - loss: 1.6708 - acc: 0.3321 - val_loss: 1.6652 - val_acc: 0.3957\n",
      "Epoch 23/50\n",
      "1/1 [==============================] - 6s 6s/step - loss: 1.7160 - acc: 0.3071 - val_loss: 1.6547 - val_acc: 0.4173\n",
      "Epoch 24/50\n",
      "1/1 [==============================] - 6s 6s/step - loss: 1.6645 - acc: 0.3607 - val_loss: 1.6487 - val_acc: 0.3597\n",
      "Epoch 25/50\n",
      "1/1 [==============================] - 6s 6s/step - loss: 1.6482 - acc: 0.3571 - val_loss: 1.6420 - val_acc: 0.3381\n",
      "Epoch 26/50\n",
      "1/1 [==============================] - 6s 6s/step - loss: 1.6494 - acc: 0.3429 - val_loss: 1.6335 - val_acc: 0.3741\n",
      "Epoch 27/50\n",
      "1/1 [==============================] - 6s 6s/step - loss: 1.6381 - acc: 0.3464 - val_loss: 1.6258 - val_acc: 0.4245\n",
      "Epoch 28/50\n",
      "1/1 [==============================] - 6s 6s/step - loss: 1.6486 - acc: 0.3571 - val_loss: 1.6134 - val_acc: 0.4245\n",
      "Epoch 29/50\n",
      "1/1 [==============================] - 6s 6s/step - loss: 1.6295 - acc: 0.3714 - val_loss: 1.6232 - val_acc: 0.4101\n",
      "Epoch 30/50\n",
      "1/1 [==============================] - 6s 6s/step - loss: 1.6490 - acc: 0.3286 - val_loss: 1.5999 - val_acc: 0.4388\n",
      "Epoch 31/50\n",
      "1/1 [==============================] - 6s 6s/step - loss: 1.6185 - acc: 0.3393 - val_loss: 1.5995 - val_acc: 0.4245\n",
      "Epoch 32/50\n",
      "1/1 [==============================] - 6s 6s/step - loss: 1.6390 - acc: 0.3536 - val_loss: 1.5921 - val_acc: 0.4245\n",
      "Epoch 33/50\n",
      "1/1 [==============================] - 6s 6s/step - loss: 1.6400 - acc: 0.3286 - val_loss: 1.5796 - val_acc: 0.4820\n",
      "Epoch 34/50\n",
      "1/1 [==============================] - 6s 6s/step - loss: 1.5741 - acc: 0.3929 - val_loss: 1.5709 - val_acc: 0.4317\n",
      "Epoch 35/50\n",
      "1/1 [==============================] - 6s 6s/step - loss: 1.5872 - acc: 0.4179 - val_loss: 1.5706 - val_acc: 0.4317\n",
      "Epoch 36/50\n",
      "1/1 [==============================] - 6s 6s/step - loss: 1.5826 - acc: 0.4036 - val_loss: 1.5556 - val_acc: 0.4460\n",
      "Epoch 37/50\n",
      "1/1 [==============================] - 6s 6s/step - loss: 1.5868 - acc: 0.4107 - val_loss: 1.5531 - val_acc: 0.4676\n",
      "Epoch 38/50\n",
      "1/1 [==============================] - 6s 6s/step - loss: 1.5547 - acc: 0.4357 - val_loss: 1.5358 - val_acc: 0.4820\n",
      "Epoch 39/50\n",
      "1/1 [==============================] - 6s 6s/step - loss: 1.5523 - acc: 0.4071 - val_loss: 1.5144 - val_acc: 0.4820\n",
      "Epoch 40/50\n",
      "1/1 [==============================] - 6s 6s/step - loss: 1.5626 - acc: 0.3679 - val_loss: 1.5038 - val_acc: 0.4892\n",
      "Epoch 41/50\n",
      "1/1 [==============================] - 6s 6s/step - loss: 1.5583 - acc: 0.3821 - val_loss: 1.4912 - val_acc: 0.4892\n",
      "Epoch 42/50\n",
      "1/1 [==============================] - 6s 6s/step - loss: 1.5556 - acc: 0.3929 - val_loss: 1.4852 - val_acc: 0.4964\n",
      "Epoch 43/50\n",
      "1/1 [==============================] - 6s 6s/step - loss: 1.5200 - acc: 0.4357 - val_loss: 1.4686 - val_acc: 0.5036\n",
      "Epoch 44/50\n",
      "1/1 [==============================] - 6s 6s/step - loss: 1.5056 - acc: 0.4250 - val_loss: 1.4571 - val_acc: 0.5036\n",
      "Epoch 45/50\n",
      "1/1 [==============================] - 6s 6s/step - loss: 1.4889 - acc: 0.4393 - val_loss: 1.4504 - val_acc: 0.5180\n",
      "Epoch 46/50\n",
      "1/1 [==============================] - 6s 6s/step - loss: 1.4952 - acc: 0.4179 - val_loss: 1.4380 - val_acc: 0.5180\n",
      "Epoch 47/50\n",
      "1/1 [==============================] - 6s 6s/step - loss: 1.4676 - acc: 0.4286 - val_loss: 1.4338 - val_acc: 0.5108\n",
      "Epoch 48/50\n",
      "1/1 [==============================] - 7s 7s/step - loss: 1.4731 - acc: 0.4500 - val_loss: 1.4221 - val_acc: 0.5036\n",
      "Epoch 49/50\n",
      "1/1 [==============================] - 7s 7s/step - loss: 1.4593 - acc: 0.4393 - val_loss: 1.4079 - val_acc: 0.5108\n",
      "Epoch 50/50\n",
      "1/1 [==============================] - 6s 6s/step - loss: 1.4191 - acc: 0.4964 - val_loss: 1.4040 - val_acc: 0.5180\n"
     ]
    }
   ],
   "source": [
    "# Train model\n",
    "history = model.fit_generator(\n",
    "    generator = trainset, \n",
    "    validation_data = validset, \n",
    "    epochs=50, \n",
    "    callbacks=[early_stopping],\n",
    "    verbose = 1,\n",
    "    use_multiprocessing=False\n",
    ")"
   ]
  },
  {
   "cell_type": "code",
   "execution_count": null,
   "id": "8591c3e3",
   "metadata": {},
   "outputs": [],
   "source": []
  },
  {
   "cell_type": "markdown",
   "id": "5d5773ff",
   "metadata": {},
   "source": [
    "### Let's try the same model with numpy arrays and change y with One Hot Encoding to implement in the model"
   ]
  },
  {
   "cell_type": "code",
   "execution_count": 11,
   "id": "f1a9831b",
   "metadata": {},
   "outputs": [],
   "source": [
    "### Let's use a bigger dataset for training.\n",
    "\n",
    "images = np.concatenate((images_tr,images_val), axis=0, out=None) \n",
    "y = np.concatenate((y_tr,y_val), axis=0, out=None) "
   ]
  },
  {
   "cell_type": "code",
   "execution_count": 37,
   "id": "f3c3522c",
   "metadata": {},
   "outputs": [
    {
     "name": "stdout",
     "output_type": "stream",
     "text": [
      "(419, 6)\n",
      "(280, 6)\n",
      "(139, 6)\n"
     ]
    }
   ],
   "source": [
    "from sklearn.preprocessing import OneHotEncoder as ohe\n",
    "\n",
    "nominal_transformer = ohe(handle_unknown='ignore', sparse = False)\n",
    "\n",
    "y_ohe = nominal_transformer.fit_transform(y.reshape(-1,1))\n",
    "print(y_ohe.shape)\n",
    "\n",
    "\n",
    "y_tr_ohe = nominal_transformer.transform(y_tr.reshape(-1,1))\n",
    "print(y_tr_ohe.shape)\n",
    "\n",
    "y_val_ohe = nominal_transformer.transform(y_val.reshape(-1,1))\n",
    "print(y_val_ohe.shape)"
   ]
  },
  {
   "cell_type": "code",
   "execution_count": 13,
   "id": "7db4dee8",
   "metadata": {},
   "outputs": [
    {
     "data": {
      "text/plain": [
       "6"
      ]
     },
     "execution_count": 13,
     "metadata": {},
     "output_type": "execute_result"
    }
   ],
   "source": []
  },
  {
   "cell_type": "code",
   "execution_count": 39,
   "id": "bb3fe618",
   "metadata": {},
   "outputs": [
    {
     "name": "stdout",
     "output_type": "stream",
     "text": [
      "_________________________________________________________________\n",
      "Layer (type)                 Output Shape              Param #   \n",
      "=================================================================\n",
      "conv2d_16 (Conv2D)           (None, 99, 99, 128)       9728      \n",
      "_________________________________________________________________\n",
      "max_pooling2d_16 (MaxPooling (None, 49, 49, 128)       0         \n",
      "_________________________________________________________________\n",
      "conv2d_17 (Conv2D)           (None, 24, 24, 64)        73792     \n",
      "_________________________________________________________________\n",
      "max_pooling2d_17 (MaxPooling (None, 12, 12, 64)        0         \n",
      "_________________________________________________________________\n",
      "conv2d_18 (Conv2D)           (None, 11, 11, 16)        4112      \n",
      "_________________________________________________________________\n",
      "max_pooling2d_18 (MaxPooling (None, 5, 5, 16)          0         \n",
      "_________________________________________________________________\n",
      "flatten_6 (Flatten)          (None, 400)               0         \n",
      "_________________________________________________________________\n",
      "dropout_6 (Dropout)          (None, 400)               0         \n",
      "_________________________________________________________________\n",
      "dense_6 (Dense)              (None, 6)                 2406      \n",
      "=================================================================\n",
      "Total params: 90,038\n",
      "Trainable params: 90,038\n",
      "Non-trainable params: 0\n",
      "_________________________________________________________________\n"
     ]
    }
   ],
   "source": [
    "model2 = keras.Sequential()\n",
    "\n",
    "\n",
    "\n",
    "model2.add(keras.layers.Conv2D(filters=128, kernel_size=5, strides=3, activation='relu', input_shape=(299, 299, 3)))\n",
    "\n",
    "model2.add(keras.layers.MaxPool2D(pool_size=2))\n",
    "\n",
    "\n",
    "model2.add(keras.layers.Conv2D(filters=64, kernel_size=3, strides=2, activation='relu'))\n",
    "\n",
    "model2.add(keras.layers.MaxPool2D(pool_size=2))\n",
    "\n",
    "\n",
    "model2.add(keras.layers.Conv2D(filters=16, kernel_size=2, strides=1, activation='relu'))\n",
    "\n",
    "model2.add(keras.layers.MaxPool2D(pool_size=2))\n",
    "\n",
    "\n",
    "model2.add(keras.layers.Flatten())\n",
    "model2.add(Dropout(rate=0.3)) # because of overfitting\n",
    "\n",
    "model2.add(keras.layers.Dense(units=trainset.num_classes, activation='softmax'))\n",
    "\n",
    "\n",
    "model2.summary()"
   ]
  },
  {
   "cell_type": "code",
   "execution_count": 40,
   "id": "f774ceb9",
   "metadata": {},
   "outputs": [],
   "source": [
    "# Compile the model\n",
    "model2.compile(optimizer=keras.optimizers.Adam(), loss='categorical_crossentropy', metrics=['acc']) # loss = sparse_categorical_crossentropy does not need OHE"
   ]
  },
  {
   "cell_type": "code",
   "execution_count": 41,
   "id": "e3ddb7a3",
   "metadata": {},
   "outputs": [
    {
     "name": "stdout",
     "output_type": "stream",
     "text": [
      "Train on 280 samples, validate on 139 samples\n",
      "Epoch 1/50\n",
      "280/280 [==============================] - 6s 20ms/step - loss: 1.7695 - acc: 0.2000 - val_loss: 1.7340 - val_acc: 0.3022\n",
      "Epoch 2/50\n",
      "280/280 [==============================] - 5s 18ms/step - loss: 1.7471 - acc: 0.2250 - val_loss: 1.7388 - val_acc: 0.3094\n",
      "Epoch 3/50\n",
      "280/280 [==============================] - 5s 18ms/step - loss: 1.7451 - acc: 0.2286 - val_loss: 1.7379 - val_acc: 0.2158\n",
      "Epoch 4/50\n",
      "280/280 [==============================] - 5s 18ms/step - loss: 1.7116 - acc: 0.2786 - val_loss: 1.7303 - val_acc: 0.2734\n",
      "Epoch 5/50\n",
      "280/280 [==============================] - 5s 18ms/step - loss: 1.7340 - acc: 0.2714 - val_loss: 1.7216 - val_acc: 0.3309\n",
      "Epoch 6/50\n",
      "280/280 [==============================] - 5s 18ms/step - loss: 1.7097 - acc: 0.2750 - val_loss: 1.7097 - val_acc: 0.3597\n",
      "Epoch 7/50\n",
      "280/280 [==============================] - 6s 21ms/step - loss: 1.6757 - acc: 0.3464 - val_loss: 1.7016 - val_acc: 0.3597\n",
      "Epoch 8/50\n",
      "280/280 [==============================] - 6s 22ms/step - loss: 1.6474 - acc: 0.3786 - val_loss: 1.6825 - val_acc: 0.3094\n",
      "Epoch 9/50\n",
      "280/280 [==============================] - 6s 21ms/step - loss: 1.6138 - acc: 0.3679 - val_loss: 1.6426 - val_acc: 0.4101\n",
      "Epoch 10/50\n",
      "280/280 [==============================] - 6s 21ms/step - loss: 1.5843 - acc: 0.3893 - val_loss: 1.5871 - val_acc: 0.4101\n",
      "Epoch 11/50\n",
      "280/280 [==============================] - 6s 21ms/step - loss: 1.4995 - acc: 0.4286 - val_loss: 1.5350 - val_acc: 0.4460\n",
      "Epoch 12/50\n",
      "280/280 [==============================] - 6s 20ms/step - loss: 1.3809 - acc: 0.4786 - val_loss: 1.5028 - val_acc: 0.4388\n",
      "Epoch 13/50\n",
      "280/280 [==============================] - 6s 20ms/step - loss: 1.3951 - acc: 0.4929 - val_loss: 1.4388 - val_acc: 0.4748\n",
      "Epoch 14/50\n",
      "280/280 [==============================] - 6s 20ms/step - loss: 1.3290 - acc: 0.4857 - val_loss: 1.4004 - val_acc: 0.4676\n",
      "Epoch 15/50\n",
      "280/280 [==============================] - 6s 21ms/step - loss: 1.2494 - acc: 0.5250 - val_loss: 1.3651 - val_acc: 0.4820\n",
      "Epoch 16/50\n",
      "280/280 [==============================] - 6s 21ms/step - loss: 1.1371 - acc: 0.5750 - val_loss: 1.3931 - val_acc: 0.5108\n",
      "Epoch 17/50\n",
      "280/280 [==============================] - 6s 20ms/step - loss: 1.0713 - acc: 0.5929 - val_loss: 1.2911 - val_acc: 0.5036\n",
      "Epoch 18/50\n",
      "280/280 [==============================] - 6s 21ms/step - loss: 1.0145 - acc: 0.6321 - val_loss: 1.2717 - val_acc: 0.5612\n",
      "Epoch 19/50\n",
      "280/280 [==============================] - 6s 21ms/step - loss: 0.9872 - acc: 0.6286 - val_loss: 1.3236 - val_acc: 0.4892\n",
      "Epoch 20/50\n",
      "280/280 [==============================] - 6s 20ms/step - loss: 0.9417 - acc: 0.6714 - val_loss: 1.2401 - val_acc: 0.5252\n",
      "Epoch 21/50\n",
      "280/280 [==============================] - 6s 21ms/step - loss: 0.7866 - acc: 0.6964 - val_loss: 1.2570 - val_acc: 0.5468\n",
      "Epoch 22/50\n",
      "280/280 [==============================] - 6s 21ms/step - loss: 0.7135 - acc: 0.7321 - val_loss: 1.2294 - val_acc: 0.5396\n",
      "Epoch 23/50\n",
      "280/280 [==============================] - 6s 23ms/step - loss: 0.6797 - acc: 0.7393 - val_loss: 1.2315 - val_acc: 0.5396\n",
      "Epoch 24/50\n",
      "280/280 [==============================] - 6s 21ms/step - loss: 0.6224 - acc: 0.7714 - val_loss: 1.2812 - val_acc: 0.5324\n",
      "Epoch 25/50\n",
      "280/280 [==============================] - 6s 20ms/step - loss: 0.6319 - acc: 0.7714 - val_loss: 1.2313 - val_acc: 0.5612\n",
      "Epoch 26/50\n",
      "280/280 [==============================] - 6s 20ms/step - loss: 0.5082 - acc: 0.8286 - val_loss: 1.2092 - val_acc: 0.5540\n",
      "Epoch 27/50\n",
      "280/280 [==============================] - 6s 20ms/step - loss: 0.5215 - acc: 0.8143 - val_loss: 1.2414 - val_acc: 0.5540\n",
      "Epoch 28/50\n",
      "280/280 [==============================] - 5s 20ms/step - loss: 0.4767 - acc: 0.8286 - val_loss: 1.2524 - val_acc: 0.5396\n",
      "Epoch 29/50\n",
      "280/280 [==============================] - 5s 20ms/step - loss: 0.4551 - acc: 0.8250 - val_loss: 1.2579 - val_acc: 0.5468\n",
      "Epoch 30/50\n",
      "280/280 [==============================] - 5s 19ms/step - loss: 0.3602 - acc: 0.8750 - val_loss: 1.4244 - val_acc: 0.5540\n",
      "Epoch 31/50\n",
      "280/280 [==============================] - 5s 19ms/step - loss: 0.3841 - acc: 0.8714 - val_loss: 1.2886 - val_acc: 0.5396\n",
      "Epoch 32/50\n",
      "280/280 [==============================] - 6s 20ms/step - loss: 0.3387 - acc: 0.8821 - val_loss: 1.3147 - val_acc: 0.5683\n"
     ]
    }
   ],
   "source": [
    "\n",
    "\n",
    "# Train model\n",
    "history2 = model2.fit(\n",
    "    x = images_tr, \n",
    "    y = y_tr_ohe, \n",
    "    epochs=50,\n",
    "    validation_data = (images_val,y_val_ohe),\n",
    "    callbacks=[early_stopping],\n",
    "    verbose = 1,\n",
    "    shuffle = True\n",
    ")"
   ]
  },
  {
   "cell_type": "code",
   "execution_count": null,
   "id": "d420b1da",
   "metadata": {},
   "outputs": [],
   "source": []
  }
 ],
 "metadata": {
  "kernelspec": {
   "display_name": "Python 3",
   "language": "python",
   "name": "python3"
  },
  "language_info": {
   "codemirror_mode": {
    "name": "ipython",
    "version": 3
   },
   "file_extension": ".py",
   "mimetype": "text/x-python",
   "name": "python",
   "nbconvert_exporter": "python",
   "pygments_lexer": "ipython3",
   "version": "3.6.13"
  }
 },
 "nbformat": 4,
 "nbformat_minor": 5
}
