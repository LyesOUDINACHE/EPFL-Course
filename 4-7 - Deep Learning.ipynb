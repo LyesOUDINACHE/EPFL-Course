{
 "cells": [
  {
   "cell_type": "markdown",
   "id": "39a98ce2",
   "metadata": {},
   "source": [
    "# Introduction to Deep Learning\n",
    "\n",
    "In this subject and the next one, we will learn about deep learning which is a type of machine learning. In this unit, we will start by discussing the basic vocabulary for deep learning such as neural network, artificial neurons, network architecture and learn about the recent role of GPUs in training these deep learning models.\n",
    "\n",
    "### Deep learning\n",
    "\n",
    "Let's start by defining what a neural network is. Neural networks are machine learning models that have a graph structure inspired by the brain with interconnected units called artificial neurons. There are many different types of neural network architecture. You can take a look at this video which shows different architectures trained to recognize digits from the MNIST database. https://www.youtube.com/watch?v=3JQ3hYko51Y\n",
    "\n",
    "\n",
    "These networks typically have a large number of neurons and interconnections which makes them computationally expensive to train and use. However, due to recent advances in parallel computing, it's now possible to train them a lot faster using graphical processing units (GPUs), designed initially to render intensive graphical tasks like video games. **Also, we can now build larger and in particular deeper networks that can perform more complex tasks than traditional machine learning methods**. Deep learning refers to these recent deep architectures of neural networks.\n",
    "\n",
    "### Why GPUs"
   ]
  },
  {
   "cell_type": "markdown",
   "id": "45ae202a",
   "metadata": {},
   "source": [
    "Deep learning models are usually organized into successive layers of neurons. The output of each layer is fed into the next one and so on which creates **a chain of hidden layers** between the input and the network output. With this type of architecture, the network learns simple features in the first layers that are then combined into more complex ones in the next layers and so on. For instance, if the task is to build a network that recognizes faces, the first layers will detect simple features like lines and curves, and the next ones will try to combine them into more complex objects and higher-level concepts like eyes, nose, mouth and so on.\n",
    "\n",
    "This ability to automatically **learn features from raw input makes them particularly powerful but also slower to train since each layer adds new parameters to train**. For instance, the AlexNet network, which is famous for being the first deep learning model to beat more traditional approaches in the ImageNet challenge in 2012 (http://www.image-net.org/challenges/LSVRC/2012/results.html), had a total of 650 thousand neurons and 60 million parameters. To train the model, the authors were able to parallelize repetitive operations (matrix and vector operations) using two GPUs.\n",
    "\n",
    "### Summary\n",
    "\n",
    "Let's summarize. Deep learning is a type of machine learning model. Deep learning models can typically solve more complex tasks but at the cost of having a larger number of parameters to tune. However, it's usually possible to accelerate the training process using the parallel computations capabilities of GPUs.\n",
    "\n",
    "In the next units,**we will see how to create, train and use neural networks with the TensorFlow library**. In this subject, we will start by implementing the neural network equivalent to a linear regression and then the one equivalent to logistic regression. We will use our network to classify images from the MNIST database. In the next subject, we will then add layers to our networks and try to classify images from the CIFAR-10 data set. Finally, we will learn about convolutional neural networks (CNN) and test a simple one with a few layers"
   ]
  },
  {
   "cell_type": "markdown",
   "id": "28105ee6",
   "metadata": {},
   "source": [
    "# Setting up TensorFlow"
   ]
  },
  {
   "cell_type": "markdown",
   "id": "f998bc9c",
   "metadata": {},
   "source": [
    "In this course, we will use TensorFlow (TF) to build and train our deep learning models. Deep learning is a fast-growing area of machine learning. One of the advantages of using TensorFlow is that it's developed, maintained and used internally by Google which means that it's also frequently updated with the latest models and improvements. It's also very popular. Hence, you can easily find support online.\n",
    "\n",
    "### Different APIs\n",
    "\n",
    "There are several ways to develop neural networks in TensorFlow\n",
    "\n",
    ">- Via the low-level graph API\n",
    ">- High-level Keras API\n",
    "\n",
    "In the next units, we will start by introducing computation graphs which is an important underlying principle behind TensorFlow and show how to use the low-level graph API to design simple neural networks.\n",
    "\n",
    "Later in the course, we will also learn about the Keras API which simplifies a lot of the network design and training process.\n",
    "\n",
    "# Computation graphs\n",
    "\n",
    "The goal of this unit is to get familiar with the TensorFlow library and the idea of computation graphs. We will take the brain and body weights data that we saw in the previous course and use TensorFlow to create, fit and use a linear regression model. This will give us a good overview of the library and the tools needed to build neural networks.\n",
    "\n",
    "You can download the data set from the resource section.\n",
    "\n",
    "### Brain and body weights"
   ]
  },
  {
   "cell_type": "code",
   "execution_count": 1,
   "id": "1469969e",
   "metadata": {},
   "outputs": [
    {
     "data": {
      "text/html": [
       "<div>\n",
       "<style scoped>\n",
       "    .dataframe tbody tr th:only-of-type {\n",
       "        vertical-align: middle;\n",
       "    }\n",
       "\n",
       "    .dataframe tbody tr th {\n",
       "        vertical-align: top;\n",
       "    }\n",
       "\n",
       "    .dataframe thead th {\n",
       "        text-align: right;\n",
       "    }\n",
       "</style>\n",
       "<table border=\"1\" class=\"dataframe\">\n",
       "  <thead>\n",
       "    <tr style=\"text-align: right;\">\n",
       "      <th></th>\n",
       "      <th>body</th>\n",
       "      <th>brain</th>\n",
       "      <th>mammal</th>\n",
       "    </tr>\n",
       "  </thead>\n",
       "  <tbody>\n",
       "    <tr>\n",
       "      <th>0</th>\n",
       "      <td>1.6</td>\n",
       "      <td>-2.0</td>\n",
       "      <td>Lesser short-tailed shrew</td>\n",
       "    </tr>\n",
       "    <tr>\n",
       "      <th>1</th>\n",
       "      <td>2.3</td>\n",
       "      <td>-1.4</td>\n",
       "      <td>Little brown bat</td>\n",
       "    </tr>\n",
       "    <tr>\n",
       "      <th>2</th>\n",
       "      <td>3.1</td>\n",
       "      <td>-1.2</td>\n",
       "      <td>Big brown bat</td>\n",
       "    </tr>\n",
       "    <tr>\n",
       "      <th>3</th>\n",
       "      <td>3.1</td>\n",
       "      <td>-0.9</td>\n",
       "      <td>Mouse</td>\n",
       "    </tr>\n",
       "    <tr>\n",
       "      <th>4</th>\n",
       "      <td>3.9</td>\n",
       "      <td>-1.1</td>\n",
       "      <td>Musk shrew</td>\n",
       "    </tr>\n",
       "  </tbody>\n",
       "</table>\n",
       "</div>"
      ],
      "text/plain": [
       "   body  brain                     mammal\n",
       "0   1.6   -2.0  Lesser short-tailed shrew\n",
       "1   2.3   -1.4           Little brown bat\n",
       "2   3.1   -1.2              Big brown bat\n",
       "3   3.1   -0.9                      Mouse\n",
       "4   3.9   -1.1                 Musk shrew"
      ]
     },
     "execution_count": 1,
     "metadata": {},
     "output_type": "execute_result"
    }
   ],
   "source": [
    "import pandas as pd\n",
    "\n",
    "# Load data\n",
    "data_df = pd.read_csv('brain-body-weights.csv')\n",
    "\n",
    "# First five rows\n",
    "data_df.head()"
   ]
  },
  {
   "cell_type": "markdown",
   "id": "cbcd7271",
   "metadata": {},
   "source": [
    "We saw in the previous course that there is a linear relationship between the **logarithm of the brain and body weights.** For this reason, the brain and body columns in the DataFrame from above contain the logarithm of the original weights. Let's plot the data."
   ]
  },
  {
   "cell_type": "code",
   "execution_count": 2,
   "id": "4a30da9d",
   "metadata": {},
   "outputs": [
    {
     "data": {
      "image/png": "[encoded data removed]",
      "text/plain": [
       "<Figure size 432x288 with 1 Axes>"
      ]
     },
     "metadata": {},
     "output_type": "display_data"
    }
   ],
   "source": [
    "%matplotlib inline\n",
    "import matplotlib.pyplot as plt\n",
    "import seaborn as sns\n",
    "\n",
    "# Activate Seaborn\n",
    "sns.set()\n",
    "\n",
    "# Plot data\n",
    "plt.scatter(data_df.body, data_df.brain)\n",
    "plt.xlabel('Body weight (log)')\n",
    "plt.ylabel('Brain weight (log)')\n",
    "plt.show()"
   ]
  },
  {
   "cell_type": "markdown",
   "id": "c819851e",
   "metadata": {},
   "source": [
    "We can see in the plot that there are three clear outliers. For this example, we will keep them in the data and train our network using Huber loss."
   ]
  },
  {
   "cell_type": "markdown",
   "id": "e434cee1",
   "metadata": {},
   "source": [
    "### TensorFlow computation graphs\n",
    "\n",
    "In TensorFlow, we define our model using **computation graphs** that specify how the different elements in our model interact with each other. In our example, we want to implement a linear regression model.\n",
    "\n",
    "> ^y=ax+b\n",
    "\n",
    "In this equation, a and b are the slope and intercept parameters, x is the input data and ^y the predictions that we will then use to compare to the output data y using Huber loss. We can represent our model as a sequence of computation steps that modify the data."
   ]
  },
  {
   "cell_type": "code",
   "execution_count": 3,
   "id": "2d421b1d",
   "metadata": {},
   "outputs": [
    {
     "data": {
      "text/html": [
       "<img src=\"https://d7whxh71cqykp.cloudfront.net/uploads/image/data/2781/computation-graph.svg\"/>"
      ],
      "text/plain": [
       "<IPython.core.display.Image object>"
      ]
     },
     "execution_count": 3,
     "metadata": {},
     "output_type": "execute_result"
    }
   ],
   "source": [
    "from IPython.display import Image\n",
    "Image(url='https://d7whxh71cqykp.cloudfront.net/uploads/image/data/2781/computation-graph.svg')"
   ]
  },
  {
   "cell_type": "markdown",
   "id": "27b42bd3",
   "metadata": {},
   "source": [
    "Each node in this graph is a step in our computation. For instance, the * node multiplies the input data x by a, or the loss node compares the target values y and the predictions ^y using Huber loss. This is the idea behind computation graphs. We first define a graph and then feed data that \"flows\" through the graph. In the TensorFlow jargon, data values are called **tensors**.\n",
    "\n",
    "Let's see how to define our linear regression graph from above with TensorFlow.\n",
    "\n",
    "### Variables\n",
    "\n"
   ]
  },
  {
   "cell_type": "code",
   "execution_count": 4,
   "id": "1365d3e2",
   "metadata": {},
   "outputs": [
    {
     "name": "stderr",
     "output_type": "stream",
     "text": [
      "C:\\Users\\lyeso\\anaconda3\\envs\\exts-ml\\lib\\site-packages\\h5py\\__init__.py:36: FutureWarning: Conversion of the second argument of issubdtype from `float` to `np.floating` is deprecated. In future, it will be treated as `np.float64 == np.dtype(float).type`.\n",
      "  from ._conv import register_converters as _register_converters\n"
     ]
    }
   ],
   "source": [
    "import os\n",
    "os.environ[\"CUDA_VISIBLE_DEVICES\"]=\"-1\"    \n",
    "import tensorflow as tf\n",
    "\n",
    "#config = tf.ConfigProto()\n",
    "#config.gpu_options.allow_growth = True\n",
    "session = tf.Session()"
   ]
  },
  {
   "cell_type": "markdown",
   "id": "cff7cbef",
   "metadata": {},
   "source": [
    "We can now create the \n",
    "a\n",
    " and \n",
    "b\n",
    " parameters with the Variable object."
   ]
  },
  {
   "cell_type": "code",
   "execution_count": 5,
   "id": "a4ea3111",
   "metadata": {},
   "outputs": [],
   "source": [
    "# Slope and intercept parameters\n",
    "a = tf.Variable(initial_value=0, dtype=tf.float32)\n",
    "b = tf.Variable(initial_value=0, dtype=tf.float32)"
   ]
  },
  {
   "cell_type": "markdown",
   "id": "cbaa557a",
   "metadata": {},
   "source": [
    "We need to **specify an initial value**. In our case, we can initialize the two parameters to zero. **TensorFlow assigns a data type** to each variable (and to every tensor in general). By default, it's the data type of the initial value. In our case, 0 is an integer value but both variables should be floating point numbers. Hence, we need to specify the data type by setting dtype=tf.float32.\n",
    "\n",
    "### Placeholders\n",
    "\n",
    "Now that we have a node for each parameter, let's create the nodes for the input and output variables. Again, the idea behind computation graphs is to start by defining a graph of operations and then run the graph by injecting data. For this reason, instead of \"connecting\" the graph to our data_df variable from above, we create placeholder nodes that represent the data to be fed. **We can create them with the placeholder() function.**"
   ]
  },
  {
   "cell_type": "code",
   "execution_count": 6,
   "id": "c09574eb",
   "metadata": {},
   "outputs": [],
   "source": [
    "# Create a placeholder for input/target data\n",
    "x = tf.placeholder(dtype=tf.float32)\n",
    "y = tf.placeholder(dtype=tf.float32)"
   ]
  },
  {
   "cell_type": "code",
   "execution_count": 7,
   "id": "e416b667",
   "metadata": {},
   "outputs": [],
   "source": [
    "# Compute predictions\n",
    "y_hat = a*x + b"
   ]
  },
  {
   "cell_type": "markdown",
   "id": "a1dd164c",
   "metadata": {},
   "source": [
    "### Loss function\n",
    "Let's define the loss function. TensorFlow provides a set of operations similar to Numpy to work with tensors. For instance, we can define the mean squared error (MSE) using the square() and reduce_mean() functions."
   ]
  },
  {
   "cell_type": "code",
   "execution_count": 8,
   "id": "f97de86c",
   "metadata": {},
   "outputs": [],
   "source": [
    "# Mean squared error (MSE)\n",
    "loss = tf.reduce_mean( # Equivalent to np.mean()\n",
    "    tf.square( # Equivalent to np.square()\n",
    "        y - y_hat # Implements broadcasting like Numpy\n",
    "    )\n",
    ")"
   ]
  },
  {
   "cell_type": "markdown",
   "id": "8eed156f",
   "metadata": {},
   "source": [
    "Note that TensorFlow implements a few loss functions in its losses module. You can take a look at this page to see the different possibilities. https://www.tensorflow.org/api_docs/python/tf/losses\n",
    "\n",
    "For instance, we will use the Huber loss one for our network."
   ]
  },
  {
   "cell_type": "code",
   "execution_count": 9,
   "id": "6e085de3",
   "metadata": {},
   "outputs": [],
   "source": [
    "# Huber loss\n",
    "loss = tf.losses.huber_loss(y, y_hat, delta=1.0)"
   ]
  },
  {
   "cell_type": "markdown",
   "id": "413cb987",
   "metadata": {},
   "source": [
    "### Optimizer\n",
    "\n",
    "To train our model, we need to define an optimizer. You can take a look at this page which lists the different optimizers available in TensorFlow. https://www.tensorflow.org/api_docs/python/tf/train\n",
    "\n",
    "Let's use the simple gradient descent strategy."
   ]
  },
  {
   "cell_type": "code",
   "execution_count": 10,
   "id": "e79e511a",
   "metadata": {},
   "outputs": [],
   "source": [
    "# Create the optimizer\n",
    "gd = tf.train.GradientDescentOptimizer(\n",
    "    learning_rate=0.1)"
   ]
  },
  {
   "cell_type": "markdown",
   "id": "ec01ec7d",
   "metadata": {},
   "source": [
    "In this code, we create a GradientDescentOptimizer and set its learning rate to 0.1. Note that we can also use a placeholder for the learning rate."
   ]
  },
  {
   "cell_type": "code",
   "execution_count": 11,
   "id": "52017b30",
   "metadata": {},
   "outputs": [],
   "source": [
    "# Learning rate placeholder\n",
    "lr = tf.placeholder(dtype=tf.float32)\n",
    "\n",
    "# Create the optimizer\n",
    "gd = tf.train.GradientDescentOptimizer(\n",
    "    learning_rate=lr)"
   ]
  },
  {
   "cell_type": "markdown",
   "id": "021e9244",
   "metadata": {},
   "source": [
    "In this case, we will need to provide a learning rate value when \"running\" the graph.\n",
    "\n",
    "Once we have the optimizer, we can add a new node to our graph that computes the gradients and applies them to the variables. We create this training operation node by calling the minimize() function with the **tensor that we want to minimize**. In our case this tensor is the loss term."
   ]
  },
  {
   "cell_type": "code",
   "execution_count": 12,
   "id": "bc90f505",
   "metadata": {},
   "outputs": [],
   "source": [
    "# Create a training operation\n",
    "train_op = gd.minimize(loss)"
   ]
  },
  {
   "cell_type": "markdown",
   "id": "a71908f8",
   "metadata": {},
   "source": [
    "### TensorFlow sessions\n",
    "\n",
    "We can now evaluate the nodes in our graph and get their values using a **sessio**n. A session is a TensorFlow object that encapsulates the environment in which all tfoperations are executed and tensors are evaluated. We usually manage the resources in our session using a *with* statement"
   ]
  },
  {
   "cell_type": "code",
   "execution_count": 13,
   "id": "5c5acbc7",
   "metadata": {},
   "outputs": [
    {
     "name": "stdout",
     "output_type": "stream",
     "text": [
      "0.0\n"
     ]
    }
   ],
   "source": [
    "# Initialization operation\n",
    "initialization_op = tf.global_variables_initializer()\n",
    "\n",
    "with tf.Session() as sess:\n",
    "    # Initialize the graph\n",
    "    sess.run(initialization_op)\n",
    "\n",
    "    # Evaluate node \"a\"\n",
    "    result = sess.run(a)\n",
    "    print(result)\n",
    "    # Prints: 0.0"
   ]
  },
  {
   "cell_type": "markdown",
   "id": "71aae777",
   "metadata": {},
   "source": [
    "In this code, we create a new Session object in a with statement and use it to evaluate the slope a\n",
    "with its run() function. Note that we need to create and run an **initialization operation** before using the session. We can get this special operation with the global_variables_initializer() function. We won't go into the details of variable initialization for now, but you can take a look at this guide if you want to learn more about it.\n",
    "\n",
    "### Feed data\n",
    "\n",
    "In the example from above, we can evaluate the value of node a because it doesn't depend on any placeholder. For instance, we would get an error if we try to evaluate ^y without setting x.\n"
   ]
  },
  {
   "cell_type": "raw",
   "id": "c2da4749",
   "metadata": {},
   "source": [
    "with tf.Session() as sess:\n",
    "    # Initialize the graph\n",
    "    sess.run(initialization_op)\n",
    "\n",
    "    # Compute predictions without injecting an x value\n",
    "    result = sess.run(y_hat)\n",
    "    \n",
    "# Throws InvalidArgumentError:\n",
    "# \"You must feed a value for placeholder tensor 'Placeholder' with dtype float\""
   ]
  },
  {
   "cell_type": "markdown",
   "id": "1fa53ebd",
   "metadata": {},
   "source": [
    "**If you get this kind of error, make sure that all relevant placeholders are set and fed into the tf.Session.** To inject data into the x and y placeholders, we can use the feed_dict argument of the run() function which expects a dictionary of (tensor, values) pairs."
   ]
  },
  {
   "cell_type": "code",
   "execution_count": 14,
   "id": "10bd94e3",
   "metadata": {},
   "outputs": [
    {
     "name": "stdout",
     "output_type": "stream",
     "text": [
      "[0. 0. 0. 0. 0. 0. 0. 0. 0. 0. 0. 0. 0. 0. 0. 0. 0. 0. 0. 0. 0. 0. 0. 0.\n",
      " 0. 0. 0. 0. 0. 0. 0. 0. 0. 0. 0. 0. 0. 0. 0. 0. 0. 0. 0. 0. 0. 0. 0. 0.\n",
      " 0. 0. 0. 0. 0. 0. 0. 0. 0. 0. 0. 0. 0. 0. 0. 0. 0.]\n"
     ]
    }
   ],
   "source": [
    "with tf.Session() as sess:\n",
    "    # Initialize the graph\n",
    "    sess.run(initialization_op)\n",
    "\n",
    "    # Compute predictions\n",
    "    result = sess.run(y_hat, feed_dict={\n",
    "        x: data_df.body # Feed body weights\n",
    "    })\n",
    "    print(result)"
   ]
  },
  {
   "cell_type": "markdown",
   "id": "66cd9e68",
   "metadata": {},
   "source": [
    "In this code, we inject the body weights data_df.body into the x placeholder and evaluate the y_hat node. The values that we get back from sess.run() are the values of y_hat after executing the TensorFlow Graph. In this case, we store those values in a variable called result. We get only zero values because we initialized the a and b variables to zero.\n",
    "\n",
    "### Training\n",
    "\n",
    "To learn the a and b parameters, we need to run the training operation node train_op. The operation depends on the x, y and the lr placeholders."
   ]
  },
  {
   "cell_type": "code",
   "execution_count": 15,
   "id": "fd8fac4a",
   "metadata": {},
   "outputs": [
    {
     "name": "stdout",
     "output_type": "stream",
     "text": [
      "[None, 2.920231]\n"
     ]
    }
   ],
   "source": [
    "with tf.Session() as sess:\n",
    "    # Initialize the graph\n",
    "    sess.run(initialization_op)\n",
    "\n",
    "    # Run the training operation, get loss value\n",
    "    result = sess.run([train_op, loss], feed_dict={\n",
    "        x: data_df.body, # Body weights\n",
    "        y: data_df.brain, # Brain weights\n",
    "        lr: 0.1 # Learning rate\n",
    "    })\n",
    "    print(result)"
   ]
  },
  {
   "cell_type": "markdown",
   "id": "7110a4dc",
   "metadata": {},
   "source": [
    "This time, we pass a list of operations (train_op is the gradient descent) and tensors (loss is the loss value) to the run() function. Operations will only return a None value, while tensors will return their value after the graph was executed. The operation train_op will therefore give back None as a value, while the loss node will return 2.9202311, which is the loss value after running the training operation.\n",
    "\n",
    "Let's see if these loss values decrease after each training operation by running train_op a hundred times."
   ]
  },
  {
   "cell_type": "code",
   "execution_count": 16,
   "id": "cb373b2b",
   "metadata": {},
   "outputs": [],
   "source": [
    "# Monitor the a/b and loss values\n",
    "loss_values = []\n",
    "a_values = []\n",
    "b_values = []\n",
    "\n",
    "with tf.Session() as sess:\n",
    "    # Initialize the graph\n",
    "    sess.run(initialization_op)\n",
    "\n",
    "    # Run 100 times the training operation\n",
    "    for _ in range(100):\n",
    "        # Run training op and collect a/b and loss values\n",
    "        _, loss_val, a_val, b_val = sess.run(\n",
    "            [train_op, loss, a, b],\n",
    "            feed_dict={\n",
    "                x: data_df.body, # Body weight\n",
    "                y: data_df.brain, # Brain weight\n",
    "                lr: 0.1 # Learning rate\n",
    "        })\n",
    "\n",
    "        # Save values\n",
    "        loss_values.append(loss_val)\n",
    "        a_values.append(a_val)\n",
    "        b_values.append(b_val)"
   ]
  },
  {
   "cell_type": "markdown",
   "id": "8f979bf2",
   "metadata": {},
   "source": [
    "In this code, we run train_op a hundred times using a for loop that iterates over the list of digits between 0 and 99 generated with the range() function. At each iteration, we save the loss and parameter values into the loss_values, a_values and b_values lists. Note that we use the \"throwaway\" variable _ to discard unused results.\n",
    "\n",
    "Let's plot the loss and parameter values."
   ]
  },
  {
   "cell_type": "code",
   "execution_count": 17,
   "id": "887637d5",
   "metadata": {},
   "outputs": [
    {
     "data": {
      "image/png": "[encoded data removed]",
      "text/plain": [
       "<Figure size 864x216 with 3 Axes>"
      ]
     },
     "metadata": {},
     "output_type": "display_data"
    }
   ],
   "source": [
    "# Create figure with a subplot for each list of values\n",
    "fig, (ax1, ax2, ax3) = plt.subplots(\n",
    "    nrows=1, ncols=3, figsize=(12, 3))\n",
    "\n",
    "# Plot loss values\n",
    "ax1.set_title('Loss')\n",
    "ax1.plot(loss_values)\n",
    "\n",
    "# Plot slope values\n",
    "ax2.set_title('a')\n",
    "ax2.plot(a_values)\n",
    "\n",
    "# Plot intercept values\n",
    "ax3.set_title('b')\n",
    "ax3.plot(b_values)\n",
    "\n",
    "plt.show()"
   ]
  },
  {
   "cell_type": "markdown",
   "id": "33c2aafa",
   "metadata": {},
   "source": [
    "As we can see, the loss value oscillates between 4.5 and 2 which means that gradient descent is having issues learning the a and b values.\n",
    "\n",
    "We saw in the last course that the algorithm is sensitive to the scale of the input data. Let's try to **standardize the body weights**. Instead of modifying our data, let's add a standardization operation in our graph that standardizes the values in x using the mean and standard deviation statistics of the body weights in data_df."
   ]
  },
  {
   "cell_type": "code",
   "execution_count": 18,
   "id": "99552c19",
   "metadata": {},
   "outputs": [
    {
     "name": "stdout",
     "output_type": "stream",
     "text": [
      "Mean: 8.643076923076922\n",
      "Std: 3.538620732204927\n"
     ]
    }
   ],
   "source": [
    "import numpy as np\n",
    "\n",
    "# Compute mean and std of input variable\n",
    "print('Mean:', np.mean(data_df.body)) \n",
    "print('Std:', np.std(data_df.body))"
   ]
  },
  {
   "cell_type": "markdown",
   "id": "c2e82911",
   "metadata": {},
   "source": [
    "We can now add an x_standardized node using these two statistics."
   ]
  },
  {
   "cell_type": "code",
   "execution_count": 19,
   "id": "b7327981",
   "metadata": {},
   "outputs": [],
   "source": [
    "# Standardized input x\n",
    "x_standardized = (x - 8.643) / 3.539\n",
    "\n",
    "# Redefine graph (code from above)\n",
    "# ----------------\n",
    "# Compute predictions\n",
    "y_hat = a*x_standardized + b\n",
    "\n",
    "# Huber loss\n",
    "loss = tf.losses.huber_loss(y, y_hat)\n",
    "\n",
    "# Learning rate placeholder\n",
    "lr = tf.placeholder(dtype=tf.float32)\n",
    "\n",
    "# Create the optimizer\n",
    "gd = tf.train.GradientDescentOptimizer(learning_rate=lr)\n",
    "\n",
    "# Create a training operation\n",
    "train_op = gd.minimize(loss)"
   ]
  },
  {
   "cell_type": "markdown",
   "id": "2fb2b33f",
   "metadata": {},
   "source": [
    "It's important to understand that x_standardized is a new node in our computation graph. Hence, we need to \"rewire\" the entire graph and create all the other nodes again.\n",
    "\n",
    "Let's rerun gradient descent with the code from above:"
   ]
  },
  {
   "cell_type": "code",
   "execution_count": 20,
   "id": "37eeaff7",
   "metadata": {},
   "outputs": [],
   "source": [
    "# Monitor the a/b and loss values\n",
    "loss_values = []\n",
    "a_values = []\n",
    "b_values = []\n",
    "\n",
    "with tf.Session() as sess:\n",
    "    # Initialize the graph\n",
    "    sess.run(initialization_op)\n",
    "\n",
    "    # Run 100 times the training operation\n",
    "    for _ in range(100):\n",
    "        # Run training op and collect a/b and loss values\n",
    "        _, loss_val, a_val, b_val = sess.run(\n",
    "            [train_op, loss, a, b],\n",
    "            feed_dict={\n",
    "                x: data_df.body, # Body weight\n",
    "                y: data_df.brain, # Brain weight\n",
    "                lr: 0.1 # Learning rate\n",
    "        })\n",
    "\n",
    "        # Save values\n",
    "        loss_values.append(loss_val)\n",
    "        a_values.append(a_val)\n",
    "        b_values.append(b_val)"
   ]
  },
  {
   "cell_type": "code",
   "execution_count": 21,
   "id": "52576881",
   "metadata": {},
   "outputs": [
    {
     "data": {
      "image/png": "[encoded data removed]",
      "text/plain": [
       "<Figure size 864x216 with 3 Axes>"
      ]
     },
     "metadata": {},
     "output_type": "display_data"
    }
   ],
   "source": [
    "# Create figure with a subplot for each list of values\n",
    "fig, (ax1, ax2, ax3) = plt.subplots(\n",
    "    nrows=1, ncols=3, figsize=(12, 3))\n",
    "\n",
    "# Plot loss values\n",
    "ax1.set_title('Loss')\n",
    "ax1.plot(loss_values)\n",
    "\n",
    "# Plot slope values\n",
    "ax2.set_title('a')\n",
    "ax2.plot(a_values)\n",
    "\n",
    "# Plot intercept values\n",
    "ax3.set_title('b')\n",
    "ax3.plot(b_values)\n",
    "\n",
    "plt.show()"
   ]
  },
  {
   "cell_type": "markdown",
   "id": "b69747c2",
   "metadata": {},
   "source": [
    "This time, the loss value keeps decreasing after each iteration and the \n",
    "a\n",
    " and \n",
    "b\n",
    " parameters seem to stabilize after a hundred iterations.\n",
    " \n",
    "### Prediction\n",
    "Finally, let's see how to use our network to predict brain weights. We will compute the predictions for a hundred sample body weights between the minimum and the maximum body weight values."
   ]
  },
  {
   "cell_type": "code",
   "execution_count": 22,
   "id": "82958b96",
   "metadata": {},
   "outputs": [],
   "source": [
    "import numpy as np\n",
    "\n",
    "# Create a hundred sample body weights\n",
    "x_values = np.linspace(\n",
    "    data_df.body.min(), # Between the minimum\n",
    "    data_df.body.max(), # and maximum body weight values\n",
    "    num=100\n",
    ")"
   ]
  },
  {
   "cell_type": "markdown",
   "id": "2da926d1",
   "metadata": {},
   "source": [
    "We can now inject this sample input data into our graph. Since we use a with statement to create the session, TensorFlow automatically releases the resources and forgets the value of the a and b variables, once the code was executed. This means the optimized a and b values from the previous session above are only stored in the last position of our a_values and b_valueslist. Using the feed_dict, we can set these values and use them as tensor values in our graph."
   ]
  },
  {
   "cell_type": "code",
   "execution_count": 23,
   "id": "a94ac499",
   "metadata": {},
   "outputs": [],
   "source": [
    "with tf.Session() as sess:\n",
    "    # Initialize the graph\n",
    "    sess.run(initialization_op)\n",
    "\n",
    "    # Compute predictions\n",
    "    y_values = sess.run(y_hat, feed_dict={\n",
    "        x: x_values, # Sample body weights\n",
    "        a: a_values[-1], # last slope value\n",
    "        b: b_values[-1] # last intercept value\n",
    "    })"
   ]
  },
  {
   "cell_type": "markdown",
   "id": "809e8ef5",
   "metadata": {},
   "source": [
    "We pass the last slope and intercept values from the a_values and b_values lists and save the predictions in a y_values variable. Note that we don't need to provide a learning rate value lr since we are not running the training operation train_op.\n",
    "\n",
    "Let's plot the predictions with Seaborn."
   ]
  },
  {
   "cell_type": "code",
   "execution_count": 24,
   "id": "cda418c4",
   "metadata": {},
   "outputs": [
    {
     "data": {
      "image/png": "[encoded data removed]",
      "text/plain": [
       "<Figure size 432x288 with 1 Axes>"
      ]
     },
     "metadata": {},
     "output_type": "display_data"
    }
   ],
   "source": [
    "# Get a few colors from default color palette\n",
    "blue, green, red = sns.color_palette()[:3]\n",
    "\n",
    "# Plot data with sample predictions\n",
    "plt.scatter(data_df.body, data_df.brain, label=None)\n",
    "plt.plot(x_values, y_values, label='Huber loss', color='red')\n",
    "plt.xlabel('Body weight (log)')\n",
    "plt.ylabel('Brain weight (log)')\n",
    "plt.legend()\n",
    "plt.show()"
   ]
  },
  {
   "cell_type": "markdown",
   "id": "3a8f4a5f",
   "metadata": {},
   "source": [
    "We plot the data points from the data_df DataFrame and the predictions from the x_values and y_values variables."
   ]
  },
  {
   "cell_type": "markdown",
   "id": "68b1eb6d",
   "metadata": {},
   "source": [
    "Thanks to Huber loss, our linear regression ignores the three outliers and the line fits well the data points.\n",
    "\n",
    "### Summary\n",
    "In this unit, we learned about computation graphs and saw the basic tools to create and evaluate them with TensorFlow.\n",
    "\n",
    "In the next unit, we will use these tools to implement a softmax regression network and train it to recognize images from the MNIST database.\n",
    "\n",
    "\n",
    "Q&A : \n",
    " The computation graph in TensorFlow 1 requires that you define all the computations/operations between the tensors (i.e. between the variables in TensorFlow which are of types tf.Variable or tf.placeholders). In our case, x and y are placeholder tensors that we will be fed in with data once the session is executed. Tensor is a special type of data that is similar to Numpy ndarray but does not necessarily work on built-in functions that expect Numpy arrays. For example, sklearn.preprocessing.scale expects an array, matrix, or list. Such a function does not work with TensorFlow tensors. That is why we need to manually define the operations such as\n",
    "x_standardized = (x - 8.643) / 3.539\n",
    "or\n",
    "ax + b. (or tf.add(tf.multiply(a, x), b))"
   ]
  },
  {
   "cell_type": "markdown",
   "id": "b46f6971",
   "metadata": {},
   "source": [
    "# Neural networks\n",
    "\n",
    "In the previous unit, we learned about computation graphs and saw the basic TensorFlow tools to build and evaluate them. In this unit, we will implement a simple neural network to classify images from the MNIST data set. We will work on a subset of 6,000 images. You can download the data from the resource section.\n",
    "\n",
    "### Network of neurons\n",
    "\n",
    "We saw in the unit about deep learning that neural networks are made of artificial neurons interconnected in a network which is sometimes organized in layers. Let's take a simple example.\n",
    "\n",
    "We usually represent neural networks with graph diagrams where nodes correspond to neurons and edges to connections between them. Here is the diagram of a simple network with three input neurons denoted \n",
    "x\n",
    "1\n",
    ", \n",
    "x\n",
    "2\n",
    " and \n",
    "x\n",
    "3\n",
    " connected to a single output neuron \n",
    "z\n",
    "1\n",
    ". In this notation, Neurons that are vertically aligned belong to the same layer."
   ]
  },
  {
   "cell_type": "code",
   "execution_count": 25,
   "id": "ff7d247f",
   "metadata": {},
   "outputs": [
    {
     "data": {
      "text/html": [
       "<img src=\"https://d7whxh71cqykp.cloudfront.net/uploads/image/data/2777/three-inputs.svg\"/>"
      ],
      "text/plain": [
       "<IPython.core.display.Image object>"
      ]
     },
     "execution_count": 25,
     "metadata": {},
     "output_type": "execute_result"
    }
   ],
   "source": [
    "Image(url='https://d7whxh71cqykp.cloudfront.net/uploads/image/data/2777/three-inputs.svg')"
   ]
  },
  {
   "cell_type": "markdown",
   "id": "7d6fa091",
   "metadata": {},
   "source": [
    "The sensitivity of the output neuron \n",
    "z\n",
    "1\n",
    " to each input neuron \n",
    "x\n",
    "1\n",
    ", \n",
    "x\n",
    "2\n",
    " and \n",
    "x\n",
    "3\n",
    " varies and evolves during the learning process. This phenomenon is called the **synaptic plasticity** in reference to the synapses in our brains which are structures that let neurons pass electrical signals to other neurons. In neural networks, we model this capability of learning and adapting the strength of the connections between neurons by assigning a **synaptic weight** to each connection. In our diagram, there are only three connections with weights \n",
    "w\n",
    "1\n",
    ", \n",
    "w\n",
    "2\n",
    " and \n",
    "w\n",
    "3\n",
    ". In practice, we also add a bias parameter \n",
    "b\n",
    " to each neuron, except for the input neurons. This allows us to shift the output of the activation function.\n",
    "\n",
    "In the network from above, each input neuron passes a signal to the output neuron. The value of the output neuron is computed by multiplying the signal of its input neurons with the synaptic weights and by adding the neuron bias."
   ]
  },
  {
   "cell_type": "markdown",
   "id": "da31ca84",
   "metadata": {},
   "source": [
    "z\n",
    "1\n",
    "=\n",
    "w\n",
    "1\n",
    "x\n",
    "1\n",
    "+\n",
    "w\n",
    "2\n",
    "x\n",
    "2\n",
    "+\n",
    "w\n",
    "3\n",
    "x\n",
    "3\n",
    "+\n",
    "b\n",
    "1"
   ]
  },
  {
   "cell_type": "markdown",
   "id": "c80ccd4c",
   "metadata": {},
   "source": [
    "We will learn more about biases and activation functions in later units. Note for now that this network architecture corresponds to **a linear regression.** This means that the activation function of \n",
    "z\n",
    "1\n",
    " is a linear function, and the computed output \n",
    "1\n",
    " (activation without bias) stays \n",
    "1\n",
    ". If we would take the output \n",
    "1\n",
    " and apply a sigmoid function to it, the outcome would become \n",
    "0.731\n",
    ". In this case the network architecture would correspond to a **logistic regression.**\n",
    "\n",
    "Let's modify the network for our MNIST classification task. The idea is to have one output neuron for each class, i.e. for each digit from 0 to 9."
   ]
  },
  {
   "cell_type": "code",
   "execution_count": 26,
   "id": "2db04c2f",
   "metadata": {},
   "outputs": [
    {
     "data": {
      "text/html": [
       "<img src=\"https://d7whxh71cqykp.cloudfront.net/uploads/image/data/2776/mnist-input.svg\"/>"
      ],
      "text/plain": [
       "<IPython.core.display.Image object>"
      ]
     },
     "execution_count": 26,
     "metadata": {},
     "output_type": "execute_result"
    }
   ],
   "source": [
    "Image(url='https://d7whxh71cqykp.cloudfront.net/uploads/image/data/2776/mnist-input.svg')"
   ]
  },
  {
   "cell_type": "markdown",
   "id": "29ccba6d",
   "metadata": {},
   "source": [
    "In this network, each input neuron corresponds to one of the 784 pixels in the 28 by 28 MNIST images grid and each output neuron to a target value (the ten digits). To compute the value of an output neuron, we need to multiply the signal transmitted by the input neurons (the pixel values) by the synaptic weights of this output neuron and add its bias. In other words, each output neuron corresponds to a linear regression.\n",
    "\n",
    "The output of those ten linear regressions can be any number. But if we want to restrict them in such a way that all ten outputs lay between 0 and 1 and that **they add up together to 1, we can apply softmax function.** This softmax function is applied to the last output layer and transforms the output from the linear regression in probabilities (so called logits). These ten logits show for each digit the probability that a given input image is the respective digit. **In such a case, the network architecture would correspond to a softmax regression.**\n",
    "\n",
    "### Inputs and weights matrices\n",
    "\n",
    "In practice, we don't create the network from above by connecting each neuron individually. Instead, we create a weight matrix \n",
    "W\n",
    " that contains the synaptic weights and a bias vector \n",
    "⃗\n",
    "b\n",
    " with the biases.\n",
    " \n",
    "$$\n",
    "W=\\left(\\begin{array}{cccc}\n",
    "w_{1,1} & w_{1,2} & \\ldots & w_{1,10}\\\\\n",
    "w_{2,1} & w_{2,2} & \\ldots & w_{2,10}\\\\\n",
    "\\vdots &  &  & \\vdots\\\\\n",
    "w_{784,1} & w_{784,2} & \\ldots & w_{784,10}\n",
    "\\end{array}\\right)\\qquad \\vec{b}=\\left(\\begin{array}{c}\n",
    "b_{1}\\\\\n",
    "b_{2}\\\\\n",
    "\\vdots\\\\\n",
    "b_{10}\n",
    "\\end{array}\\right)\n",
    "$$"
   ]
  },
  {
   "cell_type": "markdown",
   "id": "7ad7cea9",
   "metadata": {},
   "source": [
    "Each line in \n",
    "W\n",
    " corresponds to an input neuron and each column to an output one. Hence, the \n",
    "w\n",
    "i\n",
    ",\n",
    "j\n",
    " element is the synaptic weight between the i-th input neuron the j-th output one. The idea is to use this matrix to compute the output values for \n",
    "n\n",
    " data points, contained in an input matrix \n",
    "X\n",
    ", at once.\n",
    "$$\n",
    "X=\\left(\\begin{array}{cccc}\n",
    "x_{1,1} & x_{1,2} & \\ldots & x_{1,784}\\\\\n",
    "x_{2,1} & x_{2,2} & \\ldots & x_{2,784}\\\\\n",
    "\\vdots &  &  & \\vdots\\\\\n",
    "x_{n,1} & x_{n,2} & \\ldots & x_{n,784}\n",
    "\\end{array}\\right)\n",
    "$$\n",
    "\n",
    "For each data point (line in \n",
    "X\n",
    "), we want to compute the output of each one of the ten output neurons (columns in \n",
    "W\n",
    "). To achieve this, we simply multiply the input matrix \n",
    "X\n",
    " by the weights matrix \n",
    "W\n",
    " and add the biases in \n",
    "⃗\n",
    "b\n",
    ".\n",
    "\n",
    "$$\n",
    "Z=XW+\\vec{b}\n",
    "$$\n",
    "\n",
    "In this equation, \n",
    "Z\n",
    " is a matrix with ten values (the logits) for each data point. Let's verify that the shape of the matrices matches.\n",
    "\n",
    "- The shape of the input matrix \n",
    "X\n",
    " is \n",
    "(\n",
    "n\n",
    ",\n",
    "784\n",
    ")\n",
    "- The shape of the weights matrix \n",
    "W\n",
    " is \n",
    "(\n",
    "784\n",
    ",\n",
    "10\n",
    ")\n",
    "- The shape of the biases vector \n",
    "⃗\n",
    "b\n",
    " is \n",
    "(\n",
    "10\n",
    ",\n",
    ")\n",
    "\n",
    "Hence, the shape of the result of the matrix multiplication \n",
    "X\n",
    "W\n",
    " is \n",
    "(\n",
    "n\n",
    ",\n",
    "10\n",
    ")\n",
    " and we add the biases vector using broadcasting, i.e., add the ten biases to each row. As a result we obtain a matrix \n",
    "Z\n",
    " with shape \n",
    "(\n",
    "n\n",
    ",\n",
    "10\n",
    ")\n",
    " where rows contain the ten logits for each data point. We get the final probabilities by applying the softmax function to each row of the logits matrix \n",
    "Z\n",
    ".\n",
    "\n",
    "Let's see how to implement this softmax network with TensorFlow."
   ]
  },
  {
   "cell_type": "markdown",
   "id": "2e896f77",
   "metadata": {},
   "source": [
    "### Loading MNIST data\n",
    "\n",
    "First, let's start by loading the images and labels from the mnist-6k.npz file into an mnist dictionary."
   ]
  },
  {
   "cell_type": "code",
   "execution_count": 27,
   "id": "1f9b04f2",
   "metadata": {},
   "outputs": [
    {
     "data": {
      "text/plain": [
       "{'data': array([[0, 0, 0, ..., 0, 0, 0],\n",
       "        [0, 0, 0, ..., 0, 0, 0],\n",
       "        [0, 0, 0, ..., 0, 0, 0],\n",
       "        ...,\n",
       "        [0, 0, 0, ..., 0, 0, 0],\n",
       "        [0, 0, 0, ..., 0, 0, 0],\n",
       "        [0, 0, 0, ..., 0, 0, 0]], dtype=uint8),\n",
       " 'labels': array([5, 0, 4, ..., 8, 6, 9])}"
      ]
     },
     "execution_count": 27,
     "metadata": {},
     "output_type": "execute_result"
    }
   ],
   "source": [
    "import numpy as np\n",
    "\n",
    "# Load data\n",
    "with np.load('mnist-6k.npz', allow_pickle=False) as npz_file:\n",
    "    # Load items into a dictionary\n",
    "    mnist = dict(npz_file.items())\n",
    "\n",
    "mnist\n"
   ]
  },
  {
   "cell_type": "markdown",
   "id": "fc70721e",
   "metadata": {},
   "source": [
    "The dictionary contains a data entry with the pixel values of the 6,000 images and a labels one with their target values.\n",
    "\n",
    "We will train our model on 5,000 train images, monitor the training process with a validation set of 500 images and use the 500 remaining ones to get a final test score."
   ]
  },
  {
   "cell_type": "code",
   "execution_count": 28,
   "id": "6a44c807",
   "metadata": {},
   "outputs": [
    {
     "name": "stdout",
     "output_type": "stream",
     "text": [
      "Train: (5000, 784) (5000,)\n",
      "Validation: (500, 784) (500,)\n",
      "Test: (500, 784) (500,)\n"
     ]
    }
   ],
   "source": [
    "from sklearn.model_selection import train_test_split\n",
    "\n",
    "# Create train/test sets\n",
    "X_train, X_test, y_train, y_test = train_test_split(\n",
    "    # Convert uint8 pixel values to float\n",
    "    mnist['data'].astype(np.float32),\n",
    "    mnist['labels'],\n",
    "    test_size=1000, random_state=0\n",
    ")\n",
    "\n",
    "# Split again into validation/test sets\n",
    "X_valid, X_test, y_valid, y_test = train_test_split(\n",
    "    X_test, y_test,\n",
    "    test_size=500, random_state=0\n",
    ")\n",
    "\n",
    "print('Train:', X_train.shape, y_train.shape)\n",
    "# Prints: (5000, 784) (5000,)\n",
    "print('Validation:', X_valid.shape, y_valid.shape)\n",
    "# Prints: (500, 784) (500,)\n",
    "print('Test:', X_test.shape, y_test.shape)\n",
    "# Prints: (500, 784) (500,)"
   ]
  },
  {
   "cell_type": "markdown",
   "id": "e649b990",
   "metadata": {},
   "source": [
    "We split the data into train, validation and test sets by calling the train_test_split() function twice. The first time to extract a train set and the second time to separate the remaining images into validation and test sets. Note that we convert the pixel values to floating point numbers with the astype() function. That way, we won't get warnings if we need to standardize X_train, X_valid or X_test later."
   ]
  },
  {
   "cell_type": "markdown",
   "id": "7a27eb43",
   "metadata": {},
   "source": [
    "### Softmax network\n",
    "Let's define our neural network. First, we need to create the placeholder nodes."
   ]
  },
  {
   "cell_type": "code",
   "execution_count": 29,
   "id": "809f1b77",
   "metadata": {},
   "outputs": [],
   "source": [
    "import tensorflow as tf\n",
    "\n",
    "# Create placeholders\n",
    "X = tf.placeholder(dtype=tf.float32, shape=[None, 784])\n",
    "y = tf.placeholder(dtype=tf.int32, shape=[None])"
   ]
  },
  {
   "cell_type": "markdown",
   "id": "655b6e9c",
   "metadata": {},
   "source": [
    "In the last unit, we created the placeholders without specifying their shape. In practice, setting the shape of placeholders is optional but can help debugging the graph. In the code from above, we set the shape of \n",
    "X\n",
    " and \n",
    "y\n",
    " to respectively \n",
    "(\n",
    "n\n",
    ",\n",
    "784\n",
    ")\n",
    " and \n",
    "(\n",
    "n\n",
    ",\n",
    ")\n",
    " where \n",
    "n\n",
    " is the number of data points. **Since we don't know in advance how many data points we will inject into our graph, we replace \n",
    "n\n",
    " by None.**\n",
    "\n",
    "We can now create the model parameters."
   ]
  },
  {
   "cell_type": "code",
   "execution_count": 30,
   "id": "52a5c116",
   "metadata": {},
   "outputs": [],
   "source": [
    "# Create variables\n",
    "W = tf.Variable(initial_value=tf.zeros(shape=[784, 10]))\n",
    "b = tf.Variable(initial_value=tf.zeros(shape=[10]))"
   ]
  },
  {
   "cell_type": "markdown",
   "id": "ff8f4a80",
   "metadata": {},
   "source": [
    "This code is similar to what we saw in the previous unit. We create the two variables and set their initial values with the initial_value parameter. We create a \n",
    "(\n",
    "784\n",
    ",\n",
    "10\n",
    ")\n",
    " matrix of zeros for the weights matrix using the zeros() function from TensorFlow. Similarly, we create a \n",
    "(\n",
    "10\n",
    ",\n",
    ")\n",
    " vector of zeros for the biases vector.\n",
    "\n",
    "We can now implement the formula from above to compute the matrix of logits \n",
    "Z\n",
    "."
   ]
  },
  {
   "cell_type": "code",
   "execution_count": 31,
   "id": "4516077d",
   "metadata": {},
   "outputs": [
    {
     "name": "stdout",
     "output_type": "stream",
     "text": [
      "(?, 10)\n"
     ]
    }
   ],
   "source": [
    "# Compute logits\n",
    "logits = tf.add(tf.matmul(X, W), b)\n",
    "print(logits.shape)"
   ]
  },
  {
   "cell_type": "markdown",
   "id": "94f52876",
   "metadata": {},
   "source": [
    "We use the matmul() function from TensorFlow to create a matrix multiplication operation and the add() function to add the bias values. We can verify that the shape of the logits matrix is \n",
    "(\n",
    "n\n",
    ",\n",
    "10\n",
    ")\n",
    " with the shape attribute of the logits tensor.\n",
    "\n",
    "Now that we have a logits node that contains the predictions, let's add a loss function node to evaluate them.\n",
    "\n",
    "### Cross-entropy loss function\n",
    "\n",
    "We saw in the unit about logistic regressions that the loss function for logistic and softmax regressions is cross-entropy. TensorFlow implements a softmax_cross_entropy_with_logits() function that combines the softmax and cross-entropy operations. The function takes a matrix of logits and the target values and computes the cross-entropy score."
   ]
  },
  {
   "cell_type": "code",
   "execution_count": 32,
   "id": "5e593eb7",
   "metadata": {},
   "outputs": [
    {
     "name": "stdout",
     "output_type": "stream",
     "text": [
      "WARNING:tensorflow:From <ipython-input-32-fd173df4c747>:5: softmax_cross_entropy_with_logits (from tensorflow.python.ops.nn_ops) is deprecated and will be removed in a future version.\n",
      "Instructions for updating:\n",
      "\n",
      "Future major versions of TensorFlow will allow gradients to flow\n",
      "into the labels input on backprop by default.\n",
      "\n",
      "See `tf.nn.softmax_cross_entropy_with_logits_v2`.\n",
      "\n",
      "(?,)\n"
     ]
    }
   ],
   "source": [
    "# Cross-entropy loss function\n",
    "y_one_hot = tf.one_hot(indices=y, depth=10)\n",
    "ce = tf.nn.softmax_cross_entropy_with_logits(\n",
    "    labels=y_one_hot, # Requires one-hot encoded labels\n",
    "    logits=logits\n",
    ")\n",
    "print(ce.shape)"
   ]
  },
  {
   "cell_type": "markdown",
   "id": "76c4046e",
   "metadata": {},
   "source": [
    "**The function requires the target values to be one-hot encoded.** To achieve this, we add a one-hot encoding operation with the one_hot() function. We pass the target node y with the indices argument and the number of classes with the depth one. We can then create the softmax with cross-entropy node ce which contains the cross-entropy score for each data point.\n",
    "\n",
    "Note that TensorFlow also provides a **sparse_softmax_cross_entropy_with_logits() function that doesn't require the labels to be one-hot encoded**"
   ]
  },
  {
   "cell_type": "code",
   "execution_count": 33,
   "id": "03aa1111",
   "metadata": {},
   "outputs": [
    {
     "name": "stdout",
     "output_type": "stream",
     "text": [
      "(?,)\n"
     ]
    }
   ],
   "source": [
    "# Cross-entropy loss function (without one-hot encoding)\n",
    "ce = tf.nn.sparse_softmax_cross_entropy_with_logits(\n",
    "    labels=y, logits=logits)\n",
    "print(ce.shape) # prints: (?,)"
   ]
  },
  {
   "cell_type": "code",
   "execution_count": 34,
   "id": "82b152c7",
   "metadata": {},
   "outputs": [
    {
     "name": "stdout",
     "output_type": "stream",
     "text": [
      "()\n"
     ]
    }
   ],
   "source": [
    "# Mean cross-entropy\n",
    "mean_ce = tf.reduce_mean(ce)\n",
    "print(mean_ce.shape)"
   ]
  },
  {
   "cell_type": "markdown",
   "id": "13351232",
   "metadata": {},
   "source": [
    "Note that the ce and mean_ce tensors have a different shape. In the first case, the shape of ce is (?,) which means that it's a vector (1d tensor) with an unknown length. In the second case, the shape of mean_ce is () which means that it's a single value (0d tensor)."
   ]
  },
  {
   "cell_type": "markdown",
   "id": "21dda457",
   "metadata": {},
   "source": [
    "### Optimizer\n",
    "\n",
    "Finally, let's define the optimizer and the training operation using the code from the previous unit"
   ]
  },
  {
   "cell_type": "code",
   "execution_count": 35,
   "id": "519211cf",
   "metadata": {},
   "outputs": [],
   "source": [
    "# Gradient descent\n",
    "lr = tf.placeholder(dtype=tf.float32, shape=[])\n",
    "gd = tf.train.GradientDescentOptimizer(\n",
    "    learning_rate=lr)\n",
    "\n",
    "# Minimize cross-entropy\n",
    "train_op = gd.minimize(mean_ce)"
   ]
  },
  {
   "cell_type": "markdown",
   "id": "71f999fc",
   "metadata": {},
   "source": [
    "This time, we specify the shape of the learning rate lr placeholder. Since it's a single value, we set shape=[]."
   ]
  },
  {
   "cell_type": "markdown",
   "id": "992079ff",
   "metadata": {},
   "source": [
    "### Measuring accuracy\n",
    "\n",
    "In this example, we will also compute the accuracy of our predictions. We saw in the unit about logistic regressions that the softmax function assigns the highest probability to the class with the largest logit. To compute the accuracy of our network, let's start by creating a predictions tensor with the class that has the maximum logit value using the argmax() function."
   ]
  },
  {
   "cell_type": "code",
   "execution_count": 36,
   "id": "6684fac8",
   "metadata": {},
   "outputs": [
    {
     "name": "stdout",
     "output_type": "stream",
     "text": [
      "(?,)\n"
     ]
    }
   ],
   "source": [
    "# Compute predictions\n",
    "predictions = tf.argmax(\n",
    "    logits, # shape: (n, 10)\n",
    "    axis=1, # class with max logit\n",
    "    output_type=tf.int32 # Same type as labels\n",
    ")\n",
    "print(predictions.shape)"
   ]
  },
  {
   "cell_type": "markdown",
   "id": "d712df27",
   "metadata": {},
   "source": [
    "The function will return the index of the column (axis one) in the logits matrix with the largest value for each data point. Hence, we get a predictions tensor with one entry for each data point, and its shape is (?,).\n",
    "\n",
    "To compute the accuracy of our network, we need to compare these predictions to the target values. For this reason, the two tensors need to have the same data type. In the code from above, we set the data type of the output of the argmax() function with the output_type argument.\n",
    "\n",
    "Let's compare the predictions to the target values using the equal() function."
   ]
  },
  {
   "cell_type": "code",
   "execution_count": 37,
   "id": "995e7180",
   "metadata": {},
   "outputs": [
    {
     "name": "stdout",
     "output_type": "stream",
     "text": [
      "(?,)\n"
     ]
    }
   ],
   "source": [
    "# Are the predictions correct?\n",
    "is_correct = tf.equal(y, predictions)\n",
    "print(is_correct.shape)"
   ]
  },
  {
   "cell_type": "markdown",
   "id": "ebadc732",
   "metadata": {},
   "source": [
    "The is_correct variable is a tensor with a boolean value for each data point. The accuracy of our network is simply the proportion of True entries. To compute this accuracy value, we first convert the boolean values to numerical 0/1 values with the cast() function and then compute the mean with the reduce_mean() one."
   ]
  },
  {
   "cell_type": "code",
   "execution_count": 38,
   "id": "571eb628",
   "metadata": {},
   "outputs": [
    {
     "name": "stdout",
     "output_type": "stream",
     "text": [
      "()\n"
     ]
    }
   ],
   "source": [
    "# Accuracy\n",
    "accuracy = tf.reduce_mean(\n",
    "    # Convert booleans (false/true) to 0/1 float numbers\n",
    "    tf.cast(is_correct, dtype=tf.float32)\n",
    ")\n",
    "print(accuracy.shape)"
   ]
  },
  {
   "cell_type": "markdown",
   "id": "3b499f9e",
   "metadata": {},
   "source": [
    "> ### Side note about reduce_mean() and data types\n",
    ">\n",
    "> Note that the reduce_mean() function returns a tensor with the same data type as its input. Hence, if we forget to convert our boolean values to floating points 0/1, we would get a mean of zero or one."
   ]
  },
  {
   "cell_type": "code",
   "execution_count": 39,
   "id": "4ceae7ad",
   "metadata": {},
   "outputs": [
    {
     "name": "stdout",
     "output_type": "stream",
     "text": [
      "0.6\n",
      "0\n"
     ]
    }
   ],
   "source": [
    "with tf.Session() as sess:\n",
    "    # Test reduce_mean operation with different data types\n",
    "    print(sess.run(\n",
    "        tf.reduce_mean(\n",
    "            # Floating points 0/1 values\n",
    "            [0., 0., 1., 1., 1.]\n",
    "        )\n",
    "    ))\n",
    "    # Prints: 0.6\n",
    "    print(sess.run(\n",
    "        tf.reduce_mean(\n",
    "            # Integer 0/1 values\n",
    "            [0, 0, 1, 1, 1]\n",
    "        )\n",
    "    ))"
   ]
  },
  {
   "cell_type": "markdown",
   "id": "3256d261",
   "metadata": {},
   "source": [
    ">In this code, we pass an array of 0/1 values to a reduce_mean() operation and run it in a session. It returns 0.6 when the values are floating point numbers but zero when they are encoded as integer values.\n",
    "\n",
    "Now that we have a graph, let's see how to train it."
   ]
  },
  {
   "cell_type": "markdown",
   "id": "62c29384",
   "metadata": {},
   "source": [
    "### Batch generator\n",
    "In the last unit, we trained the network by running **the training operation** a hundred times using the entire data set. In practice, we often need to train neural networks on large data sets, and it's usually not possible to run the graph using the entire data. In particular, we need to be careful when running our graphs using GPUs since they have smaller memories than CPUs. For this reason, we usually train neural networks by small batches of data points.\n",
    "\n",
    "Let's create a function that iterates through our X/y arrays by small batches of data points using Python generators with the yield syntax. You can think of generators as a Python object that can be consumed by a for loop to iterate over a set of values (for more see here : https://stackoverflow.com/a/231855)."
   ]
  },
  {
   "cell_type": "code",
   "execution_count": 40,
   "id": "efaa952d",
   "metadata": {},
   "outputs": [
    {
     "data": {
      "text/plain": [
       "<generator object get_batches at 0x000001D36BFC8F10>"
      ]
     },
     "execution_count": 40,
     "metadata": {},
     "output_type": "execute_result"
    }
   ],
   "source": [
    "# Function to get batches of data\n",
    "def get_batches(X, y, batch_size):\n",
    "    # Enumerate indexes by steps of batch_size\n",
    "    # i: 0, b, 2b, 3b, 4b, .. where b is the batch size\n",
    "    for i in range(0, len(y), batch_size):\n",
    "        # \"yield\" data between index i and i+b (not included)\n",
    "        yield X[i:i+batch_size], y[i:i+batch_size]\n",
    "\n",
    "get_batches(X_train, y_train, 64)"
   ]
  },
  {
   "cell_type": "markdown",
   "id": "88d5e301",
   "metadata": {},
   "source": [
    "In this code, we define a get_batches() function that returns batches of data points from the X and y arrays of size batch_size. To achieve this, we generate an index i that ranges between zero and the number of data points by steps of size batch_size. For instance, if we have 10 data points and the batch size is 3, the i variable will take the values 0, 3, 6 and 9. To create the current batch, we extract rows of the X/y arrays between i and i+batch_size. In our example with ten data points, the function will create four batches.\n",
    "\n",
    "- 1st batch - points 0, 1 and 2\n",
    "- 2nd batch - points 3, 4 and 5\n",
    "- 3rd batch - points 6, 7 and 8\n",
    "- 4th batch - point 9"
   ]
  },
  {
   "cell_type": "code",
   "execution_count": 41,
   "id": "9118c3da",
   "metadata": {},
   "outputs": [
    {
     "name": "stdout",
     "output_type": "stream",
     "text": [
      "Batch X/y: (64, 784) (64,)\n",
      "Batch X/y: (64, 784) (64,)\n",
      "Batch X/y: (64, 784) (64,)\n",
      "Batch X/y: (64, 784) (64,)\n",
      "Batch X/y: (64, 784) (64,)\n",
      "Batch X/y: (64, 784) (64,)\n",
      "Batch X/y: (64, 784) (64,)\n",
      "Batch X/y: (64, 784) (64,)\n",
      "Batch X/y: (64, 784) (64,)\n",
      "Batch X/y: (64, 784) (64,)\n",
      "Batch X/y: (64, 784) (64,)\n",
      "Batch X/y: (64, 784) (64,)\n",
      "Batch X/y: (64, 784) (64,)\n",
      "Batch X/y: (64, 784) (64,)\n",
      "Batch X/y: (64, 784) (64,)\n",
      "Batch X/y: (64, 784) (64,)\n",
      "Batch X/y: (64, 784) (64,)\n",
      "Batch X/y: (64, 784) (64,)\n",
      "Batch X/y: (64, 784) (64,)\n",
      "Batch X/y: (64, 784) (64,)\n",
      "Batch X/y: (64, 784) (64,)\n",
      "Batch X/y: (64, 784) (64,)\n",
      "Batch X/y: (64, 784) (64,)\n",
      "Batch X/y: (64, 784) (64,)\n",
      "Batch X/y: (64, 784) (64,)\n",
      "Batch X/y: (64, 784) (64,)\n",
      "Batch X/y: (64, 784) (64,)\n",
      "Batch X/y: (64, 784) (64,)\n",
      "Batch X/y: (64, 784) (64,)\n",
      "Batch X/y: (64, 784) (64,)\n",
      "Batch X/y: (64, 784) (64,)\n",
      "Batch X/y: (64, 784) (64,)\n",
      "Batch X/y: (64, 784) (64,)\n",
      "Batch X/y: (64, 784) (64,)\n",
      "Batch X/y: (64, 784) (64,)\n",
      "Batch X/y: (64, 784) (64,)\n",
      "Batch X/y: (64, 784) (64,)\n",
      "Batch X/y: (64, 784) (64,)\n",
      "Batch X/y: (64, 784) (64,)\n",
      "Batch X/y: (64, 784) (64,)\n",
      "Batch X/y: (64, 784) (64,)\n",
      "Batch X/y: (64, 784) (64,)\n",
      "Batch X/y: (64, 784) (64,)\n",
      "Batch X/y: (64, 784) (64,)\n",
      "Batch X/y: (64, 784) (64,)\n",
      "Batch X/y: (64, 784) (64,)\n",
      "Batch X/y: (64, 784) (64,)\n",
      "Batch X/y: (64, 784) (64,)\n",
      "Batch X/y: (64, 784) (64,)\n",
      "Batch X/y: (64, 784) (64,)\n",
      "Batch X/y: (64, 784) (64,)\n",
      "Batch X/y: (64, 784) (64,)\n",
      "Batch X/y: (64, 784) (64,)\n",
      "Batch X/y: (64, 784) (64,)\n",
      "Batch X/y: (64, 784) (64,)\n",
      "Batch X/y: (64, 784) (64,)\n",
      "Batch X/y: (64, 784) (64,)\n",
      "Batch X/y: (64, 784) (64,)\n",
      "Batch X/y: (64, 784) (64,)\n",
      "Batch X/y: (64, 784) (64,)\n",
      "Batch X/y: (64, 784) (64,)\n",
      "Batch X/y: (64, 784) (64,)\n",
      "Batch X/y: (64, 784) (64,)\n",
      "Batch X/y: (64, 784) (64,)\n",
      "Batch X/y: (64, 784) (64,)\n",
      "Batch X/y: (64, 784) (64,)\n",
      "Batch X/y: (64, 784) (64,)\n",
      "Batch X/y: (64, 784) (64,)\n",
      "Batch X/y: (64, 784) (64,)\n",
      "Batch X/y: (64, 784) (64,)\n",
      "Batch X/y: (64, 784) (64,)\n",
      "Batch X/y: (64, 784) (64,)\n",
      "Batch X/y: (64, 784) (64,)\n",
      "Batch X/y: (64, 784) (64,)\n",
      "Batch X/y: (64, 784) (64,)\n",
      "Batch X/y: (64, 784) (64,)\n",
      "Batch X/y: (64, 784) (64,)\n",
      "Batch X/y: (64, 784) (64,)\n",
      "Batch X/y: (8, 784) (8,)\n"
     ]
    }
   ],
   "source": [
    "# Use generator in a \"for\" loop\n",
    "for X_batch, y_batch in get_batches(X_train, y_train, 64):\n",
    "    print('Batch X/y:', X_batch.shape, y_batch.shape)"
   ]
  },
  {
   "cell_type": "markdown",
   "id": "551dfcaa",
   "metadata": {},
   "source": [
    "In this code, we set the batch size to 64, and get batches of 64 data points (except for the last batch which has 8 data points).\n",
    "\n",
    "### Training network\n",
    "\n",
    "Let's train our network by adapting the code from the previous unit."
   ]
  },
  {
   "cell_type": "code",
   "execution_count": 42,
   "id": "bc7430eb",
   "metadata": {},
   "outputs": [],
   "source": [
    "# Accuracy score after each batch of data\n",
    "acc_values = []\n",
    "\n",
    "# Initialization operation\n",
    "initialization_op = tf.global_variables_initializer()\n",
    "\n",
    "\n",
    "config = tf.ConfigProto()\n",
    "config.gpu_options.allow_growth = True\n",
    "\n",
    "with tf.Session(config=config) as sess:\n",
    "    # Initialize the graph\n",
    "    sess.run(initialization_op)\n",
    "\n",
    "    # Get batches of data\n",
    "    for X_batch, y_batch in get_batches(X_train, y_train, 64):\n",
    "        # Run training and evaluate accuracy\n",
    "        _, batch_acc = sess.run([train_op, accuracy], feed_dict={\n",
    "            X: X_batch,\n",
    "            y: y_batch,\n",
    "            lr: 0.1 # learning rate\n",
    "        })\n",
    "        acc_values.append(batch_acc)\n",
    "\n",
    "    # Get weight matrix and biases\n",
    "    W_fitted = W.eval()\n",
    "    b_fitted = b.eval()\n",
    "    # .. which is equivalent to\n",
    "    W_fitted, b_fitted = sess.run([W, b])"
   ]
  },
  {
   "cell_type": "markdown",
   "id": "af822fc7",
   "metadata": {},
   "source": [
    "We start by creating an initialization operation initialization_op and run it to initialize the variables in our session. We then run the train operation train_op by batches of data and save the batch accuracy values in an acc_values variable. Finally, we get the weights matrix and the biases vector with the eval() function which is another way to evaluate tensors."
   ]
  },
  {
   "cell_type": "code",
   "execution_count": 43,
   "id": "678a6385",
   "metadata": {},
   "outputs": [
    {
     "data": {
      "image/png": "[encoded data removed]",
      "text/plain": [
       "<Figure size 432x288 with 1 Axes>"
      ]
     },
     "metadata": {
      "needs_background": "light"
     },
     "output_type": "display_data"
    }
   ],
   "source": [
    "%matplotlib inline\n",
    "import matplotlib.pyplot as plt\n",
    "\n",
    "# Plot accuracy values\n",
    "plt.plot(acc_values)\n",
    "plt.title('Train accuracy (last 20 batches): {:.3f}'.format(\n",
    "    # Average accuracy value\n",
    "    np.mean(acc_values[-20:])\n",
    "))\n",
    "plt.xlabel('batch')\n",
    "plt.ylabel('accuracy')\n",
    "plt.show()"
   ]
  },
  {
   "cell_type": "markdown",
   "id": "f54adff6",
   "metadata": {},
   "source": [
    "Since we evaluate the accuracy on only 64 data points, our accuracy measure is not very precise and varies a lot between each batch of data. However, it's clear that our network is learning and the final test accuracy should be between 80% and 90% if we didn't overfit.\n",
    "\n",
    "### Visualize templates\n",
    "\n",
    "We saw above that each output neuron learns from the data by tuning its synaptic weights (the columns of \n",
    "W\n",
    "). These weights are the signature of each output neuron. They tell us what each neuron tries to detect in the input. In our case, each weight corresponds to a pixel in our 28 by 28 images. Hence, we can plot these weights to get templates of digits learned by each neuron."
   ]
  },
  {
   "cell_type": "code",
   "execution_count": 44,
   "id": "ac1bcc4b",
   "metadata": {},
   "outputs": [
    {
     "data": {
      "image/png": "[encoded data removed]",
      "text/plain": [
       "<Figure size 720x216 with 10 Axes>"
      ]
     },
     "metadata": {
      "needs_background": "light"
     },
     "output_type": "display_data"
    }
   ],
   "source": [
    "# Create figure with 10 subplots\n",
    "fig, axes = plt.subplots(nrows=1, ncols=10, figsize=(10, 3))\n",
    "\n",
    "# Plot the weights for each class in a subplot\n",
    "for i, axis in enumerate(axes):\n",
    "    # Get weights of the i-th class\n",
    "    weights = W_fitted[:, i]\n",
    "\n",
    "    # Reshape weight values into a 28x28 array\n",
    "    template = weights.reshape(28, 28)\n",
    "\n",
    "    # Plot array\n",
    "    axis.imshow(template, plt.cm.gray_r) # Grayscale (reversed)\n",
    "    axis.get_xaxis().set_visible(False) # disable x-axis\n",
    "    axis.get_yaxis().set_visible(False) # disable y-axis\n",
    "\n",
    "plt.show()"
   ]
  },
  {
   "cell_type": "markdown",
   "id": "d0a53e65",
   "metadata": {},
   "source": [
    "In this code, we create a figure with ten subplots using the subplots() function from Pyplot and get a list of axes. We plot each template by enumerating the axes. The axis and the i variables in the for loop contain each axis and its index in the list of axes. We use the index to extract the weights of the i-th output neuron and reshape these weights into a 28 by 28 array that we can then plot by calling the imshow() function of the axis object. Note that we hide the x and y axes with the set_visible() function\n",
    "\n",
    "These templates define what each neuron expects. Black areas correspond to pixels that \"stimulate\" the output neuron, grey areas correspond to pixels that have a small impact on the output, and white areas correspond to pixels that decrease the activity of the neuron. For instance, the template for images of zeros will detect images (positive logit) with positive pixel values on the circle around the center of the image (black area) but reject ones (negative logit value) with positive pixel values in the center of the image (white area).\n",
    "\n",
    "### Improve learning\n",
    "\n",
    "The digits in the templates from above are not perfectly smooth. There seems to be some noise. We saw in the last course that gradient descent is sensitive to the scale of the data. Let's try to improve learning by standardizing the input data.\n",
    "\n",
    "We can use the StandardScaler object from Scikit-learn."
   ]
  },
  {
   "cell_type": "code",
   "execution_count": 45,
   "id": "8c9a7afc",
   "metadata": {},
   "outputs": [
    {
     "data": {
      "text/plain": [
       "StandardScaler(copy=True, with_mean=True, with_std=True)"
      ]
     },
     "execution_count": 45,
     "metadata": {},
     "output_type": "execute_result"
    }
   ],
   "source": [
    "from sklearn.preprocessing import StandardScaler\n",
    "\n",
    "# Create a StandardScaler object and fit it to train data\n",
    "scaler = StandardScaler()\n",
    "scaler.fit(X_train)"
   ]
  },
  {
   "cell_type": "markdown",
   "id": "42144268",
   "metadata": {},
   "source": [
    "Let's run the training process with the standardized data. **This time, we will also monitor the validation accuracy.**"
   ]
  },
  {
   "cell_type": "code",
   "execution_count": 46,
   "id": "0ea8f637",
   "metadata": {},
   "outputs": [],
   "source": [
    "# Accuracy scores after each batch\n",
    "train_acc_values = []\n",
    "valid_acc_values = []\n",
    "\n",
    "with tf.Session() as sess:\n",
    "    # Initialize the graph\n",
    "    sess.run(initialization_op)\n",
    "\n",
    "    # Rescale input data\n",
    "    X_train_rescaled = scaler.transform(X_train)\n",
    "    X_valid_rescaled = scaler.transform(X_valid)\n",
    "\n",
    "    # Get batches of data\n",
    "    for X_batch, y_batch in get_batches(X_train_rescaled, y_train, 64):\n",
    "        # Run training and evaluate accuracy\n",
    "        _, train_acc = sess.run([train_op, accuracy], feed_dict={\n",
    "            X: X_batch,\n",
    "            y: y_batch,\n",
    "            lr: 0.01 # decrease learning rate\n",
    "        })\n",
    "        train_acc_values.append(train_acc)\n",
    "\n",
    "        # Evaluate validation accuracy\n",
    "        valid_acc = sess.run(accuracy, feed_dict={\n",
    "            X: X_valid_rescaled,\n",
    "            y: y_valid\n",
    "        })\n",
    "        valid_acc_values.append(valid_acc)\n",
    "\n",
    "    # Get weight matrix and biases\n",
    "    W_fitted = W.eval()\n",
    "    b_fitted = b.eval()"
   ]
  },
  {
   "cell_type": "markdown",
   "id": "44c06e7a",
   "metadata": {},
   "source": [
    "In this code, we rescale the train and validation data and then run the training operation in batches. At each iteration, we compute the accuracy on the current training batch and the accuracy on the validation set, and we store the values in the train_acc_values and valid_acc_values variables. Finally, we evaluate the synaptic weights and biases.\n",
    "\n",
    "**Note that the sess.run([train_op, accuracy], ...) command for the train_acc required a dictionary input for the learning rate lr while the sess.run(accuracy, ...) command for the valid_acc didn't. This is because the accuracy tensor doesn't depend on lr, while the operater train_op does.** In other words, feed_dict needs to contain all placeholders that might be required by the tensors and operators in the run() function.\n",
    "\n",
    "Going back to our network. Let's plot the accuracy values."
   ]
  },
  {
   "cell_type": "code",
   "execution_count": 47,
   "id": "89335dd9",
   "metadata": {},
   "outputs": [
    {
     "data": {
      "image/png": "[encoded data removed]",
      "text/plain": [
       "<Figure size 432x288 with 1 Axes>"
      ]
     },
     "metadata": {
      "needs_background": "light"
     },
     "output_type": "display_data"
    }
   ],
   "source": [
    "%matplotlib inline\n",
    "import matplotlib.pyplot as plt\n",
    "\n",
    "# Plot accuracy values\n",
    "plt.plot(train_acc_values, label='train')\n",
    "plt.plot(valid_acc_values, label='validation')\n",
    "plt.title('Validation accuracy: {:.3f}'.format(\n",
    "    valid_acc_values[-1] # Last validation accuracy value\n",
    "))\n",
    "plt.xlabel('batch')\n",
    "plt.ylabel('accuracy')\n",
    "plt.legend()\n",
    "plt.show()"
   ]
  },
  {
   "cell_type": "markdown",
   "id": "3b5eb73d",
   "metadata": {},
   "source": [
    "By looking at the two curves, it doesn't seem that the model is overfitting. Both curves increase, and the last validation accuracy is around 85%.\n",
    "\n",
    "Let's rerun the code from above to plot the values in the weights matrix W_fitted."
   ]
  },
  {
   "cell_type": "code",
   "execution_count": 48,
   "id": "f060809a",
   "metadata": {},
   "outputs": [
    {
     "data": {
      "image/png": "[encoded data removed]",
      "text/plain": [
       "<Figure size 720x216 with 10 Axes>"
      ]
     },
     "metadata": {
      "needs_background": "light"
     },
     "output_type": "display_data"
    }
   ],
   "source": [
    "# Create figure with 10 subplots\n",
    "fig, axes = plt.subplots(nrows=1, ncols=10, figsize=(10, 3))\n",
    "\n",
    "# Plot the weights for each class in a subplot\n",
    "for i, axis in enumerate(axes):\n",
    "    # Get weights of the i-th class\n",
    "    weights = W_fitted[:, i]\n",
    "\n",
    "    # Reshape weight values into a 28x28 array\n",
    "    template = weights.reshape(28, 28)\n",
    "\n",
    "    # Plot array\n",
    "    axis.imshow(template, plt.cm.gray_r) # Grayscale (reversed)\n",
    "    axis.get_xaxis().set_visible(False) # disable x-axis\n",
    "    axis.get_yaxis().set_visible(False) # disable y-axis\n",
    "\n",
    "plt.show()"
   ]
  },
  {
   "cell_type": "markdown",
   "id": "8b889105",
   "metadata": {},
   "source": [
    "This time, the noise in the templates disappeared, and we can clearly recognize each digit.\n",
    "\n",
    "Finally, let's compute a final accuracy measure using the test set."
   ]
  },
  {
   "cell_type": "code",
   "execution_count": 49,
   "id": "34f9a81b",
   "metadata": {},
   "outputs": [
    {
     "name": "stdout",
     "output_type": "stream",
     "text": [
      "Test accuracy: 0.850\n"
     ]
    }
   ],
   "source": [
    "with tf.Session() as sess:\n",
    "    # Initialize the graph\n",
    "    sess.run(initialization_op)\n",
    "\n",
    "    # Compute test accuracy\n",
    "    acc_val = sess.run(accuracy, feed_dict={\n",
    "        X: scaler.transform(X_test), # Rescale data\n",
    "        y: y_test,\n",
    "        W: W_fitted, # Set weights\n",
    "        b: b_fitted # Set biases\n",
    "    })\n",
    "    print('Test accuracy: {:.3f}'.format(acc_val))"
   ]
  },
  {
   "cell_type": "markdown",
   "id": "c50523a1",
   "metadata": {},
   "source": [
    "Again, since **we create a new session, we need to initialize it by running the initialization_op and then pass the weights matrix and biases vector from above with the feed_dict argument**. Note that we also need to rescale our input test data using the scaler object from above. We get a final accuracy measure around 85%."
   ]
  },
  {
   "cell_type": "markdown",
   "id": "ce293b6b",
   "metadata": {},
   "source": [
    "### Summary\n",
    "In this unit, we saw how to implement a simple neural network with a single layer of neurons and saw how to train it by batches of data using a batch generator.\n",
    "\n",
    "In the next subject, we will try to add layers of neurons to our network and learn about convolutional neural networks. But before this, let's do a short exercise to solidify our knowledge about neural networks.\n",
    "\n",
    "### Q & A \n",
    "I dont understand why we define our neural network without the data ?\n",
    "> That is the way a network is defined in TensorFlow 1. We first define a computation graph (i.e. an abstraction of all the computations without an actual input). The inputs are defined as placeholders, where we just define the shape and type. It is only at the session execution time that we feed data to these placeholders and run the graph. I agree that this is not a very pythonic way to code, but this is how the TensorFlow 1 library is defined in python.\n",
    "\n",
    "What is the benefit of the softmax_cross_entropy() compared to the sparse one.\n",
    "I compare the train accuracy curve using the two functions : I ended up with the same curve in both cases.?\n",
    ">  These two loss functions used in multicalss-calssification are equivalent, but expect different format of the labels. While softmax_cross_entropy expects one-hot encoded labels y_one_hot, sparse_softmax_cross_entropy expects integer encoded labels y. Using softmax_cross_entropy with y_one_hot is exactly equivalent to using sparse_softmax_cross_entropy with y as defined in the unit. Note that passing y_one_hot to sparse_softmax_cross_entropy will throw an error. However, doing the opposite by passing y to softmax_cross_entropy might not throw an error but won’t necessarily give the expected performance results.\n",
    "\n",
    "Why do we need to initialize in the last step? And what do we actually initialize? As we do not call train_op here I do not understand why we need to initialize and what is actually being initialized. All values that we need to evaluate the accuracy are explicitly given by the feed_dict, there are no unknowns and no default values to initialize. Same question for the y_hat evaluation at the end of the previous section. I tried both examples without sess.run(initialization_op) and do not see a difference.\n",
    ">  Nice catch. You are absolutely right! In both instances, there is no need to reinitialize the variables because the variables needed in the respective operations that require initialization are already passed in the dictionary. We usually initialize the tf.Variable with the initialization operation before training. As you have noticed, the initialization here is superfluous as the variables are overwritten by the feed_dict."
   ]
  },
  {
   "cell_type": "markdown",
   "id": "5cfa5830",
   "metadata": {},
   "source": [
    "### Exercise 4-7-1 and 4-7-2"
   ]
  },
  {
   "cell_type": "code",
   "execution_count": null,
   "id": "eadfd70a",
   "metadata": {},
   "outputs": [],
   "source": []
  }
 ],
 "metadata": {
  "kernelspec": {
   "display_name": "Python 3",
   "language": "python",
   "name": "python3"
  },
  "language_info": {
   "codemirror_mode": {
    "name": "ipython",
    "version": 3
   },
   "file_extension": ".py",
   "mimetype": "text/x-python",
   "name": "python",
   "nbconvert_exporter": "python",
   "pygments_lexer": "ipython3",
   "version": "3.6.13"
  }
 },
 "nbformat": 4,
 "nbformat_minor": 5
}
