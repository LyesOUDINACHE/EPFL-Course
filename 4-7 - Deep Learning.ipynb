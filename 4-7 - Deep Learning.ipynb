{
 "cells": [
  {
   "cell_type": "markdown",
   "id": "221785b9",
   "metadata": {},
   "source": [
    "# Introduction to Deep Learning\n",
    "\n",
    "In this subject and the next one, we will learn about deep learning which is a type of machine learning. In this unit, we will start by discussing the basic vocabulary for deep learning such as neural network, artificial neurons, network architecture and learn about the recent role of GPUs in training these deep learning models.\n",
    "\n",
    "### Deep learning\n",
    "\n",
    "Let's start by defining what a neural network is. Neural networks are machine learning models that have a graph structure inspired by the brain with interconnected units called artificial neurons. There are many different types of neural network architecture. You can take a look at this video which shows different architectures trained to recognize digits from the MNIST database. https://www.youtube.com/watch?v=3JQ3hYko51Y\n",
    "\n",
    "\n",
    "These networks typically have a large number of neurons and interconnections which makes them computationally expensive to train and use. However, due to recent advances in parallel computing, it's now possible to train them a lot faster using graphical processing units (GPUs), designed initially to render intensive graphical tasks like video games. **Also, we can now build larger and in particular deeper networks that can perform more complex tasks than traditional machine learning methods**. Deep learning refers to these recent deep architectures of neural networks.\n",
    "\n",
    "### Why GPUs"
   ]
  },
  {
   "cell_type": "markdown",
   "id": "dc313a35",
   "metadata": {},
   "source": [
    "Deep learning models are usually organized into successive layers of neurons. The output of each layer is fed into the next one and so on which creates **a chain of hidden layers** between the input and the network output. With this type of architecture, the network learns simple features in the first layers that are then combined into more complex ones in the next layers and so on. For instance, if the task is to build a network that recognizes faces, the first layers will detect simple features like lines and curves, and the next ones will try to combine them into more complex objects and higher-level concepts like eyes, nose, mouth and so on.\n",
    "\n",
    "This ability to automatically **learn features from raw input makes them particularly powerful but also slower to train since each layer adds new parameters to train**. For instance, the AlexNet network, which is famous for being the first deep learning model to beat more traditional approaches in the ImageNet challenge in 2012 (http://www.image-net.org/challenges/LSVRC/2012/results.html), had a total of 650 thousand neurons and 60 million parameters. To train the model, the authors were able to parallelize repetitive operations (matrix and vector operations) using two GPUs.\n",
    "\n",
    "### Summary\n",
    "\n",
    "Let's summarize. Deep learning is a type of machine learning model. Deep learning models can typically solve more complex tasks but at the cost of having a larger number of parameters to tune. However, it's usually possible to accelerate the training process using the parallel computations capabilities of GPUs.\n",
    "\n",
    "In the next units,**we will see how to create, train and use neural networks with the TensorFlow library**. In this subject, we will start by implementing the neural network equivalent to a linear regression and then the one equivalent to logistic regression. We will use our network to classify images from the MNIST database. In the next subject, we will then add layers to our networks and try to classify images from the CIFAR-10 data set. Finally, we will learn about convolutional neural networks (CNN) and test a simple one with a few layers"
   ]
  },
  {
   "cell_type": "markdown",
   "id": "dd3582fc",
   "metadata": {},
   "source": [
    "# Setting up TensorFlow"
   ]
  },
  {
   "cell_type": "markdown",
   "id": "163423b1",
   "metadata": {},
   "source": [
    "In this course, we will use TensorFlow (TF) to build and train our deep learning models. Deep learning is a fast-growing area of machine learning. One of the advantages of using TensorFlow is that it's developed, maintained and used internally by Google which means that it's also frequently updated with the latest models and improvements. It's also very popular. Hence, you can easily find support online.\n",
    "\n",
    "### Different APIs\n",
    "\n",
    "There are several ways to develop neural networks in TensorFlow\n",
    "\n",
    ">- Via the low-level graph API\n",
    ">- High-level Keras API\n",
    "\n",
    "In the next units, we will start by introducing computation graphs which is an important underlying principle behind TensorFlow and show how to use the low-level graph API to design simple neural networks.\n",
    "\n",
    "Later in the course, we will also learn about the Keras API which simplifies a lot of the network design and training process.\n",
    "\n",
    "# Computation graphs\n",
    "\n",
    "The goal of this unit is to get familiar with the TensorFlow library and the idea of computation graphs. We will take the brain and body weights data that we saw in the previous course and use TensorFlow to create, fit and use a linear regression model. This will give us a good overview of the library and the tools needed to build neural networks.\n",
    "\n",
    "You can download the data set from the resource section.\n",
    "\n",
    "### Brain and body weights"
   ]
  },
  {
   "cell_type": "code",
   "execution_count": 1,
   "id": "3f8f2fe9",
   "metadata": {},
   "outputs": [
    {
     "data": {
      "text/html": [
       "<div>\n",
       "<style scoped>\n",
       "    .dataframe tbody tr th:only-of-type {\n",
       "        vertical-align: middle;\n",
       "    }\n",
       "\n",
       "    .dataframe tbody tr th {\n",
       "        vertical-align: top;\n",
       "    }\n",
       "\n",
       "    .dataframe thead th {\n",
       "        text-align: right;\n",
       "    }\n",
       "</style>\n",
       "<table border=\"1\" class=\"dataframe\">\n",
       "  <thead>\n",
       "    <tr style=\"text-align: right;\">\n",
       "      <th></th>\n",
       "      <th>body</th>\n",
       "      <th>brain</th>\n",
       "      <th>mammal</th>\n",
       "    </tr>\n",
       "  </thead>\n",
       "  <tbody>\n",
       "    <tr>\n",
       "      <th>0</th>\n",
       "      <td>1.6</td>\n",
       "      <td>-2.0</td>\n",
       "      <td>Lesser short-tailed shrew</td>\n",
       "    </tr>\n",
       "    <tr>\n",
       "      <th>1</th>\n",
       "      <td>2.3</td>\n",
       "      <td>-1.4</td>\n",
       "      <td>Little brown bat</td>\n",
       "    </tr>\n",
       "    <tr>\n",
       "      <th>2</th>\n",
       "      <td>3.1</td>\n",
       "      <td>-1.2</td>\n",
       "      <td>Big brown bat</td>\n",
       "    </tr>\n",
       "    <tr>\n",
       "      <th>3</th>\n",
       "      <td>3.1</td>\n",
       "      <td>-0.9</td>\n",
       "      <td>Mouse</td>\n",
       "    </tr>\n",
       "    <tr>\n",
       "      <th>4</th>\n",
       "      <td>3.9</td>\n",
       "      <td>-1.1</td>\n",
       "      <td>Musk shrew</td>\n",
       "    </tr>\n",
       "  </tbody>\n",
       "</table>\n",
       "</div>"
      ],
      "text/plain": [
       "   body  brain                     mammal\n",
       "0   1.6   -2.0  Lesser short-tailed shrew\n",
       "1   2.3   -1.4           Little brown bat\n",
       "2   3.1   -1.2              Big brown bat\n",
       "3   3.1   -0.9                      Mouse\n",
       "4   3.9   -1.1                 Musk shrew"
      ]
     },
     "execution_count": 1,
     "metadata": {},
     "output_type": "execute_result"
    }
   ],
   "source": [
    "import pandas as pd\n",
    "\n",
    "# Load data\n",
    "data_df = pd.read_csv('brain-body-weights.csv')\n",
    "\n",
    "# First five rows\n",
    "data_df.head()"
   ]
  },
  {
   "cell_type": "markdown",
   "id": "e7d1aee9",
   "metadata": {},
   "source": [
    "We saw in the previous course that there is a linear relationship between the **logarithm of the brain and body weights.** For this reason, the brain and body columns in the DataFrame from above contain the logarithm of the original weights. Let's plot the data."
   ]
  },
  {
   "cell_type": "code",
   "execution_count": 2,
   "id": "a10c0ea7",
   "metadata": {},
   "outputs": [
    {
     "data": {
      "image/png": "[encoded data removed]",
      "text/plain": [
       "<Figure size 432x288 with 1 Axes>"
      ]
     },
     "metadata": {},
     "output_type": "display_data"
    }
   ],
   "source": [
    "%matplotlib inline\n",
    "import matplotlib.pyplot as plt\n",
    "import seaborn as sns\n",
    "\n",
    "# Activate Seaborn\n",
    "sns.set()\n",
    "\n",
    "# Plot data\n",
    "plt.scatter(data_df.body, data_df.brain)\n",
    "plt.xlabel('Body weight (log)')\n",
    "plt.ylabel('Brain weight (log)')\n",
    "plt.show()"
   ]
  },
  {
   "cell_type": "markdown",
   "id": "ab45007e",
   "metadata": {},
   "source": [
    "We can see in the plot that there are three clear outliers. For this example, we will keep them in the data and train our network using Huber loss."
   ]
  },
  {
   "cell_type": "markdown",
   "id": "41723347",
   "metadata": {},
   "source": [
    "### TensorFlow computation graphs\n",
    "\n",
    "In TensorFlow, we define our model using **computation graphs** that specify how the different elements in our model interact with each other. In our example, we want to implement a linear regression model.\n",
    "\n",
    "> ^y=ax+b\n",
    "\n",
    "In this equation, a and b are the slope and intercept parameters, x is the input data and ^y the predictions that we will then use to compare to the output data y using Huber loss. We can represent our model as a sequence of computation steps that modify the data."
   ]
  },
  {
   "cell_type": "code",
   "execution_count": 3,
   "id": "da15eb14",
   "metadata": {},
   "outputs": [
    {
     "data": {
      "text/html": [
       "<img src=\"https://d7whxh71cqykp.cloudfront.net/uploads/image/data/2781/computation-graph.svg\"/>"
      ],
      "text/plain": [
       "<IPython.core.display.Image object>"
      ]
     },
     "execution_count": 3,
     "metadata": {},
     "output_type": "execute_result"
    }
   ],
   "source": [
    "from IPython.display import Image\n",
    "Image(url='https://d7whxh71cqykp.cloudfront.net/uploads/image/data/2781/computation-graph.svg')"
   ]
  },
  {
   "cell_type": "markdown",
   "id": "df13d6e3",
   "metadata": {},
   "source": [
    "Each node in this graph is a step in our computation. For instance, the * node multiplies the input data x by a, or the loss node compares the target values y and the predictions ^y using Huber loss. This is the idea behind computation graphs. We first define a graph and then feed data that \"flows\" through the graph. In the TensorFlow jargon, data values are called **tensors**.\n",
    "\n",
    "Let's see how to define our linear regression graph from above with TensorFlow.\n",
    "\n",
    "### Variables\n",
    "\n"
   ]
  },
  {
   "cell_type": "code",
   "execution_count": 4,
   "id": "ab0cb9a7",
   "metadata": {},
   "outputs": [],
   "source": [
    "import tensorflow as tf"
   ]
  },
  {
   "cell_type": "markdown",
   "id": "7042ff8c",
   "metadata": {},
   "source": [
    "We can now create the \n",
    "a\n",
    " and \n",
    "b\n",
    " parameters with the Variable object."
   ]
  },
  {
   "cell_type": "code",
   "execution_count": 5,
   "id": "b8bba9cc",
   "metadata": {},
   "outputs": [],
   "source": [
    "# Slope and intercept parameters\n",
    "a = tf.Variable(initial_value=0, dtype=tf.float32)\n",
    "b = tf.Variable(initial_value=0, dtype=tf.float32)"
   ]
  },
  {
   "cell_type": "markdown",
   "id": "c99838e8",
   "metadata": {},
   "source": [
    "We need to **specify an initial value**. In our case, we can initialize the two parameters to zero. **TensorFlow assigns a data type** to each variable (and to every tensor in general). By default, it's the data type of the initial value. In our case, 0 is an integer value but both variables should be floating point numbers. Hence, we need to specify the data type by setting dtype=tf.float32.\n",
    "\n",
    "### Placeholders\n",
    "\n",
    "Now that we have a node for each parameter, let's create the nodes for the input and output variables. Again, the idea behind computation graphs is to start by defining a graph of operations and then run the graph by injecting data. For this reason, instead of \"connecting\" the graph to our data_df variable from above, we create placeholder nodes that represent the data to be fed. **We can create them with the placeholder() function.**"
   ]
  },
  {
   "cell_type": "code",
   "execution_count": 6,
   "id": "efc28a1a",
   "metadata": {},
   "outputs": [],
   "source": [
    "# Create a placeholder for input/target data\n",
    "x = tf.placeholder(dtype=tf.float32)\n",
    "y = tf.placeholder(dtype=tf.float32)"
   ]
  },
  {
   "cell_type": "code",
   "execution_count": 7,
   "id": "4bdfd65c",
   "metadata": {},
   "outputs": [],
   "source": [
    "# Compute predictions\n",
    "y_hat = a*x + b"
   ]
  },
  {
   "cell_type": "markdown",
   "id": "e690e8d2",
   "metadata": {},
   "source": [
    "### Loss function\n",
    "Let's define the loss function. TensorFlow provides a set of operations similar to Numpy to work with tensors. For instance, we can define the mean squared error (MSE) using the square() and reduce_mean() functions."
   ]
  },
  {
   "cell_type": "code",
   "execution_count": 8,
   "id": "5fe806fe",
   "metadata": {},
   "outputs": [],
   "source": [
    "# Mean squared error (MSE)\n",
    "loss = tf.reduce_mean( # Equivalent to np.mean()\n",
    "    tf.square( # Equivalent to np.square()\n",
    "        y - y_hat # Implements broadcasting like Numpy\n",
    "    )\n",
    ")"
   ]
  },
  {
   "cell_type": "markdown",
   "id": "c746aa60",
   "metadata": {},
   "source": [
    "Note that TensorFlow implements a few loss functions in its losses module. You can take a look at this page to see the different possibilities. https://www.tensorflow.org/api_docs/python/tf/losses\n",
    "\n",
    "For instance, we will use the Huber loss one for our network."
   ]
  },
  {
   "cell_type": "code",
   "execution_count": 9,
   "id": "7f646e6b",
   "metadata": {},
   "outputs": [],
   "source": [
    "# Huber loss\n",
    "loss = tf.losses.huber_loss(y, y_hat, delta=1.0)"
   ]
  },
  {
   "cell_type": "markdown",
   "id": "c101d832",
   "metadata": {},
   "source": [
    "### Optimizer\n",
    "\n",
    "To train our model, we need to define an optimizer. You can take a look at this page which lists the different optimizers available in TensorFlow. https://www.tensorflow.org/api_docs/python/tf/train\n",
    "\n",
    "Let's use the simple gradient descent strategy."
   ]
  },
  {
   "cell_type": "code",
   "execution_count": 10,
   "id": "9dd0bea4",
   "metadata": {},
   "outputs": [],
   "source": [
    "# Create the optimizer\n",
    "gd = tf.train.GradientDescentOptimizer(\n",
    "    learning_rate=0.1)"
   ]
  },
  {
   "cell_type": "markdown",
   "id": "1d4ac960",
   "metadata": {},
   "source": [
    "In this code, we create a GradientDescentOptimizer and set its learning rate to 0.1. Note that we can also use a placeholder for the learning rate."
   ]
  },
  {
   "cell_type": "code",
   "execution_count": 11,
   "id": "64c55e77",
   "metadata": {},
   "outputs": [],
   "source": [
    "# Learning rate placeholder\n",
    "lr = tf.placeholder(dtype=tf.float32)\n",
    "\n",
    "# Create the optimizer\n",
    "gd = tf.train.GradientDescentOptimizer(\n",
    "    learning_rate=lr)"
   ]
  },
  {
   "cell_type": "markdown",
   "id": "8d0226b2",
   "metadata": {},
   "source": [
    "In this case, we will need to provide a learning rate value when \"running\" the graph.\n",
    "\n",
    "Once we have the optimizer, we can add a new node to our graph that computes the gradients and applies them to the variables. We create this training operation node by calling the minimize() function with the **tensor that we want to minimize**. In our case this tensor is the loss term."
   ]
  },
  {
   "cell_type": "code",
   "execution_count": 12,
   "id": "b18a6def",
   "metadata": {},
   "outputs": [],
   "source": [
    "# Create a training operation\n",
    "train_op = gd.minimize(loss)"
   ]
  },
  {
   "cell_type": "markdown",
   "id": "47e6a9f5",
   "metadata": {},
   "source": [
    "### TensorFlow sessions\n",
    "\n",
    "We can now evaluate the nodes in our graph and get their values using a **sessio**n. A session is a TensorFlow object that encapsulates the environment in which all tfoperations are executed and tensors are evaluated. We usually manage the resources in our session using a *with* statement"
   ]
  },
  {
   "cell_type": "code",
   "execution_count": 13,
   "id": "00a44da3",
   "metadata": {},
   "outputs": [
    {
     "name": "stdout",
     "output_type": "stream",
     "text": [
      "0.0\n"
     ]
    }
   ],
   "source": [
    "# Initialization operation\n",
    "initialization_op = tf.global_variables_initializer()\n",
    "\n",
    "with tf.Session() as sess:\n",
    "    # Initialize the graph\n",
    "    sess.run(initialization_op)\n",
    "\n",
    "    # Evaluate node \"a\"\n",
    "    result = sess.run(a)\n",
    "    print(result)\n",
    "    # Prints: 0.0"
   ]
  },
  {
   "cell_type": "markdown",
   "id": "079db79c",
   "metadata": {},
   "source": [
    "In this code, we create a new Session object in a with statement and use it to evaluate the slope a\n",
    "with its run() function. Note that we need to create and run an **initialization operation** before using the session. We can get this special operation with the global_variables_initializer() function. We won't go into the details of variable initialization for now, but you can take a look at this guide if you want to learn more about it.\n",
    "\n",
    "### Feed data\n",
    "\n",
    "In the example from above, we can evaluate the value of node a because it doesn't depend on any placeholder. For instance, we would get an error if we try to evaluate ^y without setting x.\n"
   ]
  },
  {
   "cell_type": "raw",
   "id": "fd642545",
   "metadata": {},
   "source": [
    "with tf.Session() as sess:\n",
    "    # Initialize the graph\n",
    "    sess.run(initialization_op)\n",
    "\n",
    "    # Compute predictions without injecting an x value\n",
    "    result = sess.run(y_hat)\n",
    "    \n",
    "# Throws InvalidArgumentError:\n",
    "# \"You must feed a value for placeholder tensor 'Placeholder' with dtype float\""
   ]
  },
  {
   "cell_type": "markdown",
   "id": "619024e8",
   "metadata": {},
   "source": [
    "**If you get this kind of error, make sure that all relevant placeholders are set and fed into the tf.Session.** To inject data into the x and y placeholders, we can use the feed_dict argument of the run() function which expects a dictionary of (tensor, values) pairs."
   ]
  },
  {
   "cell_type": "code",
   "execution_count": 15,
   "id": "76d37e55",
   "metadata": {},
   "outputs": [
    {
     "name": "stdout",
     "output_type": "stream",
     "text": [
      "[0. 0. 0. 0. 0. 0. 0. 0. 0. 0. 0. 0. 0. 0. 0. 0. 0. 0. 0. 0. 0. 0. 0. 0.\n",
      " 0. 0. 0. 0. 0. 0. 0. 0. 0. 0. 0. 0. 0. 0. 0. 0. 0. 0. 0. 0. 0. 0. 0. 0.\n",
      " 0. 0. 0. 0. 0. 0. 0. 0. 0. 0. 0. 0. 0. 0. 0. 0. 0.]\n"
     ]
    }
   ],
   "source": [
    "with tf.Session() as sess:\n",
    "    # Initialize the graph\n",
    "    sess.run(initialization_op)\n",
    "\n",
    "    # Compute predictions\n",
    "    result = sess.run(y_hat, feed_dict={\n",
    "        x: data_df.body # Feed body weights\n",
    "    })\n",
    "    print(result)"
   ]
  },
  {
   "cell_type": "markdown",
   "id": "c1f49f0a",
   "metadata": {},
   "source": [
    "In this code, we inject the body weights data_df.body into the x placeholder and evaluate the y_hat node. The values that we get back from sess.run() are the values of y_hat after executing the TensorFlow Graph. In this case, we store those values in a variable called result. We get only zero values because we initialized the a and b variables to zero.\n",
    "\n",
    "### Training\n",
    "\n",
    "To learn the a and b parameters, we need to run the training operation node train_op. The operation depends on the x, y and the lr placeholders."
   ]
  },
  {
   "cell_type": "code",
   "execution_count": 16,
   "id": "1c74b787",
   "metadata": {},
   "outputs": [
    {
     "name": "stdout",
     "output_type": "stream",
     "text": [
      "[None, 2.9202309]\n"
     ]
    }
   ],
   "source": [
    "with tf.Session() as sess:\n",
    "    # Initialize the graph\n",
    "    sess.run(initialization_op)\n",
    "\n",
    "    # Run the training operation, get loss value\n",
    "    result = sess.run([train_op, loss], feed_dict={\n",
    "        x: data_df.body, # Body weights\n",
    "        y: data_df.brain, # Brain weights\n",
    "        lr: 0.1 # Learning rate\n",
    "    })\n",
    "    print(result)"
   ]
  },
  {
   "cell_type": "markdown",
   "id": "dbeba32f",
   "metadata": {},
   "source": [
    "This time, we pass a list of operations (train_op is the gradient descent) and tensors (loss is the loss value) to the run() function. Operations will only return a None value, while tensors will return their value after the graph was executed. The operation train_op will therefore give back None as a value, while the loss node will return 2.9202311, which is the loss value after running the training operation.\n",
    "\n",
    "Let's see if these loss values decrease after each training operation by running train_op a hundred times."
   ]
  },
  {
   "cell_type": "code",
   "execution_count": 17,
   "id": "1133766e",
   "metadata": {},
   "outputs": [],
   "source": [
    "# Monitor the a/b and loss values\n",
    "loss_values = []\n",
    "a_values = []\n",
    "b_values = []\n",
    "\n",
    "with tf.Session() as sess:\n",
    "    # Initialize the graph\n",
    "    sess.run(initialization_op)\n",
    "\n",
    "    # Run 100 times the training operation\n",
    "    for _ in range(100):\n",
    "        # Run training op and collect a/b and loss values\n",
    "        _, loss_val, a_val, b_val = sess.run(\n",
    "            [train_op, loss, a, b],\n",
    "            feed_dict={\n",
    "                x: data_df.body, # Body weight\n",
    "                y: data_df.brain, # Brain weight\n",
    "                lr: 0.1 # Learning rate\n",
    "        })\n",
    "\n",
    "        # Save values\n",
    "        loss_values.append(loss_val)\n",
    "        a_values.append(a_val)\n",
    "        b_values.append(b_val)"
   ]
  },
  {
   "cell_type": "markdown",
   "id": "ac726cf5",
   "metadata": {},
   "source": [
    "In this code, we run train_op a hundred times using a for loop that iterates over the list of digits between 0 and 99 generated with the range() function. At each iteration, we save the loss and parameter values into the loss_values, a_values and b_values lists. Note that we use the \"throwaway\" variable _ to discard unused results.\n",
    "\n",
    "Let's plot the loss and parameter values."
   ]
  },
  {
   "cell_type": "code",
   "execution_count": 18,
   "id": "87ba46ee",
   "metadata": {},
   "outputs": [
    {
     "data": {
      "image/png": "[encoded data removed]",
      "text/plain": [
       "<Figure size 864x216 with 3 Axes>"
      ]
     },
     "metadata": {},
     "output_type": "display_data"
    }
   ],
   "source": [
    "# Create figure with a subplot for each list of values\n",
    "fig, (ax1, ax2, ax3) = plt.subplots(\n",
    "    nrows=1, ncols=3, figsize=(12, 3))\n",
    "\n",
    "# Plot loss values\n",
    "ax1.set_title('Loss')\n",
    "ax1.plot(loss_values)\n",
    "\n",
    "# Plot slope values\n",
    "ax2.set_title('a')\n",
    "ax2.plot(a_values)\n",
    "\n",
    "# Plot intercept values\n",
    "ax3.set_title('b')\n",
    "ax3.plot(b_values)\n",
    "\n",
    "plt.show()"
   ]
  },
  {
   "cell_type": "markdown",
   "id": "f84c9c26",
   "metadata": {},
   "source": [
    "As we can see, the loss value oscillates between 4.5 and 2 which means that gradient descent is having issues learning the a and b values.\n",
    "\n",
    "We saw in the last course that the algorithm is sensitive to the scale of the input data. Let's try to **standardize the body weights**. Instead of modifying our data, let's add a standardization operation in our graph that standardizes the values in x using the mean and standard deviation statistics of the body weights in data_df."
   ]
  },
  {
   "cell_type": "code",
   "execution_count": 20,
   "id": "ea390183",
   "metadata": {},
   "outputs": [
    {
     "name": "stdout",
     "output_type": "stream",
     "text": [
      "Mean: 8.643076923076922\n",
      "Std: 3.538620732204927\n"
     ]
    }
   ],
   "source": [
    "import numpy as np\n",
    "\n",
    "# Compute mean and std of input variable\n",
    "print('Mean:', np.mean(data_df.body)) \n",
    "print('Std:', np.std(data_df.body))"
   ]
  },
  {
   "cell_type": "markdown",
   "id": "836ae48e",
   "metadata": {},
   "source": [
    "We can now add an x_standardized node using these two statistics."
   ]
  },
  {
   "cell_type": "code",
   "execution_count": 21,
   "id": "412923b2",
   "metadata": {},
   "outputs": [],
   "source": [
    "# Standardized input x\n",
    "x_standardized = (x - 8.643) / 3.539\n",
    "\n",
    "# Redefine graph (code from above)\n",
    "# ----------------\n",
    "# Compute predictions\n",
    "y_hat = a*x_standardized + b\n",
    "\n",
    "# Huber loss\n",
    "loss = tf.losses.huber_loss(y, y_hat)\n",
    "\n",
    "# Learning rate placeholder\n",
    "lr = tf.placeholder(dtype=tf.float32)\n",
    "\n",
    "# Create the optimizer\n",
    "gd = tf.train.GradientDescentOptimizer(learning_rate=lr)\n",
    "\n",
    "# Create a training operation\n",
    "train_op = gd.minimize(loss)"
   ]
  },
  {
   "cell_type": "markdown",
   "id": "afd4348b",
   "metadata": {},
   "source": [
    "It's important to understand that x_standardized is a new node in our computation graph. Hence, we need to \"rewire\" the entire graph and create all the other nodes again.\n",
    "\n",
    "Let's rerun gradient descent with the code from above:"
   ]
  },
  {
   "cell_type": "code",
   "execution_count": 22,
   "id": "90f3153e",
   "metadata": {},
   "outputs": [],
   "source": [
    "# Monitor the a/b and loss values\n",
    "loss_values = []\n",
    "a_values = []\n",
    "b_values = []\n",
    "\n",
    "with tf.Session() as sess:\n",
    "    # Initialize the graph\n",
    "    sess.run(initialization_op)\n",
    "\n",
    "    # Run 100 times the training operation\n",
    "    for _ in range(100):\n",
    "        # Run training op and collect a/b and loss values\n",
    "        _, loss_val, a_val, b_val = sess.run(\n",
    "            [train_op, loss, a, b],\n",
    "            feed_dict={\n",
    "                x: data_df.body, # Body weight\n",
    "                y: data_df.brain, # Brain weight\n",
    "                lr: 0.1 # Learning rate\n",
    "        })\n",
    "\n",
    "        # Save values\n",
    "        loss_values.append(loss_val)\n",
    "        a_values.append(a_val)\n",
    "        b_values.append(b_val)"
   ]
  },
  {
   "cell_type": "code",
   "execution_count": 23,
   "id": "6fe5e50f",
   "metadata": {},
   "outputs": [
    {
     "data": {
      "image/png": "[encoded data removed]",
      "text/plain": [
       "<Figure size 864x216 with 3 Axes>"
      ]
     },
     "metadata": {},
     "output_type": "display_data"
    }
   ],
   "source": [
    "# Create figure with a subplot for each list of values\n",
    "fig, (ax1, ax2, ax3) = plt.subplots(\n",
    "    nrows=1, ncols=3, figsize=(12, 3))\n",
    "\n",
    "# Plot loss values\n",
    "ax1.set_title('Loss')\n",
    "ax1.plot(loss_values)\n",
    "\n",
    "# Plot slope values\n",
    "ax2.set_title('a')\n",
    "ax2.plot(a_values)\n",
    "\n",
    "# Plot intercept values\n",
    "ax3.set_title('b')\n",
    "ax3.plot(b_values)\n",
    "\n",
    "plt.show()"
   ]
  },
  {
   "cell_type": "markdown",
   "id": "f52fe217",
   "metadata": {},
   "source": [
    "This time, the loss value keeps decreasing after each iteration and the \n",
    "a\n",
    " and \n",
    "b\n",
    " parameters seem to stabilize after a hundred iterations.\n",
    " \n",
    "### Prediction\n",
    "Finally, let's see how to use our network to predict brain weights. We will compute the predictions for a hundred sample body weights between the minimum and the maximum body weight values."
   ]
  },
  {
   "cell_type": "code",
   "execution_count": 24,
   "id": "f8e0c957",
   "metadata": {},
   "outputs": [],
   "source": [
    "import numpy as np\n",
    "\n",
    "# Create a hundred sample body weights\n",
    "x_values = np.linspace(\n",
    "    data_df.body.min(), # Between the minimum\n",
    "    data_df.body.max(), # and maximum body weight values\n",
    "    num=100\n",
    ")"
   ]
  },
  {
   "cell_type": "markdown",
   "id": "91525e09",
   "metadata": {},
   "source": [
    "We can now inject this sample input data into our graph. Since we use a with statement to create the session, TensorFlow automatically releases the resources and forgets the value of the a and b variables, once the code was executed. This means the optimized a and b values from the previous session above are only stored in the last position of our a_values and b_valueslist. Using the feed_dict, we can set these values and use them as tensor values in our graph."
   ]
  },
  {
   "cell_type": "code",
   "execution_count": 25,
   "id": "362cf287",
   "metadata": {},
   "outputs": [],
   "source": [
    "with tf.Session() as sess:\n",
    "    # Initialize the graph\n",
    "    sess.run(initialization_op)\n",
    "\n",
    "    # Compute predictions\n",
    "    y_values = sess.run(y_hat, feed_dict={\n",
    "        x: x_values, # Sample body weights\n",
    "        a: a_values[-1], # last slope value\n",
    "        b: b_values[-1] # last intercept value\n",
    "    })"
   ]
  },
  {
   "cell_type": "markdown",
   "id": "1db3d7b8",
   "metadata": {},
   "source": [
    "We pass the last slope and intercept values from the a_values and b_values lists and save the predictions in a y_values variable. Note that we don't need to provide a learning rate value lr since we are not running the training operation train_op.\n",
    "\n",
    "Let's plot the predictions with Seaborn."
   ]
  },
  {
   "cell_type": "code",
   "execution_count": 26,
   "id": "6fddb724",
   "metadata": {},
   "outputs": [
    {
     "data": {
      "image/png": "[encoded data removed]",
      "text/plain": [
       "<Figure size 432x288 with 1 Axes>"
      ]
     },
     "metadata": {},
     "output_type": "display_data"
    }
   ],
   "source": [
    "# Get a few colors from default color palette\n",
    "blue, green, red = sns.color_palette()[:3]\n",
    "\n",
    "# Plot data with sample predictions\n",
    "plt.scatter(data_df.body, data_df.brain, label=None)\n",
    "plt.plot(x_values, y_values, label='Huber loss', color='red')\n",
    "plt.xlabel('Body weight (log)')\n",
    "plt.ylabel('Brain weight (log)')\n",
    "plt.legend()\n",
    "plt.show()"
   ]
  },
  {
   "cell_type": "markdown",
   "id": "34424d40",
   "metadata": {},
   "source": [
    "We plot the data points from the data_df DataFrame and the predictions from the x_values and y_values variables."
   ]
  },
  {
   "cell_type": "markdown",
   "id": "b50530eb",
   "metadata": {},
   "source": [
    "Thanks to Huber loss, our linear regression ignores the three outliers and the line fits well the data points.\n",
    "\n",
    "### Summary\n",
    "In this unit, we learned about computation graphs and saw the basic tools to create and evaluate them with TensorFlow.\n",
    "\n",
    "In the next unit, we will use these tools to implement a softmax regression network and train it to recognize images from the MNIST database.\n",
    "\n",
    "\n",
    "Q&A : \n",
    " The computation graph in TensorFlow 1 requires that you define all the computations/operations between the tensors (i.e. between the variables in TensorFlow which are of types tf.Variable or tf.placeholders). In our case, x and y are placeholder tensors that we will be fed in with data once the session is executed. Tensor is a special type of data that is similar to Numpy ndarray but does not necessarily work on built-in functions that expect Numpy arrays. For example, sklearn.preprocessing.scale expects an array, matrix, or list. Such a function does not work with TensorFlow tensors. That is why we need to manually define the operations such as\n",
    "x_standardized = (x - 8.643) / 3.539\n",
    "or\n",
    "ax + b. (or tf.add(tf.multiply(a, x), b))"
   ]
  },
  {
   "cell_type": "code",
   "execution_count": null,
   "id": "843ff529",
   "metadata": {},
   "outputs": [],
   "source": []
  }
 ],
 "metadata": {
  "kernelspec": {
   "display_name": "Python 3",
   "language": "python",
   "name": "python3"
  },
  "language_info": {
   "codemirror_mode": {
    "name": "ipython",
    "version": 3
   },
   "file_extension": ".py",
   "mimetype": "text/x-python",
   "name": "python",
   "nbconvert_exporter": "python",
   "pygments_lexer": "ipython3",
   "version": "3.6.13"
  }
 },
 "nbformat": 4,
 "nbformat_minor": 5
}
