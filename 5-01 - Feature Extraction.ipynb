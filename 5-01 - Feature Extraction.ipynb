{
 "cells": [
  {
   "cell_type": "markdown",
   "id": "86a68a30",
   "metadata": {},
   "source": [
    "# Feature extraction"
   ]
  },
  {
   "cell_type": "markdown",
   "id": "c5237813",
   "metadata": {},
   "source": [
    "### Imports Modules"
   ]
  },
  {
   "cell_type": "code",
   "execution_count": 3,
   "id": "aa543779",
   "metadata": {},
   "outputs": [
    {
     "name": "stderr",
     "output_type": "stream",
     "text": [
      "C:\\Users\\lyeso\\anaconda3\\envs\\exts-ml\\lib\\site-packages\\h5py\\__init__.py:36: FutureWarning: Conversion of the second argument of issubdtype from `float` to `np.floating` is deprecated. In future, it will be treated as `np.float64 == np.dtype(float).type`.\n",
      "  from ._conv import register_converters as _register_converters\n",
      "WARNING:absl:Some hub symbols are not available because TensorFlow version is less than 1.14\n"
     ]
    }
   ],
   "source": [
    "import tensorflow as tf\n",
    "import tensorflow.keras as keras\n",
    "from tensorflow.keras import backend as K\n",
    "from tensorflow.keras.preprocessing.image import ImageDataGenerator\n",
    "import tensorflow_hub as hub\n",
    "import os\n",
    "import PIL.Image as Image\n",
    "import numpy as np\n",
    "\n",
    "os.environ[\"CUDA_VISIBLE_DEVICES\"]= \"-1\"\n"
   ]
  },
  {
   "cell_type": "raw",
   "id": "22ca226c",
   "metadata": {},
   "source": [
    "module = hub.Module(\"https://tfhub.dev/google/imagenet/inception_v3/feature_vector/1\")\n",
    "height, width = hub.get_expected_image_size(module)\n",
    "images = ...  # A batch of images with shape [batch_size, height, width, 3].\n",
    "features = module(images)  # Features with shape [batch_size, num_features]."
   ]
  },
  {
   "cell_type": "markdown",
   "id": "952ed850",
   "metadata": {},
   "source": [
    "### Create Image Generator"
   ]
  },
  {
   "cell_type": "code",
   "execution_count": 4,
   "id": "4152b9cc",
   "metadata": {},
   "outputs": [],
   "source": [
    "# Create image generator\n",
    "train_generator = ImageDataGenerator(\n",
    "    rescale=1/255)\n",
    "test_generator = ImageDataGenerator(rescale=1/255)"
   ]
  },
  {
   "cell_type": "code",
   "execution_count": 10,
   "id": "26d7c75d",
   "metadata": {},
   "outputs": [
    {
     "name": "stdout",
     "output_type": "stream",
     "text": [
      "Found 280 images belonging to 6 classes.\n",
      "Found 139 images belonging to 6 classes.\n",
      "Found 50 images belonging to 6 classes.\n"
     ]
    }
   ],
   "source": [
    "# Train, validation and test sets\n",
    "\n",
    "trainset = train_generator.flow_from_directory(\n",
    "    os.path.join('Course Project - SwissRoads', 'train'), batch_size =500, target_size=(299, 299),\n",
    "    shuffle=False, color_mode='rgb', class_mode = 'sparse')\n",
    "validset = train_generator.flow_from_directory(\n",
    "    os.path.join('Course Project - SwissRoads', 'valid'),batch_size =500, target_size=(299, 299),\n",
    "    shuffle=False, color_mode='rgb', class_mode = 'sparse')\n",
    "testset = test_generator.flow_from_directory(\n",
    "    os.path.join('Course Project - SwissRoads', 'test'),batch_size =500, target_size=(299, 299),\n",
    "    shuffle=False,color_mode='rgb', class_mode = 'sparse')"
   ]
  },
  {
   "cell_type": "code",
   "execution_count": 11,
   "id": "0cc5832c",
   "metadata": {},
   "outputs": [
    {
     "name": "stdout",
     "output_type": "stream",
     "text": [
      "Train images: (280, 299, 299, 3)\n",
      "Train labels: (280, 6)\n",
      "Valid images: (139, 299, 299, 3)\n",
      "Valid labels: (139, 6)\n",
      "Test images: (50, 299, 299, 3)\n",
      "Test labels: (50, 6)\n"
     ]
    }
   ],
   "source": [
    "train_imgs, train_labels = trainset.next()\n",
    "valid_imgs, valid_labels = validset.next()\n",
    "test_imgs, test_labels = testset.next()\n",
    "\n",
    "print('Train images:', train_imgs.shape) \n",
    "print('Train labels:', train_labels.shape) \n",
    "print('Valid images:', valid_imgs.shape) \n",
    "print('Valid labels:', valid_labels.shape) \n",
    "print('Test images:', test_imgs.shape) \n",
    "print('Test labels:', test_labels.shape) "
   ]
  },
  {
   "cell_type": "code",
   "execution_count": 12,
   "id": "82ade098",
   "metadata": {},
   "outputs": [
    {
     "data": {
      "text/plain": [
       "{'bike': 0, 'car': 1, 'motorcycle': 2, 'other': 3, 'truck': 4, 'van': 5}"
      ]
     },
     "execution_count": 12,
     "metadata": {},
     "output_type": "execute_result"
    }
   ],
   "source": [
    "trainset.class_indices"
   ]
  },
  {
   "cell_type": "code",
   "execution_count": 14,
   "id": "68456c87",
   "metadata": {},
   "outputs": [],
   "source": [
    "# Save the filenames\n",
    "\n",
    "train_files = trainset.filenames\n",
    "valid_files = validset.filenames\n",
    "test_files = testset.filenames"
   ]
  },
  {
   "cell_type": "markdown",
   "id": "54c4bb89",
   "metadata": {},
   "source": [
    "### Create graphs for features extraction"
   ]
  },
  {
   "cell_type": "code",
   "execution_count": 15,
   "id": "e66f0a0b",
   "metadata": {},
   "outputs": [
    {
     "name": "stdout",
     "output_type": "stream",
     "text": [
      "INFO:tensorflow:Saver not created because there are no variables in the graph to restore\n"
     ]
    },
    {
     "name": "stderr",
     "output_type": "stream",
     "text": [
      "INFO:tensorflow:Saver not created because there are no variables in the graph to restore\n"
     ]
    }
   ],
   "source": [
    "# Create graph\n",
    "img_graph = tf.Graph()\n",
    "\n",
    "with img_graph.as_default():\n",
    "    # Download module\n",
    "    module_url = \"https://tfhub.dev/google/imagenet/inception_v3/feature_vector/3\"\n",
    "    feature_extractor = hub.Module(module_url)\n",
    "\n",
    "    # Create input placeholder\n",
    "    input_imgs = tf.placeholder(dtype=tf.float32, shape=[None, 299, 299, 3])\n",
    "\n",
    "    # A node with the features\n",
    "    imgs_features = feature_extractor(input_imgs)\n",
    "\n",
    "    # Collect initializers\n",
    "    init_op = tf.group([\n",
    "        tf.global_variables_initializer(), tf.tables_initializer()\n",
    "    ])\n",
    "\n",
    "img_graph.finalize() # Good practice: make the graph \"read-only\""
   ]
  },
  {
   "cell_type": "markdown",
   "id": "91dbec25",
   "metadata": {},
   "source": [
    "### Extract features"
   ]
  },
  {
   "cell_type": "code",
   "execution_count": 16,
   "id": "585729fd",
   "metadata": {},
   "outputs": [
    {
     "name": "stdout",
     "output_type": "stream",
     "text": [
      "(280, 2048)\n",
      "(139, 2048)\n",
      "(50, 2048)\n"
     ]
    }
   ],
   "source": [
    "# Create a session\n",
    "sess = tf.Session(graph=img_graph)\n",
    "\n",
    "# Initialize it\n",
    "sess.run(init_op)\n",
    "\n",
    "# Extract features\n",
    "features_train = sess.run(imgs_features, feed_dict={input_imgs: train_imgs})\n",
    "print(features_train.shape)\n",
    "\n",
    "features_valid = sess.run(imgs_features, feed_dict={input_imgs: valid_imgs})\n",
    "print(features_valid.shape)\n",
    "\n",
    "features_test = sess.run(imgs_features, feed_dict={input_imgs: test_imgs})\n",
    "print(features_test.shape)\n",
    "\n"
   ]
  },
  {
   "cell_type": "raw",
   "id": "b481a47e",
   "metadata": {},
   "source": []
  },
  {
   "cell_type": "markdown",
   "id": "a7e9df0f",
   "metadata": {},
   "source": [
    "### Save 3 NPZ files"
   ]
  },
  {
   "cell_type": "code",
   "execution_count": 18,
   "id": "c301124e",
   "metadata": {},
   "outputs": [],
   "source": [
    "np.savez('train.npz', features = features_train , labels = train_labels, pixels = train_imgs, names = train_files)\n",
    "np.savez('valid.npz', features = features_valid , labels = valid_labels, pixels = valid_imgs , names = valid_files)\n",
    "np.savez('test.npz', features = features_test , labels = test_labels, pixels = test_imgs, names = test_files)"
   ]
  },
  {
   "cell_type": "code",
   "execution_count": null,
   "id": "487bfe8b",
   "metadata": {},
   "outputs": [],
   "source": []
  },
  {
   "cell_type": "code",
   "execution_count": null,
   "id": "583d32f7",
   "metadata": {},
   "outputs": [],
   "source": []
  },
  {
   "cell_type": "code",
   "execution_count": null,
   "id": "668bac47",
   "metadata": {},
   "outputs": [],
   "source": []
  }
 ],
 "metadata": {
  "kernelspec": {
   "display_name": "Python 3",
   "language": "python",
   "name": "python3"
  },
  "language_info": {
   "codemirror_mode": {
    "name": "ipython",
    "version": 3
   },
   "file_extension": ".py",
   "mimetype": "text/x-python",
   "name": "python",
   "nbconvert_exporter": "python",
   "pygments_lexer": "ipython3",
   "version": "3.6.13"
  }
 },
 "nbformat": 4,
 "nbformat_minor": 5
}
