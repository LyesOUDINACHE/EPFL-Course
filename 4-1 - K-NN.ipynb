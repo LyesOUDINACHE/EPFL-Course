{
 "cells": [
  {
   "cell_type": "markdown",
   "id": "2e6803ac",
   "metadata": {},
   "source": [
    "# The k-NN algorithm"
   ]
  },
  {
   "cell_type": "markdown",
   "id": "fc7bc8d8",
   "metadata": {},
   "source": [
    "Note that the procedure is not limited to regression tasks. We can also use it for classification where the target value is a category. For instance, we could have price labels associated with each house.\n",
    "\n",
    "### Distance metrics\n",
    "\n",
    "The k-NN algorithm is very generic because we can define different distance metrics depending on the type of features. For instance, we can use\n",
    "\n",
    "- the Euclidean distance $L2$\n",
    "- the Taxicab distance $L1$ (also called Manhattan distance)\n",
    "- the Levenshtein distance for texts\n",
    "\n",
    "The \n",
    "$L\n",
    "2$\n",
    " distance between two points is the \"ordinary\" straight line distance, whereas the \n",
    "$L\n",
    "1$\n",
    " distance corresponds to the shortest path between them with only horizontal and vertical steps.\n",
    "\n",
    "We can also define our own problem-specific metrics. For instance, we can use the Levenshtein distance to measure how far two texts are from each other. In short, it corresponds to the minimum number of \"small alterations\" to get from one text to the other. For instance"
   ]
  },
  {
   "cell_type": "raw",
   "id": "db51f650",
   "metadata": {},
   "source": [
    "distance('maltplotilb', 'matplotlib') = 2\n",
    "-----------------------------------------\n",
    "(1) 'maltplotilb'    : remove 'l'\n",
    "(2) 'matplotilb'     : switch 'i' and 'l'\n",
    "(3) 'matplotlib'"
   ]
  },
  {
   "cell_type": "markdown",
   "id": "c12a2ddc",
   "metadata": {},
   "source": [
    "Note that we can also define **custom decision functions**. For instance, we can take the distance to each neighbor into consideration and make **closer ones have a bigger weight** on the average or the majority vote."
   ]
  },
  {
   "cell_type": "markdown",
   "id": "179ad74e",
   "metadata": {},
   "source": [
    "### Summary \n",
    "\n",
    "To summarize, k-NN is an intuitive algorithm that works for both **regression and classification tasks**. It uses a distance metric and a decision function that can be adapted to the problem. Unlike linear regressions, it doesn't learn a vector \n",
    "⃗\n",
    "$w$\n",
    " of parameters but directly uses the data to compute predictions.\n",
    "\n",
    "In practice, k-NN is a good baseline that gives reasonable performance in most cases. In the next unit, we will visualize its decision boundary and see the intuition behind the k parameter."
   ]
  },
  {
   "cell_type": "markdown",
   "id": "10943aa9",
   "metadata": {},
   "source": [
    "# Decision boundaries\n",
    "\n",
    "In the previous unit, we saw the basic idea behind k-NN. In particular, we saw that it applies to both regression and classification problems but also to different types of features using the appropriate distance metric.\n",
    "\n",
    "In this unit, we will visualize its **decision boundary** on the UCI wine data set and see the intuition behind the k parameter.\n",
    "\n",
    "### Wine classification\n",
    "\n",
    "The goal is to classify wine samples based on thirteen chemical features such as alcohol, acidity, magnesium, phenols and so on. The wines come from the same region in Italy but from three different cultivars that we label 1, 2 and 3.\n",
    "\n",
    "To make the problem simpler, we can **reduce the number of features using a technique called principal component analysis (PCA)**. The idea is to analyze our data and compute what we call the principal components. We will learn about this technique later in this course, but it's important to understand that we can reduce the number of features while keeping most of the information. For our example, we apply PCA to the original data and extract two features.\n",
    "\n",
    "Here is a plot of the different wines (data points) in this 2-dimensional reduced input space."
   ]
  },
  {
   "cell_type": "code",
   "execution_count": 1,
   "id": "626a3945",
   "metadata": {},
   "outputs": [],
   "source": [
    "from IPython.display import Image"
   ]
  },
  {
   "cell_type": "code",
   "execution_count": 2,
   "id": "9369b6b5",
   "metadata": {},
   "outputs": [
    {
     "data": {
      "text/html": [
       "<img src=\"https://d7whxh71cqykp.cloudfront.net/uploads/image/data/3835/wine-knn-1.png\"/>"
      ],
      "text/plain": [
       "<IPython.core.display.Image object>"
      ]
     },
     "execution_count": 2,
     "metadata": {},
     "output_type": "execute_result"
    }
   ],
   "source": [
    "Image(url='https://d7whxh71cqykp.cloudfront.net/uploads/image/data/3835/wine-knn-1.png')"
   ]
  },
  {
   "cell_type": "markdown",
   "id": "70c0836d",
   "metadata": {},
   "source": [
    "We can see that each type of wine occupies a different region on the plot. In other words, there is a clear separation between them which means that we should be able to classify new wines without making too many mistakes. The idea is to assign categories to each region of the feature space and use this partitioning to classify new wine samples. We call the boundaries of these regions decision boundaries.\n",
    "\n",
    "Let's plot the decision boundaries of the k-NN classifier for \n",
    "k\n",
    "=\n",
    "1\n",
    "\n",
    "We can see that there are three distinct regions and three small orange \"islands\" around data points of type 2 in the regions of classes 1 and 3. We can see them as corner cases rules of the classifier. This is a consequence of the small k value. In our case, \n",
    "k\n",
    "=\n",
    "1\n",
    " and we match each point on the plot with its nearest wine sample from our data set. Hence, these orange islands indicate locations that are closer to an orange point than to a green or blue one."
   ]
  },
  {
   "cell_type": "code",
   "execution_count": 3,
   "id": "1ee2bfdd",
   "metadata": {},
   "outputs": [
    {
     "data": {
      "text/html": [
       "<img src=\"https://d7whxh71cqykp.cloudfront.net/uploads/image/data/3837/wine-knn30.png\"/>"
      ],
      "text/plain": [
       "<IPython.core.display.Image object>"
      ]
     },
     "execution_count": 3,
     "metadata": {},
     "output_type": "execute_result"
    }
   ],
   "source": [
    "Image(url='https://d7whxh71cqykp.cloudfront.net/uploads/image/data/3837/wine-knn30.png')"
   ]
  },
  {
   "cell_type": "markdown",
   "id": "977e3949",
   "metadata": {},
   "source": [
    "The orange islands disappear because we are now doing a majority vote among the 30 nearest data points. In other words, there is an **averaging effect33 which results in smoother decision boundaries. For instance, the boundary between type 1 and type 2 at \n",
    "(\n",
    "0.8\n",
    ",\n",
    "0.3\n",
    ")\n",
    " is now a straight line and two blue points are in the orange region.\n",
    "\n",
    "In other words, k controls how flexible our k-NN model is. In that sense, this hyperparameter is **similar to the regularization strength in ridge regression**. Both control the under-/overfitting balance."
   ]
  },
  {
   "cell_type": "markdown",
   "id": "e995c109",
   "metadata": {},
   "source": [
    "# Baseline for classification\n",
    "\n",
    "Let's now go through a concrete classification task and **see how to solve it step-by-step using Numpy and Scikit-learn**. In this unit, we will start by setting a baseline, and in the next ones, we will try with a k-NN classifier."
   ]
  },
  {
   "cell_type": "markdown",
   "id": "f42e9edf",
   "metadata": {},
   "source": [
    "### Heart disease diagnosis data set\n",
    "\n",
    "We will work on the heart disease diagnosis data set from the UCI machine learning repository. The goal is to diagnose the presence (or absence) of a heart disease based on a set of observations for each patient\n",
    "\n",
    "1. age - the age of the patient\n",
    "2. trestbps - the resting blood pressure in mm Hg\n",
    "3. chol - the amount of cholesterol in mg/dl\n",
    "4. thalach - maximum heart rate during the tests\n",
    "5. oldpeak - another measure obtained using an electrocardiogram\n",
    "6. ca - the number of major vessels colored by fluoroscopy\n",
    "\n",
    "Our goal is to use these features to predict a target disease variable.\n",
    "\n"
   ]
  },
  {
   "cell_type": "code",
   "execution_count": 4,
   "id": "6a4547ed",
   "metadata": {},
   "outputs": [
    {
     "data": {
      "text/html": [
       "<div>\n",
       "<style scoped>\n",
       "    .dataframe tbody tr th:only-of-type {\n",
       "        vertical-align: middle;\n",
       "    }\n",
       "\n",
       "    .dataframe tbody tr th {\n",
       "        vertical-align: top;\n",
       "    }\n",
       "\n",
       "    .dataframe thead th {\n",
       "        text-align: right;\n",
       "    }\n",
       "</style>\n",
       "<table border=\"1\" class=\"dataframe\">\n",
       "  <thead>\n",
       "    <tr style=\"text-align: right;\">\n",
       "      <th></th>\n",
       "      <th>age</th>\n",
       "      <th>trestbps</th>\n",
       "      <th>chol</th>\n",
       "      <th>thalach</th>\n",
       "      <th>oldpeak</th>\n",
       "      <th>ca</th>\n",
       "      <th>disease</th>\n",
       "    </tr>\n",
       "  </thead>\n",
       "  <tbody>\n",
       "    <tr>\n",
       "      <th>0</th>\n",
       "      <td>63</td>\n",
       "      <td>145</td>\n",
       "      <td>233</td>\n",
       "      <td>150</td>\n",
       "      <td>2.3</td>\n",
       "      <td>0</td>\n",
       "      <td>absence</td>\n",
       "    </tr>\n",
       "    <tr>\n",
       "      <th>1</th>\n",
       "      <td>67</td>\n",
       "      <td>160</td>\n",
       "      <td>286</td>\n",
       "      <td>108</td>\n",
       "      <td>1.5</td>\n",
       "      <td>3</td>\n",
       "      <td>presence</td>\n",
       "    </tr>\n",
       "    <tr>\n",
       "      <th>2</th>\n",
       "      <td>67</td>\n",
       "      <td>120</td>\n",
       "      <td>229</td>\n",
       "      <td>129</td>\n",
       "      <td>2.6</td>\n",
       "      <td>2</td>\n",
       "      <td>presence</td>\n",
       "    </tr>\n",
       "    <tr>\n",
       "      <th>3</th>\n",
       "      <td>37</td>\n",
       "      <td>130</td>\n",
       "      <td>250</td>\n",
       "      <td>187</td>\n",
       "      <td>3.5</td>\n",
       "      <td>0</td>\n",
       "      <td>absence</td>\n",
       "    </tr>\n",
       "    <tr>\n",
       "      <th>4</th>\n",
       "      <td>41</td>\n",
       "      <td>130</td>\n",
       "      <td>204</td>\n",
       "      <td>172</td>\n",
       "      <td>1.4</td>\n",
       "      <td>0</td>\n",
       "      <td>absence</td>\n",
       "    </tr>\n",
       "  </tbody>\n",
       "</table>\n",
       "</div>"
      ],
      "text/plain": [
       "   age  trestbps  chol  thalach  oldpeak  ca   disease\n",
       "0   63       145   233      150      2.3   0   absence\n",
       "1   67       160   286      108      1.5   3  presence\n",
       "2   67       120   229      129      2.6   2  presence\n",
       "3   37       130   250      187      3.5   0   absence\n",
       "4   41       130   204      172      1.4   0   absence"
      ]
     },
     "execution_count": 4,
     "metadata": {},
     "output_type": "execute_result"
    }
   ],
   "source": [
    "import pandas as pd\n",
    "\n",
    "# Load data\n",
    "data_df = pd.read_csv('heart-numerical.csv')\n",
    "\n",
    "# First five rows\n",
    "data_df.head()"
   ]
  },
  {
   "cell_type": "code",
   "execution_count": 5,
   "id": "68951ed9",
   "metadata": {},
   "outputs": [
    {
     "name": "stdout",
     "output_type": "stream",
     "text": [
      "X: (303, 6) float64\n",
      "y: (303,) object\n",
      "Labels: ['absence' 'presence']\n"
     ]
    }
   ],
   "source": [
    "import numpy as np\n",
    "\n",
    "# Create X/y arrays\n",
    "X = data_df.drop('disease', axis=1).values\n",
    "y = data_df.disease.values\n",
    "\n",
    "print('X:', X.shape, X.dtype) # (303, 6) float64\n",
    "print('y:', y.shape, y.dtype) # dtype object\n",
    "\n",
    "# Print labels\n",
    "labels = np.unique(y)\n",
    "print('Labels:', labels) # ['absence' 'presence']"
   ]
  },
  {
   "cell_type": "code",
   "execution_count": 6,
   "id": "611fafbf",
   "metadata": {},
   "outputs": [
    {
     "name": "stdout",
     "output_type": "stream",
     "text": [
      "Train set: (212, 6) (212,)\n",
      "Test set: (91, 6) (91,)\n"
     ]
    }
   ],
   "source": [
    "from sklearn.model_selection import train_test_split\n",
    "\n",
    "# Split data\n",
    "X_tr, X_te, y_tr, y_te = train_test_split(\n",
    "    X, y, test_size=0.3, random_state=0)\n",
    "\n",
    "print('Train set:', X_tr.shape, y_tr.shape)\n",
    "# Prints: (212, 6) (212,)\n",
    "\n",
    "print('Test set:', X_te.shape, y_te.shape)\n",
    "# Prints: (91, 6) (91,)"
   ]
  },
  {
   "cell_type": "markdown",
   "id": "aad93125",
   "metadata": {},
   "source": [
    "The code to load and split the data set is **similar to what we saw for regression tasks. The only difference is that the output vector y contains categorical values** instead of continuous ones.\n",
    "\n",
    "Before fitting k-NN, let's first define the baseline."
   ]
  },
  {
   "cell_type": "markdown",
   "id": "5db62f1c",
   "metadata": {},
   "source": [
    "### The \"most frequent\" baseline\n",
    "\n",
    "We saw that it makes sense to predict the mean or median of the target variable for regression tasks. In the classification case, we can predict the most frequent category.\n",
    "\n",
    "In our example, there are only two categories and the most frequent one is 'absence'"
   ]
  },
  {
   "cell_type": "code",
   "execution_count": 7,
   "id": "a6cfbdf6",
   "metadata": {},
   "outputs": [
    {
     "name": "stdout",
     "output_type": "stream",
     "text": [
      "Total absence: 117\n"
     ]
    }
   ],
   "source": [
    "# Count the number of entries labeled with 'absence'\n",
    "n_absence = np.sum(y_tr == 'absence')\n",
    "\n",
    "print('Total absence:', n_absence)\n",
    "# Prints: 117"
   ]
  },
  {
   "cell_type": "markdown",
   "id": "4f5cab1d",
   "metadata": {},
   "source": [
    "We use Numpy $sum()$ on an array of boolean values to count the number of True entries. We get that 117 of the 212 patients from the training set are labeled with 'absence'. In other words, the proportion of patients not diagnosed with the heart disease is around 55%."
   ]
  },
  {
   "cell_type": "code",
   "execution_count": 8,
   "id": "5cce5811",
   "metadata": {},
   "outputs": [
    {
     "name": "stdout",
     "output_type": "stream",
     "text": [
      "Probability of absence: 0.55\n"
     ]
    }
   ],
   "source": [
    "# Probability of 'absence'\n",
    "p_absence = n_absence / len(y_tr)\n",
    "\n",
    "print('Probability of absence: {:.2f}'.format(p_absence))\n",
    "# Prints: 0.55"
   ]
  },
  {
   "cell_type": "code",
   "execution_count": 9,
   "id": "b2488b19",
   "metadata": {},
   "outputs": [
    {
     "name": "stdout",
     "output_type": "stream",
     "text": [
      "Probability of absence: 0.52\n"
     ]
    }
   ],
   "source": [
    "# On the test set\n",
    "p_absence_te = np.sum(y_te == 'absence') / len(y_te)\n",
    "\n",
    "print('Probability of absence: {:.2f}'.format(p_absence_te))\n",
    "# Prints: 0.52"
   ]
  },
  {
   "cell_type": "markdown",
   "id": "86e883d0",
   "metadata": {},
   "source": [
    "The number 0.52 is **the accuracy** of the baseline model. It corresponds to the proportion of data points from the test set that the model classified correctly. In classification tasks, this is often what we want to maximize. Similarly, **the error rate** is the proportion of data points misclassified. In our case, the error rate of the \"most frequent\" baseline is 0.48.\n",
    "\n",
    "In general, the accuracy of the \"most frequent\" baseline should be equal to the percentage of samples in the most frequent category. Hence, it's only better than random guessing when the distribution of the target variable is not uniform. In our case, the data set contains approximately the same number of patients labeled with absence and presence. Hence, it's accuracy is very close to 50% which corresponds to random guessing for two classes."
   ]
  },
  {
   "cell_type": "markdown",
   "id": "b80e0b7c",
   "metadata": {},
   "source": [
    "### Multiple classes\n",
    "The code from above doesn't scale well to target variables with many categories because we have to count the number of entries in each one manually. One solution is to use value_counts(list) from Pandas which groups the entries by values and counts the number of entries in each group."
   ]
  },
  {
   "cell_type": "code",
   "execution_count": 10,
   "id": "33418920",
   "metadata": {},
   "outputs": [
    {
     "data": {
      "text/plain": [
       "absence     0.551887\n",
       "presence    0.448113\n",
       "dtype: float64"
      ]
     },
     "execution_count": 10,
     "metadata": {},
     "output_type": "execute_result"
    }
   ],
   "source": [
    "# Compute distribution using Pandas\n",
    "pd.Series(y_tr).value_counts() / len(y_tr)"
   ]
  },
  {
   "cell_type": "code",
   "execution_count": 11,
   "id": "dc4b77ec",
   "metadata": {},
   "outputs": [
    {
     "data": {
      "text/plain": [
       "absence     0.551887\n",
       "presence    0.448113\n",
       "dtype: float64"
      ]
     },
     "execution_count": 11,
     "metadata": {},
     "output_type": "execute_result"
    }
   ],
   "source": [
    "# Compute distribution using Pandas\n",
    "pd.Series(y_tr).value_counts(normalize=True)"
   ]
  },
  {
   "cell_type": "markdown",
   "id": "00c12fae",
   "metadata": {},
   "source": [
    "### Scikit-learn DummyClassifier\n",
    "Scikit-learn provides a DummyClassifier() to compute baselines for classification tasks. We can set its strategy parameter to 'most_frequent' to get the baseline from above"
   ]
  },
  {
   "cell_type": "code",
   "execution_count": 12,
   "id": "78350267",
   "metadata": {},
   "outputs": [],
   "source": [
    "from sklearn.dummy import DummyClassifier\n",
    "\n",
    "# Create the dummy classifier\n",
    "dummy = DummyClassifier(strategy='most_frequent')"
   ]
  },
  {
   "cell_type": "code",
   "execution_count": 13,
   "id": "3e7db4dc",
   "metadata": {},
   "outputs": [
    {
     "name": "stdout",
     "output_type": "stream",
     "text": [
      "Accuracy: 0.52\n"
     ]
    }
   ],
   "source": [
    "# Fit it\n",
    "dummy.fit(None, y_tr)\n",
    "\n",
    "# Compute test accuracy\n",
    "accuracy = dummy.score(None, y_te)\n",
    "print('Accuracy: {:.2f}'.format(accuracy))"
   ]
  },
  {
   "cell_type": "markdown",
   "id": "1801c7f1",
   "metadata": {},
   "source": [
    "One important difference with regression: Scikit-learn classifiers return the accuracy instead of the \n",
    "$R^2$\n",
    " coefficient."
   ]
  },
  {
   "cell_type": "markdown",
   "id": "b9f977e4",
   "metadata": {},
   "source": [
    "### Confusion matrix\n"
   ]
  },
  {
   "cell_type": "code",
   "execution_count": 14,
   "id": "d46fa820",
   "metadata": {},
   "outputs": [
    {
     "name": "stdout",
     "output_type": "stream",
     "text": [
      "Predicted: ['absence' 'absence' 'absence' 'absence' 'absence'] ..\n",
      "True labels: ['absence' 'absence' 'presence' 'absence' 'presence'] ..\n"
     ]
    }
   ],
   "source": [
    "# \"Most-frequent\" predictions\n",
    "y_pred_absence = dummy.predict(X_te)\n",
    "print('Predicted:', y_pred_absence[:5], '..') \n",
    "print('True labels:', y_te[:5], '..')"
   ]
  },
  {
   "cell_type": "code",
   "execution_count": 15,
   "id": "2a734449",
   "metadata": {},
   "outputs": [
    {
     "name": "stdout",
     "output_type": "stream",
     "text": [
      "[[47  0]\n",
      " [44  0]]\n"
     ]
    }
   ],
   "source": [
    "from sklearn.metrics import confusion_matrix\n",
    "\n",
    "# Confusion matrix\n",
    "matrix = confusion_matrix(y_true=y_te, y_pred=y_pred_absence)\n",
    "print(matrix)"
   ]
  },
  {
   "cell_type": "markdown",
   "id": "26c539a9",
   "metadata": {},
   "source": [
    "This is simply a frequency table that shows how many times we predicted some class versus how many times it is actually that class or another one i.e. a frequency table of predictions versus true class"
   ]
  },
  {
   "cell_type": "code",
   "execution_count": 16,
   "id": "a4a78829",
   "metadata": {},
   "outputs": [
    {
     "data": {
      "text/html": [
       "<div>\n",
       "<style scoped>\n",
       "    .dataframe tbody tr th:only-of-type {\n",
       "        vertical-align: middle;\n",
       "    }\n",
       "\n",
       "    .dataframe tbody tr th {\n",
       "        vertical-align: top;\n",
       "    }\n",
       "\n",
       "    .dataframe thead th {\n",
       "        text-align: right;\n",
       "    }\n",
       "</style>\n",
       "<table border=\"1\" class=\"dataframe\">\n",
       "  <thead>\n",
       "    <tr style=\"text-align: right;\">\n",
       "      <th></th>\n",
       "      <th>pred: absence</th>\n",
       "      <th>pred: presence</th>\n",
       "    </tr>\n",
       "  </thead>\n",
       "  <tbody>\n",
       "    <tr>\n",
       "      <th>true: absence</th>\n",
       "      <td>47</td>\n",
       "      <td>0</td>\n",
       "    </tr>\n",
       "    <tr>\n",
       "      <th>true: presence</th>\n",
       "      <td>44</td>\n",
       "      <td>0</td>\n",
       "    </tr>\n",
       "  </tbody>\n",
       "</table>\n",
       "</div>"
      ],
      "text/plain": [
       "                pred: absence  pred: presence\n",
       "true: absence              47               0\n",
       "true: presence             44               0"
      ]
     },
     "execution_count": 16,
     "metadata": {},
     "output_type": "execute_result"
    }
   ],
   "source": [
    "# Confusion matrix as a DataFrame\n",
    "matrix_df = pd.DataFrame(\n",
    "    matrix, \n",
    "    columns=['pred: absence', 'pred: presence'],\n",
    "    index=['true: absence', 'true: presence']\n",
    ")\n",
    "matrix_df"
   ]
  },
  {
   "cell_type": "markdown",
   "id": "763f5d60",
   "metadata": {},
   "source": [
    "In our case, we can see that **our \"most-frequent\" baseline always predicts \"absence\" ..** which is correct 47 times, and incorrect 44 times.\n",
    "\n",
    "From this matrix, we can derive two important metrics: **the recall and precision** of our classifier. Those scores are defined in terms of the number of true or false positives/negatives\n"
   ]
  },
  {
   "cell_type": "markdown",
   "id": "71327768",
   "metadata": {},
   "source": [
    "Intuitively, the precision answers \"How many times are we correct when we predict positive?\". The formula is simply\n",
    "\n",
    "precision = tp/(tp+fp)\n",
    "\n",
    "We can compute it in Scikit-learn using precision_score()"
   ]
  },
  {
   "cell_type": "code",
   "execution_count": 17,
   "id": "bd139982",
   "metadata": {},
   "outputs": [
    {
     "name": "stderr",
     "output_type": "stream",
     "text": [
      "C:\\Users\\lyeso\\anaconda3\\envs\\exts-ml\\lib\\site-packages\\sklearn\\metrics\\classification.py:1143: UndefinedMetricWarning: Precision is ill-defined and being set to 0.0 due to no predicted samples.\n",
      "  'precision', 'predicted', average, warn_for)\n"
     ]
    },
    {
     "data": {
      "text/plain": [
       "0.0"
      ]
     },
     "execution_count": 17,
     "metadata": {},
     "output_type": "execute_result"
    }
   ],
   "source": [
    "from sklearn.metrics import precision_score\n",
    "\n",
    "precision_score(y_true=y_te, y_pred=y_pred_absence, pos_label='presence')"
   ]
  },
  {
   "cell_type": "markdown",
   "id": "928c0cf9",
   "metadata": {},
   "source": [
    "In our case, the precision is not defined since our \"most-frequent\" baseline never predicts 'presence' ..\n",
    "\n",
    "However, we can compute it for a \"always predicts presence\" baseline"
   ]
  },
  {
   "cell_type": "code",
   "execution_count": 18,
   "id": "f37bde66",
   "metadata": {},
   "outputs": [
    {
     "data": {
      "text/plain": [
       "0.4835164835164835"
      ]
     },
     "execution_count": 18,
     "metadata": {},
     "output_type": "execute_result"
    }
   ],
   "source": [
    "# Precision of the \"always predicts presence\" baseline\n",
    "y_pred_presence = np.full_like(y_te, fill_value='presence')\n",
    "precision_score(y_true=y_te, y_pred=y_pred_presence, pos_label='presence')"
   ]
  },
  {
   "cell_type": "markdown",
   "id": "0713b0d8",
   "metadata": {},
   "source": [
    "Intuitively, the recall measures \"How many times do we predict positive when it is?\". The formula is simply :\n",
    "recall = tp/(tp+fn)"
   ]
  },
  {
   "cell_type": "code",
   "execution_count": 19,
   "id": "68e37203",
   "metadata": {},
   "outputs": [
    {
     "data": {
      "text/plain": [
       "0.0"
      ]
     },
     "execution_count": 19,
     "metadata": {},
     "output_type": "execute_result"
    }
   ],
   "source": [
    "from sklearn.metrics import recall_score\n",
    "\n",
    "recall_score(y_true=y_te, y_pred=y_pred_absence, pos_label='presence')"
   ]
  },
  {
   "cell_type": "markdown",
   "id": "ca628922",
   "metadata": {},
   "source": [
    "Our \"most-frequent\" baseline never predicts 'presence' when the disease is present, so the recall score is 0.0 in our case.\n",
    "\n",
    "However, we can get a score of 1.0 with the \"always predicts presence\" baseline!"
   ]
  },
  {
   "cell_type": "code",
   "execution_count": 20,
   "id": "fe1b2a60",
   "metadata": {},
   "outputs": [
    {
     "data": {
      "text/plain": [
       "1.0"
      ]
     },
     "execution_count": 20,
     "metadata": {},
     "output_type": "execute_result"
    }
   ],
   "source": [
    "# Recall of the \"always predicts presence\" baseline\n",
    "recall_score(y_true=y_te, y_pred=y_pred_presence, pos_label='presence')"
   ]
  },
  {
   "cell_type": "markdown",
   "id": "41cf37e7",
   "metadata": {},
   "source": [
    "The F1 score is a way to combine the precision and recall metrics into a single score. The formula is\n",
    "f1_score = 2 * (precision * recall) / (precision + recall)\n"
   ]
  },
  {
   "cell_type": "code",
   "execution_count": 21,
   "id": "dd9ac9c3",
   "metadata": {},
   "outputs": [
    {
     "data": {
      "text/plain": [
       "0.6518518518518518"
      ]
     },
     "execution_count": 21,
     "metadata": {},
     "output_type": "execute_result"
    }
   ],
   "source": [
    "from sklearn.metrics import f1_score\n",
    "\n",
    "f1_score(y_true=y_te, y_pred=y_pred_presence, pos_label='presence')"
   ]
  },
  {
   "cell_type": "markdown",
   "id": "fbf4c153",
   "metadata": {},
   "source": [
    "Note: Scikit-learn also provides a fbeta_score() function which has a \"beta\" parameter to set the recall/precision balance in the score. You can read more about it in the sklearn.metrics.fbeta_score page."
   ]
  },
  {
   "cell_type": "markdown",
   "id": "a5a0ba0b",
   "metadata": {},
   "source": [
    "### Classification report\n",
    "It's common to print those metrics when analyzing the performance of classifiers. For this reason, Scikit-learn provides a classification_report() function that gives the different scores"
   ]
  },
  {
   "cell_type": "code",
   "execution_count": 22,
   "id": "c25a8858",
   "metadata": {},
   "outputs": [
    {
     "name": "stdout",
     "output_type": "stream",
     "text": [
      "              precision    recall  f1-score   support\n",
      "\n",
      "     absence       0.00      0.00      0.00        47\n",
      "    presence       0.48      1.00      0.65        44\n",
      "\n",
      "   micro avg       0.48      0.48      0.48        91\n",
      "   macro avg       0.24      0.50      0.33        91\n",
      "weighted avg       0.23      0.48      0.32        91\n",
      "\n"
     ]
    },
    {
     "name": "stderr",
     "output_type": "stream",
     "text": [
      "C:\\Users\\lyeso\\anaconda3\\envs\\exts-ml\\lib\\site-packages\\sklearn\\metrics\\classification.py:1143: UndefinedMetricWarning: Precision and F-score are ill-defined and being set to 0.0 in labels with no predicted samples.\n",
      "  'precision', 'predicted', average, warn_for)\n"
     ]
    }
   ],
   "source": [
    "from sklearn.metrics import classification_report\n",
    "\n",
    "report = classification_report(y_true=y_te, y_pred=y_pred_presence)\n",
    "print(report)"
   ]
  },
  {
   "cell_type": "markdown",
   "id": "249290b2",
   "metadata": {},
   "source": [
    "Note: In this table, support corresponds to the number of points in each class. Micro, macro and weighted averages refer to different ways to combine the results when there are multiple classes."
   ]
  },
  {
   "cell_type": "markdown",
   "id": "c35c14d0",
   "metadata": {},
   "source": [
    "### Summary\n",
    "In this unit, we saw how to set a baseline for classification tasks using Numpy, Pandas, and Scikit-learn. In the next unit, we will do a quick review about standardization and see how to fit a k-NN classifier using Scikit-learn."
   ]
  },
  {
   "cell_type": "markdown",
   "id": "b9d8bbf5",
   "metadata": {},
   "source": [
    "# Standardization and k-NN\n",
    "\n",
    "In this unit, we will fit k-NN to the heart disease data. But before that, let's first discuss the required preprocessing steps and do a quick refresher about standardization.\n",
    "\n",
    "### Standardization refresher\n",
    "In the last course, we saw that we can standardize a set of values by computing z-scores. In short: we subtract the mean \n",
    "$μ$\n",
    " to each value \n",
    "$x$\n",
    " and divide the result by the standard deviation \n",
    "$σ$\n",
    " and obtain scores \n",
    "$z$\n",
    " that are centered (mean of zero) and rescaled (standard deviation of one)"
   ]
  },
  {
   "cell_type": "markdown",
   "id": "85fc88f2",
   "metadata": {},
   "source": [
    "$z\n",
    "=\n",
    "(x\n",
    "−\n",
    "μ)\n",
    "/\n",
    "σ$\n",
    "\n",
    "We know that standardization is needed in many situations. For instance, we saw that **gradient descent underperforms or even diverges when features have different scales**, or that it's recommended to **standardize data before applying regularization**. But what about k-NN?"
   ]
  },
  {
   "cell_type": "markdown",
   "id": "dfb06e5e",
   "metadata": {},
   "source": [
    "### Standardization and k-NN\n",
    "First, k-NN doesn't learn parameters from the training set. Its k value is a **hyperparameter set before fitting the algorithm**. Hence, it doesn't use an optimizer like gradient descent. However, we need to be careful about the features scale because it uses a distance metric to find the nearest neighbors. Let's take an example with the human heights and weights data set.\n",
    "\n",
    "The data contains 25 thousand height and weight measurements from children under 18. Here is a plot of the data"
   ]
  },
  {
   "cell_type": "markdown",
   "id": "0b0d4bcd",
   "metadata": {},
   "source": [
    "In this example, the weight variable has a much larger scale than height. For this reason, we need to be careful: k-nearest neighbors searches for points with similar values. Since the weight values are more spread out, k-NN will favor points with similar weight values.\n",
    "\n",
    "To illustrate this issue, here is an image with the 100 nearest points to the average person with weight=127 and height=68\n",
    "\n",
    "As we can see, k-NN selects points with similar weight values and the orange circle spans most of the data on the y-axis: the height variable has nearly no impact on the nearest neighbors search.\n",
    "\n",
    "It's important to note that standardizing the data doesn't modify the information content: we can still observe the relationship between height and weight i.e. taller people weigh more.\n",
    "\n",
    "As you can see, the 100 points from the previous experiment in orange now form an ellipse with the weight variable as the minor axis. This reveals the bias of k-NN toward similar weight values.\n",
    "\n",
    "### When to apply standardization\n",
    "\n",
    "In practice, we standardize the input data for two reasons\n",
    "\n",
    "- Some **optimization algorithms** work better when the features are standardized ex. gradient descent\n",
    "- Some algorithms are sensitive to the scale of the features because they use a **distance metric** ex. k-NN\n",
    "- With **regularization** which expects features to be on the same scale\n",
    "\n",
    "In most cases, it's a good idea to standardize the features when using k-NN to avoid having a model that is biased toward features that have a larger scale.\n",
    "\n",
    "However we need to remember that by standardizing the data we transform the feature space and in some cases this transformation might produce undesired results. For instance, in the first example that we saw with the house prices from the \"K-nearest neighbors\" introductory unit, each data point is represented by its location on a longitude/latitude grid. But the data points (the houses) might be more spread out along the longitude or the latitude axis. (Long Beach (NY, USA) or the African state The Gambia are examples of this.) So in this case, we don't want to rescale these two features individually, but with the same scaler. In other scenarios features may be representing different prices or the time intervals measured by different sensors. It depends on the particular context and our judgement whether we think that the relative relationship of these feature values is important and standardising them risks distortion when using k-NN. In any case, it's a good idea to try with and without standardization to see what works best.\n",
    "\n",
    "### KNeighborsClassifier\n"
   ]
  },
  {
   "cell_type": "code",
   "execution_count": 23,
   "id": "e6d62ecd",
   "metadata": {},
   "outputs": [
    {
     "data": {
      "text/html": [
       "<div>\n",
       "<style scoped>\n",
       "    .dataframe tbody tr th:only-of-type {\n",
       "        vertical-align: middle;\n",
       "    }\n",
       "\n",
       "    .dataframe tbody tr th {\n",
       "        vertical-align: top;\n",
       "    }\n",
       "\n",
       "    .dataframe thead th {\n",
       "        text-align: right;\n",
       "    }\n",
       "</style>\n",
       "<table border=\"1\" class=\"dataframe\">\n",
       "  <thead>\n",
       "    <tr style=\"text-align: right;\">\n",
       "      <th></th>\n",
       "      <th>age</th>\n",
       "      <th>trestbps</th>\n",
       "      <th>chol</th>\n",
       "      <th>thalach</th>\n",
       "      <th>oldpeak</th>\n",
       "      <th>ca</th>\n",
       "    </tr>\n",
       "  </thead>\n",
       "  <tbody>\n",
       "    <tr>\n",
       "      <th>count</th>\n",
       "      <td>303.000000</td>\n",
       "      <td>303.000000</td>\n",
       "      <td>303.000000</td>\n",
       "      <td>303.000000</td>\n",
       "      <td>303.000000</td>\n",
       "      <td>303.000000</td>\n",
       "    </tr>\n",
       "    <tr>\n",
       "      <th>mean</th>\n",
       "      <td>54.438944</td>\n",
       "      <td>131.689769</td>\n",
       "      <td>246.693069</td>\n",
       "      <td>149.607261</td>\n",
       "      <td>1.039604</td>\n",
       "      <td>0.663366</td>\n",
       "    </tr>\n",
       "    <tr>\n",
       "      <th>std</th>\n",
       "      <td>9.038662</td>\n",
       "      <td>17.599748</td>\n",
       "      <td>51.776918</td>\n",
       "      <td>22.875003</td>\n",
       "      <td>1.161075</td>\n",
       "      <td>0.934375</td>\n",
       "    </tr>\n",
       "    <tr>\n",
       "      <th>min</th>\n",
       "      <td>29.000000</td>\n",
       "      <td>94.000000</td>\n",
       "      <td>126.000000</td>\n",
       "      <td>71.000000</td>\n",
       "      <td>0.000000</td>\n",
       "      <td>0.000000</td>\n",
       "    </tr>\n",
       "    <tr>\n",
       "      <th>25%</th>\n",
       "      <td>48.000000</td>\n",
       "      <td>120.000000</td>\n",
       "      <td>211.000000</td>\n",
       "      <td>133.500000</td>\n",
       "      <td>0.000000</td>\n",
       "      <td>0.000000</td>\n",
       "    </tr>\n",
       "    <tr>\n",
       "      <th>50%</th>\n",
       "      <td>56.000000</td>\n",
       "      <td>130.000000</td>\n",
       "      <td>241.000000</td>\n",
       "      <td>153.000000</td>\n",
       "      <td>0.800000</td>\n",
       "      <td>0.000000</td>\n",
       "    </tr>\n",
       "    <tr>\n",
       "      <th>75%</th>\n",
       "      <td>61.000000</td>\n",
       "      <td>140.000000</td>\n",
       "      <td>275.000000</td>\n",
       "      <td>166.000000</td>\n",
       "      <td>1.600000</td>\n",
       "      <td>1.000000</td>\n",
       "    </tr>\n",
       "    <tr>\n",
       "      <th>max</th>\n",
       "      <td>77.000000</td>\n",
       "      <td>200.000000</td>\n",
       "      <td>564.000000</td>\n",
       "      <td>202.000000</td>\n",
       "      <td>6.200000</td>\n",
       "      <td>3.000000</td>\n",
       "    </tr>\n",
       "  </tbody>\n",
       "</table>\n",
       "</div>"
      ],
      "text/plain": [
       "              age    trestbps        chol     thalach     oldpeak          ca\n",
       "count  303.000000  303.000000  303.000000  303.000000  303.000000  303.000000\n",
       "mean    54.438944  131.689769  246.693069  149.607261    1.039604    0.663366\n",
       "std      9.038662   17.599748   51.776918   22.875003    1.161075    0.934375\n",
       "min     29.000000   94.000000  126.000000   71.000000    0.000000    0.000000\n",
       "25%     48.000000  120.000000  211.000000  133.500000    0.000000    0.000000\n",
       "50%     56.000000  130.000000  241.000000  153.000000    0.800000    0.000000\n",
       "75%     61.000000  140.000000  275.000000  166.000000    1.600000    1.000000\n",
       "max     77.000000  200.000000  564.000000  202.000000    6.200000    3.000000"
      ]
     },
     "execution_count": 23,
     "metadata": {},
     "output_type": "execute_result"
    }
   ],
   "source": [
    "import pandas as pd\n",
    "\n",
    "# Load data\n",
    "data_df = pd.read_csv('heart-numerical.csv')\n",
    "\n",
    "# Data summary\n",
    "data_df.describe()"
   ]
  },
  {
   "cell_type": "markdown",
   "id": "22d66f1e",
   "metadata": {},
   "source": [
    "The features have different scales, so we will add a StandardScaler step in our classification pipeline. But, let's first split the data"
   ]
  },
  {
   "cell_type": "code",
   "execution_count": 24,
   "id": "a4552172",
   "metadata": {},
   "outputs": [],
   "source": [
    "from sklearn.model_selection import train_test_split\n",
    "\n",
    "# Create X/y arrays\n",
    "X = data_df.drop('disease', axis=1).values\n",
    "y = data_df.disease.values\n",
    "\n",
    "# Split data\n",
    "X_tr, X_te, y_tr, y_te = train_test_split(X, y, test_size=0.3, random_state=0)"
   ]
  },
  {
   "cell_type": "markdown",
   "id": "ce7ab8d6",
   "metadata": {},
   "source": [
    "We can now create a **pipeline object with k-NN**. Scikit-learn implements a **KNeighborsRegressor** and a **KNeighborsClassifier estimator**. We can set the number of neighbors with their n_neighbors attribute.\n",
    "\n",
    "Let's try with the default value of 5"
   ]
  },
  {
   "cell_type": "code",
   "execution_count": 25,
   "id": "11bc4063",
   "metadata": {},
   "outputs": [
    {
     "name": "stdout",
     "output_type": "stream",
     "text": [
      "Accuracy: 0.747\n"
     ]
    }
   ],
   "source": [
    "from sklearn.neighbors import KNeighborsClassifier\n",
    "from sklearn.preprocessing import StandardScaler\n",
    "from sklearn.pipeline import Pipeline\n",
    "\n",
    "# Create a k-NN pipeline\n",
    "knn_pipe = Pipeline([\n",
    "    ('scaler', StandardScaler()),\n",
    "    ('knn', KNeighborsClassifier(n_neighbors=5))\n",
    "])\n",
    "\n",
    "# Fit estimator\n",
    "knn_pipe.fit(X_tr, y_tr)\n",
    "\n",
    "# Evaluate on test set\n",
    "accuracy = knn_pipe.score(X_te, y_te)\n",
    "print('Accuracy: {:.3f}'.format(accuracy)) # 0.747"
   ]
  },
  {
   "cell_type": "markdown",
   "id": "85548d8e",
   "metadata": {},
   "source": [
    "**The accuracy is already a lot better than the \"most frequent\" baseline from the previous unit: 75% vs. 52%.**\n",
    "\n",
    "As a small experiment, let's see what happens if we remove the scaler"
   ]
  },
  {
   "cell_type": "code",
   "execution_count": 26,
   "id": "c2fc677a",
   "metadata": {},
   "outputs": [
    {
     "name": "stdout",
     "output_type": "stream",
     "text": [
      "Accuracy: 0.670\n"
     ]
    }
   ],
   "source": [
    "from sklearn.base import clone\n",
    "\n",
    "knn_pipe2 = clone(knn_pipe)\n",
    "knn_pipe2.set_params(scaler=None)\n",
    "knn_pipe2.fit(X_tr, y_tr)\n",
    "print('Accuracy: {:.3f}'.format(knn_pipe2.score(X_te, y_te)))\n"
   ]
  },
  {
   "cell_type": "markdown",
   "id": "a7c58c79",
   "metadata": {},
   "source": [
    "**Removing standardization hurts accuracy which drops to 67%.**"
   ]
  },
  {
   "cell_type": "markdown",
   "id": "bb62066a",
   "metadata": {},
   "source": [
    "# Tuning k with grid search\n",
    "\n",
    "Finally, let's see if we can improve the results by tuning k. There is around 200 data points in the training set - to get a good overview of the effect of k, let's generate a set of candidate values between 1 and 100 by steps of 5"
   ]
  },
  {
   "cell_type": "code",
   "execution_count": 27,
   "id": "8660e757",
   "metadata": {},
   "outputs": [],
   "source": [
    "import numpy as np\n",
    "\n",
    "# Generate a set of k values\n",
    "k_values = np.r_[1, np.arange(5, 101, step=5)]\n"
   ]
  },
  {
   "cell_type": "code",
   "execution_count": 28,
   "id": "38d6861c",
   "metadata": {},
   "outputs": [
    {
     "data": {
      "text/html": [
       "<div>\n",
       "<style scoped>\n",
       "    .dataframe tbody tr th:only-of-type {\n",
       "        vertical-align: middle;\n",
       "    }\n",
       "\n",
       "    .dataframe tbody tr th {\n",
       "        vertical-align: top;\n",
       "    }\n",
       "\n",
       "    .dataframe thead th {\n",
       "        text-align: right;\n",
       "    }\n",
       "</style>\n",
       "<table border=\"1\" class=\"dataframe\">\n",
       "  <thead>\n",
       "    <tr style=\"text-align: right;\">\n",
       "      <th></th>\n",
       "      <th>k</th>\n",
       "      <th>test_accuracy</th>\n",
       "      <th>train_accuracy</th>\n",
       "    </tr>\n",
       "  </thead>\n",
       "  <tbody>\n",
       "    <tr>\n",
       "      <th>8</th>\n",
       "      <td>40</td>\n",
       "      <td>0.780220</td>\n",
       "      <td>0.740566</td>\n",
       "    </tr>\n",
       "    <tr>\n",
       "      <th>4</th>\n",
       "      <td>20</td>\n",
       "      <td>0.780220</td>\n",
       "      <td>0.754717</td>\n",
       "    </tr>\n",
       "    <tr>\n",
       "      <th>7</th>\n",
       "      <td>35</td>\n",
       "      <td>0.780220</td>\n",
       "      <td>0.768868</td>\n",
       "    </tr>\n",
       "    <tr>\n",
       "      <th>3</th>\n",
       "      <td>15</td>\n",
       "      <td>0.769231</td>\n",
       "      <td>0.768868</td>\n",
       "    </tr>\n",
       "    <tr>\n",
       "      <th>5</th>\n",
       "      <td>25</td>\n",
       "      <td>0.769231</td>\n",
       "      <td>0.768868</td>\n",
       "    </tr>\n",
       "  </tbody>\n",
       "</table>\n",
       "</div>"
      ],
      "text/plain": [
       "    k  test_accuracy  train_accuracy\n",
       "8  40       0.780220        0.740566\n",
       "4  20       0.780220        0.754717\n",
       "7  35       0.780220        0.768868\n",
       "3  15       0.769231        0.768868\n",
       "5  25       0.769231        0.768868"
      ]
     },
     "execution_count": 28,
     "metadata": {},
     "output_type": "execute_result"
    }
   ],
   "source": [
    "# [Code adapted from the previous course]\n",
    "# Variable to store the results\n",
    "gs_results = []\n",
    "\n",
    "# Grid search\n",
    "for k in k_values:\n",
    "    # Fit k-NN model\n",
    "    knn_pipe.set_params(knn__n_neighbors=k)\n",
    "    knn_pipe.fit(X_tr, y_tr)\n",
    "\n",
    "    # Save model and its performance on train/test sets\n",
    "    gs_results.append({\n",
    "        'k': k,\n",
    "        'train_accuracy': knn_pipe.score(X_tr, y_tr),\n",
    "        'test_accuracy': knn_pipe.score(X_te, y_te)\n",
    "    })\n",
    "\n",
    "# Convert results to DataFrame\n",
    "gs_results = pd.DataFrame(gs_results)\n",
    "gs_results.sort_values(by='test_accuracy', ascending=False).head()"
   ]
  },
  {
   "cell_type": "markdown",
   "id": "c5032ac7",
   "metadata": {},
   "source": [
    "The optimal k values seems to be between 20 and 40. To get a better overview, let's plot the validation curves"
   ]
  },
  {
   "cell_type": "code",
   "execution_count": 29,
   "id": "31dde3af",
   "metadata": {},
   "outputs": [
    {
     "data": {
      "image/png": "[encoded data removed]",
      "text/plain": [
       "<Figure size 432x288 with 1 Axes>"
      ]
     },
     "metadata": {
      "needs_background": "light"
     },
     "output_type": "display_data"
    }
   ],
   "source": [
    "%matplotlib inline\n",
    "import matplotlib.pyplot as plt\n",
    "\n",
    "# Plot the validation curves\n",
    "plt.plot(gs_results['k'], gs_results['train_accuracy'], label='train curve')\n",
    "plt.plot(gs_results['k'], gs_results['test_accuracy'], label='test curve')\n",
    "plt.ylabel('accuracy')\n",
    "plt.xlabel('k')\n",
    "plt.legend()\n",
    "plt.show()"
   ]
  },
  {
   "cell_type": "markdown",
   "id": "7c53acc8",
   "metadata": {},
   "source": [
    "### Average several runs = Cross Validation\n",
    "There is no clear pattern for k between 20 and 40 in the results from above. Let's see if we can get more stable results by averaging the scores over 30 runs"
   ]
  },
  {
   "cell_type": "markdown",
   "id": "8bb109c0",
   "metadata": {},
   "source": [
    "As a small experiment, we can compare the results without standardization by adding scaler=None to the knn_pipe.set_params() call in the for loop"
   ]
  },
  {
   "cell_type": "raw",
   "id": "09cfeb44",
   "metadata": {},
   "source": [
    "# Run several times the evaluation\n",
    "gs_results = []\n",
    "for run_idx in range(30):\n",
    "    # Split into train/test sets\n",
    "    X_tr, X_te, y_tr, y_te = train_test_split(\n",
    "        X, y, test_size=0.3, random_state=run_idx)\n",
    "\n",
    "    # Grid search\n",
    "    for k in k_values:\n",
    "        # Fit k-NN model\n",
    "        knn_pipe.set_params(scaler = None, knn__n_neighbors=k)\n",
    "        knn_pipe.fit(X_tr, y_tr)\n",
    "\n",
    "        # Save model and its performance on train/test sets\n",
    "        gs_results.append({\n",
    "            'k': k,\n",
    "            'run_idx': run_idx,\n",
    "            'train_accuracy': knn_pipe.score(X_tr, y_tr),\n",
    "            'test_accuracy': knn_pipe.score(X_te, y_te)\n",
    "        })\n",
    "\n",
    "# Convert results to DataFrame\n",
    "gs_results = pd.DataFrame(gs_results)\n",
    "\n",
    "# Group results by alpha value\n",
    "grouped = gs_results.groupby('k')\n",
    "\n",
    "# Compute train/test mean scores with std\n",
    "mean_tr = grouped.train_accuracy.mean()\n",
    "mean_te = grouped.test_accuracy.mean()\n",
    "std_tr = grouped.train_accuracy.std()\n",
    "std_te = grouped.test_accuracy.std()\n",
    "\n",
    "# Plot mean scores\n",
    "plt.plot(k_values, mean_tr, label='train')\n",
    "plt.plot(k_values, mean_te, label='test')\n",
    "\n",
    "# Add marker for best score\n",
    "best_k = mean_te.idxmax()\n",
    "plt.scatter(best_k, mean_te.max(), marker='x', c='red', zorder=10)\n",
    "\n",
    "# Quantify variance with ±std curves\n",
    "plt.fill_between(k_values, mean_tr-std_tr, mean_tr+std_tr, alpha=0.2)\n",
    "plt.fill_between(k_values, mean_te-std_te, mean_te+std_te, alpha=0.2)\n",
    "plt.title('Best k: {} with {:.1f}% accuracy'.format(best_k, 100*mean_te[best_k]))\n",
    "plt.ylabel('accuracy')\n",
    "plt.xlabel('k')\n",
    "plt.legend()\n",
    "plt.show()"
   ]
  },
  {
   "cell_type": "markdown",
   "id": "6b161219",
   "metadata": {},
   "source": [
    "The optimal k is now around 20 with an accuracy of 66 ± 4%.\n",
    "\n",
    "Let's test with StandardScaler()"
   ]
  },
  {
   "cell_type": "code",
   "execution_count": 30,
   "id": "9e720197",
   "metadata": {},
   "outputs": [],
   "source": [
    "# Run several times the evaluation\n",
    "gs_results = []\n",
    "for run_idx in range(30):\n",
    "    # Split into train/test sets\n",
    "    X_tr, X_te, y_tr, y_te = train_test_split(\n",
    "        X, y, test_size=0.3, random_state=run_idx)\n",
    "\n",
    "    # Grid search\n",
    "    for k in k_values:\n",
    "        # Fit k-NN model\n",
    "        knn_pipe.set_params(knn__n_neighbors=k)\n",
    "        knn_pipe.fit(X_tr, y_tr)\n",
    "\n",
    "        # Save model and its performance on train/test sets\n",
    "        gs_results.append({\n",
    "            'k': k,\n",
    "            'run_idx': run_idx,\n",
    "            'train_accuracy': knn_pipe.score(X_tr, y_tr),\n",
    "            'test_accuracy': knn_pipe.score(X_te, y_te)\n",
    "        })\n",
    "\n",
    "# Convert results to DataFrame\n",
    "gs_results = pd.DataFrame(gs_results)"
   ]
  },
  {
   "cell_type": "code",
   "execution_count": 31,
   "id": "d2403407",
   "metadata": {},
   "outputs": [],
   "source": [
    "# Group results by alpha value\n",
    "grouped = gs_results.groupby('k')\n",
    "\n",
    "# Compute train/test mean scores with std\n",
    "mean_tr = grouped.train_accuracy.mean()\n",
    "mean_te = grouped.test_accuracy.mean()\n",
    "std_tr = grouped.train_accuracy.std()\n",
    "std_te = grouped.test_accuracy.std()"
   ]
  },
  {
   "cell_type": "code",
   "execution_count": 32,
   "id": "b529d509",
   "metadata": {},
   "outputs": [
    {
     "data": {
      "image/png": "[encoded data removed]",
      "text/plain": [
       "<Figure size 432x288 with 1 Axes>"
      ]
     },
     "metadata": {
      "needs_background": "light"
     },
     "output_type": "display_data"
    }
   ],
   "source": [
    "# Plot mean scores\n",
    "plt.plot(k_values, mean_tr, label='train')\n",
    "plt.plot(k_values, mean_te, label='test')\n",
    "\n",
    "# Add marker for best score\n",
    "best_k = mean_te.idxmax()\n",
    "plt.scatter(best_k, mean_te.max(), marker='x', c='red', zorder=10)\n",
    "\n",
    "# Quantify variance with ±std curves\n",
    "plt.fill_between(k_values, mean_tr-std_tr, mean_tr+std_tr, alpha=0.2)\n",
    "plt.fill_between(k_values, mean_te-std_te, mean_te+std_te, alpha=0.2)\n",
    "plt.title('Best k: {} with {:.1f}% accuracy'.format(best_k, 100*mean_te[best_k]))\n",
    "plt.ylabel('accuracy')\n",
    "plt.xlabel('k')\n",
    "plt.legend()\n",
    "plt.show()"
   ]
  },
  {
   "cell_type": "markdown",
   "id": "fcd60788",
   "metadata": {},
   "source": [
    "### Classification report\n",
    "Above, we decided to tune our k-NN estimator based on the accuracy metric. But, let's take a look at the other classification metrics that we saw in the last unit.\n",
    "\n"
   ]
  },
  {
   "cell_type": "code",
   "execution_count": 37,
   "id": "e86a8ca7",
   "metadata": {},
   "outputs": [
    {
     "name": "stdout",
     "output_type": "stream",
     "text": [
      "              precision    recall  f1-score   support\n",
      "\n",
      "     absence       0.59      0.90      0.71        41\n",
      "    presence       0.86      0.48      0.62        50\n",
      "\n",
      "   micro avg       0.67      0.67      0.67        91\n",
      "   macro avg       0.72      0.69      0.66        91\n",
      "weighted avg       0.74      0.67      0.66        91\n",
      "\n"
     ]
    }
   ],
   "source": [
    "from sklearn.metrics import classification_report\n",
    "\n",
    "# Tuned k-NN estimator\n",
    "tuned_knn = Pipeline([\n",
    "    ('scaler', StandardScaler()),\n",
    "    ('knn', KNeighborsClassifier(n_neighbors=best_k))\n",
    "])\n",
    "tuned_knn.fit(X_tr, y_tr)\n",
    "\n",
    "# Classification report\n",
    "y_te_preds = tuned_knn.predict(X_te)\n",
    "print(classification_report(y_true=y_te, y_pred=y_te_preds))"
   ]
  },
  {
   "cell_type": "markdown",
   "id": "f3e6a3d9",
   "metadata": {},
   "source": [
    "As we can see, the recall value (i.e. \"How many times do we predict positive when it is?\") is around 0.44 which is not really good for our use case: our k-NN estimator only detected 48% of sick patients. In a medical application, a doctor might want to detect most of the patients that have the disease, at the cost of increasing the missclassification rate for healthy patients which is not an issue if further tests can be performed for those patients.\n",
    "\n",
    "So, how can we achieve this? At the moment, our k-NN estimator retrieves the k nearest patients, computes the proportion of patients in each class within the neighborhood and predicts the most frequent class. We can retrieve those proportions with the predict_proba() function of the estimator"
   ]
  },
  {
   "cell_type": "code",
   "execution_count": 38,
   "id": "b07d714a",
   "metadata": {},
   "outputs": [
    {
     "name": "stdout",
     "output_type": "stream",
     "text": [
      "Predictions: ['absence' 'presence' 'presence' 'absence' 'presence']\n",
      "Probs:\n",
      "[[0.8        0.2       ]\n",
      " [0.14285714 0.85714286]\n",
      " [0.25714286 0.74285714]\n",
      " [0.74285714 0.25714286]\n",
      " [0.22857143 0.77142857]]\n"
     ]
    }
   ],
   "source": [
    "# Compute probabilities\n",
    "y_te_probs = tuned_knn.predict_proba(X_te)\n",
    "print('Predictions:', y_te_preds[:5]) # ['absence' 'presence' 'presence' 'absence' 'presence']\n",
    "print('Probs:')\n",
    "print(y_te_probs[:5])"
   ]
  },
  {
   "cell_type": "markdown",
   "id": "4ae2275e",
   "metadata": {},
   "source": [
    "For instance, 80% of the k=35 nearest patients to the first test one are labeled as healthy (first column) and the remaining 20% as sick (second column), so the patient is labeled with absence. In other words, our estimator labels patients as sick when the probability in the second column is more than 50%.\n",
    "\n",
    "Let's see how we can increase recall by adjusting this threshold!"
   ]
  },
  {
   "cell_type": "markdown",
   "id": "a758222b",
   "metadata": {},
   "source": [
    "### ROC curve\n",
    "\n",
    "We discussed above the idea of adjusting our detection threshold to increase the number of times we detect sick patients at the cost of misclassifying healthy patients. A way to analyze the relation between those two quantities is by plotting the **Receiver operating characteristic (ROC) curve.**\n",
    "\n",
    "To compute it, we can use the roc_curve() function from Scikit-learn"
   ]
  },
  {
   "cell_type": "code",
   "execution_count": 39,
   "id": "2b6c8759",
   "metadata": {},
   "outputs": [],
   "source": [
    "from sklearn.metrics import roc_curve\n",
    "\n",
    "# ROC curve\n",
    "fpr, tpr, thresholds = roc_curve(y_true=y_te, y_score=y_te_probs[:, 1], pos_label='presence')"
   ]
  },
  {
   "cell_type": "markdown",
   "id": "2674d633",
   "metadata": {},
   "source": [
    "In this code, we pass the true values y_te and y_te_probs[:, 1] which contains the probabilities for the disease category.\n",
    "\n",
    "The function returns three arrays\n",
    "\n",
    "- The False Positive Rate (FPR) - how many times we missclassify healthy patients\n",
    "- The True Positive Rate (TPR) or Recall - how many times we correctly classify sick patients\n",
    "- The associated threshold values"
   ]
  },
  {
   "cell_type": "code",
   "execution_count": 40,
   "id": "a2d2e1f3",
   "metadata": {},
   "outputs": [
    {
     "data": {
      "text/html": [
       "<div>\n",
       "<style scoped>\n",
       "    .dataframe tbody tr th:only-of-type {\n",
       "        vertical-align: middle;\n",
       "    }\n",
       "\n",
       "    .dataframe tbody tr th {\n",
       "        vertical-align: top;\n",
       "    }\n",
       "\n",
       "    .dataframe thead th {\n",
       "        text-align: right;\n",
       "    }\n",
       "</style>\n",
       "<table border=\"1\" class=\"dataframe\">\n",
       "  <thead>\n",
       "    <tr style=\"text-align: right;\">\n",
       "      <th></th>\n",
       "      <th>fpr</th>\n",
       "      <th>tpr (recall)</th>\n",
       "      <th>thresholds</th>\n",
       "    </tr>\n",
       "  </thead>\n",
       "  <tbody>\n",
       "    <tr>\n",
       "      <th>0</th>\n",
       "      <td>0.000000</td>\n",
       "      <td>0.00</td>\n",
       "      <td>1.942857</td>\n",
       "    </tr>\n",
       "    <tr>\n",
       "      <th>1</th>\n",
       "      <td>0.000000</td>\n",
       "      <td>0.02</td>\n",
       "      <td>0.942857</td>\n",
       "    </tr>\n",
       "    <tr>\n",
       "      <th>2</th>\n",
       "      <td>0.000000</td>\n",
       "      <td>0.06</td>\n",
       "      <td>0.885714</td>\n",
       "    </tr>\n",
       "    <tr>\n",
       "      <th>3</th>\n",
       "      <td>0.024390</td>\n",
       "      <td>0.12</td>\n",
       "      <td>0.857143</td>\n",
       "    </tr>\n",
       "    <tr>\n",
       "      <th>4</th>\n",
       "      <td>0.024390</td>\n",
       "      <td>0.18</td>\n",
       "      <td>0.828571</td>\n",
       "    </tr>\n",
       "    <tr>\n",
       "      <th>5</th>\n",
       "      <td>0.048780</td>\n",
       "      <td>0.20</td>\n",
       "      <td>0.771429</td>\n",
       "    </tr>\n",
       "    <tr>\n",
       "      <th>6</th>\n",
       "      <td>0.048780</td>\n",
       "      <td>0.26</td>\n",
       "      <td>0.742857</td>\n",
       "    </tr>\n",
       "    <tr>\n",
       "      <th>7</th>\n",
       "      <td>0.048780</td>\n",
       "      <td>0.28</td>\n",
       "      <td>0.685714</td>\n",
       "    </tr>\n",
       "    <tr>\n",
       "      <th>8</th>\n",
       "      <td>0.073171</td>\n",
       "      <td>0.32</td>\n",
       "      <td>0.657143</td>\n",
       "    </tr>\n",
       "    <tr>\n",
       "      <th>9</th>\n",
       "      <td>0.073171</td>\n",
       "      <td>0.36</td>\n",
       "      <td>0.571429</td>\n",
       "    </tr>\n",
       "    <tr>\n",
       "      <th>10</th>\n",
       "      <td>0.073171</td>\n",
       "      <td>0.44</td>\n",
       "      <td>0.542857</td>\n",
       "    </tr>\n",
       "    <tr>\n",
       "      <th>11</th>\n",
       "      <td>0.097561</td>\n",
       "      <td>0.48</td>\n",
       "      <td>0.514286</td>\n",
       "    </tr>\n",
       "    <tr>\n",
       "      <th>12</th>\n",
       "      <td>0.195122</td>\n",
       "      <td>0.60</td>\n",
       "      <td>0.457143</td>\n",
       "    </tr>\n",
       "    <tr>\n",
       "      <th>13</th>\n",
       "      <td>0.195122</td>\n",
       "      <td>0.64</td>\n",
       "      <td>0.428571</td>\n",
       "    </tr>\n",
       "    <tr>\n",
       "      <th>14</th>\n",
       "      <td>0.195122</td>\n",
       "      <td>0.66</td>\n",
       "      <td>0.400000</td>\n",
       "    </tr>\n",
       "    <tr>\n",
       "      <th>15</th>\n",
       "      <td>0.219512</td>\n",
       "      <td>0.68</td>\n",
       "      <td>0.371429</td>\n",
       "    </tr>\n",
       "    <tr>\n",
       "      <th>16</th>\n",
       "      <td>0.243902</td>\n",
       "      <td>0.72</td>\n",
       "      <td>0.342857</td>\n",
       "    </tr>\n",
       "    <tr>\n",
       "      <th>17</th>\n",
       "      <td>0.292683</td>\n",
       "      <td>0.76</td>\n",
       "      <td>0.314286</td>\n",
       "    </tr>\n",
       "    <tr>\n",
       "      <th>18</th>\n",
       "      <td>0.365854</td>\n",
       "      <td>0.80</td>\n",
       "      <td>0.285714</td>\n",
       "    </tr>\n",
       "    <tr>\n",
       "      <th>19</th>\n",
       "      <td>0.414634</td>\n",
       "      <td>0.82</td>\n",
       "      <td>0.257143</td>\n",
       "    </tr>\n",
       "    <tr>\n",
       "      <th>20</th>\n",
       "      <td>0.536585</td>\n",
       "      <td>0.86</td>\n",
       "      <td>0.228571</td>\n",
       "    </tr>\n",
       "    <tr>\n",
       "      <th>21</th>\n",
       "      <td>0.634146</td>\n",
       "      <td>0.92</td>\n",
       "      <td>0.200000</td>\n",
       "    </tr>\n",
       "    <tr>\n",
       "      <th>22</th>\n",
       "      <td>0.658537</td>\n",
       "      <td>0.94</td>\n",
       "      <td>0.171429</td>\n",
       "    </tr>\n",
       "    <tr>\n",
       "      <th>23</th>\n",
       "      <td>0.756098</td>\n",
       "      <td>0.94</td>\n",
       "      <td>0.142857</td>\n",
       "    </tr>\n",
       "    <tr>\n",
       "      <th>24</th>\n",
       "      <td>0.804878</td>\n",
       "      <td>0.98</td>\n",
       "      <td>0.114286</td>\n",
       "    </tr>\n",
       "    <tr>\n",
       "      <th>25</th>\n",
       "      <td>1.000000</td>\n",
       "      <td>0.98</td>\n",
       "      <td>0.057143</td>\n",
       "    </tr>\n",
       "    <tr>\n",
       "      <th>26</th>\n",
       "      <td>1.000000</td>\n",
       "      <td>1.00</td>\n",
       "      <td>0.000000</td>\n",
       "    </tr>\n",
       "  </tbody>\n",
       "</table>\n",
       "</div>"
      ],
      "text/plain": [
       "         fpr  tpr (recall)  thresholds\n",
       "0   0.000000          0.00    1.942857\n",
       "1   0.000000          0.02    0.942857\n",
       "2   0.000000          0.06    0.885714\n",
       "3   0.024390          0.12    0.857143\n",
       "4   0.024390          0.18    0.828571\n",
       "5   0.048780          0.20    0.771429\n",
       "6   0.048780          0.26    0.742857\n",
       "7   0.048780          0.28    0.685714\n",
       "8   0.073171          0.32    0.657143\n",
       "9   0.073171          0.36    0.571429\n",
       "10  0.073171          0.44    0.542857\n",
       "11  0.097561          0.48    0.514286\n",
       "12  0.195122          0.60    0.457143\n",
       "13  0.195122          0.64    0.428571\n",
       "14  0.195122          0.66    0.400000\n",
       "15  0.219512          0.68    0.371429\n",
       "16  0.243902          0.72    0.342857\n",
       "17  0.292683          0.76    0.314286\n",
       "18  0.365854          0.80    0.285714\n",
       "19  0.414634          0.82    0.257143\n",
       "20  0.536585          0.86    0.228571\n",
       "21  0.634146          0.92    0.200000\n",
       "22  0.658537          0.94    0.171429\n",
       "23  0.756098          0.94    0.142857\n",
       "24  0.804878          0.98    0.114286\n",
       "25  1.000000          0.98    0.057143\n",
       "26  1.000000          1.00    0.000000"
      ]
     },
     "execution_count": 40,
     "metadata": {},
     "output_type": "execute_result"
    }
   ],
   "source": [
    "pd.DataFrame({\n",
    "    'fpr': fpr,\n",
    "    'tpr (recall)': tpr,\n",
    "    'thresholds': thresholds\n",
    "})"
   ]
  },
  {
   "cell_type": "markdown",
   "id": "f20b3084",
   "metadata": {},
   "source": [
    "Each row tells us how small the threshold should be to get at least the associated recall value. For instance, with a threshold smaller than 51.4% (row 11), we should get at least 48% recall. And with a threshold smaller than 45.7% (row 12), we should get at least 60% recall. This corresponds to what we saw above with our k-NN classifier: by using the default threshold of 50%, we get the recall score of 48%.\n",
    "\n",
    "Another way to visualize this table is by plotting the false/true positive rates together"
   ]
  },
  {
   "cell_type": "code",
   "execution_count": 41,
   "id": "144f3d59",
   "metadata": {},
   "outputs": [
    {
     "data": {
      "image/png": "[encoded data removed]",
      "text/plain": [
       "<Figure size 432x288 with 1 Axes>"
      ]
     },
     "metadata": {
      "needs_background": "light"
     },
     "output_type": "display_data"
    }
   ],
   "source": [
    "# Plot ROC curve\n",
    "plt.plot(fpr, tpr, label='ROC curve')\n",
    "plt.xlabel('False Positive Rate')\n",
    "plt.ylabel('True Positive Rate (Recall)')\n",
    "plt.title('ROC curve for \"presence\"')\n",
    "plt.show()"
   ]
  },
  {
   "cell_type": "markdown",
   "id": "c5464637",
   "metadata": {},
   "source": [
    "Ideally, we would like to have a **curve close to the upper left corner of the plot** with a high recall and a small false positive rate. A way to quantify how close our curve is to that ideal one is to compute the \"area\" under our ROC curve (AUC)"
   ]
  },
  {
   "cell_type": "code",
   "execution_count": 42,
   "id": "621a0749",
   "metadata": {},
   "outputs": [
    {
     "data": {
      "text/plain": [
       "0.7858536585365854"
      ]
     },
     "execution_count": 42,
     "metadata": {},
     "output_type": "execute_result"
    }
   ],
   "source": [
    "from sklearn.metrics import roc_auc_score\n",
    "\n",
    "# Area under the curve (AUC)\n",
    "roc_auc_score(y_true=y_te, y_score=y_te_probs[:, 1])"
   ]
  },
  {
   "cell_type": "markdown",
   "id": "834038ce",
   "metadata": {},
   "source": [
    "Let's get back to the table and see how we can adapt the threshold to achieve a recall score of 90%. By looking at the second column, we see that the first recall score above 90% is row 21: by setting the threshold to 20%, we should get a recall of 92% - let's verify this with code!"
   ]
  },
  {
   "cell_type": "code",
   "execution_count": 43,
   "id": "5e2a9897",
   "metadata": {},
   "outputs": [
    {
     "name": "stdout",
     "output_type": "stream",
     "text": [
      "              precision    recall  f1-score   support\n",
      "\n",
      "     absence       0.79      0.37      0.50        41\n",
      "    presence       0.64      0.92      0.75        50\n",
      "\n",
      "   micro avg       0.67      0.67      0.67        91\n",
      "   macro avg       0.71      0.64      0.63        91\n",
      "weighted avg       0.71      0.67      0.64        91\n",
      "\n"
     ]
    }
   ],
   "source": [
    "# Adjust threshold\n",
    "custom_preds = ['absence' if p else 'presence' for p in (y_te_probs[:, 1] < 0.2)]\n",
    "\n",
    "print(classification_report(y_true=y_te, y_pred=custom_preds))"
   ]
  },
  {
   "cell_type": "markdown",
   "id": "2714bd94",
   "metadata": {},
   "source": [
    "**In this code, we make predictions based on this new probability threshold and print the classification report. As we can see, the recall value when the positive class is presence is now 92% with a precision (i.e. How many times are we correct when we predict presence) of 64%.**\n",
    "\n",
    "### Summary\n",
    "\n",
    "In this unit, we discussed when to apply standardization and experimented with KNeighborsClassifier from Scikit-learn. In practice, k-NN is a good baseline which usually returns reasonable results. So it's often a good idea to start by evaluating the most-frequent and k-NN baselines first.\n",
    "\n",
    "In the next exercise, we will experiment with the famous **MNIST handwritten digits** classification task and evaluate the k-NN baseline. However, to achieve this, we first need to learn two things\n",
    "\n",
    "* How to transform an image into a set of features\n",
    "- How to work with larger data sets\n",
    "\n",
    "\n",
    "We will discuss each point in the next two units."
   ]
  },
  {
   "cell_type": "code",
   "execution_count": null,
   "id": "37f8f311",
   "metadata": {},
   "outputs": [],
   "source": []
  }
 ],
 "metadata": {
  "kernelspec": {
   "display_name": "Python 3",
   "language": "python",
   "name": "python3"
  },
  "language_info": {
   "codemirror_mode": {
    "name": "ipython",
    "version": 3
   },
   "file_extension": ".py",
   "mimetype": "text/x-python",
   "name": "python",
   "nbconvert_exporter": "python",
   "pygments_lexer": "ipython3",
   "version": "3.6.13"
  }
 },
 "nbformat": 4,
 "nbformat_minor": 5
}
