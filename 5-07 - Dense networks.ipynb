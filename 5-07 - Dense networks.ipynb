{
 "cells": [
  {
   "cell_type": "markdown",
   "id": "ae219d5f",
   "metadata": {},
   "source": [
    "# Dense Network"
   ]
  },
  {
   "cell_type": "code",
   "execution_count": null,
   "id": "1175b09b",
   "metadata": {},
   "outputs": [],
   "source": []
  },
  {
   "cell_type": "markdown",
   "id": "861421fa",
   "metadata": {},
   "source": [
    "### Load data"
   ]
  },
  {
   "cell_type": "code",
   "execution_count": 1,
   "id": "cd13f974",
   "metadata": {},
   "outputs": [
    {
     "name": "stderr",
     "output_type": "stream",
     "text": [
      "C:\\Users\\lyeso\\anaconda3\\envs\\exts-ml\\lib\\site-packages\\h5py\\__init__.py:36: FutureWarning: Conversion of the second argument of issubdtype from `float` to `np.floating` is deprecated. In future, it will be treated as `np.float64 == np.dtype(float).type`.\n",
      "  from ._conv import register_converters as _register_converters\n",
      "WARNING:absl:Some hub symbols are not available because TensorFlow version is less than 1.14\n"
     ]
    }
   ],
   "source": [
    "import tensorflow as tf\n",
    "import tensorflow.keras as keras\n",
    "from tensorflow.keras import backend as K\n",
    "from tensorflow.keras.preprocessing.image import ImageDataGenerator\n",
    "import tensorflow_hub as hub\n",
    "import os\n",
    "import PIL.Image as Image\n",
    "import numpy as np\n",
    "import matplotlib.pyplot as plt\n",
    "import numpy as np\n",
    "import pandas as pd\n",
    "from sklearn.preprocessing import StandardScaler\n",
    "import sklearn as skl\n",
    "\n",
    "os.environ[\"CUDA_VISIBLE_DEVICES\"]= \"-1\" # Force Tensorflow on CPU instead of GPU (seems to avoid an error with my CUDA compatible GPU)"
   ]
  },
  {
   "cell_type": "code",
   "execution_count": 2,
   "id": "e08dcc00",
   "metadata": {},
   "outputs": [],
   "source": [
    "# Load training data form NPZ file\n",
    "\n",
    "train_data = \"train.npz\"\n",
    "X_tr = np.load(train_data)[\"features\"]\n",
    "y_tr = np.load(train_data)[\"labels\"]\n",
    "images_tr = np.load(train_data)[\"pixels\"]\n",
    "names_tr = np.load(train_data)[\"names\"]\n",
    "\n",
    "valid_data = \"valid.npz\"\n",
    "X_val= np.load(valid_data)[\"features\"]\n",
    "y_val = np.load(valid_data)[\"labels\"]\n",
    "images_val = np.load(valid_data)[\"pixels\"]\n",
    "names_val = np.load(valid_data)[\"names\"]\n",
    "\n",
    "test_data = \"test.npz\"\n",
    "X_te= np.load(test_data)[\"features\"]\n",
    "y_te = np.load(test_data)[\"labels\"]\n",
    "images_te = np.load(test_data)[\"pixels\"]\n",
    "names_te = np.load(test_data)[\"names\"]\n",
    "\n",
    "# Create a dictionnary for labels\n",
    "labels_dict = {0: 'bike', 1 : 'car', 2: 'motorcycle', 3: 'other', 4:'truck', 5: 'van'}"
   ]
  },
  {
   "cell_type": "code",
   "execution_count": 3,
   "id": "03e4095b",
   "metadata": {},
   "outputs": [],
   "source": [
    "### Let's use a bigger dataset for training.\n",
    "\n",
    "X = np.concatenate((X_tr,X_val), axis=0, out=None)  # X for Cross Validation and Grid Search\n",
    "y = np.concatenate((y_tr,y_val), axis=0, out=None) "
   ]
  },
  {
   "cell_type": "code",
   "execution_count": 4,
   "id": "c060dd15",
   "metadata": {},
   "outputs": [],
   "source": [
    "# Rescale train and validation data\n",
    "scaler = StandardScaler()\n",
    "X_scaled = scaler.fit_transform(X)\n",
    "X_te_scaled = scaler.transform(X_te)"
   ]
  },
  {
   "cell_type": "markdown",
   "id": "73efb270",
   "metadata": {},
   "source": [
    "### 1 layer dense network"
   ]
  },
  {
   "cell_type": "code",
   "execution_count": 5,
   "id": "369ee0e3",
   "metadata": {},
   "outputs": [],
   "source": [
    "# Import Keras\n",
    "\n",
    "from tensorflow.keras import Sequential\n",
    "from tensorflow.keras.layers import Dense"
   ]
  },
  {
   "cell_type": "code",
   "execution_count": 6,
   "id": "1fc5fab0",
   "metadata": {},
   "outputs": [
    {
     "name": "stdout",
     "output_type": "stream",
     "text": [
      "_________________________________________________________________\n",
      "Layer (type)                 Output Shape              Param #   \n",
      "=================================================================\n",
      "dense (Dense)                (None, 6)                 12294     \n",
      "=================================================================\n",
      "Total params: 12,294\n",
      "Trainable params: 12,294\n",
      "Non-trainable params: 0\n",
      "_________________________________________________________________\n"
     ]
    }
   ],
   "source": [
    "model = Sequential()\n",
    "model.add(Dense(6, activation='softmax', input_dim=2048))\n",
    "model.summary()"
   ]
  },
  {
   "cell_type": "markdown",
   "id": "8615f26a",
   "metadata": {},
   "source": [
    "### Compile Model"
   ]
  },
  {
   "cell_type": "code",
   "execution_count": 7,
   "id": "c9391d33",
   "metadata": {},
   "outputs": [],
   "source": [
    "from tensorflow.keras import losses\n",
    "from tensorflow.keras import metrics\n",
    "\n",
    "# Define loss function, optimizer, and metrics to track during training\n",
    "model.compile(\n",
    "    optimizer='sgd', # .. or optimizers.SGD(lr=0.01)\n",
    "    loss='sparse_categorical_crossentropy', # .. or losses.sparse_categorical_crossentropy\n",
    "    metrics=['acc'] # .. or metrics.sparse_categorical_accuracy\n",
    ")"
   ]
  },
  {
   "cell_type": "code",
   "execution_count": 8,
   "id": "322d588f",
   "metadata": {},
   "outputs": [
    {
     "name": "stdout",
     "output_type": "stream",
     "text": [
      "Train on 335 samples, validate on 84 samples\n",
      "Epoch 1/20\n",
      "335/335 [==============================] - 1s 4ms/step - loss: 1.4267 - acc: 0.4985 - val_loss: 1.4434 - val_acc: 0.4762\n",
      "Epoch 2/20\n",
      "335/335 [==============================] - 0s 34us/step - loss: 0.9169 - acc: 0.7851 - val_loss: 1.1366 - val_acc: 0.6905\n",
      "Epoch 3/20\n",
      "335/335 [==============================] - 0s 36us/step - loss: 0.6981 - acc: 0.8448 - val_loss: 0.9573 - val_acc: 0.7976\n",
      "Epoch 4/20\n",
      "335/335 [==============================] - 0s 31us/step - loss: 0.5763 - acc: 0.8806 - val_loss: 0.8703 - val_acc: 0.7738\n",
      "Epoch 5/20\n",
      "335/335 [==============================] - 0s 31us/step - loss: 0.4942 - acc: 0.8806 - val_loss: 0.7550 - val_acc: 0.8333\n",
      "Epoch 6/20\n",
      "335/335 [==============================] - 0s 45us/step - loss: 0.4395 - acc: 0.9224 - val_loss: 0.6683 - val_acc: 0.8452\n",
      "Epoch 7/20\n",
      "335/335 [==============================] - 0s 40us/step - loss: 0.3940 - acc: 0.9134 - val_loss: 0.6148 - val_acc: 0.8452\n",
      "Epoch 8/20\n",
      "335/335 [==============================] - 0s 41us/step - loss: 0.3593 - acc: 0.9284 - val_loss: 0.5801 - val_acc: 0.8690\n",
      "Epoch 9/20\n",
      "335/335 [==============================] - 0s 40us/step - loss: 0.3309 - acc: 0.9373 - val_loss: 0.5597 - val_acc: 0.8929\n",
      "Epoch 10/20\n",
      "335/335 [==============================] - 0s 38us/step - loss: 0.3084 - acc: 0.9493 - val_loss: 0.5404 - val_acc: 0.8571\n",
      "Epoch 11/20\n",
      "335/335 [==============================] - 0s 37us/step - loss: 0.2898 - acc: 0.9433 - val_loss: 0.5195 - val_acc: 0.9048\n",
      "Epoch 12/20\n",
      "335/335 [==============================] - 0s 34us/step - loss: 0.2744 - acc: 0.9463 - val_loss: 0.4882 - val_acc: 0.9048\n",
      "Epoch 13/20\n",
      "335/335 [==============================] - 0s 31us/step - loss: 0.2589 - acc: 0.9463 - val_loss: 0.4787 - val_acc: 0.9048\n",
      "Epoch 14/20\n",
      "335/335 [==============================] - 0s 34us/step - loss: 0.2473 - acc: 0.9493 - val_loss: 0.4683 - val_acc: 0.9048\n",
      "Epoch 15/20\n",
      "335/335 [==============================] - 0s 34us/step - loss: 0.2372 - acc: 0.9493 - val_loss: 0.4527 - val_acc: 0.9048\n",
      "Epoch 16/20\n",
      "335/335 [==============================] - 0s 40us/step - loss: 0.2249 - acc: 0.9552 - val_loss: 0.4381 - val_acc: 0.9048\n",
      "Epoch 17/20\n",
      "335/335 [==============================] - 0s 30us/step - loss: 0.2177 - acc: 0.9582 - val_loss: 0.4157 - val_acc: 0.9048\n",
      "Epoch 18/20\n",
      "335/335 [==============================] - 0s 30us/step - loss: 0.2092 - acc: 0.9672 - val_loss: 0.4240 - val_acc: 0.9048\n",
      "Epoch 19/20\n",
      "335/335 [==============================] - 0s 34us/step - loss: 0.2023 - acc: 0.9642 - val_loss: 0.4217 - val_acc: 0.9048\n",
      "Epoch 20/20\n",
      "335/335 [==============================] - 0s 27us/step - loss: 0.1957 - acc: 0.9582 - val_loss: 0.4119 - val_acc: 0.9048\n"
     ]
    }
   ],
   "source": [
    "# Fit model\n",
    "dense = model.fit(\n",
    "    x=X, y=y,\n",
    "    validation_split=0.2, batch_size=32, epochs=20,\n",
    "    shuffle=True # Shuffle training samples\n",
    ")"
   ]
  },
  {
   "cell_type": "markdown",
   "id": "8991680c",
   "metadata": {},
   "source": [
    "### Let's plot the accuracy curve"
   ]
  },
  {
   "cell_type": "code",
   "execution_count": 9,
   "id": "472c2a75",
   "metadata": {},
   "outputs": [
    {
     "data": {
      "image/png": "[encoded data removed]",
      "text/plain": [
       "<Figure size 864x288 with 2 Axes>"
      ]
     },
     "metadata": {
      "needs_background": "light"
     },
     "output_type": "display_data"
    }
   ],
   "source": [
    "# Create two plots: one for the loss value, one for the accuracy\n",
    "fig, (ax1, ax2) = plt.subplots(nrows=1, ncols=2, figsize=(12, 4))\n",
    "\n",
    "# Plot accuracy values\n",
    "ax1.plot(dense.history['loss'], label='train loss')\n",
    "ax1.plot(dense.history['val_loss'], label='val loss')\n",
    "ax1.set_title('Validation loss {:.3f} (mean last 3)'.format(\n",
    "    np.mean(dense.history['val_loss'][-3:]) # last three values\n",
    "))\n",
    "ax1.set_xlabel('epoch')\n",
    "ax1.set_ylabel('loss value')\n",
    "ax1.legend()\n",
    "\n",
    "# Plot accuracy values\n",
    "ax2.plot(dense.history['acc'], label='train acc')\n",
    "ax2.plot(dense.history['val_acc'], label='val acc')\n",
    "ax2.set_title('Validation accuracy {:.3f} (mean last 3)'.format(\n",
    "    np.mean(dense.history['val_acc'][-3:]) # last three values\n",
    "))\n",
    "ax2.set_xlabel('epoch')\n",
    "ax2.set_ylabel('accuracy')\n",
    "ax2.legend()\n",
    "plt.show()"
   ]
  },
  {
   "cell_type": "code",
   "execution_count": 10,
   "id": "e33af9ae",
   "metadata": {},
   "outputs": [
    {
     "name": "stdout",
     "output_type": "stream",
     "text": [
      "50/50 [==============================] - 0s 61us/step\n",
      "Test loss: 0.26\n",
      "Test accuracy: 94.00%\n"
     ]
    }
   ],
   "source": [
    "(test_loss, test_accuracy) = model.evaluate(X_te, y_te, batch_size=32)\n",
    "\n",
    "dense_best = test_accuracy\n",
    "\n",
    "print('Test loss: {:.2f}'.format(test_loss))\n",
    "print('Test accuracy: {:.2f}%'.format(100*test_accuracy)) "
   ]
  },
  {
   "cell_type": "markdown",
   "id": "aa576547",
   "metadata": {},
   "source": [
    "### Seems to work better when not \"standard-scaled\"\n",
    "\n",
    "### Dense and hidden layer"
   ]
  },
  {
   "cell_type": "code",
   "execution_count": 11,
   "id": "47ac4d38",
   "metadata": {},
   "outputs": [],
   "source": [
    "from tensorflow.keras import activations\n",
    "from tensorflow.keras import initializers"
   ]
  },
  {
   "cell_type": "code",
   "execution_count": 12,
   "id": "79147a74",
   "metadata": {},
   "outputs": [
    {
     "name": "stdout",
     "output_type": "stream",
     "text": [
      "_________________________________________________________________\n",
      "Layer (type)                 Output Shape              Param #   \n",
      "=================================================================\n",
      "dense_1 (Dense)              (None, 100)               204900    \n",
      "_________________________________________________________________\n",
      "dense_2 (Dense)              (None, 6)                 606       \n",
      "=================================================================\n",
      "Total params: 205,506\n",
      "Trainable params: 205,506\n",
      "Non-trainable params: 0\n",
      "_________________________________________________________________\n"
     ]
    }
   ],
   "source": [
    "# Create model\n",
    "model2 = Sequential()\n",
    "\n",
    "# Hidden layer\n",
    "model2.add(Dense(\n",
    "    units=100, activation=activations.relu, input_dim=2048))\n",
    "\n",
    "# Output layer\n",
    "model2.add(Dense(\n",
    "    units=6, activation=activations.softmax))\n",
    "\n",
    "# Print network summary\n",
    "model2.summary()"
   ]
  },
  {
   "cell_type": "code",
   "execution_count": 13,
   "id": "6866189d",
   "metadata": {},
   "outputs": [],
   "source": [
    "# Define loss function, optimizer, and metrics to track during training\n",
    "model2.compile(\n",
    "    optimizer='sgd', # .. or optimizers.SGD(lr=0.01)\n",
    "    loss='sparse_categorical_crossentropy', # .. or losses.sparse_categorical_crossentropy\n",
    "    metrics=['acc'] # .. or metrics.sparse_categorical_accuracy\n",
    ")"
   ]
  },
  {
   "cell_type": "code",
   "execution_count": 14,
   "id": "38981a81",
   "metadata": {},
   "outputs": [
    {
     "name": "stdout",
     "output_type": "stream",
     "text": [
      "Train on 335 samples, validate on 84 samples\n",
      "Epoch 1/50\n",
      "335/335 [==============================] - 0s 452us/step - loss: 1.3668 - acc: 0.5881 - val_loss: 1.5286 - val_acc: 0.4762\n",
      "Epoch 2/50\n",
      "335/335 [==============================] - 0s 52us/step - loss: 0.9189 - acc: 0.7851 - val_loss: 1.2296 - val_acc: 0.6667\n",
      "Epoch 3/50\n",
      "335/335 [==============================] - 0s 50us/step - loss: 0.6954 - acc: 0.8448 - val_loss: 0.9912 - val_acc: 0.7262\n",
      "Epoch 4/50\n",
      "335/335 [==============================] - 0s 49us/step - loss: 0.5624 - acc: 0.8687 - val_loss: 0.8843 - val_acc: 0.7262\n",
      "Epoch 5/50\n",
      "335/335 [==============================] - 0s 51us/step - loss: 0.4772 - acc: 0.8925 - val_loss: 0.7815 - val_acc: 0.7976\n",
      "Epoch 6/50\n",
      "335/335 [==============================] - 0s 54us/step - loss: 0.4156 - acc: 0.9134 - val_loss: 0.7161 - val_acc: 0.7738\n",
      "Epoch 7/50\n",
      "335/335 [==============================] - 0s 51us/step - loss: 0.3664 - acc: 0.9313 - val_loss: 0.6853 - val_acc: 0.7500\n",
      "Epoch 8/50\n",
      "335/335 [==============================] - 0s 49us/step - loss: 0.3312 - acc: 0.9194 - val_loss: 0.6151 - val_acc: 0.8571\n",
      "Epoch 9/50\n",
      "335/335 [==============================] - 0s 67us/step - loss: 0.2982 - acc: 0.9254 - val_loss: 0.5710 - val_acc: 0.8690\n",
      "Epoch 10/50\n",
      "335/335 [==============================] - 0s 54us/step - loss: 0.2742 - acc: 0.9463 - val_loss: 0.5346 - val_acc: 0.8452\n",
      "Epoch 11/50\n",
      "335/335 [==============================] - 0s 51us/step - loss: 0.2530 - acc: 0.9493 - val_loss: 0.5148 - val_acc: 0.8810\n",
      "Epoch 12/50\n",
      "335/335 [==============================] - 0s 47us/step - loss: 0.2363 - acc: 0.9463 - val_loss: 0.5019 - val_acc: 0.8810\n",
      "Epoch 13/50\n",
      "335/335 [==============================] - 0s 54us/step - loss: 0.2212 - acc: 0.9582 - val_loss: 0.4952 - val_acc: 0.8810\n",
      "Epoch 14/50\n",
      "335/335 [==============================] - 0s 51us/step - loss: 0.2075 - acc: 0.9582 - val_loss: 0.4805 - val_acc: 0.8810\n",
      "Epoch 15/50\n",
      "335/335 [==============================] - 0s 47us/step - loss: 0.1952 - acc: 0.9582 - val_loss: 0.4600 - val_acc: 0.8810\n",
      "Epoch 16/50\n",
      "335/335 [==============================] - 0s 56us/step - loss: 0.1876 - acc: 0.9612 - val_loss: 0.4508 - val_acc: 0.8810\n",
      "Epoch 17/50\n",
      "335/335 [==============================] - 0s 45us/step - loss: 0.1759 - acc: 0.9672 - val_loss: 0.4377 - val_acc: 0.8810\n",
      "Epoch 18/50\n",
      "335/335 [==============================] - 0s 56us/step - loss: 0.1677 - acc: 0.9701 - val_loss: 0.4227 - val_acc: 0.8571\n",
      "Epoch 19/50\n",
      "335/335 [==============================] - 0s 48us/step - loss: 0.1619 - acc: 0.9731 - val_loss: 0.4284 - val_acc: 0.8690\n",
      "Epoch 20/50\n",
      "335/335 [==============================] - 0s 55us/step - loss: 0.1547 - acc: 0.9701 - val_loss: 0.4157 - val_acc: 0.8810\n",
      "Epoch 21/50\n",
      "335/335 [==============================] - 0s 46us/step - loss: 0.1484 - acc: 0.9701 - val_loss: 0.4080 - val_acc: 0.8810\n",
      "Epoch 22/50\n",
      "335/335 [==============================] - 0s 55us/step - loss: 0.1424 - acc: 0.9791 - val_loss: 0.3943 - val_acc: 0.8690\n",
      "Epoch 23/50\n",
      "335/335 [==============================] - 0s 51us/step - loss: 0.1363 - acc: 0.9791 - val_loss: 0.3984 - val_acc: 0.8929\n",
      "Epoch 24/50\n",
      "335/335 [==============================] - 0s 54us/step - loss: 0.1320 - acc: 0.9761 - val_loss: 0.3814 - val_acc: 0.8929\n",
      "Epoch 25/50\n",
      "335/335 [==============================] - 0s 45us/step - loss: 0.1279 - acc: 0.9761 - val_loss: 0.3797 - val_acc: 0.8929\n",
      "Epoch 26/50\n",
      "335/335 [==============================] - 0s 55us/step - loss: 0.1234 - acc: 0.9851 - val_loss: 0.3798 - val_acc: 0.8810\n",
      "Epoch 27/50\n",
      "335/335 [==============================] - 0s 52us/step - loss: 0.1186 - acc: 0.9821 - val_loss: 0.3942 - val_acc: 0.8810\n",
      "Epoch 28/50\n",
      "335/335 [==============================] - 0s 51us/step - loss: 0.1153 - acc: 0.9881 - val_loss: 0.3807 - val_acc: 0.8810\n",
      "Epoch 29/50\n",
      "335/335 [==============================] - 0s 55us/step - loss: 0.1123 - acc: 0.9851 - val_loss: 0.3713 - val_acc: 0.8929\n",
      "Epoch 30/50\n",
      "335/335 [==============================] - 0s 48us/step - loss: 0.1085 - acc: 0.9821 - val_loss: 0.3739 - val_acc: 0.8690\n",
      "Epoch 31/50\n",
      "335/335 [==============================] - 0s 48us/step - loss: 0.1055 - acc: 0.9851 - val_loss: 0.3677 - val_acc: 0.8810\n",
      "Epoch 32/50\n",
      "335/335 [==============================] - 0s 56us/step - loss: 0.1020 - acc: 0.9851 - val_loss: 0.3604 - val_acc: 0.9048\n",
      "Epoch 33/50\n",
      "335/335 [==============================] - 0s 49us/step - loss: 0.1003 - acc: 0.9851 - val_loss: 0.3673 - val_acc: 0.8810\n",
      "Epoch 34/50\n",
      "335/335 [==============================] - 0s 48us/step - loss: 0.0968 - acc: 0.9851 - val_loss: 0.3688 - val_acc: 0.8690\n",
      "Epoch 35/50\n",
      "335/335 [==============================] - 0s 50us/step - loss: 0.0942 - acc: 0.9851 - val_loss: 0.3626 - val_acc: 0.8690\n",
      "Epoch 36/50\n",
      "335/335 [==============================] - 0s 48us/step - loss: 0.0917 - acc: 0.9851 - val_loss: 0.3496 - val_acc: 0.8929\n",
      "Epoch 37/50\n",
      "335/335 [==============================] - 0s 53us/step - loss: 0.0895 - acc: 0.9881 - val_loss: 0.3496 - val_acc: 0.8929\n",
      "Epoch 38/50\n",
      "335/335 [==============================] - 0s 51us/step - loss: 0.0873 - acc: 0.9881 - val_loss: 0.3527 - val_acc: 0.8929\n",
      "Epoch 39/50\n",
      "335/335 [==============================] - 0s 56us/step - loss: 0.0852 - acc: 0.9881 - val_loss: 0.3607 - val_acc: 0.8929\n",
      "Epoch 40/50\n",
      "335/335 [==============================] - 0s 46us/step - loss: 0.0827 - acc: 0.9881 - val_loss: 0.3541 - val_acc: 0.8929\n",
      "Epoch 41/50\n",
      "335/335 [==============================] - 0s 52us/step - loss: 0.0804 - acc: 0.9881 - val_loss: 0.3528 - val_acc: 0.8929\n",
      "Epoch 42/50\n",
      "335/335 [==============================] - 0s 50us/step - loss: 0.0789 - acc: 0.9881 - val_loss: 0.3529 - val_acc: 0.8929\n",
      "Epoch 43/50\n",
      "335/335 [==============================] - 0s 54us/step - loss: 0.0779 - acc: 0.9881 - val_loss: 0.3556 - val_acc: 0.8810\n",
      "Epoch 44/50\n",
      "335/335 [==============================] - 0s 48us/step - loss: 0.0759 - acc: 0.9881 - val_loss: 0.3492 - val_acc: 0.8810\n",
      "Epoch 45/50\n",
      "335/335 [==============================] - 0s 51us/step - loss: 0.0737 - acc: 0.9910 - val_loss: 0.3489 - val_acc: 0.8929\n",
      "Epoch 46/50\n",
      "335/335 [==============================] - 0s 47us/step - loss: 0.0720 - acc: 0.9910 - val_loss: 0.3439 - val_acc: 0.8929\n",
      "Epoch 47/50\n",
      "335/335 [==============================] - 0s 52us/step - loss: 0.0709 - acc: 0.9881 - val_loss: 0.3424 - val_acc: 0.8929\n",
      "Epoch 48/50\n",
      "335/335 [==============================] - 0s 48us/step - loss: 0.0689 - acc: 0.9881 - val_loss: 0.3432 - val_acc: 0.8929\n",
      "Epoch 49/50\n",
      "335/335 [==============================] - 0s 54us/step - loss: 0.0678 - acc: 0.9910 - val_loss: 0.3441 - val_acc: 0.8929\n",
      "Epoch 50/50\n",
      "335/335 [==============================] - 0s 49us/step - loss: 0.0664 - acc: 0.9910 - val_loss: 0.3507 - val_acc: 0.8810\n"
     ]
    }
   ],
   "source": [
    "# Fit model\n",
    "dense2 = model2.fit(\n",
    "    x=X, y=y,\n",
    "    validation_split=0.2, batch_size=32, epochs=50,\n",
    "    shuffle=True # Shuffle training samples\n",
    ")"
   ]
  },
  {
   "cell_type": "code",
   "execution_count": 15,
   "id": "9de97476",
   "metadata": {},
   "outputs": [
    {
     "data": {
      "image/png": "[encoded data removed]",
      "text/plain": [
       "<Figure size 864x288 with 2 Axes>"
      ]
     },
     "metadata": {
      "needs_background": "light"
     },
     "output_type": "display_data"
    }
   ],
   "source": [
    "# Create two plots: one for the loss value, one for the accuracy\n",
    "fig, (ax1, ax2) = plt.subplots(nrows=1, ncols=2, figsize=(12, 4))\n",
    "\n",
    "# Plot accuracy values\n",
    "ax1.plot(dense2.history['loss'], label='train loss')\n",
    "ax1.plot(dense2.history['val_loss'], label='val loss')\n",
    "ax1.set_title('Validation loss {:.3f} (mean last 3)'.format(\n",
    "    np.mean(dense2.history['val_loss'][-3:]) # last three values\n",
    "))\n",
    "ax1.set_xlabel('epoch')\n",
    "ax1.set_ylabel('loss value')\n",
    "ax1.legend()\n",
    "\n",
    "# Plot accuracy values\n",
    "ax2.plot(dense2.history['acc'], label='train acc')\n",
    "ax2.plot(dense2.history['val_acc'], label='val acc')\n",
    "ax2.set_title('Validation accuracy {:.3f} (mean last 3)'.format(\n",
    "    np.mean(dense2.history['val_acc'][-3:]) # last three values\n",
    "))\n",
    "ax2.set_xlabel('epoch')\n",
    "ax2.set_ylabel('accuracy')\n",
    "ax2.legend()\n",
    "plt.show()"
   ]
  },
  {
   "cell_type": "code",
   "execution_count": null,
   "id": "5986dcfc",
   "metadata": {},
   "outputs": [],
   "source": []
  },
  {
   "cell_type": "code",
   "execution_count": 16,
   "id": "b103e1fd",
   "metadata": {},
   "outputs": [
    {
     "name": "stdout",
     "output_type": "stream",
     "text": [
      "50/50 [==============================] - 0s 61us/step\n",
      "Test loss: 0.20\n",
      "Test accuracy: 94.00%\n"
     ]
    }
   ],
   "source": [
    "(test_loss, test_accuracy) = model2.evaluate(X_te, y_te, batch_size=32)\n",
    "\n",
    "two_dense_best = test_accuracy\n",
    "\n",
    "print('Test loss: {:.2f}'.format(test_loss))\n",
    "print('Test accuracy: {:.2f}%'.format(100*test_accuracy)) "
   ]
  },
  {
   "cell_type": "markdown",
   "id": "e9677797",
   "metadata": {},
   "source": [
    "# Save results"
   ]
  },
  {
   "cell_type": "code",
   "execution_count": 17,
   "id": "4d65701c",
   "metadata": {},
   "outputs": [],
   "source": [
    "import csv\n",
    "\n",
    "# Random Forest results\n",
    "\n",
    "data = ['1-layer nn',dense_best]\n",
    "\n",
    "\n",
    "with open('Results.csv', 'a', encoding='UTF8', newline='') as f:\n",
    "    writer = csv.writer(f)\n",
    "\n",
    "    # write the data\n",
    "    writer.writerow(data)\n",
    "    \n",
    "    \n",
    "\n",
    "# Linear SVM results  \n",
    "\n",
    "data = ['2-layer nn', two_dense_best]\n",
    "\n",
    "\n",
    "with open('Results.csv', 'a', encoding='UTF8', newline='') as f:\n",
    "    writer = csv.writer(f)\n",
    "\n",
    "    # write the data\n",
    "    writer.writerow(data)"
   ]
  },
  {
   "cell_type": "code",
   "execution_count": null,
   "id": "46011ef2",
   "metadata": {},
   "outputs": [],
   "source": []
  }
 ],
 "metadata": {
  "kernelspec": {
   "display_name": "Python 3",
   "language": "python",
   "name": "python3"
  },
  "language_info": {
   "codemirror_mode": {
    "name": "ipython",
    "version": 3
   },
   "file_extension": ".py",
   "mimetype": "text/x-python",
   "name": "python",
   "nbconvert_exporter": "python",
   "pygments_lexer": "ipython3",
   "version": "3.6.13"
  }
 },
 "nbformat": 4,
 "nbformat_minor": 5
}
