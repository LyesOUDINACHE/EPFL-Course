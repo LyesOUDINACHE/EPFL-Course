{
 "cells": [
  {
   "cell_type": "markdown",
   "id": "a38179f4",
   "metadata": {},
   "source": [
    "# Dense Network"
   ]
  },
  {
   "cell_type": "code",
   "execution_count": null,
   "id": "6564606e",
   "metadata": {},
   "outputs": [],
   "source": []
  },
  {
   "cell_type": "markdown",
   "id": "29b83401",
   "metadata": {},
   "source": [
    "### Load data"
   ]
  },
  {
   "cell_type": "code",
   "execution_count": 1,
   "id": "13b8e5c5",
   "metadata": {},
   "outputs": [
    {
     "name": "stderr",
     "output_type": "stream",
     "text": [
      "C:\\Users\\lyeso\\anaconda3\\envs\\exts-ml\\lib\\site-packages\\h5py\\__init__.py:36: FutureWarning: Conversion of the second argument of issubdtype from `float` to `np.floating` is deprecated. In future, it will be treated as `np.float64 == np.dtype(float).type`.\n",
      "  from ._conv import register_converters as _register_converters\n",
      "WARNING:absl:Some hub symbols are not available because TensorFlow version is less than 1.14\n"
     ]
    }
   ],
   "source": [
    "import tensorflow as tf\n",
    "import tensorflow.keras as keras\n",
    "from tensorflow.keras import backend as K\n",
    "from tensorflow.keras.preprocessing.image import ImageDataGenerator\n",
    "import tensorflow_hub as hub\n",
    "import os\n",
    "import PIL.Image as Image\n",
    "import numpy as np\n",
    "import matplotlib.pyplot as plt\n",
    "import numpy as np\n",
    "import pandas as pd\n",
    "from sklearn.preprocessing import StandardScaler\n",
    "import sklearn as skl\n",
    "\n",
    "os.environ[\"CUDA_VISIBLE_DEVICES\"]= \"-1\" # Force Tensorflow on CPU instead of GPU (seems to avoid an error with my CUDA compatible GPU)"
   ]
  },
  {
   "cell_type": "code",
   "execution_count": 2,
   "id": "2d475c63",
   "metadata": {},
   "outputs": [],
   "source": [
    "# Load training data form NPZ file\n",
    "\n",
    "train_data = \"train.npz\"\n",
    "X_tr = np.load(train_data)[\"features\"]\n",
    "y_tr = np.load(train_data)[\"labels\"]\n",
    "images_tr = np.load(train_data)[\"pixels\"]\n",
    "names_tr = np.load(train_data)[\"names\"]\n",
    "\n",
    "valid_data = \"valid.npz\"\n",
    "X_val= np.load(valid_data)[\"features\"]\n",
    "y_val = np.load(valid_data)[\"labels\"]\n",
    "images_val = np.load(valid_data)[\"pixels\"]\n",
    "names_val = np.load(valid_data)[\"names\"]\n",
    "\n",
    "test_data = \"test.npz\"\n",
    "X_te= np.load(test_data)[\"features\"]\n",
    "y_te = np.load(test_data)[\"labels\"]\n",
    "images_te = np.load(test_data)[\"pixels\"]\n",
    "names_te = np.load(test_data)[\"names\"]\n",
    "\n",
    "# Create a dictionnary for labels\n",
    "labels_dict = {0: 'bike', 1 : 'car', 2: 'motorcycle', 3: 'other', 4:'truck', 5: 'van'}"
   ]
  },
  {
   "cell_type": "code",
   "execution_count": 3,
   "id": "07ddab27",
   "metadata": {},
   "outputs": [],
   "source": [
    "### Let's use a bigger dataset for training.\n",
    "\n",
    "X = np.concatenate((X_tr,X_val), axis=0, out=None)  # X for Cross Validation and Grid Search\n",
    "y = np.concatenate((y_tr,y_val), axis=0, out=None) "
   ]
  },
  {
   "cell_type": "code",
   "execution_count": 4,
   "id": "425fcf18",
   "metadata": {},
   "outputs": [],
   "source": [
    "# Rescale train and validation data\n",
    "scaler = StandardScaler()\n",
    "X_scaled = scaler.fit_transform(X)\n",
    "X_te_scaled = scaler.transform(X_te)"
   ]
  },
  {
   "cell_type": "markdown",
   "id": "c31a9ca7",
   "metadata": {},
   "source": [
    "### 1 layer dense network"
   ]
  },
  {
   "cell_type": "code",
   "execution_count": 5,
   "id": "5765aa70",
   "metadata": {},
   "outputs": [],
   "source": [
    "# Import Keras\n",
    "\n",
    "from tensorflow.keras import Sequential\n",
    "from tensorflow.keras.layers import Dense"
   ]
  },
  {
   "cell_type": "code",
   "execution_count": 6,
   "id": "2a187744",
   "metadata": {},
   "outputs": [
    {
     "name": "stdout",
     "output_type": "stream",
     "text": [
      "_________________________________________________________________\n",
      "Layer (type)                 Output Shape              Param #   \n",
      "=================================================================\n",
      "dense (Dense)                (None, 6)                 12294     \n",
      "=================================================================\n",
      "Total params: 12,294\n",
      "Trainable params: 12,294\n",
      "Non-trainable params: 0\n",
      "_________________________________________________________________\n"
     ]
    }
   ],
   "source": [
    "model = Sequential()\n",
    "model.add(Dense(6, activation='softmax', input_dim=2048))\n",
    "model.summary()"
   ]
  },
  {
   "cell_type": "markdown",
   "id": "bd16fe28",
   "metadata": {},
   "source": [
    "### Compile Model"
   ]
  },
  {
   "cell_type": "code",
   "execution_count": 7,
   "id": "b26852fc",
   "metadata": {},
   "outputs": [],
   "source": [
    "from tensorflow.keras import losses\n",
    "from tensorflow.keras import metrics\n",
    "\n",
    "# Define loss function, optimizer, and metrics to track during training\n",
    "model.compile(\n",
    "    optimizer='sgd', # .. or optimizers.SGD(lr=0.01)\n",
    "    loss='sparse_categorical_crossentropy', # .. or losses.sparse_categorical_crossentropy\n",
    "    metrics=['acc'] # .. or metrics.sparse_categorical_accuracy\n",
    ")"
   ]
  },
  {
   "cell_type": "code",
   "execution_count": 8,
   "id": "a25f2c4a",
   "metadata": {},
   "outputs": [
    {
     "name": "stdout",
     "output_type": "stream",
     "text": [
      "Train on 335 samples, validate on 84 samples\n",
      "Epoch 1/20\n",
      "335/335 [==============================] - 0s 526us/step - loss: 1.6056 - acc: 0.3313 - val_loss: 1.4886 - val_acc: 0.4167\n",
      "Epoch 2/20\n",
      "335/335 [==============================] - 0s 38us/step - loss: 0.9689 - acc: 0.7642 - val_loss: 1.1776 - val_acc: 0.6071\n",
      "Epoch 3/20\n",
      "335/335 [==============================] - 0s 56us/step - loss: 0.7234 - acc: 0.8179 - val_loss: 0.9305 - val_acc: 0.7024\n",
      "Epoch 4/20\n",
      "335/335 [==============================] - 0s 43us/step - loss: 0.5872 - acc: 0.8507 - val_loss: 0.8175 - val_acc: 0.7500\n",
      "Epoch 5/20\n",
      "335/335 [==============================] - 0s 60us/step - loss: 0.5013 - acc: 0.9045 - val_loss: 0.7441 - val_acc: 0.7619\n",
      "Epoch 6/20\n",
      "335/335 [==============================] - 0s 37us/step - loss: 0.4429 - acc: 0.9164 - val_loss: 0.7083 - val_acc: 0.7738\n",
      "Epoch 7/20\n",
      "335/335 [==============================] - 0s 58us/step - loss: 0.3991 - acc: 0.9254 - val_loss: 0.6411 - val_acc: 0.7976\n",
      "Epoch 8/20\n",
      "335/335 [==============================] - 0s 51us/step - loss: 0.3621 - acc: 0.9343 - val_loss: 0.6092 - val_acc: 0.8333\n",
      "Epoch 9/20\n",
      "335/335 [==============================] - 0s 46us/step - loss: 0.3354 - acc: 0.9373 - val_loss: 0.5817 - val_acc: 0.8333\n",
      "Epoch 10/20\n",
      "335/335 [==============================] - 0s 32us/step - loss: 0.3101 - acc: 0.9433 - val_loss: 0.5534 - val_acc: 0.8333\n",
      "Epoch 11/20\n",
      "335/335 [==============================] - 0s 33us/step - loss: 0.2920 - acc: 0.9373 - val_loss: 0.5338 - val_acc: 0.8571\n",
      "Epoch 12/20\n",
      "335/335 [==============================] - 0s 35us/step - loss: 0.2739 - acc: 0.9463 - val_loss: 0.5115 - val_acc: 0.8333\n",
      "Epoch 13/20\n",
      "335/335 [==============================] - 0s 36us/step - loss: 0.2594 - acc: 0.9493 - val_loss: 0.5037 - val_acc: 0.8333\n",
      "Epoch 14/20\n",
      "335/335 [==============================] - 0s 32us/step - loss: 0.2466 - acc: 0.9522 - val_loss: 0.4882 - val_acc: 0.8333\n",
      "Epoch 15/20\n",
      "335/335 [==============================] - 0s 50us/step - loss: 0.2364 - acc: 0.9493 - val_loss: 0.4687 - val_acc: 0.8571\n",
      "Epoch 16/20\n",
      "335/335 [==============================] - 0s 55us/step - loss: 0.2268 - acc: 0.9522 - val_loss: 0.4627 - val_acc: 0.8571\n",
      "Epoch 17/20\n",
      "335/335 [==============================] - 0s 50us/step - loss: 0.2178 - acc: 0.9582 - val_loss: 0.4453 - val_acc: 0.8810\n",
      "Epoch 18/20\n",
      "335/335 [==============================] - 0s 69us/step - loss: 0.2093 - acc: 0.9612 - val_loss: 0.4421 - val_acc: 0.8810\n",
      "Epoch 19/20\n",
      "335/335 [==============================] - 0s 53us/step - loss: 0.2034 - acc: 0.9642 - val_loss: 0.4342 - val_acc: 0.8810\n",
      "Epoch 20/20\n",
      "335/335 [==============================] - 0s 50us/step - loss: 0.1954 - acc: 0.9672 - val_loss: 0.4305 - val_acc: 0.8810\n"
     ]
    }
   ],
   "source": [
    "# Fit model\n",
    "dense = model.fit(\n",
    "    x=X, y=y,\n",
    "    validation_split=0.2, batch_size=32, epochs=20,\n",
    "    shuffle=True # Shuffle training samples\n",
    ")"
   ]
  },
  {
   "cell_type": "markdown",
   "id": "28c503fb",
   "metadata": {},
   "source": [
    "### Let's plot the accuracy curve"
   ]
  },
  {
   "cell_type": "code",
   "execution_count": 9,
   "id": "0d42c214",
   "metadata": {},
   "outputs": [
    {
     "data": {
      "image/png": "[encoded data removed]",
      "text/plain": [
       "<Figure size 864x288 with 2 Axes>"
      ]
     },
     "metadata": {
      "needs_background": "light"
     },
     "output_type": "display_data"
    }
   ],
   "source": [
    "# Create two plots: one for the loss value, one for the accuracy\n",
    "fig, (ax1, ax2) = plt.subplots(nrows=1, ncols=2, figsize=(12, 4))\n",
    "\n",
    "# Plot accuracy values\n",
    "ax1.plot(dense.history['loss'], label='train loss')\n",
    "ax1.plot(dense.history['val_loss'], label='val loss')\n",
    "ax1.set_title('Validation loss {:.3f} (mean last 3)'.format(\n",
    "    np.mean(dense.history['val_loss'][-3:]) # last three values\n",
    "))\n",
    "ax1.set_xlabel('epoch')\n",
    "ax1.set_ylabel('loss value')\n",
    "ax1.legend()\n",
    "\n",
    "# Plot accuracy values\n",
    "ax2.plot(dense.history['acc'], label='train acc')\n",
    "ax2.plot(dense.history['val_acc'], label='val acc')\n",
    "ax2.set_title('Validation accuracy {:.3f} (mean last 3)'.format(\n",
    "    np.mean(dense.history['val_acc'][-3:]) # last three values\n",
    "))\n",
    "ax2.set_xlabel('epoch')\n",
    "ax2.set_ylabel('accuracy')\n",
    "ax2.legend()\n",
    "plt.show()"
   ]
  },
  {
   "cell_type": "code",
   "execution_count": 10,
   "id": "62a57b26",
   "metadata": {},
   "outputs": [
    {
     "name": "stdout",
     "output_type": "stream",
     "text": [
      "50/50 [==============================] - 0s 140us/step\n",
      "Test loss: 0.25\n",
      "Test accuracy: 94.00%\n"
     ]
    }
   ],
   "source": [
    "(test_loss, test_accuracy) = model.evaluate(X_te, y_te, batch_size=32)\n",
    "\n",
    "dense_best = test_accuracy\n",
    "\n",
    "print('Test loss: {:.2f}'.format(test_loss))\n",
    "print('Test accuracy: {:.2f}%'.format(100*test_accuracy)) "
   ]
  },
  {
   "cell_type": "markdown",
   "id": "6acb984a",
   "metadata": {},
   "source": [
    "### Seems to work better when not \"standard-scaled\"\n",
    "\n",
    "### Dense and hidden layer"
   ]
  },
  {
   "cell_type": "code",
   "execution_count": 11,
   "id": "42ba3cae",
   "metadata": {},
   "outputs": [],
   "source": [
    "from tensorflow.keras import activations\n",
    "from tensorflow.keras import initializers"
   ]
  },
  {
   "cell_type": "code",
   "execution_count": 12,
   "id": "0b52b52d",
   "metadata": {},
   "outputs": [
    {
     "name": "stdout",
     "output_type": "stream",
     "text": [
      "_________________________________________________________________\n",
      "Layer (type)                 Output Shape              Param #   \n",
      "=================================================================\n",
      "dense_1 (Dense)              (None, 100)               204900    \n",
      "_________________________________________________________________\n",
      "dense_2 (Dense)              (None, 6)                 606       \n",
      "=================================================================\n",
      "Total params: 205,506\n",
      "Trainable params: 205,506\n",
      "Non-trainable params: 0\n",
      "_________________________________________________________________\n"
     ]
    }
   ],
   "source": [
    "# Create model\n",
    "model2 = Sequential()\n",
    "\n",
    "# Hidden layer\n",
    "model2.add(Dense(\n",
    "    units=100, activation=activations.relu, input_dim=2048))\n",
    "\n",
    "# Output layer\n",
    "model2.add(Dense(\n",
    "    units=6, activation=activations.softmax))\n",
    "\n",
    "# Print network summary\n",
    "model2.summary()"
   ]
  },
  {
   "cell_type": "code",
   "execution_count": 13,
   "id": "6e21d93d",
   "metadata": {},
   "outputs": [],
   "source": [
    "# Define loss function, optimizer, and metrics to track during training\n",
    "model2.compile(\n",
    "    optimizer='sgd', # .. or optimizers.SGD(lr=0.01)\n",
    "    loss='sparse_categorical_crossentropy', # .. or losses.sparse_categorical_crossentropy\n",
    "    metrics=['acc'] # .. or metrics.sparse_categorical_accuracy\n",
    ")"
   ]
  },
  {
   "cell_type": "code",
   "execution_count": 14,
   "id": "ad250bae",
   "metadata": {},
   "outputs": [
    {
     "name": "stdout",
     "output_type": "stream",
     "text": [
      "Train on 335 samples, validate on 84 samples\n",
      "Epoch 1/50\n",
      "335/335 [==============================] - 0s 561us/step - loss: 1.4470 - acc: 0.4507 - val_loss: 1.4942 - val_acc: 0.4524\n",
      "Epoch 2/50\n",
      "335/335 [==============================] - 0s 70us/step - loss: 0.9794 - acc: 0.7701 - val_loss: 1.2007 - val_acc: 0.6310\n",
      "Epoch 3/50\n",
      "335/335 [==============================] - 0s 70us/step - loss: 0.7380 - acc: 0.8299 - val_loss: 0.9801 - val_acc: 0.7381\n",
      "Epoch 4/50\n",
      "335/335 [==============================] - 0s 74us/step - loss: 0.6004 - acc: 0.8597 - val_loss: 0.8331 - val_acc: 0.7738\n",
      "Epoch 5/50\n",
      "335/335 [==============================] - 0s 62us/step - loss: 0.5105 - acc: 0.8806 - val_loss: 0.7695 - val_acc: 0.8095\n",
      "Epoch 6/50\n",
      "335/335 [==============================] - 0s 67us/step - loss: 0.4438 - acc: 0.8866 - val_loss: 0.6953 - val_acc: 0.8333\n",
      "Epoch 7/50\n",
      "335/335 [==============================] - 0s 70us/step - loss: 0.3963 - acc: 0.9194 - val_loss: 0.6455 - val_acc: 0.8214\n",
      "Epoch 8/50\n",
      "335/335 [==============================] - 0s 87us/step - loss: 0.3606 - acc: 0.9224 - val_loss: 0.6130 - val_acc: 0.8452\n",
      "Epoch 9/50\n",
      "335/335 [==============================] - ETA: 0s - loss: 0.3471 - acc: 0.937 - 0s 88us/step - loss: 0.3285 - acc: 0.9373 - val_loss: 0.5784 - val_acc: 0.8452\n",
      "Epoch 10/50\n",
      "335/335 [==============================] - 0s 79us/step - loss: 0.2985 - acc: 0.9433 - val_loss: 0.5400 - val_acc: 0.8452\n",
      "Epoch 11/50\n",
      "335/335 [==============================] - 0s 61us/step - loss: 0.2760 - acc: 0.9463 - val_loss: 0.5453 - val_acc: 0.8571\n",
      "Epoch 12/50\n",
      "335/335 [==============================] - 0s 65us/step - loss: 0.2591 - acc: 0.9373 - val_loss: 0.5030 - val_acc: 0.8690\n",
      "Epoch 13/50\n",
      "335/335 [==============================] - 0s 60us/step - loss: 0.2417 - acc: 0.9552 - val_loss: 0.4865 - val_acc: 0.9048\n",
      "Epoch 14/50\n",
      "335/335 [==============================] - 0s 68us/step - loss: 0.2274 - acc: 0.9582 - val_loss: 0.4583 - val_acc: 0.8810\n",
      "Epoch 15/50\n",
      "335/335 [==============================] - 0s 68us/step - loss: 0.2141 - acc: 0.9612 - val_loss: 0.4526 - val_acc: 0.9048\n",
      "Epoch 16/50\n",
      "335/335 [==============================] - 0s 56us/step - loss: 0.2033 - acc: 0.9612 - val_loss: 0.4554 - val_acc: 0.8929\n",
      "Epoch 17/50\n",
      "335/335 [==============================] - 0s 73us/step - loss: 0.1925 - acc: 0.9612 - val_loss: 0.4331 - val_acc: 0.9048\n",
      "Epoch 18/50\n",
      "335/335 [==============================] - 0s 69us/step - loss: 0.1846 - acc: 0.9642 - val_loss: 0.4334 - val_acc: 0.8929\n",
      "Epoch 19/50\n",
      "335/335 [==============================] - 0s 62us/step - loss: 0.1768 - acc: 0.9672 - val_loss: 0.4239 - val_acc: 0.9048\n",
      "Epoch 20/50\n",
      "335/335 [==============================] - 0s 64us/step - loss: 0.1689 - acc: 0.9672 - val_loss: 0.4150 - val_acc: 0.9048\n",
      "Epoch 21/50\n",
      "335/335 [==============================] - 0s 72us/step - loss: 0.1619 - acc: 0.9731 - val_loss: 0.4027 - val_acc: 0.9048\n",
      "Epoch 22/50\n",
      "335/335 [==============================] - 0s 71us/step - loss: 0.1546 - acc: 0.9701 - val_loss: 0.4105 - val_acc: 0.9048\n",
      "Epoch 23/50\n",
      "335/335 [==============================] - 0s 59us/step - loss: 0.1499 - acc: 0.9731 - val_loss: 0.3882 - val_acc: 0.9048\n",
      "Epoch 24/50\n",
      "335/335 [==============================] - 0s 77us/step - loss: 0.1449 - acc: 0.9701 - val_loss: 0.3785 - val_acc: 0.9048\n",
      "Epoch 25/50\n",
      "335/335 [==============================] - 0s 66us/step - loss: 0.1385 - acc: 0.9731 - val_loss: 0.3799 - val_acc: 0.9048\n",
      "Epoch 26/50\n",
      "335/335 [==============================] - 0s 63us/step - loss: 0.1352 - acc: 0.9731 - val_loss: 0.3838 - val_acc: 0.9048\n",
      "Epoch 27/50\n",
      "335/335 [==============================] - 0s 67us/step - loss: 0.1300 - acc: 0.9731 - val_loss: 0.3996 - val_acc: 0.9048\n",
      "Epoch 28/50\n",
      "335/335 [==============================] - 0s 64us/step - loss: 0.1268 - acc: 0.9731 - val_loss: 0.3786 - val_acc: 0.9048\n",
      "Epoch 29/50\n",
      "335/335 [==============================] - 0s 79us/step - loss: 0.1223 - acc: 0.9731 - val_loss: 0.3945 - val_acc: 0.8929\n",
      "Epoch 30/50\n",
      "335/335 [==============================] - 0s 64us/step - loss: 0.1184 - acc: 0.9761 - val_loss: 0.3548 - val_acc: 0.9167\n",
      "Epoch 31/50\n",
      "335/335 [==============================] - 0s 73us/step - loss: 0.1155 - acc: 0.9791 - val_loss: 0.3725 - val_acc: 0.9048\n",
      "Epoch 32/50\n",
      "335/335 [==============================] - 0s 60us/step - loss: 0.1126 - acc: 0.9791 - val_loss: 0.3645 - val_acc: 0.9048\n",
      "Epoch 33/50\n",
      "335/335 [==============================] - 0s 71us/step - loss: 0.1090 - acc: 0.9791 - val_loss: 0.3658 - val_acc: 0.9167\n",
      "Epoch 34/50\n",
      "335/335 [==============================] - 0s 59us/step - loss: 0.1064 - acc: 0.9821 - val_loss: 0.3528 - val_acc: 0.9167\n",
      "Epoch 35/50\n",
      "335/335 [==============================] - 0s 76us/step - loss: 0.1023 - acc: 0.9851 - val_loss: 0.3437 - val_acc: 0.9167\n",
      "Epoch 36/50\n",
      "335/335 [==============================] - 0s 65us/step - loss: 0.1006 - acc: 0.9821 - val_loss: 0.3519 - val_acc: 0.9167\n",
      "Epoch 37/50\n",
      "335/335 [==============================] - 0s 60us/step - loss: 0.0980 - acc: 0.9851 - val_loss: 0.3693 - val_acc: 0.9048\n",
      "Epoch 38/50\n",
      "335/335 [==============================] - 0s 73us/step - loss: 0.0950 - acc: 0.9821 - val_loss: 0.3653 - val_acc: 0.9048\n",
      "Epoch 39/50\n",
      "335/335 [==============================] - 0s 74us/step - loss: 0.0923 - acc: 0.9821 - val_loss: 0.3692 - val_acc: 0.9048\n",
      "Epoch 40/50\n",
      "335/335 [==============================] - 0s 56us/step - loss: 0.0901 - acc: 0.9791 - val_loss: 0.3512 - val_acc: 0.9048\n",
      "Epoch 41/50\n",
      "335/335 [==============================] - 0s 74us/step - loss: 0.0882 - acc: 0.9881 - val_loss: 0.3482 - val_acc: 0.9048\n",
      "Epoch 42/50\n",
      "335/335 [==============================] - 0s 63us/step - loss: 0.0865 - acc: 0.9851 - val_loss: 0.3495 - val_acc: 0.9048\n",
      "Epoch 43/50\n",
      "335/335 [==============================] - 0s 67us/step - loss: 0.0836 - acc: 0.9881 - val_loss: 0.3413 - val_acc: 0.9167\n",
      "Epoch 44/50\n",
      "335/335 [==============================] - 0s 71us/step - loss: 0.0823 - acc: 0.9881 - val_loss: 0.3444 - val_acc: 0.9048\n",
      "Epoch 45/50\n",
      "335/335 [==============================] - 0s 65us/step - loss: 0.0801 - acc: 0.9881 - val_loss: 0.3426 - val_acc: 0.9048\n",
      "Epoch 46/50\n",
      "335/335 [==============================] - 0s 70us/step - loss: 0.0787 - acc: 0.9910 - val_loss: 0.3397 - val_acc: 0.9167\n",
      "Epoch 47/50\n",
      "335/335 [==============================] - 0s 60us/step - loss: 0.0767 - acc: 0.9881 - val_loss: 0.3380 - val_acc: 0.9167\n",
      "Epoch 48/50\n",
      "335/335 [==============================] - 0s 74us/step - loss: 0.0751 - acc: 0.9940 - val_loss: 0.3436 - val_acc: 0.9048\n",
      "Epoch 49/50\n",
      "335/335 [==============================] - 0s 65us/step - loss: 0.0738 - acc: 0.9910 - val_loss: 0.3285 - val_acc: 0.9167\n",
      "Epoch 50/50\n",
      "335/335 [==============================] - 0s 64us/step - loss: 0.0722 - acc: 0.9910 - val_loss: 0.3296 - val_acc: 0.9167\n"
     ]
    }
   ],
   "source": [
    "# Fit model\n",
    "dense2 = model2.fit(\n",
    "    x=X, y=y,\n",
    "    validation_split=0.2, batch_size=32, epochs=50,\n",
    "    shuffle=True # Shuffle training samples\n",
    ")"
   ]
  },
  {
   "cell_type": "code",
   "execution_count": 15,
   "id": "d8062ded",
   "metadata": {},
   "outputs": [
    {
     "data": {
      "image/png": "[encoded data removed]",
      "text/plain": [
       "<Figure size 864x288 with 2 Axes>"
      ]
     },
     "metadata": {
      "needs_background": "light"
     },
     "output_type": "display_data"
    }
   ],
   "source": [
    "# Create two plots: one for the loss value, one for the accuracy\n",
    "fig, (ax1, ax2) = plt.subplots(nrows=1, ncols=2, figsize=(12, 4))\n",
    "\n",
    "# Plot accuracy values\n",
    "ax1.plot(dense2.history['loss'], label='train loss')\n",
    "ax1.plot(dense2.history['val_loss'], label='val loss')\n",
    "ax1.set_title('Validation loss {:.3f} (mean last 3)'.format(\n",
    "    np.mean(dense2.history['val_loss'][-3:]) # last three values\n",
    "))\n",
    "ax1.set_xlabel('epoch')\n",
    "ax1.set_ylabel('loss value')\n",
    "ax1.legend()\n",
    "\n",
    "# Plot accuracy values\n",
    "ax2.plot(dense2.history['acc'], label='train acc')\n",
    "ax2.plot(dense2.history['val_acc'], label='val acc')\n",
    "ax2.set_title('Validation accuracy {:.3f} (mean last 3)'.format(\n",
    "    np.mean(dense2.history['val_acc'][-3:]) # last three values\n",
    "))\n",
    "ax2.set_xlabel('epoch')\n",
    "ax2.set_ylabel('accuracy')\n",
    "ax2.legend()\n",
    "plt.show()"
   ]
  },
  {
   "cell_type": "code",
   "execution_count": null,
   "id": "b528561b",
   "metadata": {},
   "outputs": [],
   "source": []
  },
  {
   "cell_type": "code",
   "execution_count": 16,
   "id": "0e96a80b",
   "metadata": {},
   "outputs": [
    {
     "name": "stdout",
     "output_type": "stream",
     "text": [
      "50/50 [==============================] - 0s 96us/step\n",
      "Test loss: 0.19\n",
      "Test accuracy: 92.00%\n"
     ]
    }
   ],
   "source": [
    "(test_loss, test_accuracy) = model2.evaluate(X_te, y_te, batch_size=32)\n",
    "\n",
    "two_dense_best = test_accuracy\n",
    "\n",
    "print('Test loss: {:.2f}'.format(test_loss))\n",
    "print('Test accuracy: {:.2f}%'.format(100*test_accuracy)) "
   ]
  },
  {
   "cell_type": "markdown",
   "id": "27f94e76",
   "metadata": {},
   "source": [
    "# Save results"
   ]
  },
  {
   "cell_type": "code",
   "execution_count": 17,
   "id": "8b5fa258",
   "metadata": {},
   "outputs": [],
   "source": [
    "import csv\n",
    "\n",
    "# Random Forest results\n",
    "\n",
    "data = ['1-layer nn',dense_best]\n",
    "\n",
    "\n",
    "with open('Results.csv', 'a', encoding='UTF8', newline='') as f:\n",
    "    writer = csv.writer(f)\n",
    "\n",
    "    # write the data\n",
    "    writer.writerow(data)\n",
    "    \n",
    "    \n",
    "\n",
    "# Linear SVM results  \n",
    "\n",
    "data = ['2-layer nn', two_dense_best]\n",
    "\n",
    "\n",
    "with open('Results.csv', 'a', encoding='UTF8', newline='') as f:\n",
    "    writer = csv.writer(f)\n",
    "\n",
    "    # write the data\n",
    "    writer.writerow(data)"
   ]
  },
  {
   "cell_type": "code",
   "execution_count": null,
   "id": "4ac67420",
   "metadata": {},
   "outputs": [],
   "source": []
  }
 ],
 "metadata": {
  "kernelspec": {
   "display_name": "Python 3",
   "language": "python",
   "name": "python3"
  },
  "language_info": {
   "codemirror_mode": {
    "name": "ipython",
    "version": 3
   },
   "file_extension": ".py",
   "mimetype": "text/x-python",
   "name": "python",
   "nbconvert_exporter": "python",
   "pygments_lexer": "ipython3",
   "version": "3.6.13"
  }
 },
 "nbformat": 4,
 "nbformat_minor": 5
}
