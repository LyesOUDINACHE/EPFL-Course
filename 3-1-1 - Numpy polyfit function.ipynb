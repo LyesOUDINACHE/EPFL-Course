{
 "cells": [
  {
   "cell_type": "markdown",
   "metadata": {},
   "source": [
    "Numpy polyfit function\n",
    "---"
   ]
  },
  {
   "cell_type": "code",
   "execution_count": null,
   "metadata": {},
   "outputs": [],
   "source": [
    "import pandas as pd\n",
    "\n",
    "data_df = pd.read_csv('data-1.csv')\n",
    "data_df.head()"
   ]
  },
  {
   "cell_type": "code",
   "execution_count": null,
   "metadata": {},
   "outputs": [],
   "source": [
    "x = data_df.x.values\n",
    "y = data_df.y.values\n",
    "\n",
    "print('Type of x and y:', type(x), type(y))"
   ]
  },
  {
   "cell_type": "code",
   "execution_count": null,
   "metadata": {},
   "outputs": [],
   "source": [
    "%matplotlib inline\n",
    "import matplotlib.pyplot as plt\n",
    "\n",
    "# Plot data points\n",
    "plt.scatter(x, y)\n",
    "plt.xlabel('x values')\n",
    "plt.ylabel('y values')\n",
    "plt.show()"
   ]
  },
  {
   "cell_type": "code",
   "execution_count": null,
   "metadata": {},
   "outputs": [],
   "source": [
    "import numpy as np\n",
    "\n",
    "coefs = np.polyfit(x, y, deg=1)\n",
    "print('Coefficients:', coefs)"
   ]
  },
  {
   "cell_type": "code",
   "execution_count": null,
   "metadata": {},
   "outputs": [],
   "source": [
    "# Extract a,b values\n",
    "a, b = coefs\n",
    "\n",
    "print('a:', a)\n",
    "print('b:', b)"
   ]
  },
  {
   "cell_type": "code",
   "execution_count": null,
   "metadata": {},
   "outputs": [],
   "source": [
    "# Generate a hundred values between 0 and 1\n",
    "x_values = np.linspace(0, 1, num=100) # ~ [0, 0.01, 0.02, ... 0.98, 0.99, 1]\n",
    "\n",
    "# Compute the associate y values\n",
    "y_values = a*x_values + b\n",
    "\n",
    "# Plot the line\n",
    "plt.scatter(x, y) # Plot the data\n",
    "plt.plot(x_values, y_values, c='C3', label='polyfit(deg=1)') # Prediction line\n",
    "plt.legend()\n",
    "plt.show()"
   ]
  },
  {
   "cell_type": "markdown",
   "metadata": {},
   "source": [
    "data-2.csv\n",
    "---"
   ]
  },
  {
   "cell_type": "code",
   "execution_count": null,
   "metadata": {},
   "outputs": [],
   "source": [
    "# Load second set of points\n",
    "data_df = pd.read_csv('data-2.csv')\n",
    "x2 = data_df.x.values\n",
    "y2 = data_df.y.values"
   ]
  },
  {
   "cell_type": "code",
   "execution_count": null,
   "metadata": {},
   "outputs": [],
   "source": [
    "# Your turn - plot data points!\n",
    "???"
   ]
  },
  {
   "cell_type": "code",
   "execution_count": null,
   "metadata": {},
   "outputs": [],
   "source": [
    "# Fit a line\n",
    "coefs2 = np.polyfit(x2, y2, deg=1)\n",
    "print('Coefficients:', coefs2)\n",
    "\n",
    "# Generate a hundred values between 0 and 1\n",
    "x_values2 = np.linspace(0, 1, num=100)\n",
    "\n",
    "# Compute the associate y values\n",
    "a, b = coefs2\n",
    "y_values2 = a*x_values2 + b\n",
    "\n",
    "# Your turn - plot the line!\n",
    "???"
   ]
  },
  {
   "cell_type": "code",
   "execution_count": null,
   "metadata": {},
   "outputs": [],
   "source": [
    "# Fit a polynomial of degree 3\n",
    "coefs2 = np.polyfit(x2, y2, deg=3)\n",
    "print('Coefficients:', coefs2)"
   ]
  },
  {
   "cell_type": "code",
   "execution_count": null,
   "metadata": {},
   "outputs": [],
   "source": [
    "a, b, c, d = coefs2\n",
    "y_values2 = a*(x_values2**3) + b*(x_values2**2) + c*x_values2 + d"
   ]
  },
  {
   "cell_type": "code",
   "execution_count": null,
   "metadata": {},
   "outputs": [],
   "source": [
    "# Predict y values\n",
    "y_values2 = np.polyval(coefs2, x_values2)"
   ]
  },
  {
   "cell_type": "code",
   "execution_count": null,
   "metadata": {},
   "outputs": [],
   "source": [
    "# Your turn - plot the curve with the points!\n",
    "???"
   ]
  },
  {
   "cell_type": "markdown",
   "metadata": {},
   "source": [
    "data-3.csv\n",
    "---"
   ]
  },
  {
   "cell_type": "code",
   "execution_count": null,
   "metadata": {},
   "outputs": [],
   "source": [
    "# Your turn - fit points from data-3.csv\n",
    "???"
   ]
  }
 ],
 "metadata": {
  "kernelspec": {
   "display_name": "Python 3",
   "language": "python",
   "name": "python3"
  },
  "language_info": {
   "codemirror_mode": {
    "name": "ipython",
    "version": 3
   },
   "file_extension": ".py",
   "mimetype": "text/x-python",
   "name": "python",
   "nbconvert_exporter": "python",
   "pygments_lexer": "ipython3",
   "version": "3.6.8"
  }
 },
 "nbformat": 4,
 "nbformat_minor": 2
}
