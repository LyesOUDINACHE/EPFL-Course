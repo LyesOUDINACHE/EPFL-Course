{
 "cells": [
  {
   "cell_type": "markdown",
   "id": "4c6f213c",
   "metadata": {},
   "source": [
    "# Import libraries\n",
    "----------------------------"
   ]
  },
  {
   "cell_type": "code",
   "execution_count": 1,
   "id": "cfae6ee6",
   "metadata": {},
   "outputs": [],
   "source": [
    "import pandas as pd\n",
    "import numpy as np\n",
    "import matplotlib.pyplot as plt\n",
    "import seaborn as sns\n",
    "%matplotlib inline\n",
    "\n",
    "## Scikit-learn\n",
    "from sklearn.preprocessing import StandardScaler\n",
    "from sklearn.preprocessing import PolynomialFeatures\n",
    "\n",
    "from sklearn.linear_model import LinearRegression\n",
    "from sklearn.linear_model import Ridge\n",
    "from sklearn.linear_model import Lasso\n",
    "\n",
    "\n",
    "from sklearn.metrics import mean_squared_error as MSE\n",
    "from sklearn.metrics import mean_absolute_error as MAE\n",
    "\n",
    "from sklearn.model_selection import train_test_split\n",
    "\n",
    "from sklearn.pipeline import Pipeline"
   ]
  },
  {
   "cell_type": "markdown",
   "id": "bf283ae8",
   "metadata": {},
   "source": [
    "# Import dataset"
   ]
  },
  {
   "cell_type": "code",
   "execution_count": 2,
   "id": "2f9b094a",
   "metadata": {},
   "outputs": [
    {
     "data": {
      "text/html": [
       "<div>\n",
       "<style scoped>\n",
       "    .dataframe tbody tr th:only-of-type {\n",
       "        vertical-align: middle;\n",
       "    }\n",
       "\n",
       "    .dataframe tbody tr th {\n",
       "        vertical-align: top;\n",
       "    }\n",
       "\n",
       "    .dataframe thead th {\n",
       "        text-align: right;\n",
       "    }\n",
       "</style>\n",
       "<table border=\"1\" class=\"dataframe\">\n",
       "  <thead>\n",
       "    <tr style=\"text-align: right;\">\n",
       "      <th></th>\n",
       "      <th>Order</th>\n",
       "      <th>PID</th>\n",
       "      <th>MS SubClass</th>\n",
       "      <th>MS Zoning</th>\n",
       "      <th>Lot Frontage</th>\n",
       "      <th>Lot Area</th>\n",
       "      <th>Street</th>\n",
       "      <th>Alley</th>\n",
       "      <th>Lot Shape</th>\n",
       "      <th>Land Contour</th>\n",
       "      <th>...</th>\n",
       "      <th>Pool Area</th>\n",
       "      <th>Pool QC</th>\n",
       "      <th>Fence</th>\n",
       "      <th>Misc Feature</th>\n",
       "      <th>Misc Val</th>\n",
       "      <th>Mo Sold</th>\n",
       "      <th>Yr Sold</th>\n",
       "      <th>Sale Type</th>\n",
       "      <th>Sale Condition</th>\n",
       "      <th>SalePrice</th>\n",
       "    </tr>\n",
       "  </thead>\n",
       "  <tbody>\n",
       "    <tr>\n",
       "      <th>0</th>\n",
       "      <td>484</td>\n",
       "      <td>528275070</td>\n",
       "      <td>60</td>\n",
       "      <td>RL</td>\n",
       "      <td>NaN</td>\n",
       "      <td>8795</td>\n",
       "      <td>Pave</td>\n",
       "      <td>NaN</td>\n",
       "      <td>IR1</td>\n",
       "      <td>Lvl</td>\n",
       "      <td>...</td>\n",
       "      <td>0</td>\n",
       "      <td>NaN</td>\n",
       "      <td>NaN</td>\n",
       "      <td>NaN</td>\n",
       "      <td>0</td>\n",
       "      <td>4</td>\n",
       "      <td>2009</td>\n",
       "      <td>WD</td>\n",
       "      <td>Normal</td>\n",
       "      <td>236000</td>\n",
       "    </tr>\n",
       "    <tr>\n",
       "      <th>1</th>\n",
       "      <td>2586</td>\n",
       "      <td>535305120</td>\n",
       "      <td>20</td>\n",
       "      <td>RL</td>\n",
       "      <td>75.0</td>\n",
       "      <td>10170</td>\n",
       "      <td>Pave</td>\n",
       "      <td>NaN</td>\n",
       "      <td>Reg</td>\n",
       "      <td>Lvl</td>\n",
       "      <td>...</td>\n",
       "      <td>0</td>\n",
       "      <td>NaN</td>\n",
       "      <td>NaN</td>\n",
       "      <td>NaN</td>\n",
       "      <td>0</td>\n",
       "      <td>6</td>\n",
       "      <td>2006</td>\n",
       "      <td>WD</td>\n",
       "      <td>Normal</td>\n",
       "      <td>155000</td>\n",
       "    </tr>\n",
       "    <tr>\n",
       "      <th>2</th>\n",
       "      <td>2289</td>\n",
       "      <td>923228250</td>\n",
       "      <td>160</td>\n",
       "      <td>RM</td>\n",
       "      <td>21.0</td>\n",
       "      <td>2001</td>\n",
       "      <td>Pave</td>\n",
       "      <td>NaN</td>\n",
       "      <td>Reg</td>\n",
       "      <td>Lvl</td>\n",
       "      <td>...</td>\n",
       "      <td>0</td>\n",
       "      <td>NaN</td>\n",
       "      <td>NaN</td>\n",
       "      <td>NaN</td>\n",
       "      <td>0</td>\n",
       "      <td>1</td>\n",
       "      <td>2007</td>\n",
       "      <td>WD</td>\n",
       "      <td>Normal</td>\n",
       "      <td>75000</td>\n",
       "    </tr>\n",
       "    <tr>\n",
       "      <th>3</th>\n",
       "      <td>142</td>\n",
       "      <td>535152150</td>\n",
       "      <td>20</td>\n",
       "      <td>RL</td>\n",
       "      <td>70.0</td>\n",
       "      <td>10552</td>\n",
       "      <td>Pave</td>\n",
       "      <td>NaN</td>\n",
       "      <td>IR1</td>\n",
       "      <td>Lvl</td>\n",
       "      <td>...</td>\n",
       "      <td>0</td>\n",
       "      <td>NaN</td>\n",
       "      <td>NaN</td>\n",
       "      <td>NaN</td>\n",
       "      <td>0</td>\n",
       "      <td>4</td>\n",
       "      <td>2010</td>\n",
       "      <td>WD</td>\n",
       "      <td>Normal</td>\n",
       "      <td>165500</td>\n",
       "    </tr>\n",
       "    <tr>\n",
       "      <th>4</th>\n",
       "      <td>2042</td>\n",
       "      <td>903475060</td>\n",
       "      <td>190</td>\n",
       "      <td>RM</td>\n",
       "      <td>60.0</td>\n",
       "      <td>10120</td>\n",
       "      <td>Pave</td>\n",
       "      <td>NaN</td>\n",
       "      <td>IR1</td>\n",
       "      <td>Bnk</td>\n",
       "      <td>...</td>\n",
       "      <td>0</td>\n",
       "      <td>NaN</td>\n",
       "      <td>MnPrv</td>\n",
       "      <td>NaN</td>\n",
       "      <td>0</td>\n",
       "      <td>1</td>\n",
       "      <td>2007</td>\n",
       "      <td>WD</td>\n",
       "      <td>Normal</td>\n",
       "      <td>122000</td>\n",
       "    </tr>\n",
       "  </tbody>\n",
       "</table>\n",
       "<p>5 rows × 82 columns</p>\n",
       "</div>"
      ],
      "text/plain": [
       "   Order        PID  MS SubClass MS Zoning  Lot Frontage  Lot Area Street  \\\n",
       "0    484  528275070           60        RL           NaN      8795   Pave   \n",
       "1   2586  535305120           20        RL          75.0     10170   Pave   \n",
       "2   2289  923228250          160        RM          21.0      2001   Pave   \n",
       "3    142  535152150           20        RL          70.0     10552   Pave   \n",
       "4   2042  903475060          190        RM          60.0     10120   Pave   \n",
       "\n",
       "  Alley Lot Shape Land Contour  ... Pool Area Pool QC  Fence Misc Feature  \\\n",
       "0   NaN       IR1          Lvl  ...         0     NaN    NaN          NaN   \n",
       "1   NaN       Reg          Lvl  ...         0     NaN    NaN          NaN   \n",
       "2   NaN       Reg          Lvl  ...         0     NaN    NaN          NaN   \n",
       "3   NaN       IR1          Lvl  ...         0     NaN    NaN          NaN   \n",
       "4   NaN       IR1          Bnk  ...         0     NaN  MnPrv          NaN   \n",
       "\n",
       "  Misc Val Mo Sold Yr Sold Sale Type  Sale Condition  SalePrice  \n",
       "0        0       4    2009       WD           Normal     236000  \n",
       "1        0       6    2006       WD           Normal     155000  \n",
       "2        0       1    2007       WD           Normal      75000  \n",
       "3        0       4    2010       WD           Normal     165500  \n",
       "4        0       1    2007       WD           Normal     122000  \n",
       "\n",
       "[5 rows x 82 columns]"
      ]
     },
     "execution_count": 2,
     "metadata": {},
     "output_type": "execute_result"
    }
   ],
   "source": [
    "data_df = pd.read_csv('house-prices.csv')\n",
    "data_df.head()"
   ]
  },
  {
   "cell_type": "markdown",
   "id": "cda875a3",
   "metadata": {},
   "source": [
    "# First glance at the data set\n",
    "------------------------"
   ]
  },
  {
   "cell_type": "code",
   "execution_count": 3,
   "id": "ddc5df03",
   "metadata": {},
   "outputs": [
    {
     "data": {
      "text/plain": [
       "(2430, 82)"
      ]
     },
     "execution_count": 3,
     "metadata": {},
     "output_type": "execute_result"
    }
   ],
   "source": [
    "data_df.shape"
   ]
  },
  {
   "cell_type": "code",
   "execution_count": 4,
   "id": "aefeef52",
   "metadata": {},
   "outputs": [
    {
     "data": {
      "text/html": [
       "<div>\n",
       "<style scoped>\n",
       "    .dataframe tbody tr th:only-of-type {\n",
       "        vertical-align: middle;\n",
       "    }\n",
       "\n",
       "    .dataframe tbody tr th {\n",
       "        vertical-align: top;\n",
       "    }\n",
       "\n",
       "    .dataframe thead th {\n",
       "        text-align: right;\n",
       "    }\n",
       "</style>\n",
       "<table border=\"1\" class=\"dataframe\">\n",
       "  <thead>\n",
       "    <tr style=\"text-align: right;\">\n",
       "      <th></th>\n",
       "      <th>Order</th>\n",
       "      <th>PID</th>\n",
       "      <th>MS SubClass</th>\n",
       "      <th>Lot Frontage</th>\n",
       "      <th>Lot Area</th>\n",
       "      <th>Overall Qual</th>\n",
       "      <th>Overall Cond</th>\n",
       "      <th>Year Built</th>\n",
       "      <th>Year Remod/Add</th>\n",
       "      <th>Mas Vnr Area</th>\n",
       "      <th>...</th>\n",
       "      <th>Wood Deck SF</th>\n",
       "      <th>Open Porch SF</th>\n",
       "      <th>Enclosed Porch</th>\n",
       "      <th>3Ssn Porch</th>\n",
       "      <th>Screen Porch</th>\n",
       "      <th>Pool Area</th>\n",
       "      <th>Misc Val</th>\n",
       "      <th>Mo Sold</th>\n",
       "      <th>Yr Sold</th>\n",
       "      <th>SalePrice</th>\n",
       "    </tr>\n",
       "  </thead>\n",
       "  <tbody>\n",
       "    <tr>\n",
       "      <th>count</th>\n",
       "      <td>2430.000000</td>\n",
       "      <td>2.430000e+03</td>\n",
       "      <td>2430.000000</td>\n",
       "      <td>2010.000000</td>\n",
       "      <td>2430.000000</td>\n",
       "      <td>2430.000000</td>\n",
       "      <td>2430.000000</td>\n",
       "      <td>2430.000000</td>\n",
       "      <td>2430.000000</td>\n",
       "      <td>2410.000000</td>\n",
       "      <td>...</td>\n",
       "      <td>2430.000000</td>\n",
       "      <td>2430.000000</td>\n",
       "      <td>2430.000000</td>\n",
       "      <td>2430.000000</td>\n",
       "      <td>2430.000000</td>\n",
       "      <td>2430.000000</td>\n",
       "      <td>2430.000000</td>\n",
       "      <td>2430.000000</td>\n",
       "      <td>2430.000000</td>\n",
       "      <td>2430.000000</td>\n",
       "    </tr>\n",
       "    <tr>\n",
       "      <th>mean</th>\n",
       "      <td>1469.478189</td>\n",
       "      <td>7.149375e+08</td>\n",
       "      <td>57.092593</td>\n",
       "      <td>69.201990</td>\n",
       "      <td>10243.557613</td>\n",
       "      <td>6.088889</td>\n",
       "      <td>5.569959</td>\n",
       "      <td>1971.167490</td>\n",
       "      <td>1984.238683</td>\n",
       "      <td>101.995436</td>\n",
       "      <td>...</td>\n",
       "      <td>93.917695</td>\n",
       "      <td>47.091770</td>\n",
       "      <td>22.294650</td>\n",
       "      <td>2.471605</td>\n",
       "      <td>16.529218</td>\n",
       "      <td>2.401235</td>\n",
       "      <td>56.179835</td>\n",
       "      <td>6.209465</td>\n",
       "      <td>2007.783539</td>\n",
       "      <td>180199.692593</td>\n",
       "    </tr>\n",
       "    <tr>\n",
       "      <th>std</th>\n",
       "      <td>843.236520</td>\n",
       "      <td>1.887339e+08</td>\n",
       "      <td>42.903254</td>\n",
       "      <td>23.486988</td>\n",
       "      <td>8353.925254</td>\n",
       "      <td>1.414621</td>\n",
       "      <td>1.116442</td>\n",
       "      <td>30.207931</td>\n",
       "      <td>20.751163</td>\n",
       "      <td>176.611699</td>\n",
       "      <td>...</td>\n",
       "      <td>128.106940</td>\n",
       "      <td>67.123846</td>\n",
       "      <td>62.386414</td>\n",
       "      <td>24.880245</td>\n",
       "      <td>56.822227</td>\n",
       "      <td>36.111988</td>\n",
       "      <td>616.661541</td>\n",
       "      <td>2.721942</td>\n",
       "      <td>1.311843</td>\n",
       "      <td>79607.467171</td>\n",
       "    </tr>\n",
       "    <tr>\n",
       "      <th>min</th>\n",
       "      <td>1.000000</td>\n",
       "      <td>5.263011e+08</td>\n",
       "      <td>20.000000</td>\n",
       "      <td>21.000000</td>\n",
       "      <td>1470.000000</td>\n",
       "      <td>1.000000</td>\n",
       "      <td>1.000000</td>\n",
       "      <td>1875.000000</td>\n",
       "      <td>1950.000000</td>\n",
       "      <td>0.000000</td>\n",
       "      <td>...</td>\n",
       "      <td>0.000000</td>\n",
       "      <td>0.000000</td>\n",
       "      <td>0.000000</td>\n",
       "      <td>0.000000</td>\n",
       "      <td>0.000000</td>\n",
       "      <td>0.000000</td>\n",
       "      <td>0.000000</td>\n",
       "      <td>1.000000</td>\n",
       "      <td>2006.000000</td>\n",
       "      <td>12789.000000</td>\n",
       "    </tr>\n",
       "    <tr>\n",
       "      <th>25%</th>\n",
       "      <td>749.250000</td>\n",
       "      <td>5.284770e+08</td>\n",
       "      <td>20.000000</td>\n",
       "      <td>58.000000</td>\n",
       "      <td>7482.000000</td>\n",
       "      <td>5.000000</td>\n",
       "      <td>5.000000</td>\n",
       "      <td>1954.000000</td>\n",
       "      <td>1966.000000</td>\n",
       "      <td>0.000000</td>\n",
       "      <td>...</td>\n",
       "      <td>0.000000</td>\n",
       "      <td>0.000000</td>\n",
       "      <td>0.000000</td>\n",
       "      <td>0.000000</td>\n",
       "      <td>0.000000</td>\n",
       "      <td>0.000000</td>\n",
       "      <td>0.000000</td>\n",
       "      <td>4.000000</td>\n",
       "      <td>2007.000000</td>\n",
       "      <td>129000.000000</td>\n",
       "    </tr>\n",
       "    <tr>\n",
       "      <th>50%</th>\n",
       "      <td>1470.500000</td>\n",
       "      <td>5.354541e+08</td>\n",
       "      <td>50.000000</td>\n",
       "      <td>68.000000</td>\n",
       "      <td>9500.000000</td>\n",
       "      <td>6.000000</td>\n",
       "      <td>5.000000</td>\n",
       "      <td>1973.000000</td>\n",
       "      <td>1993.000000</td>\n",
       "      <td>0.000000</td>\n",
       "      <td>...</td>\n",
       "      <td>0.000000</td>\n",
       "      <td>27.000000</td>\n",
       "      <td>0.000000</td>\n",
       "      <td>0.000000</td>\n",
       "      <td>0.000000</td>\n",
       "      <td>0.000000</td>\n",
       "      <td>0.000000</td>\n",
       "      <td>6.000000</td>\n",
       "      <td>2008.000000</td>\n",
       "      <td>160000.000000</td>\n",
       "    </tr>\n",
       "    <tr>\n",
       "      <th>75%</th>\n",
       "      <td>2193.500000</td>\n",
       "      <td>9.071352e+08</td>\n",
       "      <td>70.000000</td>\n",
       "      <td>80.000000</td>\n",
       "      <td>11604.500000</td>\n",
       "      <td>7.000000</td>\n",
       "      <td>6.000000</td>\n",
       "      <td>2000.000000</td>\n",
       "      <td>2003.000000</td>\n",
       "      <td>164.750000</td>\n",
       "      <td>...</td>\n",
       "      <td>168.000000</td>\n",
       "      <td>70.000000</td>\n",
       "      <td>0.000000</td>\n",
       "      <td>0.000000</td>\n",
       "      <td>0.000000</td>\n",
       "      <td>0.000000</td>\n",
       "      <td>0.000000</td>\n",
       "      <td>8.000000</td>\n",
       "      <td>2009.000000</td>\n",
       "      <td>213099.750000</td>\n",
       "    </tr>\n",
       "    <tr>\n",
       "      <th>max</th>\n",
       "      <td>2930.000000</td>\n",
       "      <td>1.007100e+09</td>\n",
       "      <td>190.000000</td>\n",
       "      <td>313.000000</td>\n",
       "      <td>215245.000000</td>\n",
       "      <td>10.000000</td>\n",
       "      <td>9.000000</td>\n",
       "      <td>2010.000000</td>\n",
       "      <td>2010.000000</td>\n",
       "      <td>1600.000000</td>\n",
       "      <td>...</td>\n",
       "      <td>1424.000000</td>\n",
       "      <td>742.000000</td>\n",
       "      <td>1012.000000</td>\n",
       "      <td>508.000000</td>\n",
       "      <td>490.000000</td>\n",
       "      <td>800.000000</td>\n",
       "      <td>17000.000000</td>\n",
       "      <td>12.000000</td>\n",
       "      <td>2010.000000</td>\n",
       "      <td>755000.000000</td>\n",
       "    </tr>\n",
       "  </tbody>\n",
       "</table>\n",
       "<p>8 rows × 39 columns</p>\n",
       "</div>"
      ],
      "text/plain": [
       "             Order           PID  MS SubClass  Lot Frontage       Lot Area  \\\n",
       "count  2430.000000  2.430000e+03  2430.000000   2010.000000    2430.000000   \n",
       "mean   1469.478189  7.149375e+08    57.092593     69.201990   10243.557613   \n",
       "std     843.236520  1.887339e+08    42.903254     23.486988    8353.925254   \n",
       "min       1.000000  5.263011e+08    20.000000     21.000000    1470.000000   \n",
       "25%     749.250000  5.284770e+08    20.000000     58.000000    7482.000000   \n",
       "50%    1470.500000  5.354541e+08    50.000000     68.000000    9500.000000   \n",
       "75%    2193.500000  9.071352e+08    70.000000     80.000000   11604.500000   \n",
       "max    2930.000000  1.007100e+09   190.000000    313.000000  215245.000000   \n",
       "\n",
       "       Overall Qual  Overall Cond   Year Built  Year Remod/Add  Mas Vnr Area  \\\n",
       "count   2430.000000   2430.000000  2430.000000     2430.000000   2410.000000   \n",
       "mean       6.088889      5.569959  1971.167490     1984.238683    101.995436   \n",
       "std        1.414621      1.116442    30.207931       20.751163    176.611699   \n",
       "min        1.000000      1.000000  1875.000000     1950.000000      0.000000   \n",
       "25%        5.000000      5.000000  1954.000000     1966.000000      0.000000   \n",
       "50%        6.000000      5.000000  1973.000000     1993.000000      0.000000   \n",
       "75%        7.000000      6.000000  2000.000000     2003.000000    164.750000   \n",
       "max       10.000000      9.000000  2010.000000     2010.000000   1600.000000   \n",
       "\n",
       "       ...  Wood Deck SF  Open Porch SF  Enclosed Porch   3Ssn Porch  \\\n",
       "count  ...   2430.000000    2430.000000     2430.000000  2430.000000   \n",
       "mean   ...     93.917695      47.091770       22.294650     2.471605   \n",
       "std    ...    128.106940      67.123846       62.386414    24.880245   \n",
       "min    ...      0.000000       0.000000        0.000000     0.000000   \n",
       "25%    ...      0.000000       0.000000        0.000000     0.000000   \n",
       "50%    ...      0.000000      27.000000        0.000000     0.000000   \n",
       "75%    ...    168.000000      70.000000        0.000000     0.000000   \n",
       "max    ...   1424.000000     742.000000     1012.000000   508.000000   \n",
       "\n",
       "       Screen Porch    Pool Area      Misc Val      Mo Sold      Yr Sold  \\\n",
       "count   2430.000000  2430.000000   2430.000000  2430.000000  2430.000000   \n",
       "mean      16.529218     2.401235     56.179835     6.209465  2007.783539   \n",
       "std       56.822227    36.111988    616.661541     2.721942     1.311843   \n",
       "min        0.000000     0.000000      0.000000     1.000000  2006.000000   \n",
       "25%        0.000000     0.000000      0.000000     4.000000  2007.000000   \n",
       "50%        0.000000     0.000000      0.000000     6.000000  2008.000000   \n",
       "75%        0.000000     0.000000      0.000000     8.000000  2009.000000   \n",
       "max      490.000000   800.000000  17000.000000    12.000000  2010.000000   \n",
       "\n",
       "           SalePrice  \n",
       "count    2430.000000  \n",
       "mean   180199.692593  \n",
       "std     79607.467171  \n",
       "min     12789.000000  \n",
       "25%    129000.000000  \n",
       "50%    160000.000000  \n",
       "75%    213099.750000  \n",
       "max    755000.000000  \n",
       "\n",
       "[8 rows x 39 columns]"
      ]
     },
     "execution_count": 4,
     "metadata": {},
     "output_type": "execute_result"
    }
   ],
   "source": [
    "data_df.describe()"
   ]
  },
  {
   "cell_type": "code",
   "execution_count": null,
   "id": "5dce4d2e",
   "metadata": {},
   "outputs": [],
   "source": []
  },
  {
   "cell_type": "markdown",
   "id": "8e66bdd9",
   "metadata": {},
   "source": [
    "### Order, PID and MS SubClass are not \"numerous\" data, they're rather \"id\" date. We can consider them as \"strings\""
   ]
  },
  {
   "cell_type": "code",
   "execution_count": 5,
   "id": "b2632e8e",
   "metadata": {},
   "outputs": [
    {
     "data": {
      "text/html": [
       "<div>\n",
       "<style scoped>\n",
       "    .dataframe tbody tr th:only-of-type {\n",
       "        vertical-align: middle;\n",
       "    }\n",
       "\n",
       "    .dataframe tbody tr th {\n",
       "        vertical-align: top;\n",
       "    }\n",
       "\n",
       "    .dataframe thead th {\n",
       "        text-align: right;\n",
       "    }\n",
       "</style>\n",
       "<table border=\"1\" class=\"dataframe\">\n",
       "  <thead>\n",
       "    <tr style=\"text-align: right;\">\n",
       "      <th></th>\n",
       "      <th>Order</th>\n",
       "      <th>PID</th>\n",
       "      <th>MS SubClass</th>\n",
       "      <th>Lot Frontage</th>\n",
       "      <th>Lot Area</th>\n",
       "      <th>Overall Qual</th>\n",
       "      <th>Overall Cond</th>\n",
       "      <th>Year Built</th>\n",
       "      <th>Year Remod/Add</th>\n",
       "      <th>Mas Vnr Area</th>\n",
       "      <th>...</th>\n",
       "      <th>Wood Deck SF</th>\n",
       "      <th>Open Porch SF</th>\n",
       "      <th>Enclosed Porch</th>\n",
       "      <th>3Ssn Porch</th>\n",
       "      <th>Screen Porch</th>\n",
       "      <th>Pool Area</th>\n",
       "      <th>Misc Val</th>\n",
       "      <th>Mo Sold</th>\n",
       "      <th>Yr Sold</th>\n",
       "      <th>SalePrice</th>\n",
       "    </tr>\n",
       "  </thead>\n",
       "  <tbody>\n",
       "    <tr>\n",
       "      <th>count</th>\n",
       "      <td>2430.000000</td>\n",
       "      <td>2.430000e+03</td>\n",
       "      <td>2430.000000</td>\n",
       "      <td>2010.000000</td>\n",
       "      <td>2430.000000</td>\n",
       "      <td>2430.000000</td>\n",
       "      <td>2430.000000</td>\n",
       "      <td>2430.000000</td>\n",
       "      <td>2430.000000</td>\n",
       "      <td>2410.000000</td>\n",
       "      <td>...</td>\n",
       "      <td>2430.000000</td>\n",
       "      <td>2430.000000</td>\n",
       "      <td>2430.000000</td>\n",
       "      <td>2430.000000</td>\n",
       "      <td>2430.000000</td>\n",
       "      <td>2430.000000</td>\n",
       "      <td>2430.000000</td>\n",
       "      <td>2430.000000</td>\n",
       "      <td>2430.000000</td>\n",
       "      <td>2430.000000</td>\n",
       "    </tr>\n",
       "    <tr>\n",
       "      <th>mean</th>\n",
       "      <td>1469.478189</td>\n",
       "      <td>7.149375e+08</td>\n",
       "      <td>57.092593</td>\n",
       "      <td>69.201990</td>\n",
       "      <td>10243.557613</td>\n",
       "      <td>6.088889</td>\n",
       "      <td>5.569959</td>\n",
       "      <td>1971.167490</td>\n",
       "      <td>1984.238683</td>\n",
       "      <td>101.995436</td>\n",
       "      <td>...</td>\n",
       "      <td>93.917695</td>\n",
       "      <td>47.091770</td>\n",
       "      <td>22.294650</td>\n",
       "      <td>2.471605</td>\n",
       "      <td>16.529218</td>\n",
       "      <td>2.401235</td>\n",
       "      <td>56.179835</td>\n",
       "      <td>6.209465</td>\n",
       "      <td>2007.783539</td>\n",
       "      <td>180199.692593</td>\n",
       "    </tr>\n",
       "    <tr>\n",
       "      <th>std</th>\n",
       "      <td>843.236520</td>\n",
       "      <td>1.887339e+08</td>\n",
       "      <td>42.903254</td>\n",
       "      <td>23.486988</td>\n",
       "      <td>8353.925254</td>\n",
       "      <td>1.414621</td>\n",
       "      <td>1.116442</td>\n",
       "      <td>30.207931</td>\n",
       "      <td>20.751163</td>\n",
       "      <td>176.611699</td>\n",
       "      <td>...</td>\n",
       "      <td>128.106940</td>\n",
       "      <td>67.123846</td>\n",
       "      <td>62.386414</td>\n",
       "      <td>24.880245</td>\n",
       "      <td>56.822227</td>\n",
       "      <td>36.111988</td>\n",
       "      <td>616.661541</td>\n",
       "      <td>2.721942</td>\n",
       "      <td>1.311843</td>\n",
       "      <td>79607.467171</td>\n",
       "    </tr>\n",
       "    <tr>\n",
       "      <th>min</th>\n",
       "      <td>1.000000</td>\n",
       "      <td>5.263011e+08</td>\n",
       "      <td>20.000000</td>\n",
       "      <td>21.000000</td>\n",
       "      <td>1470.000000</td>\n",
       "      <td>1.000000</td>\n",
       "      <td>1.000000</td>\n",
       "      <td>1875.000000</td>\n",
       "      <td>1950.000000</td>\n",
       "      <td>0.000000</td>\n",
       "      <td>...</td>\n",
       "      <td>0.000000</td>\n",
       "      <td>0.000000</td>\n",
       "      <td>0.000000</td>\n",
       "      <td>0.000000</td>\n",
       "      <td>0.000000</td>\n",
       "      <td>0.000000</td>\n",
       "      <td>0.000000</td>\n",
       "      <td>1.000000</td>\n",
       "      <td>2006.000000</td>\n",
       "      <td>12789.000000</td>\n",
       "    </tr>\n",
       "    <tr>\n",
       "      <th>25%</th>\n",
       "      <td>749.250000</td>\n",
       "      <td>5.284770e+08</td>\n",
       "      <td>20.000000</td>\n",
       "      <td>58.000000</td>\n",
       "      <td>7482.000000</td>\n",
       "      <td>5.000000</td>\n",
       "      <td>5.000000</td>\n",
       "      <td>1954.000000</td>\n",
       "      <td>1966.000000</td>\n",
       "      <td>0.000000</td>\n",
       "      <td>...</td>\n",
       "      <td>0.000000</td>\n",
       "      <td>0.000000</td>\n",
       "      <td>0.000000</td>\n",
       "      <td>0.000000</td>\n",
       "      <td>0.000000</td>\n",
       "      <td>0.000000</td>\n",
       "      <td>0.000000</td>\n",
       "      <td>4.000000</td>\n",
       "      <td>2007.000000</td>\n",
       "      <td>129000.000000</td>\n",
       "    </tr>\n",
       "    <tr>\n",
       "      <th>50%</th>\n",
       "      <td>1470.500000</td>\n",
       "      <td>5.354541e+08</td>\n",
       "      <td>50.000000</td>\n",
       "      <td>68.000000</td>\n",
       "      <td>9500.000000</td>\n",
       "      <td>6.000000</td>\n",
       "      <td>5.000000</td>\n",
       "      <td>1973.000000</td>\n",
       "      <td>1993.000000</td>\n",
       "      <td>0.000000</td>\n",
       "      <td>...</td>\n",
       "      <td>0.000000</td>\n",
       "      <td>27.000000</td>\n",
       "      <td>0.000000</td>\n",
       "      <td>0.000000</td>\n",
       "      <td>0.000000</td>\n",
       "      <td>0.000000</td>\n",
       "      <td>0.000000</td>\n",
       "      <td>6.000000</td>\n",
       "      <td>2008.000000</td>\n",
       "      <td>160000.000000</td>\n",
       "    </tr>\n",
       "    <tr>\n",
       "      <th>75%</th>\n",
       "      <td>2193.500000</td>\n",
       "      <td>9.071352e+08</td>\n",
       "      <td>70.000000</td>\n",
       "      <td>80.000000</td>\n",
       "      <td>11604.500000</td>\n",
       "      <td>7.000000</td>\n",
       "      <td>6.000000</td>\n",
       "      <td>2000.000000</td>\n",
       "      <td>2003.000000</td>\n",
       "      <td>164.750000</td>\n",
       "      <td>...</td>\n",
       "      <td>168.000000</td>\n",
       "      <td>70.000000</td>\n",
       "      <td>0.000000</td>\n",
       "      <td>0.000000</td>\n",
       "      <td>0.000000</td>\n",
       "      <td>0.000000</td>\n",
       "      <td>0.000000</td>\n",
       "      <td>8.000000</td>\n",
       "      <td>2009.000000</td>\n",
       "      <td>213099.750000</td>\n",
       "    </tr>\n",
       "    <tr>\n",
       "      <th>max</th>\n",
       "      <td>2930.000000</td>\n",
       "      <td>1.007100e+09</td>\n",
       "      <td>190.000000</td>\n",
       "      <td>313.000000</td>\n",
       "      <td>215245.000000</td>\n",
       "      <td>10.000000</td>\n",
       "      <td>9.000000</td>\n",
       "      <td>2010.000000</td>\n",
       "      <td>2010.000000</td>\n",
       "      <td>1600.000000</td>\n",
       "      <td>...</td>\n",
       "      <td>1424.000000</td>\n",
       "      <td>742.000000</td>\n",
       "      <td>1012.000000</td>\n",
       "      <td>508.000000</td>\n",
       "      <td>490.000000</td>\n",
       "      <td>800.000000</td>\n",
       "      <td>17000.000000</td>\n",
       "      <td>12.000000</td>\n",
       "      <td>2010.000000</td>\n",
       "      <td>755000.000000</td>\n",
       "    </tr>\n",
       "  </tbody>\n",
       "</table>\n",
       "<p>8 rows × 39 columns</p>\n",
       "</div>"
      ],
      "text/plain": [
       "             Order           PID  MS SubClass  Lot Frontage       Lot Area  \\\n",
       "count  2430.000000  2.430000e+03  2430.000000   2010.000000    2430.000000   \n",
       "mean   1469.478189  7.149375e+08    57.092593     69.201990   10243.557613   \n",
       "std     843.236520  1.887339e+08    42.903254     23.486988    8353.925254   \n",
       "min       1.000000  5.263011e+08    20.000000     21.000000    1470.000000   \n",
       "25%     749.250000  5.284770e+08    20.000000     58.000000    7482.000000   \n",
       "50%    1470.500000  5.354541e+08    50.000000     68.000000    9500.000000   \n",
       "75%    2193.500000  9.071352e+08    70.000000     80.000000   11604.500000   \n",
       "max    2930.000000  1.007100e+09   190.000000    313.000000  215245.000000   \n",
       "\n",
       "       Overall Qual  Overall Cond   Year Built  Year Remod/Add  Mas Vnr Area  \\\n",
       "count   2430.000000   2430.000000  2430.000000     2430.000000   2410.000000   \n",
       "mean       6.088889      5.569959  1971.167490     1984.238683    101.995436   \n",
       "std        1.414621      1.116442    30.207931       20.751163    176.611699   \n",
       "min        1.000000      1.000000  1875.000000     1950.000000      0.000000   \n",
       "25%        5.000000      5.000000  1954.000000     1966.000000      0.000000   \n",
       "50%        6.000000      5.000000  1973.000000     1993.000000      0.000000   \n",
       "75%        7.000000      6.000000  2000.000000     2003.000000    164.750000   \n",
       "max       10.000000      9.000000  2010.000000     2010.000000   1600.000000   \n",
       "\n",
       "       ...  Wood Deck SF  Open Porch SF  Enclosed Porch   3Ssn Porch  \\\n",
       "count  ...   2430.000000    2430.000000     2430.000000  2430.000000   \n",
       "mean   ...     93.917695      47.091770       22.294650     2.471605   \n",
       "std    ...    128.106940      67.123846       62.386414    24.880245   \n",
       "min    ...      0.000000       0.000000        0.000000     0.000000   \n",
       "25%    ...      0.000000       0.000000        0.000000     0.000000   \n",
       "50%    ...      0.000000      27.000000        0.000000     0.000000   \n",
       "75%    ...    168.000000      70.000000        0.000000     0.000000   \n",
       "max    ...   1424.000000     742.000000     1012.000000   508.000000   \n",
       "\n",
       "       Screen Porch    Pool Area      Misc Val      Mo Sold      Yr Sold  \\\n",
       "count   2430.000000  2430.000000   2430.000000  2430.000000  2430.000000   \n",
       "mean      16.529218     2.401235     56.179835     6.209465  2007.783539   \n",
       "std       56.822227    36.111988    616.661541     2.721942     1.311843   \n",
       "min        0.000000     0.000000      0.000000     1.000000  2006.000000   \n",
       "25%        0.000000     0.000000      0.000000     4.000000  2007.000000   \n",
       "50%        0.000000     0.000000      0.000000     6.000000  2008.000000   \n",
       "75%        0.000000     0.000000      0.000000     8.000000  2009.000000   \n",
       "max      490.000000   800.000000  17000.000000    12.000000  2010.000000   \n",
       "\n",
       "           SalePrice  \n",
       "count    2430.000000  \n",
       "mean   180199.692593  \n",
       "std     79607.467171  \n",
       "min     12789.000000  \n",
       "25%    129000.000000  \n",
       "50%    160000.000000  \n",
       "75%    213099.750000  \n",
       "max    755000.000000  \n",
       "\n",
       "[8 rows x 39 columns]"
      ]
     },
     "execution_count": 5,
     "metadata": {},
     "output_type": "execute_result"
    }
   ],
   "source": [
    "# data_df['Order'] = str(data_df['Order'])\n",
    "# data_df['PID'] = str(data_df['PID'])\n",
    "# data_df['MS SubClass'] = str(data_df['MS SubClass'])\n",
    "\n",
    "data_df.describe()"
   ]
  },
  {
   "cell_type": "markdown",
   "id": "566af1bc",
   "metadata": {},
   "source": [
    "### Type of data\n",
    "----------------"
   ]
  },
  {
   "cell_type": "code",
   "execution_count": null,
   "id": "04e2e29a",
   "metadata": {},
   "outputs": [],
   "source": []
  },
  {
   "cell_type": "code",
   "execution_count": 6,
   "id": "263387ef",
   "metadata": {},
   "outputs": [
    {
     "data": {
      "text/plain": [
       "Order               int64\n",
       "PID                 int64\n",
       "MS SubClass         int64\n",
       "MS Zoning          object\n",
       "Lot Frontage      float64\n",
       "Lot Area            int64\n",
       "Street             object\n",
       "Alley              object\n",
       "Lot Shape          object\n",
       "Land Contour       object\n",
       "Utilities          object\n",
       "Lot Config         object\n",
       "Land Slope         object\n",
       "Neighborhood       object\n",
       "Condition 1        object\n",
       "Condition 2        object\n",
       "Bldg Type          object\n",
       "House Style        object\n",
       "Overall Qual        int64\n",
       "Overall Cond        int64\n",
       "Year Built          int64\n",
       "Year Remod/Add      int64\n",
       "Roof Style         object\n",
       "Roof Matl          object\n",
       "Exterior 1st       object\n",
       "Exterior 2nd       object\n",
       "Mas Vnr Type       object\n",
       "Mas Vnr Area      float64\n",
       "Exter Qual         object\n",
       "Exter Cond         object\n",
       "                   ...   \n",
       "Bedroom AbvGr       int64\n",
       "Kitchen AbvGr       int64\n",
       "Kitchen Qual       object\n",
       "TotRms AbvGrd       int64\n",
       "Functional         object\n",
       "Fireplaces          int64\n",
       "Fireplace Qu       object\n",
       "Garage Type        object\n",
       "Garage Yr Blt     float64\n",
       "Garage Finish      object\n",
       "Garage Cars       float64\n",
       "Garage Area       float64\n",
       "Garage Qual        object\n",
       "Garage Cond        object\n",
       "Paved Drive        object\n",
       "Wood Deck SF        int64\n",
       "Open Porch SF       int64\n",
       "Enclosed Porch      int64\n",
       "3Ssn Porch          int64\n",
       "Screen Porch        int64\n",
       "Pool Area           int64\n",
       "Pool QC            object\n",
       "Fence              object\n",
       "Misc Feature       object\n",
       "Misc Val            int64\n",
       "Mo Sold             int64\n",
       "Yr Sold             int64\n",
       "Sale Type          object\n",
       "Sale Condition     object\n",
       "SalePrice           int64\n",
       "Length: 82, dtype: object"
      ]
     },
     "execution_count": 6,
     "metadata": {},
     "output_type": "execute_result"
    }
   ],
   "source": [
    "data_df.dtypes"
   ]
  },
  {
   "cell_type": "code",
   "execution_count": 7,
   "id": "41301bc2",
   "metadata": {},
   "outputs": [],
   "source": [
    "# Define list of columns \n",
    "continuous_col = ['Lot Frontage','Lot Area', 'Mas Vnr Area', 'BsmtFin SF 1', 'BsmtFin SF 2','Bsmt Unf SF','Total Bsmt SF','1st Flr SF','2nd Flr SF','Low Qual Fin SF','Gr Liv Area','Garage Area','Wood Deck SF','Open Porch SF','Enclosed Porch','3Ssn Porch','Screen Porch','Pool Area','Misc Val']\n",
    "ordinal_col = ['Lot Shape','Utilities','Land Slope','Overall Qual','Overall Cond','Exter Qual','Exter Cond','Bsmt Qual','Bsmt Cond','Bsmt Exposure','BsmtFin Type 1','BsmtFin Type 2','Heating QC','Electrical','Kitchen Qual','Functional','Fireplace Qu','Garage Finish','Garage Qual','Garage Cond','Paved Drive','Pool QC','Fence']\n",
    "yr_col = ['Year Built','Year Remod/Add','Garage Yr Blt','Yr Sold']\n",
    "nominal_col = ['MS SubClass','MS Zoning','Street','Alley','Land Contour','Lot Config','Neighborhood','Condition 1','Condition 2','Bldg Type','House Style','Roof Style','Roof Matl','Exterior 1st','Exterior 2nd','Mas Vnr Type','Foundation','Heating','Central Air','Garage Type','Misc Feature','Sale Type','Sale Condition']"
   ]
  },
  {
   "cell_type": "code",
   "execution_count": 8,
   "id": "4f11e2d6",
   "metadata": {},
   "outputs": [
    {
     "data": {
      "text/plain": [
       "Index(['Order', 'PID', 'MS SubClass', 'MS Zoning', 'Lot Frontage', 'Lot Area',\n",
       "       'Street', 'Alley', 'Lot Shape', 'Land Contour', 'Utilities',\n",
       "       'Lot Config', 'Land Slope', 'Neighborhood', 'Condition 1',\n",
       "       'Condition 2', 'Bldg Type', 'House Style', 'Overall Qual',\n",
       "       'Overall Cond', 'Year Built', 'Year Remod/Add', 'Roof Style',\n",
       "       'Roof Matl', 'Exterior 1st', 'Exterior 2nd', 'Mas Vnr Type',\n",
       "       'Mas Vnr Area', 'Exter Qual', 'Exter Cond', 'Foundation', 'Bsmt Qual',\n",
       "       'Bsmt Cond', 'Bsmt Exposure', 'BsmtFin Type 1', 'BsmtFin SF 1',\n",
       "       'BsmtFin Type 2', 'BsmtFin SF 2', 'Bsmt Unf SF', 'Total Bsmt SF',\n",
       "       'Heating', 'Heating QC', 'Central Air', 'Electrical', '1st Flr SF',\n",
       "       '2nd Flr SF', 'Low Qual Fin SF', 'Gr Liv Area', 'Bsmt Full Bath',\n",
       "       'Bsmt Half Bath', 'Full Bath', 'Half Bath', 'Bedroom AbvGr',\n",
       "       'Kitchen AbvGr', 'Kitchen Qual', 'TotRms AbvGrd', 'Functional',\n",
       "       'Fireplaces', 'Fireplace Qu', 'Garage Type', 'Garage Yr Blt',\n",
       "       'Garage Finish', 'Garage Cars', 'Garage Area', 'Garage Qual',\n",
       "       'Garage Cond', 'Paved Drive', 'Wood Deck SF', 'Open Porch SF',\n",
       "       'Enclosed Porch', '3Ssn Porch', 'Screen Porch', 'Pool Area', 'Pool QC',\n",
       "       'Fence', 'Misc Feature', 'Misc Val', 'Mo Sold', 'Yr Sold', 'Sale Type',\n",
       "       'Sale Condition', 'SalePrice'],\n",
       "      dtype='object')"
      ]
     },
     "execution_count": 8,
     "metadata": {},
     "output_type": "execute_result"
    }
   ],
   "source": [
    "data_df.columns"
   ]
  },
  {
   "cell_type": "code",
   "execution_count": 9,
   "id": "7ee0e79a",
   "metadata": {},
   "outputs": [
    {
     "name": "stdout",
     "output_type": "stream",
     "text": [
      "Lot Shape  : ['IR1' 'Reg' 'IR2' 'IR3']\n",
      "Utilities  : ['AllPub' 'NoSewr' 'NoSeWa']\n",
      "Land Slope  : ['Gtl' 'Mod' 'Sev']\n",
      "Overall Qual  : [ 7  6  4  5  8  9 10  3  1  2]\n",
      "Overall Cond  : [5 6 4 8 7 1 9 3 2]\n",
      "Exter Qual  : ['Gd' 'TA' 'Fa' 'Ex']\n",
      "Exter Cond  : ['TA' 'Gd' 'Fa' 'Ex' 'Po']\n",
      "Bsmt Qual  : ['Gd' 'TA' 'Ex' nan 'Fa' 'Po']\n",
      "Bsmt Cond  : ['TA' 'Gd' 'Fa' nan 'Ex' 'Po']\n",
      "Bsmt Exposure  : ['No' 'Av' 'Mn' 'Gd' nan]\n",
      "BsmtFin Type 1  : ['GLQ' 'Unf' 'Rec' 'LwQ' 'BLQ' 'ALQ' nan]\n",
      "BsmtFin Type 2  : ['Unf' 'LwQ' 'BLQ' nan 'Rec' 'ALQ' 'GLQ']\n",
      "Heating QC  : ['Ex' 'TA' 'Fa' 'Gd' 'Po']\n",
      "Electrical  : ['SBrkr' 'FuseF' 'FuseA' 'FuseP' nan 'Mix']\n",
      "Kitchen Qual  : ['Gd' 'TA' 'Ex' 'Fa' 'Po']\n",
      "Functional  : ['Typ' 'Mod' 'Maj1' 'Min2' 'Min1' 'Maj2' 'Sal' 'Sev']\n",
      "Fireplace Qu  : ['TA' 'Gd' nan 'Fa' 'Po' 'Ex']\n",
      "Garage Finish  : ['Fin' 'Unf' 'RFn' nan]\n",
      "Garage Qual  : ['TA' 'Fa' nan 'Gd' 'Ex' 'Po']\n",
      "Garage Cond  : ['TA' nan 'Fa' 'Gd' 'Ex' 'Po']\n",
      "Paved Drive  : ['Y' 'N' 'P']\n",
      "Pool QC  : [nan 'Fa' 'Ex' 'TA' 'Gd']\n",
      "Fence  : [nan 'MnPrv' 'MnWw' 'GdPrv' 'GdWo']\n"
     ]
    }
   ],
   "source": [
    "# Print each value for all ordinal columns\n",
    "for col in ordinal_col:\n",
    "    print(col,' :',data_df[col].unique())\n"
   ]
  },
  {
   "cell_type": "markdown",
   "id": "27298daf",
   "metadata": {},
   "source": [
    "### We will later in the project encode the values for Ordinal Values with integer scale and one-hote encoding for Nominal columns"
   ]
  },
  {
   "cell_type": "markdown",
   "id": "d9d3c0f1",
   "metadata": {},
   "source": [
    "# Data Cleaning\n",
    "### Missing Values\n",
    "----------------"
   ]
  },
  {
   "cell_type": "code",
   "execution_count": 10,
   "id": "ed8595cf",
   "metadata": {},
   "outputs": [
    {
     "data": {
      "text/plain": [
       "Pool QC            2418\n",
       "Misc Feature       2340\n",
       "Alley              2267\n",
       "Fence              1941\n",
       "Fireplace Qu       1186\n",
       "Lot Frontage        420\n",
       "Garage Qual         138\n",
       "Garage Yr Blt       138\n",
       "Garage Cond         138\n",
       "Garage Finish       138\n",
       "Garage Type         136\n",
       "Bsmt Exposure        74\n",
       "BsmtFin Type 2       72\n",
       "BsmtFin Type 1       71\n",
       "Bsmt Cond            71\n",
       "Bsmt Qual            71\n",
       "Mas Vnr Type         20\n",
       "Mas Vnr Area         20\n",
       "Bsmt Full Bath        2\n",
       "Bsmt Half Bath        2\n",
       "Garage Area           1\n",
       "Garage Cars           1\n",
       "Total Bsmt SF         1\n",
       "Bsmt Unf SF           1\n",
       "BsmtFin SF 2          1\n",
       "BsmtFin SF 1          1\n",
       "Electrical            1\n",
       "Exterior 2nd          0\n",
       "Exterior 1st          0\n",
       "Roof Matl             0\n",
       "                   ... \n",
       "Heating               0\n",
       "Exter Cond            0\n",
       "Functional            0\n",
       "Sale Type             0\n",
       "Yr Sold               0\n",
       "Mo Sold               0\n",
       "Misc Val              0\n",
       "Pool Area             0\n",
       "Screen Porch          0\n",
       "3Ssn Porch            0\n",
       "Enclosed Porch        0\n",
       "Open Porch SF         0\n",
       "Wood Deck SF          0\n",
       "Paved Drive           0\n",
       "Fireplaces            0\n",
       "TotRms AbvGrd         0\n",
       "Foundation            0\n",
       "Kitchen Qual          0\n",
       "Kitchen AbvGr         0\n",
       "Bedroom AbvGr         0\n",
       "Half Bath             0\n",
       "Full Bath             0\n",
       "Gr Liv Area           0\n",
       "Low Qual Fin SF       0\n",
       "2nd Flr SF            0\n",
       "1st Flr SF            0\n",
       "Central Air           0\n",
       "Heating QC            0\n",
       "Sale Condition        0\n",
       "Order                 0\n",
       "Length: 82, dtype: int64"
      ]
     },
     "execution_count": 10,
     "metadata": {},
     "output_type": "execute_result"
    }
   ],
   "source": [
    "data_df.isnull().sum().sort_values(ascending=False)"
   ]
  },
  {
   "cell_type": "markdown",
   "id": "0871bfa1",
   "metadata": {},
   "source": [
    "<div class=\"alert alert-block alert-info\">\n",
    "\n",
    "    Based on the description.txt, what can we do with missing values :\n",
    "    \n",
    "\n",
    "    \n",
    "**REPLACE NaN by ordinal or nominal \"NA\" which exists in the description :**\n",
    "- Alley makes sense to be NA if they have no alleyway\n",
    "- Pool QC makes sense to be NA if they have no pool \"Pool Area\" == 0 \n",
    "- Misc Feature\n",
    "- Fireplace Qu\n",
    "- Fence\n",
    "- Garage Type\n",
    "- Garage Qual\n",
    "- Garage Finish\n",
    "- Garage Cond\n",
    "- Bsmt Exposure (no basement in this property)\n",
    "- BsmtFin Type 2 (no basement in this property)\n",
    "- BsmtFin Type 1 (no basement in this property)\n",
    "- Bsmt Cond (no basement in this property)\n",
    "- Bsmt Qual (no basement in this property)\n",
    "- Mas Vnr Type (replace by None)\n",
    "\n",
    "**REPLACE by another value :**\n",
    "- Lot Frontage (the minimum is not 0, so we can consider every property to have at least a street connected to it, we will take the mean or median which are pretty close)\n",
    "- Electrical (replace by SBrkr - most common feature)\n",
    "\n",
    "**REPLACE by 0 :**\n",
    "- Mas Vnr Area\n",
    "- Garage Area\n",
    "- Garage Cars\n",
    "- Bsmt Full Bath\n",
    "- Bsmt Half Bath\n",
    "- Total Bsmt SF\n",
    "- Bsmt Unf SF\n",
    "- BsmtFin SF 2\n",
    "- BsmtFin SF 1\n",
    "\n",
    "\n",
    "**LEAVE with NaN :**\n",
    "- Garage Yr Blt, no need to replace as no garages is built, no year can be chosen for the same 138 properties\n"
   ]
  },
  {
   "cell_type": "code",
   "execution_count": 11,
   "id": "d5a78dca",
   "metadata": {},
   "outputs": [
    {
     "data": {
      "text/plain": [
       "Index(['Lot Frontage', 'Alley', 'Mas Vnr Type', 'Mas Vnr Area', 'Bsmt Qual',\n",
       "       'Bsmt Cond', 'Bsmt Exposure', 'BsmtFin Type 1', 'BsmtFin SF 1',\n",
       "       'BsmtFin Type 2', 'BsmtFin SF 2', 'Bsmt Unf SF', 'Total Bsmt SF',\n",
       "       'Electrical', 'Bsmt Full Bath', 'Bsmt Half Bath', 'Fireplace Qu',\n",
       "       'Garage Type', 'Garage Yr Blt', 'Garage Finish', 'Garage Cars',\n",
       "       'Garage Area', 'Garage Qual', 'Garage Cond', 'Pool QC', 'Fence',\n",
       "       'Misc Feature'],\n",
       "      dtype='object')"
      ]
     },
     "execution_count": 11,
     "metadata": {},
     "output_type": "execute_result"
    }
   ],
   "source": [
    "# List of all these columns\n",
    "col_with_nan = data_df.loc[:,data_df.isnull().sum() > 0].columns\n",
    "col_with_nan"
   ]
  },
  {
   "cell_type": "code",
   "execution_count": 12,
   "id": "728cf4e6",
   "metadata": {},
   "outputs": [],
   "source": [
    "# Replace NaN by NA\n",
    "col_nan_to_na = [x for x in col_with_nan if x not in ['Electrical','Lot Frontage','Mas Vnr Area','Garage Area','Garage Cars', 'Garage Yr Blt','Bsmt Full Bath','Bsmt Half Bath','Total Bsmt SF','Bsmt Unf SF','BsmtFin SF 2','BsmtFin SF 1']]\n",
    "\n",
    "for col in col_nan_to_na:\n",
    "    if col == 'Mas Vnr Type':\n",
    "        data_df[col] = data_df[col].fillna('None')\n",
    "    else:\n",
    "        data_df[col] = data_df[col].fillna('NA') # replace by existing \"NA\" in documentation\n"
   ]
  },
  {
   "cell_type": "code",
   "execution_count": 13,
   "id": "cf003ab3",
   "metadata": {},
   "outputs": [],
   "source": [
    "# Replace NaN by 0\n",
    "\n",
    "for col in ['Mas Vnr Area','Garage Area','Garage Cars', 'Bsmt Full Bath','Bsmt Half Bath','Total Bsmt SF','Bsmt Unf SF','BsmtFin SF 2','BsmtFin SF 1']:\n",
    "    data_df[col] = data_df[col].fillna(0) # replace by 0 as it represents a \"number\""
   ]
  },
  {
   "cell_type": "code",
   "execution_count": 14,
   "id": "4c9aeb62",
   "metadata": {},
   "outputs": [],
   "source": [
    "# Replace NaN by other value \n",
    "\n",
    "# by most frequent value\n",
    "data_df['Electrical'] = data_df['Electrical'].fillna(data_df['Electrical'].value_counts().idxmax())\n",
    "\n",
    "# by median value\n",
    "data_df['Lot Frontage'] = data_df['Lot Frontage'].fillna(data_df['Lot Frontage'].median())\n",
    "\n",
    "# by \"No garage\"\n",
    "data_df['Garage Yr Blt'] = data_df['Garage Yr Blt'].fillna(0)"
   ]
  },
  {
   "cell_type": "code",
   "execution_count": 15,
   "id": "c6dedf32",
   "metadata": {},
   "outputs": [
    {
     "data": {
      "text/plain": [
       "SalePrice       0\n",
       "Year Built      0\n",
       "Roof Style      0\n",
       "Roof Matl       0\n",
       "Exterior 1st    0\n",
       "dtype: int64"
      ]
     },
     "execution_count": 15,
     "metadata": {},
     "output_type": "execute_result"
    }
   ],
   "source": [
    "# Check null values in dataframe\n",
    "\n",
    "data_df.isnull().sum().sort_values(ascending=False).head()"
   ]
  },
  {
   "cell_type": "code",
   "execution_count": null,
   "id": "db048b45",
   "metadata": {},
   "outputs": [],
   "source": []
  },
  {
   "cell_type": "markdown",
   "id": "77521dba",
   "metadata": {},
   "source": [
    "<div class=\"alert alert-block alert-success\">\n",
    "\n",
    "    Missing values\n",
    "### Eventually, we have removed all missing values."
   ]
  },
  {
   "cell_type": "markdown",
   "id": "936ef8e6",
   "metadata": {},
   "source": [
    "### Correct Years > 2010"
   ]
  },
  {
   "cell_type": "code",
   "execution_count": 16,
   "id": "8e0dd7f6",
   "metadata": {},
   "outputs": [
    {
     "name": "stdout",
     "output_type": "stream",
     "text": [
      "Year Built  : between  1875  and  2010\n",
      "Year Remod/Add  : between  1950  and  2010\n",
      "Garage Yr Blt  : between  0.0  and  2207.0\n",
      "Yr Sold  : between  2006  and  2010\n"
     ]
    }
   ],
   "source": [
    "\n",
    "for col in yr_col:\n",
    "    print(col,' : between ',data_df[col].min(),' and ',data_df[col].max())"
   ]
  },
  {
   "cell_type": "markdown",
   "id": "e77c61e2",
   "metadata": {},
   "source": [
    "**We see a year at \"2207\", based on the rest of the data, we can suppose it is \"2007\"**"
   ]
  },
  {
   "cell_type": "code",
   "execution_count": 17,
   "id": "2f9d88a8",
   "metadata": {},
   "outputs": [
    {
     "name": "stdout",
     "output_type": "stream",
     "text": [
      "Year Built  : between  1875  and  2010\n",
      "Year Remod/Add  : between  1950  and  2010\n",
      "Garage Yr Blt  : between  0.0  and  2010.0\n",
      "Yr Sold  : between  2006  and  2010\n"
     ]
    }
   ],
   "source": [
    "# Change 2207 to 2007\n",
    "data_df.loc[data_df.loc[data_df['Garage Yr Blt'] == 2207].index,'Garage Yr Blt'] = 2007\n",
    "\n",
    "#data_df['Garage Yr Blt'] = int(data_df['Garage Yr Blt'])\n",
    "\n",
    "# Check Year range again : \n",
    "for col in yr_col:\n",
    "    print(col,' : between ',data_df[col].min(),' and ',data_df[col].max())"
   ]
  },
  {
   "cell_type": "markdown",
   "id": "c546aa90",
   "metadata": {},
   "source": [
    "<div class=\"alert alert-block alert-success\">\n",
    "\n",
    "The years range we can see here is more consistent and all below 2010, the end-year of the analysis."
   ]
  },
  {
   "cell_type": "markdown",
   "id": "2d9a8e60",
   "metadata": {},
   "source": [
    "### Consistency of columns\n",
    "If there is no garage, no basement,... the other values concerning should not be filled either\n",
    "- Garage\n",
    "- Basement\n",
    "- Masonry\n",
    "- Pool\n",
    "- Fireplace"
   ]
  },
  {
   "cell_type": "markdown",
   "id": "6b57515a",
   "metadata": {},
   "source": [
    "<div class=\"alert alert-block alert-info\">\n",
    "\n",
    "Masonry"
   ]
  },
  {
   "cell_type": "code",
   "execution_count": 18,
   "id": "2e85ab42",
   "metadata": {},
   "outputs": [
    {
     "data": {
      "text/plain": [
       "Index(['Mas Vnr Type', 'Mas Vnr Area'], dtype='object')"
      ]
     },
     "execution_count": 18,
     "metadata": {},
     "output_type": "execute_result"
    }
   ],
   "source": [
    "# Masonry columns\n",
    "data_df.iloc[:, lambda df:df.columns.str.contains('Mas', case=False)].columns"
   ]
  },
  {
   "cell_type": "code",
   "execution_count": 19,
   "id": "7b24e2b2",
   "metadata": {},
   "outputs": [],
   "source": [
    "# index of inconsistent values based on Description.txt\n",
    "inconsistent_index = data_df.loc[(data_df['Mas Vnr Type']== 'None') & (data_df['Mas Vnr Area'] >0)].index"
   ]
  },
  {
   "cell_type": "code",
   "execution_count": 20,
   "id": "8f33f7da",
   "metadata": {},
   "outputs": [
    {
     "data": {
      "text/html": [
       "<div>\n",
       "<style scoped>\n",
       "    .dataframe tbody tr th:only-of-type {\n",
       "        vertical-align: middle;\n",
       "    }\n",
       "\n",
       "    .dataframe tbody tr th {\n",
       "        vertical-align: top;\n",
       "    }\n",
       "\n",
       "    .dataframe thead th {\n",
       "        text-align: right;\n",
       "    }\n",
       "</style>\n",
       "<table border=\"1\" class=\"dataframe\">\n",
       "  <thead>\n",
       "    <tr style=\"text-align: right;\">\n",
       "      <th></th>\n",
       "      <th>Order</th>\n",
       "      <th>PID</th>\n",
       "      <th>MS SubClass</th>\n",
       "      <th>MS Zoning</th>\n",
       "      <th>Lot Frontage</th>\n",
       "      <th>Lot Area</th>\n",
       "      <th>Street</th>\n",
       "      <th>Alley</th>\n",
       "      <th>Lot Shape</th>\n",
       "      <th>Land Contour</th>\n",
       "      <th>...</th>\n",
       "      <th>Pool Area</th>\n",
       "      <th>Pool QC</th>\n",
       "      <th>Fence</th>\n",
       "      <th>Misc Feature</th>\n",
       "      <th>Misc Val</th>\n",
       "      <th>Mo Sold</th>\n",
       "      <th>Yr Sold</th>\n",
       "      <th>Sale Type</th>\n",
       "      <th>Sale Condition</th>\n",
       "      <th>SalePrice</th>\n",
       "    </tr>\n",
       "  </thead>\n",
       "  <tbody>\n",
       "  </tbody>\n",
       "</table>\n",
       "<p>0 rows × 82 columns</p>\n",
       "</div>"
      ],
      "text/plain": [
       "Empty DataFrame\n",
       "Columns: [Order, PID, MS SubClass, MS Zoning, Lot Frontage, Lot Area, Street, Alley, Lot Shape, Land Contour, Utilities, Lot Config, Land Slope, Neighborhood, Condition 1, Condition 2, Bldg Type, House Style, Overall Qual, Overall Cond, Year Built, Year Remod/Add, Roof Style, Roof Matl, Exterior 1st, Exterior 2nd, Mas Vnr Type, Mas Vnr Area, Exter Qual, Exter Cond, Foundation, Bsmt Qual, Bsmt Cond, Bsmt Exposure, BsmtFin Type 1, BsmtFin SF 1, BsmtFin Type 2, BsmtFin SF 2, Bsmt Unf SF, Total Bsmt SF, Heating, Heating QC, Central Air, Electrical, 1st Flr SF, 2nd Flr SF, Low Qual Fin SF, Gr Liv Area, Bsmt Full Bath, Bsmt Half Bath, Full Bath, Half Bath, Bedroom AbvGr, Kitchen AbvGr, Kitchen Qual, TotRms AbvGrd, Functional, Fireplaces, Fireplace Qu, Garage Type, Garage Yr Blt, Garage Finish, Garage Cars, Garage Area, Garage Qual, Garage Cond, Paved Drive, Wood Deck SF, Open Porch SF, Enclosed Porch, 3Ssn Porch, Screen Porch, Pool Area, Pool QC, Fence, Misc Feature, Misc Val, Mo Sold, Yr Sold, Sale Type, Sale Condition, SalePrice]\n",
       "Index: []\n",
       "\n",
       "[0 rows x 82 columns]"
      ]
     },
     "execution_count": 20,
     "metadata": {},
     "output_type": "execute_result"
    }
   ],
   "source": [
    "for i in inconsistent_index:\n",
    "    data_df.iloc[i, data_df.columns.get_loc('Mas Vnr Area')] = 0\n",
    "\n",
    "data_df.loc[(data_df['Mas Vnr Type']== 'None') & (data_df['Mas Vnr Area'] >0)] # check"
   ]
  },
  {
   "cell_type": "markdown",
   "id": "35fc03d0",
   "metadata": {},
   "source": [
    "<div class=\"alert alert-block alert-info\">\n",
    "\n",
    "Basement"
   ]
  },
  {
   "cell_type": "code",
   "execution_count": 21,
   "id": "65c6bef4",
   "metadata": {},
   "outputs": [],
   "source": [
    "# Basement columns\n",
    "bsmt_col = data_df.iloc[:, lambda df:df.columns.str.contains('Bsm', case=False)].columns"
   ]
  },
  {
   "cell_type": "code",
   "execution_count": 22,
   "id": "f68cc90c",
   "metadata": {},
   "outputs": [
    {
     "data": {
      "text/html": [
       "<div>\n",
       "<style scoped>\n",
       "    .dataframe tbody tr th:only-of-type {\n",
       "        vertical-align: middle;\n",
       "    }\n",
       "\n",
       "    .dataframe tbody tr th {\n",
       "        vertical-align: top;\n",
       "    }\n",
       "\n",
       "    .dataframe thead th {\n",
       "        text-align: right;\n",
       "    }\n",
       "</style>\n",
       "<table border=\"1\" class=\"dataframe\">\n",
       "  <thead>\n",
       "    <tr style=\"text-align: right;\">\n",
       "      <th></th>\n",
       "      <th>Bsmt Qual</th>\n",
       "      <th>Bsmt Cond</th>\n",
       "      <th>Bsmt Exposure</th>\n",
       "      <th>BsmtFin Type 1</th>\n",
       "      <th>BsmtFin SF 1</th>\n",
       "      <th>BsmtFin Type 2</th>\n",
       "      <th>BsmtFin SF 2</th>\n",
       "      <th>Bsmt Unf SF</th>\n",
       "      <th>Total Bsmt SF</th>\n",
       "      <th>Bsmt Full Bath</th>\n",
       "      <th>Bsmt Half Bath</th>\n",
       "    </tr>\n",
       "  </thead>\n",
       "  <tbody>\n",
       "    <tr>\n",
       "      <th>875</th>\n",
       "      <td>Gd</td>\n",
       "      <td>TA</td>\n",
       "      <td>NA</td>\n",
       "      <td>Unf</td>\n",
       "      <td>0.0</td>\n",
       "      <td>Unf</td>\n",
       "      <td>0.0</td>\n",
       "      <td>1595.0</td>\n",
       "      <td>1595.0</td>\n",
       "      <td>0.0</td>\n",
       "      <td>0.0</td>\n",
       "    </tr>\n",
       "    <tr>\n",
       "      <th>1681</th>\n",
       "      <td>Gd</td>\n",
       "      <td>TA</td>\n",
       "      <td>NA</td>\n",
       "      <td>Unf</td>\n",
       "      <td>0.0</td>\n",
       "      <td>Unf</td>\n",
       "      <td>0.0</td>\n",
       "      <td>725.0</td>\n",
       "      <td>725.0</td>\n",
       "      <td>0.0</td>\n",
       "      <td>0.0</td>\n",
       "    </tr>\n",
       "    <tr>\n",
       "      <th>1726</th>\n",
       "      <td>Gd</td>\n",
       "      <td>TA</td>\n",
       "      <td>NA</td>\n",
       "      <td>Unf</td>\n",
       "      <td>0.0</td>\n",
       "      <td>Unf</td>\n",
       "      <td>0.0</td>\n",
       "      <td>936.0</td>\n",
       "      <td>936.0</td>\n",
       "      <td>0.0</td>\n",
       "      <td>0.0</td>\n",
       "    </tr>\n",
       "  </tbody>\n",
       "</table>\n",
       "</div>"
      ],
      "text/plain": [
       "     Bsmt Qual Bsmt Cond Bsmt Exposure BsmtFin Type 1  BsmtFin SF 1  \\\n",
       "875         Gd        TA            NA            Unf           0.0   \n",
       "1681        Gd        TA            NA            Unf           0.0   \n",
       "1726        Gd        TA            NA            Unf           0.0   \n",
       "\n",
       "     BsmtFin Type 2  BsmtFin SF 2  Bsmt Unf SF  Total Bsmt SF  Bsmt Full Bath  \\\n",
       "875             Unf           0.0       1595.0         1595.0             0.0   \n",
       "1681            Unf           0.0        725.0          725.0             0.0   \n",
       "1726            Unf           0.0        936.0          936.0             0.0   \n",
       "\n",
       "      Bsmt Half Bath  \n",
       "875              0.0  \n",
       "1681             0.0  \n",
       "1726             0.0  "
      ]
     },
     "execution_count": 22,
     "metadata": {},
     "output_type": "execute_result"
    }
   ],
   "source": [
    "data_df.loc[(data_df['Bsmt Cond']!= 'NA') & (data_df['Bsmt Qual'] !='NA') & (data_df['Bsmt Exposure']== 'NA') ][bsmt_col]"
   ]
  },
  {
   "cell_type": "code",
   "execution_count": 23,
   "id": "eee4ccce",
   "metadata": {},
   "outputs": [],
   "source": [
    "# 3 Exposures at \"NA\" (no basement) instead \"No\" (no exposure)\n",
    "for i in data_df.loc[(data_df['Bsmt Cond']!= 'NA') & (data_df['Bsmt Qual'] !='NA') & (data_df['Bsmt Exposure']== 'NA') ].index:\n",
    "    data_df.iloc[i, data_df.columns.get_loc('Bsmt Exposure')] = \"No\""
   ]
  },
  {
   "cell_type": "code",
   "execution_count": 24,
   "id": "8bb329f2",
   "metadata": {},
   "outputs": [
    {
     "name": "stdout",
     "output_type": "stream",
     "text": [
      "Bsmt Qual  : 71\n",
      "Bsmt Cond  : 71\n",
      "Bsmt Exposure  : 71\n",
      "BsmtFin Type 1  : 71\n",
      "BsmtFin SF 1  : 774\n",
      "BsmtFin Type 2  : 72\n",
      "BsmtFin SF 2  : 2136\n",
      "Bsmt Unf SF  : 211\n",
      "Total Bsmt SF  : 71\n",
      "Bsmt Full Bath  : 1414\n",
      "Bsmt Half Bath  : 2287\n"
     ]
    },
    {
     "name": "stderr",
     "output_type": "stream",
     "text": [
      "C:\\Users\\lyeso\\anaconda3\\envs\\exts-ml\\lib\\site-packages\\pandas\\core\\ops.py:1649: FutureWarning: elementwise comparison failed; returning scalar instead, but in the future will perform elementwise comparison\n",
      "  result = method(y)\n"
     ]
    }
   ],
   "source": [
    "for col in bsmt_col:\n",
    "    print(col,' :',len(data_df.loc[(data_df[col] == 'NA') | (data_df[col] == 0)]))\n",
    "    "
   ]
  },
  {
   "cell_type": "code",
   "execution_count": 25,
   "id": "f1c7958d",
   "metadata": {},
   "outputs": [
    {
     "data": {
      "text/html": [
       "<div>\n",
       "<style scoped>\n",
       "    .dataframe tbody tr th:only-of-type {\n",
       "        vertical-align: middle;\n",
       "    }\n",
       "\n",
       "    .dataframe tbody tr th {\n",
       "        vertical-align: top;\n",
       "    }\n",
       "\n",
       "    .dataframe thead th {\n",
       "        text-align: right;\n",
       "    }\n",
       "</style>\n",
       "<table border=\"1\" class=\"dataframe\">\n",
       "  <thead>\n",
       "    <tr style=\"text-align: right;\">\n",
       "      <th></th>\n",
       "      <th>Bsmt Qual</th>\n",
       "      <th>Bsmt Cond</th>\n",
       "      <th>Bsmt Exposure</th>\n",
       "      <th>BsmtFin Type 1</th>\n",
       "      <th>BsmtFin SF 1</th>\n",
       "      <th>BsmtFin Type 2</th>\n",
       "      <th>BsmtFin SF 2</th>\n",
       "      <th>Bsmt Unf SF</th>\n",
       "      <th>Total Bsmt SF</th>\n",
       "      <th>Bsmt Full Bath</th>\n",
       "      <th>Bsmt Half Bath</th>\n",
       "    </tr>\n",
       "  </thead>\n",
       "  <tbody>\n",
       "  </tbody>\n",
       "</table>\n",
       "</div>"
      ],
      "text/plain": [
       "Empty DataFrame\n",
       "Columns: [Bsmt Qual, Bsmt Cond, Bsmt Exposure, BsmtFin Type 1, BsmtFin SF 1, BsmtFin Type 2, BsmtFin SF 2, Bsmt Unf SF, Total Bsmt SF, Bsmt Full Bath, Bsmt Half Bath]\n",
       "Index: []"
      ]
     },
     "execution_count": 25,
     "metadata": {},
     "output_type": "execute_result"
    }
   ],
   "source": [
    "# Check if total Basement Square Feet = the sum of all surfaces\n",
    "data_df.loc[(data_df['Total Bsmt SF']) != (data_df['Bsmt Unf SF']+data_df['BsmtFin SF 1']+data_df['BsmtFin SF 2'])][bsmt_col]"
   ]
  },
  {
   "cell_type": "markdown",
   "id": "ce2c91df",
   "metadata": {},
   "source": [
    "**Eventually, Basement Columns look consistent to one another and possibly only 71 properties without Basements.**"
   ]
  },
  {
   "cell_type": "markdown",
   "id": "7a00a56a",
   "metadata": {},
   "source": [
    "<div class=\"alert alert-block alert-info\">\n",
    "\n",
    "Fireplace"
   ]
  },
  {
   "cell_type": "code",
   "execution_count": 26,
   "id": "c56bb8be",
   "metadata": {},
   "outputs": [
    {
     "data": {
      "text/plain": [
       "Index(['Fireplaces', 'Fireplace Qu'], dtype='object')"
      ]
     },
     "execution_count": 26,
     "metadata": {},
     "output_type": "execute_result"
    }
   ],
   "source": [
    "# Fireplace columns\n",
    "fire_col = data_df.iloc[:, lambda df:df.columns.str.contains('Fire', case=False)].columns\n",
    "fire_col\n"
   ]
  },
  {
   "cell_type": "code",
   "execution_count": 27,
   "id": "105e58a8",
   "metadata": {},
   "outputs": [
    {
     "data": {
      "text/html": [
       "<div>\n",
       "<style scoped>\n",
       "    .dataframe tbody tr th:only-of-type {\n",
       "        vertical-align: middle;\n",
       "    }\n",
       "\n",
       "    .dataframe tbody tr th {\n",
       "        vertical-align: top;\n",
       "    }\n",
       "\n",
       "    .dataframe thead th {\n",
       "        text-align: right;\n",
       "    }\n",
       "</style>\n",
       "<table border=\"1\" class=\"dataframe\">\n",
       "  <thead>\n",
       "    <tr style=\"text-align: right;\">\n",
       "      <th></th>\n",
       "      <th>Fireplaces</th>\n",
       "      <th>Fireplace Qu</th>\n",
       "    </tr>\n",
       "  </thead>\n",
       "  <tbody>\n",
       "  </tbody>\n",
       "</table>\n",
       "</div>"
      ],
      "text/plain": [
       "Empty DataFrame\n",
       "Columns: [Fireplaces, Fireplace Qu]\n",
       "Index: []"
      ]
     },
     "execution_count": 27,
     "metadata": {},
     "output_type": "execute_result"
    }
   ],
   "source": [
    "data_df.loc[(data_df['Fireplaces'] != 0) & (data_df['Fireplace Qu'] =='NA') ][fire_col]"
   ]
  },
  {
   "cell_type": "code",
   "execution_count": 28,
   "id": "b0b22397",
   "metadata": {},
   "outputs": [
    {
     "name": "stdout",
     "output_type": "stream",
     "text": [
      "Fireplaces  : 1186\n",
      "Fireplace Qu  : 1186\n"
     ]
    }
   ],
   "source": [
    "for col in fire_col:\n",
    "    print(col,' :',len(data_df.loc[(data_df[col] == 'NA') | (data_df[col] == 0)]))"
   ]
  },
  {
   "cell_type": "markdown",
   "id": "1bec1f16",
   "metadata": {},
   "source": [
    "**Fireplace are consistent to one another, half of the properties don't have them.**"
   ]
  },
  {
   "cell_type": "markdown",
   "id": "695ab1ba",
   "metadata": {},
   "source": [
    "<div class=\"alert alert-block alert-info\">\n",
    "\n",
    "Garage"
   ]
  },
  {
   "cell_type": "code",
   "execution_count": 29,
   "id": "16c290ed",
   "metadata": {},
   "outputs": [
    {
     "data": {
      "text/plain": [
       "Index(['Garage Type', 'Garage Yr Blt', 'Garage Finish', 'Garage Cars',\n",
       "       'Garage Area', 'Garage Qual', 'Garage Cond'],\n",
       "      dtype='object')"
      ]
     },
     "execution_count": 29,
     "metadata": {},
     "output_type": "execute_result"
    }
   ],
   "source": [
    "# Garage columns\n",
    "garage_col = data_df.iloc[:, lambda df:df.columns.str.contains('Gara', case=False)].columns\n",
    "garage_col\n"
   ]
  },
  {
   "cell_type": "code",
   "execution_count": 30,
   "id": "97776632",
   "metadata": {},
   "outputs": [
    {
     "name": "stdout",
     "output_type": "stream",
     "text": [
      "Garage Type  : 136\n",
      "Garage Yr Blt  : 138\n",
      "Garage Finish  : 138\n",
      "Garage Cars  : 137\n",
      "Garage Area  : 137\n",
      "Garage Qual  : 138\n",
      "Garage Cond  : 138\n"
     ]
    }
   ],
   "source": [
    "for col in garage_col:\n",
    "    print(col,' :',len(data_df.loc[(data_df[col] == 'NA') | (data_df[col] == 0) | (data_df[col].isnull())]))"
   ]
  },
  {
   "cell_type": "markdown",
   "id": "fdcd2467",
   "metadata": {},
   "source": [
    "**Garage are fairly consistent to one another, half of the properties don't have them.**\n",
    "Only one missing Garage Type"
   ]
  },
  {
   "cell_type": "markdown",
   "id": "6dc8f696",
   "metadata": {},
   "source": [
    "<div class=\"alert alert-block alert-info\">\n",
    "\n",
    "Pool"
   ]
  },
  {
   "cell_type": "code",
   "execution_count": 31,
   "id": "8eb06502",
   "metadata": {},
   "outputs": [
    {
     "data": {
      "text/plain": [
       "Index(['Pool Area', 'Pool QC'], dtype='object')"
      ]
     },
     "execution_count": 31,
     "metadata": {},
     "output_type": "execute_result"
    }
   ],
   "source": [
    "# Garage columns\n",
    "pool_col = data_df.iloc[:, lambda df:df.columns.str.contains('Pool', case=False)].columns\n",
    "pool_col"
   ]
  },
  {
   "cell_type": "code",
   "execution_count": 32,
   "id": "64570143",
   "metadata": {},
   "outputs": [
    {
     "name": "stdout",
     "output_type": "stream",
     "text": [
      "Pool Area  : 2418\n",
      "Pool QC  : 2418\n"
     ]
    }
   ],
   "source": [
    "for col in pool_col:\n",
    "    print(col,' :',len(data_df.loc[(data_df[col] == 'NA') | (data_df[col] == 0)]))"
   ]
  },
  {
   "cell_type": "code",
   "execution_count": 33,
   "id": "cd16033b",
   "metadata": {},
   "outputs": [
    {
     "name": "stdout",
     "output_type": "stream",
     "text": [
      "Pool Area  : [  0 648 555 228 144 519 561 480 512 576 444 800 368]\n",
      "Pool QC  : ['NA' 'Fa' 'Ex' 'TA' 'Gd']\n"
     ]
    }
   ],
   "source": [
    "# Print each value for all ordinal columns\n",
    "for col in pool_col:\n",
    "    print(col,' :',data_df[col].unique())"
   ]
  },
  {
   "cell_type": "markdown",
   "id": "72120012",
   "metadata": {},
   "source": [
    "**Most houses don't have a Pool, but it can still be relevant for the price**"
   ]
  },
  {
   "cell_type": "markdown",
   "id": "236494e0",
   "metadata": {},
   "source": [
    "### Outliers for continuous data\n",
    "\n",
    "Quick look at the distribution with $np.log1p()$"
   ]
  },
  {
   "cell_type": "code",
   "execution_count": null,
   "id": "72e360b4",
   "metadata": {},
   "outputs": [],
   "source": []
  },
  {
   "cell_type": "code",
   "execution_count": 34,
   "id": "e6eb76e7",
   "metadata": {},
   "outputs": [
    {
     "data": {
      "image/png": "[encoded data removed]",
      "text/plain": [
       "<Figure size 1080x1656 with 40 Axes>"
      ]
     },
     "metadata": {
      "needs_background": "light"
     },
     "output_type": "display_data"
    }
   ],
   "source": [
    "# 20 subplots of all continuous data\n",
    "fig, axes = plt.subplots(\n",
    "    10, 4 ,gridspec_kw={\"height_ratios\": (0.8, 0.2, 0.8, 0.2, 0.8, 0.2, 0.8, 0.2, 0.8 ,0.2)}, figsize=(15,23)\n",
    ")\n",
    "# pairing feature with column in plot\n",
    "for row, i in zip([0,2,4,6,8],[0,1,2,3,4])  :\n",
    "\n",
    "    for (feat, plot_col) in zip(continuous_col[0+4*i:4+4*i], [0,1,2,3]  ):\n",
    "\n",
    "        axes[0+row, plot_col].hist(np.log1p(data_df[feat]), bins=50)\n",
    "        axes[0+row, plot_col].set_title(\"{}\".format(feat))\n",
    "        sns.despine(ax=axes[0+row, plot_col])\n",
    "        sns.boxplot(np.log1p(data_df[feat]), ax=axes[1+row, plot_col], fliersize=2)\n",
    "        axes[1+row, plot_col].set(yticks=[])\n",
    "        #axes[1+row, plot_col].set_title(\"{}\".format(data_df[feat].median))\n",
    "        sns.despine(ax=axes[1+row, plot_col], left=True)\n",
    "\n",
    "    for ax in axes.flatten():\n",
    "        ax.set_xlabel(\"\")\n",
    "plt.tight_layout()\n",
    "plt.show()"
   ]
  },
  {
   "cell_type": "code",
   "execution_count": 35,
   "id": "e487e546",
   "metadata": {},
   "outputs": [
    {
     "data": {
      "text/plain": [
       "count    2430.000000\n",
       "mean        2.401235\n",
       "std        36.111988\n",
       "min         0.000000\n",
       "25%         0.000000\n",
       "50%         0.000000\n",
       "75%         0.000000\n",
       "max       800.000000\n",
       "Name: Pool Area, dtype: float64"
      ]
     },
     "execution_count": 35,
     "metadata": {},
     "output_type": "execute_result"
    }
   ],
   "source": [
    "data_df['Pool Area'].describe()\n"
   ]
  },
  {
   "cell_type": "markdown",
   "id": "6685b68c",
   "metadata": {},
   "source": [
    "<div class=\"alert alert-block alert-danger\">\n",
    "\n",
    "\n",
    "### My feeling about what I would mathematically consider outliers with z-score, would impact the Sales Price greatly.\n",
    "For example, houses with a pool or a 3-Season Porch are z-score outliers but at the same time, are probably more expensive and impacted by the presence of a pool.\n",
    "    \n",
    "I am not convinced a mathematical outlier removal makes sense, I would rather check \"visually\" those outliers. Indeed, many outliers could be specific case.\n",
    "    \n",
    "### First let's try z-score on each column with a visually \"Normal Distribution\" excluding the 0\n"
   ]
  },
  {
   "cell_type": "markdown",
   "id": "28badb12",
   "metadata": {},
   "source": [
    "### Let's see if these continuous features have a strong \"correlation\" with the Sale Price. "
   ]
  },
  {
   "cell_type": "code",
   "execution_count": 93,
   "id": "753fadef",
   "metadata": {},
   "outputs": [
    {
     "data": {
      "image/png": "[encoded data removed]",
      "text/plain": [
       "<Figure size 864x1152 with 2 Axes>"
      ]
     },
     "metadata": {
      "needs_background": "light"
     },
     "output_type": "display_data"
    }
   ],
   "source": [
    "# check correlations between continuous data, ordinal(if numerical) and sales price\n",
    "\n",
    "df_corr = data_df[continuous_col + ordinal_col +['SalePrice']  ].corr(method='pearson').round(2)\n",
    "\n",
    "plt.figure(figsize=(12, 16))\n",
    "sns.heatmap(df_corr, \n",
    "            xticklabels=df_corr.columns,\n",
    "            yticklabels=df_corr.columns,\n",
    "            cmap='YlGnBu',\n",
    "            annot=True,\n",
    "            linewidth=0.3);\n",
    "# blue is better, positive influence"
   ]
  },
  {
   "cell_type": "code",
   "execution_count": null,
   "id": "05ca901f",
   "metadata": {},
   "outputs": [],
   "source": []
  },
  {
   "cell_type": "markdown",
   "id": "832e9d6f",
   "metadata": {},
   "source": [
    "<div class=\"alert alert-block alert-info\">\n",
    "\n",
    "\n",
    "### Let's plot the most correlated columns with Sales Price to have a good understanding of the dataset"
   ]
  },
  {
   "cell_type": "code",
   "execution_count": 88,
   "id": "d433452b",
   "metadata": {},
   "outputs": [
    {
     "data": {
      "image/png": "[encoded data removed]",
      "text/plain": [
       "<Figure size 360x1800 with 5 Axes>"
      ]
     },
     "metadata": {
      "needs_background": "light"
     },
     "output_type": "display_data"
    }
   ],
   "source": [
    "fig, axes = plt.subplots(nrows=5, ncols=1, figsize=(5, 25))\n",
    "\n",
    "for col, ax in zip(['Overall Qual','Gr Liv Area', '1st Flr SF','Garage Area','Mas Vnr Area'],axes.ravel()):\n",
    "    ax.scatter(data_df[col], data_df['SalePrice'])\n",
    "    ax.set_title(col)"
   ]
  },
  {
   "cell_type": "markdown",
   "id": "69d095a1",
   "metadata": {},
   "source": [
    "<div class=\"alert alert-block alert-success\">\n",
    "\n",
    "### Overall Quality seems to be very well connected to the Sales Price, which makes sense as it must depend on other variables. Colinearity Possible ?"
   ]
  },
  {
   "cell_type": "code",
   "execution_count": 92,
   "id": "c1cb0450",
   "metadata": {},
   "outputs": [
    {
     "data": {
      "image/png": "[encoded data removed]",
      "text/plain": [
       "<Figure size 432x288 with 1 Axes>"
      ]
     },
     "metadata": {
      "needs_background": "light"
     },
     "output_type": "display_data"
    }
   ],
   "source": [
    "sns.scatterplot(data_df['Gr Liv Area'], data_df['SalePrice'], hue = data_df['Overall Qual'])\n",
    "plt.show()"
   ]
  },
  {
   "cell_type": "markdown",
   "id": "ed8820a8",
   "metadata": {},
   "source": [
    "# Feature Engineering : Ordinal Encoding"
   ]
  },
  {
   "cell_type": "markdown",
   "id": "9dbd0a1d",
   "metadata": {},
   "source": [
    "### Let's encode ordinal columns based on the documentation.txt and what I would consider more important or valuable in a property\n"
   ]
  },
  {
   "cell_type": "code",
   "execution_count": 38,
   "id": "ab1c7daf",
   "metadata": {},
   "outputs": [
    {
     "name": "stdout",
     "output_type": "stream",
     "text": [
      "Lot Shape  : ['IR1' 'Reg' 'IR2' 'IR3']\n",
      "Utilities  : ['AllPub' 'NoSewr' 'NoSeWa']\n",
      "Land Slope  : ['Gtl' 'Mod' 'Sev']\n",
      "Overall Qual  : [ 7  6  4  5  8  9 10  3  1  2]\n",
      "Overall Cond  : [5 6 4 8 7 1 9 3 2]\n",
      "Exter Qual  : ['Gd' 'TA' 'Fa' 'Ex']\n",
      "Exter Cond  : ['TA' 'Gd' 'Fa' 'Ex' 'Po']\n",
      "Bsmt Qual  : ['Gd' 'TA' 'Ex' 'NA' 'Fa' 'Po']\n",
      "Bsmt Cond  : ['TA' 'Gd' 'Fa' 'NA' 'Ex' 'Po']\n",
      "Bsmt Exposure  : ['No' 'Av' 'Mn' 'Gd' 'NA']\n",
      "BsmtFin Type 1  : ['GLQ' 'Unf' 'Rec' 'LwQ' 'BLQ' 'ALQ' 'NA']\n",
      "BsmtFin Type 2  : ['Unf' 'LwQ' 'BLQ' 'NA' 'Rec' 'ALQ' 'GLQ']\n",
      "Heating QC  : ['Ex' 'TA' 'Fa' 'Gd' 'Po']\n",
      "Electrical  : ['SBrkr' 'FuseF' 'FuseA' 'FuseP' 'Mix']\n",
      "Kitchen Qual  : ['Gd' 'TA' 'Ex' 'Fa' 'Po']\n",
      "Functional  : ['Typ' 'Mod' 'Maj1' 'Min2' 'Min1' 'Maj2' 'Sal' 'Sev']\n",
      "Fireplace Qu  : ['TA' 'Gd' 'NA' 'Fa' 'Po' 'Ex']\n",
      "Garage Finish  : ['Fin' 'Unf' 'RFn' 'NA']\n",
      "Garage Qual  : ['TA' 'Fa' 'NA' 'Gd' 'Ex' 'Po']\n",
      "Garage Cond  : ['TA' 'NA' 'Fa' 'Gd' 'Ex' 'Po']\n",
      "Paved Drive  : ['Y' 'N' 'P']\n",
      "Pool QC  : ['NA' 'Fa' 'Ex' 'TA' 'Gd']\n",
      "Fence  : ['NA' 'MnPrv' 'MnWw' 'GdPrv' 'GdWo']\n"
     ]
    }
   ],
   "source": [
    "# Print each value for all ordinal columns\n",
    "for col in ordinal_col:\n",
    "    print(col,' :',data_df[col].unique())\n"
   ]
  },
  {
   "cell_type": "code",
   "execution_count": 39,
   "id": "4d7fa913",
   "metadata": {},
   "outputs": [],
   "source": [
    "# create a mapping based on \"personal\" values : example, better to have \"all utilities\" = 8,  much more valuable than no Sewer and no water = 3\n",
    "\n",
    "map_ordinal =  [{\"col\":\"Lot Shape\", \"mapping\": {'Reg':5, 'IR1':3, 'IR2':2, 'IR3':1  }},\n",
    "                {\"col\":\"Utilities\", \"mapping\": {'AllPub':8, 'NoSewr':6, 'NoSeWa':3, 'ELO':1  }},\n",
    "                {\"col\":\"Land Slope\",\"mapping\": {'Gtl':5, 'Mod':3, 'Sev':1  }},\n",
    "                {\"col\":\"Exter Qual\",\"mapping\": {'Ex':5, 'Gd':4, 'TA':3, 'Fa':2, 'Po':1  }},\n",
    "                {\"col\":\"Exter Cond\",\"mapping\": {'Ex':5,'Gd':4, 'TA':3, 'Fa':2, 'Po':1  }},\n",
    "                {\"col\":\"Bsmt Qual\", \"mapping\": {'Ex':5, 'Gd':4, 'TA':3, 'Fa':2, 'Po':1, 'NA':0  }},\n",
    "                {\"col\":\"Bsmt Cond\", \"mapping\": {'Ex':5, 'Gd':4, 'TA':3, 'Fa':2, 'Po':1, 'NA':0  }},\n",
    "                {\"col\":\"Bsmt Exposure\",\"mapping\": {'Gd':5, 'Av':4, 'Mn':3, 'No':1, 'NA':0  }},\n",
    "                {\"col\":\"BsmtFin Type 1\",\"mapping\": {'GLQ':8, 'ALQ':6, 'BLQ':4, 'Rec':3, 'LwQ':2, 'Unf':1, 'NA':0  }},\n",
    "                {\"col\":\"BsmtFin Type 2\",\"mapping\": {'GLQ':8, 'ALQ':6, 'BLQ':4, 'Rec':3, 'LwQ':2, 'Unf':1, 'NA':0  }},\n",
    "                {\"col\":\"Heating QC\",\"mapping\": {'Ex':5, 'Gd':4, 'TA':3, 'Fa':2, 'Po':1  }},\n",
    "                {\"col\":\"Electrical\",\"mapping\": {'SBrkr':5, 'FuseA':4, 'FuseF':3, 'FuseP':2, 'Mix':1  }},\n",
    "                {\"col\":\"Kitchen Qual\",\"mapping\": {'Ex':5, 'Gd':4, 'TA':3, 'Fa':2, 'Po':1  }},\n",
    "                {\"col\":\"Functional\",\"mapping\": {'Typ':10, 'Min1':9, 'Min2':8, 'Mod':7, 'Maj1':5, 'Maj2':4, 'Sev':2, 'Sal':1 }},\n",
    "                {\"col\":\"Fireplace Qu\",\"mapping\": {'Ex':5, 'Gd':4, 'TA':3, 'Fa':2, 'Po':1, 'NA':0  }},\n",
    "                {\"col\":\"Garage Finish\", \"mapping\": {'Fin':5, 'RFn':3, 'Unf':1, 'NA':0  }},\n",
    "                {\"col\":\"Garage Qual\",\"mapping\": {'Ex':5, 'Gd':4, 'TA':3, 'Fa':2, 'Po':1, 'NA':0  }},\n",
    "                {\"col\":\"Garage Cond\",\"mapping\": {'Ex':5, 'Gd':4, 'TA':3, 'Fa':2, 'Po':1, 'NA':0  }},\n",
    "                {\"col\":\"Paved Drive\",\"mapping\": {'Y':5, 'P':3, 'N':1  }},\n",
    "                {\"col\":\"Pool QC\",\"mapping\": {'Ex':5, 'Gd':4, 'TA':3, 'Fa':2, 'NA':0 }},\n",
    "                {\"col\":\"Fence\",\"mapping\": {'GdPrv':5, 'MnPrv':4, 'GdWo':3, 'MnWw':2, 'NA':0  }}]\n",
    "\n"
   ]
  },
  {
   "cell_type": "markdown",
   "id": "1bdc083b",
   "metadata": {},
   "source": [
    "### I installed another category_encoders which can use \"mapping\" : conda install -c conda-forge category_encoders\n",
    "\n",
    "Scikit learn OrdinalEncoder seems less practical for the mapping and returns a dataframe, found this one here : https://github.com/scikit-learn-contrib/category_encoders/issues/228"
   ]
  },
  {
   "cell_type": "code",
   "execution_count": 102,
   "id": "273a89d1",
   "metadata": {},
   "outputs": [],
   "source": [
    "from category_encoders.ordinal import OrdinalEncoder\n",
    "\n",
    "# Handle ordinal variables\n",
    "ordinal_encoder = OrdinalEncoder(mapping = map_ordinal, \n",
    "                         return_df = True)  \n",
    "\n"
   ]
  },
  {
   "cell_type": "code",
   "execution_count": 163,
   "id": "cb1c34a6",
   "metadata": {},
   "outputs": [],
   "source": [
    "# test Ordinal Enconding in a new dataframe :\n",
    "encoded_df = ordinal_encoder.fit_transform(data_df)\n"
   ]
  },
  {
   "cell_type": "markdown",
   "id": "ee47f728",
   "metadata": {},
   "source": [
    "### One hot encoding"
   ]
  },
  {
   "cell_type": "code",
   "execution_count": 108,
   "id": "c3322f52",
   "metadata": {},
   "outputs": [],
   "source": [
    "from sklearn.preprocessing import OneHotEncoder as ohe\n",
    "from sklearn.compose import ColumnTransformer\n",
    "\n",
    "# Handle nominal variables\n",
    "nominal_transformer = ohe(handle_unknown='ignore', sparse = False)\n",
    "\n",
    "# df_nominal = nominal_transformer.fit_transform(data_df[nominal_col])\n",
    "# df_nominal.shape\n"
   ]
  },
  {
   "cell_type": "code",
   "execution_count": 113,
   "id": "d5e9d7d9",
   "metadata": {},
   "outputs": [
    {
     "data": {
      "text/html": [
       "<div>\n",
       "<style scoped>\n",
       "    .dataframe tbody tr th:only-of-type {\n",
       "        vertical-align: middle;\n",
       "    }\n",
       "\n",
       "    .dataframe tbody tr th {\n",
       "        vertical-align: top;\n",
       "    }\n",
       "\n",
       "    .dataframe thead th {\n",
       "        text-align: right;\n",
       "    }\n",
       "</style>\n",
       "<table border=\"1\" class=\"dataframe\">\n",
       "  <thead>\n",
       "    <tr style=\"text-align: right;\">\n",
       "      <th></th>\n",
       "      <th>Order</th>\n",
       "      <th>PID</th>\n",
       "      <th>MS SubClass</th>\n",
       "      <th>MS Zoning_RL</th>\n",
       "      <th>MS Zoning_RM</th>\n",
       "      <th>MS Zoning_FV</th>\n",
       "      <th>MS Zoning_I (all)</th>\n",
       "      <th>MS Zoning_C (all)</th>\n",
       "      <th>MS Zoning_RH</th>\n",
       "      <th>MS Zoning_A (agr)</th>\n",
       "      <th>...</th>\n",
       "      <th>Sale Type_Con</th>\n",
       "      <th>Sale Type_ConLw</th>\n",
       "      <th>Sale Type_VWD</th>\n",
       "      <th>Sale Condition_Normal</th>\n",
       "      <th>Sale Condition_Family</th>\n",
       "      <th>Sale Condition_Partial</th>\n",
       "      <th>Sale Condition_Abnorml</th>\n",
       "      <th>Sale Condition_Alloca</th>\n",
       "      <th>Sale Condition_AdjLand</th>\n",
       "      <th>SalePrice</th>\n",
       "    </tr>\n",
       "  </thead>\n",
       "  <tbody>\n",
       "    <tr>\n",
       "      <th>0</th>\n",
       "      <td>484</td>\n",
       "      <td>528275070</td>\n",
       "      <td>60</td>\n",
       "      <td>1</td>\n",
       "      <td>0</td>\n",
       "      <td>0</td>\n",
       "      <td>0</td>\n",
       "      <td>0</td>\n",
       "      <td>0</td>\n",
       "      <td>0</td>\n",
       "      <td>...</td>\n",
       "      <td>0</td>\n",
       "      <td>0</td>\n",
       "      <td>0</td>\n",
       "      <td>1</td>\n",
       "      <td>0</td>\n",
       "      <td>0</td>\n",
       "      <td>0</td>\n",
       "      <td>0</td>\n",
       "      <td>0</td>\n",
       "      <td>236000</td>\n",
       "    </tr>\n",
       "    <tr>\n",
       "      <th>1</th>\n",
       "      <td>2586</td>\n",
       "      <td>535305120</td>\n",
       "      <td>20</td>\n",
       "      <td>1</td>\n",
       "      <td>0</td>\n",
       "      <td>0</td>\n",
       "      <td>0</td>\n",
       "      <td>0</td>\n",
       "      <td>0</td>\n",
       "      <td>0</td>\n",
       "      <td>...</td>\n",
       "      <td>0</td>\n",
       "      <td>0</td>\n",
       "      <td>0</td>\n",
       "      <td>1</td>\n",
       "      <td>0</td>\n",
       "      <td>0</td>\n",
       "      <td>0</td>\n",
       "      <td>0</td>\n",
       "      <td>0</td>\n",
       "      <td>155000</td>\n",
       "    </tr>\n",
       "    <tr>\n",
       "      <th>2</th>\n",
       "      <td>2289</td>\n",
       "      <td>923228250</td>\n",
       "      <td>160</td>\n",
       "      <td>0</td>\n",
       "      <td>1</td>\n",
       "      <td>0</td>\n",
       "      <td>0</td>\n",
       "      <td>0</td>\n",
       "      <td>0</td>\n",
       "      <td>0</td>\n",
       "      <td>...</td>\n",
       "      <td>0</td>\n",
       "      <td>0</td>\n",
       "      <td>0</td>\n",
       "      <td>1</td>\n",
       "      <td>0</td>\n",
       "      <td>0</td>\n",
       "      <td>0</td>\n",
       "      <td>0</td>\n",
       "      <td>0</td>\n",
       "      <td>75000</td>\n",
       "    </tr>\n",
       "    <tr>\n",
       "      <th>3</th>\n",
       "      <td>142</td>\n",
       "      <td>535152150</td>\n",
       "      <td>20</td>\n",
       "      <td>1</td>\n",
       "      <td>0</td>\n",
       "      <td>0</td>\n",
       "      <td>0</td>\n",
       "      <td>0</td>\n",
       "      <td>0</td>\n",
       "      <td>0</td>\n",
       "      <td>...</td>\n",
       "      <td>0</td>\n",
       "      <td>0</td>\n",
       "      <td>0</td>\n",
       "      <td>1</td>\n",
       "      <td>0</td>\n",
       "      <td>0</td>\n",
       "      <td>0</td>\n",
       "      <td>0</td>\n",
       "      <td>0</td>\n",
       "      <td>165500</td>\n",
       "    </tr>\n",
       "    <tr>\n",
       "      <th>4</th>\n",
       "      <td>2042</td>\n",
       "      <td>903475060</td>\n",
       "      <td>190</td>\n",
       "      <td>0</td>\n",
       "      <td>1</td>\n",
       "      <td>0</td>\n",
       "      <td>0</td>\n",
       "      <td>0</td>\n",
       "      <td>0</td>\n",
       "      <td>0</td>\n",
       "      <td>...</td>\n",
       "      <td>0</td>\n",
       "      <td>0</td>\n",
       "      <td>0</td>\n",
       "      <td>1</td>\n",
       "      <td>0</td>\n",
       "      <td>0</td>\n",
       "      <td>0</td>\n",
       "      <td>0</td>\n",
       "      <td>0</td>\n",
       "      <td>122000</td>\n",
       "    </tr>\n",
       "  </tbody>\n",
       "</table>\n",
       "<p>5 rows × 232 columns</p>\n",
       "</div>"
      ],
      "text/plain": [
       "   Order        PID  MS SubClass  MS Zoning_RL  MS Zoning_RM  MS Zoning_FV  \\\n",
       "0    484  528275070           60             1             0             0   \n",
       "1   2586  535305120           20             1             0             0   \n",
       "2   2289  923228250          160             0             1             0   \n",
       "3    142  535152150           20             1             0             0   \n",
       "4   2042  903475060          190             0             1             0   \n",
       "\n",
       "   MS Zoning_I (all)  MS Zoning_C (all)  MS Zoning_RH  MS Zoning_A (agr)  ...  \\\n",
       "0                  0                  0             0                  0  ...   \n",
       "1                  0                  0             0                  0  ...   \n",
       "2                  0                  0             0                  0  ...   \n",
       "3                  0                  0             0                  0  ...   \n",
       "4                  0                  0             0                  0  ...   \n",
       "\n",
       "   Sale Type_Con  Sale Type_ConLw  Sale Type_VWD  Sale Condition_Normal  \\\n",
       "0              0                0              0                      1   \n",
       "1              0                0              0                      1   \n",
       "2              0                0              0                      1   \n",
       "3              0                0              0                      1   \n",
       "4              0                0              0                      1   \n",
       "\n",
       "   Sale Condition_Family  Sale Condition_Partial  Sale Condition_Abnorml  \\\n",
       "0                      0                       0                       0   \n",
       "1                      0                       0                       0   \n",
       "2                      0                       0                       0   \n",
       "3                      0                       0                       0   \n",
       "4                      0                       0                       0   \n",
       "\n",
       "   Sale Condition_Alloca  Sale Condition_AdjLand  SalePrice  \n",
       "0                      0                       0     236000  \n",
       "1                      0                       0     155000  \n",
       "2                      0                       0      75000  \n",
       "3                      0                       0     165500  \n",
       "4                      0                       0     122000  \n",
       "\n",
       "[5 rows x 232 columns]"
      ]
     },
     "execution_count": 113,
     "metadata": {},
     "output_type": "execute_result"
    }
   ],
   "source": [
    "from category_encoders.one_hot import OneHotEncoder as ohe2\n",
    "\n",
    "nominal_transformer2 = ohe2(handle_unknown='ignore', return_df = True , use_cat_names = True, drop_invariant = True)\n",
    "\n",
    "encoded_df = nominal_transformer2.fit_transform(encoded_df)\n",
    "\n",
    "encoded_df.head()"
   ]
  },
  {
   "cell_type": "markdown",
   "id": "cf7f76b5",
   "metadata": {},
   "source": [
    "<div class=\"alert alert-block alert-danger\">\n",
    "\n",
    "### Prepocessor with Column Transformer ?"
   ]
  },
  {
   "cell_type": "code",
   "execution_count": 133,
   "id": "edd7f61d",
   "metadata": {},
   "outputs": [],
   "source": [
    "# Create the column transformer\n",
    "preprocessor = ColumnTransformer([\n",
    "    ('nominal', nominal_transformer, nominal_col),\n",
    "    ('ordinal', ordinal_encoder, ordinal_col),\n",
    "], remainder='drop')\n"
   ]
  },
  {
   "cell_type": "code",
   "execution_count": 134,
   "id": "6f934b51",
   "metadata": {},
   "outputs": [
    {
     "data": {
      "text/plain": [
       "(2430, 211)"
      ]
     },
     "execution_count": 134,
     "metadata": {},
     "output_type": "execute_result"
    }
   ],
   "source": [
    "encoded_array = preprocessor.fit_transform(data_df)\n",
    "encoded_array.shape"
   ]
  },
  {
   "cell_type": "markdown",
   "id": "4528d708",
   "metadata": {},
   "source": [
    "<div class=\"alert alert-block alert-danger\">\n",
    "\n",
    "### My problem is working with a **numpy array** after the ColumnTransformer ! \n",
    "    \n",
    "### Let's create a  preprocessor = FunctionTransformer ?"
   ]
  },
  {
   "cell_type": "code",
   "execution_count": null,
   "id": "b3ebbb77",
   "metadata": {},
   "outputs": [],
   "source": []
  },
  {
   "cell_type": "markdown",
   "id": "a34062b0",
   "metadata": {},
   "source": [
    "# Split data"
   ]
  },
  {
   "cell_type": "code",
   "execution_count": 166,
   "id": "91983bb8",
   "metadata": {},
   "outputs": [],
   "source": [
    "# Split into train/test sets\n",
    "\n",
    "train_df, test_df = train_test_split(\n",
    "    encoded_df, train_size=0.5, test_size=0.5, random_state=8)"
   ]
  },
  {
   "cell_type": "code",
   "execution_count": 167,
   "id": "7a4c5cd7",
   "metadata": {},
   "outputs": [],
   "source": [
    "# Create X/y variables\n",
    "X_tr = train_df.drop('SalePrice', axis=1).values\n",
    "y_tr = train_df['SalePrice'].values\n",
    "\n",
    "X_te = test_df.drop('SalePrice', axis=1).values\n",
    "y_te = test_df['SalePrice'].values"
   ]
  },
  {
   "cell_type": "code",
   "execution_count": 169,
   "id": "ca7b7936",
   "metadata": {},
   "outputs": [
    {
     "ename": "ValueError",
     "evalue": "could not convert string to float: 'RL'",
     "output_type": "error",
     "traceback": [
      "\u001b[1;31m---------------------------------------------------------------------------\u001b[0m",
      "\u001b[1;31mValueError\u001b[0m                                Traceback (most recent call last)",
      "\u001b[1;32m<ipython-input-169-221106f73aa5>\u001b[0m in \u001b[0;36m<module>\u001b[1;34m\u001b[0m\n\u001b[0;32m      1\u001b[0m \u001b[0mridge\u001b[0m \u001b[1;33m=\u001b[0m \u001b[0mRidge\u001b[0m\u001b[1;33m(\u001b[0m\u001b[0malpha\u001b[0m \u001b[1;33m=\u001b[0m \u001b[1;36m0.0048\u001b[0m\u001b[1;33m,\u001b[0m \u001b[0mtol\u001b[0m \u001b[1;33m=\u001b[0m \u001b[1;36m1e-6\u001b[0m\u001b[1;33m)\u001b[0m\u001b[1;33m\u001b[0m\u001b[1;33m\u001b[0m\u001b[0m\n\u001b[0;32m      2\u001b[0m \u001b[1;33m\u001b[0m\u001b[0m\n\u001b[1;32m----> 3\u001b[1;33m \u001b[0mridge\u001b[0m\u001b[1;33m.\u001b[0m\u001b[0mfit\u001b[0m\u001b[1;33m(\u001b[0m\u001b[0mX_tr\u001b[0m\u001b[1;33m,\u001b[0m \u001b[0my_tr\u001b[0m\u001b[1;33m)\u001b[0m\u001b[1;33m\u001b[0m\u001b[1;33m\u001b[0m\u001b[0m\n\u001b[0m\u001b[0;32m      4\u001b[0m \u001b[0my_pred\u001b[0m \u001b[1;33m=\u001b[0m \u001b[0mridge\u001b[0m\u001b[1;33m.\u001b[0m\u001b[0mpredict\u001b[0m\u001b[1;33m(\u001b[0m\u001b[0mX_te\u001b[0m\u001b[1;33m)\u001b[0m\u001b[1;33m\u001b[0m\u001b[1;33m\u001b[0m\u001b[0m\n\u001b[0;32m      5\u001b[0m \u001b[1;33m\u001b[0m\u001b[0m\n",
      "\u001b[1;32m~\\anaconda3\\envs\\exts-ml\\lib\\site-packages\\sklearn\\linear_model\\ridge.py\u001b[0m in \u001b[0;36mfit\u001b[1;34m(self, X, y, sample_weight)\u001b[0m\n\u001b[0;32m    678\u001b[0m         \u001b[0mself\u001b[0m \u001b[1;33m:\u001b[0m \u001b[0mreturns\u001b[0m \u001b[0man\u001b[0m \u001b[0minstance\u001b[0m \u001b[0mof\u001b[0m \u001b[0mself\u001b[0m\u001b[1;33m.\u001b[0m\u001b[1;33m\u001b[0m\u001b[1;33m\u001b[0m\u001b[0m\n\u001b[0;32m    679\u001b[0m         \"\"\"\n\u001b[1;32m--> 680\u001b[1;33m         \u001b[1;32mreturn\u001b[0m \u001b[0msuper\u001b[0m\u001b[1;33m(\u001b[0m\u001b[0mRidge\u001b[0m\u001b[1;33m,\u001b[0m \u001b[0mself\u001b[0m\u001b[1;33m)\u001b[0m\u001b[1;33m.\u001b[0m\u001b[0mfit\u001b[0m\u001b[1;33m(\u001b[0m\u001b[0mX\u001b[0m\u001b[1;33m,\u001b[0m \u001b[0my\u001b[0m\u001b[1;33m,\u001b[0m \u001b[0msample_weight\u001b[0m\u001b[1;33m=\u001b[0m\u001b[0msample_weight\u001b[0m\u001b[1;33m)\u001b[0m\u001b[1;33m\u001b[0m\u001b[1;33m\u001b[0m\u001b[0m\n\u001b[0m\u001b[0;32m    681\u001b[0m \u001b[1;33m\u001b[0m\u001b[0m\n\u001b[0;32m    682\u001b[0m \u001b[1;33m\u001b[0m\u001b[0m\n",
      "\u001b[1;32m~\\anaconda3\\envs\\exts-ml\\lib\\site-packages\\sklearn\\linear_model\\ridge.py\u001b[0m in \u001b[0;36mfit\u001b[1;34m(self, X, y, sample_weight)\u001b[0m\n\u001b[0;32m    489\u001b[0m \u001b[1;33m\u001b[0m\u001b[0m\n\u001b[0;32m    490\u001b[0m         X, y = check_X_y(X, y, ['csr', 'csc', 'coo'], dtype=_dtype,\n\u001b[1;32m--> 491\u001b[1;33m                          multi_output=True, y_numeric=True)\n\u001b[0m\u001b[0;32m    492\u001b[0m \u001b[1;33m\u001b[0m\u001b[0m\n\u001b[0;32m    493\u001b[0m         if ((sample_weight is not None) and\n",
      "\u001b[1;32m~\\anaconda3\\envs\\exts-ml\\lib\\site-packages\\sklearn\\utils\\validation.py\u001b[0m in \u001b[0;36mcheck_X_y\u001b[1;34m(X, y, accept_sparse, accept_large_sparse, dtype, order, copy, force_all_finite, ensure_2d, allow_nd, multi_output, ensure_min_samples, ensure_min_features, y_numeric, warn_on_dtype, estimator)\u001b[0m\n\u001b[0;32m    754\u001b[0m                     \u001b[0mensure_min_features\u001b[0m\u001b[1;33m=\u001b[0m\u001b[0mensure_min_features\u001b[0m\u001b[1;33m,\u001b[0m\u001b[1;33m\u001b[0m\u001b[1;33m\u001b[0m\u001b[0m\n\u001b[0;32m    755\u001b[0m                     \u001b[0mwarn_on_dtype\u001b[0m\u001b[1;33m=\u001b[0m\u001b[0mwarn_on_dtype\u001b[0m\u001b[1;33m,\u001b[0m\u001b[1;33m\u001b[0m\u001b[1;33m\u001b[0m\u001b[0m\n\u001b[1;32m--> 756\u001b[1;33m                     estimator=estimator)\n\u001b[0m\u001b[0;32m    757\u001b[0m     \u001b[1;32mif\u001b[0m \u001b[0mmulti_output\u001b[0m\u001b[1;33m:\u001b[0m\u001b[1;33m\u001b[0m\u001b[1;33m\u001b[0m\u001b[0m\n\u001b[0;32m    758\u001b[0m         y = check_array(y, 'csr', force_all_finite=True, ensure_2d=False,\n",
      "\u001b[1;32m~\\anaconda3\\envs\\exts-ml\\lib\\site-packages\\sklearn\\utils\\validation.py\u001b[0m in \u001b[0;36mcheck_array\u001b[1;34m(array, accept_sparse, accept_large_sparse, dtype, order, copy, force_all_finite, ensure_2d, allow_nd, ensure_min_samples, ensure_min_features, warn_on_dtype, estimator)\u001b[0m\n\u001b[0;32m    525\u001b[0m             \u001b[1;32mtry\u001b[0m\u001b[1;33m:\u001b[0m\u001b[1;33m\u001b[0m\u001b[1;33m\u001b[0m\u001b[0m\n\u001b[0;32m    526\u001b[0m                 \u001b[0mwarnings\u001b[0m\u001b[1;33m.\u001b[0m\u001b[0msimplefilter\u001b[0m\u001b[1;33m(\u001b[0m\u001b[1;34m'error'\u001b[0m\u001b[1;33m,\u001b[0m \u001b[0mComplexWarning\u001b[0m\u001b[1;33m)\u001b[0m\u001b[1;33m\u001b[0m\u001b[1;33m\u001b[0m\u001b[0m\n\u001b[1;32m--> 527\u001b[1;33m                 \u001b[0marray\u001b[0m \u001b[1;33m=\u001b[0m \u001b[0mnp\u001b[0m\u001b[1;33m.\u001b[0m\u001b[0masarray\u001b[0m\u001b[1;33m(\u001b[0m\u001b[0marray\u001b[0m\u001b[1;33m,\u001b[0m \u001b[0mdtype\u001b[0m\u001b[1;33m=\u001b[0m\u001b[0mdtype\u001b[0m\u001b[1;33m,\u001b[0m \u001b[0morder\u001b[0m\u001b[1;33m=\u001b[0m\u001b[0morder\u001b[0m\u001b[1;33m)\u001b[0m\u001b[1;33m\u001b[0m\u001b[1;33m\u001b[0m\u001b[0m\n\u001b[0m\u001b[0;32m    528\u001b[0m             \u001b[1;32mexcept\u001b[0m \u001b[0mComplexWarning\u001b[0m\u001b[1;33m:\u001b[0m\u001b[1;33m\u001b[0m\u001b[1;33m\u001b[0m\u001b[0m\n\u001b[0;32m    529\u001b[0m                 raise ValueError(\"Complex data not supported\\n\"\n",
      "\u001b[1;32m~\\anaconda3\\envs\\exts-ml\\lib\\site-packages\\numpy\\core\\numeric.py\u001b[0m in \u001b[0;36masarray\u001b[1;34m(a, dtype, order)\u001b[0m\n\u001b[0;32m    499\u001b[0m \u001b[1;33m\u001b[0m\u001b[0m\n\u001b[0;32m    500\u001b[0m     \"\"\"\n\u001b[1;32m--> 501\u001b[1;33m     \u001b[1;32mreturn\u001b[0m \u001b[0marray\u001b[0m\u001b[1;33m(\u001b[0m\u001b[0ma\u001b[0m\u001b[1;33m,\u001b[0m \u001b[0mdtype\u001b[0m\u001b[1;33m,\u001b[0m \u001b[0mcopy\u001b[0m\u001b[1;33m=\u001b[0m\u001b[1;32mFalse\u001b[0m\u001b[1;33m,\u001b[0m \u001b[0morder\u001b[0m\u001b[1;33m=\u001b[0m\u001b[0morder\u001b[0m\u001b[1;33m)\u001b[0m\u001b[1;33m\u001b[0m\u001b[1;33m\u001b[0m\u001b[0m\n\u001b[0m\u001b[0;32m    502\u001b[0m \u001b[1;33m\u001b[0m\u001b[0m\n\u001b[0;32m    503\u001b[0m \u001b[1;33m\u001b[0m\u001b[0m\n",
      "\u001b[1;31mValueError\u001b[0m: could not convert string to float: 'RL'"
     ]
    }
   ],
   "source": [
    "ridge = Ridge(alpha = 0.0048, tol = 1e-6)\n",
    "\n",
    "ridge.fit(X_tr, y_tr)\n",
    "y_pred = ridge.predict(X_te)\n",
    "\n",
    "MAE(y_te, ridge.predict(X_te))"
   ]
  },
  {
   "cell_type": "code",
   "execution_count": 162,
   "id": "4b40f52a",
   "metadata": {},
   "outputs": [
    {
     "name": "stderr",
     "output_type": "stream",
     "text": [
      "C:\\Users\\lyeso\\anaconda3\\envs\\exts-ml\\lib\\site-packages\\sklearn\\linear_model\\ridge.py:125: LinAlgWarning: Ill-conditioned matrix (rcond=1.66552e-24): result may not be accurate.\n",
      "  overwrite_a=True).T\n",
      "C:\\Users\\lyeso\\anaconda3\\envs\\exts-ml\\lib\\site-packages\\sklearn\\linear_model\\ridge.py:125: LinAlgWarning: Ill-conditioned matrix (rcond=1.28922e-23): result may not be accurate.\n",
      "  overwrite_a=True).T\n",
      "C:\\Users\\lyeso\\anaconda3\\envs\\exts-ml\\lib\\site-packages\\sklearn\\linear_model\\ridge.py:125: LinAlgWarning: Ill-conditioned matrix (rcond=9.9629e-23): result may not be accurate.\n",
      "  overwrite_a=True).T\n",
      "C:\\Users\\lyeso\\anaconda3\\envs\\exts-ml\\lib\\site-packages\\sklearn\\linear_model\\ridge.py:125: LinAlgWarning: Ill-conditioned matrix (rcond=7.61526e-22): result may not be accurate.\n",
      "  overwrite_a=True).T\n",
      "C:\\Users\\lyeso\\anaconda3\\envs\\exts-ml\\lib\\site-packages\\sklearn\\linear_model\\ridge.py:125: LinAlgWarning: Ill-conditioned matrix (rcond=5.56345e-21): result may not be accurate.\n",
      "  overwrite_a=True).T\n",
      "C:\\Users\\lyeso\\anaconda3\\envs\\exts-ml\\lib\\site-packages\\sklearn\\linear_model\\ridge.py:125: LinAlgWarning: Ill-conditioned matrix (rcond=4.03696e-20): result may not be accurate.\n",
      "  overwrite_a=True).T\n",
      "C:\\Users\\lyeso\\anaconda3\\envs\\exts-ml\\lib\\site-packages\\sklearn\\linear_model\\ridge.py:125: LinAlgWarning: Ill-conditioned matrix (rcond=2.73306e-19): result may not be accurate.\n",
      "  overwrite_a=True).T\n",
      "C:\\Users\\lyeso\\anaconda3\\envs\\exts-ml\\lib\\site-packages\\sklearn\\linear_model\\ridge.py:125: LinAlgWarning: Ill-conditioned matrix (rcond=2.65859e-18): result may not be accurate.\n",
      "  overwrite_a=True).T\n",
      "C:\\Users\\lyeso\\anaconda3\\envs\\exts-ml\\lib\\site-packages\\sklearn\\linear_model\\ridge.py:125: LinAlgWarning: Ill-conditioned matrix (rcond=2.24998e-17): result may not be accurate.\n",
      "  overwrite_a=True).T\n",
      "C:\\Users\\lyeso\\anaconda3\\envs\\exts-ml\\lib\\site-packages\\sklearn\\linear_model\\ridge.py:125: LinAlgWarning: Ill-conditioned matrix (rcond=2.30879e-24): result may not be accurate.\n",
      "  overwrite_a=True).T\n",
      "C:\\Users\\lyeso\\anaconda3\\envs\\exts-ml\\lib\\site-packages\\sklearn\\linear_model\\ridge.py:125: LinAlgWarning: Ill-conditioned matrix (rcond=1.78831e-23): result may not be accurate.\n",
      "  overwrite_a=True).T\n",
      "C:\\Users\\lyeso\\anaconda3\\envs\\exts-ml\\lib\\site-packages\\sklearn\\linear_model\\ridge.py:125: LinAlgWarning: Ill-conditioned matrix (rcond=1.36875e-22): result may not be accurate.\n",
      "  overwrite_a=True).T\n",
      "C:\\Users\\lyeso\\anaconda3\\envs\\exts-ml\\lib\\site-packages\\sklearn\\linear_model\\ridge.py:125: LinAlgWarning: Ill-conditioned matrix (rcond=9.92885e-22): result may not be accurate.\n",
      "  overwrite_a=True).T\n",
      "C:\\Users\\lyeso\\anaconda3\\envs\\exts-ml\\lib\\site-packages\\sklearn\\linear_model\\ridge.py:125: LinAlgWarning: Ill-conditioned matrix (rcond=6.28009e-21): result may not be accurate.\n",
      "  overwrite_a=True).T\n",
      "C:\\Users\\lyeso\\anaconda3\\envs\\exts-ml\\lib\\site-packages\\sklearn\\linear_model\\ridge.py:125: LinAlgWarning: Ill-conditioned matrix (rcond=4.3627e-20): result may not be accurate.\n",
      "  overwrite_a=True).T\n",
      "C:\\Users\\lyeso\\anaconda3\\envs\\exts-ml\\lib\\site-packages\\sklearn\\linear_model\\ridge.py:125: LinAlgWarning: Ill-conditioned matrix (rcond=2.40945e-19): result may not be accurate.\n",
      "  overwrite_a=True).T\n",
      "C:\\Users\\lyeso\\anaconda3\\envs\\exts-ml\\lib\\site-packages\\sklearn\\linear_model\\ridge.py:125: LinAlgWarning: Ill-conditioned matrix (rcond=2.18782e-18): result may not be accurate.\n",
      "  overwrite_a=True).T\n",
      "C:\\Users\\lyeso\\anaconda3\\envs\\exts-ml\\lib\\site-packages\\sklearn\\linear_model\\ridge.py:125: LinAlgWarning: Ill-conditioned matrix (rcond=2.2502e-17): result may not be accurate.\n",
      "  overwrite_a=True).T\n",
      "C:\\Users\\lyeso\\anaconda3\\envs\\exts-ml\\lib\\site-packages\\sklearn\\linear_model\\ridge.py:125: LinAlgWarning: Ill-conditioned matrix (rcond=2.31519e-24): result may not be accurate.\n",
      "  overwrite_a=True).T\n",
      "C:\\Users\\lyeso\\anaconda3\\envs\\exts-ml\\lib\\site-packages\\sklearn\\linear_model\\ridge.py:125: LinAlgWarning: Ill-conditioned matrix (rcond=1.79115e-23): result may not be accurate.\n",
      "  overwrite_a=True).T\n",
      "C:\\Users\\lyeso\\anaconda3\\envs\\exts-ml\\lib\\site-packages\\sklearn\\linear_model\\ridge.py:125: LinAlgWarning: Ill-conditioned matrix (rcond=1.37841e-22): result may not be accurate.\n",
      "  overwrite_a=True).T\n",
      "C:\\Users\\lyeso\\anaconda3\\envs\\exts-ml\\lib\\site-packages\\sklearn\\linear_model\\ridge.py:125: LinAlgWarning: Ill-conditioned matrix (rcond=1.02199e-21): result may not be accurate.\n",
      "  overwrite_a=True).T\n",
      "C:\\Users\\lyeso\\anaconda3\\envs\\exts-ml\\lib\\site-packages\\sklearn\\linear_model\\ridge.py:125: LinAlgWarning: Ill-conditioned matrix (rcond=6.41528e-21): result may not be accurate.\n",
      "  overwrite_a=True).T\n",
      "C:\\Users\\lyeso\\anaconda3\\envs\\exts-ml\\lib\\site-packages\\sklearn\\linear_model\\ridge.py:125: LinAlgWarning: Ill-conditioned matrix (rcond=4.09266e-20): result may not be accurate.\n",
      "  overwrite_a=True).T\n",
      "C:\\Users\\lyeso\\anaconda3\\envs\\exts-ml\\lib\\site-packages\\sklearn\\linear_model\\ridge.py:125: LinAlgWarning: Ill-conditioned matrix (rcond=2.51524e-19): result may not be accurate.\n",
      "  overwrite_a=True).T\n",
      "C:\\Users\\lyeso\\anaconda3\\envs\\exts-ml\\lib\\site-packages\\sklearn\\linear_model\\ridge.py:125: LinAlgWarning: Ill-conditioned matrix (rcond=2.12473e-18): result may not be accurate.\n",
      "  overwrite_a=True).T\n",
      "C:\\Users\\lyeso\\anaconda3\\envs\\exts-ml\\lib\\site-packages\\sklearn\\linear_model\\ridge.py:125: LinAlgWarning: Ill-conditioned matrix (rcond=2.21442e-17): result may not be accurate.\n",
      "  overwrite_a=True).T\n",
      "C:\\Users\\lyeso\\anaconda3\\envs\\exts-ml\\lib\\site-packages\\sklearn\\linear_model\\ridge.py:125: LinAlgWarning: Ill-conditioned matrix (rcond=1.98563e-24): result may not be accurate.\n",
      "  overwrite_a=True).T\n",
      "C:\\Users\\lyeso\\anaconda3\\envs\\exts-ml\\lib\\site-packages\\sklearn\\linear_model\\ridge.py:125: LinAlgWarning: Ill-conditioned matrix (rcond=1.78892e-23): result may not be accurate.\n",
      "  overwrite_a=True).T\n",
      "C:\\Users\\lyeso\\anaconda3\\envs\\exts-ml\\lib\\site-packages\\sklearn\\linear_model\\ridge.py:125: LinAlgWarning: Ill-conditioned matrix (rcond=1.36109e-22): result may not be accurate.\n",
      "  overwrite_a=True).T\n",
      "C:\\Users\\lyeso\\anaconda3\\envs\\exts-ml\\lib\\site-packages\\sklearn\\linear_model\\ridge.py:125: LinAlgWarning: Ill-conditioned matrix (rcond=9.45333e-22): result may not be accurate.\n",
      "  overwrite_a=True).T\n",
      "C:\\Users\\lyeso\\anaconda3\\envs\\exts-ml\\lib\\site-packages\\sklearn\\linear_model\\ridge.py:125: LinAlgWarning: Ill-conditioned matrix (rcond=5.47765e-21): result may not be accurate.\n",
      "  overwrite_a=True).T\n",
      "C:\\Users\\lyeso\\anaconda3\\envs\\exts-ml\\lib\\site-packages\\sklearn\\linear_model\\ridge.py:125: LinAlgWarning: Ill-conditioned matrix (rcond=3.91209e-20): result may not be accurate.\n",
      "  overwrite_a=True).T\n",
      "C:\\Users\\lyeso\\anaconda3\\envs\\exts-ml\\lib\\site-packages\\sklearn\\linear_model\\ridge.py:125: LinAlgWarning: Ill-conditioned matrix (rcond=2.19867e-19): result may not be accurate.\n",
      "  overwrite_a=True).T\n",
      "C:\\Users\\lyeso\\anaconda3\\envs\\exts-ml\\lib\\site-packages\\sklearn\\linear_model\\ridge.py:125: LinAlgWarning: Ill-conditioned matrix (rcond=2.14067e-18): result may not be accurate.\n",
      "  overwrite_a=True).T\n",
      "C:\\Users\\lyeso\\anaconda3\\envs\\exts-ml\\lib\\site-packages\\sklearn\\linear_model\\ridge.py:125: LinAlgWarning: Ill-conditioned matrix (rcond=2.18686e-17): result may not be accurate.\n",
      "  overwrite_a=True).T\n",
      "C:\\Users\\lyeso\\anaconda3\\envs\\exts-ml\\lib\\site-packages\\sklearn\\linear_model\\ridge.py:125: LinAlgWarning: Ill-conditioned matrix (rcond=1.66581e-24): result may not be accurate.\n",
      "  overwrite_a=True).T\n",
      "C:\\Users\\lyeso\\anaconda3\\envs\\exts-ml\\lib\\site-packages\\sklearn\\linear_model\\ridge.py:125: LinAlgWarning: Ill-conditioned matrix (rcond=1.2895e-23): result may not be accurate.\n",
      "  overwrite_a=True).T\n",
      "C:\\Users\\lyeso\\anaconda3\\envs\\exts-ml\\lib\\site-packages\\sklearn\\linear_model\\ridge.py:125: LinAlgWarning: Ill-conditioned matrix (rcond=9.96762e-23): result may not be accurate.\n",
      "  overwrite_a=True).T\n",
      "C:\\Users\\lyeso\\anaconda3\\envs\\exts-ml\\lib\\site-packages\\sklearn\\linear_model\\ridge.py:125: LinAlgWarning: Ill-conditioned matrix (rcond=7.63064e-22): result may not be accurate.\n",
      "  overwrite_a=True).T\n",
      "C:\\Users\\lyeso\\anaconda3\\envs\\exts-ml\\lib\\site-packages\\sklearn\\linear_model\\ridge.py:125: LinAlgWarning: Ill-conditioned matrix (rcond=5.62572e-21): result may not be accurate.\n",
      "  overwrite_a=True).T\n",
      "C:\\Users\\lyeso\\anaconda3\\envs\\exts-ml\\lib\\site-packages\\sklearn\\linear_model\\ridge.py:125: LinAlgWarning: Ill-conditioned matrix (rcond=4.13199e-20): result may not be accurate.\n",
      "  overwrite_a=True).T\n",
      "C:\\Users\\lyeso\\anaconda3\\envs\\exts-ml\\lib\\site-packages\\sklearn\\linear_model\\ridge.py:125: LinAlgWarning: Ill-conditioned matrix (rcond=2.59647e-19): result may not be accurate.\n",
      "  overwrite_a=True).T\n",
      "C:\\Users\\lyeso\\anaconda3\\envs\\exts-ml\\lib\\site-packages\\sklearn\\linear_model\\ridge.py:125: LinAlgWarning: Ill-conditioned matrix (rcond=2.58051e-18): result may not be accurate.\n",
      "  overwrite_a=True).T\n",
      "C:\\Users\\lyeso\\anaconda3\\envs\\exts-ml\\lib\\site-packages\\sklearn\\linear_model\\ridge.py:125: LinAlgWarning: Ill-conditioned matrix (rcond=2.21953e-17): result may not be accurate.\n",
      "  overwrite_a=True).T\n",
      "C:\\Users\\lyeso\\anaconda3\\envs\\exts-ml\\lib\\site-packages\\sklearn\\linear_model\\ridge.py:125: LinAlgWarning: Ill-conditioned matrix (rcond=2.17411e-24): result may not be accurate.\n",
      "  overwrite_a=True).T\n",
      "C:\\Users\\lyeso\\anaconda3\\envs\\exts-ml\\lib\\site-packages\\sklearn\\linear_model\\ridge.py:125: LinAlgWarning: Ill-conditioned matrix (rcond=1.6758e-23): result may not be accurate.\n",
      "  overwrite_a=True).T\n",
      "C:\\Users\\lyeso\\anaconda3\\envs\\exts-ml\\lib\\site-packages\\sklearn\\linear_model\\ridge.py:125: LinAlgWarning: Ill-conditioned matrix (rcond=1.25638e-22): result may not be accurate.\n",
      "  overwrite_a=True).T\n",
      "C:\\Users\\lyeso\\anaconda3\\envs\\exts-ml\\lib\\site-packages\\sklearn\\linear_model\\ridge.py:125: LinAlgWarning: Ill-conditioned matrix (rcond=9.5175e-22): result may not be accurate.\n",
      "  overwrite_a=True).T\n",
      "C:\\Users\\lyeso\\anaconda3\\envs\\exts-ml\\lib\\site-packages\\sklearn\\linear_model\\ridge.py:125: LinAlgWarning: Ill-conditioned matrix (rcond=5.51095e-21): result may not be accurate.\n",
      "  overwrite_a=True).T\n",
      "C:\\Users\\lyeso\\anaconda3\\envs\\exts-ml\\lib\\site-packages\\sklearn\\linear_model\\ridge.py:125: LinAlgWarning: Ill-conditioned matrix (rcond=3.71741e-20): result may not be accurate.\n",
      "  overwrite_a=True).T\n",
      "C:\\Users\\lyeso\\anaconda3\\envs\\exts-ml\\lib\\site-packages\\sklearn\\linear_model\\ridge.py:125: LinAlgWarning: Ill-conditioned matrix (rcond=2.72063e-19): result may not be accurate.\n",
      "  overwrite_a=True).T\n",
      "C:\\Users\\lyeso\\anaconda3\\envs\\exts-ml\\lib\\site-packages\\sklearn\\linear_model\\ridge.py:125: LinAlgWarning: Ill-conditioned matrix (rcond=2.10798e-18): result may not be accurate.\n",
      "  overwrite_a=True).T\n",
      "C:\\Users\\lyeso\\anaconda3\\envs\\exts-ml\\lib\\site-packages\\sklearn\\linear_model\\ridge.py:125: LinAlgWarning: Ill-conditioned matrix (rcond=2.15792e-17): result may not be accurate.\n",
      "  overwrite_a=True).T\n",
      "C:\\Users\\lyeso\\anaconda3\\envs\\exts-ml\\lib\\site-packages\\sklearn\\linear_model\\ridge.py:125: LinAlgWarning: Ill-conditioned matrix (rcond=2.30477e-24): result may not be accurate.\n",
      "  overwrite_a=True).T\n",
      "C:\\Users\\lyeso\\anaconda3\\envs\\exts-ml\\lib\\site-packages\\sklearn\\linear_model\\ridge.py:125: LinAlgWarning: Ill-conditioned matrix (rcond=1.76496e-23): result may not be accurate.\n",
      "  overwrite_a=True).T\n",
      "C:\\Users\\lyeso\\anaconda3\\envs\\exts-ml\\lib\\site-packages\\sklearn\\linear_model\\ridge.py:125: LinAlgWarning: Ill-conditioned matrix (rcond=1.2753e-22): result may not be accurate.\n",
      "  overwrite_a=True).T\n",
      "C:\\Users\\lyeso\\anaconda3\\envs\\exts-ml\\lib\\site-packages\\sklearn\\linear_model\\ridge.py:125: LinAlgWarning: Ill-conditioned matrix (rcond=8.14119e-22): result may not be accurate.\n",
      "  overwrite_a=True).T\n",
      "C:\\Users\\lyeso\\anaconda3\\envs\\exts-ml\\lib\\site-packages\\sklearn\\linear_model\\ridge.py:125: LinAlgWarning: Ill-conditioned matrix (rcond=5.67105e-21): result may not be accurate.\n",
      "  overwrite_a=True).T\n",
      "C:\\Users\\lyeso\\anaconda3\\envs\\exts-ml\\lib\\site-packages\\sklearn\\linear_model\\ridge.py:125: LinAlgWarning: Ill-conditioned matrix (rcond=4.58819e-20): result may not be accurate.\n",
      "  overwrite_a=True).T\n",
      "C:\\Users\\lyeso\\anaconda3\\envs\\exts-ml\\lib\\site-packages\\sklearn\\linear_model\\ridge.py:125: LinAlgWarning: Ill-conditioned matrix (rcond=2.58488e-19): result may not be accurate.\n",
      "  overwrite_a=True).T\n",
      "C:\\Users\\lyeso\\anaconda3\\envs\\exts-ml\\lib\\site-packages\\sklearn\\linear_model\\ridge.py:125: LinAlgWarning: Ill-conditioned matrix (rcond=2.116e-18): result may not be accurate.\n",
      "  overwrite_a=True).T\n",
      "C:\\Users\\lyeso\\anaconda3\\envs\\exts-ml\\lib\\site-packages\\sklearn\\linear_model\\ridge.py:125: LinAlgWarning: Ill-conditioned matrix (rcond=2.21088e-17): result may not be accurate.\n",
      "  overwrite_a=True).T\n",
      "C:\\Users\\lyeso\\anaconda3\\envs\\exts-ml\\lib\\site-packages\\sklearn\\linear_model\\ridge.py:125: LinAlgWarning: Ill-conditioned matrix (rcond=2.30991e-24): result may not be accurate.\n",
      "  overwrite_a=True).T\n",
      "C:\\Users\\lyeso\\anaconda3\\envs\\exts-ml\\lib\\site-packages\\sklearn\\linear_model\\ridge.py:125: LinAlgWarning: Ill-conditioned matrix (rcond=1.78527e-23): result may not be accurate.\n",
      "  overwrite_a=True).T\n",
      "C:\\Users\\lyeso\\anaconda3\\envs\\exts-ml\\lib\\site-packages\\sklearn\\linear_model\\ridge.py:125: LinAlgWarning: Ill-conditioned matrix (rcond=1.36198e-22): result may not be accurate.\n",
      "  overwrite_a=True).T\n",
      "C:\\Users\\lyeso\\anaconda3\\envs\\exts-ml\\lib\\site-packages\\sklearn\\linear_model\\ridge.py:125: LinAlgWarning: Ill-conditioned matrix (rcond=1.02055e-21): result may not be accurate.\n",
      "  overwrite_a=True).T\n",
      "C:\\Users\\lyeso\\anaconda3\\envs\\exts-ml\\lib\\site-packages\\sklearn\\linear_model\\ridge.py:125: LinAlgWarning: Ill-conditioned matrix (rcond=6.72928e-21): result may not be accurate.\n",
      "  overwrite_a=True).T\n",
      "C:\\Users\\lyeso\\anaconda3\\envs\\exts-ml\\lib\\site-packages\\sklearn\\linear_model\\ridge.py:125: LinAlgWarning: Ill-conditioned matrix (rcond=3.74063e-20): result may not be accurate.\n",
      "  overwrite_a=True).T\n",
      "C:\\Users\\lyeso\\anaconda3\\envs\\exts-ml\\lib\\site-packages\\sklearn\\linear_model\\ridge.py:125: LinAlgWarning: Ill-conditioned matrix (rcond=2.61524e-19): result may not be accurate.\n",
      "  overwrite_a=True).T\n",
      "C:\\Users\\lyeso\\anaconda3\\envs\\exts-ml\\lib\\site-packages\\sklearn\\linear_model\\ridge.py:125: LinAlgWarning: Ill-conditioned matrix (rcond=2.14575e-18): result may not be accurate.\n",
      "  overwrite_a=True).T\n",
      "C:\\Users\\lyeso\\anaconda3\\envs\\exts-ml\\lib\\site-packages\\sklearn\\linear_model\\ridge.py:125: LinAlgWarning: Ill-conditioned matrix (rcond=2.19078e-17): result may not be accurate.\n",
      "  overwrite_a=True).T\n",
      "C:\\Users\\lyeso\\anaconda3\\envs\\exts-ml\\lib\\site-packages\\sklearn\\linear_model\\ridge.py:125: LinAlgWarning: Ill-conditioned matrix (rcond=1.66381e-24): result may not be accurate.\n",
      "  overwrite_a=True).T\n",
      "C:\\Users\\lyeso\\anaconda3\\envs\\exts-ml\\lib\\site-packages\\sklearn\\linear_model\\ridge.py:125: LinAlgWarning: Ill-conditioned matrix (rcond=1.28798e-23): result may not be accurate.\n",
      "  overwrite_a=True).T\n",
      "C:\\Users\\lyeso\\anaconda3\\envs\\exts-ml\\lib\\site-packages\\sklearn\\linear_model\\ridge.py:125: LinAlgWarning: Ill-conditioned matrix (rcond=9.95823e-23): result may not be accurate.\n",
      "  overwrite_a=True).T\n",
      "C:\\Users\\lyeso\\anaconda3\\envs\\exts-ml\\lib\\site-packages\\sklearn\\linear_model\\ridge.py:125: LinAlgWarning: Ill-conditioned matrix (rcond=7.63722e-22): result may not be accurate.\n",
      "  overwrite_a=True).T\n",
      "C:\\Users\\lyeso\\anaconda3\\envs\\exts-ml\\lib\\site-packages\\sklearn\\linear_model\\ridge.py:125: LinAlgWarning: Ill-conditioned matrix (rcond=5.65089e-21): result may not be accurate.\n",
      "  overwrite_a=True).T\n",
      "C:\\Users\\lyeso\\anaconda3\\envs\\exts-ml\\lib\\site-packages\\sklearn\\linear_model\\ridge.py:125: LinAlgWarning: Ill-conditioned matrix (rcond=4.19676e-20): result may not be accurate.\n",
      "  overwrite_a=True).T\n",
      "C:\\Users\\lyeso\\anaconda3\\envs\\exts-ml\\lib\\site-packages\\sklearn\\linear_model\\ridge.py:125: LinAlgWarning: Ill-conditioned matrix (rcond=2.08398e-19): result may not be accurate.\n",
      "  overwrite_a=True).T\n",
      "C:\\Users\\lyeso\\anaconda3\\envs\\exts-ml\\lib\\site-packages\\sklearn\\linear_model\\ridge.py:125: LinAlgWarning: Ill-conditioned matrix (rcond=2.12567e-18): result may not be accurate.\n",
      "  overwrite_a=True).T\n",
      "C:\\Users\\lyeso\\anaconda3\\envs\\exts-ml\\lib\\site-packages\\sklearn\\linear_model\\ridge.py:125: LinAlgWarning: Ill-conditioned matrix (rcond=2.18876e-17): result may not be accurate.\n",
      "  overwrite_a=True).T\n",
      "C:\\Users\\lyeso\\anaconda3\\envs\\exts-ml\\lib\\site-packages\\sklearn\\linear_model\\ridge.py:125: LinAlgWarning: Ill-conditioned matrix (rcond=2.12657e-24): result may not be accurate.\n",
      "  overwrite_a=True).T\n",
      "C:\\Users\\lyeso\\anaconda3\\envs\\exts-ml\\lib\\site-packages\\sklearn\\linear_model\\ridge.py:125: LinAlgWarning: Ill-conditioned matrix (rcond=1.64546e-23): result may not be accurate.\n",
      "  overwrite_a=True).T\n",
      "C:\\Users\\lyeso\\anaconda3\\envs\\exts-ml\\lib\\site-packages\\sklearn\\linear_model\\ridge.py:125: LinAlgWarning: Ill-conditioned matrix (rcond=1.26774e-22): result may not be accurate.\n",
      "  overwrite_a=True).T\n",
      "C:\\Users\\lyeso\\anaconda3\\envs\\exts-ml\\lib\\site-packages\\sklearn\\linear_model\\ridge.py:125: LinAlgWarning: Ill-conditioned matrix (rcond=9.47841e-22): result may not be accurate.\n",
      "  overwrite_a=True).T\n",
      "C:\\Users\\lyeso\\anaconda3\\envs\\exts-ml\\lib\\site-packages\\sklearn\\linear_model\\ridge.py:125: LinAlgWarning: Ill-conditioned matrix (rcond=6.19708e-21): result may not be accurate.\n",
      "  overwrite_a=True).T\n",
      "C:\\Users\\lyeso\\anaconda3\\envs\\exts-ml\\lib\\site-packages\\sklearn\\linear_model\\ridge.py:125: LinAlgWarning: Ill-conditioned matrix (rcond=3.37083e-20): result may not be accurate.\n",
      "  overwrite_a=True).T\n",
      "C:\\Users\\lyeso\\anaconda3\\envs\\exts-ml\\lib\\site-packages\\sklearn\\linear_model\\ridge.py:125: LinAlgWarning: Ill-conditioned matrix (rcond=2.70388e-19): result may not be accurate.\n",
      "  overwrite_a=True).T\n",
      "C:\\Users\\lyeso\\anaconda3\\envs\\exts-ml\\lib\\site-packages\\sklearn\\linear_model\\ridge.py:125: LinAlgWarning: Ill-conditioned matrix (rcond=2.20642e-18): result may not be accurate.\n",
      "  overwrite_a=True).T\n",
      "C:\\Users\\lyeso\\anaconda3\\envs\\exts-ml\\lib\\site-packages\\sklearn\\linear_model\\ridge.py:125: LinAlgWarning: Ill-conditioned matrix (rcond=2.23016e-17): result may not be accurate.\n",
      "  overwrite_a=True).T\n"
     ]
    },
    {
     "data": {
      "text/html": [
       "<div>\n",
       "<style scoped>\n",
       "    .dataframe tbody tr th:only-of-type {\n",
       "        vertical-align: middle;\n",
       "    }\n",
       "\n",
       "    .dataframe tbody tr th {\n",
       "        vertical-align: top;\n",
       "    }\n",
       "\n",
       "    .dataframe thead th {\n",
       "        text-align: right;\n",
       "    }\n",
       "</style>\n",
       "<table border=\"1\" class=\"dataframe\">\n",
       "  <thead>\n",
       "    <tr style=\"text-align: right;\">\n",
       "      <th></th>\n",
       "      <th>alpha</th>\n",
       "      <th>model</th>\n",
       "      <th>run_idx</th>\n",
       "      <th>test_mae</th>\n",
       "      <th>test_mse</th>\n",
       "      <th>train_mae</th>\n",
       "      <th>train_mse</th>\n",
       "    </tr>\n",
       "  </thead>\n",
       "  <tbody>\n",
       "    <tr>\n",
       "      <th>82</th>\n",
       "      <td>0.005995</td>\n",
       "      <td>Ridge(alpha=0.005994842503189409, copy_X=True,...</td>\n",
       "      <td>8</td>\n",
       "      <td>17251.351278</td>\n",
       "      <td>6.338059e+08</td>\n",
       "      <td>14210.121836</td>\n",
       "      <td>3.943516e+08</td>\n",
       "    </tr>\n",
       "    <tr>\n",
       "      <th>81</th>\n",
       "      <td>0.000774</td>\n",
       "      <td>Ridge(alpha=0.000774263682681127, copy_X=True,...</td>\n",
       "      <td>8</td>\n",
       "      <td>17357.615813</td>\n",
       "      <td>6.419038e+08</td>\n",
       "      <td>14203.500280</td>\n",
       "      <td>3.941256e+08</td>\n",
       "    </tr>\n",
       "    <tr>\n",
       "      <th>80</th>\n",
       "      <td>0.000100</td>\n",
       "      <td>Ridge(alpha=0.0001, copy_X=True, fit_intercept...</td>\n",
       "      <td>8</td>\n",
       "      <td>17375.923545</td>\n",
       "      <td>6.439232e+08</td>\n",
       "      <td>14202.720393</td>\n",
       "      <td>3.941207e+08</td>\n",
       "    </tr>\n",
       "    <tr>\n",
       "      <th>83</th>\n",
       "      <td>0.046416</td>\n",
       "      <td>Ridge(alpha=0.046415888336127774, copy_X=True,...</td>\n",
       "      <td>8</td>\n",
       "      <td>17434.431412</td>\n",
       "      <td>6.724122e+08</td>\n",
       "      <td>14275.727177</td>\n",
       "      <td>3.985141e+08</td>\n",
       "    </tr>\n",
       "    <tr>\n",
       "      <th>37</th>\n",
       "      <td>166.810054</td>\n",
       "      <td>Ridge(alpha=166.81005372000558, copy_X=True, f...</td>\n",
       "      <td>3</td>\n",
       "      <td>17643.481829</td>\n",
       "      <td>1.043464e+09</td>\n",
       "      <td>17877.413836</td>\n",
       "      <td>7.721739e+08</td>\n",
       "    </tr>\n",
       "  </tbody>\n",
       "</table>\n",
       "</div>"
      ],
      "text/plain": [
       "         alpha                                              model  run_idx  \\\n",
       "82    0.005995  Ridge(alpha=0.005994842503189409, copy_X=True,...        8   \n",
       "81    0.000774  Ridge(alpha=0.000774263682681127, copy_X=True,...        8   \n",
       "80    0.000100  Ridge(alpha=0.0001, copy_X=True, fit_intercept...        8   \n",
       "83    0.046416  Ridge(alpha=0.046415888336127774, copy_X=True,...        8   \n",
       "37  166.810054  Ridge(alpha=166.81005372000558, copy_X=True, f...        3   \n",
       "\n",
       "        test_mae      test_mse     train_mae     train_mse  \n",
       "82  17251.351278  6.338059e+08  14210.121836  3.943516e+08  \n",
       "81  17357.615813  6.419038e+08  14203.500280  3.941256e+08  \n",
       "80  17375.923545  6.439232e+08  14202.720393  3.941207e+08  \n",
       "83  17434.431412  6.724122e+08  14275.727177  3.985141e+08  \n",
       "37  17643.481829  1.043464e+09  17877.413836  7.721739e+08  "
      ]
     },
     "execution_count": 162,
     "metadata": {},
     "output_type": "execute_result"
    }
   ],
   "source": [
    "# Fit/test N models\n",
    "gs_results = []\n",
    "for run_idx in range(10):\n",
    "    # Split into train/test sets\n",
    "    train_df, test_df = train_test_split(\n",
    "    encoded_df, train_size=0.5, test_size=0.5, random_state=run_idx)\n",
    "    \n",
    "    X_tr = train_df.drop('SalePrice', axis=1).values\n",
    "    y_tr = train_df['SalePrice'].values\n",
    "\n",
    "    X_te = test_df.drop('SalePrice', axis=1).values\n",
    "    y_te = test_df['SalePrice'].values\n",
    "\n",
    "    # Standardize features\n",
    "    #X_tr_rescaled = scaler.fit_transform(X_tr)\n",
    "    #X_te_rescaled = scaler.transform(X_te)\n",
    "\n",
    "    # Grid search\n",
    "    for alpha in np.logspace(-4, 4, num=10):\n",
    "        # Create and fit ridge regression\n",
    "        ridge = Ridge(alpha=alpha)\n",
    "        ridge.fit(X_tr, y_tr)\n",
    "\n",
    "        # Save model and its performance on train/test sets\n",
    "        gs_results.append({\n",
    "            'model': ridge,\n",
    "            'alpha': alpha,\n",
    "            'run_idx': run_idx,\n",
    "            'train_mse': MSE(y_tr, ridge.predict(X_tr)),\n",
    "            'train_mae': MAE(y_tr, ridge.predict(X_tr)),\n",
    "            'test_mse': MSE(y_te, ridge.predict(X_te)),\n",
    "            'test_mae': MAE(y_te, ridge.predict(X_te)),\n",
    "        })\n",
    "\n",
    "# Convert results to DataFrame\n",
    "gs_results = pd.DataFrame(gs_results)\n",
    "gs_results.sort_values(ascending = True, by = ['test_mae']).head()"
   ]
  },
  {
   "cell_type": "code",
   "execution_count": null,
   "id": "70320147",
   "metadata": {},
   "outputs": [],
   "source": []
  }
 ],
 "metadata": {
  "kernelspec": {
   "display_name": "Python 3",
   "language": "python",
   "name": "python3"
  },
  "language_info": {
   "codemirror_mode": {
    "name": "ipython",
    "version": 3
   },
   "file_extension": ".py",
   "mimetype": "text/x-python",
   "name": "python",
   "nbconvert_exporter": "python",
   "pygments_lexer": "ipython3",
   "version": "3.6.13"
  }
 },
 "nbformat": 4,
 "nbformat_minor": 5
}
