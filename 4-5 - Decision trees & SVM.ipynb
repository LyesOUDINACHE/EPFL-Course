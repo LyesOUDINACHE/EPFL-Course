{
 "cells": [
  {
   "cell_type": "markdown",
   "id": "9ed1725d",
   "metadata": {},
   "source": [
    "# Decision trees\n",
    "\n",
    "In this unit, we will illustrate **decision trees** using the Titanic data. Our goal is to build a model that can predict whether a passenger from the Titanic survived or not based on several features including its age, sex and passenger class (1st, 2nd or 3rd).\n",
    "\n",
    "In the first part of this unit, we will see the basic idea behind decision trees. We will then build one for the Titanic data set using Scikit-learn. You can download the data set from the resource section.\n",
    "\n",
    "The idea behind decision trees is to learn a set of **if-then-else rules** that lead to a final decision. In classification tasks, this decision is a label. This may sound abstract, so let's take an example. Here is a simple decision tree with two if-then-else statements that encode the principle \"women and children first\"."
   ]
  },
  {
   "cell_type": "code",
   "execution_count": null,
   "id": "8507a4fc",
   "metadata": {},
   "outputs": [],
   "source": [
    "from IPython.display import Image\n",
    "Image(url='https://d7whxh71cqykp.cloudfront.net/uploads/image/data/2812/decision_trees.svg', width = 400)"
   ]
  },
  {
   "cell_type": "markdown",
   "id": "4bfb439b",
   "metadata": {},
   "source": [
    "In this image, the squares in gray are binary statements that can be either true or false. Each outcome corresponds to a branch of the three and leads to another statement (called a **node**) or to a final label (called a **leaf**). In the Titanic example, the age and sex of the passengers are features, and we want to build a tree that leads to one of the two labels in our classification task: survived or died. To classify a new sample, we start at the top of the tree (called its **root**) and evaluate each statement on the path until reaching a leaf.\n",
    "\n",
    "### Impurity measures\n",
    "\n",
    "The main challenge here is to create meaningful rules to separate our data set into \"pure\" subsets that have samples with similar target values. In our binary classification case, we want the leaves to have most of the samples labeled with either \"died\" or \"survived\". We can quantify how \"pure\" each leaf is by counting the proportion of entries labeled with the positive class (an estimation of $p(y=1)$ at the leaf). If this probability is close to 0 or 1, then it means that the leaf is \"pure\" in the sense that most of its samples are from the same class.\n",
    "\n",
    "In practice, we want to build rules that minimize an **impurity measure** at each leaf. For instance, we can measure the **misclassification impurity** which is simply the error rate at a leaf when predicting the most frequent class.\n",
    "\n",
    "> $Imisclassification(p)=1−max(p,1−p)$\n",
    "\n",
    "For instance, if 80% of the samples at a leaf are labeled with \"survived\", then \n",
    "p is 0.8, and the misclassification impurity is 20% since we expect to have an error rate of 20% when predicting the label \"survived\" at that leaf. Note that there are other possible impurity measures. For instance, we can use **cross-entropy (CE)** which is a way to quantify uncertainty (or disorder).\n",
    "\n",
    "> $Icross-entropy(p)=−p.log2(p)−(1−p).log2(1−p)$\n",
    "\n",
    "However, in practice, we prefer to use **Gini impurity** which is very similar to cross-entropy but faster to compute.\n",
    "\n",
    "> $Igini(p)=2p(1−p)$"
   ]
  },
  {
   "cell_type": "code",
   "execution_count": null,
   "id": "9f4ecb96",
   "metadata": {},
   "outputs": [],
   "source": [
    "Image(url='https://d7whxh71cqykp.cloudfront.net/uploads/image/data/5638/impurity-functions.svg')\n"
   ]
  },
  {
   "cell_type": "markdown",
   "id": "53ab342d",
   "metadata": {},
   "source": [
    "Note that the misclassification and Gini measures range between 0 and 0.5 while cross-entropy between 0 and 1. In this image, we rescaled cross-entropy such that all impurity functions have a maximum value of 0.5.\n",
    "\n",
    "As we can see, all functions have an impurity of zero when the set contains only examples from one class (\n",
    "p\n",
    "=\n",
    "0\n",
    " or \n",
    "p\n",
    "=\n",
    "1\n",
    "), and the impurity is maximal when half of the samples come from each class (\n",
    "p\n",
    "=\n",
    "0.5\n",
    ").\n",
    "\n",
    "### Building the decision tree\n",
    "\n",
    "When building a decision tree, we start at the top of the tree and iteratively try to find a split that minimizes the impurity at the leaves."
   ]
  },
  {
   "cell_type": "code",
   "execution_count": null,
   "id": "c28be271",
   "metadata": {},
   "outputs": [],
   "source": [
    "Image(url='https://d7whxh71cqykp.cloudfront.net/uploads/image/data/2810/split_impurity.svg')\n"
   ]
  },
  {
   "cell_type": "markdown",
   "id": "7d61064b",
   "metadata": {},
   "source": [
    "In this image, the box in gray corresponds to a condition on a feature (e.g., age lower than 12, or passenger class is 1st). We denote the impurity measure at each leaf with \n",
    "$I(pL)$ and $I(pR)$ where $pL$ and $pR$ are the probabilities of the positive class in the left and right leaves. Our goal is to find a split that minimizes the **total impurity**.\n",
    "\n",
    "> $Isplit=nLI(pL)+nRI(pR)$\n",
    "\n",
    "In this equation, we compute the split impurity $Isplit$ by summing the impurity values at each leaf weighted by their number of samples $nL$ and $nR$. In a typical scenario, we test different conditions for each feature in our data set and **select the one with the minimum split impurity**. We can then continue to split the leaves until we get \"pure\" leaves with samples from a single class. In practice, the rules become more specific after each split, and the tree starts overfitting. For this reason, we usually set a limit on its depth.\n",
    "\n",
    "We will now go through a concrete example and build a decision tree for the Titanic data set using Scikit-learn.\n",
    "\n",
    "### Data preprocessing"
   ]
  },
  {
   "cell_type": "code",
   "execution_count": 4,
   "id": "764ecbca",
   "metadata": {},
   "outputs": [
    {
     "data": {
      "text/html": [
       "<div>\n",
       "<style scoped>\n",
       "    .dataframe tbody tr th:only-of-type {\n",
       "        vertical-align: middle;\n",
       "    }\n",
       "\n",
       "    .dataframe tbody tr th {\n",
       "        vertical-align: top;\n",
       "    }\n",
       "\n",
       "    .dataframe thead th {\n",
       "        text-align: right;\n",
       "    }\n",
       "</style>\n",
       "<table border=\"1\" class=\"dataframe\">\n",
       "  <thead>\n",
       "    <tr style=\"text-align: right;\">\n",
       "      <th></th>\n",
       "      <th>name</th>\n",
       "      <th>pclass</th>\n",
       "      <th>age</th>\n",
       "      <th>sex</th>\n",
       "      <th>survived</th>\n",
       "    </tr>\n",
       "  </thead>\n",
       "  <tbody>\n",
       "    <tr>\n",
       "      <th>0</th>\n",
       "      <td>Hirvonen, Miss Hildur E</td>\n",
       "      <td>3rd</td>\n",
       "      <td>2</td>\n",
       "      <td>female</td>\n",
       "      <td>0</td>\n",
       "    </tr>\n",
       "    <tr>\n",
       "      <th>1</th>\n",
       "      <td>Van Impe, Miss Catharine</td>\n",
       "      <td>3rd</td>\n",
       "      <td>10</td>\n",
       "      <td>female</td>\n",
       "      <td>0</td>\n",
       "    </tr>\n",
       "    <tr>\n",
       "      <th>2</th>\n",
       "      <td>Sjostedt, Mr Ernst Adolf</td>\n",
       "      <td>2nd</td>\n",
       "      <td>59</td>\n",
       "      <td>male</td>\n",
       "      <td>0</td>\n",
       "    </tr>\n",
       "    <tr>\n",
       "      <th>3</th>\n",
       "      <td>Fortune, Mr Mark</td>\n",
       "      <td>1st</td>\n",
       "      <td>64</td>\n",
       "      <td>male</td>\n",
       "      <td>0</td>\n",
       "    </tr>\n",
       "    <tr>\n",
       "      <th>4</th>\n",
       "      <td>Ware, Mr William J</td>\n",
       "      <td>2nd</td>\n",
       "      <td>23</td>\n",
       "      <td>male</td>\n",
       "      <td>0</td>\n",
       "    </tr>\n",
       "  </tbody>\n",
       "</table>\n",
       "</div>"
      ],
      "text/plain": [
       "                       name pclass  age     sex  survived\n",
       "0   Hirvonen, Miss Hildur E    3rd    2  female         0\n",
       "1  Van Impe, Miss Catharine    3rd   10  female         0\n",
       "2  Sjostedt, Mr Ernst Adolf    2nd   59    male         0\n",
       "3          Fortune, Mr Mark    1st   64    male         0\n",
       "4        Ware, Mr William J    2nd   23    male         0"
      ]
     },
     "execution_count": 4,
     "metadata": {},
     "output_type": "execute_result"
    }
   ],
   "source": [
    "import pandas as pd\n",
    "\n",
    "# Load data\n",
    "data_df = pd.read_csv('titanic.csv')\n",
    "\n",
    "# First five rows\n",
    "data_df.head()"
   ]
  },
  {
   "cell_type": "markdown",
   "id": "32d9f63c",
   "metadata": {},
   "source": [
    "The data contains five variables. The features are the name of the passenger, its class, age and sex, and the target variable indicates if the passenger survived.\n",
    "\n",
    "Scikit-learn cannot work directly on this DataFrame to build the decision tree, but we can convert it into the usual X/y Numpy arrays by encoding categories with numerical values. We will use a simple 0/1 encoding for the binary sex feature and one-hot encoding for the pclass variable which has three possible values."
   ]
  },
  {
   "cell_type": "code",
   "execution_count": 5,
   "id": "3328ceff",
   "metadata": {},
   "outputs": [
    {
     "data": {
      "text/html": [
       "<div>\n",
       "<style scoped>\n",
       "    .dataframe tbody tr th:only-of-type {\n",
       "        vertical-align: middle;\n",
       "    }\n",
       "\n",
       "    .dataframe tbody tr th {\n",
       "        vertical-align: top;\n",
       "    }\n",
       "\n",
       "    .dataframe thead th {\n",
       "        text-align: right;\n",
       "    }\n",
       "</style>\n",
       "<table border=\"1\" class=\"dataframe\">\n",
       "  <thead>\n",
       "    <tr style=\"text-align: right;\">\n",
       "      <th></th>\n",
       "      <th>name</th>\n",
       "      <th>age</th>\n",
       "      <th>sex</th>\n",
       "      <th>survived</th>\n",
       "      <th>pclass_1st</th>\n",
       "      <th>pclass_2nd</th>\n",
       "      <th>pclass_3rd</th>\n",
       "    </tr>\n",
       "  </thead>\n",
       "  <tbody>\n",
       "    <tr>\n",
       "      <th>0</th>\n",
       "      <td>Hirvonen, Miss Hildur E</td>\n",
       "      <td>2</td>\n",
       "      <td>1</td>\n",
       "      <td>0</td>\n",
       "      <td>0</td>\n",
       "      <td>0</td>\n",
       "      <td>1</td>\n",
       "    </tr>\n",
       "    <tr>\n",
       "      <th>1</th>\n",
       "      <td>Van Impe, Miss Catharine</td>\n",
       "      <td>10</td>\n",
       "      <td>1</td>\n",
       "      <td>0</td>\n",
       "      <td>0</td>\n",
       "      <td>0</td>\n",
       "      <td>1</td>\n",
       "    </tr>\n",
       "    <tr>\n",
       "      <th>2</th>\n",
       "      <td>Sjostedt, Mr Ernst Adolf</td>\n",
       "      <td>59</td>\n",
       "      <td>0</td>\n",
       "      <td>0</td>\n",
       "      <td>0</td>\n",
       "      <td>1</td>\n",
       "      <td>0</td>\n",
       "    </tr>\n",
       "    <tr>\n",
       "      <th>3</th>\n",
       "      <td>Fortune, Mr Mark</td>\n",
       "      <td>64</td>\n",
       "      <td>0</td>\n",
       "      <td>0</td>\n",
       "      <td>1</td>\n",
       "      <td>0</td>\n",
       "      <td>0</td>\n",
       "    </tr>\n",
       "    <tr>\n",
       "      <th>4</th>\n",
       "      <td>Ware, Mr William J</td>\n",
       "      <td>23</td>\n",
       "      <td>0</td>\n",
       "      <td>0</td>\n",
       "      <td>0</td>\n",
       "      <td>1</td>\n",
       "      <td>0</td>\n",
       "    </tr>\n",
       "  </tbody>\n",
       "</table>\n",
       "</div>"
      ],
      "text/plain": [
       "                       name  age  sex  survived  pclass_1st  pclass_2nd  \\\n",
       "0   Hirvonen, Miss Hildur E    2    1         0           0           0   \n",
       "1  Van Impe, Miss Catharine   10    1         0           0           0   \n",
       "2  Sjostedt, Mr Ernst Adolf   59    0         0           0           1   \n",
       "3          Fortune, Mr Mark   64    0         0           1           0   \n",
       "4        Ware, Mr William J   23    0         0           0           1   \n",
       "\n",
       "   pclass_3rd  \n",
       "0           1  \n",
       "1           1  \n",
       "2           0  \n",
       "3           0  \n",
       "4           0  "
      ]
     },
     "execution_count": 5,
     "metadata": {},
     "output_type": "execute_result"
    }
   ],
   "source": [
    "# One-hot encoding\n",
    "encoded_df = pd.get_dummies(data_df, columns=['pclass'])\n",
    "\n",
    "# Encode binary variables with 0s and 1s\n",
    "encoded_df['sex'] = encoded_df.sex.replace({\n",
    "    'male': 0,\n",
    "    'female': 1\n",
    "})\n",
    "\n",
    "# First five rows\n",
    "encoded_df.head()"
   ]
  },
  {
   "cell_type": "markdown",
   "id": "e25dd004",
   "metadata": {},
   "source": [
    "In this code, we create a dummy variable for each passenger class using the get_dummies() function from Pandas, and we replace the male and female values with numerical 0/1 labels. The encoded_df DataFrame now only contains numerical values (except the name variable, but we will drop it before building the tree).\n",
    "\n",
    "We can now create the X/y arrays."
   ]
  },
  {
   "cell_type": "code",
   "execution_count": 6,
   "id": "a2ec2125",
   "metadata": {},
   "outputs": [],
   "source": [
    "import numpy as np\n",
    "\n",
    "# Select features\n",
    "features = encoded_df.drop(['name', 'survived'], axis=1)\n",
    "\n",
    "# Create X/y arrays\n",
    "X = features.values\n",
    "y = encoded_df.survived.values"
   ]
  },
  {
   "cell_type": "markdown",
   "id": "c7c0b2d7",
   "metadata": {},
   "source": [
    "At the moment, Scikit-learn doesn't support categorical variables. Hence, we need to encode them using one-hot encoding. However, note that there is an ongoing effort by the community to solve this. You can take a look at this link if you want to learn more about it.\n",
    "\n",
    "https://github.com/scikit-learn/scikit-learn/pull/4899\n",
    "\n",
    "### Scikit-learn DecisionTreeClassifier\n",
    "\n",
    "Scikit-learn provides a DecisionTreeClassifier estimator to build decision trees. Let's start with a simple decision tree with a depth of one that minimizes the Gini impurity measure at each split."
   ]
  },
  {
   "cell_type": "code",
   "execution_count": 7,
   "id": "7e53ea57",
   "metadata": {},
   "outputs": [],
   "source": [
    "from sklearn.tree import DecisionTreeClassifier\n",
    "\n",
    "# Create decision tree\n",
    "dt = DecisionTreeClassifier(\n",
    "    criterion='gini', max_depth=1, random_state=0)"
   ]
  },
  {
   "cell_type": "markdown",
   "id": "4f40faef",
   "metadata": {},
   "source": [
    "The estimator shuffles the features at each split. Hence, the results may vary when there are ties (two splits with the same impurity score). In the code from above, we set the random_state parameter to zero to fix the results.\n",
    "\n",
    "We can now create and evaluate the decision tree using the fit() and the score() functions."
   ]
  },
  {
   "cell_type": "code",
   "execution_count": 8,
   "id": "7239029f",
   "metadata": {},
   "outputs": [
    {
     "data": {
      "text/plain": [
       "0.7791005291005291"
      ]
     },
     "execution_count": 8,
     "metadata": {},
     "output_type": "execute_result"
    }
   ],
   "source": [
    "# Fit decision tree\n",
    "dt.fit(X, y)\n",
    "\n",
    "# Get score\n",
    "dt.score(X, y)"
   ]
  },
  {
   "cell_type": "code",
   "execution_count": 9,
   "id": "20158081",
   "metadata": {},
   "outputs": [
    {
     "data": {
      "text/plain": [
       "0    0.585979\n",
       "1    0.414021\n",
       "dtype: float64"
      ]
     },
     "execution_count": 9,
     "metadata": {},
     "output_type": "execute_result"
    }
   ],
   "source": [
    "# Proportion of features in each class\n",
    "pd.value_counts(y, normalize=True)"
   ]
  },
  {
   "cell_type": "markdown",
   "id": "c603bfe7",
   "metadata": {},
   "source": [
    "We get an accuracy around 78% which is already much better than the \"most-frequent\" baseline."
   ]
  },
  {
   "cell_type": "markdown",
   "id": "f167bc12",
   "metadata": {},
   "source": [
    "Note that we removed part of the entries labeled with \"died\" in the titanic.csv file to have a more balanced the data set (the survival rate is around 30% according to Wikipedia and not 40% as above). **Decision trees try to minimize the impurity at each split**. Hence, if there are more samples from one class than the others, **it will focus on building rules that correctly classify data points from this class**. In our case, we want to build a decision tree that can classify well samples from both categories. **Hence, it's important that they have approximately the same number of samples.**\n",
    "\n",
    "**This problem is not specific to decision tree**s. For instance, a k-NN classifier will also favor points from the dominant classes when doing the majority vote. This is called the **class imbalance problem.**\n",
    "\n",
    "> Note: Another way to solve the issue is to modify the objective function of our classifiers and put more weight on classes that are underrepresented in the training set. We won't go into the details in this course, but note that Scikit-learn implements this strategy with the class_weight parameter that you can set to balanced when it's important that your classifier performs well with all classes independently of how many samples you have from each in your training set."
   ]
  },
  {
   "cell_type": "markdown",
   "id": "5e3d4ea8",
   "metadata": {},
   "source": [
    "### Visualize decision trees\n",
    "\n",
    "One of the main advantages of decision trees is that they are easy to interpret.\n",
    "\n",
    "Each node corresponds to a simple rule.\n",
    "The most important ones are at the top of the decision tree.\n",
    "We can visualize them using a library called **Graphvi**. Scikit-learn implements an export_graphviz() function to export decision tree estimators into the Graphviz .dot format."
   ]
  },
  {
   "cell_type": "code",
   "execution_count": 10,
   "id": "172acc87",
   "metadata": {},
   "outputs": [],
   "source": [
    "from sklearn.tree import export_graphviz\n",
    "\n",
    "# Export decision tree\n",
    "dot_data = export_graphviz(\n",
    "    dt, out_file=None,\n",
    "    feature_names=features.columns, class_names=['died', 'survived'],\n",
    "    filled=True, rounded=True, proportion=True   \n",
    ")"
   ]
  },
  {
   "cell_type": "markdown",
   "id": "3aebc790",
   "metadata": {},
   "source": [
    "In this code, we create a dot_data variable from our decision tree dt. This variable contains all the information to plot our decision tree. Note that the function provides many arguments to customize its appearance and to specify what information it contains. In our case, there are three important arguments.\n",
    "\n",
    "* feature_names - the names of the features in X\n",
    "* class_names - the names of the classes in y\n",
    "* proportion=True - to include the proportion of samples in each node\n",
    "\n",
    "Note that we set the feature names using the features variable from above (encoded_df without its name and survived columns). We won't go into the details of each argument, but you can take a look at this page if you want to learn more about them.\n",
    "\n",
    "To visualize the decision tree, we need to load it into a Source object from the Graphviz library."
   ]
  },
  {
   "cell_type": "code",
   "execution_count": 11,
   "id": "84d41f73",
   "metadata": {},
   "outputs": [
    {
     "data": {
      "image/svg+xml": [
       "<?xml version=\"1.0\" encoding=\"UTF-8\" standalone=\"no\"?>\r\n",
       "<!DOCTYPE svg PUBLIC \"-//W3C//DTD SVG 1.1//EN\"\r\n",
       " \"http://www.w3.org/Graphics/SVG/1.1/DTD/svg11.dtd\">\r\n",
       "<!-- Generated by graphviz version 2.38.0 (20140413.2041)\r\n",
       " -->\r\n",
       "<!-- Title: Tree Pages: 1 -->\r\n",
       "<svg width=\"334pt\" height=\"195pt\"\r\n",
       " viewBox=\"0.00 0.00 334.00 195.00\" xmlns=\"http://www.w3.org/2000/svg\" xmlns:xlink=\"http://www.w3.org/1999/xlink\">\r\n",
       "<g id=\"graph0\" class=\"graph\" transform=\"scale(1 1) rotate(0) translate(4 191)\">\r\n",
       "<title>Tree</title>\r\n",
       "<polygon fill=\"white\" stroke=\"none\" points=\"-4,4 -4,-191 330,-191 330,4 -4,4\"/>\r\n",
       "<!-- 0 -->\r\n",
       "<g id=\"node1\" class=\"node\"><title>0</title>\r\n",
       "<path fill=\"#e58139\" fill-opacity=\"0.294118\" stroke=\"black\" d=\"M228,-187C228,-187 98,-187 98,-187 92,-187 86,-181 86,-175 86,-175 86,-116 86,-116 86,-110 92,-104 98,-104 98,-104 228,-104 228,-104 234,-104 240,-110 240,-116 240,-116 240,-175 240,-175 240,-181 234,-187 228,-187\"/>\r\n",
       "<text text-anchor=\"middle\" x=\"163\" y=\"-171.8\" font-family=\"Helvetica,sans-Serif\" font-size=\"14.00\">sex &lt;= 0.5</text>\r\n",
       "<text text-anchor=\"middle\" x=\"163\" y=\"-156.8\" font-family=\"Helvetica,sans-Serif\" font-size=\"14.00\">gini = 0.485</text>\r\n",
       "<text text-anchor=\"middle\" x=\"163\" y=\"-141.8\" font-family=\"Helvetica,sans-Serif\" font-size=\"14.00\">samples = 100.0%</text>\r\n",
       "<text text-anchor=\"middle\" x=\"163\" y=\"-126.8\" font-family=\"Helvetica,sans-Serif\" font-size=\"14.00\">value = [0.586, 0.414]</text>\r\n",
       "<text text-anchor=\"middle\" x=\"163\" y=\"-111.8\" font-family=\"Helvetica,sans-Serif\" font-size=\"14.00\">class = died</text>\r\n",
       "</g>\r\n",
       "<!-- 1 -->\r\n",
       "<g id=\"node2\" class=\"node\"><title>1</title>\r\n",
       "<path fill=\"#e58139\" fill-opacity=\"0.741176\" stroke=\"black\" d=\"M142,-68C142,-68 12,-68 12,-68 6,-68 0,-62 0,-56 0,-56 0,-12 0,-12 0,-6 6,-0 12,-0 12,-0 142,-0 142,-0 148,-0 154,-6 154,-12 154,-12 154,-56 154,-56 154,-62 148,-68 142,-68\"/>\r\n",
       "<text text-anchor=\"middle\" x=\"77\" y=\"-52.8\" font-family=\"Helvetica,sans-Serif\" font-size=\"14.00\">gini = 0.326</text>\r\n",
       "<text text-anchor=\"middle\" x=\"77\" y=\"-37.8\" font-family=\"Helvetica,sans-Serif\" font-size=\"14.00\">samples = 61.9%</text>\r\n",
       "<text text-anchor=\"middle\" x=\"77\" y=\"-22.8\" font-family=\"Helvetica,sans-Serif\" font-size=\"14.00\">value = [0.795, 0.205]</text>\r\n",
       "<text text-anchor=\"middle\" x=\"77\" y=\"-7.8\" font-family=\"Helvetica,sans-Serif\" font-size=\"14.00\">class = died</text>\r\n",
       "</g>\r\n",
       "<!-- 0&#45;&gt;1 -->\r\n",
       "<g id=\"edge1\" class=\"edge\"><title>0&#45;&gt;1</title>\r\n",
       "<path fill=\"none\" stroke=\"black\" d=\"M130.977,-103.726C123.957,-94.7878 116.518,-85.3168 109.48,-76.3558\"/>\r\n",
       "<polygon fill=\"black\" stroke=\"black\" points=\"112.082,-74.0022 103.153,-68.2996 106.577,-78.3259 112.082,-74.0022\"/>\r\n",
       "<text text-anchor=\"middle\" x=\"100.169\" y=\"-89.4209\" font-family=\"Helvetica,sans-Serif\" font-size=\"14.00\">True</text>\r\n",
       "</g>\r\n",
       "<!-- 2 -->\r\n",
       "<g id=\"node3\" class=\"node\"><title>2</title>\r\n",
       "<path fill=\"#399de5\" fill-opacity=\"0.674510\" stroke=\"black\" d=\"M314,-68C314,-68 184,-68 184,-68 178,-68 172,-62 172,-56 172,-56 172,-12 172,-12 172,-6 178,-0 184,-0 184,-0 314,-0 314,-0 320,-0 326,-6 326,-12 326,-12 326,-56 326,-56 326,-62 320,-68 314,-68\"/>\r\n",
       "<text text-anchor=\"middle\" x=\"249\" y=\"-52.8\" font-family=\"Helvetica,sans-Serif\" font-size=\"14.00\">gini = 0.372</text>\r\n",
       "<text text-anchor=\"middle\" x=\"249\" y=\"-37.8\" font-family=\"Helvetica,sans-Serif\" font-size=\"14.00\">samples = 38.1%</text>\r\n",
       "<text text-anchor=\"middle\" x=\"249\" y=\"-22.8\" font-family=\"Helvetica,sans-Serif\" font-size=\"14.00\">value = [0.247, 0.753]</text>\r\n",
       "<text text-anchor=\"middle\" x=\"249\" y=\"-7.8\" font-family=\"Helvetica,sans-Serif\" font-size=\"14.00\">class = survived</text>\r\n",
       "</g>\r\n",
       "<!-- 0&#45;&gt;2 -->\r\n",
       "<g id=\"edge2\" class=\"edge\"><title>0&#45;&gt;2</title>\r\n",
       "<path fill=\"none\" stroke=\"black\" d=\"M195.023,-103.726C202.043,-94.7878 209.482,-85.3168 216.52,-76.3558\"/>\r\n",
       "<polygon fill=\"black\" stroke=\"black\" points=\"219.423,-78.3259 222.847,-68.2996 213.918,-74.0022 219.423,-78.3259\"/>\r\n",
       "<text text-anchor=\"middle\" x=\"225.831\" y=\"-89.4209\" font-family=\"Helvetica,sans-Serif\" font-size=\"14.00\">False</text>\r\n",
       "</g>\r\n",
       "</g>\r\n",
       "</svg>\r\n"
      ],
      "text/plain": [
       "<graphviz.files.Source at 0x2507f238240>"
      ]
     },
     "execution_count": 11,
     "metadata": {},
     "output_type": "execute_result"
    }
   ],
   "source": [
    "import graphviz\n",
    "\n",
    "# Display decision tree\n",
    "graphviz.Source(dot_data)"
   ]
  },
  {
   "cell_type": "markdown",
   "id": "657e6552",
   "metadata": {},
   "source": [
    "The graph encodes classes using colors. Nodes with a majority of samples labeled with \"survived\" appear in blue and nodes with a majority of samples labeled with \"died\" in orange. Each node contains the following information.\n",
    "\n",
    "* gini - the impurity measure at this node\n",
    "* samples - the percentage of samples in this node\n",
    "* value - the probabilities for each class\n",
    "* class - the class with the highest probability\n",
    "\n",
    "The decision tree splits the data into two groups using a single rule on the sex of the passengers. **This feature is the most important one according to the Gini impurity measure.** Note that the node splits the samples by setting a threshold on the numerical label of the sex feature. Entries encoded with a zero (male) are in the left leaf and entries encoded with a one (female) are in the right leaf.\n",
    "\n",
    "According to the samples entries in the image from above, there are respectively 61.9% and 38.1% of the samples in the left and right leaves. We can verify that using the value_counts() function from Pandas."
   ]
  },
  {
   "cell_type": "code",
   "execution_count": 12,
   "id": "74066377",
   "metadata": {},
   "outputs": [
    {
     "data": {
      "text/plain": [
       "male      0.619048\n",
       "female    0.380952\n",
       "Name: sex, dtype: float64"
      ]
     },
     "execution_count": 12,
     "metadata": {},
     "output_type": "execute_result"
    }
   ],
   "source": [
    "# Proportion of samples by sex\n",
    "pd.value_counts(data_df.sex, normalize=True)"
   ]
  },
  {
   "cell_type": "markdown",
   "id": "48e8f3fc",
   "metadata": {},
   "source": [
    "The value entries in each leaf indicate the proportion of samples in each class. For instance, the left leaf has 79.5% of samples labeled with \"died\" and the remaining 20.5% labeled with \"survived\". Again, we can verify that using the crosstab() function from Pandas."
   ]
  },
  {
   "cell_type": "code",
   "execution_count": 13,
   "id": "13a18439",
   "metadata": {},
   "outputs": [
    {
     "data": {
      "text/html": [
       "<div>\n",
       "<style scoped>\n",
       "    .dataframe tbody tr th:only-of-type {\n",
       "        vertical-align: middle;\n",
       "    }\n",
       "\n",
       "    .dataframe tbody tr th {\n",
       "        vertical-align: top;\n",
       "    }\n",
       "\n",
       "    .dataframe thead th {\n",
       "        text-align: right;\n",
       "    }\n",
       "</style>\n",
       "<table border=\"1\" class=\"dataframe\">\n",
       "  <thead>\n",
       "    <tr style=\"text-align: right;\">\n",
       "      <th>survived</th>\n",
       "      <th>0</th>\n",
       "      <th>1</th>\n",
       "    </tr>\n",
       "    <tr>\n",
       "      <th>sex</th>\n",
       "      <th></th>\n",
       "      <th></th>\n",
       "    </tr>\n",
       "  </thead>\n",
       "  <tbody>\n",
       "    <tr>\n",
       "      <th>female</th>\n",
       "      <td>0.246528</td>\n",
       "      <td>0.753472</td>\n",
       "    </tr>\n",
       "    <tr>\n",
       "      <th>male</th>\n",
       "      <td>0.794872</td>\n",
       "      <td>0.205128</td>\n",
       "    </tr>\n",
       "  </tbody>\n",
       "</table>\n",
       "</div>"
      ],
      "text/plain": [
       "survived         0         1\n",
       "sex                         \n",
       "female    0.246528  0.753472\n",
       "male      0.794872  0.205128"
      ]
     },
     "execution_count": 13,
     "metadata": {},
     "output_type": "execute_result"
    }
   ],
   "source": [
    "# Cross tabulation of sex and survived\n",
    "crosstab = pd.crosstab(\n",
    "    index=data_df.sex,\n",
    "    columns=data_df.survived,\n",
    "    normalize='index' # Normalize by sex\n",
    ")\n",
    "crosstab"
   ]
  },
  {
   "cell_type": "markdown",
   "id": "8923c131",
   "metadata": {},
   "source": [
    "The first row corresponds to the probabilities in the right leaf and the second row to the probabilities in the left one. Finally, let's use these probabilities to verify the Gini impurity values at each leaf"
   ]
  },
  {
   "cell_type": "code",
   "execution_count": 14,
   "id": "bd1c25cd",
   "metadata": {},
   "outputs": [
    {
     "name": "stdout",
     "output_type": "stream",
     "text": [
      "Gini impurity (left leaf): 0.326\n",
      "Gini impurity (right leaf): 0.372\n"
     ]
    }
   ],
   "source": [
    "# Get p(survived) at each leaf\n",
    "p_left = crosstab.loc['male', 1]\n",
    "p_right = crosstab.loc['female', 1]\n",
    "\n",
    "# Compute Gini impurity values\n",
    "i_left = 2*p_left*(1-p_left)\n",
    "i_right = 2*p_right*(1-p_right)\n",
    "print('Gini impurity (left leaf): {:.3f}'.format(i_left))\n",
    "# Prints: 0.326\n",
    "print('Gini impurity (right leaf): {:.3f}'.format(i_right))\n",
    "# Prints: 0.372"
   ]
  },
  {
   "cell_type": "markdown",
   "id": "60303f41",
   "metadata": {},
   "source": [
    "### Deeper trees\n",
    "Let's try to increase the depth of the tree to two with the max_depth parameter."
   ]
  },
  {
   "cell_type": "code",
   "execution_count": 15,
   "id": "7fb87971",
   "metadata": {},
   "outputs": [
    {
     "data": {
      "text/plain": [
       "0.8108465608465608"
      ]
     },
     "execution_count": 15,
     "metadata": {},
     "output_type": "execute_result"
    }
   ],
   "source": [
    "# Create decision tree\n",
    "dt_2 = DecisionTreeClassifier(\n",
    "    criterion='gini', max_depth=2, random_state=0)\n",
    "\n",
    "# Fit decision tree\n",
    "dt_2.fit(X, y)\n",
    "\n",
    "# Get score\n",
    "dt_2.score(X, y)"
   ]
  },
  {
   "cell_type": "code",
   "execution_count": 16,
   "id": "45878d62",
   "metadata": {},
   "outputs": [
    {
     "data": {
      "image/svg+xml": [
       "<?xml version=\"1.0\" encoding=\"UTF-8\" standalone=\"no\"?>\r\n",
       "<!DOCTYPE svg PUBLIC \"-//W3C//DTD SVG 1.1//EN\"\r\n",
       " \"http://www.w3.org/Graphics/SVG/1.1/DTD/svg11.dtd\">\r\n",
       "<!-- Generated by graphviz version 2.38.0 (20140413.2041)\r\n",
       " -->\r\n",
       "<!-- Title: Tree Pages: 1 -->\r\n",
       "<svg width=\"678pt\" height=\"314pt\"\r\n",
       " viewBox=\"0.00 0.00 678.00 314.00\" xmlns=\"http://www.w3.org/2000/svg\" xmlns:xlink=\"http://www.w3.org/1999/xlink\">\r\n",
       "<g id=\"graph0\" class=\"graph\" transform=\"scale(1 1) rotate(0) translate(4 310)\">\r\n",
       "<title>Tree</title>\r\n",
       "<polygon fill=\"white\" stroke=\"none\" points=\"-4,4 -4,-310 674,-310 674,4 -4,4\"/>\r\n",
       "<!-- 0 -->\r\n",
       "<g id=\"node1\" class=\"node\"><title>0</title>\r\n",
       "<path fill=\"#e58139\" fill-opacity=\"0.294118\" stroke=\"black\" d=\"M400,-306C400,-306 270,-306 270,-306 264,-306 258,-300 258,-294 258,-294 258,-235 258,-235 258,-229 264,-223 270,-223 270,-223 400,-223 400,-223 406,-223 412,-229 412,-235 412,-235 412,-294 412,-294 412,-300 406,-306 400,-306\"/>\r\n",
       "<text text-anchor=\"middle\" x=\"335\" y=\"-290.8\" font-family=\"Helvetica,sans-Serif\" font-size=\"14.00\">sex &lt;= 0.5</text>\r\n",
       "<text text-anchor=\"middle\" x=\"335\" y=\"-275.8\" font-family=\"Helvetica,sans-Serif\" font-size=\"14.00\">gini = 0.485</text>\r\n",
       "<text text-anchor=\"middle\" x=\"335\" y=\"-260.8\" font-family=\"Helvetica,sans-Serif\" font-size=\"14.00\">samples = 100.0%</text>\r\n",
       "<text text-anchor=\"middle\" x=\"335\" y=\"-245.8\" font-family=\"Helvetica,sans-Serif\" font-size=\"14.00\">value = [0.586, 0.414]</text>\r\n",
       "<text text-anchor=\"middle\" x=\"335\" y=\"-230.8\" font-family=\"Helvetica,sans-Serif\" font-size=\"14.00\">class = died</text>\r\n",
       "</g>\r\n",
       "<!-- 1 -->\r\n",
       "<g id=\"node2\" class=\"node\"><title>1</title>\r\n",
       "<path fill=\"#e58139\" fill-opacity=\"0.741176\" stroke=\"black\" d=\"M314,-187C314,-187 184,-187 184,-187 178,-187 172,-181 172,-175 172,-175 172,-116 172,-116 172,-110 178,-104 184,-104 184,-104 314,-104 314,-104 320,-104 326,-110 326,-116 326,-116 326,-175 326,-175 326,-181 320,-187 314,-187\"/>\r\n",
       "<text text-anchor=\"middle\" x=\"249\" y=\"-171.8\" font-family=\"Helvetica,sans-Serif\" font-size=\"14.00\">age &lt;= 12.0</text>\r\n",
       "<text text-anchor=\"middle\" x=\"249\" y=\"-156.8\" font-family=\"Helvetica,sans-Serif\" font-size=\"14.00\">gini = 0.326</text>\r\n",
       "<text text-anchor=\"middle\" x=\"249\" y=\"-141.8\" font-family=\"Helvetica,sans-Serif\" font-size=\"14.00\">samples = 61.9%</text>\r\n",
       "<text text-anchor=\"middle\" x=\"249\" y=\"-126.8\" font-family=\"Helvetica,sans-Serif\" font-size=\"14.00\">value = [0.795, 0.205]</text>\r\n",
       "<text text-anchor=\"middle\" x=\"249\" y=\"-111.8\" font-family=\"Helvetica,sans-Serif\" font-size=\"14.00\">class = died</text>\r\n",
       "</g>\r\n",
       "<!-- 0&#45;&gt;1 -->\r\n",
       "<g id=\"edge1\" class=\"edge\"><title>0&#45;&gt;1</title>\r\n",
       "<path fill=\"none\" stroke=\"black\" d=\"M305.163,-222.907C298.626,-214.014 291.639,-204.509 284.893,-195.331\"/>\r\n",
       "<polygon fill=\"black\" stroke=\"black\" points=\"287.527,-193.005 278.785,-187.021 281.887,-197.151 287.527,-193.005\"/>\r\n",
       "<text text-anchor=\"middle\" x=\"275.011\" y=\"-208.034\" font-family=\"Helvetica,sans-Serif\" font-size=\"14.00\">True</text>\r\n",
       "</g>\r\n",
       "<!-- 4 -->\r\n",
       "<g id=\"node5\" class=\"node\"><title>4</title>\r\n",
       "<path fill=\"#399de5\" fill-opacity=\"0.674510\" stroke=\"black\" d=\"M486,-187C486,-187 356,-187 356,-187 350,-187 344,-181 344,-175 344,-175 344,-116 344,-116 344,-110 350,-104 356,-104 356,-104 486,-104 486,-104 492,-104 498,-110 498,-116 498,-116 498,-175 498,-175 498,-181 492,-187 486,-187\"/>\r\n",
       "<text text-anchor=\"middle\" x=\"421\" y=\"-171.8\" font-family=\"Helvetica,sans-Serif\" font-size=\"14.00\">pclass_3rd &lt;= 0.5</text>\r\n",
       "<text text-anchor=\"middle\" x=\"421\" y=\"-156.8\" font-family=\"Helvetica,sans-Serif\" font-size=\"14.00\">gini = 0.372</text>\r\n",
       "<text text-anchor=\"middle\" x=\"421\" y=\"-141.8\" font-family=\"Helvetica,sans-Serif\" font-size=\"14.00\">samples = 38.1%</text>\r\n",
       "<text text-anchor=\"middle\" x=\"421\" y=\"-126.8\" font-family=\"Helvetica,sans-Serif\" font-size=\"14.00\">value = [0.247, 0.753]</text>\r\n",
       "<text text-anchor=\"middle\" x=\"421\" y=\"-111.8\" font-family=\"Helvetica,sans-Serif\" font-size=\"14.00\">class = survived</text>\r\n",
       "</g>\r\n",
       "<!-- 0&#45;&gt;4 -->\r\n",
       "<g id=\"edge4\" class=\"edge\"><title>0&#45;&gt;4</title>\r\n",
       "<path fill=\"none\" stroke=\"black\" d=\"M364.837,-222.907C371.374,-214.014 378.361,-204.509 385.107,-195.331\"/>\r\n",
       "<polygon fill=\"black\" stroke=\"black\" points=\"388.113,-197.151 391.215,-187.021 382.473,-193.005 388.113,-197.151\"/>\r\n",
       "<text text-anchor=\"middle\" x=\"394.989\" y=\"-208.034\" font-family=\"Helvetica,sans-Serif\" font-size=\"14.00\">False</text>\r\n",
       "</g>\r\n",
       "<!-- 2 -->\r\n",
       "<g id=\"node3\" class=\"node\"><title>2</title>\r\n",
       "<path fill=\"#399de5\" fill-opacity=\"0.635294\" stroke=\"black\" d=\"M142,-68C142,-68 12,-68 12,-68 6,-68 0,-62 0,-56 0,-56 0,-12 0,-12 0,-6 6,-0 12,-0 12,-0 142,-0 142,-0 148,-0 154,-6 154,-12 154,-12 154,-56 154,-56 154,-62 148,-68 142,-68\"/>\r\n",
       "<text text-anchor=\"middle\" x=\"77\" y=\"-52.8\" font-family=\"Helvetica,sans-Serif\" font-size=\"14.00\">gini = 0.391</text>\r\n",
       "<text text-anchor=\"middle\" x=\"77\" y=\"-37.8\" font-family=\"Helvetica,sans-Serif\" font-size=\"14.00\">samples = 4.0%</text>\r\n",
       "<text text-anchor=\"middle\" x=\"77\" y=\"-22.8\" font-family=\"Helvetica,sans-Serif\" font-size=\"14.00\">value = [0.267, 0.733]</text>\r\n",
       "<text text-anchor=\"middle\" x=\"77\" y=\"-7.8\" font-family=\"Helvetica,sans-Serif\" font-size=\"14.00\">class = survived</text>\r\n",
       "</g>\r\n",
       "<!-- 1&#45;&gt;2 -->\r\n",
       "<g id=\"edge2\" class=\"edge\"><title>1&#45;&gt;2</title>\r\n",
       "<path fill=\"none\" stroke=\"black\" d=\"M184.954,-103.726C169.544,-93.9161 153.127,-83.4644 137.867,-73.7496\"/>\r\n",
       "<polygon fill=\"black\" stroke=\"black\" points=\"139.348,-70.5431 129.032,-68.1252 135.588,-76.4481 139.348,-70.5431\"/>\r\n",
       "</g>\r\n",
       "<!-- 3 -->\r\n",
       "<g id=\"node4\" class=\"node\"><title>3</title>\r\n",
       "<path fill=\"#e58139\" fill-opacity=\"0.796078\" stroke=\"black\" d=\"M314,-68C314,-68 184,-68 184,-68 178,-68 172,-62 172,-56 172,-56 172,-12 172,-12 172,-6 178,-0 184,-0 184,-0 314,-0 314,-0 320,-0 326,-6 326,-12 326,-12 326,-56 326,-56 326,-62 320,-68 314,-68\"/>\r\n",
       "<text text-anchor=\"middle\" x=\"249\" y=\"-52.8\" font-family=\"Helvetica,sans-Serif\" font-size=\"14.00\">gini = 0.281</text>\r\n",
       "<text text-anchor=\"middle\" x=\"249\" y=\"-37.8\" font-family=\"Helvetica,sans-Serif\" font-size=\"14.00\">samples = 57.9%</text>\r\n",
       "<text text-anchor=\"middle\" x=\"249\" y=\"-22.8\" font-family=\"Helvetica,sans-Serif\" font-size=\"14.00\">value = [0.831, 0.169]</text>\r\n",
       "<text text-anchor=\"middle\" x=\"249\" y=\"-7.8\" font-family=\"Helvetica,sans-Serif\" font-size=\"14.00\">class = died</text>\r\n",
       "</g>\r\n",
       "<!-- 1&#45;&gt;3 -->\r\n",
       "<g id=\"edge3\" class=\"edge\"><title>1&#45;&gt;3</title>\r\n",
       "<path fill=\"none\" stroke=\"black\" d=\"M249,-103.726C249,-95.5175 249,-86.8595 249,-78.56\"/>\r\n",
       "<polygon fill=\"black\" stroke=\"black\" points=\"252.5,-78.2996 249,-68.2996 245.5,-78.2996 252.5,-78.2996\"/>\r\n",
       "</g>\r\n",
       "<!-- 5 -->\r\n",
       "<g id=\"node6\" class=\"node\"><title>5</title>\r\n",
       "<path fill=\"#399de5\" fill-opacity=\"0.913725\" stroke=\"black\" d=\"M486,-68C486,-68 356,-68 356,-68 350,-68 344,-62 344,-56 344,-56 344,-12 344,-12 344,-6 350,-0 356,-0 356,-0 486,-0 486,-0 492,-0 498,-6 498,-12 498,-12 498,-56 498,-56 498,-62 492,-68 486,-68\"/>\r\n",
       "<text text-anchor=\"middle\" x=\"421\" y=\"-52.8\" font-family=\"Helvetica,sans-Serif\" font-size=\"14.00\">gini = 0.148</text>\r\n",
       "<text text-anchor=\"middle\" x=\"421\" y=\"-37.8\" font-family=\"Helvetica,sans-Serif\" font-size=\"14.00\">samples = 24.6%</text>\r\n",
       "<text text-anchor=\"middle\" x=\"421\" y=\"-22.8\" font-family=\"Helvetica,sans-Serif\" font-size=\"14.00\">value = [0.081, 0.919]</text>\r\n",
       "<text text-anchor=\"middle\" x=\"421\" y=\"-7.8\" font-family=\"Helvetica,sans-Serif\" font-size=\"14.00\">class = survived</text>\r\n",
       "</g>\r\n",
       "<!-- 4&#45;&gt;5 -->\r\n",
       "<g id=\"edge5\" class=\"edge\"><title>4&#45;&gt;5</title>\r\n",
       "<path fill=\"none\" stroke=\"black\" d=\"M421,-103.726C421,-95.5175 421,-86.8595 421,-78.56\"/>\r\n",
       "<polygon fill=\"black\" stroke=\"black\" points=\"424.5,-78.2996 421,-68.2996 417.5,-78.2996 424.5,-78.2996\"/>\r\n",
       "</g>\r\n",
       "<!-- 6 -->\r\n",
       "<g id=\"node7\" class=\"node\"><title>6</title>\r\n",
       "<path fill=\"#e58139\" fill-opacity=\"0.180392\" stroke=\"black\" d=\"M658,-68C658,-68 528,-68 528,-68 522,-68 516,-62 516,-56 516,-56 516,-12 516,-12 516,-6 522,-0 528,-0 528,-0 658,-0 658,-0 664,-0 670,-6 670,-12 670,-12 670,-56 670,-56 670,-62 664,-68 658,-68\"/>\r\n",
       "<text text-anchor=\"middle\" x=\"593\" y=\"-52.8\" font-family=\"Helvetica,sans-Serif\" font-size=\"14.00\">gini = 0.495</text>\r\n",
       "<text text-anchor=\"middle\" x=\"593\" y=\"-37.8\" font-family=\"Helvetica,sans-Serif\" font-size=\"14.00\">samples = 13.5%</text>\r\n",
       "<text text-anchor=\"middle\" x=\"593\" y=\"-22.8\" font-family=\"Helvetica,sans-Serif\" font-size=\"14.00\">value = [0.549, 0.451]</text>\r\n",
       "<text text-anchor=\"middle\" x=\"593\" y=\"-7.8\" font-family=\"Helvetica,sans-Serif\" font-size=\"14.00\">class = died</text>\r\n",
       "</g>\r\n",
       "<!-- 4&#45;&gt;6 -->\r\n",
       "<g id=\"edge6\" class=\"edge\"><title>4&#45;&gt;6</title>\r\n",
       "<path fill=\"none\" stroke=\"black\" d=\"M485.046,-103.726C500.456,-93.9161 516.873,-83.4644 532.133,-73.7496\"/>\r\n",
       "<polygon fill=\"black\" stroke=\"black\" points=\"534.412,-76.4481 540.968,-68.1252 530.652,-70.5431 534.412,-76.4481\"/>\r\n",
       "</g>\r\n",
       "</g>\r\n",
       "</svg>\r\n"
      ],
      "text/plain": [
       "<graphviz.files.Source at 0x250026dc898>"
      ]
     },
     "execution_count": 16,
     "metadata": {},
     "output_type": "execute_result"
    }
   ],
   "source": [
    "# Export decision tree\n",
    "dot_data_2 = export_graphviz(\n",
    "    dt_2, out_file=None,\n",
    "    feature_names=features.columns, class_names=['died', 'survived'],\n",
    "    filled=True, rounded=True, proportion=True   \n",
    ")\n",
    "\n",
    "# Display it\n",
    "graphviz.Source(dot_data_2)"
   ]
  },
  {
   "cell_type": "markdown",
   "id": "7e44b8f7",
   "metadata": {},
   "source": [
    "Again, one of the main advantages of the decision tree model is **its interpretability**. Here is a textual summary of the tree.\n",
    "\n",
    "* Most men perished but young boys survived\n",
    "* Most women survived, but half of the women from the 3rd class perished\n",
    "\n",
    "However, the complexity of the tree increases with its depth, and it's easy to create a tree that overfits. For instance, let's remove the maximum depth criteria by setting it to None. This time, we will fit and evaluate the decision tree on different sets."
   ]
  },
  {
   "cell_type": "code",
   "execution_count": 17,
   "id": "d6d49cd6",
   "metadata": {},
   "outputs": [
    {
     "name": "stdout",
     "output_type": "stream",
     "text": [
      "Train accuracy: 0.870\n",
      "Test accuracy: 0.784\n"
     ]
    }
   ],
   "source": [
    "from sklearn.model_selection import train_test_split\n",
    "\n",
    "# Split into train/test sets\n",
    "X_tr, X_te, y_tr, y_te = train_test_split(\n",
    "    X, y, test_size=0.3, random_state=0)\n",
    "\n",
    "# Create decision tree\n",
    "dt_max_depth = DecisionTreeClassifier(\n",
    "    criterion='gini', max_depth=None, random_state=0)\n",
    "\n",
    "# Fit decision tree\n",
    "dt_max_depth.fit(X_tr, y_tr)\n",
    "\n",
    "# Get train/test scores\n",
    "print('Train accuracy: {:.3f}'.format(\n",
    "    dt_max_depth.score(X_tr, y_tr)))\n",
    "# Prints: 0.870\n",
    "\n",
    "print('Test accuracy: {:.3f}'.format(\n",
    "    dt_max_depth.score(X_te, y_te)))\n",
    "# Prints: 0.784"
   ]
  },
  {
   "cell_type": "markdown",
   "id": "b7193576",
   "metadata": {},
   "source": [
    "As we can see, the decision tree correctly classifies 87% of the samples from the train set, but only 78.4% from the test set. **This is one of the main issues with decision trees. Small trees can be too simple (high bias) to model our data, and larger ones tend to overfit (high variance).**\n",
    "\n",
    "### Summary\n",
    "\n",
    "In this unit, we saw the basic idea behind decision trees and implemented one using Scikit-learn. Here are a few takeaways.\n",
    "\n",
    "* Decision trees minimize an impurity measure at each split.\n",
    "* The complexity of a decision tree depends on its depth.\n",
    "* Scikit-learn DecisionTreeClassifier estimator requires categorical features to be encoded with one-hot encoding.\n",
    "\n",
    "In practice, we use a decision tree when we want to build a **simple model that we can easily visualize and interpret**. However, we will see in the next unit that we can also combine **large trees into a random forest to create more complex models.**\n",
    "\n",
    "### Question about multi class GINI\n",
    "https://scikit-learn.org/stable/modules/tree.html\n"
   ]
  },
  {
   "cell_type": "markdown",
   "id": "af133d2e",
   "metadata": {},
   "source": [
    "# Random Forests\n",
    "\n",
    "In the last unit, we learned about decision trees and saw that **deep trees can lead to overfitting.** In this unit, we will see how to solve this issue by combining decision trees into a **random forest estimator**. We will start by discussing the intuition behind this model and then implement one using Scikit-learn.\n",
    "\n",
    "### Intuition behind random forests\n",
    "\n",
    "In the unit about the **bias-variance** trade-off, we saw two typical scenarios that can lead to poor results.\n",
    "\n",
    "- Having a too simple model that is underfitting (high bias but low variance)\n",
    "- Having a too complex model that is overfitting (low bias but high variance)\n",
    "\n",
    "We usually solve the issue by tuning the complexity of the model using grid search. But in some cases, it's also possible to reduce individually the bias or the variance using ensemble methods such as **boosting or bagging**.\n",
    "\n",
    "The idea behind **boosting is to chain simple estimators** (with a high bias) such that the strengths of each one compensate the weaknesses of the others. That way, we can reduce the overall bias. \n",
    "On the other hand, with **bagging, we try to reduce the variance of an estimator by averaging the predictions** from several instances of it trained on different samples of the data set. In this unit, we will learn about random forests which is an example of bagging.\n",
    "\n",
    "Let's take an example. Say that we have a data set \n",
    "X\n",
    " with five data points x1, x2, x3, x4, x5. The idea behind bagging (**b**oostrap **agg**regating) is to generate different data sets by sampling points from X. These are **called bootstrap samples because we sample with replacement**. Hence, each new data set will likely contain duplicates. This image shows an example of bagging with three bootstrap samples X1, X2 and X3."
   ]
  },
  {
   "cell_type": "code",
   "execution_count": 18,
   "id": "6ee1a88a",
   "metadata": {},
   "outputs": [
    {
     "data": {
      "text/html": [
       "<img src=\"https://d7whxh71cqykp.cloudfront.net/uploads/image/data/2804/bagging.svg\" width=\"800\"/>"
      ],
      "text/plain": [
       "<IPython.core.display.Image object>"
      ]
     },
     "execution_count": 18,
     "metadata": {},
     "output_type": "execute_result"
    }
   ],
   "source": [
    "Image(url='https://d7whxh71cqykp.cloudfront.net/uploads/image/data/2804/bagging.svg', width = 800)\n"
   ]
  },
  {
   "cell_type": "markdown",
   "id": "e4141fbc",
   "metadata": {},
   "source": [
    "In this example, we generate the three bootstrap samples and then fit one estimator to each sample. To compute new predictions, we simply average the predictions from our ensemble of three estimators. **In random forests, these estimators are decision trees**. Each one is different since we use different versions of the data set to build them (the bootstrap samples). In addition to **bootstrapping, random forests decorrelate even more each tree by considering a random subset of the features** at each split. For instance, if our data contains ten features and we set the size of these random subsets to five, each split will try to find the binary statement that minimizes the split impurity among five randomly chosen features.\n",
    "\n",
    "This may sound abstract, so let's go through a concrete example using Scikit-learn.\n",
    "\n",
    "### Scikit-learn implementation\n",
    "\n",
    "This time, we will work on a synthetic data set. Scikit-learn provides a make_circles() function to quickly test classification methods using a 2-dimensional toy data set with two classes. The function generates two nested circles. The outer one contains points from the negative class and the inner one points from the positive class. We can control the distance between each circle with the factor argument and the amount of noise with the noise one."
   ]
  },
  {
   "cell_type": "code",
   "execution_count": 19,
   "id": "448e5a04",
   "metadata": {},
   "outputs": [],
   "source": [
    "from sklearn.datasets import make_circles\n",
    "\n",
    "# Generate circle data set\n",
    "X, y = make_circles(\n",
    "    n_samples=200, shuffle=True, noise=0.3, random_state=0, factor=0.3)"
   ]
  },
  {
   "cell_type": "markdown",
   "id": "beb736e9",
   "metadata": {},
   "source": [
    "In this code, we generate a hundred samples from each circle and shuffle the points from the two classes. The function returns an input matrix X with two features and an output vector y with 0/1 values. Let's now plot the data"
   ]
  },
  {
   "cell_type": "code",
   "execution_count": 20,
   "id": "39307303",
   "metadata": {},
   "outputs": [
    {
     "data": {
      "image/png": "[encoded data removed]",
      "text/plain": [
       "<Figure size 432x288 with 1 Axes>"
      ]
     },
     "metadata": {
      "needs_background": "light"
     },
     "output_type": "display_data"
    }
   ],
   "source": [
    "%matplotlib inline\n",
    "import matplotlib.pyplot as plt\n",
    "\n",
    "# Same scale for x- and y-axis\n",
    "fig, ax = plt.subplots()\n",
    "ax.set_aspect('equal', adjustable='box')\n",
    "\n",
    "# Plot data\n",
    "class1_idx = (y == 1)\n",
    "ax.scatter(X[:, 0][class1_idx], X[:, 1][class1_idx], c='C3', label='class 1')\n",
    "ax.scatter(X[:, 0][~class1_idx], X[:, 1][~class1_idx], c='C0', label='class 0')\n",
    "ax.legend()\n",
    "plt.show()"
   ]
  },
  {
   "cell_type": "markdown",
   "id": "050042a4",
   "metadata": {},
   "source": [
    "By default, Pyplot uses a slightly larger scale for the x-axis than for the y-axis. Hence, if we plot the data using the default settings, we would get two ellipses instead of two circles. We solve this using the set_aspect() function of the Pyplot Axes object.\n",
    "\n",
    "Finally, we plot each class separately using the array of booleans class1_idx. You should get the following result."
   ]
  },
  {
   "cell_type": "code",
   "execution_count": 21,
   "id": "1ec8504b",
   "metadata": {},
   "outputs": [
    {
     "data": {
      "text/plain": [
       "RandomForestClassifier(bootstrap=True, class_weight=None, criterion='gini',\n",
       "            max_depth=5, max_features='auto', max_leaf_nodes=None,\n",
       "            min_impurity_decrease=0.0, min_impurity_split=None,\n",
       "            min_samples_leaf=1, min_samples_split=2,\n",
       "            min_weight_fraction_leaf=0.0, n_estimators=1, n_jobs=None,\n",
       "            oob_score=False, random_state=0, verbose=0, warm_start=False)"
      ]
     },
     "execution_count": 21,
     "metadata": {},
     "output_type": "execute_result"
    }
   ],
   "source": [
    "from sklearn.ensemble import RandomForestClassifier\n",
    "\n",
    "# Create a decision tree\n",
    "dt = RandomForestClassifier(\n",
    "    n_estimators=1, max_depth=5, random_state=0)\n",
    "\n",
    "# Fit estimator\n",
    "dt.fit(X, y)"
   ]
  },
  {
   "cell_type": "markdown",
   "id": "23dd3077",
   "metadata": {},
   "source": [
    "In this example, our dt estimator corresponds to a decision tree with a depth of five. Let's visualize it by plotting its decision surface. We provide a decision_surface(ax, x1, x2, y, estimator) in the annex below to do that. The function is very similar to the ones that we used in the previous units. It generates a grid of values in the range of our two input variables x1 and x2, and classifies them using the predict() function from the estimator."
   ]
  },
  {
   "cell_type": "code",
   "execution_count": 22,
   "id": "22ecbd18",
   "metadata": {},
   "outputs": [],
   "source": [
    "### Annex : Decision Surface function\n",
    "\n",
    "import numpy as np\n",
    "\n",
    "# Helper function\n",
    "def decision_surface(ax, x1, x2, y, estimator):\n",
    "    # Same scale for x- and y-axis\n",
    "    ax.set_aspect('equal', adjustable='box')\n",
    "\n",
    "    # Plot data points\n",
    "    class1_idx = (y == 1)\n",
    "    plt.scatter(x1[class1_idx], x2[class1_idx], color='C3', label='class 1')\n",
    "    plt.scatter(x1[~class1_idx], x2[~class1_idx], color='C0', label='class 0')\n",
    "\n",
    "    # Create a grid of values\n",
    "    xlim, ylim = ax.get_xlim(), ax.get_ylim()\n",
    "    x_values = np.linspace(*xlim, num=500)\n",
    "    y_values = np.linspace(*ylim, num=500)\n",
    "    xx, yy = np.meshgrid(x_values, y_values)\n",
    "    grid_points = np.c_[xx.flatten(), yy.flatten()]\n",
    "\n",
    "    # Compute predictions\n",
    "    preds = estimator.predict(grid_points)\n",
    "    zz = preds.reshape(xx.shape)\n",
    "\n",
    "    # Draw decision boundary\n",
    "    plt.contour(xx, yy, zz, levels=[0.5], colors='gray')\n",
    "\n",
    "    # Plot decision surface with level curves\n",
    "    plt.contourf(xx, yy, zz, alpha=0.1, cmap=plt.cm.coolwarm)\n",
    "    plt.legend()\n",
    "    plt.show()"
   ]
  },
  {
   "cell_type": "code",
   "execution_count": 23,
   "id": "b2eaf4fb",
   "metadata": {},
   "outputs": [
    {
     "data": {
      "image/png": "[encoded data removed]",
      "text/plain": [
       "<Figure size 432x288 with 1 Axes>"
      ]
     },
     "metadata": {
      "needs_background": "light"
     },
     "output_type": "display_data"
    }
   ],
   "source": [
    "# Plot decision surface\n",
    "fig, ax = plt.subplots()\n",
    "decision_surface(ax, X[:, 0], X[:, 1], y, dt)"
   ]
  },
  {
   "cell_type": "markdown",
   "id": "bdacad44",
   "metadata": {},
   "source": [
    "It seems that a single decision tree with a depth of five is too simple to model our two circles (high bias). Let's try to remove the limit on its depth by setting max_depth=None."
   ]
  },
  {
   "cell_type": "code",
   "execution_count": 24,
   "id": "6794fd06",
   "metadata": {},
   "outputs": [
    {
     "data": {
      "image/png": "[encoded data removed]",
      "text/plain": [
       "<Figure size 432x288 with 1 Axes>"
      ]
     },
     "metadata": {
      "needs_background": "light"
     },
     "output_type": "display_data"
    }
   ],
   "source": [
    "# Create a (deep) decision tree\n",
    "dt_max_depth = RandomForestClassifier(\n",
    "    n_estimators=1, max_depth=None, random_state=0)\n",
    "\n",
    "# Fit estimator\n",
    "dt_max_depth.fit(X, y)\n",
    "\n",
    "# Plot decision surface\n",
    "fig, ax = plt.subplots()\n",
    "decision_surface(ax, X[:, 0], X[:, 1], y, dt_max_depth)"
   ]
  },
  {
   "cell_type": "markdown",
   "id": "8f670309",
   "metadata": {},
   "source": [
    "This time, the decision surface looks too complicated, and **our decision tree is overfitting (high variance)**. The idea behind random forests is to reduce the variance of our decision tree by combining several instances of it. Let's start with an ensemble of ten decision trees."
   ]
  },
  {
   "cell_type": "code",
   "execution_count": 25,
   "id": "0040dc73",
   "metadata": {},
   "outputs": [
    {
     "data": {
      "image/png": "[encoded data removed]",
      "text/plain": [
       "<Figure size 432x288 with 1 Axes>"
      ]
     },
     "metadata": {
      "needs_background": "light"
     },
     "output_type": "display_data"
    }
   ],
   "source": [
    "# Create random forest estimator\n",
    "rf_10 = RandomForestClassifier(\n",
    "    n_estimators=10, max_depth=None, random_state=0)\n",
    "\n",
    "# Fit estimator\n",
    "rf_10.fit(X, y)\n",
    "\n",
    "# Plot decision surface\n",
    "fig, ax = plt.subplots()\n",
    "decision_surface(ax, X[:, 0], X[:, 1], y, rf_10)"
   ]
  },
  {
   "cell_type": "markdown",
   "id": "86b632ff",
   "metadata": {},
   "source": [
    "It's important to understand that each decision tree in our ensemble is different. Remember that we fit each tree to a different bootstrap sample and that each split minimizes impurity among a random subset of the features. By default, the size of this random subset is equal to the square root of the total number of features. But it's possible to use other strategies with the max_features parameter. You can take a look at the documentation page if you want to learn more about it.\n",
    "\n",
    "The results already look a bit better with ten decision trees. One of the advantages of decision trees is that they are fast to build and run. Hence, it's not rare in practice to combine several hundred of decision trees. Let's try with an ensemble of 200 estimators.\n"
   ]
  },
  {
   "cell_type": "code",
   "execution_count": 26,
   "id": "63daa6fa",
   "metadata": {},
   "outputs": [
    {
     "data": {
      "image/png": "[encoded data removed]",
      "text/plain": [
       "<Figure size 432x288 with 1 Axes>"
      ]
     },
     "metadata": {
      "needs_background": "light"
     },
     "output_type": "display_data"
    }
   ],
   "source": [
    "# Create a (large) random forest estimator\n",
    "rf_200 = RandomForestClassifier(\n",
    "    n_estimators=200, max_depth=None, random_state=0)\n",
    "\n",
    "# Fit estimator\n",
    "rf_200.fit(X, y)\n",
    "\n",
    "# Plot decision surface\n",
    "fig, ax = plt.subplots()\n",
    "decision_surface(ax, X[:, 0], X[:, 1], y, rf_200)"
   ]
  },
  {
   "cell_type": "markdown",
   "id": "075a3b6e",
   "metadata": {},
   "source": [
    "We can now verify that the ensemble of trees achieves better results than the single tree using cross-validation. Let's evaluate each estimator using a (stratified) 10-fold cross-validation."
   ]
  },
  {
   "cell_type": "code",
   "execution_count": 27,
   "id": "b1e1d411",
   "metadata": {},
   "outputs": [
    {
     "name": "stdout",
     "output_type": "stream",
     "text": [
      "Decision tree - mean test 0.780\n",
      "Random forest - mean test 0.825\n"
     ]
    }
   ],
   "source": [
    "from sklearn.model_selection import cross_validate\n",
    "\n",
    "# Mean test score of a single decision tree (max depth)\n",
    "dt_scores = cross_validate(dt_max_depth, X, y, cv=10)\n",
    "print('Decision tree - mean test {:.3f}'.format(\n",
    "    np.mean(dt_scores['test_score'])))\n",
    "# Prints: 0.780\n",
    "\n",
    "# Mean test score of a random forest (200x, max depth)\n",
    "rf_scores = cross_validate(rf_200, X, y, cv=10)\n",
    "print('Random forest - mean test {:.3f}'.format(\n",
    "    np.mean(rf_scores['test_score'])))\n",
    "# Prints: 0.825"
   ]
  },
  {
   "cell_type": "markdown",
   "id": "6459f7ce",
   "metadata": {},
   "source": [
    "The single tree has an average test accuracy of 78% whereas the ensemble achieves a mean accuracy of 82.5%."
   ]
  },
  {
   "cell_type": "markdown",
   "id": "144512e2",
   "metadata": {},
   "source": [
    "### Note on multiclass vs. multilabel in Scikit-learn"
   ]
  },
  {
   "cell_type": "markdown",
   "id": "c96abb2a",
   "metadata": {},
   "source": [
    "We have already introduced **multiclass classification** problems in the logistic regression subject. Such problems are characterized by a label y, or a target value, that can take more than two possible options as opposed to binary classification. For example, classifying images of animals into three classes: \"cat\", \"dog\", and \"horse\". In this case, we have a single label per sample with three mutually exclusive classes (which means that a given sample can only belong to one of the three classes). The label \n",
    "y can be encoded using integers: \"cat\" takes the value 0, \"dog\" takes 1, and \"horse\" takes \n",
    "2. One can also perform one-hot encoding on y where \"cat\" takes [1,0,0], \"dog\" takes [0,1,0], and \"horse\" takes [0,0,1]. Mutual exclusivity means that an image can not be dog and horse at the same time, which means that the label [0,1,1] is not possible.\n",
    "\n",
    "Let's now turn into **multilabel classifications** problems. In such problems, multiple classifications are done at the same time and each sample has more than one label. For example, assume the same set of images as before that we want to classify this time into the following: color of the animal \"white\" vs. \"black\", gender of the animal \"male\" vs. \"female\", and age of the animal \"young\" vs. \"old\". In this case, we have three labels for each sample since we are performing three different classifications. A given sample can be \"white\", \"female\", and \"old\" at the same time with y=[\"white\",\"female\",\"old\"]. One can use binary encoding for each of the three classification problems: \"white\"/\"black\" map to 0/1,\"male\"/\"female\" map to 0/1, and \"young\"/\"old\" map to 0/1. In this case, the previous sample \"white\", \"female\", and \"old\" is mapped to y=[0,1,1].\n",
    "\n",
    "You can now notice the difference between the last two examples: in multiclass classification we have a single classification problem with multiple classes (more than two), whereas in multilabel classification we have multiple classification problems. The confusion in some Scikit-learn models arises whenever we perform multiclass classification with one-hot encoded labels (for instance when the class \"horse\" is encoded as y=[0,0,1] in the example above). While this is a multiclass classification, the one-hot encoding can confuse some models and makes them perform multilabel classification by running three independent classifiers instead of a single multiclass classification. This approach is not completely wrong but might not lead to optimal performance.\n",
    "\n",
    "This confusion might occur when using Scikit-learn models that support multilabel, such as DecisionTreeClassifier, RandomForestClassifier, and KNeighborsClassifier. In such cases and whenever a multiclass classification is performed, it is recommended to use integer encoding for labels y instead of one-hot encoding in order to avoid this confusion. Note that LogisticRegressiom only takes integer encoded labels, and no confusion between multiclass and multilabel is expected there.\n",
    "\n",
    "To illustrate this, let's use the iris data set and create a KNeighborsClassifier for the three types of iris flowers."
   ]
  },
  {
   "cell_type": "code",
   "execution_count": 28,
   "id": "9958c811",
   "metadata": {},
   "outputs": [],
   "source": [
    "from sklearn import datasets\n",
    "\n",
    "# Load data set\n",
    "iris = datasets.load_iris()\n",
    "\n",
    "# Create X/y arrays\n",
    "X = iris['data']\n",
    "y = iris['target']"
   ]
  },
  {
   "cell_type": "code",
   "execution_count": 29,
   "id": "6aec8c62",
   "metadata": {},
   "outputs": [],
   "source": [
    "from sklearn.model_selection import train_test_split\n",
    "\n",
    "# Split into train/test sets\n",
    "X_tr, X_te, y_tr, y_te = train_test_split(\n",
    "    X, y, test_size=0.3, random_state=0)"
   ]
  },
  {
   "cell_type": "markdown",
   "id": "3e9b6fe4",
   "metadata": {},
   "source": [
    "We will now create two types of encodings for the labels y, integer encoding and one-hot encoding"
   ]
  },
  {
   "cell_type": "code",
   "execution_count": 30,
   "id": "8db751b4",
   "metadata": {},
   "outputs": [
    {
     "name": "stdout",
     "output_type": "stream",
     "text": [
      "1\n",
      "[0. 1. 0.]\n"
     ]
    }
   ],
   "source": [
    "from sklearn.preprocessing import OneHotEncoder\n",
    "\n",
    "# create one-hot encoder\n",
    "encoder = OneHotEncoder(handle_unknown='ignore', sparse= False)\n",
    "\n",
    "y_tr_hot = encoder.fit_transform(y_tr.reshape(-1,1))\n",
    "y_te_hot = encoder.transform(y_te.reshape(-1,1))\n",
    "\n",
    "# integer encoded labels\n",
    "print(y_tr[0]) # Prints: 1\n",
    "\n",
    "# one-hot encoded labels\n",
    "print(y_tr_hot[0]) "
   ]
  },
  {
   "cell_type": "markdown",
   "id": "c0a6f033",
   "metadata": {},
   "source": [
    "Let's now train a KNeighborsClassifier using the integer encoded labels"
   ]
  },
  {
   "cell_type": "code",
   "execution_count": 31,
   "id": "7ecbe9f5",
   "metadata": {},
   "outputs": [
    {
     "name": "stdout",
     "output_type": "stream",
     "text": [
      "[0 1 2]\n",
      "Accuracy: 0.978\n"
     ]
    }
   ],
   "source": [
    "from sklearn.neighbors import KNeighborsClassifier\n",
    "\n",
    "# Create the estimator\n",
    "knn = KNeighborsClassifier(n_neighbors=2)\n",
    "\n",
    "# Fit it to train data\n",
    "knn.fit(X_tr, y_tr)\n",
    "\n",
    "# output the classes\n",
    "print(knn.classes_) # Prints: [0 1 2]\n",
    "\n",
    "# Accuracy on test set\n",
    "accuracy = knn.score(X_te, y_te)\n",
    "print('Accuracy: {:.3f}'.format(accuracy))"
   ]
  },
  {
   "cell_type": "markdown",
   "id": "7013bd07",
   "metadata": {},
   "source": [
    "We will now repeat the same thing but using the one-hot encoded labels and notice the difference in performance"
   ]
  },
  {
   "cell_type": "code",
   "execution_count": 32,
   "id": "b2fefb83",
   "metadata": {},
   "outputs": [
    {
     "name": "stdout",
     "output_type": "stream",
     "text": [
      "[array([0., 1.]), array([0., 1.]), array([0., 1.])]\n",
      "Accuracy: 0.956\n"
     ]
    }
   ],
   "source": [
    "# Create the estimator\n",
    "knn = KNeighborsClassifier(n_neighbors=2)\n",
    "\n",
    "# Fit it to train data (using one-hot encoded labels)\n",
    "knn.fit(X_tr, y_tr_hot)\n",
    "\n",
    "# output the classes\n",
    "print(knn.classes_) # Prints: [array([0., 1.]), array([0., 1.]), array([0., 1.])]\n",
    "\n",
    "# Accuracy on test set\n",
    "accuracy = knn.score(X_te, y_te_hot)\n",
    "print('Accuracy: {:.3f}'.format(accuracy))"
   ]
  },
  {
   "cell_type": "markdown",
   "id": "3f5679f3",
   "metadata": {},
   "source": [
    "You can notice the degradation in accuracy performance by 2%. This is because the Scikit-learn model got confused by the one-hot encoding of y and performed multilabel classification (three independent binary classifications in this example) instead of a single multiclass classification. You can notice this by printing the classes_ attribute as done above.\n",
    "\n",
    "Note that this is a simple example for illustration purposes. In other scenarios, the difference in performance might be much bigger. **Therefore, it is essential to distinguish between these two types of classification available in the Scikit-learn library in order to decide which one to use based on the task at hand.** For further information on this topic, you can refer to this documentation page.\n",
    "\n",
    "*Question :*\n",
    "\n",
    "Multiclass vs. multilabel\n",
    "\n",
    "Let's say we have a multilabel task with multiclass classification at the same time. For example, we need to classify each animal in terms of age, gender, and color (three features), but we have more than 2 colors as opposed as in your example.\n",
    "Would the recommended method be to use binary encoding for age and gender, and then integers for color? Or could we also use binary encoding for age and gender, and then one-hot encoding for color? And which would be best?\n",
    "In summary, isn't it always better to use binary encoding and/or integers rather than one-hot encoding (especially since we know one-hot encoding can also create collinearity issues if first column is not removed)? Or is there a case when one-hot encoding is better or more useful? Many thanks\n",
    "\n",
    "*Answer :*\n",
    "\n",
    "Good question. This situation is called \"multiclass-multioutput\" classification, also known as \"multitask\" classification, in sklearn jargon (check here https://scikit-learn.org/stable/modules/multiclass.html#multiclass-multioutput-classification). Encoding the labels depends on the convention of each library. In sklearn convention, the mutually exclusive classes should not be encoded via one-hot encoding in general (mutually exclusive means that the color can not be green and red at the same time). In other libraries, such as Keras as you will see later, you can employ both types of encoding and adapt the cost function accordingly.\n",
    "\n",
    "The discussion of colinearity has to do with the encoding of the input features, not the output labels. The reason one-hot encoding is not recommended for label encoding in sklearn is related to the underlying convention of sklearn's cost functions that does not assume mutual exclusivity in some cases.\n",
    "\n",
    "\n",
    "### Summary\n",
    "In this unit, we learned about bagging and random forests and saw that we can reduce the variance (and hence increase performance) of an estimator by combining several instances of it.\n",
    "\n",
    "In the next unit, we will learn about **support vector machines (SVMs)** and see how to implement them using Scikit-learn."
   ]
  },
  {
   "cell_type": "markdown",
   "id": "e58a76a0",
   "metadata": {},
   "source": [
    "# Support Vector Machines (SVM)\n",
    "\n",
    "In this unit, we will learn about support vector machines (SVMs). We will start by discussing the intuition behind this model and learn about the kernel trick. We will then test it on the circles data set from the previous unit using Scikit-learn estimators.\n",
    "\n",
    "In the last units, we plotted the decision boundary of different estimators. Intuitively, we want these boundaries to be far from the data points of the different classes in our problem. For instance, here is a sample data set with three possible decision boundaries.\n",
    "\n"
   ]
  },
  {
   "cell_type": "code",
   "execution_count": 49,
   "id": "dccd8226",
   "metadata": {},
   "outputs": [
    {
     "data": {
      "text/html": [
       "<img src=\"https://d7whxh71cqykp.cloudfront.net/uploads/image/data/2798/svm-max-margin.svg\" width=\"500\"/>"
      ],
      "text/plain": [
       "<IPython.core.display.Image object>"
      ]
     },
     "execution_count": 49,
     "metadata": {},
     "output_type": "execute_result"
    }
   ],
   "source": [
    "Image(url='https://d7whxh71cqykp.cloudfront.net/uploads/image/data/2798/svm-max-margin.svg', width = 500)"
   ]
  },
  {
   "cell_type": "markdown",
   "id": "ed096c4e",
   "metadata": {},
   "source": [
    "The blue and the red ones both classify the data points from the two classes without making any mistakes. However, we expect the estimator that corresponds to the red boundary to give better results than the blue one because the red line is farther away from the data points from both classes. Hence, it should generalize better.\n",
    "\n",
    "This is the idea behind support vector machines. **SVMs try to find the separation with the maximum margin around it**. To achieve this, the model minimizes the hinge loss.\n",
    "\n",
    "> $hinge(s)=max(0,1−ys)$\n",
    "\n",
    "In this formula, $s$ is the output of the SVM classifier and $y$ the class label. The output $s$ determines on which side of the decision boundary a data point is. The model predicts the positive class if the output is positive, and the negative class if the output is negative. The class labels $y$ are either -1 for the negative class or +1 for the positive class (instead of the usual 0/1 values). Here is a plot of the hinge formula in the two cases."
   ]
  },
  {
   "cell_type": "code",
   "execution_count": 50,
   "id": "d493bc1b",
   "metadata": {},
   "outputs": [
    {
     "data": {
      "text/html": [
       "<img src=\"https://d7whxh71cqykp.cloudfront.net/uploads/image/data/5622/hinge-loss.svg\" width=\"500\"/>"
      ],
      "text/plain": [
       "<IPython.core.display.Image object>"
      ]
     },
     "execution_count": 50,
     "metadata": {},
     "output_type": "execute_result"
    }
   ],
   "source": [
    "Image(url='https://d7whxh71cqykp.cloudfront.net/uploads/image/data/5622/hinge-loss.svg', width = 500)"
   ]
  },
  {
   "cell_type": "markdown",
   "id": "e5360f4a",
   "metadata": {},
   "source": [
    "It is important to understand that the hinge loss can penalize points even if they are on the correct side of the decision boundary. For instance, for the positive class (blue line), output values between 0 and 1 have a nonzero loss value even if they are correctly classified (the output is positive). Similarly, for the negative class (red line), the hinge loss penalizes points with an output value between -1 and 0. **his \"penalization\" area around the decision boundary is called the margin of the SVM classifier.**\n",
    "\n",
    "Here is an image of a possible decision boundary and its margin. Minus and plus signs denote points from the negative and the positive classes. We mark data points that are either inside the margin or on the wrong side of the decision boundary (misclassified) in red."
   ]
  },
  {
   "cell_type": "code",
   "execution_count": 51,
   "id": "b0727b1e",
   "metadata": {},
   "outputs": [
    {
     "data": {
      "text/html": [
       "<img src=\"https://d7whxh71cqykp.cloudfront.net/uploads/image/data/2796/svm-margin.svg\" width=\"500\"/>"
      ],
      "text/plain": [
       "<IPython.core.display.Image object>"
      ]
     },
     "execution_count": 51,
     "metadata": {},
     "output_type": "execute_result"
    }
   ],
   "source": [
    "Image(url='https://d7whxh71cqykp.cloudfront.net/uploads/image/data/2796/svm-margin.svg', width = 500)"
   ]
  },
  {
   "cell_type": "markdown",
   "id": "e5b17ad5",
   "metadata": {},
   "source": [
    "These data points in red are the only ones with a **nonzero loss value**. In that sense, the decision boundary only depends on this (typically small) subset of data points called **support vectors**.\n",
    "\n",
    "To summarize, support vector machines try to find a decision boundary with the largest margin while minimizing the number of data points inside its margin or on the wrong side of the decision boundary. In practice, we can control this trade-off with a C parameter. Small values produce classifiers that try to maximize the margin (can lead to underfitting) whereas larger values produce classifiers that try to avoid misclassifying data points (can lead to overfitting). In that sense, this C parameter controls the **complexity of the model** and is similar to the C parameter in logistic regressions."
   ]
  },
  {
   "cell_type": "markdown",
   "id": "f389c053",
   "metadata": {},
   "source": [
    "# Nonlinear classification\n",
    "\n",
    "We saw above that SVMs try to find the output values s that minimize the hinge loss. These output values correspond to the usual linear model in which we multiply feature values with coefficients from a vector w (just like linear regressions).\n",
    "\n",
    "This model can be too rigid in some cases when there are nonlinear relationships between the variables. But we can solve this issue by introducing new features. For instance, here is a modified version of the circles data set from the previous unit. This time, the two classes don't overlap. This data set is not linearly separable in the sense that we cannot draw a line that separates the two classes."
   ]
  },
  {
   "cell_type": "code",
   "execution_count": 53,
   "id": "b33fa9ed",
   "metadata": {},
   "outputs": [
    {
     "data": {
      "text/html": [
       "<img src=\"https://d7whxh71cqykp.cloudfront.net/uploads/image/data/5623/nonlin-2d.svg\" width=\"300\"/>"
      ],
      "text/plain": [
       "<IPython.core.display.Image object>"
      ]
     },
     "execution_count": 53,
     "metadata": {},
     "output_type": "execute_result"
    }
   ],
   "source": [
    "Image(url='https://d7whxh71cqykp.cloudfront.net/uploads/image/data/5623/nonlin-2d.svg', width = 300)"
   ]
  },
  {
   "cell_type": "markdown",
   "id": "34b5cc8f",
   "metadata": {},
   "source": [
    "But we can add new variables to make it linearly separable. For instance, one solution is to add x3=x1^2+x2^2. Here is a plot of the data in this \"extended\" feature space with three variables."
   ]
  },
  {
   "cell_type": "code",
   "execution_count": 56,
   "id": "1a6103a3",
   "metadata": {},
   "outputs": [
    {
     "data": {
      "text/html": [
       "<img src=\"https://d7whxh71cqykp.cloudfront.net/uploads/image/data/5624/nonlin-3d.svg\" width=\"400\"/>"
      ],
      "text/plain": [
       "<IPython.core.display.Image object>"
      ]
     },
     "execution_count": 56,
     "metadata": {},
     "output_type": "execute_result"
    }
   ],
   "source": [
    "Image(url='https://d7whxh71cqykp.cloudfront.net/uploads/image/data/5624/nonlin-3d.svg', width = 400)"
   ]
  },
  {
   "cell_type": "markdown",
   "id": "5ffc996d",
   "metadata": {},
   "source": [
    "As we can see, it's now possible to draw a hyperplane to separate the data points from the two classes (e.g., x3=0.3).\n",
    "\n",
    "In this case, we were able to perform nonlinear classification by adding a new feature. **However, with support vector machines, there is an easier way to achieve this called the kernel trick.**"
   ]
  },
  {
   "cell_type": "markdown",
   "id": "8f96755e",
   "metadata": {},
   "source": [
    "### Dual problem and kernel trick\n",
    "\n",
    "Before learning about the kernel trick, we need to discuss the idea of **duality** in optimization. We won't go into the details, but in short, every optimization problem can be seen from two perspectives which are equivalent. In our case, it's possible to reformulate our problem of finding a vector of coefficients w into its dual problem in which we want to find a vector α where each entry corresponds to a data point in our training set. You can think of this vector as a way to indicate how important each point is to determine on which side of the decision boundary we are.\n",
    "\n",
    "The main advantage of working with the dual is that the solution doesn't depend on the input matrix X directly but on the product XX⊺ which is called the **kernel matrix.**\n",
    "\n",
    "> $K=XX⊺$\n",
    "\n",
    "K is an (n,n) matrix where n is the number of data points. Since the i-th row of X corresponds to the i-th data point, the j-th column of X⊺ corresponds to the j-th data point, and the (i,j) element of K is the product between them. Hence, another way to write this matrix is to use a function k that takes two data points and computes their product.\n",
    "\n",
    "> $k(xi,xj)=x⊺ixj$\n",
    "\n",
    "This **function k is called the linear kernel** and is equivalent to the kernel matrix \n",
    "K from above. The idea behind the **kernel trick** is to compute this product in **another feature space** where our data becomes linearly separable.\n",
    "\n",
    "> $k(xi,⃗xj)=ϕ(⃗xi)⊺ϕ(⃗xj)$\n",
    "\n",
    "In this notation, the letter ϕ (phi) denotes the new feature space and ϕ(⃗xi) corresponds to the value of the vector ⃗xi in this new feature space. In the circles example from above, the new feature space corresponds to the 3-dimensional space with the additional feature.\n",
    "\n",
    "Note that it's not necessary to know what this new feature space is as long as we can compute the product between the two vectors in it. In particular, it can have an infinite number of dimensions. One example of this is the **popular RBF kernel.**\n",
    "\n",
    "> $k(⃗xi,⃗xj)=e^(−γ∥⃗xi−⃗xj∥)^2$\n",
    "\n",
    "As you can see, the kernel function k is not defined as a product between the two data points. Instead, the value of the kernel is a function of the Euclidean distance between the two points ∥⃗xi−⃗xj∥. You can think of it as a similarity measure."
   ]
  },
  {
   "cell_type": "code",
   "execution_count": 58,
   "id": "0652214e",
   "metadata": {},
   "outputs": [
    {
     "data": {
      "text/html": [
       "<img src=\"https://d7whxh71cqykp.cloudfront.net/uploads/image/data/5625/rbf-kernel.svg\" width=\"500\"/>"
      ],
      "text/plain": [
       "<IPython.core.display.Image object>"
      ]
     },
     "execution_count": 58,
     "metadata": {},
     "output_type": "execute_result"
    }
   ],
   "source": [
    "Image(url='https://d7whxh71cqykp.cloudfront.net/uploads/image/data/5625/rbf-kernel.svg', width = 500)"
   ]
  },
  {
   "cell_type": "markdown",
   "id": "74e4d2bb",
   "metadata": {},
   "source": [
    "Points that are close to each other have a kernel value close to one and points that are far from each other have a value close to zero. The γ (gamma) parameter controls how much the points can affect each other. Large gamma values produce small kernel values, except if the two points are close to each other, and we can increase the effect of points further away by decreasing gamma.\n",
    "\n",
    "Support vector machines are very popular due to this kernel trick. Note that this technique is not specific to SVMs. For instance, it's possible to reformulate ridge regression to obtain **kernel ridge regression (KRR)**. In practice, working with kernels can be computationally expensive because we need to evaluate the kernel function for any pair of data points. However, support vector machines work well with kernels because the decision boundary only depends on a subset of the data points with a nonzero entry in the α parameter (the support vectors).\n",
    "\n",
    "### Scikit-learn implementation\n",
    "\n",
    "We now know the intuition behind support vector machines and kernels. Let's see how to use them with Scikit-learn. We will use the circles data set from the previous unit."
   ]
  },
  {
   "cell_type": "code",
   "execution_count": 39,
   "id": "7decc89c",
   "metadata": {},
   "outputs": [],
   "source": [
    "from sklearn.datasets import make_circles\n",
    "\n",
    "# Generate circle data set\n",
    "X, y = make_circles(\n",
    "    n_samples=200, shuffle=True, noise=0.3, random_state=0, factor=0.3)"
   ]
  },
  {
   "cell_type": "markdown",
   "id": "918621f1",
   "metadata": {},
   "source": [
    "Let's start with linear SVM. Scikit-learn provides a LinearSVC estimator which is a very efficient implementation of support vector machines with a linear kernel."
   ]
  },
  {
   "cell_type": "code",
   "execution_count": 40,
   "id": "96ca2337",
   "metadata": {},
   "outputs": [
    {
     "data": {
      "text/plain": [
       "LinearSVC(C=1.0, class_weight=None, dual=True, fit_intercept=True,\n",
       "     intercept_scaling=1, loss='squared_hinge', max_iter=1000,\n",
       "     multi_class='ovr', penalty='l2', random_state=None, tol=0.0001,\n",
       "     verbose=0)"
      ]
     },
     "execution_count": 40,
     "metadata": {},
     "output_type": "execute_result"
    }
   ],
   "source": [
    "from sklearn.svm import LinearSVC\n",
    "\n",
    "# Create SVM with linear kernel\n",
    "linear_svc = LinearSVC()\n",
    "\n",
    "# Fit estimator\n",
    "linear_svc.fit(X, y)"
   ]
  },
  {
   "cell_type": "markdown",
   "id": "e68c924c",
   "metadata": {},
   "source": [
    "In this code, we create the estimator and fit it to the data. Let's use the decision_surface() function from the previous unit to visualize its decision boundary."
   ]
  },
  {
   "cell_type": "code",
   "execution_count": 41,
   "id": "bd32d832",
   "metadata": {},
   "outputs": [
    {
     "data": {
      "image/png": "[encoded data removed]",
      "text/plain": [
       "<Figure size 432x288 with 1 Axes>"
      ]
     },
     "metadata": {
      "needs_background": "light"
     },
     "output_type": "display_data"
    }
   ],
   "source": [
    "# Plot decision surface\n",
    "fig, ax = plt.subplots()\n",
    "decision_surface(ax, X[:, 0], X[:, 1], y, linear_svc)"
   ]
  },
  {
   "cell_type": "markdown",
   "id": "2f7aeb62",
   "metadata": {},
   "source": [
    "**As we saw above, the linear kernel can only perform linear classification**.\n",
    "Hence, the only way to classify these data points correctly using this linear_svc classifier is to **add new features to the data set**. \n",
    "However, we know from above that **we can also perform nonlinear classification using other kernels**. Scikit-learn provides an SVC estimator that implements many different ones."
   ]
  },
  {
   "cell_type": "code",
   "execution_count": 42,
   "id": "f7b4db98",
   "metadata": {},
   "outputs": [
    {
     "name": "stderr",
     "output_type": "stream",
     "text": [
      "C:\\Users\\lyeso\\anaconda3\\envs\\exts-ml\\lib\\site-packages\\sklearn\\svm\\base.py:196: FutureWarning: The default value of gamma will change from 'auto' to 'scale' in version 0.22 to account better for unscaled features. Set gamma explicitly to 'auto' or 'scale' to avoid this warning.\n",
      "  \"avoid this warning.\", FutureWarning)\n"
     ]
    },
    {
     "data": {
      "text/plain": [
       "SVC(C=1, cache_size=200, class_weight=None, coef0=0.0,\n",
       "  decision_function_shape='ovr', degree=3, gamma='auto_deprecated',\n",
       "  kernel='rbf', max_iter=-1, probability=False, random_state=None,\n",
       "  shrinking=True, tol=0.001, verbose=False)"
      ]
     },
     "execution_count": 42,
     "metadata": {},
     "output_type": "execute_result"
    }
   ],
   "source": [
    "from sklearn.svm import SVC\n",
    "\n",
    "# Create SVM with RBF kernel\n",
    "rbf_svc_c1 = SVC(kernel='rbf', C=1)\n",
    "\n",
    "# Fit estimator\n",
    "rbf_svc_c1.fit(X, y)"
   ]
  },
  {
   "cell_type": "markdown",
   "id": "ae3f09a5",
   "metadata": {},
   "source": [
    "In this code, we create an SVM classifier with an RBF kernel and set the C value to one. Let's visualize its decision boundary."
   ]
  },
  {
   "cell_type": "code",
   "execution_count": 43,
   "id": "50b82935",
   "metadata": {},
   "outputs": [
    {
     "data": {
      "image/png": "[encoded data removed]",
      "text/plain": [
       "<Figure size 432x288 with 1 Axes>"
      ]
     },
     "metadata": {
      "needs_background": "light"
     },
     "output_type": "display_data"
    }
   ],
   "source": [
    "# Plot decision surface\n",
    "fig, ax = plt.subplots()\n",
    "decision_surface(ax, X[:, 0], X[:, 1], y, rbf_svc_c1)"
   ]
  },
  {
   "cell_type": "markdown",
   "id": "2e559404",
   "metadata": {},
   "source": [
    "This time, the boundary forms an ellipse around the data points from the positive class. In our case, we know that the data was generated using a circle. Hence, this elliptical decision boundary might be a sign of overfitting. We saw above that **we can reduce overfitting by decreasing the value of C**. Let's try with a value of 0.1."
   ]
  },
  {
   "cell_type": "code",
   "execution_count": 44,
   "id": "6ad7cf10",
   "metadata": {},
   "outputs": [
    {
     "name": "stderr",
     "output_type": "stream",
     "text": [
      "C:\\Users\\lyeso\\anaconda3\\envs\\exts-ml\\lib\\site-packages\\sklearn\\svm\\base.py:196: FutureWarning: The default value of gamma will change from 'auto' to 'scale' in version 0.22 to account better for unscaled features. Set gamma explicitly to 'auto' or 'scale' to avoid this warning.\n",
      "  \"avoid this warning.\", FutureWarning)\n"
     ]
    },
    {
     "data": {
      "image/png": "[encoded data removed]",
      "text/plain": [
       "<Figure size 432x288 with 1 Axes>"
      ]
     },
     "metadata": {
      "needs_background": "light"
     },
     "output_type": "display_data"
    }
   ],
   "source": [
    "# Create SVM estimator with RBF kernel and C=0.1\n",
    "rbf_svc_c01 = SVC(kernel='rbf', C=0.1)\n",
    "\n",
    "# Fit estimator\n",
    "rbf_svc_c01.fit(X, y)\n",
    "\n",
    "# Plot decision surface\n",
    "fig, ax = plt.subplots()\n",
    "decision_surface(ax, X[:, 0], X[:, 1], y, rbf_svc_c01)"
   ]
  },
  {
   "cell_type": "markdown",
   "id": "8e97defa",
   "metadata": {},
   "source": [
    "This time, we get a nice circle that should generalize better to new data points.\n",
    "\n",
    "Gamma γ is another important parameter of the RBF kernel which controls how much influence each data point has. You can think of this **gamma parameter as a way to control how smooth the decision boundary is**. Let's try to increase the default value of one to a hundred."
   ]
  },
  {
   "cell_type": "code",
   "execution_count": 45,
   "id": "204be99b",
   "metadata": {},
   "outputs": [
    {
     "data": {
      "image/png": "[encoded data removed]",
      "text/plain": [
       "<Figure size 432x288 with 1 Axes>"
      ]
     },
     "metadata": {
      "needs_background": "light"
     },
     "output_type": "display_data"
    }
   ],
   "source": [
    "# Create RBF SVM with C=1 and gamma=100\n",
    "rbf_svc_g100 = SVC(kernel='rbf', C=1, gamma=100)\n",
    "\n",
    "# Fit estimator\n",
    "rbf_svc_g100.fit(X, y)\n",
    "\n",
    "# Plot decision surface\n",
    "fig, ax = plt.subplots()\n",
    "decision_surface(ax, X[:, 0], X[:, 1], y, rbf_svc_g100)"
   ]
  },
  {
   "cell_type": "markdown",
   "id": "3be7550c",
   "metadata": {},
   "source": [
    "As we can see, the decision surface becomes very complex and **starts overfitting**. If we keep increasing gamma, data points need to be really to close to each other to be affected and the classifier cannot generalize anymore."
   ]
  },
  {
   "cell_type": "code",
   "execution_count": 46,
   "id": "03318853",
   "metadata": {},
   "outputs": [
    {
     "data": {
      "image/png": "[encoded data removed]",
      "text/plain": [
       "<Figure size 432x288 with 1 Axes>"
      ]
     },
     "metadata": {
      "needs_background": "light"
     },
     "output_type": "display_data"
    }
   ],
   "source": [
    "# Create RBF SVM with C=1 and large gamma value\n",
    "rbf_svc_g1000 = SVC(kernel='rbf', C=1, gamma=1000)\n",
    "\n",
    "# Fit estimator\n",
    "rbf_svc_g1000.fit(X, y)\n",
    "\n",
    "# Plot decision surface\n",
    "fig, ax = plt.subplots()\n",
    "decision_surface(ax, X[:, 0], X[:, 1], y, rbf_svc_g1000)"
   ]
  },
  {
   "cell_type": "markdown",
   "id": "62a30b2b",
   "metadata": {},
   "source": [
    "On the other hand, we can reduce the complexity of the model by decreasing gamma. Let's try to set it to 0.1."
   ]
  },
  {
   "cell_type": "code",
   "execution_count": 47,
   "id": "d4f206c1",
   "metadata": {},
   "outputs": [
    {
     "data": {
      "image/png": "[encoded data removed]",
      "text/plain": [
       "<Figure size 432x288 with 1 Axes>"
      ]
     },
     "metadata": {
      "needs_background": "light"
     },
     "output_type": "display_data"
    }
   ],
   "source": [
    "# Create RBF SVM with C=1 and gamma=0.1\n",
    "rbf_svc_g01 = SVC(kernel='rbf', C=1, gamma=0.1)\n",
    "\n",
    "# Fit estimator\n",
    "rbf_svc_g01.fit(X, y)\n",
    "\n",
    "# Plot decision surface\n",
    "fig, ax = plt.subplots()\n",
    "decision_surface(ax, X[:, 0], X[:, 1], y, rbf_svc_g01)"
   ]
  },
  {
   "cell_type": "markdown",
   "id": "d64aca42",
   "metadata": {},
   "source": [
    "The decision boundary is very similar to the rbf_svc_c01 estimator one from above.\n",
    "\n",
    "Finally, let's try with a small gamma value."
   ]
  },
  {
   "cell_type": "code",
   "execution_count": 48,
   "id": "acac6e65",
   "metadata": {},
   "outputs": [
    {
     "data": {
      "image/png": "[encoded data removed]",
      "text/plain": [
       "<Figure size 432x288 with 1 Axes>"
      ]
     },
     "metadata": {
      "needs_background": "light"
     },
     "output_type": "display_data"
    }
   ],
   "source": [
    "# Create RBF SVM with C=1 and small gamma value\n",
    "rbf_svc_g001 = SVC(kernel='rbf', C=1, gamma=0.01)\n",
    "\n",
    "# Fit estimator\n",
    "rbf_svc_g001.fit(X, y)\n",
    "\n",
    "# Plot decision surface\n",
    "fig, ax = plt.subplots()\n",
    "decision_surface(ax, X[:, 0], X[:, 1], y, rbf_svc_g001)"
   ]
  },
  {
   "cell_type": "markdown",
   "id": "c763179e",
   "metadata": {},
   "source": [
    "This time, the decision boundary is \"too smooth\" to model the data, and our **estimator is underfitting**. In practice, it's critical to have good C and γ values, and we usually **tune them using grid search.**"
   ]
  },
  {
   "cell_type": "markdown",
   "id": "9a55b866",
   "metadata": {},
   "source": [
    "### Liblinear versus libsvm\n",
    "\n",
    "If you take a look at the documentation page of the SVC estimator, you can see that it's also possible to use the linear kernel by setting the kernel parameter to linear. Hence, there are two ways to fit a support vector machine with a linear kernel.\n",
    "\n",
    "> - With the LinearSVC estimator\n",
    "> - By setting kernel='linear' in an SVC estimator\n",
    "\n",
    "In fact, these two estimators compute the optimal vector ⃗α in two different ways. The LinearSVC estimator uses the **\"liblinear\" solver (based on the coordinate descent algorithm) which should scale better to a large number of samples.** On the other hand, the SVC estimator uses the **\"libsvm\" solver (based on the SMO algorithm) which can work with nonlinear kernels but is slower than liblinear.**\n",
    "\n",
    "Hence, we usually create a LinearSVC estimator when the kernel is linear and use the SVC one when we want to test other kernels. However, note that **SVC doesn't scale well to a large number of data points** which can be an important limitation in practice.\n",
    "\n",
    "### Summary\n",
    "\n",
    "In this unit, we learned about support vector machines and the kernel trick. In the next exercise, you will be able to experiment with SVMs and the RBF kernel on a data set designed for nonlinear classification. This a good opportunity to experiment with different C and γ values and see their effect on the decision boundary."
   ]
  },
  {
   "cell_type": "code",
   "execution_count": null,
   "id": "9c87f8a1",
   "metadata": {},
   "outputs": [],
   "source": []
  }
 ],
 "metadata": {
  "kernelspec": {
   "display_name": "Python 3",
   "language": "python",
   "name": "python3"
  },
  "language_info": {
   "codemirror_mode": {
    "name": "ipython",
    "version": 3
   },
   "file_extension": ".py",
   "mimetype": "text/x-python",
   "name": "python",
   "nbconvert_exporter": "python",
   "pygments_lexer": "ipython3",
   "version": "3.6.13"
  }
 },
 "nbformat": 4,
 "nbformat_minor": 5
}
