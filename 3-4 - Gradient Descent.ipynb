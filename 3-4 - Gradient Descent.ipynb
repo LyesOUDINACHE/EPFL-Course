{
 "cells": [
  {
   "cell_type": "markdown",
<<<<<<< HEAD
   "id": "2efb0faa",
=======
   "id": "6deff86d",
>>>>>>> parent of 2b33ad3 (16-04-2021)
   "metadata": {},
   "source": [
    "# Gradient Descent\n",
    "\n",
    "In the last subject, we learned about the ordinary least squares (OLS) solution which is the most common way to find the set of parameters of a linear regression model that minimizes the squares of the residuals. We will now see another method called gradient descent (GD) which is a generic approach that can find the optimal parameters of a variety of models and cost functions.\n",
    "\n",
    "Just like OLS, gradient descent uses the gradient of the cost function to minimize it. In this unit, we will see the basic idea behind the algorithm. We will start with a recap about derivatives and then see why it's very natural to use them to optimize functions."
   ]
  },
  {
   "cell_type": "markdown",
<<<<<<< HEAD
   "id": "310f867f",
=======
   "id": "3b027f05",
>>>>>>> parent of 2b33ad3 (16-04-2021)
   "metadata": {},
   "source": [
    "Hence, to minimize the value of the function \n",
    "f\n",
    ", we should take a step in the opposite direction of its derivative. Equivalently, we can say that the derivative shows the direction of increase. This observation also applies to functions with multiple parameters. In that case, the gradient \n",
    "∇\n",
    "f\n",
    " gives us the direction of the steepest increase. This may sound abstract, so let's take an example.\n",
    "\n",
    "This image shows the gradient of the function in blue with two parameters. The red arrows correspond to the values of the gradient at different \n",
    "(\n",
    "x\n",
    ",\n",
    "y\n",
    ")\n",
    " locations. They have a dimension of two because the function has two parameters and hence two partial derivatives.\n",
    " \n",
    " The idea is that this plot could be the error surface of a simple linear regression model where the \n",
    "x\n",
    " and \n",
    "y\n",
    " variables correspond to the \n",
    "a\n",
    ", \n",
    "b\n",
    " parameters and the cost function (an exotic one by the look of it) to \n",
    "f\n",
    "(\n",
    "x\n",
    ",\n",
    "y\n",
    ")\n",
    ".\n",
    "\n",
    "\n",
    "### Local minimum\n",
    "In the gradient descent method, we take small steps in the opposite direction of the gradient. Hence, it might return suboptimal solutions when the function is not convex. A function is not convex if it's possible to find a line, joining two points on the function, which intersects with it. Again, this may sound abstract, so let's take an example.\n",
    "\n",
    "Here are three functions. The left one is convex, and the two others are not. We indicate the minimum value with a green dot.\n",
    "\n",
    "\n",
    "In the convex case, regardless of where we start on the curve, we will always end up on the green point if we follow the direction of descent. On the other hand, there are no guarantees that we find the optimal solution in the two nonconvex cases. If we start in the wrong place, it's possible that we get stuck in a local minimum (the red dots).\n",
    "\n",
    "### Summary\n",
    "Let's summarize what we've learned in this unit. Here are a few takeaways.\n",
    "\n",
    "- Gradient descent follows the opposite direction of the gradient.\n",
    "- It may return suboptimal solutions when the function is not convex.\n",
    "\n",
    "In the next unit, we will see how to implement the algorithm for the simple linear regression model with the mean squared error (MSE) objective function."
   ]
  },
  {
   "cell_type": "markdown",
<<<<<<< HEAD
   "id": "8713697d",
=======
   "id": "598cb9c1",
>>>>>>> parent of 2b33ad3 (16-04-2021)
   "metadata": {},
   "source": [
    "### Gradient descent algorithm"
   ]
  },
  {
   "cell_type": "markdown",
<<<<<<< HEAD
   "id": "e065ea41",
=======
   "id": "7a6eecf1",
>>>>>>> parent of 2b33ad3 (16-04-2021)
   "metadata": {},
   "source": [
    "The first thing to do is to write the equation of the model. In our case, a simple linear regression one. Here is the equation to compute the prediction \n",
    "^\n",
    "y\n",
    "i\n",
    " for the i-th data point given its input value \n",
    "x\n",
    "i\n",
    " and the model parameters \n",
    "a\n",
    " and \n",
    "b\n",
    ".\n",
    "^\n",
    "y\n",
    "i\n",
    "=\n",
    "a\n",
    "x\n",
    "i\n",
    "+\n",
    "b\n",
    "We can now define the cost function. In the last unit, we saw that gradient descent can return suboptimal solutions if the function is not convex. For linear regressions, we can use the MSE cost function which is convex. You can take a look at this page if you want to learn about the mathematical proof.\n",
    "\n",
    "Let's write the MSE loss function \n",
    "L\n",
    "(\n",
    "a\n",
    ",\n",
    "b\n",
    ")\n",
    " for the simple linear regression model.\n",
    "\n",
    "L\n",
    "(\n",
    "a\n",
    ",\n",
    "b\n",
    ")\n",
    "=\n",
    "1\n",
    "N\n",
    "N\n",
    "∑\n",
    "i\n",
    "=\n",
    "1\n",
    " \n",
    "(\n",
    "y\n",
    "i\n",
    "−\n",
    "^\n",
    "y\n",
    "i\n",
    ")\n",
    "2\n",
    "Since the data points \n",
    "x\n",
    "i\n",
    " and \n",
    "y\n",
    "i\n",
    " are known when fitting the model, this function only depends on the \n",
    "a\n",
    " and \n",
    "b\n",
    " parameters. We can expand the formula using the equation for \n",
    "^\n",
    "y\n",
    "i\n",
    ".\n",
    "\n",
    "L\n",
    "(\n",
    "a\n",
    ",\n",
    "b\n",
    ")\n",
    "=\n",
    "1\n",
    "N\n",
    "N\n",
    "∑\n",
    "i\n",
    "=\n",
    "1\n",
    " \n",
    "(\n",
    "y\n",
    "i\n",
    "−\n",
    "a\n",
    "x\n",
    "i\n",
    "−\n",
    "b\n",
    ")\n",
    "2\n",
    "\n",
    "\n",
    "∂\n",
    "a\n",
    "=\n",
    "−\n",
    "2\n",
    "N\n",
    "N\n",
    "∑\n",
    "i\n",
    "=\n",
    "1\n",
    " \n",
    "e\n",
    "i\n",
    "x\n",
    "i\n",
    "∂\n",
    "L\n",
    "∂\n",
    "b\n",
    "=\n",
    "−\n",
    "2\n",
    "N\n",
    "N\n",
    "∑\n",
    "i\n",
    "=\n",
    "1\n",
    " \n",
    "e\n",
    "i\n",
    " \n",
    "As we can see, the gradient is proportional to the residuals, and the algorithm makes bigger steps when it's further away from the optimal solution.\n",
    "\n",
    "### Algorithm\n",
    "\n",
    "We can now use these partial derivatives to write the algorithm. Note that the learning rate lr, the initial a, b values and the number of iterations n_steps depend on the data set. For this reason, we don't assign them to specific values in the code belo"
   ]
  },
  {
   "cell_type": "code",
   "execution_count": 1,
<<<<<<< HEAD
   "id": "79c1e741",
=======
   "id": "8e9844f7",
>>>>>>> parent of 2b33ad3 (16-04-2021)
   "metadata": {},
   "outputs": [
    {
     "ename": "TypeError",
     "evalue": "'ellipsis' object is not iterable",
     "output_type": "error",
     "traceback": [
      "\u001b[1;31m---------------------------------------------------------------------------\u001b[0m",
      "\u001b[1;31mTypeError\u001b[0m                                 Traceback (most recent call last)",
      "\u001b[1;32m<ipython-input-1-434d10e34849>\u001b[0m in \u001b[0;36m<module>\u001b[1;34m\u001b[0m\n\u001b[0;32m      3\u001b[0m \u001b[1;31m# Initialization\u001b[0m\u001b[1;33m\u001b[0m\u001b[1;33m\u001b[0m\u001b[1;33m\u001b[0m\u001b[0m\n\u001b[0;32m      4\u001b[0m \u001b[0mlr\u001b[0m \u001b[1;33m=\u001b[0m \u001b[1;33m...\u001b[0m \u001b[1;31m# learning rate\u001b[0m\u001b[1;33m\u001b[0m\u001b[1;33m\u001b[0m\u001b[0m\n\u001b[1;32m----> 5\u001b[1;33m \u001b[0ma\u001b[0m\u001b[1;33m,\u001b[0m \u001b[0mb\u001b[0m \u001b[1;33m=\u001b[0m \u001b[1;33m...\u001b[0m \u001b[1;31m# initial a,b values\u001b[0m\u001b[1;33m\u001b[0m\u001b[1;33m\u001b[0m\u001b[0m\n\u001b[0m\u001b[0;32m      6\u001b[0m \u001b[0mn_steps\u001b[0m \u001b[1;33m=\u001b[0m \u001b[1;33m...\u001b[0m \u001b[1;31m# number of iterations\u001b[0m\u001b[1;33m\u001b[0m\u001b[1;33m\u001b[0m\u001b[0m\n\u001b[0;32m      7\u001b[0m \u001b[1;33m\u001b[0m\u001b[0m\n",
      "\u001b[1;31mTypeError\u001b[0m: 'ellipsis' object is not iterable"
     ]
    }
   ],
   "source": [
    "import numpy as np\n",
    "\n",
    "# Initialization\n",
    "lr = ... # learning rate\n",
    "a, b = ... # initial a,b values\n",
    "n_steps = ... # number of iterations\n",
    "\n",
    "# n_steps iterations\n",
    "for step in range(n_steps):\n",
    "    # Predictions with the current a,b values\n",
    "    y_pred = a*x + b\n",
    "\n",
    "    # Compute the error vector\n",
    "    error = y - y_pred\n",
    "\n",
    "    # Partial derivative with respect to a\n",
    "    a_grad = -2*np.mean(x*error)\n",
    "\n",
    "    # Partial derivative with respect to b\n",
    "    b_grad = -2*np.mean(error)\n",
    "\n",
    "    # Update a and b\n",
    "    a -= lr*a_grad\n",
    "    b -= lr*b_grad"
   ]
  },
  {
   "cell_type": "markdown",
<<<<<<< HEAD
   "id": "cda687d7",
=======
   "id": "4094dca2",
>>>>>>> parent of 2b33ad3 (16-04-2021)
   "metadata": {},
   "source": [
    "At each iteration, we compute predictions y_pred using the current a, b values. Then, we create an error variable which is an array of shape (n,), and use it to compute the two partial derivatives. Finally, we update the parameters using the learning rate lr."
   ]
  },
  {
   "cell_type": "markdown",
<<<<<<< HEAD
   "id": "f5c965e8",
=======
   "id": "089fb5a6",
>>>>>>> parent of 2b33ad3 (16-04-2021)
   "metadata": {},
   "source": [
    "### Summary\n",
    "\n",
    "In this unit, we saw how to derive and implement the gradient descent algorithm for the simple linear regression model with MSE. Here are a few takeaways.\n",
    "\n",
    "- Gradient descent uses a **learning rate** and the gradient of the loss function to compute the **parameters update.**\n",
    "- It's an **iterative algorithm** that takes **small steps** in the opposite direction of the gradient.\n",
    "\n",
    "# Numpy implementation\n",
    "\n",
    "In the last unit, we derived the gradient descent algorithm and implemented it with Numpy"
   ]
  },
  {
   "cell_type": "code",
   "execution_count": 2,
<<<<<<< HEAD
   "id": "8f788577",
=======
   "id": "e7855ceb",
>>>>>>> parent of 2b33ad3 (16-04-2021)
   "metadata": {},
   "outputs": [
    {
     "data": {
      "text/html": [
       "<div>\n",
       "<style scoped>\n",
       "    .dataframe tbody tr th:only-of-type {\n",
       "        vertical-align: middle;\n",
       "    }\n",
       "\n",
       "    .dataframe tbody tr th {\n",
       "        vertical-align: top;\n",
       "    }\n",
       "\n",
       "    .dataframe thead th {\n",
       "        text-align: right;\n",
       "    }\n",
       "</style>\n",
       "<table border=\"1\" class=\"dataframe\">\n",
       "  <thead>\n",
       "    <tr style=\"text-align: right;\">\n",
       "      <th></th>\n",
       "      <th>temp</th>\n",
       "      <th>users</th>\n",
       "    </tr>\n",
       "  </thead>\n",
       "  <tbody>\n",
       "    <tr>\n",
       "      <th>0</th>\n",
       "      <td>0.1964</td>\n",
       "      <td>120</td>\n",
       "    </tr>\n",
       "    <tr>\n",
       "      <th>1</th>\n",
       "      <td>0.2000</td>\n",
       "      <td>108</td>\n",
       "    </tr>\n",
       "    <tr>\n",
       "      <th>2</th>\n",
       "      <td>0.2270</td>\n",
       "      <td>82</td>\n",
       "    </tr>\n",
       "    <tr>\n",
       "      <th>3</th>\n",
       "      <td>0.2043</td>\n",
       "      <td>88</td>\n",
       "    </tr>\n",
       "    <tr>\n",
       "      <th>4</th>\n",
       "      <td>0.1508</td>\n",
       "      <td>41</td>\n",
       "    </tr>\n",
       "  </tbody>\n",
       "</table>\n",
       "</div>"
      ],
      "text/plain": [
       "     temp  users\n",
       "0  0.1964    120\n",
       "1  0.2000    108\n",
       "2  0.2270     82\n",
       "3  0.2043     88\n",
       "4  0.1508     41"
      ]
     },
     "execution_count": 2,
     "metadata": {},
     "output_type": "execute_result"
    }
   ],
   "source": [
    "import pandas as pd\n",
    "\n",
    "# Load the data\n",
    "data_df = pd.read_csv('bike-sharing.csv')\n",
    "data_df.head()"
   ]
  },
  {
   "cell_type": "markdown",
<<<<<<< HEAD
   "id": "d92fa697",
=======
   "id": "5a8ac615",
>>>>>>> parent of 2b33ad3 (16-04-2021)
   "metadata": {},
   "source": [
    "Our goal is to fit a simple linear regression model to this data using gradient descent. If our implementation is correct, we should obtain the following result."
   ]
  },
  {
   "cell_type": "code",
   "execution_count": 3,
<<<<<<< HEAD
   "id": "6f5f7df4",
=======
   "id": "d54d0378",
>>>>>>> parent of 2b33ad3 (16-04-2021)
   "metadata": {},
   "outputs": [
    {
     "data": {
      "image/png": "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\n",
      "text/plain": [
       "<Figure size 432x288 with 1 Axes>"
      ]
     },
     "metadata": {
      "needs_background": "light"
     },
     "output_type": "display_data"
    }
   ],
   "source": [
    "%matplotlib inline\n",
    "import matplotlib.pyplot as plt\n",
    "import numpy as np\n",
    "\n",
    "# Linear regression using polyfit\n",
    "x = data_df.temp.values\n",
    "y = data_df.users.values\n",
    "coefs = np.polyfit(x, y, deg=1)\n",
    "\n",
    "# Plot prediction curve\n",
    "x_values = np.linspace(x.min(), x.max(), num=100)\n",
    "y_values = np.polyval(coefs, x_values)\n",
    "plt.scatter(x, y, s=15)\n",
    "plt.plot(x_values, y_values, c='C3', label='polyfit(deg=1)')\n",
    "plt.xlabel('temperatures')\n",
    "plt.ylabel('users')\n",
    "plt.legend()\n",
    "plt.show()"
   ]
  },
  {
   "cell_type": "markdown",
<<<<<<< HEAD
   "id": "84cc1fa3",
=======
   "id": "8a755acb",
>>>>>>> parent of 2b33ad3 (16-04-2021)
   "metadata": {},
   "source": [
    "This image shows the 302 data points from the data set and a simple linear regression model obtained with the Numpy polyfit(x, y, deg=1) function.\n",
    "\n",
    "Let's implement the algorithm using the code from the previous unit. This time, we will track the value of the root mean squared error (RMSE) function at each iteration. If our implementation is correct, this value should decrease after each step."
   ]
  },
  {
   "cell_type": "code",
   "execution_count": 4,
<<<<<<< HEAD
   "id": "c848f194",
=======
   "id": "6a43848c",
>>>>>>> parent of 2b33ad3 (16-04-2021)
   "metadata": {},
   "outputs": [],
   "source": [
    "# Root mean squared error (RMSE)\n",
    "def rmse(y, y_pred):\n",
    "    return np.sqrt(np.mean(np.square(y - y_pred)))"
   ]
  },
  {
   "cell_type": "markdown",
<<<<<<< HEAD
   "id": "2a0b7964",
=======
   "id": "60c286ee",
>>>>>>> parent of 2b33ad3 (16-04-2021)
   "metadata": {},
   "source": [
    "Let's start by setting the initial values. We can set the learning rate to 0.7 and run the algorithm for 30 steps. Also, we initialize the a, b parameters to zero."
   ]
  },
  {
   "cell_type": "code",
   "execution_count": 5,
<<<<<<< HEAD
   "id": "ab263497",
=======
   "id": "127c216a",
>>>>>>> parent of 2b33ad3 (16-04-2021)
   "metadata": {},
   "outputs": [],
   "source": [
    "# Initialization\n",
    "lr = 0.7 # learning rate\n",
    "a, b = 0, 0\n",
    "n_steps = 30"
   ]
  },
  {
   "cell_type": "markdown",
<<<<<<< HEAD
   "id": "506c0997",
=======
   "id": "b2197df5",
>>>>>>> parent of 2b33ad3 (16-04-2021)
   "metadata": {},
   "source": [
    "We can now run the gradient descent algorithm. Here is the code from the previous unit. We added a line in the for loop to compute and save the RMSE value in a log_rmse variable."
   ]
  },
  {
   "cell_type": "code",
   "execution_count": 6,
<<<<<<< HEAD
   "id": "cc634492",
=======
   "id": "7c9dc290",
>>>>>>> parent of 2b33ad3 (16-04-2021)
   "metadata": {},
   "outputs": [],
   "source": [
    "# Save RMSE after each iteration\n",
    "log_rmse = []\n",
    "\n",
    "for step in range(n_steps):\n",
    "    # Predictions with the current a,b values\n",
    "    y_pred = a*x + b\n",
    "\n",
    "    # Compute the error vector\n",
    "    error = y - y_pred\n",
    "\n",
    "    # Partial derivative with respect to a\n",
    "    a_grad = -2*np.mean(x*error)\n",
    "\n",
    "    # Partial derivative with respect to b\n",
    "    b_grad = -2*np.mean(error)\n",
    "\n",
    "    # Update a and b\n",
    "    a -= lr*a_grad\n",
    "    b -= lr*b_grad\n",
    "\n",
    "    # RMSE error\n",
    "    log_rmse.append(rmse(y, y_pred))"
   ]
  },
  {
   "cell_type": "code",
   "execution_count": 7,
<<<<<<< HEAD
   "id": "e3d86af0",
=======
   "id": "8e2a9643",
>>>>>>> parent of 2b33ad3 (16-04-2021)
   "metadata": {},
   "outputs": [
    {
     "data": {
      "image/png": "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\n",
      "text/plain": [
       "<Figure size 432x288 with 1 Axes>"
      ]
     },
     "metadata": {
      "needs_background": "light"
     },
     "output_type": "display_data"
    }
   ],
   "source": [
    "# Plot RMSE values\n",
    "plt.plot(log_rmse, label='learning rate: {}'.format(lr))\n",
    "plt.title('RMSE after {} steps is {:.6f}'.format(n_steps, log_rmse[-1]))\n",
    "plt.xlabel(\"time step\")\n",
    "plt.ylabel(\"RMSE\")\n",
    "plt.legend()\n",
    "plt.show()"
   ]
  },
  {
   "cell_type": "markdown",
<<<<<<< HEAD
   "id": "f546e1e2",
=======
   "id": "8bb2da42",
>>>>>>> parent of 2b33ad3 (16-04-2021)
   "metadata": {},
   "source": [
    "We can see that the error decreases after each step. The final value is around 244. **We can now verify that the a, b values are optimal by computing the ordinary least squares (OLS) solution.** To achieve this, we can use the Numpy polyfit() function."
   ]
  },
  {
   "cell_type": "code",
   "execution_count": 8,
<<<<<<< HEAD
   "id": "6f6d6b1c",
=======
   "id": "4455cdee",
>>>>>>> parent of 2b33ad3 (16-04-2021)
   "metadata": {},
   "outputs": [
    {
     "name": "stdout",
     "output_type": "stream",
     "text": [
      "Polyfit (a, b)=(1495.60, -94.61)\n",
      "Gradient descent (a, b)=(1133.56, 98.91)\n"
     ]
    }
   ],
   "source": [
    "a_polyfit, b_polyfit = np.polyfit(x, y, 1)\n",
    "\n",
    "# Optimal parameters vs. ones obtained with GD\n",
    "print('Polyfit (a, b)=({:.2f}, {:.2f})'.format(a_polyfit, b_polyfit))\n",
    "print('Gradient descent (a, b)=({:.2f}, {:.2f})'.format(a, b))\n"
   ]
  },
  {
   "cell_type": "markdown",
<<<<<<< HEAD
   "id": "b40d4a1e",
=======
   "id": "517f113f",
>>>>>>> parent of 2b33ad3 (16-04-2021)
   "metadata": {},
   "source": [
    "We can see that the values are far from the optimal ones. The slope is 1133.56 instead of 1495.6, and the intercept term is 98.91 instead of -94.61.\n",
    "\n",
    "Let's try to increase the number of steps to 400 instead of 30."
   ]
  },
  {
   "cell_type": "code",
   "execution_count": 10,
<<<<<<< HEAD
   "id": "739dfd63",
=======
   "id": "a8555b4f",
>>>>>>> parent of 2b33ad3 (16-04-2021)
   "metadata": {},
   "outputs": [],
   "source": [
    "# Initialization\n",
    "lr = 0.7\n",
    "a, b = 0, 0\n",
    "n_steps = 400 # increase to 400\n",
    "\n",
    "# Save RMSE after each iteration\n",
    "log_rmse = []\n",
    "\n",
    "for step in range(n_steps):\n",
    "    # Predictions with the current a,b values\n",
    "    y_pred = a*x + b\n",
    "\n",
    "    # Compute the error vector\n",
    "    error = y - y_pred\n",
    "\n",
    "    # Partial derivative with respect to a\n",
    "    a_grad = -2*np.mean(x*error)\n",
    "\n",
    "    # Partial derivative with respect to b\n",
    "    b_grad = -2*np.mean(error)\n",
    "\n",
    "    # Update a and b\n",
    "    a -= lr*a_grad\n",
    "    b -= lr*b_grad\n",
    "\n",
    "    # RMSE error\n",
    "    log_rmse.append(rmse(y, y_pred))"
   ]
  },
  {
   "cell_type": "code",
   "execution_count": 11,
<<<<<<< HEAD
   "id": "6bba1079",
=======
   "id": "23f5cb9a",
>>>>>>> parent of 2b33ad3 (16-04-2021)
   "metadata": {},
   "outputs": [
    {
     "data": {
      "image/png": "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\n",
      "text/plain": [
       "<Figure size 432x288 with 1 Axes>"
      ]
     },
     "metadata": {
      "needs_background": "light"
     },
     "output_type": "display_data"
    }
   ],
   "source": [
    "# Plot RMSE values\n",
    "plt.plot(log_rmse, label='learning rate: {}'.format(lr))\n",
    "plt.title('RMSE after {} steps is {:.6f}'.format(n_steps, log_rmse[-1]))\n",
    "plt.xlabel(\"time step\")\n",
    "plt.ylabel(\"RMSE\")\n",
    "plt.legend()\n",
    "plt.show()"
   ]
  },
  {
   "cell_type": "code",
   "execution_count": 12,
<<<<<<< HEAD
   "id": "8f39aed9",
=======
   "id": "7fb5208d",
>>>>>>> parent of 2b33ad3 (16-04-2021)
   "metadata": {},
   "outputs": [
    {
     "name": "stdout",
     "output_type": "stream",
     "text": [
      "Polyfit (a, b)=(1495.60, -94.61)\n",
      "Gradient descent (a, b)=(1495.60, -94.61)\n"
     ]
    }
   ],
   "source": [
    "# Optimal parameters vs. ones obtained with GD\n",
    "print('Polyfit (a, b)=({:.2f}, {:.2f})'.format(a_polyfit, b_polyfit))\n",
    "\n",
    "print('Gradient descent (a, b)=({:.2f}, {:.2f})'.format(a, b))\n"
   ]
  },
  {
   "cell_type": "markdown",
<<<<<<< HEAD
   "id": "26c67001",
=======
   "id": "0dff72b3",
>>>>>>> parent of 2b33ad3 (16-04-2021)
   "metadata": {},
   "source": [
    "### Convergence\n",
    "The algorithm doesn't always converge to the optimal solution. For instance, if you increase the learning rate to 0.8, you should see that the error increases after each step and becomes very large."
   ]
  },
  {
   "cell_type": "code",
   "execution_count": 15,
<<<<<<< HEAD
   "id": "bb5042fa",
=======
   "id": "91a0608b",
>>>>>>> parent of 2b33ad3 (16-04-2021)
   "metadata": {},
   "outputs": [],
   "source": [
    "\n",
    "# Initialization\n",
    "lr = 0.8\n",
    "a, b = 0, 0\n",
    "n_steps = 400 # increase to 400\n",
    "\n",
    "# Save RMSE after each iteration\n",
    "log_rmse = []\n",
    "\n",
    "for step in range(n_steps):\n",
    "    # Predictions with the current a,b values\n",
    "    y_pred = a*x + b\n",
    "\n",
    "    # Compute the error vector\n",
    "    error = y - y_pred\n",
    "\n",
    "    # Partial derivative with respect to a\n",
    "    a_grad = -2*np.mean(x*error)\n",
    "\n",
    "    # Partial derivative with respect to b\n",
    "    b_grad = -2*np.mean(error)\n",
    "\n",
    "    # Update a and b\n",
    "    a -= lr*a_grad\n",
    "    b -= lr*b_grad\n",
    "\n",
    "    # RMSE error\n",
    "    log_rmse.append(rmse(y, y_pred))"
   ]
  },
  {
   "cell_type": "code",
   "execution_count": 16,
<<<<<<< HEAD
   "id": "0e4aa740",
=======
   "id": "612686a9",
>>>>>>> parent of 2b33ad3 (16-04-2021)
   "metadata": {},
   "outputs": [
    {
     "data": {
      "image/png": "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\n",
      "text/plain": [
       "<Figure size 432x288 with 1 Axes>"
      ]
     },
     "metadata": {
      "needs_background": "light"
     },
     "output_type": "display_data"
    }
   ],
   "source": [
    "# Plot RMSE values\n",
    "plt.plot(log_rmse, label='learning rate: {}'.format(lr))\n",
    "plt.title('RMSE after {} steps is {:.6f}'.format(n_steps, log_rmse[-1]))\n",
    "plt.xlabel(\"time step\")\n",
    "plt.ylabel(\"RMSE\")\n",
    "plt.legend()\n",
    "plt.show()"
   ]
  },
  {
   "cell_type": "markdown",
<<<<<<< HEAD
   "id": "f6c1510f",
=======
   "id": "61e26478",
>>>>>>> parent of 2b33ad3 (16-04-2021)
   "metadata": {},
   "source": [
    "In this case, we say that the algorithm diverges. But we will learn more about that in the next unit.\n",
    "\n",
    "In the plot from above, Matplotlib uses the e-notation to write the values in the y-axis. For instance, the final RMSE value is 7.1e+10 which corresponds to \n",
    "7.1\n",
    "∗\n",
    "10\n",
    "10\n",
    ". In general, we use this notation to write very small or very large numbers.\n",
    "\n",
    "### Stochastic and mini-batch variants\n",
    "In the code from above, we computed the gradient using all the data points."
   ]
  },
  {
   "cell_type": "code",
   "execution_count": 17,
<<<<<<< HEAD
   "id": "e77df472",
=======
   "id": "b69a1df3",
>>>>>>> parent of 2b33ad3 (16-04-2021)
   "metadata": {},
   "outputs": [
    {
     "name": "stdout",
     "output_type": "stream",
     "text": [
      "y_pred: (302,)\n",
      "error: (302,)\n",
      "a_grad: ()\n",
      "b grad: ()\n"
     ]
    }
   ],
   "source": [
    "# Predictions with the current a,b values\n",
    "y_pred = a*x + b\n",
    "\n",
    "# Compute the error vector\n",
    "error = y - y_pred\n",
    "\n",
    "# Partial derivative with respect to a\n",
    "a_grad = -2*np.mean(x*error)\n",
    "\n",
    "# Partial derivative with respect to b\n",
    "b_grad = -2*np.mean(error)\n",
    "\n",
    "# Print shape\n",
    "print('y_pred:', y_pred.shape) # (302,)\n",
    "print('error:', error.shape) # (302,)\n",
    "print('a_grad:', a_grad.shape) # ()\n",
    "print('b grad:', b_grad.shape) # ()"
   ]
  },
  {
   "cell_type": "markdown",
<<<<<<< HEAD
   "id": "415c6b0e",
=======
   "id": "15f85cfc",
>>>>>>> parent of 2b33ad3 (16-04-2021)
   "metadata": {},
   "source": [
    "As you can see, the y_pred, error vectors are arrays with n=302 elements, and we compute the two partial derivates using these 302 data points. In practice, we often calculate the gradient on a subset of the data points. **We can distinguish three variants of the gradient descent algorithm.**\n",
    "\n",
    "- Batch gradient descent - computes the gradient using all data points.\n",
    "- Mini-batch gradient descent - uses a mini-batch of data to compute gradients, e.g. 64, 128, 256 data points.\n",
    "- Stochastic gradient descent - uses a single data point to compute the gradient.\n",
    "\n",
    "Mini-batch and stochastic gradient descent are often used in practice because they scale well to large data sets, e.g., with millions of samples. For instance, the SGDRegressor object from Scikit-learn implements the stochastic variant. Note that we usually select the points at random in these two cases.\n",
    "\n",
    "### Summary\n",
    "Let's summarize what we've learned in this unit. Here are a few takeaways about gradient descent.\n",
    "\n",
    "- Its mini-batch and stochastic variants scale to large data sets with millions of data points.\n",
    "- We can track its progress by monitoring the loss value.\n",
    "\n",
    "Gradient descent is a generic and easy to implement optimization method. Also, its mini-batch and stochastic variants are very fast and can be applied to **large data sets** without using much memory. However, note that we usually prefer to use **analytical solutions when they exist (e.g., OLS for linear regressions)**. For instance, we will only use the SGDRegressor object when it's not possible to use the LinearRegression one."
   ]
  },
  {
   "cell_type": "markdown",
<<<<<<< HEAD
   "id": "432f6be8",
=======
   "id": "6331aa72",
>>>>>>> parent of 2b33ad3 (16-04-2021)
   "metadata": {},
   "source": [
    "# Issue with the gradient\n",
    "\n",
    "In the last unit, we used gradient descent to fit a simple linear regression model to the bike sharing data set. We will now do a simple experiment and see that the algorithm is sensitive to the scale of the data.\n",
    "\n",
    "### Rescaling data"
   ]
  },
  {
   "cell_type": "code",
   "execution_count": 18,
<<<<<<< HEAD
   "id": "6748d7d2",
=======
   "id": "5f81c086",
>>>>>>> parent of 2b33ad3 (16-04-2021)
   "metadata": {},
   "outputs": [
    {
     "data": {
      "text/html": [
       "<div>\n",
       "<style scoped>\n",
       "    .dataframe tbody tr th:only-of-type {\n",
       "        vertical-align: middle;\n",
       "    }\n",
       "\n",
       "    .dataframe tbody tr th {\n",
       "        vertical-align: top;\n",
       "    }\n",
       "\n",
       "    .dataframe thead th {\n",
       "        text-align: right;\n",
       "    }\n",
       "</style>\n",
       "<table border=\"1\" class=\"dataframe\">\n",
       "  <thead>\n",
       "    <tr style=\"text-align: right;\">\n",
       "      <th></th>\n",
       "      <th>temp</th>\n",
       "      <th>users</th>\n",
       "    </tr>\n",
       "  </thead>\n",
       "  <tbody>\n",
       "    <tr>\n",
       "      <th>0</th>\n",
       "      <td>0.1964</td>\n",
       "      <td>120</td>\n",
       "    </tr>\n",
       "    <tr>\n",
       "      <th>1</th>\n",
       "      <td>0.2000</td>\n",
       "      <td>108</td>\n",
       "    </tr>\n",
       "    <tr>\n",
       "      <th>2</th>\n",
       "      <td>0.2270</td>\n",
       "      <td>82</td>\n",
       "    </tr>\n",
       "    <tr>\n",
       "      <th>3</th>\n",
       "      <td>0.2043</td>\n",
       "      <td>88</td>\n",
       "    </tr>\n",
       "    <tr>\n",
       "      <th>4</th>\n",
       "      <td>0.1508</td>\n",
       "      <td>41</td>\n",
       "    </tr>\n",
       "  </tbody>\n",
       "</table>\n",
       "</div>"
      ],
      "text/plain": [
       "     temp  users\n",
       "0  0.1964    120\n",
       "1  0.2000    108\n",
       "2  0.2270     82\n",
       "3  0.2043     88\n",
       "4  0.1508     41"
      ]
     },
     "execution_count": 18,
     "metadata": {},
     "output_type": "execute_result"
    }
   ],
   "source": [
    "import pandas as pd\n",
    "\n",
    "# Load the data\n",
    "data_df = pd.read_csv('bike-sharing.csv')\n",
    "data_df.head()"
   ]
  },
  {
   "cell_type": "markdown",
<<<<<<< HEAD
   "id": "bd9a83da",
=======
   "id": "b3cf0cee",
>>>>>>> parent of 2b33ad3 (16-04-2021)
   "metadata": {},
   "source": [
    "We saw in a previous unit that these temperatures are not in degrees Celsius or Fahrenheit. In fact, the temp values were computed using the formula temp=(temp_C+8)/47 where temp_C is the original temperatures measured in degree Celsius.\n",
    "\n",
    "Let's do a simple experiment. Instead of applying gradient descent with these rescaled temperatures, let's use the original values in degree Celsius. To compute them, we can simply reverse to formula from above."
   ]
  },
  {
   "cell_type": "code",
   "execution_count": 19,
<<<<<<< HEAD
   "id": "50d1536d",
=======
   "id": "240ce1e0",
>>>>>>> parent of 2b33ad3 (16-04-2021)
   "metadata": {},
   "outputs": [],
   "source": [
    "# Create x/y arrays\n",
    "x = 47*data_df.temp.values - 8 # Degrees Celsius\n",
    "y = data_df.users.values"
   ]
  },
  {
   "cell_type": "code",
   "execution_count": 21,
<<<<<<< HEAD
   "id": "120a0502",
=======
   "id": "70055bc8",
>>>>>>> parent of 2b33ad3 (16-04-2021)
   "metadata": {},
   "outputs": [
    {
     "data": {
      "image/png": "iVBORw0KGgoAAAANSUhEUgAAAfAAAADQCAYAAAD4dzNkAAAABHNCSVQICAgIfAhkiAAAAAlwSFlzAAALEgAACxIB0t1+/AAAADl0RVh0U29mdHdhcmUAbWF0cGxvdGxpYiB2ZXJzaW9uIDMuMC4zLCBodHRwOi8vbWF0cGxvdGxpYi5vcmcvnQurowAAIABJREFUeJztvXmYXGd15/85Vb3QrZZaDZZ5tLchIiDJQnFLNtghkQYmGCYzMjN2xkRgkhB7HJktGWewIbYxeiAkKMyEgKzYwA80IzazWJ7gJZhIAWJjpFaEpJYxdoxkbWMLaG2W3OquOr8/7r3dt27dW3Vrr1t1Ps/Tj6pu3eV9S/V9l/Oe9xxRVQzDMAzDSBapRhfAMAzDMIzSsQ7cMAzDMBKIdeCGYRiGkUCsAzcMwzCMBGIduGEYhmEkEOvADcMwDCOBWAduGIZhGAnEOnDDMAzDSCDWgRuGYRhGAulodAFqxQUXXKCDg4ONLoZhJI7h4eFfqOqsSu9jGjSM8oirwZbtwAcHB9m5c2eji2EYiUNEDlbjPqZBwyiPuBo0E7phGIZhJBDrwA3DMAwjgVgHbhiGYRgJpGYduIh8QUSeF5F9vmMfEZEjIrLb/Xur77NbReRpEXlSRN7sOz4kInvdzz4tIlKrMhuGYRhGUqjlDPyLwJUhx/+nqi53/x4AEJHFwLXAEveajSKSds+/C7gBWOT+hd3TMAzDMNqKmnmhq+r3RWQw5ulrgK+q6hjwcxF5GrhURA4AM1T1MQAR2QxcBTxY/RIbxhTHT4+xbssw+4+dYvHsGWxcO8Ss6d0Nu49htCumxWgasQb+HhHZ45rYB9xjc4FDvnMOu8fmuq+Dx0MRkRtEZKeI7Dx+/Hi1y220Eeu2DLPr2VFeGMuw69lR1m0Zbuh9koJp0Kg2psVo6t2B3wW8ElgOHAP+xj0etq6tBY6Hoqp3q+oKVV0xa1bFcSiMNmb/sVNkss7rTNZ538j7JAXToFFtTIvR1LUDV9XnVDWjqlngHuBS96PDwHzfqfOAo+7xeSHHDaOmLJ49g7SrjnTKed/I+xhGu2JajKauHbiIzPa9fRvgeajfD1wrIt0ichGOs9qPVfUYcFpEXud6n18HbK1nmY32ZOPaIS5ZMMC07jSXLBhg49qhht7HMNoV02I0ohppka7sxiJfAVYBFwDPAXe475fjmMEPAP/N7aQRkQ8DfwRMAB9Q1Qfd4ytwPNp7cJzX3qsxCr1ixQq1MI5GUmgmBxsRGVbVFZXexzRoJJVG6zGuBmvWgTcaazyMJHHNpkfZ9ewomaxj3rtkwQD33nh5Q8piHbjR7jRaj3E12LLJTAyjllR7hN6KDjaGUWtqNVNOih4tlKphlEG1t6RU6mBz/PQY12x6lCV3PMQ1mx7l+OmxispjGEmgVlvDKtFjPbVoHbhhlEG1R+iVOti04h5XwyhGrWbKleixnlo0E7phlMHi2TNy1sgKjdDjmPlmTe+uaI0tKSY/w6gm1dahRyV6rKcWbQZuGJRu9iplhF6PEXkr7nE12pNStNhsOoT6atFm4IbBlLgzWSbFXWgEHhyhe41O2Oi+HiPy9WuWcvWmxzgzNkFPZwfr1yyt+jMMox6UosVm0yE4g4rrN+9gz+GTqMJ4Rjl+eqwm29BsBm7UhWZ3sqpU3IVG9/UYkd+2dR/nxicAODc+wW1b9xW5wmg3ml2DHpVosdE6BGdQ0ZlOIQJZhb1HTtRstm8duFEXyjVf1avRqVTcYY2OV/aRo6fo6eygtytVswhQtgZuFKMSE3I9O/9KtBilg+OnxxjPKKqQErh4bn9NI7HVS4/WgRt1odwfdKFGp5qNSqVe4GGNjlf2s+cznBufYMmcfu698fKamNJsDdwoRq1mttXu3CvRYpQO1m0ZZu+RE2QVRKAznappZLV66dE6cKMulPuDDjY6Ow6MTjYS1XRK8dbSRu68MrSTLdZIhTU69ZwVt2KcZ6O6VHNmWysdQmEtlqPDsPLX2kJVLz1aKFWjLpQbMckf0tDDC224/9gpXhjLTB6f1p1m5M4ra1H8skIrNjocY7lYKNXWpJKoZUnWYSXXNYq4GrQZuFEXis1wo/BGsn68EXQ9zcbljOBtVmw0E+VqEJKtQ2hdLVoHbjQ1XqOzcnAgr5GopyjLaaQqaTANo5lIsg6hdbVoJnQjEdQrvV/UcxqdXrCemAndiKKeOgh7FtAWOrR0otZ4GGWQtLWyWmAduNEMtLMWG74GLiJfEJHnRWSf79gnReSnIrJHRL4tIjPd44Mick5Edrt/m3zXDInIXhF5WkQ+LSJSqzIbRjPtp05K4A3DqAWmxeLUcg38i0DQFfG7wFJVXQb8DLjV99m/qepy9+9G3/G7gBuARe5fbdwbjarQrD/0uOWqtkNOJd+HZRgzyqFZNQillc20WJyadeCq+n3gV4Fj/6iqE+7bHwHzCt1DRGYDM1T1MXVs/ZuBq2pRXqM6NOMP/fjpMVZv2M6OA265DkaXq9oOOZV8H800AzGSQzNqEErTIZgW49DIZCZ/BHzN9/4iEflX4BTwF6r6A2AucNh3zmH3WCgicgPObJ0FCxZUvcBGcZrxh75uyzBnxiYm32c0ulyVpvUMUsn3UUqqxGbBNNh4mlGDUJoOwbQYh4ZsIxORDwMTwBb30DFggar+BvBnwJdFZAYQtt4d6XWnqner6gpVXTFr1qxqF9uIQTOG9AwTar3KVcn3kcS9q6bBxtOMGoTG6tB7Vqtpse4zcBF5F/C7wBtdsziqOgaMua+HReTfgFfhzLj9ZvZ5wNH6ltiIg7flY+ToSXo6O8iqsmTOjKb4oS+ePYPhg6Nk3aFfX3dH3cpVSZrPas9AjNammTUIjdUhtKYW69qBi8iVwAeB31bVs77js4BfqWpGRF6B46z2jKr+SkROi8jrgMeB64C/q2eZjXhcv3kHuw+ddN9lWT6/v2l+8BvXDjVs7+p4JpuX5jOYv7gd9rUataeZNQj11SG0hxZr1oGLyFeAVcAFInIYuAPH67wb+K67G+xHrsf5bwEfFZEJIAPcqKqeA9yf4Hi09wAPun9Gk7Hn8MmC7xtJPUfPnqNMJgu7nh1FlckZR9i6W/D8dVuGm6rRNZJDM2sQ6j+LbQct1qwDV9W3hxz+fMS53wS+GfHZTiC+rcMwqsCUOfIUKRGymmXJnP6cUXnYiH3k6MkcRxnBWW+Lcn5pVocjw2gG4ujQf167adFioRtVYdm8mQXfJw1/Lu8zYxOcPZ/N23oSti0lJbmS6u1KF3R+aVaHIyN5tJoGIZ4O/ee1mxYbuY3MaCHuuW5FaNzipOIfjXsER+VhI/ZgZGKFgma4sHVBwyiHVtMgxNNh8Lx20qJ14EZVaFYvzXLx7/v0CI7Ko/aG+o8tmRM9ik+i04zRvLSaBiGeDoPntZMWzYRuGCF4+z57u9L0dXfQ25XKM7uF7Q31H7t47kzGM9m80I1eSMfLPv7IVFSqJoqYZRjNQhwd+s8L02JvV5qezg5Gjp7MC6GadC1aNjLDqBH+bEoAKYGhhQOMZ7LsPXIyzzQ4rTvNyJ2ND/Vv2ciMVsKvw5RAb1cHik5uLWtGLcbVoJnQjZakGUxiwfW7rOZvZ/FIitOMYZRCs+kwq0yGc20FLZoJ3WhJap3QIU5mI79Xq4fXkPiPp4SmCs9oGNWiWXUIraFFm4EbkzTDaLla1GJPp//7EYSz5ycmZ9VhQR88r1Z/+Mh0Ci6eO5POtOR5u7bKd2+UTytpEJpLh975585PkNHW0KJ14MYkSYxEFEWl2YPCGlL/9+MnqmHyvILjNMr+dbqkf/dG+bSSBqE6WbzyQ6Iqe4+cKFmHYfdKuhatAzcmSWIkojCOnx5jPKOoOiaxi+f2s37NUq7Z9GiocI+fHuP6zTsmQ096ATC8RsITcdieVHAapkUX9uXdH3JH8ttvXh05km+V796ojFb6HVRDh97e9qiQqH68AUJYJw2tqUVbAzcmqTQSUZz1qEqJ84x1W4bZe+QEWQUR6EynuG3rvsi1uHVbhtl96CRZt2HYfegEew6fyBHxjgOjCELaTXCbFiebkrdtBSTv/qWs/yUxCpRRfZKgwbjPqYYOgwPnTNb5LEqHfktZO2jRtpEZk1S6/uY3PaVTjjNItU1PYc8IRlAaOXqKs+czk9dM606jqpw9PzV9Tgn0dKXd80/mfOZ9LkLOjDu4BcX//Sy54yFeGMvknBucJRTamhL87tevWcptW/c1ZB3OtpE1jiRoMOo5tdDhtG7nsx0HRnOO93WH6xCqr8VGrIvH1aB14EbVCAqnFnspw54RXGfr6ezg3PhETuPyxLHTk9tH/HjnBz9bPr+fznQqr+GIqlNwz3fecwR6Ijr/IMdPj7F6w/bJMnn7x+u1DmcdeHKphwajnlMLHa4cdAYGl338kZxOuFC9rtn0aI7jaN6zStAiNEaPcTVoJnSjatTD/Od/RkpAEHYcGA2Y2LJ5UZmyEQNV53xl+fx+UuLcc/n8mdxz3UruvfFyVg4OxKrT+jVL6emMdilR4OzYxKQJ7/rNOyPrum7LcE5DltXmXoczmodqmH+bSYde5zq0MJ4OwdFiIV7Smebs+XhahObWozmxGVWj0mQAcTxww7aE+HFiHvfnXbdkTr4Zbur8GZGj6bh1um3rPs6N588sPPyzgUwW9hw+MWmiD9Y1rHFo5nU4o3moRkKOJOsQHC1Gzb4Bzo1ncvKCF9IiNLcea9aBi8gXgN8FnlfVpe6xlwJfAwaBA8Dvqeqo+9mtwLuBDPA+VX3YPT4EfBHoAR4A3q+tavdPOGHJFEpZ04vj/el/xpI7HiIT+CVcPHdmqLg3rh3KMYNBvKANcRNERHmoh5FOgSqRdV08ewa7Do5O1q2vuyMxgSWMxlKpBiHZOvTKXwx/XvBCWoTm1mMtTehfBIKLFLcA31PVRcD33PeIyGLgWmCJe81GEUm719wF3AAscv8aHyzaiE253p8A585nCnrSRo2C120ZzjOHzZrezbabV7Fy0DHprRwc4PEPvYl7b7y8Ks4oUdGePFIBb9ll8/ojTYIb1w5xycKpcm67eVXTBpIwmp9So6FVQ4dPP3+GVRu25V1Xax165UlJ9OfL5vXnmPYLaRGaW481dWITkUHgH3wz8CeBVap6TERmA9tV9dfd2Teq+pfueQ8DH8GZpW9T1Ve7x9/uXv/fij3bHGiag1KcaryZQjByWZQn7fHTY3nOLX7v8bBrC81GKvEA9q4dOXqSF8ezeWUaWjhQtWfVGnNiay1KdWyrhg49oq4r9vuvVIvefvJgmfq6O/I64GbUYrM6sb1cVY8BuP9e6B6fCxzynXfYPTbXfR08HoqI3CAiO0Vk5/Hjx6tacKN0jp8eQ5gaCqek8NqRZybr6UpPHgszaXlONqs2bKO3q2NytO2NoguZwwrNRiqJ2+yVfcmcfvyD/5Q4TjNR52+/eTVA6GwliZgGm4tSNQiV69BPlAm+mNYq1WJnOoX4yuNZwLKqrNsynGcVSKoWm8ULPczgoQWOh6Kqd6vqClVdMWvWrKoVziiPdVuGc5xbervirR0V86T1i/vc+Ql6u+KZpqHw+l45EZiCHrsjR0/lrAdmFc6ez7DjwCiXffyRUI/zsIaqXgE5qo1psLkoV4NQvg77unMH1WEDhmJaK1WLoToMZAI8MzYxqcXVG7aHepsnTYv17sCfc03nuP8+7x4/DMz3nTcPOOoenxdy3EgA+4/ldmaKxjJNbVw7lLf9JO++nrjVue/InVdy742Xc891KwteW6hRKmcLTlD0KZHItXB/woXQuvgaqlpncTLag3I1COXrcNvNqxhaGH0dFNdaqVosRYfgdOZBTSVRi/XuwO8H3uW+fhew1Xf8WhHpFpGLcJzVfuya2U+LyOtERIDrfNcYTU6tQhIWuq9nDvM69GBjVahRKtZgQeGRvn/vaxRhHudhdUlSPGajeSlXg3HWhaPuXUyDUFxrpWpx+GD0HvQoh7Ywb/OkabFmTmwi8hVgFXAB8BxwB3Af8HVgAfAscI2q/so9/8PAHwETwAdU9UH3+AqmtpE9CLw3zjYyc6BpPOU6hxQLB/nTY6e4etNjnBmboK+7g2/c+HpeXad9mcGyhUWbuvfGy53zfFtP/PgdaaK+o3qFxAzDnNhah1ppEBqrw2AZ/QTLG6XFoHNpM2nRQqla49FUlNKQFPOabWTnFixbb1eKJXP68+rlr++iC6fz1HOnecGNC50WuKRIKMZGesZaB96aVFOD0FgdhpXRH1c9bMfHyNFTpGQqfzjEK3cjtBhXgxaJzagLpeQ5LpZDuJEmrWDZwqJNQX7giSV3PDT5OuOGYizUMMQNXNGMW2CM5qSaGoTGm5aDZYzqiMO06HX8XrmTqsVm8UI3WpwwsUd5d0atf3nnn/NlOKp3ur84a3NhhK2vFfN6XXz7gyy942EW3144ZWOzOtgYzUVUhxumw2IaXHLHQ7npdRuQdtO0aCZ0o07kmNvcbEClmrKCa15hAVJKoZ4j5rBnrdqwLdRMGba2F/X91CL7lJnQW5MwDSo6Gcs8o8V16L9HofS6pVDvmWsStNisgVyMNsU/Wg523hDPBBcWb7wSsVcyYo67N9Qf7AJg+82rJz1zgzOBRRdO56rP/jAnq5NH1PdTK09/o/UI0+ALYxnOjE1MOngV06Ffg06Mg4mc33Q5VDpzbWctWgdu1AX/1hJF80Icej/4QmIMCiKrVGSmqmQN7/rNO9lxwGl0dhxwUhKGUahxCpoAQdl96GTkMxddOD3vWLlmRKP9KKZBKK7DamsQKl9Lb2ctmhObUXf8zieQm42okKPNxrVDeTGXK3GcCTrBLLqwj2s2Pep6jvcBwlPPnw416+05fCLnXsH3/vL5G6fhg6McPz3GrOndBR3dwslvcUvJ0mQYHv7ffpgpPEqH1dZgsCxBHS6ePYP1a5Zy29Z9kSb2dtaizcCNuuMfqQazERUajc+a3s3QwoGqmanyR90yOULffegkuw+dqNghpZQZS7G6PPX8mbLKYBhB/L/9oYVOhi1/4JUoHVZbg8GyBHW469lRrt70WFWcw1pRi7E6cBG5QkSmua/fISKfEpGFtS2a0aqERWqK62G+ce0QF8/tJyVTo+irPvvDsuITB8vx1POnQ3N6h5n1ls3rL/jeX95gJKjhg6P89NipPBPl+jVL6fUlkOjtSheNKW0Y5VBIg56HedRvz69BVdh/9BSLb3+w7DjhhXSYyTphTwuZ2NtZi3FN6HcBrxWR1wL/A/g8sBn47VoVzEgW5aQHBCYDLLw4nslLwRm2juRlGvLOzSrsPnSS6zfvpDMtFXmyBk37HmGCvee6lb5ALY65fckdD4XuIR1aOMCOA6OT12YVrvzbH0y+988qxiYyk8981cv76Eyn8r6zKGxPeHtTTQ2mQ8zqHv5sX5kskwGKdh10koRU6pUeNKkHox1GaXHk6ElSkuJnz53hmk2P5j2/nlqE+ugx1jYyEdmlqpeIyO3AEVX9vHesqqWpIraFpb5EbVEJW1PztmEAoR0mFN6CEdyuAcXzgMchN3pa4TXwyLpH5CCPypfsry9Q0TaUakXGsm1kyaTRGvRTye8v2PEVWwMPrX+BPOT10GLc8kRR7Uhsp0XkVuAdwG+JSBrojHmt0QYEMxOdGXNSGHoj2qg1tbCGAwqbqBbPnpEzivaoNCpUuU4ohQJkeHXvDdk65+fc+Qy9XR2khcn9uKWa6RodGctoLPXWYFTHH7x/qYTpMI4uC/3+663FYuWpFnE78P8K/D7wblX9fyKyAPhk1UtjJJYoQXs/3KjQjGHX9HUXzlm8ce0Q12/eOelt6q157T1ysmDox1oRVbecGY9rkoxqOLw9tX6z5fo1S2N7xRcqh9Ee1FuD/vjiWc2SktTk77sRv79Cv/96a7FYeapFUSc2d7b9f1T1U6r6AwBVfVZVN1e9NEZi8XuSTvM5f4CzZzJsj6R3rLcrTV93B71dKVYODkxm6opi1vRu7rvpCh7/0JsYWjjgeoQKF8/tz7l/3AAPHqWeH1Z3/7p9WL7kxz/0JlYOTnng93ZNSTAbyG1+29Z9JXnF257w9qbeGrz3xsv55z9fzWtmT0dE+LUL+1g2r79g+NVG6BDqr8Vi5akWcdfA7wfeqarRO9ubDFt/axxXffaHOUEQls/v576bfjP29XGdP4qtMZW6BhV2vjfTKMcRJZjG0J9GNE4ZC60zRmVeqga2Bp58KtUgxNNhHI01WocAV332X9h9aGp/+PL5M7nvpitil7PeWqx2KNUXgb0i8nkR+bT3V1kRjVYluEey1D2TcUMrFkvO4A+DWCiBStT5wwedqE5eWXYcGOWyjz8SOSsI3nv9mqX0dE2tUp09P5FXl0KjdH9oxiBZxRKYGJFUqkGIp8Ni68610KHn7R41Qw+fwQcnqvkT1yRqMe4M/F1hx1X1SyU/UOTXga/5Dr0CuB2YCVwPHHePf0hVH3CvuRV4N5AB3qeqDxd7jo3+G0el3tBxkwIUSs4QXN8K87qN44mbEkLDvhabaURRijdrlFf8ufO5W+6qkcDEj83Ak081diSUkxP84rkzJ7dz1lqH/vtFWd6iKFUz9dZiVb3QVfVLItIDLFDVJyspmHv9creQaeAI8G3gD4H/qaob/OeLyGLgWmAJMAd4REReparRexiMhuI3dy26cDrjmWzoHuko4jp/+J8T1lj48UbUqzZsK8kTF5wy+D+P8igNS7YSvI9Xl+Onx/Ic8e65biUAf/D//ZiRo879p3Wl+eafXM6rfd9BsNE0ZzUjSKUahHg6DJq2xzNZdj17IlIH1dRh8FqPUnQIhbV4/eYd7Dl8kqw6gwjvM+/7a7QW40Zi+4/AbuAh9/1yd128Ut4I/JuqHixwzhrgq6o6pqo/B54GLq3Cs40a4Y+s1JkW9h45WZKJKa7zR9zkDCsHByKzDi2ePSPSPJZOOYK9eO7M3OMSLtRCZrberty6rNsyzO5DJ8jqVDCadVuGJz17PV44n+HqTY+V9f0Y7UulGoR4v7P8KGpnQjvPaujQc7bzR1ML02IhHYJjJfDXpZAWdx86mRc0qlASlHprMe42so/gdJrbAVR1t4hcVIXnXwt8xff+PSJyHbAT+O+qOgrMBX7kO+eweywPEbkBuAFgwYIFVSieUSnl7IUsZz922BaalOSK9fjpMcYziqr3WX8gGtVJQHhx3DHuXDx3Jvdct4J1W4ZzTHg9XeFbbLzZSNge9SVzZuTUyd9Je+w/doqwJS1vP69HMycwMQ02H+XuR26UDvcfO8Xgy3o58IuzvHA+Q09nB5/4z8t49ewZXLPpUYYPTukrTIueDocPjoYO6jvTkmOBKEWL3mcejdZiXCe2iRAP9OKL5wUQkS7gPwH3uofuAl6JY14/BvyNd2rI5aHPVtW7VXWFqq6YNWtWJcUzqkS9cuR6I2H/6FwkV6zrtgyz94gz0nY+S+VkIloyp5+xiYzvc5lM7OBvCBQtaILs6UznHQs2minJ/1k7ywD505e+7uQkDTQNNh/1zFNdDR2O3HklvV0dvOiGMj03PsFtW/cBxNLirOndbFw7xLJ5M/Nin3v38FOKFqG5lqziduD7ROT3gbSILBKRvwMerfDZbwF2qepzAKr6nKpmVDUL3MOUmfwwMN933TzgaIXPNlzK3XMZl2qZmIqV0xN/j2//a3C2UWwmEvV53AbQ89o9N57rnhF2TVbzG4dz5yfyjgF848bXhx43WoOkaBDqo8NC55SiRW+Q4KdSLS6f399US1ZxO/D34jiRjeGYvE8BH6jw2W/HZz4Xkdm+z94G7HNf3w9cKyLdrtl+EfDjCp9tuMTdslUu3mh48ewZjBw9yeoN21l8e+kN1fWbd7LjwNR2rlWf3BZ6fSGBFxN/8HMvL/HI0VP0dDpBLgo1gEHnmZQQ2WgumdOf86yUG7bRj7du+OomGvEb1ScpGjx+eoxVn9yWo8PrN4fvMqhEh8FzUuLMiJfc8RDjGc0L2BRGrbR4302/2VQJgmJ14Kp6VlU/rKorgcuAv1LVF8t9qIj0Av8e+Jbv8F+LyF4R2QOsBv7UffYI8HVgP44T3U3mgV496hGv12ugzp7PcmZsgrPnS2+oPA9RjxfOZ0qORlZsJjIVlSpFT2cHew6fZMeBUc6ez3BmbIKUpAp68AYbpqGFAznpGguVc9m8mTmON1HZ2IzWIykaXLdleDLzmEdQlx6V6NA7x0tZmnXjujtR0E6w5/DJot707aLFuPvAvwzciLMPexjoBz6lqk0bD932oMaj0v2icaI1RUUxKiWC0Stu/U6eOaya+5/99RCEc+cn8kbh4IzCo6JCVZI+0H/tRS+bxjO/eIGz5zP0dXfwjRtfX9dZuO0Dry9J0WBUFsBn/vI/xC5rMeLqsFiEtqRrMa4G43bgu1V1uYisBYaADwLDqrqs8qLWBms84hHnh17onFJDKYYRvC7sef690R7etpS49ShEnOAP4AwagvtjCzW45ZRr6R0P53ieeyFY49ynGjmIrQOvL0nR4PWbd+aEI4XcEK3V+O3F1SE0vxbLfSZUvwMfwfEO/zLwGVX9ZxHZYx14e1BKjOCwWbH3I/Zv0yo0mw573ngmmxPbeVpXmu1/vrqkRiysTJ6wRo6ejPQ69UiJY4rbf+xU7FzBxXI0h4l58Jbv5B1bOTgQq37ViMBlHXjz0YoaDJZt/7FTeZHNovDu38xazHtmCd9JtWOhbwJ+DkwDvi8iC4HEJDYxKqPQGl0chxTPM3X/R9/CkjkzCO7aCF4X9ry8WM5CjuBKXUcMOg6lJJXjNNPX3cG07jTL589k+XzHaWZo4QDr1yxFfDsbUxFBXULL5VvLC1t/9Dx8g/R1d8Sun+UEb01aUYMefi36O2+/DlcODvDQ+98wmT3skgW11SI4egxuQytFi3nPrIEe424wfSnO1i6A23A6/u1VLYnRtBQKqRi2BlWIsDCHF8+dmRPqcdGFfaG5vQuFLCw1925QWFnVyRF9sQxo/i0mvRFBXbxZxbnz4f6WYWL2GjI/3rqbl86wWP0sJ3hr0ooajCpPoXX5YMzzYloMrqmHxVSP6ljXbRnOCUKSEkrSItRej3GxLOgvAAAfnElEQVRn4Gd8fxngzUREQzNaj0Jeo8FQinHinPtnCysHB/JCPYJE5i0u5kEed69rsBxepLRi9dh/7FSOU01UUBevM/YaC2824Y3ow8QcbMimdafZd+ebebXbkMWpX6NDOxq1oRU1GFWeQh7jfuJo0T+7P3d+gt4uZ0ZfTIth9+/pSpekRai9HmOtgeddJNIN3K+qb65qaaqIrb8VJiqAf7X3OAbXmtevWcptW/flzBZWbdgWex2rGmUIhm0sxbkk7ppW2Lrk9ptXF3xmNdavq4GtgdeeeunPe1ajNRhWjko9xuPoJco/oFq5zmtFVZ3YQm4+APxYVReVU7h6YI1HYby8u378Xt3VfE4pHrK1EEo17x+3sSnnmVEpC8v16C0X68BrT7305z2r0RqsxTNq3Qn7Hf9SkiKrypI59dFiVZ3YvAAr7t8I8CTwt5UW0mgcUeELa/GcYk4cxcxMlYaarKYjSVxzZTmms9wMUin2HjlRs+hcRmOpl/68+1aqQWguHUI8LVZiwvbnSDg3Xl7wm1oT14ntd32vJ4DnVDU8WKyRCBbPnpE3A6iFw1McJ46ojD7eCNifVcgTUCkj90Y4dlWapci8yVubeunPu2+5GoT21iE0txbjhlI96Ps7Yp138tm4dojl851sPSmpTpD+sBF6JSPgoCMYlCegZnPsijOTqWcGKaP+1EJ/UH0NQuvqEJKvxbLWwJOArb/Vn2qvcRUK/zi0cKCu68LVJM73VI2oVrWOAlUM02D9qcVadqvqEOqnxVLvU1MntiRgjUf9CQo9bD9nKT/iYmEVvbCGSWs84kTOqga1jgJVDNNg/am2BqF1dQj10yKUpsdqR2IzjKL4TU3gBEwIOmGVkjrRb3JbOThAry/HMDiRlJrJoSQu9TLJNfPanVEbqq1BaF0dQn3N47XQo3XgLUylXqOl4he6PwRhJgsjR09Nbp2J+yMOepkumRMebCFp1GstsJnX7tqBeusPqq9BaF0dQn3X5WuhRzOhtzC12tsZe//lwdHJSEZeY+J3hClnX+bqDdsnswN5a3CNCHaSBGwNvLHUcm91ozToPdt0WDq1WANvyAxcRA64e8t3i8hO99hLReS7IvKU+++A7/xbReRpEXlSRJo2+luzUSsTahwT3Ma1Q/R0Te1SzGp+DOJy9mVuu3nVZEIDz4HGCKfUEJtGdanlEkajNAimw3KphR7j7gOvBatV9Re+97cA31PVT4jILe77D4rIYuBaYAkwB3hERF6lquFZIoxJarXvMk7DNGt6N0q4daeS2Ug19nUaRj2o5b7nRmrQu7fpsPE0sgMPsgZY5b7+Ek62sw+6x7+qqmPAz0XkaeBS4LEGlLHpCYbjvHjuzJxwnNUgbsOUc14g/+76NUu5ZtOjscxJ1drGYRi1ph76A9Og4dCQNXAR+TkwCijw96p6t4icUNWZvnNGVXVARD4D/EhV/497/PPAg6r6jZD73gDcALBgwYKhgwcP1qM6TUWxdbdqJFGIK+ZC55WyPtgsST7ahUrWwNtdg/XQn3cf02DrEleDjZqBX6GqR0XkQuC7IvLTAudKyLHQUYeq3g3cDY4DTeXFbE5yR/nTAeWp58+wePYMRo6eLGhaW7dlmN2HTky+333oZMkhEeOaz8LO88ruDyNZbH3QtkMlh1bXYLHMXvXQH5gGDYeGdOCqetT993kR+TaOSfw5EZmtqsdEZDbwvHv6YWC+7/J5wNG6FrjJ8BxYMllyGoNdz47S09lBOpWNNK3VOolCsZmBV3Y/xdYHGxFD2TDC8Gtv17OjXL3pMc6NT0y+b7T+wDTYTtTdC11EponIdO818DvAPuB+4F3uae8Ctrqv7weuFZFuEbkIWAT8uL6lbi78o2E/mSxkVQvuawwTXjXFWMw7NqzsxTxhmzGGstGeBGeiZ8Ymct43Wn9gGmwnGjEDfznwbRHxnv9lVX1IRHYAXxeRdwPPAtcAqOqIiHwd2I+TCe2mdvdA94+G/aRTsGTOjIKmtfVrlvJf7nqUF847X6GX3zYuxUb3xUxtwZF8nLU083g1moXg77ens2NyBl4P/YFp0Jii7jNwVX1GVV/r/i1R1Y+5x3+pqm9U1UXuv7/yXfMxVX2lqv66qj5Y7zI3G+vXLKWn0xl79Xal6e10/ht7OjtYv2ZpwWtv27qPFyecxiOdcq6P60DjBXDYccAZ3e84MMrqDdtzIkwVizZkI3kjyWxcO8TFc/tJCajCvJkvobvDCS1aD/1ds+lRLvv4I6ZBA2iubWRGTG7buo9z404UpLPnp4wR58YnuG3rvoIj5VKcUYIj/fGMTkZf8vDiIHvP3Lh2KG924MdG8kaSmTW9m850ChFHPz997szkZ9XWH+RqUBDOnZ/IC8ZiGmxfrANPIIXWwIs1CKU4o/gddoYPjuY1HP7yeFjjYLQ69dIf5GqwWJk8TIPtgyUzSSDBjEMecRqEUsxn/oYqqvNOiXmkGu1FvfQH0YMFP6bB9sVm4AnEbyIL7gMv1iCUMjqPcpbz6O1KsWROv62hGW1FvfQHjgb9+7U9UuIEgYn7XKM1sRl4AvEage03r6YzLTki9hxiqpHK0HPYCSMlTHbeFlLRaCdmTe9m49ohFs+ewVPPn6YznWL7zatzElRUK5XoxrVDOWlB/YQ912gvLJ1ogvGHN4SptH7eDCG4VSTMuSUo/DDHNX+wGD8WUrE1sXSixfFrLyXQ64sxXon+IF+D+4+emtx25sf017o0dTpRozoE18eyymTghqC36/DBUa7fvLNoCsJgEAgvZnMYFlLRaFeC/iFnxiZydFWu/iBfg2dDOm/vvqa/9sY68CYljgkuzJnGE3XQqSWrsOfwiZxGZceBURbfnnv/YMMD5Owp7evuKLjH1DBagWL6i3Jkq1R/kK9BEcp2mjNaG+vAm5Ri4RBhyqPVv0aWFhCEkaP5I/MwT/Kz53PvHwwCsWxef47X7DdufH2kF2211v0Mo9EU05/fm7yvu4O0q8FK9QeFNbh8fj/L58+M9GI3DbYX5oXepMQJ+OA5swWDPZwNCfZQCP/9cz1s+wDJW7OLWnMLJnoolmXJcgwbzUox/fl1UE39QTwNRmEabC9sBt6kFAuHCFOj7VUbtjGeybLowumcGcttPKI8WP347+81TCN3XklnOsXeIydyZiGFRvilRpmKY2UwjEbQKP1BYQ1ev3lnwRm2abC9sA68SfFMdL1daXo6Oxg5ejJPsH7x7T50MtRbvLerg5WDA5MmPnAalZ7OFH3dHfR2RQeUCHPE8cdhLmb68zdKYR2/5Rg2mpVm0B/ka3D3oROR+oPiA4+gDkeOmgaTjHXgTYo3Cl8yZwbnxic4ez6bJ9g4UZqymmXj2iF6unJXS5bO7WffnW9m/0evjNxHGnTUyWruOl6Y6S9qfTxspB9nlmMYjaAZ9AfRznIQ3uEWi/QW1GFKxDSYYGwNvMkpNEstFinNSW/Yz6zp3ShTPW9W4420/Wtx585n8tb1okx/ceux/ebVBZMuGEajaaT+YEqDYdHYwjrcYpHegvXJapZLFgyYBhOKzcCbnEKzVP9o2/NO7e1KMa0rPZnucDyT5fjpsbJmu/61uKGFAzkzgZRQUirCsOf772/RpIxmpJH6gykNrhysTH9R9Vkyp980mGDq3oGLyHwR2SYiT4jIiIi83z3+ERE5IiK73b+3+q65VUSeFpEnReTN9S5zIwmaxNavWTq5hnX95p2Mu8PpznSKe65bwf6PvoXFc2Yg4oz09x45ybotwxXnAPZfv3JwgMc/9KaSQkdaDmIjifh/txfP7Wc8o5O/8V+emfqNN1p/EG8Lmemwtah7KFURmQ3MVtVdIjIdGAauAn4POKOqGwLnLwa+AlwKzAEeAV6lquHhiVySHMax0NaOYPhUP14o1ZGjJzl7fuqEad1pRu68sqznxcVfrnJDPNqWluagnUOpxtVeOgU9nR2cG5/IC2Vcqv6KPTcupsHWoWlDqarqMVXd5b4+DTwBzC1wyRrgq6o6pqo/B57G6cxblhxHk4OjrN6wnSV3PMRVn/0hwwej19y8UKopSZVkrqvGVpJqeJTblhaj0URp75pNj7LvSO5v/MzYRI4Wy9Vf3nNNg0ZMGroGLiKDwG8Aj7uH3iMie0TkCyIy4B6bCxzyXXaYiA5fRG4QkZ0isvP48eM1KnXtyRGiL87y7kMniwaIcBxTNM9MFmVeO356LGdQUK7wq+FRbtvKkk/SNRilvV3PjjI2UdDo51xThv6u2fQoOw6YBo3SaVgHLiJ9wDeBD6jqKeAu4JXAcuAY8DfeqSGXh3Zjqnq3qq5Q1RWzZs2qQanrQ6GtI8VwHFNmTKY73H/sFOu2DEcmUli3ZThvUFCO8KuxtmbbypJP0jVYKMZ52OA5JbnBWsrR365ncz3My/3tmwbbj4ZsIxORTpzOe4uqfgtAVZ/zfX4P8A/u28PAfN/l84CjdSpqQ/C2jgwfHI0VknHpnBn0dKVz1q2CIRXVt4fbP7IOjrBTQlHhR62TVZrWMCzdomHUk2JbJ4P0dnXwjRtfz21b95Wtv+CSWJzO1zRoQAM6cBER4PPAE6r6Kd/x2ap6zH37NmCf+/p+4Msi8ikcJ7ZFwI/rWOS6ERTlSzrTeakEve0p/nblmV+8gAg5Qg6awlJuRiPPwWXRhX1cs+lRzvnu7zm+FHNaKTXeclyq0QAZRrkE9bfvyCnOjefqT8jV3gtjE1y96bGcXOBx9Ld49gyOnx5DfAbGtMAlC+M5npkGDWiMCf0K4J3AvwtsGftrEdkrInuA1cCfAqjqCPB1YD/wEHBTMQ/0pBIWJSnI0MIBervTOcfOns/kmeYWz56RY9rr6XS2wXjmNRB2PTs1wy9lX6mtkxmtSFB/6ZBA5isGHRO1h5KfCxyK68+b6Z49PzF1TldH7BmvadCABszAVfWHhK9rP1Dgmo8BH6tZoZqEsChJy+fPZM9hJ8bya2ZPZzyjObNmP1688lfc+h3Amal7vDieoTOdmtzOsuSOh3JMdz1d6dgjb38EKlsnM1qFeurPe57fRK9o7C1bpkEDLBJbUxEWJem+m67g8Q+9iaGFAzxx7DS7D50ouC7nxSvPBszsGc0PAxl0VombS9iCQRitSJj+7rluBUMLB+jpSnPwl+fYc7g6+gt73qILp8fO5W0aNKABgVzqRSsFkSgUvMXDM9dFNS7BwA5hz/Kvq5UbCMJIPu0ayKWYJgpRqv7CnjeeybL3yEnTnxFbg5bMpEaUGtGo0Pn+lH9R9HSlWTx7Rl7Sg77ujhwHG48wZxVbVzNagXKiiUVdEyfjGJSuP8jXoH9Zy/RnxME68BpRzEs0f/St7D1yIvT8OFYSr4G4fvPOyTW7ZfP6uee6lXmNV1RjZetqRitQqvbCtn1514R1ymGY/oxGYCb0GrH49gdz4iEDrBwcCDWLp1Pk7BOF3PjJg7d8J+/+/u0sfd0dbLt5VWwHmKiYyRYH2YDkm9CX3PEQL4zlOpr1dqVYMqc/cqlo/7FTOdd4+jt+eoyVH3sk7xkpmdKr6c+oNmZCbzApSQG5HfiOA6Ncv3kn9910Rax9ooXo7UpDYO93XKJM5bYH1GgFwmbNZ89n2XVwdLKDDP7+o2a/UbpaNm8mTz1/2vRnNBTzQq8R2QjLxu5DJ0LzAy+b1x/pVRqyHZVz45mcHL5xPcjBwiUarc3GtUOhmsmo408S9vsv1au7My2mP6PhWAdeI5bMiY5nvm7LMOvXLKWn0zGA9HR28In/vIx7b7w8p1Hw2PLuy4o+r5QsQrYFxWhlZk3vZmjhQOhnKRE2rh3i4rn9k1ENxzPOYDtKf69+eV/efYIOZqY/oxG0vQm9mh6rfgrFMx8+OMot39rLOTcK0xk3HGPUOtrrf+0Cls/vZ/ehk5PHls3rzzmnFA9yM9UZjaZWuvPYuHaI1Ru2c2ZsIuf4C+77znQKwZmV7z50gtUbtkfq73//8ety7pWS/Fmz6c9oBG0/Ay8n/23UNcdPj3HVZ3/IK279Dpd9/BHGM8oD73sDfd2546Sswp7DJ8j4OvYzYxMFn33PdStZ6YZxXDk4wD3Xrcz53MxyRpKopu5gKi3n4tsfZOkdD/Pbn9zGr13Y5/iK+FD3PvuPnYqtv1nTu9l286pJ/Q0tzJ81m/6MRtD2M/By9j5HXbNuy3DOLHn3oRO89dM/YNm8mfzk0InwHKiB+0ZRbNRuWYSMJFFN3UHu1jHPeXT3oRNM60rnJSAZOXrSdTLNv38Upj+jGWn7DrycvZf+awDOnc9wzaZHGTma3wBkFfYeOcG07g7OjU9MPqe7Iz/TWCWjdjPLGUmiUt2lBQRhyR0PsXj2jMhgRy+cz9AX0F5KUjlJRCDcLF4Kpj+jEbS9Cb0UhxLPTLfvyMmcRAVZdbaIvTgeneQgq5rznCBx8nAbRqtQqiPX8dNjjGeyk7rL6FQWME976bAUSeRrL6ua55cSZhY3jGan7WfgpYyci8VFzqqzP/vF8UxOA+EkRpiR85ywYA4WtMFoF0qdsa7bMszeIycjY41n1QmoktUsL45nc9LkxtGezZ6NJNL2M/BSiBMX+ez5DEMLB3jo/W+YdHoJm2HYVhLDiE8c7Z0Zm2DJnH4eeN8bCjqcmfaMViExoVRF5Ergb4E08DlV/USh82sRxjFOVjCw8IhGsmnGUKqmPaOdiKvBRMzARSQNfBZ4C7AYeLuILK53ObyRe29Xmr7uDnq7Uiyf38/y+TNzzgt6ppe6XcYwjFxMe4aRT1LWwC8FnlbVZwBE5KvAGmB/PQtRaN0uuK7mebRaik7DqBzTnmHkk4gZODAXOOR7f9g9loOI3CAiO0Vk5/Hjx+tWOIheV7MAD0Y70QgNmvaMdiURa+Aicg3wZlX9Y/f9O4FLVfW9Udc0Op2oh63DGUmjGdfAy8G0ZySVVksnehiY73s/DzjaoLKUhAV4MIzGYNozWp2kmNB3AItE5CIR6QKuBe5vcJkMwzAMo2EkYgauqhMi8h7gYZxtZF9Q1ZEGF8swDMMwGkYiOnAAVX0AeKDR5TAMwzCMZiApJnTDMAzDMHxYB24YhmEYCSQR28jKQUSOAwcbXY4AFwC/aHQhKiTpdUh6+aH2dVioqrMqvUkDNNgK/7dBrE7JoZr1iqXBlu3AmxER2VmN/bWNJOl1SHr5oTXqUAta8XuxOiWHRtTLTOiGYRiGkUCsAzcMwzCMBGIdeH25u9EFqAJJr0PSyw+tUYda0Irfi9UpOdS9XrYGbhiGYRgJxGbghmEYhpFArAM3DMMwjARiHXiVEZErReRJEXlaRG4J+XytiOxx/x4Vkdc2opyFKFYH33krRSQjIlfXs3xxiFMHEVklIrtFZERE/rneZSxGjN9Sv4j8XxH5iVuHP2xEORtN3N9rsyMiXxCR50Vkn+/YS0XkuyLylPvvQCPLWCoiMl9EtonIE+5v9P3u8cTWS0ReIiI/9unuTvd4/eukqvZXpT+cRCv/BrwC6AJ+AiwOnHM5MOC+fgvweKPLXWodfOf9E058+qsbXe4y/h9mAvuBBe77Cxtd7jLq8CHgr9zXs4BfAV2NLnuzfU9J+QN+C7gE2Oc79tfALe7rW7z/76T8AbOBS9zX04GfAYuTXC9AgD73dSfwOPC6RtTJZuDV5VLgaVV9RlXPA18F1vhPUNVHVXXUffsjnNzmzUTROri8F/gm8Hw9CxeTOHX4feBbqvosgKo2Wz3i1EGB6SIiQB9OBz5R32I2nLi/16ZHVb+P83/oZw3wJff1l4Cr6lqoClHVY6q6y319GngCmEuC66UOZ9y3ne6f0oA6WQdeXeYCh3zvD7vHong38GBNS1Q6ResgInOBtwGb6liuUojz//AqYEBEtovIsIhcV7fSxSNOHT4DvAY4CuwF3q+q2foUr2koVXNJ4+WqegyczhC4sMHlKRsRGQR+A2fGmuh6iUhaRHbjTGC+q6oNqVNi0okmBAk5FrpPT0RW43Tgv1nTEpVOnDr8L+CDqppxJn9NR5w6dABDwBuBHuAxEfmRqv6s1oWLSZw6vBnYDfw74JXAd0XkB6p6qtaFayJia85oHCLSh2Ox+4CqnmrSdiM2qpoBlovITODbIrK0EeWwGXh1OQzM972fhzM7ykFElgGfA9ao6i/rVLa4xKnDCuCrInIAuBrYKCLNZAKLU4fDwEOq+oKq/gL4PtBMDoVx6vCHOMsAqqpPAz8HXl2n8jULsTSXYJ4TkdkA7r/NttRTFBHpxOm8t6jqt9zDia8XgKqeALYDV9KAOlkHXl12AItE5CIR6QKuBe73nyAiC4BvAe9sotmen6J1UNWLVHVQVQeBbwDrVPW++hc1kqJ1ALYCbxCRDhHpBS7DWZ9rFuLU4VkcCwIi8nLg14Fn6lrKxhPne0oy9wPvcl+/C+d3mxhc/4zPA0+o6qd8HyW2XiIyy515IyI9wJuAn9KAOpkJvYqo6oSIvAd4GMc79guqOiIiN7qfbwJuB16GM2sFmNAmyswTsw5NTZw6qOoTIvIQsAfIAp9T1X3Rd60vMf8f1gNfFJG9OKbkD7rWhLYh6ntqcLHKQkS+AqwCLhCRw8AdwCeAr4vIu3EGbNc0roRlcQXwTmCvu2YMzu6JJNdrNvAlEUnjTIK/rqr/ICKPUec6WShVwzAMw0ggZkI3DMMwjARiHbhhGIZhJBDrwA3DMAwjgVgHbhiGYRgJxDpwwzAMw0gg1oE3ASIyU0TWNboccRCRD7j7puv5TBGRfxKRGfV8rvvsAyJyQQnn/4GIfMZ9/Z52zRDWDphuiz7zAW+/dMzz+0Tkflfrc3zH3yIiO92MZj8VkQ21KXHysA68OZgJNEVD4HaWhX4XHwBKaghEpNJ4A28FfhIMERqjrI3mC8D7Gl0Io2aYbgugqm91I5XF5R3A3wPvx9WNG6L0M8A7VPU1wFLaL1hRJM3c+LUTnwBeKU5u6k8CiMifi8gOcfKGe/lmB90R6OdEZJ+IbBGRN4nIv4iTg/ZS97yPiMj/dkeyT4nI9d6DCtz3CRHZCOwC5ovIXe6o15/v9n3AHGCbiGxzj53x3ftqEfmi+/qLIvIp97y/EpFp4uQ73iEi/yoia9zzloiTW3e3W6ZFId/PWtyoRhFl/R0ReUxEdonIveLEXUZEPiEi+937bnCPvVxEvi1OLt+fiMjl7vH7xElqMiIiN4T9J4nIO3xl/Xs3kAMi8oci8jNxcopf4Z2vqmeBA97/i9FymG4L6FZc65WvnPe45fpHcSKYBUnjBFXKMhXj/n8AH1PVn4ITuEdVN5b1v9WK1Dpfqf3Fyi87SG4O4N8B7sb5EaeAf8DJFTyIky7yYvf4MM4sT3BS2d3nXv8RnLzIPcAFONma5hS5bxZ4na8ML3X/TePE+l3mvj8AXOA774zv9dXAF93XX3Tvn3bffxxnFA3OzOVnwDTg74C17vEuoCfk+zkITPd9V5Nldev3fWCa+/6DONHuXgo8yVSwopnuv1/DSajg1a0/UN8eYB/wMn99cbJ+/V+g0z2+EbgOJyrTszj5uLuAfwE+4yv7h4H/3ujfmP2ZbhugW087Xv2Xu8e/7t0zcP5MnOyM24B57rFdwGsb/X/drH8WSrU5+R3371/d933AIpyO4uequhdAREaA76mqihNOc9B3j62qeg44546mL8XJfBZ134Oq+iPf9b/nzkQ7cDqpxThhR0vhXnWy9nh1+k8icrP7/iXAAuAx4MMiMg8nMcdTIfd5qTq5hD38ZX2dW7Z/ESc0bZd7z1PAi8DnROQ7OI0SOJm7roPJjEIn3ePvE5G3ua/n43wv/kQzb8TJXrbDfU4PTrKCy4DtqnocQES+hpOq1ON52i/BSLtiuo3m56rqhVIdJrfOwGRikLeUWNa2xjrw5kSAv1TVv8856OTTHfMdyvreZ8n9/wzGyNUi933B9/4i4GZgpaqOuua1l0SU1f+c4Dkv+F4L8F9U9cnAOU+IyOPAfwAeFpE/VtV/CpwzISIpncp1Hbzvd1X17cGCuabJN+IkuHgPTuedh4iswklI8HpVPSsi20PqIsCXVPXWwLVXUTh95UuAcwU+N1oH0200/vpncAbAcRjBGTj/JOb5bYWtgTcHp4HpvvcPA3/kW8udKyKlJodfIyIvEZGX4SRI2FHCfWfgiPikOFmu/KPiYFmfE5HXiONA8zaieRh4r7jTVxH5DfffVwDPqOqncbL5LAu59kngFRH3/RFwhYj8mnu/XhF5lVvHflV9AMeBZ7l7/veAP3HPTYvj2d4PjLqd96txZvVBvgdc7X1fIvJSEVkIPA6sEpGXiZM2MZjA4FU4Jnmj9TDdFtZtNfgk8CEReZX73JSI/FmNnpU4bAbeBKjqL12Hln3Ag6r65yLyGuAxVzdncDw0M4XuE+DHwHdwzF3rVfUocDTOfVX1JyLyrzij32dw1nU97gYeFJFjqroauAXHPH0Ip6PqiyjPeuB/AXvcxuAA8LvAfwXeISLjwP8DPhpy7XdwGrOngx+o6nER+QPgKyLS7R7+C5wGa6uIvARnFvGn7mfvB+4WJ2NQBqczfwi4UUT24AwW/CZJ7zn7ReQvgH90G71x4CZV/ZGIfATHpHgMZ80u7bv0CuDOiO/ESDCm26K6rRhV3SMiH8DRdy+O5eA7tXhWErFsZC2I26GcUdWW2C8pIrOBzar67xtdllJwZyt/pqrvbHRZjOan1XRr1B4zoRtNj6oeA+6RBgRyqZALgNsaXQjDMFoTm4EbhmEYRgKxGbhhGIZhJBDrwA3DMAwjgVgHbhiGYRgJxDpwwzAMw0gg1oEbhmEYRgL5/wGwYnp81WXeiQAAAABJRU5ErkJggg==\n",
      "text/plain": [
       "<Figure size 504x216 with 2 Axes>"
      ]
     },
     "metadata": {
      "needs_background": "light"
     },
     "output_type": "display_data"
    }
   ],
   "source": [
    "# here is a comparison of the two data sets.\n",
    "\n",
    "%matplotlib inline\n",
    "import matplotlib.pyplot as plt\n",
    "\n",
    "# Compare the two version\n",
    "fig, (ax1, ax2) = plt.subplots(nrows=1, ncols=2, sharey=True, figsize=(7, 3))\n",
    "ax1.scatter(data_df.temp, y, s=15)\n",
    "ax1.set_xlabel('temperatures (rescaled)')\n",
    "ax1.set_ylabel('users')\n",
    "ax2.scatter(x, y, s=15)\n",
    "ax2.set_xlabel('temperatures in °C')\n",
    "plt.tight_layout()\n",
    "plt.show()"
   ]
  },
  {
   "cell_type": "code",
   "execution_count": 22,
<<<<<<< HEAD
   "id": "c511bb6e",
=======
   "id": "9256c142",
>>>>>>> parent of 2b33ad3 (16-04-2021)
   "metadata": {},
   "outputs": [
    {
     "name": "stderr",
     "output_type": "stream",
     "text": [
      "C:\\Users\\lyeso\\anaconda3\\envs\\exts-ml\\lib\\site-packages\\numpy\\core\\_methods.py:75: RuntimeWarning: overflow encountered in reduce\n",
      "  ret = umr_sum(arr, axis, dtype, out, keepdims)\n",
      "C:\\Users\\lyeso\\anaconda3\\envs\\exts-ml\\lib\\site-packages\\ipykernel_launcher.py:12: RuntimeWarning: overflow encountered in square\n",
      "  if sys.path[0] == '':\n",
      "C:\\Users\\lyeso\\anaconda3\\envs\\exts-ml\\lib\\site-packages\\ipykernel_launcher.py:20: RuntimeWarning: overflow encountered in multiply\n",
      "C:\\Users\\lyeso\\anaconda3\\envs\\exts-ml\\lib\\site-packages\\ipykernel_launcher.py:18: RuntimeWarning: invalid value encountered in add\n"
     ]
    }
   ],
   "source": [
    "# Now, let's run the gradient descent algorithm with these x, y values\n",
    "\n",
    "import numpy as np\n",
    "\n",
    "# Initialization\n",
    "lr = 0.7\n",
    "a, b = 0, 0\n",
    "n_steps = 400\n",
    "\n",
    "# Root mean square error (RMSE)\n",
    "def rmse(y, y_pred):\n",
    "    return np.sqrt(np.mean(np.square(y - y_pred)))\n",
    "\n",
    "# Gradient descent\n",
    "log_rmse = []\n",
    "for step in range(n_steps):\n",
    "    # Compute partial derivatives\n",
    "    y_pred = a*x + b\n",
    "    error = y - y_pred\n",
    "    a_grad = -2*np.mean(x*error)\n",
    "    b_grad = -2*np.mean(error)\n",
    "\n",
    "    # Update parameters\n",
    "    a -= lr*a_grad\n",
    "    b -= lr*b_grad\n",
    "\n",
    "    # Log RMSE score\n",
    "    log_rmse.append(rmse(y, y_pred))"
   ]
  },
  {
   "cell_type": "markdown",
<<<<<<< HEAD
   "id": "15d607ff",
=======
   "id": "d3a2c63b",
>>>>>>> parent of 2b33ad3 (16-04-2021)
   "metadata": {},
   "source": [
    "If you run the code, you should get a **RuntimeWarning** which says that an **overflow** happened. This simply means that one instruction led to a number too large to be stored in the computer memory. It's likely that gradient descent diverged. Let's verify that by plotting the log_rmse variable."
   ]
  },
  {
   "cell_type": "code",
   "execution_count": 23,
<<<<<<< HEAD
   "id": "3219810b",
=======
   "id": "3b18bbb7",
>>>>>>> parent of 2b33ad3 (16-04-2021)
   "metadata": {},
   "outputs": [
    {
     "data": {
      "image/png": "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\n",
      "text/plain": [
       "<Figure size 432x288 with 1 Axes>"
      ]
     },
     "metadata": {
      "needs_background": "light"
     },
     "output_type": "display_data"
    }
   ],
   "source": [
    "# Plot RMSE values\n",
    "plt.plot(log_rmse, label='learning rate: {}'.format(lr))\n",
    "plt.title('RMSE after {} steps is {}'.format(n_steps, log_rmse[-1]))\n",
    "plt.xlabel(\"time step\")\n",
    "plt.ylabel(\"RMSE\")\n",
    "plt.legend()\n",
    "plt.show()"
   ]
  },
  {
   "cell_type": "markdown",
<<<<<<< HEAD
   "id": "69ae8de6",
=======
   "id": "0e44ac7b",
>>>>>>> parent of 2b33ad3 (16-04-2021)
   "metadata": {},
   "source": [
    "We can see that the RMSE error increases exponentially and that the algorithm diverged. Also, if you print the final value log_rmse[-1], you should get a nan value which represents the result of a numerical operation that didn't succeed.\n",
    "\n",
    "### Gradient descent step by step\n",
    "\n",
    "Let's try to understand why the algorithm diverged with the temperatures in degrees Celsius. The idea is to visualize how the a, b values change after each iteration of the algorithm.\n",
    "\n",
    "To achieve this, we will use the rescaled temperatures between zero and one."
   ]
  },
  {
   "cell_type": "code",
   "execution_count": 24,
<<<<<<< HEAD
   "id": "f01545d6",
=======
   "id": "4a3ab9aa",
>>>>>>> parent of 2b33ad3 (16-04-2021)
   "metadata": {},
   "outputs": [],
   "source": [
    "# Create x/y arrays\n",
    "x = data_df.temp.values\n",
    "y = data_df.users.values"
   ]
  },
  {
   "cell_type": "code",
   "execution_count": 25,
<<<<<<< HEAD
   "id": "5a929034",
=======
   "id": "984bfa2c",
>>>>>>> parent of 2b33ad3 (16-04-2021)
   "metadata": {},
   "outputs": [],
   "source": [
    "# Initialization\n",
    "lr = 0.7\n",
    "a, b = 0, 0\n",
    "n_steps = 400\n",
    "\n",
    "# Gradient descent\n",
    "log_a = [a]\n",
    "log_b = [b]\n",
    "\n",
    "for step in range(n_steps):\n",
    "    # Compute partial derivatives\n",
    "    y_pred = a*x + b\n",
    "    error = y - y_pred\n",
    "    a_grad = -2*np.mean(x*error)\n",
    "    b_grad = -2*np.mean(error)\n",
    "\n",
    "    # Update parameters\n",
    "    a -= lr*a_grad\n",
    "    b -= lr*b_grad\n",
    "\n",
    "    # Log a, b values\n",
    "    log_a.append(a)\n",
    "    log_b.append(b)"
   ]
  },
  {
   "cell_type": "code",
   "execution_count": 26,
<<<<<<< HEAD
   "id": "a0afd704",
=======
   "id": "4e6d99c8",
>>>>>>> parent of 2b33ad3 (16-04-2021)
   "metadata": {},
   "outputs": [
    {
     "data": {
      "image/png": "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\n",
      "text/plain": [
       "<Figure size 432x288 with 1 Axes>"
      ]
     },
     "metadata": {
      "needs_background": "light"
     },
     "output_type": "display_data"
    }
   ],
   "source": [
    "# Visualize steps\n",
    "plt.plot(log_a, log_b)\n",
    "plt.grid()\n",
    "plt.xlabel('parameter a')\n",
    "plt.ylabel('parameter b')\n",
    "plt.show()"
   ]
  },
  {
   "cell_type": "markdown",
<<<<<<< HEAD
   "id": "eaf940ad",
=======
   "id": "b52cf0d8",
>>>>>>> parent of 2b33ad3 (16-04-2021)
   "metadata": {},
   "source": [
    "As you can see, gradient descent takes a zigzag path to the optimal solution. To understand why it takes this path, we can plot the **error surface**. The idea is to evaluate the loss value for each \n",
    "(\n",
    "a\n",
    ",\n",
    "b\n",
    ")\n",
    " point in the plot from above. **Plotting the error surface is not straightforward. For this reason, we provide a visualize_steps() function in the annex below** The function expects four parameters.\n",
    " - log_a, log_b - two lists that contain the a, b values at each iteration of the algorithm\n",
    " - x, y -the input and target values"
   ]
  },
  {
   "cell_type": "code",
   "execution_count": 28,
<<<<<<< HEAD
   "id": "20be73fb",
=======
   "id": "143a6ae9",
>>>>>>> parent of 2b33ad3 (16-04-2021)
   "metadata": {},
   "outputs": [],
   "source": [
    "### Annex : Here is the code of the visualize_steps() function. \n",
    "### Note that it uses the meshgrid() and the contourf() functions from Numpy and Matplotlib\n",
    "\n",
    "# Plot the error surface\n",
    "def visualize_steps(fig, axis, log_a, log_b, x, y):\n",
    "    # Define a grid of a,b parameters\n",
    "    min_ab = min(min(log_a), min(log_b))\n",
    "    max_ab = max(max(log_a), max(log_b))\n",
    "\n",
    "    d = max_ab - min_ab\n",
    "    min_ab -= d * 0.1\n",
    "    max_ab += d * 0.1\n",
    "\n",
    "    a = np.linspace(min_ab, max_ab, num=40)\n",
    "    b = np.linspace(min_ab, max_ab, num=40)\n",
    "    a_grid, b_grid = np.meshgrid(a, b)\n",
    "\n",
    "    # Compute the RMSE score for each a,b pair on that grid\n",
    "    rmse_grid = np.zeros_like(a_grid)\n",
    "\n",
    "    for i in range(40):\n",
    "        for j in range(40):\n",
    "            a, b = a_grid[i, j], b_grid[i, j]\n",
    "            rmse_grid[i, j] = rmse(a*x+b, y)\n",
    "\n",
    "    # RMSE surface\n",
    "    axis.set_aspect('equal', adjustable='box')\n",
    "    mpl_contourset = axis.contourf(a_grid, b_grid, rmse_grid, 20, cmap=plt.cm.coolwarm)\n",
    "    fig.colorbar(mpl_contourset, ax=axis, label='RMSE')\n",
    "\n",
    "    # Plot the GD steps\n",
    "    axis.plot(log_a, log_b, c='#00abe9')\n",
    "    axis.scatter(log_a, log_b, c='#00abe9')\n",
    "\n",
    "    # Set titles and labels\n",
    "    axis.set_xlabel('parameter a')\n",
    "    axis.set_ylabel('parameter b')\n",
    "\n",
    "    axis.set_xlim(min_ab, max_ab)\n",
    "    axis.set_ylim(min_ab, max_ab)"
   ]
  },
  {
   "cell_type": "code",
   "execution_count": 29,
<<<<<<< HEAD
   "id": "bec9f325",
=======
   "id": "042e8f9f",
>>>>>>> parent of 2b33ad3 (16-04-2021)
   "metadata": {},
   "outputs": [
    {
     "data": {
      "image/png": "iVBORw0KGgoAAAANSUhEUgAAAWIAAAEKCAYAAAAo+19NAAAABHNCSVQICAgIfAhkiAAAAAlwSFlzAAALEgAACxIB0t1+/AAAADl0RVh0U29mdHdhcmUAbWF0cGxvdGxpYiB2ZXJzaW9uIDMuMC4zLCBodHRwOi8vbWF0cGxvdGxpYi5vcmcvnQurowAAIABJREFUeJztvXucW2d17/1duozmfrHH93FiO3Ec27k4iRMcIJBwCYG2GE5LG97TQ2jpCfBCr6cvJe055dKTvpRyaSkv8ElLTqBQQiBAUiAkQElSwCFx4jjxNXZsxx7bsT1jz/0qab1/PHt7NBpdR3tLW9Lz/Xz0GenR1tbeGumnpd9az3pEVbFYLBZL5QhV+gAsFoul3rFCbLFYLBXGCrHFYrFUGCvEFovFUmGsEFssFkuFsUJssVgsFcYKscVisVQYK8QWi8VSYawQWywWS4WJVPoA/Kaza6EuW3FB1vvDkvD8OUMkvd9nMh7IfUnCw9cv4d1xadybfalH55ec9uZ4knFvjicx5c1+4pMJDkxP9KnqolL2c21jmw4W+L48MD3xsKreUsrzBY2aF+JlKy7gq/f/LOc2bZERz5+3JTnk/T4nznq6v4ZR7/YXGfbw2Ab6PdlN4qw3xzR19pwn+xk/7c1+Rk8PerKfoRPe7Gfzo798qdR9DCbjfGHxxQVt+8bju7pLfb6gUfNCXAjD8VbAW0EeDbWfv+6VKI82LjD780iQp1rM/rwQ5Hib2Zcngty50PwtUZDDC8wxlSrIDQu6gNIFuWmx2U+pgtyyuAMoXZDbl5v9eCXIlvljPeIUhuOt50XZS0ZD7bOEueT9NS44L8peMNWy4Lwol0q8bcF5US6ZzoUzolwC4QULzotyKTQs6DovyqXQtLjrvCiXQsvijvOiXArtyzvOi7KlMtiIOAOpYuxHlGwj5CKxEXJObIRc/diIOA9+RMk2Qp4nNkLOiZcRsqW8WCEuECvIpWEFOT9BEmRrV5QXK8RFYgW5NKwg58cKcmmIyN0iclpEdqWMbRKRJ0TkWRHZLiLXpT3mAhEZEZE/Txm7RkSeF5GDIvI5ERG/jrnmhTihIQYnmzzfrxXk0vBckD3ACnJ2qkyQ7wHS64w/CXxMVTcBf+3cTuWzwENpY18EbgfWOhffapfrJlnninFHbNzT/fqR2PMrqQfeJPYCmdTzKKEHNqmXi2pI6Knq4yKyKn0YcKOcDuCEe4eIvA04BIymjC0D2lV1m3P7q8DbmCvWnlA3QuySGh37JcpeCzIEs9LCCnJhBFGQq7zColtEtqfcvktV78rzmD8BHhaRT2GcgFcCiEgL8BfAG4E/T9l+BdCbcrvXGfOFuhPiVPyOkuul9M0KcmEESZC9LnkrlUgsTNfaAm254/Sp6uYin+L9wJ+q6v0i8tvAl4E3AB8DPquqI2kWcCY/2LeVlutaiF2sIFtBLgQryFXNbcAfO9e/BfyLc/0VwG+JyCeBTiApIhPA/UBPyuN7SLEzvKbmk3XFMDjZZBN7HhDIpJ5HFRYQzKReqXhVgxxgTgCvda6/DjgAoKo3qOoqVV0F/APwt6r6eVU9CQyLyBanWuJdwAN+HZzvQpyllOSjInLcKSV5VkTeknLfHU65yH4ReVPKeNlKSVxB9lqUrSDPHyvIuQlShUWlEZFvANuAdSLSKyLvAf478GkR2Qn8LaYaIh/vx0TOB4EX8SlRB+WxJu4BPg98NW38s6r6qdQBEdkA3ApsBJYDPxGRS1Q1wUwpyRPADzGlJL69MC5+2BbVVGlhLYv8BMmyCFKFRaVQ1XdmueuaPI/7aNrt7cBlHh1WTnyPiFX1caDQd+hW4F5VnVTVw5hvoutSS0lUVTGi/jZ/jjgz1WJb2Ai5SAIaIZeKjZCri0p6xB8Ukecc68J9x6wAjqVs45aMlLWUJBdWkEunHgS5VGpxUoglO5US4i8CFwGbgJPAp53xbCUjRZWSiMjtzjTG7efO9pV6rBmxglw6tSzIQfKPwQpy0KmIEKvqKVVNqGoS+GfAnffdC6xM2dQtGemliFISVb1LVTer6uaOzkUMTUTPX7ymWhJ7VpCLxApyTqwge0tFhNjxfF3eDrgVFQ8Ct4pITERWY+Z3P+llKYlfggz+RMl+CbJXomwFuTBqWZAtpeN71YRTSnIjZlpiL/AR4EYR2YSxF44A7wVQ1d0ich+wB4gDH3AqJsCUktwDNGGqJUqqmHDFuL1xupTdZMTPSougTg6xVRaFEaQKC/CuyqJUwg3hamoq5Dm+C3GWUpIv59j+TuDODOO+lJJYQbaCXBRWkC0+YKc4O6TaFV6Lcj3WIltBLgwryBawQpwRv6Jkvzq/+dX1zQpyAVhBtniA7TWRA5vYs0m9grFJPUsJWCEugHKUv3mJFeTisYKcGyvG/mKFuEisIFtBLogaFGQbHfuHFeJ5YgXZCnJBWEG2FEDNJ+viSRgYCdHZmvRl/34n9mxSr3hsUi8/XnZ6s5ROzQuxy8CICf79FmTwVpT9qLSwglw8tSzIpVZYWEqnboTYxRVk8F+Ugx4lW0EunloUZK9K3kohFAnX9XTpuhPiVMoVJVeLIIM3omwFuQisIFuwyTrACHJqpOw19ZrYs0m9IvAwqVcqXpW8WQqnriPidPy2Lfz2kYOa2KuXCLnk6Bg8iZCDlNCzFIaNiLNQjVGyjZDnh1cRsmfRMdRcyZslN1aI81DNguylKFtBLpwg2hX1JMiZVo53xv/QWR1+t4h8MmW84ivHWyEuEFeQ/RLlavGR/RBkL0TZCnJ+6kiQ78Gs8n4eEbkJszjxFaq6EfiUM566cvwtwBdEJOw8zF05fq1zmbVPL7FCPA+sIAd3tp4V5PzUuiBnWTn+/cAnVHXS2ea0Mx6IleOtEJdAOQQ56D6yFeTCqVVBrhIuAW4QkV+JyGMicq0zHoiV42u+aiKRyL9NqZSr2iLIlRZBnRwSxCqLWqxBLpVQNFLMlOluEdmecvsuVb0rz2MiQBewBbgWuE9E1uDRyvGlUvNCDDAwPPP6dbb55reb5/JxkogV5BL2YwU5L0EQ5ALpU9XNRT6mF/iOYzM8KSJJoBuPVo4vlbqzJgaGdZYw+/Y8VeYjW8uieKxlUVV8D3gdgIhcAjQAfZRh5fhC8F2IM5WSiMjfi8g+EXlORL4rIp3O+CoRGReRZ53Ll1Ie42kpiSvIfouyFWQryIViBdkbnJXjtwHrRKRXRN4D3A2scXToXuA2NewG3JXjf8TcleP/BZPAe5ESV47PRTmsiXuAz2Oyji4/Bu5Q1biI/B1wB/AXzn0vquqmDPtxS0meAH6IKSXx5IVxxdhP28JPH9laFiXsx1oWeakiywLIunI8wO9m2b6sK8dnwveIOFMpiao+oqpx5+YTzPZi5lCuUpJqty38qLTwenKIjZALJ4gRssUfguAR/z6zI9vVIrLDKTG5wRkrqpRERG4Xke0isn106EzRB2Rti8xYQS6OWhTkarUrgk5FqyZE5K+AOPB1Z+gkcIGq9ovINcD3RGQjRZaSOKUsdwGsvHhzSWpqbYu5eGlbBLUFp7UsclNtdkXQqZgQi8htwK8Dr3fsBpxZL+7Ml6dF5EVMIXZZS0kyUa4SOL/K34IuyBDMjm9WkHNjo2NvqIg1ISK3YJJzb1XVsZTxRe48b6fYei1wqNylJPmoZtsi6JYFBLPBUM1bFpaK4ntE7JSS3IiZDdMLfARTJREDfuxUoT2hqu8DXgN8XETiQAJ4n6q6X/vvx1RgNGE8Zd9KSQqlHFGyjZBthJwPTyJkjyos5ouEw4HsW1EufBfiLKUkX86y7f3A/VnuK1spyXzw20v2y0e2gjzP/QRUkINgV1iKJwhVEzVFtdoWfpa+eUU9WBalEqQKC0vh1HyviURCGRgw0V5np/ftJbNhbYsZbIRcOIGyK8BGyGWi5oU4FVeQoTKibAXZCnKhWEGuL+rWmhgYmJ4lzGV5Tp9ti2qptLCWReEEssLCWhaeU1cRcSYqESX7bVtUS2LPRsiFYyPk2qbuhTiVSopyNdkWVpDnsZ9aF2RLSdStNZGPclsX1WhbWMtiHvupVcvCUhI2Is5DuaPkctkW1RAhg7f9LGyEnB3PImTLvLBCXATlLoPz07bwU5AhmLaFFeT8VEqQJRKp674VVojnQaWi5GoRZAi2j2wFOT82Qi4vVohLpJyi7KdtUY+VFlaQ82MFuTzYZJ2HlDPB52dyr94Se14n9TzZj03q1RU2IvaBSkTJ1WJb1EOE7FV0DMGMkG107D02IvaZckXJNkIOXoTsVckbBCtCttGx91ghLhOuIPstyn6ut2cFeX4EVZBLJaiCLCJ3i8hpEdmVMvY3IvKciDwrIo+IyPKU+64QkW0isltEnheRRmf8Guf2QRH5nLMohS/UvBDH495WA3hBtUfJVpDnh9eCXCpe+ccB5B7glrSxv1fVK1R1E/B94K8BRCQCfA2zCMVGzCIW7ofzi8DtmJWC1mbYp2fUhUd87tzErNtdXY0VOpLZlMtL9stH9qPSwnrIRewnYP5xUFDVx0VkVdpY6ovdwsziwzcDz6nqTme7fgARWQa0q+o25/ZXgbfh08pAdSHE6aQKc9BEuRoFGbxP7FlBLmI/VpALQkTuxKx3OQjc5AxfAqiIPAwsAu5V1U8CKzCLFrv0OmO+UJdCnErQRLmcggz+RclWkAvHCjIQjhTTQKhbRLan3L5LVe/K9yBV/Svgr0TkDuCDmPUzI8CrgWuBMeCnIvI0kOmf4VszGN894izG+QIR+bGIHHD+dqXcd4djju8XkTeljPtunJ87N3H+UmnKndzzfL8e+8jWQy5iPwGqsPCJPlXdnHLJK8Jp/Bvwm871XuAxVe1zVpT/IXC1M96T8pge4ESpB56NciTr7mGuyf1h4Kequhb4qXMbEdkA3ApsdB7zBREJO48pm3EOs0W50sJsBXkGK8hF7Kf2BblgRGRtys23Avuc6w8DV4hIs5O4ey2wR1VPAsMissUJ+t4FPODX8ZVjFec5xjmwFZOdBPgK8CjwF874vao6CRwWkYPAdSJyhDIa55kIgoVRjuSe34k9a1kUjrUs5oeIfAOjL90i0ouxIN4iIuuAJPAS8D4AVT0nIp8BnsJYDz9U1R84u3o/JpBswmiNb3pTKY94ifONg6qeFJHFzvgK4ImU7VyDfJoyGuf5CJIo+y3I4K0o+yXI4I0oW0HOT9AFWVXfmWH4yzm2/xqmhC19fDtwmYeHlpWgJesyfeI1x3jmnYjcjrExaO1a6c2RZcEV5VoVZPAnSg769GkryPmpdrsiSFRqQscpp07Prdc77Yz3AqnK6RrkRRnnqnqXa+Q3tZRnKZdK+8nlSO754SMHfXKI9ZAt5aBSQvwgcJtz/TZmTPAHgVtFJCYiqzFJuSfLbZyXSlBE2bf95xDkbZPjfGigj/ecPc2HBvrYNllYROkKclATe1aQLX7iuzWRxTj/BHCfiLwHOAq8A0BVd4vIfcAeIA58QFUTzq7KZpx7SSX95HL5yK5lsW1ynK+ODjPl3N+fTPLV0WEAro8VLmJBTux5bVnUYi9kS/EUJMQishS4DuPLPqWqLxf6BFmMc4DXZ9n+TuDODONlM879olKi7He1hSvI302Mnhdhlyngu+OjRQnx+f3WgSDXcnN6S+HkFWIR+QNMg4z/wCTN/klEPq6qd/t9cLVMpZJ8fkbJ/cnMgpltvFCsIBeHl4JcLjHWcDiQndzKRSER8f8DXJXSDGMh8EvACrEHVDpK9lKQOxEGMhSzLAx54/taQS6O0VC7jY6rhEKEuBcYTrk9DBzz53Dqm0qIspe2xUqJMqCzzYko8CZaStpvOlaQC8faFdVBViEWkT9zrh4HfiUiD2A84q3Ak2U4trqmEtZFKVFyvybY64hwO8IQShch3hxq4ZpwY1XUIltBLmA/VpB9IVdE3Ob8fdG5uAS2bKwWqWSUXIwgP5AYIQ5cLg28O9KRfd9WkOeFFeTaJqsQq+rHynkglvyUW5QLFeS9yUl2O9Hw60LNhe3bCvK8CKogW0ojaFOcLQVSTusil488rcp3E0YULpIoF4SKszWsIM+PoAmypTSsEFc5lY6SH02O0Y8RvJtC85955keTISvIhWMFubLkrCsSkbCI/Gm5DsZSGuWcVj0wMM2RwQl+khwDYBlhLpUGb/btcU+Lepg6HbRp05biyPnudKYXby3TsVg8oly9Lh5uGCfuXL8p3IzXi6ZYQS4eK8jVSSHWxC9E5PPAN4FRd1BVn/HtqCye4ZeXfCA8zQsRI8MdSWHVaIgB/Jm157WPHHTLohZbb+YjGYrUdVvNQoT4lc7fj6eMKfA67w/H4hdeeslxlIcbZsRiy3Qj4ZSW0X5No64XQa7lXsiWzOQVYlW9Kd82tcLQ2bGitm9fUFipVtAoNUreFp3kXChJVCGCsCme2Ru2gmwF2VIYhTT9WQL8LbBcVd/sLPB5vapmXXqkmihWfAt5bLUI9Hyi5AFJ8PPoBIuSIc6Eklw/1UBDxgVUUh5jBbmk/QRVkK0Ye0chmYt7MCudLnduvwD8iV8HVC6Gzo6VJMKF7Dv1EnQKTe490jCBAK0aIqJw7XSs4Ofwq2F9vST1vG5OXyo2oecdhXjE3ap6n4jcAaCqcRFJ5HtQkKmEMGZ6ziBGzrlsi4PhafZHprl2uoGnI1NcE2+geR6LvPjVH9lGyMXhZac3S2kU8ikadVpfKoCIbAEGfT2qOiHIEXN6CVwc5UcN4yxMmreMAluKiIaz4UeUbCPk4vCq5C0oiMjdInJaRHaljL1DRHaLSFJENqeMv1FEnhaR552/r0u57xpn/KCIfE68rs9MoZB3159h1pK7SER+AXwV+CO/DqheCbKVce7cBP8RH+VcKMmNU43sjEyxMRGlU8OePYcV5PljBXkO9wC3pI3tAv4L8HjaeB/wG6p6OWb9zH9Nue+LmNXg1zqX9H0CkCbeq9Pu+y+FHHAh1sRu4LXAOswKHfup3KKjdUOqGFfawhgKK0+3xbloLMTx6SmmGuF6D6LhTPiR2PN6+rS1LIKNqj4uIqvSxvYCcyYdqeqOlJu7gUYRiQELgHZV3eY87qvA28i8VuangKud6/enXAf4n8B38h1zIYK6TVXjqrpbVXep6jSwrYDHWTyi0tHyzzuNQFw/FOG51jgXTISI9cd9nblXDYk9PyJkL6iDCLlbRLanXG73aL+/CexQ1UlgBWZRDJdeZywTkuV6ptsZydUYfqnzxE0iclXKDtuBkkM0EVmHma3nsgazNl4n8N+BM874X6rqD53H3AG8B0gAf6SqD5d6HNVIOaPll2IJDjUluX4wQm8syVgYrj47Y0n43QWuGkrfvIyQa7mxUC6SoUgxLTX7VHVz/s0KR0Q2An8H3OwOZdgs2ze45timoG/9XNbEm4B3Az3AZ1LGh4C/LGTnuVDV/cAmMM2FMCuBfBf4PeCzqvqp1O2d+uVbgY2YUrqfiMglTj+MusVPUU6gPN4Zp3NauHI4zDeWTLF4SlgxOTcKdAV5f1OcJ7sSDIrSocJNU41cnvAmqecS1EoLK8jViYj0YLTnXarqLoLRi9E+lx7gRJZdrBGRBzHi7V7Hub06y2Nmkasx/FeAr4jIb6rq/YXsrAReD7yoqi/lSExuBe51fjYcFpGDwHXMwyZpX9AcuISYF3gtyjvaEgxGlbeeiXKkKclgVLmlP4pk+bW1vynOz7rixB2dHhTlB7FxmMQTMXbx00e2gpyfWhJkEekEfgDcoaq/cMdV9aSIDDtVYr8C3gX8U5bdpDZG+1Tafem3M1KIwfULEfmyiDzkHPgGEXlPITsvgluBb6Tc/qCIPOeUoXQ5YyuYvWhpVs9GRG53/aPx0X6PD7U6KNVTHgor250E3crJEM+0xemYFtaMZ3/LPNExI8Iu0wI/a/DHSw56pYWXHnItd3rzGhH5BiZAWycivSLyHhF5u4j0AtcDPxAR19b8IHAx8L9E5Fnnsti57/3AvwAHMcvFZUrUoaqPpV4wq9wPAXud23kp5F3yf/BxZp2INABvBb7lDH0RuAhjW5wEPu1umuHhGT8xqnqXqm5W1c1NLQszPm+lKxHKyXxE2U3QvXowyvFYktMNylUjYUI5cg/DWarZBkWrLrFnBbl6UdV3quoyVY2qao+qfllVv+tcj6nqElV9k7Pt/1bVFlXdlHI57dy3XVUvU9WLVPWDqprxDSEiX3I8ZkSkA9iJKfPdISLvLOSYC3l3dKvqfWCWYVDVOCZZ5hVvBp5R1VPO/k+pakJVk8A/Y+wHMBHwypTH5fJsLFkoRJTdBN3m4QhtCeGZtgTNCbh0NHfdcGuWd0WbM+53n2QryPOjFsW4zNygqrud678HvODUJV8DfKiQHQRhZt07SbElRGRZyn1vxxRig5lUcquIxJyi6bXAk6U8cT1FxZnIJMipCbqrhsOciSY52pjkipEIkTyVOMsyJPEiSdgyODcVYQU5WIJcq9FxmZhKuf5G4HsAqvpyoTsoZEJH+sy6RcBvFXGQWRGRZsyBvzdl+JMisgkj/Efc+1R1t4jcB+wB4sAHvKiYqNXEXTGknv8LFzacT9CFEXa0TRNNwuUjuaPhoXCSw00mORVLwGTIRMJbBiOsG8/+NvOz/M0m9YrHy05vdcSAiPw6pvLrVZgSW0QkAhT07VZIP+JnRGTWzDpnUkfJqOoYsDBt7L/l2P5O4E4vntsyl5EoPNU2zQWD0HlykqFFjRxoSnLlSJiYZhceRXnUqZaIJeHdL8eI5tg+E1aQrSBXMe8FPgcsBf4kJRJ+PaYiIy+F9CMOA28BVjnb3ywiqOpncj6wirBRsWH7ciMqm08YkflVdBJR2DSc+21yoMnYFwAbRsNFi3Aqfq5KbQW5eKwg50dVXyBDHwpnwllBk84KsSb+HZgAnsdJ2NUi9S7Gx1vhaIdw1ckkrdMwEYaDC2D1ACT7xnFbgKf76hOi/KdTYSGa38IoBr+iZCvIxeO3ICcJVW1vYxH5XK77VTVvk7RChLhHVa8o+KiqmHoV44TAkyuEtkllQ58Z29ctJELCxjOzxSB90sgvO+OMO9q7eiJEe8L7flB+CzJ4J8pWkOuS92GKCu7DVHIV/c8vRIgfEpGbVfWRYnduqQ72dMNwTHj9oSRhNZMw9i2EnkGlczL74w5MjrGnJURjwkTQV3gYDWeimnxkK8h1xTLgHcDvYAoJvgncr6rnCt1BIeHLE8B3RWRcRIacaX81u1hVvZW0jUThuSXCBYPKCmfG6sEFMBURLjuTvVwrIbBthdA6pUTjSue40nYyh2p7SDWVvtVD2Vu9o6r9qvolZ6Hld2Mal+0WkayFB+kU8l/9NGZaYLOqtqtqm6pWp5lTIPUkxukJuiSwZ5GweFRZnMOleX6xMNQorBow0fT6fkXwdy3AdPycIGIF2VIsInI1Ztbx72KmQz9d6GMLsSYOALuyTe+rVerBL05P0AEc6YTRBuG649l/Bg/EYNciWH1OGYpBQ1xZnfYjrNyN7aslsRdky8KLxkL1iIh8DPh1YC9wL6aBULyYfRQixCeBR52mP+d/e9ZS+Vo2almMMyXoFNi9SOiYUHqGMz9OgSdWCJEkrO9THrpY2HgGIjm+pt3X0Apyyv4CKMhednqrM/4XcAi40rn8rdNFUgAtpNihECE+7FwanEtdUatinJ6gAzjRBueahFcdS2ZN+x5cAKdbheuPJXmpw2x1SX9mFT7UCTuWCqNRaJmGq14eY82Auc9vUbaCPH+sIBdNQT2Hc1HIzLqPlfok1U6tiXGmBB3ArkVC85SyaiDz48Yj8PRSYcmI2eb+9XDBIOdtjVQOdcK2HlMCBzDaANt6AJQ1A+WLkq0gzx8ryIWhqi9lGncmw90KZLw/lUJm1i3CdBDaCJx/N6vq67I+qAapJTHevmx2gg6grwlOtQqbT8xEyOk8tVyIh2DLceVwl6msuLQv84d9x9IZEXZJhIQdS2HNwMwTWEFO21+dCnJCw4HsbVwIItIOfADTH/1B4MeYPsd/DjwLfD3fPgpJvX4d2IcJvz+GacTz1LyOuMqphWqKE61wtFO4/LTOimR3LRYa4sras5kfd7wNjjiPa580Ez4WjGevrBjNokvZxsu1OKqtspg/tsIiK/+K6cXzPPAHwCOYxmhbVXVrrge6FOIRL1TVL4vIHzvd5h8TkYK6ztci1RwZpyboNp6ZGR+MwdF2uPw0RDMET9NiEnQdE8plZ+DlVhhoFF6Zw0tumTZ2RKbxfJQjSvarp4WNkOuSNU7/YUTkX4A+4AJVzZLynkshX5Puq31SRH7NWdG5J9cDap1qjYz3dMNQTLjuuM6yH/Z0CyGFS7Mk3XYuFUYbhC295nF7FwqNcWV1Fi8Z4NI+hbSKx3BSuerlwqO8ctUk+xEl2wi5rjj/j3Za8x4uRoShsIj4fzvLf/wPzOJ57cCfFvMktUi1RcYjUXh+ibAyLUE3FoEXu+Dic9CUofKxvxH2dsPafmXJGAw3QK8TPWfzkpOY+mREEFUUt2pCz1dNFEO5apL98JGDHiF7UYNs4cqU2cYCNDm33fK1vBPgcgqxk/Vbq6rfx6zKcVOJB1xTuKJQDYL89DJBgWtPzFbPvd2CCmzMMJ05CTzRI8TicLUTye5baNZwXpclejb7hDMtRig2nIFrioiC81FO26IeBNnLSSH1iqqW3GQl5+8TJ8x+a6lPUkkiEe+7gaUTdKviRCu8lCFBNxWCFxaaErS2qbmP29cN/c3CtSeUWAKmQ6aO+MJBaM4yb2ggZiomXC4+58+EzGpN7AXVsvBy2nSlEZE/FZHdIrJLRL4hIo0isklEnnBWad4uItelbH+HiBwUkf0i8qZKHHMh1sQvReTzmI5Co+6gqj7j21F5jBvZ+LmScFCtimwJOjAiPB0WLjszNxoaicKzS4QVQ8oqZ4XCF7vM9uuzlKwlgV+sFKJJ0KTSMQkdPvcBKodtUS0RcpASepVCRFYAfwRsUNVxZ3m1W4H/C/iYqj4kIm8BPgncKCIbnPs3Ylaq/4mIXOLFMmzFUIgQv9L5+/GUMQWqro64q6ux7sTYTdC9/vDs+uCEGFti6bCyMK2ToWLEG4FXHDfNfBTYv1DmFz25AAAgAElEQVRYOKZ0ZznFXYtNBL3+jLJ3kXDxyfJ+mP22LYIuyEGssKgQEYxPOw00Y3oEKya/BdDBzArwW4F7VXUSOCwiBzErx28r9wHnxGnt5gsicgQYBhJAXFU3i8gCTPS9ClOz/NtuX08RuQOzMF8C+CNnKZKiqCcxHk1N0KXlcHdHJhiPNrNp1wiD52b7DCcWReltb2HjgXESJycZBE4viDDY2MrVu0eRDOshnm2EnUuEVQPKdAgiiZlIutxYQa5fQVbV4yLyKeAoMA48oqqPiMgx4GHnvhAzAeYKTKtfl15nrKwUEhEjIr/G3Jl1H8/+iKK4SVX7Um5/GPipqn5CRD7s3P4LL39C+G1VBEWMt2dJ0A30DXHwFW10DMdZlCbC0xHhuUua6BiOs6Z3xlc41BMjNplkxelpBtPWjk0I/GJLB41xuPqk8uAlwqrBzDXJc/tPzK+SohCsIFePICc0VExv424R2Z5y+y5VvQtARLowUe5qYAD4loj8LibK/VNVvV9Efhv4MvAGMq+mUfZOk3ndeRH5Eqbz/B9iDvodwIU+HtNW4CvO9a8Ab0sZv1dVJ1X1MOD+hJg3fqz04FLpBF62BB3Ay91RRlrCXPzS5Jx34Z41jUw2CJv2jRNy3o4jTSFOdUdZdXzy/Fgq+1c3cq5JuGLPKId1gnhYuPjs3A3d/hOjDaa0bbRB2NYjHOr05pyz4fesvaAn9YJYg1wifaq6OeVyV8p9b8DU8Z5xVpv/Dib6vc25DvAtZrSjF1iZ8vgeZmyLslHIK/pKVX0XcM5pAHQ9sw+8FBR4RESeFpHbnbElqnoSwPm72BlfARxLeawnPyH8FuNKCHJC4MnlmRN0Chy4MEbzeILlZ2Z/0Ps7whzpiXHRsUk6h2d+aBzqiSFJZdWJuaUVZ9vDHLgwxsqTkyztj3N0eQOtowkajg4x2GcuLtn7T5QesRWKFeSaEuRMHAW2iEizmF6Ur8f0CT4BvNbZ5nWYPutgekPcKiIxEVkNrAWeLPMxF2RNuKmcMRFZDvTjQds3h1ep6gkRWQz8WET25di24J8QjqjfDtCx8IK8B1FrVsXebhhqnJugAzjdAuc6Ilyxf2xWdJsU2LmumaaJJJcennkdpsNwdFkDK05N0zg1e2eJEOxY30zTpHL5C+OMNIXo74yw4eD4rH+WK8aj0Y6Mx5ut/4Sf+Glb1KNlERRU9Vci8m3gGcz6cTuAu5y//ygiEcyq9Lc72+92Kiv2ONt/oNwVE1CYEH9fRDqBv8ecnAL/7MWTq+oJ5+9pEfku5ufCKRFZpqonRWQZcNrZvOCfEM5PlbsAlq++puAQwM9EXrnEeNRpcZkpQQem1WXDVJKVJ2dHtwcuiDHcGuYVO0eIpLwNjy5rIBGRWX6xy941jYy0hLl+xwjRBBxY1oAklZUvZyhKBhonkkw0za19L6T/hF9YQfZGkIOEqn4E+Eja8M+Ba7Jsfydwp9/HlYu8X2eq+jeqOqCq92O84UtV9a9LfWIRaRGRNvc6cDNmSeoHMX4Ozt8HnOtl+QlR7b5xtgQdwLkYHG83ohpJybmMNIV4YVUjy09NsbR/JnmnwOGeGF2DcbqGZwcJfZ1hXlwZY1XvJIvPxUmKEe0l/fE5kbO7r0zj4YSy7sDYLAujEljLoq5WQgschfQjbgT+b+DVmM/Tz0Xki6pa6jtrCWZ1aPc4/k1VfyQiTwH3ich7MH7PO6C8PyH8tCr8nBbtJug2vZzM2Kx992IhklSuHI8x4ax6pcDOS5sIJeHyA7MLik8tjDDaHGb9rtFZ4/GwsSSaJ5JsfNE85vSCCJOxEBeczHxeh1c0MNBh3m6SVFSgaSLJ+kMTrDxlDjZVjDu6K7M+rZ8TRGyEbMlGIdbEVzG1vv/k3H4npv/mO0p5YlV113hKH+/HGOyZHlPWnxDVZFXkStCBmSl3uBMu7YNYwphkAMeWNtDXFeXKfWNzItZDPTEaJ5MsS0vq7b6oibHGEK9+ZsbGOLqsgdhUkiX9c+c+D7SF2b22iY6hOIPtEdYdmWDdkdxT7lxRrpQgg3+2hRVkSzqFCPE6VU0VzJ+JyE6/Diho+B0deyXGboLudRkSdOZ+86Fa32fu7Ohu5/TgMLvWNrJgIM6FaRURw80hziyMcumL47OSeqe7Iqay4ugECweNCk9GhZe7o1x0bG5523QYnrqsmdiUsqxvmsH2CMtOF/6TOkhRshVki18UIsQ7RGSLqj4BICKvAH7h72EFD7+iYy/EeDQKzy0WegYzr748GYYDC2D1wOz15V64rJ14GK7cPzanJOVQT4xQYnbJ2rRjSbSOJlh/aOa1OLa0AQ0JF6QlABWz/XjMRM/71jTSMpqgbWzupIBjS6LsXdPIeGNojmXhUmlRtoJsBdkvChHiVwDvEpGjzu0LgL0i8jwFLhVdK/gpxjB/33j7MtPKMlOCDmD/QoiHhY0pzX1OtMKhLuGSwxO0j84WxumIcGxZAz2npohNz+zz+UuamIgJr9k+Sth5iGJsia7B+ByBPbyigZOLG9h4YJzWsSR9nREuPjp3EsmxJVF2XtpMImzuGW8Ks/PSZmBsjhi7VFKUq02Qg9ZYKBPJpNR1k/lChPgW34/CR8JhobMz6lmGOWhWhZugu/LlJG0ZTjHuNPdZMaR0TcyMPeF0ZLt2pIERZp/LS8saSISF1b0zEe7J7gjHlsW45MjErAqKc+1hhlvDbNo7+7jPtYXZtbaJpWemuejYJMeWRtGQzPGbwZTBuSLskggLe9c0ZhXiVCrlJ1eLINvoOPgU0vQn71LQ1YCXYgzBsCrcBF3rpFlLLhMHF8BkZHary+eWCCMx4eYXjZ/c0d1+XsxMyVoDCwfidI4YwZ2KCDvXNdM+nGDd4dnnfHRZA+GEsvx0ioUREbZf1kzjlHLVXmN7nFzUQONEctaMPZfxxsxVlNnGs1GpKNkKsqVUgjUtxmc6O6Oe/UwD8wHxo+640KnRboLuuhOaMUGXxKxH1z2qLHYq0M41wu5FcNFZZWlKVZorXC93RxhrCrPm2ExVw3PrmpiKClfvHZ2VjIuH4PiSBpafniLq6KsCOy5tYjwWYvOuURriSjxkytuWnZmeY0skQhDK0kemaWL+DWbSp1eXA79qkb2uQ/a6BtlSOnUlxC5eijH4NwkklxjnS9ABvNQBIzHhsjOmp3AS2LZCaEjANSfnfoA6uts51BOjaSLJ0j7zQT2+OMrxJQ2sOzxBx8hsYTyxOEo8IrMqLg71GF94w4sTLBgy6nx6YZRkeK4t4SbzkmGZu9BoQmclBOeLK8jlFOV6FGRLadSlEIM/0bEfZBPjfAk6xUzgaJ9QVjoa9MJC6GsxSx81ZpgKc64R+hZEWd1rytAmoqYlZudQnLVH59b9Hl0Wo2UswQKnjO1cW5jdF8/4wi4nF0VpmEqycHB2jfHeNY0cX9LApS+OIwrheBJUaRpPcOW+7Im6+VIpQfZalK0g1x4F9SOuZaohkZfuG5/Mk6BztznbJFx/LIlgVmvesVRYNqysztL/d99CIZxULp+MMc4kOy9tJh4Wrt4zNqc+eKQpRH9XhPUvmgY/533hyRlfGEwzoZcXRll+ZmrWPo4sb+DAqkZWHZ9k8dk4+y4SrtozxoqUGuNCStrmQyW8ZD985CB7yJbiqNuIOJVqiI5d37iQBB2Y5j5N0zNN159cISQFtjhLH6UzEYZDXbDmnJl5139xOy8virL+0ETGut+jyxpAlZUnp2b7wruNL+zS1xUhHp1tS5xaEOG5S5pY3D/N5S+Mc7bDNAJakBIxuyVt401hEDlf0nZsibciUQu2hY2Qqx8rxClUQyLv8MoGBnMk6AD6m+DlNmF9n9nmaDsc7RCuPKUZV2sGU12RCAmX9iujUSPci0d1lsXgkhQ45jT4aZrS877wxhRf2OXEoijhuJ5fCWSwNcRTl7XQNppk8y6T/DvbEaFpIknT5MwJ5Spp8wMryHOxglw+rBCnEeToeCSsPNUeZ9V4iA3R7D9xdy0Sognlkn6YCpkIumtc2ZAlgk5ibImlw0rnBPyyx/jPrzqmdGb46X5mQYSJWIgLTkzN8oXXpIm2YlYDWdI/TTgJ4zHhiStaicaVLTtN60zFCPGCgdn+sVclbcVS7uSeFWQLWI84K0H0jn/RMU1S4DUD5t+WqeZ4uAGOdsCGM9CQNCI8FoXXvqRZv3WPtcNYg3DdiSQHFsDJNuG648nz0XNqnTGYCR9u8u2xzW1zfGGXsx1hJmMhlp2ZZjoMT1zRSjwivPrpYZqcBkPjMWGiMTTLllBM1UQiMtdEKaWkrVjKOVGk3j3keDJ4TebLSf2eeQEEKTo+FktwoDnJNUMR2hMz/7b0D+7ubkHUNPc50wT7FsK6flg0nr7HGfZ1C61TJhrevswk9Nb1z97GFSO3wc/Kl6d49tJmJmLCtbtm+8IuJxdFCSWVxWfjbL+sheGWENfuGqUjZUr12U7zpeJWXiQFtm9sJhEJIcnMJW3HlkR55Po2Hripg0eub/PcN07HRsizsdGx99iIuAAqHR0nUB7vjNMeF64enrvChSvGpwbHeHGBSbg1xuGnq4VmZ6XkbJxthFOtwtUnk2zrEQS4vjdzQq+ju5093aAhIR4RXl4U5bIXxuc0jQcT1Z5cFGXR2Th7Lmrk9MIom/aOsfjsbAvibHuEcFxpH02QCMFTl7VwqjvKxgPjxKaSPHtpM8nQTO9ioOi+FF5RzmqLoEfItsLCW2o+Ig7P1a15UcnoeGdrgnNR5YaBCJGMEmk4vDJKQuCyM8qeRXCuyST1GnL8mt/bbZrFJ8QI8rUn5q767KLAwQWmxO3o0gaWnpnKuIQSwGBrmLGmMKNNIV5aEWPtkQkuPJlh8dHOMF1DcRIh2HZlK6cWRrhy3xgXH5tk5alpmieSLD8zzc3bhll5arrsSbxslCtKDnqEbKNjb6iLiNidD+/FdMxyR8epCbrVE9m/VaZEeb41wZrxMG0dEXYumWTloHJBDq2YCJtm8YtHYddioWdIuehc9u37m2Cg0byWrVPKVXvHM3ZSc2t/AUZawqx4eSrjLLl42Aj26t4pfrmplcG2MNfsGaPHiWwVGI+FWNw/83pXKomXjXL5yEGPkC2lURdC7NLZJp6JMXgXDeRqIOQm6G4YyP2v2tOSYDIEV49EeLQrTgiTfMvFCwshGRL6m5VwErZksSQOdZrJIO5qy6LKa15SujvbZkWF6e0sAVBl0dm5PSaOLYmy6+JGEOFwTwOicO2uUZb1zVgX8TAkInK+rG2gNYwoaIaDLGcSLxNWkC2lUPPWRDqdbeJZxyi/6457nQTd1cNhOhLZ/1UJlGdb4yyfFAbDyrHGJNcPRljWlv3DmgT2LzSvw3RYeMVxpXnuKkcc6oRtPcJog4A4r5vCUMxcTRWeTLYBIuxfPfu8XMGeioXPbyNqeianbvPTV7QB8MKFMbZvaOLxza1EEkooEYwkXiasZREMRKRTRL4tIvtEZK+IXJ9y35+LiIpId8rYHSJyUET2i8ibyn28dSfELl6KsR/ecQLlMSdBd81Q7mj4heYkIxHYOBrh553TLJkULhs1Ipetk9tLHTAeNa/BhQPKqsHM+96xVEiEZr9WGhJ2LJ0Z6+hup6O7vWDbIJNgJ1N8XleoJxvNOUw3hDi+NEbHSII3bBtm074xolMmAo5NmL4UQFlm4hVKueqR/RLkGuAfgR+p6qWYtTH3AojISuCNmIWJccY2ALcCGzH9178gIh5llwqjYkIsIitF5GfOt9VuEfljZ/yjInJcRJ51Lm9JeYyn31pBjo4PLJKCEnSKsqMtzsIp4VgsyWQIbhqIEkp7TLoY73PWsGucVl6RZdozcN6OKGS8JYtTk24b5BPsjJE1pglRQ1xZeWr6/LJMk7EQe9c08tzapkAk8TJRjYJczdGxiLQDrwG+DKCqU6rqdlj5LPAhTArCZStwr6pOquph4CBwXRkPuaIecRz4H6r6jIi0AU+LyI+d+z6rqp9K3TjtW2s58BMRuURVM/QRKw6vknleecdDkuSxhgnWxiM5E3QARxqTnI0qG0bD7GlJcPVQmO7pzELnivGh8THOtJhz3nI8cyc2l5ZpGG3IPJ7OVS8r23qYFUFnamfZNJE0kWsarmBnE+oJZ/zYkiiHexxvxIl+09touow3hnjk+jbPGwfNh3L4yF57yAH1j7tFZHvK7btU9a6U22uAM8D/EZErgaeBP8asDn9cVXeKzPrSXgE8kXK71xkrGxUTYlU9CZx0rg+LyF5yn/z5by3gsIi431rbvDomL5N5pYjxTxrGSQJvmmqiq8sIVrbo5Jm2OM0J6I0laY8L1+WwMfY3xXmiI85w2AjaotHcVRWQRVyTmrE22TQYUnYsNRFzNuFbf2hiTlIvVbDzCfXeNY2mh3Eqkv1Xg7uvctYc58IK8lwSiaICoT5V3Zzj/ghwNfCHqvorEflH4KOYKPnmDNtnevOUteN9IDxiEVkFXAX8yhn6oIg8JyJ3i0iXM7YCOJbysKzfWiJyu4hsF5HtIwM5WpRlwCu7Yr7e8ZHQNLsj07xqOkaXzohRpg/AyYYkJ2NKXGAootx4LruNsb8pzs+64gxHOP+2O9skHOrMfTxrBswEj5YpBTV/r++d6eqWafvf3Ke863nlHQcko+CtPDXNlfvGaBpPZOw/vP7QBOEsCTnIUaqWKSqWYNoVUD7LwkuqxLLoBXpV1dWTb2OEeTWwU0SOAD3AMyKy1Nl+Zcrje4AT5TvcAJSviUgrcD/wJ6o6JCJfBP4G8430N8Cngd+niG8t52fKXQCr1m2e1zdbJUrdEigPxcbpTIZ45fRcsUivO36mzZQ5TIVg3WiICyaz2xhPdMSJp+lXIgQ7l4dYM5C79GvNAKwZmN9rkd6nwmXlqemsUakZH8vaizhbxFwolao5zobfEXK9lbyp6ssickxE1qnqfowl8Yyqvt7dxhHjzaraJyIPAv8mIp/B2J5rgSfLecwVFWIRiWJE+Ouq+h0AVT2Vcv8/A993bpb9W6vcE0GejEzSF0ryOxMtRHMk6Lq6GnlxeIzDTU7lQAJePZg7+s4wM/r8+HxWjy6GbGKci1xCnc3ayFHhNxuFH766nemoVNw3TqWaBTmA/CHwdRFpAA4Bv5dtQ1XdLSL3AXswuasPeJF7KoZKVk0IJqu5V1U/kzK+LGWztwO7nOsPAreKSExEVlPgt1bEgzMsR6nbkCR53EnQXZLIb2nsXjhz/dWDEZqSuY+xLcvbyh0vdMHS+eKWuHlBNmuj4EkdIWG6IRSIMrdM+G1Z+LWmXpBQ1WdVdbOqXqGqb1PVc2n3r1LVvpTbd6rqRaq6TlUfKvfxVjIifhXw34DnReRZZ+wvgXeKyCaM7XAEeC+U9q3V2ZosucWe39HxTxrGSQA3TzXlffyQJHk+Ysq3ViUiXDqW/2f6lsEIP+uabU9EkmY8lSBGx5nIFjGnR8qSVDMTL0cyLxEWdqyvfBIvnWqMkC3zo5JVEz8ns+/7wxyPuRO4cz7P19lqoqWgCHKqd+wm6G6YirFA84vqk5FJkgJhhbdMNrEgT2UFwLpx8682VRMmEt4yGDk/nor7wfRLkF1h8Trqy+YtP7Mhv9BoSHhmQzPPbMhe7VEprCDXPhVP1pUbLwXZi+i4rSPCQ1NDdCZDvCpDgi6dCZI8HTUdz26YbmRhWmVFPjHOJLzZqJboOJVMkfLeNQUm96T8rTWLwQpy7VJ3QuwSFLviP5Pj9IWS/F64neh4fi96e3SKKYHuZIhXTsfm3O/1StLliI79LuHKlNzLRyIsPLO+mefXqk3qWXynboUYKh8dD2qCR5JjrJcGNkoD0ukIe4bqiufDk/xHwzhDjpasn44QzlNZ4WVG28/o2C+rwiXdsohOG3HN5RsDTlIvuFGyFeTaoa6F2KVS0fG/J0ZJoLwt3ErqlMv0ZN7z4Ul+EBtnOkU3nmiYYqGGuTwxNyp2sdHxDOmWRcaWnXlIhIPpI9eCICcSWtdN5oNV2V5BOluT5yPkkvZT4My8g8kpdugkN4Wa6c7Q6Cm11O1nDROzRBhgWsx4IXhddF8tZW65SC+By9arYg4idV32ZvEHGxGnUQ67IqHKdxIjLCDE60K5Ra2zM8rgVOb9DErh0beNjueSGiUfWxJlx/pmNFRchFxvZW/WrvAHGxFnwc/o+OfJcU6RYGu4lYZ8PiXQJZn/TR2ZlqrIt68MDehLwc+JIOWIjF1Wnprmqr1jc3pc5MMte/vhq9sDFR2DvxFyPUwKKSdWiHPgpV3hMqgJHk5J0BXCm0MtpH/Eowo3Tc1fUKvFriiXVQGl2RXTDSGe2dDMs2uD13vBb0G2lE7NWxOhkAcz4TxM5n3t3CjxDAm6XFwTNh/uh5KjnCNJFyFeOxnLmagrhGqyK8phVcBcu6KohJ4IL/XEOLGkgcsPjAfKroDyratnKZ6aF2KA9kbzgRiamP9PRy+8433TJkH3G43NdCeK6x52TbjxvCADuCGyF5nmail187vMLZ15lb2JKXlzqyui0xo4UbaCHDzqQohd2hunSxJjmL8gx1X5+tgwC0Mh3tzUQkyC0YTexUbHmZl32Zsj1q4oP7/WCrIlO3XnEbc3Tp+PkEuhWO/4pxPjnEgkeGdzGzHnQ1rpJvSZ8COZ5wfl9I5TcX3k6FTSesgWz6g7IXbxQpALTeadSyZ4cHyUy6MNbIrOTdAFVZC9olYqK1xWnprmLT8f4sLeycLFGM57yEGssAAryJWkrqyJTJTDrvjW2AhxlHc2507QBWXNPBc/7Ipa8I5dNh2YYOFQgufXNhU2ZRrmeMhBmqHnUgnLIh5PBrnJvO/UbUScip92xf7pKX41Ncktjc0sCef/3rPR8fypZHR89Z7i7Qp3hp61LCxWiFPw2q6Iq/I1J0H3lqaW4vbjoSB7QbVMBKmkdzxHkIsQ5Zd6Ynz/NcG1LCz+YoU4A15Fx9t0jBOJBLemJOiK3k8Ao+NqSeZVAleQt/5ssDgPWYRExCT0gijINjr2FyvEWSg1Oj6XSPLNwTGuaoxyVYYEXTFYu2J+VCo6dtl0YGJeloUryEFM6llB9gcrxHmYryB/9dwo06r8flcrXW3q+VTpkvZTh9FxpSPk+VRYuCVvj60v7YvcD4IuyCISFpEdIvJ95/YCEfmxiBxw/nalbHuHiBwUkf0i8qZKHG/VCbGI3OK8YAdF5MP5tg9Lko7YeMnPW4wY756Y5vGxSba2N7E8OjODzoveFTY6nj9BiI7n08diYGkTD9zUwQ9e2RbICDmg/DGwN+X2h4Gfqupa4KfObURkA3ArsBG4BfiCSIa+tD5TVULsvED/H/BmYANmxecNhTy2IzZesiDni44fH5ng9t5+/vr0ICFgSTjzy1vOvsd59+ORINtkXn5Wnprm5m3D8/KPESHeaCosvn9D8CyLICEiPcCvAf+SMrwV+Ipz/SvA21LG71XVSVU9DBwErivXsbpUlRBjXqCDqnpIVaeAezEvZMF4FR2nC/LjIxN86dwI/Unz4UoCXx4Y5fGRzLWRfnR2K2k/dWhXVBI3Qg7Fi/CPwXjIUWNZPNXjzf++BvkH4EOYj6HLElU9CeD8XeyMrwCOpWzX64yVlWoTYk9eNC+iY5htV3x9cIzJtM/TpJrxXFi7Ij+1GB2DiZB/4/H5l7ydWNvOAzd18FSPMNh3zt+DDRbdIrI95XK7e4eI/DpwWlWfLnBfmT44pc+qKpJqm1lX0Ivm/GNuB1i6vCfrzlwxHpxsmvcBuWLcn8gsptnG0wnKqtIwEx2XOjuvWhoJlbOJUCZSGwv9/Mpm+hdEC56lB3BibTsn1rYTmUyydkc/l4wHL7mXj2QiWcz/tU9VN2e571XAW0XkLUAj0C4iXwNOicgyVT0pIsuA0872vcDKlMf3ACeKP4PSqLaIuKAXTVXvUtXNqrq5s6s77069iI4XRTJ/cBZm8YkzYe2KwqjF6Njl1TvHWHh2umi7wvWQ925ZxGPrGxjsO1dvUTIAqnqHqvao6ipMEu4/VPV3gQeB25zNbgMecK4/CNwqIjERWQ2sBZ4s82FXnRA/BawVkdUi0oB5oR/0Ysel2hW/391ILE3/YgL/taN40bB2RX5q1a4AI8bzsivgfJXFo+9YxQubFtSlGGfhE8AbReQA8EbnNqq6G7gP2AP8CPiAqibKfXBVZU2oalxEPgg8DISBu50X0jPma1e8vt38HLy7b4IzcWVRRHhnewuvaZ2/+Fi7Ij/1YFc8u7aRl3pihdkVMMeyWH5giEuePUtHd1eeB9YWqvoo8KhzvR94fZbt7gTuLNuBZaCqhBhAVX8I/NDv5+mIjc9LjF1BnqG07m7lWFW6qP3UUWe3SnV1S8ft8vbsuiaS4QK7vIEV5Cqi2qyJsuJHdcV8sXZFfmrZrkitsCBRfMmbW2Xx6DtW1WOVReCpeSEOS4K2yEhJ+yjHZJBCsZNB8lOrtcdgBHnrY0MsPzAEyeL941RBfuSqJivIAaHmhdilLTJSM4JsqyvyU8vRMcC1vcrWRwdZ/8QZSM4vQh7vbODRd6zigRvbrSBXmLoRYpdSxRi8m51XKtauyE+tC/Il4w1sfXSIzpfH51Vh4V4e/a0L67bkLQjUnRBDbUXHYO2KQvBTkIPAa/dOceO3jtA0MFWcGMOMIDtYMS4/VVc14SWuGA/HW+e9Dy9n5wWlugK8KXez1RXlpaO7i5t3jPNC0yB7X9E9R2CLwRXjclVYxOOJir9+laQuI+J0rF2RYT8Bio7B2hXFcMl4Azd++6X5JfTSsHZFebBC7GDtigz7sHbFvAiCGHd0d3Ftr3Ljt1PsCivIgcUKcRq1JMheRse1vpCp1wQlOnbtiq0/G5yJjtMFuQiRtmLsD1aIsxAkuyJIglzyPgK6kGmt2xUAWx8b4sZvHZkR3pTLjd9+qeD92OjYe+o6WZePoHZcQGEAAAi+SURBVCTzwAhyKck88CahF7TeFWAEuRp6V0AwEnpbHx3yREgH+87Z6dIeUfMRcYgkLcnS3vy1ZFeA9Y8LoZb9YzCC7IWI2sjYG2peiF1akkNWkFMIkl0B1j+uFDaiDQZ1I8QupYoxBMs/LpVanp1n/eNCj6PLswjZMj/q0iN2xXg0NP8PQVD8Yy8mg0Bt9j4G6x8XiyvG5bYcEvFEXdscdRcRp2LtitkEsdzN+seVwUbI5aWuhdil1uyKIAmyFwTRroDa94/BCnK5sELsUEvRMVj/OBfVEh1bQa4f6tIjzoX1j+dSi/5xNa2dB8Hwj2F2lUU9e7peY4U4C1aQZ2O7uxVGvQgy2NI3L6mINSEify8i+0TkORH5roh0OuOrRGRcRJ51Ll9Kecw1IvK8iBwUkc+JzLO/X5HUmn9cKkHyj4Na7ga1vVxT0BGRu0XktIjsShv/QxHZLyK7ReSTKeN3OLqyX0TeVP4jrpxH/GPgMlW9AngBuCPlvhdVdZNzeV/K+BeB24G1zuWWQp4olIzTMnG2pIOtJf/Yzs7LjfWPa4J7SNMHEbkJ2ApcoaobgU854xuAW4GNzmO+ICLhsh4tFRJiVX1EVePOzSeAnlzbi8gyoF1Vt6mqAl8F3lbMc7ZMnLWCnELQqiuCJMjVVO5mBXkuqvo4kP5hfz/wCVWddLY57YxvBe5V1UlVPQwcBK4r28E6BKFq4veBh1JurxaRHSLymIjc4IytAHpTtul1xjIiIreLyHYR2d5/bmDWfaWKMVi7Ip0g2RVQX+VuYAW5QC4BbhCRXznacq0zvgI4lrJdTm3xC9+SdSLyE2Bphrv+SlUfcLb5KyAOfN257yRwgar2i8g1wPdEZCOQ6ROaNdujqncBdznPcWbhFTcU3uPPG7qBvjI/Z7mx51gbeHGOF5Z6ECPn9j386Le2dBe4eaOIbE+5fZfzmc9FBOgCtgDXAveJyBqK1Ba/8E2IVfUNue4XkduAXwde79gNOD8b3J8OT4vIi5hvsl5m2xc9wIkCj2NR8UdfGiKyXVU3l/t5y4k9x9ogKOeoqgXlfEqgF/iOozVPikgS8yXUC6xM2a5gbfGSSlVN3AL8BfBWVR1LGV/kGuXOt9Va4JCqngSGRWSLUy3xLuCBChy6xWKpTr4HvA5ARC4BGjC/BB4EbhWRmIisxmjOk+U+uErVEX8eiAE/dqrQnnAqJF4DfFxE4kACeJ+quqbu+zHZ0CaMp/xQ+k4tFotFRL4B3Ah0i0gv8BHgbuBup6RtCrjNiY53i8h9wB6MTfoBVU2U/Zi1hAUFLZkRkdsL8KyqGnuOtUE9nGM1YIXYYrFYKkwQytcsFoulrrFC7CEicoszTfKgiHy40sdTCiJyxJlS/qxbKiQiC0TkxyJywPnblbJ9xaeJ5iPT1Nf5nFOlptsXQpZz/KiIHE9pHfCWlPuq7hxrElW1Fw8uQBh4EViDycjuBDZU+rhKOJ8jQHfa2CeBDzvXPwz8nXN9g3O+MWC18zqEK30OGc7pNcDVwK5SzgmTVb8eU4P6EPDmSp9bnnP8KPDnGbatynOsxYuNiL3jOuCgqh5S1SngXsz0yVpiK/AV5/pXmJlmHohpovnQzFNfizonL6bb+0mWc8xGVZ5jLWKF2DsCMVXSQxR4RESeFpHbnbElamq6cf4udsar+dyLPaeiptsHiA+K6XZ4d4r9UmvnWLVYIfaOQEyV9JBXqerVwJuBD4jIa3JsW2vnDtnPqRrP9YvARcAmTBuBTzvjtXSOVY0VYu8IxFRJr1DVE87f08B3MVbDKednq9sRz+1gVc3nXuw5zXu6faVQ1VOqmlDVJPDPzNhGNXOO1Y4VYu94ClgrIqtFpAHT4/TBCh/TvBCRFhFpc68DNwO7MOdzm7PZbcxMMw/ENNF5UtQ5aRVOt3e/aBzejvlfQg2dY7Vjl0ryCFWNi8gHgYcxFRR3q+ruCh/WfFkCfNepWIoA/6aqPxKRpzBdq94DHAXeAaCqgZgmmo8sU18/QfHnFNjp9lnO8UYR2YSxF44A74XqPcdaxM6ss1gslgpjrQmLxWKpMFaILRaLpcJYIbZYLJYKY4XYYrFYKowVYovFYqkwVogtVYeIvFtEllf6OCwWr7BCbPEFEfGzRv3dQFFC7PPxWCwlYeuILRkRkVXAj4BfAVcBLwDvUtUxEflr4Dcwxf6/BN6rqioijzq3X4WZtfUC8D8xbUH7gf+qqqdE5KOYtovLMKt0/xlmmfM3A8eB31DVaRG5BvgM0IpZ6PHdzr7vcbYbx7Rq3JC+naqeTD8eVXV7LCAi1wH/4JzDOPB7qrrfo5fPYimOSvfhtJdgXoBVmJlYr3Ju343T0xZYkLLdv2KEE+BR4Asp93Ux82X/B8CnnesfBX4ORIErgTGcfreYvhZvc+77JbDIGf8dzGxF93k2O9fzbfeFLOfXDkSc628A7q/0a24v9XuxP9csuTimqr9wrn8N+CPgU8BNIvIhoBlYAOwG/t3Z7pspj+8Bvun0OmgADqfc95CaqPd5zJTwHznjz2O+BNYBlzGz0ncY0zksnXzbfTPDYwA6gK+IyFrMF040y3YWi+9YIbbkIt23UhFpBL6AiUiPOTZDY8o2oynX/wn4jKo+KCI3YiJhl0kAVU2KyLSqus+VxLwvBditqtfnOcZ8241mGf8b4Geq+nbHhnk0z/NYLL5hk3WWXFwgIq7AvRNjJ7ii2ycircBv5Xh8B8bLhZkOZ4WyH1jkPr+IREVko3PfMNBWwHa5SD22dxd5bBaLp1ghtuRiL3CbiDyHsSC+qKoDmJ62zwPfw7T/zMZHgW+JyH9ikmgFo2a5qd8C/k5EdgLPAq907r4H+JKIPIuxIrJtl4tPAv+viPzC2YfFUjFs1YQlI87P9e+r6mUVPhSLpeaxEbHFYrFUGBsRWywWS4WxEbHFYrFUGCvEFovFUmGsEFssFkuFsUJssVgsFcYKscVisVQYK8QWi8VSYf5/+2Wn9WMp5mYAAAAASUVORK5CYII=\n",
      "text/plain": [
       "<Figure size 432x288 with 2 Axes>"
      ]
     },
     "metadata": {
      "needs_background": "light"
     },
     "output_type": "display_data"
    }
   ],
   "source": [
    "# Plot the error surface\n",
    "fig = plt.figure()\n",
    "visualize_steps(fig, fig.gca(), log_a, log_b, x, y)"
   ]
  },
  {
   "cell_type": "markdown",
<<<<<<< HEAD
   "id": "38a03908",
=======
   "id": "ba4a241b",
>>>>>>> parent of 2b33ad3 (16-04-2021)
   "metadata": {},
   "source": [
    "As you can see, gradient descent is jumping from one side of the \"cost function valley\" to the other and converges slowly to the optimal solution in dark blue. Also, it seems that the algorithm is taking unnecessarily large steps in the direction of the \n",
    "b\n",
    " parameter.\n",
    "\n",
    "We know from the last units that gradient descent is following the opposite direction of the gradient. In our example, the algorithm is taking this suboptimal path because this direction is far from being the direction of the optimal value. **In other words, there seems to be a problem with the gradient.**\n",
    "\n",
    "### Issue with the gradient\n",
    "\n",
    "We can see in the plot from above that the error surface is elongated and has elliptical level curves. For this reason, the opposite direction of the gradient doesn't point toward the optimal solution. Here is an illustration of the issue.\n",
    "\n",
    "As you can see, the direction of the steepest descent (the red arrows) given by the gradient doesn't point toward the optimal value when the level curves are not circular. In this case, gradient descent is more likely to diverge.\n",
    "\n",
    "This is exactly what happened with the temperatures in degrees Celsius. The error surface is a \"steep valley\" with gradient values nearly perpendicular to the direction of the optimal solution. Hence, the algorithm simply \"jumps\" above the valley and gets further away from it after each step."
   ]
  },
  {
   "cell_type": "markdown",
<<<<<<< HEAD
   "id": "81038d06",
=======
   "id": "558afa92",
>>>>>>> parent of 2b33ad3 (16-04-2021)
   "metadata": {},
   "source": [
    "### Summary\n",
    "\n",
    "Let's summarize what we've learned in this unit. Here are a few takeaways.\n",
    "\n",
    "- The direction of the steepest descent isn't necessarily the direction of the optimal solution.\n",
    "- For this reason, gradient descent is sensitive to the scale of the features.\n",
    "In the next unit, we will see how to solve the issue with standardization."
   ]
  },
  {
   "cell_type": "markdown",
<<<<<<< HEAD
   "id": "c50c663c",
=======
   "id": "0c0b0537",
>>>>>>> parent of 2b33ad3 (16-04-2021)
   "metadata": {},
   "source": [
    "### Q & A : \n",
    "**Q :** Hi,\n",
    "I understand how and why gradient descent can go in zigzag and take longer to converge.\n",
    "But it is still not clear why it diverges. The objective function remains convex and gradient should, sooner or later, end up in the minimum or near it. Hence, I don't understand why gradient can actually diverge when the data is unscaled. Is it possible to have some visual illustration that would help with this?\n",
    "\n",
    "**A :** Hello! I agree with you, given that the function is convex, we should always be able to find the optimal solution by following the gradient. But the problem is that GD does not evaluate the gradient at all locations on its path, but just at given intervals between steps. **Even with a gradient that points toward the optimal solution, if the step size is too large and we go to far, we can overshoot and even arrive farther away than what we were from the optimal solution!**\n",
    "\n",
    "The best way to visualize it is by playing with the n_steps attribute: set the learning rate lr to a value that diverges and see how each step puts GD farther away from the optimal solution by successively setting n_steps=1, 2, 3, 4.\n",
    "\n",
    "\n",
    "\n",
    "**Q:** To avoid this issue, could reduce the learning rate be a solution ?\n",
    "\n",
    "**A :** Thanks for the question! As we saw, gradient descent is an iterative optimization algorithm for finding the minimum of a function. In our case, we use it to find the set of optimal parameters \n",
    "⃗\n",
    "w\n",
    " that minimize the loss function L(\n",
    "⃗\n",
    "w\n",
    "). At each step, gradient descent updates the parameters \n",
    "⃗\n",
    "w\n",
    " according to the following formula:\n",
    "\n",
    "⃗\n",
    "w\n",
    "←\n",
    "⃗\n",
    "w\n",
    "−\n",
    "η\n",
    "⃗\n",
    "∇\n",
    "L\n",
    "(\n",
    "⃗\n",
    "w\n",
    ")\n",
    "We see that two things determine how we reach the minimum of the loss function:\n",
    "\n",
    "- the size of the step, determined by the learning rate \n",
    "η\n",
    ",\n",
    "- the gradient \n",
    "⃗\n",
    "∇\n",
    "L\n",
    "(\n",
    "⃗\n",
    "w\n",
    ")\n",
    " which determines the descent direction.\n",
    "In this unit, we discuss the effect of the scale of the features on the shape of the loss function. When the features have the same scale, the loss function has the shape of a \"bowl\", with circular level curves. In this case, the gradient descent direction points to the minimum of the loss function. On the other hand, when features have very different scales, the loss function has the shape of an \"elongated bowl\", with elliptic level curves. In this case, the gradient descent direction is, first, almost orthogonal to the direction of the minimum of the loss function and may end with a long march down an almost flat valley. Therefore, in this case, gradient descent will require more steps to reach the optimum solution (or might not even be able to converge).\n",
    "\n",
    "Regarding your question, the learning rate plays an important role in determining the size of the step in gradient descent and should be chosen accordingly. However, in the example from this unit, the issue is with the descent direction and not with the size of the step. Hence, to fix this issue here we need to apply feature scaling to \"reshape\" the loss function into a \"bowl\" where gradient descent goes straight toward the minimum of the loss function. "
   ]
  },
  {
   "cell_type": "markdown",
<<<<<<< HEAD
   "id": "213ae1d0",
=======
   "id": "7ed153f4",
>>>>>>> parent of 2b33ad3 (16-04-2021)
   "metadata": {},
   "source": [
    "# Standardization\n",
    "\n",
    "In the unit about outliers, we saw that we can remove outliers by computing the standard scores or z-scores.\n",
    "\n",
    "z=(x−μ)/σ\n",
    "\n",
    "This process is called standardization. We standardize the values \n",
    "x\n",
    " of a feature by subtracting its mean \n",
    "μ\n",
    " (mu) and by dividing the result by its standard deviation \n",
    "σ\n",
    " (sigma).\n",
    " \n",
    "**In other words, each standardized feature has a mean of zero and a standard deviation of one. This might be helpful to remember the formula.**\n",
    "\n",
    "Say that you implemented a scale(X) function to standardize a matrix of features X. Now, you want to test it on one of your data sets. How can you verify that your implementation is correct? **By checking that numpy.mean(scale(X), axis=0) and numpy.std(scale(X), axis=0) return an array of 0s and an array of 1s respectively**\n",
    "\n",
    "### Standardize temperatures\n",
    "Scikit-learn implements a scale() function in its preprocessing module to apply standardization. Let's try it with the temperature variable x from the previous unit.\n"
   ]
  },
  {
   "cell_type": "code",
   "execution_count": 33,
<<<<<<< HEAD
   "id": "9fd73463",
=======
   "id": "7307ffef",
>>>>>>> parent of 2b33ad3 (16-04-2021)
   "metadata": {},
   "outputs": [
    {
     "name": "stdout",
     "output_type": "stream",
     "text": [
      "Mean: -7.058371547285764e-17\n",
      "Standard deviation: 1.0\n"
     ]
    }
   ],
   "source": [
    "from sklearn.preprocessing import scale\n",
    "\n",
    "# Standardize x\n",
    "x_standardized = scale(x)\n",
    "\n",
    "print('Mean:', x_standardized.mean())\n",
    "\n",
    "print('Standard deviation:', x_standardized.std())\n"
   ]
  },
  {
   "cell_type": "markdown",
<<<<<<< HEAD
   "id": "0bcd9cf7",
=======
   "id": "22c7e0af",
>>>>>>> parent of 2b33ad3 (16-04-2021)
   "metadata": {},
   "source": [
    "*We can see that the mean is very close to zero, i.e., it's a seven preceded by 16 zeros. It's not exactly zero because computers store floating point numbers using a limited amount of memory. For this reason, small rounding errors can occur. You can take a look at this website which explains the problem in more details*\n",
    "\n",
    "Let's rerun the gradient descent algorithm with this x_standardized variable. Here is the code from the previous unit.\n",
    "\n"
   ]
  },
  {
   "cell_type": "code",
   "execution_count": 34,
<<<<<<< HEAD
   "id": "05abb8c0",
=======
   "id": "3f4d69e1",
>>>>>>> parent of 2b33ad3 (16-04-2021)
   "metadata": {},
   "outputs": [],
   "source": [
    "# Initialization\n",
    "lr = 0.7\n",
    "a, b = 0, 0\n",
    "n_steps = 400\n",
    "\n",
    "# Gradient descent\n",
    "log_a = [a]\n",
    "log_b = [b]\n",
    "\n",
    "for step in range(n_steps):\n",
    "    # Compute partial derivatives\n",
    "    y_pred = a*x_standardized + b\n",
    "    error = y - y_pred\n",
    "    a_grad = -2*np.mean(x_standardized*error)\n",
    "    b_grad = -2*np.mean(error)\n",
    "\n",
    "    # Update parameters\n",
    "    a -= lr*a_grad\n",
    "    b -= lr*b_grad\n",
    "\n",
    "    # Log a, b values\n",
    "    log_a.append(a)\n",
    "    log_b.append(b)"
   ]
  },
  {
   "cell_type": "code",
   "execution_count": 35,
<<<<<<< HEAD
   "id": "42151290",
=======
   "id": "0828e81a",
>>>>>>> parent of 2b33ad3 (16-04-2021)
   "metadata": {},
   "outputs": [
    {
     "data": {
      "image/png": "iVBORw0KGgoAAAANSUhEUgAAAWAAAAEKCAYAAAAsDo9wAAAABHNCSVQICAgIfAhkiAAAAAlwSFlzAAALEgAACxIB0t1+/AAAADl0RVh0U29mdHdhcmUAbWF0cGxvdGxpYiB2ZXJzaW9uIDMuMC4zLCBodHRwOi8vbWF0cGxvdGxpYi5vcmcvnQurowAAIABJREFUeJztnXuYXWV56H/v3CfJZCaTC0kICNGIROSaIpeKCF4QUazVii0VrB7sOdZrrUJvSHvaQ1vlqdqq5eAlVkQooqJWkKqIUuAYIZLEACEEQmIgySQzmUzmPu/5Y62drEz23rMu31rrW2t/v+fZz+y99tprfXvP3r/97ve7vKKqOBwOhyN7mvJugMPhcDQqTsAOh8ORE07ADofDkRNOwA6Hw5ETTsAOh8ORE07ADofDkRNOwA6Hw5ETTsAOh8ORE07ADofDkRMteTcgLbrnLdDFS4+tu8/kVPLvn4mpxIcId56JbM4Th5aM3kUtBsKF5qZ4/7DYj2My2v4a7R/dNBl+f4mwLwAz7P/wU9t2q+rCaAc9nDM7u3RgKtxr9MTY8N2qelGS89lGaQW8eOmx/Nut99e8f8+B9sTn2DOY/g+Ivr0ZGd4A8+el/3r0diV/PXpnjcZ6XHf7UPTHNA1EfkzXaF/ofTuGdkc6dmv/zvA7761/7M63/9kzkU5ehYGpST6/5EWh9r3wmXULkp7PNhoyBWG7fPv2Th28FIks2m3idY/7/x8YnR39MVPdsc4VlpHZpXNSQ9FwAk4q3z2DTanIt6jSrUWaz6XsEh5snx9p/ygSHu9ZFP7A85zc06a0KYhqmJCvacoi3FoEn5/JFEXlf5EkJbHnQHusdMTA6OxY6QiHYzoNEwHbJt8yRbthSeM5J/2/mEhHhcFFwY5qNISAk3zITKccGlG80zH9GuQhYRtTEY7ikZqAReRLIrJTRNYHtvWKyD0issn/Oy9w3zUi8qSIPC4irwtsP0NE1vn3fUZEJEo7ksrXFE68R2LyNSmKhNPERcHFI80I+CvA9DF7VwM/UtUVwI/824jISuAy4KX+Yz4nIs3+Yz4PXAWs8C+hxwHaIF8n3pkxKeEshgYGiSphFwWnR42g720iskFEpkRk1bT9Uwn6opDau1VV7wP2TNt8KbDav74aeHNg+zdUdVRVtwBPAmeKyBJgrqo+oF7tpK8GHlOXJJMsTMrXJvbsGT3iYgs2RMO25oOj0OBR8Fc4MkBbD7wFuC+4Ma2gLypZj4I4SlV3AKjqDhGpvAOOBh4M7LfN3zbuX5++PTVMyDcP8caVaZjH9fZmIyY49NolHTGxZ7Ap1giJOCMj0h4VMdg+P9LkjEZFVe8TkeOmbdsIUCWIPRj0AVtEpBL0PY0f9PmPqwR9P0ijzbZ0wlUL8bXO9uoHEblKRNaIyJqB/l2RG1Ek+WYZyeYRNZt4HbOMhG1KRaQWBZeLo4FnA7crwd3RZBj0ZR0BPy8iS/zodwlQmRe5DTgmsN8y4Df+9mVVtldFVW8EbgR40YmrIpV7TirfLMRrS8og2I40o+O+vVOljoQHprpjTVXOjXkLZpyeHJWWjmbmv6Qn3M7PsEBE1gS23Oh/5uNgJOhLStYR8J3AFf71K4DvBLZfJiLtInI8Xt7l//npikEROctPhL8z8Bhj2CxfG/O1QdJun4ncsO054bC4KJjdqroqcIkrXzAU9CUlzWFotwAPACeIyDYReTdwPfAaEdkEvMa/japuAG4Dfg3cBbxPVStLJP1P4Ca8jrnNGM7F2Chf26Vbi7RFnISsRkeknYrInWJ0xoUh16CvQmopCFV9R427Lqyx/98Bf1dl+xrgJINNO4ht8i2acCv8um2M+zrH2NekzJ0Szts/xsqxNuPpiaQpiTjpiLjTldMiSofcyOwFkVdLKzJ+0Hc+sEBEtgHX4o3E+iywEPi+iKxV1dep6gYRqQR9ExwZ9H0F6MQL+FLpgIMGWwsiSBL5OvEe4tdtY9w1e5QJP3O2r1m5a7b3fFYGBiGakrGJvHBUokq4iLng8Z5F0ZaqtJA6Qd+3auyfedA3HVtGQWSKLfItYpphOvd1jh2Ub4UJ8bYHMfk8k/wPbE1FRCGtXHBoypOGyJ2GFHBcTMu3DOxrqt5BXG27yS+crCWcdoecDbngAnXGlYaGE3DcCMjYLK0SRL1B5k5Vn6VZazuYew1sl7AtUXAquCjYCA0lYBvkWzbOHm49YluLwnnDbTM+togSTpO0omBXNcNe7HoHpkie8i1b1BtkU5vXcdw2BSjMnRQuGmpn5djMAob8JRwVm6LgNHBpiGxp2FEQYTAl3yzp22VuTYL5C2eWx1O+gD/QP4emqpOIZqbyGiUZKRF3dIRtQ9OijIhwQ9KKT0MIOK+fmlnI16RwZzr2dCFvaBsHoGtSYss3yJ49o4WRcBRcCSNHLUov4LxSD2nKN03phj3v/IWz+f6cEQAuG5xl7Bx5STgqRYyCw5LlmODmtma6l82beceS0jA54Cgk6thJKd/bt2vo4MUGtu7df/D6vARrL1cj6esX5/+X9q8kG3LBrjPOPkot4DgfqqTyNY1N0g1y1zJvnO85z0kq7cuj0zLq+yXNscE2jAt2pE9pBTwRw6M2yddW8QIoSr/vnhMHvNxvGu1N8praVo0E0ouC0xgT7EZDZENpBZwlRqfZWizeCmv9z/viA0feZ7r9WUvYpig4DVwawi6cgH3iRkym5VsEHl7gpR8u3F575INJEdsu4ShEiYKjpCFynxnniIUTMPn/XC1C1Fuhr/3QGg8ddaYbH9zfAgmnTdGi4LC4NET6OAEnwMgsroKIt8J3j/UE/Npt4cf9mvqCift6N0oUHJaypiFqlKXvFZF7RGST/3de4L7ylqUvCnmmHoom30lRJv13zDFD0d+TRZNwFGyIgl0aompZ+quBH6nqCuBH/m1rytI3tICdfKNx/1Fe9LsiwdrheUo48nksW6wnD4qUhlDV+/AqYAS5FFjtX1+NV2K+sv0bqjqqqlvwSp6d6RcLnquqD6iqAl8NPMY47h0WkcSTBAqU753OJv/X8LnPJ/tFlttMPouiYJeGyIyj/Dpv+H8r3ygNWZbeGvLoeMtLPP0799W9v2fR3BmP8exsL/ptnoJmTZ4S69s1FGqxn1oknbIc+jwprxPR6DS1tjBnaegvg9KVpW9YAcch0XCojOQ7k2zDPma6lH/oz3x741Zz/RF5SDiPmnJZksbaEBaxW1VXRXzM8yKyRFV3+OmFyiIX5S5LbzOxesUtHgbVv3PfwUsaxxwJlBeaP2q2Q7io6ZhaFCkNEZYi5YGrcCdwhX/9Cg6VmLeiLH1DCjhr0pKMaenW4u5FEwCsfDqdL6Ekr0+cL8aoX8Bl7YwrWx7YL0v/AHCCiGwTkXcD1wOvEZFNwGv826jqBqBSlv4ujixLfxNex9xmXFl6c2Qd/aYh3yykG2R3tzc65yXPjtOPtwZwmLxxFJKkI7LKB4clylKVaawVXPI0RE3qlKW/sMb+riy97dgk36wi3iCbl3jf0V0Hpg7rnUijLVmmI1wU7LCBhnpXZTnyIQ355sHaF3UA8Nvrhqven1e7pmNzjt4UbonK8tFQAo6KDR/qPKLeCvs7DsW8s8Zqj8Qx2T6bo+Ao2DAzziQF74izloYRcBGj37yjy/tO7gTgtx4bmXFfk18UcV+/tL8w00pDpLFOcNhpyWXriCsaDSPgqMRec6Ak8lVguN17exy7ayL04/Jud1TyXgnP0djkImAR+bCIbBCR9SJyi4h0xFm1yDbKIl+Adce3AbC4L7x8K5hov61RcBTSSEO4PHC5yFzAInI08AFglaqeBDTjrUoUZ9WiUETu8c7xQ2yDfAE2LfMEfObjM6cfqpGnhNPEjYZwmCSvccAtQKeIjAOz8Kb6XQOc79+/GrgX+DiBVYuALSLyJHAm3oBrazAhC1vk29d1SDKtk3V2nIH+nfuMjxcOQ9RxwTZMT05jPLBp0ihX39TSQsdRjbuMZubvOlXdDnwS2ArsAAZU9YdEX7WoVNgiX4B7T50FwHmPVin6ljE2RsFFwXXE2U8eKYh5eFHt8cBSYLaIXF7vIVW2VR0TJSJXicgaEVkz2L8LyCb9kFQSNsl3IvCOWDiQvIPKpudmCpeGcJgij3fSq4EtqrpLVceBO4Bz8FctAgi5atERqOqNqrpKVVd19SxM7QmUmV+c4E28eOH2MWPHTCrhOF9wUb9I0xoN4TriHPXIQ8BbgbNEZJa/2tCFwEYirlqUcZtrUqboF+A3C7xugZOfMidgsO95Ohw2kHknnKo+JCK3Aw8DE8AjwI3AHOA2fwWjrcDb/P03iEhl1aIJDl+1qC62j36wTUrbfPm2j01ZN0A86drBRaAIHXEOs+QyCkJVrwWunbZ5lIirFjnM8tCJXvrhlY9WX/chKVmPikhzlTRXKcNhAtsCnUKRJP2QdfS79/ndVS8VhlsP9XV2DadWgcVqGnlWXBlGQojIB/3JXRtE5EP+NqsneDkB+9g0g8oU1URba5/7XtIKwMmb030dknzxFHVIWp4L85guVW/rojwichLwP/DmCJwCXCIiK0hxgpcJSivgiegzaDMj7eh3JulOR4H9Pd7Mt/mP7Ij0WNsp4xcruJEQVTgReFBVD6jqBPBT4HeIWJY+4zaXV8BpY2M0FlW8Fbae4OVl5/aNHhx0naaEbet8dJSC9cB5IjJfRGYBF+MNX7V6glfDlSTKGxvls/llvQCcfP/zh23f+/xu5h1V/NxgkWi0kRDS2krLwtBpjZpl6VV1o4j8A3APsB/4Fd6oqZqnrrIt884PFwFTjp+pcSLW546Zzc8uPlSBe89RnUaOG4a4X0Rp//KI0hHnZsRlzu7KRCv/cmPwTlX9oqqerqrnAXuATRiY4JUm7h1UAuLK97Ez5jM+69CPoMfOmM9zxxw51rZMOWFHeRGRRf7fY4G3ALdg+QQvl4KIQdwoLI30Q1w5bj5pHlMth3//TrU0sfmkeSx+9sjn59IRjgLwTRGZD4zjTdjaKyLXY3iCl0mcgAtMksh0dFb1ETe1thcZG8rWRylV74iHqr6iyrY+LJ7g5VIQDUr7gepf9rW2g/lUhI0dkg5HljgBF5SkMjxq6/4jtjVNTPHC9XsTHTcLbBwC6HDEwQm4Qdl6Yg8ArcMToEr70AQv+WVf1fxvENch53CYw+WAG4znjpnNkycdnA7Pikf3zihdh8ORDk7AGWEy3xk3Cv3xW44FEe/i89gZ3loBTsIOR/a4FESDUE2+cGjomcPhyB4n4EahinwrlHHomcNRBBo+BVGGachJqTf0zOFIleYWmNe4E3xcBNzoqBZi6JnDUUacgBuAaus7HETVdcA5HDnR8ALOe4pqFmw+aV71/K8qK3/Rl32DHA4H4AScGSaLUUZdFKdeJ5uLfh2O/HACbgDirPtQC7cimsNhDifgBuDYxwdAD1/svyjrPjgcZcYJuKBEiUQn2r1/c9uBaOs+2Mr8hXU6FR0Ni4h82C9Jv15EbhGRDtvL0jf8OOAiM++oBTNOS54S2L68i97nhzn15zvr7hvmfCYxmRd3NDYicjTwAWClqg77i61fBqzEK0t/vYhcjVeW/uPTytIvBf5LRF6c9aLsoSJgEVksIm8SkTeKyOK0G2U7cSOwPISze+ksxjpbWLZ5MNFxipz7tWGki1uMPRNagE4RaQFm4dV4K3ZZehF5D16tpLcAbwUeFJE/SrthjnDMJMbtL+yifWiC+TuGM2qRw5EaC0RkTeByVeUOVd0OfBKv7NAOYEBVf0gJytL/GXCaX9oDv+bSfwNfSrNhWdLb217oKcm1UhFDXa3sXdTJ8nV7q9bgjnJ807j0gwNAm1sY7wldln63qq6qdoef270UOB7oB/5DRC6vc6zClKXfBgR/vw5y+DeHIwJpiaeaJLcv70KmlKVPx08/2JZ6SLsDbv688P3SvV3hS9iHpbu9mB2jFvBqYIuq7lLVceAO4ByKWpZeRD4iIh8BtgMPicgnRORa4EG8fElsRKRHRG4XkcdEZKOInG17b2URCMpysll47gVzWLRtiLbR6KKYd9QC6+TrcNRhK3CWiMwSEcErxLmRApel7/L/bvYvFb5TZd+ofBq4S1XfKiJteAnzP8dgb2VLyuM75i+cbWVtsoo0N3SOMNHWxNExOt/SFm+W6QcbOuDSoLtpIO8mWIWqPiQitwMP45WZfwS4EZhDEcvSq+p1aZxQROYC5wFX+ucZA8ZE5FLgfH+31cC9wMcJ9FYCW0Sk0lv5gMl2ZZkH7lk0N9WKwArseMk85g5N0t0X7jkVIdp1438d9VDVa4Frp20exeKy9HmMA14O7AK+LCKnAL8EPsi03koRCfZWPhh4fM3eSr9X9CqA3kXHptP6AEmi4DQlvKeriYE5zZy2aYRey8TaiJ1veQ5B6xoNt9hSx1C4Mlet/cnGkjsOJ4+ZcC3A6cDnVfU0YAgv3VCL0L2Vqnqjqq5S1VVdPQuTt7SgPLWklZYJ5ZhdE3k3pVDk3QHnaDzqvuNEpFlEPmz4nNuAbar6kH/7djwhG++tjPKBygPT0eDWhS18/7dmsXVRi5eG6LVromOS5xsn/VDW/K+jPNQ1lJ+UvtTkCVX1OeBZETnB33QhXiI8997KOB9YW/KSWxe28PCKdkY6mkCEyRbh4RXtbF1oh4QbMfUQFTcErfEI8+m8X0T+BbgVL10AgKo+nOC87wdu9kdAPAW8C+/LwNreyrQwlQtef1wbk82HZ2smm4X1x7VxbMFTEVl8ydn+a8lRTsII+Bz/798EtilwQdyTqupaoNqMFmt7K+uRdEiaCQkPt1ef61Zre5bkEf2mmX6Ikv9NowPODUErDzMKWFVflUVD0mL+vCb69kb4wBR0WnLnqDLccaRsO0czn115GEnla0uKp4iEHQGRJ1PNLYzMtmukTpaEWYznKBH5ooj8wL+90k8TOAIkFUVSUa3YPn7EouvNk8pJT48lOm4S8sr7us63aLghaPkRJvH1FeBuvFloAE8AH0qrQTaQ1wc4ibBGW73ot31kClTpHJni9E2jueV/Tcg3q+jXhvyv64BrTMLkgBeo6m0icg2Aqk6ISKE6waKmIWKfx8D05Dj54EmBpxe3sKRvknM2jiQ6vwnKPOIh7/yvo1yE+eof8pegVAAROQsofS9Anj9jowps+4IWRtuaeOGO8ZRaFB5T8o0b/Ub9v9kQ/UbBdcCVizDvvo/gjcV9oYjcD3wVr/RHocjqg2bqZ3PPormhZfbUklZmD0+xqD/fHyZ5y9dxiCJ0wBUdEbkgcP34afe9JcwxwlhpA/BKvOFo78Vbleyx8M0sLnGjYJMCmUlqA7Oa6OtuZvmO8USLrifFhrRD2r9a0ko/5Jn/DdsB56jKJwPXvzntvr8Mc4AwAn5AVSdUdYOqrvcXOza6ElkZyUrCm5e20jSpHPd8PumHKJF6GLJKPUDx0g954kZAVEVqXK92uyr1FmRfLCJn4BW5O01ETvcv5+Ot31s44nzgbBnSVE10482wdVELx+yaoC2HwQ6mo16XeqiPy//WR0ROEJG1gcs+EflQisUetMb1arerUm8UxOvw1uxdBtwQ2L4Pb/F0xwyksWh7RXr9O/exdVErk83C8ow739JINySRbxbRb5HSD42a/1XVx4FTwVtIDK+az7fwVltMozT9chG5Ey/arVzHv3187Ycdot6C7KuB1SLyu6o6Pb9RWOIMSUsyOy6tyhndi7p4+hhl3uAkvfuzWRrRhjyvwxwlz/9eCGxW1WdSLPYQXKjsk9Pum367KmEX4/kisFRVX+9/a5ytql8M2chSYJuEn+uE/nZ4xZ6Ww6Ji02Qh3TJFv2mRZ/rBovzvAhFZE7h9o6reWGPfy4Bb/OuJiz1UQ1V/GrwtIq3AScB2VQ31ooUR8Jf9y1/4t5/AWxmtsALOamLGYec0LOGNPUrbJCwPlHybLss4Qs46ys1avmmTd/qhaExKC4Pt88PuXrMsfRB/lcU3AdfMtGuVbaEXTxGRLwCf9Vds7MaLnCeBXhH5qKreUv8IDTITzhRJF+oxJeEDzcrTXbByL7Ro7c5W21MGeXS6FTH6jUKj5n+n8XrgYVV93r/9vIgs8aNfk6XpX6Gqf+xffxfwhKq+WUQWAz/gUARek4adCRd3CFLSqMuEdB7vBhU4sT//pSbjkvR1KHr0G4U00g8lz/++g8Pll1axh+BKV68Bvg0Hi06EIkwEPH0m3ELgrREaaS15pCIgWSQ8hfJ4j7J0CLrHiydgE19AsSfIWBT9FiX9YFH+NxQiMgtPhu8NbL6edIo99IvIJXijLc4F3u23oQXoDHOAMOsBPywirwROwMuZPO5PxmhYTKwZHFfCz86BoVY4a6eTb6RzN8CkC5d+AFU9AMyftq2PdIo9vBf4DLAY+FAg8r0Q+H6YA8woYH883cXAcf7+rxURVPWGug8sCHGjYFMSBiKJeGOPMnscjt2f6NSZU7RJFlGj37Q639zkC3tR1SeAi6psvxtvCd8ZCZOC+C4wAqwDitUjEZI8JQzho+GBVmX7bDh9t9CU68oP0TAlXxf9mqHk+d/MEJHP1LtfVWdctCyMgJep6smhW9VgmJQw1I+GH+tRROGE/sSnywSTUW+W8k0z+k2LNNIPRcv/5sAfA+uB2/BGT0SOisII+Aci8lpV/WHUgxeJJB1yJuvI1YqGJ0R5ohuOG4RZk3ZHv6bTDTaOeIiLSz+UiiV4HXpvx+vEuxX4pqruDXuAMOHBg8C3RGTYX9xiUETMT7kyTEuMX51JfqqalMT8hbOPkNhTXTDWbPfQs2rtTkqS17VRot8ouPSDOVS1T1W/4BcuvhLoATaIyB+GPUaYCPhTwNnAOlXNt8RuBtgSCcPhaYmNPUrPKCweNnZ4Y6TVwWa7fKOSVvTr0g/5IiKn4409fg3eBIxfhn1sGAFvAtYXUb69XVPsGcy2AyaNsvZjizvY3XmAVw+1I9gzAjDNkQ1ZyzcORYt+bWSSZgamuvNuRixE5DrgEmAj8A3gGlWNtDBsGAHvAO71y9IffMcVZRhaHAknnaBhWsJrO8ZoVXjpWCvtC9uAaEPXTJLFcLI8cr42Rb9RiBL9uvSDcf4KeAo4xb/8vYiA1xmnYQYvhBHwFv/S5l8aAlskPCzKxrYJXjraSntg3YfpIkxTyFmN4TUh3qxSD2lGv3l3vrn0Q2hCrflbjzAz4a5LepK8iZuKMCFhIJGI17eNMyFw2mhr3f2qSTKOlPOaMJGXfOMQVb42TDt20a95VPWZatv9yWuXAVXvDxJmJtxC4GN4q8Z3BE5+Qc0HWUheEob40bCirO0Y4+jxJhZNNkd+fFFmn+UpX9tWO8u7880RHhGZC7wPbw3hO4F7gD8BPgqsBW6e6Rhh3rU341VBPh64Dnga+EWsFgcQkWYReUREvuffTqtuU2JMRFZxJPNMyyR7m5VTR8uZ+entbS+cfIsY/UbBpR8i8e94a+SsA94D/BBvobJLVfXSeg+sEOadO9+vfjGuqj9V1T8CzorZ4CAfxOs9rFCp27QC+JF/m2l1my4CPueH+JFJEu2YknAU4TzSMU7nlHDCWJhUfbEw1dFms3yjklb0m0r6Ya9LaQDLVfVKVf03vGFoq4BLVHVt2AOEefdWxj3tEJE3iMhpeAsXx0ZElgFvAG4KbL4Ur14T/t83B7Z/Q1VHVXULUKnbFIu8JQzh5LOvaYonWyc4ebSVlgKt+zATpqJesH+NBxf9lp6DY0L9ZSy3qOpgnf2PIMw7+H/75Tb+FC+3cRPw4SgnqcI/4+WVgzY8rG4TEKzb9Gxgv0h1m6phi4TriehX7eMocOoMnW9FwaR4IeGsRQtTD4WKfi1GRHpE5HYReUxENorI2SmmN0/xZwfvE5FB4OSos4Xrvov9n/orVHVAVder6qtU9QxVvbPe42Y45iXATlUNO1skdN0mEblKRNaIyJqB/l11D2qDhKG6mCZRHm0fZ/l4M91Tdkd5YTA9rtd2+ZYeu9MPnwbuUtWX4I3N3UhK6U1VbVbVuf6lS1VbAtdD1QOr+072w+o3hW1QSM4F3iQiT+PNHrlARL6GX7cJIG7dJlW9UVVXqeqq7p6FMzbEFgnD4SLe1DbBUJNyWoE73yrPx3TUm7V841DE6LcM6Qd/VMJ5+AWDVXVMVfvJKL0ZhzDv5v8WkX8RkVeIyOmVS9wTquo1qrpMVY/D+/b5sapeTnp1m1IjjRxkb2876+ZM0D0pHD8eq68xV0xLt0LS1zqufG1KPVhBvtHvgsovXP9y1bT7lwO7gC/7I6xuEpHZZJjejEqY7vVz/L9/E9imgOlxwGnVbapL0vUiKmIwVVvueSbYwgSvb57Fgl5v2LXptSXSIM3pw0WRb9qkNe43z+h3cqqJgdHQ49VnKkvfApwOvF9VHxKRT+OnG2qQqCy9CcLMhHtVWidX1XuBe/3radVtmhETi/aYKvD5ICO0AKsOzXk5TG42yTiLNRuKJF+bot9G63zz2QZsU9WH/Nu34wk4rbL0iQk1wFRE3sCRM+H+pvYjiocNEh5FeZhRXkY7s2tkh6ZLL0shZ7lIjpFx15bNckuCFbPe7O58Q1WfE5FnReQEVX0cL6D7tX+5Au9X9vT05tdF5AZgKTmkN8NMRf4CMAt4Fd4QtLdiSQ7WNKYkDPFSEmsZYRTlrED0OxPVpJhUynlXoMhbvo0U/Zah820a7wduFpE2vJXK3oXX15V5ejMMoXLAqnqyiDyqqteJyKeAO9JuWFKam2L+9PQ/uFlHw4ryACMsoZljw/0wqUneAo2LsTHWJZOvi37D489Cq5YnziW9ORNh3vGVGgwHRGQp3uyPxMuwZUGSThQTP1+jDJt6hgmeY5Kz6URKNPMtDEmHlwWxXb5p0+DRb+EI867/noj0AP8EPIy3GM8taTbKJHlLGMIJ5kFGaEc4lWJGr3ExOqklY/nGIc3ot0E73gpNmFEQf+tf/aa/clmHqhZs8GJ8TJY1qpUf3s8U6xjl5XTQ1iDRr/GJLDnIt8iph0jRb0HSD0UkTCdcB/C/gN/GGyP3cxH5vKqOpN04U/TOGmXPgfiRpenactNFvIYRJiFS51tRsUm8kJ1808Zsov1/AAAWYElEQVRFv8UkTG/PV4FB4LP+7XfgrYP5trQalQYmJAzJO+eCzJ/XxJQqD/aPsJxWFiXsfLOZVGYNFki+Lvp1VCPMJ/4EVT0lcPsnIvKrtBqUJkklDOaj4XXjY/QzxWWz54BdQVVi0lwusszyjYqLfotLGAE/IiJnqeqDACLycuD+dJuVHpUPni0piZ+ODtMtTZzS2k7LvEP5X1NTm/PAZvGC/WmHRop+J6eaEgdFRSaMgF8OvFNEtvq3jwU2isg6QpZethEbUhK7JidZPzHGGzpm0SKHd74FJWa7jDMrhpmjfOOSdurBRb/FJoyAL0q9FTmRd0rip6PDCPCK9s66+00XnA1CzrIahanhgEnkW4bUg23RryPcMLQZSysXGVMShmjR8Lgq948Nc2prO71N0ZadrCa/NKWcZ+mfRpKvNakHR2aUt9s9AiYkDNFEvGZshP2qnD9D9BsW2+ujRcUG8YK98k019eCi38wo16c2ASZzg71dUzMK5N7RYRY3NfOSlnLUfDNFmNcu9LFykG8c0l7rwUW/9uIEHKB31qhxEVdj68Q4T01O8Mr2TkQaY+bbTJgUL+Qn3ywqXLjotzw4AVchjWg4KJd7R4dpA85uK//Mt5kwLV4olnzTTj00WsebiDwtIutEZK2IrPG3pVUVOTGlFXDc5SgrpDFcqbdrivbZEzw0NsKZbR3Mbirtyz8jaYm3zPKNSpqph4ldVqc1XqWqpwbKF6VSFdkEpTZA0hye6ZQEwL1Do4wBl/Y2XvRb7deAsWMb+D/ZLl+XeoiNtVWRSz8Kort9KErRv6qYGiWhqtw9OMKKthaWt7VA2yERmZzebBtplgbKU7yQXVXjVFMPEbE8+lXghyKiwL+p6o1Mq4osIsGqyA8GHmtlVeTCY0rCkGwK8/rRcbZPTPInvXOOPH5XuWScRT22osrXqrwvRIp+c5bvgkpe1+dGX7BBzlXV3/iSvUdEHqtzPPurIpcFExKGZNHw3YMjzGkSzplV//FFlHGWBTBNpYWKIN+yMzEV6T0+U1l6VPU3/t+dIvItvJSCtVWRi/HpNkR3+5CRsZ1xcsN7JiZ5aHiMC2Z30N4UfuhZMG+aVv40Dnm0yWROvijyddFveERktoh0Va4DrwXW41U/vsLfbXpV5MtEpF1EjsfGqshlxGQ0DOHSEv81NMoU8Lo5yTvfqgkvrUjZGuEb7Ax18vUpX8fbUcC3/LH1LcDXVfUuEfkFBa6KXEpMSRhmFvGEKvfsH+G0jlYWt6YzysUWUZrGFvGC3fJNG9ujXwBVfQo4pcr2PgpcFbm0mEpJVKj1E3nN8Bh7JqeMRL+NgukhgEWSbxxc9FtMGjYCDmIyGoYjI+K7BkdY0NzE6Z1txs5RVkyPuzbxBZu1fG1LPRQh+i0qTsA+lQ+qaRFvHZ1k3eg4v989i2a37kNV0lokvRHkmzZOvunS0CmIapheAevO/nFagN9dKJlXY7CdNGYaVmgU+brUQ7HJXMAicoyI/ERENorIBhH5oL/dmgUzTOWGh6eUuwbGOW9uC70t3ktdkU6jyjjt52/if9fdNODki4t+syCPCHgC+FNVPRE4C3ifvyiGdQtmJP0g/3jfOENT8Oae6mv+NoqIs/jSMfWlmWRqsdXyjYiTbzZkngP252RX5mUPishGvPnXlwLn+7utBu4FPk5gwQxgi4hUFsx4oN55mpmku2mAganuRO2NmxtWVb6zd5zj25s4qbP+98V0MZWhSmyWXyym0kallq9LPVhJrp1wInIccBrwECktmGFCwhBdxBtHptg0OsWHjmqPvOh6EYWcRyRvMl9fFPnGwuLUw8SEHUVm8yI3AYvIHOCbwIdUdV8dSYVeMENErgKuAli6dOnB7aYkDOFF/J29Y3Q2wWvmJi85VE1ueUo577SJLeKF7Nd2cHnfcpGLgEWkFU++N6vqHf7mxAtm+Csj3Qjwspe97DBJVz5oWYh4YFL5yeAEF3e3Mqs5naFnM0kwiaDzFmwtTI9QyVO+NuZ9HdmTuYDFC3W/CGxU1RsCd1UWzLieIxfM+LqI3AAsJeGCGSajYagu4rv6xxlXuHRefgU3bZVoHGwTLxREvi76tZ48IuBzgT8E1onIWn/bn+OJN5MFM0xHw3BIEntHZnFn/xgndzZzfHum1U1KRxpViZ18qxNVviPPu2U1TZDHKIifUz2vCxkvmGE6Ggb49dgQvxlX3r3QlZuPQ1ql4E1VriijfKPi5GuOhp+KbDoa/o8+pbcFLpk/SmvTmHdsg9Oby0pa4oX8o16wW74u9ZAfbiqyT5LZTxV+M6b8bB/8Ti+0BhZdr0wSSFMyRSTt18XE/xSSR702d7iVLfUgIs0i8oiIfM+/bc0M22o4AU8jyQf2jj5FgLfMrz3yodFlnMXzNyVeyD7lAAnk6/K+AB8ENgZuWzfDNogTcBXifIDHppRv74FXzIUlbeGGnjWCjIPPMYvnaVK8ecg3Nm6mGyKyDHgDcFNgs7Ul6cHlgOsSJT/84wHYMwFvqxP91j3XNDkVNW+c15eJyfLweeR7K9ia9y1I9PvPwMeArsA2a0vSQ4kF3KwTxo4VRsS39SnL2uCsrpq7RDtnFZHZKOW8o3eT4gUn32pYJN+aZelF5BJgp6r+UkTOD3Gs3EvSQ4kFDIc+TIPt840cr5aINw0ra4fgw0uEphQXXa8nuzTlnLdkq2GbeKGc8k2biYkp9uwJPWmoXln6c4E3icjFQAcwV0S+hsUl6aHkAq7QNdpnTMJwpIhv71PaBd7Ya+wU0dtkoSRNY1q6FZx8a2NR9FsXVb0GuAbAj4A/qqqXi8g/kcEM27g0hIDBfDQMnhAGJ+H7e7t4bQ/0tLiSQ2ngxDuNjDrciiLfGchshm0cGkbAFUxHw9/Z08qBKXjXwiG6m6aMz6xrZGwWLxRLvgXO+0ZGVe/FW0/c6pL00IACBnPRsCp8bXcrJ3VOcvIsb03ToDScjKOTlnQrFFq+MWkk+RaNhhRwhaQi/sVQM5tGmrn+2GGq9b05GYcjbemCHeKFhPItQaeb43AaWsAV4or45l2tzG1WLpk385A3J+PDyUK6YHbB9EaQr4t+s8UJOECU/PCuceHugRYuXzBOZ8T5hI0o46yEW8Em8YKTr6M6TsDTCBsN39bXyrgKv79gLNH5poupLELOWrgVTJcIylW+GXW4gZNvXjgB16CeiCcUbtndyrldEyzvMDt5ppq4bJdyXrINkkZttqKlHCA7+e7/jVt7wgROwDMQ/GBXZPyTgRZ2jDfxV8uyKftTT3BZytkG0U7HRvFCceQbBydfc5RWwE2T5taCqFD5sN+8exmLW6e4sNv8OaJioxSzwFbxQrHkGzX6NS3fyYkp+naVfxZnLUorYDj0gRqZvcDYMZ8aa+Fngy18bOFeWqTUL591pFkCPveoF6yXr8M8DWEQkyJevaeLFpTLe/bTNXpo5qLJ2XWOw7FdvNAY8nWpB/M0hIArdAztTiTh4Snhlv45XDz3AItbD582Xi1X7IhPmtIFswumO/k64tJQAoZk0fB39s2mf6qZd80brLufk3E80pYuWCZecPJtcBpOwBXiiPjLe7p4cdsY58waCf0YJ+P6ZCHdClbJN8GKZk6+5aFhBVwhrIjXDrfxyEg7f7+4r+q6D2GYLptGFHKWwgXztdnyjHrBybdsNLyAK8wk4q/s7WKWTPF73fuNnbMRhJy1cCukURTTyddeRKQDuA9ox/Pa7ap6rYj0ArcCxwFPA7+nqnv9x1wDvBuYBD6gqndn3W4n4GlUE3H/ZBN3DMzmbd1DzG1Or2xUNVkVScp5yTaIteKFwsi3oIwCF6jqfhFpBX4uIj8A3oJXlv56Ebkaryz9x6eVpV8K/JeIvDjrRdmdgGsQ/CB/Y2Q5I9rElb31O9/SoJbU8hKzDZKtRlpl4POOeiF7+RYt+gVQVQUqP09b/YvilZ8/39++Gm+h9o8TKEsPbBGRSln6B7JrtRPwjEwprO6bxcvb9/OyjmQL75jEVhFmjdXiBSffDBGRZuCXwIuAf1XVh0TElaUvMj8d6WLzRAcf736KjqE9B7ebnF3niEZa0gXD1SqcfGdkYmKS/p37wu5esyw9gJ8+OFVEeoBvichJdY7lytJHQUQuAj4NNAM3qer1dfefnKC1fyfjPYvq7TYjNw0uYn7TOG+evfew7WlMc3bUJk3pQjnEC8WSbwzqlaU/iKr2i8i9wEVYXpY+4lLi+eD/tPhX4PXASuAdfhJ9Rlr7d8b6cN22v5cTnn0Z3x3uYUyFO4fmVd2vY2j3wYvDLFm9tk6+0ds8sG3vzDtliIgs9CNfRKQTeDXwGF75+Sv83aaXpb9MRNpF5HhcWfq6nAk8qapPAYjIN/CS6L8Oe4DKhyxMRHzb/l7ev+cFDGszAIPawvv3vACA35uzp+bjgqJwkXE8svwis0m84OSbkCXAaj9YawJuU9XvicgDuLL0iTkaeDZwexvw8jgHCiPi6/qPPijfCsPazHX9R9cVcJDpInFCrk3Wvx6MVyV28s0dVX0UOK3KdleW3gChEuYichVwFcAxi+oP06on4m2TbVUfU2t7GFx0fIi80jVlEy84+Radogg4VMLc7xG9EeCMFx8fqkezmoiXNY/x7GT7EfsuazYzDK2agMos5Tzz48alC0bEC8WSryMdiiLgXwAr/GT5drwZLL9v8gRBEV/bs/2wHDBAp0xybc92k6c8jLJI2ZbOyFTEC1bIN8nstrjyddFvOhRCwKo6ISJ/AtyNNwztS6q6IY1ztfbv5A/YSXPHAH89tpJtk20sax7j2p7tofO/pqgnszzlbItkq1Fm8YKTb9kohIABVPU/gf/M6nyXte3gsrYdQLiRE1ljswSzJjXpgjHxgpOv40gKI+A8CX7AbZRxo5KqeMGaqBecfMuKE3BEnIzzJXXpQmmiXnDytZ3yCnhywvsgzUsvV+pknA2ZSBesEi/kE/VCtvKdHJ9g7/ONm04rr4ArVD5UKYoYnIxNk5l0wah4wcnXEZ7yC7hCRiKGI+XhhDwzmQq3goXiBSffRqJxBFwhQxFXcEI+klyEC8alWyHvqBecfItI4wm4Qg4irtBoQs5NtkEsFi8UT759j/XHPp/jEI0r4ArBD2YOMobagiqimK2QbZCSixeyH+ng5GsOJ+AgOUbF1agns7zkbJ1gq5GSdMGceKF4US84+ZrGCbgaFkTFM1EIEWZNg4gXnHyrISLHAF8FFgNTeCWLPm1zafpCVMTIlb27D10c9pHB/8fJ1375+kwAf6qqJwJnAe/zK+dcjVeafgXwI/8200rTXwR8zl/QPTNcBByFAkTGDUFGX4ZlEi+UXr741Y8rFZAHRWQjXjEHa0vTOwHHxbJ8cUNQQPGCk28eiMhxeBUyHgKsLU1fWgE//NS23Z1v/7NnDBxqAWBj/sHGdtnYJnDtikrYdr0g6YkG9z52949vfXnYKKajXln6CiIyB/gm8CFV3SdSraCOt2uVbZmWpi+tgFV1oYnjiMiaMKWws8bGdtnYJnDtikqW7VLVi0weT0Ra8eR7s6re4W+2tjS964RzOBylQLxQ94vARlW9IXCXtaXpSxsBOxyOhuNc4A+BdSKy1t/258D1WFqa3gl4Zo7IMVmCje2ysU3g2hUVW9tVF1X9OdXzumBpaXpRzTTn7HA4HA4flwN2OByOnHACroGIXCQij4vIkyJydcbnPkZEfiIiG0Vkg4h80N/eKyL3iMgm/++8wGOu8dv6uIi8LsW2NYvIIyLyPYva1CMit4vIY/5rdrYl7fqw//9bLyK3iEhHHu0SkS+JyE4RWR/YFrkdInKGiKzz7/uM1Bnf5QiJqrrLtAvQDGwGlgNtwK+AlRmefwlwun+9C3gCWAn8I3C1v/1q4B/86yv9NrYDx/ttb06pbR8Bvg58z79tQ5tWA+/xr7cBPXm3C29A/xag0799G3BlHu0CzgNOB9YHtkVuB94IgbPx8qw/AF6f1WeirBcXAVfnTOBJVX1KVceAb+BNW8wEVd2hqg/71weB4JTK1f5uq4E3+9cPTqlU1S1AZUqlUURkGfAG4KbA5rzbNBdPMF8EUNUxVe3Pu10+LUCniLQAs/DGmGbeLlW9D9gzbXOkdvjjZ+eq6gPq2firgcc4YuIEXJ2jgWcDtzOfolih3pRKIDilMov2/jPwMbyVpirk3ablwC7gy35q5CYRmZ13u1R1O/BJvGFPO4ABVf1h3u0KELUdR/vXs2pfQ+AEXJ3cpyjCkVMq6+1aZZvR9orIJcBOVf1l2IdU2ZbGa9iC9/P686p6GjCEv9pVnu3yc6qX4v2MXwrMFpHL825XCGq1w5b2lQon4OrkPkWx3pRK//6sp1SeC7xJRJ7GS8lcICJfy7lNlfNsU9WH/Nu34wk573a9GtiiqrtUdRy4AzjHgnZViNqObf71rNrXEDgBV+cXwAoROV5E2vDWDL0zq5PbOKVSVa9R1WWqehze6/FjVb08zzb57XoOeFZETvA3XYg3synv6adbgbNEZJb//7wQL5efd7sqRGqHn6YYFJGz/OfzzsBjHHHJuxfQ1gtwMd7og83AX2R87t/G+3n3KLDWv1wMzMdbUHqT/7c38Ji/8Nv6OCn3TuOtrVoZBZF7m4BTgTX+6/VtYJ4l7boOeAxYD/w73siCzNsF3IKXhx7Hi2TfHacdwCr/uWwG/gV/Ipe7xL+4mXAOh8OREy4F4XA4HDnhBOxwOBw54QTscDgcOeEE7HA4HDnhBOxwOBw54QTsKAwicqWILM27HQ6HKZyAHUbxF55JiyvxpvWGJuX2OByJcOOAHYfhL/5zF97iP6fhTUZ5p6oeEJG/Bt4IdAL/DbxXVVVE7vVvn4s3k+oJ4C/xlobsA/5AVZ8XkU/grY2wBHgx3tKWZwGvB7YDb1TVcRE5A7gBmINXHv1K/9hf8fcbxlsWceX0/dSrfHtYe1T1U4HndybeokKd/nHepaqPG3r5HI5o5D0TxF3sugDH4c3CO9e//SXgo/714Gypf8cTJsC9wOcC983j0Jf7e4BP+dc/AfwcaAVOAQ7gz7QCvoW3vGErnjwX+tvfDnwpcJ5V/vWZ9vtcjec3F2jxr78a+Gber7m7NO7F/TxzVONZVb3fv/414AN4Syu+SkQ+hre2bS+wAfiuv9+tgccvA271F3lpw1uYvMIP1Ity1+EtfH+Xv30dnvxPAE4C7vELLjTjTaOdzkz73VrlMQDdwGoRWYH3RdNaYz+HI3WcgB3VmJ6XUhHpAD6HF4E+66cTOgL7DAWufxa4QVXvFJHz8SLfCqMAqjolIuOqWjnXFN77UYANqnr2DG2cab+hGtv/FviJqv6On265d4bzOByp4TrhHNU4VkQqYnsHXtqgItvd/jrFb63z+G68XC0cWnErLI8DCyvnF5FWEXmpf98gXommmfarR7BtV0Zsm8NhFCdgRzU2AleIyKN4qYbPq1fm5//ipQq+jbdkZy0+AfyHiPwMr3MsNOqVgHor8A8i8iu8leDO8e/+CvAFEVmLl3KotV89/hH4PyJyv38MhyM33CgIx2H4P8u/p6on5dwUh6P0uAjY4XA4csJFwA6Hw5ETLgJ2OByOnHACdjgcjpxwAnY4HI6ccAJ2OByOnHACdjgcjpxwAnY4HI6c+P9ob9NOkqRdlwAAAABJRU5ErkJggg==\n",
      "text/plain": [
       "<Figure size 432x288 with 2 Axes>"
      ]
     },
     "metadata": {
      "needs_background": "light"
     },
     "output_type": "display_data"
    }
   ],
   "source": [
    "# Plot the error surface\n",
    "fig = plt.figure()\n",
    "visualize_steps(fig, fig.gca(), log_a, log_b, x_standardized, y)"
   ]
  },
  {
   "cell_type": "markdown",
<<<<<<< HEAD
   "id": "c0ef4742",
=======
   "id": "5bb22a07",
>>>>>>> parent of 2b33ad3 (16-04-2021)
   "metadata": {},
   "source": [
    "As we can see, the level curves are now perfectly circular and that the algorithm goes in the direction of the optimal solution. However, it seems that the algorithm overshoots the optimal solution. We can counteract this behaviour by decreasing the learning rate."
   ]
  },
  {
   "cell_type": "code",
   "execution_count": 37,
<<<<<<< HEAD
   "id": "1b26ac30",
=======
   "id": "e97b70c8",
>>>>>>> parent of 2b33ad3 (16-04-2021)
   "metadata": {},
   "outputs": [],
   "source": [
    "# Initialization\n",
    "lr = 0.1\n",
    "a, b = 0, 0\n",
    "n_steps = 400\n",
    "\n",
    "# Gradient descent\n",
    "log_a = [a]\n",
    "log_b = [b]\n",
    "\n",
    "for step in range(n_steps):\n",
    "    # Compute partial derivatives\n",
    "    y_pred = a*x_standardized + b\n",
    "    error = y - y_pred\n",
    "    a_grad = -2*np.mean(x_standardized*error)\n",
    "    b_grad = -2*np.mean(error)\n",
    "\n",
    "    # Update parameters\n",
    "    a -= lr*a_grad\n",
    "    b -= lr*b_grad\n",
    "\n",
    "    # Log a, b values\n",
    "    log_a.append(a)\n",
    "    log_b.append(b)"
   ]
  },
  {
   "cell_type": "code",
   "execution_count": 38,
<<<<<<< HEAD
   "id": "edc720bf",
=======
   "id": "29d3e6f6",
>>>>>>> parent of 2b33ad3 (16-04-2021)
   "metadata": {},
   "outputs": [
    {
     "data": {
      "image/png": "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\n",
      "text/plain": [
       "<Figure size 432x288 with 2 Axes>"
      ]
     },
     "metadata": {
      "needs_background": "light"
     },
     "output_type": "display_data"
    }
   ],
   "source": [
    "# Plot the error surface\n",
    "fig = plt.figure()\n",
    "visualize_steps(fig, fig.gca(), log_a, log_b, x_standardized, y)"
   ]
  },
  {
   "cell_type": "markdown",
<<<<<<< HEAD
   "id": "54eff0ca",
=======
   "id": "213d6813",
>>>>>>> parent of 2b33ad3 (16-04-2021)
   "metadata": {},
   "source": [
    "### Summary\n",
    "In this unit, we learned about standardization. Here are a few takeaways.\n",
    "\n",
    "- We should always apply **standardization before running gradient descent.**\n",
    "- Standardized features have a mean of zero and a standard deviation of one.\n",
    "- Gradient descent is faster to converge when features are standardized.\n",
    "In the next exercise, you will implement gradient descent to fit a multiple linear regression model. Hence, you will need to standardize each feature in the data set before applying the algorithm.\n",
    "\n",
    "\n",
    "*Note : we should keep in mind that the unit **uses a simple linear regression model with only two parameters.** This helps here because we can plot the loss surface which happens to have nice circular RMSE level curves that are easy to optimize, but the algorithm is also used to optimize more complex models like **Neural Networks that have much more parameters (ex. millions, cannot easily be visualized) and more complex loss functions**.*\n",
    "\n",
    "\n",
    "*Note 2 : \n",
    "Standardization is important for methods that use gradient descent, yes - but it's also very useful in other cases. In general, standardization is rarely hurting but often helping. So applying it by default is usually a good idea.*\n",
    "\n",
    "Other situations where standardization or feature scaling can become important are:\n",
    "\n",
    "- Before PCA you should always apply feature scaling to make sure that the standard deviation between the features are comparable and to prevent the overloading of a particular feature just because of a bigger scale.\n",
    "- Unscaled data might cause numerical issues during computation if values are too extreme (i.e. too small or big for float32, int64 etc.). Scaling them to values for which these datatypes are intended for will control this problematic.\n",
    "- Software libraries like scikit-learn provide default parameters for certain estimators, functions, etc. These default parameters are set with scaled features in mind. Applying feature scaling will therefore put your dataset into the format in which many of these software routines were written for.\n"
   ]
  },
  {
   "cell_type": "markdown",
<<<<<<< HEAD
   "id": "af43216a",
=======
   "id": "f340c7f0",
>>>>>>> parent of 2b33ad3 (16-04-2021)
   "metadata": {},
   "source": [
    "# Exercise - Gradient descent - see 3-4-1\n",
    "\n",
    "The goal of this exercise is to implement gradient descent for the multiple linear regression model, and compare the results to the ones obtained with the OLS method using the LinearRegression object from Scikit-learn. This time, we have to update a vector of parameters \n",
    "⃗\n",
    "w\n",
    " at each iteration.\n",
    " \n",
    " ### Gradient for linear regression\n",
    "\n",
    " In a previous unit, we saw how to derivate the formula for the gradient of a simple linear regression model. We can easily generalize this derivation to multiple features"
   ]
  },
  {
   "cell_type": "markdown",
<<<<<<< HEAD
   "id": "b755f8ef",
=======
   "id": "b394518f",
>>>>>>> parent of 2b33ad3 (16-04-2021)
   "metadata": {},
   "source": [
    "### Note about standardization\n",
    "In this exercise, we are going to work on the bike sharing data set from the previous exercise. **We will use the train set to fit the model and the test set to evaluate it.** Note that we should use these test points for nothing else. In particular, **we cannot compute the average and the standard deviation of the points from the test set, and then use these values to standardize it.**\n",
    "\n",
    "**To standardize features from the test data, use the mean and the standard deviations of the features from the train set.**"
   ]
  },
  {
   "cell_type": "markdown",
<<<<<<< HEAD
   "id": "2c8325b1",
=======
   "id": "13700453",
>>>>>>> parent of 2b33ad3 (16-04-2021)
   "metadata": {},
   "source": [
    "# Note about feature scaling\n",
    "\n",
    "In the last exercise, we saw that we should standardize the features before applying gradient descent. In machine learning, many algorithms require the features to have approximately the same scale.\n",
    "\n",
    "The simplest and most common approaches apply linear transformations to the feature values \n",
    "x\n",
    "i\n",
    "These transformations preserve the relative distance between different feature values and thus the shape of their overall distribution. The values of \n",
    "a\n",
    " and \n",
    "b\n",
    " are typically descriptive statistics related to the distribution of our feature values. Note that the value \n",
    "x\n",
    "i\n",
    "=\n",
    "b\n",
    " is mapped to \n",
    "x\n",
    "′\n",
    "i\n",
    "=\n",
    "0\n",
    " and two values \n",
    "x\n",
    "i\n",
    ",\n",
    "x\n",
    "j\n",
    " that were \n",
    "a\n",
    " units apart will now be \n",
    "1\n",
    " unit apart.\n",
    "\n",
    "**Below, we will compare two methods for feature scaling: min-max scaling and standardization.**\n",
    "\n",
    "\n"
   ]
  },
  {
   "cell_type": "markdown",
<<<<<<< HEAD
   "id": "8d2e800c",
=======
   "id": "0d3069d9",
>>>>>>> parent of 2b33ad3 (16-04-2021)
   "metadata": {},
   "source": [
    "### Min-max scaling\n",
    "In the last exercises, we worked with the bike sharing data. If you look at the data set web page, you can see in the \"attribute information\" section that the temperatures, in degrees Celsius, were rescaled between zero and one using the min-max scaling formula.\n",
    "\n",
    "x′i=(xi−min)/(max-min)\n",
    "It's called min-max because it maps the minimum value of the data to zero and the maximum value to one. You can see this by setting \n",
    "x\n",
    " to \n",
    "min\n",
    "(\n",
    "x\n",
    ")\n",
    " or \n",
    "max\n",
    "(\n",
    "x\n",
    ")\n",
    " in the formula.\n",
    "\n",
    "This transformation is also known as normalization. However, we won't use this term in this course, because it can also refer to the process of normalizing a vector to change its length to one.\n",
    "\n",
    "\n",
    "### Standardization\n",
    "\n",
    "Min-max scaling is often used in machine learning, but it's not the only way to rescale features. In the previous exercise, we applied standardization before gradient descent to change the mean and the standard deviation of the temperatures using the z-score formula\n",
    "\n",
    "x′i=(xi−μ)/σ\n",
    "\n",
    "Simply put standardization maps feature values to their associated z-scores. As a result the new mean and standard deviation are zero and one.\n",
    "\n",
    "### When to apply feature scaling\n",
    "\n",
    "In practice, we often need to rescale our data because some algorithms don't work well when the features have a different range. **For instance, we saw that we need to apply standardization before fitting a linear regression with gradient descent.** In the next course, we will see other algorithms that require standardization. For instance, **the k-NN and the support vector machine (SVM) algorithms are based on distance measures between data points.** In that case, we will see that the algorithm is biased towards features with larger scales, and this bias reduces its performance.\n",
    "\n",
    "However, there are some counterexamples. For instance, **we don't need to rescale features when fitting a linear regression with the ordinary least squares (OLS)** method. In the next course, we will also learn about decision trees which don't require preprocessing.\n",
    "\n",
    "### Min-max scaling versus standardization\n",
    "\n",
    "We will mostly use standardization in this course, but it's good to know both techniques since each has its advantages. Let's take an example.\n",
    "\n",
    "Say that you want to rescale a set of values. If you use min-max scaling, then you are sure that your data lies between zero and one. On the other hand, if you use standardization, your data is not bounded by a minimum and a maximum value. In this image, we rescaled 50 data points using min-max scaling and standardization. We show each version of the data using a swarmplot from the Seaborn library."
   ]
  },
  {
   "cell_type": "markdown",
<<<<<<< HEAD
   "id": "faeb8243",
=======
   "id": "42455d2e",
>>>>>>> parent of 2b33ad3 (16-04-2021)
   "metadata": {},
   "source": [
    "https://d7whxh71cqykp.cloudfront.net/uploads/image/data/3720/scaling-comparison.svg\n",
    "https://d7whxh71cqykp.cloudfront.net/uploads/image/data/3721/scaling-outliers.svg"
   ]
  },
  {
   "cell_type": "raw",
<<<<<<< HEAD
   "id": "f96b1778",
=======
   "id": "1bce1700",
>>>>>>> parent of 2b33ad3 (16-04-2021)
   "metadata": {},
   "source": [
    "from IPython.display import Image\n",
    "Image(url='https://d7whxh71cqykp.cloudfront.net/uploads/image/data/3720/scaling-comparison.svg')\n",
    "Image(url='https://d7whxh71cqykp.cloudfront.net/uploads/image/data/3720/scaling-comparison.svg', embed=True)"
   ]
  },
  {
   "cell_type": "markdown",
<<<<<<< HEAD
   "id": "6f26d250",
=======
   "id": "89bc9f74",
>>>>>>> parent of 2b33ad3 (16-04-2021)
   "metadata": {},
   "source": [
    "As you can see, min-max scaling guarantees that all points lie between zero and one which is a useful property in some situations.\n",
    "\n",
    "With standardization, we know that the data points are centered around zero (mean of zero) and that they have a fixed dispersion (standard deviation of one). In our example, the points vary between -2.5 and +2, but we could have points further away.\n",
    "\n",
    "As highlighted above we are using statistics to fix the values of \n",
    "a\n",
    " and \n",
    "b\n",
    ". In the case of min-max scaling and standardization these statistics are sensitive to outliers, which can affect our results. For instance, we can add an outlier with a value of -1.5 to the 50 data points.\n",
    "\n",
    "As you can see, **the outlier is five standard deviations away from the mean**, and the green points vary between -5 and +1.5. **However, standardization worked better than min-max scaling which squeezed the previous data points between 0.5 and 1**. However, if the outlier were more extreme than the effect on the mean and the standard deviation would be more severe and standardization would squeeze the data together as well. For that reason **in practice we often consider first removing outliers before applying scalers.**"
   ]
  },
  {
   "cell_type": "markdown",
<<<<<<< HEAD
   "id": "b673d9b7",
=======
   "id": "da088231",
>>>>>>> parent of 2b33ad3 (16-04-2021)
   "metadata": {},
   "source": [
    "### Other approaches\n",
    "\n",
    "Since our problem with the outlier arose from using descriptive statistics that were sensitive to outliers we might instead apply statistically robust statistics like the median and the interquartile range IQR (the difference between the 25th and 75th percentiles)\n",
    "\n",
    "x′i=(xi−median)/IQR\n",
    "\n",
    "So if there is reason to keep the outlier in the data set, we may prefer to use the robust scaler.\n",
    "\n",
    "When working with multiple features, **we tailor a separate scaler to each feature and may use different types of scalers for different features**. Or we may need to **apply some non-linear transformations to some features before applying the scalers.** In the next section we will introduce **log-transformations.**\n",
    "\n",
    "The success of each approach depends on several aspects: the importance of outliers in the given domain, the machine learning algorithms we intend to use later and most importantly the data itself. Different approaches are more or less effective in different case hence it is important to **always visualise your data first before selecting your approach.**\n",
    "\n",
    "### Summary\n",
    "Let's summarize what we've learned in this unit.\n",
    "\n",
    "- **Min-max scaling** rescales features **between zero and one**. It may rescale them to very small intervals when there are outliers.\n",
    "- **Standardization** changes the mean and standard deviation using the z-score formula. Standardized **values are not bounded.**\n",
    "- The best apporach depends on the data and hence **we should always visualise the data first.**\n",
    "\n",
    "So far, we applied feature scaling before fitting our models. In the next unit, we will see how to use these models to compute predictions for new unscaled data points."
   ]
  },
  {
   "cell_type": "code",
   "execution_count": null,
<<<<<<< HEAD
   "id": "1c65a48d",
=======
   "id": "7d7e0d49",
>>>>>>> parent of 2b33ad3 (16-04-2021)
   "metadata": {},
   "outputs": [],
   "source": []
  }
 ],
 "metadata": {
  "kernelspec": {
   "display_name": "Python 3",
   "language": "python",
   "name": "python3"
  },
  "language_info": {
   "codemirror_mode": {
    "name": "ipython",
    "version": 3
   },
   "file_extension": ".py",
   "mimetype": "text/x-python",
   "name": "python",
   "nbconvert_exporter": "python",
   "pygments_lexer": "ipython3",
   "version": "3.6.13"
  }
 },
 "nbformat": 4,
 "nbformat_minor": 5
}
