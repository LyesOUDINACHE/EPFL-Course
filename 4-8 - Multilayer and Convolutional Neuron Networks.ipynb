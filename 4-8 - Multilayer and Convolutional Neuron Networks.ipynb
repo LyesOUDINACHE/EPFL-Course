{
 "cells": [
  {
   "cell_type": "markdown",
   "id": "2fcb89b0",
   "metadata": {},
   "source": [
    "# Multilayer networks"
   ]
  },
  {
   "cell_type": "markdown",
   "id": "6fe115f8",
   "metadata": {},
   "source": [
    "In the last subject, we learned about neural networks and saw the basic TensorFlow tools to build them. So far, we created networks with a single layer of neurons which are equivalent to linear, logistic or softmax regressions. In this unit, we will see that we can build more powerful models by simply adding layers of neurons with nonlinear activation functions. In the second part of this unit, we will implement a 2-layer neural network using TensorFlow to classify images from the MNIST data set.\n",
    "\n",
    "The idea behind multilayer networks is to add layers of neurons between the input and the output layer. Here is an illustration of a simple multilayer network with three input neurons, two hidden layers with respectively two and three hidden units, and an output layer with two neurons."
   ]
  },
  {
   "cell_type": "code",
   "execution_count": 1,
   "id": "cb436fe9",
   "metadata": {},
   "outputs": [],
   "source": [
    "import os\n",
    "os.environ[\"CUDA_VISIBLE_DEVICES\"]=\"-1\"    ### force CPU on tensorflow"
   ]
  },
  {
   "cell_type": "code",
   "execution_count": 2,
   "id": "d2c7769c",
   "metadata": {},
   "outputs": [
    {
     "data": {
      "text/html": [
       "<img src=\"https://d7whxh71cqykp.cloudfront.net/uploads/image/data/2752/multilayer.svg\"/>"
      ],
      "text/plain": [
       "<IPython.core.display.Image object>"
      ]
     },
     "execution_count": 2,
     "metadata": {},
     "output_type": "execute_result"
    }
   ],
   "source": [
    "from IPython.display import Image\n",
    "Image(url='https://d7whxh71cqykp.cloudfront.net/uploads/image/data/2752/multilayer.svg')"
   ]
  },
  {
   "cell_type": "markdown",
   "id": "7d4c2915",
   "metadata": {},
   "source": [
    "The goal of these hidden layers is to convert the input into a set of useful features which are then combined in the output layer to compute predictions. In other words, multilayer networks do not only learn to combine features but also learn these features by themselves. The idea is that each intermediate layer combines its inputs into a set of higher-level features that are then used in the next layer and so on. To achieve this, networks use **activation functions** which are simply functions that each neuron applies to its output.\n",
    "\n",
    "### Activation functions\n",
    "\n",
    "We saw in the last subject that each neuron computes its output by multiplying the signal sent by its input neurons with its synaptic weights and by adding the neuron bias. In the multilayer neural network case, we can express the output $ x_{j}^{\\left(l\\right)}$ of the j-th neuron of layer \n",
    "l\n",
    " with the following expression.\n",
    " \n",
    "$$\n",
    "x_{j}^{\\left(l\\right)}=\\sum_{i}w_{i,j}^{\\left(l\\right)}x_{i}^{\\left(l-1\\right)}+b_{j}^{\\left(l\\right)}\n",
    "$$\n",
    "\n",
    "In this formula, we multiply the signal from each neuron from the previous layer \n",
    "x\n",
    "(\n",
    "l\n",
    "−\n",
    "1\n",
    ")\n",
    "i\n",
    " with the corresponding synaptic weight \n",
    "w\n",
    "(\n",
    "l\n",
    ")\n",
    "i\n",
    ",\n",
    "j\n",
    " and add the neuron bias \n",
    "b\n",
    "(\n",
    "l\n",
    ")\n",
    "j\n",
    ". In multilayer networks, we apply an activation function \n",
    "ϕ\n",
    " to the output of each neuron.\n",
    " \n",
    " $$ x_{j}^{\\left(l\\right)}=\\phi\\left(\\sum_{i}w_{i,j}^{\\left(l\\right)}x_{i}^{\\left(l-1\\right)}+b_{j}^{\\left(l\\right)}\\right)$$\n",
    " \n",
    "Activation functions and hidden layers are really at the heart of neural networks. In fact, it's possible to show that a network with a single hidden layer can approximate any continuous function. This is called **the universal approximation theorem**. If you want to learn more about it, we highly recommend reading chapter 4 of the Neural Networks and Deep Learning (NNDL) book which gives a visual explanation of the theorem. http://neuralnetworksanddeeplearning.com/chap4.html\n",
    "\n",
    "### Sigmoid and ReLU activation\n",
    "\n",
    "There are many possible activation functions. For instance, we can use the sigmoid function that we saw in the unit about logistic regressions.\n",
    "\n",
    "$$ f\\left(x\\right)=\\frac{1}{1+e^{-x}}$$\n",
    "\n",
    "Here is a plot of the function for an input between -6 and +6."
   ]
  },
  {
   "cell_type": "code",
   "execution_count": 3,
   "id": "2fb841a1",
   "metadata": {},
   "outputs": [
    {
     "data": {
      "text/html": [
       "<img src=\"https://d7whxh71cqykp.cloudfront.net/uploads/image/data/2751/sigmoid.svg\"/>"
      ],
      "text/plain": [
       "<IPython.core.display.Image object>"
      ]
     },
     "execution_count": 3,
     "metadata": {},
     "output_type": "execute_result"
    }
   ],
   "source": [
    "Image(url='https://d7whxh71cqykp.cloudfront.net/uploads/image/data/2751/sigmoid.svg')"
   ]
  },
  {
   "cell_type": "markdown",
   "id": "180122c5",
   "metadata": {},
   "source": [
    "**One issue with the sigmoid function is that its derivative is close to zero (the curve is flat) when the input is very large or very small. Hence, the gradient update will be very small when updating the weights with gradient descent and the learning process becomes slow**. This is called the **vanishing gradient problem.**\n",
    "\n",
    "Another popular activation function is the **Rectified Linear Unit (ReLU).**\n",
    "$$ f\\left(x\\right)=\\max\\left(0,x\\right)$$\n",
    "The function is zero when \n",
    "x\n",
    " is negative and equal to \n",
    "x\n",
    " when it's positive."
   ]
  },
  {
   "cell_type": "code",
   "execution_count": 4,
   "id": "53072619",
   "metadata": {},
   "outputs": [
    {
     "data": {
      "text/html": [
       "<img src=\"https://d7whxh71cqykp.cloudfront.net/uploads/image/data/2750/relu.svg\"/>"
      ],
      "text/plain": [
       "<IPython.core.display.Image object>"
      ]
     },
     "execution_count": 4,
     "metadata": {},
     "output_type": "execute_result"
    }
   ],
   "source": [
    "Image(url='https://d7whxh71cqykp.cloudfront.net/uploads/image/data/2750/relu.svg')"
   ]
  },
  {
   "cell_type": "markdown",
   "id": "13998451",
   "metadata": {},
   "source": [
    "One of the advantages of the ReLU activation function is that it's easy to implement and it seems to accelerate the learning process compared to the sigmoid one. You can take a look at this page if you want to learn more about activation functions. http://cs231n.github.io/neural-networks-1/#actfun\n",
    "\n",
    "### Backpropagation\n",
    "\n",
    "In the last course, we learned about the **gradient descent method** which updates the model parameters by computing the partial derivate of the loss function with respect to each parameter. In neural networks, **we use the same idea to update the weights and biases** of each neuron in our network. In practice, **deep networks have a lot of parameters and it would be very inefficient to compute the partial derivative of each weight individually.** **However, there is a technique called backpropagation** which can solve this issue. To avoid doing redundant computations, the backpropagation algorithm computes the error at the ouput neurons and propagates this information back through the network to compute the partial derivates layer after layer."
   ]
  },
  {
   "cell_type": "code",
   "execution_count": 5,
   "id": "83b43157",
   "metadata": {},
   "outputs": [
    {
     "data": {
      "text/html": [
       "<img src=\"https://d7whxh71cqykp.cloudfront.net/uploads/image/data/2749/backward-prop.svg\"/>"
      ],
      "text/plain": [
       "<IPython.core.display.Image object>"
      ]
     },
     "execution_count": 5,
     "metadata": {},
     "output_type": "execute_result"
    }
   ],
   "source": [
    "Image(url='https://d7whxh71cqykp.cloudfront.net/uploads/image/data/2749/backward-prop.svg')"
   ]
  },
  {
   "cell_type": "markdown",
   "id": "1c9a6b6c",
   "metadata": {},
   "source": [
    "Backpropagation is usually performed internally by the deep learning framework. For instance, when using **the GradientDescentOptimizer object, TensorFlow will automatically compute the gradients in an efficient way using the backpropagation algorithm**. If you want to learn more about the mathematics behind backpropagation, you can take a look at chapter 2 of the NNDL book. http://neuralnetworksanddeeplearning.com/chap2.html\n",
    "\n",
    "### Weights initialization\n",
    "\n",
    "So far, we initialized the synaptic weights of each neuron to zero. This sounds reasonable if we standardized the data since we expect some weights to be positive, some to be negative, but in average, centered around zero. **In multilayer networks, initializing the weights to a constant value (e.g., zero or one) is a bad idea because it makes all hidden units of a layer compute the exact same output**. In that case, gradient descent will compute the same gradient updates and we will end up with copies of the hidden units with the same weight values.\n",
    "\n",
    "One solution is to use a normal distribution to **sample small random numbers.** That way, each hidden neuron will start with different weights and will occupy a different role in our network. In practice, we often use the truncated normal distribution which drops values whose magnitude is more than 2 standard deviations away from the mean. For instance, here is the truncated normal distribution with a standard deviation of 0.01"
   ]
  },
  {
   "cell_type": "code",
   "execution_count": 6,
   "id": "3f507e42",
   "metadata": {},
   "outputs": [
    {
     "data": {
      "text/html": [
       "<img src=\"https://d7whxh71cqykp.cloudfront.net/uploads/image/data/2748/truncated-normal.svg\"/>"
      ],
      "text/plain": [
       "<IPython.core.display.Image object>"
      ]
     },
     "execution_count": 6,
     "metadata": {},
     "output_type": "execute_result"
    }
   ],
   "source": [
    "Image(url='https://d7whxh71cqykp.cloudfront.net/uploads/image/data/2748/truncated-normal.svg')"
   ]
  },
  {
   "cell_type": "markdown",
   "id": "2521546c",
   "metadata": {},
   "source": [
    "Ideally, we want to calibrate this standard deviation such that each neuron computes an output in a reasonable range for its activation function. When there are no activation function (e.g., in the output layer), it's recommended to set the standard deviation to the inverse of the square root of the number of input neurons \n",
    "n\n",
    ". $$ \\text{std}=\\frac{1}{\\sqrt{n}} $$\n",
    "\n",
    "For layers with ReLU activations, the formula is a bit different.\n",
    "\n",
    "$$ \\text{std}=\\sqrt{\\frac{2}{n}} $$\n",
    "\n",
    "We won't go into the derivation of these two formulas, but you can take a look at this page if you want to learn more about it. http://cs231n.github.io/neural-networks-2/#init\n",
    "\n",
    "\n",
    "### TensorFlow implementation\n",
    "---------\n",
    "\n",
    "Now that we know the basic idea behind multilayer neural networks, let's go through a concrete example. In this second part, we will implement a 2-layer neural network with 16 hidden units in the hidden layer to classify images from the MNIST data set.\n",
    "\n",
    "Let's start by creating the TensorFlow graph."
   ]
  },
  {
   "cell_type": "code",
   "execution_count": 7,
   "id": "e0d44cac",
   "metadata": {},
   "outputs": [
    {
     "name": "stderr",
     "output_type": "stream",
     "text": [
      "C:\\Users\\lyeso\\anaconda3\\envs\\exts-ml\\lib\\site-packages\\h5py\\__init__.py:36: FutureWarning: Conversion of the second argument of issubdtype from `float` to `np.floating` is deprecated. In future, it will be treated as `np.float64 == np.dtype(float).type`.\n",
      "  from ._conv import register_converters as _register_converters\n"
     ]
    }
   ],
   "source": [
    "import tensorflow as tf\n",
    "\n",
    "# Create a new graph\n",
    "graph = tf.Graph()\n",
    "\n",
    "with graph.as_default():\n",
    "    # Create placeholders\n",
    "    X = tf.placeholder(dtype=tf.float32, shape=[None, 784])\n",
    "    y = tf.placeholder(dtype=tf.int32, shape=[None])\n",
    "\n",
    "    # Hidden layer with 16 units\n",
    "    W1 = tf.Variable(initial_value=tf.truncated_normal(\n",
    "        shape=[784, 16], # Shape\n",
    "        stddev=(2/784)**0.5, # Calibrating variance\n",
    "        seed=0\n",
    "    ))\n",
    "    b1 = tf.Variable(initial_value=tf.zeros(shape=[16]))\n",
    "\n",
    "    # Output layer\n",
    "    W2 = tf.Variable(initial_value=tf.truncated_normal(\n",
    "        shape=[16, 10], # Shape\n",
    "        stddev=1/16**0.5, # Calibrating variance\n",
    "        seed=0\n",
    "    ))\n",
    "    b2 = tf.Variable(initial_value=tf.zeros(shape=[10]))\n",
    "\n",
    "    # Compute logits\n",
    "    hidden = tf.nn.relu( # ReLU\n",
    "        tf.add(tf.matmul(X, W1), b1))\n",
    "    logits = tf.add(tf.matmul(hidden, W2), b2)"
   ]
  },
  {
   "cell_type": "markdown",
   "id": "2b4ecaf6",
   "metadata": {},
   "source": [
    "In this code, we create a matrix of weights and vector of biases for each layer. The input layer has 784 input neurons which correspond to the pixels in the 28 by 28 grayscale images from the MNIST database. This input layer is connected to an intermediate hidden layer with 16 units. Hence, the shape of the weight matrix of the hidden layer is \n",
    "(\n",
    "784\n",
    ",\n",
    "16\n",
    ")\n",
    " and it bias vector has 16 elements. We create a second weight matrix to connect the hidden and output layers. Since there are ten output units, its shape is \n",
    "(\n",
    "16\n",
    ",\n",
    "10\n",
    ")\n",
    ".\n",
    "\n",
    "Finally, we compute the output of the hidden layer by multiplying the input and the weight matrices, add the bias and apply the ReLU activation function with the relu() function. Then, we compute the output of the network using this hidden tensor.\n",
    "\n",
    "Note that we initialize the weights using the truncated_normal() function and calibrate the standard deviation using the formulas from above. For the output layer, we use the first formula since it has no activation function, but use the second one for the hidden layer since it uses the ReLU activation.\n",
    "\n",
    "It's not really convenient to work with the code from above because the number of hidden units is repeated at different places.\n",
    "\n",
    "- The shape of W1\n",
    "- The shape of b1\n",
    "- The shape of W2\n",
    "- The standard deviation of W2\n",
    "\n",
    "\n",
    "**To solve this issue, we can use the dense() function from the layers module and the TensorFlow initializers.**"
   ]
  },
  {
   "cell_type": "code",
   "execution_count": 8,
   "id": "a63b6b3c",
   "metadata": {},
   "outputs": [],
   "source": [
    "# Redefine the graph\n",
    "graph = tf.Graph()\n",
    "\n",
    "with graph.as_default():\n",
    "    # Create placeholders\n",
    "    X = tf.placeholder(dtype=tf.float32, shape=[None, 784])\n",
    "    y = tf.placeholder(dtype=tf.int32, shape=[None])\n",
    "\n",
    "    # Hidden layer with 16 units\n",
    "    hidden = tf.layers.dense(\n",
    "        X, 16, activation=tf.nn.relu, # ReLU\n",
    "        kernel_initializer=tf.variance_scaling_initializer(scale=2, seed=0),\n",
    "        bias_initializer=tf.zeros_initializer(),\n",
    "        name='hidden'\n",
    "    )\n",
    "\n",
    "    # Output layer\n",
    "    logits = tf.layers.dense(\n",
    "        hidden, 10, activation=None, # No activation function\n",
    "        kernel_initializer=tf.variance_scaling_initializer(scale=1, seed=0),\n",
    "        bias_initializer=tf.zeros_initializer(),\n",
    "        name='output'\n",
    "    )"
   ]
  },
  {
   "cell_type": "markdown",
   "id": "10e2b68f",
   "metadata": {},
   "source": [
    "This time, we only have to write once the number of units in each layer which is more convenient if we want to experiment with it, e.g., try different sizes for the hidden layer. We define each fully-connected layer with the dense() function which takes the input data, the number of output units, the activation function and the weights and bias initializers. We use the zeros_initializer() to initialize the biases to zero and the variance_scaling_initializer() to initialize the weights using the formulas from above. Note that we assign names to each layer. These names will make it easier to access the different layers and their elements.\n",
    "\n",
    "The dense() function creates the weights and biases variables with the appropriate shape and initialize them using the specified initializers. **We can inspect the variables from the graph using the trainable_variables() function.**"
   ]
  },
  {
   "cell_type": "code",
   "execution_count": 9,
   "id": "60e37898",
   "metadata": {},
   "outputs": [
    {
     "name": "stdout",
     "output_type": "stream",
     "text": [
      "<tf.Variable 'hidden/kernel:0' shape=(784, 16) dtype=float32_ref>\n",
      "<tf.Variable 'hidden/bias:0' shape=(16,) dtype=float32_ref>\n",
      "<tf.Variable 'output/kernel:0' shape=(16, 10) dtype=float32_ref>\n",
      "<tf.Variable 'output/bias:0' shape=(10,) dtype=float32_ref>\n"
     ]
    }
   ],
   "source": [
    "with graph.as_default():\n",
    "    # Get variables in the graph\n",
    "    for v in tf.trainable_variables():\n",
    "        print(v)\n"
   ]
  },
  {
   "cell_type": "markdown",
   "id": "f49ba527",
   "metadata": {},
   "source": [
    "Note that it's possible to retrieve these variables using the variable_scope() and the get_variable() function."
   ]
  },
  {
   "cell_type": "code",
   "execution_count": 10,
   "id": "94d1de41",
   "metadata": {},
   "outputs": [],
   "source": [
    "with graph.as_default():\n",
    "    # Get weights/biases of the hidden layer\n",
    "    with tf.variable_scope('hidden', reuse=True):\n",
    "        W1 = tf.get_variable('kernel')\n",
    "        b1 = tf.get_variable('bias')\n",
    "\n",
    "    # Get weights/biases of the output layer\n",
    "    with tf.variable_scope('output', reuse=True):\n",
    "        W2 = tf.get_variable('kernel')\n",
    "        b2 = tf.get_variable('bias')"
   ]
  },
  {
   "cell_type": "markdown",
   "id": "6f54ed0e",
   "metadata": {},
   "source": [
    "### Loss function and training operation\n",
    "\n",
    "Now that the different layers of our neural network are specified, we can move on and define the loss function and training operations using the code from the previous units.\n"
   ]
  },
  {
   "cell_type": "code",
   "execution_count": 11,
   "id": "35ecf18f",
   "metadata": {},
   "outputs": [],
   "source": [
    "with graph.as_default():\n",
    "    # Loss fuction: mean cross-entropy\n",
    "    mean_ce = tf.reduce_mean(\n",
    "        tf.nn.sparse_softmax_cross_entropy_with_logits(\n",
    "            labels=y, logits=logits))\n",
    "\n",
    "    # Gradient descent\n",
    "    lr = tf.placeholder(dtype=tf.float32)\n",
    "    gd = tf.train.GradientDescentOptimizer(learning_rate=lr)\n",
    "\n",
    "    # Minimize cross-entropy\n",
    "    train_op = gd.minimize(mean_ce)\n",
    "\n",
    "    # Compute predictions and accuracy\n",
    "    predictions = tf.argmax(logits, axis=1, output_type=tf.int32)\n",
    "    is_correct = tf.equal(y, predictions)\n",
    "    accuracy = tf.reduce_mean(tf.cast(is_correct, dtype=tf.float32))"
   ]
  },
  {
   "cell_type": "markdown",
   "id": "8d7382a6",
   "metadata": {},
   "source": [
    "### Train network\n",
    "\n",
    "Let's train the network. First, we have to load the MNIST images, split them into train and validation sets and standardize the features using a StandardScaler transformer from Scikit-learn. The network is a bit larger this time since it has an additional hidden layer with 16 units. For this reason, we will train it using a slightly larger data set with 20 thousand images. You can download it from the resource section."
   ]
  },
  {
   "cell_type": "code",
   "execution_count": 12,
   "id": "93ffec43",
   "metadata": {},
   "outputs": [],
   "source": [
    "from sklearn.model_selection import train_test_split\n",
    "from sklearn.preprocessing import StandardScaler\n",
    "import numpy as np\n",
    "\n",
    "# Load data\n",
    "with np.load('mnist-20k.npz', allow_pickle=False) as npz_file:\n",
    "    # Load items into a dictionary\n",
    "    mnist = dict(npz_file.items())\n",
    "\n",
    "# Create train and validation sets\n",
    "X_train, X_valid, y_train, y_valid = train_test_split(\n",
    "    # Convert uint8 pixel values to float\n",
    "    mnist['data'].astype(np.float32),\n",
    "    mnist['labels'],\n",
    "    test_size=500, random_state=0)\n",
    "\n",
    "# Rescale train and validation data\n",
    "scaler = StandardScaler()\n",
    "X_train_rescaled = scaler.fit_transform(X_train)\n",
    "X_valid_rescaled = scaler.transform(X_valid)"
   ]
  },
  {
   "cell_type": "code",
   "execution_count": 13,
   "id": "56d85ef7",
   "metadata": {},
   "outputs": [
    {
     "data": {
      "text/plain": [
       "{'data': array([[0, 0, 0, ..., 0, 0, 0],\n",
       "        [0, 0, 0, ..., 0, 0, 0],\n",
       "        [0, 0, 0, ..., 0, 0, 0],\n",
       "        ...,\n",
       "        [0, 0, 0, ..., 0, 0, 0],\n",
       "        [0, 0, 0, ..., 0, 0, 0],\n",
       "        [0, 0, 0, ..., 0, 0, 0]], dtype=uint8),\n",
       " 'labels': array([5, 0, 4, ..., 1, 4, 2])}"
      ]
     },
     "execution_count": 13,
     "metadata": {},
     "output_type": "execute_result"
    }
   ],
   "source": [
    "mnist"
   ]
  },
  {
   "cell_type": "markdown",
   "id": "65b17752",
   "metadata": {},
   "source": [
    "This time, we will train the network using the entire data set several times. In the machine learning jargon, **one pass of training through the entire training set is called an epoch**. In practice, we usually shuffle the data before each epoch to get better results. Let's modify our get_batches() function from the previous unit."
   ]
  },
  {
   "cell_type": "code",
   "execution_count": 14,
   "id": "abad6722",
   "metadata": {},
   "outputs": [],
   "source": [
    "# Batch generator\n",
    "def get_batches(X, y, batch_size):\n",
    "    # Shuffle X,y\n",
    "    shuffled_idx = np.arange(len(y)) # 1,2,...,n\n",
    "    np.random.shuffle(shuffled_idx)\n",
    "\n",
    "    # Enumerate indexes by steps of batch_size\n",
    "    # i: 0, b, 2b, 3b, 4b, .. where b is the batch size\n",
    "    for i in range(0, len(y), batch_size):\n",
    "        # Batch indexes\n",
    "        batch_idx = shuffled_idx[i:i+batch_size]\n",
    "        yield X[batch_idx], y[batch_idx]"
   ]
  },
  {
   "cell_type": "markdown",
   "id": "f888615e",
   "metadata": {},
   "source": [
    "In this code, we create and shuffle a list of indexes and use it to iterate through our training data by small random batches.\n",
    "\n",
    "Finally, let's train our network during 50 epochs."
   ]
  },
  {
   "cell_type": "code",
   "execution_count": 15,
   "id": "98d81f47",
   "metadata": {},
   "outputs": [
    {
     "name": "stdout",
     "output_type": "stream",
     "text": [
      "Epoch 1 - valid: 0.796 train: 0.631 (mean)\n",
      "Epoch 2 - valid: 0.888 train: 0.849 (mean)\n",
      "Epoch 3 - valid: 0.900 train: 0.881 (mean)\n",
      "Epoch 4 - valid: 0.916 train: 0.897 (mean)\n",
      "Epoch 5 - valid: 0.918 train: 0.906 (mean)\n",
      "Epoch 6 - valid: 0.922 train: 0.914 (mean)\n",
      "Epoch 7 - valid: 0.920 train: 0.919 (mean)\n",
      "Epoch 8 - valid: 0.922 train: 0.923 (mean)\n",
      "Epoch 9 - valid: 0.934 train: 0.926 (mean)\n",
      "Epoch 10 - valid: 0.932 train: 0.929 (mean)\n",
      "Epoch 11 - valid: 0.930 train: 0.932 (mean)\n",
      "Epoch 12 - valid: 0.938 train: 0.934 (mean)\n",
      "Epoch 13 - valid: 0.940 train: 0.936 (mean)\n",
      "Epoch 14 - valid: 0.942 train: 0.939 (mean)\n",
      "Epoch 15 - valid: 0.944 train: 0.941 (mean)\n",
      "Epoch 16 - valid: 0.942 train: 0.943 (mean)\n",
      "Epoch 17 - valid: 0.944 train: 0.944 (mean)\n",
      "Epoch 18 - valid: 0.944 train: 0.947 (mean)\n",
      "Epoch 19 - valid: 0.942 train: 0.947 (mean)\n",
      "Epoch 20 - valid: 0.944 train: 0.949 (mean)\n",
      "Epoch 21 - valid: 0.946 train: 0.950 (mean)\n",
      "Epoch 22 - valid: 0.948 train: 0.951 (mean)\n",
      "Epoch 23 - valid: 0.946 train: 0.952 (mean)\n",
      "Epoch 24 - valid: 0.948 train: 0.952 (mean)\n",
      "Epoch 25 - valid: 0.950 train: 0.953 (mean)\n",
      "Epoch 26 - valid: 0.948 train: 0.955 (mean)\n",
      "Epoch 27 - valid: 0.950 train: 0.956 (mean)\n",
      "Epoch 28 - valid: 0.948 train: 0.956 (mean)\n",
      "Epoch 29 - valid: 0.950 train: 0.957 (mean)\n",
      "Epoch 30 - valid: 0.948 train: 0.957 (mean)\n",
      "Epoch 31 - valid: 0.948 train: 0.959 (mean)\n",
      "Epoch 32 - valid: 0.948 train: 0.959 (mean)\n",
      "Epoch 33 - valid: 0.950 train: 0.960 (mean)\n",
      "Epoch 34 - valid: 0.948 train: 0.961 (mean)\n",
      "Epoch 35 - valid: 0.950 train: 0.961 (mean)\n",
      "Epoch 36 - valid: 0.952 train: 0.961 (mean)\n",
      "Epoch 37 - valid: 0.948 train: 0.962 (mean)\n",
      "Epoch 38 - valid: 0.950 train: 0.963 (mean)\n",
      "Epoch 39 - valid: 0.952 train: 0.963 (mean)\n",
      "Epoch 40 - valid: 0.946 train: 0.964 (mean)\n",
      "Epoch 41 - valid: 0.948 train: 0.964 (mean)\n",
      "Epoch 42 - valid: 0.948 train: 0.965 (mean)\n",
      "Epoch 43 - valid: 0.948 train: 0.966 (mean)\n",
      "Epoch 44 - valid: 0.950 train: 0.965 (mean)\n",
      "Epoch 45 - valid: 0.948 train: 0.966 (mean)\n",
      "Epoch 46 - valid: 0.948 train: 0.967 (mean)\n",
      "Epoch 47 - valid: 0.948 train: 0.968 (mean)\n",
      "Epoch 48 - valid: 0.946 train: 0.968 (mean)\n",
      "Epoch 49 - valid: 0.948 train: 0.969 (mean)\n",
      "Epoch 50 - valid: 0.952 train: 0.969 (mean)\n"
     ]
    }
   ],
   "source": [
    "# Validation accuracy\n",
    "valid_acc_values = []\n",
    "\n",
    "with tf.Session(graph=graph) as sess:\n",
    "    # Initialize variables\n",
    "    sess.run(tf.global_variables_initializer())\n",
    "\n",
    "    # Set seed\n",
    "    np.random.seed(0)\n",
    "\n",
    "    # Train several epochs\n",
    "    for epoch in range(50):\n",
    "        # Accuracy values (train) after each batch\n",
    "        batch_acc = []\n",
    "\n",
    "        # Get batches of data\n",
    "        for X_batch, y_batch in get_batches(X_train_rescaled, y_train, 64):\n",
    "            # Run training and evaluate accuracy\n",
    "            _, acc_value = sess.run([train_op, accuracy], feed_dict={\n",
    "                X: X_batch,\n",
    "                y: y_batch,\n",
    "                lr: 0.01 # Learning rate\n",
    "            })\n",
    "\n",
    "            # Save accuracy (current batch)\n",
    "            batch_acc.append(acc_value)\n",
    "\n",
    "        # Evaluate validation accuracy\n",
    "        valid_acc = sess.run(accuracy, feed_dict={\n",
    "            X: X_valid_rescaled,\n",
    "            y: y_valid\n",
    "        })\n",
    "        valid_acc_values.append(valid_acc)\n",
    "\n",
    "        # Print progress\n",
    "        print('Epoch {} - valid: {:.3f} train: {:.3f} (mean)'.format(\n",
    "            epoch+1, valid_acc, np.mean(batch_acc)\n",
    "        ))\n",
    "\n",
    "    # Weights of the hidden and output layers\n",
    "    weights_hidden = W1.eval()\n",
    "    weights_output = W2.eval()"
   ]
  },
  {
   "cell_type": "markdown",
   "id": "1b108bdb",
   "metadata": {},
   "source": [
    "In this code, we save the accuracy on each batch of training data and compare its mean to the accuracy on the validation set. This is a way to monitor overfitting and decide when to stop the network, i.e., the number of epochs to run. Finally, we save the trained weights with eval().\n",
    "\n",
    "Let's plot the validation accuracy after each epoch."
   ]
  },
  {
   "cell_type": "code",
   "execution_count": 16,
   "id": "358e0901",
   "metadata": {},
   "outputs": [
    {
     "data": {
      "image/png": "[encoded data removed]",
      "text/plain": [
       "<Figure size 432x288 with 1 Axes>"
      ]
     },
     "metadata": {
      "needs_background": "light"
     },
     "output_type": "display_data"
    }
   ],
   "source": [
    "%matplotlib inline\n",
    "import matplotlib.pyplot as plt\n",
    "\n",
    "# Plot accuracy values\n",
    "plt.plot(valid_acc_values)\n",
    "plt.title('Validation accuracy {:.3f} (mean last 3)'.format(\n",
    "    np.mean(valid_acc_values[-3:]) # last three values\n",
    "))\n",
    "plt.xlabel('epoch')\n",
    "plt.ylabel('accuracy')\n",
    "plt.show()"
   ]
  },
  {
   "cell_type": "markdown",
   "id": "dbece113",
   "metadata": {},
   "source": [
    "This time, we get an accuracy of 95% which is a lot better than our softmax network from the last subject with 85%.\n",
    "\n",
    "### Visualize weights\n",
    "\n",
    "Finally, let's visualize the weights of the 16 hidden units using the code from the previous unit.\n"
   ]
  },
  {
   "cell_type": "code",
   "execution_count": 17,
   "id": "f1eae447",
   "metadata": {},
   "outputs": [
    {
     "data": {
      "image/png": "[encoded data removed]",
      "text/plain": [
       "<Figure size 576x576 with 16 Axes>"
      ]
     },
     "metadata": {
      "needs_background": "light"
     },
     "output_type": "display_data"
    }
   ],
   "source": [
    "# Create figure with 16 subplots\n",
    "fig, axes = plt.subplots(nrows=4, ncols=4, figsize=(8, 8))\n",
    "\n",
    "# Plot the weights of the 16 hidden units\n",
    "for i, axis in enumerate(axes.flatten()):\n",
    "    # Get weights of i-th hidden unit\n",
    "    weights = weights_hidden[:, i]\n",
    "\n",
    "    # Reshape into 28 by 28 array\n",
    "    weights = weights.reshape(28, 28)\n",
    "\n",
    "    # Plot weights\n",
    "    axis.set_title('unit {}'.format(i+1))\n",
    "    axis.imshow(weights, cmap=plt.cm.gray_r) # Grayscale\n",
    "    axis.get_xaxis().set_visible(False) # Disable x-axis\n",
    "    axis.get_yaxis().set_visible(False) # Disable y-axis\n",
    "\n",
    "plt.show()"
   ]
  },
  {
   "cell_type": "markdown",
   "id": "980263b7",
   "metadata": {},
   "source": [
    "As we can see, the hidden units detect specific shapes that are then combined in the output layer.\n",
    "\n",
    "Let's see how by printing the weights matrix from the output layer."
   ]
  },
  {
   "cell_type": "code",
   "execution_count": 18,
   "id": "20d974fc",
   "metadata": {},
   "outputs": [
    {
     "data": {
      "text/html": [
       "<div>\n",
       "<style scoped>\n",
       "    .dataframe tbody tr th:only-of-type {\n",
       "        vertical-align: middle;\n",
       "    }\n",
       "\n",
       "    .dataframe tbody tr th {\n",
       "        vertical-align: top;\n",
       "    }\n",
       "\n",
       "    .dataframe thead th {\n",
       "        text-align: right;\n",
       "    }\n",
       "</style>\n",
       "<table border=\"1\" class=\"dataframe\">\n",
       "  <thead>\n",
       "    <tr style=\"text-align: right;\">\n",
       "      <th></th>\n",
       "      <th>digit 0</th>\n",
       "      <th>digit 1</th>\n",
       "      <th>digit 2</th>\n",
       "      <th>digit 3</th>\n",
       "      <th>digit 4</th>\n",
       "      <th>digit 5</th>\n",
       "      <th>digit 6</th>\n",
       "      <th>digit 7</th>\n",
       "      <th>digit 8</th>\n",
       "      <th>digit 9</th>\n",
       "    </tr>\n",
       "  </thead>\n",
       "  <tbody>\n",
       "    <tr>\n",
       "      <th>unit 1</th>\n",
       "      <td>-0.151154</td>\n",
       "      <td>0.284383</td>\n",
       "      <td>0.172240</td>\n",
       "      <td>0.446757</td>\n",
       "      <td>-0.713837</td>\n",
       "      <td>-0.183502</td>\n",
       "      <td>0.480000</td>\n",
       "      <td>0.116505</td>\n",
       "      <td>0.348728</td>\n",
       "      <td>-0.560343</td>\n",
       "    </tr>\n",
       "    <tr>\n",
       "      <th>unit 2</th>\n",
       "      <td>-0.533486</td>\n",
       "      <td>-0.624569</td>\n",
       "      <td>0.205263</td>\n",
       "      <td>-0.056235</td>\n",
       "      <td>-0.039790</td>\n",
       "      <td>-0.083849</td>\n",
       "      <td>-0.584665</td>\n",
       "      <td>1.024174</td>\n",
       "      <td>-0.344761</td>\n",
       "      <td>-0.045943</td>\n",
       "    </tr>\n",
       "    <tr>\n",
       "      <th>unit 3</th>\n",
       "      <td>0.073382</td>\n",
       "      <td>0.799233</td>\n",
       "      <td>-0.129844</td>\n",
       "      <td>-0.049881</td>\n",
       "      <td>0.641498</td>\n",
       "      <td>0.478644</td>\n",
       "      <td>-0.723321</td>\n",
       "      <td>-0.508682</td>\n",
       "      <td>-0.525338</td>\n",
       "      <td>0.611302</td>\n",
       "    </tr>\n",
       "    <tr>\n",
       "      <th>unit 4</th>\n",
       "      <td>-0.272541</td>\n",
       "      <td>0.319896</td>\n",
       "      <td>-0.086140</td>\n",
       "      <td>0.961810</td>\n",
       "      <td>0.315077</td>\n",
       "      <td>1.009274</td>\n",
       "      <td>-0.286930</td>\n",
       "      <td>-0.434322</td>\n",
       "      <td>-0.607752</td>\n",
       "      <td>0.439435</td>\n",
       "    </tr>\n",
       "    <tr>\n",
       "      <th>unit 5</th>\n",
       "      <td>-0.391177</td>\n",
       "      <td>0.912025</td>\n",
       "      <td>-0.416022</td>\n",
       "      <td>-0.429280</td>\n",
       "      <td>-0.021465</td>\n",
       "      <td>-0.192731</td>\n",
       "      <td>0.417162</td>\n",
       "      <td>0.325653</td>\n",
       "      <td>0.743411</td>\n",
       "      <td>0.002196</td>\n",
       "    </tr>\n",
       "    <tr>\n",
       "      <th>unit 6</th>\n",
       "      <td>-0.133980</td>\n",
       "      <td>-0.484260</td>\n",
       "      <td>0.186193</td>\n",
       "      <td>0.347374</td>\n",
       "      <td>-0.065938</td>\n",
       "      <td>-0.113913</td>\n",
       "      <td>-0.330738</td>\n",
       "      <td>-0.504146</td>\n",
       "      <td>0.871023</td>\n",
       "      <td>-0.370285</td>\n",
       "    </tr>\n",
       "    <tr>\n",
       "      <th>unit 7</th>\n",
       "      <td>-0.162729</td>\n",
       "      <td>-0.269187</td>\n",
       "      <td>-0.383834</td>\n",
       "      <td>-0.803973</td>\n",
       "      <td>-0.550541</td>\n",
       "      <td>0.650970</td>\n",
       "      <td>0.613403</td>\n",
       "      <td>-0.133621</td>\n",
       "      <td>0.655968</td>\n",
       "      <td>-0.386253</td>\n",
       "    </tr>\n",
       "    <tr>\n",
       "      <th>unit 8</th>\n",
       "      <td>-0.093046</td>\n",
       "      <td>0.015065</td>\n",
       "      <td>1.257029</td>\n",
       "      <td>-0.055928</td>\n",
       "      <td>-0.113261</td>\n",
       "      <td>0.205466</td>\n",
       "      <td>0.349967</td>\n",
       "      <td>-0.395460</td>\n",
       "      <td>-0.334838</td>\n",
       "      <td>-0.443182</td>\n",
       "    </tr>\n",
       "    <tr>\n",
       "      <th>unit 9</th>\n",
       "      <td>0.058085</td>\n",
       "      <td>-0.596844</td>\n",
       "      <td>0.651317</td>\n",
       "      <td>-0.048199</td>\n",
       "      <td>0.510600</td>\n",
       "      <td>-0.239703</td>\n",
       "      <td>0.634887</td>\n",
       "      <td>-0.066740</td>\n",
       "      <td>-0.398665</td>\n",
       "      <td>-0.893872</td>\n",
       "    </tr>\n",
       "    <tr>\n",
       "      <th>unit 10</th>\n",
       "      <td>-0.225225</td>\n",
       "      <td>-0.145421</td>\n",
       "      <td>-0.133121</td>\n",
       "      <td>0.659437</td>\n",
       "      <td>-0.405561</td>\n",
       "      <td>0.560544</td>\n",
       "      <td>-0.709347</td>\n",
       "      <td>-0.281558</td>\n",
       "      <td>0.334449</td>\n",
       "      <td>0.198543</td>\n",
       "    </tr>\n",
       "    <tr>\n",
       "      <th>unit 11</th>\n",
       "      <td>-0.157595</td>\n",
       "      <td>-0.474995</td>\n",
       "      <td>-0.066577</td>\n",
       "      <td>-0.336796</td>\n",
       "      <td>-0.458826</td>\n",
       "      <td>0.402258</td>\n",
       "      <td>0.348064</td>\n",
       "      <td>-0.319804</td>\n",
       "      <td>-0.553020</td>\n",
       "      <td>0.515245</td>\n",
       "    </tr>\n",
       "    <tr>\n",
       "      <th>unit 12</th>\n",
       "      <td>-0.387785</td>\n",
       "      <td>-0.549273</td>\n",
       "      <td>-0.294135</td>\n",
       "      <td>0.320618</td>\n",
       "      <td>0.828710</td>\n",
       "      <td>-0.467185</td>\n",
       "      <td>0.660628</td>\n",
       "      <td>0.135648</td>\n",
       "      <td>0.337123</td>\n",
       "      <td>0.507754</td>\n",
       "    </tr>\n",
       "    <tr>\n",
       "      <th>unit 13</th>\n",
       "      <td>1.137719</td>\n",
       "      <td>-0.162296</td>\n",
       "      <td>-0.318477</td>\n",
       "      <td>-0.490257</td>\n",
       "      <td>0.204515</td>\n",
       "      <td>0.195117</td>\n",
       "      <td>0.049981</td>\n",
       "      <td>-0.035659</td>\n",
       "      <td>-0.246372</td>\n",
       "      <td>-0.245817</td>\n",
       "    </tr>\n",
       "    <tr>\n",
       "      <th>unit 14</th>\n",
       "      <td>0.446285</td>\n",
       "      <td>-0.388175</td>\n",
       "      <td>-0.016687</td>\n",
       "      <td>0.281517</td>\n",
       "      <td>-0.617427</td>\n",
       "      <td>-0.135260</td>\n",
       "      <td>-0.159114</td>\n",
       "      <td>0.489121</td>\n",
       "      <td>0.462719</td>\n",
       "      <td>0.907313</td>\n",
       "    </tr>\n",
       "    <tr>\n",
       "      <th>unit 15</th>\n",
       "      <td>-0.563077</td>\n",
       "      <td>-0.508521</td>\n",
       "      <td>0.013133</td>\n",
       "      <td>-0.545976</td>\n",
       "      <td>0.259754</td>\n",
       "      <td>-0.159563</td>\n",
       "      <td>-0.670866</td>\n",
       "      <td>-0.442755</td>\n",
       "      <td>0.518105</td>\n",
       "      <td>0.432923</td>\n",
       "    </tr>\n",
       "    <tr>\n",
       "      <th>unit 16</th>\n",
       "      <td>-0.142886</td>\n",
       "      <td>0.456765</td>\n",
       "      <td>0.433726</td>\n",
       "      <td>0.445826</td>\n",
       "      <td>-0.213744</td>\n",
       "      <td>-0.774399</td>\n",
       "      <td>-0.364729</td>\n",
       "      <td>0.656429</td>\n",
       "      <td>-0.009295</td>\n",
       "      <td>-0.431135</td>\n",
       "    </tr>\n",
       "  </tbody>\n",
       "</table>\n",
       "</div>"
      ],
      "text/plain": [
       "          digit 0   digit 1   digit 2   digit 3   digit 4   digit 5   digit 6  \\\n",
       "unit 1  -0.151154  0.284383  0.172240  0.446757 -0.713837 -0.183502  0.480000   \n",
       "unit 2  -0.533486 -0.624569  0.205263 -0.056235 -0.039790 -0.083849 -0.584665   \n",
       "unit 3   0.073382  0.799233 -0.129844 -0.049881  0.641498  0.478644 -0.723321   \n",
       "unit 4  -0.272541  0.319896 -0.086140  0.961810  0.315077  1.009274 -0.286930   \n",
       "unit 5  -0.391177  0.912025 -0.416022 -0.429280 -0.021465 -0.192731  0.417162   \n",
       "unit 6  -0.133980 -0.484260  0.186193  0.347374 -0.065938 -0.113913 -0.330738   \n",
       "unit 7  -0.162729 -0.269187 -0.383834 -0.803973 -0.550541  0.650970  0.613403   \n",
       "unit 8  -0.093046  0.015065  1.257029 -0.055928 -0.113261  0.205466  0.349967   \n",
       "unit 9   0.058085 -0.596844  0.651317 -0.048199  0.510600 -0.239703  0.634887   \n",
       "unit 10 -0.225225 -0.145421 -0.133121  0.659437 -0.405561  0.560544 -0.709347   \n",
       "unit 11 -0.157595 -0.474995 -0.066577 -0.336796 -0.458826  0.402258  0.348064   \n",
       "unit 12 -0.387785 -0.549273 -0.294135  0.320618  0.828710 -0.467185  0.660628   \n",
       "unit 13  1.137719 -0.162296 -0.318477 -0.490257  0.204515  0.195117  0.049981   \n",
       "unit 14  0.446285 -0.388175 -0.016687  0.281517 -0.617427 -0.135260 -0.159114   \n",
       "unit 15 -0.563077 -0.508521  0.013133 -0.545976  0.259754 -0.159563 -0.670866   \n",
       "unit 16 -0.142886  0.456765  0.433726  0.445826 -0.213744 -0.774399 -0.364729   \n",
       "\n",
       "          digit 7   digit 8   digit 9  \n",
       "unit 1   0.116505  0.348728 -0.560343  \n",
       "unit 2   1.024174 -0.344761 -0.045943  \n",
       "unit 3  -0.508682 -0.525338  0.611302  \n",
       "unit 4  -0.434322 -0.607752  0.439435  \n",
       "unit 5   0.325653  0.743411  0.002196  \n",
       "unit 6  -0.504146  0.871023 -0.370285  \n",
       "unit 7  -0.133621  0.655968 -0.386253  \n",
       "unit 8  -0.395460 -0.334838 -0.443182  \n",
       "unit 9  -0.066740 -0.398665 -0.893872  \n",
       "unit 10 -0.281558  0.334449  0.198543  \n",
       "unit 11 -0.319804 -0.553020  0.515245  \n",
       "unit 12  0.135648  0.337123  0.507754  \n",
       "unit 13 -0.035659 -0.246372 -0.245817  \n",
       "unit 14  0.489121  0.462719  0.907313  \n",
       "unit 15 -0.442755  0.518105  0.432923  \n",
       "unit 16  0.656429 -0.009295 -0.431135  "
      ]
     },
     "execution_count": 18,
     "metadata": {},
     "output_type": "execute_result"
    }
   ],
   "source": [
    "import pandas as pd\n",
    "\n",
    "# Output layer weights\n",
    "pd.DataFrame(\n",
    "    weights_output,\n",
    "    index=['unit {}'.format(i+1) for i in range(16)],\n",
    "    columns=['digit {}'.format(i) for i in range(10)],\n",
    ")"
   ]
  },
  {
   "cell_type": "markdown",
   "id": "5ae5c46e",
   "metadata": {},
   "source": [
    "This weights matrix tells us how each output neuron computes its activation. For instance, we can see that the 4th hidden unit is used by the output neurons for digits 3, 5 and 9 which makes sense since they all have the rounded curve at the bottom of the image learned by this hidden unit."
   ]
  },
  {
   "cell_type": "markdown",
   "id": "49a61992",
   "metadata": {},
   "source": [
    "### Summary\n",
    "\n",
    "In this unit, we saw the idea behind multilayer networks such as hidden layers and activation functions, and saw how to implement one using TensorFlow. In practice, it's common to build 2- or 3-layer networks with this architecture of dense or fully-connected layers neurons. **These networks are very powerful but can easily overfit the training data**. In the next unit, we will learn about **dropout** which is a very efficient way to reduce overfitting in neural networks.\n",
    "\n",
    "### Q&A\n",
    "\n",
    "\n",
    "**Why simple activation functions as ReLU improve network learning?\n",
    "Could you please explain why such simple activation function a ReLU is useful for the network training? When do we need to apply them and how to choose one?**\n",
    "\n",
    "> The activation functions in the hidden layers, such as Sigmoid and ReLU, introduce non-linearity in the model. Hence, they help to solve non-linear problems and extract non-linear features (e.g. classification with non-linear separation between the classes). If we just concatenate the hidden layers in a neural network without activation functions, the overall model will be mathematically equivalent to a single-layer linear model. This is because \n",
    "w\n",
    "l\n",
    "(\n",
    "w\n",
    "l\n",
    "−\n",
    "1\n",
    "x\n",
    "+\n",
    "b\n",
    "l\n",
    "−\n",
    "1\n",
    ")\n",
    "+\n",
    "b\n",
    "l\n",
    " will be equivalent to a single layer linear operation.\n",
    "\n",
    "> Indeed, it is surprising that a simple function like Sigmoid or ReLU is enough. There is some theory behind this in case you are interested. In fact, any activation function that looks like a smooth step-function is useful to introduce non-linearity and learn a complicated linear model. This is what is called the Universal Approximation Theorem in deep learning. A simple visualization of this theorem is available here.\n",
    "\n",
    "> You should always use activation functions for hidden layers in the neural network, otherwise your network will be the same as a simple linear model (linear regression or logistic regression). Whether to choose Sigmoid, ReLU, Tanh (tangent hyperbolic), or any other function for the activation of the hidden layers depends on the data and specific setup. The type of the activation function is one of the hyperparameters that you can tune. A common choice based on previous experimentation is the ReLU function. It was proven that ReLU is numerically more stable than Sigmoid with very deep neural networks. This is because ReLU suffers less from the Vanishing Gradient Problem, as it is saturated from the left-side only. You can stick with ReLU for the hidden layers. However, note that the activation function at the output layer depends on the task and you don't have much freedom there. If the task is a binary classification, then the output activation is Sigmoid. If it is a multi-class classification, the output activation is Softmax.\n",
    "\n",
    "> PS: The theoretical explanation of the Universal Approximation Theorem and Vanishing Gradient Problem is beyond the scope of this course. This is just to give you exposure if you are interested.\n",
    "\n",
    "\n",
    "\n",
    "**The exercise suggests that we should test different architectures and hyper parameters. However, when I try to create a placeholder for the number of neurones in the hidden layer, and pass it as a such to the tf.layers.dense(), the same way we do with X, I get an error.\n",
    "Is there a more efficient way to look for the optimal number of hidden neurones rather than re-writing the entire graph, and changing the names of variables?**\n",
    "\n",
    "> That is correct, with the current TensorFlow implementation you can not pass a placeholder to the units in tf.layers.dense() as we did for the learning rate. This is because it alters the whole graph. For that, you need to create a graph each time in the grid search loop. Here is a pseudo-code:\n",
    "\n",
    "for parameter in grid: # ----> loop over the hyperparameters\n",
    "\n",
    "    # Create new graph\n",
    "    tf.reset_default_graph()\n",
    "    graph = tf.Graph()\n",
    "    with graph.as_default():\n",
    "       ...... # ----> Define all layers\n",
    "       hidden = tf.layers.dense(X, units=parameter) # ----> set the hyerparameter\n",
    "       ......\n",
    "\n",
    "    # Start a session\n",
    "    with tf.Session(graph=graph) as sess:\n",
    "       ....\n",
    "> You will see later with the high-level Keras API, such tuning becomes easier because you will not need to define a graph and then run a session separately.\n"
   ]
  },
  {
   "cell_type": "markdown",
   "id": "65bc8c1a",
   "metadata": {},
   "source": [
    "### Exercise 4-8-1 and 4-8-2"
   ]
  },
  {
   "cell_type": "code",
   "execution_count": null,
   "id": "43dae0c6",
   "metadata": {},
   "outputs": [],
   "source": []
  }
 ],
 "metadata": {
  "kernelspec": {
   "display_name": "Python 3",
   "language": "python",
   "name": "python3"
  },
  "language_info": {
   "codemirror_mode": {
    "name": "ipython",
    "version": 3
   },
   "file_extension": ".py",
   "mimetype": "text/x-python",
   "name": "python",
   "nbconvert_exporter": "python",
   "pygments_lexer": "ipython3",
   "version": "3.6.13"
  }
 },
 "nbformat": 4,
 "nbformat_minor": 5
}
