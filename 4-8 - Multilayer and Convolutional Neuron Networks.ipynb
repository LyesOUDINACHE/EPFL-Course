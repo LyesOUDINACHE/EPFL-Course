{
 "cells": [
  {
   "cell_type": "markdown",
   "id": "8c9e49a2",
   "metadata": {},
   "source": [
    "# Multilayer networks"
   ]
  },
  {
   "cell_type": "markdown",
   "id": "e58b6141",
   "metadata": {},
   "source": [
    "In the last subject, we learned about neural networks and saw the basic TensorFlow tools to build them. So far, we created networks with a single layer of neurons which are equivalent to linear, logistic or softmax regressions. In this unit, we will see that we can build more powerful models by simply adding layers of neurons with nonlinear activation functions. In the second part of this unit, we will implement a 2-layer neural network using TensorFlow to classify images from the MNIST data set.\n",
    "\n",
    "The idea behind multilayer networks is to add layers of neurons between the input and the output layer. Here is an illustration of a simple multilayer network with three input neurons, two hidden layers with respectively two and three hidden units, and an output layer with two neurons."
   ]
  },
  {
   "cell_type": "code",
   "execution_count": null,
   "id": "ff39eb50",
   "metadata": {},
   "outputs": [],
   "source": [
    "import os\n",
    "os.environ[\"CUDA_VISIBLE_DEVICES\"]=\"-1\"    ### force CPU on tensorflow"
   ]
  },
  {
   "cell_type": "code",
   "execution_count": null,
   "id": "cdec0ee8",
   "metadata": {},
   "outputs": [],
   "source": [
    "from IPython.display import Image\n",
    "Image(url='https://d7whxh71cqykp.cloudfront.net/uploads/image/data/2752/multilayer.svg')"
   ]
  },
  {
   "cell_type": "markdown",
   "id": "3d722619",
   "metadata": {},
   "source": [
    "The goal of these hidden layers is to convert the input into a set of useful features which are then combined in the output layer to compute predictions. In other words, multilayer networks do not only learn to combine features but also learn these features by themselves. The idea is that each intermediate layer combines its inputs into a set of higher-level features that are then used in the next layer and so on. To achieve this, networks use **activation functions** which are simply functions that each neuron applies to its output.\n",
    "\n",
    "### Activation functions\n",
    "\n",
    "We saw in the last subject that each neuron computes its output by multiplying the signal sent by its input neurons with its synaptic weights and by adding the neuron bias. In the multilayer neural network case, we can express the output $ x_{j}^{\\left(l\\right)}$ of the j-th neuron of layer \n",
    "l\n",
    " with the following expression.\n",
    " \n",
    "$$\n",
    "x_{j}^{\\left(l\\right)}=\\sum_{i}w_{i,j}^{\\left(l\\right)}x_{i}^{\\left(l-1\\right)}+b_{j}^{\\left(l\\right)}\n",
    "$$\n",
    "\n",
    "In this formula, we multiply the signal from each neuron from the previous layer \n",
    "x\n",
    "(\n",
    "l\n",
    "−\n",
    "1\n",
    ")\n",
    "i\n",
    " with the corresponding synaptic weight \n",
    "w\n",
    "(\n",
    "l\n",
    ")\n",
    "i\n",
    ",\n",
    "j\n",
    " and add the neuron bias \n",
    "b\n",
    "(\n",
    "l\n",
    ")\n",
    "j\n",
    ". In multilayer networks, we apply an activation function \n",
    "ϕ\n",
    " to the output of each neuron.\n",
    " \n",
    " $$ x_{j}^{\\left(l\\right)}=\\phi\\left(\\sum_{i}w_{i,j}^{\\left(l\\right)}x_{i}^{\\left(l-1\\right)}+b_{j}^{\\left(l\\right)}\\right)$$\n",
    " \n",
    "Activation functions and hidden layers are really at the heart of neural networks. In fact, it's possible to show that a network with a single hidden layer can approximate any continuous function. This is called **the universal approximation theorem**. If you want to learn more about it, we highly recommend reading chapter 4 of the Neural Networks and Deep Learning (NNDL) book which gives a visual explanation of the theorem. http://neuralnetworksanddeeplearning.com/chap4.html\n",
    "\n",
    "### Sigmoid and ReLU activation\n",
    "\n",
    "There are many possible activation functions. For instance, we can use the sigmoid function that we saw in the unit about logistic regressions.\n",
    "\n",
    "$$ f\\left(x\\right)=\\frac{1}{1+e^{-x}}$$\n",
    "\n",
    "Here is a plot of the function for an input between -6 and +6."
   ]
  },
  {
   "cell_type": "code",
   "execution_count": null,
   "id": "82c4e2f9",
   "metadata": {},
   "outputs": [],
   "source": [
    "Image(url='https://d7whxh71cqykp.cloudfront.net/uploads/image/data/2751/sigmoid.svg')"
   ]
  },
  {
   "cell_type": "markdown",
   "id": "b4e6a2fa",
   "metadata": {},
   "source": [
    "**One issue with the sigmoid function is that its derivative is close to zero (the curve is flat) when the input is very large or very small. Hence, the gradient update will be very small when updating the weights with gradient descent and the learning process becomes slow**. This is called the **vanishing gradient problem.**\n",
    "\n",
    "Another popular activation function is the **Rectified Linear Unit (ReLU).**\n",
    "$$ f\\left(x\\right)=\\max\\left(0,x\\right)$$\n",
    "The function is zero when \n",
    "x\n",
    " is negative and equal to \n",
    "x\n",
    " when it's positive."
   ]
  },
  {
   "cell_type": "code",
   "execution_count": null,
   "id": "3cd295bf",
   "metadata": {},
   "outputs": [],
   "source": [
    "Image(url='https://d7whxh71cqykp.cloudfront.net/uploads/image/data/2750/relu.svg')"
   ]
  },
  {
   "cell_type": "markdown",
   "id": "fe6d37af",
   "metadata": {},
   "source": [
    "One of the advantages of the ReLU activation function is that it's easy to implement and it seems to accelerate the learning process compared to the sigmoid one. You can take a look at this page if you want to learn more about activation functions. http://cs231n.github.io/neural-networks-1/#actfun\n",
    "\n",
    "### Backpropagation\n",
    "\n",
    "In the last course, we learned about the **gradient descent method** which updates the model parameters by computing the partial derivate of the loss function with respect to each parameter. In neural networks, **we use the same idea to update the weights and biases** of each neuron in our network. In practice, **deep networks have a lot of parameters and it would be very inefficient to compute the partial derivative of each weight individually.** **However, there is a technique called backpropagation** which can solve this issue. To avoid doing redundant computations, the backpropagation algorithm computes the error at the ouput neurons and propagates this information back through the network to compute the partial derivates layer after layer."
   ]
  },
  {
   "cell_type": "code",
   "execution_count": null,
   "id": "541b643f",
   "metadata": {},
   "outputs": [],
   "source": [
    "Image(url='https://d7whxh71cqykp.cloudfront.net/uploads/image/data/2749/backward-prop.svg')"
   ]
  },
  {
   "cell_type": "markdown",
   "id": "ba1168b4",
   "metadata": {},
   "source": [
    "Backpropagation is usually performed internally by the deep learning framework. For instance, when using **the GradientDescentOptimizer object, TensorFlow will automatically compute the gradients in an efficient way using the backpropagation algorithm**. If you want to learn more about the mathematics behind backpropagation, you can take a look at chapter 2 of the NNDL book. http://neuralnetworksanddeeplearning.com/chap2.html\n",
    "\n",
    "### Weights initialization\n",
    "\n",
    "So far, we initialized the synaptic weights of each neuron to zero. This sounds reasonable if we standardized the data since we expect some weights to be positive, some to be negative, but in average, centered around zero. **In multilayer networks, initializing the weights to a constant value (e.g., zero or one) is a bad idea because it makes all hidden units of a layer compute the exact same output**. In that case, gradient descent will compute the same gradient updates and we will end up with copies of the hidden units with the same weight values.\n",
    "\n",
    "One solution is to use a normal distribution to **sample small random numbers.** That way, each hidden neuron will start with different weights and will occupy a different role in our network. In practice, we often use the truncated normal distribution which drops values whose magnitude is more than 2 standard deviations away from the mean. For instance, here is the truncated normal distribution with a standard deviation of 0.01"
   ]
  },
  {
   "cell_type": "code",
   "execution_count": null,
   "id": "045e57cc",
   "metadata": {},
   "outputs": [],
   "source": [
    "Image(url='https://d7whxh71cqykp.cloudfront.net/uploads/image/data/2748/truncated-normal.svg')"
   ]
  },
  {
   "cell_type": "markdown",
   "id": "d9788798",
   "metadata": {},
   "source": [
    "Ideally, we want to calibrate this standard deviation such that each neuron computes an output in a reasonable range for its activation function. When there are no activation function (e.g., in the output layer), it's recommended to set the standard deviation to the inverse of the square root of the number of input neurons \n",
    "n\n",
    ". $$ \\text{std}=\\frac{1}{\\sqrt{n}} $$\n",
    "\n",
    "For layers with ReLU activations, the formula is a bit different.\n",
    "\n",
    "$$ \\text{std}=\\sqrt{\\frac{2}{n}} $$\n",
    "\n",
    "We won't go into the derivation of these two formulas, but you can take a look at this page if you want to learn more about it. http://cs231n.github.io/neural-networks-2/#init\n",
    "\n",
    "\n",
    "### TensorFlow implementation\n",
    "---------\n",
    "\n",
    "Now that we know the basic idea behind multilayer neural networks, let's go through a concrete example. In this second part, we will implement a 2-layer neural network with 16 hidden units in the hidden layer to classify images from the MNIST data set.\n",
    "\n",
    "Let's start by creating the TensorFlow graph."
   ]
  },
  {
   "cell_type": "code",
   "execution_count": 7,
   "id": "1f99b842",
   "metadata": {},
   "outputs": [
    {
     "name": "stderr",
     "output_type": "stream",
     "text": [
      "C:\\Users\\lyeso\\anaconda3\\envs\\exts-ml\\lib\\site-packages\\h5py\\__init__.py:36: FutureWarning: Conversion of the second argument of issubdtype from `float` to `np.floating` is deprecated. In future, it will be treated as `np.float64 == np.dtype(float).type`.\n",
      "  from ._conv import register_converters as _register_converters\n"
     ]
    }
   ],
   "source": [
    "import tensorflow as tf\n",
    "\n",
    "# Create a new graph\n",
    "graph = tf.Graph()\n",
    "\n",
    "with graph.as_default():\n",
    "    # Create placeholders\n",
    "    X = tf.placeholder(dtype=tf.float32, shape=[None, 784])\n",
    "    y = tf.placeholder(dtype=tf.int32, shape=[None])\n",
    "\n",
    "    # Hidden layer with 16 units\n",
    "    W1 = tf.Variable(initial_value=tf.truncated_normal(\n",
    "        shape=[784, 16], # Shape\n",
    "        stddev=(2/784)**0.5, # Calibrating variance\n",
    "        seed=0\n",
    "    ))\n",
    "    b1 = tf.Variable(initial_value=tf.zeros(shape=[16]))\n",
    "\n",
    "    # Output layer\n",
    "    W2 = tf.Variable(initial_value=tf.truncated_normal(\n",
    "        shape=[16, 10], # Shape\n",
    "        stddev=1/16**0.5, # Calibrating variance\n",
    "        seed=0\n",
    "    ))\n",
    "    b2 = tf.Variable(initial_value=tf.zeros(shape=[10]))\n",
    "\n",
    "    # Compute logits\n",
    "    hidden = tf.nn.relu( # ReLU\n",
    "        tf.add(tf.matmul(X, W1), b1))\n",
    "    logits = tf.add(tf.matmul(hidden, W2), b2)"
   ]
  },
  {
   "cell_type": "markdown",
   "id": "ebd0ed86",
   "metadata": {},
   "source": [
    "In this code, we create a matrix of weights and vector of biases for each layer. The input layer has 784 input neurons which correspond to the pixels in the 28 by 28 grayscale images from the MNIST database. This input layer is connected to an intermediate hidden layer with 16 units. Hence, the shape of the weight matrix of the hidden layer is \n",
    "(\n",
    "784\n",
    ",\n",
    "16\n",
    ")\n",
    " and it bias vector has 16 elements. We create a second weight matrix to connect the hidden and output layers. Since there are ten output units, its shape is \n",
    "(\n",
    "16\n",
    ",\n",
    "10\n",
    ")\n",
    ".\n",
    "\n",
    "Finally, we compute the output of the hidden layer by multiplying the input and the weight matrices, add the bias and apply the ReLU activation function with the relu() function. Then, we compute the output of the network using this hidden tensor.\n",
    "\n",
    "Note that we initialize the weights using the truncated_normal() function and calibrate the standard deviation using the formulas from above. For the output layer, we use the first formula since it has no activation function, but use the second one for the hidden layer since it uses the ReLU activation.\n",
    "\n",
    "It's not really convenient to work with the code from above because the number of hidden units is repeated at different places.\n",
    "\n",
    "- The shape of W1\n",
    "- The shape of b1\n",
    "- The shape of W2\n",
    "- The standard deviation of W2\n",
    "\n",
    "\n",
    "**To solve this issue, we can use the dense() function from the layers module and the TensorFlow initializers.**"
   ]
  },
  {
   "cell_type": "code",
   "execution_count": 8,
   "id": "4bce38e9",
   "metadata": {},
   "outputs": [],
   "source": [
    "# Redefine the graph\n",
    "graph = tf.Graph()\n",
    "\n",
    "with graph.as_default():\n",
    "    # Create placeholders\n",
    "    X = tf.placeholder(dtype=tf.float32, shape=[None, 784])\n",
    "    y = tf.placeholder(dtype=tf.int32, shape=[None])\n",
    "\n",
    "    # Hidden layer with 16 units\n",
    "    hidden = tf.layers.dense(\n",
    "        X, 16, activation=tf.nn.relu, # ReLU\n",
    "        kernel_initializer=tf.variance_scaling_initializer(scale=2, seed=0),\n",
    "        bias_initializer=tf.zeros_initializer(),\n",
    "        name='hidden'\n",
    "    )\n",
    "\n",
    "    # Output layer\n",
    "    logits = tf.layers.dense(\n",
    "        hidden, 10, activation=None, # No activation function\n",
    "        kernel_initializer=tf.variance_scaling_initializer(scale=1, seed=0),\n",
    "        bias_initializer=tf.zeros_initializer(),\n",
    "        name='output'\n",
    "    )"
   ]
  },
  {
   "cell_type": "markdown",
   "id": "20a57bfb",
   "metadata": {},
   "source": [
    "This time, we only have to write once the number of units in each layer which is more convenient if we want to experiment with it, e.g., try different sizes for the hidden layer. We define each fully-connected layer with the dense() function which takes the input data, the number of output units, the activation function and the weights and bias initializers. We use the zeros_initializer() to initialize the biases to zero and the variance_scaling_initializer() to initialize the weights using the formulas from above. Note that we assign names to each layer. These names will make it easier to access the different layers and their elements.\n",
    "\n",
    "The dense() function creates the weights and biases variables with the appropriate shape and initialize them using the specified initializers. **We can inspect the variables from the graph using the trainable_variables() function.**"
   ]
  },
  {
   "cell_type": "code",
   "execution_count": 9,
   "id": "254a5f74",
   "metadata": {},
   "outputs": [
    {
     "name": "stdout",
     "output_type": "stream",
     "text": [
      "<tf.Variable 'hidden/kernel:0' shape=(784, 16) dtype=float32_ref>\n",
      "<tf.Variable 'hidden/bias:0' shape=(16,) dtype=float32_ref>\n",
      "<tf.Variable 'output/kernel:0' shape=(16, 10) dtype=float32_ref>\n",
      "<tf.Variable 'output/bias:0' shape=(10,) dtype=float32_ref>\n"
     ]
    }
   ],
   "source": [
    "with graph.as_default():\n",
    "    # Get variables in the graph\n",
    "    for v in tf.trainable_variables():\n",
    "        print(v)\n"
   ]
  },
  {
   "cell_type": "markdown",
   "id": "3f2d5be2",
   "metadata": {},
   "source": [
    "Note that it's possible to retrieve these variables using the variable_scope() and the get_variable() function."
   ]
  },
  {
   "cell_type": "code",
   "execution_count": 10,
   "id": "c1626b59",
   "metadata": {},
   "outputs": [],
   "source": [
    "with graph.as_default():\n",
    "    # Get weights/biases of the hidden layer\n",
    "    with tf.variable_scope('hidden', reuse=True):\n",
    "        W1 = tf.get_variable('kernel')\n",
    "        b1 = tf.get_variable('bias')\n",
    "\n",
    "    # Get weights/biases of the output layer\n",
    "    with tf.variable_scope('output', reuse=True):\n",
    "        W2 = tf.get_variable('kernel')\n",
    "        b2 = tf.get_variable('bias')"
   ]
  },
  {
   "cell_type": "markdown",
   "id": "cb0e0a8a",
   "metadata": {},
   "source": [
    "### Loss function and training operation\n",
    "\n",
    "Now that the different layers of our neural network are specified, we can move on and define the loss function and training operations using the code from the previous units.\n"
   ]
  },
  {
   "cell_type": "code",
   "execution_count": 11,
   "id": "43055a9d",
   "metadata": {},
   "outputs": [],
   "source": [
    "with graph.as_default():\n",
    "    # Loss fuction: mean cross-entropy\n",
    "    mean_ce = tf.reduce_mean(\n",
    "        tf.nn.sparse_softmax_cross_entropy_with_logits(\n",
    "            labels=y, logits=logits))\n",
    "\n",
    "    # Gradient descent\n",
    "    lr = tf.placeholder(dtype=tf.float32)\n",
    "    gd = tf.train.GradientDescentOptimizer(learning_rate=lr)\n",
    "\n",
    "    # Minimize cross-entropy\n",
    "    train_op = gd.minimize(mean_ce)\n",
    "\n",
    "    # Compute predictions and accuracy\n",
    "    predictions = tf.argmax(logits, axis=1, output_type=tf.int32)\n",
    "    is_correct = tf.equal(y, predictions)\n",
    "    accuracy = tf.reduce_mean(tf.cast(is_correct, dtype=tf.float32))"
   ]
  },
  {
   "cell_type": "markdown",
   "id": "115ee591",
   "metadata": {},
   "source": [
    "### Train network\n",
    "\n",
    "Let's train the network. First, we have to load the MNIST images, split them into train and validation sets and standardize the features using a StandardScaler transformer from Scikit-learn. The network is a bit larger this time since it has an additional hidden layer with 16 units. For this reason, we will train it using a slightly larger data set with 20 thousand images. You can download it from the resource section."
   ]
  },
  {
   "cell_type": "code",
   "execution_count": 12,
   "id": "9233eef2",
   "metadata": {},
   "outputs": [],
   "source": [
    "from sklearn.model_selection import train_test_split\n",
    "from sklearn.preprocessing import StandardScaler\n",
    "import numpy as np\n",
    "\n",
    "# Load data\n",
    "with np.load('mnist-20k.npz', allow_pickle=False) as npz_file:\n",
    "    # Load items into a dictionary\n",
    "    mnist = dict(npz_file.items())\n",
    "\n",
    "# Create train and validation sets\n",
    "X_train, X_valid, y_train, y_valid = train_test_split(\n",
    "    # Convert uint8 pixel values to float\n",
    "    mnist['data'].astype(np.float32),\n",
    "    mnist['labels'],\n",
    "    test_size=500, random_state=0)\n",
    "\n",
    "# Rescale train and validation data\n",
    "scaler = StandardScaler()\n",
    "X_train_rescaled = scaler.fit_transform(X_train)\n",
    "X_valid_rescaled = scaler.transform(X_valid)"
   ]
  },
  {
   "cell_type": "code",
   "execution_count": 13,
   "id": "2ab74f09",
   "metadata": {},
   "outputs": [
    {
     "data": {
      "text/plain": [
       "{'data': array([[0, 0, 0, ..., 0, 0, 0],\n",
       "        [0, 0, 0, ..., 0, 0, 0],\n",
       "        [0, 0, 0, ..., 0, 0, 0],\n",
       "        ...,\n",
       "        [0, 0, 0, ..., 0, 0, 0],\n",
       "        [0, 0, 0, ..., 0, 0, 0],\n",
       "        [0, 0, 0, ..., 0, 0, 0]], dtype=uint8),\n",
       " 'labels': array([5, 0, 4, ..., 1, 4, 2])}"
      ]
     },
     "execution_count": 13,
     "metadata": {},
     "output_type": "execute_result"
    }
   ],
   "source": [
    "mnist"
   ]
  },
  {
   "cell_type": "markdown",
   "id": "290fa605",
   "metadata": {},
   "source": [
    "This time, we will train the network using the entire data set several times. In the machine learning jargon, **one pass of training through the entire training set is called an epoch**. In practice, we usually shuffle the data before each epoch to get better results. Let's modify our get_batches() function from the previous unit."
   ]
  },
  {
   "cell_type": "code",
   "execution_count": 14,
   "id": "2e791daf",
   "metadata": {},
   "outputs": [],
   "source": [
    "# Batch generator\n",
    "def get_batches(X, y, batch_size):\n",
    "    # Shuffle X,y\n",
    "    shuffled_idx = np.arange(len(y)) # 1,2,...,n\n",
    "    np.random.shuffle(shuffled_idx)\n",
    "\n",
    "    # Enumerate indexes by steps of batch_size\n",
    "    # i: 0, b, 2b, 3b, 4b, .. where b is the batch size\n",
    "    for i in range(0, len(y), batch_size):\n",
    "        # Batch indexes\n",
    "        batch_idx = shuffled_idx[i:i+batch_size]\n",
    "        yield X[batch_idx], y[batch_idx]"
   ]
  },
  {
   "cell_type": "markdown",
   "id": "8f5b1e2a",
   "metadata": {},
   "source": [
    "In this code, we create and shuffle a list of indexes and use it to iterate through our training data by small random batches.\n",
    "\n",
    "Finally, let's train our network during 50 epochs."
   ]
  },
  {
   "cell_type": "code",
   "execution_count": 15,
   "id": "b1cd6fe8",
   "metadata": {},
   "outputs": [
    {
     "name": "stdout",
     "output_type": "stream",
     "text": [
      "Epoch 1 - valid: 0.796 train: 0.631 (mean)\n",
      "Epoch 2 - valid: 0.888 train: 0.849 (mean)\n",
      "Epoch 3 - valid: 0.900 train: 0.881 (mean)\n",
      "Epoch 4 - valid: 0.916 train: 0.897 (mean)\n",
      "Epoch 5 - valid: 0.918 train: 0.906 (mean)\n",
      "Epoch 6 - valid: 0.922 train: 0.914 (mean)\n",
      "Epoch 7 - valid: 0.920 train: 0.919 (mean)\n",
      "Epoch 8 - valid: 0.922 train: 0.923 (mean)\n",
      "Epoch 9 - valid: 0.934 train: 0.926 (mean)\n",
      "Epoch 10 - valid: 0.932 train: 0.929 (mean)\n",
      "Epoch 11 - valid: 0.930 train: 0.932 (mean)\n",
      "Epoch 12 - valid: 0.938 train: 0.934 (mean)\n",
      "Epoch 13 - valid: 0.940 train: 0.936 (mean)\n",
      "Epoch 14 - valid: 0.942 train: 0.939 (mean)\n",
      "Epoch 15 - valid: 0.944 train: 0.941 (mean)\n",
      "Epoch 16 - valid: 0.942 train: 0.943 (mean)\n",
      "Epoch 17 - valid: 0.944 train: 0.944 (mean)\n",
      "Epoch 18 - valid: 0.944 train: 0.947 (mean)\n",
      "Epoch 19 - valid: 0.942 train: 0.947 (mean)\n",
      "Epoch 20 - valid: 0.944 train: 0.949 (mean)\n",
      "Epoch 21 - valid: 0.946 train: 0.950 (mean)\n",
      "Epoch 22 - valid: 0.948 train: 0.951 (mean)\n",
      "Epoch 23 - valid: 0.946 train: 0.952 (mean)\n",
      "Epoch 24 - valid: 0.948 train: 0.952 (mean)\n",
      "Epoch 25 - valid: 0.950 train: 0.953 (mean)\n",
      "Epoch 26 - valid: 0.948 train: 0.955 (mean)\n",
      "Epoch 27 - valid: 0.950 train: 0.956 (mean)\n",
      "Epoch 28 - valid: 0.948 train: 0.956 (mean)\n",
      "Epoch 29 - valid: 0.950 train: 0.957 (mean)\n",
      "Epoch 30 - valid: 0.948 train: 0.957 (mean)\n",
      "Epoch 31 - valid: 0.948 train: 0.959 (mean)\n",
      "Epoch 32 - valid: 0.948 train: 0.959 (mean)\n",
      "Epoch 33 - valid: 0.950 train: 0.960 (mean)\n",
      "Epoch 34 - valid: 0.948 train: 0.961 (mean)\n",
      "Epoch 35 - valid: 0.950 train: 0.961 (mean)\n",
      "Epoch 36 - valid: 0.952 train: 0.961 (mean)\n",
      "Epoch 37 - valid: 0.948 train: 0.962 (mean)\n",
      "Epoch 38 - valid: 0.950 train: 0.963 (mean)\n",
      "Epoch 39 - valid: 0.952 train: 0.963 (mean)\n",
      "Epoch 40 - valid: 0.946 train: 0.964 (mean)\n",
      "Epoch 41 - valid: 0.948 train: 0.964 (mean)\n",
      "Epoch 42 - valid: 0.948 train: 0.965 (mean)\n",
      "Epoch 43 - valid: 0.948 train: 0.966 (mean)\n",
      "Epoch 44 - valid: 0.950 train: 0.965 (mean)\n",
      "Epoch 45 - valid: 0.948 train: 0.966 (mean)\n",
      "Epoch 46 - valid: 0.948 train: 0.967 (mean)\n",
      "Epoch 47 - valid: 0.948 train: 0.968 (mean)\n",
      "Epoch 48 - valid: 0.946 train: 0.968 (mean)\n",
      "Epoch 49 - valid: 0.948 train: 0.969 (mean)\n",
      "Epoch 50 - valid: 0.952 train: 0.969 (mean)\n"
     ]
    }
   ],
   "source": [
    "# Validation accuracy\n",
    "valid_acc_values = []\n",
    "\n",
    "with tf.Session(graph=graph) as sess:\n",
    "    # Initialize variables\n",
    "    sess.run(tf.global_variables_initializer())\n",
    "\n",
    "    # Set seed\n",
    "    np.random.seed(0)\n",
    "\n",
    "    # Train several epochs\n",
    "    for epoch in range(50):\n",
    "        # Accuracy values (train) after each batch\n",
    "        batch_acc = []\n",
    "\n",
    "        # Get batches of data\n",
    "        for X_batch, y_batch in get_batches(X_train_rescaled, y_train, 64):\n",
    "            # Run training and evaluate accuracy\n",
    "            _, acc_value = sess.run([train_op, accuracy], feed_dict={\n",
    "                X: X_batch,\n",
    "                y: y_batch,\n",
    "                lr: 0.01 # Learning rate\n",
    "            })\n",
    "\n",
    "            # Save accuracy (current batch)\n",
    "            batch_acc.append(acc_value)\n",
    "\n",
    "        # Evaluate validation accuracy\n",
    "        valid_acc = sess.run(accuracy, feed_dict={\n",
    "            X: X_valid_rescaled,\n",
    "            y: y_valid\n",
    "        })\n",
    "        valid_acc_values.append(valid_acc)\n",
    "\n",
    "        # Print progress\n",
    "        print('Epoch {} - valid: {:.3f} train: {:.3f} (mean)'.format(\n",
    "            epoch+1, valid_acc, np.mean(batch_acc)\n",
    "        ))\n",
    "\n",
    "    # Weights of the hidden and output layers\n",
    "    weights_hidden = W1.eval()\n",
    "    weights_output = W2.eval()"
   ]
  },
  {
   "cell_type": "markdown",
   "id": "9999bfce",
   "metadata": {},
   "source": [
    "In this code, we save the accuracy on each batch of training data and compare its mean to the accuracy on the validation set. This is a way to monitor overfitting and decide when to stop the network, i.e., the number of epochs to run. Finally, we save the trained weights with eval().\n",
    "\n",
    "Let's plot the validation accuracy after each epoch."
   ]
  },
  {
   "cell_type": "code",
   "execution_count": 16,
   "id": "39c5fcf5",
   "metadata": {},
   "outputs": [
    {
     "data": {
      "image/png": "[encoded data removed]",
      "text/plain": [
       "<Figure size 432x288 with 1 Axes>"
      ]
     },
     "metadata": {
      "needs_background": "light"
     },
     "output_type": "display_data"
    }
   ],
   "source": [
    "%matplotlib inline\n",
    "import matplotlib.pyplot as plt\n",
    "\n",
    "# Plot accuracy values\n",
    "plt.plot(valid_acc_values)\n",
    "plt.title('Validation accuracy {:.3f} (mean last 3)'.format(\n",
    "    np.mean(valid_acc_values[-3:]) # last three values\n",
    "))\n",
    "plt.xlabel('epoch')\n",
    "plt.ylabel('accuracy')\n",
    "plt.show()"
   ]
  },
  {
   "cell_type": "markdown",
   "id": "8d71bac0",
   "metadata": {},
   "source": [
    "This time, we get an accuracy of 95% which is a lot better than our softmax network from the last subject with 85%.\n",
    "\n",
    "### Visualize weights\n",
    "\n",
    "Finally, let's visualize the weights of the 16 hidden units using the code from the previous unit.\n"
   ]
  },
  {
   "cell_type": "code",
   "execution_count": 17,
   "id": "b9c02d18",
   "metadata": {},
   "outputs": [
    {
     "data": {
      "image/png": "[encoded data removed]",
      "text/plain": [
       "<Figure size 576x576 with 16 Axes>"
      ]
     },
     "metadata": {
      "needs_background": "light"
     },
     "output_type": "display_data"
    }
   ],
   "source": [
    "# Create figure with 16 subplots\n",
    "fig, axes = plt.subplots(nrows=4, ncols=4, figsize=(8, 8))\n",
    "\n",
    "# Plot the weights of the 16 hidden units\n",
    "for i, axis in enumerate(axes.flatten()):\n",
    "    # Get weights of i-th hidden unit\n",
    "    weights = weights_hidden[:, i]\n",
    "\n",
    "    # Reshape into 28 by 28 array\n",
    "    weights = weights.reshape(28, 28)\n",
    "\n",
    "    # Plot weights\n",
    "    axis.set_title('unit {}'.format(i+1))\n",
    "    axis.imshow(weights, cmap=plt.cm.gray_r) # Grayscale\n",
    "    axis.get_xaxis().set_visible(False) # Disable x-axis\n",
    "    axis.get_yaxis().set_visible(False) # Disable y-axis\n",
    "\n",
    "plt.show()"
   ]
  },
  {
   "cell_type": "markdown",
   "id": "63666d20",
   "metadata": {},
   "source": [
    "As we can see, the hidden units detect specific shapes that are then combined in the output layer.\n",
    "\n",
    "Let's see how by printing the weights matrix from the output layer."
   ]
  },
  {
   "cell_type": "code",
   "execution_count": 18,
   "id": "764daadf",
   "metadata": {},
   "outputs": [
    {
     "data": {
      "text/html": [
       "<div>\n",
       "<style scoped>\n",
       "    .dataframe tbody tr th:only-of-type {\n",
       "        vertical-align: middle;\n",
       "    }\n",
       "\n",
       "    .dataframe tbody tr th {\n",
       "        vertical-align: top;\n",
       "    }\n",
       "\n",
       "    .dataframe thead th {\n",
       "        text-align: right;\n",
       "    }\n",
       "</style>\n",
       "<table border=\"1\" class=\"dataframe\">\n",
       "  <thead>\n",
       "    <tr style=\"text-align: right;\">\n",
       "      <th></th>\n",
       "      <th>digit 0</th>\n",
       "      <th>digit 1</th>\n",
       "      <th>digit 2</th>\n",
       "      <th>digit 3</th>\n",
       "      <th>digit 4</th>\n",
       "      <th>digit 5</th>\n",
       "      <th>digit 6</th>\n",
       "      <th>digit 7</th>\n",
       "      <th>digit 8</th>\n",
       "      <th>digit 9</th>\n",
       "    </tr>\n",
       "  </thead>\n",
       "  <tbody>\n",
       "    <tr>\n",
       "      <th>unit 1</th>\n",
       "      <td>-0.151154</td>\n",
       "      <td>0.284383</td>\n",
       "      <td>0.172240</td>\n",
       "      <td>0.446757</td>\n",
       "      <td>-0.713837</td>\n",
       "      <td>-0.183502</td>\n",
       "      <td>0.480000</td>\n",
       "      <td>0.116505</td>\n",
       "      <td>0.348728</td>\n",
       "      <td>-0.560343</td>\n",
       "    </tr>\n",
       "    <tr>\n",
       "      <th>unit 2</th>\n",
       "      <td>-0.533486</td>\n",
       "      <td>-0.624569</td>\n",
       "      <td>0.205263</td>\n",
       "      <td>-0.056235</td>\n",
       "      <td>-0.039790</td>\n",
       "      <td>-0.083849</td>\n",
       "      <td>-0.584665</td>\n",
       "      <td>1.024174</td>\n",
       "      <td>-0.344761</td>\n",
       "      <td>-0.045943</td>\n",
       "    </tr>\n",
       "    <tr>\n",
       "      <th>unit 3</th>\n",
       "      <td>0.073382</td>\n",
       "      <td>0.799233</td>\n",
       "      <td>-0.129844</td>\n",
       "      <td>-0.049881</td>\n",
       "      <td>0.641498</td>\n",
       "      <td>0.478644</td>\n",
       "      <td>-0.723321</td>\n",
       "      <td>-0.508682</td>\n",
       "      <td>-0.525338</td>\n",
       "      <td>0.611302</td>\n",
       "    </tr>\n",
       "    <tr>\n",
       "      <th>unit 4</th>\n",
       "      <td>-0.272541</td>\n",
       "      <td>0.319896</td>\n",
       "      <td>-0.086140</td>\n",
       "      <td>0.961810</td>\n",
       "      <td>0.315077</td>\n",
       "      <td>1.009274</td>\n",
       "      <td>-0.286930</td>\n",
       "      <td>-0.434322</td>\n",
       "      <td>-0.607752</td>\n",
       "      <td>0.439435</td>\n",
       "    </tr>\n",
       "    <tr>\n",
       "      <th>unit 5</th>\n",
       "      <td>-0.391177</td>\n",
       "      <td>0.912025</td>\n",
       "      <td>-0.416022</td>\n",
       "      <td>-0.429280</td>\n",
       "      <td>-0.021465</td>\n",
       "      <td>-0.192731</td>\n",
       "      <td>0.417162</td>\n",
       "      <td>0.325653</td>\n",
       "      <td>0.743411</td>\n",
       "      <td>0.002196</td>\n",
       "    </tr>\n",
       "    <tr>\n",
       "      <th>unit 6</th>\n",
       "      <td>-0.133980</td>\n",
       "      <td>-0.484260</td>\n",
       "      <td>0.186193</td>\n",
       "      <td>0.347374</td>\n",
       "      <td>-0.065938</td>\n",
       "      <td>-0.113913</td>\n",
       "      <td>-0.330738</td>\n",
       "      <td>-0.504146</td>\n",
       "      <td>0.871023</td>\n",
       "      <td>-0.370285</td>\n",
       "    </tr>\n",
       "    <tr>\n",
       "      <th>unit 7</th>\n",
       "      <td>-0.162729</td>\n",
       "      <td>-0.269187</td>\n",
       "      <td>-0.383834</td>\n",
       "      <td>-0.803973</td>\n",
       "      <td>-0.550541</td>\n",
       "      <td>0.650970</td>\n",
       "      <td>0.613403</td>\n",
       "      <td>-0.133621</td>\n",
       "      <td>0.655968</td>\n",
       "      <td>-0.386253</td>\n",
       "    </tr>\n",
       "    <tr>\n",
       "      <th>unit 8</th>\n",
       "      <td>-0.093046</td>\n",
       "      <td>0.015065</td>\n",
       "      <td>1.257029</td>\n",
       "      <td>-0.055928</td>\n",
       "      <td>-0.113261</td>\n",
       "      <td>0.205466</td>\n",
       "      <td>0.349967</td>\n",
       "      <td>-0.395460</td>\n",
       "      <td>-0.334838</td>\n",
       "      <td>-0.443182</td>\n",
       "    </tr>\n",
       "    <tr>\n",
       "      <th>unit 9</th>\n",
       "      <td>0.058085</td>\n",
       "      <td>-0.596844</td>\n",
       "      <td>0.651317</td>\n",
       "      <td>-0.048199</td>\n",
       "      <td>0.510600</td>\n",
       "      <td>-0.239703</td>\n",
       "      <td>0.634887</td>\n",
       "      <td>-0.066740</td>\n",
       "      <td>-0.398665</td>\n",
       "      <td>-0.893872</td>\n",
       "    </tr>\n",
       "    <tr>\n",
       "      <th>unit 10</th>\n",
       "      <td>-0.225225</td>\n",
       "      <td>-0.145421</td>\n",
       "      <td>-0.133121</td>\n",
       "      <td>0.659437</td>\n",
       "      <td>-0.405561</td>\n",
       "      <td>0.560544</td>\n",
       "      <td>-0.709347</td>\n",
       "      <td>-0.281558</td>\n",
       "      <td>0.334449</td>\n",
       "      <td>0.198543</td>\n",
       "    </tr>\n",
       "    <tr>\n",
       "      <th>unit 11</th>\n",
       "      <td>-0.157595</td>\n",
       "      <td>-0.474995</td>\n",
       "      <td>-0.066577</td>\n",
       "      <td>-0.336796</td>\n",
       "      <td>-0.458826</td>\n",
       "      <td>0.402258</td>\n",
       "      <td>0.348064</td>\n",
       "      <td>-0.319804</td>\n",
       "      <td>-0.553020</td>\n",
       "      <td>0.515245</td>\n",
       "    </tr>\n",
       "    <tr>\n",
       "      <th>unit 12</th>\n",
       "      <td>-0.387785</td>\n",
       "      <td>-0.549273</td>\n",
       "      <td>-0.294135</td>\n",
       "      <td>0.320618</td>\n",
       "      <td>0.828710</td>\n",
       "      <td>-0.467185</td>\n",
       "      <td>0.660628</td>\n",
       "      <td>0.135648</td>\n",
       "      <td>0.337123</td>\n",
       "      <td>0.507754</td>\n",
       "    </tr>\n",
       "    <tr>\n",
       "      <th>unit 13</th>\n",
       "      <td>1.137719</td>\n",
       "      <td>-0.162296</td>\n",
       "      <td>-0.318477</td>\n",
       "      <td>-0.490257</td>\n",
       "      <td>0.204515</td>\n",
       "      <td>0.195117</td>\n",
       "      <td>0.049981</td>\n",
       "      <td>-0.035659</td>\n",
       "      <td>-0.246372</td>\n",
       "      <td>-0.245817</td>\n",
       "    </tr>\n",
       "    <tr>\n",
       "      <th>unit 14</th>\n",
       "      <td>0.446285</td>\n",
       "      <td>-0.388175</td>\n",
       "      <td>-0.016687</td>\n",
       "      <td>0.281517</td>\n",
       "      <td>-0.617427</td>\n",
       "      <td>-0.135260</td>\n",
       "      <td>-0.159114</td>\n",
       "      <td>0.489121</td>\n",
       "      <td>0.462719</td>\n",
       "      <td>0.907313</td>\n",
       "    </tr>\n",
       "    <tr>\n",
       "      <th>unit 15</th>\n",
       "      <td>-0.563077</td>\n",
       "      <td>-0.508521</td>\n",
       "      <td>0.013133</td>\n",
       "      <td>-0.545976</td>\n",
       "      <td>0.259754</td>\n",
       "      <td>-0.159563</td>\n",
       "      <td>-0.670866</td>\n",
       "      <td>-0.442755</td>\n",
       "      <td>0.518105</td>\n",
       "      <td>0.432923</td>\n",
       "    </tr>\n",
       "    <tr>\n",
       "      <th>unit 16</th>\n",
       "      <td>-0.142886</td>\n",
       "      <td>0.456765</td>\n",
       "      <td>0.433726</td>\n",
       "      <td>0.445826</td>\n",
       "      <td>-0.213744</td>\n",
       "      <td>-0.774399</td>\n",
       "      <td>-0.364729</td>\n",
       "      <td>0.656429</td>\n",
       "      <td>-0.009295</td>\n",
       "      <td>-0.431135</td>\n",
       "    </tr>\n",
       "  </tbody>\n",
       "</table>\n",
       "</div>"
      ],
      "text/plain": [
       "          digit 0   digit 1   digit 2   digit 3   digit 4   digit 5   digit 6  \\\n",
       "unit 1  -0.151154  0.284383  0.172240  0.446757 -0.713837 -0.183502  0.480000   \n",
       "unit 2  -0.533486 -0.624569  0.205263 -0.056235 -0.039790 -0.083849 -0.584665   \n",
       "unit 3   0.073382  0.799233 -0.129844 -0.049881  0.641498  0.478644 -0.723321   \n",
       "unit 4  -0.272541  0.319896 -0.086140  0.961810  0.315077  1.009274 -0.286930   \n",
       "unit 5  -0.391177  0.912025 -0.416022 -0.429280 -0.021465 -0.192731  0.417162   \n",
       "unit 6  -0.133980 -0.484260  0.186193  0.347374 -0.065938 -0.113913 -0.330738   \n",
       "unit 7  -0.162729 -0.269187 -0.383834 -0.803973 -0.550541  0.650970  0.613403   \n",
       "unit 8  -0.093046  0.015065  1.257029 -0.055928 -0.113261  0.205466  0.349967   \n",
       "unit 9   0.058085 -0.596844  0.651317 -0.048199  0.510600 -0.239703  0.634887   \n",
       "unit 10 -0.225225 -0.145421 -0.133121  0.659437 -0.405561  0.560544 -0.709347   \n",
       "unit 11 -0.157595 -0.474995 -0.066577 -0.336796 -0.458826  0.402258  0.348064   \n",
       "unit 12 -0.387785 -0.549273 -0.294135  0.320618  0.828710 -0.467185  0.660628   \n",
       "unit 13  1.137719 -0.162296 -0.318477 -0.490257  0.204515  0.195117  0.049981   \n",
       "unit 14  0.446285 -0.388175 -0.016687  0.281517 -0.617427 -0.135260 -0.159114   \n",
       "unit 15 -0.563077 -0.508521  0.013133 -0.545976  0.259754 -0.159563 -0.670866   \n",
       "unit 16 -0.142886  0.456765  0.433726  0.445826 -0.213744 -0.774399 -0.364729   \n",
       "\n",
       "          digit 7   digit 8   digit 9  \n",
       "unit 1   0.116505  0.348728 -0.560343  \n",
       "unit 2   1.024174 -0.344761 -0.045943  \n",
       "unit 3  -0.508682 -0.525338  0.611302  \n",
       "unit 4  -0.434322 -0.607752  0.439435  \n",
       "unit 5   0.325653  0.743411  0.002196  \n",
       "unit 6  -0.504146  0.871023 -0.370285  \n",
       "unit 7  -0.133621  0.655968 -0.386253  \n",
       "unit 8  -0.395460 -0.334838 -0.443182  \n",
       "unit 9  -0.066740 -0.398665 -0.893872  \n",
       "unit 10 -0.281558  0.334449  0.198543  \n",
       "unit 11 -0.319804 -0.553020  0.515245  \n",
       "unit 12  0.135648  0.337123  0.507754  \n",
       "unit 13 -0.035659 -0.246372 -0.245817  \n",
       "unit 14  0.489121  0.462719  0.907313  \n",
       "unit 15 -0.442755  0.518105  0.432923  \n",
       "unit 16  0.656429 -0.009295 -0.431135  "
      ]
     },
     "execution_count": 18,
     "metadata": {},
     "output_type": "execute_result"
    }
   ],
   "source": [
    "import pandas as pd\n",
    "\n",
    "# Output layer weights\n",
    "pd.DataFrame(\n",
    "    weights_output,\n",
    "    index=['unit {}'.format(i+1) for i in range(16)],\n",
    "    columns=['digit {}'.format(i) for i in range(10)],\n",
    ")"
   ]
  },
  {
   "cell_type": "markdown",
   "id": "ca24da61",
   "metadata": {},
   "source": [
    "This weights matrix tells us how each output neuron computes its activation. For instance, we can see that the 4th hidden unit is used by the output neurons for digits 3, 5 and 9 which makes sense since they all have the rounded curve at the bottom of the image learned by this hidden unit."
   ]
  },
  {
   "cell_type": "markdown",
   "id": "8c78a459",
   "metadata": {},
   "source": [
    "### Summary\n",
    "\n",
    "In this unit, we saw the idea behind multilayer networks such as hidden layers and activation functions, and saw how to implement one using TensorFlow. In practice, it's common to build 2- or 3-layer networks with this architecture of dense or fully-connected layers neurons. **These networks are very powerful but can easily overfit the training data**. In the next unit, we will learn about **dropout** which is a very efficient way to reduce overfitting in neural networks.\n",
    "\n",
    "### Q&A\n",
    "\n",
    "\n",
    "**Why simple activation functions as ReLU improve network learning?\n",
    "Could you please explain why such simple activation function a ReLU is useful for the network training? When do we need to apply them and how to choose one?**\n",
    "\n",
    "> The activation functions in the hidden layers, such as Sigmoid and ReLU, introduce non-linearity in the model. Hence, they help to solve non-linear problems and extract non-linear features (e.g. classification with non-linear separation between the classes). If we just concatenate the hidden layers in a neural network without activation functions, the overall model will be mathematically equivalent to a single-layer linear model. This is because \n",
    "w\n",
    "l\n",
    "(\n",
    "w\n",
    "l\n",
    "−\n",
    "1\n",
    "x\n",
    "+\n",
    "b\n",
    "l\n",
    "−\n",
    "1\n",
    ")\n",
    "+\n",
    "b\n",
    "l\n",
    " will be equivalent to a single layer linear operation.\n",
    "\n",
    "> Indeed, it is surprising that a simple function like Sigmoid or ReLU is enough. There is some theory behind this in case you are interested. In fact, any activation function that looks like a smooth step-function is useful to introduce non-linearity and learn a complicated linear model. This is what is called the Universal Approximation Theorem in deep learning. A simple visualization of this theorem is available here.\n",
    "\n",
    "> You should always use activation functions for hidden layers in the neural network, otherwise your network will be the same as a simple linear model (linear regression or logistic regression). Whether to choose Sigmoid, ReLU, Tanh (tangent hyperbolic), or any other function for the activation of the hidden layers depends on the data and specific setup. The type of the activation function is one of the hyperparameters that you can tune. A common choice based on previous experimentation is the ReLU function. It was proven that ReLU is numerically more stable than Sigmoid with very deep neural networks. This is because ReLU suffers less from the Vanishing Gradient Problem, as it is saturated from the left-side only. You can stick with ReLU for the hidden layers. However, note that the activation function at the output layer depends on the task and you don't have much freedom there. If the task is a binary classification, then the output activation is Sigmoid. If it is a multi-class classification, the output activation is Softmax.\n",
    "\n",
    "> PS: The theoretical explanation of the Universal Approximation Theorem and Vanishing Gradient Problem is beyond the scope of this course. This is just to give you exposure if you are interested.\n",
    "\n",
    "\n",
    "\n",
    "**The exercise suggests that we should test different architectures and hyper parameters. However, when I try to create a placeholder for the number of neurones in the hidden layer, and pass it as a such to the tf.layers.dense(), the same way we do with X, I get an error.\n",
    "Is there a more efficient way to look for the optimal number of hidden neurones rather than re-writing the entire graph, and changing the names of variables?**\n",
    "\n",
    "> That is correct, with the current TensorFlow implementation you can not pass a placeholder to the units in tf.layers.dense() as we did for the learning rate. This is because it alters the whole graph. For that, you need to create a graph each time in the grid search loop. Here is a pseudo-code:\n",
    "\n",
    "for parameter in grid: # ----> loop over the hyperparameters\n",
    "\n",
    "    # Create new graph\n",
    "    tf.reset_default_graph()\n",
    "    graph = tf.Graph()\n",
    "    with graph.as_default():\n",
    "       ...... # ----> Define all layers\n",
    "       hidden = tf.layers.dense(X, units=parameter) # ----> set the hyerparameter\n",
    "       ......\n",
    "\n",
    "    # Start a session\n",
    "    with tf.Session(graph=graph) as sess:\n",
    "       ....\n",
    "> You will see later with the high-level Keras API, such tuning becomes easier because you will not need to define a graph and then run a session separately.\n"
   ]
  },
  {
   "cell_type": "markdown",
   "id": "610c4838",
   "metadata": {},
   "source": [
    "### Exercise 4-8-1 and 4-8-2"
   ]
  },
  {
   "cell_type": "markdown",
   "id": "1ffe5153",
   "metadata": {},
   "source": [
    "# Dropout and L2 regularization\n",
    "\n",
    "In this unit, we will learn about **dropout** as an efficient **regularization technique to reduce overfitting** in neural networks. In the second part of the unit, we will also see how to implement \n",
    "**L\n",
    "2\n",
    " regularization** using TensorFlow.\n",
    " \n",
    "# Dropout\n",
    "The idea behind dropout is to randomly deactivate some neurons during the training. Here is an illustration of dropout applied to the hidden layer of a 2-layer neural network."
   ]
  },
  {
   "cell_type": "code",
   "execution_count": 22,
   "id": "40860142",
   "metadata": {},
   "outputs": [
    {
     "data": {
      "text/html": [
       "<img src=\"https://d7whxh71cqykp.cloudfront.net/uploads/image/data/2757/dropout.svg\" width=\"300\"/>"
      ],
      "text/plain": [
       "<IPython.core.display.Image object>"
      ]
     },
     "execution_count": 22,
     "metadata": {},
     "output_type": "execute_result"
    }
   ],
   "source": [
    "Image(url='https://d7whxh71cqykp.cloudfront.net/uploads/image/data/2757/dropout.svg', width = 300)"
   ]
  },
  {
   "cell_type": "markdown",
   "id": "c04d8934",
   "metadata": {},
   "source": [
    "This image shows dropout applied with a rate of 0.5 which means that the network randomly deactivate half of the neurons (in white) from the hidden layer at each training step. That way, the neurons in the output layer cannot learn complex rules that depend on all the neurons from the hidden layer.\n",
    "\n",
    "Let's see how to apply dropout to the network from the previous unit.\n",
    "\n",
    "### TensorFlow implementation\n",
    "Let's start by defining the first layer using the code from the previous unit. This time, we will try to improve our results by increasing the number of hidden units to 64 while avoiding overfitting using dropout."
   ]
  },
  {
   "cell_type": "code",
   "execution_count": 23,
   "id": "c7d8ace7",
   "metadata": {},
   "outputs": [],
   "source": [
    "import tensorflow as tf\n",
    "\n",
    "# Create a new graph\n",
    "graph = tf.Graph()\n",
    "\n",
    "with graph.as_default():\n",
    "    # Create placeholders\n",
    "    X = tf.placeholder(dtype=tf.float32, shape=[None, 784])\n",
    "    y = tf.placeholder(dtype=tf.int32, shape=[None])\n",
    "\n",
    "    # Hidden layer with 64 units (ReLU)\n",
    "    hidden = tf.layers.dense(\n",
    "        X, 64, activation=tf.nn.relu,\n",
    "        kernel_initializer=tf.variance_scaling_initializer(scale=2, seed=0),\n",
    "        bias_initializer=tf.zeros_initializer(),\n",
    "        name='hidden'\n",
    "    )"
   ]
  },
  {
   "cell_type": "markdown",
   "id": "403a1bd3",
   "metadata": {},
   "source": [
    "We can now apply dropout to the hidden layer with the dropout() function from the layers module. The function takes the tensor of output values, the dropout rate and a seed number to get deterministic results. Again, dropout is a method to reduce overfitting during the training process. In particular, we want **to deactivate it when using the network to predict some values**. To achieve this, we pass a boolean training placeholder to the function which indicates when we are training the network and when not."
   ]
  },
  {
   "cell_type": "code",
   "execution_count": 24,
   "id": "79b14833",
   "metadata": {},
   "outputs": [],
   "source": [
    "with graph.as_default():\n",
    "    # Create training placeholder\n",
    "    training = tf.placeholder(dtype=tf.bool)\n",
    "\n",
    "    # Apply dropout\n",
    "    hidden = tf.layers.dropout(\n",
    "        hidden, rate=0.5, seed=0, training=training)"
   ]
  },
  {
   "cell_type": "code",
   "execution_count": 25,
   "id": "074dd526",
   "metadata": {},
   "outputs": [],
   "source": [
    "with graph.as_default():\n",
    "    # Output layer\n",
    "    logits = tf.layers.dense(\n",
    "        hidden, 10, activation=None,\n",
    "        kernel_initializer=tf.variance_scaling_initializer(scale=1, seed=0),\n",
    "        bias_initializer=tf.zeros_initializer(),\n",
    "        name='output'\n",
    "    )\n",
    "\n",
    "    # Hidden layer weights\n",
    "    with tf.variable_scope('hidden', reuse=True):\n",
    "        W1 = tf.get_variable('kernel')\n",
    "\n",
    "    # Loss fuction: mean cross-entropy\n",
    "    mean_ce = tf.reduce_mean(\n",
    "        tf.nn.sparse_softmax_cross_entropy_with_logits(\n",
    "            labels=y, logits=logits))\n",
    "\n",
    "    # Gradient descent\n",
    "    lr = tf.placeholder(dtype=tf.float32)\n",
    "    gd = tf.train.GradientDescentOptimizer(learning_rate=lr)\n",
    "\n",
    "    # Minimize cross-entropy\n",
    "    train_op = gd.minimize(mean_ce)\n",
    "\n",
    "    # Compute predictions and accuracy\n",
    "    predictions = tf.argmax(logits, axis=1, output_type=tf.int32)\n",
    "    is_correct = tf.equal(y, predictions)\n",
    "    accuracy = tf.reduce_mean(tf.cast(is_correct, dtype=tf.float32))"
   ]
  },
  {
   "cell_type": "markdown",
   "id": "dac9d5a5",
   "metadata": {},
   "source": [
    "### Train network\n",
    "\n",
    "Let's train the network. Again, we load the data from the mnist-20k.npz archive, split it into train and validation sets and standardize it using a StandardScaler."
   ]
  },
  {
   "cell_type": "code",
   "execution_count": 26,
   "id": "9670f27a",
   "metadata": {},
   "outputs": [],
   "source": [
    "from sklearn.model_selection import train_test_split\n",
    "from sklearn.preprocessing import StandardScaler\n",
    "import numpy as np\n",
    "\n",
    "# Load data\n",
    "with np.load('mnist-20k.npz', allow_pickle=False) as npz_file:\n",
    "    # Load items into a dictionary\n",
    "    mnist = dict(npz_file.items())\n",
    "\n",
    "# Create train and validation sets\n",
    "X_train, X_valid, y_train, y_valid = train_test_split(\n",
    "    # Convert uint8 pixel values to float\n",
    "    mnist['data'].astype(np.float32),\n",
    "    mnist['labels'],\n",
    "    test_size=500, random_state=0)\n",
    "\n",
    "# Rescale input data\n",
    "scaler = StandardScaler()\n",
    "X_train_rescaled = scaler.fit_transform(X_train)\n",
    "X_valid_rescaled = scaler.transform(X_valid)\n",
    "\n",
    "# Batch generator\n",
    "def get_batches(X, y, batch_size):\n",
    "    # Shuffle X,y\n",
    "    shuffled_idx = np.arange(len(y)) # 1,2,...,n\n",
    "    np.random.shuffle(shuffled_idx)\n",
    "\n",
    "    # Enumerate indexes by steps of batch_size\n",
    "    # i: 0, b, 2b, 3b, 4b, .. where b is the batch size\n",
    "    for i in range(0, len(y), batch_size):\n",
    "        # Batch indexes\n",
    "        batch_idx = shuffled_idx[i:i+batch_size]\n",
    "        yield X[batch_idx], y[batch_idx]"
   ]
  },
  {
   "cell_type": "markdown",
   "id": "62900141",
   "metadata": {},
   "source": [
    "We can now train it using the code from the previous unit. **This time, we set training to True when running the training operation train_op and set it to False when evaluating the validation accuracy**."
   ]
  },
  {
   "cell_type": "code",
   "execution_count": 30,
   "id": "2ef4f802",
   "metadata": {},
   "outputs": [
    {
     "name": "stdout",
     "output_type": "stream",
     "text": [
      "Epoch 1 - valid: 0.900 train: 0.692 (mean)\n",
      "Epoch 2 - valid: 0.922 train: 0.832 (mean)\n",
      "Epoch 3 - valid: 0.926 train: 0.857 (mean)\n",
      "Epoch 4 - valid: 0.938 train: 0.871 (mean)\n",
      "Epoch 5 - valid: 0.942 train: 0.883 (mean)\n",
      "Epoch 6 - valid: 0.946 train: 0.887 (mean)\n",
      "Epoch 7 - valid: 0.944 train: 0.893 (mean)\n",
      "Epoch 8 - valid: 0.946 train: 0.900 (mean)\n",
      "Epoch 9 - valid: 0.948 train: 0.899 (mean)\n",
      "Epoch 10 - valid: 0.944 train: 0.904 (mean)\n",
      "Epoch 11 - valid: 0.954 train: 0.910 (mean)\n",
      "Epoch 12 - valid: 0.956 train: 0.911 (mean)\n",
      "Epoch 13 - valid: 0.954 train: 0.913 (mean)\n",
      "Epoch 14 - valid: 0.956 train: 0.917 (mean)\n",
      "Epoch 15 - valid: 0.956 train: 0.916 (mean)\n",
      "Epoch 16 - valid: 0.954 train: 0.917 (mean)\n",
      "Epoch 17 - valid: 0.962 train: 0.918 (mean)\n",
      "Epoch 18 - valid: 0.960 train: 0.925 (mean)\n",
      "Epoch 19 - valid: 0.958 train: 0.924 (mean)\n",
      "Epoch 20 - valid: 0.964 train: 0.925 (mean)\n",
      "Epoch 21 - valid: 0.968 train: 0.927 (mean)\n",
      "Epoch 22 - valid: 0.964 train: 0.927 (mean)\n",
      "Epoch 23 - valid: 0.970 train: 0.928 (mean)\n",
      "Epoch 24 - valid: 0.966 train: 0.932 (mean)\n",
      "Epoch 25 - valid: 0.968 train: 0.931 (mean)\n",
      "Epoch 26 - valid: 0.966 train: 0.935 (mean)\n",
      "Epoch 27 - valid: 0.968 train: 0.933 (mean)\n",
      "Epoch 28 - valid: 0.974 train: 0.935 (mean)\n",
      "Epoch 29 - valid: 0.968 train: 0.936 (mean)\n",
      "Epoch 30 - valid: 0.974 train: 0.935 (mean)\n",
      "Epoch 31 - valid: 0.972 train: 0.934 (mean)\n",
      "Epoch 32 - valid: 0.974 train: 0.936 (mean)\n",
      "Epoch 33 - valid: 0.970 train: 0.937 (mean)\n",
      "Epoch 34 - valid: 0.974 train: 0.938 (mean)\n",
      "Epoch 35 - valid: 0.974 train: 0.938 (mean)\n",
      "Epoch 36 - valid: 0.974 train: 0.939 (mean)\n",
      "Epoch 37 - valid: 0.974 train: 0.939 (mean)\n",
      "Epoch 38 - valid: 0.970 train: 0.941 (mean)\n",
      "Epoch 39 - valid: 0.972 train: 0.940 (mean)\n",
      "Epoch 40 - valid: 0.972 train: 0.941 (mean)\n",
      "Epoch 41 - valid: 0.972 train: 0.943 (mean)\n",
      "Epoch 42 - valid: 0.974 train: 0.942 (mean)\n",
      "Epoch 43 - valid: 0.974 train: 0.944 (mean)\n",
      "Epoch 44 - valid: 0.972 train: 0.944 (mean)\n",
      "Epoch 45 - valid: 0.972 train: 0.945 (mean)\n",
      "Epoch 46 - valid: 0.970 train: 0.945 (mean)\n",
      "Epoch 47 - valid: 0.974 train: 0.947 (mean)\n",
      "Epoch 48 - valid: 0.968 train: 0.945 (mean)\n",
      "Epoch 49 - valid: 0.972 train: 0.946 (mean)\n",
      "Epoch 50 - valid: 0.974 train: 0.947 (mean)\n"
     ]
    }
   ],
   "source": [
    "# Validation accuracy\n",
    "valid_acc_values = []\n",
    "\n",
    "with tf.Session(graph=graph) as sess:\n",
    "    # Initialize variables\n",
    "    sess.run(tf.global_variables_initializer())\n",
    "\n",
    "    # Set seed\n",
    "    np.random.seed(0)\n",
    "\n",
    "    # Train several epochs\n",
    "    for epoch in range(50):\n",
    "        # Accuracy values (train) after each batch\n",
    "        batch_acc = []\n",
    "\n",
    "        # Get batches of data\n",
    "        for X_batch, y_batch in get_batches(X_train_rescaled, y_train, 256):\n",
    "            # Run training and evaluate accuracy\n",
    "            _, acc_value = sess.run([train_op, accuracy], feed_dict={\n",
    "                X: X_batch,\n",
    "                y: y_batch,\n",
    "                lr: 0.1, # Learning rate\n",
    "                training: True # Apply dropout\n",
    "            })\n",
    "\n",
    "            # Save accuracy (current batch)\n",
    "            batch_acc.append(acc_value)\n",
    "\n",
    "        # Evaluate validation accuracy\n",
    "        valid_acc = sess.run(accuracy, feed_dict={\n",
    "            X: X_valid_rescaled,\n",
    "            y: y_valid,\n",
    "            training: False # Do not apply dropout\n",
    "        })\n",
    "        valid_acc_values.append(valid_acc)\n",
    "\n",
    "        # Print progress\n",
    "        print('Epoch {} - valid: {:.3f} train: {:.3f} (mean)'.format(\n",
    "            epoch+1, valid_acc, np.mean(batch_acc)\n",
    "        ))\n",
    "\n",
    "    # Weights of the hidden layer\n",
    "    weights_hidden = W1.eval()\n"
   ]
  },
  {
   "cell_type": "markdown",
   "id": "a3e4e44a",
   "metadata": {},
   "source": [
    "This time, the training accuracy is always smaller than the validation one which makes sense since the network has access to only half of the hidden units. Let's plot the validation accuracy after each epoch."
   ]
  },
  {
   "cell_type": "code",
   "execution_count": 28,
   "id": "ee485417",
   "metadata": {},
   "outputs": [
    {
     "data": {
      "image/png": "[encoded data removed]",
      "text/plain": [
       "<Figure size 432x288 with 1 Axes>"
      ]
     },
     "metadata": {
      "needs_background": "light"
     },
     "output_type": "display_data"
    }
   ],
   "source": [
    "%matplotlib inline\n",
    "import matplotlib.pyplot as plt\n",
    "\n",
    "# Plot accuracy values\n",
    "plt.plot(valid_acc_values)\n",
    "plt.title('Validation accuracy {:.3f} (mean last 3)'.format(\n",
    "    np.mean(valid_acc_values[-3:]) # last three values\n",
    "))\n",
    "plt.xlabel('epoch')\n",
    "plt.ylabel('accuracy')\n",
    "plt.show()"
   ]
  },
  {
   "cell_type": "markdown",
   "id": "050a9af0",
   "metadata": {},
   "source": [
    "In practice, **it's common to use slightly larger networks than necessary and then reduce overfitting using dropout**. In our case, we have a small network with only 64 hidden units. For this reason, we don't get huge improvements. However, try to remove dropout by setting training to False in the train feed_dict. You should see that the training accuracy is above 99.9% after 50 epochs while the validation accuracy stays around 97%.\n",
    "\n",
    "# L2 regularizazion\n",
    "\n",
    "We can also reduce overfitting by adding an \n",
    "L\n",
    "2\n",
    " regularization term to the loss function using l2_loss() from the the nn module."
   ]
  },
  {
   "cell_type": "code",
   "execution_count": 31,
   "id": "be762388",
   "metadata": {},
   "outputs": [],
   "source": [
    "with graph.as_default():\n",
    "    # L2 term\n",
    "    l2_term = tf.nn.l2_loss(W1)\n",
    "\n",
    "    # Regularization strength\n",
    "    alpha = tf.placeholder(dtype=tf.float32)\n",
    "\n",
    "    # Loss function\n",
    "    loss = mean_ce + alpha * l2_term\n",
    "\n",
    "    # Training operation\n",
    "    train_op = gd.minimize(loss)"
   ]
  },
  {
   "cell_type": "markdown",
   "id": "98d0deee",
   "metadata": {},
   "source": [
    "In the code from above, we compute an l2_term and create an alpha placeholder to control the regularization strength.\n",
    "\n",
    "Let's re-train our network using the code from above. This time, we have to set the regularization strength during training by adding an alpha entry in the feed_dict."
   ]
  },
  {
   "cell_type": "code",
   "execution_count": 34,
   "id": "0aa02a9d",
   "metadata": {},
   "outputs": [
    {
     "name": "stdout",
     "output_type": "stream",
     "text": [
      "Epoch 1 - valid: 0.686 train: 0.336 (mean)\n",
      "Epoch 2 - valid: 0.802 train: 0.589 (mean)\n",
      "Epoch 3 - valid: 0.834 train: 0.678 (mean)\n",
      "Epoch 4 - valid: 0.860 train: 0.732 (mean)\n",
      "Epoch 5 - valid: 0.872 train: 0.763 (mean)\n",
      "Epoch 6 - valid: 0.892 train: 0.783 (mean)\n",
      "Epoch 7 - valid: 0.900 train: 0.800 (mean)\n",
      "Epoch 8 - valid: 0.906 train: 0.812 (mean)\n",
      "Epoch 9 - valid: 0.912 train: 0.818 (mean)\n",
      "Epoch 10 - valid: 0.912 train: 0.828 (mean)\n",
      "Epoch 11 - valid: 0.914 train: 0.837 (mean)\n",
      "Epoch 12 - valid: 0.914 train: 0.842 (mean)\n",
      "Epoch 13 - valid: 0.916 train: 0.849 (mean)\n",
      "Epoch 14 - valid: 0.918 train: 0.854 (mean)\n",
      "Epoch 15 - valid: 0.920 train: 0.854 (mean)\n",
      "Epoch 16 - valid: 0.920 train: 0.858 (mean)\n",
      "Epoch 17 - valid: 0.918 train: 0.859 (mean)\n",
      "Epoch 18 - valid: 0.920 train: 0.864 (mean)\n",
      "Epoch 19 - valid: 0.920 train: 0.867 (mean)\n",
      "Epoch 20 - valid: 0.922 train: 0.872 (mean)\n",
      "Epoch 21 - valid: 0.926 train: 0.872 (mean)\n",
      "Epoch 22 - valid: 0.926 train: 0.871 (mean)\n",
      "Epoch 23 - valid: 0.924 train: 0.872 (mean)\n",
      "Epoch 24 - valid: 0.928 train: 0.880 (mean)\n",
      "Epoch 25 - valid: 0.926 train: 0.876 (mean)\n",
      "Epoch 26 - valid: 0.928 train: 0.878 (mean)\n",
      "Epoch 27 - valid: 0.928 train: 0.879 (mean)\n",
      "Epoch 28 - valid: 0.928 train: 0.882 (mean)\n",
      "Epoch 29 - valid: 0.934 train: 0.882 (mean)\n",
      "Epoch 30 - valid: 0.934 train: 0.882 (mean)\n",
      "Epoch 31 - valid: 0.932 train: 0.883 (mean)\n",
      "Epoch 32 - valid: 0.936 train: 0.882 (mean)\n",
      "Epoch 33 - valid: 0.934 train: 0.885 (mean)\n",
      "Epoch 34 - valid: 0.934 train: 0.882 (mean)\n",
      "Epoch 35 - valid: 0.934 train: 0.885 (mean)\n",
      "Epoch 36 - valid: 0.936 train: 0.885 (mean)\n",
      "Epoch 37 - valid: 0.934 train: 0.885 (mean)\n",
      "Epoch 38 - valid: 0.934 train: 0.889 (mean)\n",
      "Epoch 39 - valid: 0.936 train: 0.885 (mean)\n",
      "Epoch 40 - valid: 0.936 train: 0.886 (mean)\n",
      "Epoch 41 - valid: 0.936 train: 0.886 (mean)\n",
      "Epoch 42 - valid: 0.932 train: 0.887 (mean)\n",
      "Epoch 43 - valid: 0.934 train: 0.889 (mean)\n",
      "Epoch 44 - valid: 0.934 train: 0.890 (mean)\n",
      "Epoch 45 - valid: 0.932 train: 0.886 (mean)\n",
      "Epoch 46 - valid: 0.936 train: 0.889 (mean)\n",
      "Epoch 47 - valid: 0.936 train: 0.891 (mean)\n",
      "Epoch 48 - valid: 0.930 train: 0.889 (mean)\n",
      "Epoch 49 - valid: 0.932 train: 0.887 (mean)\n",
      "Epoch 50 - valid: 0.934 train: 0.890 (mean)\n"
     ]
    }
   ],
   "source": [
    "# Validation accuracy\n",
    "valid_acc_values = []\n",
    "\n",
    "with tf.Session(graph=graph) as sess:\n",
    "    # Initialize variables\n",
    "    sess.run(tf.global_variables_initializer())\n",
    "\n",
    "    # Set seed\n",
    "    np.random.seed(0)\n",
    "\n",
    "    # Train several epochs\n",
    "    for epoch in range(50):\n",
    "        # Accuracy values (train) after each batch\n",
    "        batch_acc = []\n",
    "\n",
    "        # Get batches of data\n",
    "        for X_batch, y_batch in get_batches(X_train_rescaled, y_train, 256):\n",
    "            # Run training and evaluate accuracy\n",
    "            _, acc_value = sess.run([train_op, accuracy], feed_dict={\n",
    "                X: X_batch,\n",
    "                y: y_batch,\n",
    "                lr: 0.01, # Learning rate\n",
    "                training: True, # Apply dropout\n",
    "                alpha: 0.1 # Regularization strength\n",
    "            })\n",
    "\n",
    "            # Save accuracy (current batch)\n",
    "            batch_acc.append(acc_value)\n",
    "\n",
    "        # Evaluate validation accuracy\n",
    "        valid_acc = sess.run(accuracy, feed_dict={\n",
    "            X: X_valid_rescaled,\n",
    "            y: y_valid,\n",
    "            training: False # Do not apply dropout\n",
    "        })\n",
    "        valid_acc_values.append(valid_acc)\n",
    "\n",
    "        # Print progress\n",
    "        print('Epoch {} - valid: {:.3f} train: {:.3f} (mean)'.format(\n",
    "            epoch+1, valid_acc, np.mean(batch_acc)\n",
    "        ))\n",
    "\n",
    "    # Weights of the hidden layer\n",
    "    weights_hidden = W1.eval()"
   ]
  },
  {
   "cell_type": "markdown",
   "id": "f283ed30",
   "metadata": {},
   "source": [
    "This time, we get an validation accuracy around 93%.\n",
    "\n",
    "We can now take a look at a few hidden units using the tuned matrix of weights weights_hidden. We will plot the first 16 hidden units from the total 64 hidden ones.\n",
    "\n",
    "\n",
    "### Q&A : \n",
    "I was wondering if we could fine tune lr and alpha using the grid search the same way we did in the previous courses ?\n",
    "\n",
    "Or is it more complicated due to the batches loop + epochs loop ?\n",
    "\n",
    "> Absolutely, the learning rate and regularization strength are hyperparameters worth tuning in a neural network. Other hyperparameters worth tuning are the number of layers, the number of neurons per layer, the type of activation functions used in each layer, and so on.\n",
    "\n",
    "> Admittedly, hyperparameter tuning may be a bit easier to implement with the Keras API as Keras models are more compact and can be wrapped inside functions for testing a given set of hyperparameters. We will discuss the Keras API in a later unit. You can, of course, perform hyperparameter tuning using graphs, but your code will be more cumbersome.\n",
    "\n",
    "> In all cases, you can tune hyperparameters using an approach similar to what we showed in previous units (e.g., see the Grid search using ParameterGrid unit). You can use a ParameterGrid object to define a grid of parameters for your grid search and then train a neural network for each combination of hyperparameters (this could be implemented using a simple for loop). You need to train your network on the training data and evaluate model performance on the validation data. For each set of hyperparameters, network \"training\" is the same as the one shown in the program: you compute a loss function on a mini-batch of data and use backpropagation to update model weights in the right direction. You repeat the process for several epochs until your model is trained long enough. At the end of the grid search, you can determine the best combination of hyperparameters based on model performance on the validation data. Eventually, once you have determined an optimal set of hyperparameters, you should measure generalization performance on the test data.\n",
    "\n",
    "> Using the Keras API, you can also perform hyperparameter tuning using the GridSearchCV object from scikit-learn. In this case, you will need the KerasRegressor (for regressions) or the KerasClassifier objects (for classifiers) as wrappers around Keras models to be able to use them with GridSearchCV.\n"
   ]
  },
  {
   "cell_type": "code",
   "execution_count": null,
   "id": "05790bf9",
   "metadata": {},
   "outputs": [],
   "source": []
  },
  {
   "cell_type": "code",
   "execution_count": 35,
   "id": "93f2e66c",
   "metadata": {},
   "outputs": [
    {
     "data": {
      "image/png": "[encoded data removed]",
      "text/plain": [
       "<Figure size 576x576 with 16 Axes>"
      ]
     },
     "metadata": {
      "needs_background": "light"
     },
     "output_type": "display_data"
    }
   ],
   "source": [
    "# Create figure with 16 subplots\n",
    "fig, axes = plt.subplots(nrows=4, ncols=4, figsize=(8, 8))\n",
    "\n",
    "# Plot the weights of the first 16 hidden units\n",
    "for i, axis in enumerate(axes.flatten()):\n",
    "    # Get weights of i-th hidden unit\n",
    "    weights = weights_hidden[:, i]\n",
    "\n",
    "    # Reshape into 28 by 28 array\n",
    "    weights = weights.reshape(28, 28)\n",
    "\n",
    "    # Plot weights\n",
    "    axis.set_title('unit {}'.format(i+1))\n",
    "    axis.imshow(weights, cmap=plt.cm.gray_r) # Grayscale\n",
    "    axis.get_xaxis().set_visible(False) # Disable x-axis\n",
    "    axis.get_yaxis().set_visible(False) # Disable y-axis\n",
    "\n",
    "plt.show()"
   ]
  },
  {
   "cell_type": "markdown",
   "id": "b7c0455d",
   "metadata": {},
   "source": [
    "As we can see, the templates of the hidden layer are much less noisy than before.\n",
    "\n",
    "Summary\n",
    "In this unit, we saw how to reduce overfitting in our neural networks using dropout and \n",
    "L\n",
    "2\n",
    " regularization. **In the next one, we will learn about convolutional neural networks (CNN) which work really well to analyze images.**\n",
    " \n",
    "> By turning the units/neurons on and off during training, the model learns simpler architecture. It will also learn not to become dependent on a single set of neurons and not to have too much cooperation between neurons (also know as co-adaptation in deep learning literature). This way we can see the dropout as a regularization method to overcome overfitting. It will help us even in a full-batch training when all the data is passed at once in each epoch, not necessarily in mini-batches. Mini-batch training with shuffling has the additional advantage of further randomizing the training. In this case, both the data and the active neurons are changing at each iteration. This will further improve the training and the generalization capabilities of the network as you have explained. Such stochasticity will also help the training algorithm not to get trapped in local minima.\n",
    "In short, dropping some neurons at each iteration is itself useful. Combining this with mini-batch training will further improve the learning.\n",
    "\n"
   ]
  },
  {
   "cell_type": "code",
   "execution_count": null,
   "id": "d1ac19ca",
   "metadata": {},
   "outputs": [],
   "source": []
  },
  {
   "cell_type": "markdown",
   "id": "b4788c7d",
   "metadata": {},
   "source": [
    "### Convolutional Neural Networks\n",
    "\n",
    "In this unit, we will learn about convolutional neural networks (CNNs or ConvNets) which work particularly well with images. We will first learn about convolutional and max pooling layers and then see how to combine them into a ConvNet. In the second part of this unit, we will implement one for the MNIST data set using TensorFlow.\n",
    "\n",
    "Convolutional neural networks use a particular type of layer called convolutional layer that can work on 3-dimensional volumes of data like images. The intuition behind those convolutional layers is that the important features are usually not specific to some locations of the image. For instance, if detecting lines is an important aspect of our network, we don't need to learn to detect lines at every location of the image independently. Instead, we could simply learn a line **detector that we slide over the image. This operation is called convolution.**\n",
    "\n",
    "Let's take an example. Here is a 7x7 grid of input values with a 3x3 **kernel (also called filter)** that we use to detect patterns in the grid."
   ]
  },
  {
   "cell_type": "code",
   "execution_count": 38,
   "id": "fbaae77d",
   "metadata": {
    "jupyter": {
     "source_hidden": true
    }
   },
   "outputs": [
    {
     "data": {
      "text/html": [
       "<img src=\"https://d7whxh71cqykp.cloudfront.net/uploads/image/data/2744/convex-input-kernel.png\" width=\"500\"/>"
      ],
      "text/plain": [
       "<IPython.core.display.Image object>"
      ]
     },
     "execution_count": 38,
     "metadata": {},
     "output_type": "execute_result"
    }
   ],
   "source": [
    "Image(url='https://d7whxh71cqykp.cloudfront.net/uploads/image/data/2744/convex-input-kernel.png', width = 500)"
   ]
  },
  {
   "cell_type": "markdown",
   "id": "d533c1f9",
   "metadata": {},
   "source": [
    "The idea behind convolutional layers is to slide the kernel over the grid of input values to produce a grid of output values. In practice, we usually pad the image with zeros **(called zero-padding)** to align the center of the kernel and the corners of the grid."
   ]
  },
  {
   "cell_type": "code",
   "execution_count": 39,
   "id": "287fec98",
   "metadata": {
    "jupyter": {
     "source_hidden": true
    }
   },
   "outputs": [
    {
     "data": {
      "text/html": [
       "<img src=\"https://d7whxh71cqykp.cloudfront.net/uploads/image/data/2743/convex-conv1.png\" width=\"500\"/>"
      ],
      "text/plain": [
       "<IPython.core.display.Image object>"
      ]
     },
     "execution_count": 39,
     "metadata": {},
     "output_type": "execute_result"
    }
   ],
   "source": [
    "Image(url='https://d7whxh71cqykp.cloudfront.net/uploads/image/data/2743/convex-conv1.png', width = 500)"
   ]
  },
  {
   "cell_type": "markdown",
   "id": "c10e9b07",
   "metadata": {},
   "source": [
    "To compute the output value, we simply perform an element-wise multiplication between the kernel and the grid values at the current kernel location (in blue in the image) and sum the result.\n",
    "\n",
    "We can then slide the kernel and compute the next output value. The **stride of the convolution defines how the kernel moves on the grid**. For instance, if the stride is 2, we will move our kernel by two positions each time. In this example, we will slide the kernel from left to right and top to bottom, but the result doesn't depend on the order."
   ]
  },
  {
   "cell_type": "code",
   "execution_count": 40,
   "id": "0ab19c59",
   "metadata": {
    "jupyter": {
     "source_hidden": true
    }
   },
   "outputs": [
    {
     "data": {
      "text/html": [
       "<img src=\"https://d7whxh71cqykp.cloudfront.net/uploads/image/data/2742/convex-conv2.png\" width=\"500\"/>"
      ],
      "text/plain": [
       "<IPython.core.display.Image object>"
      ]
     },
     "execution_count": 40,
     "metadata": {},
     "output_type": "execute_result"
    }
   ],
   "source": [
    "Image(url='https://d7whxh71cqykp.cloudfront.net/uploads/image/data/2742/convex-conv2.png', width = 500)"
   ]
  },
  {
   "cell_type": "markdown",
   "id": "933052bf",
   "metadata": {},
   "source": [
    "In this image, the kernel moved two positions to the right, and we get a second output value. We can continue to slide the kernel in this direction to obtain two more values before it reaches the end of the line."
   ]
  },
  {
   "cell_type": "code",
   "execution_count": 41,
   "id": "3461cb62",
   "metadata": {
    "jupyter": {
     "source_hidden": true
    }
   },
   "outputs": [
    {
     "data": {
      "text/html": [
       "<img src=\"https://d7whxh71cqykp.cloudfront.net/uploads/image/data/2741/convex-end-of-line.png\" width=\"500\"/>"
      ],
      "text/plain": [
       "<IPython.core.display.Image object>"
      ]
     },
     "execution_count": 41,
     "metadata": {},
     "output_type": "execute_result"
    }
   ],
   "source": [
    "Image(url='https://d7whxh71cqykp.cloudfront.net/uploads/image/data/2741/convex-end-of-line.png', width = 500)"
   ]
  },
  {
   "cell_type": "markdown",
   "id": "8132401a",
   "metadata": {},
   "source": [
    "We can then continue to the next line which is the third one since the stride is 2 in both directions. Note that we sometimes write the stride by specifying the horizontal and vertical components. Using this notation, we are doing a convolution with a 2x2 stride."
   ]
  },
  {
   "cell_type": "code",
   "execution_count": 42,
   "id": "e4f057ad",
   "metadata": {
    "jupyter": {
     "source_hidden": true
    }
   },
   "outputs": [
    {
     "data": {
      "text/html": [
       "<img src=\"https://d7whxh71cqykp.cloudfront.net/uploads/image/data/2740/convex-new-line.png\" width=\"500\"/>"
      ],
      "text/plain": [
       "<IPython.core.display.Image object>"
      ]
     },
     "execution_count": 42,
     "metadata": {},
     "output_type": "execute_result"
    }
   ],
   "source": [
    "Image(url='https://d7whxh71cqykp.cloudfront.net/uploads/image/data/2740/convex-new-line.png', width = 500)"
   ]
  },
  {
   "cell_type": "markdown",
   "id": "d3dd62ff",
   "metadata": {},
   "source": [
    "In this example, the output grid is smaller than the input one since the stride is 2. However, they would have the same dimensions with this zero-padding strategy if the stride was 1. **For this reason, we often call it the \"same\" padding strategy.**\n",
    "\n",
    "The convolution continues until the kernel reaches the bottom right corner."
   ]
  },
  {
   "cell_type": "code",
   "execution_count": 43,
   "id": "f7e998a5",
   "metadata": {
    "jupyter": {
     "source_hidden": true
    }
   },
   "outputs": [
    {
     "data": {
      "text/html": [
       "<img src=\"https://d7whxh71cqykp.cloudfront.net/uploads/image/data/2739/convex-last-position.png\" width=\"500\"/>"
      ],
      "text/plain": [
       "<IPython.core.display.Image object>"
      ]
     },
     "execution_count": 43,
     "metadata": {},
     "output_type": "execute_result"
    }
   ],
   "source": [
    "Image(url='https://d7whxh71cqykp.cloudfront.net/uploads/image/data/2739/convex-last-position.png', width = 500)"
   ]
  },
  {
   "cell_type": "markdown",
   "id": "76404371",
   "metadata": {},
   "source": [
    "In this example, the convolution reduced the 7x7 grid of input values into a 4x4 grid of outputs that we can then pass to an activation function. For instance, we can use the ReLU activation."
   ]
  },
  {
   "cell_type": "code",
   "execution_count": 47,
   "id": "634bf07c",
   "metadata": {
    "jupyter": {
     "source_hidden": true
    }
   },
   "outputs": [
    {
     "data": {
      "text/html": [
       "<img src=\"https://d7whxh71cqykp.cloudfront.net/uploads/image/data/2738/relu.png\" width=\"200\"/>"
      ],
      "text/plain": [
       "<IPython.core.display.Image object>"
      ]
     },
     "execution_count": 47,
     "metadata": {},
     "output_type": "execute_result"
    }
   ],
   "source": [
    "Image(url='https://d7whxh71cqykp.cloudfront.net/uploads/image/data/2738/relu.png', width = 200)"
   ]
  },
  {
   "cell_type": "markdown",
   "id": "a0521842",
   "metadata": {},
   "source": [
    "Let's summarize: Convolutional layers learn kernels/filters that process the grid of input values using the convolution operation. More specifically, it learns the values or **weights** in those filters that multiply the grid of input values. Note that we also assign a **bias** term to each kernel in practice.\n",
    "\n",
    "\n",
    "\n",
    "> How many parameters does the network have to learn in the example from above with the 7x7 input grid and the 3x3 kernel?\n",
    "\n",
    "There are 10 parameters. It's important to understand that the number of parameters of the convolutional layer does not depend on the size of the input. In our case, the convolutional layer has a total of 10 parameters: the 3*3=9 kernel weighs and its bias term (which is zero in our example) independently of the size of the input grid.\n",
    "\n",
    "### Depth of the convolutional layer\n",
    "\n",
    "In the example from above, our convolutional layer has a single kernel, and we get a single grid of output values. In practice, we usually have several kernels that learn to detect different patterns in the input and hence get a different grid of outputs/activations for each one. For instance, we could have a kernel that detects horizontal lines and others that detect lines with different angles. **The depth of a convolutional layer refers to its number of kernels.**\n",
    "\n",
    "Note that each kernel is independent. It learns its own weights and bias parameters and hence processes the input grid differently. For instance, if we add two kernels to the convolutional layer from above, we would get an **output volume** of size 4x4x3, i.e., three 4x4 output grids.\n",
    "\n",
    "> What would be the number of parameters in this case?\n",
    "\n",
    "30 in total - there are three kernels, each with ten parameters (the 3*3 = 9 kernel weights and the kernel bias).\n",
    "\n",
    "\n",
    "At the beginning of the unit, we said that convolutional layers can work on **3-dimensional volumes** of data. In the example from above, kernels are 2-dimensional grids of values because the input is also 2-dimensional. However, we can easily generalize this to 3-dimensional inputs by adding a third dimension to the kernel equal to the input depth. For instance, if we are working on RGB images - three dimensional (height,width,3) input volumes of data - we would need to use (k,k,3) kernels where k is the kernel size. In this case, we would compute element-wise multiplication between the 3d kernel and input at its current height/width location during the convolution operation. Note that we would still slide the 3d kernel over the 3d input grid in the height/width dimensions and get a 2d grid of output values for each kernel.\n",
    "\n",
    "> How many parameters would the network have to learn in the example from above if the input was a 3-dimensional RGB image? i.e., a 7x7 RGB input volume processed by three kernels of size 3x3.\n",
    "\n",
    "84 in total. The input has a depth of 3 (one 7x7 grid per color channel, or a 7x7x3 input volume). Hence, we also need to use 3d kernels with a depth of 3. So, each kernel is a 3x3x3 grid of values with 28 parameters (3*3*3=27 weights and a bias). In total, the three kernels have 3*28=84 parameters.\n",
    "\n",
    "Your answer\n",
    "(3x3x3 kernel weighs + 1 kernel bias) x 3 kernels = 84\n",
    "\n",
    "\n",
    "**To summarize, convolutional layers apply a set of kernels that detect different patterns in the input volumes. In that sense, the number of kernels is an important parameter in what the layer can learn.**"
   ]
  },
  {
   "cell_type": "markdown",
   "id": "92ec42dd",
   "metadata": {},
   "source": [
    "### Max pooling layers\n",
    "\n",
    "In the example from above, the convolutional layer reduces the dimensions of the grid from 7x7 to 4x4 due to the stride of 2. In practice, **it's common to keep the dimensions of the input in the convolutional layer using the \"same\" zero-padding strategy with a stride of 1 and pass the output to a pooling layer which performs the down-sampling operation.**\n",
    "\n",
    "The idea behind pooling layers is to slide a window over the input grid and combine the values in each window into one. One of the most common pooling operations is **max pooling** which computes the maximum of the values in each window. Let's take an example. Here is an illustration of the max pooling operation applied to the output of the convolutional layer from above. Note that there are no zero-padding this time."
   ]
  },
  {
   "cell_type": "code",
   "execution_count": 49,
   "id": "6f4c70f3",
   "metadata": {},
   "outputs": [
    {
     "data": {
      "text/html": [
       "<img src=\"https://d7whxh71cqykp.cloudfront.net/uploads/image/data/2737/convex-max-pooling.png\" width=\"350\"/>"
      ],
      "text/plain": [
       "<IPython.core.display.Image object>"
      ]
     },
     "execution_count": 49,
     "metadata": {},
     "output_type": "execute_result"
    }
   ],
   "source": [
    "Image(url='https://d7whxh71cqykp.cloudfront.net/uploads/image/data/2737/convex-max-pooling.png', width = 350)"
   ]
  },
  {
   "cell_type": "markdown",
   "id": "d782e637",
   "metadata": {},
   "source": [
    "In this image, we use a 2x2 window and stride to get four non-overlapping windows and obtain the max pooling output by taking the maximum value in each window.\n",
    "\n",
    "> What is the number of parameters in this max pooling layer with a 2x2 window and 2x2 stride?\n",
    "\n",
    "Zero. Taking the maximum of a set of values doesn't depend on any external parameters! Max-pooling layers are just down-sampling their input - they are not learning anything."
   ]
  },
  {
   "cell_type": "markdown",
   "id": "c9ce0a8c",
   "metadata": {},
   "source": [
    "Let's summarize: \n",
    "------\n",
    "Convolutional layers learn kernels that process input volumes of arbitrary depth to detect different patterns. **In practice, we usually combine convolutional layers with a pooling operation to reduce the dimensions of the input**. In a typical scenario, we use small kernels in the convolutional layers (usually 3x3 and sometimes 5x5) and **keep the input dimensions using the \"same\" zero-padding with a stride of 1,** and **then reduce the input dimensions using a max pooling operation with 2x2 windows and stride**. Here is a video of the entire process with the example from above.\n",
    "\n",
    "https://youtu.be/Y1ugnb0bobk"
   ]
  },
  {
   "cell_type": "markdown",
   "id": "9540696f",
   "metadata": {},
   "source": [
    "### Convolution arithmetic\n",
    "\n",
    "We can compute the size of the output of the convolutional and pooling layers with the following formulas.\n",
    "\n",
    "$$o_{\\text{conv}}=\\left\\lfloor \\frac{i+2p-k}{s}\\right\\rfloor +1\\qquad o_{\\text{pool}}=\\left\\lfloor \\frac{i-k}{s}\\right\\rfloor +1$$\n",
    "The first formula shows how to compute the size of the output of a convolutional layer given the size of its input \n",
    "i\n",
    ", padding \n",
    "p\n",
    ", kernel \n",
    "k\n",
    " and the stride \n",
    "s\n",
    ". Note that it uses the floor function \n",
    "$$f\n",
    "(\n",
    "x\n",
    ")\n",
    "=\n",
    "⌊\n",
    "x\n",
    "⌋$$\n",
    " which returns the largest integer smaller than or equal to \n",
    "x\n",
    ", e.g., \n",
    "$$⌊\n",
    "2.4\n",
    "⌋\n",
    "=\n",
    "2\n",
    ", \n",
    "⌊\n",
    "−\n",
    "0.4\n",
    "⌋\n",
    "=\n",
    "−\n",
    "1\n",
    ", \n",
    "⌊\n",
    "8\n",
    "⌋\n",
    "=\n",
    "8$$\n",
    ". For instance, in the example from above, we have \n",
    "i\n",
    "=\n",
    "7\n",
    ", \n",
    "p\n",
    "=\n",
    "1\n",
    ", \n",
    "k\n",
    "=\n",
    "3\n",
    ", \n",
    "s\n",
    "=\n",
    "2\n",
    ". Hence, the output size is 4.\n",
    "\n",
    "$$o_{\\text{conv}}=\\left\\lfloor \\frac{7+2-3}{2}\\right\\rfloor +1=\\left\\lfloor 3\\right\\rfloor +1=4$$\n",
    "The second formula shows how to compute the size of the output of a pooling layer given the size of its input \n",
    "i\n",
    ", window \n",
    "k\n",
    " and the stride \n",
    "s\n",
    ". In the example from above, we have \n",
    "i\n",
    "=\n",
    "4\n",
    ", \n",
    "k\n",
    "=\n",
    "2\n",
    " and \n",
    "s\n",
    "=\n",
    "2\n",
    ". Hence, the output is 2.\n",
    "\n",
    "$$o_{\\text{pool}}=\\left\\lfloor \\frac{4-2}{2}\\right\\rfloor +1=\\left\\lfloor 1\\right\\rfloor +1=2$$"
   ]
  },
  {
   "cell_type": "markdown",
   "id": "b52cd606",
   "metadata": {},
   "source": [
    "### Convolutional neural networks\n",
    "\n",
    "In practice, we usually combine convolutional and max pooling layers to create **convolutional neural networks**. The idea is to start by detecting simple patterns in the first layers and combine them into higher-level ones with successive convolution and max pooling layers. We usually end up with a network that converts input volumes that have relatively large dimensions compared to their depth into deep output volumes with small dimensions. For instance, here is the network architecture that we will implement below to classify images from the MNIST data set."
   ]
  },
  {
   "cell_type": "code",
   "execution_count": 52,
   "id": "53b02542",
   "metadata": {},
   "outputs": [
    {
     "data": {
      "text/html": [
       "<img src=\"https://d7whxh71cqykp.cloudfront.net/uploads/image/data/2736/mnist-cnn.png\" width=\"800\"/>"
      ],
      "text/plain": [
       "<IPython.core.display.Image object>"
      ]
     },
     "execution_count": 52,
     "metadata": {},
     "output_type": "execute_result"
    }
   ],
   "source": [
    "Image(url='https://d7whxh71cqykp.cloudfront.net/uploads/image/data/2736/mnist-cnn.png', width = 800)"
   ]
  },
  {
   "cell_type": "markdown",
   "id": "8aa5c640",
   "metadata": {},
   "source": [
    "The network has the following structure.\n",
    "\n",
    "- Input layer with the 28x28 grayscale images from the MNIST database.\n",
    "- Convolutional layer with sixteen 5x5 kernels, 2x2 stride, \"same\" padding and ReLU activation.\n",
    "- Max pooling layer, 2x2 size and stride.\n",
    "- Convolutional layer with sixteen 3x3 kernels, 1x1 stride, \"same\" padding and ReLU activation.\n",
    "- Max pooling layer, 2x2 size and stride.\n",
    "- Reshaping of the last layer to a 1-dimensional flat array.\n",
    "- Fully-connected layer with 256 input units and ten output units.\n",
    "\n",
    "In this case, we start with 28x28x1 input volumes (28x28 grayscale images) and end up with 4x4x16 (=256 values) output volumes after the second max pooling layer. This output volume should contain high-level features that we can then use in a fully-connected layer to produce the ten output digits.\n",
    "\n",
    "\n",
    "> How many parameters does the first convolutional layer have?\n",
    "\n",
    "It has 416 parameters. The layer has sixteen 5x5x1 kernels, i.e., 5x5 kernels that process input volumes of depth 1 (grayscale images). Hence, there are 16x(5x5x1) = 400 weights. Since each kernel has a bias, there is a total of 400 + 16 = 416 parameters.\n",
    "\n",
    "> How many parameters does the first max pooling layer have?\n",
    "\n",
    "It has no parameter. Max pooling layers simply reduce the height/width dimensions of the input using the max function.\n",
    "\n",
    "> How many parameters does the second convolutional layer have?\n",
    "\n",
    "It has 2,320 parameters. The layer has sixteen 3x3x16 kernels, i.e., 3x3 kernels that process 3-dimensional input volumes with a depth of 16 (the 16 output grids from the first layer). Hence, there are 16x(3x3x16) = 2,304 weights. Again, each kernel has a bias, and the total number of parameters is 2,304 + 16 = 2,320.\n",
    "\n",
    "> How many parameters does the fully-connected layer have?\n",
    "\n",
    "The layer has 2,570 parameters. It connects 256 input units (the flat output of the last pooling layer) to the 10 logits. Hence, the output layer has 2,560 weights and ten biases."
   ]
  },
  {
   "cell_type": "markdown",
   "id": "f448700d",
   "metadata": {},
   "source": [
    "### TensorFlow implementation\n",
    "\n",
    "We will now see how to implement the simple convolutional neural network from above using TensorFlow.\n",
    "\n",
    "#### Data preprocessing\n",
    "\n",
    "Let's start by loading and preprocessing the data. We saw in the previous unit that we can improve the learning process by centering the input values around zero. In our case, we are working with pixel values that range between 0 and 255. A common way to preprocess images before passing them to a ConvNet is to subtract 128 to each value and divide them by 255. With this simple procedure, we should get centered values that range between -0.5 and 0.5.\n",
    "\n",
    "$$x_{\\text{rescaled}}=\\frac{x-128}{255}$$\n",
    "\n",
    "Let's load and preprocess the images from mnist-20k.npz. You can download the archive from the resource section."
   ]
  },
  {
   "cell_type": "code",
   "execution_count": 53,
   "id": "89055d0d",
   "metadata": {},
   "outputs": [],
   "source": [
    "import numpy as np\n",
    "\n",
    "# Load data\n",
    "with np.load('mnist-20k.npz', allow_pickle=False) as npz_file:\n",
    "    mnist = dict(npz_file.items())\n",
    "\n",
    "# Convert pixels into floating point numbers\n",
    "data = mnist['data'].astype(np.float32)\n",
    "\n",
    "# Rescale pixel values between -0.5 and 0.5\n",
    "data = (data - 128) / 255"
   ]
  },
  {
   "cell_type": "markdown",
   "id": "45469920",
   "metadata": {},
   "source": [
    "In this code, we load the image pixels, convert them into floating point numbers and rescale them using the formula from above.\n",
    "\n",
    "In this example, we will monitor the learning process using a validation set. We will use 19,500 images for training and the remaining 500 ones for evaluation. Let's create these train and validation sets."
   ]
  },
  {
   "cell_type": "code",
   "execution_count": 54,
   "id": "a7b069ca",
   "metadata": {},
   "outputs": [
    {
     "name": "stdout",
     "output_type": "stream",
     "text": [
      "Train: (19500, 28, 28, 1) (19500,)\n",
      "Valid: (500, 28, 28, 1) (500,)\n"
     ]
    }
   ],
   "source": [
    "from sklearn.model_selection import train_test_split\n",
    "\n",
    "# Split into train and validation sets\n",
    "X_train, X_valid, y_train, y_valid = train_test_split(\n",
    "    # Reshape images (28 by 28)\n",
    "    data.reshape(-1, 28, 28, 1), # Single channel (grayscale)\n",
    "    mnist['labels'],\n",
    "    test_size=500, random_state=0\n",
    ")\n",
    "\n",
    "# Print shape\n",
    "print('Train:', X_train.shape, y_train.shape)\n",
    "\n",
    "print('Valid:', X_valid.shape, y_valid.shape)"
   ]
  },
  {
   "cell_type": "markdown",
   "id": "da2afb0e",
   "metadata": {},
   "source": [
    "In this code, we reshape the flat matrix of image pixels back into 28x28x1 grids of values with the reshape() function from Numpy and get two 4-dimensional arrays of values X_train and X_test with respectively 19,500 and 500 images."
   ]
  },
  {
   "cell_type": "markdown",
   "id": "32997ff3",
   "metadata": {},
   "source": [
    "**Note: The last dimension, in this case representing the grayscale channel, is very important for ConvNets. It needs to be specified even if it only has one column, as is the case in our example.**\n",
    "\n",
    "#### Convolutional layer\n",
    "Let's build the graph. We will start by creating the placeholders for the images and labels."
   ]
  },
  {
   "cell_type": "code",
   "execution_count": 55,
   "id": "1208db2f",
   "metadata": {},
   "outputs": [],
   "source": [
    "import tensorflow as tf\n",
    "\n",
    "# Create new graph\n",
    "graph = tf.Graph()\n",
    "\n",
    "with graph.as_default():\n",
    "    # Placeholders\n",
    "    X = tf.placeholder(dtype=tf.float32, shape=[None, 28, 28, 1])\n",
    "    y = tf.placeholder(dtype=tf.int32, shape=[None])"
   ]
  },
  {
   "cell_type": "markdown",
   "id": "f7db5ea4",
   "metadata": {},
   "source": [
    "This time, the input X is a 4d tensor (n, 28, 28, 1) where n is the number of images that we inject into the graph and 1 is the number of channels of our input (i.e. one channel representing the grayscale values).\n",
    "\n",
    "We can then create a first convolutional layer. To achieve this, we will use the conv2d() function from the nn module. The function takes the input values and a kernel variable with the kernel weights. Note that it expects 4d tensors in both cases.\n",
    "\n",
    "- A [batch, in_height, in_width, in_channels] tensor for the input.\n",
    "- A [filter_height, filter_width, in_channels, out_channels] tensor for the kernels.\n",
    "\n",
    "We can pass the X placeholder from above for the input values, but we need to create the second tensor with the kernel weights."
   ]
  },
  {
   "cell_type": "code",
   "execution_count": 56,
   "id": "59d9f9d5",
   "metadata": {},
   "outputs": [],
   "source": [
    "with graph.as_default():\n",
    "    # Kernel matrix\n",
    "    kernel = tf.Variable(\n",
    "        initial_value=tf.truncated_normal(\n",
    "            shape=(5, 5, 1, 16), # Sixteen 5x5x1 kernels\n",
    "            stddev=0.01, # Small standard deviation\n",
    "            seed=0))"
   ]
  },
  {
   "cell_type": "markdown",
   "id": "fa672ac8",
   "metadata": {},
   "source": [
    "In this code, we create a Variable with the weights for the sixteen kernels and initialize it using a (truncated) normal distribution with a small standard deviation. Note that we have to specify the depth of the input values even if the images are 2-dimensional. For this reason, the shape of the kernels is 5x5x1 instead of 5x5, and the input images are 28x28x1 instead of 28x28.\n",
    "\n",
    "We can now create the convolution operation with the conv2d() function. We can specify the stride and the padding with the stride and padding arguments. For the stride, we need to provide a list with one value for each dimension in the input, i.e., how the kernels move on the [batch, in_height, in_width, in_channels] input tensor. In our case, we set it to [1, 2, 2, 1] since we are doing a 2x2 convolution over the height/width axes."
   ]
  },
  {
   "cell_type": "code",
   "execution_count": 57,
   "id": "12c2f42c",
   "metadata": {},
   "outputs": [
    {
     "name": "stdout",
     "output_type": "stream",
     "text": [
      "(?, 14, 14, 16)\n"
     ]
    }
   ],
   "source": [
    "with graph.as_default():\n",
    "    # Convolutional layer\n",
    "    conv = tf.nn.conv2d(\n",
    "        X, kernel,\n",
    "        strides=[1, 2, 2, 1], # Stride: 2\n",
    "        padding='SAME' # \"same\" padding\n",
    "    )\n",
    "\n",
    "print(conv.shape) "
   ]
  },
  {
   "cell_type": "markdown",
   "id": "68ed7688",
   "metadata": {},
   "source": [
    "The function creates a conv operation that produces sixteen 14x14 grids of values for each image. We can then add a variable with the biases and apply the activation function."
   ]
  },
  {
   "cell_type": "code",
   "execution_count": 58,
   "id": "d301360f",
   "metadata": {},
   "outputs": [],
   "source": [
    "with graph.as_default():\n",
    "    # Create biases (one per filter)\n",
    "    biases = tf.Variable(initial_value=tf.zeros(shape=[16]))\n",
    "\n",
    "    # Apply activation function\n",
    "    conv = tf.nn.relu(conv + biases) # ReLU"
   ]
  },
  {
   "cell_type": "markdown",
   "id": "606c3f2b",
   "metadata": {},
   "source": [
    "Note that we create one bias for each kernel and add them to the output values using the + operator. TensorFlow will automatically add each bias to the relevant filter using broadcasting.\n",
    "\n",
    "**Creating convolutional layers using the code from above can quickly become complex.** In particular with deep networks with several layers. For this reason, TensorFlow provides a **simplified conv2d()** function in its layers module that automatically creates all the variables and apply the relevant activation function. Let's redefine our network with this function."
   ]
  },
  {
   "cell_type": "code",
   "execution_count": 59,
   "id": "9017a300",
   "metadata": {},
   "outputs": [
    {
     "name": "stdout",
     "output_type": "stream",
     "text": [
      "(?, 14, 14, 16)\n"
     ]
    }
   ],
   "source": [
    "# Redefine graph\n",
    "graph = tf.Graph()\n",
    "\n",
    "with graph.as_default():\n",
    "    # Placeholders\n",
    "    X = tf.placeholder(dtype=tf.float32, shape=[None, 28, 28, 1])\n",
    "    y = tf.placeholder(dtype=tf.int32, shape=[None])\n",
    "\n",
    "    # Convolutional layer (simplified tf version)\n",
    "    conv = tf.layers.conv2d(\n",
    "        X, # Input data\n",
    "        filters=16, # 16 filters\n",
    "        kernel_size=(5, 5), # Kernel size: 5x5\n",
    "        strides=(2, 2), # Stride: 2\n",
    "        padding='SAME', # \"same\" padding\n",
    "        activation=tf.nn.relu, # ReLU\n",
    "        kernel_initializer=tf.truncated_normal_initializer(\n",
    "            stddev=0.01, seed=0), # Small standard deviation\n",
    "        name='conv' # Add name\n",
    "    )\n",
    "\n",
    "print(conv.shape)"
   ]
  },
  {
   "cell_type": "markdown",
   "id": "8653d6c3",
   "metadata": {},
   "source": [
    "This time, we pass the input variable, the number of filters, the stride and padding, the activation function and an initializer for the kernel weights. It's interesting to note that we don't have to repeat any values. This makes the network architecture much easier to edit, e.g., change the number of kernels or their size."
   ]
  },
  {
   "cell_type": "markdown",
   "id": "45359602",
   "metadata": {},
   "source": [
    "### Max pooling layer\n",
    "The layers module also provides a max_pooling2d() function to create max pooling layers. The function takes the 4d input tensor, the pool size, the stride, and padding."
   ]
  },
  {
   "cell_type": "code",
   "execution_count": 60,
   "id": "846bb998",
   "metadata": {},
   "outputs": [
    {
     "name": "stdout",
     "output_type": "stream",
     "text": [
      "(?, 7, 7, 16)\n"
     ]
    }
   ],
   "source": [
    "with graph.as_default():\n",
    "    # Max pooling layer\n",
    "    pool = tf.layers.max_pooling2d(\n",
    "        conv, # Convolution output\n",
    "        pool_size=(2, 2), # Pool size: 2\n",
    "        strides=(2, 2), # Stride: 2\n",
    "        padding='SAME' # \"same\" padding\n",
    "    )\n",
    "\n",
    "print(pool.shape)"
   ]
  },
  {
   "cell_type": "markdown",
   "id": "068bd045",
   "metadata": {},
   "source": [
    "As we can see, the max pooling layer reduced by half the dimensions of the input in the height/width axes and hence by 75% the number of values.\n",
    "\n",
    "### Convolutional neural network\n",
    "Let's add the second convolutional and max pooling layers on top of the first ones with the conv2d() and max_pooling2d() functions from the layer module."
   ]
  },
  {
   "cell_type": "code",
   "execution_count": 61,
   "id": "991f0bea",
   "metadata": {},
   "outputs": [
    {
     "name": "stdout",
     "output_type": "stream",
     "text": [
      "(?, 7, 7, 16)\n",
      "(?, 4, 4, 16)\n"
     ]
    }
   ],
   "source": [
    "with graph.as_default():\n",
    "    # Convolutional layer\n",
    "    conv2 = tf.layers.conv2d(\n",
    "        pool, # Max pooling output\n",
    "        filters=16, # 16 filters\n",
    "        kernel_size=(3, 3), # Kernel size: 3x3\n",
    "        strides=(1, 1), # Stride: 1\n",
    "        padding='SAME', # \"same\" padding\n",
    "        activation=tf.nn.relu, # ReLU\n",
    "        kernel_initializer=tf.truncated_normal_initializer(\n",
    "            stddev=0.01, seed=0), # Small standard deviation\n",
    "        name='conv2' # Add name\n",
    "    )\n",
    "\n",
    "    # Max pooling layer (2x2, stride: 2)\n",
    "    pool2 = tf.layers.max_pooling2d(\n",
    "        conv2, pool_size=(2, 2), strides=(2, 2), padding='SAME')\n",
    "\n",
    "print(conv2.shape) \n",
    "print(pool2.shape)"
   ]
  },
  {
   "cell_type": "markdown",
   "id": "afb0fc3d",
   "metadata": {},
   "source": [
    "This time, the convolutional layer doesn't modify the dimension of the input since it uses the \"same\" padding strategy with a stride of 1. On the other hand, the max pooling layer reduces its dimensions, and we get sixteen 4x4 grids (256 output values). In a typical ConvNet architecture, we use these high-level features to solve our task. In our example, we will combine these values into ten output logits with a fully-connected layer.\n",
    "\n",
    "But first, we need to flatten the 4x4x16 output volumes into flat vectors. To achieve this we can use the reshape() function from TensorFlow."
   ]
  },
  {
   "cell_type": "code",
   "execution_count": 62,
   "id": "d965e781",
   "metadata": {},
   "outputs": [
    {
     "name": "stdout",
     "output_type": "stream",
     "text": [
      "(?, 256)\n"
     ]
    }
   ],
   "source": [
    "with graph.as_default():\n",
    "    # Flatten output into a (batch_size, 256) matrix\n",
    "    flat_output = tf.reshape(pool2, [-1, 256])\n",
    "\n",
    "print(flat_output.shape) # Prints: (?, 256)"
   ]
  },
  {
   "cell_type": "markdown",
   "id": "827d23d8",
   "metadata": {},
   "source": [
    "In this code, we pass the desired output shape to the function. This can be an issue in practice since it depends on the current ConvNet architecture. In particular, we would need to recompute and edit the number of features each time we modify the first convolutional and max pooling layers, e.g., increase the number of kernels, change their size and so on.\n",
    "\n",
    "To avoid this, we can use the flatten(X) function from the contrib.layers module which automatically computes the shape of the input X and flattens the dimensions (except the first one which is the batch size)."
   ]
  },
  {
   "cell_type": "code",
   "execution_count": 63,
   "id": "68537e6c",
   "metadata": {},
   "outputs": [
    {
     "name": "stdout",
     "output_type": "stream",
     "text": [
      "(?, 256)\n"
     ]
    }
   ],
   "source": [
    "with graph.as_default():\n",
    "    # Flatten output\n",
    "    flat_output = tf.contrib.layers.flatten(pool2)\n",
    "\n",
    "print(flat_output.shape)"
   ]
  },
  {
   "cell_type": "markdown",
   "id": "a904051b",
   "metadata": {},
   "source": [
    "Note that the contrib module from TensorFlow contains code that is likely to evolve in the next versions. For instance, the flatten() function from above was moved to the tf.layers module in version 1.4.\n",
    "\n",
    "Now that we have a set of 256 features for each image, let's build the final classifier using a fully-connected layer."
   ]
  },
  {
   "cell_type": "code",
   "execution_count": 64,
   "id": "ad00ce84",
   "metadata": {},
   "outputs": [
    {
     "name": "stdout",
     "output_type": "stream",
     "text": [
      "(?, 10)\n"
     ]
    }
   ],
   "source": [
    "with graph.as_default():\n",
    "    # Output layer\n",
    "    logits = tf.layers.dense(\n",
    "        flat_output, 10, # Output units: 10\n",
    "        activation=None, # No activation function\n",
    "        kernel_initializer=tf.variance_scaling_initializer(scale=1, seed=0),\n",
    "        bias_initializer=tf.zeros_initializer(),\n",
    "        name='dense'\n",
    "    )\n",
    "\n",
    "print(logits.shape)"
   ]
  },
  {
   "cell_type": "markdown",
   "id": "f6f14e94",
   "metadata": {},
   "source": [
    "Let's take a look at the variables in our graph with the trainable_variables() function."
   ]
  },
  {
   "cell_type": "code",
   "execution_count": 65,
   "id": "373d9433",
   "metadata": {},
   "outputs": [
    {
     "name": "stdout",
     "output_type": "stream",
     "text": [
      "<tf.Variable 'conv/kernel:0' shape=(5, 5, 1, 16) dtype=float32_ref>\n",
      "<tf.Variable 'conv/bias:0' shape=(16,) dtype=float32_ref>\n",
      "<tf.Variable 'conv2/kernel:0' shape=(3, 3, 16, 16) dtype=float32_ref>\n",
      "<tf.Variable 'conv2/bias:0' shape=(16,) dtype=float32_ref>\n",
      "<tf.Variable 'dense/kernel:0' shape=(256, 10) dtype=float32_ref>\n",
      "<tf.Variable 'dense/bias:0' shape=(10,) dtype=float32_ref>\n"
     ]
    }
   ],
   "source": [
    "with graph.as_default():\n",
    "    # Get variables in the graph\n",
    "    for v in tf.trainable_variables():\n",
    "        print(v)"
   ]
  },
  {
   "cell_type": "markdown",
   "id": "0508ada3",
   "metadata": {},
   "source": [
    "Again, if we want to inspect some of the variables, we can obtain them with the variable_scope() and get_variable() functions. For instance, let's retrieve the kernel weights from the first convolutional layer to see how our low-level feature detectors look like after training."
   ]
  },
  {
   "cell_type": "code",
   "execution_count": 66,
   "id": "98346d23",
   "metadata": {},
   "outputs": [
    {
     "name": "stdout",
     "output_type": "stream",
     "text": [
      "(5, 5, 1, 16)\n"
     ]
    }
   ],
   "source": [
    "with graph.as_default():\n",
    "    # Kernel weights of the 1st conv. layer\n",
    "    with tf.variable_scope('conv', reuse=True):\n",
    "        conv_kernels = tf.get_variable('kernel')\n",
    "\n",
    "print(conv_kernels.shape)"
   ]
  },
  {
   "cell_type": "markdown",
   "id": "7529ac8c",
   "metadata": {},
   "source": [
    "Finally, let's define the loss function and the training operations. This time, **we will use the Adam optimizer. Adam is a very popular algorithm that was introduced in 2015**. It's now one of the default choices to optimize neural networks. We won't go into the details of how the algorithm works, but one of the key differences with stochastic gradient descent (SGD) is that it maintains a different learning rate for each parameter in the network.\n",
    "\n",
    "TensorFlow provides an AdamOptimizer object in its train module. It has several parameters, but we will only adjust the principal learning rate with an lr placeholder."
   ]
  },
  {
   "cell_type": "code",
   "execution_count": 67,
   "id": "3769a95a",
   "metadata": {},
   "outputs": [],
   "source": [
    "with graph.as_default():\n",
    "    # Mean cross-entropy\n",
    "    mean_ce = tf.reduce_mean(\n",
    "        tf.nn.sparse_softmax_cross_entropy_with_logits(\n",
    "            labels=y, logits=logits))\n",
    "\n",
    "    # Adam optimizer\n",
    "    lr = tf.placeholder(dtype=tf.float32)\n",
    "    gd = tf.train.AdamOptimizer(learning_rate=lr)\n",
    "\n",
    "    # Minimize cross-entropy\n",
    "    train_op = gd.minimize(mean_ce)\n",
    "\n",
    "    # Compute predictions and accuracy\n",
    "    predictions = tf.argmax(logits, axis=1, output_type=tf.int32)\n",
    "    is_correct = tf.equal(y, predictions)\n",
    "    accuracy = tf.reduce_mean(tf.cast(is_correct, dtype=tf.float32))"
   ]
  },
  {
   "cell_type": "markdown",
   "id": "77ce05ac",
   "metadata": {},
   "source": [
    "### Train network"
   ]
  },
  {
   "cell_type": "code",
   "execution_count": 68,
   "id": "06f078fb",
   "metadata": {},
   "outputs": [],
   "source": [
    "# Batch generator\n",
    "def get_batches(X, y, batch_size):\n",
    "    # Shuffle X,y\n",
    "    shuffled_idx = np.arange(len(y)) # 1,2,...,n\n",
    "    np.random.shuffle(shuffled_idx)\n",
    "\n",
    "    # Enumerate indexes by steps of batch_size\n",
    "    # i: 0, b, 2b, 3b, 4b, .. where b is the batch size\n",
    "    for i in range(0, len(y), batch_size):\n",
    "        # Batch indexes\n",
    "        batch_idx = shuffled_idx[i:i+batch_size]\n",
    "        yield X[batch_idx], y[batch_idx]"
   ]
  },
  {
   "cell_type": "code",
   "execution_count": null,
   "id": "bf3ae5a9",
   "metadata": {},
   "outputs": [],
   "source": []
  },
  {
   "cell_type": "code",
   "execution_count": 69,
   "id": "9e5df6ae",
   "metadata": {},
   "outputs": [
    {
     "name": "stdout",
     "output_type": "stream",
     "text": [
      "Epoch 1 - valid: 0.934 train: 0.756 (mean)\n",
      "Epoch 2 - valid: 0.966 train: 0.938 (mean)\n",
      "Epoch 3 - valid: 0.960 train: 0.950 (mean)\n",
      "Epoch 4 - valid: 0.968 train: 0.961 (mean)\n",
      "Epoch 5 - valid: 0.982 train: 0.967 (mean)\n",
      "Epoch 6 - valid: 0.974 train: 0.971 (mean)\n",
      "Epoch 7 - valid: 0.982 train: 0.974 (mean)\n",
      "Epoch 8 - valid: 0.980 train: 0.975 (mean)\n",
      "Epoch 9 - valid: 0.980 train: 0.978 (mean)\n",
      "Epoch 10 - valid: 0.978 train: 0.979 (mean)\n"
     ]
    }
   ],
   "source": [
    "# Validation accuracy\n",
    "valid_acc_values = []\n",
    "\n",
    "with tf.Session(graph=graph) as sess:\n",
    "    # Initialize variables\n",
    "    sess.run(tf.global_variables_initializer())\n",
    "\n",
    "    # Set seed\n",
    "    np.random.seed(0)\n",
    "\n",
    "    # Train several epochs\n",
    "    for epoch in range(10):\n",
    "        # Accuracy values (train) after each batch\n",
    "        batch_acc = []\n",
    "\n",
    "        for X_batch, y_batch in get_batches(X_train, y_train, 64):\n",
    "            # Run training and evaluate accuracy\n",
    "            _, acc_value = sess.run([train_op, accuracy], feed_dict={\n",
    "                X: X_batch,\n",
    "                y: y_batch,\n",
    "                lr: 0.001 # Learning rate\n",
    "            })\n",
    "\n",
    "            # Save accuracy (current batch)\n",
    "            batch_acc.append(acc_value)\n",
    "\n",
    "        # Evaluate validation accuracy\n",
    "        valid_acc = sess.run(accuracy, feed_dict={\n",
    "            X: X_valid,\n",
    "            y: y_valid\n",
    "        })\n",
    "        valid_acc_values.append(valid_acc)\n",
    "\n",
    "        # Print progress\n",
    "        print('Epoch {} - valid: {:.3f} train: {:.3f} (mean)'.format(\n",
    "            epoch+1, valid_acc, np.mean(batch_acc)\n",
    "        ))\n",
    "\n",
    "    # Get 1st conv. layer kernels\n",
    "    kernels = conv_kernels.eval()\n"
   ]
  },
  {
   "cell_type": "markdown",
   "id": "78e26e9b",
   "metadata": {},
   "source": [
    "In this code, we run the training operation and save the accuracy on each batch of data. After each epoch, we evaluate the network on the validation set and compare its validation accuracy to the mean of the train accuracy values. In our case, the train and validation accuracy values are close to each other which is a good sign that the network is not overfitting. At the end of the training process, we save the weights of the kernels from the first convolutional layer in a kernels variable to visualize them."
   ]
  },
  {
   "cell_type": "code",
   "execution_count": 70,
   "id": "952c82b7",
   "metadata": {},
   "outputs": [
    {
     "data": {
      "image/png": "[encoded data removed]",
      "text/plain": [
       "<Figure size 432x288 with 1 Axes>"
      ]
     },
     "metadata": {
      "needs_background": "light"
     },
     "output_type": "display_data"
    }
   ],
   "source": [
    "%matplotlib inline\n",
    "import matplotlib.pyplot as plt\n",
    "\n",
    "# Plot accuracy values\n",
    "plt.plot(valid_acc_values)\n",
    "plt.title('Validation accuracy: {:.3f} (mean last 3)'.format(\n",
    "    np.mean(valid_acc_values[-3:]) # Last three values\n",
    "))\n",
    "plt.xlabel('epoch')\n",
    "plt.ylabel('accuracy')\n",
    "plt.show()"
   ]
  },
  {
   "cell_type": "markdown",
   "id": "f2bc0874",
   "metadata": {},
   "source": [
    "### Plot filters\n",
    "\n",
    "Let's visualize the 16 kernels from the first layer. To achieve this, we need to extract the 5x5 kernel weights from the kernels variable which is an array of shape (5, 5, 1, 16)."
   ]
  },
  {
   "cell_type": "code",
   "execution_count": 71,
   "id": "6c3658b7",
   "metadata": {},
   "outputs": [
    {
     "data": {
      "image/png": "[encoded data removed]",
      "text/plain": [
       "<Figure size 576x576 with 16 Axes>"
      ]
     },
     "metadata": {
      "needs_background": "light"
     },
     "output_type": "display_data"
    }
   ],
   "source": [
    "# Create figure with subplots\n",
    "fig, axes = plt.subplots(nrows=4, ncols=4, figsize=(8, 8))\n",
    "\n",
    "# Plot the 16 kernels from the first convolutional layer\n",
    "for i, axis in enumerate(axes.flatten()):\n",
    "    # Get i-th kernel\n",
    "    kernel = kernels[:, :, :, i]\n",
    "\n",
    "    # Kernels are 5x5x1 (height, width, channels)\n",
    "    # Remove last dimension\n",
    "    kernel = kernel[:, :, 0] # (5, 5) kernel\n",
    "\n",
    "    # Plot kernel with imshow()\n",
    "    axis.set_title('kernel {}'.format(i+1))\n",
    "    axis.imshow(kernel, cmap=plt.cm.gray_r)\n",
    "    axis.get_xaxis().set_visible(False) # disable x-axis\n",
    "    axis.get_yaxis().set_visible(False) # disable y-axis\n",
    "\n",
    "plt.show()"
   ]
  },
  {
   "cell_type": "markdown",
   "id": "5bf90a88",
   "metadata": {},
   "source": [
    "In this code, we create a 4x4 grid of subplots with the subplots() function from Pyplot which returns a 4x4 axes array with the subplot axes. We use the flatten() function to convert this 2-dimensional array into a 1-dimensional one with the 16 axes and then iterate through this array of axes with the Python enumerate() function which returns each axis and its index in the flat array, i.e., integers between 0 and 15. We use this index to extract the weights from the i-th kernel and plot them with the imshow() function.\n"
   ]
  },
  {
   "cell_type": "code",
   "execution_count": null,
   "id": "c864c187",
   "metadata": {},
   "outputs": [],
   "source": []
  },
  {
   "cell_type": "markdown",
   "id": "6c0a87cb",
   "metadata": {},
   "source": [
    "### Summary\n",
    "\n",
    "In this unit, we learned about convolutional neural networks and saw how to implement them in TensorFlow using the functions from its nn and layers modules. If you want to learn more about ConvNets, we highly recommend you to watch this presentation from Andrej Karpathy. https://www.youtube.com/watch?v=u6aEYuemt0M\n",
    "\n",
    "In the next exercise, you will build a ConvNet for the CIFAR-10 data set. This is a good opportunity to experiment with different architectures and parameters, e.g., the number of kernels, their sizes, the stride, the number of convolutional layers and so on."
   ]
  },
  {
   "cell_type": "markdown",
   "id": "83c725ca",
   "metadata": {},
   "source": [
    "### Exercise\n",
    "To see the effect of each kernel on the images, you can pick one from the validation set and plot the corresponding convolutional output conv. You should get a set of sixteen 14x14 output grids (also called activation or feature maps). This time, it's your turn to write the code!\n",
    "\n",
    "4-8-3"
   ]
  },
  {
   "cell_type": "code",
   "execution_count": null,
   "id": "304c4b71",
   "metadata": {},
   "outputs": [],
   "source": []
  }
 ],
 "metadata": {
  "kernelspec": {
   "display_name": "Python 3",
   "language": "python",
   "name": "python3"
  },
  "language_info": {
   "codemirror_mode": {
    "name": "ipython",
    "version": 3
   },
   "file_extension": ".py",
   "mimetype": "text/x-python",
   "name": "python",
   "nbconvert_exporter": "python",
   "pygments_lexer": "ipython3",
   "version": "3.6.13"
  }
 },
 "nbformat": 4,
 "nbformat_minor": 5
}
