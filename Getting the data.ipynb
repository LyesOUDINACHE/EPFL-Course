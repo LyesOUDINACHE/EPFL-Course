{
 "cells": [
  {
   "cell_type": "markdown",
   "metadata": {},
   "source": [
    "# Reading data from csv files"
   ]
  },
  {
   "cell_type": "code",
   "execution_count": 1,
   "metadata": {},
   "outputs": [],
   "source": [
    "import numpy as np\n",
    "import pandas as pd"
   ]
  },
  {
   "cell_type": "raw",
   "metadata": {},
   "source": [
    "créer un fichier csv\n",
    "a,b,c,d\n",
    "yellow,10,2,3.2\n",
    "green,2,3,8.1\n",
    "blue,7,1,0.4"
   ]
  },
  {
   "cell_type": "code",
   "execution_count": 2,
   "metadata": {},
   "outputs": [
    {
     "data": {
      "text/html": [
       "<div>\n",
       "<style scoped>\n",
       "    .dataframe tbody tr th:only-of-type {\n",
       "        vertical-align: middle;\n",
       "    }\n",
       "\n",
       "    .dataframe tbody tr th {\n",
       "        vertical-align: top;\n",
       "    }\n",
       "\n",
       "    .dataframe thead th {\n",
       "        text-align: right;\n",
       "    }\n",
       "</style>\n",
       "<table border=\"1\" class=\"dataframe\">\n",
       "  <thead>\n",
       "    <tr style=\"text-align: right;\">\n",
       "      <th></th>\n",
       "      <th>a</th>\n",
       "      <th>b</th>\n",
       "      <th>c</th>\n",
       "      <th>d</th>\n",
       "    </tr>\n",
       "  </thead>\n",
       "  <tbody>\n",
       "    <tr>\n",
       "      <th>0</th>\n",
       "      <td>yellow</td>\n",
       "      <td>10</td>\n",
       "      <td>2</td>\n",
       "      <td>3.2</td>\n",
       "    </tr>\n",
       "    <tr>\n",
       "      <th>1</th>\n",
       "      <td>green</td>\n",
       "      <td>2</td>\n",
       "      <td>3</td>\n",
       "      <td>8.1</td>\n",
       "    </tr>\n",
       "    <tr>\n",
       "      <th>2</th>\n",
       "      <td>blue</td>\n",
       "      <td>7</td>\n",
       "      <td>1</td>\n",
       "      <td>0.4</td>\n",
       "    </tr>\n",
       "  </tbody>\n",
       "</table>\n",
       "</div>"
      ],
      "text/plain": [
       "        a   b  c    d\n",
       "0  yellow  10  2  3.2\n",
       "1   green   2  3  8.1\n",
       "2    blue   7  1  0.4"
      ]
     },
     "execution_count": 2,
     "metadata": {},
     "output_type": "execute_result"
    }
   ],
   "source": [
    "df = pd.read_csv('test_file.csv')\n",
    "df"
   ]
  },
  {
   "cell_type": "code",
   "execution_count": 3,
   "metadata": {},
   "outputs": [
    {
     "data": {
      "text/html": [
       "<div>\n",
       "<style scoped>\n",
       "    .dataframe tbody tr th:only-of-type {\n",
       "        vertical-align: middle;\n",
       "    }\n",
       "\n",
       "    .dataframe tbody tr th {\n",
       "        vertical-align: top;\n",
       "    }\n",
       "\n",
       "    .dataframe thead th {\n",
       "        text-align: right;\n",
       "    }\n",
       "</style>\n",
       "<table border=\"1\" class=\"dataframe\">\n",
       "  <thead>\n",
       "    <tr style=\"text-align: right;\">\n",
       "      <th></th>\n",
       "      <th>column 1</th>\n",
       "      <th>column 2</th>\n",
       "      <th>column 3</th>\n",
       "      <th>column 4</th>\n",
       "    </tr>\n",
       "  </thead>\n",
       "  <tbody>\n",
       "    <tr>\n",
       "      <th>0</th>\n",
       "      <td>a</td>\n",
       "      <td>b</td>\n",
       "      <td>c</td>\n",
       "      <td>d</td>\n",
       "    </tr>\n",
       "    <tr>\n",
       "      <th>1</th>\n",
       "      <td>yellow</td>\n",
       "      <td>10</td>\n",
       "      <td>2</td>\n",
       "      <td>3.2</td>\n",
       "    </tr>\n",
       "    <tr>\n",
       "      <th>2</th>\n",
       "      <td>green</td>\n",
       "      <td>2</td>\n",
       "      <td>3</td>\n",
       "      <td>8.1</td>\n",
       "    </tr>\n",
       "    <tr>\n",
       "      <th>3</th>\n",
       "      <td>blue</td>\n",
       "      <td>7</td>\n",
       "      <td>1</td>\n",
       "      <td>0.4</td>\n",
       "    </tr>\n",
       "  </tbody>\n",
       "</table>\n",
       "</div>"
      ],
      "text/plain": [
       "  column 1 column 2 column 3 column 4\n",
       "0        a        b        c        d\n",
       "1   yellow       10        2      3.2\n",
       "2    green        2        3      8.1\n",
       "3     blue        7        1      0.4"
      ]
     },
     "execution_count": 3,
     "metadata": {},
     "output_type": "execute_result"
    }
   ],
   "source": [
    "pd.read_csv('test_file.csv',names=['column 1','column 2','column 3','column 4'])"
   ]
  },
  {
   "cell_type": "code",
   "execution_count": 4,
   "metadata": {},
   "outputs": [
    {
     "data": {
      "text/html": [
       "<div>\n",
       "<style scoped>\n",
       "    .dataframe tbody tr th:only-of-type {\n",
       "        vertical-align: middle;\n",
       "    }\n",
       "\n",
       "    .dataframe tbody tr th {\n",
       "        vertical-align: top;\n",
       "    }\n",
       "\n",
       "    .dataframe thead th {\n",
       "        text-align: right;\n",
       "    }\n",
       "</style>\n",
       "<table border=\"1\" class=\"dataframe\">\n",
       "  <thead>\n",
       "    <tr style=\"text-align: right;\">\n",
       "      <th></th>\n",
       "      <th>b</th>\n",
       "      <th>c</th>\n",
       "      <th>d</th>\n",
       "    </tr>\n",
       "    <tr>\n",
       "      <th>a</th>\n",
       "      <th></th>\n",
       "      <th></th>\n",
       "      <th></th>\n",
       "    </tr>\n",
       "  </thead>\n",
       "  <tbody>\n",
       "    <tr>\n",
       "      <th>yellow</th>\n",
       "      <td>10</td>\n",
       "      <td>2</td>\n",
       "      <td>3.2</td>\n",
       "    </tr>\n",
       "    <tr>\n",
       "      <th>green</th>\n",
       "      <td>2</td>\n",
       "      <td>3</td>\n",
       "      <td>8.1</td>\n",
       "    </tr>\n",
       "    <tr>\n",
       "      <th>blue</th>\n",
       "      <td>7</td>\n",
       "      <td>1</td>\n",
       "      <td>0.4</td>\n",
       "    </tr>\n",
       "  </tbody>\n",
       "</table>\n",
       "</div>"
      ],
      "text/plain": [
       "         b  c    d\n",
       "a                 \n",
       "yellow  10  2  3.2\n",
       "green    2  3  8.1\n",
       "blue     7  1  0.4"
      ]
     },
     "execution_count": 4,
     "metadata": {},
     "output_type": "execute_result"
    }
   ],
   "source": [
    "pd.read_csv('test_file.csv', index_col=0)"
   ]
  },
  {
   "cell_type": "code",
   "execution_count": 5,
   "metadata": {},
   "outputs": [
    {
     "data": {
      "text/plain": [
       "a     object\n",
       "b      int64\n",
       "c      int64\n",
       "d    float64\n",
       "dtype: object"
      ]
     },
     "execution_count": 5,
     "metadata": {},
     "output_type": "execute_result"
    }
   ],
   "source": [
    "df.dtypes"
   ]
  },
  {
   "cell_type": "code",
   "execution_count": 6,
   "metadata": {},
   "outputs": [
    {
     "data": {
      "text/plain": [
       "a     object\n",
       "b    float64\n",
       "c      int64\n",
       "d    float64\n",
       "dtype: object"
      ]
     },
     "execution_count": 6,
     "metadata": {},
     "output_type": "execute_result"
    }
   ],
   "source": [
    "#Forcer le format\n",
    "\n",
    "df2 = pd.read_csv('test_file.csv',  dtype = { 'b' : np.float64})\n",
    "df2.dtypes"
   ]
  },
  {
   "cell_type": "markdown",
   "metadata": {},
   "source": [
    "#### Loading Partial"
   ]
  },
  {
   "cell_type": "code",
   "execution_count": 7,
   "metadata": {},
   "outputs": [
    {
     "data": {
      "text/html": [
       "<div>\n",
       "<style scoped>\n",
       "    .dataframe tbody tr th:only-of-type {\n",
       "        vertical-align: middle;\n",
       "    }\n",
       "\n",
       "    .dataframe tbody tr th {\n",
       "        vertical-align: top;\n",
       "    }\n",
       "\n",
       "    .dataframe thead th {\n",
       "        text-align: right;\n",
       "    }\n",
       "</style>\n",
       "<table border=\"1\" class=\"dataframe\">\n",
       "  <thead>\n",
       "    <tr style=\"text-align: right;\">\n",
       "      <th></th>\n",
       "      <th>a</th>\n",
       "      <th>b</th>\n",
       "    </tr>\n",
       "  </thead>\n",
       "  <tbody>\n",
       "    <tr>\n",
       "      <th>0</th>\n",
       "      <td>yellow</td>\n",
       "      <td>10</td>\n",
       "    </tr>\n",
       "    <tr>\n",
       "      <th>1</th>\n",
       "      <td>green</td>\n",
       "      <td>2</td>\n",
       "    </tr>\n",
       "    <tr>\n",
       "      <th>2</th>\n",
       "      <td>blue</td>\n",
       "      <td>7</td>\n",
       "    </tr>\n",
       "  </tbody>\n",
       "</table>\n",
       "</div>"
      ],
      "text/plain": [
       "        a   b\n",
       "0  yellow  10\n",
       "1   green   2\n",
       "2    blue   7"
      ]
     },
     "execution_count": 7,
     "metadata": {},
     "output_type": "execute_result"
    }
   ],
   "source": [
    "pd.read_csv(\"test_file.csv\", usecols=['a', 'b'])"
   ]
  },
  {
   "cell_type": "markdown",
   "metadata": {},
   "source": [
    "# Reading data from Excel files"
   ]
  },
  {
   "cell_type": "code",
   "execution_count": 8,
   "metadata": {},
   "outputs": [
    {
     "data": {
      "text/html": [
       "<div>\n",
       "<style scoped>\n",
       "    .dataframe tbody tr th:only-of-type {\n",
       "        vertical-align: middle;\n",
       "    }\n",
       "\n",
       "    .dataframe tbody tr th {\n",
       "        vertical-align: top;\n",
       "    }\n",
       "\n",
       "    .dataframe thead th {\n",
       "        text-align: right;\n",
       "    }\n",
       "</style>\n",
       "<table border=\"1\" class=\"dataframe\">\n",
       "  <thead>\n",
       "    <tr style=\"text-align: right;\">\n",
       "      <th></th>\n",
       "      <th>varA</th>\n",
       "      <th>varB</th>\n",
       "      <th>varC</th>\n",
       "    </tr>\n",
       "  </thead>\n",
       "  <tbody>\n",
       "    <tr>\n",
       "      <th>0</th>\n",
       "      <td>0.391723</td>\n",
       "      <td>-0.155122</td>\n",
       "      <td>0.381104</td>\n",
       "    </tr>\n",
       "    <tr>\n",
       "      <th>1</th>\n",
       "      <td>0.575125</td>\n",
       "      <td>-0.105817</td>\n",
       "      <td>0.232245</td>\n",
       "    </tr>\n",
       "    <tr>\n",
       "      <th>2</th>\n",
       "      <td>0.672305</td>\n",
       "      <td>0.424688</td>\n",
       "      <td>-0.694795</td>\n",
       "    </tr>\n",
       "    <tr>\n",
       "      <th>3</th>\n",
       "      <td>0.766115</td>\n",
       "      <td>-0.791350</td>\n",
       "      <td>-0.028739</td>\n",
       "    </tr>\n",
       "    <tr>\n",
       "      <th>4</th>\n",
       "      <td>0.677259</td>\n",
       "      <td>-0.817543</td>\n",
       "      <td>-0.537088</td>\n",
       "    </tr>\n",
       "    <tr>\n",
       "      <th>5</th>\n",
       "      <td>-0.029702</td>\n",
       "      <td>-0.891848</td>\n",
       "      <td>-0.682719</td>\n",
       "    </tr>\n",
       "    <tr>\n",
       "      <th>6</th>\n",
       "      <td>-0.161366</td>\n",
       "      <td>-0.659600</td>\n",
       "      <td>-0.727898</td>\n",
       "    </tr>\n",
       "    <tr>\n",
       "      <th>7</th>\n",
       "      <td>0.031672</td>\n",
       "      <td>0.016607</td>\n",
       "      <td>-0.940479</td>\n",
       "    </tr>\n",
       "    <tr>\n",
       "      <th>8</th>\n",
       "      <td>0.833212</td>\n",
       "      <td>-0.503236</td>\n",
       "      <td>-0.887210</td>\n",
       "    </tr>\n",
       "    <tr>\n",
       "      <th>9</th>\n",
       "      <td>0.907753</td>\n",
       "      <td>0.265177</td>\n",
       "      <td>-0.390762</td>\n",
       "    </tr>\n",
       "  </tbody>\n",
       "</table>\n",
       "</div>"
      ],
      "text/plain": [
       "       varA      varB      varC\n",
       "0  0.391723 -0.155122  0.381104\n",
       "1  0.575125 -0.105817  0.232245\n",
       "2  0.672305  0.424688 -0.694795\n",
       "3  0.766115 -0.791350 -0.028739\n",
       "4  0.677259 -0.817543 -0.537088\n",
       "5 -0.029702 -0.891848 -0.682719\n",
       "6 -0.161366 -0.659600 -0.727898\n",
       "7  0.031672  0.016607 -0.940479\n",
       "8  0.833212 -0.503236 -0.887210\n",
       "9  0.907753  0.265177 -0.390762"
      ]
     },
     "execution_count": 8,
     "metadata": {},
     "output_type": "execute_result"
    }
   ],
   "source": [
    "import pandas as pd\n",
    "pd.read_excel('data.xls')"
   ]
  },
  {
   "cell_type": "code",
   "execution_count": 9,
   "metadata": {},
   "outputs": [
    {
     "data": {
      "text/html": [
       "<div>\n",
       "<style scoped>\n",
       "    .dataframe tbody tr th:only-of-type {\n",
       "        vertical-align: middle;\n",
       "    }\n",
       "\n",
       "    .dataframe tbody tr th {\n",
       "        vertical-align: top;\n",
       "    }\n",
       "\n",
       "    .dataframe thead th {\n",
       "        text-align: right;\n",
       "    }\n",
       "</style>\n",
       "<table border=\"1\" class=\"dataframe\">\n",
       "  <thead>\n",
       "    <tr style=\"text-align: right;\">\n",
       "      <th></th>\n",
       "      <th>varD</th>\n",
       "      <th>varE</th>\n",
       "      <th>varF</th>\n",
       "    </tr>\n",
       "  </thead>\n",
       "  <tbody>\n",
       "    <tr>\n",
       "      <th>0</th>\n",
       "      <td>0.907753</td>\n",
       "      <td>0.265177</td>\n",
       "      <td>-0.390762</td>\n",
       "    </tr>\n",
       "    <tr>\n",
       "      <th>1</th>\n",
       "      <td>0.755019</td>\n",
       "      <td>-0.768056</td>\n",
       "      <td>-0.528307</td>\n",
       "    </tr>\n",
       "    <tr>\n",
       "      <th>2</th>\n",
       "      <td>0.850692</td>\n",
       "      <td>-0.537159</td>\n",
       "      <td>-0.601387</td>\n",
       "    </tr>\n",
       "    <tr>\n",
       "      <th>3</th>\n",
       "      <td>0.131663</td>\n",
       "      <td>0.941327</td>\n",
       "      <td>0.240073</td>\n",
       "    </tr>\n",
       "    <tr>\n",
       "      <th>4</th>\n",
       "      <td>0.574400</td>\n",
       "      <td>0.091735</td>\n",
       "      <td>-0.395277</td>\n",
       "    </tr>\n",
       "    <tr>\n",
       "      <th>5</th>\n",
       "      <td>0.816630</td>\n",
       "      <td>0.875612</td>\n",
       "      <td>-0.880044</td>\n",
       "    </tr>\n",
       "    <tr>\n",
       "      <th>6</th>\n",
       "      <td>0.536732</td>\n",
       "      <td>0.175428</td>\n",
       "      <td>-0.473053</td>\n",
       "    </tr>\n",
       "    <tr>\n",
       "      <th>7</th>\n",
       "      <td>-0.084641</td>\n",
       "      <td>-0.042827</td>\n",
       "      <td>0.053344</td>\n",
       "    </tr>\n",
       "    <tr>\n",
       "      <th>8</th>\n",
       "      <td>0.268271</td>\n",
       "      <td>-0.010628</td>\n",
       "      <td>-0.090952</td>\n",
       "    </tr>\n",
       "    <tr>\n",
       "      <th>9</th>\n",
       "      <td>0.166792</td>\n",
       "      <td>-0.872579</td>\n",
       "      <td>-0.556899</td>\n",
       "    </tr>\n",
       "  </tbody>\n",
       "</table>\n",
       "</div>"
      ],
      "text/plain": [
       "       varD      varE      varF\n",
       "0  0.907753  0.265177 -0.390762\n",
       "1  0.755019 -0.768056 -0.528307\n",
       "2  0.850692 -0.537159 -0.601387\n",
       "3  0.131663  0.941327  0.240073\n",
       "4  0.574400  0.091735 -0.395277\n",
       "5  0.816630  0.875612 -0.880044\n",
       "6  0.536732  0.175428 -0.473053\n",
       "7 -0.084641 -0.042827  0.053344\n",
       "8  0.268271 -0.010628 -0.090952\n",
       "9  0.166792 -0.872579 -0.556899"
      ]
     },
     "execution_count": 9,
     "metadata": {},
     "output_type": "execute_result"
    }
   ],
   "source": [
    "pd.read_excel('data.xls', sheet_name='Sheet2')"
   ]
  },
  {
   "cell_type": "code",
   "execution_count": 10,
   "metadata": {},
   "outputs": [
    {
     "data": {
      "text/html": [
       "<div>\n",
       "<style scoped>\n",
       "    .dataframe tbody tr th:only-of-type {\n",
       "        vertical-align: middle;\n",
       "    }\n",
       "\n",
       "    .dataframe tbody tr th {\n",
       "        vertical-align: top;\n",
       "    }\n",
       "\n",
       "    .dataframe thead th {\n",
       "        text-align: right;\n",
       "    }\n",
       "</style>\n",
       "<table border=\"1\" class=\"dataframe\">\n",
       "  <thead>\n",
       "    <tr style=\"text-align: right;\">\n",
       "      <th></th>\n",
       "      <th>varD</th>\n",
       "      <th>varE</th>\n",
       "    </tr>\n",
       "  </thead>\n",
       "  <tbody>\n",
       "    <tr>\n",
       "      <th>0</th>\n",
       "      <td>0.907753</td>\n",
       "      <td>0.265177</td>\n",
       "    </tr>\n",
       "    <tr>\n",
       "      <th>1</th>\n",
       "      <td>0.755019</td>\n",
       "      <td>-0.768056</td>\n",
       "    </tr>\n",
       "    <tr>\n",
       "      <th>2</th>\n",
       "      <td>0.850692</td>\n",
       "      <td>-0.537159</td>\n",
       "    </tr>\n",
       "    <tr>\n",
       "      <th>3</th>\n",
       "      <td>0.131663</td>\n",
       "      <td>0.941327</td>\n",
       "    </tr>\n",
       "    <tr>\n",
       "      <th>4</th>\n",
       "      <td>0.574400</td>\n",
       "      <td>0.091735</td>\n",
       "    </tr>\n",
       "    <tr>\n",
       "      <th>5</th>\n",
       "      <td>0.816630</td>\n",
       "      <td>0.875612</td>\n",
       "    </tr>\n",
       "    <tr>\n",
       "      <th>6</th>\n",
       "      <td>0.536732</td>\n",
       "      <td>0.175428</td>\n",
       "    </tr>\n",
       "    <tr>\n",
       "      <th>7</th>\n",
       "      <td>-0.084641</td>\n",
       "      <td>-0.042827</td>\n",
       "    </tr>\n",
       "    <tr>\n",
       "      <th>8</th>\n",
       "      <td>0.268271</td>\n",
       "      <td>-0.010628</td>\n",
       "    </tr>\n",
       "    <tr>\n",
       "      <th>9</th>\n",
       "      <td>0.166792</td>\n",
       "      <td>-0.872579</td>\n",
       "    </tr>\n",
       "  </tbody>\n",
       "</table>\n",
       "</div>"
      ],
      "text/plain": [
       "       varD      varE\n",
       "0  0.907753  0.265177\n",
       "1  0.755019 -0.768056\n",
       "2  0.850692 -0.537159\n",
       "3  0.131663  0.941327\n",
       "4  0.574400  0.091735\n",
       "5  0.816630  0.875612\n",
       "6  0.536732  0.175428\n",
       "7 -0.084641 -0.042827\n",
       "8  0.268271 -0.010628\n",
       "9  0.166792 -0.872579"
      ]
     },
     "execution_count": 10,
     "metadata": {},
     "output_type": "execute_result"
    }
   ],
   "source": [
    "pd.read_excel('data.xls', sheet_name='Sheet2', usecols = ['varD','varE'])"
   ]
  },
  {
   "cell_type": "markdown",
   "metadata": {},
   "source": [
    "# JSON data"
   ]
  },
  {
   "cell_type": "markdown",
   "metadata": {},
   "source": [
    "When dealing with data on the web, the most common format that we will come across is JSON, which stands for JavaScript Object Notation. In a nutshell, JSON is a file format used to transmit information between web servers and clients or browsers in logical and structured manner. It was first developed in the early 2000s as a response to a need for a better server-to-browser communication protocol. As suggested by its name, it was originally derived from the JavaScript programming language; however, unlike JavaScript objects, a JSON object can be transferred between different programming languages in a format that all languages can work with. In fact, nowadays, almost all programming languages contain functions or libraries that can read and write JSON data.\n",
    "\n",
    "\n",
    "#### Syntax and structure\n",
    "JSON can contain two types of elements:\n",
    "\n",
    "- JSON objects\n",
    "- arrays\n",
    "\n",
    "A JSON object is essentially just a key-value data format that is stored inside curly brackets. Here is an example:"
   ]
  },
  {
   "cell_type": "code",
   "execution_count": 11,
   "metadata": {},
   "outputs": [
    {
     "data": {
      "text/plain": [
       "{'userID': 12345, 'userName': 'John Smith'}"
      ]
     },
     "execution_count": 11,
     "metadata": {},
     "output_type": "execute_result"
    }
   ],
   "source": [
    "{\n",
    "  \"userID\": 12345,\n",
    "  \"userName\": \"John Smith\"\n",
    "}"
   ]
  },
  {
   "cell_type": "markdown",
   "metadata": {},
   "source": [
    "An array is an ordered collection that can contain values of different data types. The main syntactical difference between JSON objects and arrays is that arrays are stored inside square brackets. We can use arrays as the value field of a JSON object as shown below"
   ]
  },
  {
   "cell_type": "code",
   "execution_count": 12,
   "metadata": {},
   "outputs": [
    {
     "data": {
      "text/plain": [
       "{'userID': 12345,\n",
       " 'userName': 'John Smith',\n",
       " 'results': [{'test': 'Verbal Reasoning', 'score': 140},\n",
       "  {'test': 'Quantitative Reasoning', 'score': 165},\n",
       "  {'test': 'Analytical Writing', 'score': 5}],\n",
       " 'testCompleted': True}"
      ]
     },
     "execution_count": 12,
     "metadata": {},
     "output_type": "execute_result"
    }
   ],
   "source": [
    "{\n",
    "  \"userID\": 12345,\n",
    "  \"userName\": \"John Smith\",\n",
    "  \"results\": [\n",
    "    {\n",
    "      \"test\": \"Verbal Reasoning\",\n",
    "      \"score\": 140\n",
    "     },\n",
    "    {\n",
    "      \"test\":\"Quantitative Reasoning\",\n",
    "       \"score\": 165\n",
    "    },\n",
    "    {\n",
    "      \"test\":\"Analytical Writing\",\n",
    "       \"score\": 5\n",
    "    }\n",
    "  ],\n",
    "  \"testCompleted\": True\n",
    "}"
   ]
  },
  {
   "cell_type": "code",
   "execution_count": 13,
   "metadata": {},
   "outputs": [
    {
     "data": {
      "text/plain": [
       "{'col1': {'row1': 0, 'row2': 4, 'row3': 8, 'row4': 12},\n",
       " 'col2': {'row1': 1, 'row2': 5, 'row3': 9, 'row4': 13},\n",
       " 'col3': {'row1': 2, 'row2': 6, 'row3': 10, 'row4': 14},\n",
       " 'col4': {'row1': 3, 'row2': 7, 'row3': 11, 'row4': 15}}"
      ]
     },
     "execution_count": 13,
     "metadata": {},
     "output_type": "execute_result"
    }
   ],
   "source": [
    "{\n",
    "    \"col1\":\n",
    "        {\n",
    "            \"row1\":0,\"row2\":4,\"row3\":8,\"row4\":12\n",
    "        },\n",
    "    \"col2\":\n",
    "        {\n",
    "            \"row1\":1,\"row2\":5,\"row3\":9,\"row4\":13\n",
    "        },\n",
    "    \"col3\":\n",
    "        {\n",
    "            \"row1\":2,\"row2\":6,\"row3\":10,\"row4\":14\n",
    "        },\n",
    "    \"col4\":\n",
    "        {\n",
    "            \"row1\":3,\"row2\":7,\"row3\":11,\"row4\":15\n",
    "        }\n",
    "}"
   ]
  },
  {
   "cell_type": "code",
   "execution_count": 14,
   "metadata": {},
   "outputs": [
    {
     "data": {
      "text/html": [
       "<div>\n",
       "<style scoped>\n",
       "    .dataframe tbody tr th:only-of-type {\n",
       "        vertical-align: middle;\n",
       "    }\n",
       "\n",
       "    .dataframe tbody tr th {\n",
       "        vertical-align: top;\n",
       "    }\n",
       "\n",
       "    .dataframe thead th {\n",
       "        text-align: right;\n",
       "    }\n",
       "</style>\n",
       "<table border=\"1\" class=\"dataframe\">\n",
       "  <thead>\n",
       "    <tr style=\"text-align: right;\">\n",
       "      <th></th>\n",
       "      <th>col1</th>\n",
       "      <th>col2</th>\n",
       "      <th>col3</th>\n",
       "      <th>col4</th>\n",
       "    </tr>\n",
       "  </thead>\n",
       "  <tbody>\n",
       "    <tr>\n",
       "      <th>row1</th>\n",
       "      <td>0</td>\n",
       "      <td>1</td>\n",
       "      <td>2</td>\n",
       "      <td>3</td>\n",
       "    </tr>\n",
       "    <tr>\n",
       "      <th>row2</th>\n",
       "      <td>4</td>\n",
       "      <td>5</td>\n",
       "      <td>6</td>\n",
       "      <td>7</td>\n",
       "    </tr>\n",
       "    <tr>\n",
       "      <th>row3</th>\n",
       "      <td>8</td>\n",
       "      <td>9</td>\n",
       "      <td>10</td>\n",
       "      <td>11</td>\n",
       "    </tr>\n",
       "    <tr>\n",
       "      <th>row4</th>\n",
       "      <td>12</td>\n",
       "      <td>13</td>\n",
       "      <td>14</td>\n",
       "      <td>15</td>\n",
       "    </tr>\n",
       "  </tbody>\n",
       "</table>\n",
       "</div>"
      ],
      "text/plain": [
       "      col1  col2  col3  col4\n",
       "row1     0     1     2     3\n",
       "row2     4     5     6     7\n",
       "row3     8     9    10    11\n",
       "row4    12    13    14    15"
      ]
     },
     "execution_count": 14,
     "metadata": {},
     "output_type": "execute_result"
    }
   ],
   "source": [
    "pd.read_json('frame.json')"
   ]
  },
  {
   "cell_type": "markdown",
   "metadata": {},
   "source": [
    "Now in this example, the JSON file that we used was already in what is called tabular form. This means that we could directly load it as a DataFrame. However, this is not usually the case with JSON files.\n",
    "\n"
   ]
  },
  {
   "cell_type": "code",
   "execution_count": 15,
   "metadata": {},
   "outputs": [
    {
     "data": {
      "text/html": [
       "<div>\n",
       "<style scoped>\n",
       "    .dataframe tbody tr th:only-of-type {\n",
       "        vertical-align: middle;\n",
       "    }\n",
       "\n",
       "    .dataframe tbody tr th {\n",
       "        vertical-align: top;\n",
       "    }\n",
       "\n",
       "    .dataframe thead th {\n",
       "        text-align: right;\n",
       "    }\n",
       "</style>\n",
       "<table border=\"1\" class=\"dataframe\">\n",
       "  <thead>\n",
       "    <tr style=\"text-align: right;\">\n",
       "      <th></th>\n",
       "      <th>books</th>\n",
       "    </tr>\n",
       "  </thead>\n",
       "  <tbody>\n",
       "    <tr>\n",
       "      <th>0</th>\n",
       "      <td>{'isbn': '9781593275846', 'title': 'Eloquent J...</td>\n",
       "    </tr>\n",
       "    <tr>\n",
       "      <th>1</th>\n",
       "      <td>{'isbn': '9781449331818', 'title': 'Learning J...</td>\n",
       "    </tr>\n",
       "    <tr>\n",
       "      <th>2</th>\n",
       "      <td>{'isbn': '9781449365035', 'title': 'Speaking J...</td>\n",
       "    </tr>\n",
       "  </tbody>\n",
       "</table>\n",
       "</div>"
      ],
      "text/plain": [
       "                                               books\n",
       "0  {'isbn': '9781593275846', 'title': 'Eloquent J...\n",
       "1  {'isbn': '9781449331818', 'title': 'Learning J...\n",
       "2  {'isbn': '9781449365035', 'title': 'Speaking J..."
      ]
     },
     "execution_count": 15,
     "metadata": {},
     "output_type": "execute_result"
    }
   ],
   "source": [
    "pd.read_json('books.json')"
   ]
  },
  {
   "cell_type": "markdown",
   "metadata": {},
   "source": [
    "### We can see that the data in this file is not longer tabular. If we try to load the data directly with the read_json() the result is not very useful:\n",
    "\n",
    "In order to do this, we will need to perform some additional steps. We start by importing the json library for python, and a special function from pandas called json_normalize():"
   ]
  },
  {
   "cell_type": "code",
   "execution_count": 16,
   "metadata": {},
   "outputs": [],
   "source": [
    "import json\n",
    "from pandas.io.json import json_normalize"
   ]
  },
  {
   "cell_type": "markdown",
   "metadata": {},
   "source": [
    "Let's load the data from the JSON file and convert it to an object (a dictionary, really) which we store in the variable dictionary:"
   ]
  },
  {
   "cell_type": "code",
   "execution_count": 17,
   "metadata": {},
   "outputs": [],
   "source": [
    "with open('books.json', 'r') as f:\n",
    "    json_string = f.read()\n",
    "    dictionary = json.loads(json_string)"
   ]
  },
  {
   "cell_type": "markdown",
   "metadata": {},
   "source": [
    "If we now type the command dictionary, we can see indeed the data from our file. Once we have the data in this format, we can apply a process known as normalization. It's called normalization because it \"normalizes\" JSON data, which can be quite complex in structure, into a flat table structure (a DataFrame, to be more precise). To do this, we use the json_normalize() function. This function turns an array of nested JSON objects into a DataFrame, with the columns corresponding to the different variables stored in the JSON file. We will pass as arguments the variable dictionary which contains the data as a dictionary, and then we have to mention a key, which is used for separating the entries. To know which key to use, we must look at our JSON file and see the name that is given before the entries. In our case, this name is books. Let's try this out:"
   ]
  },
  {
   "cell_type": "code",
   "execution_count": 18,
   "metadata": {},
   "outputs": [
    {
     "data": {
      "text/html": [
       "<div>\n",
       "<style scoped>\n",
       "    .dataframe tbody tr th:only-of-type {\n",
       "        vertical-align: middle;\n",
       "    }\n",
       "\n",
       "    .dataframe tbody tr th {\n",
       "        vertical-align: top;\n",
       "    }\n",
       "\n",
       "    .dataframe thead th {\n",
       "        text-align: right;\n",
       "    }\n",
       "</style>\n",
       "<table border=\"1\" class=\"dataframe\">\n",
       "  <thead>\n",
       "    <tr style=\"text-align: right;\">\n",
       "      <th></th>\n",
       "      <th>author</th>\n",
       "      <th>description</th>\n",
       "      <th>isbn</th>\n",
       "      <th>pages</th>\n",
       "      <th>published</th>\n",
       "      <th>publisher</th>\n",
       "      <th>subtitle</th>\n",
       "      <th>title</th>\n",
       "      <th>website</th>\n",
       "    </tr>\n",
       "  </thead>\n",
       "  <tbody>\n",
       "    <tr>\n",
       "      <th>0</th>\n",
       "      <td>Marijn Haverbeke</td>\n",
       "      <td>JavaScript lies at the heart of almost every m...</td>\n",
       "      <td>9781593275846</td>\n",
       "      <td>472</td>\n",
       "      <td>2014-12-14T00:00:00.000Z</td>\n",
       "      <td>No Starch Press</td>\n",
       "      <td>A Modern Introduction to Programming</td>\n",
       "      <td>Eloquent JavaScript, Second Edition</td>\n",
       "      <td>http://eloquentjavascript.net/</td>\n",
       "    </tr>\n",
       "    <tr>\n",
       "      <th>1</th>\n",
       "      <td>Addy Osmani</td>\n",
       "      <td>With Learning JavaScript Design Patterns, you'...</td>\n",
       "      <td>9781449331818</td>\n",
       "      <td>254</td>\n",
       "      <td>2012-07-01T00:00:00.000Z</td>\n",
       "      <td>O'Reilly Media</td>\n",
       "      <td>A JavaScript and jQuery Developer's Guide</td>\n",
       "      <td>Learning JavaScript Design Patterns</td>\n",
       "      <td>http://www.addyosmani.com/resources/essentialj...</td>\n",
       "    </tr>\n",
       "    <tr>\n",
       "      <th>2</th>\n",
       "      <td>Axel Rauschmayer</td>\n",
       "      <td>Like it or not, JavaScript is everywhere these...</td>\n",
       "      <td>9781449365035</td>\n",
       "      <td>460</td>\n",
       "      <td>2014-02-01T00:00:00.000Z</td>\n",
       "      <td>O'Reilly Media</td>\n",
       "      <td>An In-Depth Guide for Programmers</td>\n",
       "      <td>Speaking JavaScript</td>\n",
       "      <td>http://speakingjs.com/</td>\n",
       "    </tr>\n",
       "  </tbody>\n",
       "</table>\n",
       "</div>"
      ],
      "text/plain": [
       "             author                                        description  \\\n",
       "0  Marijn Haverbeke  JavaScript lies at the heart of almost every m...   \n",
       "1       Addy Osmani  With Learning JavaScript Design Patterns, you'...   \n",
       "2  Axel Rauschmayer  Like it or not, JavaScript is everywhere these...   \n",
       "\n",
       "            isbn  pages                 published        publisher  \\\n",
       "0  9781593275846    472  2014-12-14T00:00:00.000Z  No Starch Press   \n",
       "1  9781449331818    254  2012-07-01T00:00:00.000Z   O'Reilly Media   \n",
       "2  9781449365035    460  2014-02-01T00:00:00.000Z   O'Reilly Media   \n",
       "\n",
       "                                    subtitle  \\\n",
       "0       A Modern Introduction to Programming   \n",
       "1  A JavaScript and jQuery Developer's Guide   \n",
       "2          An In-Depth Guide for Programmers   \n",
       "\n",
       "                                 title  \\\n",
       "0  Eloquent JavaScript, Second Edition   \n",
       "1  Learning JavaScript Design Patterns   \n",
       "2                  Speaking JavaScript   \n",
       "\n",
       "                                             website  \n",
       "0                     http://eloquentjavascript.net/  \n",
       "1  http://www.addyosmani.com/resources/essentialj...  \n",
       "2                             http://speakingjs.com/  "
      ]
     },
     "execution_count": 18,
     "metadata": {},
     "output_type": "execute_result"
    }
   ],
   "source": [
    "json_normalize(dictionary, 'books')"
   ]
  },
  {
   "cell_type": "markdown",
   "metadata": {},
   "source": [
    "# HTML files"
   ]
  },
  {
   "cell_type": "markdown",
   "metadata": {},
   "source": [
    "The web is one of the major sources of data that you will encounter. Getting data from the web is known as **web scraping**, and it is a very useful skill in any data scientist's toolbox. It allows us to get data from the web that is not yet in a well-structured format which you can download directly for data analysis such as csv. **You might wonder, why don't we just copy and paste the data manually? Well, this might work for a small webpage but in general, we will be interested in scraping large amounts of data that would be extremely time consuming and completely impractical to do by hand**. Luckily, Python has several tools which help automate this process for us.\n",
    "\n",
    "Before we get into it, a word of warning: Be cautious when crawling the web. In particular, some Terms of Services may explicitly prohibit you from scraping the website, and the data may itself be copyrighted. So be sure to understand what you're doing (here is a an interesting analysis of the problem)."
   ]
  },
  {
   "cell_type": "markdown",
   "metadata": {},
   "source": [
    "#### What exactly is HTML?\n",
    "\n",
    "We will not get into too much detail here about HTML, the HyperText Markup Language that powers the web, but we will cover some very basic facts that will be sufficient for you to perform successful web scraping. **HTML is the source code that generates a webpage.** When viewing a webpage in our web browser, we can look at its source code by right-clicking and selecting view page source or show page source, depending on the browser we are using. Here is an example:"
   ]
  },
  {
   "cell_type": "raw",
   "metadata": {},
   "source": [
    "#### HTML tags\n",
    "\n",
    "The most important thing that you must know about HTML code is that it consists of tags, which are specified with angle brackets such as <script> or <div>. Essentially all the information on the web page is stored in between such tags. Tags are of two kinds: opening and closing. A closing tag is denoted by an extra slash such as </script> or </div>.\n",
    "\n",
    "Tags can also have attributes which are specified inside the angle brackets such as \"<div class=\"q\">\". These will be important for web scraping since they provide some patterns in the HTML code."
   ]
  },
  {
   "cell_type": "markdown",
   "metadata": {},
   "source": [
    "We will exploit these patterns to retrieve the information that we want. We will be especially interested in the attributes **class and id**. These are special properties that give HTML elements names, and we can take advantage of these names when web scraping. An element can have multiple classes but only one id. When writing HTML code it is not necessary to give elements classes and ids however, so not all web pages might have these attributes."
   ]
  },
  {
   "cell_type": "markdown",
   "metadata": {},
   "source": [
    "#### The requests library\n",
    "\n",
    "The first step in web scraping is to read the web page into python. This is done using the requests library, so we have to make sure that we first import it as follows:"
   ]
  },
  {
   "cell_type": "code",
   "execution_count": 19,
   "metadata": {},
   "outputs": [],
   "source": [
    "import requests"
   ]
  },
  {
   "cell_type": "code",
   "execution_count": 20,
   "metadata": {},
   "outputs": [],
   "source": [
    "page=requests.get('https://web.archive.org/web/20180908144902/http://en.proverbia.net/shortfamousquotes.asp')"
   ]
  },
  {
   "cell_type": "raw",
   "metadata": {},
   "source": [
    "The variable page is a Response object. It has an attribute called text which contains the HTML code. We can verify this by peeking at the first 100 entries:\n",
    "\n",
    "page.text[0:100]\n",
    "#Out: '\\r\\n<!DOCTYPE html>\\r\\n\\r\\n<html  lang=\"en\" xml:lang=\"en\">\\r\\n<head>\\r\\n<title>Short Famous Quotes. Short famo'\n",
    "It also has an attribute called status_code which indicates if the page was downloaded correctly:\n",
    "\n",
    "page.status_code\n",
    "#Out: 200\n",
    "A status code of 200 means that the page was downloaded correctly. We have now downloaded the HTML code into Python. In the next unit, we will look at how we can extract the important information from this code."
   ]
  },
  {
   "cell_type": "code",
   "execution_count": 21,
   "metadata": {},
   "outputs": [
    {
     "data": {
      "text/plain": [
       "200"
      ]
     },
     "execution_count": 21,
     "metadata": {},
     "output_type": "execute_result"
    }
   ],
   "source": [
    "page.status_code"
   ]
  },
  {
   "cell_type": "code",
   "execution_count": 22,
   "metadata": {},
   "outputs": [
    {
     "data": {
      "text/plain": [
       "'\\n<!DOCTYPE html>\\n\\n<html lang=\"en\" xml:lang=\"en\">\\n<head><script src=\"//archive.org/includes/analytics'"
      ]
     },
     "execution_count": 22,
     "metadata": {},
     "output_type": "execute_result"
    }
   ],
   "source": [
    "page.text[0:100]"
   ]
  },
  {
   "cell_type": "markdown",
   "metadata": {},
   "source": [
    "# Web scraping"
   ]
  },
  {
   "cell_type": "code",
   "execution_count": 23,
   "metadata": {},
   "outputs": [],
   "source": [
    "from bs4 import BeautifulSoup"
   ]
  },
  {
   "cell_type": "code",
   "execution_count": 24,
   "metadata": {},
   "outputs": [],
   "source": [
    "soup = BeautifulSoup(page.text, 'html.parser')"
   ]
  },
  {
   "cell_type": "raw",
   "metadata": {},
   "source": [
    "What can we notice? It seems that every quote is preceded by the pair of tags:\n",
    "<blockquote>\n",
    "\n",
    "</blockquote>"
   ]
  },
  {
   "cell_type": "code",
   "execution_count": 25,
   "metadata": {},
   "outputs": [],
   "source": [
    "quotes = soup.find_all('blockquote')"
   ]
  },
  {
   "cell_type": "code",
   "execution_count": 26,
   "metadata": {},
   "outputs": [
    {
     "data": {
      "text/plain": [
       "[<blockquote>There is a natural aristocracy among men. The grounds of this are virtue and talents. </blockquote>,\n",
       " <blockquote>All our words from loose using have lost their edge. </blockquote>,\n",
       " <blockquote>God couldn't be everywhere, so he created mothers </blockquote>,\n",
       " <blockquote>Be not afraid of going slowly, be afraid only of standing still. </blockquote>,\n",
       " <blockquote>Learn from yesterday, live for today, hope for tomorrow. </blockquote>,\n",
       " <blockquote>Do not confine your children to your own learning, for they were born in another time. </blockquote>,\n",
       " <blockquote>I hear and I forget, I see and I remember. I do and I understand. </blockquote>,\n",
       " <blockquote>In teaching others we teach ourselves. </blockquote>,\n",
       " <blockquote>Happiness will never come to those who fail to appreciate what they already have. </blockquote>,\n",
       " <blockquote>Without His love I can do nothing, with His love there is nothing I cannot do. </blockquote>]"
      ]
     },
     "execution_count": 26,
     "metadata": {},
     "output_type": "execute_result"
    }
   ],
   "source": [
    "quotes"
   ]
  },
  {
   "cell_type": "code",
   "execution_count": 27,
   "metadata": {},
   "outputs": [
    {
     "data": {
      "text/plain": [
       "'There is a natural aristocracy among men. The grounds of this are virtue and talents. '"
      ]
     },
     "execution_count": 27,
     "metadata": {},
     "output_type": "execute_result"
    }
   ],
   "source": [
    "quotes[0].text"
   ]
  },
  {
   "cell_type": "code",
   "execution_count": 28,
   "metadata": {},
   "outputs": [],
   "source": [
    "quote_list = []\n",
    "for quote in quotes:\n",
    "    string = quote.text\n",
    "    quote_list.append(string)"
   ]
  },
  {
   "cell_type": "code",
   "execution_count": 29,
   "metadata": {},
   "outputs": [
    {
     "data": {
      "text/plain": [
       "['There is a natural aristocracy among men. The grounds of this are virtue and talents. ',\n",
       " 'All our words from loose using have lost their edge. ',\n",
       " \"God couldn't be everywhere, so he created mothers \",\n",
       " 'Be not afraid of going slowly, be afraid only of standing still. ',\n",
       " 'Learn from yesterday, live for today, hope for tomorrow. ',\n",
       " 'Do not confine your children to your own learning, for they were born in another time. ',\n",
       " 'I hear and I forget, I see and I remember. I do and I understand. ',\n",
       " 'In teaching others we teach ourselves. ',\n",
       " 'Happiness will never come to those who fail to appreciate what they already have. ',\n",
       " 'Without His love I can do nothing, with His love there is nothing I cannot do. ']"
      ]
     },
     "execution_count": 29,
     "metadata": {},
     "output_type": "execute_result"
    }
   ],
   "source": [
    "quote_list"
   ]
  },
  {
   "cell_type": "code",
   "execution_count": 30,
   "metadata": {},
   "outputs": [
    {
     "data": {
      "text/html": [
       "<div>\n",
       "<style scoped>\n",
       "    .dataframe tbody tr th:only-of-type {\n",
       "        vertical-align: middle;\n",
       "    }\n",
       "\n",
       "    .dataframe tbody tr th {\n",
       "        vertical-align: top;\n",
       "    }\n",
       "\n",
       "    .dataframe thead th {\n",
       "        text-align: right;\n",
       "    }\n",
       "</style>\n",
       "<table border=\"1\" class=\"dataframe\">\n",
       "  <thead>\n",
       "    <tr style=\"text-align: right;\">\n",
       "      <th></th>\n",
       "      <th>Quote</th>\n",
       "    </tr>\n",
       "  </thead>\n",
       "  <tbody>\n",
       "    <tr>\n",
       "      <th>0</th>\n",
       "      <td>There is a natural aristocracy among men. The ...</td>\n",
       "    </tr>\n",
       "    <tr>\n",
       "      <th>1</th>\n",
       "      <td>All our words from loose using have lost their...</td>\n",
       "    </tr>\n",
       "    <tr>\n",
       "      <th>2</th>\n",
       "      <td>God couldn't be everywhere, so he created moth...</td>\n",
       "    </tr>\n",
       "    <tr>\n",
       "      <th>3</th>\n",
       "      <td>Be not afraid of going slowly, be afraid only ...</td>\n",
       "    </tr>\n",
       "    <tr>\n",
       "      <th>4</th>\n",
       "      <td>Learn from yesterday, live for today, hope for...</td>\n",
       "    </tr>\n",
       "    <tr>\n",
       "      <th>5</th>\n",
       "      <td>Do not confine your children to your own learn...</td>\n",
       "    </tr>\n",
       "    <tr>\n",
       "      <th>6</th>\n",
       "      <td>I hear and I forget, I see and I remember. I d...</td>\n",
       "    </tr>\n",
       "    <tr>\n",
       "      <th>7</th>\n",
       "      <td>In teaching others we teach ourselves.</td>\n",
       "    </tr>\n",
       "    <tr>\n",
       "      <th>8</th>\n",
       "      <td>Happiness will never come to those who fail to...</td>\n",
       "    </tr>\n",
       "    <tr>\n",
       "      <th>9</th>\n",
       "      <td>Without His love I can do nothing, with His lo...</td>\n",
       "    </tr>\n",
       "  </tbody>\n",
       "</table>\n",
       "</div>"
      ],
      "text/plain": [
       "                                               Quote\n",
       "0  There is a natural aristocracy among men. The ...\n",
       "1  All our words from loose using have lost their...\n",
       "2  God couldn't be everywhere, so he created moth...\n",
       "3  Be not afraid of going slowly, be afraid only ...\n",
       "4  Learn from yesterday, live for today, hope for...\n",
       "5  Do not confine your children to your own learn...\n",
       "6  I hear and I forget, I see and I remember. I d...\n",
       "7            In teaching others we teach ourselves. \n",
       "8  Happiness will never come to those who fail to...\n",
       "9  Without His love I can do nothing, with His lo..."
      ]
     },
     "execution_count": 30,
     "metadata": {},
     "output_type": "execute_result"
    }
   ],
   "source": [
    "import pandas as pd\n",
    "df = pd.DataFrame(quote_list, columns=['Quote'])\n",
    "df"
   ]
  },
  {
   "cell_type": "raw",
   "metadata": {},
   "source": [
    "Let's try to use the find_all() function again. But wait - this time we cannot just search for all instances of the tag <p> <\\p> because this tag occurs in more cases then just around the text giving the authors of the code! Instead, we will have to take advantage of the class property. The HTML code is structured in such a way that all tags of the form <p> <\\p> that surround the text giving the authors are of the type class=\"a\". We can specify this to the find_all() command as follows:"
   ]
  },
  {
   "cell_type": "code",
   "execution_count": 31,
   "metadata": {},
   "outputs": [],
   "source": [
    "authors=soup.find_all('p', class_=\"a\")"
   ]
  },
  {
   "cell_type": "code",
   "execution_count": 32,
   "metadata": {},
   "outputs": [
    {
     "data": {
      "text/plain": [
       "'\\nThomas Jefferson (1743-1826) Third president of the United States.\\n'"
      ]
     },
     "execution_count": 32,
     "metadata": {},
     "output_type": "execute_result"
    }
   ],
   "source": [
    "authors[0].text"
   ]
  },
  {
   "cell_type": "code",
   "execution_count": 33,
   "metadata": {},
   "outputs": [
    {
     "data": {
      "text/plain": [
       "'Thomas Jefferson (1743-1826) Third president of the United States.'"
      ]
     },
     "execution_count": 33,
     "metadata": {},
     "output_type": "execute_result"
    }
   ],
   "source": [
    "authors[0].text[1:-1]"
   ]
  },
  {
   "cell_type": "code",
   "execution_count": 34,
   "metadata": {},
   "outputs": [
    {
     "data": {
      "text/html": [
       "<div>\n",
       "<style scoped>\n",
       "    .dataframe tbody tr th:only-of-type {\n",
       "        vertical-align: middle;\n",
       "    }\n",
       "\n",
       "    .dataframe tbody tr th {\n",
       "        vertical-align: top;\n",
       "    }\n",
       "\n",
       "    .dataframe thead th {\n",
       "        text-align: right;\n",
       "    }\n",
       "</style>\n",
       "<table border=\"1\" class=\"dataframe\">\n",
       "  <thead>\n",
       "    <tr style=\"text-align: right;\">\n",
       "      <th></th>\n",
       "      <th>Quote</th>\n",
       "      <th>Author</th>\n",
       "    </tr>\n",
       "  </thead>\n",
       "  <tbody>\n",
       "    <tr>\n",
       "      <th>0</th>\n",
       "      <td>There is a natural aristocracy among men. The ...</td>\n",
       "      <td>Thomas Jefferson (1743-1826) Third president o...</td>\n",
       "    </tr>\n",
       "    <tr>\n",
       "      <th>1</th>\n",
       "      <td>All our words from loose using have lost their...</td>\n",
       "      <td>Ernest Hemingway (1898-1961) American Writer.</td>\n",
       "    </tr>\n",
       "    <tr>\n",
       "      <th>2</th>\n",
       "      <td>God couldn't be everywhere, so he created moth...</td>\n",
       "      <td>Jewish proverb</td>\n",
       "    </tr>\n",
       "    <tr>\n",
       "      <th>3</th>\n",
       "      <td>Be not afraid of going slowly, be afraid only ...</td>\n",
       "      <td>Chinese proverb</td>\n",
       "    </tr>\n",
       "    <tr>\n",
       "      <th>4</th>\n",
       "      <td>Learn from yesterday, live for today, hope for...</td>\n",
       "      <td>Unknown Source</td>\n",
       "    </tr>\n",
       "    <tr>\n",
       "      <th>5</th>\n",
       "      <td>Do not confine your children to your own learn...</td>\n",
       "      <td>Chinese proverb</td>\n",
       "    </tr>\n",
       "    <tr>\n",
       "      <th>6</th>\n",
       "      <td>I hear and I forget, I see and I remember. I d...</td>\n",
       "      <td>Chinese proverb</td>\n",
       "    </tr>\n",
       "    <tr>\n",
       "      <th>7</th>\n",
       "      <td>In teaching others we teach ourselves.</td>\n",
       "      <td>Proverb</td>\n",
       "    </tr>\n",
       "    <tr>\n",
       "      <th>8</th>\n",
       "      <td>Happiness will never come to those who fail to...</td>\n",
       "      <td>Unknown Source</td>\n",
       "    </tr>\n",
       "    <tr>\n",
       "      <th>9</th>\n",
       "      <td>Without His love I can do nothing, with His lo...</td>\n",
       "      <td>Unknown Source</td>\n",
       "    </tr>\n",
       "  </tbody>\n",
       "</table>\n",
       "</div>"
      ],
      "text/plain": [
       "                                               Quote  \\\n",
       "0  There is a natural aristocracy among men. The ...   \n",
       "1  All our words from loose using have lost their...   \n",
       "2  God couldn't be everywhere, so he created moth...   \n",
       "3  Be not afraid of going slowly, be afraid only ...   \n",
       "4  Learn from yesterday, live for today, hope for...   \n",
       "5  Do not confine your children to your own learn...   \n",
       "6  I hear and I forget, I see and I remember. I d...   \n",
       "7            In teaching others we teach ourselves.    \n",
       "8  Happiness will never come to those who fail to...   \n",
       "9  Without His love I can do nothing, with His lo...   \n",
       "\n",
       "                                              Author  \n",
       "0  Thomas Jefferson (1743-1826) Third president o...  \n",
       "1      Ernest Hemingway (1898-1961) American Writer.  \n",
       "2                                    Jewish proverb   \n",
       "3                                   Chinese proverb   \n",
       "4                                    Unknown Source   \n",
       "5                                   Chinese proverb   \n",
       "6                                   Chinese proverb   \n",
       "7                                           Proverb   \n",
       "8                                    Unknown Source   \n",
       "9                                    Unknown Source   "
      ]
     },
     "execution_count": 34,
     "metadata": {},
     "output_type": "execute_result"
    }
   ],
   "source": [
    "author_list=[]\n",
    "for author in authors:\n",
    "    string = author.text[1:-1]\n",
    "    author_list.append(string)\n",
    "df['Author']=author_list\n",
    "df"
   ]
  },
  {
   "cell_type": "markdown",
   "metadata": {},
   "source": [
    "Let's summarize the steps that we did:\n",
    "\n",
    "- Download HTML code using the requests library\n",
    "- Create a BeautifulSoup object to contain the parse HTML code\n",
    "- Look for patterns identifying the information that you want to extract from the code\n",
    "- Search for specific tags using the find_all() method\n",
    "- Iterate over the object returned by find_all() and use the text attribute to extract the text between each set of tags\n",
    "- Store the strings in a Python list and convert to a DataFrame for further analysis"
   ]
  },
  {
   "cell_type": "markdown",
   "metadata": {},
   "source": [
    "#### A special case: scraping tables\n",
    "\n",
    "For example, if you want to collect the table of additives as described in this Open Food Facts webpage, you can call pd.read_html() with the URL as input:"
   ]
  },
  {
   "cell_type": "code",
   "execution_count": 35,
   "metadata": {},
   "outputs": [
    {
     "name": "stdout",
     "output_type": "stream",
     "text": [
      "1\n",
      "                   Additive  Products   * Risk\n",
      "0        E330 - Citric acid    128275 NaN  NaN\n",
      "1          E322 - Lecithins     87168 NaN  NaN\n",
      "2          E322i - Lecithin     80061 NaN  NaN\n",
      "3  E500 - Sodium carbonates     54621 NaN  NaN\n",
      "4        E415 - Xanthan gum     48802 NaN  NaN\n"
     ]
    }
   ],
   "source": [
    "tables = pd.read_html(\"https://world.openfoodfacts.org/additives\")\n",
    "print(len(tables))  # 1 \n",
    "print(tables[0].head())"
   ]
  },
  {
   "cell_type": "code",
   "execution_count": 36,
   "metadata": {},
   "outputs": [
    {
     "name": "stdout",
     "output_type": "stream",
     "text": [
      "9\n"
     ]
    }
   ],
   "source": [
    "tables = pd.read_html(\"https://en.wikipedia.org/wiki/World_record_progression_50_metres_freestyle\")\n",
    "print(len(tables))  # 7"
   ]
  },
  {
   "cell_type": "code",
   "execution_count": 37,
   "metadata": {},
   "outputs": [
    {
     "name": "stdout",
     "output_type": "stream",
     "text": [
      "   Pos   Time                   Swimmer              Date          Venue\n",
      "0    1  20.91         Cesar Cielo (BRA)  17 December 2009         Brazil\n",
      "1    2  20.94  Frederick Bousquet (FRA)     22 April 2009         France\n",
      "2    3  21.04      Caeleb Dressel (USA)      27 July 2019    South Korea\n",
      "3    4  21.11      Benjamin Proud (GBR)     3 August 2018  Great Britain\n",
      "4    5  21.19       Ashley Callus (AUS)  26 November 2009      Australia\n"
     ]
    }
   ],
   "source": [
    "print(tables[4].head())"
   ]
  },
  {
   "cell_type": "code",
   "execution_count": 38,
   "metadata": {},
   "outputs": [
    {
     "name": "stdout",
     "output_type": "stream",
     "text": [
      "   Pos  Swimmer                       Time              Date          Venue\n",
      "0    1    22.93  Ranomi Kromowidjojo (NED)     7 August 2017        Germany\n",
      "1    2    23.00       Sarah Sjöström (SWE)     7 August 2017        Germany\n",
      "2    3    23.19        Cate Campbell (AUS)   27 October 2017         Russia\n",
      "3    4    23.25     Marleen Veldhuis (NED)     13 April 2008  Great Britain\n",
      "4    5    23.27    Therese Alshammar (SWE)  21 November 2009      Singapore\n"
     ]
    }
   ],
   "source": [
    "print(tables[-2].head())"
   ]
  },
  {
   "cell_type": "markdown",
   "metadata": {},
   "source": [
    "**And if you're only interested in tables mentioning \"Switzerland\", then there is a parameter match exactly done for that:**\n",
    "\n"
   ]
  },
  {
   "cell_type": "code",
   "execution_count": 39,
   "metadata": {},
   "outputs": [
    {
     "name": "stdout",
     "output_type": "stream",
     "text": [
      "1\n",
      "     Time          Name    Nationality\n",
      "10  22.54   Robin Leamy  United States\n",
      "11  22.52  Dano Halsall    Switzerland\n",
      "12  22.40     Tom Jager  United States\n",
      "13  22.33   Matt Biondi  United States\n",
      "14  22.33   Matt Biondi  United States\n"
     ]
    }
   ],
   "source": [
    "tables = pd.read_html(\"https://en.wikipedia.org/wiki/World_record_progression_50_metres_freestyle\", match=\"Switzerland\")\n",
    "print(len(tables))  # 1\n",
    "print(tables[0][10:15][['Time', 'Name', 'Nationality']])"
   ]
  },
  {
   "cell_type": "markdown",
   "metadata": {},
   "source": [
    "# Getting data from the web using APIs"
   ]
  },
  {
   "cell_type": "markdown",
   "metadata": {},
   "source": [
    "n its simplest form, an API is a contract between two parties saying that if one party provides input in a pre-defined format then the other party will provide a pre-defined output. An API basically allows two pieces of code to interact with each other. When it comes to getting data from the web, APIs are extremely useful. Sites like LinkedIn, Reddit, Twitter, and Facebook all offer certain data through their APIs\n",
    "\n",
    "\n",
    "When using an API we are essentially making a request to a remote web server to retrieve the data that we need. The way this request is implemented can vary based on the type of API. The most popular APIs are\n",
    "\n",
    "- SOAP - Simple Object Access Protocol\n",
    "- REST - Representational State Transfer\n",
    "\n",
    "In SOAP, requests are submitted and received via a file format called XML, while in REST requests are usually submitted using the HTTP protocol. REST tends to be the far more popular choice - In this unit, we will go through an example with the strava.com API which uses REST. To achieve this, we will learn how to make HTTP requests with the Python Requests library.\n",
    "\n",
    "You might wonder what exactly is the benefit to using an API over just scraping the data we need directly? Well, as we mentioned in our last unit, scraping the data might be illegal in certain cases. Public APIs can provide easier, faster (and legal!) data retrieval than web scraping. There are also great for dealing with cases where the data is changing quickly (ex. stock prices), or you want only specific aspects or subsets of the data."
   ]
  },
  {
   "cell_type": "markdown",
   "metadata": {},
   "source": [
    "#### Use case: Strava API\n",
    "\n",
    "Known as the athlete’s social network, Strava is a place where you can record all of your athletic activities, share them with your friends, and compete for glory by claiming the fastest times on local segments."
   ]
  },
  {
   "cell_type": "code",
   "execution_count": 40,
   "metadata": {},
   "outputs": [],
   "source": [
    "import json\n",
    "\n",
    "# Load credentials\n",
    "with open('client_credentials.json') as file:\n",
    "    client_credentials = json.load(file)\n",
    "\n"
   ]
  },
  {
   "cell_type": "code",
   "execution_count": 41,
   "metadata": {},
   "outputs": [
    {
     "data": {
      "text/html": [
       "<img src=\"https://d7whxh71cqykp.cloudfront.net/uploads/image/data/4113/APIs.png\"/>"
      ],
      "text/plain": [
       "<IPython.core.display.Image object>"
      ]
     },
     "execution_count": 41,
     "metadata": {},
     "output_type": "execute_result"
    }
   ],
   "source": [
    "from IPython.display import Image\n",
    "Image(url= \"https://d7whxh71cqykp.cloudfront.net/uploads/image/data/4113/APIs.png\")"
   ]
  },
  {
   "cell_type": "code",
   "execution_count": 42,
   "metadata": {},
   "outputs": [
    {
     "name": "stdout",
     "output_type": "stream",
     "text": [
      "Credentials: ['client_id', 'client_secret']\n"
     ]
    }
   ],
   "source": [
    "print('Credentials:', list(client_credentials.keys())) "
   ]
  },
  {
   "cell_type": "code",
   "execution_count": 43,
   "metadata": {},
   "outputs": [
    {
     "name": "stdout",
     "output_type": "stream",
     "text": [
      "61535\n"
     ]
    }
   ],
   "source": [
    "print(client_credentials['client_id']) # Client ID"
   ]
  },
  {
   "cell_type": "markdown",
   "metadata": {},
   "source": [
    "#### Authorize the app\n",
    "The Strava API is made for applications that need to access user data from Strava. In this scenario, the app (client) has to be authorized by the users to access and manage their Strava data\n",
    "\n",
    "In our case, we analyze our own data, but the process is the same - we need to explicitly authorize our app to access and manage our data. Let's see how to do this.\n",
    "\n",
    "Authorization is done in the browser via a URL that links to the website Authorization Service. For Strava, it is"
   ]
  },
  {
   "cell_type": "code",
   "execution_count": 44,
   "metadata": {},
   "outputs": [
    {
     "data": {
      "text/html": [
       "<img src=\"https://d7whxh71cqykp.cloudfront.net/uploads/image/data/4115/authorization-service.png\"/>"
      ],
      "text/plain": [
       "<IPython.core.display.Image object>"
      ]
     },
     "execution_count": 44,
     "metadata": {},
     "output_type": "execute_result"
    }
   ],
   "source": [
    "from IPython.display import Image\n",
    "Image(url= \"https://d7whxh71cqykp.cloudfront.net/uploads/image/data/4115/authorization-service.png\")"
   ]
  },
  {
   "cell_type": "raw",
   "metadata": {},
   "source": [
    "# GET syntax - passing parameters via a URL\n",
    "url?key1=value1&key2=value2&key3=value3"
   ]
  },
  {
   "cell_type": "markdown",
   "metadata": {},
   "source": [
    "According to the Strava Authentication API reference, we need to provide the following parameters\n",
    "\n",
    "- client_id which identifies our application\n",
    "- scope which defines the requested scope/rights for our application ex. read user profile, read user activities\n",
    "\n",
    "When the user authorizes our application via the Autorization Service, Strava sends the user back to some redirect_uri with an Access Code stored as GET parameters. We will use this code later when accessing this user data.\n",
    "\n",
    "This Redirect URI is usually a link to our application website or related app ex. mobile app. Since we don't have one in our case, we will set it to https://localhost which is the computer local address - we will come back to this point below.\n",
    "\n",
    "Let's store all the required GET parameters in a Python dictionary"
   ]
  },
  {
   "cell_type": "code",
   "execution_count": 45,
   "metadata": {},
   "outputs": [],
   "source": [
    "oauth_params = {\n",
    "    'client_id': client_credentials['client_id'],\n",
    "    'scope': 'read_all,profile:read_all,activity:read_all',\n",
    "    'redirect_uri': 'https://localhost',\n",
    "    'response_type': 'code'\n",
    "}"
   ]
  },
  {
   "cell_type": "markdown",
   "metadata": {},
   "source": [
    "We get the client_id from the json file and set the scope to get full read access to the user data. Also, as specified in the Strava API Authentication Reference, we need to set a response_type parameter to 'code' to explicitly say that Strava should return us with some Access Code for this user data.\n",
    "\n",
    "Let's now create the authorization link with the GET syntax that we saw above. In practice, URLs follow strict rules and we typically use a function to achieve this. In Python, we can use the urlencode() one from the built-in urllib Python module"
   ]
  },
  {
   "cell_type": "code",
   "execution_count": 46,
   "metadata": {},
   "outputs": [
    {
     "name": "stdout",
     "output_type": "stream",
     "text": [
      "https://www.strava.com/oauth/authorize?client_id=61535&scope=read_all%2Cprofile%3Aread_all%2Cactivity%3Aread_all&redirect_uri=https%3A%2F%2Flocalhost&response_type=code\n"
     ]
    }
   ],
   "source": [
    "from urllib.parse import urlencode\n",
    "\n",
    "# Generate link that users can copy/paste in their browser to authorize our app\n",
    "print('https://www.strava.com/oauth/authorize' + '?' + urlencode(oauth_params))"
   ]
  },
  {
   "cell_type": "markdown",
   "metadata": {},
   "source": [
    "ou écrit en dur\n",
    "\n",
    "https://www.strava.com/oauth/authorize?\n",
    "  client_id=....&\n",
    "  scope=read_all%2Cprofile%3Aread_all%2Cactivity%3Aread_all&\n",
    "  redirect_uri=https%3A%2F%2Flocalhost&\n",
    "  response_type=code"
   ]
  },
  {
   "cell_type": "raw",
   "metadata": {},
   "source": [
    "voici l'URL de retour auquel je n'ai pas accés car mon pc n'a pas de web server !!\n",
    "\n",
    "https://localhost/state=&code=f670d215baaa42a86a1c52c09b18816fec9d233b&scope=read,activity:read_all,profil:read_all,read_all"
   ]
  },
  {
   "cell_type": "markdown",
   "metadata": {},
   "source": [
    "As we can see, Strava returned three GET parameters\n",
    "\n",
    "- code which is the Access Code needed to retrieve the user data\n",
    "- scope which lists the scopes accepted by the user\n",
    "- state which is an optional flag from the Strava API used for security reasons - not important in our case since we're not really building an app but just doing some data analysis\n",
    "\n",
    "**The important parameter here is the user Access Code. Let's extract it from the URL.**\n",
    "\n",
    "*Again, the access code is private and shouldn't be shared via our notebook. One solution is to automatically extract it from the URL. First, let's load the URL into memory with the Python getpass() built-in function*"
   ]
  },
  {
   "cell_type": "code",
   "execution_count": 47,
   "metadata": {},
   "outputs": [
    {
     "name": "stdin",
     "output_type": "stream",
     "text": [
      "Full callback URL ······························································································································\n"
     ]
    }
   ],
   "source": [
    "from getpass import getpass\n",
    "\n",
    "# After authorizing the app, user is redirected to\n",
    "authorization_response = getpass(prompt='Full callback URL')"
   ]
  },
  {
   "cell_type": "code",
   "execution_count": 48,
   "metadata": {},
   "outputs": [],
   "source": [
    "from urllib.parse import urlparse, parse_qs\n",
    "\n",
    "# Extract Authorization Code from URL\n",
    "authorization_code = parse_qs(urlparse(authorization_response).query)['code'][0]"
   ]
  },
  {
   "cell_type": "code",
   "execution_count": 49,
   "metadata": {},
   "outputs": [
    {
     "data": {
      "text/plain": [
       "'state=&code=183ad10fbb76a7531f9d6fae0cfa4b54a33d6b40&scope=read,activity:read_all,profile:read_all,read_all'"
      ]
     },
     "execution_count": 49,
     "metadata": {},
     "output_type": "execute_result"
    }
   ],
   "source": [
    "urlparse(authorization_response).query"
   ]
  },
  {
   "cell_type": "code",
   "execution_count": 50,
   "metadata": {},
   "outputs": [
    {
     "data": {
      "text/plain": [
       "{'code': ['183ad10fbb76a7531f9d6fae0cfa4b54a33d6b40'],\n",
       " 'scope': ['read,activity:read_all,profile:read_all,read_all']}"
      ]
     },
     "execution_count": 50,
     "metadata": {},
     "output_type": "execute_result"
    }
   ],
   "source": [
    "parse_qs(urlparse(authorization_response).query)"
   ]
  },
  {
   "cell_type": "code",
   "execution_count": 51,
   "metadata": {},
   "outputs": [
    {
     "name": "stdout",
     "output_type": "stream",
     "text": [
      "183ad10fbb76a7531f9d6fae0cfa4b54a33d6b40\n"
     ]
    }
   ],
   "source": [
    "print(authorization_code)"
   ]
  },
  {
   "cell_type": "markdown",
   "metadata": {},
   "source": [
    "#### Get access token\n",
    "\n",
    "Now that our app has been authorized to access data from the user via the **Access Code**, we need to retrieve an **Access Token** from Strava to actually perform API queries and access user resources"
   ]
  },
  {
   "cell_type": "code",
   "execution_count": 52,
   "metadata": {},
   "outputs": [
    {
     "data": {
      "text/html": [
       "<img src=\"https://d7whxh71cqykp.cloudfront.net/uploads/image/data/4118/strava-api.png\"/>"
      ],
      "text/plain": [
       "<IPython.core.display.Image object>"
      ]
     },
     "execution_count": 52,
     "metadata": {},
     "output_type": "execute_result"
    }
   ],
   "source": [
    "from IPython.display import Image\n",
    "Image(url= \"https://d7whxh71cqykp.cloudfront.net/uploads/image/data/4118/strava-api.png\")"
   ]
  },
  {
   "cell_type": "markdown",
   "metadata": {},
   "source": [
    "Why do we need an Access Token? Isn't the Access Code sufficient? This actually depends on the API. Strava implements the OAuth 2.0 protocol where the app first needs to get some Access Code before getting the final Access Token that can be used to retrieve data. However, you might work later with other APIs that directly provide the Access Token. For instance, this was the case with the Strava API before October 2018 when they adopted the OAuth 2.0 standard."
   ]
  },
  {
   "cell_type": "markdown",
   "metadata": {},
   "source": [
    "*APIs can have very different implementations. When working with a new API, you will likely need to first check the API documentation and potentially search online for additional examples*"
   ]
  },
  {
   "cell_type": "markdown",
   "metadata": {},
   "source": [
    "You can think of GET requests as the addresses that are in the browser URL field at the top of the window. They are used to get content from the web but are not necessarily meant to send data to a web service besides short GET variables as we saw above. On the other hand, POST requests are used to send/post data to a web service, data that will typically be stored by it. In our API scenario which exposes entries of user data, we will typically use\n",
    "\n",
    "- GET queries to list the entries\n",
    "- POST queries to create new entries\n",
    "- PUT queries to update existing entries\n",
    "\n",
    "We can use the Python Requests library to perform those three types of queries via its .get(), .post() and .put() functions. Let's see how to do the POST one to get the access token"
   ]
  },
  {
   "cell_type": "code",
   "execution_count": 53,
   "metadata": {},
   "outputs": [
    {
     "data": {
      "text/plain": [
       "200"
      ]
     },
     "execution_count": 53,
     "metadata": {},
     "output_type": "execute_result"
    }
   ],
   "source": [
    "import requests\n",
    "\n",
    "# Exchange Authorization Code for Access Token\n",
    "r = requests.post('https://www.strava.com/oauth/token', data={\n",
    "    'client_id': client_credentials['client_id'],\n",
    "    'client_secret': client_credentials['client_secret'],\n",
    "    'code': authorization_code,\n",
    "    'grant_type': 'authorization_code'\n",
    "})\n",
    "r.status_code # 200"
   ]
  },
  {
   "cell_type": "code",
   "execution_count": 54,
   "metadata": {},
   "outputs": [
    {
     "name": "stdout",
     "output_type": "stream",
     "text": [
      "{\"token_type\":\"Bearer\",\"expires_at\":1613493657,\"expires_in\":9947,\"refresh_token\":\"7e3e8aa8f6944722ef5f48525301ac822a94a6ab\",\"access_token\":\"a20219742bfc4baccfddf350ba8b48262bf7b7c6\",\"athlete\":{\"id\":78376368,\"username\":null,\"resource_state\":2,\"firstname\":\"Lyes\",\"lastname\":\"Oudinache\",\"city\":\"Genève\",\"state\":\"Genève\",\"country\":\"Switzerland\",\"sex\":\"M\",\"premium\":false,\"summit\":false,\"created_at\":\"2021-02-11T13:24:02Z\",\"updated_at\":\"2021-02-11T13:25:28Z\",\"badge_type_id\":0,\"profile_medium\":\"https://d3nn82uaxijpm6.cloudfront.net/assets/avatar/athlete/medium-bee27e393b8559be0995b6573bcfde897d6af934dac8f392a6229295290e16dd.png\",\"profile\":\"https://d3nn82uaxijpm6.cloudfront.net/assets/avatar/athlete/large-800a7033cc92b2a5548399e26b1ef42414dd1a9cb13b99454222d38d58fd28ef.png\",\"friend\":null,\"follower\":null}}\n"
     ]
    }
   ],
   "source": [
    "print(r.text)"
   ]
  },
  {
   "cell_type": "code",
   "execution_count": 55,
   "metadata": {},
   "outputs": [
    {
     "data": {
      "text/plain": [
       "{'token_type': 'Bearer',\n",
       " 'expires_at': 1613493657,\n",
       " 'expires_in': 9947,\n",
       " 'refresh_token': '7e3e8aa8f6944722ef5f48525301ac822a94a6ab',\n",
       " 'access_token': 'a20219742bfc4baccfddf350ba8b48262bf7b7c6',\n",
       " 'athlete': {'id': 78376368,\n",
       "  'username': None,\n",
       "  'resource_state': 2,\n",
       "  'firstname': 'Lyes',\n",
       "  'lastname': 'Oudinache',\n",
       "  'city': 'Genève',\n",
       "  'state': 'Genève',\n",
       "  'country': 'Switzerland',\n",
       "  'sex': 'M',\n",
       "  'premium': False,\n",
       "  'summit': False,\n",
       "  'created_at': '2021-02-11T13:24:02Z',\n",
       "  'updated_at': '2021-02-11T13:25:28Z',\n",
       "  'badge_type_id': 0,\n",
       "  'profile_medium': 'https://d3nn82uaxijpm6.cloudfront.net/assets/avatar/athlete/medium-bee27e393b8559be0995b6573bcfde897d6af934dac8f392a6229295290e16dd.png',\n",
       "  'profile': 'https://d3nn82uaxijpm6.cloudfront.net/assets/avatar/athlete/large-800a7033cc92b2a5548399e26b1ef42414dd1a9cb13b99454222d38d58fd28ef.png',\n",
       "  'friend': None,\n",
       "  'follower': None}}"
      ]
     },
     "execution_count": 55,
     "metadata": {},
     "output_type": "execute_result"
    }
   ],
   "source": [
    "r.json()"
   ]
  },
  {
   "cell_type": "markdown",
   "metadata": {},
   "source": [
    "This token contains all the informations we need to retrieve the data from the Strava API\n",
    "\n",
    "- The access_token - we will use it in all of our API requests\n",
    "- expires_at and expires_in which specify when the token expires\n",
    "- A refresh_token to get a new Access Token when this one expires\n",
    "- Strava also sends some basic information about the user in an athlete field\n",
    "\n",
    "Let's store the token as we will need it later when interacting with the Strava API. One solution is to store it in a .json file that we can later reload in our code and notebooks. We can do this via a token_saver() function that takes the JSON object, creates a token.json file and saves it with the json.dump() function"
   ]
  },
  {
   "cell_type": "code",
   "execution_count": 56,
   "metadata": {},
   "outputs": [],
   "source": [
    "# Token saver\n",
    "def token_saver(token_obj):\n",
    "    with open('token.json', 'w') as file:\n",
    "        json.dump(token_obj, file, indent=4)\n",
    "\n",
    "token_saver(r.json())"
   ]
  },
  {
   "cell_type": "markdown",
   "metadata": {},
   "source": [
    "#### Refreshing Tokens"
   ]
  },
  {
   "cell_type": "code",
   "execution_count": 57,
   "metadata": {},
   "outputs": [
    {
     "data": {
      "text/plain": [
       "dict_keys(['token_type', 'expires_at', 'expires_in', 'refresh_token', 'access_token', 'athlete'])"
      ]
     },
     "execution_count": 57,
     "metadata": {},
     "output_type": "execute_result"
    }
   ],
   "source": [
    "# Token loader\n",
    "def get_token():\n",
    "    with open('token.json', 'r') as file:\n",
    "        return json.load(file)\n",
    "\n",
    "token = get_token()\n",
    "token.keys() "
   ]
  },
  {
   "cell_type": "code",
   "execution_count": 58,
   "metadata": {},
   "outputs": [
    {
     "name": "stdout",
     "output_type": "stream",
     "text": [
      "Expires in: 9947\n",
      "Expires at: 1613493657\n"
     ]
    }
   ],
   "source": [
    "print('Expires in:', token['expires_in']) # initially: 21600 (6 hours)\n",
    "print('Expires at:', token['expires_at']) # in seconds"
   ]
  },
  {
   "cell_type": "code",
   "execution_count": 59,
   "metadata": {},
   "outputs": [
    {
     "name": "stdout",
     "output_type": "stream",
     "text": [
      "Expires at: 2021-02-16 17:40:57\n",
      "Expires in: 2:45:47\n"
     ]
    }
   ],
   "source": [
    "from datetime import datetime, timedelta\n",
    "\n",
    "print('Expires at:', datetime.fromtimestamp(token['expires_at'])) # date, time\n",
    "print('Expires in:', timedelta(seconds=token['expires_in'])) # time delta"
   ]
  },
  {
   "cell_type": "code",
   "execution_count": 60,
   "metadata": {},
   "outputs": [],
   "source": [
    "# Refresh expired Access Tokens\n",
    "r = requests.post('https://www.strava.com/oauth/token', data={\n",
    "    'client_id': client_credentials['client_id'],\n",
    "    'client_secret': client_credentials['client_secret'],\n",
    "    'refresh_token': token['refresh_token'],\n",
    "    'grant_type': 'refresh_token'\n",
    "})\n",
    "token_saver(r.json())\n",
    "token = get_token()"
   ]
  },
  {
   "cell_type": "markdown",
   "metadata": {},
   "source": [
    "#### Reach API using Python Requests"
   ]
  },
  {
   "cell_type": "markdown",
   "metadata": {},
   "source": [
    "Finally, let's get some data from the API. Strava exposes several endpoints such as\n",
    "\n",
    "- /activities to add, retrieve and update the athlete activities\n",
    "- /clubs to list the athlete clubs\n",
    "- /routes, /segments and so on\n",
    "\n",
    "APIs usually provide an **API Reference Documentation** that lists the different endpoints and explains how they work. For Strava, you can take a look at developers.strava.com/docs/reference. For this example, we will simply list some of the athlete activities with the /athlete/activities one.\n",
    "\n",
    "As you can see in the related documentation entry List Athlete Activities, this endpoint accepts GET requests and has a few optional parameters ex. to specify the date interval or the desired number of results. For this example, we will use the defaults and only specify the Access Token"
   ]
  },
  {
   "cell_type": "code",
   "execution_count": 61,
   "metadata": {},
   "outputs": [
    {
     "data": {
      "text/plain": [
       "200"
      ]
     },
     "execution_count": 61,
     "metadata": {},
     "output_type": "execute_result"
    }
   ],
   "source": [
    "# List activities\n",
    "r = requests.get('https://www.strava.com/api/v3/athlete/activities', params={\n",
    "    'access_token': token['access_token']\n",
    "})\n",
    "r.status_code # 200"
   ]
  },
  {
   "cell_type": "code",
   "execution_count": 62,
   "metadata": {},
   "outputs": [],
   "source": [
    "# Save actvitivies\n",
    "with open('activities.json', 'w') as file:\n",
    "    json.dump(r.json(), file, indent=4)"
   ]
  },
  {
   "cell_type": "code",
   "execution_count": 63,
   "metadata": {},
   "outputs": [
    {
     "data": {
      "text/html": [
       "<div>\n",
       "<style scoped>\n",
       "    .dataframe tbody tr th:only-of-type {\n",
       "        vertical-align: middle;\n",
       "    }\n",
       "\n",
       "    .dataframe tbody tr th {\n",
       "        vertical-align: top;\n",
       "    }\n",
       "\n",
       "    .dataframe thead th {\n",
       "        text-align: right;\n",
       "    }\n",
       "</style>\n",
       "<table border=\"1\" class=\"dataframe\">\n",
       "  <thead>\n",
       "    <tr style=\"text-align: right;\">\n",
       "      <th></th>\n",
       "      <th>name</th>\n",
       "      <th>type</th>\n",
       "      <th>distance</th>\n",
       "      <th>elapsed_time</th>\n",
       "      <th>max_speed</th>\n",
       "    </tr>\n",
       "  </thead>\n",
       "  <tbody>\n",
       "    <tr>\n",
       "      <th>0</th>\n",
       "      <td>Course à pied l'après-midi</td>\n",
       "      <td>Run</td>\n",
       "      <td>21000</td>\n",
       "      <td>6397</td>\n",
       "      <td>0</td>\n",
       "    </tr>\n",
       "  </tbody>\n",
       "</table>\n",
       "</div>"
      ],
      "text/plain": [
       "                         name type  distance  elapsed_time  max_speed\n",
       "0  Course à pied l'après-midi  Run     21000          6397          0"
      ]
     },
     "execution_count": 63,
     "metadata": {},
     "output_type": "execute_result"
    }
   ],
   "source": [
    "# Load data into DataFrame\n",
    "activities_df = pd.read_json(r.text)\n",
    "activities_df[['name', 'type', 'distance', 'elapsed_time', 'max_speed']]"
   ]
  },
  {
   "cell_type": "markdown",
   "metadata": {},
   "source": [
    "#### With requests_oauthlib"
   ]
  },
  {
   "cell_type": "markdown",
   "metadata": {},
   "source": [
    "In the example from above, we saw how to reach the Strava API by making all the required requests manually with the Python Requests .get() and .post() methods which should give you a good overview of interacting with a web service in general. However, we mentioned above that Strava implements OAuth 2.0 which is a very common protocol for APIs, and we can easily find Python libraries that simplify a bit the entire process. Let's quickly see how using them would change our code!\n",
    "\n",
    "**For this example, we will use requests-oauthlib which is a popular Python library (> 1,000 stars on GitHub) that implements the OAuthlib protocol with Python Requests i.e. the library that we used above to manually perform GET/POST requests.** Let's first install it in the course environment. Open a new terminal window, activate the environment and install the library with"
   ]
  },
  {
   "cell_type": "code",
   "execution_count": 64,
   "metadata": {},
   "outputs": [],
   "source": [
    "from requests_oauthlib import OAuth2Session"
   ]
  },
  {
   "cell_type": "markdown",
   "metadata": {},
   "source": [
    "The first step is to create an OAuth2Session object with the client information, redirect URI and requested scope"
   ]
  },
  {
   "cell_type": "code",
   "execution_count": 65,
   "metadata": {},
   "outputs": [],
   "source": [
    "# 1 Create a session for initialization\n",
    "init_session = OAuth2Session(\n",
    "    client_credentials['client_id'],\n",
    "    redirect_uri='https://localhost',\n",
    "    scope='read_all,profile:read_all,activity:read_all'\n",
    ")"
   ]
  },
  {
   "cell_type": "code",
   "execution_count": 66,
   "metadata": {},
   "outputs": [
    {
     "name": "stdout",
     "output_type": "stream",
     "text": [
      "Visit link: https://www.strava.com/oauth/authorize?response_type=code&client_id=61535&redirect_uri=https%3A%2F%2Flocalhost&scope=read_all%2Cprofile%3Aread_all%2Cactivity%3Aread_all&state=CCv2znWH82GqF7DL52V6QQ3uiWIv6D\n"
     ]
    }
   ],
   "source": [
    "# 2 Get authorization link\n",
    "user_link, state = init_session.authorization_url('https://www.strava.com/oauth/authorize')\n",
    "print('Visit link:', user_link)"
   ]
  },
  {
   "cell_type": "raw",
   "metadata": {},
   "source": []
  },
  {
   "cell_type": "code",
   "execution_count": 67,
   "metadata": {},
   "outputs": [
    {
     "name": "stdin",
     "output_type": "stream",
     "text": [
      "Full callback URL ····························································································································································\n"
     ]
    }
   ],
   "source": [
    "authorization_response = getpass(prompt='Full callback URL')"
   ]
  },
  {
   "cell_type": "code",
   "execution_count": 68,
   "metadata": {},
   "outputs": [],
   "source": [
    "# 3 Get Access Token\n",
    "token = init_session.fetch_token(\n",
    "    'https://www.strava.com/oauth/token',\n",
    "    authorization_response=authorization_response,\n",
    "    include_client_id=True,\n",
    "    client_secret=client_credentials['client_secret']\n",
    ")"
   ]
  },
  {
   "cell_type": "code",
   "execution_count": 69,
   "metadata": {},
   "outputs": [],
   "source": [
    "token_saver(token)"
   ]
  },
  {
   "cell_type": "code",
   "execution_count": 70,
   "metadata": {},
   "outputs": [],
   "source": [
    "# 4 Create a session for reaching the API\n",
    "api_session = OAuth2Session(\n",
    "    client_credentials['client_id'],\n",
    "    token=token, # pass Access Token\n",
    "\n",
    "    # Automatically refresh expired token\n",
    "    auto_refresh_url='https://www.strava.com/oauth/token',\n",
    "    auto_refresh_kwargs={\n",
    "        'client_id': client_credentials['client_id'],\n",
    "        'client_secret': client_credentials['client_secret']\n",
    "    },\n",
    "    token_updater=token_saver # automatically saves new tokens\n",
    ")"
   ]
  },
  {
   "cell_type": "markdown",
   "metadata": {},
   "source": [
    "The object also provides a way to automatically refresh expired tokens with a few additional parameters\n",
    "\n",
    "- auto_refresh_url the URL of the token service\n",
    "- auto_refresh_kwargs to pass additional values to the service when needed ex. Strava requires the client_id and client_secret in our case\n",
    "- token_updater a function to automatically save the new token\n",
    "\n",
    "We can now use this new api_session object to make requests"
   ]
  },
  {
   "cell_type": "code",
   "execution_count": 71,
   "metadata": {},
   "outputs": [
    {
     "data": {
      "text/plain": [
       "200"
      ]
     },
     "execution_count": 71,
     "metadata": {},
     "output_type": "execute_result"
    }
   ],
   "source": [
    "# 5 List activities\n",
    "r = api_session.get('https://www.strava.com/api/v3/athlete/activities')\n",
    "r.status_code # 200"
   ]
  },
  {
   "cell_type": "code",
   "execution_count": 72,
   "metadata": {},
   "outputs": [
    {
     "data": {
      "text/html": [
       "<div>\n",
       "<style scoped>\n",
       "    .dataframe tbody tr th:only-of-type {\n",
       "        vertical-align: middle;\n",
       "    }\n",
       "\n",
       "    .dataframe tbody tr th {\n",
       "        vertical-align: top;\n",
       "    }\n",
       "\n",
       "    .dataframe thead th {\n",
       "        text-align: right;\n",
       "    }\n",
       "</style>\n",
       "<table border=\"1\" class=\"dataframe\">\n",
       "  <thead>\n",
       "    <tr style=\"text-align: right;\">\n",
       "      <th></th>\n",
       "      <th>name</th>\n",
       "      <th>type</th>\n",
       "      <th>distance</th>\n",
       "      <th>elapsed_time</th>\n",
       "      <th>max_speed</th>\n",
       "    </tr>\n",
       "  </thead>\n",
       "  <tbody>\n",
       "    <tr>\n",
       "      <th>0</th>\n",
       "      <td>Course à pied l'après-midi</td>\n",
       "      <td>Run</td>\n",
       "      <td>21000</td>\n",
       "      <td>6397</td>\n",
       "      <td>0</td>\n",
       "    </tr>\n",
       "  </tbody>\n",
       "</table>\n",
       "</div>"
      ],
      "text/plain": [
       "                         name type  distance  elapsed_time  max_speed\n",
       "0  Course à pied l'après-midi  Run     21000          6397          0"
      ]
     },
     "execution_count": 72,
     "metadata": {},
     "output_type": "execute_result"
    }
   ],
   "source": [
    "activities_df = pd.read_json(r.text)\n",
    "activities_df[['name', 'type', 'distance', 'elapsed_time', 'max_speed']]\n"
   ]
  },
  {
   "cell_type": "markdown",
   "metadata": {},
   "source": [
    "#### With custom libraries - stravalib"
   ]
  },
  {
   "cell_type": "markdown",
   "metadata": {},
   "source": [
    "You might also find custom Python libraries for popular APIs. A few examples are\n",
    "\n",
    "Tweepy for the Twitter API\n",
    "facebook-sdk for Facebook's Graph API\n",
    "praw for Reddit API\n",
    "For Strava, there is stravalib which implements the latest API interface (v3). Let's see how the workflow changes.\n",
    "\n",
    "First, we need to install the library. The package can be easily installed in the course environment with pip"
   ]
  },
  {
   "cell_type": "markdown",
   "metadata": {},
   "source": [
    "* **Note** - What's the difference between pip and conda? In short: both are package managers. Pip is the Python default one, while Conda is developed by Anaconda. Conda makes packages installation much easier because it verifies that the packages have compatible versions between each other and installs them in an isolated Conda environment. Most of the data science packages are available in the Anaconda repository but some of them are only in the pip Python Package Index (PyPi). Conda handles this scenario and Pip packages installed will still be local to the Conda environment. However, we should prefer installing Conda packages when available. You can read more about the differences in Understanding Conda and Pip*"
   ]
  },
  {
   "cell_type": "markdown",
   "metadata": {},
   "source": [
    "The authentication workflow is very similar to requests-oauthlib. We first create a Client object and uses one of its method to get the Authorization Link"
   ]
  },
  {
   "cell_type": "code",
   "execution_count": 74,
   "metadata": {},
   "outputs": [
    {
     "name": "stdout",
     "output_type": "stream",
     "text": [
      "Visit link: https://www.strava.com/oauth/authorize?client_id=61535&redirect_uri=https%3A%2F%2Flocalhost&approval_prompt=auto&response_type=code&scope=read_all%2Cprofile%3Aread_all%2Cactivity%3Aread_all\n"
     ]
    }
   ],
   "source": [
    "from stravalib import Client\n",
    "\n",
    "# Create client\n",
    "client = Client()\n",
    "\n",
    "# Get Authorization URL\n",
    "user_link = client.authorization_url(\n",
    "    client_id=client_credentials['client_id'],\n",
    "    redirect_uri='https://localhost',\n",
    "    scope=['read_all', 'profile:read_all', 'activity:read_all']\n",
    ")\n",
    "print('Visit link:', user_link)"
   ]
  },
  {
   "cell_type": "code",
   "execution_count": 75,
   "metadata": {},
   "outputs": [
    {
     "name": "stdin",
     "output_type": "stream",
     "text": [
      "Full callback URL ······························································································································\n"
     ]
    }
   ],
   "source": [
    "authorization_response = getpass(prompt='Full callback URL')\n",
    "authorization_code = parse_qs(urlparse(authorization_response).query)['code'][0]\n"
   ]
  },
  {
   "cell_type": "code",
   "execution_count": 76,
   "metadata": {},
   "outputs": [],
   "source": [
    "# Get Access Token\n",
    "token = client.exchange_code_for_token(\n",
    "    client_id=client_credentials['client_id'],\n",
    "    client_secret=client_credentials['client_secret'],\n",
    "    code=authorization_code)\n",
    "token_saver(token)"
   ]
  },
  {
   "cell_type": "code",
   "execution_count": 78,
   "metadata": {},
   "outputs": [],
   "source": [
    "import time\n",
    "\n",
    "# Refresh token if necessary\n",
    "if time.time() > token['expires_at']:\n",
    "    token = client.refresh_access_token(\n",
    "        client_id=client_credentials['client_id'],\n",
    "        client_secret=client_credentials['client_secret'],\n",
    "        refresh_token=token['refresh_token'])\n",
    "    token_saver(token)"
   ]
  },
  {
   "cell_type": "markdown",
   "metadata": {},
   "source": [
    "The main advantage of stravalib is that it implements the different API calls as methods of the client object: requests are performed behind the scenes. For instance, to get the last five activities, we can write"
   ]
  },
  {
   "cell_type": "code",
   "execution_count": null,
   "metadata": {},
   "outputs": [],
   "source": [
    "# Get activities\n",
    "activities = client.get_activities(limit=5)\n",
    "activities # <BatchedResultsIterator entity=Activity>\n"
   ]
  },
  {
   "cell_type": "markdown",
   "metadata": {},
   "source": [
    "The method returns an iterator that we can use to iterate over the results"
   ]
  },
  {
   "cell_type": "code",
   "execution_count": 81,
   "metadata": {},
   "outputs": [
    {
     "name": "stdout",
     "output_type": "stream",
     "text": [
      "<Activity id=4795989348 name=\"Course à pied l'après-midi\" resource_state=2>\n"
     ]
    }
   ],
   "source": [
    "for activity in activities:\n",
    "    print(activity)\n",
    "\n",
    "# <Activity id=... name='...' resource_state=..>\n",
    "# .."
   ]
  },
  {
   "cell_type": "markdown",
   "metadata": {},
   "source": [
    "As we can see, stravalib automatically parses the API JSON responses into Python objects that we can use to easily work with the data. For instance, we can print the details for the first activity with"
   ]
  },
  {
   "cell_type": "code",
   "execution_count": 82,
   "metadata": {},
   "outputs": [
    {
     "name": "stdout",
     "output_type": "stream",
     "text": [
      "Activity name: Course à pied l'après-midi\n",
      "Distance: 21000.00 m\n",
      "Athlete name: None\n",
      "Average heart rate: None\n"
     ]
    }
   ],
   "source": [
    "a = list(activities)[0] # Get the first activity\n",
    "\n",
    "print('Activity name:', a.name)\n",
    "print('Distance:', a.distance)\n",
    "print('Athlete name:', a.athlete.firstname)\n",
    "print('Average heart rate:', a.average_heartrate)"
   ]
  },
  {
   "cell_type": "markdown",
   "metadata": {},
   "source": [
    "### Summary\n",
    "\n",
    "In this unit, we went through a concrete example of using APIs and discussed different ways to retrieve data from them. Here are a few takeaways\n",
    "\n",
    "- APIs can require some form of Authorization\n",
    "- Communication with APIs is usually done via Access Tokens\n",
    "- HTTP requests can be performed with the Python Requests library\n",
    "\n",
    "As you gain more experience with data science projects you will most likely come across many different APIs. While the details of each implementation will be different the general framework above of registering an app, getting a personal token, and setting up the connecting using the specific objects and methods found in the documentation should give you a good starting point."
   ]
  },
  {
   "cell_type": "code",
   "execution_count": null,
   "metadata": {},
   "outputs": [],
   "source": []
  }
 ],
 "metadata": {
  "kernelspec": {
   "display_name": "Python 3",
   "language": "python",
   "name": "python3"
  },
  "language_info": {
   "codemirror_mode": {
    "name": "ipython",
    "version": 3
   },
   "file_extension": ".py",
   "mimetype": "text/x-python",
   "name": "python",
   "nbconvert_exporter": "python",
   "pygments_lexer": "ipython3",
   "version": "3.6.12"
  }
 },
 "nbformat": 4,
 "nbformat_minor": 4
}
