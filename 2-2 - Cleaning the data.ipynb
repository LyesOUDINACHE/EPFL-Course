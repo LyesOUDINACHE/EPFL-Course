{
 "cells": [
  {
   "cell_type": "markdown",
   "id": "referenced-owner",
   "metadata": {},
   "source": [
    "# Handling missing values"
   ]
  },
  {
   "cell_type": "code",
   "execution_count": 3,
   "id": "stunning-reporter",
   "metadata": {},
   "outputs": [],
   "source": [
    "import pandas as pd\n",
    "import numpy as np"
   ]
  },
  {
   "cell_type": "code",
   "execution_count": 4,
   "id": "amateur-michael",
   "metadata": {},
   "outputs": [],
   "source": [
    "df=pd.read_csv('tmdb_5000_movies.csv')"
   ]
  },
  {
   "cell_type": "code",
   "execution_count": 5,
   "id": "clear-block",
   "metadata": {},
   "outputs": [
    {
     "name": "stdout",
     "output_type": "stream",
     "text": [
      "<class 'pandas.core.frame.DataFrame'>\n",
      "RangeIndex: 4803 entries, 0 to 4802\n",
      "Data columns (total 20 columns):\n",
      "budget                  4803 non-null int64\n",
      "genres                  4803 non-null object\n",
      "homepage                1712 non-null object\n",
      "id                      4803 non-null int64\n",
      "keywords                4803 non-null object\n",
      "original_language       4803 non-null object\n",
      "original_title          4803 non-null object\n",
      "overview                4800 non-null object\n",
      "popularity              4803 non-null float64\n",
      "production_companies    4803 non-null object\n",
      "production_countries    4803 non-null object\n",
      "release_date            4802 non-null object\n",
      "revenue                 4803 non-null int64\n",
      "runtime                 4801 non-null float64\n",
      "spoken_languages        4803 non-null object\n",
      "status                  4803 non-null object\n",
      "tagline                 3959 non-null object\n",
      "title                   4803 non-null object\n",
      "vote_average            4803 non-null float64\n",
      "vote_count              4803 non-null int64\n",
      "dtypes: float64(3), int64(4), object(13)\n",
      "memory usage: 750.5+ KB\n"
     ]
    }
   ],
   "source": [
    "df.info()"
   ]
  },
  {
   "cell_type": "code",
   "execution_count": 4,
   "id": "gorgeous-haven",
   "metadata": {},
   "outputs": [
    {
     "data": {
      "text/html": [
       "<div>\n",
       "<style scoped>\n",
       "    .dataframe tbody tr th:only-of-type {\n",
       "        vertical-align: middle;\n",
       "    }\n",
       "\n",
       "    .dataframe tbody tr th {\n",
       "        vertical-align: top;\n",
       "    }\n",
       "\n",
       "    .dataframe thead th {\n",
       "        text-align: right;\n",
       "    }\n",
       "</style>\n",
       "<table border=\"1\" class=\"dataframe\">\n",
       "  <thead>\n",
       "    <tr style=\"text-align: right;\">\n",
       "      <th></th>\n",
       "      <th>budget</th>\n",
       "      <th>id</th>\n",
       "      <th>popularity</th>\n",
       "      <th>revenue</th>\n",
       "      <th>runtime</th>\n",
       "      <th>vote_average</th>\n",
       "      <th>vote_count</th>\n",
       "    </tr>\n",
       "  </thead>\n",
       "  <tbody>\n",
       "    <tr>\n",
       "      <th>count</th>\n",
       "      <td>4.803000e+03</td>\n",
       "      <td>4803.000000</td>\n",
       "      <td>4803.000000</td>\n",
       "      <td>4.803000e+03</td>\n",
       "      <td>4801.000000</td>\n",
       "      <td>4803.000000</td>\n",
       "      <td>4803.000000</td>\n",
       "    </tr>\n",
       "    <tr>\n",
       "      <th>mean</th>\n",
       "      <td>2.904504e+07</td>\n",
       "      <td>57165.484281</td>\n",
       "      <td>21.492301</td>\n",
       "      <td>8.226064e+07</td>\n",
       "      <td>106.875859</td>\n",
       "      <td>6.092172</td>\n",
       "      <td>690.217989</td>\n",
       "    </tr>\n",
       "    <tr>\n",
       "      <th>std</th>\n",
       "      <td>4.072239e+07</td>\n",
       "      <td>88694.614033</td>\n",
       "      <td>31.816650</td>\n",
       "      <td>1.628571e+08</td>\n",
       "      <td>22.611935</td>\n",
       "      <td>1.194612</td>\n",
       "      <td>1234.585891</td>\n",
       "    </tr>\n",
       "    <tr>\n",
       "      <th>min</th>\n",
       "      <td>0.000000e+00</td>\n",
       "      <td>5.000000</td>\n",
       "      <td>0.000000</td>\n",
       "      <td>0.000000e+00</td>\n",
       "      <td>0.000000</td>\n",
       "      <td>0.000000</td>\n",
       "      <td>0.000000</td>\n",
       "    </tr>\n",
       "    <tr>\n",
       "      <th>25%</th>\n",
       "      <td>7.900000e+05</td>\n",
       "      <td>9014.500000</td>\n",
       "      <td>4.668070</td>\n",
       "      <td>0.000000e+00</td>\n",
       "      <td>94.000000</td>\n",
       "      <td>5.600000</td>\n",
       "      <td>54.000000</td>\n",
       "    </tr>\n",
       "    <tr>\n",
       "      <th>50%</th>\n",
       "      <td>1.500000e+07</td>\n",
       "      <td>14629.000000</td>\n",
       "      <td>12.921594</td>\n",
       "      <td>1.917000e+07</td>\n",
       "      <td>103.000000</td>\n",
       "      <td>6.200000</td>\n",
       "      <td>235.000000</td>\n",
       "    </tr>\n",
       "    <tr>\n",
       "      <th>75%</th>\n",
       "      <td>4.000000e+07</td>\n",
       "      <td>58610.500000</td>\n",
       "      <td>28.313505</td>\n",
       "      <td>9.291719e+07</td>\n",
       "      <td>118.000000</td>\n",
       "      <td>6.800000</td>\n",
       "      <td>737.000000</td>\n",
       "    </tr>\n",
       "    <tr>\n",
       "      <th>max</th>\n",
       "      <td>3.800000e+08</td>\n",
       "      <td>459488.000000</td>\n",
       "      <td>875.581305</td>\n",
       "      <td>2.787965e+09</td>\n",
       "      <td>338.000000</td>\n",
       "      <td>10.000000</td>\n",
       "      <td>13752.000000</td>\n",
       "    </tr>\n",
       "  </tbody>\n",
       "</table>\n",
       "</div>"
      ],
      "text/plain": [
       "             budget             id   popularity       revenue      runtime  \\\n",
       "count  4.803000e+03    4803.000000  4803.000000  4.803000e+03  4801.000000   \n",
       "mean   2.904504e+07   57165.484281    21.492301  8.226064e+07   106.875859   \n",
       "std    4.072239e+07   88694.614033    31.816650  1.628571e+08    22.611935   \n",
       "min    0.000000e+00       5.000000     0.000000  0.000000e+00     0.000000   \n",
       "25%    7.900000e+05    9014.500000     4.668070  0.000000e+00    94.000000   \n",
       "50%    1.500000e+07   14629.000000    12.921594  1.917000e+07   103.000000   \n",
       "75%    4.000000e+07   58610.500000    28.313505  9.291719e+07   118.000000   \n",
       "max    3.800000e+08  459488.000000   875.581305  2.787965e+09   338.000000   \n",
       "\n",
       "       vote_average    vote_count  \n",
       "count   4803.000000   4803.000000  \n",
       "mean       6.092172    690.217989  \n",
       "std        1.194612   1234.585891  \n",
       "min        0.000000      0.000000  \n",
       "25%        5.600000     54.000000  \n",
       "50%        6.200000    235.000000  \n",
       "75%        6.800000    737.000000  \n",
       "max       10.000000  13752.000000  "
      ]
     },
     "execution_count": 4,
     "metadata": {},
     "output_type": "execute_result"
    }
   ],
   "source": [
    "df.describe()"
   ]
  },
  {
   "cell_type": "markdown",
   "id": "senior-equation",
   "metadata": {},
   "source": [
    "#### The NaN value\n",
    "Pandas represents missing data with NaN, which stands for 'Not a Number'. This is a special floating-point value from NumPy. We can perform operations with NaN values without resulting in errors, but the result of any operations with a NaN value will be another NaN value. Try out the following"
   ]
  },
  {
   "cell_type": "code",
   "execution_count": 5,
   "id": "acting-theme",
   "metadata": {},
   "outputs": [
    {
     "data": {
      "text/plain": [
       "nan"
      ]
     },
     "execution_count": 5,
     "metadata": {},
     "output_type": "execute_result"
    }
   ],
   "source": [
    "np.nan\n",
    "#nan\n",
    "np.nan+2\n",
    "#nan\n",
    "np.nan*0\n",
    "#nan"
   ]
  },
  {
   "cell_type": "markdown",
   "id": "sunset-intervention",
   "metadata": {},
   "source": [
    "Pandas has several built-in functions that helps us detect, remove and replace NaN values such as\n",
    "\n",
    "- isnull()\n",
    "- notnull()\n",
    "- dropna()\n",
    "- fillna()"
   ]
  },
  {
   "cell_type": "markdown",
   "id": "gorgeous-wheel",
   "metadata": {},
   "source": [
    "#### Detecting missing values\n"
   ]
  },
  {
   "cell_type": "code",
   "execution_count": 6,
   "id": "based-algorithm",
   "metadata": {},
   "outputs": [
    {
     "data": {
      "text/html": [
       "<div>\n",
       "<style scoped>\n",
       "    .dataframe tbody tr th:only-of-type {\n",
       "        vertical-align: middle;\n",
       "    }\n",
       "\n",
       "    .dataframe tbody tr th {\n",
       "        vertical-align: top;\n",
       "    }\n",
       "\n",
       "    .dataframe thead th {\n",
       "        text-align: right;\n",
       "    }\n",
       "</style>\n",
       "<table border=\"1\" class=\"dataframe\">\n",
       "  <thead>\n",
       "    <tr style=\"text-align: right;\">\n",
       "      <th></th>\n",
       "      <th>budget</th>\n",
       "      <th>genres</th>\n",
       "      <th>homepage</th>\n",
       "      <th>id</th>\n",
       "      <th>keywords</th>\n",
       "      <th>original_language</th>\n",
       "      <th>original_title</th>\n",
       "      <th>overview</th>\n",
       "      <th>popularity</th>\n",
       "      <th>production_companies</th>\n",
       "      <th>production_countries</th>\n",
       "      <th>release_date</th>\n",
       "      <th>revenue</th>\n",
       "      <th>runtime</th>\n",
       "      <th>spoken_languages</th>\n",
       "      <th>status</th>\n",
       "      <th>tagline</th>\n",
       "      <th>title</th>\n",
       "      <th>vote_average</th>\n",
       "      <th>vote_count</th>\n",
       "    </tr>\n",
       "  </thead>\n",
       "  <tbody>\n",
       "    <tr>\n",
       "      <th>0</th>\n",
       "      <td>False</td>\n",
       "      <td>False</td>\n",
       "      <td>False</td>\n",
       "      <td>False</td>\n",
       "      <td>False</td>\n",
       "      <td>False</td>\n",
       "      <td>False</td>\n",
       "      <td>False</td>\n",
       "      <td>False</td>\n",
       "      <td>False</td>\n",
       "      <td>False</td>\n",
       "      <td>False</td>\n",
       "      <td>False</td>\n",
       "      <td>False</td>\n",
       "      <td>False</td>\n",
       "      <td>False</td>\n",
       "      <td>False</td>\n",
       "      <td>False</td>\n",
       "      <td>False</td>\n",
       "      <td>False</td>\n",
       "    </tr>\n",
       "    <tr>\n",
       "      <th>1</th>\n",
       "      <td>False</td>\n",
       "      <td>False</td>\n",
       "      <td>False</td>\n",
       "      <td>False</td>\n",
       "      <td>False</td>\n",
       "      <td>False</td>\n",
       "      <td>False</td>\n",
       "      <td>False</td>\n",
       "      <td>False</td>\n",
       "      <td>False</td>\n",
       "      <td>False</td>\n",
       "      <td>False</td>\n",
       "      <td>False</td>\n",
       "      <td>False</td>\n",
       "      <td>False</td>\n",
       "      <td>False</td>\n",
       "      <td>False</td>\n",
       "      <td>False</td>\n",
       "      <td>False</td>\n",
       "      <td>False</td>\n",
       "    </tr>\n",
       "    <tr>\n",
       "      <th>2</th>\n",
       "      <td>False</td>\n",
       "      <td>False</td>\n",
       "      <td>False</td>\n",
       "      <td>False</td>\n",
       "      <td>False</td>\n",
       "      <td>False</td>\n",
       "      <td>False</td>\n",
       "      <td>False</td>\n",
       "      <td>False</td>\n",
       "      <td>False</td>\n",
       "      <td>False</td>\n",
       "      <td>False</td>\n",
       "      <td>False</td>\n",
       "      <td>False</td>\n",
       "      <td>False</td>\n",
       "      <td>False</td>\n",
       "      <td>False</td>\n",
       "      <td>False</td>\n",
       "      <td>False</td>\n",
       "      <td>False</td>\n",
       "    </tr>\n",
       "    <tr>\n",
       "      <th>3</th>\n",
       "      <td>False</td>\n",
       "      <td>False</td>\n",
       "      <td>False</td>\n",
       "      <td>False</td>\n",
       "      <td>False</td>\n",
       "      <td>False</td>\n",
       "      <td>False</td>\n",
       "      <td>False</td>\n",
       "      <td>False</td>\n",
       "      <td>False</td>\n",
       "      <td>False</td>\n",
       "      <td>False</td>\n",
       "      <td>False</td>\n",
       "      <td>False</td>\n",
       "      <td>False</td>\n",
       "      <td>False</td>\n",
       "      <td>False</td>\n",
       "      <td>False</td>\n",
       "      <td>False</td>\n",
       "      <td>False</td>\n",
       "    </tr>\n",
       "    <tr>\n",
       "      <th>4</th>\n",
       "      <td>False</td>\n",
       "      <td>False</td>\n",
       "      <td>False</td>\n",
       "      <td>False</td>\n",
       "      <td>False</td>\n",
       "      <td>False</td>\n",
       "      <td>False</td>\n",
       "      <td>False</td>\n",
       "      <td>False</td>\n",
       "      <td>False</td>\n",
       "      <td>False</td>\n",
       "      <td>False</td>\n",
       "      <td>False</td>\n",
       "      <td>False</td>\n",
       "      <td>False</td>\n",
       "      <td>False</td>\n",
       "      <td>False</td>\n",
       "      <td>False</td>\n",
       "      <td>False</td>\n",
       "      <td>False</td>\n",
       "    </tr>\n",
       "    <tr>\n",
       "      <th>5</th>\n",
       "      <td>False</td>\n",
       "      <td>False</td>\n",
       "      <td>False</td>\n",
       "      <td>False</td>\n",
       "      <td>False</td>\n",
       "      <td>False</td>\n",
       "      <td>False</td>\n",
       "      <td>False</td>\n",
       "      <td>False</td>\n",
       "      <td>False</td>\n",
       "      <td>False</td>\n",
       "      <td>False</td>\n",
       "      <td>False</td>\n",
       "      <td>False</td>\n",
       "      <td>False</td>\n",
       "      <td>False</td>\n",
       "      <td>False</td>\n",
       "      <td>False</td>\n",
       "      <td>False</td>\n",
       "      <td>False</td>\n",
       "    </tr>\n",
       "    <tr>\n",
       "      <th>6</th>\n",
       "      <td>False</td>\n",
       "      <td>False</td>\n",
       "      <td>False</td>\n",
       "      <td>False</td>\n",
       "      <td>False</td>\n",
       "      <td>False</td>\n",
       "      <td>False</td>\n",
       "      <td>False</td>\n",
       "      <td>False</td>\n",
       "      <td>False</td>\n",
       "      <td>False</td>\n",
       "      <td>False</td>\n",
       "      <td>False</td>\n",
       "      <td>False</td>\n",
       "      <td>False</td>\n",
       "      <td>False</td>\n",
       "      <td>False</td>\n",
       "      <td>False</td>\n",
       "      <td>False</td>\n",
       "      <td>False</td>\n",
       "    </tr>\n",
       "    <tr>\n",
       "      <th>7</th>\n",
       "      <td>False</td>\n",
       "      <td>False</td>\n",
       "      <td>False</td>\n",
       "      <td>False</td>\n",
       "      <td>False</td>\n",
       "      <td>False</td>\n",
       "      <td>False</td>\n",
       "      <td>False</td>\n",
       "      <td>False</td>\n",
       "      <td>False</td>\n",
       "      <td>False</td>\n",
       "      <td>False</td>\n",
       "      <td>False</td>\n",
       "      <td>False</td>\n",
       "      <td>False</td>\n",
       "      <td>False</td>\n",
       "      <td>False</td>\n",
       "      <td>False</td>\n",
       "      <td>False</td>\n",
       "      <td>False</td>\n",
       "    </tr>\n",
       "    <tr>\n",
       "      <th>8</th>\n",
       "      <td>False</td>\n",
       "      <td>False</td>\n",
       "      <td>False</td>\n",
       "      <td>False</td>\n",
       "      <td>False</td>\n",
       "      <td>False</td>\n",
       "      <td>False</td>\n",
       "      <td>False</td>\n",
       "      <td>False</td>\n",
       "      <td>False</td>\n",
       "      <td>False</td>\n",
       "      <td>False</td>\n",
       "      <td>False</td>\n",
       "      <td>False</td>\n",
       "      <td>False</td>\n",
       "      <td>False</td>\n",
       "      <td>False</td>\n",
       "      <td>False</td>\n",
       "      <td>False</td>\n",
       "      <td>False</td>\n",
       "    </tr>\n",
       "    <tr>\n",
       "      <th>9</th>\n",
       "      <td>False</td>\n",
       "      <td>False</td>\n",
       "      <td>False</td>\n",
       "      <td>False</td>\n",
       "      <td>False</td>\n",
       "      <td>False</td>\n",
       "      <td>False</td>\n",
       "      <td>False</td>\n",
       "      <td>False</td>\n",
       "      <td>False</td>\n",
       "      <td>False</td>\n",
       "      <td>False</td>\n",
       "      <td>False</td>\n",
       "      <td>False</td>\n",
       "      <td>False</td>\n",
       "      <td>False</td>\n",
       "      <td>False</td>\n",
       "      <td>False</td>\n",
       "      <td>False</td>\n",
       "      <td>False</td>\n",
       "    </tr>\n",
       "  </tbody>\n",
       "</table>\n",
       "</div>"
      ],
      "text/plain": [
       "   budget  genres  homepage     id  keywords  original_language  \\\n",
       "0   False   False     False  False     False              False   \n",
       "1   False   False     False  False     False              False   \n",
       "2   False   False     False  False     False              False   \n",
       "3   False   False     False  False     False              False   \n",
       "4   False   False     False  False     False              False   \n",
       "5   False   False     False  False     False              False   \n",
       "6   False   False     False  False     False              False   \n",
       "7   False   False     False  False     False              False   \n",
       "8   False   False     False  False     False              False   \n",
       "9   False   False     False  False     False              False   \n",
       "\n",
       "   original_title  overview  popularity  production_companies  \\\n",
       "0           False     False       False                 False   \n",
       "1           False     False       False                 False   \n",
       "2           False     False       False                 False   \n",
       "3           False     False       False                 False   \n",
       "4           False     False       False                 False   \n",
       "5           False     False       False                 False   \n",
       "6           False     False       False                 False   \n",
       "7           False     False       False                 False   \n",
       "8           False     False       False                 False   \n",
       "9           False     False       False                 False   \n",
       "\n",
       "   production_countries  release_date  revenue  runtime  spoken_languages  \\\n",
       "0                 False         False    False    False             False   \n",
       "1                 False         False    False    False             False   \n",
       "2                 False         False    False    False             False   \n",
       "3                 False         False    False    False             False   \n",
       "4                 False         False    False    False             False   \n",
       "5                 False         False    False    False             False   \n",
       "6                 False         False    False    False             False   \n",
       "7                 False         False    False    False             False   \n",
       "8                 False         False    False    False             False   \n",
       "9                 False         False    False    False             False   \n",
       "\n",
       "   status  tagline  title  vote_average  vote_count  \n",
       "0   False    False  False         False       False  \n",
       "1   False    False  False         False       False  \n",
       "2   False    False  False         False       False  \n",
       "3   False    False  False         False       False  \n",
       "4   False    False  False         False       False  \n",
       "5   False    False  False         False       False  \n",
       "6   False    False  False         False       False  \n",
       "7   False    False  False         False       False  \n",
       "8   False    False  False         False       False  \n",
       "9   False    False  False         False       False  "
      ]
     },
     "execution_count": 6,
     "metadata": {},
     "output_type": "execute_result"
    }
   ],
   "source": [
    "df.isnull()[0:10]"
   ]
  },
  {
   "cell_type": "code",
   "execution_count": 1,
   "id": "plastic-senior",
   "metadata": {},
   "outputs": [
    {
     "ename": "NameError",
     "evalue": "name 'df' is not defined",
     "output_type": "error",
     "traceback": [
      "\u001b[1;31m---------------------------------------------------------------------------\u001b[0m",
      "\u001b[1;31mNameError\u001b[0m                                 Traceback (most recent call last)",
      "\u001b[1;32m<ipython-input-1-629914d6d1c7>\u001b[0m in \u001b[0;36m<module>\u001b[1;34m\u001b[0m\n\u001b[1;32m----> 1\u001b[1;33m \u001b[0mdf\u001b[0m\u001b[1;33m.\u001b[0m\u001b[0misnull\u001b[0m\u001b[1;33m(\u001b[0m\u001b[1;33m)\u001b[0m\u001b[1;33m.\u001b[0m\u001b[0msum\u001b[0m\u001b[1;33m(\u001b[0m\u001b[1;33m)\u001b[0m\u001b[1;33m\u001b[0m\u001b[1;33m\u001b[0m\u001b[0m\n\u001b[0m",
      "\u001b[1;31mNameError\u001b[0m: name 'df' is not defined"
     ]
    }
   ],
   "source": [
    "df.isnull().sum()"
   ]
  },
  {
   "cell_type": "markdown",
   "id": "distinct-thermal",
   "metadata": {},
   "source": [
    "#### Dropping missing values"
   ]
  },
  {
   "cell_type": "code",
   "execution_count": 8,
   "id": "strong-mechanism",
   "metadata": {},
   "outputs": [],
   "source": [
    "df2=df.dropna()"
   ]
  },
  {
   "cell_type": "code",
   "execution_count": 9,
   "id": "recognized-porcelain",
   "metadata": {},
   "outputs": [
    {
     "data": {
      "text/plain": [
       "0"
      ]
     },
     "execution_count": 9,
     "metadata": {},
     "output_type": "execute_result"
    }
   ],
   "source": [
    "df2.isnull().sum().sum()"
   ]
  },
  {
   "cell_type": "code",
   "execution_count": 10,
   "id": "strategic-plastic",
   "metadata": {},
   "outputs": [
    {
     "data": {
      "text/plain": [
       "(4803, 20)"
      ]
     },
     "execution_count": 10,
     "metadata": {},
     "output_type": "execute_result"
    }
   ],
   "source": [
    "df.shape"
   ]
  },
  {
   "cell_type": "code",
   "execution_count": 11,
   "id": "induced-frederick",
   "metadata": {},
   "outputs": [
    {
     "data": {
      "text/plain": [
       "(1493, 20)"
      ]
     },
     "execution_count": 11,
     "metadata": {},
     "output_type": "execute_result"
    }
   ],
   "source": [
    "df2.shape"
   ]
  },
  {
   "cell_type": "markdown",
   "id": "colored-september",
   "metadata": {},
   "source": [
    "**Indeed, a very big chunk of the data was removed,** so this is not very useful. We could instead opt to drop a row only if all the values in the row are NaN. We can do this by including the how='all'argument. Try this out:"
   ]
  },
  {
   "cell_type": "code",
   "execution_count": 12,
   "id": "balanced-silence",
   "metadata": {},
   "outputs": [
    {
     "data": {
      "text/plain": [
       "(4803, 20)"
      ]
     },
     "execution_count": 12,
     "metadata": {},
     "output_type": "execute_result"
    }
   ],
   "source": [
    "df3 = df.dropna(how='all')\n",
    "df3.shape\n",
    "#(4803, 20)"
   ]
  },
  {
   "cell_type": "code",
   "execution_count": 13,
   "id": "induced-marble",
   "metadata": {},
   "outputs": [],
   "source": [
    "df.dropna(axis=1);"
   ]
  },
  {
   "cell_type": "markdown",
   "id": "presidential-zoning",
   "metadata": {},
   "source": [
    "then the two columns with lots of NaN values are dropped, but we also lose columns with only one, two or three NaN values, which ideally we would like to keep. On the other hand, if we use"
   ]
  },
  {
   "cell_type": "code",
   "execution_count": 14,
   "id": "perceived-marshall",
   "metadata": {},
   "outputs": [],
   "source": [
    "df.dropna(how='all', axis=1);"
   ]
  },
  {
   "cell_type": "markdown",
   "id": "engaged-injection",
   "metadata": {},
   "source": [
    "Then as with the rows, no columns are dropped, and the DataFrame is unchanged. Pandas has a solution for this problem: with the parameter thresh, which allows us to mention a minimum number of non-null values for the row/column to be kept! Let's try this out:"
   ]
  },
  {
   "cell_type": "code",
   "execution_count": 15,
   "id": "excited-citizenship",
   "metadata": {},
   "outputs": [],
   "source": [
    "df.dropna(thresh=4000, axis=1, inplace=True)"
   ]
  },
  {
   "cell_type": "code",
   "execution_count": 16,
   "id": "functioning-penalty",
   "metadata": {},
   "outputs": [
    {
     "data": {
      "text/plain": [
       "6"
      ]
     },
     "execution_count": 16,
     "metadata": {},
     "output_type": "execute_result"
    }
   ],
   "source": [
    "df.isnull().sum().sum()"
   ]
  },
  {
   "cell_type": "markdown",
   "id": "progressive-dayton",
   "metadata": {},
   "source": [
    "If we take a look at the resulting DataFrame, we will notice that columns homepage and tagline were dropped, since they both contained less then 4000 non-null values. This actually removes almost all of our NaN without dropping an excessive number of rows or columns:"
   ]
  },
  {
   "cell_type": "markdown",
   "id": "controversial-wednesday",
   "metadata": {},
   "source": [
    "#### Replacing missing values\n",
    "Dropping missing data decreases the number of samples in our data set and as a result the power of our analysis and the predictive strength for our machine learning models. Therefore it is preferable to first try to retain data by suitably replacing missing values before using dropna() as a last resort.\n",
    "\n",
    "epending on the data there are multiple strategies to replace missing values. If we actually know the correct values or might be able to provide an argument for a reasonable value, we can correct them directly. Otherwise, we aim to infer or estimate the missing data points suitably. **For this, we might use methods like ffill, an estimate like the mean or use machine learning models like k-NN (see later).**\n",
    "\n",
    "Pandas has a **function fillna()** that helps us replace missing values with some specific value that we can choose. Let's look once again where our missing data is:"
   ]
  },
  {
   "cell_type": "code",
   "execution_count": 17,
   "id": "isolated-wright",
   "metadata": {},
   "outputs": [
    {
     "data": {
      "text/plain": [
       "budget                  0\n",
       "genres                  0\n",
       "id                      0\n",
       "keywords                0\n",
       "original_language       0\n",
       "original_title          0\n",
       "overview                3\n",
       "popularity              0\n",
       "production_companies    0\n",
       "production_countries    0\n",
       "release_date            1\n",
       "revenue                 0\n",
       "runtime                 2\n",
       "spoken_languages        0\n",
       "status                  0\n",
       "title                   0\n",
       "vote_average            0\n",
       "vote_count              0\n",
       "dtype: int64"
      ]
     },
     "execution_count": 17,
     "metadata": {},
     "output_type": "execute_result"
    }
   ],
   "source": [
    "df.isnull().sum()"
   ]
  },
  {
   "cell_type": "code",
   "execution_count": 18,
   "id": "classified-phase",
   "metadata": {},
   "outputs": [
    {
     "data": {
      "text/plain": [
       "0    In the 22nd century, a paraplegic Marine is di...\n",
       "1    Captain Barbossa, long believed to be dead, ha...\n",
       "2    A cryptic message from Bond’s past sends him o...\n",
       "3    Following the death of District Attorney Harve...\n",
       "4    John Carter is a war-weary, former military ca...\n",
       "Name: overview, dtype: object"
      ]
     },
     "execution_count": 18,
     "metadata": {},
     "output_type": "execute_result"
    }
   ],
   "source": [
    "df['overview'].head(5)"
   ]
  },
  {
   "cell_type": "code",
   "execution_count": 19,
   "id": "pleasant-spectacular",
   "metadata": {},
   "outputs": [
    {
     "data": {
      "text/plain": [
       "0    2009-12-10\n",
       "1    2007-05-19\n",
       "2    2015-10-26\n",
       "3    2012-07-16\n",
       "4    2012-03-07\n",
       "Name: release_date, dtype: object"
      ]
     },
     "execution_count": 19,
     "metadata": {},
     "output_type": "execute_result"
    }
   ],
   "source": [
    "df['release_date'].head(5)"
   ]
  },
  {
   "cell_type": "code",
   "execution_count": 20,
   "id": "global-marsh",
   "metadata": {},
   "outputs": [
    {
     "data": {
      "text/plain": [
       "0    162.0\n",
       "1    169.0\n",
       "2    148.0\n",
       "3    165.0\n",
       "4    132.0\n",
       "Name: runtime, dtype: float64"
      ]
     },
     "execution_count": 20,
     "metadata": {},
     "output_type": "execute_result"
    }
   ],
   "source": [
    "df['runtime'].head(5)"
   ]
  },
  {
   "cell_type": "code",
   "execution_count": 21,
   "id": "unnecessary-sailing",
   "metadata": {},
   "outputs": [
    {
     "data": {
      "text/plain": [
       "0    162.0\n",
       "1    169.0\n",
       "2    148.0\n",
       "3    165.0\n",
       "4    132.0\n",
       "Name: runtime, dtype: float64"
      ]
     },
     "execution_count": 21,
     "metadata": {},
     "output_type": "execute_result"
    }
   ],
   "source": [
    "df['runtime'][0:5]"
   ]
  },
  {
   "cell_type": "code",
   "execution_count": 22,
   "id": "pediatric-characterization",
   "metadata": {},
   "outputs": [],
   "source": [
    "df['overview'].fillna(value='Overview not available', inplace=True)"
   ]
  },
  {
   "cell_type": "code",
   "execution_count": 23,
   "id": "compressed-drama",
   "metadata": {},
   "outputs": [
    {
     "data": {
      "text/plain": [
       "0"
      ]
     },
     "execution_count": 23,
     "metadata": {},
     "output_type": "execute_result"
    }
   ],
   "source": [
    "df['overview'].isnull().sum()"
   ]
  },
  {
   "cell_type": "markdown",
   "id": "psychological-ordinary",
   "metadata": {},
   "source": [
    "Next, for the column 'release_date', we will be replacing the missing data by propagating the non-missing values, meaning that we replace the missing data with the closest non-missing value (in the same column) in either the forward or backward direction. The function fillna() allows us to do this with two parameters:\n",
    "\n",
    "- ffill: for forward propagation\n",
    "- bfill: for backward propagation"
   ]
  },
  {
   "cell_type": "code",
   "execution_count": 24,
   "id": "oriented-juvenile",
   "metadata": {},
   "outputs": [
    {
     "data": {
      "text/plain": [
       "4553    NaN\n",
       "Name: release_date, dtype: object"
      ]
     },
     "execution_count": 24,
     "metadata": {},
     "output_type": "execute_result"
    }
   ],
   "source": [
    "df.loc[df['release_date'].isnull(), 'release_date']"
   ]
  },
  {
   "cell_type": "code",
   "execution_count": 25,
   "id": "british-morgan",
   "metadata": {},
   "outputs": [
    {
     "data": {
      "text/plain": [
       "4552    2012-03-28\n",
       "4553           NaN\n",
       "4554    2015-03-10\n",
       "Name: release_date, dtype: object"
      ]
     },
     "execution_count": 25,
     "metadata": {},
     "output_type": "execute_result"
    }
   ],
   "source": [
    "df.loc[4552:4554, 'release_date']  "
   ]
  },
  {
   "cell_type": "code",
   "execution_count": 26,
   "id": "heavy-portsmouth",
   "metadata": {},
   "outputs": [
    {
     "data": {
      "text/plain": [
       "4552    2012-03-28\n",
       "4553    2012-03-28\n",
       "4554    2015-03-10\n",
       "Name: release_date, dtype: object"
      ]
     },
     "execution_count": 26,
     "metadata": {},
     "output_type": "execute_result"
    }
   ],
   "source": [
    "df['release_date'].fillna(method='ffill')[4552:4555]"
   ]
  },
  {
   "cell_type": "code",
   "execution_count": 27,
   "id": "connected-matter",
   "metadata": {},
   "outputs": [
    {
     "data": {
      "text/plain": [
       "4552    2012-03-28\n",
       "4553    2015-03-10\n",
       "4554    2015-03-10\n",
       "Name: release_date, dtype: object"
      ]
     },
     "execution_count": 27,
     "metadata": {},
     "output_type": "execute_result"
    }
   ],
   "source": [
    "df['release_date'].fillna(method='bfill')[4552:4555]"
   ]
  },
  {
   "cell_type": "code",
   "execution_count": 28,
   "id": "nervous-clock",
   "metadata": {},
   "outputs": [
    {
     "data": {
      "text/plain": [
       "106.87585919600083"
      ]
     },
     "execution_count": 28,
     "metadata": {},
     "output_type": "execute_result"
    }
   ],
   "source": [
    "df['runtime'].mean()\n"
   ]
  },
  {
   "cell_type": "code",
   "execution_count": 29,
   "id": "documented-visiting",
   "metadata": {},
   "outputs": [],
   "source": [
    "df['runtime'].fillna(value=df['runtime'].mean(), inplace=True)"
   ]
  },
  {
   "cell_type": "code",
   "execution_count": 30,
   "id": "skilled-attitude",
   "metadata": {},
   "outputs": [
    {
     "data": {
      "text/plain": [
       "1"
      ]
     },
     "execution_count": 30,
     "metadata": {},
     "output_type": "execute_result"
    }
   ],
   "source": [
    "df.isnull().sum().sum()"
   ]
  },
  {
   "cell_type": "markdown",
   "id": "living-speed",
   "metadata": {},
   "source": [
    "# Removing duplicate values\n"
   ]
  },
  {
   "cell_type": "code",
   "execution_count": 31,
   "id": "athletic-missile",
   "metadata": {},
   "outputs": [],
   "source": [
    "import pandas as pd\n",
    "df =  pd.DataFrame({ 'color': ['blue','blue','red','red','blue'], 'value': [2,1,3,3,2]})"
   ]
  },
  {
   "cell_type": "code",
   "execution_count": 32,
   "id": "recognized-april",
   "metadata": {},
   "outputs": [
    {
     "data": {
      "text/html": [
       "<div>\n",
       "<style scoped>\n",
       "    .dataframe tbody tr th:only-of-type {\n",
       "        vertical-align: middle;\n",
       "    }\n",
       "\n",
       "    .dataframe tbody tr th {\n",
       "        vertical-align: top;\n",
       "    }\n",
       "\n",
       "    .dataframe thead th {\n",
       "        text-align: right;\n",
       "    }\n",
       "</style>\n",
       "<table border=\"1\" class=\"dataframe\">\n",
       "  <thead>\n",
       "    <tr style=\"text-align: right;\">\n",
       "      <th></th>\n",
       "      <th>color</th>\n",
       "      <th>value</th>\n",
       "    </tr>\n",
       "  </thead>\n",
       "  <tbody>\n",
       "    <tr>\n",
       "      <th>0</th>\n",
       "      <td>blue</td>\n",
       "      <td>2</td>\n",
       "    </tr>\n",
       "    <tr>\n",
       "      <th>1</th>\n",
       "      <td>blue</td>\n",
       "      <td>1</td>\n",
       "    </tr>\n",
       "    <tr>\n",
       "      <th>2</th>\n",
       "      <td>red</td>\n",
       "      <td>3</td>\n",
       "    </tr>\n",
       "    <tr>\n",
       "      <th>3</th>\n",
       "      <td>red</td>\n",
       "      <td>3</td>\n",
       "    </tr>\n",
       "    <tr>\n",
       "      <th>4</th>\n",
       "      <td>blue</td>\n",
       "      <td>2</td>\n",
       "    </tr>\n",
       "  </tbody>\n",
       "</table>\n",
       "</div>"
      ],
      "text/plain": [
       "  color  value\n",
       "0  blue      2\n",
       "1  blue      1\n",
       "2   red      3\n",
       "3   red      3\n",
       "4  blue      2"
      ]
     },
     "execution_count": 32,
     "metadata": {},
     "output_type": "execute_result"
    }
   ],
   "source": [
    "df"
   ]
  },
  {
   "cell_type": "code",
   "execution_count": 33,
   "id": "imposed-participation",
   "metadata": {},
   "outputs": [
    {
     "data": {
      "text/plain": [
       "0    False\n",
       "1    False\n",
       "2    False\n",
       "3     True\n",
       "4     True\n",
       "dtype: bool"
      ]
     },
     "execution_count": 33,
     "metadata": {},
     "output_type": "execute_result"
    }
   ],
   "source": [
    "df.duplicated()\n"
   ]
  },
  {
   "cell_type": "code",
   "execution_count": 34,
   "id": "heavy-graham",
   "metadata": {},
   "outputs": [
    {
     "data": {
      "text/plain": [
       "0     True\n",
       "1    False\n",
       "2     True\n",
       "3    False\n",
       "4    False\n",
       "dtype: bool"
      ]
     },
     "execution_count": 34,
     "metadata": {},
     "output_type": "execute_result"
    }
   ],
   "source": [
    "df.duplicated(keep='last')"
   ]
  },
  {
   "cell_type": "code",
   "execution_count": 35,
   "id": "unavailable-mechanics",
   "metadata": {},
   "outputs": [
    {
     "data": {
      "text/plain": [
       "0     True\n",
       "1    False\n",
       "2     True\n",
       "3     True\n",
       "4     True\n",
       "dtype: bool"
      ]
     },
     "execution_count": 35,
     "metadata": {},
     "output_type": "execute_result"
    }
   ],
   "source": [
    "df.duplicated(keep=False)"
   ]
  },
  {
   "cell_type": "code",
   "execution_count": 36,
   "id": "assigned-quest",
   "metadata": {},
   "outputs": [
    {
     "data": {
      "text/html": [
       "<div>\n",
       "<style scoped>\n",
       "    .dataframe tbody tr th:only-of-type {\n",
       "        vertical-align: middle;\n",
       "    }\n",
       "\n",
       "    .dataframe tbody tr th {\n",
       "        vertical-align: top;\n",
       "    }\n",
       "\n",
       "    .dataframe thead th {\n",
       "        text-align: right;\n",
       "    }\n",
       "</style>\n",
       "<table border=\"1\" class=\"dataframe\">\n",
       "  <thead>\n",
       "    <tr style=\"text-align: right;\">\n",
       "      <th></th>\n",
       "      <th>color</th>\n",
       "      <th>value</th>\n",
       "    </tr>\n",
       "  </thead>\n",
       "  <tbody>\n",
       "    <tr>\n",
       "      <th>3</th>\n",
       "      <td>red</td>\n",
       "      <td>3</td>\n",
       "    </tr>\n",
       "    <tr>\n",
       "      <th>4</th>\n",
       "      <td>blue</td>\n",
       "      <td>2</td>\n",
       "    </tr>\n",
       "  </tbody>\n",
       "</table>\n",
       "</div>"
      ],
      "text/plain": [
       "  color  value\n",
       "3   red      3\n",
       "4  blue      2"
      ]
     },
     "execution_count": 36,
     "metadata": {},
     "output_type": "execute_result"
    }
   ],
   "source": [
    "df.loc[df.duplicated(),:]"
   ]
  },
  {
   "cell_type": "code",
   "execution_count": 37,
   "id": "loose-qatar",
   "metadata": {},
   "outputs": [
    {
     "data": {
      "text/html": [
       "<div>\n",
       "<style scoped>\n",
       "    .dataframe tbody tr th:only-of-type {\n",
       "        vertical-align: middle;\n",
       "    }\n",
       "\n",
       "    .dataframe tbody tr th {\n",
       "        vertical-align: top;\n",
       "    }\n",
       "\n",
       "    .dataframe thead th {\n",
       "        text-align: right;\n",
       "    }\n",
       "</style>\n",
       "<table border=\"1\" class=\"dataframe\">\n",
       "  <thead>\n",
       "    <tr style=\"text-align: right;\">\n",
       "      <th></th>\n",
       "      <th>color</th>\n",
       "      <th>value</th>\n",
       "    </tr>\n",
       "  </thead>\n",
       "  <tbody>\n",
       "    <tr>\n",
       "      <th>0</th>\n",
       "      <td>blue</td>\n",
       "      <td>2</td>\n",
       "    </tr>\n",
       "    <tr>\n",
       "      <th>1</th>\n",
       "      <td>blue</td>\n",
       "      <td>1</td>\n",
       "    </tr>\n",
       "    <tr>\n",
       "      <th>2</th>\n",
       "      <td>red</td>\n",
       "      <td>3</td>\n",
       "    </tr>\n",
       "  </tbody>\n",
       "</table>\n",
       "</div>"
      ],
      "text/plain": [
       "  color  value\n",
       "0  blue      2\n",
       "1  blue      1\n",
       "2   red      3"
      ]
     },
     "execution_count": 37,
     "metadata": {},
     "output_type": "execute_result"
    }
   ],
   "source": [
    "df.drop_duplicates()"
   ]
  },
  {
   "cell_type": "code",
   "execution_count": 38,
   "id": "tested-manhattan",
   "metadata": {},
   "outputs": [
    {
     "data": {
      "text/html": [
       "<div>\n",
       "<style scoped>\n",
       "    .dataframe tbody tr th:only-of-type {\n",
       "        vertical-align: middle;\n",
       "    }\n",
       "\n",
       "    .dataframe tbody tr th {\n",
       "        vertical-align: top;\n",
       "    }\n",
       "\n",
       "    .dataframe thead th {\n",
       "        text-align: right;\n",
       "    }\n",
       "</style>\n",
       "<table border=\"1\" class=\"dataframe\">\n",
       "  <thead>\n",
       "    <tr style=\"text-align: right;\">\n",
       "      <th></th>\n",
       "      <th>color</th>\n",
       "      <th>value</th>\n",
       "    </tr>\n",
       "  </thead>\n",
       "  <tbody>\n",
       "    <tr>\n",
       "      <th>1</th>\n",
       "      <td>blue</td>\n",
       "      <td>1</td>\n",
       "    </tr>\n",
       "    <tr>\n",
       "      <th>3</th>\n",
       "      <td>red</td>\n",
       "      <td>3</td>\n",
       "    </tr>\n",
       "    <tr>\n",
       "      <th>4</th>\n",
       "      <td>blue</td>\n",
       "      <td>2</td>\n",
       "    </tr>\n",
       "  </tbody>\n",
       "</table>\n",
       "</div>"
      ],
      "text/plain": [
       "  color  value\n",
       "1  blue      1\n",
       "3   red      3\n",
       "4  blue      2"
      ]
     },
     "execution_count": 38,
     "metadata": {},
     "output_type": "execute_result"
    }
   ],
   "source": [
    "df.drop_duplicates(keep='last')"
   ]
  },
  {
   "cell_type": "markdown",
   "id": "enormous-alberta",
   "metadata": {},
   "source": [
    "#### Duplicates from a particular column"
   ]
  },
  {
   "cell_type": "code",
   "execution_count": null,
   "id": "scientific-lesson",
   "metadata": {},
   "outputs": [],
   "source": []
  },
  {
   "cell_type": "code",
   "execution_count": 39,
   "id": "sapphire-johnson",
   "metadata": {},
   "outputs": [
    {
     "data": {
      "text/html": [
       "<div>\n",
       "<style scoped>\n",
       "    .dataframe tbody tr th:only-of-type {\n",
       "        vertical-align: middle;\n",
       "    }\n",
       "\n",
       "    .dataframe tbody tr th {\n",
       "        vertical-align: top;\n",
       "    }\n",
       "\n",
       "    .dataframe thead th {\n",
       "        text-align: right;\n",
       "    }\n",
       "</style>\n",
       "<table border=\"1\" class=\"dataframe\">\n",
       "  <thead>\n",
       "    <tr style=\"text-align: right;\">\n",
       "      <th></th>\n",
       "      <th>color</th>\n",
       "      <th>value</th>\n",
       "    </tr>\n",
       "  </thead>\n",
       "  <tbody>\n",
       "    <tr>\n",
       "      <th>0</th>\n",
       "      <td>blue</td>\n",
       "      <td>2</td>\n",
       "    </tr>\n",
       "    <tr>\n",
       "      <th>1</th>\n",
       "      <td>blue</td>\n",
       "      <td>1</td>\n",
       "    </tr>\n",
       "    <tr>\n",
       "      <th>2</th>\n",
       "      <td>red</td>\n",
       "      <td>3</td>\n",
       "    </tr>\n",
       "  </tbody>\n",
       "</table>\n",
       "</div>"
      ],
      "text/plain": [
       "  color  value\n",
       "0  blue      2\n",
       "1  blue      1\n",
       "2   red      3"
      ]
     },
     "execution_count": 39,
     "metadata": {},
     "output_type": "execute_result"
    }
   ],
   "source": [
    "df.drop_duplicates(['value'])"
   ]
  },
  {
   "cell_type": "code",
   "execution_count": 40,
   "id": "czech-population",
   "metadata": {},
   "outputs": [
    {
     "data": {
      "text/html": [
       "<div>\n",
       "<style scoped>\n",
       "    .dataframe tbody tr th:only-of-type {\n",
       "        vertical-align: middle;\n",
       "    }\n",
       "\n",
       "    .dataframe tbody tr th {\n",
       "        vertical-align: top;\n",
       "    }\n",
       "\n",
       "    .dataframe thead th {\n",
       "        text-align: right;\n",
       "    }\n",
       "</style>\n",
       "<table border=\"1\" class=\"dataframe\">\n",
       "  <thead>\n",
       "    <tr style=\"text-align: right;\">\n",
       "      <th></th>\n",
       "      <th>color</th>\n",
       "      <th>value</th>\n",
       "    </tr>\n",
       "  </thead>\n",
       "  <tbody>\n",
       "    <tr>\n",
       "      <th>0</th>\n",
       "      <td>blue</td>\n",
       "      <td>2</td>\n",
       "    </tr>\n",
       "    <tr>\n",
       "      <th>2</th>\n",
       "      <td>red</td>\n",
       "      <td>3</td>\n",
       "    </tr>\n",
       "  </tbody>\n",
       "</table>\n",
       "</div>"
      ],
      "text/plain": [
       "  color  value\n",
       "0  blue      2\n",
       "2   red      3"
      ]
     },
     "execution_count": 40,
     "metadata": {},
     "output_type": "execute_result"
    }
   ],
   "source": [
    "df.drop_duplicates(['color'])"
   ]
  },
  {
   "cell_type": "code",
   "execution_count": 41,
   "id": "capable-compensation",
   "metadata": {},
   "outputs": [],
   "source": [
    "import pandas as pd\n",
    "df = pd.read_csv('http://bit.ly/chiporders',sep='\\t')"
   ]
  },
  {
   "cell_type": "code",
   "execution_count": 42,
   "id": "technical-crest",
   "metadata": {},
   "outputs": [
    {
     "data": {
      "text/html": [
       "<div>\n",
       "<style scoped>\n",
       "    .dataframe tbody tr th:only-of-type {\n",
       "        vertical-align: middle;\n",
       "    }\n",
       "\n",
       "    .dataframe tbody tr th {\n",
       "        vertical-align: top;\n",
       "    }\n",
       "\n",
       "    .dataframe thead th {\n",
       "        text-align: right;\n",
       "    }\n",
       "</style>\n",
       "<table border=\"1\" class=\"dataframe\">\n",
       "  <thead>\n",
       "    <tr style=\"text-align: right;\">\n",
       "      <th></th>\n",
       "      <th>order_id</th>\n",
       "      <th>quantity</th>\n",
       "      <th>item_name</th>\n",
       "      <th>choice_description</th>\n",
       "      <th>item_price</th>\n",
       "    </tr>\n",
       "  </thead>\n",
       "  <tbody>\n",
       "    <tr>\n",
       "      <th>4614</th>\n",
       "      <td>1831</td>\n",
       "      <td>1</td>\n",
       "      <td>Bottled Water</td>\n",
       "      <td>NaN</td>\n",
       "      <td>$1.50</td>\n",
       "    </tr>\n",
       "    <tr>\n",
       "      <th>4615</th>\n",
       "      <td>1832</td>\n",
       "      <td>1</td>\n",
       "      <td>Chicken Soft Tacos</td>\n",
       "      <td>[Fresh Tomato Salsa, [Rice, Cheese, Sour Cream]]</td>\n",
       "      <td>$8.75</td>\n",
       "    </tr>\n",
       "    <tr>\n",
       "      <th>4616</th>\n",
       "      <td>1832</td>\n",
       "      <td>1</td>\n",
       "      <td>Chips and Guacamole</td>\n",
       "      <td>NaN</td>\n",
       "      <td>$4.45</td>\n",
       "    </tr>\n",
       "    <tr>\n",
       "      <th>4617</th>\n",
       "      <td>1833</td>\n",
       "      <td>1</td>\n",
       "      <td>Steak Burrito</td>\n",
       "      <td>[Fresh Tomato Salsa, [Rice, Black Beans, Sour ...</td>\n",
       "      <td>$11.75</td>\n",
       "    </tr>\n",
       "    <tr>\n",
       "      <th>4618</th>\n",
       "      <td>1833</td>\n",
       "      <td>1</td>\n",
       "      <td>Steak Burrito</td>\n",
       "      <td>[Fresh Tomato Salsa, [Rice, Sour Cream, Cheese...</td>\n",
       "      <td>$11.75</td>\n",
       "    </tr>\n",
       "    <tr>\n",
       "      <th>4619</th>\n",
       "      <td>1834</td>\n",
       "      <td>1</td>\n",
       "      <td>Chicken Salad Bowl</td>\n",
       "      <td>[Fresh Tomato Salsa, [Fajita Vegetables, Pinto...</td>\n",
       "      <td>$11.25</td>\n",
       "    </tr>\n",
       "    <tr>\n",
       "      <th>4620</th>\n",
       "      <td>1834</td>\n",
       "      <td>1</td>\n",
       "      <td>Chicken Salad Bowl</td>\n",
       "      <td>[Fresh Tomato Salsa, [Fajita Vegetables, Lettu...</td>\n",
       "      <td>$8.75</td>\n",
       "    </tr>\n",
       "    <tr>\n",
       "      <th>4621</th>\n",
       "      <td>1834</td>\n",
       "      <td>1</td>\n",
       "      <td>Chicken Salad Bowl</td>\n",
       "      <td>[Fresh Tomato Salsa, [Fajita Vegetables, Pinto...</td>\n",
       "      <td>$8.75</td>\n",
       "    </tr>\n",
       "  </tbody>\n",
       "</table>\n",
       "</div>"
      ],
      "text/plain": [
       "      order_id  quantity            item_name  \\\n",
       "4614      1831         1        Bottled Water   \n",
       "4615      1832         1   Chicken Soft Tacos   \n",
       "4616      1832         1  Chips and Guacamole   \n",
       "4617      1833         1        Steak Burrito   \n",
       "4618      1833         1        Steak Burrito   \n",
       "4619      1834         1   Chicken Salad Bowl   \n",
       "4620      1834         1   Chicken Salad Bowl   \n",
       "4621      1834         1   Chicken Salad Bowl   \n",
       "\n",
       "                                     choice_description item_price  \n",
       "4614                                                NaN     $1.50   \n",
       "4615   [Fresh Tomato Salsa, [Rice, Cheese, Sour Cream]]     $8.75   \n",
       "4616                                                NaN     $4.45   \n",
       "4617  [Fresh Tomato Salsa, [Rice, Black Beans, Sour ...    $11.75   \n",
       "4618  [Fresh Tomato Salsa, [Rice, Sour Cream, Cheese...    $11.75   \n",
       "4619  [Fresh Tomato Salsa, [Fajita Vegetables, Pinto...    $11.25   \n",
       "4620  [Fresh Tomato Salsa, [Fajita Vegetables, Lettu...     $8.75   \n",
       "4621  [Fresh Tomato Salsa, [Fajita Vegetables, Pinto...     $8.75   "
      ]
     },
     "execution_count": 42,
     "metadata": {},
     "output_type": "execute_result"
    }
   ],
   "source": [
    "df[-8:]"
   ]
  },
  {
   "cell_type": "code",
   "execution_count": 43,
   "id": "listed-stylus",
   "metadata": {},
   "outputs": [
    {
     "data": {
      "text/plain": [
       "59"
      ]
     },
     "execution_count": 43,
     "metadata": {},
     "output_type": "execute_result"
    }
   ],
   "source": [
    "df.duplicated().sum()"
   ]
  },
  {
   "cell_type": "code",
   "execution_count": 44,
   "id": "complex-gender",
   "metadata": {},
   "outputs": [
    {
     "data": {
      "text/plain": [
       "2788"
      ]
     },
     "execution_count": 44,
     "metadata": {},
     "output_type": "execute_result"
    }
   ],
   "source": [
    "df.duplicated(['order_id']).sum()"
   ]
  },
  {
   "cell_type": "code",
   "execution_count": 45,
   "id": "leading-manufacturer",
   "metadata": {},
   "outputs": [
    {
     "data": {
      "text/plain": [
       "4613"
      ]
     },
     "execution_count": 45,
     "metadata": {},
     "output_type": "execute_result"
    }
   ],
   "source": [
    "df.duplicated(['quantity']).sum()"
   ]
  },
  {
   "cell_type": "code",
   "execution_count": 46,
   "id": "offensive-termination",
   "metadata": {},
   "outputs": [
    {
     "data": {
      "text/plain": [
       "4572"
      ]
     },
     "execution_count": 46,
     "metadata": {},
     "output_type": "execute_result"
    }
   ],
   "source": [
    "df.duplicated(['item_name']).sum()"
   ]
  },
  {
   "cell_type": "code",
   "execution_count": 47,
   "id": "cellular-coordinator",
   "metadata": {},
   "outputs": [
    {
     "data": {
      "text/plain": [
       "3578"
      ]
     },
     "execution_count": 47,
     "metadata": {},
     "output_type": "execute_result"
    }
   ],
   "source": [
    "df.duplicated(['choice_description']).sum()"
   ]
  },
  {
   "cell_type": "code",
   "execution_count": 48,
   "id": "freelance-africa",
   "metadata": {},
   "outputs": [
    {
     "data": {
      "text/plain": [
       "4544"
      ]
     },
     "execution_count": 48,
     "metadata": {},
     "output_type": "execute_result"
    }
   ],
   "source": [
    "df.duplicated(['item_price']).sum()"
   ]
  },
  {
   "cell_type": "code",
   "execution_count": 49,
   "id": "technological-smith",
   "metadata": {},
   "outputs": [
    {
     "name": "stdout",
     "output_type": "stream",
     "text": [
      "2788\n",
      "4613\n",
      "4572\n",
      "3578\n",
      "4544\n"
     ]
    }
   ],
   "source": [
    "for column in df.columns:\n",
    "    x=df.duplicated([column]).sum()\n",
    "    print(x)"
   ]
  },
  {
   "cell_type": "code",
   "execution_count": 50,
   "id": "limiting-confidence",
   "metadata": {},
   "outputs": [
    {
     "data": {
      "text/plain": [
       "249"
      ]
     },
     "execution_count": 50,
     "metadata": {},
     "output_type": "execute_result"
    }
   ],
   "source": [
    "df.duplicated(['order_id','item_name','item_price']).sum()"
   ]
  },
  {
   "cell_type": "code",
   "execution_count": 51,
   "id": "chubby-conditioning",
   "metadata": {},
   "outputs": [
    {
     "name": "stdout",
     "output_type": "stream",
     "text": [
      "<class 'pandas.core.frame.DataFrame'>\n",
      "Int64Index: 4156 entries, 0 to 4619\n",
      "Data columns (total 5 columns):\n",
      "order_id              4156 non-null int64\n",
      "quantity              4156 non-null int64\n",
      "item_name             4156 non-null object\n",
      "choice_description    2946 non-null object\n",
      "item_price            4156 non-null object\n",
      "dtypes: int64(2), object(3)\n",
      "memory usage: 194.8+ KB\n"
     ]
    }
   ],
   "source": [
    "df.drop_duplicates(['order_id','item_name','item_price'], keep = False).info()"
   ]
  },
  {
   "cell_type": "markdown",
   "id": "brilliant-dylan",
   "metadata": {},
   "source": [
    "# Detecting and filtering outliers"
   ]
  },
  {
   "cell_type": "markdown",
   "id": "affiliated-handy",
   "metadata": {},
   "source": [
    "In order to identify outlier candidates, we need to:\n",
    "\n",
    "1) establish what we consider as 'normal\n",
    "\n",
    "2) find a way to measure deviations from that 'normal'."
   ]
  },
  {
   "cell_type": "markdown",
   "id": "authorized-sherman",
   "metadata": {},
   "source": [
    "Outliers vs errors :\n",
    "\n",
    "Some abnormal values can be the result of errors in the data and should be addressed in any case. Unlike errors, we consider outliers as legitimate values that are different or rare. When we discuss outliers below and in other units, we will assume that we have already cleared out the errors."
   ]
  },
  {
   "cell_type": "markdown",
   "id": "centered-undergraduate",
   "metadata": {},
   "source": [
    "**Outliers can hold valuable information**\n",
    "\n",
    "Outliers are often seen as abnormal and undesirable. However, in some fields, they can provide sought-after insights.\n",
    "\n",
    "- Recognizing outliers in user behavior can help credit card firms identify potential fraud and network administrators identify attempted cyber attacks.\n",
    "- In production cycles, outliers can help identify defective products that should not enter circulation.\n",
    "- In predictive maintenance, outliers in time-series data for sensors and machines can be signs of imminent problems and a potential breakdown. Recognizing this early allows firms to intervene quickly and save time and money.\n",
    "- **In science, outliers might give rise to unobserved phenomena (novelties) that advance our understanding of the field and down the line, the outlier in today's observational data becomes a standard part of tomorrow's textbooks.**"
   ]
  },
  {
   "cell_type": "markdown",
   "id": "documentary-chester",
   "metadata": {},
   "source": [
    "#### Practical outlier removal\n"
   ]
  },
  {
   "cell_type": "markdown",
   "id": "dependent-adventure",
   "metadata": {},
   "source": [
    "In this unit, we will describe three methods for outlier detection and removal: by **inspection, z-scores and boxplots**. Here we will focus on outliers within single features."
   ]
  },
  {
   "cell_type": "code",
   "execution_count": 52,
   "id": "greatest-monthly",
   "metadata": {},
   "outputs": [],
   "source": [
    "import pandas as pd\n",
    "import numpy as np\n",
    "import matplotlib.pyplot as plt\n",
    "import seaborn as sns\n",
    "\n",
    "%matplotlib inline"
   ]
  },
  {
   "cell_type": "markdown",
   "id": "industrial-shopping",
   "metadata": {},
   "source": [
    "We will work with a data set of 100'000 randomly generated samples with 6 features.\n",
    "The first 5 features are created with the random.randn() function from NumPy. This function creates an array of specified shape (here 100'000 by 5) and uses a random number generator to fill this array with random values sampled from the standard normal (Gaussian) distribution. Concretely, as the documentation of the function states, it will return the array \"filled with random floats sampled from a univariate “normal” (Gaussian) distribution of mean 0 and variance 1\".\n",
    "\n",
    "For the 5th feature, we will **manually introduce outliers** by adding 1000 to the last 100 values (i.e. 0.1% of our samples).\n",
    "Finally, we will add a 6th feature with values sampled from an exponential distribution as an illustrative example that exhibits skewness. You don't need to worry about the details, but if you want to know more see the numpy documentation which has further references at the end."
   ]
  },
  {
   "cell_type": "code",
   "execution_count": 53,
   "id": "other-helen",
   "metadata": {},
   "outputs": [],
   "source": [
    "# Create a random seed to make result reproducible\n",
    "np.random.seed(0)\n"
   ]
  },
  {
   "cell_type": "code",
   "execution_count": 54,
   "id": "european-egyptian",
   "metadata": {},
   "outputs": [],
   "source": [
    "# Create 5 features with 100000 samples from Gaussian distribution each\n",
    "df = pd.DataFrame(np.random.randn(100000, 5))"
   ]
  },
  {
   "cell_type": "code",
   "execution_count": 55,
   "id": "greek-winter",
   "metadata": {},
   "outputs": [
    {
     "data": {
      "text/html": [
       "<div>\n",
       "<style scoped>\n",
       "    .dataframe tbody tr th:only-of-type {\n",
       "        vertical-align: middle;\n",
       "    }\n",
       "\n",
       "    .dataframe tbody tr th {\n",
       "        vertical-align: top;\n",
       "    }\n",
       "\n",
       "    .dataframe thead th {\n",
       "        text-align: right;\n",
       "    }\n",
       "</style>\n",
       "<table border=\"1\" class=\"dataframe\">\n",
       "  <thead>\n",
       "    <tr style=\"text-align: right;\">\n",
       "      <th></th>\n",
       "      <th>0</th>\n",
       "      <th>1</th>\n",
       "      <th>2</th>\n",
       "      <th>3</th>\n",
       "      <th>4</th>\n",
       "    </tr>\n",
       "  </thead>\n",
       "  <tbody>\n",
       "    <tr>\n",
       "      <th>0</th>\n",
       "      <td>1.764052</td>\n",
       "      <td>0.400157</td>\n",
       "      <td>0.978738</td>\n",
       "      <td>2.240893</td>\n",
       "      <td>1.867558</td>\n",
       "    </tr>\n",
       "    <tr>\n",
       "      <th>1</th>\n",
       "      <td>-0.977278</td>\n",
       "      <td>0.950088</td>\n",
       "      <td>-0.151357</td>\n",
       "      <td>-0.103219</td>\n",
       "      <td>0.410599</td>\n",
       "    </tr>\n",
       "    <tr>\n",
       "      <th>2</th>\n",
       "      <td>0.144044</td>\n",
       "      <td>1.454274</td>\n",
       "      <td>0.761038</td>\n",
       "      <td>0.121675</td>\n",
       "      <td>0.443863</td>\n",
       "    </tr>\n",
       "    <tr>\n",
       "      <th>3</th>\n",
       "      <td>0.333674</td>\n",
       "      <td>1.494079</td>\n",
       "      <td>-0.205158</td>\n",
       "      <td>0.313068</td>\n",
       "      <td>-0.854096</td>\n",
       "    </tr>\n",
       "    <tr>\n",
       "      <th>4</th>\n",
       "      <td>-2.552990</td>\n",
       "      <td>0.653619</td>\n",
       "      <td>0.864436</td>\n",
       "      <td>-0.742165</td>\n",
       "      <td>2.269755</td>\n",
       "    </tr>\n",
       "  </tbody>\n",
       "</table>\n",
       "</div>"
      ],
      "text/plain": [
       "          0         1         2         3         4\n",
       "0  1.764052  0.400157  0.978738  2.240893  1.867558\n",
       "1 -0.977278  0.950088 -0.151357 -0.103219  0.410599\n",
       "2  0.144044  1.454274  0.761038  0.121675  0.443863\n",
       "3  0.333674  1.494079 -0.205158  0.313068 -0.854096\n",
       "4 -2.552990  0.653619  0.864436 -0.742165  2.269755"
      ]
     },
     "execution_count": 55,
     "metadata": {},
     "output_type": "execute_result"
    }
   ],
   "source": [
    "df[0:5]"
   ]
  },
  {
   "cell_type": "code",
   "execution_count": 56,
   "id": "answering-custom",
   "metadata": {},
   "outputs": [],
   "source": [
    "# Add 1000 to the last 100 values of feature 4\n",
    "df.iloc[-100:, 4] = df.iloc[-100:, 4] + 1000"
   ]
  },
  {
   "cell_type": "code",
   "execution_count": 57,
   "id": "better-albuquerque",
   "metadata": {},
   "outputs": [],
   "source": [
    "# Create 6th feature with 100000 samples from exponential distribution\n",
    "df[5] = np.random.exponential(1, 100000)"
   ]
  },
  {
   "cell_type": "code",
   "execution_count": 58,
   "id": "julian-spring",
   "metadata": {},
   "outputs": [
    {
     "data": {
      "text/html": [
       "<div>\n",
       "<style scoped>\n",
       "    .dataframe tbody tr th:only-of-type {\n",
       "        vertical-align: middle;\n",
       "    }\n",
       "\n",
       "    .dataframe tbody tr th {\n",
       "        vertical-align: top;\n",
       "    }\n",
       "\n",
       "    .dataframe thead th {\n",
       "        text-align: right;\n",
       "    }\n",
       "</style>\n",
       "<table border=\"1\" class=\"dataframe\">\n",
       "  <thead>\n",
       "    <tr style=\"text-align: right;\">\n",
       "      <th></th>\n",
       "      <th>X0</th>\n",
       "      <th>X1</th>\n",
       "      <th>X2</th>\n",
       "      <th>X3</th>\n",
       "      <th>X4</th>\n",
       "      <th>X5</th>\n",
       "    </tr>\n",
       "  </thead>\n",
       "  <tbody>\n",
       "    <tr>\n",
       "      <th>0</th>\n",
       "      <td>1.764052</td>\n",
       "      <td>0.400157</td>\n",
       "      <td>0.978738</td>\n",
       "      <td>2.240893</td>\n",
       "      <td>1.867558</td>\n",
       "      <td>0.540426</td>\n",
       "    </tr>\n",
       "    <tr>\n",
       "      <th>1</th>\n",
       "      <td>-0.977278</td>\n",
       "      <td>0.950088</td>\n",
       "      <td>-0.151357</td>\n",
       "      <td>-0.103219</td>\n",
       "      <td>0.410599</td>\n",
       "      <td>1.424513</td>\n",
       "    </tr>\n",
       "    <tr>\n",
       "      <th>2</th>\n",
       "      <td>0.144044</td>\n",
       "      <td>1.454274</td>\n",
       "      <td>0.761038</td>\n",
       "      <td>0.121675</td>\n",
       "      <td>0.443863</td>\n",
       "      <td>0.282623</td>\n",
       "    </tr>\n",
       "    <tr>\n",
       "      <th>3</th>\n",
       "      <td>0.333674</td>\n",
       "      <td>1.494079</td>\n",
       "      <td>-0.205158</td>\n",
       "      <td>0.313068</td>\n",
       "      <td>-0.854096</td>\n",
       "      <td>0.038750</td>\n",
       "    </tr>\n",
       "    <tr>\n",
       "      <th>4</th>\n",
       "      <td>-2.552990</td>\n",
       "      <td>0.653619</td>\n",
       "      <td>0.864436</td>\n",
       "      <td>-0.742165</td>\n",
       "      <td>2.269755</td>\n",
       "      <td>0.999036</td>\n",
       "    </tr>\n",
       "  </tbody>\n",
       "</table>\n",
       "</div>"
      ],
      "text/plain": [
       "         X0        X1        X2        X3        X4        X5\n",
       "0  1.764052  0.400157  0.978738  2.240893  1.867558  0.540426\n",
       "1 -0.977278  0.950088 -0.151357 -0.103219  0.410599  1.424513\n",
       "2  0.144044  1.454274  0.761038  0.121675  0.443863  0.282623\n",
       "3  0.333674  1.494079 -0.205158  0.313068 -0.854096  0.038750\n",
       "4 -2.552990  0.653619  0.864436 -0.742165  2.269755  0.999036"
      ]
     },
     "execution_count": 58,
     "metadata": {},
     "output_type": "execute_result"
    }
   ],
   "source": [
    "# Change feature names\n",
    "df = df.add_prefix(\"X\")\n",
    "df.head()"
   ]
  },
  {
   "cell_type": "markdown",
   "id": "continental-designation",
   "metadata": {},
   "source": [
    "#### Checking descriptive statistics and visualizations"
   ]
  },
  {
   "cell_type": "code",
   "execution_count": 59,
   "id": "congressional-victory",
   "metadata": {},
   "outputs": [
    {
     "data": {
      "text/html": [
       "<div>\n",
       "<style scoped>\n",
       "    .dataframe tbody tr th:only-of-type {\n",
       "        vertical-align: middle;\n",
       "    }\n",
       "\n",
       "    .dataframe tbody tr th {\n",
       "        vertical-align: top;\n",
       "    }\n",
       "\n",
       "    .dataframe thead th {\n",
       "        text-align: right;\n",
       "    }\n",
       "</style>\n",
       "<table border=\"1\" class=\"dataframe\">\n",
       "  <thead>\n",
       "    <tr style=\"text-align: right;\">\n",
       "      <th></th>\n",
       "      <th>X0</th>\n",
       "      <th>X1</th>\n",
       "      <th>X2</th>\n",
       "      <th>X3</th>\n",
       "      <th>X4</th>\n",
       "      <th>X5</th>\n",
       "    </tr>\n",
       "  </thead>\n",
       "  <tbody>\n",
       "    <tr>\n",
       "      <th>count</th>\n",
       "      <td>100000.00000</td>\n",
       "      <td>100000.00000</td>\n",
       "      <td>100000.00000</td>\n",
       "      <td>100000.00000</td>\n",
       "      <td>100000.00000</td>\n",
       "      <td>100000.00000</td>\n",
       "    </tr>\n",
       "    <tr>\n",
       "      <th>mean</th>\n",
       "      <td>-0.00020</td>\n",
       "      <td>0.00235</td>\n",
       "      <td>0.00161</td>\n",
       "      <td>0.00196</td>\n",
       "      <td>1.00745</td>\n",
       "      <td>1.00622</td>\n",
       "    </tr>\n",
       "    <tr>\n",
       "      <th>std</th>\n",
       "      <td>0.99711</td>\n",
       "      <td>0.99915</td>\n",
       "      <td>1.00225</td>\n",
       "      <td>1.00057</td>\n",
       "      <td>31.61742</td>\n",
       "      <td>1.00696</td>\n",
       "    </tr>\n",
       "    <tr>\n",
       "      <th>min</th>\n",
       "      <td>-4.69459</td>\n",
       "      <td>-4.85212</td>\n",
       "      <td>-4.24712</td>\n",
       "      <td>-4.44663</td>\n",
       "      <td>-5.00230</td>\n",
       "      <td>0.00000</td>\n",
       "    </tr>\n",
       "    <tr>\n",
       "      <th>25%</th>\n",
       "      <td>-0.67891</td>\n",
       "      <td>-0.66917</td>\n",
       "      <td>-0.67574</td>\n",
       "      <td>-0.67561</td>\n",
       "      <td>-0.66450</td>\n",
       "      <td>0.29055</td>\n",
       "    </tr>\n",
       "    <tr>\n",
       "      <th>50%</th>\n",
       "      <td>0.00263</td>\n",
       "      <td>0.00315</td>\n",
       "      <td>0.00039</td>\n",
       "      <td>0.00118</td>\n",
       "      <td>0.00851</td>\n",
       "      <td>0.69563</td>\n",
       "    </tr>\n",
       "    <tr>\n",
       "      <th>75%</th>\n",
       "      <td>0.67424</td>\n",
       "      <td>0.67192</td>\n",
       "      <td>0.67740</td>\n",
       "      <td>0.67603</td>\n",
       "      <td>0.68245</td>\n",
       "      <td>1.39619</td>\n",
       "    </tr>\n",
       "    <tr>\n",
       "      <th>max</th>\n",
       "      <td>4.46661</td>\n",
       "      <td>4.22408</td>\n",
       "      <td>4.28586</td>\n",
       "      <td>4.24177</td>\n",
       "      <td>1002.53804</td>\n",
       "      <td>11.80068</td>\n",
       "    </tr>\n",
       "  </tbody>\n",
       "</table>\n",
       "</div>"
      ],
      "text/plain": [
       "                 X0            X1            X2            X3            X4  \\\n",
       "count  100000.00000  100000.00000  100000.00000  100000.00000  100000.00000   \n",
       "mean       -0.00020       0.00235       0.00161       0.00196       1.00745   \n",
       "std         0.99711       0.99915       1.00225       1.00057      31.61742   \n",
       "min        -4.69459      -4.85212      -4.24712      -4.44663      -5.00230   \n",
       "25%        -0.67891      -0.66917      -0.67574      -0.67561      -0.66450   \n",
       "50%         0.00263       0.00315       0.00039       0.00118       0.00851   \n",
       "75%         0.67424       0.67192       0.67740       0.67603       0.68245   \n",
       "max         4.46661       4.22408       4.28586       4.24177    1002.53804   \n",
       "\n",
       "                 X5  \n",
       "count  100000.00000  \n",
       "mean        1.00622  \n",
       "std         1.00696  \n",
       "min         0.00000  \n",
       "25%         0.29055  \n",
       "50%         0.69563  \n",
       "75%         1.39619  \n",
       "max        11.80068  "
      ]
     },
     "execution_count": 59,
     "metadata": {},
     "output_type": "execute_result"
    }
   ],
   "source": [
    "df.describe().round(5)"
   ]
  },
  {
   "cell_type": "markdown",
   "id": "absent-andrews",
   "metadata": {},
   "source": [
    "For feature X4 the minimum, the median, and the 25th and 75th percentile are very similar to those of features X0 to X3. However the mean, standard deviation, and maximum are different.\n",
    "\n",
    "*Comment: Accounting for the fact that we added 1000 to the last 100 samples the shift of the maximum was to be expected. But observe how these 100 samples have also influenced the mean and, in particular, the standard deviation (31.6 instead of ~1). We highlight this because this will have a significant impact on the outliers detected for X4 with the z-score method below.*\n",
    "\n",
    "Finally for feature X5, we have a mean and std of 1 and the median is around two thirds between the minimum and the mean. Moreover, the minimum is 1 std away from the mean while the maximum is almost 11 std away from the mean. This suggests the data is right-skewed, i.e a longer tail on the right. We will need to take a closer look."
   ]
  },
  {
   "cell_type": "code",
   "execution_count": 60,
   "id": "obvious-generic",
   "metadata": {},
   "outputs": [
    {
     "data": {
      "image/png": "[encoded data removed]",
      "text/plain": [
       "<Figure size 1080x432 with 6 Axes>"
      ]
     },
     "metadata": {
      "needs_background": "light"
     },
     "output_type": "display_data"
    }
   ],
   "source": [
    "fig, axes = plt.subplots(\n",
    "    2, 3, gridspec_kw={\"height_ratios\": (0.7, 0.3)}, figsize=(15, 6)\n",
    ")\n",
    "\n",
    "for (feat, plot_col) in zip(\n",
    "    [\"X0\", \"X4\", \"X5\"], [0, 1, 2]  # pairing feature with column in plot\n",
    "):\n",
    "    axes[0, plot_col].hist(df[feat], bins=50)\n",
    "    axes[0, plot_col].set_title(\"Histogram and boxplot for {}\".format(feat))\n",
    "    sns.despine(ax=axes[0, plot_col])\n",
    "    sns.boxplot(df[feat], ax=axes[1, plot_col], fliersize=2)\n",
    "    axes[1, plot_col].set(yticks=[])\n",
    "    sns.despine(ax=axes[1, plot_col], left=True)\n",
    "\n",
    "for ax in axes.flatten():\n",
    "    ax.set_xlabel(\"\")\n",
    "\n",
    "plt.show()"
   ]
  },
  {
   "cell_type": "markdown",
   "id": "eight-scout",
   "metadata": {},
   "source": [
    "#### Manual outlier removal"
   ]
  },
  {
   "cell_type": "markdown",
   "id": "cloudy-oliver",
   "metadata": {},
   "source": [
    "sns.distplot(df[\"X4\"], kde=False)\n",
    "plt.yscale(\"log\")\n",
    "plt.ylim(1, 100000)\n",
    "plt.show()"
   ]
  },
  {
   "cell_type": "markdown",
   "id": "english-poultry",
   "metadata": {},
   "source": [
    "As this group makes up only 0.1% we would likely consider them as outliers and set an upper bound at 200, say, to first identify and then remove these samples."
   ]
  },
  {
   "cell_type": "code",
   "execution_count": 62,
   "id": "informal-reducing",
   "metadata": {},
   "outputs": [
    {
     "data": {
      "text/plain": [
       "99900     999.019554\n",
       "99901    1000.315769\n",
       "99902    1000.443100\n",
       "99903    1001.435870\n",
       "99904    1000.534458\n",
       "Name: X4, dtype: float64"
      ]
     },
     "execution_count": 62,
     "metadata": {},
     "output_type": "execute_result"
    }
   ],
   "source": [
    "filter_200 = df[\"X4\"] > 200\n",
    "outliers_manual = df.loc[filter_200, \"X4\"]\n",
    "outliers_manual.head()"
   ]
  },
  {
   "cell_type": "code",
   "execution_count": 63,
   "id": "exotic-bosnia",
   "metadata": {},
   "outputs": [
    {
     "data": {
      "text/plain": [
       "(99900,)"
      ]
     },
     "execution_count": 63,
     "metadata": {},
     "output_type": "execute_result"
    }
   ],
   "source": [
    "df_keep = df.loc[~filter_200, \"X4\"]\n",
    "df_keep.shape"
   ]
  },
  {
   "cell_type": "markdown",
   "id": "coordinated-easter",
   "metadata": {},
   "source": [
    "#### Using Z-scores to identify outlier candidates\n",
    "\n",
    "A common method for deciding what constitutes an outlier for data that is approximately normally distributed is the \"3 times the standard deviation from the mean\" rule. Suppose we have a value \n",
    "x\n",
    ", and we want to decide if it is an outlier or not. Let \n",
    "μ\n",
    " be the mean value of our data set. We then look at \n",
    "|\n",
    "x\n",
    "−\n",
    "μ\n",
    "|\n",
    " (recall \n",
    "|\n",
    "|\n",
    " denotes the absolute value), which measures how far away \n",
    "x\n",
    " is from the mean. If this absolute value is more than 3 times the standard deviation \n",
    "σ\n",
    " of the data set, then \n",
    "x\n",
    " is considered an outlier.\n",
    "\n",
    "In order to apply this rule, we use boolean indexing again. We compute the mean and standard deviation with the mean() and std() functions. We then select the entries which are more than 3 times the standard deviation away from the mean."
   ]
  },
  {
   "cell_type": "code",
   "execution_count": 67,
   "id": "illegal-confidentiality",
   "metadata": {},
   "outputs": [
    {
     "data": {
      "text/plain": [
       "0    False\n",
       "1    False\n",
       "2    False\n",
       "3    False\n",
       "4    False\n",
       "Name: X0, dtype: bool"
      ]
     },
     "execution_count": 67,
     "metadata": {},
     "output_type": "execute_result"
    }
   ],
   "source": [
    "zfilterX0 = np.abs(df[\"X0\"] - df[\"X0\"].mean()) > (3 * df[\"X0\"].std())\n",
    "zfilterX0.head()"
   ]
  },
  {
   "cell_type": "code",
   "execution_count": 68,
   "id": "silent-sleep",
   "metadata": {},
   "outputs": [
    {
     "data": {
      "text/plain": [
       "1470    3.211847\n",
       "2763   -3.694285\n",
       "3178   -3.007413\n",
       "3809    3.301367\n",
       "3833   -3.432215\n",
       "Name: X0, dtype: float64"
      ]
     },
     "execution_count": 68,
     "metadata": {},
     "output_type": "execute_result"
    }
   ],
   "source": [
    "df.loc[zfilterX0, \"X0\"].head()"
   ]
  },
  {
   "cell_type": "code",
   "execution_count": 69,
   "id": "pleasant-traffic",
   "metadata": {},
   "outputs": [],
   "source": [
    "zfilter_df = np.abs(df - df.mean()) > (3 * df.std())"
   ]
  },
  {
   "cell_type": "code",
   "execution_count": 70,
   "id": "working-anxiety",
   "metadata": {},
   "outputs": [
    {
     "data": {
      "text/html": [
       "<div>\n",
       "<style scoped>\n",
       "    .dataframe tbody tr th:only-of-type {\n",
       "        vertical-align: middle;\n",
       "    }\n",
       "\n",
       "    .dataframe tbody tr th {\n",
       "        vertical-align: top;\n",
       "    }\n",
       "\n",
       "    .dataframe thead th {\n",
       "        text-align: right;\n",
       "    }\n",
       "</style>\n",
       "<table border=\"1\" class=\"dataframe\">\n",
       "  <thead>\n",
       "    <tr style=\"text-align: right;\">\n",
       "      <th></th>\n",
       "      <th>X0</th>\n",
       "      <th>X1</th>\n",
       "      <th>X2</th>\n",
       "      <th>X3</th>\n",
       "      <th>X4</th>\n",
       "      <th>X5</th>\n",
       "    </tr>\n",
       "  </thead>\n",
       "  <tbody>\n",
       "    <tr>\n",
       "      <th>0</th>\n",
       "      <td>False</td>\n",
       "      <td>False</td>\n",
       "      <td>False</td>\n",
       "      <td>False</td>\n",
       "      <td>False</td>\n",
       "      <td>False</td>\n",
       "    </tr>\n",
       "    <tr>\n",
       "      <th>1</th>\n",
       "      <td>False</td>\n",
       "      <td>False</td>\n",
       "      <td>False</td>\n",
       "      <td>False</td>\n",
       "      <td>False</td>\n",
       "      <td>False</td>\n",
       "    </tr>\n",
       "    <tr>\n",
       "      <th>2</th>\n",
       "      <td>False</td>\n",
       "      <td>False</td>\n",
       "      <td>False</td>\n",
       "      <td>False</td>\n",
       "      <td>False</td>\n",
       "      <td>False</td>\n",
       "    </tr>\n",
       "    <tr>\n",
       "      <th>3</th>\n",
       "      <td>False</td>\n",
       "      <td>False</td>\n",
       "      <td>False</td>\n",
       "      <td>False</td>\n",
       "      <td>False</td>\n",
       "      <td>False</td>\n",
       "    </tr>\n",
       "    <tr>\n",
       "      <th>4</th>\n",
       "      <td>False</td>\n",
       "      <td>False</td>\n",
       "      <td>False</td>\n",
       "      <td>False</td>\n",
       "      <td>False</td>\n",
       "      <td>False</td>\n",
       "    </tr>\n",
       "  </tbody>\n",
       "</table>\n",
       "</div>"
      ],
      "text/plain": [
       "      X0     X1     X2     X3     X4     X5\n",
       "0  False  False  False  False  False  False\n",
       "1  False  False  False  False  False  False\n",
       "2  False  False  False  False  False  False\n",
       "3  False  False  False  False  False  False\n",
       "4  False  False  False  False  False  False"
      ]
     },
     "execution_count": 70,
     "metadata": {},
     "output_type": "execute_result"
    }
   ],
   "source": [
    "zfilter_df.head(5)"
   ]
  },
  {
   "cell_type": "markdown",
   "id": "differential-client",
   "metadata": {},
   "source": [
    "z = (x −μ) / σ\n"
   ]
  },
  {
   "cell_type": "code",
   "execution_count": 71,
   "id": "focal-search",
   "metadata": {},
   "outputs": [
    {
     "name": "stdout",
     "output_type": "stream",
     "text": [
      "Both approaches are equivalent: True\n"
     ]
    }
   ],
   "source": [
    "zscores_df = (df - df.mean()) / (df.std())\n",
    "zfilter_df2 = np.abs(zscores_df) > 3\n",
    "# Check the two zfilters are identical\n",
    "print(\"Both approaches are equivalent:\", zfilter_df.equals(zfilter_df2))"
   ]
  },
  {
   "cell_type": "markdown",
   "id": "grave-jesus",
   "metadata": {},
   "source": [
    "#### Filter outliers of single features\n",
    "\n"
   ]
  },
  {
   "cell_type": "code",
   "execution_count": 72,
   "id": "respected-avatar",
   "metadata": {},
   "outputs": [
    {
     "name": "stdout",
     "output_type": "stream",
     "text": [
      "Number of outliers detected per feature using z-scores:\n",
      "X0     255\n",
      "X1     290\n",
      "X2     272\n",
      "X3     271\n",
      "X4     100\n",
      "X5    1858\n",
      "dtype: int64\n",
      "Total number of outliers detected: 3046\n"
     ]
    }
   ],
   "source": [
    "print(\"Number of outliers detected per feature using z-scores:\")\n",
    "print(zfilter_df.sum(axis=0))\n",
    "print(\"Total number of outliers detected:\", zfilter_df.sum(axis=0).sum())\n"
   ]
  },
  {
   "cell_type": "markdown",
   "id": "excellent-billion",
   "metadata": {},
   "source": [
    "You may remember that roughly 99.73% of the values of a normal distribution lie within the \n",
    "|\n",
    "x\n",
    "−\n",
    "3\n",
    "μ\n",
    "|\n",
    " interval, which means that roughly 0.27% lie outside of it. And indeed, for the features X0 to X3, we get around 270 outliers.\n",
    "\n",
    "**Outliers and skewness affect the mean and the standard deviation and in turn, they affect the z-scores calculated from them.**\n",
    "\n",
    "Indeed, for feature X4 we only get 100 outlier candidates. This is due to the standard deviation of X4 being significantly larger and as a result, the bounds are further apart (-93.8 and 95.8). So the final 100 values of X4, which we changed by hand, are the only values that fail the criteria of being within 3 standard deviations from the mean.\n",
    "\n",
    "The larger number of outliers candidates for feature X5 is due to the large right-hand tail (right-skewness) of the exponential distribution, which does not follow the behavior of a normal distribution. (In fact, to find an interval around the mean that contains around 99.75% of the exponential distribution we would need use 5 standard deviations, i.e. \n",
    "|\n",
    "x\n",
    "−\n",
    "5\n",
    "μ\n",
    "|\n",
    ")"
   ]
  },
  {
   "cell_type": "markdown",
   "id": "surprised-cuisine",
   "metadata": {},
   "source": [
    "#### Filtering outliers using all features"
   ]
  },
  {
   "cell_type": "markdown",
   "id": "grand-treatment",
   "metadata": {},
   "source": [
    "Now we would like to use our filter to select all rows which have a True value in any of the columns. We can do this using pandas' any() function, which returns a Series of booleans. We have two ways of applying it:\n",
    "\n",
    "- axis=0 gives a value to each column: True if there was a True entry anywhere in the column, and False otherwise\n",
    "- axis=1 gives a value to each row: True if there was a True entry anywhere in the row, and False otherwise.\n",
    "\n",
    "We are interested in the second option since we want to detect all rows that have an outlier value in any of the five columns. Let's give it a go:"
   ]
  },
  {
   "cell_type": "code",
   "execution_count": 73,
   "id": "comic-disclaimer",
   "metadata": {},
   "outputs": [
    {
     "data": {
      "text/plain": [
       "0    False\n",
       "1    False\n",
       "2    False\n",
       "3    False\n",
       "4    False\n",
       "dtype: bool"
      ]
     },
     "execution_count": 73,
     "metadata": {},
     "output_type": "execute_result"
    }
   ],
   "source": [
    "zfilter_any  = zfilter_df.any(axis=1)\n",
    "zfilter_any.head()"
   ]
  },
  {
   "cell_type": "code",
   "execution_count": 74,
   "id": "widespread-running",
   "metadata": {},
   "outputs": [
    {
     "data": {
      "text/plain": [
       "(3018, 6)"
      ]
     },
     "execution_count": 74,
     "metadata": {},
     "output_type": "execute_result"
    }
   ],
   "source": [
    "outliers = df.loc[zfilter_any, :]\n",
    "outliers.shape"
   ]
  },
  {
   "cell_type": "code",
   "execution_count": 75,
   "id": "amateur-reality",
   "metadata": {},
   "outputs": [],
   "source": [
    "df_wo = df.drop(outliers.index, axis=0)"
   ]
  },
  {
   "cell_type": "markdown",
   "id": "moving-scholarship",
   "metadata": {},
   "source": [
    "#### Using the interquartile range to identify outlier candidates\n",
    "Two advantages of boxplots are that they are based on robust statistics (quartiles and the IQR) and that they highlight outlier candidates in the plot. Let's take a look at the plots again."
   ]
  },
  {
   "cell_type": "code",
   "execution_count": 76,
   "id": "starting-strike",
   "metadata": {},
   "outputs": [
    {
     "data": {
      "image/png": "[encoded data removed]",
      "text/plain": [
       "<Figure size 1080x432 with 6 Axes>"
      ]
     },
     "metadata": {
      "needs_background": "light"
     },
     "output_type": "display_data"
    }
   ],
   "source": [
    "fig, axes = plt.subplots(\n",
    "    2, 3, gridspec_kw={\"height_ratios\": (0.7, 0.3)}, figsize=(15, 6)\n",
    ")\n",
    "\n",
    "for (feat, plot_col) in zip(\n",
    "    [\"X0\", \"X4\", \"X5\"], [0, 1, 2]  # pairing feature with column in plot\n",
    "):  \n",
    "    axes[0, plot_col].hist(df[feat], bins=50)\n",
    "    axes[0, plot_col].set_title(\"Histogram and boxplot for {}\".format(feat))\n",
    "    sns.despine(ax=axes[0, plot_col])\n",
    "    sns.boxplot(df[feat], ax=axes[1, plot_col], fliersize=2)\n",
    "    axes[1, plot_col].set(yticks=[])\n",
    "    sns.despine(ax=axes[1, plot_col], left=True)\n",
    "\n",
    "for ax in axes.flatten():\n",
    "    ax.set_xlabel(\"\")\n",
    "\n",
    "plt.show()"
   ]
  },
  {
   "cell_type": "code",
   "execution_count": 77,
   "id": "generous-chick",
   "metadata": {},
   "outputs": [
    {
     "name": "stdout",
     "output_type": "stream",
     "text": [
      "Lower bound: -2.7087, upper bound: 2.7040\n"
     ]
    }
   ],
   "source": [
    "Q1 = np.percentile(df, 25, axis=0)\n",
    "Q3 = np.percentile(df, 75, axis=0)\n",
    "IQR = Q3 - Q1\n",
    "lower_bound = Q1 - 1.5 * IQR\n",
    "upper_bound = Q3 + 1.5 * IQR\n",
    "# Print lower and upper bound for X0\n",
    "print(\"Lower bound: {:.4f}, upper bound: {:.4f}\".format(lower_bound[0], upper_bound[0]))"
   ]
  },
  {
   "cell_type": "code",
   "execution_count": 78,
   "id": "julian-drive",
   "metadata": {},
   "outputs": [
    {
     "name": "stdout",
     "output_type": "stream",
     "text": [
      "Number of outliers detected per feature using a boxplot:\n",
      "X0     648\n",
      "X1     757\n",
      "X2     679\n",
      "X3     687\n",
      "X4     818\n",
      "X5    4742\n",
      "dtype: int64\n",
      "Total number of outliers detected: 8331\n"
     ]
    }
   ],
   "source": [
    "boxplot_filter = (df < lower_bound) | (df > upper_bound)\n",
    "print(\"Number of outliers detected per feature using a boxplot:\")\n",
    "print(boxplot_filter.sum(axis=0))\n",
    "print(\"Total number of outliers detected:\", boxplot_filter.sum(axis=0).sum())"
   ]
  },
  {
   "cell_type": "markdown",
   "id": "precious-extraction",
   "metadata": {},
   "source": [
    "**Observe that for X4 the boxplot still flags 818 outliers for the data near 0, while the z-score only gave the 100 data values near 1000. This is because the quartiles and the interquartile range are robust statistics that are unaffected by this small set of data points near 1000.**"
   ]
  },
  {
   "cell_type": "markdown",
   "id": "allied-ambassador",
   "metadata": {},
   "source": [
    "#### Problems with outlier detection methods\n",
    "##### The data contains multiple sub-populations\n",
    "A key part of the application of z-scores, boxplots, and similar statistical methods is the assumption of dealing with a single population. Visualizations, especially histograms and distribution plots, are key tools for checking this assumption.\n",
    "Special care needs to be taken when the data contains different sub-populations so that feature values could be clustered into different groups. Suitable visualizations will be important for guidance here. The data of each of these groups might be generated by a different mechanism without being an outlier. Consider data about people's monthly spending. We might identify groups with different behavior, e.g people commuting to work by car, bike, or public transport. It would be unreasonable to consider any group as outliers or exclude them entirely from the analysis.\n",
    "When we have sub-populations we might wish to identify these individual groups and then analyze them for outliers in isolation, potentially using different techniques for different groups. For example, after some investigations, we might decide that the samples near 1000 in X4 are not outliers but that they form a (very) small subpopulation that should be treated separately.\n",
    "\n",
    "##### Outliers can affect statistics and thus outlier detection\n",
    "As we have seen for X4 statistics like the mean and the standard deviation are affected by the presence of a few outliers. As a result, so were the z-scores. This clearly affected the number of outlier candidates. One option is to work with robust statistics, like the median, that are less affected by outliers. For example, robust z-scores mimick the idea of z-scores but the mean is replaced by the median and the standard deviation by the median absolute deviation (MAD).\n",
    "\n",
    "z\n",
    "r\n",
    "o\n",
    "b\n",
    "u\n",
    "s\n",
    "t\n",
    "=\n",
    "x\n",
    "−\n",
    "median\n",
    " /MAD\n",
    "where\n",
    "MAD\n",
    "=\n",
    "C\n",
    "⋅\n",
    "median\n",
    "|\n",
    "(\n",
    "x\n",
    "−\n",
    "median\n",
    ")\n",
    "|\n",
    "For further details on the MAD, including values used for \n",
    "C\n",
    " see this link.\n",
    " \n",
    " \n",
    "##### The distribution of feature values is skewed\n",
    "Both z-scores and boxplots assume the data is roughly symmetrically distributed around the 'center' of the data and they measure a distance from this center to identify possible outliers in both directions. As the feature X5 shows, skewness affects the number of identified outliers by both methods.\n",
    "Unless the data distribution looks vaguely like a Gaussian distribution, i.e. the distribution is a single population that is approximately symmetric and bell-shaped, then z-scores are not suitable and you should consider other methods like visual inspection, other statistical tests, or even machine learning approaches for outlier detection.\n",
    "We can sometimes reduce skewness by applying different transformations to the data to make it approximately Gaussian and then apply z-scores or boxplots. We will see more about using transformations later in the program.\n",
    "Alternatively, one can choose a different multiplier in the definition of the fence and the whiskers of the boxplot; one can use adjusted boxplots, which are based on various measures of skewness to define individual lengths for the two whiskers.\n",
    "\n",
    "Note that despite some shortcomings, z-scores are commonly used in data science as they are fast and easy to implement on large data sets, for example, we don't need to sort the data first to identify the median or the quartiles. Thus in later units, we will apply z-scores, potentially having transformed the data first. However, you are welcome to explore alternatives like robust z-scores."
   ]
  },
  {
   "cell_type": "markdown",
   "id": "collective-breakfast",
   "metadata": {},
   "source": [
    "#### Outliers for combinations of features\n",
    "\n",
    "In this unit, we focused on some common techniques for outliers in individual features. As the example below shows, this approach might not always be suitable.\n",
    "In this scatterplot, we plot the z-scores of features X0 and X1. We have plotted in orange all points that were flagged as outliers in one of the two features. The light blue rectangular region is considered 'normal' by both features according to the z-score method. However, it appears that most of the points form a disc, i.e. the boundary of the 'normal' region appears to be circular. (The radius of the circle was simply chosen by inspection.) From this perspective, some points in the corners of the rectangle could be considered outliers now, while some of the outlier candidates now fall into the new 'normal' region. The choice of which points to consider outliers and how to handle them is ours to make and may depend on the context."
   ]
  },
  {
   "cell_type": "code",
   "execution_count": 87,
   "id": "specialized-power",
   "metadata": {},
   "outputs": [
    {
     "data": {
      "image/png": "[encoded data removed]",
      "text/plain": [
       "<Figure size 432x432 with 1 Axes>"
      ]
     },
     "metadata": {
      "needs_background": "light"
     },
     "output_type": "display_data"
    }
   ],
   "source": [
    "fig = plt.figure(figsize = (6,6))\n",
    "# Mark square corresponding to zone 3 std from the means of X0 and X1\n",
    "rectangle = plt.Rectangle((-3, -3), 6, 6, fc=\"lightblue\", ec=\"blue\", alpha=0.5)\n",
    "plt.gca().add_patch(rectangle)\n",
    "\n",
    "# Add circular outline\n",
    "circle = plt.Circle((0, 0), 3.3, ec=\"blue\", linestyle=\"--\", alpha=0.5, fill=False)\n",
    "plt.gca().add_patch(circle)\n",
    "\n",
    "# Plot z_scores of features X0 and X1\n",
    "plt.scatter(x=zscores_df[\"X0\"], y=zscores_df[\"X1\"], s=2)\n",
    "\n",
    "# Identify and plot z-score outliers in features X0 and X1\n",
    "df_out = zscores_df[(np.abs(zscores_df.loc[:, \"X0\":\"X1\"]) > 3).sum(axis=1) > 0].loc[\n",
    "    :, \"X0\":\"X1\"\n",
    "]\n",
    "\n",
    "plt.scatter(x=df_out[\"X0\"], y=df_out[\"X1\"], s=3, c=\"orange\")\n",
    "plt.xlabel(\"Feature X0\")\n",
    "plt.ylabel(\"Feature X1\")\n",
    "plt.show()"
   ]
  },
  {
   "cell_type": "markdown",
   "id": "starting-withdrawal",
   "metadata": {},
   "source": [
    "#### In summary\n",
    "**An important part of data science projects is to check for outliers as these samples can affect our analytical results and our machine learning models.** However, outlier detection methods only flag outlier candidates. It is our decision on how to handle these points based on further analysis.\n",
    "\n",
    "Some important first steps are visualizations and descriptive statistics. In this unit, we demonstrated how to identify and remove outlier candidates using visual inspection, z-scores, and boxplots. We also highlighted scenarios where these methods should be used with care or should be adjusted."
   ]
  },
  {
   "cell_type": "markdown",
   "id": "divine-criterion",
   "metadata": {},
   "source": [
    " #### Exercise: multiple filtering"
   ]
  },
  {
   "cell_type": "code",
   "execution_count": 90,
   "id": "historic-powell",
   "metadata": {},
   "outputs": [
    {
     "data": {
      "text/html": [
       "<div>\n",
       "<style scoped>\n",
       "    .dataframe tbody tr th:only-of-type {\n",
       "        vertical-align: middle;\n",
       "    }\n",
       "\n",
       "    .dataframe tbody tr th {\n",
       "        vertical-align: top;\n",
       "    }\n",
       "\n",
       "    .dataframe thead th {\n",
       "        text-align: right;\n",
       "    }\n",
       "</style>\n",
       "<table border=\"1\" class=\"dataframe\">\n",
       "  <thead>\n",
       "    <tr style=\"text-align: right;\">\n",
       "      <th></th>\n",
       "      <th>budget</th>\n",
       "      <th>genres</th>\n",
       "      <th>homepage</th>\n",
       "      <th>id</th>\n",
       "      <th>keywords</th>\n",
       "      <th>original_language</th>\n",
       "      <th>original_title</th>\n",
       "      <th>overview</th>\n",
       "      <th>popularity</th>\n",
       "      <th>production_companies</th>\n",
       "      <th>production_countries</th>\n",
       "      <th>release_date</th>\n",
       "      <th>revenue</th>\n",
       "      <th>runtime</th>\n",
       "      <th>spoken_languages</th>\n",
       "      <th>status</th>\n",
       "      <th>tagline</th>\n",
       "      <th>title</th>\n",
       "      <th>vote_average</th>\n",
       "      <th>vote_count</th>\n",
       "    </tr>\n",
       "  </thead>\n",
       "  <tbody>\n",
       "    <tr>\n",
       "      <th>0</th>\n",
       "      <td>237000000</td>\n",
       "      <td>[{\"id\": 28, \"name\": \"Action\"}, {\"id\": 12, \"nam...</td>\n",
       "      <td>http://www.avatarmovie.com/</td>\n",
       "      <td>19995</td>\n",
       "      <td>[{\"id\": 1463, \"name\": \"culture clash\"}, {\"id\":...</td>\n",
       "      <td>en</td>\n",
       "      <td>Avatar</td>\n",
       "      <td>In the 22nd century, a paraplegic Marine is di...</td>\n",
       "      <td>150.437577</td>\n",
       "      <td>[{\"name\": \"Ingenious Film Partners\", \"id\": 289...</td>\n",
       "      <td>[{\"iso_3166_1\": \"US\", \"name\": \"United States o...</td>\n",
       "      <td>2009-12-10</td>\n",
       "      <td>2787965087</td>\n",
       "      <td>162.0</td>\n",
       "      <td>[{\"iso_639_1\": \"en\", \"name\": \"English\"}, {\"iso...</td>\n",
       "      <td>Released</td>\n",
       "      <td>Enter the World of Pandora.</td>\n",
       "      <td>Avatar</td>\n",
       "      <td>7.2</td>\n",
       "      <td>11800</td>\n",
       "    </tr>\n",
       "    <tr>\n",
       "      <th>1</th>\n",
       "      <td>300000000</td>\n",
       "      <td>[{\"id\": 12, \"name\": \"Adventure\"}, {\"id\": 14, \"...</td>\n",
       "      <td>http://disney.go.com/disneypictures/pirates/</td>\n",
       "      <td>285</td>\n",
       "      <td>[{\"id\": 270, \"name\": \"ocean\"}, {\"id\": 726, \"na...</td>\n",
       "      <td>en</td>\n",
       "      <td>Pirates of the Caribbean: At World's End</td>\n",
       "      <td>Captain Barbossa, long believed to be dead, ha...</td>\n",
       "      <td>139.082615</td>\n",
       "      <td>[{\"name\": \"Walt Disney Pictures\", \"id\": 2}, {\"...</td>\n",
       "      <td>[{\"iso_3166_1\": \"US\", \"name\": \"United States o...</td>\n",
       "      <td>2007-05-19</td>\n",
       "      <td>961000000</td>\n",
       "      <td>169.0</td>\n",
       "      <td>[{\"iso_639_1\": \"en\", \"name\": \"English\"}]</td>\n",
       "      <td>Released</td>\n",
       "      <td>At the end of the world, the adventure begins.</td>\n",
       "      <td>Pirates of the Caribbean: At World's End</td>\n",
       "      <td>6.9</td>\n",
       "      <td>4500</td>\n",
       "    </tr>\n",
       "    <tr>\n",
       "      <th>2</th>\n",
       "      <td>245000000</td>\n",
       "      <td>[{\"id\": 28, \"name\": \"Action\"}, {\"id\": 12, \"nam...</td>\n",
       "      <td>http://www.sonypictures.com/movies/spectre/</td>\n",
       "      <td>206647</td>\n",
       "      <td>[{\"id\": 470, \"name\": \"spy\"}, {\"id\": 818, \"name...</td>\n",
       "      <td>en</td>\n",
       "      <td>Spectre</td>\n",
       "      <td>A cryptic message from Bond’s past sends him o...</td>\n",
       "      <td>107.376788</td>\n",
       "      <td>[{\"name\": \"Columbia Pictures\", \"id\": 5}, {\"nam...</td>\n",
       "      <td>[{\"iso_3166_1\": \"GB\", \"name\": \"United Kingdom\"...</td>\n",
       "      <td>2015-10-26</td>\n",
       "      <td>880674609</td>\n",
       "      <td>148.0</td>\n",
       "      <td>[{\"iso_639_1\": \"fr\", \"name\": \"Fran\\u00e7ais\"},...</td>\n",
       "      <td>Released</td>\n",
       "      <td>A Plan No One Escapes</td>\n",
       "      <td>Spectre</td>\n",
       "      <td>6.3</td>\n",
       "      <td>4466</td>\n",
       "    </tr>\n",
       "    <tr>\n",
       "      <th>3</th>\n",
       "      <td>250000000</td>\n",
       "      <td>[{\"id\": 28, \"name\": \"Action\"}, {\"id\": 80, \"nam...</td>\n",
       "      <td>http://www.thedarkknightrises.com/</td>\n",
       "      <td>49026</td>\n",
       "      <td>[{\"id\": 849, \"name\": \"dc comics\"}, {\"id\": 853,...</td>\n",
       "      <td>en</td>\n",
       "      <td>The Dark Knight Rises</td>\n",
       "      <td>Following the death of District Attorney Harve...</td>\n",
       "      <td>112.312950</td>\n",
       "      <td>[{\"name\": \"Legendary Pictures\", \"id\": 923}, {\"...</td>\n",
       "      <td>[{\"iso_3166_1\": \"US\", \"name\": \"United States o...</td>\n",
       "      <td>2012-07-16</td>\n",
       "      <td>1084939099</td>\n",
       "      <td>165.0</td>\n",
       "      <td>[{\"iso_639_1\": \"en\", \"name\": \"English\"}]</td>\n",
       "      <td>Released</td>\n",
       "      <td>The Legend Ends</td>\n",
       "      <td>The Dark Knight Rises</td>\n",
       "      <td>7.6</td>\n",
       "      <td>9106</td>\n",
       "    </tr>\n",
       "    <tr>\n",
       "      <th>4</th>\n",
       "      <td>260000000</td>\n",
       "      <td>[{\"id\": 28, \"name\": \"Action\"}, {\"id\": 12, \"nam...</td>\n",
       "      <td>http://movies.disney.com/john-carter</td>\n",
       "      <td>49529</td>\n",
       "      <td>[{\"id\": 818, \"name\": \"based on novel\"}, {\"id\":...</td>\n",
       "      <td>en</td>\n",
       "      <td>John Carter</td>\n",
       "      <td>John Carter is a war-weary, former military ca...</td>\n",
       "      <td>43.926995</td>\n",
       "      <td>[{\"name\": \"Walt Disney Pictures\", \"id\": 2}]</td>\n",
       "      <td>[{\"iso_3166_1\": \"US\", \"name\": \"United States o...</td>\n",
       "      <td>2012-03-07</td>\n",
       "      <td>284139100</td>\n",
       "      <td>132.0</td>\n",
       "      <td>[{\"iso_639_1\": \"en\", \"name\": \"English\"}]</td>\n",
       "      <td>Released</td>\n",
       "      <td>Lost in our world, found in another.</td>\n",
       "      <td>John Carter</td>\n",
       "      <td>6.1</td>\n",
       "      <td>2124</td>\n",
       "    </tr>\n",
       "  </tbody>\n",
       "</table>\n",
       "</div>"
      ],
      "text/plain": [
       "      budget                                             genres  \\\n",
       "0  237000000  [{\"id\": 28, \"name\": \"Action\"}, {\"id\": 12, \"nam...   \n",
       "1  300000000  [{\"id\": 12, \"name\": \"Adventure\"}, {\"id\": 14, \"...   \n",
       "2  245000000  [{\"id\": 28, \"name\": \"Action\"}, {\"id\": 12, \"nam...   \n",
       "3  250000000  [{\"id\": 28, \"name\": \"Action\"}, {\"id\": 80, \"nam...   \n",
       "4  260000000  [{\"id\": 28, \"name\": \"Action\"}, {\"id\": 12, \"nam...   \n",
       "\n",
       "                                       homepage      id  \\\n",
       "0                   http://www.avatarmovie.com/   19995   \n",
       "1  http://disney.go.com/disneypictures/pirates/     285   \n",
       "2   http://www.sonypictures.com/movies/spectre/  206647   \n",
       "3            http://www.thedarkknightrises.com/   49026   \n",
       "4          http://movies.disney.com/john-carter   49529   \n",
       "\n",
       "                                            keywords original_language  \\\n",
       "0  [{\"id\": 1463, \"name\": \"culture clash\"}, {\"id\":...                en   \n",
       "1  [{\"id\": 270, \"name\": \"ocean\"}, {\"id\": 726, \"na...                en   \n",
       "2  [{\"id\": 470, \"name\": \"spy\"}, {\"id\": 818, \"name...                en   \n",
       "3  [{\"id\": 849, \"name\": \"dc comics\"}, {\"id\": 853,...                en   \n",
       "4  [{\"id\": 818, \"name\": \"based on novel\"}, {\"id\":...                en   \n",
       "\n",
       "                             original_title  \\\n",
       "0                                    Avatar   \n",
       "1  Pirates of the Caribbean: At World's End   \n",
       "2                                   Spectre   \n",
       "3                     The Dark Knight Rises   \n",
       "4                               John Carter   \n",
       "\n",
       "                                            overview  popularity  \\\n",
       "0  In the 22nd century, a paraplegic Marine is di...  150.437577   \n",
       "1  Captain Barbossa, long believed to be dead, ha...  139.082615   \n",
       "2  A cryptic message from Bond’s past sends him o...  107.376788   \n",
       "3  Following the death of District Attorney Harve...  112.312950   \n",
       "4  John Carter is a war-weary, former military ca...   43.926995   \n",
       "\n",
       "                                production_companies  \\\n",
       "0  [{\"name\": \"Ingenious Film Partners\", \"id\": 289...   \n",
       "1  [{\"name\": \"Walt Disney Pictures\", \"id\": 2}, {\"...   \n",
       "2  [{\"name\": \"Columbia Pictures\", \"id\": 5}, {\"nam...   \n",
       "3  [{\"name\": \"Legendary Pictures\", \"id\": 923}, {\"...   \n",
       "4        [{\"name\": \"Walt Disney Pictures\", \"id\": 2}]   \n",
       "\n",
       "                                production_countries release_date     revenue  \\\n",
       "0  [{\"iso_3166_1\": \"US\", \"name\": \"United States o...   2009-12-10  2787965087   \n",
       "1  [{\"iso_3166_1\": \"US\", \"name\": \"United States o...   2007-05-19   961000000   \n",
       "2  [{\"iso_3166_1\": \"GB\", \"name\": \"United Kingdom\"...   2015-10-26   880674609   \n",
       "3  [{\"iso_3166_1\": \"US\", \"name\": \"United States o...   2012-07-16  1084939099   \n",
       "4  [{\"iso_3166_1\": \"US\", \"name\": \"United States o...   2012-03-07   284139100   \n",
       "\n",
       "   runtime                                   spoken_languages    status  \\\n",
       "0    162.0  [{\"iso_639_1\": \"en\", \"name\": \"English\"}, {\"iso...  Released   \n",
       "1    169.0           [{\"iso_639_1\": \"en\", \"name\": \"English\"}]  Released   \n",
       "2    148.0  [{\"iso_639_1\": \"fr\", \"name\": \"Fran\\u00e7ais\"},...  Released   \n",
       "3    165.0           [{\"iso_639_1\": \"en\", \"name\": \"English\"}]  Released   \n",
       "4    132.0           [{\"iso_639_1\": \"en\", \"name\": \"English\"}]  Released   \n",
       "\n",
       "                                          tagline  \\\n",
       "0                     Enter the World of Pandora.   \n",
       "1  At the end of the world, the adventure begins.   \n",
       "2                           A Plan No One Escapes   \n",
       "3                                 The Legend Ends   \n",
       "4            Lost in our world, found in another.   \n",
       "\n",
       "                                      title  vote_average  vote_count  \n",
       "0                                    Avatar           7.2       11800  \n",
       "1  Pirates of the Caribbean: At World's End           6.9        4500  \n",
       "2                                   Spectre           6.3        4466  \n",
       "3                     The Dark Knight Rises           7.6        9106  \n",
       "4                               John Carter           6.1        2124  "
      ]
     },
     "execution_count": 90,
     "metadata": {},
     "output_type": "execute_result"
    }
   ],
   "source": [
    "df_movies=pd.read_csv('tmdb_5000_movies.csv')\n",
    "df_movies.head()"
   ]
  },
  {
   "cell_type": "code",
   "execution_count": 107,
   "id": "enhanced-unemployment",
   "metadata": {},
   "outputs": [
    {
     "data": {
      "text/plain": [
       "24                                          King Kong\n",
       "25                                            Titanic\n",
       "110                                      Pearl Harbor\n",
       "329     The Lord of the Rings: The Return of the King\n",
       "676                                        Wyatt Earp\n",
       "690                                    The Green Mile\n",
       "855                                 Gods and Generals\n",
       "880                                        Grindhouse\n",
       "1091                                            Nixon\n",
       "1109                                    Heaven's Gate\n",
       "1125                                        Cleopatra\n",
       "1181                                              JFK\n",
       "1333                                         Magnolia\n",
       "1387                                        Malcolm X\n",
       "1477                                             Reds\n",
       "1663                      Once Upon a Time in America\n",
       "1759                                  The Right Stuff\n",
       "1818                                 Schindler's List\n",
       "1922                                       Gettysburg\n",
       "2024                                           Gandhi\n",
       "2192                     The Greatest Story Ever Told\n",
       "2278                               Dances with Wolves\n",
       "2300                     The Fall of the Roman Empire\n",
       "2373                                           Hamlet\n",
       "2384                                           Carlos\n",
       "2536                                  The Deer Hunter\n",
       "2550                               Lawrence of Arabia\n",
       "2631                                      The Company\n",
       "2731                           The Godfather: Part II\n",
       "2914                                   Doctor Zhivago\n",
       "2936                                     Barry Lyndon\n",
       "2962                               कभी अलविदा ना कहना\n",
       "3161                              Fiddler on the Roof\n",
       "3191                                         สุริโยไท\n",
       "3374                                       Veer-Zaara\n",
       "3510                                             Emma\n",
       "3723                             Anne of Green Gables\n",
       "3813                               Gone with the Wind\n",
       "3852                                       The Secret\n",
       "3914                            Judgment at Nuremberg\n",
       "4389                     Chocolate: Deep Dark Secrets\n",
       "4497                                        Woodstock\n",
       "4535                                             七人の侍\n",
       "4592                                      Intolerance\n",
       "Name: original_title, dtype: object"
      ]
     },
     "execution_count": 107,
     "metadata": {},
     "output_type": "execute_result"
    }
   ],
   "source": [
    "#Find the names of all the movies whose length is at least 180min\n",
    "df_long_movies = df_movies[df_movies['runtime']>180]['original_title']\n",
    "df_long_movies"
   ]
  },
  {
   "cell_type": "markdown",
   "id": "social-punishment",
   "metadata": {},
   "source": [
    "##### Using multiple filtering, find the names of all the movies whose length is at least 180min, or whose vote average is at least 8.0"
   ]
  },
  {
   "cell_type": "code",
   "execution_count": 108,
   "id": "expanded-withdrawal",
   "metadata": {},
   "outputs": [
    {
     "data": {
      "text/plain": [
       "24                                          King Kong\n",
       "25                                            Titanic\n",
       "65                                    The Dark Knight\n",
       "95                                       Interstellar\n",
       "96                                          Inception\n",
       "110                                      Pearl Harbor\n",
       "329     The Lord of the Rings: The Return of the King\n",
       "662                                        Fight Club\n",
       "676                                        Wyatt Earp\n",
       "690                                    The Green Mile\n",
       "809                                      Forrest Gump\n",
       "855                                 Gods and Generals\n",
       "880                                        Grindhouse\n",
       "1091                                            Nixon\n",
       "1109                                    Heaven's Gate\n",
       "1125                                        Cleopatra\n",
       "1181                                              JFK\n",
       "1333                                         Magnolia\n",
       "1387                                        Malcolm X\n",
       "1477                                             Reds\n",
       "1553                                            Se7en\n",
       "1663                      Once Upon a Time in America\n",
       "1759                                  The Right Stuff\n",
       "1818                                 Schindler's List\n",
       "1847                                       GoodFellas\n",
       "1881                         The Shawshank Redemption\n",
       "1922                                       Gettysburg\n",
       "1987                                          ハウルの動く城\n",
       "1990                          The Empire Strikes Back\n",
       "2024                                           Gandhi\n",
       "                            ...                      \n",
       "3191                                         สุริโยไท\n",
       "3232                                     Pulp Fiction\n",
       "3337                                    The Godfather\n",
       "3374                                       Veer-Zaara\n",
       "3454                               The Usual Suspects\n",
       "3510                                             Emma\n",
       "3519                                 Stiff Upper Lips\n",
       "3573                                          Memento\n",
       "3622                          C'era una volta il West\n",
       "3719                  One Flew Over the Cuckoo's Nest\n",
       "3723                             Anne of Green Gables\n",
       "3788                                 Guten Tag, Ramón\n",
       "3813                               Gone with the Wind\n",
       "3852                                       The Secret\n",
       "3865                                         Whiplash\n",
       "3866                                   Cidade de Deus\n",
       "3906                                    The Apartment\n",
       "3914                            Judgment at Nuremberg\n",
       "3992                                        Sardaarji\n",
       "4045                            Dancer, Texas Pop. 81\n",
       "4238                                     Modern Times\n",
       "4247                            Me You and Five Bucks\n",
       "4302                  Il buono, il brutto, il cattivo\n",
       "4389                     Chocolate: Deep Dark Secrets\n",
       "4497                                        Woodstock\n",
       "4535                                             七人の侍\n",
       "4592                                      Intolerance\n",
       "4602                                     12 Angry Men\n",
       "4662                                   Little Big Top\n",
       "4755                                         Counting\n",
       "Name: original_title, Length: 87, dtype: object"
      ]
     },
     "execution_count": 108,
     "metadata": {},
     "output_type": "execute_result"
    }
   ],
   "source": [
    "df_long_movies2 = df_movies[(df_movies['vote_average']> 8.0) | (df_movies['runtime']>180) ]['original_title']\n",
    "df_long_movies2"
   ]
  },
  {
   "cell_type": "markdown",
   "id": "casual-fraud",
   "metadata": {},
   "source": [
    "##### Using multiple filtering find the names of all the movies whose length is at least 180min, and whose vote average is at least 8.0"
   ]
  },
  {
   "cell_type": "code",
   "execution_count": 109,
   "id": "complicated-potential",
   "metadata": {},
   "outputs": [
    {
     "data": {
      "text/plain": [
       "329     The Lord of the Rings: The Return of the King\n",
       "690                                    The Green Mile\n",
       "1663                      Once Upon a Time in America\n",
       "1818                                 Schindler's List\n",
       "2731                           The Godfather: Part II\n",
       "3723                             Anne of Green Gables\n",
       "4535                                             七人の侍\n",
       "Name: original_title, dtype: object"
      ]
     },
     "execution_count": 109,
     "metadata": {},
     "output_type": "execute_result"
    }
   ],
   "source": [
    "df_long_movies3 = df_movies[(df_movies['vote_average']> 8.0) & (df_movies['runtime']>180) ]['original_title']\n",
    "df_long_movies3"
   ]
  },
  {
   "cell_type": "markdown",
   "id": "biological-meaning",
   "metadata": {},
   "source": [
    "##### Using multiple filtering, find the names of all the movies whose length is at least 180min, and whose vote average is at least 8.0 and whose original language is not English"
   ]
  },
  {
   "cell_type": "code",
   "execution_count": 114,
   "id": "discrete-sudan",
   "metadata": {},
   "outputs": [
    {
     "data": {
      "text/plain": [
       "4535    Seven Samurai\n",
       "Name: title, dtype: object"
      ]
     },
     "execution_count": 114,
     "metadata": {},
     "output_type": "execute_result"
    }
   ],
   "source": [
    "df_long_movies4 = df_movies[(df_movies['vote_average']> 8.0) & (df_movies['runtime']>180) & (df_movies['original_language']!='en')]['title']\n",
    "df_long_movies4"
   ]
  },
  {
   "cell_type": "markdown",
   "id": "ranking-vacation",
   "metadata": {},
   "source": [
    "This exception is thrown whenever we try to get the boolean of a pandas Series. When we use the statement or Python implicitly converts the two operands to booleans. Since the operands, in this case, are pandas Series the exception is thrown. To avoid this exception, and to do element-wise comparison, you can use the (bitwise) logical operators | and & or the numpy functions np.logical_or(x,y) and np.logical_and(x,y). For more details on this, you can consult the following StackOverflow post Truth value of a Series is ambiguous."
   ]
  },
  {
   "cell_type": "code",
   "execution_count": null,
   "id": "composed-seventh",
   "metadata": {},
   "outputs": [],
   "source": []
  }
 ],
 "metadata": {
  "kernelspec": {
   "display_name": "Python 3",
   "language": "python",
   "name": "python3"
  },
  "language_info": {
   "codemirror_mode": {
    "name": "ipython",
    "version": 3
   },
   "file_extension": ".py",
   "mimetype": "text/x-python",
   "name": "python",
   "nbconvert_exporter": "python",
   "pygments_lexer": "ipython3",
   "version": "3.6.12"
  }
 },
 "nbformat": 4,
 "nbformat_minor": 5
}
