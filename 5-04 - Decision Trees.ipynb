{
 "cells": [
  {
   "cell_type": "code",
   "execution_count": 1,
   "id": "33121a9b",
   "metadata": {},
   "outputs": [
    {
     "name": "stderr",
     "output_type": "stream",
     "text": [
      "C:\\Users\\lyeso\\anaconda3\\envs\\exts-ml\\lib\\site-packages\\h5py\\__init__.py:36: FutureWarning: Conversion of the second argument of issubdtype from `float` to `np.floating` is deprecated. In future, it will be treated as `np.float64 == np.dtype(float).type`.\n",
      "  from ._conv import register_converters as _register_converters\n",
      "WARNING:absl:Some hub symbols are not available because TensorFlow version is less than 1.14\n"
     ]
    }
   ],
   "source": [
    "import tensorflow as tf\n",
    "import tensorflow.keras as keras\n",
    "from tensorflow.keras import backend as K\n",
    "from tensorflow.keras.preprocessing.image import ImageDataGenerator\n",
    "import tensorflow_hub as hub\n",
    "import os\n",
    "import PIL.Image as Image\n",
    "import numpy as np\n",
    "import matplotlib.pyplot as plt\n",
    "import numpy as np\n",
    "import pandas as pd\n",
    "\n",
    "os.environ[\"CUDA_VISIBLE_DEVICES\"]= \"-1\" # Force Tensorflow on CPU instead of GPU (seems to avoid an error with my CUDA compatible GPU)"
   ]
  },
  {
   "cell_type": "code",
   "execution_count": 2,
   "id": "8bd257b2",
   "metadata": {},
   "outputs": [],
   "source": [
    "# Load training data form NPZ file\n",
    "\n",
    "train_data = \"train.npz\"\n",
    "X_tr = np.load(train_data)[\"features\"]\n",
    "y_tr = np.load(train_data)[\"labels\"]\n",
    "images_tr = np.load(train_data)[\"pixels\"]\n",
    "\n",
    "valid_data = \"valid.npz\"\n",
    "X_val= np.load(valid_data)[\"features\"]\n",
    "y_val = np.load(valid_data)[\"labels\"]\n",
    "images_val = np.load(valid_data)[\"pixels\"]\n",
    "\n",
    "test_data = \"test.npz\"\n",
    "X_te= np.load(test_data)[\"features\"]\n",
    "y_te = np.load(test_data)[\"labels\"]\n",
    "images_te = np.load(test_data)[\"pixels\"]\n",
    "\n",
    "# Create a dictionnary for labels\n",
    "labels_dict = {0: 'bike', 1 : 'car', 2: 'motorcycle', 3: 'other', 4:'truck', 5: 'van'}"
   ]
  },
  {
   "cell_type": "code",
   "execution_count": null,
   "id": "e9a210b0",
   "metadata": {},
   "outputs": [],
   "source": []
  },
  {
   "cell_type": "code",
   "execution_count": 3,
   "id": "d29698fc",
   "metadata": {},
   "outputs": [],
   "source": [
    "from sklearn.preprocessing import StandardScaler\n",
    "scaler = StandardScaler()\n",
    "X_tr_scaled = scaler.fit_transform(X_tr)\n",
    "X_val_scaled = scaler.fit_transform(X_val)\n",
    "X_te_scaled = scaler.transform(X_te)"
   ]
  },
  {
   "cell_type": "markdown",
   "id": "7f4318aa",
   "metadata": {},
   "source": [
    "# Create the Decision Tree"
   ]
  },
  {
   "cell_type": "code",
   "execution_count": 4,
   "id": "5f7438ff",
   "metadata": {},
   "outputs": [],
   "source": [
    "from sklearn.tree import DecisionTreeClassifier\n",
    "\n",
    "# Create decision tree\n",
    "dt = DecisionTreeClassifier(\n",
    "    criterion='gini', max_depth=3, random_state=0)"
   ]
  },
  {
   "cell_type": "code",
   "execution_count": 5,
   "id": "e952b250",
   "metadata": {},
   "outputs": [
    {
     "data": {
      "text/plain": [
       "0.7"
      ]
     },
     "execution_count": 5,
     "metadata": {},
     "output_type": "execute_result"
    }
   ],
   "source": [
    "# Fit decision tree\n",
    "dt.fit(X_tr_scaled, y_tr)\n",
    "\n",
    "# Get score\n",
    "dt.score(X_te_scaled, y_te)"
   ]
  },
  {
   "cell_type": "code",
   "execution_count": 6,
   "id": "066c899c",
   "metadata": {},
   "outputs": [
    {
     "data": {
      "text/plain": [
       "array([0., 0., 1., 0., 0., 0.])"
      ]
     },
     "execution_count": 6,
     "metadata": {},
     "output_type": "execute_result"
    }
   ],
   "source": [
    "dt.predict_proba(X_te_scaled)[30]"
   ]
  },
  {
   "cell_type": "code",
   "execution_count": 7,
   "id": "711e957c",
   "metadata": {},
   "outputs": [
    {
     "data": {
      "text/plain": [
       "array([0., 0., 0., 0., 0., 4., 0., 0., 0., 0., 0., 0., 1., 1., 4., 1., 1.,\n",
       "       1., 4., 1., 1., 1., 1., 2., 2., 2., 2., 2., 2., 2., 2., 2., 4., 4.,\n",
       "       4., 4., 4., 4., 4., 0., 4., 4., 4., 4., 4., 4., 4., 4., 4., 4.],\n",
       "      dtype=float32)"
      ]
     },
     "execution_count": 7,
     "metadata": {},
     "output_type": "execute_result"
    }
   ],
   "source": [
    "dt.predict(X_te_scaled)"
   ]
  },
  {
   "cell_type": "code",
   "execution_count": 8,
   "id": "644f8476",
   "metadata": {},
   "outputs": [
    {
     "data": {
      "text/plain": [
       "0.0    0.24\n",
       "1.0    0.22\n",
       "2.0    0.18\n",
       "4.0    0.14\n",
       "3.0    0.12\n",
       "5.0    0.10\n",
       "dtype: float64"
      ]
     },
     "execution_count": 8,
     "metadata": {},
     "output_type": "execute_result"
    }
   ],
   "source": [
    "pd.value_counts(y_te, normalize=True)"
   ]
  },
  {
   "cell_type": "code",
   "execution_count": 9,
   "id": "6ddbd793",
   "metadata": {},
   "outputs": [],
   "source": [
    "from sklearn.tree import export_graphviz\n",
    "\n",
    "# Export decision tree\n",
    "dot_data = export_graphviz(\n",
    "    dt, out_file=None,\n",
    "    class_names=list(labels_dict.values()),\n",
    "    filled=True, rounded=True, proportion=True   \n",
    ")"
   ]
  },
  {
   "cell_type": "markdown",
   "id": "e59a6234",
   "metadata": {},
   "source": [
    "# Show Graphviz"
   ]
  },
  {
   "cell_type": "code",
   "execution_count": 10,
   "id": "8748c2ef",
   "metadata": {},
   "outputs": [
    {
     "data": {
      "image/svg+xml": [
       "<?xml version=\"1.0\" encoding=\"UTF-8\" standalone=\"no\"?>\r\n",
       "<!DOCTYPE svg PUBLIC \"-//W3C//DTD SVG 1.1//EN\"\r\n",
       " \"http://www.w3.org/Graphics/SVG/1.1/DTD/svg11.dtd\">\r\n",
       "<!-- Generated by graphviz version 2.38.0 (20140413.2041)\r\n",
       " -->\r\n",
       "<!-- Title: Tree Pages: 1 -->\r\n",
       "<svg width=\"1622pt\" height=\"433pt\"\r\n",
       " viewBox=\"0.00 0.00 1622.00 433.00\" xmlns=\"http://www.w3.org/2000/svg\" xmlns:xlink=\"http://www.w3.org/1999/xlink\">\r\n",
       "<g id=\"graph0\" class=\"graph\" transform=\"scale(1 1) rotate(0) translate(4 429)\">\r\n",
       "<title>Tree</title>\r\n",
       "<polygon fill=\"white\" stroke=\"none\" points=\"-4,4 -4,-429 1618,-429 1618,4 -4,4\"/>\r\n",
       "<!-- 0 -->\r\n",
       "<g id=\"node1\" class=\"node\"><title>0</title>\r\n",
       "<path fill=\"#e58139\" fill-opacity=\"0.007843\" stroke=\"black\" d=\"M1192.5,-425C1192.5,-425 893.5,-425 893.5,-425 887.5,-425 881.5,-419 881.5,-413 881.5,-413 881.5,-354 881.5,-354 881.5,-348 887.5,-342 893.5,-342 893.5,-342 1192.5,-342 1192.5,-342 1198.5,-342 1204.5,-348 1204.5,-354 1204.5,-354 1204.5,-413 1204.5,-413 1204.5,-419 1198.5,-425 1192.5,-425\"/>\r\n",
       "<text text-anchor=\"middle\" x=\"1043\" y=\"-409.8\" font-family=\"Helvetica,sans-Serif\" font-size=\"14.00\">X[1515] &lt;= 0.594</text>\r\n",
       "<text text-anchor=\"middle\" x=\"1043\" y=\"-394.8\" font-family=\"Helvetica,sans-Serif\" font-size=\"14.00\">gini = 0.815</text>\r\n",
       "<text text-anchor=\"middle\" x=\"1043\" y=\"-379.8\" font-family=\"Helvetica,sans-Serif\" font-size=\"14.00\">samples = 100.0%</text>\r\n",
       "<text text-anchor=\"middle\" x=\"1043\" y=\"-364.8\" font-family=\"Helvetica,sans-Serif\" font-size=\"14.00\">value = [0.236, 0.229, 0.182, 0.114, 0.15, 0.089]</text>\r\n",
       "<text text-anchor=\"middle\" x=\"1043\" y=\"-349.8\" font-family=\"Helvetica,sans-Serif\" font-size=\"14.00\">class = bike</text>\r\n",
       "</g>\r\n",
       "<!-- 1 -->\r\n",
       "<g id=\"node2\" class=\"node\"><title>1</title>\r\n",
       "<path fill=\"#9de539\" fill-opacity=\"0.078431\" stroke=\"black\" d=\"M995.5,-306C995.5,-306 696.5,-306 696.5,-306 690.5,-306 684.5,-300 684.5,-294 684.5,-294 684.5,-235 684.5,-235 684.5,-229 690.5,-223 696.5,-223 696.5,-223 995.5,-223 995.5,-223 1001.5,-223 1007.5,-229 1007.5,-235 1007.5,-235 1007.5,-294 1007.5,-294 1007.5,-300 1001.5,-306 995.5,-306\"/>\r\n",
       "<text text-anchor=\"middle\" x=\"846\" y=\"-290.8\" font-family=\"Helvetica,sans-Serif\" font-size=\"14.00\">X[1189] &lt;= 0.442</text>\r\n",
       "<text text-anchor=\"middle\" x=\"846\" y=\"-275.8\" font-family=\"Helvetica,sans-Serif\" font-size=\"14.00\">gini = 0.787</text>\r\n",
       "<text text-anchor=\"middle\" x=\"846\" y=\"-260.8\" font-family=\"Helvetica,sans-Serif\" font-size=\"14.00\">samples = 76.4%</text>\r\n",
       "<text text-anchor=\"middle\" x=\"846\" y=\"-245.8\" font-family=\"Helvetica,sans-Serif\" font-size=\"14.00\">value = [0.019, 0.294, 0.234, 0.14, 0.196, 0.117]</text>\r\n",
       "<text text-anchor=\"middle\" x=\"846\" y=\"-230.8\" font-family=\"Helvetica,sans-Serif\" font-size=\"14.00\">class = car</text>\r\n",
       "</g>\r\n",
       "<!-- 0&#45;&gt;1 -->\r\n",
       "<g id=\"edge1\" class=\"edge\"><title>0&#45;&gt;1</title>\r\n",
       "<path fill=\"none\" stroke=\"black\" d=\"M974.652,-341.907C957.996,-332.016 940.068,-321.368 923.039,-311.254\"/>\r\n",
       "<polygon fill=\"black\" stroke=\"black\" points=\"924.613,-308.118 914.227,-306.021 921.038,-314.137 924.613,-308.118\"/>\r\n",
       "<text text-anchor=\"middle\" x=\"920.4\" y=\"-326.547\" font-family=\"Helvetica,sans-Serif\" font-size=\"14.00\">True</text>\r\n",
       "</g>\r\n",
       "<!-- 8 -->\r\n",
       "<g id=\"node9\" class=\"node\"><title>8</title>\r\n",
       "<path fill=\"#e58139\" fill-opacity=\"0.937255\" stroke=\"black\" d=\"M1373,-306C1373,-306 1107,-306 1107,-306 1101,-306 1095,-300 1095,-294 1095,-294 1095,-235 1095,-235 1095,-229 1101,-223 1107,-223 1107,-223 1373,-223 1373,-223 1379,-223 1385,-229 1385,-235 1385,-235 1385,-294 1385,-294 1385,-300 1379,-306 1373,-306\"/>\r\n",
       "<text text-anchor=\"middle\" x=\"1240\" y=\"-290.8\" font-family=\"Helvetica,sans-Serif\" font-size=\"14.00\">X[1405] &lt;= 0.221</text>\r\n",
       "<text text-anchor=\"middle\" x=\"1240\" y=\"-275.8\" font-family=\"Helvetica,sans-Serif\" font-size=\"14.00\">gini = 0.116</text>\r\n",
       "<text text-anchor=\"middle\" x=\"1240\" y=\"-260.8\" font-family=\"Helvetica,sans-Serif\" font-size=\"14.00\">samples = 23.6%</text>\r\n",
       "<text text-anchor=\"middle\" x=\"1240\" y=\"-245.8\" font-family=\"Helvetica,sans-Serif\" font-size=\"14.00\">value = [0.939, 0.015, 0.015, 0.03, 0.0, 0.0]</text>\r\n",
       "<text text-anchor=\"middle\" x=\"1240\" y=\"-230.8\" font-family=\"Helvetica,sans-Serif\" font-size=\"14.00\">class = bike</text>\r\n",
       "</g>\r\n",
       "<!-- 0&#45;&gt;8 -->\r\n",
       "<g id=\"edge8\" class=\"edge\"><title>0&#45;&gt;8</title>\r\n",
       "<path fill=\"none\" stroke=\"black\" d=\"M1111.35,-341.907C1128,-332.016 1145.93,-321.368 1162.96,-311.254\"/>\r\n",
       "<polygon fill=\"black\" stroke=\"black\" points=\"1164.96,-314.137 1171.77,-306.021 1161.39,-308.118 1164.96,-314.137\"/>\r\n",
       "<text text-anchor=\"middle\" x=\"1165.6\" y=\"-326.547\" font-family=\"Helvetica,sans-Serif\" font-size=\"14.00\">False</text>\r\n",
       "</g>\r\n",
       "<!-- 2 -->\r\n",
       "<g id=\"node3\" class=\"node\"><title>2</title>\r\n",
       "<path fill=\"#9de539\" fill-opacity=\"0.172549\" stroke=\"black\" d=\"M622.5,-187C622.5,-187 315.5,-187 315.5,-187 309.5,-187 303.5,-181 303.5,-175 303.5,-175 303.5,-116 303.5,-116 303.5,-110 309.5,-104 315.5,-104 315.5,-104 622.5,-104 622.5,-104 628.5,-104 634.5,-110 634.5,-116 634.5,-116 634.5,-175 634.5,-175 634.5,-181 628.5,-187 622.5,-187\"/>\r\n",
       "<text text-anchor=\"middle\" x=\"469\" y=\"-171.8\" font-family=\"Helvetica,sans-Serif\" font-size=\"14.00\">X[1132] &lt;= 0.636</text>\r\n",
       "<text text-anchor=\"middle\" x=\"469\" y=\"-156.8\" font-family=\"Helvetica,sans-Serif\" font-size=\"14.00\">gini = 0.732</text>\r\n",
       "<text text-anchor=\"middle\" x=\"469\" y=\"-141.8\" font-family=\"Helvetica,sans-Serif\" font-size=\"14.00\">samples = 58.6%</text>\r\n",
       "<text text-anchor=\"middle\" x=\"469\" y=\"-126.8\" font-family=\"Helvetica,sans-Serif\" font-size=\"14.00\">value = [0.024, 0.384, 0.006, 0.177, 0.256, 0.152]</text>\r\n",
       "<text text-anchor=\"middle\" x=\"469\" y=\"-111.8\" font-family=\"Helvetica,sans-Serif\" font-size=\"14.00\">class = car</text>\r\n",
       "</g>\r\n",
       "<!-- 1&#45;&gt;2 -->\r\n",
       "<g id=\"edge2\" class=\"edge\"><title>1&#45;&gt;2</title>\r\n",
       "<path fill=\"none\" stroke=\"black\" d=\"M715.466,-222.989C681.24,-212.367 644.189,-200.869 609.468,-190.093\"/>\r\n",
       "<polygon fill=\"black\" stroke=\"black\" points=\"610.329,-186.696 599.74,-187.075 608.254,-193.381 610.329,-186.696\"/>\r\n",
       "</g>\r\n",
       "<!-- 5 -->\r\n",
       "<g id=\"node6\" class=\"node\"><title>5</title>\r\n",
       "<path fill=\"#39e581\" fill-opacity=\"0.980392\" stroke=\"black\" d=\"M958,-187C958,-187 734,-187 734,-187 728,-187 722,-181 722,-175 722,-175 722,-116 722,-116 722,-110 728,-104 734,-104 734,-104 958,-104 958,-104 964,-104 970,-110 970,-116 970,-116 970,-175 970,-175 970,-181 964,-187 958,-187\"/>\r\n",
       "<text text-anchor=\"middle\" x=\"846\" y=\"-171.8\" font-family=\"Helvetica,sans-Serif\" font-size=\"14.00\">X[1509] &lt;= 1.196</text>\r\n",
       "<text text-anchor=\"middle\" x=\"846\" y=\"-156.8\" font-family=\"Helvetica,sans-Serif\" font-size=\"14.00\">gini = 0.039</text>\r\n",
       "<text text-anchor=\"middle\" x=\"846\" y=\"-141.8\" font-family=\"Helvetica,sans-Serif\" font-size=\"14.00\">samples = 17.9%</text>\r\n",
       "<text text-anchor=\"middle\" x=\"846\" y=\"-126.8\" font-family=\"Helvetica,sans-Serif\" font-size=\"14.00\">value = [0.0, 0.0, 0.98, 0.02, 0.0, 0.0]</text>\r\n",
       "<text text-anchor=\"middle\" x=\"846\" y=\"-111.8\" font-family=\"Helvetica,sans-Serif\" font-size=\"14.00\">class = motorcycle</text>\r\n",
       "</g>\r\n",
       "<!-- 1&#45;&gt;5 -->\r\n",
       "<g id=\"edge5\" class=\"edge\"><title>1&#45;&gt;5</title>\r\n",
       "<path fill=\"none\" stroke=\"black\" d=\"M846,-222.907C846,-214.649 846,-205.864 846,-197.302\"/>\r\n",
       "<polygon fill=\"black\" stroke=\"black\" points=\"849.5,-197.021 846,-187.021 842.5,-197.021 849.5,-197.021\"/>\r\n",
       "</g>\r\n",
       "<!-- 3 -->\r\n",
       "<g id=\"node4\" class=\"node\"><title>3</title>\r\n",
       "<path fill=\"#8139e5\" fill-opacity=\"0.196078\" stroke=\"black\" d=\"M302,-68C302,-68 12,-68 12,-68 6,-68 0,-62 0,-56 0,-56 0,-12 0,-12 0,-6 6,-0 12,-0 12,-0 302,-0 302,-0 308,-0 314,-6 314,-12 314,-12 314,-56 314,-56 314,-62 308,-68 302,-68\"/>\r\n",
       "<text text-anchor=\"middle\" x=\"157\" y=\"-52.8\" font-family=\"Helvetica,sans-Serif\" font-size=\"14.00\">gini = 0.711</text>\r\n",
       "<text text-anchor=\"middle\" x=\"157\" y=\"-37.8\" font-family=\"Helvetica,sans-Serif\" font-size=\"14.00\">samples = 37.1%</text>\r\n",
       "<text text-anchor=\"middle\" x=\"157\" y=\"-22.8\" font-family=\"Helvetica,sans-Serif\" font-size=\"14.00\">value = [0.038, 0.058, 0.01, 0.26, 0.404, 0.231]</text>\r\n",
       "<text text-anchor=\"middle\" x=\"157\" y=\"-7.8\" font-family=\"Helvetica,sans-Serif\" font-size=\"14.00\">class = truck</text>\r\n",
       "</g>\r\n",
       "<!-- 2&#45;&gt;3 -->\r\n",
       "<g id=\"edge3\" class=\"edge\"><title>2&#45;&gt;3</title>\r\n",
       "<path fill=\"none\" stroke=\"black\" d=\"M353.266,-103.882C322.908,-93.2272 290.366,-81.8062 260.682,-71.3883\"/>\r\n",
       "<polygon fill=\"black\" stroke=\"black\" points=\"261.746,-68.0525 251.151,-68.0433 259.428,-74.6575 261.746,-68.0525\"/>\r\n",
       "</g>\r\n",
       "<!-- 4 -->\r\n",
       "<g id=\"node5\" class=\"node\"><title>4</title>\r\n",
       "<path fill=\"#9de539\" fill-opacity=\"0.949020\" stroke=\"black\" d=\"M593.5,-68C593.5,-68 344.5,-68 344.5,-68 338.5,-68 332.5,-62 332.5,-56 332.5,-56 332.5,-12 332.5,-12 332.5,-6 338.5,-0 344.5,-0 344.5,-0 593.5,-0 593.5,-0 599.5,-0 605.5,-6 605.5,-12 605.5,-12 605.5,-56 605.5,-56 605.5,-62 599.5,-68 593.5,-68\"/>\r\n",
       "<text text-anchor=\"middle\" x=\"469\" y=\"-52.8\" font-family=\"Helvetica,sans-Serif\" font-size=\"14.00\">gini = 0.096</text>\r\n",
       "<text text-anchor=\"middle\" x=\"469\" y=\"-37.8\" font-family=\"Helvetica,sans-Serif\" font-size=\"14.00\">samples = 21.4%</text>\r\n",
       "<text text-anchor=\"middle\" x=\"469\" y=\"-22.8\" font-family=\"Helvetica,sans-Serif\" font-size=\"14.00\">value = [0.0, 0.95, 0.0, 0.033, 0.0, 0.017]</text>\r\n",
       "<text text-anchor=\"middle\" x=\"469\" y=\"-7.8\" font-family=\"Helvetica,sans-Serif\" font-size=\"14.00\">class = car</text>\r\n",
       "</g>\r\n",
       "<!-- 2&#45;&gt;4 -->\r\n",
       "<g id=\"edge4\" class=\"edge\"><title>2&#45;&gt;4</title>\r\n",
       "<path fill=\"none\" stroke=\"black\" d=\"M469,-103.726C469,-95.5175 469,-86.8595 469,-78.56\"/>\r\n",
       "<polygon fill=\"black\" stroke=\"black\" points=\"472.5,-78.2996 469,-68.2996 465.5,-78.2996 472.5,-78.2996\"/>\r\n",
       "</g>\r\n",
       "<!-- 6 -->\r\n",
       "<g id=\"node7\" class=\"node\"><title>6</title>\r\n",
       "<path fill=\"#39e581\" stroke=\"black\" d=\"M844,-68C844,-68 636,-68 636,-68 630,-68 624,-62 624,-56 624,-56 624,-12 624,-12 624,-6 630,-0 636,-0 636,-0 844,-0 844,-0 850,-0 856,-6 856,-12 856,-12 856,-56 856,-56 856,-62 850,-68 844,-68\"/>\r\n",
       "<text text-anchor=\"middle\" x=\"740\" y=\"-52.8\" font-family=\"Helvetica,sans-Serif\" font-size=\"14.00\">gini = 0.0</text>\r\n",
       "<text text-anchor=\"middle\" x=\"740\" y=\"-37.8\" font-family=\"Helvetica,sans-Serif\" font-size=\"14.00\">samples = 17.5%</text>\r\n",
       "<text text-anchor=\"middle\" x=\"740\" y=\"-22.8\" font-family=\"Helvetica,sans-Serif\" font-size=\"14.00\">value = [0.0, 0.0, 1.0, 0.0, 0.0, 0.0]</text>\r\n",
       "<text text-anchor=\"middle\" x=\"740\" y=\"-7.8\" font-family=\"Helvetica,sans-Serif\" font-size=\"14.00\">class = motorcycle</text>\r\n",
       "</g>\r\n",
       "<!-- 5&#45;&gt;6 -->\r\n",
       "<g id=\"edge6\" class=\"edge\"><title>5&#45;&gt;6</title>\r\n",
       "<path fill=\"none\" stroke=\"black\" d=\"M806.53,-103.726C797.612,-94.5142 788.147,-84.7364 779.239,-75.5343\"/>\r\n",
       "<polygon fill=\"black\" stroke=\"black\" points=\"781.705,-73.0502 772.235,-68.2996 776.676,-77.919 781.705,-73.0502\"/>\r\n",
       "</g>\r\n",
       "<!-- 7 -->\r\n",
       "<g id=\"node8\" class=\"node\"><title>7</title>\r\n",
       "<path fill=\"#399de5\" stroke=\"black\" d=\"M1094,-68C1094,-68 886,-68 886,-68 880,-68 874,-62 874,-56 874,-56 874,-12 874,-12 874,-6 880,-0 886,-0 886,-0 1094,-0 1094,-0 1100,-0 1106,-6 1106,-12 1106,-12 1106,-56 1106,-56 1106,-62 1100,-68 1094,-68\"/>\r\n",
       "<text text-anchor=\"middle\" x=\"990\" y=\"-52.8\" font-family=\"Helvetica,sans-Serif\" font-size=\"14.00\">gini = 0.0</text>\r\n",
       "<text text-anchor=\"middle\" x=\"990\" y=\"-37.8\" font-family=\"Helvetica,sans-Serif\" font-size=\"14.00\">samples = 0.4%</text>\r\n",
       "<text text-anchor=\"middle\" x=\"990\" y=\"-22.8\" font-family=\"Helvetica,sans-Serif\" font-size=\"14.00\">value = [0.0, 0.0, 0.0, 1.0, 0.0, 0.0]</text>\r\n",
       "<text text-anchor=\"middle\" x=\"990\" y=\"-7.8\" font-family=\"Helvetica,sans-Serif\" font-size=\"14.00\">class = other</text>\r\n",
       "</g>\r\n",
       "<!-- 5&#45;&gt;7 -->\r\n",
       "<g id=\"edge7\" class=\"edge\"><title>5&#45;&gt;7</title>\r\n",
       "<path fill=\"none\" stroke=\"black\" d=\"M899.62,-103.726C912.215,-94.1494 925.613,-83.9611 938.129,-74.4438\"/>\r\n",
       "<polygon fill=\"black\" stroke=\"black\" points=\"940.367,-77.1386 946.209,-68.2996 936.13,-71.5666 940.367,-77.1386\"/>\r\n",
       "</g>\r\n",
       "<!-- 9 -->\r\n",
       "<g id=\"node10\" class=\"node\"><title>9</title>\r\n",
       "<path fill=\"#399de5\" fill-opacity=\"0.333333\" stroke=\"black\" d=\"M1352,-187C1352,-187 1128,-187 1128,-187 1122,-187 1116,-181 1116,-175 1116,-175 1116,-116 1116,-116 1116,-110 1122,-104 1128,-104 1128,-104 1352,-104 1352,-104 1358,-104 1364,-110 1364,-116 1364,-116 1364,-175 1364,-175 1364,-181 1358,-187 1352,-187\"/>\r\n",
       "<text text-anchor=\"middle\" x=\"1240\" y=\"-171.8\" font-family=\"Helvetica,sans-Serif\" font-size=\"14.00\">X[1360] &lt;= &#45;0.106</text>\r\n",
       "<text text-anchor=\"middle\" x=\"1240\" y=\"-156.8\" font-family=\"Helvetica,sans-Serif\" font-size=\"14.00\">gini = 0.625</text>\r\n",
       "<text text-anchor=\"middle\" x=\"1240\" y=\"-141.8\" font-family=\"Helvetica,sans-Serif\" font-size=\"14.00\">samples = 1.4%</text>\r\n",
       "<text text-anchor=\"middle\" x=\"1240\" y=\"-126.8\" font-family=\"Helvetica,sans-Serif\" font-size=\"14.00\">value = [0.0, 0.25, 0.25, 0.5, 0.0, 0.0]</text>\r\n",
       "<text text-anchor=\"middle\" x=\"1240\" y=\"-111.8\" font-family=\"Helvetica,sans-Serif\" font-size=\"14.00\">class = other</text>\r\n",
       "</g>\r\n",
       "<!-- 8&#45;&gt;9 -->\r\n",
       "<g id=\"edge9\" class=\"edge\"><title>8&#45;&gt;9</title>\r\n",
       "<path fill=\"none\" stroke=\"black\" d=\"M1240,-222.907C1240,-214.649 1240,-205.864 1240,-197.302\"/>\r\n",
       "<polygon fill=\"black\" stroke=\"black\" points=\"1243.5,-197.021 1240,-187.021 1236.5,-197.021 1243.5,-197.021\"/>\r\n",
       "</g>\r\n",
       "<!-- 12 -->\r\n",
       "<g id=\"node13\" class=\"node\"><title>12</title>\r\n",
       "<path fill=\"#e58139\" stroke=\"black\" d=\"M1602,-179.5C1602,-179.5 1394,-179.5 1394,-179.5 1388,-179.5 1382,-173.5 1382,-167.5 1382,-167.5 1382,-123.5 1382,-123.5 1382,-117.5 1388,-111.5 1394,-111.5 1394,-111.5 1602,-111.5 1602,-111.5 1608,-111.5 1614,-117.5 1614,-123.5 1614,-123.5 1614,-167.5 1614,-167.5 1614,-173.5 1608,-179.5 1602,-179.5\"/>\r\n",
       "<text text-anchor=\"middle\" x=\"1498\" y=\"-164.3\" font-family=\"Helvetica,sans-Serif\" font-size=\"14.00\">gini = 0.0</text>\r\n",
       "<text text-anchor=\"middle\" x=\"1498\" y=\"-149.3\" font-family=\"Helvetica,sans-Serif\" font-size=\"14.00\">samples = 22.1%</text>\r\n",
       "<text text-anchor=\"middle\" x=\"1498\" y=\"-134.3\" font-family=\"Helvetica,sans-Serif\" font-size=\"14.00\">value = [1.0, 0.0, 0.0, 0.0, 0.0, 0.0]</text>\r\n",
       "<text text-anchor=\"middle\" x=\"1498\" y=\"-119.3\" font-family=\"Helvetica,sans-Serif\" font-size=\"14.00\">class = bike</text>\r\n",
       "</g>\r\n",
       "<!-- 8&#45;&gt;12 -->\r\n",
       "<g id=\"edge12\" class=\"edge\"><title>8&#45;&gt;12</title>\r\n",
       "<path fill=\"none\" stroke=\"black\" d=\"M1329.51,-222.907C1357.49,-210.218 1388.22,-196.284 1415.68,-183.83\"/>\r\n",
       "<polygon fill=\"black\" stroke=\"black\" points=\"1417.2,-186.985 1424.86,-179.667 1414.31,-180.609 1417.2,-186.985\"/>\r\n",
       "</g>\r\n",
       "<!-- 10 -->\r\n",
       "<g id=\"node11\" class=\"node\"><title>10</title>\r\n",
       "<path fill=\"none\" stroke=\"black\" d=\"M1344,-68C1344,-68 1136,-68 1136,-68 1130,-68 1124,-62 1124,-56 1124,-56 1124,-12 1124,-12 1124,-6 1130,-0 1136,-0 1136,-0 1344,-0 1344,-0 1350,-0 1356,-6 1356,-12 1356,-12 1356,-56 1356,-56 1356,-62 1350,-68 1344,-68\"/>\r\n",
       "<text text-anchor=\"middle\" x=\"1240\" y=\"-52.8\" font-family=\"Helvetica,sans-Serif\" font-size=\"14.00\">gini = 0.5</text>\r\n",
       "<text text-anchor=\"middle\" x=\"1240\" y=\"-37.8\" font-family=\"Helvetica,sans-Serif\" font-size=\"14.00\">samples = 0.7%</text>\r\n",
       "<text text-anchor=\"middle\" x=\"1240\" y=\"-22.8\" font-family=\"Helvetica,sans-Serif\" font-size=\"14.00\">value = [0.0, 0.5, 0.5, 0.0, 0.0, 0.0]</text>\r\n",
       "<text text-anchor=\"middle\" x=\"1240\" y=\"-7.8\" font-family=\"Helvetica,sans-Serif\" font-size=\"14.00\">class = car</text>\r\n",
       "</g>\r\n",
       "<!-- 9&#45;&gt;10 -->\r\n",
       "<g id=\"edge10\" class=\"edge\"><title>9&#45;&gt;10</title>\r\n",
       "<path fill=\"none\" stroke=\"black\" d=\"M1240,-103.726C1240,-95.5175 1240,-86.8595 1240,-78.56\"/>\r\n",
       "<polygon fill=\"black\" stroke=\"black\" points=\"1243.5,-78.2996 1240,-68.2996 1236.5,-78.2996 1243.5,-78.2996\"/>\r\n",
       "</g>\r\n",
       "<!-- 11 -->\r\n",
       "<g id=\"node12\" class=\"node\"><title>11</title>\r\n",
       "<path fill=\"#399de5\" stroke=\"black\" d=\"M1594,-68C1594,-68 1386,-68 1386,-68 1380,-68 1374,-62 1374,-56 1374,-56 1374,-12 1374,-12 1374,-6 1380,-0 1386,-0 1386,-0 1594,-0 1594,-0 1600,-0 1606,-6 1606,-12 1606,-12 1606,-56 1606,-56 1606,-62 1600,-68 1594,-68\"/>\r\n",
       "<text text-anchor=\"middle\" x=\"1490\" y=\"-52.8\" font-family=\"Helvetica,sans-Serif\" font-size=\"14.00\">gini = 0.0</text>\r\n",
       "<text text-anchor=\"middle\" x=\"1490\" y=\"-37.8\" font-family=\"Helvetica,sans-Serif\" font-size=\"14.00\">samples = 0.7%</text>\r\n",
       "<text text-anchor=\"middle\" x=\"1490\" y=\"-22.8\" font-family=\"Helvetica,sans-Serif\" font-size=\"14.00\">value = [0.0, 0.0, 0.0, 1.0, 0.0, 0.0]</text>\r\n",
       "<text text-anchor=\"middle\" x=\"1490\" y=\"-7.8\" font-family=\"Helvetica,sans-Serif\" font-size=\"14.00\">class = other</text>\r\n",
       "</g>\r\n",
       "<!-- 9&#45;&gt;11 -->\r\n",
       "<g id=\"edge11\" class=\"edge\"><title>9&#45;&gt;11</title>\r\n",
       "<path fill=\"none\" stroke=\"black\" d=\"M1332.74,-103.882C1356.53,-93.4579 1382.01,-82.3002 1405.37,-72.0661\"/>\r\n",
       "<polygon fill=\"black\" stroke=\"black\" points=\"1406.8,-75.2614 1414.56,-68.0433 1403.99,-68.8494 1406.8,-75.2614\"/>\r\n",
       "</g>\r\n",
       "</g>\r\n",
       "</svg>\r\n"
      ],
      "text/plain": [
       "<graphviz.files.Source at 0x1c4f5d8a940>"
      ]
     },
     "execution_count": 10,
     "metadata": {},
     "output_type": "execute_result"
    }
   ],
   "source": [
    "import graphviz\n",
    "\n",
    "# Display decision tree\n",
    "graphviz.Source(dot_data)"
   ]
  },
  {
   "cell_type": "markdown",
   "id": "380602b6",
   "metadata": {},
   "source": [
    "# PCA & Decision Tree"
   ]
  },
  {
   "cell_type": "code",
   "execution_count": 11,
   "id": "8c6f3da3",
   "metadata": {},
   "outputs": [],
   "source": [
    "# Create PCA transformer with no limit on the number of components\n",
    "from sklearn.decomposition import PCA\n",
    "\n",
    "pca = PCA(n_components=None)\n"
   ]
  },
  {
   "cell_type": "code",
   "execution_count": 12,
   "id": "bcccb0d3",
   "metadata": {},
   "outputs": [],
   "source": [
    "# Apply PCA to rescaled data\n",
    "X_tr_pca = pca.fit_transform(X_tr_scaled)\n",
    "\n",
    "X_val_pca = pca.transform(X_val_scaled)\n",
    "\n",
    "X_te_pca = pca.transform(X_te_scaled)"
   ]
  },
  {
   "cell_type": "code",
   "execution_count": 13,
   "id": "3569890a",
   "metadata": {},
   "outputs": [
    {
     "data": {
      "text/plain": [
       "(280, 280)"
      ]
     },
     "execution_count": 13,
     "metadata": {},
     "output_type": "execute_result"
    }
   ],
   "source": [
    "X_tr_pca.shape"
   ]
  },
  {
   "cell_type": "code",
   "execution_count": 14,
   "id": "71cff98e",
   "metadata": {},
   "outputs": [],
   "source": [
    "# Create decision tree\n",
    "dt_pca = DecisionTreeClassifier(\n",
    "    criterion='gini', max_depth=3, random_state=0)"
   ]
  },
  {
   "cell_type": "code",
   "execution_count": 15,
   "id": "53a5a608",
   "metadata": {},
   "outputs": [
    {
     "data": {
      "text/plain": [
       "DecisionTreeClassifier(class_weight=None, criterion='gini', max_depth=3,\n",
       "            max_features=None, max_leaf_nodes=None,\n",
       "            min_impurity_decrease=0.0, min_impurity_split=None,\n",
       "            min_samples_leaf=1, min_samples_split=2,\n",
       "            min_weight_fraction_leaf=0.0, presort=False, random_state=0,\n",
       "            splitter='best')"
      ]
     },
     "execution_count": 15,
     "metadata": {},
     "output_type": "execute_result"
    }
   ],
   "source": [
    "dt_pca.fit(X_tr_pca, y_tr)"
   ]
  },
  {
   "cell_type": "code",
   "execution_count": 16,
   "id": "c4e11cda",
   "metadata": {},
   "outputs": [
    {
     "data": {
      "text/plain": [
       "0.82"
      ]
     },
     "execution_count": 16,
     "metadata": {},
     "output_type": "execute_result"
    }
   ],
   "source": [
    "# Get score\n",
    "dt_pca.score(X_te_pca, y_te)"
   ]
  },
  {
   "cell_type": "markdown",
   "id": "63e474e2",
   "metadata": {},
   "source": [
    "### When working with PCA, we have 12 pts better predictions than Decision Tree alone."
   ]
  },
  {
   "cell_type": "code",
   "execution_count": 17,
   "id": "2a8c76b6",
   "metadata": {},
   "outputs": [],
   "source": [
    "import csv\n",
    "\n",
    "header = ['model', 'test_accuracy']\n",
    "data = ['Decision Tree',dt_pca.score(X_te_pca, y_te)]\n",
    "\n",
    "\n",
    "with open('Results.csv', 'a', encoding='UTF8', newline='') as f:\n",
    "    writer = csv.writer(f)\n",
    "\n",
    "\n",
    "    # write the data\n",
    "    writer.writerow(data)"
   ]
  },
  {
   "cell_type": "code",
   "execution_count": null,
   "id": "6fc6cb92",
   "metadata": {},
   "outputs": [],
   "source": []
  }
 ],
 "metadata": {
  "kernelspec": {
   "display_name": "Python 3",
   "language": "python",
   "name": "python3"
  },
  "language_info": {
   "codemirror_mode": {
    "name": "ipython",
    "version": 3
   },
   "file_extension": ".py",
   "mimetype": "text/x-python",
   "name": "python",
   "nbconvert_exporter": "python",
   "pygments_lexer": "ipython3",
   "version": "3.6.13"
  }
 },
 "nbformat": 4,
 "nbformat_minor": 5
}
