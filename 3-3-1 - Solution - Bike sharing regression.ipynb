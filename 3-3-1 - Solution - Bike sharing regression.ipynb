{
 "cells": [
  {
   "cell_type": "markdown",
   "metadata": {},
   "source": [
    "Bike sharing linear regression\n",
    "---"
   ]
  },
  {
   "cell_type": "markdown",
   "metadata": {},
   "source": [
    "Solution - Load train/test sets & remove collinear features\n",
    "---\n",
    "\n",
    "> **Exercise**: Load the train/test sets into the `X_tr`, `y_tr`, `X_te` and `y_te` variables. Remove features that make the `X_tr` matrix, with the additional column of ones, rank deficient. Also, you might want to remove nearly collinear features if they hurt performance.\n",
    "\n",
    "**Self-assessment**: Verify that the `X_tr` matrix with the additional column of ones has full rank. Compute its condition number."
   ]
  },
  {
   "cell_type": "code",
   "execution_count": 2,
   "metadata": {},
   "outputs": [
    {
     "name": "stdout",
     "output_type": "stream",
     "text": [
      "(365, 10)\n"
     ]
    },
    {
     "data": {
      "text/html": [
       "<div>\n",
       "<style scoped>\n",
       "    .dataframe tbody tr th:only-of-type {\n",
       "        vertical-align: middle;\n",
       "    }\n",
       "\n",
       "    .dataframe tbody tr th {\n",
       "        vertical-align: top;\n",
       "    }\n",
       "\n",
       "    .dataframe thead th {\n",
       "        text-align: right;\n",
       "    }\n",
       "</style>\n",
       "<table border=\"1\" class=\"dataframe\">\n",
       "  <thead>\n",
       "    <tr style=\"text-align: right;\">\n",
       "      <th></th>\n",
       "      <th>temp</th>\n",
       "      <th>temp_C</th>\n",
       "      <th>hum</th>\n",
       "      <th>windspeed</th>\n",
       "      <th>atemp</th>\n",
       "      <th>atemp_C</th>\n",
       "      <th>yr</th>\n",
       "      <th>workingday</th>\n",
       "      <th>holiday</th>\n",
       "      <th>casual</th>\n",
       "    </tr>\n",
       "  </thead>\n",
       "  <tbody>\n",
       "    <tr>\n",
       "      <th>0</th>\n",
       "      <td>0.368</td>\n",
       "      <td>9.296</td>\n",
       "      <td>0.569</td>\n",
       "      <td>0.148</td>\n",
       "      <td>0.379</td>\n",
       "      <td>9.014</td>\n",
       "      <td>1</td>\n",
       "      <td>1</td>\n",
       "      <td>0</td>\n",
       "      <td>1603</td>\n",
       "    </tr>\n",
       "    <tr>\n",
       "      <th>1</th>\n",
       "      <td>0.700</td>\n",
       "      <td>24.900</td>\n",
       "      <td>0.761</td>\n",
       "      <td>0.084</td>\n",
       "      <td>0.660</td>\n",
       "      <td>27.560</td>\n",
       "      <td>0</td>\n",
       "      <td>1</td>\n",
       "      <td>0</td>\n",
       "      <td>768</td>\n",
       "    </tr>\n",
       "    <tr>\n",
       "      <th>2</th>\n",
       "      <td>0.282</td>\n",
       "      <td>5.254</td>\n",
       "      <td>0.538</td>\n",
       "      <td>0.187</td>\n",
       "      <td>0.282</td>\n",
       "      <td>2.612</td>\n",
       "      <td>0</td>\n",
       "      <td>0</td>\n",
       "      <td>0</td>\n",
       "      <td>424</td>\n",
       "    </tr>\n",
       "    <tr>\n",
       "      <th>3</th>\n",
       "      <td>0.335</td>\n",
       "      <td>7.745</td>\n",
       "      <td>0.450</td>\n",
       "      <td>0.308</td>\n",
       "      <td>0.320</td>\n",
       "      <td>5.120</td>\n",
       "      <td>0</td>\n",
       "      <td>1</td>\n",
       "      <td>0</td>\n",
       "      <td>231</td>\n",
       "    </tr>\n",
       "    <tr>\n",
       "      <th>4</th>\n",
       "      <td>0.398</td>\n",
       "      <td>10.706</td>\n",
       "      <td>0.466</td>\n",
       "      <td>0.290</td>\n",
       "      <td>0.388</td>\n",
       "      <td>9.608</td>\n",
       "      <td>1</td>\n",
       "      <td>1</td>\n",
       "      <td>0</td>\n",
       "      <td>663</td>\n",
       "    </tr>\n",
       "  </tbody>\n",
       "</table>\n",
       "</div>"
      ],
      "text/plain": [
       "    temp  temp_C    hum  windspeed  atemp  atemp_C  yr  workingday  holiday  \\\n",
       "0  0.368   9.296  0.569      0.148  0.379    9.014   1           1        0   \n",
       "1  0.700  24.900  0.761      0.084  0.660   27.560   0           1        0   \n",
       "2  0.282   5.254  0.538      0.187  0.282    2.612   0           0        0   \n",
       "3  0.335   7.745  0.450      0.308  0.320    5.120   0           1        0   \n",
       "4  0.398  10.706  0.466      0.290  0.388    9.608   1           1        0   \n",
       "\n",
       "   casual  \n",
       "0    1603  \n",
       "1     768  \n",
       "2     424  \n",
       "3     231  \n",
       "4     663  "
      ]
     },
     "execution_count": 2,
     "metadata": {},
     "output_type": "execute_result"
    }
   ],
   "source": [
    "import pandas as pd\n",
    "import os\n",
    "\n",
    "# Load train data\n",
    "train_df = pd.read_csv(os.path.join('bike-train.csv'))\n",
    "print(train_df.shape)\n",
    "train_df.head()"
   ]
  },
  {
   "cell_type": "code",
   "execution_count": 3,
   "metadata": {},
   "outputs": [
    {
     "name": "stdout",
     "output_type": "stream",
     "text": [
      "(366, 10)\n"
     ]
    },
    {
     "data": {
      "text/html": [
       "<div>\n",
       "<style scoped>\n",
       "    .dataframe tbody tr th:only-of-type {\n",
       "        vertical-align: middle;\n",
       "    }\n",
       "\n",
       "    .dataframe tbody tr th {\n",
       "        vertical-align: top;\n",
       "    }\n",
       "\n",
       "    .dataframe thead th {\n",
       "        text-align: right;\n",
       "    }\n",
       "</style>\n",
       "<table border=\"1\" class=\"dataframe\">\n",
       "  <thead>\n",
       "    <tr style=\"text-align: right;\">\n",
       "      <th></th>\n",
       "      <th>temp</th>\n",
       "      <th>temp_C</th>\n",
       "      <th>hum</th>\n",
       "      <th>windspeed</th>\n",
       "      <th>atemp</th>\n",
       "      <th>atemp_C</th>\n",
       "      <th>yr</th>\n",
       "      <th>workingday</th>\n",
       "      <th>holiday</th>\n",
       "      <th>casual</th>\n",
       "    </tr>\n",
       "  </thead>\n",
       "  <tbody>\n",
       "    <tr>\n",
       "      <th>0</th>\n",
       "      <td>0.687</td>\n",
       "      <td>24.289</td>\n",
       "      <td>0.585</td>\n",
       "      <td>0.208</td>\n",
       "      <td>0.638</td>\n",
       "      <td>26.108</td>\n",
       "      <td>0</td>\n",
       "      <td>0</td>\n",
       "      <td>0</td>\n",
       "      <td>2418</td>\n",
       "    </tr>\n",
       "    <tr>\n",
       "      <th>1</th>\n",
       "      <td>0.750</td>\n",
       "      <td>27.250</td>\n",
       "      <td>0.651</td>\n",
       "      <td>0.159</td>\n",
       "      <td>0.687</td>\n",
       "      <td>29.342</td>\n",
       "      <td>0</td>\n",
       "      <td>1</td>\n",
       "      <td>0</td>\n",
       "      <td>754</td>\n",
       "    </tr>\n",
       "    <tr>\n",
       "      <th>2</th>\n",
       "      <td>0.233</td>\n",
       "      <td>2.951</td>\n",
       "      <td>0.499</td>\n",
       "      <td>0.158</td>\n",
       "      <td>0.248</td>\n",
       "      <td>0.368</td>\n",
       "      <td>0</td>\n",
       "      <td>0</td>\n",
       "      <td>0</td>\n",
       "      <td>222</td>\n",
       "    </tr>\n",
       "    <tr>\n",
       "      <th>3</th>\n",
       "      <td>0.192</td>\n",
       "      <td>1.024</td>\n",
       "      <td>0.830</td>\n",
       "      <td>0.053</td>\n",
       "      <td>0.235</td>\n",
       "      <td>-0.490</td>\n",
       "      <td>0</td>\n",
       "      <td>1</td>\n",
       "      <td>0</td>\n",
       "      <td>47</td>\n",
       "    </tr>\n",
       "    <tr>\n",
       "      <th>4</th>\n",
       "      <td>0.342</td>\n",
       "      <td>8.074</td>\n",
       "      <td>0.770</td>\n",
       "      <td>0.073</td>\n",
       "      <td>0.356</td>\n",
       "      <td>7.496</td>\n",
       "      <td>1</td>\n",
       "      <td>1</td>\n",
       "      <td>0</td>\n",
       "      <td>244</td>\n",
       "    </tr>\n",
       "  </tbody>\n",
       "</table>\n",
       "</div>"
      ],
      "text/plain": [
       "    temp  temp_C    hum  windspeed  atemp  atemp_C  yr  workingday  holiday  \\\n",
       "0  0.687  24.289  0.585      0.208  0.638   26.108   0           0        0   \n",
       "1  0.750  27.250  0.651      0.159  0.687   29.342   0           1        0   \n",
       "2  0.233   2.951  0.499      0.158  0.248    0.368   0           0        0   \n",
       "3  0.192   1.024  0.830      0.053  0.235   -0.490   0           1        0   \n",
       "4  0.342   8.074  0.770      0.073  0.356    7.496   1           1        0   \n",
       "\n",
       "   casual  \n",
       "0    2418  \n",
       "1     754  \n",
       "2     222  \n",
       "3      47  \n",
       "4     244  "
      ]
     },
     "execution_count": 3,
     "metadata": {},
     "output_type": "execute_result"
    }
   ],
   "source": [
    "# Load test data\n",
    "test_df = pd.read_csv(os.path.join('bike-test.csv'))\n",
    "print(test_df.shape)\n",
    "test_df.head()"
   ]
  },
  {
   "cell_type": "code",
   "execution_count": 4,
   "metadata": {},
   "outputs": [
    {
     "name": "stdout",
     "output_type": "stream",
     "text": [
      "Columns 7 rank 7 collinear 0\n",
      "Condition number: 22.000828462946885\n"
     ]
    }
   ],
   "source": [
    "import numpy as np\n",
    "\n",
    "# Remove collinear features\n",
    "features = [\n",
    "    'temp', 'hum', 'windspeed', 'yr', 'workingday', 'holiday', \n",
    "    #'atemp', # Nearly collinear column, may hurt performance\n",
    "    #'temp_C', 'atemp_C' # Collinear columns\n",
    "]\n",
    "# Note: You could use atemp instead of temp.\n",
    "\n",
    "# Create input matrix with the additional column of ones\n",
    "X = train_df[features].values # Train data\n",
    "X1 = np.c_[np.ones(X.shape[0]), X] # Add the column of ones\n",
    "\n",
    "# Compute rank and condition number\n",
    "M = X1.shape[1] # Number of columns\n",
    "rank = np.linalg.matrix_rank(X1)\n",
    "cond = np.linalg.cond(X1)\n",
    "print('Columns {} rank {} collinear {}'.format(M, rank, M-rank))\n",
    "print('Condition number:', cond)"
   ]
  },
  {
   "cell_type": "code",
   "execution_count": 5,
   "metadata": {},
   "outputs": [],
   "source": [
    "# Extract X/y Numpy variables\n",
    "X_tr = train_df[features].values\n",
    "y_tr = train_df.casual.values\n",
    "\n",
    "X_te = test_df[features].values\n",
    "y_te = test_df.casual.values"
   ]
  },
  {
   "cell_type": "markdown",
   "metadata": {},
   "source": [
    "Solution - Fit a linear regression model\n",
    "---\n",
    "\n",
    "> **Exercise**: (A) Fit a linear regression model to the `X_tr`, `y_tr` variables. Evaluate its performance on the test set using the mean absolute error (MAE). (B) Also, try fitting a linear regression with the Huber loss. (C) Pick one feature (e.g., temperatures) and plot the predictions from your best model (e.g., temperature vs. casual users plot).\n",
    "\n",
    "**Note**: Your models might predict a negative number of users. In this case, you might want to set a lower limit with the Numpy `maximum()` function to improve performance, e.g. `y_pred = np.maximum(y_pred, 50)`."
   ]
  },
  {
   "cell_type": "code",
   "execution_count": 6,
   "metadata": {},
   "outputs": [],
   "source": [
    "# Compare models with mean absolute error (MAE)\n",
    "def MAE(y, y_pred):\n",
    "    return np.mean(np.abs(y - y_pred))"
   ]
  },
  {
   "cell_type": "code",
   "execution_count": 7,
   "metadata": {},
   "outputs": [
    {
     "name": "stdout",
     "output_type": "stream",
     "text": [
      "MAE linear regression: 279.880\n"
     ]
    }
   ],
   "source": [
    "from sklearn.linear_model import LinearRegression\n",
    "\n",
    "# Linear regression\n",
    "lr = LinearRegression()\n",
    "lr.fit(X_tr, y_tr) # Fit to train data\n",
    "y_pred_lr = np.maximum(\n",
    "    lr.predict(X_te), # Predictions for test data\n",
    "    50 # Set a lower limit\n",
    ")\n",
    "mae_lr = MAE(y_te, y_pred_lr)\n",
    "print('MAE linear regression: {:.3f}'.format(mae_lr))"
   ]
  },
  {
   "cell_type": "code",
   "execution_count": 8,
   "metadata": {},
   "outputs": [
    {
     "name": "stdout",
     "output_type": "stream",
     "text": [
      "MAE Huber: 272.904\n"
     ]
    }
   ],
   "source": [
    "from sklearn.linear_model import HuberRegressor\n",
    "\n",
    "# Huber loss\n",
    "huber = HuberRegressor(epsilon=1.45)\n",
    "huber.fit(X_tr, y_tr) # Fit to train data\n",
    "y_pred_huber = np.maximum(\n",
    "    huber.predict(X_te), # Predictions for test data\n",
    "    50 # set a lower limit\n",
    ")\n",
    "mae_huber = MAE(y_te, y_pred_huber)\n",
    "print('MAE Huber: {:.3f}'.format(mae_huber))"
   ]
  },
  {
   "cell_type": "code",
   "execution_count": 9,
   "metadata": {},
   "outputs": [
    {
     "data": {
      "image/png": "[encoded data removed]",
      "text/plain": [
       "<Figure size 432x288 with 1 Axes>"
      ]
     },
     "metadata": {
      "needs_background": "light"
     },
     "output_type": "display_data"
    }
   ],
   "source": [
    "%matplotlib inline\n",
    "import matplotlib.pyplot as plt\n",
    "\n",
    "# Plot models\n",
    "temp_te = X_te[:, 0] # 0: temperatures column\n",
    "plt.scatter(temp_te, y_te, s=10, label='test points')\n",
    "plt.scatter(temp_te, y_pred_huber, s=10, label='predictions (huber)')\n",
    "plt.legend()\n",
    "plt.show()"
   ]
  },
  {
   "cell_type": "markdown",
   "metadata": {},
   "source": [
    "Solution - Separate sources and fit two linear regressions\n",
    "---\n",
    "\n",
    "We saw in the course that we can identify two sources in the data.\n",
    "\n",
    "1. Data points collected during working days\n",
    "1. Data points collected during non-working days\n",
    "\n",
    "The goal of this exercise is to create a model for each source and see whether this improves performance.\n",
    "\n",
    "> **Exercise**: Create a model for each source and evaluate the overall performance on the test set using MAE. Compare your models to a baseline using a bar chart."
   ]
  },
  {
   "cell_type": "code",
   "execution_count": 10,
   "metadata": {},
   "outputs": [
    {
     "data": {
      "image/png": "[encoded data removed]",
      "text/plain": [
       "<Figure size 432x288 with 2 Axes>"
      ]
     },
     "metadata": {
      "needs_background": "light"
     },
     "output_type": "display_data"
    }
   ],
   "source": [
    "# We can identify two sources\n",
    "temp_tr = X_tr[:, 0] # 0: temp column\n",
    "wd_tr = X_tr[:, 4] # 4: workingday column\n",
    "\n",
    "plt.scatter(temp_tr, y_tr, c=wd_tr, s=10)\n",
    "plt.colorbar(label='working day')\n",
    "plt.xlabel('temperatures')\n",
    "plt.ylabel('casual users')\n",
    "plt.show()"
   ]
  },
  {
   "cell_type": "code",
   "execution_count": 11,
   "metadata": {},
   "outputs": [],
   "source": [
    "# Separate data points\n",
    "# * wd: working day\n",
    "# * nwd: non-working day\n",
    "columns = [0, 1, 2, 3, 5] # Also, remove column 4: workingday\n",
    "\n",
    "# Train set\n",
    "wd_idx_tr = (X_tr[:, 4] == 1) # Entries with workingday == 1\n",
    "\n",
    "X_tr_wd = X_tr[wd_idx_tr][:, columns]\n",
    "y_tr_wd = y_tr[wd_idx_tr]\n",
    "\n",
    "X_tr_nwd = X_tr[~wd_idx_tr][:, columns]\n",
    "y_tr_nwd = y_tr[~wd_idx_tr]\n",
    "\n",
    "# Test set\n",
    "wd_idx_te = (X_te[:, 4] == 1) # Entries with workingday == 1\n",
    "\n",
    "X_te_wd = X_te[wd_idx_te][:, columns]\n",
    "y_te_wd = y_te[wd_idx_te]\n",
    "\n",
    "X_te_nwd = X_te[~wd_idx_te][:, columns]\n",
    "y_te_nwd = y_te[~wd_idx_te]"
   ]
  },
  {
   "cell_type": "code",
   "execution_count": 12,
   "metadata": {},
   "outputs": [
    {
     "name": "stdout",
     "output_type": "stream",
     "text": [
      "MAE linear regression: 246.269\n"
     ]
    },
    {
     "data": {
      "image/png": "[encoded data removed]",
      "text/plain": [
       "<Figure size 432x288 with 1 Axes>"
      ]
     },
     "metadata": {
      "needs_background": "light"
     },
     "output_type": "display_data"
    }
   ],
   "source": [
    "# Linear regression\n",
    "lr_wd = LinearRegression() # Model for working days\n",
    "lr_nwd = LinearRegression() # Model for non-working days\n",
    "\n",
    "lr_wd.fit(X_tr_wd, y_tr_wd) # Fit models to train data\n",
    "lr_nwd.fit(X_tr_nwd, y_tr_nwd)\n",
    "\n",
    "y_pred_lr_wd = np.maximum(\n",
    "    lr_wd.predict(X_te_wd), # Predictions for test data\n",
    "    50 # set a lower limit\n",
    ")\n",
    "y_pred_lr_nwd = np.maximum(\n",
    "    lr_nwd.predict(X_te_nwd), # Same for non-working days\n",
    "    50 # set a lower limit\n",
    ")\n",
    "\n",
    "# Reassemble test data and predictions\n",
    "# target values\n",
    "y_te_wdnwd = np.concatenate((y_te_wd, y_te_nwd))\n",
    "\n",
    "# predictions\n",
    "y_pred_lr_wdnwd = np.concatenate((y_pred_lr_wd, y_pred_lr_nwd))\n",
    "\n",
    "# Compute MAE\n",
    "mae_lr_wdnwd = MAE(y_te_wdnwd, y_pred_lr_wdnwd)\n",
    "print('MAE linear regression: {:.3f}'.format(mae_lr_wdnwd))\n",
    "\n",
    "# Plot temperatures for working days and non-working days\n",
    "temp_te_wdnwd = np.concatenate((X_te_wd[:, 0], X_te_nwd[:, 0]))\n",
    "plt.scatter(temp_te_wdnwd, y_te_wdnwd, s=10, label='test points')\n",
    "\n",
    "# Predictions for working days\n",
    "plt.scatter(X_te_wd[:, 0], y_pred_lr_wd, s=10, label='workind day model')\n",
    "\n",
    "# Predictions for non-working days\n",
    "plt.scatter(X_te_nwd[:, 0], y_pred_lr_nwd, s=10, label='non-working day model')\n",
    "\n",
    "plt.legend()\n",
    "plt.show()"
   ]
  },
  {
   "cell_type": "code",
   "execution_count": 13,
   "metadata": {},
   "outputs": [
    {
     "data": {
      "image/png": "[encoded data removed]",
      "text/plain": [
       "<Figure size 432x288 with 1 Axes>"
      ]
     },
     "metadata": {
      "needs_background": "light"
     },
     "output_type": "display_data"
    }
   ],
   "source": [
    "# Create baseline\n",
    "mae_baseline = MAE(y_te, np.median(y_tr))\n",
    "\n",
    "# Final comparison\n",
    "mae_values = [mae_baseline, mae_lr, mae_huber, mae_lr_wdnwd]\n",
    "titles = ['median', 'lr', 'huber', 'lr two models']\n",
    "\n",
    "xcor = np.arange(len(mae_values))\n",
    "plt.bar(xcor, mae_values)\n",
    "plt.xticks(xcor, titles)\n",
    "\n",
    "plt.ylabel('MAE')\n",
    "plt.show()"
   ]
  },
  {
   "cell_type": "markdown",
   "metadata": {},
   "source": [
    "Solution - R^2 coefficient\n",
    "---\n",
    "\n",
    "> **Exercise**: Compute the $R^{2}$ coefficient of your different models on the test set."
   ]
  },
  {
   "cell_type": "code",
   "execution_count": 14,
   "metadata": {},
   "outputs": [
    {
     "name": "stdout",
     "output_type": "stream",
     "text": [
      "R^2 linear regression: 0.6680357017933192\n",
      "R^2 huber loss: 0.667148361920527\n",
      "R^2 when separating sources: 0.7250821656146722\n"
     ]
    }
   ],
   "source": [
    "# R2 coefficients\n",
    "r2_lr = lr.score(X_te, y_te)\n",
    "r2_huber = huber.score(X_te, y_te)\n",
    "\n",
    "print('R^2 linear regression:', r2_lr)\n",
    "print('R^2 huber loss:', r2_huber)\n",
    "\n",
    "# R2 coefficient when separating sources\n",
    "def RSS(y, y_pred):\n",
    "    return np.sum(np.square(y - y_pred))\n",
    "\n",
    "rss_lr_wdnwd = RSS(y_te_wdnwd, y_pred_lr_wdnwd)\n",
    "rss_baseline = RSS(y_te, y_te.mean())\n",
    "r2_lr_wdnwd = 1 - rss_lr_wdnwd/rss_baseline\n",
    "\n",
    "print('R^2 when separating sources:', r2_lr_wdnwd)"
   ]
  },
  {
   "cell_type": "code",
   "execution_count": null,
   "metadata": {},
   "outputs": [],
   "source": []
  }
 ],
 "metadata": {
  "kernelspec": {
   "display_name": "Python 3",
   "language": "python",
   "name": "python3"
  },
  "language_info": {
   "codemirror_mode": {
    "name": "ipython",
    "version": 3
   },
   "file_extension": ".py",
   "mimetype": "text/x-python",
   "name": "python",
   "nbconvert_exporter": "python",
   "pygments_lexer": "ipython3",
   "version": "3.6.13"
  }
 },
 "nbformat": 4,
 "nbformat_minor": 4
}
